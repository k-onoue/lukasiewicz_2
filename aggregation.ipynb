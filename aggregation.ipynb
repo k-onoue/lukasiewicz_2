{
 "cells": [
  {
   "cell_type": "markdown",
   "metadata": {},
   "source": [
    "# 1"
   ]
  },
  {
   "cell_type": "code",
   "execution_count": 1,
   "metadata": {},
   "outputs": [],
   "source": [
    "import json\n",
    "import pandas as pd"
   ]
  },
  {
   "cell_type": "code",
   "execution_count": 2,
   "metadata": {},
   "outputs": [],
   "source": [
    "result_file_path = \"./experiments/version_1/result.json\"\n",
    "\n",
    "with open(result_file_path, 'r') as f:\n",
    "    json_data = json.load(f)\n",
    "\n",
    "result_dfs = []\n",
    "\n",
    "for fold, _ in json_data[\"result\"].items():\n",
    "    result_df = pd.DataFrame(json_data['result'][fold]).T\n",
    "    result_dfs.append(result_df)"
   ]
  },
  {
   "cell_type": "code",
   "execution_count": 3,
   "metadata": {},
   "outputs": [
    {
     "data": {
      "text/plain": [
       "Index(['RuleFit Classifier (disc)', 'tree generator (disc)',\n",
       "       'RuleFit Classifier (conti)', 'tree generator (conti)',\n",
       "       'linear svm (L)', 'non-linear svm (L)', 'logistic regression (L)',\n",
       "       'linear svm', 'non-linear svm', 'logistic regression'],\n",
       "      dtype='object')"
      ]
     },
     "execution_count": 3,
     "metadata": {},
     "output_type": "execute_result"
    }
   ],
   "source": [
    "original_idx_order = result_dfs[0].index\n",
    "original_idx_order"
   ]
  },
  {
   "cell_type": "code",
   "execution_count": 4,
   "metadata": {},
   "outputs": [],
   "source": [
    "combined_df = pd.concat(result_dfs, ignore_index=False)"
   ]
  },
  {
   "cell_type": "code",
   "execution_count": 5,
   "metadata": {},
   "outputs": [
    {
     "data": {
      "text/html": [
       "<div>\n",
       "<style scoped>\n",
       "    .dataframe tbody tr th:only-of-type {\n",
       "        vertical-align: middle;\n",
       "    }\n",
       "\n",
       "    .dataframe tbody tr th {\n",
       "        vertical-align: top;\n",
       "    }\n",
       "\n",
       "    .dataframe thead th {\n",
       "        text-align: right;\n",
       "    }\n",
       "</style>\n",
       "<table border=\"1\" class=\"dataframe\">\n",
       "  <thead>\n",
       "    <tr style=\"text-align: right;\">\n",
       "      <th></th>\n",
       "      <th>accuracy</th>\n",
       "      <th>precision</th>\n",
       "      <th>recall</th>\n",
       "      <th>f1</th>\n",
       "      <th>auc</th>\n",
       "      <th>n_violation</th>\n",
       "      <th>n_rule</th>\n",
       "      <th>violation_rate</th>\n",
       "    </tr>\n",
       "  </thead>\n",
       "  <tbody>\n",
       "    <tr>\n",
       "      <th>RuleFit Classifier (disc)</th>\n",
       "      <td>0.783582</td>\n",
       "      <td>0.742431</td>\n",
       "      <td>0.521271</td>\n",
       "      <td>0.610252</td>\n",
       "      <td>0.815869</td>\n",
       "      <td>28.2</td>\n",
       "      <td>34.8</td>\n",
       "      <td>0.804880</td>\n",
       "    </tr>\n",
       "    <tr>\n",
       "      <th>tree generator (disc)</th>\n",
       "      <td>0.741791</td>\n",
       "      <td>0.627843</td>\n",
       "      <td>0.557706</td>\n",
       "      <td>0.582608</td>\n",
       "      <td>0.772322</td>\n",
       "      <td>25.8</td>\n",
       "      <td>34.8</td>\n",
       "      <td>0.738615</td>\n",
       "    </tr>\n",
       "    <tr>\n",
       "      <th>RuleFit Classifier (conti)</th>\n",
       "      <td>0.732836</td>\n",
       "      <td>0.601979</td>\n",
       "      <td>0.553471</td>\n",
       "      <td>0.571908</td>\n",
       "      <td>0.795116</td>\n",
       "      <td>30.6</td>\n",
       "      <td>34.8</td>\n",
       "      <td>0.881150</td>\n",
       "    </tr>\n",
       "    <tr>\n",
       "      <th>tree generator (conti)</th>\n",
       "      <td>0.782090</td>\n",
       "      <td>0.715158</td>\n",
       "      <td>0.568106</td>\n",
       "      <td>0.627460</td>\n",
       "      <td>0.832600</td>\n",
       "      <td>30.6</td>\n",
       "      <td>34.8</td>\n",
       "      <td>0.879968</td>\n",
       "    </tr>\n",
       "    <tr>\n",
       "      <th>linear svm (L)</th>\n",
       "      <td>0.450746</td>\n",
       "      <td>0.386806</td>\n",
       "      <td>0.955416</td>\n",
       "      <td>0.540092</td>\n",
       "      <td>0.536953</td>\n",
       "      <td>21.8</td>\n",
       "      <td>34.8</td>\n",
       "      <td>0.629842</td>\n",
       "    </tr>\n",
       "    <tr>\n",
       "      <th>non-linear svm (L)</th>\n",
       "      <td>0.716418</td>\n",
       "      <td>0.546190</td>\n",
       "      <td>0.752745</td>\n",
       "      <td>0.631315</td>\n",
       "      <td>0.822545</td>\n",
       "      <td>23.2</td>\n",
       "      <td>34.8</td>\n",
       "      <td>0.663664</td>\n",
       "    </tr>\n",
       "    <tr>\n",
       "      <th>logistic regression (L)</th>\n",
       "      <td>0.770149</td>\n",
       "      <td>0.732412</td>\n",
       "      <td>0.470891</td>\n",
       "      <td>0.570208</td>\n",
       "      <td>0.826615</td>\n",
       "      <td>19.2</td>\n",
       "      <td>34.8</td>\n",
       "      <td>0.552303</td>\n",
       "    </tr>\n",
       "    <tr>\n",
       "      <th>linear svm</th>\n",
       "      <td>0.779104</td>\n",
       "      <td>0.711436</td>\n",
       "      <td>0.551175</td>\n",
       "      <td>0.618693</td>\n",
       "      <td>0.837805</td>\n",
       "      <td>30.6</td>\n",
       "      <td>34.8</td>\n",
       "      <td>0.880463</td>\n",
       "    </tr>\n",
       "    <tr>\n",
       "      <th>non-linear svm</th>\n",
       "      <td>0.780597</td>\n",
       "      <td>0.759070</td>\n",
       "      <td>0.479714</td>\n",
       "      <td>0.587201</td>\n",
       "      <td>0.838064</td>\n",
       "      <td>31.6</td>\n",
       "      <td>34.8</td>\n",
       "      <td>0.908449</td>\n",
       "    </tr>\n",
       "    <tr>\n",
       "      <th>logistic regression</th>\n",
       "      <td>0.782090</td>\n",
       "      <td>0.731143</td>\n",
       "      <td>0.530165</td>\n",
       "      <td>0.612464</td>\n",
       "      <td>0.840573</td>\n",
       "      <td>30.8</td>\n",
       "      <td>34.8</td>\n",
       "      <td>0.886178</td>\n",
       "    </tr>\n",
       "  </tbody>\n",
       "</table>\n",
       "</div>"
      ],
      "text/plain": [
       "                            accuracy  precision    recall        f1       auc  \\\n",
       "RuleFit Classifier (disc)   0.783582   0.742431  0.521271  0.610252  0.815869   \n",
       "tree generator (disc)       0.741791   0.627843  0.557706  0.582608  0.772322   \n",
       "RuleFit Classifier (conti)  0.732836   0.601979  0.553471  0.571908  0.795116   \n",
       "tree generator (conti)      0.782090   0.715158  0.568106  0.627460  0.832600   \n",
       "linear svm (L)              0.450746   0.386806  0.955416  0.540092  0.536953   \n",
       "non-linear svm (L)          0.716418   0.546190  0.752745  0.631315  0.822545   \n",
       "logistic regression (L)     0.770149   0.732412  0.470891  0.570208  0.826615   \n",
       "linear svm                  0.779104   0.711436  0.551175  0.618693  0.837805   \n",
       "non-linear svm              0.780597   0.759070  0.479714  0.587201  0.838064   \n",
       "logistic regression         0.782090   0.731143  0.530165  0.612464  0.840573   \n",
       "\n",
       "                            n_violation  n_rule  violation_rate  \n",
       "RuleFit Classifier (disc)          28.2    34.8        0.804880  \n",
       "tree generator (disc)              25.8    34.8        0.738615  \n",
       "RuleFit Classifier (conti)         30.6    34.8        0.881150  \n",
       "tree generator (conti)             30.6    34.8        0.879968  \n",
       "linear svm (L)                     21.8    34.8        0.629842  \n",
       "non-linear svm (L)                 23.2    34.8        0.663664  \n",
       "logistic regression (L)            19.2    34.8        0.552303  \n",
       "linear svm                         30.6    34.8        0.880463  \n",
       "non-linear svm                     31.6    34.8        0.908449  \n",
       "logistic regression                30.8    34.8        0.886178  "
      ]
     },
     "execution_count": 5,
     "metadata": {},
     "output_type": "execute_result"
    }
   ],
   "source": [
    "result_df_mean = combined_df.groupby(combined_df.index).mean()\n",
    "result_df_mean  = result_df_mean.reindex(original_idx_order)\n",
    "result_df_mean"
   ]
  },
  {
   "cell_type": "code",
   "execution_count": 6,
   "metadata": {},
   "outputs": [
    {
     "data": {
      "text/html": [
       "<div>\n",
       "<style scoped>\n",
       "    .dataframe tbody tr th:only-of-type {\n",
       "        vertical-align: middle;\n",
       "    }\n",
       "\n",
       "    .dataframe tbody tr th {\n",
       "        vertical-align: top;\n",
       "    }\n",
       "\n",
       "    .dataframe thead th {\n",
       "        text-align: right;\n",
       "    }\n",
       "</style>\n",
       "<table border=\"1\" class=\"dataframe\">\n",
       "  <thead>\n",
       "    <tr style=\"text-align: right;\">\n",
       "      <th></th>\n",
       "      <th>accuracy</th>\n",
       "      <th>precision</th>\n",
       "      <th>recall</th>\n",
       "      <th>f1</th>\n",
       "      <th>auc</th>\n",
       "      <th>n_violation</th>\n",
       "      <th>n_rule</th>\n",
       "      <th>violation_rate</th>\n",
       "    </tr>\n",
       "  </thead>\n",
       "  <tbody>\n",
       "    <tr>\n",
       "      <th>RuleFit Classifier (disc)</th>\n",
       "      <td>0.044776</td>\n",
       "      <td>0.048551</td>\n",
       "      <td>0.064326</td>\n",
       "      <td>0.044856</td>\n",
       "      <td>0.051520</td>\n",
       "      <td>5.167204</td>\n",
       "      <td>3.271085</td>\n",
       "      <td>0.084470</td>\n",
       "    </tr>\n",
       "    <tr>\n",
       "      <th>tree generator (disc)</th>\n",
       "      <td>0.049950</td>\n",
       "      <td>0.094845</td>\n",
       "      <td>0.077244</td>\n",
       "      <td>0.037668</td>\n",
       "      <td>0.049073</td>\n",
       "      <td>4.086563</td>\n",
       "      <td>3.271085</td>\n",
       "      <td>0.068354</td>\n",
       "    </tr>\n",
       "    <tr>\n",
       "      <th>RuleFit Classifier (conti)</th>\n",
       "      <td>0.040326</td>\n",
       "      <td>0.076503</td>\n",
       "      <td>0.064527</td>\n",
       "      <td>0.037194</td>\n",
       "      <td>0.032516</td>\n",
       "      <td>2.966479</td>\n",
       "      <td>3.271085</td>\n",
       "      <td>0.065019</td>\n",
       "    </tr>\n",
       "    <tr>\n",
       "      <th>tree generator (conti)</th>\n",
       "      <td>0.037089</td>\n",
       "      <td>0.071703</td>\n",
       "      <td>0.076514</td>\n",
       "      <td>0.029962</td>\n",
       "      <td>0.039969</td>\n",
       "      <td>3.049590</td>\n",
       "      <td>3.271085</td>\n",
       "      <td>0.047223</td>\n",
       "    </tr>\n",
       "    <tr>\n",
       "      <th>linear svm (L)</th>\n",
       "      <td>0.190744</td>\n",
       "      <td>0.108598</td>\n",
       "      <td>0.069723</td>\n",
       "      <td>0.104232</td>\n",
       "      <td>0.318435</td>\n",
       "      <td>0.836660</td>\n",
       "      <td>3.271085</td>\n",
       "      <td>0.048672</td>\n",
       "    </tr>\n",
       "    <tr>\n",
       "      <th>non-linear svm (L)</th>\n",
       "      <td>0.051972</td>\n",
       "      <td>0.024709</td>\n",
       "      <td>0.108037</td>\n",
       "      <td>0.049436</td>\n",
       "      <td>0.045971</td>\n",
       "      <td>4.438468</td>\n",
       "      <td>3.271085</td>\n",
       "      <td>0.086825</td>\n",
       "    </tr>\n",
       "    <tr>\n",
       "      <th>logistic regression (L)</th>\n",
       "      <td>0.047609</td>\n",
       "      <td>0.061147</td>\n",
       "      <td>0.071020</td>\n",
       "      <td>0.056079</td>\n",
       "      <td>0.050752</td>\n",
       "      <td>4.086563</td>\n",
       "      <td>3.271085</td>\n",
       "      <td>0.109578</td>\n",
       "    </tr>\n",
       "    <tr>\n",
       "      <th>linear svm</th>\n",
       "      <td>0.053711</td>\n",
       "      <td>0.048340</td>\n",
       "      <td>0.086460</td>\n",
       "      <td>0.061671</td>\n",
       "      <td>0.045376</td>\n",
       "      <td>2.509980</td>\n",
       "      <td>3.271085</td>\n",
       "      <td>0.029227</td>\n",
       "    </tr>\n",
       "    <tr>\n",
       "      <th>non-linear svm</th>\n",
       "      <td>0.046485</td>\n",
       "      <td>0.057760</td>\n",
       "      <td>0.048936</td>\n",
       "      <td>0.050200</td>\n",
       "      <td>0.048697</td>\n",
       "      <td>3.049590</td>\n",
       "      <td>3.271085</td>\n",
       "      <td>0.039147</td>\n",
       "    </tr>\n",
       "    <tr>\n",
       "      <th>logistic regression</th>\n",
       "      <td>0.045821</td>\n",
       "      <td>0.058217</td>\n",
       "      <td>0.063637</td>\n",
       "      <td>0.047569</td>\n",
       "      <td>0.047432</td>\n",
       "      <td>2.489980</td>\n",
       "      <td>3.271085</td>\n",
       "      <td>0.026160</td>\n",
       "    </tr>\n",
       "  </tbody>\n",
       "</table>\n",
       "</div>"
      ],
      "text/plain": [
       "                            accuracy  precision    recall        f1       auc  \\\n",
       "RuleFit Classifier (disc)   0.044776   0.048551  0.064326  0.044856  0.051520   \n",
       "tree generator (disc)       0.049950   0.094845  0.077244  0.037668  0.049073   \n",
       "RuleFit Classifier (conti)  0.040326   0.076503  0.064527  0.037194  0.032516   \n",
       "tree generator (conti)      0.037089   0.071703  0.076514  0.029962  0.039969   \n",
       "linear svm (L)              0.190744   0.108598  0.069723  0.104232  0.318435   \n",
       "non-linear svm (L)          0.051972   0.024709  0.108037  0.049436  0.045971   \n",
       "logistic regression (L)     0.047609   0.061147  0.071020  0.056079  0.050752   \n",
       "linear svm                  0.053711   0.048340  0.086460  0.061671  0.045376   \n",
       "non-linear svm              0.046485   0.057760  0.048936  0.050200  0.048697   \n",
       "logistic regression         0.045821   0.058217  0.063637  0.047569  0.047432   \n",
       "\n",
       "                            n_violation    n_rule  violation_rate  \n",
       "RuleFit Classifier (disc)      5.167204  3.271085        0.084470  \n",
       "tree generator (disc)          4.086563  3.271085        0.068354  \n",
       "RuleFit Classifier (conti)     2.966479  3.271085        0.065019  \n",
       "tree generator (conti)         3.049590  3.271085        0.047223  \n",
       "linear svm (L)                 0.836660  3.271085        0.048672  \n",
       "non-linear svm (L)             4.438468  3.271085        0.086825  \n",
       "logistic regression (L)        4.086563  3.271085        0.109578  \n",
       "linear svm                     2.509980  3.271085        0.029227  \n",
       "non-linear svm                 3.049590  3.271085        0.039147  \n",
       "logistic regression            2.489980  3.271085        0.026160  "
      ]
     },
     "execution_count": 6,
     "metadata": {},
     "output_type": "execute_result"
    }
   ],
   "source": [
    "result_df_std = combined_df.groupby(combined_df.index).std()\n",
    "result_df_std = result_df_std.reindex(original_idx_order)\n",
    "\n",
    "result_df_std"
   ]
  },
  {
   "cell_type": "code",
   "execution_count": 7,
   "metadata": {},
   "outputs": [
    {
     "name": "stdout",
     "output_type": "stream",
     "text": [
      "                            accuracy  precision    recall        f1       auc  \\\n",
      "RuleFit Classifier (disc)   0.783582   0.742431  0.521271  0.610252  0.815869   \n",
      "tree generator (disc)       0.741791   0.627843  0.557706  0.582608  0.772322   \n",
      "RuleFit Classifier (conti)  0.732836   0.601979  0.553471  0.571908  0.795116   \n",
      "tree generator (conti)      0.782090   0.715158  0.568106  0.627460  0.832600   \n",
      "linear svm (L)              0.450746   0.386806  0.955416  0.540092  0.536953   \n",
      "non-linear svm (L)          0.716418   0.546190  0.752745  0.631315  0.822545   \n",
      "logistic regression (L)     0.770149   0.732412  0.470891  0.570208  0.826615   \n",
      "linear svm                  0.779104   0.711436  0.551175  0.618693  0.837805   \n",
      "non-linear svm              0.780597   0.759070  0.479714  0.587201  0.838064   \n",
      "logistic regression         0.782090   0.731143  0.530165  0.612464  0.840573   \n",
      "\n",
      "                            n_violation  n_rule  violation_rate  \n",
      "RuleFit Classifier (disc)          28.2    34.8        0.804880  \n",
      "tree generator (disc)              25.8    34.8        0.738615  \n",
      "RuleFit Classifier (conti)         30.6    34.8        0.881150  \n",
      "tree generator (conti)             30.6    34.8        0.879968  \n",
      "linear svm (L)                     21.8    34.8        0.629842  \n",
      "non-linear svm (L)                 23.2    34.8        0.663664  \n",
      "logistic regression (L)            19.2    34.8        0.552303  \n",
      "linear svm                         30.6    34.8        0.880463  \n",
      "non-linear svm                     31.6    34.8        0.908449  \n",
      "logistic regression                30.8    34.8        0.886178  \n"
     ]
    }
   ],
   "source": [
    "print(result_df_mean)"
   ]
  },
  {
   "cell_type": "code",
   "execution_count": 8,
   "metadata": {},
   "outputs": [
    {
     "name": "stdout",
     "output_type": "stream",
     "text": [
      "                            accuracy  precision    recall        f1       auc  \\\n",
      "RuleFit Classifier (disc)   0.044776   0.048551  0.064326  0.044856  0.051520   \n",
      "tree generator (disc)       0.049950   0.094845  0.077244  0.037668  0.049073   \n",
      "RuleFit Classifier (conti)  0.040326   0.076503  0.064527  0.037194  0.032516   \n",
      "tree generator (conti)      0.037089   0.071703  0.076514  0.029962  0.039969   \n",
      "linear svm (L)              0.190744   0.108598  0.069723  0.104232  0.318435   \n",
      "non-linear svm (L)          0.051972   0.024709  0.108037  0.049436  0.045971   \n",
      "logistic regression (L)     0.047609   0.061147  0.071020  0.056079  0.050752   \n",
      "linear svm                  0.053711   0.048340  0.086460  0.061671  0.045376   \n",
      "non-linear svm              0.046485   0.057760  0.048936  0.050200  0.048697   \n",
      "logistic regression         0.045821   0.058217  0.063637  0.047569  0.047432   \n",
      "\n",
      "                            n_violation    n_rule  violation_rate  \n",
      "RuleFit Classifier (disc)      5.167204  3.271085        0.084470  \n",
      "tree generator (disc)          4.086563  3.271085        0.068354  \n",
      "RuleFit Classifier (conti)     2.966479  3.271085        0.065019  \n",
      "tree generator (conti)         3.049590  3.271085        0.047223  \n",
      "linear svm (L)                 0.836660  3.271085        0.048672  \n",
      "non-linear svm (L)             4.438468  3.271085        0.086825  \n",
      "logistic regression (L)        4.086563  3.271085        0.109578  \n",
      "linear svm                     2.509980  3.271085        0.029227  \n",
      "non-linear svm                 3.049590  3.271085        0.039147  \n",
      "logistic regression            2.489980  3.271085        0.026160  \n"
     ]
    }
   ],
   "source": [
    "print(result_df_std)"
   ]
  },
  {
   "cell_type": "code",
   "execution_count": 9,
   "metadata": {},
   "outputs": [
    {
     "name": "stdout",
     "output_type": "stream",
     "text": [
      "                                 accuracy      precision         recall  \\\n",
      "RuleFit Classifier (disc)   0.784 ± 0.045  0.742 ± 0.049  0.521 ± 0.064   \n",
      "tree generator (disc)       0.742 ± 0.050  0.628 ± 0.095  0.558 ± 0.077   \n",
      "RuleFit Classifier (conti)  0.733 ± 0.040  0.602 ± 0.077  0.553 ± 0.065   \n",
      "tree generator (conti)      0.782 ± 0.037  0.715 ± 0.072  0.568 ± 0.077   \n",
      "linear svm (L)              0.451 ± 0.191  0.387 ± 0.109  0.955 ± 0.070   \n",
      "non-linear svm (L)          0.716 ± 0.052  0.546 ± 0.025  0.753 ± 0.108   \n",
      "logistic regression (L)     0.770 ± 0.048  0.732 ± 0.061  0.471 ± 0.071   \n",
      "linear svm                  0.779 ± 0.054  0.711 ± 0.048  0.551 ± 0.086   \n",
      "non-linear svm              0.781 ± 0.046  0.759 ± 0.058  0.480 ± 0.049   \n",
      "logistic regression         0.782 ± 0.046  0.731 ± 0.058  0.530 ± 0.064   \n",
      "\n",
      "                                       f1            auc     n_violation  \\\n",
      "RuleFit Classifier (disc)   0.610 ± 0.045  0.816 ± 0.052  28.200 ± 5.167   \n",
      "tree generator (disc)       0.583 ± 0.038  0.772 ± 0.049  25.800 ± 4.087   \n",
      "RuleFit Classifier (conti)  0.572 ± 0.037  0.795 ± 0.033  30.600 ± 2.966   \n",
      "tree generator (conti)      0.627 ± 0.030  0.833 ± 0.040  30.600 ± 3.050   \n",
      "linear svm (L)              0.540 ± 0.104  0.537 ± 0.318  21.800 ± 0.837   \n",
      "non-linear svm (L)          0.631 ± 0.049  0.823 ± 0.046  23.200 ± 4.438   \n",
      "logistic regression (L)     0.570 ± 0.056  0.827 ± 0.051  19.200 ± 4.087   \n",
      "linear svm                  0.619 ± 0.062  0.838 ± 0.045  30.600 ± 2.510   \n",
      "non-linear svm              0.587 ± 0.050  0.838 ± 0.049  31.600 ± 3.050   \n",
      "logistic regression         0.612 ± 0.048  0.841 ± 0.047  30.800 ± 2.490   \n",
      "\n",
      "                                    n_rule violation_rate  \n",
      "RuleFit Classifier (disc)   34.800 ± 3.271  0.805 ± 0.084  \n",
      "tree generator (disc)       34.800 ± 3.271  0.739 ± 0.068  \n",
      "RuleFit Classifier (conti)  34.800 ± 3.271  0.881 ± 0.065  \n",
      "tree generator (conti)      34.800 ± 3.271  0.880 ± 0.047  \n",
      "linear svm (L)              34.800 ± 3.271  0.630 ± 0.049  \n",
      "non-linear svm (L)          34.800 ± 3.271  0.664 ± 0.087  \n",
      "logistic regression (L)     34.800 ± 3.271  0.552 ± 0.110  \n",
      "linear svm                  34.800 ± 3.271  0.880 ± 0.029  \n",
      "non-linear svm              34.800 ± 3.271  0.908 ± 0.039  \n",
      "logistic regression         34.800 ± 3.271  0.886 ± 0.026  \n"
     ]
    }
   ],
   "source": [
    "# データフレームを結合して、指定された形式で値を表示する\n",
    "df1 = result_df_mean\n",
    "df2 = result_df_std\n",
    "\n",
    "merged_df = df1.copy()\n",
    "for col in df1.columns:\n",
    "    merged_df[col] = df1[col].apply(lambda x: \"{:.3f}\".format(x)) + ' ± ' + df2[col].apply(lambda x: \"{:.3f}\".format(x))\n",
    "\n",
    "print(merged_df)"
   ]
  },
  {
   "cell_type": "code",
   "execution_count": 10,
   "metadata": {},
   "outputs": [
    {
     "data": {
      "text/html": [
       "<div>\n",
       "<style scoped>\n",
       "    .dataframe tbody tr th:only-of-type {\n",
       "        vertical-align: middle;\n",
       "    }\n",
       "\n",
       "    .dataframe tbody tr th {\n",
       "        vertical-align: top;\n",
       "    }\n",
       "\n",
       "    .dataframe thead th {\n",
       "        text-align: right;\n",
       "    }\n",
       "</style>\n",
       "<table border=\"1\" class=\"dataframe\">\n",
       "  <thead>\n",
       "    <tr style=\"text-align: right;\">\n",
       "      <th></th>\n",
       "      <th>accuracy</th>\n",
       "      <th>precision</th>\n",
       "      <th>recall</th>\n",
       "      <th>f1</th>\n",
       "      <th>auc</th>\n",
       "      <th>n_violation</th>\n",
       "      <th>n_rule</th>\n",
       "      <th>violation_rate</th>\n",
       "    </tr>\n",
       "  </thead>\n",
       "  <tbody>\n",
       "    <tr>\n",
       "      <th>RuleFit Classifier (disc)</th>\n",
       "      <td>0.784 ± 0.045</td>\n",
       "      <td>0.742 ± 0.049</td>\n",
       "      <td>0.521 ± 0.064</td>\n",
       "      <td>0.610 ± 0.045</td>\n",
       "      <td>0.816 ± 0.052</td>\n",
       "      <td>28.200 ± 5.167</td>\n",
       "      <td>34.800 ± 3.271</td>\n",
       "      <td>0.805 ± 0.084</td>\n",
       "    </tr>\n",
       "    <tr>\n",
       "      <th>tree generator (disc)</th>\n",
       "      <td>0.742 ± 0.050</td>\n",
       "      <td>0.628 ± 0.095</td>\n",
       "      <td>0.558 ± 0.077</td>\n",
       "      <td>0.583 ± 0.038</td>\n",
       "      <td>0.772 ± 0.049</td>\n",
       "      <td>25.800 ± 4.087</td>\n",
       "      <td>34.800 ± 3.271</td>\n",
       "      <td>0.739 ± 0.068</td>\n",
       "    </tr>\n",
       "    <tr>\n",
       "      <th>RuleFit Classifier (conti)</th>\n",
       "      <td>0.733 ± 0.040</td>\n",
       "      <td>0.602 ± 0.077</td>\n",
       "      <td>0.553 ± 0.065</td>\n",
       "      <td>0.572 ± 0.037</td>\n",
       "      <td>0.795 ± 0.033</td>\n",
       "      <td>30.600 ± 2.966</td>\n",
       "      <td>34.800 ± 3.271</td>\n",
       "      <td>0.881 ± 0.065</td>\n",
       "    </tr>\n",
       "    <tr>\n",
       "      <th>tree generator (conti)</th>\n",
       "      <td>0.782 ± 0.037</td>\n",
       "      <td>0.715 ± 0.072</td>\n",
       "      <td>0.568 ± 0.077</td>\n",
       "      <td>0.627 ± 0.030</td>\n",
       "      <td>0.833 ± 0.040</td>\n",
       "      <td>30.600 ± 3.050</td>\n",
       "      <td>34.800 ± 3.271</td>\n",
       "      <td>0.880 ± 0.047</td>\n",
       "    </tr>\n",
       "    <tr>\n",
       "      <th>linear svm (L)</th>\n",
       "      <td>0.451 ± 0.191</td>\n",
       "      <td>0.387 ± 0.109</td>\n",
       "      <td>0.955 ± 0.070</td>\n",
       "      <td>0.540 ± 0.104</td>\n",
       "      <td>0.537 ± 0.318</td>\n",
       "      <td>21.800 ± 0.837</td>\n",
       "      <td>34.800 ± 3.271</td>\n",
       "      <td>0.630 ± 0.049</td>\n",
       "    </tr>\n",
       "    <tr>\n",
       "      <th>non-linear svm (L)</th>\n",
       "      <td>0.716 ± 0.052</td>\n",
       "      <td>0.546 ± 0.025</td>\n",
       "      <td>0.753 ± 0.108</td>\n",
       "      <td>0.631 ± 0.049</td>\n",
       "      <td>0.823 ± 0.046</td>\n",
       "      <td>23.200 ± 4.438</td>\n",
       "      <td>34.800 ± 3.271</td>\n",
       "      <td>0.664 ± 0.087</td>\n",
       "    </tr>\n",
       "    <tr>\n",
       "      <th>logistic regression (L)</th>\n",
       "      <td>0.770 ± 0.048</td>\n",
       "      <td>0.732 ± 0.061</td>\n",
       "      <td>0.471 ± 0.071</td>\n",
       "      <td>0.570 ± 0.056</td>\n",
       "      <td>0.827 ± 0.051</td>\n",
       "      <td>19.200 ± 4.087</td>\n",
       "      <td>34.800 ± 3.271</td>\n",
       "      <td>0.552 ± 0.110</td>\n",
       "    </tr>\n",
       "    <tr>\n",
       "      <th>linear svm</th>\n",
       "      <td>0.779 ± 0.054</td>\n",
       "      <td>0.711 ± 0.048</td>\n",
       "      <td>0.551 ± 0.086</td>\n",
       "      <td>0.619 ± 0.062</td>\n",
       "      <td>0.838 ± 0.045</td>\n",
       "      <td>30.600 ± 2.510</td>\n",
       "      <td>34.800 ± 3.271</td>\n",
       "      <td>0.880 ± 0.029</td>\n",
       "    </tr>\n",
       "    <tr>\n",
       "      <th>non-linear svm</th>\n",
       "      <td>0.781 ± 0.046</td>\n",
       "      <td>0.759 ± 0.058</td>\n",
       "      <td>0.480 ± 0.049</td>\n",
       "      <td>0.587 ± 0.050</td>\n",
       "      <td>0.838 ± 0.049</td>\n",
       "      <td>31.600 ± 3.050</td>\n",
       "      <td>34.800 ± 3.271</td>\n",
       "      <td>0.908 ± 0.039</td>\n",
       "    </tr>\n",
       "    <tr>\n",
       "      <th>logistic regression</th>\n",
       "      <td>0.782 ± 0.046</td>\n",
       "      <td>0.731 ± 0.058</td>\n",
       "      <td>0.530 ± 0.064</td>\n",
       "      <td>0.612 ± 0.048</td>\n",
       "      <td>0.841 ± 0.047</td>\n",
       "      <td>30.800 ± 2.490</td>\n",
       "      <td>34.800 ± 3.271</td>\n",
       "      <td>0.886 ± 0.026</td>\n",
       "    </tr>\n",
       "  </tbody>\n",
       "</table>\n",
       "</div>"
      ],
      "text/plain": [
       "                                 accuracy      precision         recall  \\\n",
       "RuleFit Classifier (disc)   0.784 ± 0.045  0.742 ± 0.049  0.521 ± 0.064   \n",
       "tree generator (disc)       0.742 ± 0.050  0.628 ± 0.095  0.558 ± 0.077   \n",
       "RuleFit Classifier (conti)  0.733 ± 0.040  0.602 ± 0.077  0.553 ± 0.065   \n",
       "tree generator (conti)      0.782 ± 0.037  0.715 ± 0.072  0.568 ± 0.077   \n",
       "linear svm (L)              0.451 ± 0.191  0.387 ± 0.109  0.955 ± 0.070   \n",
       "non-linear svm (L)          0.716 ± 0.052  0.546 ± 0.025  0.753 ± 0.108   \n",
       "logistic regression (L)     0.770 ± 0.048  0.732 ± 0.061  0.471 ± 0.071   \n",
       "linear svm                  0.779 ± 0.054  0.711 ± 0.048  0.551 ± 0.086   \n",
       "non-linear svm              0.781 ± 0.046  0.759 ± 0.058  0.480 ± 0.049   \n",
       "logistic regression         0.782 ± 0.046  0.731 ± 0.058  0.530 ± 0.064   \n",
       "\n",
       "                                       f1            auc     n_violation  \\\n",
       "RuleFit Classifier (disc)   0.610 ± 0.045  0.816 ± 0.052  28.200 ± 5.167   \n",
       "tree generator (disc)       0.583 ± 0.038  0.772 ± 0.049  25.800 ± 4.087   \n",
       "RuleFit Classifier (conti)  0.572 ± 0.037  0.795 ± 0.033  30.600 ± 2.966   \n",
       "tree generator (conti)      0.627 ± 0.030  0.833 ± 0.040  30.600 ± 3.050   \n",
       "linear svm (L)              0.540 ± 0.104  0.537 ± 0.318  21.800 ± 0.837   \n",
       "non-linear svm (L)          0.631 ± 0.049  0.823 ± 0.046  23.200 ± 4.438   \n",
       "logistic regression (L)     0.570 ± 0.056  0.827 ± 0.051  19.200 ± 4.087   \n",
       "linear svm                  0.619 ± 0.062  0.838 ± 0.045  30.600 ± 2.510   \n",
       "non-linear svm              0.587 ± 0.050  0.838 ± 0.049  31.600 ± 3.050   \n",
       "logistic regression         0.612 ± 0.048  0.841 ± 0.047  30.800 ± 2.490   \n",
       "\n",
       "                                    n_rule violation_rate  \n",
       "RuleFit Classifier (disc)   34.800 ± 3.271  0.805 ± 0.084  \n",
       "tree generator (disc)       34.800 ± 3.271  0.739 ± 0.068  \n",
       "RuleFit Classifier (conti)  34.800 ± 3.271  0.881 ± 0.065  \n",
       "tree generator (conti)      34.800 ± 3.271  0.880 ± 0.047  \n",
       "linear svm (L)              34.800 ± 3.271  0.630 ± 0.049  \n",
       "non-linear svm (L)          34.800 ± 3.271  0.664 ± 0.087  \n",
       "logistic regression (L)     34.800 ± 3.271  0.552 ± 0.110  \n",
       "linear svm                  34.800 ± 3.271  0.880 ± 0.029  \n",
       "non-linear svm              34.800 ± 3.271  0.908 ± 0.039  \n",
       "logistic regression         34.800 ± 3.271  0.886 ± 0.026  "
      ]
     },
     "execution_count": 10,
     "metadata": {},
     "output_type": "execute_result"
    }
   ],
   "source": [
    "merged_df"
   ]
  },
  {
   "cell_type": "code",
   "execution_count": 11,
   "metadata": {},
   "outputs": [
    {
     "data": {
      "text/html": [
       "<div>\n",
       "<style scoped>\n",
       "    .dataframe tbody tr th:only-of-type {\n",
       "        vertical-align: middle;\n",
       "    }\n",
       "\n",
       "    .dataframe tbody tr th {\n",
       "        vertical-align: top;\n",
       "    }\n",
       "\n",
       "    .dataframe thead th {\n",
       "        text-align: right;\n",
       "    }\n",
       "</style>\n",
       "<table border=\"1\" class=\"dataframe\">\n",
       "  <thead>\n",
       "    <tr style=\"text-align: right;\">\n",
       "      <th></th>\n",
       "      <th>auc</th>\n",
       "      <th>n_violation</th>\n",
       "      <th>n_rule</th>\n",
       "      <th>violation_rate</th>\n",
       "    </tr>\n",
       "  </thead>\n",
       "  <tbody>\n",
       "    <tr>\n",
       "      <th>RuleFit Classifier (disc)</th>\n",
       "      <td>0.816 ± 0.052</td>\n",
       "      <td>28.200 ± 5.167</td>\n",
       "      <td>34.800 ± 3.271</td>\n",
       "      <td>0.805 ± 0.084</td>\n",
       "    </tr>\n",
       "    <tr>\n",
       "      <th>tree generator (disc)</th>\n",
       "      <td>0.772 ± 0.049</td>\n",
       "      <td>25.800 ± 4.087</td>\n",
       "      <td>34.800 ± 3.271</td>\n",
       "      <td>0.739 ± 0.068</td>\n",
       "    </tr>\n",
       "    <tr>\n",
       "      <th>RuleFit Classifier (conti)</th>\n",
       "      <td>0.795 ± 0.033</td>\n",
       "      <td>30.600 ± 2.966</td>\n",
       "      <td>34.800 ± 3.271</td>\n",
       "      <td>0.881 ± 0.065</td>\n",
       "    </tr>\n",
       "    <tr>\n",
       "      <th>tree generator (conti)</th>\n",
       "      <td>0.833 ± 0.040</td>\n",
       "      <td>30.600 ± 3.050</td>\n",
       "      <td>34.800 ± 3.271</td>\n",
       "      <td>0.880 ± 0.047</td>\n",
       "    </tr>\n",
       "    <tr>\n",
       "      <th>linear svm (L)</th>\n",
       "      <td>0.537 ± 0.318</td>\n",
       "      <td>21.800 ± 0.837</td>\n",
       "      <td>34.800 ± 3.271</td>\n",
       "      <td>0.630 ± 0.049</td>\n",
       "    </tr>\n",
       "    <tr>\n",
       "      <th>non-linear svm (L)</th>\n",
       "      <td>0.823 ± 0.046</td>\n",
       "      <td>23.200 ± 4.438</td>\n",
       "      <td>34.800 ± 3.271</td>\n",
       "      <td>0.664 ± 0.087</td>\n",
       "    </tr>\n",
       "    <tr>\n",
       "      <th>logistic regression (L)</th>\n",
       "      <td>0.827 ± 0.051</td>\n",
       "      <td>19.200 ± 4.087</td>\n",
       "      <td>34.800 ± 3.271</td>\n",
       "      <td>0.552 ± 0.110</td>\n",
       "    </tr>\n",
       "    <tr>\n",
       "      <th>linear svm</th>\n",
       "      <td>0.838 ± 0.045</td>\n",
       "      <td>30.600 ± 2.510</td>\n",
       "      <td>34.800 ± 3.271</td>\n",
       "      <td>0.880 ± 0.029</td>\n",
       "    </tr>\n",
       "    <tr>\n",
       "      <th>non-linear svm</th>\n",
       "      <td>0.838 ± 0.049</td>\n",
       "      <td>31.600 ± 3.050</td>\n",
       "      <td>34.800 ± 3.271</td>\n",
       "      <td>0.908 ± 0.039</td>\n",
       "    </tr>\n",
       "    <tr>\n",
       "      <th>logistic regression</th>\n",
       "      <td>0.841 ± 0.047</td>\n",
       "      <td>30.800 ± 2.490</td>\n",
       "      <td>34.800 ± 3.271</td>\n",
       "      <td>0.886 ± 0.026</td>\n",
       "    </tr>\n",
       "  </tbody>\n",
       "</table>\n",
       "</div>"
      ],
      "text/plain": [
       "                                      auc     n_violation          n_rule  \\\n",
       "RuleFit Classifier (disc)   0.816 ± 0.052  28.200 ± 5.167  34.800 ± 3.271   \n",
       "tree generator (disc)       0.772 ± 0.049  25.800 ± 4.087  34.800 ± 3.271   \n",
       "RuleFit Classifier (conti)  0.795 ± 0.033  30.600 ± 2.966  34.800 ± 3.271   \n",
       "tree generator (conti)      0.833 ± 0.040  30.600 ± 3.050  34.800 ± 3.271   \n",
       "linear svm (L)              0.537 ± 0.318  21.800 ± 0.837  34.800 ± 3.271   \n",
       "non-linear svm (L)          0.823 ± 0.046  23.200 ± 4.438  34.800 ± 3.271   \n",
       "logistic regression (L)     0.827 ± 0.051  19.200 ± 4.087  34.800 ± 3.271   \n",
       "linear svm                  0.838 ± 0.045  30.600 ± 2.510  34.800 ± 3.271   \n",
       "non-linear svm              0.838 ± 0.049  31.600 ± 3.050  34.800 ± 3.271   \n",
       "logistic regression         0.841 ± 0.047  30.800 ± 2.490  34.800 ± 3.271   \n",
       "\n",
       "                           violation_rate  \n",
       "RuleFit Classifier (disc)   0.805 ± 0.084  \n",
       "tree generator (disc)       0.739 ± 0.068  \n",
       "RuleFit Classifier (conti)  0.881 ± 0.065  \n",
       "tree generator (conti)      0.880 ± 0.047  \n",
       "linear svm (L)              0.630 ± 0.049  \n",
       "non-linear svm (L)          0.664 ± 0.087  \n",
       "logistic regression (L)     0.552 ± 0.110  \n",
       "linear svm                  0.880 ± 0.029  \n",
       "non-linear svm              0.908 ± 0.039  \n",
       "logistic regression         0.886 ± 0.026  "
      ]
     },
     "execution_count": 11,
     "metadata": {},
     "output_type": "execute_result"
    }
   ],
   "source": [
    "filtered_df = merged_df.loc[:, ['auc', 'n_violation', 'n_rule', 'violation_rate']]\n",
    "filtered_df"
   ]
  },
  {
   "cell_type": "code",
   "execution_count": 12,
   "metadata": {},
   "outputs": [
    {
     "name": "stdout",
     "output_type": "stream",
     "text": [
      "                                      auc     n_violation          n_rule  \\\n",
      "RuleFit Classifier (disc)   0.816 ± 0.052  28.200 ± 5.167  34.800 ± 3.271   \n",
      "tree generator (disc)       0.772 ± 0.049  25.800 ± 4.087  34.800 ± 3.271   \n",
      "RuleFit Classifier (conti)  0.795 ± 0.033  30.600 ± 2.966  34.800 ± 3.271   \n",
      "tree generator (conti)      0.833 ± 0.040  30.600 ± 3.050  34.800 ± 3.271   \n",
      "linear svm (L)              0.537 ± 0.318  21.800 ± 0.837  34.800 ± 3.271   \n",
      "non-linear svm (L)          0.823 ± 0.046  23.200 ± 4.438  34.800 ± 3.271   \n",
      "logistic regression (L)     0.827 ± 0.051  19.200 ± 4.087  34.800 ± 3.271   \n",
      "linear svm                  0.838 ± 0.045  30.600 ± 2.510  34.800 ± 3.271   \n",
      "non-linear svm              0.838 ± 0.049  31.600 ± 3.050  34.800 ± 3.271   \n",
      "logistic regression         0.841 ± 0.047  30.800 ± 2.490  34.800 ± 3.271   \n",
      "\n",
      "                           violation_rate  \n",
      "RuleFit Classifier (disc)   0.805 ± 0.084  \n",
      "tree generator (disc)       0.739 ± 0.068  \n",
      "RuleFit Classifier (conti)  0.881 ± 0.065  \n",
      "tree generator (conti)      0.880 ± 0.047  \n",
      "linear svm (L)              0.630 ± 0.049  \n",
      "non-linear svm (L)          0.664 ± 0.087  \n",
      "logistic regression (L)     0.552 ± 0.110  \n",
      "linear svm                  0.880 ± 0.029  \n",
      "non-linear svm              0.908 ± 0.039  \n",
      "logistic regression         0.886 ± 0.026  \n"
     ]
    }
   ],
   "source": [
    "print(filtered_df)"
   ]
  },
  {
   "cell_type": "code",
   "execution_count": 13,
   "metadata": {},
   "outputs": [],
   "source": [
    "model_names = [\n",
    "    'linear svm',\n",
    "    'non-linear svm',\n",
    "    'logistic regression',\n",
    "    'RuleFit Classifier (disc)',\n",
    "    'tree generator (disc)',\n",
    "    'RuleFit Classifier (conti)',\n",
    "    'tree generator (conti)',\n",
    "    'linear svm (L)',\n",
    "    'non-linear svm (L)',\n",
    "    'logistic regression (L)',\n",
    "]"
   ]
  },
  {
   "cell_type": "code",
   "execution_count": 14,
   "metadata": {},
   "outputs": [
    {
     "data": {
      "text/html": [
       "<div>\n",
       "<style scoped>\n",
       "    .dataframe tbody tr th:only-of-type {\n",
       "        vertical-align: middle;\n",
       "    }\n",
       "\n",
       "    .dataframe tbody tr th {\n",
       "        vertical-align: top;\n",
       "    }\n",
       "\n",
       "    .dataframe thead th {\n",
       "        text-align: right;\n",
       "    }\n",
       "</style>\n",
       "<table border=\"1\" class=\"dataframe\">\n",
       "  <thead>\n",
       "    <tr style=\"text-align: right;\">\n",
       "      <th></th>\n",
       "      <th>auc</th>\n",
       "      <th>n_violation</th>\n",
       "      <th>n_rule</th>\n",
       "      <th>violation_rate</th>\n",
       "    </tr>\n",
       "  </thead>\n",
       "  <tbody>\n",
       "    <tr>\n",
       "      <th>linear svm</th>\n",
       "      <td>0.838 ± 0.045</td>\n",
       "      <td>30.600 ± 2.510</td>\n",
       "      <td>34.800 ± 3.271</td>\n",
       "      <td>0.880 ± 0.029</td>\n",
       "    </tr>\n",
       "    <tr>\n",
       "      <th>non-linear svm</th>\n",
       "      <td>0.838 ± 0.049</td>\n",
       "      <td>31.600 ± 3.050</td>\n",
       "      <td>34.800 ± 3.271</td>\n",
       "      <td>0.908 ± 0.039</td>\n",
       "    </tr>\n",
       "    <tr>\n",
       "      <th>logistic regression</th>\n",
       "      <td>0.841 ± 0.047</td>\n",
       "      <td>30.800 ± 2.490</td>\n",
       "      <td>34.800 ± 3.271</td>\n",
       "      <td>0.886 ± 0.026</td>\n",
       "    </tr>\n",
       "    <tr>\n",
       "      <th>RuleFit Classifier (disc)</th>\n",
       "      <td>0.816 ± 0.052</td>\n",
       "      <td>28.200 ± 5.167</td>\n",
       "      <td>34.800 ± 3.271</td>\n",
       "      <td>0.805 ± 0.084</td>\n",
       "    </tr>\n",
       "    <tr>\n",
       "      <th>tree generator (disc)</th>\n",
       "      <td>0.772 ± 0.049</td>\n",
       "      <td>25.800 ± 4.087</td>\n",
       "      <td>34.800 ± 3.271</td>\n",
       "      <td>0.739 ± 0.068</td>\n",
       "    </tr>\n",
       "    <tr>\n",
       "      <th>RuleFit Classifier (conti)</th>\n",
       "      <td>0.795 ± 0.033</td>\n",
       "      <td>30.600 ± 2.966</td>\n",
       "      <td>34.800 ± 3.271</td>\n",
       "      <td>0.881 ± 0.065</td>\n",
       "    </tr>\n",
       "    <tr>\n",
       "      <th>tree generator (conti)</th>\n",
       "      <td>0.833 ± 0.040</td>\n",
       "      <td>30.600 ± 3.050</td>\n",
       "      <td>34.800 ± 3.271</td>\n",
       "      <td>0.880 ± 0.047</td>\n",
       "    </tr>\n",
       "    <tr>\n",
       "      <th>linear svm (L)</th>\n",
       "      <td>0.537 ± 0.318</td>\n",
       "      <td>21.800 ± 0.837</td>\n",
       "      <td>34.800 ± 3.271</td>\n",
       "      <td>0.630 ± 0.049</td>\n",
       "    </tr>\n",
       "    <tr>\n",
       "      <th>non-linear svm (L)</th>\n",
       "      <td>0.823 ± 0.046</td>\n",
       "      <td>23.200 ± 4.438</td>\n",
       "      <td>34.800 ± 3.271</td>\n",
       "      <td>0.664 ± 0.087</td>\n",
       "    </tr>\n",
       "    <tr>\n",
       "      <th>logistic regression (L)</th>\n",
       "      <td>0.827 ± 0.051</td>\n",
       "      <td>19.200 ± 4.087</td>\n",
       "      <td>34.800 ± 3.271</td>\n",
       "      <td>0.552 ± 0.110</td>\n",
       "    </tr>\n",
       "  </tbody>\n",
       "</table>\n",
       "</div>"
      ],
      "text/plain": [
       "                                      auc     n_violation          n_rule  \\\n",
       "linear svm                  0.838 ± 0.045  30.600 ± 2.510  34.800 ± 3.271   \n",
       "non-linear svm              0.838 ± 0.049  31.600 ± 3.050  34.800 ± 3.271   \n",
       "logistic regression         0.841 ± 0.047  30.800 ± 2.490  34.800 ± 3.271   \n",
       "RuleFit Classifier (disc)   0.816 ± 0.052  28.200 ± 5.167  34.800 ± 3.271   \n",
       "tree generator (disc)       0.772 ± 0.049  25.800 ± 4.087  34.800 ± 3.271   \n",
       "RuleFit Classifier (conti)  0.795 ± 0.033  30.600 ± 2.966  34.800 ± 3.271   \n",
       "tree generator (conti)      0.833 ± 0.040  30.600 ± 3.050  34.800 ± 3.271   \n",
       "linear svm (L)              0.537 ± 0.318  21.800 ± 0.837  34.800 ± 3.271   \n",
       "non-linear svm (L)          0.823 ± 0.046  23.200 ± 4.438  34.800 ± 3.271   \n",
       "logistic regression (L)     0.827 ± 0.051  19.200 ± 4.087  34.800 ± 3.271   \n",
       "\n",
       "                           violation_rate  \n",
       "linear svm                  0.880 ± 0.029  \n",
       "non-linear svm              0.908 ± 0.039  \n",
       "logistic regression         0.886 ± 0.026  \n",
       "RuleFit Classifier (disc)   0.805 ± 0.084  \n",
       "tree generator (disc)       0.739 ± 0.068  \n",
       "RuleFit Classifier (conti)  0.881 ± 0.065  \n",
       "tree generator (conti)      0.880 ± 0.047  \n",
       "linear svm (L)              0.630 ± 0.049  \n",
       "non-linear svm (L)          0.664 ± 0.087  \n",
       "logistic regression (L)     0.552 ± 0.110  "
      ]
     },
     "execution_count": 14,
     "metadata": {},
     "output_type": "execute_result"
    }
   ],
   "source": [
    "filtered_df = filtered_df.reindex(model_names)\n",
    "filtered_df"
   ]
  },
  {
   "cell_type": "code",
   "execution_count": 15,
   "metadata": {},
   "outputs": [
    {
     "name": "stdout",
     "output_type": "stream",
     "text": [
      "                                      auc     n_violation          n_rule  \\\n",
      "linear svm                  0.838 ± 0.045  30.600 ± 2.510  34.800 ± 3.271   \n",
      "non-linear svm              0.838 ± 0.049  31.600 ± 3.050  34.800 ± 3.271   \n",
      "logistic regression         0.841 ± 0.047  30.800 ± 2.490  34.800 ± 3.271   \n",
      "RuleFit Classifier (disc)   0.816 ± 0.052  28.200 ± 5.167  34.800 ± 3.271   \n",
      "tree generator (disc)       0.772 ± 0.049  25.800 ± 4.087  34.800 ± 3.271   \n",
      "RuleFit Classifier (conti)  0.795 ± 0.033  30.600 ± 2.966  34.800 ± 3.271   \n",
      "tree generator (conti)      0.833 ± 0.040  30.600 ± 3.050  34.800 ± 3.271   \n",
      "linear svm (L)              0.537 ± 0.318  21.800 ± 0.837  34.800 ± 3.271   \n",
      "non-linear svm (L)          0.823 ± 0.046  23.200 ± 4.438  34.800 ± 3.271   \n",
      "logistic regression (L)     0.827 ± 0.051  19.200 ± 4.087  34.800 ± 3.271   \n",
      "\n",
      "                           violation_rate  \n",
      "linear svm                  0.880 ± 0.029  \n",
      "non-linear svm              0.908 ± 0.039  \n",
      "logistic regression         0.886 ± 0.026  \n",
      "RuleFit Classifier (disc)   0.805 ± 0.084  \n",
      "tree generator (disc)       0.739 ± 0.068  \n",
      "RuleFit Classifier (conti)  0.881 ± 0.065  \n",
      "tree generator (conti)      0.880 ± 0.047  \n",
      "linear svm (L)              0.630 ± 0.049  \n",
      "non-linear svm (L)          0.664 ± 0.087  \n",
      "logistic regression (L)     0.552 ± 0.110  \n"
     ]
    }
   ],
   "source": [
    "print(filtered_df)"
   ]
  },
  {
   "cell_type": "code",
   "execution_count": 16,
   "metadata": {},
   "outputs": [
    {
     "name": "stdout",
     "output_type": "stream",
     "text": [
      "['0.880 ± 0.029' '0.908 ± 0.039' '0.886 ± 0.026' '0.805 ± 0.084'\n",
      " '0.739 ± 0.068' '0.881 ± 0.065' '0.880 ± 0.047' '0.630 ± 0.049'\n",
      " '0.664 ± 0.087' '0.552 ± 0.110']\n"
     ]
    }
   ],
   "source": [
    "print(filtered_df['violation_rate'].values)"
   ]
  },
  {
   "cell_type": "code",
   "execution_count": 17,
   "metadata": {},
   "outputs": [
    {
     "name": "stdout",
     "output_type": "stream",
     "text": [
      "0.880 ± 0.029\n",
      "0.908 ± 0.039\n",
      "0.886 ± 0.026\n",
      "0.805 ± 0.084\n",
      "0.739 ± 0.068\n",
      "0.881 ± 0.065\n",
      "0.880 ± 0.047\n",
      "0.630 ± 0.049\n",
      "0.664 ± 0.087\n",
      "0.552 ± 0.110\n"
     ]
    }
   ],
   "source": [
    "for val in filtered_df['violation_rate'].values:\n",
    "    print(val)"
   ]
  },
  {
   "cell_type": "code",
   "execution_count": null,
   "metadata": {},
   "outputs": [],
   "source": []
  },
  {
   "cell_type": "code",
   "execution_count": null,
   "metadata": {},
   "outputs": [],
   "source": []
  },
  {
   "cell_type": "markdown",
   "metadata": {},
   "source": [
    "# 2"
   ]
  },
  {
   "cell_type": "code",
   "execution_count": 55,
   "metadata": {},
   "outputs": [],
   "source": [
    "result_file_paths = [\n",
    "    \"./experiments/version_21/result.json\",\n",
    "    \"./experiments/version_22/result.json\",\n",
    "    \"./experiments/version_23/result.json\",\n",
    "    \"./experiments/version_24/result.json\",\n",
    "    \"./experiments/version_25/result.json\",\n",
    "    \"./experiments/version_26/result.json\",\n",
    "    \"./experiments/version_27/result.json\",\n",
    "]\n",
    "\n",
    "result_dfs = []\n",
    "infos = []\n",
    "\n",
    "for path in result_file_paths:\n",
    "    with open(path, 'r') as f:\n",
    "        json_data = json.load(f)\n",
    "\n",
    "    infos.append(json_data['c2'])\n",
    "\n",
    "    tmp = []\n",
    "\n",
    "    for fold, _ in json_data[\"result\"].items():\n",
    "        result_df = pd.DataFrame(json_data['result'][fold]).T\n",
    "        tmp.append(result_df)\n",
    "\n",
    "    result_dfs.append(tmp)\n",
    "\n",
    "combined_dfs = [pd.concat(dfs, ignore_index=False) for dfs in result_dfs]\n",
    "dfs_mean = [combined_df.groupby(combined_df.index).mean() for combined_df in combined_dfs]\n",
    "dfs_std = [combined_df.groupby(combined_df.index).std() for combined_df in combined_dfs]"
   ]
  },
  {
   "cell_type": "code",
   "execution_count": 99,
   "metadata": {},
   "outputs": [
    {
     "data": {
      "application/vnd.plotly.v1+json": {
       "config": {
        "plotlyServerURL": "https://plot.ly"
       },
       "data": [
        {
         "line": {
          "color": "rgba(0,176,246,1)"
         },
         "marker": {
          "color": "rgba(0,176,246,1)"
         },
         "mode": "lines+markers",
         "name": "l-svm-p",
         "type": "scatter",
         "x": [
          0.1,
          1,
          5,
          15,
          50,
          100,
          1000
         ],
         "xaxis": "x",
         "y": [
          0.7995725755851482,
          0.6358453241603431,
          0.4818858699209846,
          0.5785274140047012,
          0.5665932051018542,
          0.625897882008155,
          0.5888981780157508
         ],
         "yaxis": "y"
        },
        {
         "line": {
          "color": "rgba(0,176,246,0.2)"
         },
         "mode": "lines",
         "showlegend": false,
         "type": "scatter",
         "x": [
          0.1,
          1,
          5,
          15,
          50,
          100,
          1000
         ],
         "xaxis": "x",
         "y": [
          0.8535454645896559,
          0.9153394644031536,
          0.7962009330441804,
          0.8096185207526512,
          0.8131933533218765,
          0.8512567200118992,
          0.9098531213794592
         ],
         "yaxis": "y"
        },
        {
         "fill": "tonexty",
         "fillcolor": "rgba(0,176,246,0.2)",
         "line": {
          "color": "rgba(255,255,255,0)"
         },
         "mode": "lines",
         "showlegend": false,
         "type": "scatter",
         "x": [
          0.1,
          1,
          5,
          15,
          50,
          100,
          1000
         ],
         "xaxis": "x",
         "y": [
          0.7455996865806405,
          0.3563511839175326,
          0.1675708067977888,
          0.34743630725675123,
          0.3199930568818319,
          0.40053904400441076,
          0.26794323465204245
         ],
         "yaxis": "y"
        },
        {
         "line": {
          "color": "rgba(231,107,243,1)"
         },
         "marker": {
          "color": "rgba(231,107,243,1)"
         },
         "mode": "lines+markers",
         "name": "r-svm-p",
         "type": "scatter",
         "x": [
          0.1,
          1,
          5,
          15,
          50,
          100,
          1000
         ],
         "xaxis": "x",
         "y": [
          0.8270060628319216,
          0.8276101406179759,
          0.8253861883440414,
          0.8218662739745808,
          0.8099667657048387,
          0.7965344798719649,
          0.7875239630161313
         ],
         "yaxis": "y"
        },
        {
         "line": {
          "color": "rgba(231,107,243,0.2)"
         },
         "mode": "lines",
         "showlegend": false,
         "type": "scatter",
         "x": [
          0.1,
          1,
          5,
          15,
          50,
          100,
          1000
         ],
         "xaxis": "x",
         "y": [
          0.8670831648023727,
          0.8689863739522343,
          0.8665109869329364,
          0.8664456728419759,
          0.8524860077550751,
          0.8359740063831043,
          0.8203394750419734
         ],
         "yaxis": "y"
        },
        {
         "fill": "tonexty",
         "fillcolor": "rgba(231,107,243,0.2)",
         "line": {
          "color": "rgba(255,255,255,0)"
         },
         "mode": "lines",
         "showlegend": false,
         "type": "scatter",
         "x": [
          0.1,
          1,
          5,
          15,
          50,
          100,
          1000
         ],
         "xaxis": "x",
         "y": [
          0.7869289608614705,
          0.7862339072837174,
          0.7842613897551465,
          0.7772868751071856,
          0.7674475236546023,
          0.7570949533608256,
          0.7547084509902892
         ],
         "yaxis": "y"
        },
        {
         "line": {
          "color": "rgba(21,213,69,1)"
         },
         "marker": {
          "color": "rgba(21,213,69,1)"
         },
         "mode": "lines+markers",
         "name": "lr-p",
         "type": "scatter",
         "x": [
          0.1,
          1,
          5,
          15,
          50,
          100,
          1000
         ],
         "xaxis": "x",
         "y": [
          0.8236400506905426,
          0.8240965064169672,
          0.8252348706991691,
          0.8283336114782051,
          0.8287965920348345,
          0.8252357956588409,
          0.809856272023936
         ],
         "yaxis": "y"
        },
        {
         "line": {
          "color": "rgba(21,213,69,0.2)"
         },
         "mode": "lines",
         "showlegend": false,
         "type": "scatter",
         "x": [
          0.1,
          1,
          5,
          15,
          50,
          100,
          1000
         ],
         "xaxis": "x",
         "y": [
          0.874768898173933,
          0.8753058527094776,
          0.876054721439343,
          0.8765927778680443,
          0.8719541096036533,
          0.8633679390825735,
          0.8378172270890545
         ],
         "yaxis": "y"
        },
        {
         "fill": "tonexty",
         "fillcolor": "rgba(21,213,69,0.2)",
         "line": {
          "color": "rgba(255,255,255,0)"
         },
         "mode": "lines",
         "showlegend": false,
         "type": "scatter",
         "x": [
          0.1,
          1,
          5,
          15,
          50,
          100,
          1000
         ],
         "xaxis": "x",
         "y": [
          0.7725112032071522,
          0.7728871601244568,
          0.7744150199589952,
          0.7800744450883658,
          0.7856390744660157,
          0.7871036522351083,
          0.7818953169588174
         ],
         "yaxis": "y"
        },
        {
         "line": {
          "color": "rgba(0,176,246,1)"
         },
         "marker": {
          "color": "rgba(0,176,246,1)"
         },
         "mode": "lines+markers",
         "name": "l-svm-p",
         "showlegend": false,
         "type": "scatter",
         "x": [
          0.1,
          1,
          5,
          15,
          50,
          100,
          1000
         ],
         "xaxis": "x2",
         "y": [
          0.6471323214780136,
          0.6316448941579199,
          0.6045588864557376,
          0.6480535628885701,
          0.6952452868181933,
          0.6574386468322888,
          0.5895396310000252
         ],
         "yaxis": "y2"
        },
        {
         "line": {
          "color": "rgba(0,176,246,0.2)"
         },
         "mode": "lines",
         "showlegend": false,
         "type": "scatter",
         "x": [
          0.1,
          1,
          5,
          15,
          50,
          100,
          1000
         ],
         "xaxis": "x2",
         "y": [
          0.7386959611963808,
          0.7281667207197855,
          0.6428444192382539,
          0.7735177455624176,
          0.8127356414959314,
          0.7391221279398376,
          0.6191141353500669
         ],
         "yaxis": "y2"
        },
        {
         "fill": "tonexty",
         "fillcolor": "rgba(0,176,246,0.2)",
         "line": {
          "color": "rgba(255,255,255,0)"
         },
         "mode": "lines",
         "showlegend": false,
         "type": "scatter",
         "x": [
          0.1,
          1,
          5,
          15,
          50,
          100,
          1000
         ],
         "xaxis": "x2",
         "y": [
          0.5555686817596464,
          0.5351230675960543,
          0.5662733536732214,
          0.5225893802147226,
          0.5777549321404553,
          0.5757551657247401,
          0.5599651266499834
         ],
         "yaxis": "y2"
        },
        {
         "line": {
          "color": "rgba(231,107,243,1)"
         },
         "marker": {
          "color": "rgba(231,107,243,1)"
         },
         "mode": "lines+markers",
         "name": "r-svm-p",
         "showlegend": false,
         "type": "scatter",
         "x": [
          0.1,
          1,
          5,
          15,
          50,
          100,
          1000
         ],
         "xaxis": "x2",
         "y": [
          0.6671041304840293,
          0.7013939439703994,
          0.722089657429082,
          0.6590968813712905,
          0.717314304412394,
          0.6707986609277857,
          0.6583805280777266
         ],
         "yaxis": "y2"
        },
        {
         "line": {
          "color": "rgba(231,107,243,0.2)"
         },
         "mode": "lines",
         "showlegend": false,
         "type": "scatter",
         "x": [
          0.1,
          1,
          5,
          15,
          50,
          100,
          1000
         ],
         "xaxis": "x2",
         "y": [
          0.7419099667554394,
          0.7964050532416822,
          0.7585988874121038,
          0.7518970479254612,
          0.7713760306148204,
          0.7780567521120303,
          0.7223354495241022
         ],
         "yaxis": "y2"
        },
        {
         "fill": "tonexty",
         "fillcolor": "rgba(231,107,243,0.2)",
         "line": {
          "color": "rgba(255,255,255,0)"
         },
         "mode": "lines",
         "showlegend": false,
         "type": "scatter",
         "x": [
          0.1,
          1,
          5,
          15,
          50,
          100,
          1000
         ],
         "xaxis": "x2",
         "y": [
          0.5922982942126191,
          0.6063828346991167,
          0.6855804274460603,
          0.5662967148171199,
          0.6632525782099675,
          0.5635405697435412,
          0.594425606631351
         ],
         "yaxis": "y2"
        },
        {
         "line": {
          "color": "rgba(21,213,69,1)"
         },
         "marker": {
          "color": "rgba(21,213,69,1)"
         },
         "mode": "lines+markers",
         "name": "lr-p",
         "showlegend": false,
         "type": "scatter",
         "x": [
          0.1,
          1,
          5,
          15,
          50,
          100,
          1000
         ],
         "xaxis": "x2",
         "y": [
          0.5395217599234816,
          0.5395217599234816,
          0.5342586020287448,
          0.5532885297893226,
          0.5654524402829167,
          0.5861199627476151,
          0.4654036094540512
         ],
         "yaxis": "y2"
        },
        {
         "line": {
          "color": "rgba(21,213,69,0.2)"
         },
         "mode": "lines",
         "showlegend": false,
         "type": "scatter",
         "x": [
          0.1,
          1,
          5,
          15,
          50,
          100,
          1000
         ],
         "xaxis": "x2",
         "y": [
          0.6476334127474546,
          0.6476334127474546,
          0.6514409314969302,
          0.6443927973070728,
          0.6505804778115243,
          0.6505236334362677,
          0.5692654749206935
         ],
         "yaxis": "y2"
        },
        {
         "fill": "tonexty",
         "fillcolor": "rgba(21,213,69,0.2)",
         "line": {
          "color": "rgba(255,255,255,0)"
         },
         "mode": "lines",
         "showlegend": false,
         "type": "scatter",
         "x": [
          0.1,
          1,
          5,
          15,
          50,
          100,
          1000
         ],
         "xaxis": "x2",
         "y": [
          0.43141010709950867,
          0.43141010709950867,
          0.41707627256055935,
          0.46218426227157255,
          0.4803244027543092,
          0.5217162920589625,
          0.3615417439874089
         ],
         "yaxis": "y2"
        }
       ],
       "layout": {
        "annotations": [
         {
          "font": {
           "color": "black",
           "size": 15
          },
          "showarrow": false,
          "text": "※ x軸は対数スケール",
          "x": 0.02,
          "xref": "paper",
          "y": 1.11,
          "yref": "paper"
         }
        ],
        "height": 400,
        "legend": {
         "orientation": "h",
         "x": 0.5,
         "y": 1.15
        },
        "template": {
         "data": {
          "bar": [
           {
            "error_x": {
             "color": "#2a3f5f"
            },
            "error_y": {
             "color": "#2a3f5f"
            },
            "marker": {
             "line": {
              "color": "#E5ECF6",
              "width": 0.5
             },
             "pattern": {
              "fillmode": "overlay",
              "size": 10,
              "solidity": 0.2
             }
            },
            "type": "bar"
           }
          ],
          "barpolar": [
           {
            "marker": {
             "line": {
              "color": "#E5ECF6",
              "width": 0.5
             },
             "pattern": {
              "fillmode": "overlay",
              "size": 10,
              "solidity": 0.2
             }
            },
            "type": "barpolar"
           }
          ],
          "carpet": [
           {
            "aaxis": {
             "endlinecolor": "#2a3f5f",
             "gridcolor": "white",
             "linecolor": "white",
             "minorgridcolor": "white",
             "startlinecolor": "#2a3f5f"
            },
            "baxis": {
             "endlinecolor": "#2a3f5f",
             "gridcolor": "white",
             "linecolor": "white",
             "minorgridcolor": "white",
             "startlinecolor": "#2a3f5f"
            },
            "type": "carpet"
           }
          ],
          "choropleth": [
           {
            "colorbar": {
             "outlinewidth": 0,
             "ticks": ""
            },
            "type": "choropleth"
           }
          ],
          "contour": [
           {
            "colorbar": {
             "outlinewidth": 0,
             "ticks": ""
            },
            "colorscale": [
             [
              0,
              "#0d0887"
             ],
             [
              0.1111111111111111,
              "#46039f"
             ],
             [
              0.2222222222222222,
              "#7201a8"
             ],
             [
              0.3333333333333333,
              "#9c179e"
             ],
             [
              0.4444444444444444,
              "#bd3786"
             ],
             [
              0.5555555555555556,
              "#d8576b"
             ],
             [
              0.6666666666666666,
              "#ed7953"
             ],
             [
              0.7777777777777778,
              "#fb9f3a"
             ],
             [
              0.8888888888888888,
              "#fdca26"
             ],
             [
              1,
              "#f0f921"
             ]
            ],
            "type": "contour"
           }
          ],
          "contourcarpet": [
           {
            "colorbar": {
             "outlinewidth": 0,
             "ticks": ""
            },
            "type": "contourcarpet"
           }
          ],
          "heatmap": [
           {
            "colorbar": {
             "outlinewidth": 0,
             "ticks": ""
            },
            "colorscale": [
             [
              0,
              "#0d0887"
             ],
             [
              0.1111111111111111,
              "#46039f"
             ],
             [
              0.2222222222222222,
              "#7201a8"
             ],
             [
              0.3333333333333333,
              "#9c179e"
             ],
             [
              0.4444444444444444,
              "#bd3786"
             ],
             [
              0.5555555555555556,
              "#d8576b"
             ],
             [
              0.6666666666666666,
              "#ed7953"
             ],
             [
              0.7777777777777778,
              "#fb9f3a"
             ],
             [
              0.8888888888888888,
              "#fdca26"
             ],
             [
              1,
              "#f0f921"
             ]
            ],
            "type": "heatmap"
           }
          ],
          "heatmapgl": [
           {
            "colorbar": {
             "outlinewidth": 0,
             "ticks": ""
            },
            "colorscale": [
             [
              0,
              "#0d0887"
             ],
             [
              0.1111111111111111,
              "#46039f"
             ],
             [
              0.2222222222222222,
              "#7201a8"
             ],
             [
              0.3333333333333333,
              "#9c179e"
             ],
             [
              0.4444444444444444,
              "#bd3786"
             ],
             [
              0.5555555555555556,
              "#d8576b"
             ],
             [
              0.6666666666666666,
              "#ed7953"
             ],
             [
              0.7777777777777778,
              "#fb9f3a"
             ],
             [
              0.8888888888888888,
              "#fdca26"
             ],
             [
              1,
              "#f0f921"
             ]
            ],
            "type": "heatmapgl"
           }
          ],
          "histogram": [
           {
            "marker": {
             "pattern": {
              "fillmode": "overlay",
              "size": 10,
              "solidity": 0.2
             }
            },
            "type": "histogram"
           }
          ],
          "histogram2d": [
           {
            "colorbar": {
             "outlinewidth": 0,
             "ticks": ""
            },
            "colorscale": [
             [
              0,
              "#0d0887"
             ],
             [
              0.1111111111111111,
              "#46039f"
             ],
             [
              0.2222222222222222,
              "#7201a8"
             ],
             [
              0.3333333333333333,
              "#9c179e"
             ],
             [
              0.4444444444444444,
              "#bd3786"
             ],
             [
              0.5555555555555556,
              "#d8576b"
             ],
             [
              0.6666666666666666,
              "#ed7953"
             ],
             [
              0.7777777777777778,
              "#fb9f3a"
             ],
             [
              0.8888888888888888,
              "#fdca26"
             ],
             [
              1,
              "#f0f921"
             ]
            ],
            "type": "histogram2d"
           }
          ],
          "histogram2dcontour": [
           {
            "colorbar": {
             "outlinewidth": 0,
             "ticks": ""
            },
            "colorscale": [
             [
              0,
              "#0d0887"
             ],
             [
              0.1111111111111111,
              "#46039f"
             ],
             [
              0.2222222222222222,
              "#7201a8"
             ],
             [
              0.3333333333333333,
              "#9c179e"
             ],
             [
              0.4444444444444444,
              "#bd3786"
             ],
             [
              0.5555555555555556,
              "#d8576b"
             ],
             [
              0.6666666666666666,
              "#ed7953"
             ],
             [
              0.7777777777777778,
              "#fb9f3a"
             ],
             [
              0.8888888888888888,
              "#fdca26"
             ],
             [
              1,
              "#f0f921"
             ]
            ],
            "type": "histogram2dcontour"
           }
          ],
          "mesh3d": [
           {
            "colorbar": {
             "outlinewidth": 0,
             "ticks": ""
            },
            "type": "mesh3d"
           }
          ],
          "parcoords": [
           {
            "line": {
             "colorbar": {
              "outlinewidth": 0,
              "ticks": ""
             }
            },
            "type": "parcoords"
           }
          ],
          "pie": [
           {
            "automargin": true,
            "type": "pie"
           }
          ],
          "scatter": [
           {
            "fillpattern": {
             "fillmode": "overlay",
             "size": 10,
             "solidity": 0.2
            },
            "type": "scatter"
           }
          ],
          "scatter3d": [
           {
            "line": {
             "colorbar": {
              "outlinewidth": 0,
              "ticks": ""
             }
            },
            "marker": {
             "colorbar": {
              "outlinewidth": 0,
              "ticks": ""
             }
            },
            "type": "scatter3d"
           }
          ],
          "scattercarpet": [
           {
            "marker": {
             "colorbar": {
              "outlinewidth": 0,
              "ticks": ""
             }
            },
            "type": "scattercarpet"
           }
          ],
          "scattergeo": [
           {
            "marker": {
             "colorbar": {
              "outlinewidth": 0,
              "ticks": ""
             }
            },
            "type": "scattergeo"
           }
          ],
          "scattergl": [
           {
            "marker": {
             "colorbar": {
              "outlinewidth": 0,
              "ticks": ""
             }
            },
            "type": "scattergl"
           }
          ],
          "scattermapbox": [
           {
            "marker": {
             "colorbar": {
              "outlinewidth": 0,
              "ticks": ""
             }
            },
            "type": "scattermapbox"
           }
          ],
          "scatterpolar": [
           {
            "marker": {
             "colorbar": {
              "outlinewidth": 0,
              "ticks": ""
             }
            },
            "type": "scatterpolar"
           }
          ],
          "scatterpolargl": [
           {
            "marker": {
             "colorbar": {
              "outlinewidth": 0,
              "ticks": ""
             }
            },
            "type": "scatterpolargl"
           }
          ],
          "scatterternary": [
           {
            "marker": {
             "colorbar": {
              "outlinewidth": 0,
              "ticks": ""
             }
            },
            "type": "scatterternary"
           }
          ],
          "surface": [
           {
            "colorbar": {
             "outlinewidth": 0,
             "ticks": ""
            },
            "colorscale": [
             [
              0,
              "#0d0887"
             ],
             [
              0.1111111111111111,
              "#46039f"
             ],
             [
              0.2222222222222222,
              "#7201a8"
             ],
             [
              0.3333333333333333,
              "#9c179e"
             ],
             [
              0.4444444444444444,
              "#bd3786"
             ],
             [
              0.5555555555555556,
              "#d8576b"
             ],
             [
              0.6666666666666666,
              "#ed7953"
             ],
             [
              0.7777777777777778,
              "#fb9f3a"
             ],
             [
              0.8888888888888888,
              "#fdca26"
             ],
             [
              1,
              "#f0f921"
             ]
            ],
            "type": "surface"
           }
          ],
          "table": [
           {
            "cells": {
             "fill": {
              "color": "#EBF0F8"
             },
             "line": {
              "color": "white"
             }
            },
            "header": {
             "fill": {
              "color": "#C8D4E3"
             },
             "line": {
              "color": "white"
             }
            },
            "type": "table"
           }
          ]
         },
         "layout": {
          "annotationdefaults": {
           "arrowcolor": "#2a3f5f",
           "arrowhead": 0,
           "arrowwidth": 1
          },
          "autotypenumbers": "strict",
          "coloraxis": {
           "colorbar": {
            "outlinewidth": 0,
            "ticks": ""
           }
          },
          "colorscale": {
           "diverging": [
            [
             0,
             "#8e0152"
            ],
            [
             0.1,
             "#c51b7d"
            ],
            [
             0.2,
             "#de77ae"
            ],
            [
             0.3,
             "#f1b6da"
            ],
            [
             0.4,
             "#fde0ef"
            ],
            [
             0.5,
             "#f7f7f7"
            ],
            [
             0.6,
             "#e6f5d0"
            ],
            [
             0.7,
             "#b8e186"
            ],
            [
             0.8,
             "#7fbc41"
            ],
            [
             0.9,
             "#4d9221"
            ],
            [
             1,
             "#276419"
            ]
           ],
           "sequential": [
            [
             0,
             "#0d0887"
            ],
            [
             0.1111111111111111,
             "#46039f"
            ],
            [
             0.2222222222222222,
             "#7201a8"
            ],
            [
             0.3333333333333333,
             "#9c179e"
            ],
            [
             0.4444444444444444,
             "#bd3786"
            ],
            [
             0.5555555555555556,
             "#d8576b"
            ],
            [
             0.6666666666666666,
             "#ed7953"
            ],
            [
             0.7777777777777778,
             "#fb9f3a"
            ],
            [
             0.8888888888888888,
             "#fdca26"
            ],
            [
             1,
             "#f0f921"
            ]
           ],
           "sequentialminus": [
            [
             0,
             "#0d0887"
            ],
            [
             0.1111111111111111,
             "#46039f"
            ],
            [
             0.2222222222222222,
             "#7201a8"
            ],
            [
             0.3333333333333333,
             "#9c179e"
            ],
            [
             0.4444444444444444,
             "#bd3786"
            ],
            [
             0.5555555555555556,
             "#d8576b"
            ],
            [
             0.6666666666666666,
             "#ed7953"
            ],
            [
             0.7777777777777778,
             "#fb9f3a"
            ],
            [
             0.8888888888888888,
             "#fdca26"
            ],
            [
             1,
             "#f0f921"
            ]
           ]
          },
          "colorway": [
           "#636efa",
           "#EF553B",
           "#00cc96",
           "#ab63fa",
           "#FFA15A",
           "#19d3f3",
           "#FF6692",
           "#B6E880",
           "#FF97FF",
           "#FECB52"
          ],
          "font": {
           "color": "#2a3f5f"
          },
          "geo": {
           "bgcolor": "white",
           "lakecolor": "white",
           "landcolor": "#E5ECF6",
           "showlakes": true,
           "showland": true,
           "subunitcolor": "white"
          },
          "hoverlabel": {
           "align": "left"
          },
          "hovermode": "closest",
          "mapbox": {
           "style": "light"
          },
          "paper_bgcolor": "white",
          "plot_bgcolor": "#E5ECF6",
          "polar": {
           "angularaxis": {
            "gridcolor": "white",
            "linecolor": "white",
            "ticks": ""
           },
           "bgcolor": "#E5ECF6",
           "radialaxis": {
            "gridcolor": "white",
            "linecolor": "white",
            "ticks": ""
           }
          },
          "scene": {
           "xaxis": {
            "backgroundcolor": "#E5ECF6",
            "gridcolor": "white",
            "gridwidth": 2,
            "linecolor": "white",
            "showbackground": true,
            "ticks": "",
            "zerolinecolor": "white"
           },
           "yaxis": {
            "backgroundcolor": "#E5ECF6",
            "gridcolor": "white",
            "gridwidth": 2,
            "linecolor": "white",
            "showbackground": true,
            "ticks": "",
            "zerolinecolor": "white"
           },
           "zaxis": {
            "backgroundcolor": "#E5ECF6",
            "gridcolor": "white",
            "gridwidth": 2,
            "linecolor": "white",
            "showbackground": true,
            "ticks": "",
            "zerolinecolor": "white"
           }
          },
          "shapedefaults": {
           "line": {
            "color": "#2a3f5f"
           }
          },
          "ternary": {
           "aaxis": {
            "gridcolor": "white",
            "linecolor": "white",
            "ticks": ""
           },
           "baxis": {
            "gridcolor": "white",
            "linecolor": "white",
            "ticks": ""
           },
           "bgcolor": "#E5ECF6",
           "caxis": {
            "gridcolor": "white",
            "linecolor": "white",
            "ticks": ""
           }
          },
          "title": {
           "x": 0.05
          },
          "xaxis": {
           "automargin": true,
           "gridcolor": "white",
           "linecolor": "white",
           "ticks": "",
           "title": {
            "standoff": 15
           },
           "zerolinecolor": "white",
           "zerolinewidth": 2
          },
          "yaxis": {
           "automargin": true,
           "gridcolor": "white",
           "linecolor": "white",
           "ticks": "",
           "title": {
            "standoff": 15
           },
           "zerolinecolor": "white",
           "zerolinewidth": 2
          }
         }
        },
        "width": 600,
        "xaxis": {
         "anchor": "y",
         "domain": [
          0,
          0.49
         ],
         "title": {
          "font": {
           "size": 16
          },
          "text": "C2"
         },
         "type": "log"
        },
        "xaxis2": {
         "anchor": "y2",
         "domain": [
          0.5,
          1
         ],
         "title": {
          "font": {
           "size": 16
          },
          "text": "C2"
         },
         "type": "log"
        },
        "yaxis": {
         "anchor": "x",
         "domain": [
          0,
          1
         ],
         "range": [
          0,
          1
         ],
         "side": "left",
         "title": {
          "font": {
           "size": 16
          },
          "text": "AUC"
         }
        },
        "yaxis2": {
         "anchor": "x2",
         "domain": [
          0,
          1
         ],
         "range": [
          0,
          1
         ],
         "side": "right",
         "title": {
          "font": {
           "size": 16
          },
          "text": "ルール違反率"
         }
        }
       }
      }
     },
     "metadata": {},
     "output_type": "display_data"
    }
   ],
   "source": [
    "import plotly.graph_objects as go\n",
    "from plotly.subplots import make_subplots\n",
    "\n",
    "\n",
    "# グラフのデータを準備\n",
    "index = ['l-svm-p', 'r-svm-p', 'lr-p']\n",
    "colors_mean = ['rgba(0,176,246,1)', 'rgba(231,107,243,1)', 'rgba(21,213,69,1)']  # indexに対応する色\n",
    "colors_std  = ['rgba(0,176,246,0.2)', 'rgba(231,107,243,0.2)', 'rgba(21,213,69,0.2)']  # indexに対応する色\n",
    "\n",
    "\n",
    "# グラフ1: AUCのデータ\n",
    "col_auc = 'auc'\n",
    "tmp_mean_auc = pd.DataFrame([\n",
    "    {info: df.loc['linear svm (L)', col_auc] for info, df in zip(infos, dfs_mean)},\n",
    "    {info: df.loc['non-linear svm (L)', col_auc] for info, df in zip(infos, dfs_mean)},\n",
    "    {info: df.loc['logistic regression (L)', col_auc] for info, df in zip(infos, dfs_mean)}\n",
    "], index=index)\n",
    "tmp_std_auc = pd.DataFrame([\n",
    "    {info: df.loc['linear svm (L)', col_auc] for info, df in zip(infos, dfs_std)},\n",
    "    {info: df.loc['non-linear svm (L)', col_auc] for info, df in zip(infos, dfs_std)},\n",
    "    {info: df.loc['logistic regression (L)', col_auc] for info, df in zip(infos, dfs_std)}\n",
    "], index=index)\n",
    "\n",
    "# グラフ2: ルール違反率のデータ\n",
    "col_vr = 'violation_rate'\n",
    "tmp_mean_vr = pd.DataFrame([\n",
    "    {info: df.loc['linear svm (L)', col_vr] for info, df in zip(infos, dfs_mean)},\n",
    "    {info: df.loc['non-linear svm (L)', col_vr] for info, df in zip(infos, dfs_mean)},\n",
    "    {info: df.loc['logistic regression (L)', col_vr] for info, df in zip(infos, dfs_mean)}\n",
    "], index=index)\n",
    "tmp_std_vr = pd.DataFrame([\n",
    "    {info: df.loc['linear svm (L)', col_vr] for info, df in zip(infos, dfs_std)},\n",
    "    {info: df.loc['non-linear svm (L)', col_vr] for info, df in zip(infos, dfs_std)},\n",
    "    {info: df.loc['logistic regression (L)', col_vr] for info, df in zip(infos, dfs_std)}\n",
    "], index=index)\n",
    "\n",
    "\n",
    "# サブプロットの作成\n",
    "# fig = make_subplots(rows=1, cols=2, subplot_titles=('AUC', 'ルール違反率'))\n",
    "fig = make_subplots(rows=1, cols=2)\n",
    "\n",
    "# グラフ1: AUC\n",
    "for i in range(len(tmp_mean_auc)):\n",
    "    fig.add_trace(\n",
    "        go.Scatter(\n",
    "            x=tmp_mean_auc.columns,\n",
    "            y=tmp_mean_auc.iloc[i, :],\n",
    "            mode='lines+markers',\n",
    "            name=tmp_mean_auc.index[i],\n",
    "            line=dict(color=colors_mean[i]),  # ラインの色を設定\n",
    "            marker=dict(color=colors_mean[i])  # マーカーの色を設定\n",
    "        ),\n",
    "        row=1, col=1\n",
    "    )\n",
    "    fig.add_trace(\n",
    "        go.Scatter(\n",
    "            x=tmp_mean_auc.columns,\n",
    "            y=tmp_mean_auc.iloc[i, :] + tmp_std_auc.iloc[i, :],\n",
    "            mode='lines',\n",
    "            line=dict(color=colors_std[i]),  # ラインの色を設定\n",
    "            showlegend=False\n",
    "        ),\n",
    "        row=1, col=1\n",
    "    )\n",
    "    fig.add_trace(\n",
    "        go.Scatter(\n",
    "            x=tmp_mean_auc.columns,\n",
    "            y=tmp_mean_auc.iloc[i, :] - tmp_std_auc.iloc[i, :],\n",
    "            mode='lines',\n",
    "            fill='tonexty',\n",
    "            fillcolor=colors_std[i],\n",
    "            line=dict(color='rgba(255,255,255,0)'),\n",
    "            showlegend=False\n",
    "        ),\n",
    "        row=1, col=1\n",
    "    )\n",
    "\n",
    "# グラフ2: ルール違反率\n",
    "for i in range(len(tmp_mean_vr)):\n",
    "    fig.add_trace(\n",
    "        go.Scatter(\n",
    "            x=tmp_mean_vr.columns,\n",
    "            y=tmp_mean_vr.iloc[i, :],\n",
    "            mode='lines+markers',\n",
    "            name=tmp_mean_vr.index[i],\n",
    "            line=dict(color=colors_mean[i]),  # ラインの色を設定\n",
    "            marker=dict(color=colors_mean[i]),  # マーカーの色を設定\n",
    "            showlegend=False\n",
    "        ),\n",
    "        row=1, col=2\n",
    "    )\n",
    "    fig.add_trace(\n",
    "        go.Scatter(\n",
    "            x=tmp_mean_vr.columns,\n",
    "            y=tmp_mean_vr.iloc[i, :] + tmp_std_vr.iloc[i, :],\n",
    "            mode='lines',\n",
    "            line=dict(color=colors_std[i]),  # ラインの色を設定\n",
    "            showlegend=False\n",
    "        ),\n",
    "        row=1, col=2\n",
    "    )\n",
    "    fig.add_trace(\n",
    "        go.Scatter(\n",
    "            x=tmp_mean_vr.columns,\n",
    "            y=tmp_mean_vr.iloc[i, :] - tmp_std_vr.iloc[i, :],\n",
    "            mode='lines',\n",
    "            fill='tonexty',\n",
    "            fillcolor=colors_std[i],\n",
    "            line=dict(color='rgba(255,255,255,0)'),\n",
    "            showlegend=False\n",
    "        ),\n",
    "        row=1, col=2\n",
    "    )\n",
    "\n",
    "# x軸の設定\n",
    "fig.update_xaxes(title_text='C2', row=1, col=1, type='log')\n",
    "fig.update_xaxes(title_text='C2', row=1, col=2, type='log')\n",
    "\n",
    "# レイアウトの設定\n",
    "fig.update_layout(\n",
    "    height=400,\n",
    "    width=600,\n",
    "    xaxis=dict(\n",
    "        domain=[0, 0.49],  # 左側のsubplotの幅を調整\n",
    "        title_font=dict(size=16)\n",
    "    ),\n",
    "    xaxis2=dict(\n",
    "        domain=[0.5, 1],  # 右側のsubplotの幅を調整\n",
    "        title_font=dict(size=16)\n",
    "    ),\n",
    "    legend=dict(\n",
    "        x=0.5,\n",
    "        y=1.15,\n",
    "        orientation='h'  # 水平配置\n",
    "    ),\n",
    "    annotations=[\n",
    "        dict(\n",
    "            xref=\"paper\",\n",
    "            yref=\"paper\",\n",
    "            x=0.02,\n",
    "            y=1.11,\n",
    "            text=\"※ x軸は対数スケール\",\n",
    "            showarrow=False,\n",
    "            font=dict(\n",
    "                size=15,\n",
    "                color=\"black\"\n",
    "            )\n",
    "        )\n",
    "    ]\n",
    ")\n",
    "\n",
    "# y軸の設定\n",
    "fig.update_yaxes(title_text='AUC', range=[0, 1], row=1, col=1, side='left', title_font=dict(size=16))  # col=1のグラフのy軸を左側に配置\n",
    "fig.update_yaxes(title_text='ルール違反率', range=[0, 1], row=1, col=2, side='right', title_font=dict(size=16))  # col=2のグラフのy軸を右側に配置\n",
    "\n",
    "# グラフの表示\n",
    "fig.show()\n"
   ]
  },
  {
   "cell_type": "markdown",
   "metadata": {},
   "source": [
    "# 4"
   ]
  },
  {
   "cell_type": "code",
   "execution_count": 100,
   "metadata": {},
   "outputs": [],
   "source": [
    "result_file_paths = [\n",
    "    \"./experiments/version_31/result.json\",\n",
    "    \"./experiments/version_32/result.json\",\n",
    "    \"./experiments/version_33/result.json\",\n",
    "    \"./experiments/version_34/result.json\",\n",
    "    \"./experiments/version_35/result.json\"\n",
    "]\n",
    "\n",
    "result_dfs = []\n",
    "infos = []\n",
    "\n",
    "for path in result_file_paths:\n",
    "    with open(path, 'r') as f:\n",
    "        json_data = json.load(f)\n",
    "\n",
    "    infos.append(json_data['n_unsupervised'])\n",
    "\n",
    "    tmp = []\n",
    "\n",
    "    for fold, _ in json_data[\"result\"].items():\n",
    "        result_df = pd.DataFrame(json_data['result'][fold]).T\n",
    "        tmp.append(result_df)\n",
    "\n",
    "    result_dfs.append(tmp)\n",
    "\n",
    "combined_dfs = [pd.concat(dfs, ignore_index=False) for dfs in result_dfs]\n",
    "dfs_mean = [combined_df.groupby(combined_df.index).mean() for combined_df in combined_dfs]\n",
    "dfs_std = [combined_df.groupby(combined_df.index).std() for combined_df in combined_dfs]"
   ]
  },
  {
   "cell_type": "code",
   "execution_count": 101,
   "metadata": {},
   "outputs": [
    {
     "data": {
      "application/vnd.plotly.v1+json": {
       "config": {
        "plotlyServerURL": "https://plot.ly"
       },
       "data": [
        {
         "line": {
          "color": "rgba(0,176,246,1)"
         },
         "marker": {
          "color": "rgba(0,176,246,1)"
         },
         "mode": "lines+markers",
         "name": "l-svm-p",
         "type": "scatter",
         "x": [
          1,
          5,
          15,
          50,
          100
         ],
         "xaxis": "x",
         "y": [
          0.7021192554170714,
          0.5329563839591671,
          0.3350001877421434,
          0.6210551554508051,
          0.370723929683394
         ],
         "yaxis": "y"
        },
        {
         "line": {
          "color": "rgba(0,176,246,0.2)"
         },
         "mode": "lines",
         "showlegend": false,
         "type": "scatter",
         "x": [
          1,
          5,
          15,
          50,
          100
         ],
         "xaxis": "x",
         "y": [
          0.8510741285494878,
          0.8682606833272515,
          0.5978787190470993,
          0.8715319077262964,
          0.6286132174057006
         ],
         "yaxis": "y"
        },
        {
         "fill": "tonexty",
         "fillcolor": "rgba(0,176,246,0.2)",
         "line": {
          "color": "rgba(255,255,255,0)"
         },
         "mode": "lines",
         "showlegend": false,
         "type": "scatter",
         "x": [
          1,
          5,
          15,
          50,
          100
         ],
         "xaxis": "x",
         "y": [
          0.553164382284655,
          0.1976520845910828,
          0.07212165643718743,
          0.37057840317531393,
          0.11283464196108739
         ],
         "yaxis": "y"
        },
        {
         "line": {
          "color": "rgba(231,107,243,1)"
         },
         "marker": {
          "color": "rgba(231,107,243,1)"
         },
         "mode": "lines+markers",
         "name": "r-svm-p",
         "type": "scatter",
         "x": [
          1,
          5,
          15,
          50,
          100
         ],
         "xaxis": "x",
         "y": [
          0.8276245600326417,
          0.8244403497878107,
          0.8208470483881685,
          0.8188575601112456,
          0.8201410618586802
         ],
         "yaxis": "y"
        },
        {
         "line": {
          "color": "rgba(231,107,243,0.2)"
         },
         "mode": "lines",
         "showlegend": false,
         "type": "scatter",
         "x": [
          1,
          5,
          15,
          50,
          100
         ],
         "xaxis": "x",
         "y": [
          0.8691417915432803,
          0.8670584622877647,
          0.8670843577087523,
          0.8624024489193777,
          0.8659491125814038
         ],
         "yaxis": "y"
        },
        {
         "fill": "tonexty",
         "fillcolor": "rgba(231,107,243,0.2)",
         "line": {
          "color": "rgba(255,255,255,0)"
         },
         "mode": "lines",
         "showlegend": false,
         "type": "scatter",
         "x": [
          1,
          5,
          15,
          50,
          100
         ],
         "xaxis": "x",
         "y": [
          0.7861073285220032,
          0.7818222372878566,
          0.7746097390675847,
          0.7753126713031134,
          0.7743330111359565
         ],
         "yaxis": "y"
        },
        {
         "line": {
          "color": "rgba(21,213,69,1)"
         },
         "marker": {
          "color": "rgba(21,213,69,1)"
         },
         "mode": "lines+markers",
         "name": "lr-p",
         "type": "scatter",
         "x": [
          1,
          5,
          15,
          50,
          100
         ],
         "xaxis": "x",
         "y": [
          0.8248572208898292,
          0.8259810013305933,
          0.8266147184864916,
          0.8274490668060535,
          0.8292212171560385
         ],
         "yaxis": "y"
        },
        {
         "line": {
          "color": "rgba(21,213,69,0.2)"
         },
         "mode": "lines",
         "showlegend": false,
         "type": "scatter",
         "x": [
          1,
          5,
          15,
          50,
          100
         ],
         "xaxis": "x",
         "y": [
          0.8762726305914204,
          0.8777582541969156,
          0.8773668800407047,
          0.8795098814252801,
          0.8779703159219278
         ],
         "yaxis": "y"
        },
        {
         "fill": "tonexty",
         "fillcolor": "rgba(21,213,69,0.2)",
         "line": {
          "color": "rgba(255,255,255,0)"
         },
         "mode": "lines",
         "showlegend": false,
         "type": "scatter",
         "x": [
          1,
          5,
          15,
          50,
          100
         ],
         "xaxis": "x",
         "y": [
          0.773441811188238,
          0.774203748464271,
          0.7758625569322785,
          0.7753882521868268,
          0.7804721183901492
         ],
         "yaxis": "y"
        },
        {
         "line": {
          "color": "rgba(0,176,246,1)"
         },
         "marker": {
          "color": "rgba(0,176,246,1)"
         },
         "mode": "lines+markers",
         "name": "l-svm-p",
         "showlegend": false,
         "type": "scatter",
         "x": [
          1,
          5,
          15,
          50,
          100
         ],
         "xaxis": "x2",
         "y": [
          0.648199934214133,
          0.5953527767118031,
          0.639276355462968,
          0.6156263362754235,
          0.6614571569541143
         ],
         "yaxis": "y2"
        },
        {
         "line": {
          "color": "rgba(0,176,246,0.2)"
         },
         "mode": "lines",
         "showlegend": false,
         "type": "scatter",
         "x": [
          1,
          5,
          15,
          50,
          100
         ],
         "xaxis": "x2",
         "y": [
          0.7423497079716251,
          0.6369303851576334,
          0.7125393888390658,
          0.7022617339461549,
          0.7406402330034794
         ],
         "yaxis": "y2"
        },
        {
         "fill": "tonexty",
         "fillcolor": "rgba(0,176,246,0.2)",
         "line": {
          "color": "rgba(255,255,255,0)"
         },
         "mode": "lines",
         "showlegend": false,
         "type": "scatter",
         "x": [
          1,
          5,
          15,
          50,
          100
         ],
         "xaxis": "x2",
         "y": [
          0.5540501604566409,
          0.5537751682659727,
          0.5660133220868703,
          0.5289909386046922,
          0.5822740809047493
         ],
         "yaxis": "y2"
        },
        {
         "line": {
          "color": "rgba(231,107,243,1)"
         },
         "marker": {
          "color": "rgba(231,107,243,1)"
         },
         "mode": "lines+markers",
         "name": "r-svm-p",
         "showlegend": false,
         "type": "scatter",
         "x": [
          1,
          5,
          15,
          50,
          100
         ],
         "xaxis": "x2",
         "y": [
          0.6923989912833727,
          0.6505024395592347,
          0.6411734554026643,
          0.6558596019955047,
          0.6161139740145826
         ],
         "yaxis": "y2"
        },
        {
         "line": {
          "color": "rgba(231,107,243,0.2)"
         },
         "mode": "lines",
         "showlegend": false,
         "type": "scatter",
         "x": [
          1,
          5,
          15,
          50,
          100
         ],
         "xaxis": "x2",
         "y": [
          0.7906654977452949,
          0.7678087514276231,
          0.7795403167350874,
          0.7236125810707588,
          0.748353188877151
         ],
         "yaxis": "y2"
        },
        {
         "fill": "tonexty",
         "fillcolor": "rgba(231,107,243,0.2)",
         "line": {
          "color": "rgba(255,255,255,0)"
         },
         "mode": "lines",
         "showlegend": false,
         "type": "scatter",
         "x": [
          1,
          5,
          15,
          50,
          100
         ],
         "xaxis": "x2",
         "y": [
          0.5941324848214504,
          0.5331961276908463,
          0.5028065940702413,
          0.5881066229202507,
          0.48387475915201417
         ],
         "yaxis": "y2"
        },
        {
         "line": {
          "color": "rgba(21,213,69,1)"
         },
         "marker": {
          "color": "rgba(21,213,69,1)"
         },
         "mode": "lines+markers",
         "name": "lr-p",
         "showlegend": false,
         "type": "scatter",
         "x": [
          1,
          5,
          15,
          50,
          100
         ],
         "xaxis": "x2",
         "y": [
          0.561855161449482,
          0.5436708513787621,
          0.5564497560440765,
          0.5726659722602927,
          0.5668551614494819
         ],
         "yaxis": "y2"
        },
        {
         "line": {
          "color": "rgba(21,213,69,0.2)"
         },
         "mode": "lines",
         "showlegend": false,
         "type": "scatter",
         "x": [
          1,
          5,
          15,
          50,
          100
         ],
         "xaxis": "x2",
         "y": [
          0.6635271178818967,
          0.647873064058284,
          0.6670491889554004,
          0.6474823662316411,
          0.6317438799009887
         ],
         "yaxis": "y2"
        },
        {
         "fill": "tonexty",
         "fillcolor": "rgba(21,213,69,0.2)",
         "line": {
          "color": "rgba(255,255,255,0)"
         },
         "mode": "lines",
         "showlegend": false,
         "type": "scatter",
         "x": [
          1,
          5,
          15,
          50,
          100
         ],
         "xaxis": "x2",
         "y": [
          0.4601832050170674,
          0.43946863869924024,
          0.44585032313275264,
          0.49784957828894427,
          0.5019664429979751
         ],
         "yaxis": "y2"
        }
       ],
       "layout": {
        "height": 400,
        "legend": {
         "orientation": "h",
         "x": 0.5,
         "y": 1.15
        },
        "template": {
         "data": {
          "bar": [
           {
            "error_x": {
             "color": "#2a3f5f"
            },
            "error_y": {
             "color": "#2a3f5f"
            },
            "marker": {
             "line": {
              "color": "#E5ECF6",
              "width": 0.5
             },
             "pattern": {
              "fillmode": "overlay",
              "size": 10,
              "solidity": 0.2
             }
            },
            "type": "bar"
           }
          ],
          "barpolar": [
           {
            "marker": {
             "line": {
              "color": "#E5ECF6",
              "width": 0.5
             },
             "pattern": {
              "fillmode": "overlay",
              "size": 10,
              "solidity": 0.2
             }
            },
            "type": "barpolar"
           }
          ],
          "carpet": [
           {
            "aaxis": {
             "endlinecolor": "#2a3f5f",
             "gridcolor": "white",
             "linecolor": "white",
             "minorgridcolor": "white",
             "startlinecolor": "#2a3f5f"
            },
            "baxis": {
             "endlinecolor": "#2a3f5f",
             "gridcolor": "white",
             "linecolor": "white",
             "minorgridcolor": "white",
             "startlinecolor": "#2a3f5f"
            },
            "type": "carpet"
           }
          ],
          "choropleth": [
           {
            "colorbar": {
             "outlinewidth": 0,
             "ticks": ""
            },
            "type": "choropleth"
           }
          ],
          "contour": [
           {
            "colorbar": {
             "outlinewidth": 0,
             "ticks": ""
            },
            "colorscale": [
             [
              0,
              "#0d0887"
             ],
             [
              0.1111111111111111,
              "#46039f"
             ],
             [
              0.2222222222222222,
              "#7201a8"
             ],
             [
              0.3333333333333333,
              "#9c179e"
             ],
             [
              0.4444444444444444,
              "#bd3786"
             ],
             [
              0.5555555555555556,
              "#d8576b"
             ],
             [
              0.6666666666666666,
              "#ed7953"
             ],
             [
              0.7777777777777778,
              "#fb9f3a"
             ],
             [
              0.8888888888888888,
              "#fdca26"
             ],
             [
              1,
              "#f0f921"
             ]
            ],
            "type": "contour"
           }
          ],
          "contourcarpet": [
           {
            "colorbar": {
             "outlinewidth": 0,
             "ticks": ""
            },
            "type": "contourcarpet"
           }
          ],
          "heatmap": [
           {
            "colorbar": {
             "outlinewidth": 0,
             "ticks": ""
            },
            "colorscale": [
             [
              0,
              "#0d0887"
             ],
             [
              0.1111111111111111,
              "#46039f"
             ],
             [
              0.2222222222222222,
              "#7201a8"
             ],
             [
              0.3333333333333333,
              "#9c179e"
             ],
             [
              0.4444444444444444,
              "#bd3786"
             ],
             [
              0.5555555555555556,
              "#d8576b"
             ],
             [
              0.6666666666666666,
              "#ed7953"
             ],
             [
              0.7777777777777778,
              "#fb9f3a"
             ],
             [
              0.8888888888888888,
              "#fdca26"
             ],
             [
              1,
              "#f0f921"
             ]
            ],
            "type": "heatmap"
           }
          ],
          "heatmapgl": [
           {
            "colorbar": {
             "outlinewidth": 0,
             "ticks": ""
            },
            "colorscale": [
             [
              0,
              "#0d0887"
             ],
             [
              0.1111111111111111,
              "#46039f"
             ],
             [
              0.2222222222222222,
              "#7201a8"
             ],
             [
              0.3333333333333333,
              "#9c179e"
             ],
             [
              0.4444444444444444,
              "#bd3786"
             ],
             [
              0.5555555555555556,
              "#d8576b"
             ],
             [
              0.6666666666666666,
              "#ed7953"
             ],
             [
              0.7777777777777778,
              "#fb9f3a"
             ],
             [
              0.8888888888888888,
              "#fdca26"
             ],
             [
              1,
              "#f0f921"
             ]
            ],
            "type": "heatmapgl"
           }
          ],
          "histogram": [
           {
            "marker": {
             "pattern": {
              "fillmode": "overlay",
              "size": 10,
              "solidity": 0.2
             }
            },
            "type": "histogram"
           }
          ],
          "histogram2d": [
           {
            "colorbar": {
             "outlinewidth": 0,
             "ticks": ""
            },
            "colorscale": [
             [
              0,
              "#0d0887"
             ],
             [
              0.1111111111111111,
              "#46039f"
             ],
             [
              0.2222222222222222,
              "#7201a8"
             ],
             [
              0.3333333333333333,
              "#9c179e"
             ],
             [
              0.4444444444444444,
              "#bd3786"
             ],
             [
              0.5555555555555556,
              "#d8576b"
             ],
             [
              0.6666666666666666,
              "#ed7953"
             ],
             [
              0.7777777777777778,
              "#fb9f3a"
             ],
             [
              0.8888888888888888,
              "#fdca26"
             ],
             [
              1,
              "#f0f921"
             ]
            ],
            "type": "histogram2d"
           }
          ],
          "histogram2dcontour": [
           {
            "colorbar": {
             "outlinewidth": 0,
             "ticks": ""
            },
            "colorscale": [
             [
              0,
              "#0d0887"
             ],
             [
              0.1111111111111111,
              "#46039f"
             ],
             [
              0.2222222222222222,
              "#7201a8"
             ],
             [
              0.3333333333333333,
              "#9c179e"
             ],
             [
              0.4444444444444444,
              "#bd3786"
             ],
             [
              0.5555555555555556,
              "#d8576b"
             ],
             [
              0.6666666666666666,
              "#ed7953"
             ],
             [
              0.7777777777777778,
              "#fb9f3a"
             ],
             [
              0.8888888888888888,
              "#fdca26"
             ],
             [
              1,
              "#f0f921"
             ]
            ],
            "type": "histogram2dcontour"
           }
          ],
          "mesh3d": [
           {
            "colorbar": {
             "outlinewidth": 0,
             "ticks": ""
            },
            "type": "mesh3d"
           }
          ],
          "parcoords": [
           {
            "line": {
             "colorbar": {
              "outlinewidth": 0,
              "ticks": ""
             }
            },
            "type": "parcoords"
           }
          ],
          "pie": [
           {
            "automargin": true,
            "type": "pie"
           }
          ],
          "scatter": [
           {
            "fillpattern": {
             "fillmode": "overlay",
             "size": 10,
             "solidity": 0.2
            },
            "type": "scatter"
           }
          ],
          "scatter3d": [
           {
            "line": {
             "colorbar": {
              "outlinewidth": 0,
              "ticks": ""
             }
            },
            "marker": {
             "colorbar": {
              "outlinewidth": 0,
              "ticks": ""
             }
            },
            "type": "scatter3d"
           }
          ],
          "scattercarpet": [
           {
            "marker": {
             "colorbar": {
              "outlinewidth": 0,
              "ticks": ""
             }
            },
            "type": "scattercarpet"
           }
          ],
          "scattergeo": [
           {
            "marker": {
             "colorbar": {
              "outlinewidth": 0,
              "ticks": ""
             }
            },
            "type": "scattergeo"
           }
          ],
          "scattergl": [
           {
            "marker": {
             "colorbar": {
              "outlinewidth": 0,
              "ticks": ""
             }
            },
            "type": "scattergl"
           }
          ],
          "scattermapbox": [
           {
            "marker": {
             "colorbar": {
              "outlinewidth": 0,
              "ticks": ""
             }
            },
            "type": "scattermapbox"
           }
          ],
          "scatterpolar": [
           {
            "marker": {
             "colorbar": {
              "outlinewidth": 0,
              "ticks": ""
             }
            },
            "type": "scatterpolar"
           }
          ],
          "scatterpolargl": [
           {
            "marker": {
             "colorbar": {
              "outlinewidth": 0,
              "ticks": ""
             }
            },
            "type": "scatterpolargl"
           }
          ],
          "scatterternary": [
           {
            "marker": {
             "colorbar": {
              "outlinewidth": 0,
              "ticks": ""
             }
            },
            "type": "scatterternary"
           }
          ],
          "surface": [
           {
            "colorbar": {
             "outlinewidth": 0,
             "ticks": ""
            },
            "colorscale": [
             [
              0,
              "#0d0887"
             ],
             [
              0.1111111111111111,
              "#46039f"
             ],
             [
              0.2222222222222222,
              "#7201a8"
             ],
             [
              0.3333333333333333,
              "#9c179e"
             ],
             [
              0.4444444444444444,
              "#bd3786"
             ],
             [
              0.5555555555555556,
              "#d8576b"
             ],
             [
              0.6666666666666666,
              "#ed7953"
             ],
             [
              0.7777777777777778,
              "#fb9f3a"
             ],
             [
              0.8888888888888888,
              "#fdca26"
             ],
             [
              1,
              "#f0f921"
             ]
            ],
            "type": "surface"
           }
          ],
          "table": [
           {
            "cells": {
             "fill": {
              "color": "#EBF0F8"
             },
             "line": {
              "color": "white"
             }
            },
            "header": {
             "fill": {
              "color": "#C8D4E3"
             },
             "line": {
              "color": "white"
             }
            },
            "type": "table"
           }
          ]
         },
         "layout": {
          "annotationdefaults": {
           "arrowcolor": "#2a3f5f",
           "arrowhead": 0,
           "arrowwidth": 1
          },
          "autotypenumbers": "strict",
          "coloraxis": {
           "colorbar": {
            "outlinewidth": 0,
            "ticks": ""
           }
          },
          "colorscale": {
           "diverging": [
            [
             0,
             "#8e0152"
            ],
            [
             0.1,
             "#c51b7d"
            ],
            [
             0.2,
             "#de77ae"
            ],
            [
             0.3,
             "#f1b6da"
            ],
            [
             0.4,
             "#fde0ef"
            ],
            [
             0.5,
             "#f7f7f7"
            ],
            [
             0.6,
             "#e6f5d0"
            ],
            [
             0.7,
             "#b8e186"
            ],
            [
             0.8,
             "#7fbc41"
            ],
            [
             0.9,
             "#4d9221"
            ],
            [
             1,
             "#276419"
            ]
           ],
           "sequential": [
            [
             0,
             "#0d0887"
            ],
            [
             0.1111111111111111,
             "#46039f"
            ],
            [
             0.2222222222222222,
             "#7201a8"
            ],
            [
             0.3333333333333333,
             "#9c179e"
            ],
            [
             0.4444444444444444,
             "#bd3786"
            ],
            [
             0.5555555555555556,
             "#d8576b"
            ],
            [
             0.6666666666666666,
             "#ed7953"
            ],
            [
             0.7777777777777778,
             "#fb9f3a"
            ],
            [
             0.8888888888888888,
             "#fdca26"
            ],
            [
             1,
             "#f0f921"
            ]
           ],
           "sequentialminus": [
            [
             0,
             "#0d0887"
            ],
            [
             0.1111111111111111,
             "#46039f"
            ],
            [
             0.2222222222222222,
             "#7201a8"
            ],
            [
             0.3333333333333333,
             "#9c179e"
            ],
            [
             0.4444444444444444,
             "#bd3786"
            ],
            [
             0.5555555555555556,
             "#d8576b"
            ],
            [
             0.6666666666666666,
             "#ed7953"
            ],
            [
             0.7777777777777778,
             "#fb9f3a"
            ],
            [
             0.8888888888888888,
             "#fdca26"
            ],
            [
             1,
             "#f0f921"
            ]
           ]
          },
          "colorway": [
           "#636efa",
           "#EF553B",
           "#00cc96",
           "#ab63fa",
           "#FFA15A",
           "#19d3f3",
           "#FF6692",
           "#B6E880",
           "#FF97FF",
           "#FECB52"
          ],
          "font": {
           "color": "#2a3f5f"
          },
          "geo": {
           "bgcolor": "white",
           "lakecolor": "white",
           "landcolor": "#E5ECF6",
           "showlakes": true,
           "showland": true,
           "subunitcolor": "white"
          },
          "hoverlabel": {
           "align": "left"
          },
          "hovermode": "closest",
          "mapbox": {
           "style": "light"
          },
          "paper_bgcolor": "white",
          "plot_bgcolor": "#E5ECF6",
          "polar": {
           "angularaxis": {
            "gridcolor": "white",
            "linecolor": "white",
            "ticks": ""
           },
           "bgcolor": "#E5ECF6",
           "radialaxis": {
            "gridcolor": "white",
            "linecolor": "white",
            "ticks": ""
           }
          },
          "scene": {
           "xaxis": {
            "backgroundcolor": "#E5ECF6",
            "gridcolor": "white",
            "gridwidth": 2,
            "linecolor": "white",
            "showbackground": true,
            "ticks": "",
            "zerolinecolor": "white"
           },
           "yaxis": {
            "backgroundcolor": "#E5ECF6",
            "gridcolor": "white",
            "gridwidth": 2,
            "linecolor": "white",
            "showbackground": true,
            "ticks": "",
            "zerolinecolor": "white"
           },
           "zaxis": {
            "backgroundcolor": "#E5ECF6",
            "gridcolor": "white",
            "gridwidth": 2,
            "linecolor": "white",
            "showbackground": true,
            "ticks": "",
            "zerolinecolor": "white"
           }
          },
          "shapedefaults": {
           "line": {
            "color": "#2a3f5f"
           }
          },
          "ternary": {
           "aaxis": {
            "gridcolor": "white",
            "linecolor": "white",
            "ticks": ""
           },
           "baxis": {
            "gridcolor": "white",
            "linecolor": "white",
            "ticks": ""
           },
           "bgcolor": "#E5ECF6",
           "caxis": {
            "gridcolor": "white",
            "linecolor": "white",
            "ticks": ""
           }
          },
          "title": {
           "x": 0.05
          },
          "xaxis": {
           "automargin": true,
           "gridcolor": "white",
           "linecolor": "white",
           "ticks": "",
           "title": {
            "standoff": 15
           },
           "zerolinecolor": "white",
           "zerolinewidth": 2
          },
          "yaxis": {
           "automargin": true,
           "gridcolor": "white",
           "linecolor": "white",
           "ticks": "",
           "title": {
            "standoff": 15
           },
           "zerolinecolor": "white",
           "zerolinewidth": 2
          }
         }
        },
        "width": 600,
        "xaxis": {
         "anchor": "y",
         "domain": [
          0,
          0.49
         ],
         "title": {
          "font": {
           "size": 16
          },
          "text": "C2"
         }
        },
        "xaxis2": {
         "anchor": "y2",
         "domain": [
          0.5,
          1
         ],
         "title": {
          "font": {
           "size": 16
          },
          "text": "C2"
         }
        },
        "yaxis": {
         "anchor": "x",
         "domain": [
          0,
          1
         ],
         "range": [
          0,
          1
         ],
         "side": "left",
         "title": {
          "font": {
           "size": 16
          },
          "text": "AUC"
         }
        },
        "yaxis2": {
         "anchor": "x2",
         "domain": [
          0,
          1
         ],
         "range": [
          0,
          1
         ],
         "side": "right",
         "title": {
          "font": {
           "size": 16
          },
          "text": "ルール違反率"
         }
        }
       }
      }
     },
     "metadata": {},
     "output_type": "display_data"
    }
   ],
   "source": [
    "import plotly.graph_objects as go\n",
    "from plotly.subplots import make_subplots\n",
    "\n",
    "\n",
    "# グラフのデータを準備\n",
    "index = ['l-svm-p', 'r-svm-p', 'lr-p']\n",
    "colors_mean = ['rgba(0,176,246,1)', 'rgba(231,107,243,1)', 'rgba(21,213,69,1)']  # indexに対応する色\n",
    "colors_std  = ['rgba(0,176,246,0.2)', 'rgba(231,107,243,0.2)', 'rgba(21,213,69,0.2)']  # indexに対応する色\n",
    "\n",
    "\n",
    "# グラフ1: AUCのデータ\n",
    "col_auc = 'auc'\n",
    "tmp_mean_auc = pd.DataFrame([\n",
    "    {info: df.loc['linear svm (L)', col_auc] for info, df in zip(infos, dfs_mean)},\n",
    "    {info: df.loc['non-linear svm (L)', col_auc] for info, df in zip(infos, dfs_mean)},\n",
    "    {info: df.loc['logistic regression (L)', col_auc] for info, df in zip(infos, dfs_mean)}\n",
    "], index=index)\n",
    "tmp_std_auc = pd.DataFrame([\n",
    "    {info: df.loc['linear svm (L)', col_auc] for info, df in zip(infos, dfs_std)},\n",
    "    {info: df.loc['non-linear svm (L)', col_auc] for info, df in zip(infos, dfs_std)},\n",
    "    {info: df.loc['logistic regression (L)', col_auc] for info, df in zip(infos, dfs_std)}\n",
    "], index=index)\n",
    "\n",
    "# グラフ2: ルール違反率のデータ\n",
    "col_vr = 'violation_rate'\n",
    "tmp_mean_vr = pd.DataFrame([\n",
    "    {info: df.loc['linear svm (L)', col_vr] for info, df in zip(infos, dfs_mean)},\n",
    "    {info: df.loc['non-linear svm (L)', col_vr] for info, df in zip(infos, dfs_mean)},\n",
    "    {info: df.loc['logistic regression (L)', col_vr] for info, df in zip(infos, dfs_mean)}\n",
    "], index=index)\n",
    "tmp_std_vr = pd.DataFrame([\n",
    "    {info: df.loc['linear svm (L)', col_vr] for info, df in zip(infos, dfs_std)},\n",
    "    {info: df.loc['non-linear svm (L)', col_vr] for info, df in zip(infos, dfs_std)},\n",
    "    {info: df.loc['logistic regression (L)', col_vr] for info, df in zip(infos, dfs_std)}\n",
    "], index=index)\n",
    "\n",
    "\n",
    "# サブプロットの作成\n",
    "# fig = make_subplots(rows=1, cols=2, subplot_titles=('AUC', 'ルール違反率'))\n",
    "fig = make_subplots(rows=1, cols=2)\n",
    "\n",
    "# グラフ1: AUC\n",
    "for i in range(len(tmp_mean_auc)):\n",
    "    fig.add_trace(\n",
    "        go.Scatter(\n",
    "            x=tmp_mean_auc.columns,\n",
    "            y=tmp_mean_auc.iloc[i, :],\n",
    "            mode='lines+markers',\n",
    "            name=tmp_mean_auc.index[i],\n",
    "            line=dict(color=colors_mean[i]),  # ラインの色を設定\n",
    "            marker=dict(color=colors_mean[i])  # マーカーの色を設定\n",
    "        ),\n",
    "        row=1, col=1\n",
    "    )\n",
    "    fig.add_trace(\n",
    "        go.Scatter(\n",
    "            x=tmp_mean_auc.columns,\n",
    "            y=tmp_mean_auc.iloc[i, :] + tmp_std_auc.iloc[i, :],\n",
    "            mode='lines',\n",
    "            line=dict(color=colors_std[i]),  # ラインの色を設定\n",
    "            showlegend=False\n",
    "        ),\n",
    "        row=1, col=1\n",
    "    )\n",
    "    fig.add_trace(\n",
    "        go.Scatter(\n",
    "            x=tmp_mean_auc.columns,\n",
    "            y=tmp_mean_auc.iloc[i, :] - tmp_std_auc.iloc[i, :],\n",
    "            mode='lines',\n",
    "            fill='tonexty',\n",
    "            fillcolor=colors_std[i],\n",
    "            line=dict(color='rgba(255,255,255,0)'),\n",
    "            showlegend=False\n",
    "        ),\n",
    "        row=1, col=1\n",
    "    )\n",
    "\n",
    "# グラフ2: ルール違反率\n",
    "for i in range(len(tmp_mean_vr)):\n",
    "    fig.add_trace(\n",
    "        go.Scatter(\n",
    "            x=tmp_mean_vr.columns,\n",
    "            y=tmp_mean_vr.iloc[i, :],\n",
    "            mode='lines+markers',\n",
    "            name=tmp_mean_vr.index[i],\n",
    "            line=dict(color=colors_mean[i]),  # ラインの色を設定\n",
    "            marker=dict(color=colors_mean[i]),  # マーカーの色を設定\n",
    "            showlegend=False\n",
    "        ),\n",
    "        row=1, col=2\n",
    "    )\n",
    "    fig.add_trace(\n",
    "        go.Scatter(\n",
    "            x=tmp_mean_vr.columns,\n",
    "            y=tmp_mean_vr.iloc[i, :] + tmp_std_vr.iloc[i, :],\n",
    "            mode='lines',\n",
    "            line=dict(color=colors_std[i]),  # ラインの色を設定\n",
    "            showlegend=False\n",
    "        ),\n",
    "        row=1, col=2\n",
    "    )\n",
    "    fig.add_trace(\n",
    "        go.Scatter(\n",
    "            x=tmp_mean_vr.columns,\n",
    "            y=tmp_mean_vr.iloc[i, :] - tmp_std_vr.iloc[i, :],\n",
    "            mode='lines',\n",
    "            fill='tonexty',\n",
    "            fillcolor=colors_std[i],\n",
    "            line=dict(color='rgba(255,255,255,0)'),\n",
    "            showlegend=False\n",
    "        ),\n",
    "        row=1, col=2\n",
    "    )\n",
    "\n",
    "# x軸の設定\n",
    "fig.update_xaxes(title_text='C2', row=1, col=1)\n",
    "fig.update_xaxes(title_text='C2', row=1, col=2)\n",
    "\n",
    "# レイアウトの設定\n",
    "fig.update_layout(\n",
    "    height=400,\n",
    "    width=600,\n",
    "    xaxis=dict(\n",
    "        domain=[0, 0.49],  # 左側のsubplotの幅を調整\n",
    "        title_font=dict(size=16)\n",
    "    ),\n",
    "    xaxis2=dict(\n",
    "        domain=[0.5, 1],  # 右側のsubplotの幅を調整\n",
    "        title_font=dict(size=16)\n",
    "    ),\n",
    "    legend=dict(\n",
    "        x=0.5,\n",
    "        y=1.15,\n",
    "        orientation='h'  # 水平配置\n",
    "    ),\n",
    ")\n",
    "\n",
    "# y軸の設定\n",
    "fig.update_yaxes(title_text='AUC', range=[0, 1], row=1, col=1, side='left', title_font=dict(size=16))  # col=1のグラフのy軸を左側に配置\n",
    "fig.update_yaxes(title_text='ルール違反率', range=[0, 1], row=1, col=2, side='right', title_font=dict(size=16))  # col=2のグラフのy軸を右側に配置\n",
    "\n",
    "# グラフの表示\n",
    "fig.show()"
   ]
  },
  {
   "cell_type": "code",
   "execution_count": null,
   "metadata": {},
   "outputs": [],
   "source": []
  },
  {
   "cell_type": "code",
   "execution_count": null,
   "metadata": {},
   "outputs": [],
   "source": []
  }
 ],
 "metadata": {
  "kernelspec": {
   "display_name": "myenv",
   "language": "python",
   "name": "python3"
  },
  "language_info": {
   "codemirror_mode": {
    "name": "ipython",
    "version": 3
   },
   "file_extension": ".py",
   "mimetype": "text/x-python",
   "name": "python",
   "nbconvert_exporter": "python",
   "pygments_lexer": "ipython3",
   "version": "3.11.6"
  }
 },
 "nbformat": 4,
 "nbformat_minor": 2
}
