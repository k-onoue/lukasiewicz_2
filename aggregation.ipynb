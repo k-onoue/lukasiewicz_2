{
 "cells": [
  {
   "cell_type": "markdown",
   "metadata": {},
   "source": [
    "# 1"
   ]
  },
  {
   "cell_type": "code",
   "execution_count": 1,
   "metadata": {},
   "outputs": [],
   "source": [
    "import json\n",
    "import pandas as pd"
   ]
  },
  {
   "cell_type": "code",
   "execution_count": 26,
   "metadata": {},
   "outputs": [],
   "source": [
    "result_file_path = \"./experiments/result_1.json\"\n",
    "\n",
    "with open(result_file_path, 'r') as f:\n",
    "    json_data = json.load(f)\n",
    "\n",
    "result_dfs = []\n",
    "\n",
    "for fold, _ in json_data[\"result\"].items():\n",
    "    result_df = pd.DataFrame(json_data['result'][fold]).T\n",
    "    result_dfs.append(result_df)"
   ]
  },
  {
   "cell_type": "code",
   "execution_count": 44,
   "metadata": {},
   "outputs": [
    {
     "data": {
      "text/plain": [
       "Index(['linear svm (L)', 'non-linear svm (L)', 'linear svm', 'non-linear svm',\n",
       "       'RuleFit Classifier (disc)', 'tree generator (disc)',\n",
       "       'RuleFit Classifier (conti)', 'tree generator (conti)'],\n",
       "      dtype='object')"
      ]
     },
     "execution_count": 44,
     "metadata": {},
     "output_type": "execute_result"
    }
   ],
   "source": [
    "original_idx_order = result_dfs[0].index\n",
    "original_idx_order"
   ]
  },
  {
   "cell_type": "code",
   "execution_count": 46,
   "metadata": {},
   "outputs": [],
   "source": [
    "combined_df = pd.concat(result_dfs, ignore_index=False)"
   ]
  },
  {
   "cell_type": "code",
   "execution_count": 45,
   "metadata": {},
   "outputs": [
    {
     "data": {
      "text/html": [
       "<div>\n",
       "<style scoped>\n",
       "    .dataframe tbody tr th:only-of-type {\n",
       "        vertical-align: middle;\n",
       "    }\n",
       "\n",
       "    .dataframe tbody tr th {\n",
       "        vertical-align: top;\n",
       "    }\n",
       "\n",
       "    .dataframe thead th {\n",
       "        text-align: right;\n",
       "    }\n",
       "</style>\n",
       "<table border=\"1\" class=\"dataframe\">\n",
       "  <thead>\n",
       "    <tr style=\"text-align: right;\">\n",
       "      <th></th>\n",
       "      <th>accuracy</th>\n",
       "      <th>precision</th>\n",
       "      <th>recall</th>\n",
       "      <th>f1</th>\n",
       "      <th>auc</th>\n",
       "      <th>n_violation</th>\n",
       "      <th>n_rule</th>\n",
       "      <th>violation_rate</th>\n",
       "    </tr>\n",
       "  </thead>\n",
       "  <tbody>\n",
       "    <tr>\n",
       "      <th>linear svm (L)</th>\n",
       "      <td>0.679104</td>\n",
       "      <td>0.511471</td>\n",
       "      <td>0.714828</td>\n",
       "      <td>0.587424</td>\n",
       "      <td>0.776893</td>\n",
       "      <td>14.6</td>\n",
       "      <td>24.0</td>\n",
       "      <td>0.608333</td>\n",
       "    </tr>\n",
       "    <tr>\n",
       "      <th>non-linear svm (L)</th>\n",
       "      <td>0.720896</td>\n",
       "      <td>0.550321</td>\n",
       "      <td>0.765047</td>\n",
       "      <td>0.637124</td>\n",
       "      <td>0.819966</td>\n",
       "      <td>13.2</td>\n",
       "      <td>24.0</td>\n",
       "      <td>0.550000</td>\n",
       "    </tr>\n",
       "    <tr>\n",
       "      <th>linear svm</th>\n",
       "      <td>0.779104</td>\n",
       "      <td>0.711436</td>\n",
       "      <td>0.551175</td>\n",
       "      <td>0.618693</td>\n",
       "      <td>0.837805</td>\n",
       "      <td>18.6</td>\n",
       "      <td>24.0</td>\n",
       "      <td>0.775000</td>\n",
       "    </tr>\n",
       "    <tr>\n",
       "      <th>non-linear svm</th>\n",
       "      <td>0.780597</td>\n",
       "      <td>0.759070</td>\n",
       "      <td>0.479714</td>\n",
       "      <td>0.587201</td>\n",
       "      <td>0.838064</td>\n",
       "      <td>20.6</td>\n",
       "      <td>24.0</td>\n",
       "      <td>0.858333</td>\n",
       "    </tr>\n",
       "    <tr>\n",
       "      <th>RuleFit Classifier (disc)</th>\n",
       "      <td>0.783582</td>\n",
       "      <td>0.742431</td>\n",
       "      <td>0.521271</td>\n",
       "      <td>0.610252</td>\n",
       "      <td>0.815865</td>\n",
       "      <td>16.6</td>\n",
       "      <td>24.0</td>\n",
       "      <td>0.691667</td>\n",
       "    </tr>\n",
       "    <tr>\n",
       "      <th>tree generator (disc)</th>\n",
       "      <td>0.741791</td>\n",
       "      <td>0.627843</td>\n",
       "      <td>0.557706</td>\n",
       "      <td>0.582608</td>\n",
       "      <td>0.772322</td>\n",
       "      <td>16.8</td>\n",
       "      <td>24.0</td>\n",
       "      <td>0.700000</td>\n",
       "    </tr>\n",
       "    <tr>\n",
       "      <th>RuleFit Classifier (conti)</th>\n",
       "      <td>0.732836</td>\n",
       "      <td>0.601979</td>\n",
       "      <td>0.553471</td>\n",
       "      <td>0.571908</td>\n",
       "      <td>0.795116</td>\n",
       "      <td>20.2</td>\n",
       "      <td>24.0</td>\n",
       "      <td>0.841667</td>\n",
       "    </tr>\n",
       "    <tr>\n",
       "      <th>tree generator (conti)</th>\n",
       "      <td>0.782090</td>\n",
       "      <td>0.715158</td>\n",
       "      <td>0.568106</td>\n",
       "      <td>0.627460</td>\n",
       "      <td>0.832600</td>\n",
       "      <td>19.4</td>\n",
       "      <td>24.0</td>\n",
       "      <td>0.808333</td>\n",
       "    </tr>\n",
       "  </tbody>\n",
       "</table>\n",
       "</div>"
      ],
      "text/plain": [
       "                            accuracy  precision    recall        f1       auc  \\\n",
       "linear svm (L)              0.679104   0.511471  0.714828  0.587424  0.776893   \n",
       "non-linear svm (L)          0.720896   0.550321  0.765047  0.637124  0.819966   \n",
       "linear svm                  0.779104   0.711436  0.551175  0.618693  0.837805   \n",
       "non-linear svm              0.780597   0.759070  0.479714  0.587201  0.838064   \n",
       "RuleFit Classifier (disc)   0.783582   0.742431  0.521271  0.610252  0.815865   \n",
       "tree generator (disc)       0.741791   0.627843  0.557706  0.582608  0.772322   \n",
       "RuleFit Classifier (conti)  0.732836   0.601979  0.553471  0.571908  0.795116   \n",
       "tree generator (conti)      0.782090   0.715158  0.568106  0.627460  0.832600   \n",
       "\n",
       "                            n_violation  n_rule  violation_rate  \n",
       "linear svm (L)                     14.6    24.0        0.608333  \n",
       "non-linear svm (L)                 13.2    24.0        0.550000  \n",
       "linear svm                         18.6    24.0        0.775000  \n",
       "non-linear svm                     20.6    24.0        0.858333  \n",
       "RuleFit Classifier (disc)          16.6    24.0        0.691667  \n",
       "tree generator (disc)              16.8    24.0        0.700000  \n",
       "RuleFit Classifier (conti)         20.2    24.0        0.841667  \n",
       "tree generator (conti)             19.4    24.0        0.808333  "
      ]
     },
     "execution_count": 45,
     "metadata": {},
     "output_type": "execute_result"
    }
   ],
   "source": [
    "result_df_mean = combined_df.groupby(combined_df.index).mean()\n",
    "result_df_mean  = result_df_mean.reindex(original_idx_order)\n",
    "result_df_mean"
   ]
  },
  {
   "cell_type": "code",
   "execution_count": 48,
   "metadata": {},
   "outputs": [
    {
     "data": {
      "text/html": [
       "<div>\n",
       "<style scoped>\n",
       "    .dataframe tbody tr th:only-of-type {\n",
       "        vertical-align: middle;\n",
       "    }\n",
       "\n",
       "    .dataframe tbody tr th {\n",
       "        vertical-align: top;\n",
       "    }\n",
       "\n",
       "    .dataframe thead th {\n",
       "        text-align: right;\n",
       "    }\n",
       "</style>\n",
       "<table border=\"1\" class=\"dataframe\">\n",
       "  <thead>\n",
       "    <tr style=\"text-align: right;\">\n",
       "      <th></th>\n",
       "      <th>accuracy</th>\n",
       "      <th>precision</th>\n",
       "      <th>recall</th>\n",
       "      <th>f1</th>\n",
       "      <th>auc</th>\n",
       "      <th>n_violation</th>\n",
       "      <th>n_rule</th>\n",
       "      <th>violation_rate</th>\n",
       "    </tr>\n",
       "  </thead>\n",
       "  <tbody>\n",
       "    <tr>\n",
       "      <th>linear svm (L)</th>\n",
       "      <td>0.051433</td>\n",
       "      <td>0.067943</td>\n",
       "      <td>0.137452</td>\n",
       "      <td>0.046591</td>\n",
       "      <td>0.057555</td>\n",
       "      <td>1.140175</td>\n",
       "      <td>0.0</td>\n",
       "      <td>0.047507</td>\n",
       "    </tr>\n",
       "    <tr>\n",
       "      <th>non-linear svm (L)</th>\n",
       "      <td>0.044962</td>\n",
       "      <td>0.028969</td>\n",
       "      <td>0.122589</td>\n",
       "      <td>0.051143</td>\n",
       "      <td>0.048275</td>\n",
       "      <td>0.836660</td>\n",
       "      <td>0.0</td>\n",
       "      <td>0.034861</td>\n",
       "    </tr>\n",
       "    <tr>\n",
       "      <th>linear svm</th>\n",
       "      <td>0.053711</td>\n",
       "      <td>0.048340</td>\n",
       "      <td>0.086460</td>\n",
       "      <td>0.061671</td>\n",
       "      <td>0.045376</td>\n",
       "      <td>1.949359</td>\n",
       "      <td>0.0</td>\n",
       "      <td>0.081223</td>\n",
       "    </tr>\n",
       "    <tr>\n",
       "      <th>non-linear svm</th>\n",
       "      <td>0.046485</td>\n",
       "      <td>0.057760</td>\n",
       "      <td>0.048936</td>\n",
       "      <td>0.050200</td>\n",
       "      <td>0.048697</td>\n",
       "      <td>1.140175</td>\n",
       "      <td>0.0</td>\n",
       "      <td>0.047507</td>\n",
       "    </tr>\n",
       "    <tr>\n",
       "      <th>RuleFit Classifier (disc)</th>\n",
       "      <td>0.044776</td>\n",
       "      <td>0.048551</td>\n",
       "      <td>0.064326</td>\n",
       "      <td>0.044856</td>\n",
       "      <td>0.051296</td>\n",
       "      <td>1.140175</td>\n",
       "      <td>0.0</td>\n",
       "      <td>0.047507</td>\n",
       "    </tr>\n",
       "    <tr>\n",
       "      <th>tree generator (disc)</th>\n",
       "      <td>0.049950</td>\n",
       "      <td>0.094845</td>\n",
       "      <td>0.077244</td>\n",
       "      <td>0.037668</td>\n",
       "      <td>0.049073</td>\n",
       "      <td>1.095445</td>\n",
       "      <td>0.0</td>\n",
       "      <td>0.045644</td>\n",
       "    </tr>\n",
       "    <tr>\n",
       "      <th>RuleFit Classifier (conti)</th>\n",
       "      <td>0.040326</td>\n",
       "      <td>0.076503</td>\n",
       "      <td>0.064527</td>\n",
       "      <td>0.037194</td>\n",
       "      <td>0.032516</td>\n",
       "      <td>2.489980</td>\n",
       "      <td>0.0</td>\n",
       "      <td>0.103749</td>\n",
       "    </tr>\n",
       "    <tr>\n",
       "      <th>tree generator (conti)</th>\n",
       "      <td>0.037089</td>\n",
       "      <td>0.071703</td>\n",
       "      <td>0.076514</td>\n",
       "      <td>0.029962</td>\n",
       "      <td>0.039969</td>\n",
       "      <td>3.130495</td>\n",
       "      <td>0.0</td>\n",
       "      <td>0.130437</td>\n",
       "    </tr>\n",
       "  </tbody>\n",
       "</table>\n",
       "</div>"
      ],
      "text/plain": [
       "                            accuracy  precision    recall        f1       auc  \\\n",
       "linear svm (L)              0.051433   0.067943  0.137452  0.046591  0.057555   \n",
       "non-linear svm (L)          0.044962   0.028969  0.122589  0.051143  0.048275   \n",
       "linear svm                  0.053711   0.048340  0.086460  0.061671  0.045376   \n",
       "non-linear svm              0.046485   0.057760  0.048936  0.050200  0.048697   \n",
       "RuleFit Classifier (disc)   0.044776   0.048551  0.064326  0.044856  0.051296   \n",
       "tree generator (disc)       0.049950   0.094845  0.077244  0.037668  0.049073   \n",
       "RuleFit Classifier (conti)  0.040326   0.076503  0.064527  0.037194  0.032516   \n",
       "tree generator (conti)      0.037089   0.071703  0.076514  0.029962  0.039969   \n",
       "\n",
       "                            n_violation  n_rule  violation_rate  \n",
       "linear svm (L)                 1.140175     0.0        0.047507  \n",
       "non-linear svm (L)             0.836660     0.0        0.034861  \n",
       "linear svm                     1.949359     0.0        0.081223  \n",
       "non-linear svm                 1.140175     0.0        0.047507  \n",
       "RuleFit Classifier (disc)      1.140175     0.0        0.047507  \n",
       "tree generator (disc)          1.095445     0.0        0.045644  \n",
       "RuleFit Classifier (conti)     2.489980     0.0        0.103749  \n",
       "tree generator (conti)         3.130495     0.0        0.130437  "
      ]
     },
     "execution_count": 48,
     "metadata": {},
     "output_type": "execute_result"
    }
   ],
   "source": [
    "result_df_std = combined_df.groupby(combined_df.index).std()\n",
    "result_df_std = result_df_std.reindex(original_idx_order)\n",
    "result_df_std"
   ]
  },
  {
   "cell_type": "code",
   "execution_count": 49,
   "metadata": {},
   "outputs": [
    {
     "name": "stdout",
     "output_type": "stream",
     "text": [
      "                            accuracy  precision    recall        f1       auc  \\\n",
      "linear svm (L)              0.679104   0.511471  0.714828  0.587424  0.776893   \n",
      "non-linear svm (L)          0.720896   0.550321  0.765047  0.637124  0.819966   \n",
      "linear svm                  0.779104   0.711436  0.551175  0.618693  0.837805   \n",
      "non-linear svm              0.780597   0.759070  0.479714  0.587201  0.838064   \n",
      "RuleFit Classifier (disc)   0.783582   0.742431  0.521271  0.610252  0.815865   \n",
      "tree generator (disc)       0.741791   0.627843  0.557706  0.582608  0.772322   \n",
      "RuleFit Classifier (conti)  0.732836   0.601979  0.553471  0.571908  0.795116   \n",
      "tree generator (conti)      0.782090   0.715158  0.568106  0.627460  0.832600   \n",
      "\n",
      "                            n_violation  n_rule  violation_rate  \n",
      "linear svm (L)                     14.6    24.0        0.608333  \n",
      "non-linear svm (L)                 13.2    24.0        0.550000  \n",
      "linear svm                         18.6    24.0        0.775000  \n",
      "non-linear svm                     20.6    24.0        0.858333  \n",
      "RuleFit Classifier (disc)          16.6    24.0        0.691667  \n",
      "tree generator (disc)              16.8    24.0        0.700000  \n",
      "RuleFit Classifier (conti)         20.2    24.0        0.841667  \n",
      "tree generator (conti)             19.4    24.0        0.808333  \n"
     ]
    }
   ],
   "source": [
    "print(result_df_mean)"
   ]
  },
  {
   "cell_type": "code",
   "execution_count": 50,
   "metadata": {},
   "outputs": [
    {
     "name": "stdout",
     "output_type": "stream",
     "text": [
      "                            accuracy  precision    recall        f1       auc  \\\n",
      "linear svm (L)              0.051433   0.067943  0.137452  0.046591  0.057555   \n",
      "non-linear svm (L)          0.044962   0.028969  0.122589  0.051143  0.048275   \n",
      "linear svm                  0.053711   0.048340  0.086460  0.061671  0.045376   \n",
      "non-linear svm              0.046485   0.057760  0.048936  0.050200  0.048697   \n",
      "RuleFit Classifier (disc)   0.044776   0.048551  0.064326  0.044856  0.051296   \n",
      "tree generator (disc)       0.049950   0.094845  0.077244  0.037668  0.049073   \n",
      "RuleFit Classifier (conti)  0.040326   0.076503  0.064527  0.037194  0.032516   \n",
      "tree generator (conti)      0.037089   0.071703  0.076514  0.029962  0.039969   \n",
      "\n",
      "                            n_violation  n_rule  violation_rate  \n",
      "linear svm (L)                 1.140175     0.0        0.047507  \n",
      "non-linear svm (L)             0.836660     0.0        0.034861  \n",
      "linear svm                     1.949359     0.0        0.081223  \n",
      "non-linear svm                 1.140175     0.0        0.047507  \n",
      "RuleFit Classifier (disc)      1.140175     0.0        0.047507  \n",
      "tree generator (disc)          1.095445     0.0        0.045644  \n",
      "RuleFit Classifier (conti)     2.489980     0.0        0.103749  \n",
      "tree generator (conti)         3.130495     0.0        0.130437  \n"
     ]
    }
   ],
   "source": [
    "print(result_df_std)"
   ]
  },
  {
   "cell_type": "code",
   "execution_count": 54,
   "metadata": {},
   "outputs": [
    {
     "name": "stdout",
     "output_type": "stream",
     "text": [
      "                                 accuracy      precision         recall  \\\n",
      "linear svm (L)              0.679 ± 0.051  0.511 ± 0.068  0.715 ± 0.137   \n",
      "non-linear svm (L)          0.721 ± 0.045  0.550 ± 0.029  0.765 ± 0.123   \n",
      "linear svm                  0.779 ± 0.054  0.711 ± 0.048  0.551 ± 0.086   \n",
      "non-linear svm              0.781 ± 0.046  0.759 ± 0.058  0.480 ± 0.049   \n",
      "RuleFit Classifier (disc)   0.784 ± 0.045  0.742 ± 0.049  0.521 ± 0.064   \n",
      "tree generator (disc)       0.742 ± 0.050  0.628 ± 0.095  0.558 ± 0.077   \n",
      "RuleFit Classifier (conti)  0.733 ± 0.040  0.602 ± 0.077  0.553 ± 0.065   \n",
      "tree generator (conti)      0.782 ± 0.037  0.715 ± 0.072  0.568 ± 0.077   \n",
      "\n",
      "                                       f1            auc     n_violation  \\\n",
      "linear svm (L)              0.587 ± 0.047  0.777 ± 0.058  14.600 ± 1.140   \n",
      "non-linear svm (L)          0.637 ± 0.051  0.820 ± 0.048  13.200 ± 0.837   \n",
      "linear svm                  0.619 ± 0.062  0.838 ± 0.045  18.600 ± 1.949   \n",
      "non-linear svm              0.587 ± 0.050  0.838 ± 0.049  20.600 ± 1.140   \n",
      "RuleFit Classifier (disc)   0.610 ± 0.045  0.816 ± 0.051  16.600 ± 1.140   \n",
      "tree generator (disc)       0.583 ± 0.038  0.772 ± 0.049  16.800 ± 1.095   \n",
      "RuleFit Classifier (conti)  0.572 ± 0.037  0.795 ± 0.033  20.200 ± 2.490   \n",
      "tree generator (conti)      0.627 ± 0.030  0.833 ± 0.040  19.400 ± 3.130   \n",
      "\n",
      "                                    n_rule violation_rate  \n",
      "linear svm (L)              24.000 ± 0.000  0.608 ± 0.048  \n",
      "non-linear svm (L)          24.000 ± 0.000  0.550 ± 0.035  \n",
      "linear svm                  24.000 ± 0.000  0.775 ± 0.081  \n",
      "non-linear svm              24.000 ± 0.000  0.858 ± 0.048  \n",
      "RuleFit Classifier (disc)   24.000 ± 0.000  0.692 ± 0.048  \n",
      "tree generator (disc)       24.000 ± 0.000  0.700 ± 0.046  \n",
      "RuleFit Classifier (conti)  24.000 ± 0.000  0.842 ± 0.104  \n",
      "tree generator (conti)      24.000 ± 0.000  0.808 ± 0.130  \n"
     ]
    }
   ],
   "source": [
    "# データフレームを結合して、指定された形式で値を表示する\n",
    "df1 = result_df_mean\n",
    "df2 = result_df_std\n",
    "\n",
    "merged_df = df1.copy()\n",
    "for col in df1.columns:\n",
    "    merged_df[col] = df1[col].apply(lambda x: \"{:.3f}\".format(x)) + ' ± ' + df2[col].apply(lambda x: \"{:.3f}\".format(x))\n",
    "\n",
    "print(merged_df)"
   ]
  },
  {
   "cell_type": "code",
   "execution_count": 55,
   "metadata": {},
   "outputs": [
    {
     "data": {
      "text/html": [
       "<div>\n",
       "<style scoped>\n",
       "    .dataframe tbody tr th:only-of-type {\n",
       "        vertical-align: middle;\n",
       "    }\n",
       "\n",
       "    .dataframe tbody tr th {\n",
       "        vertical-align: top;\n",
       "    }\n",
       "\n",
       "    .dataframe thead th {\n",
       "        text-align: right;\n",
       "    }\n",
       "</style>\n",
       "<table border=\"1\" class=\"dataframe\">\n",
       "  <thead>\n",
       "    <tr style=\"text-align: right;\">\n",
       "      <th></th>\n",
       "      <th>accuracy</th>\n",
       "      <th>precision</th>\n",
       "      <th>recall</th>\n",
       "      <th>f1</th>\n",
       "      <th>auc</th>\n",
       "      <th>n_violation</th>\n",
       "      <th>n_rule</th>\n",
       "      <th>violation_rate</th>\n",
       "    </tr>\n",
       "  </thead>\n",
       "  <tbody>\n",
       "    <tr>\n",
       "      <th>linear svm (L)</th>\n",
       "      <td>0.679 ± 0.051</td>\n",
       "      <td>0.511 ± 0.068</td>\n",
       "      <td>0.715 ± 0.137</td>\n",
       "      <td>0.587 ± 0.047</td>\n",
       "      <td>0.777 ± 0.058</td>\n",
       "      <td>14.600 ± 1.140</td>\n",
       "      <td>24.000 ± 0.000</td>\n",
       "      <td>0.608 ± 0.048</td>\n",
       "    </tr>\n",
       "    <tr>\n",
       "      <th>non-linear svm (L)</th>\n",
       "      <td>0.721 ± 0.045</td>\n",
       "      <td>0.550 ± 0.029</td>\n",
       "      <td>0.765 ± 0.123</td>\n",
       "      <td>0.637 ± 0.051</td>\n",
       "      <td>0.820 ± 0.048</td>\n",
       "      <td>13.200 ± 0.837</td>\n",
       "      <td>24.000 ± 0.000</td>\n",
       "      <td>0.550 ± 0.035</td>\n",
       "    </tr>\n",
       "    <tr>\n",
       "      <th>linear svm</th>\n",
       "      <td>0.779 ± 0.054</td>\n",
       "      <td>0.711 ± 0.048</td>\n",
       "      <td>0.551 ± 0.086</td>\n",
       "      <td>0.619 ± 0.062</td>\n",
       "      <td>0.838 ± 0.045</td>\n",
       "      <td>18.600 ± 1.949</td>\n",
       "      <td>24.000 ± 0.000</td>\n",
       "      <td>0.775 ± 0.081</td>\n",
       "    </tr>\n",
       "    <tr>\n",
       "      <th>non-linear svm</th>\n",
       "      <td>0.781 ± 0.046</td>\n",
       "      <td>0.759 ± 0.058</td>\n",
       "      <td>0.480 ± 0.049</td>\n",
       "      <td>0.587 ± 0.050</td>\n",
       "      <td>0.838 ± 0.049</td>\n",
       "      <td>20.600 ± 1.140</td>\n",
       "      <td>24.000 ± 0.000</td>\n",
       "      <td>0.858 ± 0.048</td>\n",
       "    </tr>\n",
       "    <tr>\n",
       "      <th>RuleFit Classifier (disc)</th>\n",
       "      <td>0.784 ± 0.045</td>\n",
       "      <td>0.742 ± 0.049</td>\n",
       "      <td>0.521 ± 0.064</td>\n",
       "      <td>0.610 ± 0.045</td>\n",
       "      <td>0.816 ± 0.051</td>\n",
       "      <td>16.600 ± 1.140</td>\n",
       "      <td>24.000 ± 0.000</td>\n",
       "      <td>0.692 ± 0.048</td>\n",
       "    </tr>\n",
       "    <tr>\n",
       "      <th>tree generator (disc)</th>\n",
       "      <td>0.742 ± 0.050</td>\n",
       "      <td>0.628 ± 0.095</td>\n",
       "      <td>0.558 ± 0.077</td>\n",
       "      <td>0.583 ± 0.038</td>\n",
       "      <td>0.772 ± 0.049</td>\n",
       "      <td>16.800 ± 1.095</td>\n",
       "      <td>24.000 ± 0.000</td>\n",
       "      <td>0.700 ± 0.046</td>\n",
       "    </tr>\n",
       "    <tr>\n",
       "      <th>RuleFit Classifier (conti)</th>\n",
       "      <td>0.733 ± 0.040</td>\n",
       "      <td>0.602 ± 0.077</td>\n",
       "      <td>0.553 ± 0.065</td>\n",
       "      <td>0.572 ± 0.037</td>\n",
       "      <td>0.795 ± 0.033</td>\n",
       "      <td>20.200 ± 2.490</td>\n",
       "      <td>24.000 ± 0.000</td>\n",
       "      <td>0.842 ± 0.104</td>\n",
       "    </tr>\n",
       "    <tr>\n",
       "      <th>tree generator (conti)</th>\n",
       "      <td>0.782 ± 0.037</td>\n",
       "      <td>0.715 ± 0.072</td>\n",
       "      <td>0.568 ± 0.077</td>\n",
       "      <td>0.627 ± 0.030</td>\n",
       "      <td>0.833 ± 0.040</td>\n",
       "      <td>19.400 ± 3.130</td>\n",
       "      <td>24.000 ± 0.000</td>\n",
       "      <td>0.808 ± 0.130</td>\n",
       "    </tr>\n",
       "  </tbody>\n",
       "</table>\n",
       "</div>"
      ],
      "text/plain": [
       "                                 accuracy      precision         recall  \\\n",
       "linear svm (L)              0.679 ± 0.051  0.511 ± 0.068  0.715 ± 0.137   \n",
       "non-linear svm (L)          0.721 ± 0.045  0.550 ± 0.029  0.765 ± 0.123   \n",
       "linear svm                  0.779 ± 0.054  0.711 ± 0.048  0.551 ± 0.086   \n",
       "non-linear svm              0.781 ± 0.046  0.759 ± 0.058  0.480 ± 0.049   \n",
       "RuleFit Classifier (disc)   0.784 ± 0.045  0.742 ± 0.049  0.521 ± 0.064   \n",
       "tree generator (disc)       0.742 ± 0.050  0.628 ± 0.095  0.558 ± 0.077   \n",
       "RuleFit Classifier (conti)  0.733 ± 0.040  0.602 ± 0.077  0.553 ± 0.065   \n",
       "tree generator (conti)      0.782 ± 0.037  0.715 ± 0.072  0.568 ± 0.077   \n",
       "\n",
       "                                       f1            auc     n_violation  \\\n",
       "linear svm (L)              0.587 ± 0.047  0.777 ± 0.058  14.600 ± 1.140   \n",
       "non-linear svm (L)          0.637 ± 0.051  0.820 ± 0.048  13.200 ± 0.837   \n",
       "linear svm                  0.619 ± 0.062  0.838 ± 0.045  18.600 ± 1.949   \n",
       "non-linear svm              0.587 ± 0.050  0.838 ± 0.049  20.600 ± 1.140   \n",
       "RuleFit Classifier (disc)   0.610 ± 0.045  0.816 ± 0.051  16.600 ± 1.140   \n",
       "tree generator (disc)       0.583 ± 0.038  0.772 ± 0.049  16.800 ± 1.095   \n",
       "RuleFit Classifier (conti)  0.572 ± 0.037  0.795 ± 0.033  20.200 ± 2.490   \n",
       "tree generator (conti)      0.627 ± 0.030  0.833 ± 0.040  19.400 ± 3.130   \n",
       "\n",
       "                                    n_rule violation_rate  \n",
       "linear svm (L)              24.000 ± 0.000  0.608 ± 0.048  \n",
       "non-linear svm (L)          24.000 ± 0.000  0.550 ± 0.035  \n",
       "linear svm                  24.000 ± 0.000  0.775 ± 0.081  \n",
       "non-linear svm              24.000 ± 0.000  0.858 ± 0.048  \n",
       "RuleFit Classifier (disc)   24.000 ± 0.000  0.692 ± 0.048  \n",
       "tree generator (disc)       24.000 ± 0.000  0.700 ± 0.046  \n",
       "RuleFit Classifier (conti)  24.000 ± 0.000  0.842 ± 0.104  \n",
       "tree generator (conti)      24.000 ± 0.000  0.808 ± 0.130  "
      ]
     },
     "execution_count": 55,
     "metadata": {},
     "output_type": "execute_result"
    }
   ],
   "source": [
    "merged_df"
   ]
  },
  {
   "cell_type": "code",
   "execution_count": 58,
   "metadata": {},
   "outputs": [
    {
     "data": {
      "text/html": [
       "<div>\n",
       "<style scoped>\n",
       "    .dataframe tbody tr th:only-of-type {\n",
       "        vertical-align: middle;\n",
       "    }\n",
       "\n",
       "    .dataframe tbody tr th {\n",
       "        vertical-align: top;\n",
       "    }\n",
       "\n",
       "    .dataframe thead th {\n",
       "        text-align: right;\n",
       "    }\n",
       "</style>\n",
       "<table border=\"1\" class=\"dataframe\">\n",
       "  <thead>\n",
       "    <tr style=\"text-align: right;\">\n",
       "      <th></th>\n",
       "      <th>auc</th>\n",
       "      <th>n_violation</th>\n",
       "      <th>n_rule</th>\n",
       "    </tr>\n",
       "  </thead>\n",
       "  <tbody>\n",
       "    <tr>\n",
       "      <th>linear svm (L)</th>\n",
       "      <td>0.777 ± 0.058</td>\n",
       "      <td>14.600 ± 1.140</td>\n",
       "      <td>24.000 ± 0.000</td>\n",
       "    </tr>\n",
       "    <tr>\n",
       "      <th>non-linear svm (L)</th>\n",
       "      <td>0.820 ± 0.048</td>\n",
       "      <td>13.200 ± 0.837</td>\n",
       "      <td>24.000 ± 0.000</td>\n",
       "    </tr>\n",
       "    <tr>\n",
       "      <th>linear svm</th>\n",
       "      <td>0.838 ± 0.045</td>\n",
       "      <td>18.600 ± 1.949</td>\n",
       "      <td>24.000 ± 0.000</td>\n",
       "    </tr>\n",
       "    <tr>\n",
       "      <th>non-linear svm</th>\n",
       "      <td>0.838 ± 0.049</td>\n",
       "      <td>20.600 ± 1.140</td>\n",
       "      <td>24.000 ± 0.000</td>\n",
       "    </tr>\n",
       "    <tr>\n",
       "      <th>RuleFit Classifier (disc)</th>\n",
       "      <td>0.816 ± 0.051</td>\n",
       "      <td>16.600 ± 1.140</td>\n",
       "      <td>24.000 ± 0.000</td>\n",
       "    </tr>\n",
       "    <tr>\n",
       "      <th>tree generator (disc)</th>\n",
       "      <td>0.772 ± 0.049</td>\n",
       "      <td>16.800 ± 1.095</td>\n",
       "      <td>24.000 ± 0.000</td>\n",
       "    </tr>\n",
       "  </tbody>\n",
       "</table>\n",
       "</div>"
      ],
      "text/plain": [
       "                                     auc     n_violation          n_rule\n",
       "linear svm (L)             0.777 ± 0.058  14.600 ± 1.140  24.000 ± 0.000\n",
       "non-linear svm (L)         0.820 ± 0.048  13.200 ± 0.837  24.000 ± 0.000\n",
       "linear svm                 0.838 ± 0.045  18.600 ± 1.949  24.000 ± 0.000\n",
       "non-linear svm             0.838 ± 0.049  20.600 ± 1.140  24.000 ± 0.000\n",
       "RuleFit Classifier (disc)  0.816 ± 0.051  16.600 ± 1.140  24.000 ± 0.000\n",
       "tree generator (disc)      0.772 ± 0.049  16.800 ± 1.095  24.000 ± 0.000"
      ]
     },
     "execution_count": 58,
     "metadata": {},
     "output_type": "execute_result"
    }
   ],
   "source": [
    "filtered_df = merged_df.loc[:, ['auc', 'n_violation', 'n_rule']]\n",
    "filtered_df = filtered_df.iloc[:-2, :]\n",
    "filtered_df"
   ]
  },
  {
   "cell_type": "code",
   "execution_count": 59,
   "metadata": {},
   "outputs": [
    {
     "name": "stdout",
     "output_type": "stream",
     "text": [
      "                                     auc     n_violation          n_rule\n",
      "linear svm (L)             0.777 ± 0.058  14.600 ± 1.140  24.000 ± 0.000\n",
      "non-linear svm (L)         0.820 ± 0.048  13.200 ± 0.837  24.000 ± 0.000\n",
      "linear svm                 0.838 ± 0.045  18.600 ± 1.949  24.000 ± 0.000\n",
      "non-linear svm             0.838 ± 0.049  20.600 ± 1.140  24.000 ± 0.000\n",
      "RuleFit Classifier (disc)  0.816 ± 0.051  16.600 ± 1.140  24.000 ± 0.000\n",
      "tree generator (disc)      0.772 ± 0.049  16.800 ± 1.095  24.000 ± 0.000\n"
     ]
    }
   ],
   "source": [
    "print(filtered_df)"
   ]
  },
  {
   "cell_type": "code",
   "execution_count": null,
   "metadata": {},
   "outputs": [],
   "source": []
  },
  {
   "cell_type": "code",
   "execution_count": null,
   "metadata": {},
   "outputs": [],
   "source": []
  },
  {
   "cell_type": "code",
   "execution_count": null,
   "metadata": {},
   "outputs": [],
   "source": []
  },
  {
   "cell_type": "markdown",
   "metadata": {},
   "source": [
    "# 2"
   ]
  },
  {
   "cell_type": "code",
   "execution_count": 61,
   "metadata": {},
   "outputs": [],
   "source": [
    "result_file_path = \"./experiments/version_2/result.json\"\n",
    "\n",
    "with open(result_file_path, 'r') as f:\n",
    "    json_data = json.load(f)\n",
    "\n",
    "result_dfs = []\n",
    "\n",
    "for fold, _ in json_data[\"result\"].items():\n",
    "    result_df = pd.DataFrame(json_data['result'][fold]).T\n",
    "    result_dfs.append(result_df)\n",
    "\n",
    "original_idx_order = result_dfs[0].index\n",
    "\n",
    "combined_df = pd.concat(result_dfs, ignore_index=False)"
   ]
  },
  {
   "cell_type": "code",
   "execution_count": 62,
   "metadata": {},
   "outputs": [
    {
     "data": {
      "text/html": [
       "<div>\n",
       "<style scoped>\n",
       "    .dataframe tbody tr th:only-of-type {\n",
       "        vertical-align: middle;\n",
       "    }\n",
       "\n",
       "    .dataframe tbody tr th {\n",
       "        vertical-align: top;\n",
       "    }\n",
       "\n",
       "    .dataframe thead th {\n",
       "        text-align: right;\n",
       "    }\n",
       "</style>\n",
       "<table border=\"1\" class=\"dataframe\">\n",
       "  <thead>\n",
       "    <tr style=\"text-align: right;\">\n",
       "      <th></th>\n",
       "      <th>accuracy</th>\n",
       "      <th>precision</th>\n",
       "      <th>recall</th>\n",
       "      <th>f1</th>\n",
       "      <th>auc</th>\n",
       "      <th>n_violation</th>\n",
       "      <th>n_rule</th>\n",
       "      <th>violation_rate</th>\n",
       "    </tr>\n",
       "  </thead>\n",
       "  <tbody>\n",
       "    <tr>\n",
       "      <th>RuleFit Classifier (disc)</th>\n",
       "      <td>0.783582</td>\n",
       "      <td>0.742431</td>\n",
       "      <td>0.521271</td>\n",
       "      <td>0.610252</td>\n",
       "      <td>0.815050</td>\n",
       "      <td>28.8</td>\n",
       "      <td>35.6</td>\n",
       "      <td>0.801570</td>\n",
       "    </tr>\n",
       "    <tr>\n",
       "      <th>tree generator (disc)</th>\n",
       "      <td>0.741791</td>\n",
       "      <td>0.627843</td>\n",
       "      <td>0.557706</td>\n",
       "      <td>0.582608</td>\n",
       "      <td>0.772322</td>\n",
       "      <td>26.4</td>\n",
       "      <td>35.6</td>\n",
       "      <td>0.735629</td>\n",
       "    </tr>\n",
       "    <tr>\n",
       "      <th>RuleFit Classifier (conti)</th>\n",
       "      <td>0.732836</td>\n",
       "      <td>0.601979</td>\n",
       "      <td>0.553471</td>\n",
       "      <td>0.571908</td>\n",
       "      <td>0.795116</td>\n",
       "      <td>31.2</td>\n",
       "      <td>35.6</td>\n",
       "      <td>0.877827</td>\n",
       "    </tr>\n",
       "    <tr>\n",
       "      <th>tree generator (conti)</th>\n",
       "      <td>0.782090</td>\n",
       "      <td>0.715158</td>\n",
       "      <td>0.568106</td>\n",
       "      <td>0.627460</td>\n",
       "      <td>0.832600</td>\n",
       "      <td>31.2</td>\n",
       "      <td>35.6</td>\n",
       "      <td>0.876795</td>\n",
       "    </tr>\n",
       "    <tr>\n",
       "      <th>linear svm (L)</th>\n",
       "      <td>0.379104</td>\n",
       "      <td>0.353164</td>\n",
       "      <td>0.915411</td>\n",
       "      <td>0.494964</td>\n",
       "      <td>0.309438</td>\n",
       "      <td>25.0</td>\n",
       "      <td>35.6</td>\n",
       "      <td>0.691964</td>\n",
       "    </tr>\n",
       "    <tr>\n",
       "      <th>non-linear svm (L)</th>\n",
       "      <td>0.714925</td>\n",
       "      <td>0.543752</td>\n",
       "      <td>0.758995</td>\n",
       "      <td>0.630360</td>\n",
       "      <td>0.820708</td>\n",
       "      <td>24.2</td>\n",
       "      <td>35.6</td>\n",
       "      <td>0.677190</td>\n",
       "    </tr>\n",
       "    <tr>\n",
       "      <th>linear svm</th>\n",
       "      <td>0.779104</td>\n",
       "      <td>0.711436</td>\n",
       "      <td>0.551175</td>\n",
       "      <td>0.618693</td>\n",
       "      <td>0.837805</td>\n",
       "      <td>31.2</td>\n",
       "      <td>35.6</td>\n",
       "      <td>0.878026</td>\n",
       "    </tr>\n",
       "    <tr>\n",
       "      <th>non-linear svm</th>\n",
       "      <td>0.780597</td>\n",
       "      <td>0.759070</td>\n",
       "      <td>0.479714</td>\n",
       "      <td>0.587201</td>\n",
       "      <td>0.838064</td>\n",
       "      <td>32.2</td>\n",
       "      <td>35.6</td>\n",
       "      <td>0.903667</td>\n",
       "    </tr>\n",
       "  </tbody>\n",
       "</table>\n",
       "</div>"
      ],
      "text/plain": [
       "                            accuracy  precision    recall        f1       auc  \\\n",
       "RuleFit Classifier (disc)   0.783582   0.742431  0.521271  0.610252  0.815050   \n",
       "tree generator (disc)       0.741791   0.627843  0.557706  0.582608  0.772322   \n",
       "RuleFit Classifier (conti)  0.732836   0.601979  0.553471  0.571908  0.795116   \n",
       "tree generator (conti)      0.782090   0.715158  0.568106  0.627460  0.832600   \n",
       "linear svm (L)              0.379104   0.353164  0.915411  0.494964  0.309438   \n",
       "non-linear svm (L)          0.714925   0.543752  0.758995  0.630360  0.820708   \n",
       "linear svm                  0.779104   0.711436  0.551175  0.618693  0.837805   \n",
       "non-linear svm              0.780597   0.759070  0.479714  0.587201  0.838064   \n",
       "\n",
       "                            n_violation  n_rule  violation_rate  \n",
       "RuleFit Classifier (disc)          28.8    35.6        0.801570  \n",
       "tree generator (disc)              26.4    35.6        0.735629  \n",
       "RuleFit Classifier (conti)         31.2    35.6        0.877827  \n",
       "tree generator (conti)             31.2    35.6        0.876795  \n",
       "linear svm (L)                     25.0    35.6        0.691964  \n",
       "non-linear svm (L)                 24.2    35.6        0.677190  \n",
       "linear svm                         31.2    35.6        0.878026  \n",
       "non-linear svm                     32.2    35.6        0.903667  "
      ]
     },
     "execution_count": 62,
     "metadata": {},
     "output_type": "execute_result"
    }
   ],
   "source": [
    "result_df_mean = combined_df.groupby(combined_df.index).mean()\n",
    "result_df_mean  = result_df_mean.reindex(original_idx_order)\n",
    "result_df_mean"
   ]
  },
  {
   "cell_type": "code",
   "execution_count": 63,
   "metadata": {},
   "outputs": [
    {
     "data": {
      "text/html": [
       "<div>\n",
       "<style scoped>\n",
       "    .dataframe tbody tr th:only-of-type {\n",
       "        vertical-align: middle;\n",
       "    }\n",
       "\n",
       "    .dataframe tbody tr th {\n",
       "        vertical-align: top;\n",
       "    }\n",
       "\n",
       "    .dataframe thead th {\n",
       "        text-align: right;\n",
       "    }\n",
       "</style>\n",
       "<table border=\"1\" class=\"dataframe\">\n",
       "  <thead>\n",
       "    <tr style=\"text-align: right;\">\n",
       "      <th></th>\n",
       "      <th>accuracy</th>\n",
       "      <th>precision</th>\n",
       "      <th>recall</th>\n",
       "      <th>f1</th>\n",
       "      <th>auc</th>\n",
       "      <th>n_violation</th>\n",
       "      <th>n_rule</th>\n",
       "      <th>violation_rate</th>\n",
       "    </tr>\n",
       "  </thead>\n",
       "  <tbody>\n",
       "    <tr>\n",
       "      <th>RuleFit Classifier (disc)</th>\n",
       "      <td>0.044776</td>\n",
       "      <td>0.048551</td>\n",
       "      <td>0.064326</td>\n",
       "      <td>0.044856</td>\n",
       "      <td>0.050151</td>\n",
       "      <td>6.016644</td>\n",
       "      <td>4.219005</td>\n",
       "      <td>0.089432</td>\n",
       "    </tr>\n",
       "    <tr>\n",
       "      <th>tree generator (disc)</th>\n",
       "      <td>0.049950</td>\n",
       "      <td>0.094845</td>\n",
       "      <td>0.077244</td>\n",
       "      <td>0.037668</td>\n",
       "      <td>0.049073</td>\n",
       "      <td>5.458938</td>\n",
       "      <td>4.219005</td>\n",
       "      <td>0.075330</td>\n",
       "    </tr>\n",
       "    <tr>\n",
       "      <th>RuleFit Classifier (conti)</th>\n",
       "      <td>0.040326</td>\n",
       "      <td>0.076503</td>\n",
       "      <td>0.064527</td>\n",
       "      <td>0.037194</td>\n",
       "      <td>0.032516</td>\n",
       "      <td>3.962323</td>\n",
       "      <td>4.219005</td>\n",
       "      <td>0.065078</td>\n",
       "    </tr>\n",
       "    <tr>\n",
       "      <th>tree generator (conti)</th>\n",
       "      <td>0.037089</td>\n",
       "      <td>0.071703</td>\n",
       "      <td>0.076514</td>\n",
       "      <td>0.029962</td>\n",
       "      <td>0.039969</td>\n",
       "      <td>3.962323</td>\n",
       "      <td>4.219005</td>\n",
       "      <td>0.047364</td>\n",
       "    </tr>\n",
       "    <tr>\n",
       "      <th>linear svm (L)</th>\n",
       "      <td>0.166821</td>\n",
       "      <td>0.111035</td>\n",
       "      <td>0.118886</td>\n",
       "      <td>0.089836</td>\n",
       "      <td>0.243712</td>\n",
       "      <td>6.964194</td>\n",
       "      <td>4.219005</td>\n",
       "      <td>0.127253</td>\n",
       "    </tr>\n",
       "    <tr>\n",
       "      <th>non-linear svm (L)</th>\n",
       "      <td>0.039630</td>\n",
       "      <td>0.027703</td>\n",
       "      <td>0.119440</td>\n",
       "      <td>0.043971</td>\n",
       "      <td>0.045850</td>\n",
       "      <td>4.549725</td>\n",
       "      <td>4.219005</td>\n",
       "      <td>0.082603</td>\n",
       "    </tr>\n",
       "    <tr>\n",
       "      <th>linear svm</th>\n",
       "      <td>0.053711</td>\n",
       "      <td>0.048340</td>\n",
       "      <td>0.086460</td>\n",
       "      <td>0.061671</td>\n",
       "      <td>0.045376</td>\n",
       "      <td>3.271085</td>\n",
       "      <td>4.219005</td>\n",
       "      <td>0.031882</td>\n",
       "    </tr>\n",
       "    <tr>\n",
       "      <th>non-linear svm</th>\n",
       "      <td>0.046485</td>\n",
       "      <td>0.057760</td>\n",
       "      <td>0.048936</td>\n",
       "      <td>0.050200</td>\n",
       "      <td>0.048697</td>\n",
       "      <td>4.266146</td>\n",
       "      <td>4.219005</td>\n",
       "      <td>0.030753</td>\n",
       "    </tr>\n",
       "  </tbody>\n",
       "</table>\n",
       "</div>"
      ],
      "text/plain": [
       "                            accuracy  precision    recall        f1       auc  \\\n",
       "RuleFit Classifier (disc)   0.044776   0.048551  0.064326  0.044856  0.050151   \n",
       "tree generator (disc)       0.049950   0.094845  0.077244  0.037668  0.049073   \n",
       "RuleFit Classifier (conti)  0.040326   0.076503  0.064527  0.037194  0.032516   \n",
       "tree generator (conti)      0.037089   0.071703  0.076514  0.029962  0.039969   \n",
       "linear svm (L)              0.166821   0.111035  0.118886  0.089836  0.243712   \n",
       "non-linear svm (L)          0.039630   0.027703  0.119440  0.043971  0.045850   \n",
       "linear svm                  0.053711   0.048340  0.086460  0.061671  0.045376   \n",
       "non-linear svm              0.046485   0.057760  0.048936  0.050200  0.048697   \n",
       "\n",
       "                            n_violation    n_rule  violation_rate  \n",
       "RuleFit Classifier (disc)      6.016644  4.219005        0.089432  \n",
       "tree generator (disc)          5.458938  4.219005        0.075330  \n",
       "RuleFit Classifier (conti)     3.962323  4.219005        0.065078  \n",
       "tree generator (conti)         3.962323  4.219005        0.047364  \n",
       "linear svm (L)                 6.964194  4.219005        0.127253  \n",
       "non-linear svm (L)             4.549725  4.219005        0.082603  \n",
       "linear svm                     3.271085  4.219005        0.031882  \n",
       "non-linear svm                 4.266146  4.219005        0.030753  "
      ]
     },
     "execution_count": 63,
     "metadata": {},
     "output_type": "execute_result"
    }
   ],
   "source": [
    "result_df_std = combined_df.groupby(combined_df.index).std()\n",
    "result_df_std = result_df_std.reindex(original_idx_order)\n",
    "result_df_std"
   ]
  },
  {
   "cell_type": "code",
   "execution_count": 64,
   "metadata": {},
   "outputs": [
    {
     "name": "stdout",
     "output_type": "stream",
     "text": [
      "                                 accuracy      precision         recall  \\\n",
      "RuleFit Classifier (disc)   0.784 ± 0.045  0.742 ± 0.049  0.521 ± 0.064   \n",
      "tree generator (disc)       0.742 ± 0.050  0.628 ± 0.095  0.558 ± 0.077   \n",
      "RuleFit Classifier (conti)  0.733 ± 0.040  0.602 ± 0.077  0.553 ± 0.065   \n",
      "tree generator (conti)      0.782 ± 0.037  0.715 ± 0.072  0.568 ± 0.077   \n",
      "linear svm (L)              0.379 ± 0.167  0.353 ± 0.111  0.915 ± 0.119   \n",
      "non-linear svm (L)          0.715 ± 0.040  0.544 ± 0.028  0.759 ± 0.119   \n",
      "linear svm                  0.779 ± 0.054  0.711 ± 0.048  0.551 ± 0.086   \n",
      "non-linear svm              0.781 ± 0.046  0.759 ± 0.058  0.480 ± 0.049   \n",
      "\n",
      "                                       f1            auc     n_violation  \\\n",
      "RuleFit Classifier (disc)   0.610 ± 0.045  0.815 ± 0.050  28.800 ± 6.017   \n",
      "tree generator (disc)       0.583 ± 0.038  0.772 ± 0.049  26.400 ± 5.459   \n",
      "RuleFit Classifier (conti)  0.572 ± 0.037  0.795 ± 0.033  31.200 ± 3.962   \n",
      "tree generator (conti)      0.627 ± 0.030  0.833 ± 0.040  31.200 ± 3.962   \n",
      "linear svm (L)              0.495 ± 0.090  0.309 ± 0.244  25.000 ± 6.964   \n",
      "non-linear svm (L)          0.630 ± 0.044  0.821 ± 0.046  24.200 ± 4.550   \n",
      "linear svm                  0.619 ± 0.062  0.838 ± 0.045  31.200 ± 3.271   \n",
      "non-linear svm              0.587 ± 0.050  0.838 ± 0.049  32.200 ± 4.266   \n",
      "\n",
      "                                    n_rule violation_rate  \n",
      "RuleFit Classifier (disc)   35.600 ± 4.219  0.802 ± 0.089  \n",
      "tree generator (disc)       35.600 ± 4.219  0.736 ± 0.075  \n",
      "RuleFit Classifier (conti)  35.600 ± 4.219  0.878 ± 0.065  \n",
      "tree generator (conti)      35.600 ± 4.219  0.877 ± 0.047  \n",
      "linear svm (L)              35.600 ± 4.219  0.692 ± 0.127  \n",
      "non-linear svm (L)          35.600 ± 4.219  0.677 ± 0.083  \n",
      "linear svm                  35.600 ± 4.219  0.878 ± 0.032  \n",
      "non-linear svm              35.600 ± 4.219  0.904 ± 0.031  \n"
     ]
    }
   ],
   "source": [
    "# データフレームを結合して、指定された形式で値を表示する\n",
    "df1 = result_df_mean\n",
    "df2 = result_df_std\n",
    "\n",
    "merged_df = df1.copy()\n",
    "for col in df1.columns:\n",
    "    merged_df[col] = df1[col].apply(lambda x: \"{:.3f}\".format(x)) + ' ± ' + df2[col].apply(lambda x: \"{:.3f}\".format(x))\n",
    "\n",
    "print(merged_df)"
   ]
  },
  {
   "cell_type": "code",
   "execution_count": 65,
   "metadata": {},
   "outputs": [
    {
     "data": {
      "text/html": [
       "<div>\n",
       "<style scoped>\n",
       "    .dataframe tbody tr th:only-of-type {\n",
       "        vertical-align: middle;\n",
       "    }\n",
       "\n",
       "    .dataframe tbody tr th {\n",
       "        vertical-align: top;\n",
       "    }\n",
       "\n",
       "    .dataframe thead th {\n",
       "        text-align: right;\n",
       "    }\n",
       "</style>\n",
       "<table border=\"1\" class=\"dataframe\">\n",
       "  <thead>\n",
       "    <tr style=\"text-align: right;\">\n",
       "      <th></th>\n",
       "      <th>accuracy</th>\n",
       "      <th>precision</th>\n",
       "      <th>recall</th>\n",
       "      <th>f1</th>\n",
       "      <th>auc</th>\n",
       "      <th>n_violation</th>\n",
       "      <th>n_rule</th>\n",
       "      <th>violation_rate</th>\n",
       "    </tr>\n",
       "  </thead>\n",
       "  <tbody>\n",
       "    <tr>\n",
       "      <th>RuleFit Classifier (disc)</th>\n",
       "      <td>0.784 ± 0.045</td>\n",
       "      <td>0.742 ± 0.049</td>\n",
       "      <td>0.521 ± 0.064</td>\n",
       "      <td>0.610 ± 0.045</td>\n",
       "      <td>0.815 ± 0.050</td>\n",
       "      <td>28.800 ± 6.017</td>\n",
       "      <td>35.600 ± 4.219</td>\n",
       "      <td>0.802 ± 0.089</td>\n",
       "    </tr>\n",
       "    <tr>\n",
       "      <th>tree generator (disc)</th>\n",
       "      <td>0.742 ± 0.050</td>\n",
       "      <td>0.628 ± 0.095</td>\n",
       "      <td>0.558 ± 0.077</td>\n",
       "      <td>0.583 ± 0.038</td>\n",
       "      <td>0.772 ± 0.049</td>\n",
       "      <td>26.400 ± 5.459</td>\n",
       "      <td>35.600 ± 4.219</td>\n",
       "      <td>0.736 ± 0.075</td>\n",
       "    </tr>\n",
       "    <tr>\n",
       "      <th>RuleFit Classifier (conti)</th>\n",
       "      <td>0.733 ± 0.040</td>\n",
       "      <td>0.602 ± 0.077</td>\n",
       "      <td>0.553 ± 0.065</td>\n",
       "      <td>0.572 ± 0.037</td>\n",
       "      <td>0.795 ± 0.033</td>\n",
       "      <td>31.200 ± 3.962</td>\n",
       "      <td>35.600 ± 4.219</td>\n",
       "      <td>0.878 ± 0.065</td>\n",
       "    </tr>\n",
       "    <tr>\n",
       "      <th>tree generator (conti)</th>\n",
       "      <td>0.782 ± 0.037</td>\n",
       "      <td>0.715 ± 0.072</td>\n",
       "      <td>0.568 ± 0.077</td>\n",
       "      <td>0.627 ± 0.030</td>\n",
       "      <td>0.833 ± 0.040</td>\n",
       "      <td>31.200 ± 3.962</td>\n",
       "      <td>35.600 ± 4.219</td>\n",
       "      <td>0.877 ± 0.047</td>\n",
       "    </tr>\n",
       "    <tr>\n",
       "      <th>linear svm (L)</th>\n",
       "      <td>0.379 ± 0.167</td>\n",
       "      <td>0.353 ± 0.111</td>\n",
       "      <td>0.915 ± 0.119</td>\n",
       "      <td>0.495 ± 0.090</td>\n",
       "      <td>0.309 ± 0.244</td>\n",
       "      <td>25.000 ± 6.964</td>\n",
       "      <td>35.600 ± 4.219</td>\n",
       "      <td>0.692 ± 0.127</td>\n",
       "    </tr>\n",
       "    <tr>\n",
       "      <th>non-linear svm (L)</th>\n",
       "      <td>0.715 ± 0.040</td>\n",
       "      <td>0.544 ± 0.028</td>\n",
       "      <td>0.759 ± 0.119</td>\n",
       "      <td>0.630 ± 0.044</td>\n",
       "      <td>0.821 ± 0.046</td>\n",
       "      <td>24.200 ± 4.550</td>\n",
       "      <td>35.600 ± 4.219</td>\n",
       "      <td>0.677 ± 0.083</td>\n",
       "    </tr>\n",
       "    <tr>\n",
       "      <th>linear svm</th>\n",
       "      <td>0.779 ± 0.054</td>\n",
       "      <td>0.711 ± 0.048</td>\n",
       "      <td>0.551 ± 0.086</td>\n",
       "      <td>0.619 ± 0.062</td>\n",
       "      <td>0.838 ± 0.045</td>\n",
       "      <td>31.200 ± 3.271</td>\n",
       "      <td>35.600 ± 4.219</td>\n",
       "      <td>0.878 ± 0.032</td>\n",
       "    </tr>\n",
       "    <tr>\n",
       "      <th>non-linear svm</th>\n",
       "      <td>0.781 ± 0.046</td>\n",
       "      <td>0.759 ± 0.058</td>\n",
       "      <td>0.480 ± 0.049</td>\n",
       "      <td>0.587 ± 0.050</td>\n",
       "      <td>0.838 ± 0.049</td>\n",
       "      <td>32.200 ± 4.266</td>\n",
       "      <td>35.600 ± 4.219</td>\n",
       "      <td>0.904 ± 0.031</td>\n",
       "    </tr>\n",
       "  </tbody>\n",
       "</table>\n",
       "</div>"
      ],
      "text/plain": [
       "                                 accuracy      precision         recall  \\\n",
       "RuleFit Classifier (disc)   0.784 ± 0.045  0.742 ± 0.049  0.521 ± 0.064   \n",
       "tree generator (disc)       0.742 ± 0.050  0.628 ± 0.095  0.558 ± 0.077   \n",
       "RuleFit Classifier (conti)  0.733 ± 0.040  0.602 ± 0.077  0.553 ± 0.065   \n",
       "tree generator (conti)      0.782 ± 0.037  0.715 ± 0.072  0.568 ± 0.077   \n",
       "linear svm (L)              0.379 ± 0.167  0.353 ± 0.111  0.915 ± 0.119   \n",
       "non-linear svm (L)          0.715 ± 0.040  0.544 ± 0.028  0.759 ± 0.119   \n",
       "linear svm                  0.779 ± 0.054  0.711 ± 0.048  0.551 ± 0.086   \n",
       "non-linear svm              0.781 ± 0.046  0.759 ± 0.058  0.480 ± 0.049   \n",
       "\n",
       "                                       f1            auc     n_violation  \\\n",
       "RuleFit Classifier (disc)   0.610 ± 0.045  0.815 ± 0.050  28.800 ± 6.017   \n",
       "tree generator (disc)       0.583 ± 0.038  0.772 ± 0.049  26.400 ± 5.459   \n",
       "RuleFit Classifier (conti)  0.572 ± 0.037  0.795 ± 0.033  31.200 ± 3.962   \n",
       "tree generator (conti)      0.627 ± 0.030  0.833 ± 0.040  31.200 ± 3.962   \n",
       "linear svm (L)              0.495 ± 0.090  0.309 ± 0.244  25.000 ± 6.964   \n",
       "non-linear svm (L)          0.630 ± 0.044  0.821 ± 0.046  24.200 ± 4.550   \n",
       "linear svm                  0.619 ± 0.062  0.838 ± 0.045  31.200 ± 3.271   \n",
       "non-linear svm              0.587 ± 0.050  0.838 ± 0.049  32.200 ± 4.266   \n",
       "\n",
       "                                    n_rule violation_rate  \n",
       "RuleFit Classifier (disc)   35.600 ± 4.219  0.802 ± 0.089  \n",
       "tree generator (disc)       35.600 ± 4.219  0.736 ± 0.075  \n",
       "RuleFit Classifier (conti)  35.600 ± 4.219  0.878 ± 0.065  \n",
       "tree generator (conti)      35.600 ± 4.219  0.877 ± 0.047  \n",
       "linear svm (L)              35.600 ± 4.219  0.692 ± 0.127  \n",
       "non-linear svm (L)          35.600 ± 4.219  0.677 ± 0.083  \n",
       "linear svm                  35.600 ± 4.219  0.878 ± 0.032  \n",
       "non-linear svm              35.600 ± 4.219  0.904 ± 0.031  "
      ]
     },
     "execution_count": 65,
     "metadata": {},
     "output_type": "execute_result"
    }
   ],
   "source": [
    "merged_df"
   ]
  },
  {
   "cell_type": "code",
   "execution_count": 70,
   "metadata": {},
   "outputs": [
    {
     "data": {
      "text/html": [
       "<div>\n",
       "<style scoped>\n",
       "    .dataframe tbody tr th:only-of-type {\n",
       "        vertical-align: middle;\n",
       "    }\n",
       "\n",
       "    .dataframe tbody tr th {\n",
       "        vertical-align: top;\n",
       "    }\n",
       "\n",
       "    .dataframe thead th {\n",
       "        text-align: right;\n",
       "    }\n",
       "</style>\n",
       "<table border=\"1\" class=\"dataframe\">\n",
       "  <thead>\n",
       "    <tr style=\"text-align: right;\">\n",
       "      <th></th>\n",
       "      <th>auc</th>\n",
       "      <th>n_violation</th>\n",
       "      <th>n_rule</th>\n",
       "      <th>violation_rate</th>\n",
       "    </tr>\n",
       "  </thead>\n",
       "  <tbody>\n",
       "    <tr>\n",
       "      <th>RuleFit Classifier (disc)</th>\n",
       "      <td>0.815 ± 0.050</td>\n",
       "      <td>28.800 ± 6.017</td>\n",
       "      <td>35.600 ± 4.219</td>\n",
       "      <td>0.802 ± 0.089</td>\n",
       "    </tr>\n",
       "    <tr>\n",
       "      <th>tree generator (disc)</th>\n",
       "      <td>0.772 ± 0.049</td>\n",
       "      <td>26.400 ± 5.459</td>\n",
       "      <td>35.600 ± 4.219</td>\n",
       "      <td>0.736 ± 0.075</td>\n",
       "    </tr>\n",
       "    <tr>\n",
       "      <th>RuleFit Classifier (conti)</th>\n",
       "      <td>0.795 ± 0.033</td>\n",
       "      <td>31.200 ± 3.962</td>\n",
       "      <td>35.600 ± 4.219</td>\n",
       "      <td>0.878 ± 0.065</td>\n",
       "    </tr>\n",
       "    <tr>\n",
       "      <th>tree generator (conti)</th>\n",
       "      <td>0.833 ± 0.040</td>\n",
       "      <td>31.200 ± 3.962</td>\n",
       "      <td>35.600 ± 4.219</td>\n",
       "      <td>0.877 ± 0.047</td>\n",
       "    </tr>\n",
       "    <tr>\n",
       "      <th>linear svm (L)</th>\n",
       "      <td>0.309 ± 0.244</td>\n",
       "      <td>25.000 ± 6.964</td>\n",
       "      <td>35.600 ± 4.219</td>\n",
       "      <td>0.692 ± 0.127</td>\n",
       "    </tr>\n",
       "    <tr>\n",
       "      <th>non-linear svm (L)</th>\n",
       "      <td>0.821 ± 0.046</td>\n",
       "      <td>24.200 ± 4.550</td>\n",
       "      <td>35.600 ± 4.219</td>\n",
       "      <td>0.677 ± 0.083</td>\n",
       "    </tr>\n",
       "    <tr>\n",
       "      <th>linear svm</th>\n",
       "      <td>0.838 ± 0.045</td>\n",
       "      <td>31.200 ± 3.271</td>\n",
       "      <td>35.600 ± 4.219</td>\n",
       "      <td>0.878 ± 0.032</td>\n",
       "    </tr>\n",
       "    <tr>\n",
       "      <th>non-linear svm</th>\n",
       "      <td>0.838 ± 0.049</td>\n",
       "      <td>32.200 ± 4.266</td>\n",
       "      <td>35.600 ± 4.219</td>\n",
       "      <td>0.904 ± 0.031</td>\n",
       "    </tr>\n",
       "  </tbody>\n",
       "</table>\n",
       "</div>"
      ],
      "text/plain": [
       "                                      auc     n_violation          n_rule  \\\n",
       "RuleFit Classifier (disc)   0.815 ± 0.050  28.800 ± 6.017  35.600 ± 4.219   \n",
       "tree generator (disc)       0.772 ± 0.049  26.400 ± 5.459  35.600 ± 4.219   \n",
       "RuleFit Classifier (conti)  0.795 ± 0.033  31.200 ± 3.962  35.600 ± 4.219   \n",
       "tree generator (conti)      0.833 ± 0.040  31.200 ± 3.962  35.600 ± 4.219   \n",
       "linear svm (L)              0.309 ± 0.244  25.000 ± 6.964  35.600 ± 4.219   \n",
       "non-linear svm (L)          0.821 ± 0.046  24.200 ± 4.550  35.600 ± 4.219   \n",
       "linear svm                  0.838 ± 0.045  31.200 ± 3.271  35.600 ± 4.219   \n",
       "non-linear svm              0.838 ± 0.049  32.200 ± 4.266  35.600 ± 4.219   \n",
       "\n",
       "                           violation_rate  \n",
       "RuleFit Classifier (disc)   0.802 ± 0.089  \n",
       "tree generator (disc)       0.736 ± 0.075  \n",
       "RuleFit Classifier (conti)  0.878 ± 0.065  \n",
       "tree generator (conti)      0.877 ± 0.047  \n",
       "linear svm (L)              0.692 ± 0.127  \n",
       "non-linear svm (L)          0.677 ± 0.083  \n",
       "linear svm                  0.878 ± 0.032  \n",
       "non-linear svm              0.904 ± 0.031  "
      ]
     },
     "execution_count": 70,
     "metadata": {},
     "output_type": "execute_result"
    }
   ],
   "source": [
    "filtered_df = merged_df.loc[:, ['auc', 'n_violation', 'n_rule', 'violation_rate']]\n",
    "filtered_df"
   ]
  },
  {
   "cell_type": "code",
   "execution_count": 71,
   "metadata": {},
   "outputs": [
    {
     "name": "stdout",
     "output_type": "stream",
     "text": [
      "                                      auc     n_violation          n_rule  \\\n",
      "RuleFit Classifier (disc)   0.815 ± 0.050  28.800 ± 6.017  35.600 ± 4.219   \n",
      "tree generator (disc)       0.772 ± 0.049  26.400 ± 5.459  35.600 ± 4.219   \n",
      "RuleFit Classifier (conti)  0.795 ± 0.033  31.200 ± 3.962  35.600 ± 4.219   \n",
      "tree generator (conti)      0.833 ± 0.040  31.200 ± 3.962  35.600 ± 4.219   \n",
      "linear svm (L)              0.309 ± 0.244  25.000 ± 6.964  35.600 ± 4.219   \n",
      "non-linear svm (L)          0.821 ± 0.046  24.200 ± 4.550  35.600 ± 4.219   \n",
      "linear svm                  0.838 ± 0.045  31.200 ± 3.271  35.600 ± 4.219   \n",
      "non-linear svm              0.838 ± 0.049  32.200 ± 4.266  35.600 ± 4.219   \n",
      "\n",
      "                           violation_rate  \n",
      "RuleFit Classifier (disc)   0.802 ± 0.089  \n",
      "tree generator (disc)       0.736 ± 0.075  \n",
      "RuleFit Classifier (conti)  0.878 ± 0.065  \n",
      "tree generator (conti)      0.877 ± 0.047  \n",
      "linear svm (L)              0.692 ± 0.127  \n",
      "non-linear svm (L)          0.677 ± 0.083  \n",
      "linear svm                  0.878 ± 0.032  \n",
      "non-linear svm              0.904 ± 0.031  \n"
     ]
    }
   ],
   "source": [
    "print(filtered_df)"
   ]
  },
  {
   "cell_type": "code",
   "execution_count": null,
   "metadata": {},
   "outputs": [],
   "source": []
  },
  {
   "cell_type": "markdown",
   "metadata": {},
   "source": [
    "# 3"
   ]
  },
  {
   "cell_type": "code",
   "execution_count": 125,
   "metadata": {},
   "outputs": [],
   "source": [
    "result_file_paths = [\n",
    "    \"./experiments/version_10/result.json\",\n",
    "    \"./experiments/version_9/result.json\",\n",
    "    \"./experiments/version_8/result.json\",\n",
    "    \"./experiments/version_3/result.json\",\n",
    "    \"./experiments/version_4/result.json\",\n",
    "    \"./experiments/version_5/result.json\",\n",
    "    \"./experiments/version_6/result.json\",\n",
    "    \"./experiments/version_7/result.json\",\n",
    "]\n",
    "\n",
    "result_dfs = []\n",
    "infos = []\n",
    "\n",
    "for path in result_file_paths:\n",
    "    with open(path, 'r') as f:\n",
    "        json_data = json.load(f)\n",
    "\n",
    "    infos.append(json_data['c2'])\n",
    "\n",
    "    tmp = []\n",
    "\n",
    "    for fold, _ in json_data[\"result\"].items():\n",
    "        result_df = pd.DataFrame(json_data['result'][fold]).T\n",
    "        tmp.append(result_df)\n",
    "\n",
    "    result_dfs.append(tmp)\n",
    "\n",
    "combined_dfs = [pd.concat(dfs, ignore_index=False) for dfs in result_dfs]\n",
    "dfs_mean = [combined_df.groupby(combined_df.index).mean() for combined_df in combined_dfs]\n",
    "dfs_std = [combined_df.groupby(combined_df.index).std() for combined_df in combined_dfs]"
   ]
  },
  {
   "cell_type": "code",
   "execution_count": 126,
   "metadata": {},
   "outputs": [
    {
     "data": {
      "application/vnd.plotly.v1+json": {
       "config": {
        "plotlyServerURL": "https://plot.ly"
       },
       "data": [
        {
         "mode": "lines+markers",
         "name": "モデル 4",
         "type": "scatter",
         "x": [
          0.1,
          1,
          5,
          10,
          20,
          50,
          100,
          1000
         ],
         "y": [
          0.6542555341610853,
          0.659774249485414,
          0.4338130837308394,
          0.5613911069124528,
          0.626762036245978,
          0.5332198282334344,
          0.5395582779847274,
          0.6697172300347558
         ]
        },
        {
         "mode": "lines+markers",
         "name": "モデル 5",
         "type": "scatter",
         "x": [
          0.1,
          1,
          5,
          10,
          20,
          50,
          100,
          1000
         ],
         "y": [
          0.8266355857325187,
          0.8270186431494233,
          0.8250466543090837,
          0.8198896213356649,
          0.8204454235068404,
          0.8097560723033652,
          0.7961055583033374,
          0.7875482232799182
         ]
        },
        {
         "line": {
          "color": "rgba(0,176,246,0.2)",
          "width": 0
         },
         "mode": "lines",
         "showlegend": false,
         "type": "scatter",
         "x": [
          0.1,
          1,
          5,
          10,
          20,
          50,
          100,
          1000
         ],
         "y": [
          0.934626611734408,
          0.8963442013616989,
          0.7225186274091213,
          0.8724208000133478,
          0.8757102051277535,
          0.8115321867888097,
          0.8302348141778675,
          0.9222771187125083
         ]
        },
        {
         "fill": "tonexty",
         "fillcolor": "rgba(0,176,246,0.2)",
         "line": {
          "color": "rgba(255,255,255,0)"
         },
         "mode": "lines",
         "showlegend": false,
         "type": "scatter",
         "x": [
          0.1,
          1,
          5,
          10,
          20,
          50,
          100,
          1000
         ],
         "y": [
          0.37388445658776254,
          0.4232042976091291,
          0.14510754005255738,
          0.2503614138115577,
          0.3778138673642025,
          0.25490746967805905,
          0.24888174179158745,
          0.4171573413570033
         ]
        },
        {
         "line": {
          "color": "rgba(231,107,243,0.2)",
          "width": 0
         },
         "mode": "lines",
         "showlegend": false,
         "type": "scatter",
         "x": [
          0.1,
          1,
          5,
          10,
          20,
          50,
          100,
          1000
         ],
         "y": [
          0.8664657385105373,
          0.868538122340744,
          0.8660954810035622,
          0.8664279729549553,
          0.8618378583129978,
          0.8530313741504914,
          0.835497945392714,
          0.8214383386430283
         ]
        },
        {
         "fill": "tonexty",
         "fillcolor": "rgba(231,107,243,0.2)",
         "line": {
          "color": "rgba(255,255,255,0)"
         },
         "mode": "lines",
         "showlegend": false,
         "type": "scatter",
         "x": [
          0.1,
          1,
          5,
          10,
          20,
          50,
          100,
          1000
         ],
         "y": [
          0.7868054329545001,
          0.7854991639581026,
          0.7839978276146053,
          0.7733512697163745,
          0.779052988700683,
          0.7664807704562391,
          0.7567131712139608,
          0.7536581079168082
         ]
        }
       ],
       "layout": {
        "height": 400,
        "legend": {
         "x": 0.75,
         "y": 0.05
        },
        "template": {
         "data": {
          "bar": [
           {
            "error_x": {
             "color": "#2a3f5f"
            },
            "error_y": {
             "color": "#2a3f5f"
            },
            "marker": {
             "line": {
              "color": "#E5ECF6",
              "width": 0.5
             },
             "pattern": {
              "fillmode": "overlay",
              "size": 10,
              "solidity": 0.2
             }
            },
            "type": "bar"
           }
          ],
          "barpolar": [
           {
            "marker": {
             "line": {
              "color": "#E5ECF6",
              "width": 0.5
             },
             "pattern": {
              "fillmode": "overlay",
              "size": 10,
              "solidity": 0.2
             }
            },
            "type": "barpolar"
           }
          ],
          "carpet": [
           {
            "aaxis": {
             "endlinecolor": "#2a3f5f",
             "gridcolor": "white",
             "linecolor": "white",
             "minorgridcolor": "white",
             "startlinecolor": "#2a3f5f"
            },
            "baxis": {
             "endlinecolor": "#2a3f5f",
             "gridcolor": "white",
             "linecolor": "white",
             "minorgridcolor": "white",
             "startlinecolor": "#2a3f5f"
            },
            "type": "carpet"
           }
          ],
          "choropleth": [
           {
            "colorbar": {
             "outlinewidth": 0,
             "ticks": ""
            },
            "type": "choropleth"
           }
          ],
          "contour": [
           {
            "colorbar": {
             "outlinewidth": 0,
             "ticks": ""
            },
            "colorscale": [
             [
              0,
              "#0d0887"
             ],
             [
              0.1111111111111111,
              "#46039f"
             ],
             [
              0.2222222222222222,
              "#7201a8"
             ],
             [
              0.3333333333333333,
              "#9c179e"
             ],
             [
              0.4444444444444444,
              "#bd3786"
             ],
             [
              0.5555555555555556,
              "#d8576b"
             ],
             [
              0.6666666666666666,
              "#ed7953"
             ],
             [
              0.7777777777777778,
              "#fb9f3a"
             ],
             [
              0.8888888888888888,
              "#fdca26"
             ],
             [
              1,
              "#f0f921"
             ]
            ],
            "type": "contour"
           }
          ],
          "contourcarpet": [
           {
            "colorbar": {
             "outlinewidth": 0,
             "ticks": ""
            },
            "type": "contourcarpet"
           }
          ],
          "heatmap": [
           {
            "colorbar": {
             "outlinewidth": 0,
             "ticks": ""
            },
            "colorscale": [
             [
              0,
              "#0d0887"
             ],
             [
              0.1111111111111111,
              "#46039f"
             ],
             [
              0.2222222222222222,
              "#7201a8"
             ],
             [
              0.3333333333333333,
              "#9c179e"
             ],
             [
              0.4444444444444444,
              "#bd3786"
             ],
             [
              0.5555555555555556,
              "#d8576b"
             ],
             [
              0.6666666666666666,
              "#ed7953"
             ],
             [
              0.7777777777777778,
              "#fb9f3a"
             ],
             [
              0.8888888888888888,
              "#fdca26"
             ],
             [
              1,
              "#f0f921"
             ]
            ],
            "type": "heatmap"
           }
          ],
          "heatmapgl": [
           {
            "colorbar": {
             "outlinewidth": 0,
             "ticks": ""
            },
            "colorscale": [
             [
              0,
              "#0d0887"
             ],
             [
              0.1111111111111111,
              "#46039f"
             ],
             [
              0.2222222222222222,
              "#7201a8"
             ],
             [
              0.3333333333333333,
              "#9c179e"
             ],
             [
              0.4444444444444444,
              "#bd3786"
             ],
             [
              0.5555555555555556,
              "#d8576b"
             ],
             [
              0.6666666666666666,
              "#ed7953"
             ],
             [
              0.7777777777777778,
              "#fb9f3a"
             ],
             [
              0.8888888888888888,
              "#fdca26"
             ],
             [
              1,
              "#f0f921"
             ]
            ],
            "type": "heatmapgl"
           }
          ],
          "histogram": [
           {
            "marker": {
             "pattern": {
              "fillmode": "overlay",
              "size": 10,
              "solidity": 0.2
             }
            },
            "type": "histogram"
           }
          ],
          "histogram2d": [
           {
            "colorbar": {
             "outlinewidth": 0,
             "ticks": ""
            },
            "colorscale": [
             [
              0,
              "#0d0887"
             ],
             [
              0.1111111111111111,
              "#46039f"
             ],
             [
              0.2222222222222222,
              "#7201a8"
             ],
             [
              0.3333333333333333,
              "#9c179e"
             ],
             [
              0.4444444444444444,
              "#bd3786"
             ],
             [
              0.5555555555555556,
              "#d8576b"
             ],
             [
              0.6666666666666666,
              "#ed7953"
             ],
             [
              0.7777777777777778,
              "#fb9f3a"
             ],
             [
              0.8888888888888888,
              "#fdca26"
             ],
             [
              1,
              "#f0f921"
             ]
            ],
            "type": "histogram2d"
           }
          ],
          "histogram2dcontour": [
           {
            "colorbar": {
             "outlinewidth": 0,
             "ticks": ""
            },
            "colorscale": [
             [
              0,
              "#0d0887"
             ],
             [
              0.1111111111111111,
              "#46039f"
             ],
             [
              0.2222222222222222,
              "#7201a8"
             ],
             [
              0.3333333333333333,
              "#9c179e"
             ],
             [
              0.4444444444444444,
              "#bd3786"
             ],
             [
              0.5555555555555556,
              "#d8576b"
             ],
             [
              0.6666666666666666,
              "#ed7953"
             ],
             [
              0.7777777777777778,
              "#fb9f3a"
             ],
             [
              0.8888888888888888,
              "#fdca26"
             ],
             [
              1,
              "#f0f921"
             ]
            ],
            "type": "histogram2dcontour"
           }
          ],
          "mesh3d": [
           {
            "colorbar": {
             "outlinewidth": 0,
             "ticks": ""
            },
            "type": "mesh3d"
           }
          ],
          "parcoords": [
           {
            "line": {
             "colorbar": {
              "outlinewidth": 0,
              "ticks": ""
             }
            },
            "type": "parcoords"
           }
          ],
          "pie": [
           {
            "automargin": true,
            "type": "pie"
           }
          ],
          "scatter": [
           {
            "fillpattern": {
             "fillmode": "overlay",
             "size": 10,
             "solidity": 0.2
            },
            "type": "scatter"
           }
          ],
          "scatter3d": [
           {
            "line": {
             "colorbar": {
              "outlinewidth": 0,
              "ticks": ""
             }
            },
            "marker": {
             "colorbar": {
              "outlinewidth": 0,
              "ticks": ""
             }
            },
            "type": "scatter3d"
           }
          ],
          "scattercarpet": [
           {
            "marker": {
             "colorbar": {
              "outlinewidth": 0,
              "ticks": ""
             }
            },
            "type": "scattercarpet"
           }
          ],
          "scattergeo": [
           {
            "marker": {
             "colorbar": {
              "outlinewidth": 0,
              "ticks": ""
             }
            },
            "type": "scattergeo"
           }
          ],
          "scattergl": [
           {
            "marker": {
             "colorbar": {
              "outlinewidth": 0,
              "ticks": ""
             }
            },
            "type": "scattergl"
           }
          ],
          "scattermapbox": [
           {
            "marker": {
             "colorbar": {
              "outlinewidth": 0,
              "ticks": ""
             }
            },
            "type": "scattermapbox"
           }
          ],
          "scatterpolar": [
           {
            "marker": {
             "colorbar": {
              "outlinewidth": 0,
              "ticks": ""
             }
            },
            "type": "scatterpolar"
           }
          ],
          "scatterpolargl": [
           {
            "marker": {
             "colorbar": {
              "outlinewidth": 0,
              "ticks": ""
             }
            },
            "type": "scatterpolargl"
           }
          ],
          "scatterternary": [
           {
            "marker": {
             "colorbar": {
              "outlinewidth": 0,
              "ticks": ""
             }
            },
            "type": "scatterternary"
           }
          ],
          "surface": [
           {
            "colorbar": {
             "outlinewidth": 0,
             "ticks": ""
            },
            "colorscale": [
             [
              0,
              "#0d0887"
             ],
             [
              0.1111111111111111,
              "#46039f"
             ],
             [
              0.2222222222222222,
              "#7201a8"
             ],
             [
              0.3333333333333333,
              "#9c179e"
             ],
             [
              0.4444444444444444,
              "#bd3786"
             ],
             [
              0.5555555555555556,
              "#d8576b"
             ],
             [
              0.6666666666666666,
              "#ed7953"
             ],
             [
              0.7777777777777778,
              "#fb9f3a"
             ],
             [
              0.8888888888888888,
              "#fdca26"
             ],
             [
              1,
              "#f0f921"
             ]
            ],
            "type": "surface"
           }
          ],
          "table": [
           {
            "cells": {
             "fill": {
              "color": "#EBF0F8"
             },
             "line": {
              "color": "white"
             }
            },
            "header": {
             "fill": {
              "color": "#C8D4E3"
             },
             "line": {
              "color": "white"
             }
            },
            "type": "table"
           }
          ]
         },
         "layout": {
          "annotationdefaults": {
           "arrowcolor": "#2a3f5f",
           "arrowhead": 0,
           "arrowwidth": 1
          },
          "autotypenumbers": "strict",
          "coloraxis": {
           "colorbar": {
            "outlinewidth": 0,
            "ticks": ""
           }
          },
          "colorscale": {
           "diverging": [
            [
             0,
             "#8e0152"
            ],
            [
             0.1,
             "#c51b7d"
            ],
            [
             0.2,
             "#de77ae"
            ],
            [
             0.3,
             "#f1b6da"
            ],
            [
             0.4,
             "#fde0ef"
            ],
            [
             0.5,
             "#f7f7f7"
            ],
            [
             0.6,
             "#e6f5d0"
            ],
            [
             0.7,
             "#b8e186"
            ],
            [
             0.8,
             "#7fbc41"
            ],
            [
             0.9,
             "#4d9221"
            ],
            [
             1,
             "#276419"
            ]
           ],
           "sequential": [
            [
             0,
             "#0d0887"
            ],
            [
             0.1111111111111111,
             "#46039f"
            ],
            [
             0.2222222222222222,
             "#7201a8"
            ],
            [
             0.3333333333333333,
             "#9c179e"
            ],
            [
             0.4444444444444444,
             "#bd3786"
            ],
            [
             0.5555555555555556,
             "#d8576b"
            ],
            [
             0.6666666666666666,
             "#ed7953"
            ],
            [
             0.7777777777777778,
             "#fb9f3a"
            ],
            [
             0.8888888888888888,
             "#fdca26"
            ],
            [
             1,
             "#f0f921"
            ]
           ],
           "sequentialminus": [
            [
             0,
             "#0d0887"
            ],
            [
             0.1111111111111111,
             "#46039f"
            ],
            [
             0.2222222222222222,
             "#7201a8"
            ],
            [
             0.3333333333333333,
             "#9c179e"
            ],
            [
             0.4444444444444444,
             "#bd3786"
            ],
            [
             0.5555555555555556,
             "#d8576b"
            ],
            [
             0.6666666666666666,
             "#ed7953"
            ],
            [
             0.7777777777777778,
             "#fb9f3a"
            ],
            [
             0.8888888888888888,
             "#fdca26"
            ],
            [
             1,
             "#f0f921"
            ]
           ]
          },
          "colorway": [
           "#636efa",
           "#EF553B",
           "#00cc96",
           "#ab63fa",
           "#FFA15A",
           "#19d3f3",
           "#FF6692",
           "#B6E880",
           "#FF97FF",
           "#FECB52"
          ],
          "font": {
           "color": "#2a3f5f"
          },
          "geo": {
           "bgcolor": "white",
           "lakecolor": "white",
           "landcolor": "#E5ECF6",
           "showlakes": true,
           "showland": true,
           "subunitcolor": "white"
          },
          "hoverlabel": {
           "align": "left"
          },
          "hovermode": "closest",
          "mapbox": {
           "style": "light"
          },
          "paper_bgcolor": "white",
          "plot_bgcolor": "#E5ECF6",
          "polar": {
           "angularaxis": {
            "gridcolor": "white",
            "linecolor": "white",
            "ticks": ""
           },
           "bgcolor": "#E5ECF6",
           "radialaxis": {
            "gridcolor": "white",
            "linecolor": "white",
            "ticks": ""
           }
          },
          "scene": {
           "xaxis": {
            "backgroundcolor": "#E5ECF6",
            "gridcolor": "white",
            "gridwidth": 2,
            "linecolor": "white",
            "showbackground": true,
            "ticks": "",
            "zerolinecolor": "white"
           },
           "yaxis": {
            "backgroundcolor": "#E5ECF6",
            "gridcolor": "white",
            "gridwidth": 2,
            "linecolor": "white",
            "showbackground": true,
            "ticks": "",
            "zerolinecolor": "white"
           },
           "zaxis": {
            "backgroundcolor": "#E5ECF6",
            "gridcolor": "white",
            "gridwidth": 2,
            "linecolor": "white",
            "showbackground": true,
            "ticks": "",
            "zerolinecolor": "white"
           }
          },
          "shapedefaults": {
           "line": {
            "color": "#2a3f5f"
           }
          },
          "ternary": {
           "aaxis": {
            "gridcolor": "white",
            "linecolor": "white",
            "ticks": ""
           },
           "baxis": {
            "gridcolor": "white",
            "linecolor": "white",
            "ticks": ""
           },
           "bgcolor": "#E5ECF6",
           "caxis": {
            "gridcolor": "white",
            "linecolor": "white",
            "ticks": ""
           }
          },
          "title": {
           "x": 0.05
          },
          "xaxis": {
           "automargin": true,
           "gridcolor": "white",
           "linecolor": "white",
           "ticks": "",
           "title": {
            "standoff": 15
           },
           "zerolinecolor": "white",
           "zerolinewidth": 2
          },
          "yaxis": {
           "automargin": true,
           "gridcolor": "white",
           "linecolor": "white",
           "ticks": "",
           "title": {
            "standoff": 15
           },
           "zerolinecolor": "white",
           "zerolinewidth": 2
          }
         }
        },
        "width": 600,
        "xaxis": {
         "title": {
          "text": "C2"
         }
        },
        "yaxis": {
         "range": [
          0,
          1
         ],
         "title": {
          "text": "AUC"
         }
        }
       }
      }
     },
     "metadata": {},
     "output_type": "display_data"
    }
   ],
   "source": [
    "import plotly.graph_objects as go\n",
    "index = ['モデル 4', 'モデル 5']\n",
    "\n",
    "# データを準備\n",
    "tmp_mean = [\n",
    "    {info: df.loc['linear svm (L)', 'auc'] for info, df in zip(infos, dfs_mean)},\n",
    "    {info: df.loc['non-linear svm (L)', 'auc'] for info, df in zip(infos, dfs_mean)}\n",
    "]\n",
    "tmp_mean = pd.DataFrame(tmp_mean, index=index)\n",
    "\n",
    "tmp_std = [\n",
    "    {info: df.loc['linear svm (L)', 'auc'] for info, df in zip(infos, dfs_std)},\n",
    "    {info: df.loc['non-linear svm (L)', 'auc'] for info, df in zip(infos, dfs_std)}\n",
    "]\n",
    "tmp_std = pd.DataFrame(tmp_std, index=index)\n",
    "\n",
    "# 折れ線グラフの作成\n",
    "fig = go.Figure()\n",
    "\n",
    "# 平均値のプロット\n",
    "fig.add_trace(\n",
    "    go.Scatter(\n",
    "        x=tmp_mean.columns,\n",
    "        y=tmp_mean.iloc[0, :],\n",
    "        mode='lines+markers', \n",
    "        name=tmp_mean.index[0]\n",
    "    )\n",
    ")\n",
    "\n",
    "fig.add_trace(\n",
    "    go.Scatter(\n",
    "        x=tmp_mean.columns,\n",
    "        y=tmp_mean.iloc[1, :],\n",
    "        mode='lines+markers', \n",
    "        name=tmp_mean.index[1]\n",
    "    )\n",
    ")\n",
    "\n",
    "# 標準偏差の縦棒の追加\n",
    "fig.add_trace(\n",
    "    go.Scatter(\n",
    "        x=tmp_mean.columns,\n",
    "        y=tmp_mean.iloc[0, :] + tmp_std.iloc[0, :],\n",
    "        mode='lines',\n",
    "        line=dict(color='rgba(0,176,246,0.2)', width=0),\n",
    "        showlegend=False\n",
    "    )\n",
    ")\n",
    "\n",
    "fig.add_trace(\n",
    "    go.Scatter(\n",
    "        x=tmp_mean.columns,\n",
    "        y=tmp_mean.iloc[0, :] - tmp_std.iloc[0, :],\n",
    "        mode='lines',\n",
    "        fill='tonexty',\n",
    "        fillcolor='rgba(0,176,246,0.2)',\n",
    "        line=dict(color='rgba(255,255,255,0)'),\n",
    "        showlegend=False\n",
    "    )\n",
    ")\n",
    "\n",
    "fig.add_trace(\n",
    "    go.Scatter(\n",
    "        x=tmp_mean.columns,\n",
    "        y=tmp_mean.iloc[1, :] + tmp_std.iloc[1, :],\n",
    "        mode='lines',\n",
    "        line=dict(color='rgba(231,107,243,0.2)', width=0),\n",
    "        showlegend=False\n",
    "    )\n",
    ")\n",
    "\n",
    "fig.add_trace(\n",
    "    go.Scatter(\n",
    "        x=tmp_mean.columns,\n",
    "        y=tmp_mean.iloc[1, :] - tmp_std.iloc[1, :],\n",
    "        mode='lines',\n",
    "        fill='tonexty',\n",
    "        fillcolor='rgba(231,107,243,0.2)',\n",
    "        line=dict(color='rgba(255,255,255,0)'),\n",
    "        showlegend=False\n",
    "    )\n",
    ")\n",
    "\n",
    "fig.update_layout(\n",
    "    height=400,\n",
    "    width=600,\n",
    "    legend=dict(\n",
    "        x=0.75,\n",
    "        y=0.05\n",
    "    ),\n",
    "    xaxis_title='C2', \n",
    "    yaxis_title='AUC', \n",
    "    yaxis=dict(range=[0, 1])\n",
    ")\n",
    "fig.show()"
   ]
  },
  {
   "cell_type": "code",
   "execution_count": 127,
   "metadata": {},
   "outputs": [
    {
     "data": {
      "application/vnd.plotly.v1+json": {
       "config": {
        "plotlyServerURL": "https://plot.ly"
       },
       "data": [
        {
         "mode": "lines+markers",
         "name": "モデル 4",
         "type": "scatter",
         "x": [
          0.1,
          1,
          5,
          10,
          20,
          50,
          100,
          1000
         ],
         "y": [
          0.5962754867521601,
          0.7009803921568627,
          0.5935294117647059,
          0.6220263922511173,
          0.6189441930618401,
          0.5563142554319025,
          0.5905526317392443,
          0.6524816031509744
         ]
        },
        {
         "mode": "lines+markers",
         "name": "モデル 5",
         "type": "scatter",
         "x": [
          0.1,
          1,
          5,
          10,
          20,
          50,
          100,
          1000
         ],
         "y": [
          0.6214509508728575,
          0.6158496732026144,
          0.6927824463118581,
          0.676936441619371,
          0.6630718954248366,
          0.7290487546369899,
          0.6911468060352441,
          0.6666392277751305
         ]
        },
        {
         "line": {
          "color": "rgba(0,176,246,0.2)",
          "width": 0
         },
         "mode": "lines",
         "showlegend": false,
         "type": "scatter",
         "x": [
          0.1,
          1,
          5,
          10,
          20,
          50,
          100,
          1000
         ],
         "y": [
          0.6275076755204698,
          0.805712708714303,
          0.6214740806421539,
          0.750884477539534,
          0.7534677008373161,
          0.6157039210014389,
          0.6163181072308737,
          0.71361703253707
         ]
        },
        {
         "fill": "tonexty",
         "fillcolor": "rgba(0,176,246,0.2)",
         "line": {
          "color": "rgba(255,255,255,0)"
         },
         "mode": "lines",
         "showlegend": false,
         "type": "scatter",
         "x": [
          0.1,
          1,
          5,
          10,
          20,
          50,
          100,
          1000
         ],
         "y": [
          0.5650432979838504,
          0.5962480755994224,
          0.5655847428872578,
          0.49316830696270064,
          0.48442068528636417,
          0.4969245898623661,
          0.564787156247615,
          0.5913461737648787
         ]
        },
        {
         "line": {
          "color": "rgba(231,107,243,0.2)",
          "width": 0
         },
         "mode": "lines",
         "showlegend": false,
         "type": "scatter",
         "x": [
          0.1,
          1,
          5,
          10,
          20,
          50,
          100,
          1000
         ],
         "y": [
          0.7170219034091976,
          0.7194507585548195,
          0.8041671223705067,
          0.770367439941615,
          0.7073441975787426,
          0.7960134080781494,
          0.806157717413567,
          0.7315632250627635
         ]
        },
        {
         "fill": "tonexty",
         "fillcolor": "rgba(231,107,243,0.2)",
         "line": {
          "color": "rgba(255,255,255,0)"
         },
         "mode": "lines",
         "showlegend": false,
         "type": "scatter",
         "x": [
          0.1,
          1,
          5,
          10,
          20,
          50,
          100,
          1000
         ],
         "y": [
          0.5258799983365174,
          0.5122485878504093,
          0.5813977702532096,
          0.5835054432971271,
          0.6187995932709306,
          0.6620841011958305,
          0.5761358946569213,
          0.6017152304874975
         ]
        }
       ],
       "layout": {
        "height": 400,
        "legend": {
         "x": 0.75,
         "y": 0.05
        },
        "template": {
         "data": {
          "bar": [
           {
            "error_x": {
             "color": "#2a3f5f"
            },
            "error_y": {
             "color": "#2a3f5f"
            },
            "marker": {
             "line": {
              "color": "#E5ECF6",
              "width": 0.5
             },
             "pattern": {
              "fillmode": "overlay",
              "size": 10,
              "solidity": 0.2
             }
            },
            "type": "bar"
           }
          ],
          "barpolar": [
           {
            "marker": {
             "line": {
              "color": "#E5ECF6",
              "width": 0.5
             },
             "pattern": {
              "fillmode": "overlay",
              "size": 10,
              "solidity": 0.2
             }
            },
            "type": "barpolar"
           }
          ],
          "carpet": [
           {
            "aaxis": {
             "endlinecolor": "#2a3f5f",
             "gridcolor": "white",
             "linecolor": "white",
             "minorgridcolor": "white",
             "startlinecolor": "#2a3f5f"
            },
            "baxis": {
             "endlinecolor": "#2a3f5f",
             "gridcolor": "white",
             "linecolor": "white",
             "minorgridcolor": "white",
             "startlinecolor": "#2a3f5f"
            },
            "type": "carpet"
           }
          ],
          "choropleth": [
           {
            "colorbar": {
             "outlinewidth": 0,
             "ticks": ""
            },
            "type": "choropleth"
           }
          ],
          "contour": [
           {
            "colorbar": {
             "outlinewidth": 0,
             "ticks": ""
            },
            "colorscale": [
             [
              0,
              "#0d0887"
             ],
             [
              0.1111111111111111,
              "#46039f"
             ],
             [
              0.2222222222222222,
              "#7201a8"
             ],
             [
              0.3333333333333333,
              "#9c179e"
             ],
             [
              0.4444444444444444,
              "#bd3786"
             ],
             [
              0.5555555555555556,
              "#d8576b"
             ],
             [
              0.6666666666666666,
              "#ed7953"
             ],
             [
              0.7777777777777778,
              "#fb9f3a"
             ],
             [
              0.8888888888888888,
              "#fdca26"
             ],
             [
              1,
              "#f0f921"
             ]
            ],
            "type": "contour"
           }
          ],
          "contourcarpet": [
           {
            "colorbar": {
             "outlinewidth": 0,
             "ticks": ""
            },
            "type": "contourcarpet"
           }
          ],
          "heatmap": [
           {
            "colorbar": {
             "outlinewidth": 0,
             "ticks": ""
            },
            "colorscale": [
             [
              0,
              "#0d0887"
             ],
             [
              0.1111111111111111,
              "#46039f"
             ],
             [
              0.2222222222222222,
              "#7201a8"
             ],
             [
              0.3333333333333333,
              "#9c179e"
             ],
             [
              0.4444444444444444,
              "#bd3786"
             ],
             [
              0.5555555555555556,
              "#d8576b"
             ],
             [
              0.6666666666666666,
              "#ed7953"
             ],
             [
              0.7777777777777778,
              "#fb9f3a"
             ],
             [
              0.8888888888888888,
              "#fdca26"
             ],
             [
              1,
              "#f0f921"
             ]
            ],
            "type": "heatmap"
           }
          ],
          "heatmapgl": [
           {
            "colorbar": {
             "outlinewidth": 0,
             "ticks": ""
            },
            "colorscale": [
             [
              0,
              "#0d0887"
             ],
             [
              0.1111111111111111,
              "#46039f"
             ],
             [
              0.2222222222222222,
              "#7201a8"
             ],
             [
              0.3333333333333333,
              "#9c179e"
             ],
             [
              0.4444444444444444,
              "#bd3786"
             ],
             [
              0.5555555555555556,
              "#d8576b"
             ],
             [
              0.6666666666666666,
              "#ed7953"
             ],
             [
              0.7777777777777778,
              "#fb9f3a"
             ],
             [
              0.8888888888888888,
              "#fdca26"
             ],
             [
              1,
              "#f0f921"
             ]
            ],
            "type": "heatmapgl"
           }
          ],
          "histogram": [
           {
            "marker": {
             "pattern": {
              "fillmode": "overlay",
              "size": 10,
              "solidity": 0.2
             }
            },
            "type": "histogram"
           }
          ],
          "histogram2d": [
           {
            "colorbar": {
             "outlinewidth": 0,
             "ticks": ""
            },
            "colorscale": [
             [
              0,
              "#0d0887"
             ],
             [
              0.1111111111111111,
              "#46039f"
             ],
             [
              0.2222222222222222,
              "#7201a8"
             ],
             [
              0.3333333333333333,
              "#9c179e"
             ],
             [
              0.4444444444444444,
              "#bd3786"
             ],
             [
              0.5555555555555556,
              "#d8576b"
             ],
             [
              0.6666666666666666,
              "#ed7953"
             ],
             [
              0.7777777777777778,
              "#fb9f3a"
             ],
             [
              0.8888888888888888,
              "#fdca26"
             ],
             [
              1,
              "#f0f921"
             ]
            ],
            "type": "histogram2d"
           }
          ],
          "histogram2dcontour": [
           {
            "colorbar": {
             "outlinewidth": 0,
             "ticks": ""
            },
            "colorscale": [
             [
              0,
              "#0d0887"
             ],
             [
              0.1111111111111111,
              "#46039f"
             ],
             [
              0.2222222222222222,
              "#7201a8"
             ],
             [
              0.3333333333333333,
              "#9c179e"
             ],
             [
              0.4444444444444444,
              "#bd3786"
             ],
             [
              0.5555555555555556,
              "#d8576b"
             ],
             [
              0.6666666666666666,
              "#ed7953"
             ],
             [
              0.7777777777777778,
              "#fb9f3a"
             ],
             [
              0.8888888888888888,
              "#fdca26"
             ],
             [
              1,
              "#f0f921"
             ]
            ],
            "type": "histogram2dcontour"
           }
          ],
          "mesh3d": [
           {
            "colorbar": {
             "outlinewidth": 0,
             "ticks": ""
            },
            "type": "mesh3d"
           }
          ],
          "parcoords": [
           {
            "line": {
             "colorbar": {
              "outlinewidth": 0,
              "ticks": ""
             }
            },
            "type": "parcoords"
           }
          ],
          "pie": [
           {
            "automargin": true,
            "type": "pie"
           }
          ],
          "scatter": [
           {
            "fillpattern": {
             "fillmode": "overlay",
             "size": 10,
             "solidity": 0.2
            },
            "type": "scatter"
           }
          ],
          "scatter3d": [
           {
            "line": {
             "colorbar": {
              "outlinewidth": 0,
              "ticks": ""
             }
            },
            "marker": {
             "colorbar": {
              "outlinewidth": 0,
              "ticks": ""
             }
            },
            "type": "scatter3d"
           }
          ],
          "scattercarpet": [
           {
            "marker": {
             "colorbar": {
              "outlinewidth": 0,
              "ticks": ""
             }
            },
            "type": "scattercarpet"
           }
          ],
          "scattergeo": [
           {
            "marker": {
             "colorbar": {
              "outlinewidth": 0,
              "ticks": ""
             }
            },
            "type": "scattergeo"
           }
          ],
          "scattergl": [
           {
            "marker": {
             "colorbar": {
              "outlinewidth": 0,
              "ticks": ""
             }
            },
            "type": "scattergl"
           }
          ],
          "scattermapbox": [
           {
            "marker": {
             "colorbar": {
              "outlinewidth": 0,
              "ticks": ""
             }
            },
            "type": "scattermapbox"
           }
          ],
          "scatterpolar": [
           {
            "marker": {
             "colorbar": {
              "outlinewidth": 0,
              "ticks": ""
             }
            },
            "type": "scatterpolar"
           }
          ],
          "scatterpolargl": [
           {
            "marker": {
             "colorbar": {
              "outlinewidth": 0,
              "ticks": ""
             }
            },
            "type": "scatterpolargl"
           }
          ],
          "scatterternary": [
           {
            "marker": {
             "colorbar": {
              "outlinewidth": 0,
              "ticks": ""
             }
            },
            "type": "scatterternary"
           }
          ],
          "surface": [
           {
            "colorbar": {
             "outlinewidth": 0,
             "ticks": ""
            },
            "colorscale": [
             [
              0,
              "#0d0887"
             ],
             [
              0.1111111111111111,
              "#46039f"
             ],
             [
              0.2222222222222222,
              "#7201a8"
             ],
             [
              0.3333333333333333,
              "#9c179e"
             ],
             [
              0.4444444444444444,
              "#bd3786"
             ],
             [
              0.5555555555555556,
              "#d8576b"
             ],
             [
              0.6666666666666666,
              "#ed7953"
             ],
             [
              0.7777777777777778,
              "#fb9f3a"
             ],
             [
              0.8888888888888888,
              "#fdca26"
             ],
             [
              1,
              "#f0f921"
             ]
            ],
            "type": "surface"
           }
          ],
          "table": [
           {
            "cells": {
             "fill": {
              "color": "#EBF0F8"
             },
             "line": {
              "color": "white"
             }
            },
            "header": {
             "fill": {
              "color": "#C8D4E3"
             },
             "line": {
              "color": "white"
             }
            },
            "type": "table"
           }
          ]
         },
         "layout": {
          "annotationdefaults": {
           "arrowcolor": "#2a3f5f",
           "arrowhead": 0,
           "arrowwidth": 1
          },
          "autotypenumbers": "strict",
          "coloraxis": {
           "colorbar": {
            "outlinewidth": 0,
            "ticks": ""
           }
          },
          "colorscale": {
           "diverging": [
            [
             0,
             "#8e0152"
            ],
            [
             0.1,
             "#c51b7d"
            ],
            [
             0.2,
             "#de77ae"
            ],
            [
             0.3,
             "#f1b6da"
            ],
            [
             0.4,
             "#fde0ef"
            ],
            [
             0.5,
             "#f7f7f7"
            ],
            [
             0.6,
             "#e6f5d0"
            ],
            [
             0.7,
             "#b8e186"
            ],
            [
             0.8,
             "#7fbc41"
            ],
            [
             0.9,
             "#4d9221"
            ],
            [
             1,
             "#276419"
            ]
           ],
           "sequential": [
            [
             0,
             "#0d0887"
            ],
            [
             0.1111111111111111,
             "#46039f"
            ],
            [
             0.2222222222222222,
             "#7201a8"
            ],
            [
             0.3333333333333333,
             "#9c179e"
            ],
            [
             0.4444444444444444,
             "#bd3786"
            ],
            [
             0.5555555555555556,
             "#d8576b"
            ],
            [
             0.6666666666666666,
             "#ed7953"
            ],
            [
             0.7777777777777778,
             "#fb9f3a"
            ],
            [
             0.8888888888888888,
             "#fdca26"
            ],
            [
             1,
             "#f0f921"
            ]
           ],
           "sequentialminus": [
            [
             0,
             "#0d0887"
            ],
            [
             0.1111111111111111,
             "#46039f"
            ],
            [
             0.2222222222222222,
             "#7201a8"
            ],
            [
             0.3333333333333333,
             "#9c179e"
            ],
            [
             0.4444444444444444,
             "#bd3786"
            ],
            [
             0.5555555555555556,
             "#d8576b"
            ],
            [
             0.6666666666666666,
             "#ed7953"
            ],
            [
             0.7777777777777778,
             "#fb9f3a"
            ],
            [
             0.8888888888888888,
             "#fdca26"
            ],
            [
             1,
             "#f0f921"
            ]
           ]
          },
          "colorway": [
           "#636efa",
           "#EF553B",
           "#00cc96",
           "#ab63fa",
           "#FFA15A",
           "#19d3f3",
           "#FF6692",
           "#B6E880",
           "#FF97FF",
           "#FECB52"
          ],
          "font": {
           "color": "#2a3f5f"
          },
          "geo": {
           "bgcolor": "white",
           "lakecolor": "white",
           "landcolor": "#E5ECF6",
           "showlakes": true,
           "showland": true,
           "subunitcolor": "white"
          },
          "hoverlabel": {
           "align": "left"
          },
          "hovermode": "closest",
          "mapbox": {
           "style": "light"
          },
          "paper_bgcolor": "white",
          "plot_bgcolor": "#E5ECF6",
          "polar": {
           "angularaxis": {
            "gridcolor": "white",
            "linecolor": "white",
            "ticks": ""
           },
           "bgcolor": "#E5ECF6",
           "radialaxis": {
            "gridcolor": "white",
            "linecolor": "white",
            "ticks": ""
           }
          },
          "scene": {
           "xaxis": {
            "backgroundcolor": "#E5ECF6",
            "gridcolor": "white",
            "gridwidth": 2,
            "linecolor": "white",
            "showbackground": true,
            "ticks": "",
            "zerolinecolor": "white"
           },
           "yaxis": {
            "backgroundcolor": "#E5ECF6",
            "gridcolor": "white",
            "gridwidth": 2,
            "linecolor": "white",
            "showbackground": true,
            "ticks": "",
            "zerolinecolor": "white"
           },
           "zaxis": {
            "backgroundcolor": "#E5ECF6",
            "gridcolor": "white",
            "gridwidth": 2,
            "linecolor": "white",
            "showbackground": true,
            "ticks": "",
            "zerolinecolor": "white"
           }
          },
          "shapedefaults": {
           "line": {
            "color": "#2a3f5f"
           }
          },
          "ternary": {
           "aaxis": {
            "gridcolor": "white",
            "linecolor": "white",
            "ticks": ""
           },
           "baxis": {
            "gridcolor": "white",
            "linecolor": "white",
            "ticks": ""
           },
           "bgcolor": "#E5ECF6",
           "caxis": {
            "gridcolor": "white",
            "linecolor": "white",
            "ticks": ""
           }
          },
          "title": {
           "x": 0.05
          },
          "xaxis": {
           "automargin": true,
           "gridcolor": "white",
           "linecolor": "white",
           "ticks": "",
           "title": {
            "standoff": 15
           },
           "zerolinecolor": "white",
           "zerolinewidth": 2
          },
          "yaxis": {
           "automargin": true,
           "gridcolor": "white",
           "linecolor": "white",
           "ticks": "",
           "title": {
            "standoff": 15
           },
           "zerolinecolor": "white",
           "zerolinewidth": 2
          }
         }
        },
        "width": 600,
        "xaxis": {
         "title": {
          "text": "C2"
         }
        },
        "yaxis": {
         "range": [
          0,
          1
         ],
         "title": {
          "text": "ルール違反率"
         }
        }
       }
      }
     },
     "metadata": {},
     "output_type": "display_data"
    }
   ],
   "source": [
    "import plotly.graph_objects as go\n",
    "\n",
    "index = ['モデル 4', 'モデル 5']\n",
    "\n",
    "# データを準備\n",
    "tmp_mean = [\n",
    "    {info: df.loc['linear svm (L)', 'violation_rate'] for info, df in zip(infos, dfs_mean)},\n",
    "    {info: df.loc['non-linear svm (L)', 'violation_rate'] for info, df in zip(infos, dfs_mean)}\n",
    "]\n",
    "tmp_mean = pd.DataFrame(tmp_mean, index=index)\n",
    "\n",
    "tmp_std = [\n",
    "    {info: df.loc['linear svm (L)', 'violation_rate'] for info, df in zip(infos, dfs_std)},\n",
    "    {info: df.loc['non-linear svm (L)', 'violation_rate'] for info, df in zip(infos, dfs_std)}\n",
    "]\n",
    "tmp_std = pd.DataFrame(tmp_std, index=index)\n",
    "\n",
    "# 折れ線グラフの作成\n",
    "fig = go.Figure()\n",
    "\n",
    "# 平均値のプロット\n",
    "fig.add_trace(\n",
    "    go.Scatter(\n",
    "        x=tmp_mean.columns,\n",
    "        y=tmp_mean.iloc[0, :],\n",
    "        mode='lines+markers', \n",
    "        name=tmp_mean.index[0]\n",
    "    )\n",
    ")\n",
    "\n",
    "fig.add_trace(\n",
    "    go.Scatter(\n",
    "        x=tmp_mean.columns,\n",
    "        y=tmp_mean.iloc[1, :],\n",
    "        mode='lines+markers', \n",
    "        name=tmp_mean.index[1]\n",
    "    )\n",
    ")\n",
    "\n",
    "# 標準偏差の縦棒の追加\n",
    "fig.add_trace(\n",
    "    go.Scatter(\n",
    "        x=tmp_mean.columns,\n",
    "        y=tmp_mean.iloc[0, :] + tmp_std.iloc[0, :],\n",
    "        mode='lines',\n",
    "        line=dict(color='rgba(0,176,246,0.2)', width=0),\n",
    "        showlegend=False\n",
    "    )\n",
    ")\n",
    "\n",
    "fig.add_trace(\n",
    "    go.Scatter(\n",
    "        x=tmp_mean.columns,\n",
    "        y=tmp_mean.iloc[0, :] - tmp_std.iloc[0, :],\n",
    "        mode='lines',\n",
    "        fill='tonexty',\n",
    "        fillcolor='rgba(0,176,246,0.2)',\n",
    "        line=dict(color='rgba(255,255,255,0)'),\n",
    "        showlegend=False\n",
    "    )\n",
    ")\n",
    "\n",
    "fig.add_trace(\n",
    "    go.Scatter(\n",
    "        x=tmp_mean.columns,\n",
    "        y=tmp_mean.iloc[1, :] + tmp_std.iloc[1, :],\n",
    "        mode='lines',\n",
    "        line=dict(color='rgba(231,107,243,0.2)', width=0),\n",
    "        showlegend=False\n",
    "    )\n",
    ")\n",
    "\n",
    "fig.add_trace(\n",
    "    go.Scatter(\n",
    "        x=tmp_mean.columns,\n",
    "        y=tmp_mean.iloc[1, :] - tmp_std.iloc[1, :],\n",
    "        mode='lines',\n",
    "        fill='tonexty',\n",
    "        fillcolor='rgba(231,107,243,0.2)',\n",
    "        line=dict(color='rgba(255,255,255,0)'),\n",
    "        showlegend=False\n",
    "    )\n",
    ")\n",
    "\n",
    "fig.update_layout(\n",
    "    height=400,\n",
    "    width=600,\n",
    "    legend=dict(\n",
    "        x=0.75,\n",
    "        y=0.05\n",
    "    ),\n",
    "    xaxis_title='C2', \n",
    "    yaxis_title='ルール違反率', \n",
    "    yaxis=dict(range=[0, 1])\n",
    ")\n",
    "fig.show()"
   ]
  },
  {
   "cell_type": "code",
   "execution_count": null,
   "metadata": {},
   "outputs": [],
   "source": []
  },
  {
   "cell_type": "markdown",
   "metadata": {},
   "source": [
    "# 4"
   ]
  },
  {
   "cell_type": "code",
   "execution_count": 122,
   "metadata": {},
   "outputs": [],
   "source": [
    "result_file_paths = [\n",
    "    \"./experiments/version_11/result.json\",\n",
    "    \"./experiments/version_12/result.json\",\n",
    "    \"./experiments/version_13/result.json\",\n",
    "    \"./experiments/version_14/result.json\",\n",
    "    \"./experiments/version_15/result.json\"\n",
    "]\n",
    "\n",
    "result_dfs = []\n",
    "infos = []\n",
    "\n",
    "for path in result_file_paths:\n",
    "    with open(path, 'r') as f:\n",
    "        json_data = json.load(f)\n",
    "\n",
    "    infos.append(json_data['n_unsupervised'])\n",
    "\n",
    "    tmp = []\n",
    "\n",
    "    for fold, _ in json_data[\"result\"].items():\n",
    "        result_df = pd.DataFrame(json_data['result'][fold]).T\n",
    "        tmp.append(result_df)\n",
    "\n",
    "    result_dfs.append(tmp)\n",
    "\n",
    "combined_dfs = [pd.concat(dfs, ignore_index=False) for dfs in result_dfs]\n",
    "dfs_mean = [combined_df.groupby(combined_df.index).mean() for combined_df in combined_dfs]\n",
    "dfs_std = [combined_df.groupby(combined_df.index).std() for combined_df in combined_dfs]"
   ]
  },
  {
   "cell_type": "code",
   "execution_count": 123,
   "metadata": {},
   "outputs": [
    {
     "data": {
      "application/vnd.plotly.v1+json": {
       "config": {
        "plotlyServerURL": "https://plot.ly"
       },
       "data": [
        {
         "mode": "lines+markers",
         "name": "モデル 4",
         "type": "scatter",
         "x": [
          1,
          5,
          15,
          50,
          100
         ],
         "y": [
          0.7448748161393841,
          0.44147871787439136,
          0.36010160748554004,
          0.5888855415578171,
          0.4804022310350506
         ]
        },
        {
         "mode": "lines+markers",
         "name": "モデル 5",
         "type": "scatter",
         "x": [
          1,
          5,
          15,
          50,
          100
         ],
         "y": [
          0.8276739671472664,
          0.8248394185062071,
          0.8214928312182973,
          0.818856564939529,
          0.8180874888495122
         ]
        },
        {
         "line": {
          "color": "rgba(0,176,246,0.2)",
          "width": 0
         },
         "mode": "lines",
         "showlegend": false,
         "type": "scatter",
         "x": [
          1,
          5,
          15,
          50,
          100
         ],
         "y": [
          0.8062982116700033,
          0.7614259346765853,
          0.6083278021089622,
          0.8550572871270072,
          0.7810372002192584
         ]
        },
        {
         "fill": "tonexty",
         "fillcolor": "rgba(0,176,246,0.2)",
         "line": {
          "color": "rgba(255,255,255,0)"
         },
         "mode": "lines",
         "showlegend": false,
         "type": "scatter",
         "x": [
          1,
          5,
          15,
          50,
          100
         ],
         "y": [
          0.683451420608765,
          0.1215315010721974,
          0.11187541286211794,
          0.32271379598862704,
          0.1797672618508428
         ]
        },
        {
         "line": {
          "color": "rgba(231,107,243,0.2)",
          "width": 0
         },
         "mode": "lines",
         "showlegend": false,
         "type": "scatter",
         "x": [
          1,
          5,
          15,
          50,
          100
         ],
         "y": [
          0.8691879558303475,
          0.8670078069457633,
          0.8684058697615786,
          0.8620111056014049,
          0.8641858479516873
         ]
        },
        {
         "fill": "tonexty",
         "fillcolor": "rgba(231,107,243,0.2)",
         "line": {
          "color": "rgba(255,255,255,0)"
         },
         "mode": "lines",
         "showlegend": false,
         "type": "scatter",
         "x": [
          1,
          5,
          15,
          50,
          100
         ],
         "y": [
          0.7861599784641853,
          0.782671030066651,
          0.774579792675016,
          0.775702024277653,
          0.7719891297473371
         ]
        }
       ],
       "layout": {
        "height": 400,
        "legend": {
         "x": 0.75,
         "y": 0.05
        },
        "template": {
         "data": {
          "bar": [
           {
            "error_x": {
             "color": "#2a3f5f"
            },
            "error_y": {
             "color": "#2a3f5f"
            },
            "marker": {
             "line": {
              "color": "#E5ECF6",
              "width": 0.5
             },
             "pattern": {
              "fillmode": "overlay",
              "size": 10,
              "solidity": 0.2
             }
            },
            "type": "bar"
           }
          ],
          "barpolar": [
           {
            "marker": {
             "line": {
              "color": "#E5ECF6",
              "width": 0.5
             },
             "pattern": {
              "fillmode": "overlay",
              "size": 10,
              "solidity": 0.2
             }
            },
            "type": "barpolar"
           }
          ],
          "carpet": [
           {
            "aaxis": {
             "endlinecolor": "#2a3f5f",
             "gridcolor": "white",
             "linecolor": "white",
             "minorgridcolor": "white",
             "startlinecolor": "#2a3f5f"
            },
            "baxis": {
             "endlinecolor": "#2a3f5f",
             "gridcolor": "white",
             "linecolor": "white",
             "minorgridcolor": "white",
             "startlinecolor": "#2a3f5f"
            },
            "type": "carpet"
           }
          ],
          "choropleth": [
           {
            "colorbar": {
             "outlinewidth": 0,
             "ticks": ""
            },
            "type": "choropleth"
           }
          ],
          "contour": [
           {
            "colorbar": {
             "outlinewidth": 0,
             "ticks": ""
            },
            "colorscale": [
             [
              0,
              "#0d0887"
             ],
             [
              0.1111111111111111,
              "#46039f"
             ],
             [
              0.2222222222222222,
              "#7201a8"
             ],
             [
              0.3333333333333333,
              "#9c179e"
             ],
             [
              0.4444444444444444,
              "#bd3786"
             ],
             [
              0.5555555555555556,
              "#d8576b"
             ],
             [
              0.6666666666666666,
              "#ed7953"
             ],
             [
              0.7777777777777778,
              "#fb9f3a"
             ],
             [
              0.8888888888888888,
              "#fdca26"
             ],
             [
              1,
              "#f0f921"
             ]
            ],
            "type": "contour"
           }
          ],
          "contourcarpet": [
           {
            "colorbar": {
             "outlinewidth": 0,
             "ticks": ""
            },
            "type": "contourcarpet"
           }
          ],
          "heatmap": [
           {
            "colorbar": {
             "outlinewidth": 0,
             "ticks": ""
            },
            "colorscale": [
             [
              0,
              "#0d0887"
             ],
             [
              0.1111111111111111,
              "#46039f"
             ],
             [
              0.2222222222222222,
              "#7201a8"
             ],
             [
              0.3333333333333333,
              "#9c179e"
             ],
             [
              0.4444444444444444,
              "#bd3786"
             ],
             [
              0.5555555555555556,
              "#d8576b"
             ],
             [
              0.6666666666666666,
              "#ed7953"
             ],
             [
              0.7777777777777778,
              "#fb9f3a"
             ],
             [
              0.8888888888888888,
              "#fdca26"
             ],
             [
              1,
              "#f0f921"
             ]
            ],
            "type": "heatmap"
           }
          ],
          "heatmapgl": [
           {
            "colorbar": {
             "outlinewidth": 0,
             "ticks": ""
            },
            "colorscale": [
             [
              0,
              "#0d0887"
             ],
             [
              0.1111111111111111,
              "#46039f"
             ],
             [
              0.2222222222222222,
              "#7201a8"
             ],
             [
              0.3333333333333333,
              "#9c179e"
             ],
             [
              0.4444444444444444,
              "#bd3786"
             ],
             [
              0.5555555555555556,
              "#d8576b"
             ],
             [
              0.6666666666666666,
              "#ed7953"
             ],
             [
              0.7777777777777778,
              "#fb9f3a"
             ],
             [
              0.8888888888888888,
              "#fdca26"
             ],
             [
              1,
              "#f0f921"
             ]
            ],
            "type": "heatmapgl"
           }
          ],
          "histogram": [
           {
            "marker": {
             "pattern": {
              "fillmode": "overlay",
              "size": 10,
              "solidity": 0.2
             }
            },
            "type": "histogram"
           }
          ],
          "histogram2d": [
           {
            "colorbar": {
             "outlinewidth": 0,
             "ticks": ""
            },
            "colorscale": [
             [
              0,
              "#0d0887"
             ],
             [
              0.1111111111111111,
              "#46039f"
             ],
             [
              0.2222222222222222,
              "#7201a8"
             ],
             [
              0.3333333333333333,
              "#9c179e"
             ],
             [
              0.4444444444444444,
              "#bd3786"
             ],
             [
              0.5555555555555556,
              "#d8576b"
             ],
             [
              0.6666666666666666,
              "#ed7953"
             ],
             [
              0.7777777777777778,
              "#fb9f3a"
             ],
             [
              0.8888888888888888,
              "#fdca26"
             ],
             [
              1,
              "#f0f921"
             ]
            ],
            "type": "histogram2d"
           }
          ],
          "histogram2dcontour": [
           {
            "colorbar": {
             "outlinewidth": 0,
             "ticks": ""
            },
            "colorscale": [
             [
              0,
              "#0d0887"
             ],
             [
              0.1111111111111111,
              "#46039f"
             ],
             [
              0.2222222222222222,
              "#7201a8"
             ],
             [
              0.3333333333333333,
              "#9c179e"
             ],
             [
              0.4444444444444444,
              "#bd3786"
             ],
             [
              0.5555555555555556,
              "#d8576b"
             ],
             [
              0.6666666666666666,
              "#ed7953"
             ],
             [
              0.7777777777777778,
              "#fb9f3a"
             ],
             [
              0.8888888888888888,
              "#fdca26"
             ],
             [
              1,
              "#f0f921"
             ]
            ],
            "type": "histogram2dcontour"
           }
          ],
          "mesh3d": [
           {
            "colorbar": {
             "outlinewidth": 0,
             "ticks": ""
            },
            "type": "mesh3d"
           }
          ],
          "parcoords": [
           {
            "line": {
             "colorbar": {
              "outlinewidth": 0,
              "ticks": ""
             }
            },
            "type": "parcoords"
           }
          ],
          "pie": [
           {
            "automargin": true,
            "type": "pie"
           }
          ],
          "scatter": [
           {
            "fillpattern": {
             "fillmode": "overlay",
             "size": 10,
             "solidity": 0.2
            },
            "type": "scatter"
           }
          ],
          "scatter3d": [
           {
            "line": {
             "colorbar": {
              "outlinewidth": 0,
              "ticks": ""
             }
            },
            "marker": {
             "colorbar": {
              "outlinewidth": 0,
              "ticks": ""
             }
            },
            "type": "scatter3d"
           }
          ],
          "scattercarpet": [
           {
            "marker": {
             "colorbar": {
              "outlinewidth": 0,
              "ticks": ""
             }
            },
            "type": "scattercarpet"
           }
          ],
          "scattergeo": [
           {
            "marker": {
             "colorbar": {
              "outlinewidth": 0,
              "ticks": ""
             }
            },
            "type": "scattergeo"
           }
          ],
          "scattergl": [
           {
            "marker": {
             "colorbar": {
              "outlinewidth": 0,
              "ticks": ""
             }
            },
            "type": "scattergl"
           }
          ],
          "scattermapbox": [
           {
            "marker": {
             "colorbar": {
              "outlinewidth": 0,
              "ticks": ""
             }
            },
            "type": "scattermapbox"
           }
          ],
          "scatterpolar": [
           {
            "marker": {
             "colorbar": {
              "outlinewidth": 0,
              "ticks": ""
             }
            },
            "type": "scatterpolar"
           }
          ],
          "scatterpolargl": [
           {
            "marker": {
             "colorbar": {
              "outlinewidth": 0,
              "ticks": ""
             }
            },
            "type": "scatterpolargl"
           }
          ],
          "scatterternary": [
           {
            "marker": {
             "colorbar": {
              "outlinewidth": 0,
              "ticks": ""
             }
            },
            "type": "scatterternary"
           }
          ],
          "surface": [
           {
            "colorbar": {
             "outlinewidth": 0,
             "ticks": ""
            },
            "colorscale": [
             [
              0,
              "#0d0887"
             ],
             [
              0.1111111111111111,
              "#46039f"
             ],
             [
              0.2222222222222222,
              "#7201a8"
             ],
             [
              0.3333333333333333,
              "#9c179e"
             ],
             [
              0.4444444444444444,
              "#bd3786"
             ],
             [
              0.5555555555555556,
              "#d8576b"
             ],
             [
              0.6666666666666666,
              "#ed7953"
             ],
             [
              0.7777777777777778,
              "#fb9f3a"
             ],
             [
              0.8888888888888888,
              "#fdca26"
             ],
             [
              1,
              "#f0f921"
             ]
            ],
            "type": "surface"
           }
          ],
          "table": [
           {
            "cells": {
             "fill": {
              "color": "#EBF0F8"
             },
             "line": {
              "color": "white"
             }
            },
            "header": {
             "fill": {
              "color": "#C8D4E3"
             },
             "line": {
              "color": "white"
             }
            },
            "type": "table"
           }
          ]
         },
         "layout": {
          "annotationdefaults": {
           "arrowcolor": "#2a3f5f",
           "arrowhead": 0,
           "arrowwidth": 1
          },
          "autotypenumbers": "strict",
          "coloraxis": {
           "colorbar": {
            "outlinewidth": 0,
            "ticks": ""
           }
          },
          "colorscale": {
           "diverging": [
            [
             0,
             "#8e0152"
            ],
            [
             0.1,
             "#c51b7d"
            ],
            [
             0.2,
             "#de77ae"
            ],
            [
             0.3,
             "#f1b6da"
            ],
            [
             0.4,
             "#fde0ef"
            ],
            [
             0.5,
             "#f7f7f7"
            ],
            [
             0.6,
             "#e6f5d0"
            ],
            [
             0.7,
             "#b8e186"
            ],
            [
             0.8,
             "#7fbc41"
            ],
            [
             0.9,
             "#4d9221"
            ],
            [
             1,
             "#276419"
            ]
           ],
           "sequential": [
            [
             0,
             "#0d0887"
            ],
            [
             0.1111111111111111,
             "#46039f"
            ],
            [
             0.2222222222222222,
             "#7201a8"
            ],
            [
             0.3333333333333333,
             "#9c179e"
            ],
            [
             0.4444444444444444,
             "#bd3786"
            ],
            [
             0.5555555555555556,
             "#d8576b"
            ],
            [
             0.6666666666666666,
             "#ed7953"
            ],
            [
             0.7777777777777778,
             "#fb9f3a"
            ],
            [
             0.8888888888888888,
             "#fdca26"
            ],
            [
             1,
             "#f0f921"
            ]
           ],
           "sequentialminus": [
            [
             0,
             "#0d0887"
            ],
            [
             0.1111111111111111,
             "#46039f"
            ],
            [
             0.2222222222222222,
             "#7201a8"
            ],
            [
             0.3333333333333333,
             "#9c179e"
            ],
            [
             0.4444444444444444,
             "#bd3786"
            ],
            [
             0.5555555555555556,
             "#d8576b"
            ],
            [
             0.6666666666666666,
             "#ed7953"
            ],
            [
             0.7777777777777778,
             "#fb9f3a"
            ],
            [
             0.8888888888888888,
             "#fdca26"
            ],
            [
             1,
             "#f0f921"
            ]
           ]
          },
          "colorway": [
           "#636efa",
           "#EF553B",
           "#00cc96",
           "#ab63fa",
           "#FFA15A",
           "#19d3f3",
           "#FF6692",
           "#B6E880",
           "#FF97FF",
           "#FECB52"
          ],
          "font": {
           "color": "#2a3f5f"
          },
          "geo": {
           "bgcolor": "white",
           "lakecolor": "white",
           "landcolor": "#E5ECF6",
           "showlakes": true,
           "showland": true,
           "subunitcolor": "white"
          },
          "hoverlabel": {
           "align": "left"
          },
          "hovermode": "closest",
          "mapbox": {
           "style": "light"
          },
          "paper_bgcolor": "white",
          "plot_bgcolor": "#E5ECF6",
          "polar": {
           "angularaxis": {
            "gridcolor": "white",
            "linecolor": "white",
            "ticks": ""
           },
           "bgcolor": "#E5ECF6",
           "radialaxis": {
            "gridcolor": "white",
            "linecolor": "white",
            "ticks": ""
           }
          },
          "scene": {
           "xaxis": {
            "backgroundcolor": "#E5ECF6",
            "gridcolor": "white",
            "gridwidth": 2,
            "linecolor": "white",
            "showbackground": true,
            "ticks": "",
            "zerolinecolor": "white"
           },
           "yaxis": {
            "backgroundcolor": "#E5ECF6",
            "gridcolor": "white",
            "gridwidth": 2,
            "linecolor": "white",
            "showbackground": true,
            "ticks": "",
            "zerolinecolor": "white"
           },
           "zaxis": {
            "backgroundcolor": "#E5ECF6",
            "gridcolor": "white",
            "gridwidth": 2,
            "linecolor": "white",
            "showbackground": true,
            "ticks": "",
            "zerolinecolor": "white"
           }
          },
          "shapedefaults": {
           "line": {
            "color": "#2a3f5f"
           }
          },
          "ternary": {
           "aaxis": {
            "gridcolor": "white",
            "linecolor": "white",
            "ticks": ""
           },
           "baxis": {
            "gridcolor": "white",
            "linecolor": "white",
            "ticks": ""
           },
           "bgcolor": "#E5ECF6",
           "caxis": {
            "gridcolor": "white",
            "linecolor": "white",
            "ticks": ""
           }
          },
          "title": {
           "x": 0.05
          },
          "xaxis": {
           "automargin": true,
           "gridcolor": "white",
           "linecolor": "white",
           "ticks": "",
           "title": {
            "standoff": 15
           },
           "zerolinecolor": "white",
           "zerolinewidth": 2
          },
          "yaxis": {
           "automargin": true,
           "gridcolor": "white",
           "linecolor": "white",
           "ticks": "",
           "title": {
            "standoff": 15
           },
           "zerolinecolor": "white",
           "zerolinewidth": 2
          }
         }
        },
        "width": 600,
        "xaxis": {
         "title": {
          "text": "教師なしデータ点数"
         }
        },
        "yaxis": {
         "range": [
          0,
          1
         ],
         "title": {
          "text": "AUC"
         }
        }
       }
      }
     },
     "metadata": {},
     "output_type": "display_data"
    }
   ],
   "source": [
    "import plotly.graph_objects as go\n",
    "\n",
    "index = ['モデル 4', 'モデル 5']\n",
    "\n",
    "# データを準備\n",
    "tmp_mean = [\n",
    "    {info: df.loc['linear svm (L)', 'auc'] for info, df in zip(infos, dfs_mean)},\n",
    "    {info: df.loc['non-linear svm (L)', 'auc'] for info, df in zip(infos, dfs_mean)}\n",
    "]\n",
    "tmp_mean = pd.DataFrame(tmp_mean, index=index)\n",
    "\n",
    "tmp_std = [\n",
    "    {info: df.loc['linear svm (L)', 'auc'] for info, df in zip(infos, dfs_std)},\n",
    "    {info: df.loc['non-linear svm (L)', 'auc'] for info, df in zip(infos, dfs_std)}\n",
    "]\n",
    "tmp_std = pd.DataFrame(tmp_std, index=index)\n",
    "\n",
    "# 折れ線グラフの作成\n",
    "fig = go.Figure()\n",
    "\n",
    "# 平均値のプロット\n",
    "fig.add_trace(\n",
    "    go.Scatter(\n",
    "        x=tmp_mean.columns,\n",
    "        y=tmp_mean.iloc[0, :],\n",
    "        mode='lines+markers', \n",
    "        name=tmp_mean.index[0]\n",
    "    )\n",
    ")\n",
    "\n",
    "fig.add_trace(\n",
    "    go.Scatter(\n",
    "        x=tmp_mean.columns,\n",
    "        y=tmp_mean.iloc[1, :],\n",
    "        mode='lines+markers', \n",
    "        name=tmp_mean.index[1]\n",
    "    )\n",
    ")\n",
    "\n",
    "# 標準偏差の縦棒の追加\n",
    "fig.add_trace(\n",
    "    go.Scatter(\n",
    "        x=tmp_mean.columns,\n",
    "        y=tmp_mean.iloc[0, :] + tmp_std.iloc[0, :],\n",
    "        mode='lines',\n",
    "        line=dict(color='rgba(0,176,246,0.2)', width=0),\n",
    "        showlegend=False\n",
    "    )\n",
    ")\n",
    "\n",
    "fig.add_trace(\n",
    "    go.Scatter(\n",
    "        x=tmp_mean.columns,\n",
    "        y=tmp_mean.iloc[0, :] - tmp_std.iloc[0, :],\n",
    "        mode='lines',\n",
    "        fill='tonexty',\n",
    "        fillcolor='rgba(0,176,246,0.2)',\n",
    "        line=dict(color='rgba(255,255,255,0)'),\n",
    "        showlegend=False\n",
    "    )\n",
    ")\n",
    "\n",
    "fig.add_trace(\n",
    "    go.Scatter(\n",
    "        x=tmp_mean.columns,\n",
    "        y=tmp_mean.iloc[1, :] + tmp_std.iloc[1, :],\n",
    "        mode='lines',\n",
    "        line=dict(color='rgba(231,107,243,0.2)', width=0),\n",
    "        showlegend=False\n",
    "    )\n",
    ")\n",
    "\n",
    "fig.add_trace(\n",
    "    go.Scatter(\n",
    "        x=tmp_mean.columns,\n",
    "        y=tmp_mean.iloc[1, :] - tmp_std.iloc[1, :],\n",
    "        mode='lines',\n",
    "        fill='tonexty',\n",
    "        fillcolor='rgba(231,107,243,0.2)',\n",
    "        line=dict(color='rgba(255,255,255,0)'),\n",
    "        showlegend=False\n",
    "    )\n",
    ")\n",
    "\n",
    "fig.update_layout(\n",
    "    height=400,\n",
    "    width=600,\n",
    "    legend=dict(\n",
    "        x=0.75,\n",
    "        y=0.05\n",
    "    ),\n",
    "    xaxis_title='教師なしデータ点数', \n",
    "    yaxis_title='AUC', \n",
    "    yaxis=dict(range=[0, 1])\n",
    ")\n",
    "fig.show()\n"
   ]
  },
  {
   "cell_type": "code",
   "execution_count": 124,
   "metadata": {},
   "outputs": [
    {
     "data": {
      "application/vnd.plotly.v1+json": {
       "config": {
        "plotlyServerURL": "https://plot.ly"
       },
       "data": [
        {
         "mode": "lines+markers",
         "name": "モデル 4",
         "type": "scatter",
         "x": [
          1,
          5,
          15,
          50,
          100
         ],
         "y": [
          0.5953423817014081,
          0.6206060606060606,
          0.6571664324728272,
          0.6442025094955596,
          0.6291209082385553
         ]
        },
        {
         "mode": "lines+markers",
         "name": "モデル 5",
         "type": "scatter",
         "x": [
          1,
          5,
          15,
          50,
          100
         ],
         "y": [
          0.5825088522755866,
          0.6325757575757576,
          0.6330653472945562,
          0.6459498744541982,
          0.6116246789776202
         ]
        },
        {
         "line": {
          "color": "rgba(0,176,246,0.2)",
          "width": 0
         },
         "mode": "lines",
         "showlegend": false,
         "type": "scatter",
         "x": [
          1,
          5,
          15,
          50,
          100
         ],
         "y": [
          0.6640399452289619,
          0.6539458977432245,
          0.7881745720513242,
          0.7283239167010477,
          0.7020214664056647
         ]
        },
        {
         "fill": "tonexty",
         "fillcolor": "rgba(0,176,246,0.2)",
         "line": {
          "color": "rgba(255,255,255,0)"
         },
         "mode": "lines",
         "name": "モデル 4 Std",
         "showlegend": false,
         "type": "scatter",
         "x": [
          1,
          5,
          15,
          50,
          100
         ],
         "y": [
          0.5266448181738542,
          0.5872662234688967,
          0.5261582928943302,
          0.5600811022900715,
          0.5562203500714459
         ]
        },
        {
         "line": {
          "color": "rgba(231,107,243,0.2)",
          "width": 0
         },
         "mode": "lines",
         "showlegend": false,
         "type": "scatter",
         "x": [
          1,
          5,
          15,
          50,
          100
         ],
         "y": [
          0.7048919266769096,
          0.7585291668184905,
          0.7797416977495296,
          0.7443398472262062,
          0.738845578198259
         ]
        },
        {
         "fill": "tonexty",
         "fillcolor": "rgba(231,107,243,0.2)",
         "line": {
          "color": "rgba(255,255,255,0)"
         },
         "mode": "lines",
         "name": "モデル 5 Std",
         "showlegend": false,
         "type": "scatter",
         "x": [
          1,
          5,
          15,
          50,
          100
         ],
         "y": [
          0.46012577787426356,
          0.5066223483330247,
          0.4863889968395828,
          0.5475599016821902,
          0.4844037797569813
         ]
        }
       ],
       "layout": {
        "height": 400,
        "legend": {
         "x": 0.75,
         "y": 0.05
        },
        "template": {
         "data": {
          "bar": [
           {
            "error_x": {
             "color": "#2a3f5f"
            },
            "error_y": {
             "color": "#2a3f5f"
            },
            "marker": {
             "line": {
              "color": "#E5ECF6",
              "width": 0.5
             },
             "pattern": {
              "fillmode": "overlay",
              "size": 10,
              "solidity": 0.2
             }
            },
            "type": "bar"
           }
          ],
          "barpolar": [
           {
            "marker": {
             "line": {
              "color": "#E5ECF6",
              "width": 0.5
             },
             "pattern": {
              "fillmode": "overlay",
              "size": 10,
              "solidity": 0.2
             }
            },
            "type": "barpolar"
           }
          ],
          "carpet": [
           {
            "aaxis": {
             "endlinecolor": "#2a3f5f",
             "gridcolor": "white",
             "linecolor": "white",
             "minorgridcolor": "white",
             "startlinecolor": "#2a3f5f"
            },
            "baxis": {
             "endlinecolor": "#2a3f5f",
             "gridcolor": "white",
             "linecolor": "white",
             "minorgridcolor": "white",
             "startlinecolor": "#2a3f5f"
            },
            "type": "carpet"
           }
          ],
          "choropleth": [
           {
            "colorbar": {
             "outlinewidth": 0,
             "ticks": ""
            },
            "type": "choropleth"
           }
          ],
          "contour": [
           {
            "colorbar": {
             "outlinewidth": 0,
             "ticks": ""
            },
            "colorscale": [
             [
              0,
              "#0d0887"
             ],
             [
              0.1111111111111111,
              "#46039f"
             ],
             [
              0.2222222222222222,
              "#7201a8"
             ],
             [
              0.3333333333333333,
              "#9c179e"
             ],
             [
              0.4444444444444444,
              "#bd3786"
             ],
             [
              0.5555555555555556,
              "#d8576b"
             ],
             [
              0.6666666666666666,
              "#ed7953"
             ],
             [
              0.7777777777777778,
              "#fb9f3a"
             ],
             [
              0.8888888888888888,
              "#fdca26"
             ],
             [
              1,
              "#f0f921"
             ]
            ],
            "type": "contour"
           }
          ],
          "contourcarpet": [
           {
            "colorbar": {
             "outlinewidth": 0,
             "ticks": ""
            },
            "type": "contourcarpet"
           }
          ],
          "heatmap": [
           {
            "colorbar": {
             "outlinewidth": 0,
             "ticks": ""
            },
            "colorscale": [
             [
              0,
              "#0d0887"
             ],
             [
              0.1111111111111111,
              "#46039f"
             ],
             [
              0.2222222222222222,
              "#7201a8"
             ],
             [
              0.3333333333333333,
              "#9c179e"
             ],
             [
              0.4444444444444444,
              "#bd3786"
             ],
             [
              0.5555555555555556,
              "#d8576b"
             ],
             [
              0.6666666666666666,
              "#ed7953"
             ],
             [
              0.7777777777777778,
              "#fb9f3a"
             ],
             [
              0.8888888888888888,
              "#fdca26"
             ],
             [
              1,
              "#f0f921"
             ]
            ],
            "type": "heatmap"
           }
          ],
          "heatmapgl": [
           {
            "colorbar": {
             "outlinewidth": 0,
             "ticks": ""
            },
            "colorscale": [
             [
              0,
              "#0d0887"
             ],
             [
              0.1111111111111111,
              "#46039f"
             ],
             [
              0.2222222222222222,
              "#7201a8"
             ],
             [
              0.3333333333333333,
              "#9c179e"
             ],
             [
              0.4444444444444444,
              "#bd3786"
             ],
             [
              0.5555555555555556,
              "#d8576b"
             ],
             [
              0.6666666666666666,
              "#ed7953"
             ],
             [
              0.7777777777777778,
              "#fb9f3a"
             ],
             [
              0.8888888888888888,
              "#fdca26"
             ],
             [
              1,
              "#f0f921"
             ]
            ],
            "type": "heatmapgl"
           }
          ],
          "histogram": [
           {
            "marker": {
             "pattern": {
              "fillmode": "overlay",
              "size": 10,
              "solidity": 0.2
             }
            },
            "type": "histogram"
           }
          ],
          "histogram2d": [
           {
            "colorbar": {
             "outlinewidth": 0,
             "ticks": ""
            },
            "colorscale": [
             [
              0,
              "#0d0887"
             ],
             [
              0.1111111111111111,
              "#46039f"
             ],
             [
              0.2222222222222222,
              "#7201a8"
             ],
             [
              0.3333333333333333,
              "#9c179e"
             ],
             [
              0.4444444444444444,
              "#bd3786"
             ],
             [
              0.5555555555555556,
              "#d8576b"
             ],
             [
              0.6666666666666666,
              "#ed7953"
             ],
             [
              0.7777777777777778,
              "#fb9f3a"
             ],
             [
              0.8888888888888888,
              "#fdca26"
             ],
             [
              1,
              "#f0f921"
             ]
            ],
            "type": "histogram2d"
           }
          ],
          "histogram2dcontour": [
           {
            "colorbar": {
             "outlinewidth": 0,
             "ticks": ""
            },
            "colorscale": [
             [
              0,
              "#0d0887"
             ],
             [
              0.1111111111111111,
              "#46039f"
             ],
             [
              0.2222222222222222,
              "#7201a8"
             ],
             [
              0.3333333333333333,
              "#9c179e"
             ],
             [
              0.4444444444444444,
              "#bd3786"
             ],
             [
              0.5555555555555556,
              "#d8576b"
             ],
             [
              0.6666666666666666,
              "#ed7953"
             ],
             [
              0.7777777777777778,
              "#fb9f3a"
             ],
             [
              0.8888888888888888,
              "#fdca26"
             ],
             [
              1,
              "#f0f921"
             ]
            ],
            "type": "histogram2dcontour"
           }
          ],
          "mesh3d": [
           {
            "colorbar": {
             "outlinewidth": 0,
             "ticks": ""
            },
            "type": "mesh3d"
           }
          ],
          "parcoords": [
           {
            "line": {
             "colorbar": {
              "outlinewidth": 0,
              "ticks": ""
             }
            },
            "type": "parcoords"
           }
          ],
          "pie": [
           {
            "automargin": true,
            "type": "pie"
           }
          ],
          "scatter": [
           {
            "fillpattern": {
             "fillmode": "overlay",
             "size": 10,
             "solidity": 0.2
            },
            "type": "scatter"
           }
          ],
          "scatter3d": [
           {
            "line": {
             "colorbar": {
              "outlinewidth": 0,
              "ticks": ""
             }
            },
            "marker": {
             "colorbar": {
              "outlinewidth": 0,
              "ticks": ""
             }
            },
            "type": "scatter3d"
           }
          ],
          "scattercarpet": [
           {
            "marker": {
             "colorbar": {
              "outlinewidth": 0,
              "ticks": ""
             }
            },
            "type": "scattercarpet"
           }
          ],
          "scattergeo": [
           {
            "marker": {
             "colorbar": {
              "outlinewidth": 0,
              "ticks": ""
             }
            },
            "type": "scattergeo"
           }
          ],
          "scattergl": [
           {
            "marker": {
             "colorbar": {
              "outlinewidth": 0,
              "ticks": ""
             }
            },
            "type": "scattergl"
           }
          ],
          "scattermapbox": [
           {
            "marker": {
             "colorbar": {
              "outlinewidth": 0,
              "ticks": ""
             }
            },
            "type": "scattermapbox"
           }
          ],
          "scatterpolar": [
           {
            "marker": {
             "colorbar": {
              "outlinewidth": 0,
              "ticks": ""
             }
            },
            "type": "scatterpolar"
           }
          ],
          "scatterpolargl": [
           {
            "marker": {
             "colorbar": {
              "outlinewidth": 0,
              "ticks": ""
             }
            },
            "type": "scatterpolargl"
           }
          ],
          "scatterternary": [
           {
            "marker": {
             "colorbar": {
              "outlinewidth": 0,
              "ticks": ""
             }
            },
            "type": "scatterternary"
           }
          ],
          "surface": [
           {
            "colorbar": {
             "outlinewidth": 0,
             "ticks": ""
            },
            "colorscale": [
             [
              0,
              "#0d0887"
             ],
             [
              0.1111111111111111,
              "#46039f"
             ],
             [
              0.2222222222222222,
              "#7201a8"
             ],
             [
              0.3333333333333333,
              "#9c179e"
             ],
             [
              0.4444444444444444,
              "#bd3786"
             ],
             [
              0.5555555555555556,
              "#d8576b"
             ],
             [
              0.6666666666666666,
              "#ed7953"
             ],
             [
              0.7777777777777778,
              "#fb9f3a"
             ],
             [
              0.8888888888888888,
              "#fdca26"
             ],
             [
              1,
              "#f0f921"
             ]
            ],
            "type": "surface"
           }
          ],
          "table": [
           {
            "cells": {
             "fill": {
              "color": "#EBF0F8"
             },
             "line": {
              "color": "white"
             }
            },
            "header": {
             "fill": {
              "color": "#C8D4E3"
             },
             "line": {
              "color": "white"
             }
            },
            "type": "table"
           }
          ]
         },
         "layout": {
          "annotationdefaults": {
           "arrowcolor": "#2a3f5f",
           "arrowhead": 0,
           "arrowwidth": 1
          },
          "autotypenumbers": "strict",
          "coloraxis": {
           "colorbar": {
            "outlinewidth": 0,
            "ticks": ""
           }
          },
          "colorscale": {
           "diverging": [
            [
             0,
             "#8e0152"
            ],
            [
             0.1,
             "#c51b7d"
            ],
            [
             0.2,
             "#de77ae"
            ],
            [
             0.3,
             "#f1b6da"
            ],
            [
             0.4,
             "#fde0ef"
            ],
            [
             0.5,
             "#f7f7f7"
            ],
            [
             0.6,
             "#e6f5d0"
            ],
            [
             0.7,
             "#b8e186"
            ],
            [
             0.8,
             "#7fbc41"
            ],
            [
             0.9,
             "#4d9221"
            ],
            [
             1,
             "#276419"
            ]
           ],
           "sequential": [
            [
             0,
             "#0d0887"
            ],
            [
             0.1111111111111111,
             "#46039f"
            ],
            [
             0.2222222222222222,
             "#7201a8"
            ],
            [
             0.3333333333333333,
             "#9c179e"
            ],
            [
             0.4444444444444444,
             "#bd3786"
            ],
            [
             0.5555555555555556,
             "#d8576b"
            ],
            [
             0.6666666666666666,
             "#ed7953"
            ],
            [
             0.7777777777777778,
             "#fb9f3a"
            ],
            [
             0.8888888888888888,
             "#fdca26"
            ],
            [
             1,
             "#f0f921"
            ]
           ],
           "sequentialminus": [
            [
             0,
             "#0d0887"
            ],
            [
             0.1111111111111111,
             "#46039f"
            ],
            [
             0.2222222222222222,
             "#7201a8"
            ],
            [
             0.3333333333333333,
             "#9c179e"
            ],
            [
             0.4444444444444444,
             "#bd3786"
            ],
            [
             0.5555555555555556,
             "#d8576b"
            ],
            [
             0.6666666666666666,
             "#ed7953"
            ],
            [
             0.7777777777777778,
             "#fb9f3a"
            ],
            [
             0.8888888888888888,
             "#fdca26"
            ],
            [
             1,
             "#f0f921"
            ]
           ]
          },
          "colorway": [
           "#636efa",
           "#EF553B",
           "#00cc96",
           "#ab63fa",
           "#FFA15A",
           "#19d3f3",
           "#FF6692",
           "#B6E880",
           "#FF97FF",
           "#FECB52"
          ],
          "font": {
           "color": "#2a3f5f"
          },
          "geo": {
           "bgcolor": "white",
           "lakecolor": "white",
           "landcolor": "#E5ECF6",
           "showlakes": true,
           "showland": true,
           "subunitcolor": "white"
          },
          "hoverlabel": {
           "align": "left"
          },
          "hovermode": "closest",
          "mapbox": {
           "style": "light"
          },
          "paper_bgcolor": "white",
          "plot_bgcolor": "#E5ECF6",
          "polar": {
           "angularaxis": {
            "gridcolor": "white",
            "linecolor": "white",
            "ticks": ""
           },
           "bgcolor": "#E5ECF6",
           "radialaxis": {
            "gridcolor": "white",
            "linecolor": "white",
            "ticks": ""
           }
          },
          "scene": {
           "xaxis": {
            "backgroundcolor": "#E5ECF6",
            "gridcolor": "white",
            "gridwidth": 2,
            "linecolor": "white",
            "showbackground": true,
            "ticks": "",
            "zerolinecolor": "white"
           },
           "yaxis": {
            "backgroundcolor": "#E5ECF6",
            "gridcolor": "white",
            "gridwidth": 2,
            "linecolor": "white",
            "showbackground": true,
            "ticks": "",
            "zerolinecolor": "white"
           },
           "zaxis": {
            "backgroundcolor": "#E5ECF6",
            "gridcolor": "white",
            "gridwidth": 2,
            "linecolor": "white",
            "showbackground": true,
            "ticks": "",
            "zerolinecolor": "white"
           }
          },
          "shapedefaults": {
           "line": {
            "color": "#2a3f5f"
           }
          },
          "ternary": {
           "aaxis": {
            "gridcolor": "white",
            "linecolor": "white",
            "ticks": ""
           },
           "baxis": {
            "gridcolor": "white",
            "linecolor": "white",
            "ticks": ""
           },
           "bgcolor": "#E5ECF6",
           "caxis": {
            "gridcolor": "white",
            "linecolor": "white",
            "ticks": ""
           }
          },
          "title": {
           "x": 0.05
          },
          "xaxis": {
           "automargin": true,
           "gridcolor": "white",
           "linecolor": "white",
           "ticks": "",
           "title": {
            "standoff": 15
           },
           "zerolinecolor": "white",
           "zerolinewidth": 2
          },
          "yaxis": {
           "automargin": true,
           "gridcolor": "white",
           "linecolor": "white",
           "ticks": "",
           "title": {
            "standoff": 15
           },
           "zerolinecolor": "white",
           "zerolinewidth": 2
          }
         }
        },
        "width": 600,
        "xaxis": {
         "title": {
          "text": "教師なしデータ点数"
         }
        },
        "yaxis": {
         "range": [
          0,
          1
         ],
         "title": {
          "text": "ルール違反率"
         }
        }
       }
      }
     },
     "metadata": {},
     "output_type": "display_data"
    }
   ],
   "source": [
    "import plotly.graph_objects as go\n",
    "\n",
    "index = ['モデル 4', 'モデル 5']\n",
    "\n",
    "# データを準備\n",
    "tmp_mean = [\n",
    "    {info: df.loc['linear svm (L)', 'violation_rate'] for info, df in zip(infos, dfs_mean)},\n",
    "    {info: df.loc['non-linear svm (L)', 'violation_rate'] for info, df in zip(infos, dfs_mean)}\n",
    "]\n",
    "tmp_mean = pd.DataFrame(tmp_mean, index=index)\n",
    "\n",
    "tmp_std = [\n",
    "    {info: df.loc['linear svm (L)', 'violation_rate'] for info, df in zip(infos, dfs_std)},\n",
    "    {info: df.loc['non-linear svm (L)', 'violation_rate'] for info, df in zip(infos, dfs_std)}\n",
    "]\n",
    "tmp_std = pd.DataFrame(tmp_std, index=index)\n",
    "\n",
    "# 折れ線グラフの作成\n",
    "fig = go.Figure()\n",
    "\n",
    "# 平均値のプロット\n",
    "fig.add_trace(\n",
    "    go.Scatter(\n",
    "        x=tmp_mean.columns,\n",
    "        y=tmp_mean.iloc[0, :],\n",
    "        mode='lines+markers', \n",
    "        name=tmp_mean.index[0]\n",
    "    )\n",
    ")\n",
    "\n",
    "fig.add_trace(\n",
    "    go.Scatter(\n",
    "        x=tmp_mean.columns,\n",
    "        y=tmp_mean.iloc[1, :],\n",
    "        mode='lines+markers', \n",
    "        name=tmp_mean.index[1]\n",
    "    )\n",
    ")\n",
    "\n",
    "# 標準偏差の縦棒の追加\n",
    "fig.add_trace(\n",
    "    go.Scatter(\n",
    "        x=tmp_mean.columns,\n",
    "        y=tmp_mean.iloc[0, :] + tmp_std.iloc[0, :],\n",
    "        mode='lines',\n",
    "        line=dict(color='rgba(0,176,246,0.2)', width=0),\n",
    "        showlegend=False\n",
    "    )\n",
    ")\n",
    "\n",
    "fig.add_trace(\n",
    "    go.Scatter(\n",
    "        x=tmp_mean.columns,\n",
    "        y=tmp_mean.iloc[0, :] - tmp_std.iloc[0, :],\n",
    "        mode='lines',\n",
    "        fill='tonexty',\n",
    "        fillcolor='rgba(0,176,246,0.2)',\n",
    "        line=dict(color='rgba(255,255,255,0)'),\n",
    "        name=tmp_mean.index[0] + ' Std',\n",
    "        showlegend=False\n",
    "    )\n",
    ")\n",
    "\n",
    "fig.add_trace(\n",
    "    go.Scatter(\n",
    "        x=tmp_mean.columns,\n",
    "        y=tmp_mean.iloc[1, :] + tmp_std.iloc[1, :],\n",
    "        mode='lines',\n",
    "        line=dict(color='rgba(231,107,243,0.2)', width=0),\n",
    "        showlegend=False\n",
    "    )\n",
    ")\n",
    "\n",
    "fig.add_trace(\n",
    "    go.Scatter(\n",
    "        x=tmp_mean.columns,\n",
    "        y=tmp_mean.iloc[1, :] - tmp_std.iloc[1, :],\n",
    "        mode='lines',\n",
    "        fill='tonexty',\n",
    "        fillcolor='rgba(231,107,243,0.2)',\n",
    "        line=dict(color='rgba(255,255,255,0)'),\n",
    "        name=tmp_mean.index[1] + ' Std',\n",
    "        showlegend=False\n",
    "    )\n",
    ")\n",
    "\n",
    "fig.update_layout(\n",
    "    height=400,\n",
    "    width=600,\n",
    "    legend=dict(\n",
    "        x=0.75,\n",
    "        y=0.05\n",
    "    ),\n",
    "    xaxis_title='教師なしデータ点数', \n",
    "    yaxis_title='ルール違反率', \n",
    "    yaxis=dict(range=[0, 1])\n",
    ")\n",
    "\n",
    "fig.show()"
   ]
  },
  {
   "cell_type": "code",
   "execution_count": null,
   "metadata": {},
   "outputs": [],
   "source": []
  },
  {
   "cell_type": "code",
   "execution_count": null,
   "metadata": {},
   "outputs": [],
   "source": []
  },
  {
   "cell_type": "code",
   "execution_count": null,
   "metadata": {},
   "outputs": [],
   "source": []
  }
 ],
 "metadata": {
  "kernelspec": {
   "display_name": "myenv",
   "language": "python",
   "name": "python3"
  },
  "language_info": {
   "codemirror_mode": {
    "name": "ipython",
    "version": 3
   },
   "file_extension": ".py",
   "mimetype": "text/x-python",
   "name": "python",
   "nbconvert_exporter": "python",
   "pygments_lexer": "ipython3",
   "version": "3.11.6"
  }
 },
 "nbformat": 4,
 "nbformat_minor": 2
}
