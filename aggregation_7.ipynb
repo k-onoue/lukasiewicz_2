{
 "cells": [
  {
   "cell_type": "code",
   "execution_count": 1,
   "metadata": {},
   "outputs": [],
   "source": [
    "import json\n",
    "import pandas as pd"
   ]
  },
  {
   "cell_type": "code",
   "execution_count": 12,
   "metadata": {},
   "outputs": [],
   "source": [
    "result_file_paths = [\n",
    "    \"./experiments/version_71/result.json\",\n",
    "    \"./experiments/version_72/result.json\",\n",
    "    \"./experiments/version_73/result.json\",\n",
    "    \"./experiments/version_74/result.json\",\n",
    "    \"./experiments/version_75/result.json\",\n",
    "    \"./experiments/version_76/result.json\",\n",
    "]\n",
    "\n",
    "result_dfs = []\n",
    "infos = []\n",
    "\n",
    "for path in result_file_paths:\n",
    "    with open(path, 'r') as f:\n",
    "        json_data = json.load(f)\n",
    "\n",
    "    infos.append(json_data['rule_thr'])\n",
    "\n",
    "    tmp = []\n",
    "\n",
    "    for fold, _ in json_data[\"result\"].items():\n",
    "        \n",
    "        result_df = pd.DataFrame(json_data['result'][fold]).T.drop(['violation_detail'], axis=1)\n",
    "        tmp.append(result_df)\n",
    "\n",
    "    result_dfs.append(tmp)\n",
    "\n",
    "combined_dfs = [pd.concat(dfs, ignore_index=False) for dfs in result_dfs]\n",
    "dfs_mean = [combined_df.groupby(combined_df.index).mean() for combined_df in combined_dfs]\n",
    "dfs_std = [combined_df.groupby(combined_df.index).std() for combined_df in combined_dfs]"
   ]
  },
  {
   "cell_type": "code",
   "execution_count": 3,
   "metadata": {},
   "outputs": [],
   "source": [
    "import plotly.express as px\n",
    "\n",
    "def hex_to_rgb(hex_color):\n",
    "    # カラーコードの先頭の # を削除する\n",
    "    hex_color = hex_color.lstrip('#')\n",
    "    \n",
    "    # カラーコードを RGB 形式に変換する\n",
    "    red = int(hex_color[0:2], 16)\n",
    "    green = int(hex_color[2:4], 16)\n",
    "    blue = int(hex_color[4:6], 16)\n",
    "    \n",
    "    # RGBA 形式に変換して返す\n",
    "    return red, green, blue\n",
    "\n",
    "color_codes = [hex_to_rgb(color_code) for color_code in px.colors.qualitative.Plotly]\n",
    "colors_mean = [f'rgba({r},{g},{b},{1})' for r, g, b in color_codes]\n",
    "colors_std = [f'rgba({r},{g},{b},{0.2})' for r, g, b in color_codes]"
   ]
  },
  {
   "cell_type": "code",
   "execution_count": 14,
   "metadata": {},
   "outputs": [
    {
     "data": {
      "text/plain": [
       "['rgba(99,110,250,1)',\n",
       " 'rgba(239,85,59,1)',\n",
       " 'rgba(0,204,150,1)',\n",
       " 'rgba(171,99,250,1)',\n",
       " 'rgba(255,161,90,1)',\n",
       " 'rgba(25,211,243,1)',\n",
       " 'rgba(255,102,146,1)',\n",
       " 'rgba(182,232,128,1)',\n",
       " 'rgba(255,151,255,1)',\n",
       " 'rgba(254,203,82,1)']"
      ]
     },
     "execution_count": 14,
     "metadata": {},
     "output_type": "execute_result"
    }
   ],
   "source": [
    "colors_mean"
   ]
  },
  {
   "cell_type": "code",
   "execution_count": 4,
   "metadata": {},
   "outputs": [
    {
     "data": {
      "text/plain": [
       "Index(['accuracy', 'precision', 'recall', 'f1', 'auc', 'n_violation', 'n_rule',\n",
       "       'violation_rate', 'n_violation (instance)', 'n_evaluation (instance)',\n",
       "       'violation_rate (instance)'],\n",
       "      dtype='object')"
      ]
     },
     "execution_count": 4,
     "metadata": {},
     "output_type": "execute_result"
    }
   ],
   "source": [
    "dfs_mean[0].columns"
   ]
  },
  {
   "cell_type": "code",
   "execution_count": 10,
   "metadata": {},
   "outputs": [
    {
     "data": {
      "application/vnd.plotly.v1+json": {
       "config": {
        "plotlyServerURL": "https://plot.ly"
       },
       "data": [
        {
         "line": {
          "color": "rgba(99,110,250,1)"
         },
         "marker": {
          "color": "rgba(99,110,250,1)"
         },
         "mode": "lines+markers",
         "name": "RuleFit Classifier (disc)",
         "showlegend": true,
         "type": "scatter",
         "x": [
          0,
          0.2,
          0.4,
          0.6,
          0.8,
          1
         ],
         "xaxis": "x",
         "y": [
          0.8158688137250547,
          0.8158688137250547,
          0.8158688137250547,
          0.8158688137250547,
          0.8158688137250547,
          0.8158688137250547
         ],
         "yaxis": "y"
        },
        {
         "line": {
          "color": "rgba(99,110,250,0.2)"
         },
         "mode": "lines",
         "showlegend": false,
         "type": "scatter",
         "x": [
          0,
          0.2,
          0.4,
          0.6,
          0.8,
          1
         ],
         "xaxis": "x",
         "y": [
          0.8674886836698307,
          0.8674886836698307,
          0.8674886836698307,
          0.8674886836698307,
          0.8674886836698307,
          0.8674886836698307
         ],
         "yaxis": "y"
        },
        {
         "fill": "tonexty",
         "fillcolor": "rgba(99,110,250,0.2)",
         "line": {
          "color": "rgba(255,255,255,0)"
         },
         "mode": "lines",
         "showlegend": false,
         "type": "scatter",
         "x": [
          0,
          0.2,
          0.4,
          0.6,
          0.8,
          1
         ],
         "xaxis": "x",
         "y": [
          0.7642489437802787,
          0.7642489437802787,
          0.7642489437802787,
          0.7642489437802787,
          0.7642489437802787,
          0.7642489437802787
         ],
         "yaxis": "y"
        },
        {
         "line": {
          "color": "rgba(239,85,59,1)"
         },
         "marker": {
          "color": "rgba(239,85,59,1)"
         },
         "mode": "lines+markers",
         "name": "tree generator (disc)",
         "showlegend": true,
         "type": "scatter",
         "x": [
          0,
          0.2,
          0.4,
          0.6,
          0.8,
          1
         ],
         "xaxis": "x",
         "y": [
          0.7723221095803497,
          0.7723221095803497,
          0.7723221095803497,
          0.7723221095803497,
          0.7723221095803497,
          0.7723221095803497
         ],
         "yaxis": "y"
        },
        {
         "line": {
          "color": "rgba(239,85,59,0.2)"
         },
         "mode": "lines",
         "showlegend": false,
         "type": "scatter",
         "x": [
          0,
          0.2,
          0.4,
          0.6,
          0.8,
          1
         ],
         "xaxis": "x",
         "y": [
          0.8213949562136311,
          0.8213949562136311,
          0.8213949562136311,
          0.8213949562136311,
          0.8213949562136311,
          0.8213949562136311
         ],
         "yaxis": "y"
        },
        {
         "fill": "tonexty",
         "fillcolor": "rgba(239,85,59,0.2)",
         "line": {
          "color": "rgba(255,255,255,0)"
         },
         "mode": "lines",
         "showlegend": false,
         "type": "scatter",
         "x": [
          0,
          0.2,
          0.4,
          0.6,
          0.8,
          1
         ],
         "xaxis": "x",
         "y": [
          0.7232492629470684,
          0.7232492629470684,
          0.7232492629470684,
          0.7232492629470684,
          0.7232492629470684,
          0.7232492629470684
         ],
         "yaxis": "y"
        },
        {
         "line": {
          "color": "rgba(0,204,150,1)"
         },
         "marker": {
          "color": "rgba(0,204,150,1)"
         },
         "mode": "lines+markers",
         "name": "RuleFit Classifier (conti)",
         "showlegend": true,
         "type": "scatter",
         "x": [
          0,
          0.2,
          0.4,
          0.6,
          0.8,
          1
         ],
         "xaxis": "x",
         "y": [
          0.7951160428050499,
          0.7951160428050499,
          0.7951160428050499,
          0.7951160428050499,
          0.7951160428050499,
          0.7951160428050499
         ],
         "yaxis": "y"
        },
        {
         "line": {
          "color": "rgba(0,204,150,0.2)"
         },
         "mode": "lines",
         "showlegend": false,
         "type": "scatter",
         "x": [
          0,
          0.2,
          0.4,
          0.6,
          0.8,
          1
         ],
         "xaxis": "x",
         "y": [
          0.8276321544041804,
          0.8276321544041804,
          0.8276321544041804,
          0.8276321544041804,
          0.8276321544041804,
          0.8276321544041804
         ],
         "yaxis": "y"
        },
        {
         "fill": "tonexty",
         "fillcolor": "rgba(0,204,150,0.2)",
         "line": {
          "color": "rgba(255,255,255,0)"
         },
         "mode": "lines",
         "showlegend": false,
         "type": "scatter",
         "x": [
          0,
          0.2,
          0.4,
          0.6,
          0.8,
          1
         ],
         "xaxis": "x",
         "y": [
          0.7625999312059194,
          0.7625999312059194,
          0.7625999312059194,
          0.7625999312059194,
          0.7625999312059194,
          0.7625999312059194
         ],
         "yaxis": "y"
        },
        {
         "line": {
          "color": "rgba(171,99,250,1)"
         },
         "marker": {
          "color": "rgba(171,99,250,1)"
         },
         "mode": "lines+markers",
         "name": "tree generator (conti)",
         "showlegend": true,
         "type": "scatter",
         "x": [
          0,
          0.2,
          0.4,
          0.6,
          0.8,
          1
         ],
         "xaxis": "x",
         "y": [
          0.832599556154117,
          0.832599556154117,
          0.832599556154117,
          0.832599556154117,
          0.832599556154117,
          0.832599556154117
         ],
         "yaxis": "y"
        },
        {
         "line": {
          "color": "rgba(171,99,250,0.2)"
         },
         "mode": "lines",
         "showlegend": false,
         "type": "scatter",
         "x": [
          0,
          0.2,
          0.4,
          0.6,
          0.8,
          1
         ],
         "xaxis": "x",
         "y": [
          0.8725688941539064,
          0.8725688941539064,
          0.8725688941539064,
          0.8725688941539064,
          0.8725688941539064,
          0.8725688941539064
         ],
         "yaxis": "y"
        },
        {
         "fill": "tonexty",
         "fillcolor": "rgba(171,99,250,0.2)",
         "line": {
          "color": "rgba(255,255,255,0)"
         },
         "mode": "lines",
         "showlegend": false,
         "type": "scatter",
         "x": [
          0,
          0.2,
          0.4,
          0.6,
          0.8,
          1
         ],
         "xaxis": "x",
         "y": [
          0.7926302181543275,
          0.7926302181543275,
          0.7926302181543275,
          0.7926302181543275,
          0.7926302181543275,
          0.7926302181543275
         ],
         "yaxis": "y"
        },
        {
         "line": {
          "color": "rgba(99,110,250,1)"
         },
         "marker": {
          "color": "rgba(99,110,250,1)"
         },
         "mode": "lines+markers",
         "name": "RuleFit Classifier (disc)",
         "showlegend": false,
         "type": "scatter",
         "x": [
          0,
          0.2,
          0.4,
          0.6,
          0.8,
          1
         ],
         "xaxis": "x2",
         "y": [
          0.8043024566148299,
          0.7747474747474747,
          0.791025641025641,
          0.8047619047619048,
          0.78,
          0.8333333333333333
         ],
         "yaxis": "y2"
        },
        {
         "line": {
          "color": "rgba(99,110,250,0.2)"
         },
         "mode": "lines",
         "showlegend": false,
         "type": "scatter",
         "x": [
          0,
          0.2,
          0.4,
          0.6,
          0.8,
          1
         ],
         "xaxis": "x2",
         "y": [
          0.8943433109769477,
          0.8974550011133582,
          0.9152920617786292,
          1.0232394237515137,
          1.0080350850198276,
          1.0690355937288492
         ],
         "yaxis": "y2"
        },
        {
         "fill": "tonexty",
         "fillcolor": "rgba(99,110,250,0.2)",
         "line": {
          "color": "rgba(255,255,255,0)"
         },
         "mode": "lines",
         "showlegend": false,
         "type": "scatter",
         "x": [
          0,
          0.2,
          0.4,
          0.6,
          0.8,
          1
         ],
         "xaxis": "x2",
         "y": [
          0.7142616022527121,
          0.6520399483815913,
          0.6667592202726528,
          0.586284385772296,
          0.5519649149801724,
          0.5976310729378174
         ],
         "yaxis": "y2"
        },
        {
         "line": {
          "color": "rgba(239,85,59,1)"
         },
         "marker": {
          "color": "rgba(239,85,59,1)"
         },
         "mode": "lines+markers",
         "name": "tree generator (disc)",
         "showlegend": false,
         "type": "scatter",
         "x": [
          0,
          0.2,
          0.4,
          0.6,
          0.8,
          1
         ],
         "xaxis": "x2",
         "y": [
          0.7329952670723463,
          0.7565656565656566,
          0.816025641025641,
          0.9047619047619048,
          0.8800000000000001,
          0.9333333333333332
         ],
         "yaxis": "y2"
        },
        {
         "line": {
          "color": "rgba(239,85,59,0.2)"
         },
         "mode": "lines",
         "showlegend": false,
         "type": "scatter",
         "x": [
          0,
          0.2,
          0.4,
          0.6,
          0.8,
          1
         ],
         "xaxis": "x2",
         "y": [
          0.8035244901558143,
          0.8841546495369783,
          0.9425287665311246,
          1.0515336667373567,
          1.0588854381999833,
          1.0824045318333193
         ],
         "yaxis": "y2"
        },
        {
         "fill": "tonexty",
         "fillcolor": "rgba(239,85,59,0.2)",
         "line": {
          "color": "rgba(255,255,255,0)"
         },
         "mode": "lines",
         "showlegend": false,
         "type": "scatter",
         "x": [
          0,
          0.2,
          0.4,
          0.6,
          0.8,
          1
         ],
         "xaxis": "x2",
         "y": [
          0.6624660439888783,
          0.6289766635943348,
          0.6895225155201574,
          0.7579901427864529,
          0.701114561800017,
          0.7842621348333473
         ],
         "yaxis": "y2"
        },
        {
         "line": {
          "color": "rgba(0,204,150,1)"
         },
         "marker": {
          "color": "rgba(0,204,150,1)"
         },
         "mode": "lines+markers",
         "name": "RuleFit Classifier (conti)",
         "showlegend": false,
         "type": "scatter",
         "x": [
          0,
          0.2,
          0.4,
          0.6,
          0.8,
          1
         ],
         "xaxis": "x2",
         "y": [
          0.8821208023439262,
          0.9101010101010101,
          0.9538461538461538,
          1,
          1,
          1
         ],
         "yaxis": "y2"
        },
        {
         "line": {
          "color": "rgba(0,204,150,0.2)"
         },
         "mode": "lines",
         "showlegend": false,
         "type": "scatter",
         "x": [
          0,
          0.2,
          0.4,
          0.6,
          0.8,
          1
         ],
         "xaxis": "x2",
         "y": [
          0.9453022891638562,
          1.0048837994965294,
          1.057049291269221,
          1,
          1,
          1
         ],
         "yaxis": "y2"
        },
        {
         "fill": "tonexty",
         "fillcolor": "rgba(0,204,150,0.2)",
         "line": {
          "color": "rgba(255,255,255,0)"
         },
         "mode": "lines",
         "showlegend": false,
         "type": "scatter",
         "x": [
          0,
          0.2,
          0.4,
          0.6,
          0.8,
          1
         ],
         "xaxis": "x2",
         "y": [
          0.8189393155239962,
          0.8153182207054909,
          0.8506430164230866,
          1,
          1,
          1
         ],
         "yaxis": "y2"
        },
        {
         "line": {
          "color": "rgba(171,99,250,1)"
         },
         "marker": {
          "color": "rgba(171,99,250,1)"
         },
         "mode": "lines+markers",
         "name": "tree generator (conti)",
         "showlegend": false,
         "type": "scatter",
         "x": [
          0,
          0.2,
          0.4,
          0.6,
          0.8,
          1
         ],
         "xaxis": "x2",
         "y": [
          0.8806828938471941,
          0.8858585858585858,
          0.9134615384615385,
          0.9666666666666668,
          0.96,
          1
         ],
         "yaxis": "y2"
        },
        {
         "line": {
          "color": "rgba(171,99,250,0.2)"
         },
         "mode": "lines",
         "showlegend": false,
         "type": "scatter",
         "x": [
          0,
          0.2,
          0.4,
          0.6,
          0.8,
          1
         ],
         "xaxis": "x2",
         "y": [
          0.927031178478283,
          0.945467384338669,
          1.0100949578953933,
          1.0412022659166598,
          1.0494427190999915,
          1
         ],
         "yaxis": "y2"
        },
        {
         "fill": "tonexty",
         "fillcolor": "rgba(171,99,250,0.2)",
         "line": {
          "color": "rgba(255,255,255,0)"
         },
         "mode": "lines",
         "showlegend": false,
         "type": "scatter",
         "x": [
          0,
          0.2,
          0.4,
          0.6,
          0.8,
          1
         ],
         "xaxis": "x2",
         "y": [
          0.8343346092161052,
          0.8262497873785026,
          0.8168281190276838,
          0.8921310674166738,
          0.8705572809000084,
          1
         ],
         "yaxis": "y2"
        },
        {
         "line": {
          "color": "rgba(99,110,250,1)"
         },
         "marker": {
          "color": "rgba(99,110,250,1)"
         },
         "mode": "lines+markers",
         "name": "RuleFit Classifier (disc)",
         "showlegend": false,
         "type": "scatter",
         "x": [
          0,
          0.2,
          0.4,
          0.6,
          0.8,
          1
         ],
         "xaxis": "x3",
         "y": [
          0.8744253452332034,
          0.8827946037420775,
          0.8207317720351327,
          0.7003369687566154,
          0.5000689943672245,
          0.4213251790841019
         ],
         "yaxis": "y3"
        },
        {
         "line": {
          "color": "rgba(99,110,250,0.2)"
         },
         "mode": "lines",
         "showlegend": false,
         "type": "scatter",
         "x": [
          0,
          0.2,
          0.4,
          0.6,
          0.8,
          1
         ],
         "xaxis": "x3",
         "y": [
          0.8959889718401899,
          0.9407248064105833,
          0.855862928868011,
          0.7788593942605206,
          0.7639362389558724,
          0.6528502682005374
         ],
         "yaxis": "y3"
        },
        {
         "fill": "tonexty",
         "fillcolor": "rgba(99,110,250,0.2)",
         "line": {
          "color": "rgba(255,255,255,0)"
         },
         "mode": "lines",
         "showlegend": false,
         "type": "scatter",
         "x": [
          0,
          0.2,
          0.4,
          0.6,
          0.8,
          1
         ],
         "xaxis": "x3",
         "y": [
          0.8528617186262168,
          0.8248644010735717,
          0.7856006152022544,
          0.6218145432527102,
          0.23620174977857672,
          0.1898000899676664
         ],
         "yaxis": "y3"
        },
        {
         "line": {
          "color": "rgba(239,85,59,1)"
         },
         "marker": {
          "color": "rgba(239,85,59,1)"
         },
         "mode": "lines+markers",
         "name": "tree generator (disc)",
         "showlegend": false,
         "type": "scatter",
         "x": [
          0,
          0.2,
          0.4,
          0.6,
          0.8,
          1
         ],
         "xaxis": "x3",
         "y": [
          0.8562110924989857,
          0.8815690401095179,
          0.8294889800661422,
          0.7308087697908324,
          0.5865443336588497,
          0.5097220870031782
         ],
         "yaxis": "y3"
        },
        {
         "line": {
          "color": "rgba(239,85,59,0.2)"
         },
         "mode": "lines",
         "showlegend": false,
         "type": "scatter",
         "x": [
          0,
          0.2,
          0.4,
          0.6,
          0.8,
          1
         ],
         "xaxis": "x3",
         "y": [
          0.8834319182245626,
          0.9457035536792324,
          0.8847029542506953,
          0.8304489198545695,
          0.7144484516942728,
          0.6388665092398214
         ],
         "yaxis": "y3"
        },
        {
         "fill": "tonexty",
         "fillcolor": "rgba(239,85,59,0.2)",
         "line": {
          "color": "rgba(255,255,255,0)"
         },
         "mode": "lines",
         "showlegend": false,
         "type": "scatter",
         "x": [
          0,
          0.2,
          0.4,
          0.6,
          0.8,
          1
         ],
         "xaxis": "x3",
         "y": [
          0.8289902667734089,
          0.8174345265398033,
          0.7742750058815892,
          0.6311686197270954,
          0.4586402156234266,
          0.3805776647665351
         ],
         "yaxis": "y3"
        },
        {
         "line": {
          "color": "rgba(0,204,150,1)"
         },
         "marker": {
          "color": "rgba(0,204,150,1)"
         },
         "mode": "lines+markers",
         "name": "RuleFit Classifier (conti)",
         "showlegend": false,
         "type": "scatter",
         "x": [
          0,
          0.2,
          0.4,
          0.6,
          0.8,
          1
         ],
         "xaxis": "x3",
         "y": [
          0.8781803686278312,
          0.8997916070099468,
          0.8499318971880202,
          0.74877952679548,
          0.5737545055844808,
          0.4992638742852321
         ],
         "yaxis": "y3"
        },
        {
         "line": {
          "color": "rgba(0,204,150,0.2)"
         },
         "mode": "lines",
         "showlegend": false,
         "type": "scatter",
         "x": [
          0,
          0.2,
          0.4,
          0.6,
          0.8,
          1
         ],
         "xaxis": "x3",
         "y": [
          0.8872774958188997,
          0.9458868855008666,
          0.8853495059124202,
          0.8182983166065007,
          0.8342721111788394,
          0.7360133413590859
         ],
         "yaxis": "y3"
        },
        {
         "fill": "tonexty",
         "fillcolor": "rgba(0,204,150,0.2)",
         "line": {
          "color": "rgba(255,255,255,0)"
         },
         "mode": "lines",
         "showlegend": false,
         "type": "scatter",
         "x": [
          0,
          0.2,
          0.4,
          0.6,
          0.8,
          1
         ],
         "xaxis": "x3",
         "y": [
          0.8690832414367627,
          0.8536963285190269,
          0.8145142884636202,
          0.6792607369844593,
          0.31323689999012233,
          0.2625144072113783
         ],
         "yaxis": "y3"
        },
        {
         "line": {
          "color": "rgba(171,99,250,1)"
         },
         "marker": {
          "color": "rgba(171,99,250,1)"
         },
         "mode": "lines+markers",
         "name": "tree generator (conti)",
         "showlegend": false,
         "type": "scatter",
         "x": [
          0,
          0.2,
          0.4,
          0.6,
          0.8,
          1
         ],
         "xaxis": "x3",
         "y": [
          0.8845006492001541,
          0.9031803186257328,
          0.8453693699480975,
          0.7381713474623832,
          0.5671179039901719,
          0.49641800019687893
         ],
         "yaxis": "y3"
        },
        {
         "line": {
          "color": "rgba(171,99,250,0.2)"
         },
         "mode": "lines",
         "showlegend": false,
         "type": "scatter",
         "x": [
          0,
          0.2,
          0.4,
          0.6,
          0.8,
          1
         ],
         "xaxis": "x3",
         "y": [
          0.900074694377416,
          0.9447561585871517,
          0.8873628516108614,
          0.8137268270715157,
          0.7868322577685203,
          0.6848694978683185
         ],
         "yaxis": "y3"
        },
        {
         "fill": "tonexty",
         "fillcolor": "rgba(171,99,250,0.2)",
         "line": {
          "color": "rgba(255,255,255,0)"
         },
         "mode": "lines",
         "showlegend": false,
         "type": "scatter",
         "x": [
          0,
          0.2,
          0.4,
          0.6,
          0.8,
          1
         ],
         "xaxis": "x3",
         "y": [
          0.8689266040228922,
          0.8616044786643139,
          0.8033758882853337,
          0.6626158678532508,
          0.3474035502118236,
          0.3079665025254393
         ],
         "yaxis": "y3"
        }
       ],
       "layout": {
        "height": 900,
        "legend": {
         "orientation": "h",
         "x": 0.5,
         "y": 1.15
        },
        "template": {
         "data": {
          "bar": [
           {
            "error_x": {
             "color": "#2a3f5f"
            },
            "error_y": {
             "color": "#2a3f5f"
            },
            "marker": {
             "line": {
              "color": "#E5ECF6",
              "width": 0.5
             },
             "pattern": {
              "fillmode": "overlay",
              "size": 10,
              "solidity": 0.2
             }
            },
            "type": "bar"
           }
          ],
          "barpolar": [
           {
            "marker": {
             "line": {
              "color": "#E5ECF6",
              "width": 0.5
             },
             "pattern": {
              "fillmode": "overlay",
              "size": 10,
              "solidity": 0.2
             }
            },
            "type": "barpolar"
           }
          ],
          "carpet": [
           {
            "aaxis": {
             "endlinecolor": "#2a3f5f",
             "gridcolor": "white",
             "linecolor": "white",
             "minorgridcolor": "white",
             "startlinecolor": "#2a3f5f"
            },
            "baxis": {
             "endlinecolor": "#2a3f5f",
             "gridcolor": "white",
             "linecolor": "white",
             "minorgridcolor": "white",
             "startlinecolor": "#2a3f5f"
            },
            "type": "carpet"
           }
          ],
          "choropleth": [
           {
            "colorbar": {
             "outlinewidth": 0,
             "ticks": ""
            },
            "type": "choropleth"
           }
          ],
          "contour": [
           {
            "colorbar": {
             "outlinewidth": 0,
             "ticks": ""
            },
            "colorscale": [
             [
              0,
              "#0d0887"
             ],
             [
              0.1111111111111111,
              "#46039f"
             ],
             [
              0.2222222222222222,
              "#7201a8"
             ],
             [
              0.3333333333333333,
              "#9c179e"
             ],
             [
              0.4444444444444444,
              "#bd3786"
             ],
             [
              0.5555555555555556,
              "#d8576b"
             ],
             [
              0.6666666666666666,
              "#ed7953"
             ],
             [
              0.7777777777777778,
              "#fb9f3a"
             ],
             [
              0.8888888888888888,
              "#fdca26"
             ],
             [
              1,
              "#f0f921"
             ]
            ],
            "type": "contour"
           }
          ],
          "contourcarpet": [
           {
            "colorbar": {
             "outlinewidth": 0,
             "ticks": ""
            },
            "type": "contourcarpet"
           }
          ],
          "heatmap": [
           {
            "colorbar": {
             "outlinewidth": 0,
             "ticks": ""
            },
            "colorscale": [
             [
              0,
              "#0d0887"
             ],
             [
              0.1111111111111111,
              "#46039f"
             ],
             [
              0.2222222222222222,
              "#7201a8"
             ],
             [
              0.3333333333333333,
              "#9c179e"
             ],
             [
              0.4444444444444444,
              "#bd3786"
             ],
             [
              0.5555555555555556,
              "#d8576b"
             ],
             [
              0.6666666666666666,
              "#ed7953"
             ],
             [
              0.7777777777777778,
              "#fb9f3a"
             ],
             [
              0.8888888888888888,
              "#fdca26"
             ],
             [
              1,
              "#f0f921"
             ]
            ],
            "type": "heatmap"
           }
          ],
          "heatmapgl": [
           {
            "colorbar": {
             "outlinewidth": 0,
             "ticks": ""
            },
            "colorscale": [
             [
              0,
              "#0d0887"
             ],
             [
              0.1111111111111111,
              "#46039f"
             ],
             [
              0.2222222222222222,
              "#7201a8"
             ],
             [
              0.3333333333333333,
              "#9c179e"
             ],
             [
              0.4444444444444444,
              "#bd3786"
             ],
             [
              0.5555555555555556,
              "#d8576b"
             ],
             [
              0.6666666666666666,
              "#ed7953"
             ],
             [
              0.7777777777777778,
              "#fb9f3a"
             ],
             [
              0.8888888888888888,
              "#fdca26"
             ],
             [
              1,
              "#f0f921"
             ]
            ],
            "type": "heatmapgl"
           }
          ],
          "histogram": [
           {
            "marker": {
             "pattern": {
              "fillmode": "overlay",
              "size": 10,
              "solidity": 0.2
             }
            },
            "type": "histogram"
           }
          ],
          "histogram2d": [
           {
            "colorbar": {
             "outlinewidth": 0,
             "ticks": ""
            },
            "colorscale": [
             [
              0,
              "#0d0887"
             ],
             [
              0.1111111111111111,
              "#46039f"
             ],
             [
              0.2222222222222222,
              "#7201a8"
             ],
             [
              0.3333333333333333,
              "#9c179e"
             ],
             [
              0.4444444444444444,
              "#bd3786"
             ],
             [
              0.5555555555555556,
              "#d8576b"
             ],
             [
              0.6666666666666666,
              "#ed7953"
             ],
             [
              0.7777777777777778,
              "#fb9f3a"
             ],
             [
              0.8888888888888888,
              "#fdca26"
             ],
             [
              1,
              "#f0f921"
             ]
            ],
            "type": "histogram2d"
           }
          ],
          "histogram2dcontour": [
           {
            "colorbar": {
             "outlinewidth": 0,
             "ticks": ""
            },
            "colorscale": [
             [
              0,
              "#0d0887"
             ],
             [
              0.1111111111111111,
              "#46039f"
             ],
             [
              0.2222222222222222,
              "#7201a8"
             ],
             [
              0.3333333333333333,
              "#9c179e"
             ],
             [
              0.4444444444444444,
              "#bd3786"
             ],
             [
              0.5555555555555556,
              "#d8576b"
             ],
             [
              0.6666666666666666,
              "#ed7953"
             ],
             [
              0.7777777777777778,
              "#fb9f3a"
             ],
             [
              0.8888888888888888,
              "#fdca26"
             ],
             [
              1,
              "#f0f921"
             ]
            ],
            "type": "histogram2dcontour"
           }
          ],
          "mesh3d": [
           {
            "colorbar": {
             "outlinewidth": 0,
             "ticks": ""
            },
            "type": "mesh3d"
           }
          ],
          "parcoords": [
           {
            "line": {
             "colorbar": {
              "outlinewidth": 0,
              "ticks": ""
             }
            },
            "type": "parcoords"
           }
          ],
          "pie": [
           {
            "automargin": true,
            "type": "pie"
           }
          ],
          "scatter": [
           {
            "fillpattern": {
             "fillmode": "overlay",
             "size": 10,
             "solidity": 0.2
            },
            "type": "scatter"
           }
          ],
          "scatter3d": [
           {
            "line": {
             "colorbar": {
              "outlinewidth": 0,
              "ticks": ""
             }
            },
            "marker": {
             "colorbar": {
              "outlinewidth": 0,
              "ticks": ""
             }
            },
            "type": "scatter3d"
           }
          ],
          "scattercarpet": [
           {
            "marker": {
             "colorbar": {
              "outlinewidth": 0,
              "ticks": ""
             }
            },
            "type": "scattercarpet"
           }
          ],
          "scattergeo": [
           {
            "marker": {
             "colorbar": {
              "outlinewidth": 0,
              "ticks": ""
             }
            },
            "type": "scattergeo"
           }
          ],
          "scattergl": [
           {
            "marker": {
             "colorbar": {
              "outlinewidth": 0,
              "ticks": ""
             }
            },
            "type": "scattergl"
           }
          ],
          "scattermapbox": [
           {
            "marker": {
             "colorbar": {
              "outlinewidth": 0,
              "ticks": ""
             }
            },
            "type": "scattermapbox"
           }
          ],
          "scatterpolar": [
           {
            "marker": {
             "colorbar": {
              "outlinewidth": 0,
              "ticks": ""
             }
            },
            "type": "scatterpolar"
           }
          ],
          "scatterpolargl": [
           {
            "marker": {
             "colorbar": {
              "outlinewidth": 0,
              "ticks": ""
             }
            },
            "type": "scatterpolargl"
           }
          ],
          "scatterternary": [
           {
            "marker": {
             "colorbar": {
              "outlinewidth": 0,
              "ticks": ""
             }
            },
            "type": "scatterternary"
           }
          ],
          "surface": [
           {
            "colorbar": {
             "outlinewidth": 0,
             "ticks": ""
            },
            "colorscale": [
             [
              0,
              "#0d0887"
             ],
             [
              0.1111111111111111,
              "#46039f"
             ],
             [
              0.2222222222222222,
              "#7201a8"
             ],
             [
              0.3333333333333333,
              "#9c179e"
             ],
             [
              0.4444444444444444,
              "#bd3786"
             ],
             [
              0.5555555555555556,
              "#d8576b"
             ],
             [
              0.6666666666666666,
              "#ed7953"
             ],
             [
              0.7777777777777778,
              "#fb9f3a"
             ],
             [
              0.8888888888888888,
              "#fdca26"
             ],
             [
              1,
              "#f0f921"
             ]
            ],
            "type": "surface"
           }
          ],
          "table": [
           {
            "cells": {
             "fill": {
              "color": "#EBF0F8"
             },
             "line": {
              "color": "white"
             }
            },
            "header": {
             "fill": {
              "color": "#C8D4E3"
             },
             "line": {
              "color": "white"
             }
            },
            "type": "table"
           }
          ]
         },
         "layout": {
          "annotationdefaults": {
           "arrowcolor": "#2a3f5f",
           "arrowhead": 0,
           "arrowwidth": 1
          },
          "autotypenumbers": "strict",
          "coloraxis": {
           "colorbar": {
            "outlinewidth": 0,
            "ticks": ""
           }
          },
          "colorscale": {
           "diverging": [
            [
             0,
             "#8e0152"
            ],
            [
             0.1,
             "#c51b7d"
            ],
            [
             0.2,
             "#de77ae"
            ],
            [
             0.3,
             "#f1b6da"
            ],
            [
             0.4,
             "#fde0ef"
            ],
            [
             0.5,
             "#f7f7f7"
            ],
            [
             0.6,
             "#e6f5d0"
            ],
            [
             0.7,
             "#b8e186"
            ],
            [
             0.8,
             "#7fbc41"
            ],
            [
             0.9,
             "#4d9221"
            ],
            [
             1,
             "#276419"
            ]
           ],
           "sequential": [
            [
             0,
             "#0d0887"
            ],
            [
             0.1111111111111111,
             "#46039f"
            ],
            [
             0.2222222222222222,
             "#7201a8"
            ],
            [
             0.3333333333333333,
             "#9c179e"
            ],
            [
             0.4444444444444444,
             "#bd3786"
            ],
            [
             0.5555555555555556,
             "#d8576b"
            ],
            [
             0.6666666666666666,
             "#ed7953"
            ],
            [
             0.7777777777777778,
             "#fb9f3a"
            ],
            [
             0.8888888888888888,
             "#fdca26"
            ],
            [
             1,
             "#f0f921"
            ]
           ],
           "sequentialminus": [
            [
             0,
             "#0d0887"
            ],
            [
             0.1111111111111111,
             "#46039f"
            ],
            [
             0.2222222222222222,
             "#7201a8"
            ],
            [
             0.3333333333333333,
             "#9c179e"
            ],
            [
             0.4444444444444444,
             "#bd3786"
            ],
            [
             0.5555555555555556,
             "#d8576b"
            ],
            [
             0.6666666666666666,
             "#ed7953"
            ],
            [
             0.7777777777777778,
             "#fb9f3a"
            ],
            [
             0.8888888888888888,
             "#fdca26"
            ],
            [
             1,
             "#f0f921"
            ]
           ]
          },
          "colorway": [
           "#636efa",
           "#EF553B",
           "#00cc96",
           "#ab63fa",
           "#FFA15A",
           "#19d3f3",
           "#FF6692",
           "#B6E880",
           "#FF97FF",
           "#FECB52"
          ],
          "font": {
           "color": "#2a3f5f"
          },
          "geo": {
           "bgcolor": "white",
           "lakecolor": "white",
           "landcolor": "#E5ECF6",
           "showlakes": true,
           "showland": true,
           "subunitcolor": "white"
          },
          "hoverlabel": {
           "align": "left"
          },
          "hovermode": "closest",
          "mapbox": {
           "style": "light"
          },
          "paper_bgcolor": "white",
          "plot_bgcolor": "#E5ECF6",
          "polar": {
           "angularaxis": {
            "gridcolor": "white",
            "linecolor": "white",
            "ticks": ""
           },
           "bgcolor": "#E5ECF6",
           "radialaxis": {
            "gridcolor": "white",
            "linecolor": "white",
            "ticks": ""
           }
          },
          "scene": {
           "xaxis": {
            "backgroundcolor": "#E5ECF6",
            "gridcolor": "white",
            "gridwidth": 2,
            "linecolor": "white",
            "showbackground": true,
            "ticks": "",
            "zerolinecolor": "white"
           },
           "yaxis": {
            "backgroundcolor": "#E5ECF6",
            "gridcolor": "white",
            "gridwidth": 2,
            "linecolor": "white",
            "showbackground": true,
            "ticks": "",
            "zerolinecolor": "white"
           },
           "zaxis": {
            "backgroundcolor": "#E5ECF6",
            "gridcolor": "white",
            "gridwidth": 2,
            "linecolor": "white",
            "showbackground": true,
            "ticks": "",
            "zerolinecolor": "white"
           }
          },
          "shapedefaults": {
           "line": {
            "color": "#2a3f5f"
           }
          },
          "ternary": {
           "aaxis": {
            "gridcolor": "white",
            "linecolor": "white",
            "ticks": ""
           },
           "baxis": {
            "gridcolor": "white",
            "linecolor": "white",
            "ticks": ""
           },
           "bgcolor": "#E5ECF6",
           "caxis": {
            "gridcolor": "white",
            "linecolor": "white",
            "ticks": ""
           }
          },
          "title": {
           "x": 0.05
          },
          "xaxis": {
           "automargin": true,
           "gridcolor": "white",
           "linecolor": "white",
           "ticks": "",
           "title": {
            "standoff": 15
           },
           "zerolinecolor": "white",
           "zerolinewidth": 2
          },
          "yaxis": {
           "automargin": true,
           "gridcolor": "white",
           "linecolor": "white",
           "ticks": "",
           "title": {
            "standoff": 15
           },
           "zerolinecolor": "white",
           "zerolinewidth": 2
          }
         }
        },
        "width": 600,
        "xaxis": {
         "anchor": "y",
         "domain": [
          0,
          1
         ],
         "title": {
          "font": {
           "size": 16
          },
          "text": "rule threshold"
         }
        },
        "xaxis2": {
         "anchor": "y2",
         "domain": [
          0,
          1
         ],
         "title": {
          "font": {
           "size": 16
          },
          "text": "rule threshold"
         }
        },
        "xaxis3": {
         "anchor": "y3",
         "domain": [
          0,
          1
         ],
         "title": {
          "text": "rule threshold"
         }
        },
        "xaxis4": {
         "anchor": "y4",
         "domain": [
          0,
          1
         ]
        },
        "yaxis": {
         "anchor": "x",
         "domain": [
          0.80625,
          1
         ],
         "range": [
          0,
          1
         ],
         "side": "right",
         "title": {
          "font": {
           "size": 16
          },
          "text": "auc"
         }
        },
        "yaxis2": {
         "anchor": "x2",
         "domain": [
          0.5375,
          0.73125
         ],
         "range": [
          0,
          1
         ],
         "side": "right",
         "title": {
          "font": {
           "size": 16
          },
          "text": "violation_rate"
         }
        },
        "yaxis3": {
         "anchor": "x3",
         "domain": [
          0.26875,
          0.4625
         ],
         "range": [
          0,
          1
         ],
         "side": "right",
         "title": {
          "font": {
           "size": 16
          },
          "text": "violation_rate (instance)"
         }
        },
        "yaxis4": {
         "anchor": "x4",
         "domain": [
          0,
          0.19375
         ]
        }
       }
      }
     },
     "metadata": {},
     "output_type": "display_data"
    }
   ],
   "source": [
    "import plotly.graph_objects as go\n",
    "from plotly.subplots import make_subplots\n",
    "\n",
    "\n",
    "# グラフのデータを準備\n",
    "# index = ['l-SVM-p', 'r-SVM-p', 'LogReg-p']\n",
    "\n",
    "# index = [\n",
    "#     'linear svm (L)', \n",
    "#     'non-linear svm (L)', \n",
    "#     'logistic regression (L)'\n",
    "# ]\n",
    "\n",
    "# index = [\n",
    "#     'linear svm', \n",
    "#     'non-linear svm', \n",
    "#     'logistic regression'\n",
    "# ]\n",
    "\n",
    "index = [\n",
    "    'RuleFit Classifier (disc)',\n",
    "    'tree generator (disc)',\n",
    "    'RuleFit Classifier (conti)', \n",
    "    'tree generator (conti)',\n",
    "]\n",
    "\n",
    "columns = ['auc', 'violation_rate', 'violation_rate (instance)']\n",
    "\n",
    "title_text = \"rule threshold\"\n",
    "\n",
    "\n",
    "# サブプロットの作成\n",
    "# fig = make_subplots(rows=1, cols=2, subplot_titles=('AUC', 'ルール違反率'))\n",
    "fig = make_subplots(rows=len(index), cols=1)\n",
    "showlegend=True\n",
    "\n",
    "for row_num, col in enumerate(columns):\n",
    "    tmp_mean = pd.DataFrame(\n",
    "        [{info: df.loc[model_name, col] for info, df in zip(infos, dfs_mean)} for model_name in index],\n",
    "        index=index\n",
    "    )\n",
    "    tmp_std = pd.DataFrame(\n",
    "        [{info: df.loc[model_name, col] for info, df in zip(infos, dfs_std)} for model_name in index],\n",
    "        index=index\n",
    "    )\n",
    "\n",
    "    # グラフ1: AUC\n",
    "    for i in range(len(tmp_mean)):\n",
    "        fig.add_trace(\n",
    "            go.Scatter(\n",
    "                x=tmp_mean.columns,\n",
    "                y=tmp_mean.iloc[i, :],\n",
    "                mode='lines+markers',\n",
    "                name=tmp_mean.index[i],\n",
    "                line=dict(color=colors_mean[i]),  # ラインの色を設定\n",
    "                marker=dict(color=colors_mean[i]),  # マーカーの色を設定\n",
    "                showlegend=showlegend,\n",
    "            ),\n",
    "            row=row_num+1, col=1\n",
    "        )\n",
    "        fig.add_trace(\n",
    "            go.Scatter(\n",
    "                x=tmp_mean.columns,\n",
    "                y=tmp_mean.iloc[i, :] + tmp_std.iloc[i, :],\n",
    "                mode='lines',\n",
    "                line=dict(color=colors_std[i]),  # ラインの色を設定\n",
    "                showlegend=False\n",
    "            ),\n",
    "            row=row_num+1, col=1\n",
    "        )\n",
    "        fig.add_trace(\n",
    "            go.Scatter(\n",
    "                x=tmp_mean.columns,\n",
    "                y=tmp_mean.iloc[i, :] - tmp_std.iloc[i, :],\n",
    "                mode='lines',\n",
    "                fill='tonexty',\n",
    "                fillcolor=colors_std[i],\n",
    "                line=dict(color='rgba(255,255,255,0)'),\n",
    "                showlegend=False\n",
    "            ),\n",
    "            row=row_num+1, col=1\n",
    "        )\n",
    "    \n",
    "    # x, y 軸の設定\n",
    "    fig.update_xaxes(title_text=title_text, row=row_num+1, col=1)\n",
    "    fig.update_yaxes(title_text=col, range=[0, 1], row=row_num+1, col=1, side='right', title_font=dict(size=16))\n",
    "\n",
    "    showlegend=False\n",
    "    \n",
    "# レイアウトの設定\n",
    "fig.update_layout(\n",
    "    height=len(columns) * 300,\n",
    "    width=600,\n",
    "    xaxis=dict(\n",
    "        domain=[0, 1],  # 左側のsubplotの幅を調整\n",
    "        title_font=dict(size=16)\n",
    "    ),\n",
    "    xaxis2=dict(\n",
    "        domain=[0, 1],  # 右側のsubplotの幅を調整\n",
    "        title_font=dict(size=16)\n",
    "    ),\n",
    "    legend=dict(\n",
    "        x=0.5,\n",
    "        y=1.15,\n",
    "        orientation='h'  # 水平配置\n",
    "    ),\n",
    ")\n",
    "\n",
    "\n",
    "# グラフの表示\n",
    "fig.show()"
   ]
  },
  {
   "cell_type": "code",
   "execution_count": 17,
   "metadata": {},
   "outputs": [
    {
     "data": {
      "application/vnd.plotly.v1+json": {
       "config": {
        "plotlyServerURL": "https://plot.ly"
       },
       "data": [
        {
         "line": {
          "color": "rgba(99,110,250,1)"
         },
         "marker": {
          "color": "rgba(99,110,250,1)"
         },
         "mode": "lines+markers",
         "name": "linear svm (L)",
         "showlegend": true,
         "type": "scatter",
         "x": [
          0,
          0.2,
          0.4,
          0.6,
          0.8,
          1
         ],
         "xaxis": "x",
         "y": [
          0.44307166549952387,
          0.6722374318969949,
          0.3799227690446899,
          0.655758352140441,
          0.5733649242156214,
          0.4704360998979265
         ],
         "yaxis": "y"
        },
        {
         "line": {
          "color": "rgba(99,110,250,0.2)"
         },
         "mode": "lines",
         "showlegend": false,
         "type": "scatter",
         "x": [
          0,
          0.2,
          0.4,
          0.6,
          0.8,
          1
         ],
         "xaxis": "x",
         "y": [
          0.7585599222781638,
          0.9337302937738748,
          0.6172764384643752,
          0.8793361419767028,
          0.8995094352467785,
          0.7437409061240619
         ],
         "yaxis": "y"
        },
        {
         "fill": "tonexty",
         "fillcolor": "rgba(99,110,250,0.2)",
         "line": {
          "color": "rgba(255,255,255,0)"
         },
         "mode": "lines",
         "showlegend": false,
         "type": "scatter",
         "x": [
          0,
          0.2,
          0.4,
          0.6,
          0.8,
          1
         ],
         "xaxis": "x",
         "y": [
          0.12758340872088397,
          0.410744570020115,
          0.1425690996250047,
          0.4321805623041791,
          0.24722041318446425,
          0.1971312936717911
         ],
         "yaxis": "y"
        },
        {
         "line": {
          "color": "rgba(239,85,59,1)"
         },
         "marker": {
          "color": "rgba(239,85,59,1)"
         },
         "mode": "lines+markers",
         "name": "non-linear svm (L)",
         "showlegend": true,
         "type": "scatter",
         "x": [
          0,
          0.2,
          0.4,
          0.6,
          0.8,
          1
         ],
         "xaxis": "x",
         "y": [
          0.821484259190807,
          0.8278620976220867,
          0.8277491080389211,
          0.8267876840775237,
          0.8268948257484212,
          0.8269374899160692
         ],
         "yaxis": "y"
        },
        {
         "line": {
          "color": "rgba(239,85,59,0.2)"
         },
         "mode": "lines",
         "showlegend": false,
         "type": "scatter",
         "x": [
          0,
          0.2,
          0.4,
          0.6,
          0.8,
          1
         ],
         "xaxis": "x",
         "y": [
          0.8672481970735175,
          0.8729436849999147,
          0.8711685788675587,
          0.8679185305749404,
          0.8683772649201801,
          0.8677402562658683
         ],
         "yaxis": "y"
        },
        {
         "fill": "tonexty",
         "fillcolor": "rgba(239,85,59,0.2)",
         "line": {
          "color": "rgba(255,255,255,0)"
         },
         "mode": "lines",
         "showlegend": false,
         "type": "scatter",
         "x": [
          0,
          0.2,
          0.4,
          0.6,
          0.8,
          1
         ],
         "xaxis": "x",
         "y": [
          0.7757203213080965,
          0.7827805102442588,
          0.7843296372102835,
          0.785656837580107,
          0.7854123865766623,
          0.7861347235662701
         ],
         "yaxis": "y"
        },
        {
         "line": {
          "color": "rgba(0,204,150,1)"
         },
         "marker": {
          "color": "rgba(0,204,150,1)"
         },
         "mode": "lines+markers",
         "name": "logistic regression (L)",
         "showlegend": true,
         "type": "scatter",
         "x": [
          0,
          0.2,
          0.4,
          0.6,
          0.8,
          1
         ],
         "xaxis": "x",
         "y": [
          0.8266147184864916,
          0.8254581328387876,
          0.8251652438128261,
          0.8253587085504999,
          0.8250611679268722,
          0.8245213540556158
         ],
         "yaxis": "y"
        },
        {
         "line": {
          "color": "rgba(0,204,150,0.2)"
         },
         "mode": "lines",
         "showlegend": false,
         "type": "scatter",
         "x": [
          0,
          0.2,
          0.4,
          0.6,
          0.8,
          1
         ],
         "xaxis": "x",
         "y": [
          0.8773668800407047,
          0.8795512587137133,
          0.8781583388334948,
          0.8781333239106237,
          0.8779422639417166,
          0.8766145950154148
         ],
         "yaxis": "y"
        },
        {
         "fill": "tonexty",
         "fillcolor": "rgba(0,204,150,0.2)",
         "line": {
          "color": "rgba(255,255,255,0)"
         },
         "mode": "lines",
         "showlegend": false,
         "type": "scatter",
         "x": [
          0,
          0.2,
          0.4,
          0.6,
          0.8,
          1
         ],
         "xaxis": "x",
         "y": [
          0.7758625569322785,
          0.7713650069638618,
          0.7721721487921573,
          0.772584093190376,
          0.7721800719120279,
          0.7724281130958167
         ],
         "yaxis": "y"
        },
        {
         "line": {
          "color": "rgba(99,110,250,1)"
         },
         "marker": {
          "color": "rgba(99,110,250,1)"
         },
         "mode": "lines+markers",
         "name": "linear svm (L)",
         "showlegend": false,
         "type": "scatter",
         "x": [
          0,
          0.2,
          0.4,
          0.6,
          0.8,
          1
         ],
         "xaxis": "x2",
         "y": [
          0.6576662159116521,
          0.6363636363636364,
          0.7032051282051281,
          0.8214285714285714,
          0.4,
          0.5666666666666667
         ],
         "yaxis": "y2"
        },
        {
         "line": {
          "color": "rgba(99,110,250,0.2)"
         },
         "mode": "lines",
         "showlegend": false,
         "type": "scatter",
         "x": [
          0,
          0.2,
          0.4,
          0.6,
          0.8,
          1
         ],
         "xaxis": "x2",
         "y": [
          0.7457784891502809,
          0.7460305593465073,
          0.8737950471542686,
          1.0296768533873322,
          0.6345207879911715,
          1.0012801603468433
         ],
         "yaxis": "y2"
        },
        {
         "fill": "tonexty",
         "fillcolor": "rgba(99,110,250,0.2)",
         "line": {
          "color": "rgba(255,255,255,0)"
         },
         "mode": "lines",
         "showlegend": false,
         "type": "scatter",
         "x": [
          0,
          0.2,
          0.4,
          0.6,
          0.8,
          1
         ],
         "xaxis": "x2",
         "y": [
          0.5695539426730233,
          0.5266967133807654,
          0.5326152092559877,
          0.6131802894698106,
          0.16547921200882854,
          0.13205317298649005
         ],
         "yaxis": "y2"
        },
        {
         "line": {
          "color": "rgba(239,85,59,1)"
         },
         "marker": {
          "color": "rgba(239,85,59,1)"
         },
         "mode": "lines+markers",
         "name": "non-linear svm (L)",
         "showlegend": false,
         "type": "scatter",
         "x": [
          0,
          0.2,
          0.4,
          0.6,
          0.8,
          1
         ],
         "xaxis": "x2",
         "y": [
          0.6217139959432048,
          0.6696969696969697,
          0.6996336996336996,
          0.5309523809523808,
          0.4,
          0.36666666666666664
         ],
         "yaxis": "y2"
        },
        {
         "line": {
          "color": "rgba(239,85,59,0.2)"
         },
         "mode": "lines",
         "showlegend": false,
         "type": "scatter",
         "x": [
          0,
          0.2,
          0.4,
          0.6,
          0.8,
          1
         ],
         "xaxis": "x2",
         "y": [
          0.7489407081436685,
          0.7485560413910377,
          0.809204741307107,
          0.681442886600576,
          0.6345207879911715,
          0.5839734135067549
         ],
         "yaxis": "y2"
        },
        {
         "fill": "tonexty",
         "fillcolor": "rgba(239,85,59,0.2)",
         "line": {
          "color": "rgba(255,255,255,0)"
         },
         "mode": "lines",
         "showlegend": false,
         "type": "scatter",
         "x": [
          0,
          0.2,
          0.4,
          0.6,
          0.8,
          1
         ],
         "xaxis": "x2",
         "y": [
          0.494487283742741,
          0.5908378980029017,
          0.5900626579602922,
          0.38046187530418574,
          0.16547921200882854,
          0.14935991982657834
         ],
         "yaxis": "y2"
        },
        {
         "line": {
          "color": "rgba(0,204,150,1)"
         },
         "marker": {
          "color": "rgba(0,204,150,1)"
         },
         "mode": "lines+markers",
         "name": "logistic regression (L)",
         "showlegend": false,
         "type": "scatter",
         "x": [
          0,
          0.2,
          0.4,
          0.6,
          0.8,
          1
         ],
         "xaxis": "x2",
         "y": [
          0.5511945007888214,
          0.5666666666666667,
          0.5116300366300366,
          0.5857142857142856,
          0.6799999999999999,
          0.6333333333333333
         ],
         "yaxis": "y2"
        },
        {
         "line": {
          "color": "rgba(0,204,150,0.2)"
         },
         "mode": "lines",
         "showlegend": false,
         "type": "scatter",
         "x": [
          0,
          0.2,
          0.4,
          0.6,
          0.8,
          1
         ],
         "xaxis": "x2",
         "y": [
          0.6655936625764762,
          0.6275247286116852,
          0.713254287035374,
          0.7494642748957085,
          0.8967948338867879,
          0.8506400801734216
         ],
         "yaxis": "y2"
        },
        {
         "fill": "tonexty",
         "fillcolor": "rgba(0,204,150,0.2)",
         "line": {
          "color": "rgba(255,255,255,0)"
         },
         "mode": "lines",
         "showlegend": false,
         "type": "scatter",
         "x": [
          0,
          0.2,
          0.4,
          0.6,
          0.8,
          1
         ],
         "xaxis": "x2",
         "y": [
          0.4367953390011665,
          0.5058086047216481,
          0.3100057862246992,
          0.42196429653286277,
          0.46320516611321194,
          0.416026586493245
         ],
         "yaxis": "y2"
        },
        {
         "line": {
          "color": "rgba(99,110,250,1)"
         },
         "marker": {
          "color": "rgba(99,110,250,1)"
         },
         "mode": "lines+markers",
         "name": "linear svm (L)",
         "showlegend": false,
         "type": "scatter",
         "x": [
          0,
          0.2,
          0.4,
          0.6,
          0.8,
          1
         ],
         "xaxis": "x3",
         "y": [
          0.6164404663348227,
          0.5062812027336923,
          0.6641353847108411,
          0.39610844076013446,
          0.31392622359990974,
          0.233329499873435
         ],
         "yaxis": "y3"
        },
        {
         "line": {
          "color": "rgba(99,110,250,0.2)"
         },
         "mode": "lines",
         "showlegend": false,
         "type": "scatter",
         "x": [
          0,
          0.2,
          0.4,
          0.6,
          0.8,
          1
         ],
         "xaxis": "x3",
         "y": [
          0.9040018574023119,
          0.8171294379245668,
          0.9674120989388737,
          0.6772257409467255,
          0.5863735538851511,
          0.4092207887311894
         ],
         "yaxis": "y3"
        },
        {
         "fill": "tonexty",
         "fillcolor": "rgba(99,110,250,0.2)",
         "line": {
          "color": "rgba(255,255,255,0)"
         },
         "mode": "lines",
         "showlegend": false,
         "type": "scatter",
         "x": [
          0,
          0.2,
          0.4,
          0.6,
          0.8,
          1
         ],
         "xaxis": "x3",
         "y": [
          0.32887907526733356,
          0.1954329675428177,
          0.36085867048280856,
          0.11499114057354343,
          0.04147889331466831,
          0.057438211015680585
         ],
         "yaxis": "y3"
        },
        {
         "line": {
          "color": "rgba(239,85,59,1)"
         },
         "marker": {
          "color": "rgba(239,85,59,1)"
         },
         "mode": "lines+markers",
         "name": "non-linear svm (L)",
         "showlegend": false,
         "type": "scatter",
         "x": [
          0,
          0.2,
          0.4,
          0.6,
          0.8,
          1
         ],
         "xaxis": "x3",
         "y": [
          0.23689469893819207,
          0.23495292089148756,
          0.21139002774772603,
          0.1153907964445923,
          0.06699462021302596,
          0.03670562192106237
         ],
         "yaxis": "y3"
        },
        {
         "line": {
          "color": "rgba(239,85,59,0.2)"
         },
         "mode": "lines",
         "showlegend": false,
         "type": "scatter",
         "x": [
          0,
          0.2,
          0.4,
          0.6,
          0.8,
          1
         ],
         "xaxis": "x3",
         "y": [
          0.27661326755350246,
          0.2515437033003946,
          0.24937869315642175,
          0.14811356050470603,
          0.1288235461888012,
          0.08125669238012334
         ],
         "yaxis": "y3"
        },
        {
         "fill": "tonexty",
         "fillcolor": "rgba(239,85,59,0.2)",
         "line": {
          "color": "rgba(255,255,255,0)"
         },
         "mode": "lines",
         "showlegend": false,
         "type": "scatter",
         "x": [
          0,
          0.2,
          0.4,
          0.6,
          0.8,
          1
         ],
         "xaxis": "x3",
         "y": [
          0.19717613032288167,
          0.21836213848258051,
          0.1734013623390303,
          0.08266803238447856,
          0.0051656942372507175,
          -0.007845448537998588
         ],
         "yaxis": "y3"
        },
        {
         "line": {
          "color": "rgba(0,204,150,1)"
         },
         "marker": {
          "color": "rgba(0,204,150,1)"
         },
         "mode": "lines+markers",
         "name": "logistic regression (L)",
         "showlegend": false,
         "type": "scatter",
         "x": [
          0,
          0.2,
          0.4,
          0.6,
          0.8,
          1
         ],
         "xaxis": "x3",
         "y": [
          0.16410656834824594,
          0.12430120172614592,
          0.11189020252725168,
          0.09667360947049777,
          0.11895096732014013,
          0.11835872341323155
         ],
         "yaxis": "y3"
        },
        {
         "line": {
          "color": "rgba(0,204,150,0.2)"
         },
         "mode": "lines",
         "showlegend": false,
         "type": "scatter",
         "x": [
          0,
          0.2,
          0.4,
          0.6,
          0.8,
          1
         ],
         "xaxis": "x3",
         "y": [
          0.20127074461131622,
          0.1558976344728015,
          0.16375248554160382,
          0.13187061906385553,
          0.19426794286542504,
          0.19317217971656264
         ],
         "yaxis": "y3"
        },
        {
         "fill": "tonexty",
         "fillcolor": "rgba(0,204,150,0.2)",
         "line": {
          "color": "rgba(255,255,255,0)"
         },
         "mode": "lines",
         "showlegend": false,
         "type": "scatter",
         "x": [
          0,
          0.2,
          0.4,
          0.6,
          0.8,
          1
         ],
         "xaxis": "x3",
         "y": [
          0.12694239208517566,
          0.09270476897949034,
          0.06002791951289953,
          0.06147659987714001,
          0.043633991774855205,
          0.04354526710990046
         ],
         "yaxis": "y3"
        }
       ],
       "layout": {
        "height": 900,
        "legend": {
         "orientation": "h",
         "x": 0.5,
         "y": 1.15
        },
        "template": {
         "data": {
          "bar": [
           {
            "error_x": {
             "color": "#2a3f5f"
            },
            "error_y": {
             "color": "#2a3f5f"
            },
            "marker": {
             "line": {
              "color": "#E5ECF6",
              "width": 0.5
             },
             "pattern": {
              "fillmode": "overlay",
              "size": 10,
              "solidity": 0.2
             }
            },
            "type": "bar"
           }
          ],
          "barpolar": [
           {
            "marker": {
             "line": {
              "color": "#E5ECF6",
              "width": 0.5
             },
             "pattern": {
              "fillmode": "overlay",
              "size": 10,
              "solidity": 0.2
             }
            },
            "type": "barpolar"
           }
          ],
          "carpet": [
           {
            "aaxis": {
             "endlinecolor": "#2a3f5f",
             "gridcolor": "white",
             "linecolor": "white",
             "minorgridcolor": "white",
             "startlinecolor": "#2a3f5f"
            },
            "baxis": {
             "endlinecolor": "#2a3f5f",
             "gridcolor": "white",
             "linecolor": "white",
             "minorgridcolor": "white",
             "startlinecolor": "#2a3f5f"
            },
            "type": "carpet"
           }
          ],
          "choropleth": [
           {
            "colorbar": {
             "outlinewidth": 0,
             "ticks": ""
            },
            "type": "choropleth"
           }
          ],
          "contour": [
           {
            "colorbar": {
             "outlinewidth": 0,
             "ticks": ""
            },
            "colorscale": [
             [
              0,
              "#0d0887"
             ],
             [
              0.1111111111111111,
              "#46039f"
             ],
             [
              0.2222222222222222,
              "#7201a8"
             ],
             [
              0.3333333333333333,
              "#9c179e"
             ],
             [
              0.4444444444444444,
              "#bd3786"
             ],
             [
              0.5555555555555556,
              "#d8576b"
             ],
             [
              0.6666666666666666,
              "#ed7953"
             ],
             [
              0.7777777777777778,
              "#fb9f3a"
             ],
             [
              0.8888888888888888,
              "#fdca26"
             ],
             [
              1,
              "#f0f921"
             ]
            ],
            "type": "contour"
           }
          ],
          "contourcarpet": [
           {
            "colorbar": {
             "outlinewidth": 0,
             "ticks": ""
            },
            "type": "contourcarpet"
           }
          ],
          "heatmap": [
           {
            "colorbar": {
             "outlinewidth": 0,
             "ticks": ""
            },
            "colorscale": [
             [
              0,
              "#0d0887"
             ],
             [
              0.1111111111111111,
              "#46039f"
             ],
             [
              0.2222222222222222,
              "#7201a8"
             ],
             [
              0.3333333333333333,
              "#9c179e"
             ],
             [
              0.4444444444444444,
              "#bd3786"
             ],
             [
              0.5555555555555556,
              "#d8576b"
             ],
             [
              0.6666666666666666,
              "#ed7953"
             ],
             [
              0.7777777777777778,
              "#fb9f3a"
             ],
             [
              0.8888888888888888,
              "#fdca26"
             ],
             [
              1,
              "#f0f921"
             ]
            ],
            "type": "heatmap"
           }
          ],
          "heatmapgl": [
           {
            "colorbar": {
             "outlinewidth": 0,
             "ticks": ""
            },
            "colorscale": [
             [
              0,
              "#0d0887"
             ],
             [
              0.1111111111111111,
              "#46039f"
             ],
             [
              0.2222222222222222,
              "#7201a8"
             ],
             [
              0.3333333333333333,
              "#9c179e"
             ],
             [
              0.4444444444444444,
              "#bd3786"
             ],
             [
              0.5555555555555556,
              "#d8576b"
             ],
             [
              0.6666666666666666,
              "#ed7953"
             ],
             [
              0.7777777777777778,
              "#fb9f3a"
             ],
             [
              0.8888888888888888,
              "#fdca26"
             ],
             [
              1,
              "#f0f921"
             ]
            ],
            "type": "heatmapgl"
           }
          ],
          "histogram": [
           {
            "marker": {
             "pattern": {
              "fillmode": "overlay",
              "size": 10,
              "solidity": 0.2
             }
            },
            "type": "histogram"
           }
          ],
          "histogram2d": [
           {
            "colorbar": {
             "outlinewidth": 0,
             "ticks": ""
            },
            "colorscale": [
             [
              0,
              "#0d0887"
             ],
             [
              0.1111111111111111,
              "#46039f"
             ],
             [
              0.2222222222222222,
              "#7201a8"
             ],
             [
              0.3333333333333333,
              "#9c179e"
             ],
             [
              0.4444444444444444,
              "#bd3786"
             ],
             [
              0.5555555555555556,
              "#d8576b"
             ],
             [
              0.6666666666666666,
              "#ed7953"
             ],
             [
              0.7777777777777778,
              "#fb9f3a"
             ],
             [
              0.8888888888888888,
              "#fdca26"
             ],
             [
              1,
              "#f0f921"
             ]
            ],
            "type": "histogram2d"
           }
          ],
          "histogram2dcontour": [
           {
            "colorbar": {
             "outlinewidth": 0,
             "ticks": ""
            },
            "colorscale": [
             [
              0,
              "#0d0887"
             ],
             [
              0.1111111111111111,
              "#46039f"
             ],
             [
              0.2222222222222222,
              "#7201a8"
             ],
             [
              0.3333333333333333,
              "#9c179e"
             ],
             [
              0.4444444444444444,
              "#bd3786"
             ],
             [
              0.5555555555555556,
              "#d8576b"
             ],
             [
              0.6666666666666666,
              "#ed7953"
             ],
             [
              0.7777777777777778,
              "#fb9f3a"
             ],
             [
              0.8888888888888888,
              "#fdca26"
             ],
             [
              1,
              "#f0f921"
             ]
            ],
            "type": "histogram2dcontour"
           }
          ],
          "mesh3d": [
           {
            "colorbar": {
             "outlinewidth": 0,
             "ticks": ""
            },
            "type": "mesh3d"
           }
          ],
          "parcoords": [
           {
            "line": {
             "colorbar": {
              "outlinewidth": 0,
              "ticks": ""
             }
            },
            "type": "parcoords"
           }
          ],
          "pie": [
           {
            "automargin": true,
            "type": "pie"
           }
          ],
          "scatter": [
           {
            "fillpattern": {
             "fillmode": "overlay",
             "size": 10,
             "solidity": 0.2
            },
            "type": "scatter"
           }
          ],
          "scatter3d": [
           {
            "line": {
             "colorbar": {
              "outlinewidth": 0,
              "ticks": ""
             }
            },
            "marker": {
             "colorbar": {
              "outlinewidth": 0,
              "ticks": ""
             }
            },
            "type": "scatter3d"
           }
          ],
          "scattercarpet": [
           {
            "marker": {
             "colorbar": {
              "outlinewidth": 0,
              "ticks": ""
             }
            },
            "type": "scattercarpet"
           }
          ],
          "scattergeo": [
           {
            "marker": {
             "colorbar": {
              "outlinewidth": 0,
              "ticks": ""
             }
            },
            "type": "scattergeo"
           }
          ],
          "scattergl": [
           {
            "marker": {
             "colorbar": {
              "outlinewidth": 0,
              "ticks": ""
             }
            },
            "type": "scattergl"
           }
          ],
          "scattermapbox": [
           {
            "marker": {
             "colorbar": {
              "outlinewidth": 0,
              "ticks": ""
             }
            },
            "type": "scattermapbox"
           }
          ],
          "scatterpolar": [
           {
            "marker": {
             "colorbar": {
              "outlinewidth": 0,
              "ticks": ""
             }
            },
            "type": "scatterpolar"
           }
          ],
          "scatterpolargl": [
           {
            "marker": {
             "colorbar": {
              "outlinewidth": 0,
              "ticks": ""
             }
            },
            "type": "scatterpolargl"
           }
          ],
          "scatterternary": [
           {
            "marker": {
             "colorbar": {
              "outlinewidth": 0,
              "ticks": ""
             }
            },
            "type": "scatterternary"
           }
          ],
          "surface": [
           {
            "colorbar": {
             "outlinewidth": 0,
             "ticks": ""
            },
            "colorscale": [
             [
              0,
              "#0d0887"
             ],
             [
              0.1111111111111111,
              "#46039f"
             ],
             [
              0.2222222222222222,
              "#7201a8"
             ],
             [
              0.3333333333333333,
              "#9c179e"
             ],
             [
              0.4444444444444444,
              "#bd3786"
             ],
             [
              0.5555555555555556,
              "#d8576b"
             ],
             [
              0.6666666666666666,
              "#ed7953"
             ],
             [
              0.7777777777777778,
              "#fb9f3a"
             ],
             [
              0.8888888888888888,
              "#fdca26"
             ],
             [
              1,
              "#f0f921"
             ]
            ],
            "type": "surface"
           }
          ],
          "table": [
           {
            "cells": {
             "fill": {
              "color": "#EBF0F8"
             },
             "line": {
              "color": "white"
             }
            },
            "header": {
             "fill": {
              "color": "#C8D4E3"
             },
             "line": {
              "color": "white"
             }
            },
            "type": "table"
           }
          ]
         },
         "layout": {
          "annotationdefaults": {
           "arrowcolor": "#2a3f5f",
           "arrowhead": 0,
           "arrowwidth": 1
          },
          "autotypenumbers": "strict",
          "coloraxis": {
           "colorbar": {
            "outlinewidth": 0,
            "ticks": ""
           }
          },
          "colorscale": {
           "diverging": [
            [
             0,
             "#8e0152"
            ],
            [
             0.1,
             "#c51b7d"
            ],
            [
             0.2,
             "#de77ae"
            ],
            [
             0.3,
             "#f1b6da"
            ],
            [
             0.4,
             "#fde0ef"
            ],
            [
             0.5,
             "#f7f7f7"
            ],
            [
             0.6,
             "#e6f5d0"
            ],
            [
             0.7,
             "#b8e186"
            ],
            [
             0.8,
             "#7fbc41"
            ],
            [
             0.9,
             "#4d9221"
            ],
            [
             1,
             "#276419"
            ]
           ],
           "sequential": [
            [
             0,
             "#0d0887"
            ],
            [
             0.1111111111111111,
             "#46039f"
            ],
            [
             0.2222222222222222,
             "#7201a8"
            ],
            [
             0.3333333333333333,
             "#9c179e"
            ],
            [
             0.4444444444444444,
             "#bd3786"
            ],
            [
             0.5555555555555556,
             "#d8576b"
            ],
            [
             0.6666666666666666,
             "#ed7953"
            ],
            [
             0.7777777777777778,
             "#fb9f3a"
            ],
            [
             0.8888888888888888,
             "#fdca26"
            ],
            [
             1,
             "#f0f921"
            ]
           ],
           "sequentialminus": [
            [
             0,
             "#0d0887"
            ],
            [
             0.1111111111111111,
             "#46039f"
            ],
            [
             0.2222222222222222,
             "#7201a8"
            ],
            [
             0.3333333333333333,
             "#9c179e"
            ],
            [
             0.4444444444444444,
             "#bd3786"
            ],
            [
             0.5555555555555556,
             "#d8576b"
            ],
            [
             0.6666666666666666,
             "#ed7953"
            ],
            [
             0.7777777777777778,
             "#fb9f3a"
            ],
            [
             0.8888888888888888,
             "#fdca26"
            ],
            [
             1,
             "#f0f921"
            ]
           ]
          },
          "colorway": [
           "#636efa",
           "#EF553B",
           "#00cc96",
           "#ab63fa",
           "#FFA15A",
           "#19d3f3",
           "#FF6692",
           "#B6E880",
           "#FF97FF",
           "#FECB52"
          ],
          "font": {
           "color": "#2a3f5f"
          },
          "geo": {
           "bgcolor": "white",
           "lakecolor": "white",
           "landcolor": "#E5ECF6",
           "showlakes": true,
           "showland": true,
           "subunitcolor": "white"
          },
          "hoverlabel": {
           "align": "left"
          },
          "hovermode": "closest",
          "mapbox": {
           "style": "light"
          },
          "paper_bgcolor": "white",
          "plot_bgcolor": "#E5ECF6",
          "polar": {
           "angularaxis": {
            "gridcolor": "white",
            "linecolor": "white",
            "ticks": ""
           },
           "bgcolor": "#E5ECF6",
           "radialaxis": {
            "gridcolor": "white",
            "linecolor": "white",
            "ticks": ""
           }
          },
          "scene": {
           "xaxis": {
            "backgroundcolor": "#E5ECF6",
            "gridcolor": "white",
            "gridwidth": 2,
            "linecolor": "white",
            "showbackground": true,
            "ticks": "",
            "zerolinecolor": "white"
           },
           "yaxis": {
            "backgroundcolor": "#E5ECF6",
            "gridcolor": "white",
            "gridwidth": 2,
            "linecolor": "white",
            "showbackground": true,
            "ticks": "",
            "zerolinecolor": "white"
           },
           "zaxis": {
            "backgroundcolor": "#E5ECF6",
            "gridcolor": "white",
            "gridwidth": 2,
            "linecolor": "white",
            "showbackground": true,
            "ticks": "",
            "zerolinecolor": "white"
           }
          },
          "shapedefaults": {
           "line": {
            "color": "#2a3f5f"
           }
          },
          "ternary": {
           "aaxis": {
            "gridcolor": "white",
            "linecolor": "white",
            "ticks": ""
           },
           "baxis": {
            "gridcolor": "white",
            "linecolor": "white",
            "ticks": ""
           },
           "bgcolor": "#E5ECF6",
           "caxis": {
            "gridcolor": "white",
            "linecolor": "white",
            "ticks": ""
           }
          },
          "title": {
           "x": 0.05
          },
          "xaxis": {
           "automargin": true,
           "gridcolor": "white",
           "linecolor": "white",
           "ticks": "",
           "title": {
            "standoff": 15
           },
           "zerolinecolor": "white",
           "zerolinewidth": 2
          },
          "yaxis": {
           "automargin": true,
           "gridcolor": "white",
           "linecolor": "white",
           "ticks": "",
           "title": {
            "standoff": 15
           },
           "zerolinecolor": "white",
           "zerolinewidth": 2
          }
         }
        },
        "width": 600,
        "xaxis": {
         "anchor": "y",
         "domain": [
          0,
          1
         ],
         "tickvals": [
          0,
          0.2,
          0.4,
          0.6,
          0.8,
          1
         ],
         "title": {
          "font": {
           "size": 16
          },
          "text": "rule threshold"
         }
        },
        "xaxis2": {
         "anchor": "y2",
         "domain": [
          0,
          1
         ],
         "tickvals": [
          0,
          0.2,
          0.4,
          0.6,
          0.8,
          1
         ],
         "title": {
          "font": {
           "size": 16
          },
          "text": "rule threshold"
         }
        },
        "xaxis3": {
         "anchor": "y3",
         "domain": [
          0,
          1
         ],
         "tickvals": [
          0,
          0.2,
          0.4,
          0.6,
          0.8,
          1
         ],
         "title": {
          "text": "rule threshold"
         }
        },
        "yaxis": {
         "anchor": "x",
         "domain": [
          0.7333333333333333,
          1
         ],
         "range": [
          0,
          1
         ],
         "side": "right",
         "title": {
          "font": {
           "size": 16
          },
          "text": "auc"
         }
        },
        "yaxis2": {
         "anchor": "x2",
         "domain": [
          0.36666666666666664,
          0.6333333333333333
         ],
         "range": [
          0,
          1
         ],
         "side": "right",
         "title": {
          "font": {
           "size": 16
          },
          "text": "violation_rate"
         }
        },
        "yaxis3": {
         "anchor": "x3",
         "domain": [
          0,
          0.26666666666666666
         ],
         "range": [
          0,
          1
         ],
         "side": "right",
         "title": {
          "font": {
           "size": 16
          },
          "text": "violation_rate (instance)"
         }
        }
       }
      }
     },
     "metadata": {},
     "output_type": "display_data"
    }
   ],
   "source": [
    "import plotly.graph_objects as go\n",
    "from plotly.subplots import make_subplots\n",
    "\n",
    "\n",
    "# グラフのデータを準備\n",
    "# index = ['l-SVM-p', 'r-SVM-p', 'LogReg-p']\n",
    "\n",
    "index = [\n",
    "    'linear svm (L)', \n",
    "    'non-linear svm (L)', \n",
    "    'logistic regression (L)'\n",
    "]\n",
    "\n",
    "# index = [\n",
    "#     'linear svm', \n",
    "#     'non-linear svm', \n",
    "#     'logistic regression'\n",
    "# ]\n",
    "\n",
    "# index = [\n",
    "#     'RuleFit Classifier (disc)',\n",
    "#     'tree generator (disc)',\n",
    "#     'RuleFit Classifier (conti)', \n",
    "#     'tree generator (conti)',\n",
    "# ]\n",
    "\n",
    "columns = ['auc', 'violation_rate', 'violation_rate (instance)']\n",
    "\n",
    "title_text = \"rule threshold\"\n",
    "\n",
    "\n",
    "# サブプロットの作成\n",
    "# fig = make_subplots(rows=1, cols=2, subplot_titles=('AUC', 'ルール違反率'))\n",
    "fig = make_subplots(rows=len(columns), cols=1)\n",
    "showlegend=True\n",
    "\n",
    "for row_num, col in enumerate(columns):\n",
    "    tmp_mean = pd.DataFrame(\n",
    "        [{info: df.loc[model_name, col] for info, df in zip(infos, dfs_mean)} for model_name in index],\n",
    "        index=index\n",
    "    )\n",
    "    tmp_std = pd.DataFrame(\n",
    "        [{info: df.loc[model_name, col] for info, df in zip(infos, dfs_std)} for model_name in index],\n",
    "        index=index\n",
    "    )\n",
    "\n",
    "    # グラフ1: AUC\n",
    "    for i in range(len(tmp_mean)):\n",
    "        fig.add_trace(\n",
    "            go.Scatter(\n",
    "                x=tmp_mean.columns,\n",
    "                y=tmp_mean.iloc[i, :],\n",
    "                mode='lines+markers',\n",
    "                name=tmp_mean.index[i],\n",
    "                line=dict(color=colors_mean[i]),  # ラインの色を設定\n",
    "                marker=dict(color=colors_mean[i]),  # マーカーの色を設定\n",
    "                showlegend=showlegend,\n",
    "            ),\n",
    "            row=row_num+1, col=1\n",
    "        )\n",
    "        fig.add_trace(\n",
    "            go.Scatter(\n",
    "                x=tmp_mean.columns,\n",
    "                y=tmp_mean.iloc[i, :] + tmp_std.iloc[i, :],\n",
    "                mode='lines',\n",
    "                line=dict(color=colors_std[i]),  # ラインの色を設定\n",
    "                showlegend=False\n",
    "            ),\n",
    "            row=row_num+1, col=1\n",
    "        )\n",
    "        fig.add_trace(\n",
    "            go.Scatter(\n",
    "                x=tmp_mean.columns,\n",
    "                y=tmp_mean.iloc[i, :] - tmp_std.iloc[i, :],\n",
    "                mode='lines',\n",
    "                fill='tonexty',\n",
    "                fillcolor=colors_std[i],\n",
    "                line=dict(color='rgba(255,255,255,0)'),\n",
    "                showlegend=False\n",
    "            ),\n",
    "            row=row_num+1, col=1\n",
    "        )\n",
    "    \n",
    "    # x, y 軸の設定\n",
    "    fig.update_xaxes(title_text=title_text, row=row_num+1, col=1, tickvals=[num / 5 for num in range(6)])\n",
    "    fig.update_yaxes(title_text=col, range=[0, 1], row=row_num+1, col=1, side='right', title_font=dict(size=16))\n",
    "\n",
    "    showlegend=False\n",
    "    \n",
    "# レイアウトの設定\n",
    "fig.update_layout(\n",
    "    height=len(columns) * 300,\n",
    "    width=600,\n",
    "    xaxis=dict(\n",
    "        domain=[0, 1],  # 左側のsubplotの幅を調整\n",
    "        title_font=dict(size=16)\n",
    "    ),\n",
    "    xaxis2=dict(\n",
    "        domain=[0, 1],  # 右側のsubplotの幅を調整\n",
    "        title_font=dict(size=16)\n",
    "    ),\n",
    "    legend=dict(\n",
    "        x=0.5,\n",
    "        y=1.15,\n",
    "        orientation='h'  # 水平配置\n",
    "    ),\n",
    ")\n",
    "\n",
    "\n",
    "# グラフの表示\n",
    "fig.show()"
   ]
  },
  {
   "cell_type": "code",
   "execution_count": 16,
   "metadata": {},
   "outputs": [
    {
     "data": {
      "application/vnd.plotly.v1+json": {
       "config": {
        "plotlyServerURL": "https://plot.ly"
       },
       "data": [
        {
         "line": {
          "color": "rgba(99,110,250,1)"
         },
         "marker": {
          "color": "rgba(99,110,250,1)"
         },
         "mode": "lines+markers",
         "name": "linear svm",
         "showlegend": true,
         "type": "scatter",
         "x": [
          0,
          0.2,
          0.4,
          0.6,
          0.8,
          1
         ],
         "xaxis": "x",
         "y": [
          0.8378045112241415,
          0.8378045112241415,
          0.8378045112241415,
          0.8378045112241415,
          0.8378045112241415,
          0.8378045112241415
         ],
         "yaxis": "y"
        },
        {
         "line": {
          "color": "rgba(99,110,250,0.2)"
         },
         "mode": "lines",
         "showlegend": false,
         "type": "scatter",
         "x": [
          0,
          0.2,
          0.4,
          0.6,
          0.8,
          1
         ],
         "xaxis": "x",
         "y": [
          0.8831807779515406,
          0.8831807779515406,
          0.8831807779515406,
          0.8831807779515406,
          0.8831807779515406,
          0.8831807779515406
         ],
         "yaxis": "y"
        },
        {
         "fill": "tonexty",
         "fillcolor": "rgba(99,110,250,0.2)",
         "line": {
          "color": "rgba(255,255,255,0)"
         },
         "mode": "lines",
         "showlegend": false,
         "type": "scatter",
         "x": [
          0,
          0.2,
          0.4,
          0.6,
          0.8,
          1
         ],
         "xaxis": "x",
         "y": [
          0.7924282444967423,
          0.7924282444967423,
          0.7924282444967423,
          0.7924282444967423,
          0.7924282444967423,
          0.7924282444967423
         ],
         "yaxis": "y"
        },
        {
         "line": {
          "color": "rgba(239,85,59,1)"
         },
         "marker": {
          "color": "rgba(239,85,59,1)"
         },
         "mode": "lines+markers",
         "name": "non-linear svm",
         "showlegend": true,
         "type": "scatter",
         "x": [
          0,
          0.2,
          0.4,
          0.6,
          0.8,
          1
         ],
         "xaxis": "x",
         "y": [
          0.8380644745522868,
          0.8380644745522868,
          0.8380644745522868,
          0.8380644745522868,
          0.8380644745522868,
          0.8380644745522868
         ],
         "yaxis": "y"
        },
        {
         "line": {
          "color": "rgba(239,85,59,0.2)"
         },
         "mode": "lines",
         "showlegend": false,
         "type": "scatter",
         "x": [
          0,
          0.2,
          0.4,
          0.6,
          0.8,
          1
         ],
         "xaxis": "x",
         "y": [
          0.8867611205283645,
          0.8867611205283645,
          0.8867611205283645,
          0.8867611205283645,
          0.8867611205283645,
          0.8867611205283645
         ],
         "yaxis": "y"
        },
        {
         "fill": "tonexty",
         "fillcolor": "rgba(239,85,59,0.2)",
         "line": {
          "color": "rgba(255,255,255,0)"
         },
         "mode": "lines",
         "showlegend": false,
         "type": "scatter",
         "x": [
          0,
          0.2,
          0.4,
          0.6,
          0.8,
          1
         ],
         "xaxis": "x",
         "y": [
          0.7893678285762091,
          0.7893678285762091,
          0.7893678285762091,
          0.7893678285762091,
          0.7893678285762091,
          0.7893678285762091
         ],
         "yaxis": "y"
        },
        {
         "line": {
          "color": "rgba(0,204,150,1)"
         },
         "marker": {
          "color": "rgba(0,204,150,1)"
         },
         "mode": "lines+markers",
         "name": "logistic regression",
         "showlegend": true,
         "type": "scatter",
         "x": [
          0,
          0.2,
          0.4,
          0.6,
          0.8,
          1
         ],
         "xaxis": "x",
         "y": [
          0.8405733226121905,
          0.8405733226121905,
          0.8405733226121905,
          0.8405733226121905,
          0.8405733226121905,
          0.8405733226121905
         ],
         "yaxis": "y"
        },
        {
         "line": {
          "color": "rgba(0,204,150,0.2)"
         },
         "mode": "lines",
         "showlegend": false,
         "type": "scatter",
         "x": [
          0,
          0.2,
          0.4,
          0.6,
          0.8,
          1
         ],
         "xaxis": "x",
         "y": [
          0.8880053027203545,
          0.8880053027203545,
          0.8880053027203545,
          0.8880053027203545,
          0.8880053027203545,
          0.8880053027203545
         ],
         "yaxis": "y"
        },
        {
         "fill": "tonexty",
         "fillcolor": "rgba(0,204,150,0.2)",
         "line": {
          "color": "rgba(255,255,255,0)"
         },
         "mode": "lines",
         "showlegend": false,
         "type": "scatter",
         "x": [
          0,
          0.2,
          0.4,
          0.6,
          0.8,
          1
         ],
         "xaxis": "x",
         "y": [
          0.7931413425040266,
          0.7931413425040266,
          0.7931413425040266,
          0.7931413425040266,
          0.7931413425040266,
          0.7931413425040266
         ],
         "yaxis": "y"
        },
        {
         "line": {
          "color": "rgba(99,110,250,1)"
         },
         "marker": {
          "color": "rgba(99,110,250,1)"
         },
         "mode": "lines+markers",
         "name": "linear svm",
         "showlegend": false,
         "type": "scatter",
         "x": [
          0,
          0.2,
          0.4,
          0.6,
          0.8,
          1
         ],
         "xaxis": "x2",
         "y": [
          0.8813364886184359,
          0.8969696969696969,
          0.8884615384615385,
          0.8666666666666668,
          0.86,
          0.9
         ],
         "yaxis": "y2"
        },
        {
         "line": {
          "color": "rgba(99,110,250,0.2)"
         },
         "mode": "lines",
         "showlegend": false,
         "type": "scatter",
         "x": [
          0,
          0.2,
          0.4,
          0.6,
          0.8,
          1
         ],
         "xaxis": "x2",
         "y": [
          0.9081310751187128,
          0.949041359267806,
          1.0103912883395951,
          1.0839734135067551,
          1.0790890230020664,
          1.123606797749979
         ],
         "yaxis": "y2"
        },
        {
         "fill": "tonexty",
         "fillcolor": "rgba(99,110,250,0.2)",
         "line": {
          "color": "rgba(255,255,255,0)"
         },
         "mode": "lines",
         "showlegend": false,
         "type": "scatter",
         "x": [
          0,
          0.2,
          0.4,
          0.6,
          0.8,
          1
         ],
         "xaxis": "x2",
         "y": [
          0.8545419021181591,
          0.8448980346715877,
          0.7665317885834819,
          0.6493599198265785,
          0.6409109769979335,
          0.6763932022500211
         ],
         "yaxis": "y2"
        },
        {
         "line": {
          "color": "rgba(239,85,59,1)"
         },
         "marker": {
          "color": "rgba(239,85,59,1)"
         },
         "mode": "lines+markers",
         "name": "non-linear svm",
         "showlegend": false,
         "type": "scatter",
         "x": [
          0,
          0.2,
          0.4,
          0.6,
          0.8,
          1
         ],
         "xaxis": "x2",
         "y": [
          0.9085587108406582,
          0.9171717171717173,
          0.9288461538461539,
          0.9666666666666668,
          0.96,
          1
         ],
         "yaxis": "y2"
        },
        {
         "line": {
          "color": "rgba(239,85,59,0.2)"
         },
         "mode": "lines",
         "showlegend": false,
         "type": "scatter",
         "x": [
          0,
          0.2,
          0.4,
          0.6,
          0.8,
          1
         ],
         "xaxis": "x2",
         "y": [
          0.9475326726477605,
          0.9555688440580773,
          0.9993735416188164,
          1.0412022659166598,
          1.0494427190999915,
          1
         ],
         "yaxis": "y2"
        },
        {
         "fill": "tonexty",
         "fillcolor": "rgba(239,85,59,0.2)",
         "line": {
          "color": "rgba(255,255,255,0)"
         },
         "mode": "lines",
         "showlegend": false,
         "type": "scatter",
         "x": [
          0,
          0.2,
          0.4,
          0.6,
          0.8,
          1
         ],
         "xaxis": "x2",
         "y": [
          0.8695847490335559,
          0.8787745902853573,
          0.8583187660734913,
          0.8921310674166738,
          0.8705572809000084,
          1
         ],
         "yaxis": "y2"
        },
        {
         "line": {
          "color": "rgba(0,204,150,1)"
         },
         "marker": {
          "color": "rgba(0,204,150,1)"
         },
         "mode": "lines+markers",
         "name": "logistic regression",
         "showlegend": false,
         "type": "scatter",
         "x": [
          0,
          0.2,
          0.4,
          0.6,
          0.8,
          1
         ],
         "xaxis": "x2",
         "y": [
          0.8868920441739914,
          0.9080808080808079,
          0.9134615384615385,
          0.9666666666666668,
          0.96,
          1
         ],
         "yaxis": "y2"
        },
        {
         "line": {
          "color": "rgba(0,204,150,0.2)"
         },
         "mode": "lines",
         "showlegend": false,
         "type": "scatter",
         "x": [
          0,
          0.2,
          0.4,
          0.6,
          0.8,
          1
         ],
         "xaxis": "x2",
         "y": [
          0.9112099970574081,
          0.9637968297798851,
          1.0100949578953933,
          1.0412022659166598,
          1.0494427190999915,
          1
         ],
         "yaxis": "y2"
        },
        {
         "fill": "tonexty",
         "fillcolor": "rgba(0,204,150,0.2)",
         "line": {
          "color": "rgba(255,255,255,0)"
         },
         "mode": "lines",
         "showlegend": false,
         "type": "scatter",
         "x": [
          0,
          0.2,
          0.4,
          0.6,
          0.8,
          1
         ],
         "xaxis": "x2",
         "y": [
          0.8625740912905746,
          0.8523647863817307,
          0.8168281190276838,
          0.8921310674166738,
          0.8705572809000084,
          1
         ],
         "yaxis": "y2"
        },
        {
         "line": {
          "color": "rgba(99,110,250,1)"
         },
         "marker": {
          "color": "rgba(99,110,250,1)"
         },
         "mode": "lines+markers",
         "name": "linear svm",
         "showlegend": false,
         "type": "scatter",
         "x": [
          0,
          0.2,
          0.4,
          0.6,
          0.8,
          1
         ],
         "xaxis": "x3",
         "y": [
          0.8809917562866085,
          0.8982095884227137,
          0.8348512723310522,
          0.7143624686117298,
          0.5206913550456599,
          0.44356101786405827
         ],
         "yaxis": "y3"
        },
        {
         "line": {
          "color": "rgba(99,110,250,0.2)"
         },
         "mode": "lines",
         "showlegend": false,
         "type": "scatter",
         "x": [
          0,
          0.2,
          0.4,
          0.6,
          0.8,
          1
         ],
         "xaxis": "x3",
         "y": [
          0.894123856787249,
          0.9426162410834322,
          0.8711179172003111,
          0.7864224407111917,
          0.7764700439051133,
          0.65633914646575
         ],
         "yaxis": "y3"
        },
        {
         "fill": "tonexty",
         "fillcolor": "rgba(99,110,250,0.2)",
         "line": {
          "color": "rgba(255,255,255,0)"
         },
         "mode": "lines",
         "showlegend": false,
         "type": "scatter",
         "x": [
          0,
          0.2,
          0.4,
          0.6,
          0.8,
          1
         ],
         "xaxis": "x3",
         "y": [
          0.867859655785968,
          0.8538029357619952,
          0.7985846274617933,
          0.6423024965122679,
          0.2649126661862064,
          0.2307828892623666
         ],
         "yaxis": "y3"
        },
        {
         "line": {
          "color": "rgba(239,85,59,1)"
         },
         "marker": {
          "color": "rgba(239,85,59,1)"
         },
         "mode": "lines+markers",
         "name": "non-linear svm",
         "showlegend": false,
         "type": "scatter",
         "x": [
          0,
          0.2,
          0.4,
          0.6,
          0.8,
          1
         ],
         "xaxis": "x3",
         "y": [
          0.8948175568747676,
          0.9076161690673287,
          0.8537468343335224,
          0.7488039997425535,
          0.57312682527259,
          0.5075258998556943
         ],
         "yaxis": "y3"
        },
        {
         "line": {
          "color": "rgba(239,85,59,0.2)"
         },
         "mode": "lines",
         "showlegend": false,
         "type": "scatter",
         "x": [
          0,
          0.2,
          0.4,
          0.6,
          0.8,
          1
         ],
         "xaxis": "x3",
         "y": [
          0.9076553055032672,
          0.9545227911803198,
          0.8869183028025952,
          0.8132706272022897,
          0.8175006704730523,
          0.7230889517842263
         ],
         "yaxis": "y3"
        },
        {
         "fill": "tonexty",
         "fillcolor": "rgba(239,85,59,0.2)",
         "line": {
          "color": "rgba(255,255,255,0)"
         },
         "mode": "lines",
         "showlegend": false,
         "type": "scatter",
         "x": [
          0,
          0.2,
          0.4,
          0.6,
          0.8,
          1
         ],
         "xaxis": "x3",
         "y": [
          0.881979808246268,
          0.8607095469543375,
          0.8205753658644496,
          0.6843373722828173,
          0.32875298007212755,
          0.2919628479271623
         ],
         "yaxis": "y3"
        },
        {
         "line": {
          "color": "rgba(0,204,150,1)"
         },
         "marker": {
          "color": "rgba(0,204,150,1)"
         },
         "mode": "lines+markers",
         "name": "logistic regression",
         "showlegend": false,
         "type": "scatter",
         "x": [
          0,
          0.2,
          0.4,
          0.6,
          0.8,
          1
         ],
         "xaxis": "x3",
         "y": [
          0.8856547067577392,
          0.9028478274839189,
          0.8445716556945119,
          0.7340673857325009,
          0.5491547041942126,
          0.48163221014986596
         ],
         "yaxis": "y3"
        },
        {
         "line": {
          "color": "rgba(0,204,150,0.2)"
         },
         "mode": "lines",
         "showlegend": false,
         "type": "scatter",
         "x": [
          0,
          0.2,
          0.4,
          0.6,
          0.8,
          1
         ],
         "xaxis": "x3",
         "y": [
          0.8963619972129705,
          0.9476812935472936,
          0.8796865480377558,
          0.8034398112308785,
          0.8025272655723638,
          0.6986644664018172
         ],
         "yaxis": "y3"
        },
        {
         "fill": "tonexty",
         "fillcolor": "rgba(0,204,150,0.2)",
         "line": {
          "color": "rgba(255,255,255,0)"
         },
         "mode": "lines",
         "showlegend": false,
         "type": "scatter",
         "x": [
          0,
          0.2,
          0.4,
          0.6,
          0.8,
          1
         ],
         "xaxis": "x3",
         "y": [
          0.8749474163025078,
          0.8580143614205442,
          0.8094567633512679,
          0.6646949602341232,
          0.2957821428160615,
          0.2645999538979147
         ],
         "yaxis": "y3"
        }
       ],
       "layout": {
        "height": 900,
        "legend": {
         "orientation": "h",
         "x": 0.5,
         "y": 1.15
        },
        "template": {
         "data": {
          "bar": [
           {
            "error_x": {
             "color": "#2a3f5f"
            },
            "error_y": {
             "color": "#2a3f5f"
            },
            "marker": {
             "line": {
              "color": "#E5ECF6",
              "width": 0.5
             },
             "pattern": {
              "fillmode": "overlay",
              "size": 10,
              "solidity": 0.2
             }
            },
            "type": "bar"
           }
          ],
          "barpolar": [
           {
            "marker": {
             "line": {
              "color": "#E5ECF6",
              "width": 0.5
             },
             "pattern": {
              "fillmode": "overlay",
              "size": 10,
              "solidity": 0.2
             }
            },
            "type": "barpolar"
           }
          ],
          "carpet": [
           {
            "aaxis": {
             "endlinecolor": "#2a3f5f",
             "gridcolor": "white",
             "linecolor": "white",
             "minorgridcolor": "white",
             "startlinecolor": "#2a3f5f"
            },
            "baxis": {
             "endlinecolor": "#2a3f5f",
             "gridcolor": "white",
             "linecolor": "white",
             "minorgridcolor": "white",
             "startlinecolor": "#2a3f5f"
            },
            "type": "carpet"
           }
          ],
          "choropleth": [
           {
            "colorbar": {
             "outlinewidth": 0,
             "ticks": ""
            },
            "type": "choropleth"
           }
          ],
          "contour": [
           {
            "colorbar": {
             "outlinewidth": 0,
             "ticks": ""
            },
            "colorscale": [
             [
              0,
              "#0d0887"
             ],
             [
              0.1111111111111111,
              "#46039f"
             ],
             [
              0.2222222222222222,
              "#7201a8"
             ],
             [
              0.3333333333333333,
              "#9c179e"
             ],
             [
              0.4444444444444444,
              "#bd3786"
             ],
             [
              0.5555555555555556,
              "#d8576b"
             ],
             [
              0.6666666666666666,
              "#ed7953"
             ],
             [
              0.7777777777777778,
              "#fb9f3a"
             ],
             [
              0.8888888888888888,
              "#fdca26"
             ],
             [
              1,
              "#f0f921"
             ]
            ],
            "type": "contour"
           }
          ],
          "contourcarpet": [
           {
            "colorbar": {
             "outlinewidth": 0,
             "ticks": ""
            },
            "type": "contourcarpet"
           }
          ],
          "heatmap": [
           {
            "colorbar": {
             "outlinewidth": 0,
             "ticks": ""
            },
            "colorscale": [
             [
              0,
              "#0d0887"
             ],
             [
              0.1111111111111111,
              "#46039f"
             ],
             [
              0.2222222222222222,
              "#7201a8"
             ],
             [
              0.3333333333333333,
              "#9c179e"
             ],
             [
              0.4444444444444444,
              "#bd3786"
             ],
             [
              0.5555555555555556,
              "#d8576b"
             ],
             [
              0.6666666666666666,
              "#ed7953"
             ],
             [
              0.7777777777777778,
              "#fb9f3a"
             ],
             [
              0.8888888888888888,
              "#fdca26"
             ],
             [
              1,
              "#f0f921"
             ]
            ],
            "type": "heatmap"
           }
          ],
          "heatmapgl": [
           {
            "colorbar": {
             "outlinewidth": 0,
             "ticks": ""
            },
            "colorscale": [
             [
              0,
              "#0d0887"
             ],
             [
              0.1111111111111111,
              "#46039f"
             ],
             [
              0.2222222222222222,
              "#7201a8"
             ],
             [
              0.3333333333333333,
              "#9c179e"
             ],
             [
              0.4444444444444444,
              "#bd3786"
             ],
             [
              0.5555555555555556,
              "#d8576b"
             ],
             [
              0.6666666666666666,
              "#ed7953"
             ],
             [
              0.7777777777777778,
              "#fb9f3a"
             ],
             [
              0.8888888888888888,
              "#fdca26"
             ],
             [
              1,
              "#f0f921"
             ]
            ],
            "type": "heatmapgl"
           }
          ],
          "histogram": [
           {
            "marker": {
             "pattern": {
              "fillmode": "overlay",
              "size": 10,
              "solidity": 0.2
             }
            },
            "type": "histogram"
           }
          ],
          "histogram2d": [
           {
            "colorbar": {
             "outlinewidth": 0,
             "ticks": ""
            },
            "colorscale": [
             [
              0,
              "#0d0887"
             ],
             [
              0.1111111111111111,
              "#46039f"
             ],
             [
              0.2222222222222222,
              "#7201a8"
             ],
             [
              0.3333333333333333,
              "#9c179e"
             ],
             [
              0.4444444444444444,
              "#bd3786"
             ],
             [
              0.5555555555555556,
              "#d8576b"
             ],
             [
              0.6666666666666666,
              "#ed7953"
             ],
             [
              0.7777777777777778,
              "#fb9f3a"
             ],
             [
              0.8888888888888888,
              "#fdca26"
             ],
             [
              1,
              "#f0f921"
             ]
            ],
            "type": "histogram2d"
           }
          ],
          "histogram2dcontour": [
           {
            "colorbar": {
             "outlinewidth": 0,
             "ticks": ""
            },
            "colorscale": [
             [
              0,
              "#0d0887"
             ],
             [
              0.1111111111111111,
              "#46039f"
             ],
             [
              0.2222222222222222,
              "#7201a8"
             ],
             [
              0.3333333333333333,
              "#9c179e"
             ],
             [
              0.4444444444444444,
              "#bd3786"
             ],
             [
              0.5555555555555556,
              "#d8576b"
             ],
             [
              0.6666666666666666,
              "#ed7953"
             ],
             [
              0.7777777777777778,
              "#fb9f3a"
             ],
             [
              0.8888888888888888,
              "#fdca26"
             ],
             [
              1,
              "#f0f921"
             ]
            ],
            "type": "histogram2dcontour"
           }
          ],
          "mesh3d": [
           {
            "colorbar": {
             "outlinewidth": 0,
             "ticks": ""
            },
            "type": "mesh3d"
           }
          ],
          "parcoords": [
           {
            "line": {
             "colorbar": {
              "outlinewidth": 0,
              "ticks": ""
             }
            },
            "type": "parcoords"
           }
          ],
          "pie": [
           {
            "automargin": true,
            "type": "pie"
           }
          ],
          "scatter": [
           {
            "fillpattern": {
             "fillmode": "overlay",
             "size": 10,
             "solidity": 0.2
            },
            "type": "scatter"
           }
          ],
          "scatter3d": [
           {
            "line": {
             "colorbar": {
              "outlinewidth": 0,
              "ticks": ""
             }
            },
            "marker": {
             "colorbar": {
              "outlinewidth": 0,
              "ticks": ""
             }
            },
            "type": "scatter3d"
           }
          ],
          "scattercarpet": [
           {
            "marker": {
             "colorbar": {
              "outlinewidth": 0,
              "ticks": ""
             }
            },
            "type": "scattercarpet"
           }
          ],
          "scattergeo": [
           {
            "marker": {
             "colorbar": {
              "outlinewidth": 0,
              "ticks": ""
             }
            },
            "type": "scattergeo"
           }
          ],
          "scattergl": [
           {
            "marker": {
             "colorbar": {
              "outlinewidth": 0,
              "ticks": ""
             }
            },
            "type": "scattergl"
           }
          ],
          "scattermapbox": [
           {
            "marker": {
             "colorbar": {
              "outlinewidth": 0,
              "ticks": ""
             }
            },
            "type": "scattermapbox"
           }
          ],
          "scatterpolar": [
           {
            "marker": {
             "colorbar": {
              "outlinewidth": 0,
              "ticks": ""
             }
            },
            "type": "scatterpolar"
           }
          ],
          "scatterpolargl": [
           {
            "marker": {
             "colorbar": {
              "outlinewidth": 0,
              "ticks": ""
             }
            },
            "type": "scatterpolargl"
           }
          ],
          "scatterternary": [
           {
            "marker": {
             "colorbar": {
              "outlinewidth": 0,
              "ticks": ""
             }
            },
            "type": "scatterternary"
           }
          ],
          "surface": [
           {
            "colorbar": {
             "outlinewidth": 0,
             "ticks": ""
            },
            "colorscale": [
             [
              0,
              "#0d0887"
             ],
             [
              0.1111111111111111,
              "#46039f"
             ],
             [
              0.2222222222222222,
              "#7201a8"
             ],
             [
              0.3333333333333333,
              "#9c179e"
             ],
             [
              0.4444444444444444,
              "#bd3786"
             ],
             [
              0.5555555555555556,
              "#d8576b"
             ],
             [
              0.6666666666666666,
              "#ed7953"
             ],
             [
              0.7777777777777778,
              "#fb9f3a"
             ],
             [
              0.8888888888888888,
              "#fdca26"
             ],
             [
              1,
              "#f0f921"
             ]
            ],
            "type": "surface"
           }
          ],
          "table": [
           {
            "cells": {
             "fill": {
              "color": "#EBF0F8"
             },
             "line": {
              "color": "white"
             }
            },
            "header": {
             "fill": {
              "color": "#C8D4E3"
             },
             "line": {
              "color": "white"
             }
            },
            "type": "table"
           }
          ]
         },
         "layout": {
          "annotationdefaults": {
           "arrowcolor": "#2a3f5f",
           "arrowhead": 0,
           "arrowwidth": 1
          },
          "autotypenumbers": "strict",
          "coloraxis": {
           "colorbar": {
            "outlinewidth": 0,
            "ticks": ""
           }
          },
          "colorscale": {
           "diverging": [
            [
             0,
             "#8e0152"
            ],
            [
             0.1,
             "#c51b7d"
            ],
            [
             0.2,
             "#de77ae"
            ],
            [
             0.3,
             "#f1b6da"
            ],
            [
             0.4,
             "#fde0ef"
            ],
            [
             0.5,
             "#f7f7f7"
            ],
            [
             0.6,
             "#e6f5d0"
            ],
            [
             0.7,
             "#b8e186"
            ],
            [
             0.8,
             "#7fbc41"
            ],
            [
             0.9,
             "#4d9221"
            ],
            [
             1,
             "#276419"
            ]
           ],
           "sequential": [
            [
             0,
             "#0d0887"
            ],
            [
             0.1111111111111111,
             "#46039f"
            ],
            [
             0.2222222222222222,
             "#7201a8"
            ],
            [
             0.3333333333333333,
             "#9c179e"
            ],
            [
             0.4444444444444444,
             "#bd3786"
            ],
            [
             0.5555555555555556,
             "#d8576b"
            ],
            [
             0.6666666666666666,
             "#ed7953"
            ],
            [
             0.7777777777777778,
             "#fb9f3a"
            ],
            [
             0.8888888888888888,
             "#fdca26"
            ],
            [
             1,
             "#f0f921"
            ]
           ],
           "sequentialminus": [
            [
             0,
             "#0d0887"
            ],
            [
             0.1111111111111111,
             "#46039f"
            ],
            [
             0.2222222222222222,
             "#7201a8"
            ],
            [
             0.3333333333333333,
             "#9c179e"
            ],
            [
             0.4444444444444444,
             "#bd3786"
            ],
            [
             0.5555555555555556,
             "#d8576b"
            ],
            [
             0.6666666666666666,
             "#ed7953"
            ],
            [
             0.7777777777777778,
             "#fb9f3a"
            ],
            [
             0.8888888888888888,
             "#fdca26"
            ],
            [
             1,
             "#f0f921"
            ]
           ]
          },
          "colorway": [
           "#636efa",
           "#EF553B",
           "#00cc96",
           "#ab63fa",
           "#FFA15A",
           "#19d3f3",
           "#FF6692",
           "#B6E880",
           "#FF97FF",
           "#FECB52"
          ],
          "font": {
           "color": "#2a3f5f"
          },
          "geo": {
           "bgcolor": "white",
           "lakecolor": "white",
           "landcolor": "#E5ECF6",
           "showlakes": true,
           "showland": true,
           "subunitcolor": "white"
          },
          "hoverlabel": {
           "align": "left"
          },
          "hovermode": "closest",
          "mapbox": {
           "style": "light"
          },
          "paper_bgcolor": "white",
          "plot_bgcolor": "#E5ECF6",
          "polar": {
           "angularaxis": {
            "gridcolor": "white",
            "linecolor": "white",
            "ticks": ""
           },
           "bgcolor": "#E5ECF6",
           "radialaxis": {
            "gridcolor": "white",
            "linecolor": "white",
            "ticks": ""
           }
          },
          "scene": {
           "xaxis": {
            "backgroundcolor": "#E5ECF6",
            "gridcolor": "white",
            "gridwidth": 2,
            "linecolor": "white",
            "showbackground": true,
            "ticks": "",
            "zerolinecolor": "white"
           },
           "yaxis": {
            "backgroundcolor": "#E5ECF6",
            "gridcolor": "white",
            "gridwidth": 2,
            "linecolor": "white",
            "showbackground": true,
            "ticks": "",
            "zerolinecolor": "white"
           },
           "zaxis": {
            "backgroundcolor": "#E5ECF6",
            "gridcolor": "white",
            "gridwidth": 2,
            "linecolor": "white",
            "showbackground": true,
            "ticks": "",
            "zerolinecolor": "white"
           }
          },
          "shapedefaults": {
           "line": {
            "color": "#2a3f5f"
           }
          },
          "ternary": {
           "aaxis": {
            "gridcolor": "white",
            "linecolor": "white",
            "ticks": ""
           },
           "baxis": {
            "gridcolor": "white",
            "linecolor": "white",
            "ticks": ""
           },
           "bgcolor": "#E5ECF6",
           "caxis": {
            "gridcolor": "white",
            "linecolor": "white",
            "ticks": ""
           }
          },
          "title": {
           "x": 0.05
          },
          "xaxis": {
           "automargin": true,
           "gridcolor": "white",
           "linecolor": "white",
           "ticks": "",
           "title": {
            "standoff": 15
           },
           "zerolinecolor": "white",
           "zerolinewidth": 2
          },
          "yaxis": {
           "automargin": true,
           "gridcolor": "white",
           "linecolor": "white",
           "ticks": "",
           "title": {
            "standoff": 15
           },
           "zerolinecolor": "white",
           "zerolinewidth": 2
          }
         }
        },
        "width": 600,
        "xaxis": {
         "anchor": "y",
         "domain": [
          0,
          1
         ],
         "title": {
          "font": {
           "size": 16
          },
          "text": "rule threshold"
         }
        },
        "xaxis2": {
         "anchor": "y2",
         "domain": [
          0,
          1
         ],
         "title": {
          "font": {
           "size": 16
          },
          "text": "rule threshold"
         }
        },
        "xaxis3": {
         "anchor": "y3",
         "domain": [
          0,
          1
         ],
         "title": {
          "text": "rule threshold"
         }
        },
        "yaxis": {
         "anchor": "x",
         "domain": [
          0.7333333333333333,
          1
         ],
         "range": [
          0,
          1
         ],
         "side": "right",
         "title": {
          "font": {
           "size": 16
          },
          "text": "auc"
         }
        },
        "yaxis2": {
         "anchor": "x2",
         "domain": [
          0.36666666666666664,
          0.6333333333333333
         ],
         "range": [
          0,
          1
         ],
         "side": "right",
         "title": {
          "font": {
           "size": 16
          },
          "text": "violation_rate"
         }
        },
        "yaxis3": {
         "anchor": "x3",
         "domain": [
          0,
          0.26666666666666666
         ],
         "range": [
          0,
          1
         ],
         "side": "right",
         "title": {
          "font": {
           "size": 16
          },
          "text": "violation_rate (instance)"
         }
        }
       }
      }
     },
     "metadata": {},
     "output_type": "display_data"
    }
   ],
   "source": [
    "import plotly.graph_objects as go\n",
    "from plotly.subplots import make_subplots\n",
    "\n",
    "\n",
    "# グラフのデータを準備\n",
    "# index = ['l-SVM-p', 'r-SVM-p', 'LogReg-p']\n",
    "\n",
    "# index = [\n",
    "#     'linear svm (L)', \n",
    "#     'non-linear svm (L)', \n",
    "#     'logistic regression (L)'\n",
    "# ]\n",
    "\n",
    "index = [\n",
    "    'linear svm', \n",
    "    'non-linear svm', \n",
    "    'logistic regression'\n",
    "]\n",
    "\n",
    "# index = [\n",
    "#     'RuleFit Classifier (disc)',\n",
    "#     'tree generator (disc)',\n",
    "#     'RuleFit Classifier (conti)', \n",
    "#     'tree generator (conti)',\n",
    "# ]\n",
    "\n",
    "columns = ['auc', 'violation_rate', 'violation_rate (instance)']\n",
    "\n",
    "title_text = \"rule threshold\"\n",
    "\n",
    "\n",
    "# サブプロットの作成\n",
    "# fig = make_subplots(rows=1, cols=2, subplot_titles=('AUC', 'ルール違反率'))\n",
    "fig = make_subplots(rows=len(columns), cols=1)\n",
    "showlegend=True\n",
    "\n",
    "for row_num, col in enumerate(columns):\n",
    "    tmp_mean = pd.DataFrame(\n",
    "        [{info: df.loc[model_name, col] for info, df in zip(infos, dfs_mean)} for model_name in index],\n",
    "        index=index\n",
    "    )\n",
    "    tmp_std = pd.DataFrame(\n",
    "        [{info: df.loc[model_name, col] for info, df in zip(infos, dfs_std)} for model_name in index],\n",
    "        index=index\n",
    "    )\n",
    "\n",
    "    # グラフ1: AUC\n",
    "    for i in range(len(tmp_mean)):\n",
    "        fig.add_trace(\n",
    "            go.Scatter(\n",
    "                x=tmp_mean.columns,\n",
    "                y=tmp_mean.iloc[i, :],\n",
    "                mode='lines+markers',\n",
    "                name=tmp_mean.index[i],\n",
    "                line=dict(color=colors_mean[i]),  # ラインの色を設定\n",
    "                marker=dict(color=colors_mean[i]),  # マーカーの色を設定\n",
    "                showlegend=showlegend,\n",
    "            ),\n",
    "            row=row_num+1, col=1\n",
    "        )\n",
    "        fig.add_trace(\n",
    "            go.Scatter(\n",
    "                x=tmp_mean.columns,\n",
    "                y=tmp_mean.iloc[i, :] + tmp_std.iloc[i, :],\n",
    "                mode='lines',\n",
    "                line=dict(color=colors_std[i]),  # ラインの色を設定\n",
    "                showlegend=False\n",
    "            ),\n",
    "            row=row_num+1, col=1\n",
    "        )\n",
    "        fig.add_trace(\n",
    "            go.Scatter(\n",
    "                x=tmp_mean.columns,\n",
    "                y=tmp_mean.iloc[i, :] - tmp_std.iloc[i, :],\n",
    "                mode='lines',\n",
    "                fill='tonexty',\n",
    "                fillcolor=colors_std[i],\n",
    "                line=dict(color='rgba(255,255,255,0)'),\n",
    "                showlegend=False\n",
    "            ),\n",
    "            row=row_num+1, col=1\n",
    "        )\n",
    "    \n",
    "    # x, y 軸の設定\n",
    "    fig.update_xaxes(title_text=title_text, row=row_num+1, col=1)\n",
    "    fig.update_yaxes(title_text=col, range=[0, 1], row=row_num+1, col=1, side='right', title_font=dict(size=16))\n",
    "\n",
    "    showlegend=False\n",
    "    \n",
    "# レイアウトの設定\n",
    "fig.update_layout(\n",
    "    height=len(columns) * 300,\n",
    "    width=600,\n",
    "    xaxis=dict(\n",
    "        domain=[0, 1],  # 左側のsubplotの幅を調整\n",
    "        title_font=dict(size=16)\n",
    "    ),\n",
    "    xaxis2=dict(\n",
    "        domain=[0, 1],  # 右側のsubplotの幅を調整\n",
    "        title_font=dict(size=16)\n",
    "    ),\n",
    "    legend=dict(\n",
    "        x=0.5,\n",
    "        y=1.15,\n",
    "        orientation='h'  # 水平配置\n",
    "    ),\n",
    ")\n",
    "\n",
    "\n",
    "# グラフの表示\n",
    "fig.show()"
   ]
  },
  {
   "cell_type": "code",
   "execution_count": 15,
   "metadata": {},
   "outputs": [
    {
     "data": {
      "application/vnd.plotly.v1+json": {
       "config": {
        "plotlyServerURL": "https://plot.ly"
       },
       "data": [
        {
         "line": {
          "color": "rgba(99,110,250,1)"
         },
         "marker": {
          "color": "rgba(99,110,250,1)"
         },
         "mode": "lines+markers",
         "name": "RuleFit Classifier (disc)",
         "showlegend": true,
         "type": "scatter",
         "x": [
          0,
          0.2,
          0.4,
          0.6,
          0.8,
          1
         ],
         "xaxis": "x",
         "y": [
          0.8158688137250547,
          0.8158688137250547,
          0.8158688137250547,
          0.8158688137250547,
          0.8158688137250547,
          0.8158688137250547
         ],
         "yaxis": "y"
        },
        {
         "line": {
          "color": "rgba(99,110,250,0.2)"
         },
         "mode": "lines",
         "showlegend": false,
         "type": "scatter",
         "x": [
          0,
          0.2,
          0.4,
          0.6,
          0.8,
          1
         ],
         "xaxis": "x",
         "y": [
          0.8674886836698307,
          0.8674886836698307,
          0.8674886836698307,
          0.8674886836698307,
          0.8674886836698307,
          0.8674886836698307
         ],
         "yaxis": "y"
        },
        {
         "fill": "tonexty",
         "fillcolor": "rgba(99,110,250,0.2)",
         "line": {
          "color": "rgba(255,255,255,0)"
         },
         "mode": "lines",
         "showlegend": false,
         "type": "scatter",
         "x": [
          0,
          0.2,
          0.4,
          0.6,
          0.8,
          1
         ],
         "xaxis": "x",
         "y": [
          0.7642489437802787,
          0.7642489437802787,
          0.7642489437802787,
          0.7642489437802787,
          0.7642489437802787,
          0.7642489437802787
         ],
         "yaxis": "y"
        },
        {
         "line": {
          "color": "rgba(239,85,59,1)"
         },
         "marker": {
          "color": "rgba(239,85,59,1)"
         },
         "mode": "lines+markers",
         "name": "tree generator (disc)",
         "showlegend": true,
         "type": "scatter",
         "x": [
          0,
          0.2,
          0.4,
          0.6,
          0.8,
          1
         ],
         "xaxis": "x",
         "y": [
          0.7723221095803497,
          0.7723221095803497,
          0.7723221095803497,
          0.7723221095803497,
          0.7723221095803497,
          0.7723221095803497
         ],
         "yaxis": "y"
        },
        {
         "line": {
          "color": "rgba(239,85,59,0.2)"
         },
         "mode": "lines",
         "showlegend": false,
         "type": "scatter",
         "x": [
          0,
          0.2,
          0.4,
          0.6,
          0.8,
          1
         ],
         "xaxis": "x",
         "y": [
          0.8213949562136311,
          0.8213949562136311,
          0.8213949562136311,
          0.8213949562136311,
          0.8213949562136311,
          0.8213949562136311
         ],
         "yaxis": "y"
        },
        {
         "fill": "tonexty",
         "fillcolor": "rgba(239,85,59,0.2)",
         "line": {
          "color": "rgba(255,255,255,0)"
         },
         "mode": "lines",
         "showlegend": false,
         "type": "scatter",
         "x": [
          0,
          0.2,
          0.4,
          0.6,
          0.8,
          1
         ],
         "xaxis": "x",
         "y": [
          0.7232492629470684,
          0.7232492629470684,
          0.7232492629470684,
          0.7232492629470684,
          0.7232492629470684,
          0.7232492629470684
         ],
         "yaxis": "y"
        },
        {
         "line": {
          "color": "rgba(99,110,250,1)"
         },
         "marker": {
          "color": "rgba(99,110,250,1)"
         },
         "mode": "lines+markers",
         "name": "RuleFit Classifier (disc)",
         "showlegend": false,
         "type": "scatter",
         "x": [
          0,
          0.2,
          0.4,
          0.6,
          0.8,
          1
         ],
         "xaxis": "x2",
         "y": [
          0.8043024566148299,
          0.7747474747474747,
          0.791025641025641,
          0.8047619047619048,
          0.78,
          0.8333333333333333
         ],
         "yaxis": "y2"
        },
        {
         "line": {
          "color": "rgba(99,110,250,0.2)"
         },
         "mode": "lines",
         "showlegend": false,
         "type": "scatter",
         "x": [
          0,
          0.2,
          0.4,
          0.6,
          0.8,
          1
         ],
         "xaxis": "x2",
         "y": [
          0.8943433109769477,
          0.8974550011133582,
          0.9152920617786292,
          1.0232394237515137,
          1.0080350850198276,
          1.0690355937288492
         ],
         "yaxis": "y2"
        },
        {
         "fill": "tonexty",
         "fillcolor": "rgba(99,110,250,0.2)",
         "line": {
          "color": "rgba(255,255,255,0)"
         },
         "mode": "lines",
         "showlegend": false,
         "type": "scatter",
         "x": [
          0,
          0.2,
          0.4,
          0.6,
          0.8,
          1
         ],
         "xaxis": "x2",
         "y": [
          0.7142616022527121,
          0.6520399483815913,
          0.6667592202726528,
          0.586284385772296,
          0.5519649149801724,
          0.5976310729378174
         ],
         "yaxis": "y2"
        },
        {
         "line": {
          "color": "rgba(239,85,59,1)"
         },
         "marker": {
          "color": "rgba(239,85,59,1)"
         },
         "mode": "lines+markers",
         "name": "tree generator (disc)",
         "showlegend": false,
         "type": "scatter",
         "x": [
          0,
          0.2,
          0.4,
          0.6,
          0.8,
          1
         ],
         "xaxis": "x2",
         "y": [
          0.7329952670723463,
          0.7565656565656566,
          0.816025641025641,
          0.9047619047619048,
          0.8800000000000001,
          0.9333333333333332
         ],
         "yaxis": "y2"
        },
        {
         "line": {
          "color": "rgba(239,85,59,0.2)"
         },
         "mode": "lines",
         "showlegend": false,
         "type": "scatter",
         "x": [
          0,
          0.2,
          0.4,
          0.6,
          0.8,
          1
         ],
         "xaxis": "x2",
         "y": [
          0.8035244901558143,
          0.8841546495369783,
          0.9425287665311246,
          1.0515336667373567,
          1.0588854381999833,
          1.0824045318333193
         ],
         "yaxis": "y2"
        },
        {
         "fill": "tonexty",
         "fillcolor": "rgba(239,85,59,0.2)",
         "line": {
          "color": "rgba(255,255,255,0)"
         },
         "mode": "lines",
         "showlegend": false,
         "type": "scatter",
         "x": [
          0,
          0.2,
          0.4,
          0.6,
          0.8,
          1
         ],
         "xaxis": "x2",
         "y": [
          0.6624660439888783,
          0.6289766635943348,
          0.6895225155201574,
          0.7579901427864529,
          0.701114561800017,
          0.7842621348333473
         ],
         "yaxis": "y2"
        },
        {
         "line": {
          "color": "rgba(99,110,250,1)"
         },
         "marker": {
          "color": "rgba(99,110,250,1)"
         },
         "mode": "lines+markers",
         "name": "RuleFit Classifier (disc)",
         "showlegend": false,
         "type": "scatter",
         "x": [
          0,
          0.2,
          0.4,
          0.6,
          0.8,
          1
         ],
         "xaxis": "x3",
         "y": [
          0.8744253452332034,
          0.8827946037420775,
          0.8207317720351327,
          0.7003369687566154,
          0.5000689943672245,
          0.4213251790841019
         ],
         "yaxis": "y3"
        },
        {
         "line": {
          "color": "rgba(99,110,250,0.2)"
         },
         "mode": "lines",
         "showlegend": false,
         "type": "scatter",
         "x": [
          0,
          0.2,
          0.4,
          0.6,
          0.8,
          1
         ],
         "xaxis": "x3",
         "y": [
          0.8959889718401899,
          0.9407248064105833,
          0.855862928868011,
          0.7788593942605206,
          0.7639362389558724,
          0.6528502682005374
         ],
         "yaxis": "y3"
        },
        {
         "fill": "tonexty",
         "fillcolor": "rgba(99,110,250,0.2)",
         "line": {
          "color": "rgba(255,255,255,0)"
         },
         "mode": "lines",
         "showlegend": false,
         "type": "scatter",
         "x": [
          0,
          0.2,
          0.4,
          0.6,
          0.8,
          1
         ],
         "xaxis": "x3",
         "y": [
          0.8528617186262168,
          0.8248644010735717,
          0.7856006152022544,
          0.6218145432527102,
          0.23620174977857672,
          0.1898000899676664
         ],
         "yaxis": "y3"
        },
        {
         "line": {
          "color": "rgba(239,85,59,1)"
         },
         "marker": {
          "color": "rgba(239,85,59,1)"
         },
         "mode": "lines+markers",
         "name": "tree generator (disc)",
         "showlegend": false,
         "type": "scatter",
         "x": [
          0,
          0.2,
          0.4,
          0.6,
          0.8,
          1
         ],
         "xaxis": "x3",
         "y": [
          0.8562110924989857,
          0.8815690401095179,
          0.8294889800661422,
          0.7308087697908324,
          0.5865443336588497,
          0.5097220870031782
         ],
         "yaxis": "y3"
        },
        {
         "line": {
          "color": "rgba(239,85,59,0.2)"
         },
         "mode": "lines",
         "showlegend": false,
         "type": "scatter",
         "x": [
          0,
          0.2,
          0.4,
          0.6,
          0.8,
          1
         ],
         "xaxis": "x3",
         "y": [
          0.8834319182245626,
          0.9457035536792324,
          0.8847029542506953,
          0.8304489198545695,
          0.7144484516942728,
          0.6388665092398214
         ],
         "yaxis": "y3"
        },
        {
         "fill": "tonexty",
         "fillcolor": "rgba(239,85,59,0.2)",
         "line": {
          "color": "rgba(255,255,255,0)"
         },
         "mode": "lines",
         "showlegend": false,
         "type": "scatter",
         "x": [
          0,
          0.2,
          0.4,
          0.6,
          0.8,
          1
         ],
         "xaxis": "x3",
         "y": [
          0.8289902667734089,
          0.8174345265398033,
          0.7742750058815892,
          0.6311686197270954,
          0.4586402156234266,
          0.3805776647665351
         ],
         "yaxis": "y3"
        }
       ],
       "layout": {
        "height": 900,
        "legend": {
         "orientation": "h",
         "x": 0.5,
         "y": 1.15
        },
        "template": {
         "data": {
          "bar": [
           {
            "error_x": {
             "color": "#2a3f5f"
            },
            "error_y": {
             "color": "#2a3f5f"
            },
            "marker": {
             "line": {
              "color": "#E5ECF6",
              "width": 0.5
             },
             "pattern": {
              "fillmode": "overlay",
              "size": 10,
              "solidity": 0.2
             }
            },
            "type": "bar"
           }
          ],
          "barpolar": [
           {
            "marker": {
             "line": {
              "color": "#E5ECF6",
              "width": 0.5
             },
             "pattern": {
              "fillmode": "overlay",
              "size": 10,
              "solidity": 0.2
             }
            },
            "type": "barpolar"
           }
          ],
          "carpet": [
           {
            "aaxis": {
             "endlinecolor": "#2a3f5f",
             "gridcolor": "white",
             "linecolor": "white",
             "minorgridcolor": "white",
             "startlinecolor": "#2a3f5f"
            },
            "baxis": {
             "endlinecolor": "#2a3f5f",
             "gridcolor": "white",
             "linecolor": "white",
             "minorgridcolor": "white",
             "startlinecolor": "#2a3f5f"
            },
            "type": "carpet"
           }
          ],
          "choropleth": [
           {
            "colorbar": {
             "outlinewidth": 0,
             "ticks": ""
            },
            "type": "choropleth"
           }
          ],
          "contour": [
           {
            "colorbar": {
             "outlinewidth": 0,
             "ticks": ""
            },
            "colorscale": [
             [
              0,
              "#0d0887"
             ],
             [
              0.1111111111111111,
              "#46039f"
             ],
             [
              0.2222222222222222,
              "#7201a8"
             ],
             [
              0.3333333333333333,
              "#9c179e"
             ],
             [
              0.4444444444444444,
              "#bd3786"
             ],
             [
              0.5555555555555556,
              "#d8576b"
             ],
             [
              0.6666666666666666,
              "#ed7953"
             ],
             [
              0.7777777777777778,
              "#fb9f3a"
             ],
             [
              0.8888888888888888,
              "#fdca26"
             ],
             [
              1,
              "#f0f921"
             ]
            ],
            "type": "contour"
           }
          ],
          "contourcarpet": [
           {
            "colorbar": {
             "outlinewidth": 0,
             "ticks": ""
            },
            "type": "contourcarpet"
           }
          ],
          "heatmap": [
           {
            "colorbar": {
             "outlinewidth": 0,
             "ticks": ""
            },
            "colorscale": [
             [
              0,
              "#0d0887"
             ],
             [
              0.1111111111111111,
              "#46039f"
             ],
             [
              0.2222222222222222,
              "#7201a8"
             ],
             [
              0.3333333333333333,
              "#9c179e"
             ],
             [
              0.4444444444444444,
              "#bd3786"
             ],
             [
              0.5555555555555556,
              "#d8576b"
             ],
             [
              0.6666666666666666,
              "#ed7953"
             ],
             [
              0.7777777777777778,
              "#fb9f3a"
             ],
             [
              0.8888888888888888,
              "#fdca26"
             ],
             [
              1,
              "#f0f921"
             ]
            ],
            "type": "heatmap"
           }
          ],
          "heatmapgl": [
           {
            "colorbar": {
             "outlinewidth": 0,
             "ticks": ""
            },
            "colorscale": [
             [
              0,
              "#0d0887"
             ],
             [
              0.1111111111111111,
              "#46039f"
             ],
             [
              0.2222222222222222,
              "#7201a8"
             ],
             [
              0.3333333333333333,
              "#9c179e"
             ],
             [
              0.4444444444444444,
              "#bd3786"
             ],
             [
              0.5555555555555556,
              "#d8576b"
             ],
             [
              0.6666666666666666,
              "#ed7953"
             ],
             [
              0.7777777777777778,
              "#fb9f3a"
             ],
             [
              0.8888888888888888,
              "#fdca26"
             ],
             [
              1,
              "#f0f921"
             ]
            ],
            "type": "heatmapgl"
           }
          ],
          "histogram": [
           {
            "marker": {
             "pattern": {
              "fillmode": "overlay",
              "size": 10,
              "solidity": 0.2
             }
            },
            "type": "histogram"
           }
          ],
          "histogram2d": [
           {
            "colorbar": {
             "outlinewidth": 0,
             "ticks": ""
            },
            "colorscale": [
             [
              0,
              "#0d0887"
             ],
             [
              0.1111111111111111,
              "#46039f"
             ],
             [
              0.2222222222222222,
              "#7201a8"
             ],
             [
              0.3333333333333333,
              "#9c179e"
             ],
             [
              0.4444444444444444,
              "#bd3786"
             ],
             [
              0.5555555555555556,
              "#d8576b"
             ],
             [
              0.6666666666666666,
              "#ed7953"
             ],
             [
              0.7777777777777778,
              "#fb9f3a"
             ],
             [
              0.8888888888888888,
              "#fdca26"
             ],
             [
              1,
              "#f0f921"
             ]
            ],
            "type": "histogram2d"
           }
          ],
          "histogram2dcontour": [
           {
            "colorbar": {
             "outlinewidth": 0,
             "ticks": ""
            },
            "colorscale": [
             [
              0,
              "#0d0887"
             ],
             [
              0.1111111111111111,
              "#46039f"
             ],
             [
              0.2222222222222222,
              "#7201a8"
             ],
             [
              0.3333333333333333,
              "#9c179e"
             ],
             [
              0.4444444444444444,
              "#bd3786"
             ],
             [
              0.5555555555555556,
              "#d8576b"
             ],
             [
              0.6666666666666666,
              "#ed7953"
             ],
             [
              0.7777777777777778,
              "#fb9f3a"
             ],
             [
              0.8888888888888888,
              "#fdca26"
             ],
             [
              1,
              "#f0f921"
             ]
            ],
            "type": "histogram2dcontour"
           }
          ],
          "mesh3d": [
           {
            "colorbar": {
             "outlinewidth": 0,
             "ticks": ""
            },
            "type": "mesh3d"
           }
          ],
          "parcoords": [
           {
            "line": {
             "colorbar": {
              "outlinewidth": 0,
              "ticks": ""
             }
            },
            "type": "parcoords"
           }
          ],
          "pie": [
           {
            "automargin": true,
            "type": "pie"
           }
          ],
          "scatter": [
           {
            "fillpattern": {
             "fillmode": "overlay",
             "size": 10,
             "solidity": 0.2
            },
            "type": "scatter"
           }
          ],
          "scatter3d": [
           {
            "line": {
             "colorbar": {
              "outlinewidth": 0,
              "ticks": ""
             }
            },
            "marker": {
             "colorbar": {
              "outlinewidth": 0,
              "ticks": ""
             }
            },
            "type": "scatter3d"
           }
          ],
          "scattercarpet": [
           {
            "marker": {
             "colorbar": {
              "outlinewidth": 0,
              "ticks": ""
             }
            },
            "type": "scattercarpet"
           }
          ],
          "scattergeo": [
           {
            "marker": {
             "colorbar": {
              "outlinewidth": 0,
              "ticks": ""
             }
            },
            "type": "scattergeo"
           }
          ],
          "scattergl": [
           {
            "marker": {
             "colorbar": {
              "outlinewidth": 0,
              "ticks": ""
             }
            },
            "type": "scattergl"
           }
          ],
          "scattermapbox": [
           {
            "marker": {
             "colorbar": {
              "outlinewidth": 0,
              "ticks": ""
             }
            },
            "type": "scattermapbox"
           }
          ],
          "scatterpolar": [
           {
            "marker": {
             "colorbar": {
              "outlinewidth": 0,
              "ticks": ""
             }
            },
            "type": "scatterpolar"
           }
          ],
          "scatterpolargl": [
           {
            "marker": {
             "colorbar": {
              "outlinewidth": 0,
              "ticks": ""
             }
            },
            "type": "scatterpolargl"
           }
          ],
          "scatterternary": [
           {
            "marker": {
             "colorbar": {
              "outlinewidth": 0,
              "ticks": ""
             }
            },
            "type": "scatterternary"
           }
          ],
          "surface": [
           {
            "colorbar": {
             "outlinewidth": 0,
             "ticks": ""
            },
            "colorscale": [
             [
              0,
              "#0d0887"
             ],
             [
              0.1111111111111111,
              "#46039f"
             ],
             [
              0.2222222222222222,
              "#7201a8"
             ],
             [
              0.3333333333333333,
              "#9c179e"
             ],
             [
              0.4444444444444444,
              "#bd3786"
             ],
             [
              0.5555555555555556,
              "#d8576b"
             ],
             [
              0.6666666666666666,
              "#ed7953"
             ],
             [
              0.7777777777777778,
              "#fb9f3a"
             ],
             [
              0.8888888888888888,
              "#fdca26"
             ],
             [
              1,
              "#f0f921"
             ]
            ],
            "type": "surface"
           }
          ],
          "table": [
           {
            "cells": {
             "fill": {
              "color": "#EBF0F8"
             },
             "line": {
              "color": "white"
             }
            },
            "header": {
             "fill": {
              "color": "#C8D4E3"
             },
             "line": {
              "color": "white"
             }
            },
            "type": "table"
           }
          ]
         },
         "layout": {
          "annotationdefaults": {
           "arrowcolor": "#2a3f5f",
           "arrowhead": 0,
           "arrowwidth": 1
          },
          "autotypenumbers": "strict",
          "coloraxis": {
           "colorbar": {
            "outlinewidth": 0,
            "ticks": ""
           }
          },
          "colorscale": {
           "diverging": [
            [
             0,
             "#8e0152"
            ],
            [
             0.1,
             "#c51b7d"
            ],
            [
             0.2,
             "#de77ae"
            ],
            [
             0.3,
             "#f1b6da"
            ],
            [
             0.4,
             "#fde0ef"
            ],
            [
             0.5,
             "#f7f7f7"
            ],
            [
             0.6,
             "#e6f5d0"
            ],
            [
             0.7,
             "#b8e186"
            ],
            [
             0.8,
             "#7fbc41"
            ],
            [
             0.9,
             "#4d9221"
            ],
            [
             1,
             "#276419"
            ]
           ],
           "sequential": [
            [
             0,
             "#0d0887"
            ],
            [
             0.1111111111111111,
             "#46039f"
            ],
            [
             0.2222222222222222,
             "#7201a8"
            ],
            [
             0.3333333333333333,
             "#9c179e"
            ],
            [
             0.4444444444444444,
             "#bd3786"
            ],
            [
             0.5555555555555556,
             "#d8576b"
            ],
            [
             0.6666666666666666,
             "#ed7953"
            ],
            [
             0.7777777777777778,
             "#fb9f3a"
            ],
            [
             0.8888888888888888,
             "#fdca26"
            ],
            [
             1,
             "#f0f921"
            ]
           ],
           "sequentialminus": [
            [
             0,
             "#0d0887"
            ],
            [
             0.1111111111111111,
             "#46039f"
            ],
            [
             0.2222222222222222,
             "#7201a8"
            ],
            [
             0.3333333333333333,
             "#9c179e"
            ],
            [
             0.4444444444444444,
             "#bd3786"
            ],
            [
             0.5555555555555556,
             "#d8576b"
            ],
            [
             0.6666666666666666,
             "#ed7953"
            ],
            [
             0.7777777777777778,
             "#fb9f3a"
            ],
            [
             0.8888888888888888,
             "#fdca26"
            ],
            [
             1,
             "#f0f921"
            ]
           ]
          },
          "colorway": [
           "#636efa",
           "#EF553B",
           "#00cc96",
           "#ab63fa",
           "#FFA15A",
           "#19d3f3",
           "#FF6692",
           "#B6E880",
           "#FF97FF",
           "#FECB52"
          ],
          "font": {
           "color": "#2a3f5f"
          },
          "geo": {
           "bgcolor": "white",
           "lakecolor": "white",
           "landcolor": "#E5ECF6",
           "showlakes": true,
           "showland": true,
           "subunitcolor": "white"
          },
          "hoverlabel": {
           "align": "left"
          },
          "hovermode": "closest",
          "mapbox": {
           "style": "light"
          },
          "paper_bgcolor": "white",
          "plot_bgcolor": "#E5ECF6",
          "polar": {
           "angularaxis": {
            "gridcolor": "white",
            "linecolor": "white",
            "ticks": ""
           },
           "bgcolor": "#E5ECF6",
           "radialaxis": {
            "gridcolor": "white",
            "linecolor": "white",
            "ticks": ""
           }
          },
          "scene": {
           "xaxis": {
            "backgroundcolor": "#E5ECF6",
            "gridcolor": "white",
            "gridwidth": 2,
            "linecolor": "white",
            "showbackground": true,
            "ticks": "",
            "zerolinecolor": "white"
           },
           "yaxis": {
            "backgroundcolor": "#E5ECF6",
            "gridcolor": "white",
            "gridwidth": 2,
            "linecolor": "white",
            "showbackground": true,
            "ticks": "",
            "zerolinecolor": "white"
           },
           "zaxis": {
            "backgroundcolor": "#E5ECF6",
            "gridcolor": "white",
            "gridwidth": 2,
            "linecolor": "white",
            "showbackground": true,
            "ticks": "",
            "zerolinecolor": "white"
           }
          },
          "shapedefaults": {
           "line": {
            "color": "#2a3f5f"
           }
          },
          "ternary": {
           "aaxis": {
            "gridcolor": "white",
            "linecolor": "white",
            "ticks": ""
           },
           "baxis": {
            "gridcolor": "white",
            "linecolor": "white",
            "ticks": ""
           },
           "bgcolor": "#E5ECF6",
           "caxis": {
            "gridcolor": "white",
            "linecolor": "white",
            "ticks": ""
           }
          },
          "title": {
           "x": 0.05
          },
          "xaxis": {
           "automargin": true,
           "gridcolor": "white",
           "linecolor": "white",
           "ticks": "",
           "title": {
            "standoff": 15
           },
           "zerolinecolor": "white",
           "zerolinewidth": 2
          },
          "yaxis": {
           "automargin": true,
           "gridcolor": "white",
           "linecolor": "white",
           "ticks": "",
           "title": {
            "standoff": 15
           },
           "zerolinecolor": "white",
           "zerolinewidth": 2
          }
         }
        },
        "width": 600,
        "xaxis": {
         "anchor": "y",
         "domain": [
          0,
          1
         ],
         "title": {
          "font": {
           "size": 16
          },
          "text": "rule threshold"
         }
        },
        "xaxis2": {
         "anchor": "y2",
         "domain": [
          0,
          1
         ],
         "title": {
          "font": {
           "size": 16
          },
          "text": "rule threshold"
         }
        },
        "xaxis3": {
         "anchor": "y3",
         "domain": [
          0,
          1
         ],
         "title": {
          "text": "rule threshold"
         }
        },
        "yaxis": {
         "anchor": "x",
         "domain": [
          0.7333333333333333,
          1
         ],
         "range": [
          0,
          1
         ],
         "side": "right",
         "title": {
          "font": {
           "size": 16
          },
          "text": "auc"
         }
        },
        "yaxis2": {
         "anchor": "x2",
         "domain": [
          0.36666666666666664,
          0.6333333333333333
         ],
         "range": [
          0,
          1
         ],
         "side": "right",
         "title": {
          "font": {
           "size": 16
          },
          "text": "violation_rate"
         }
        },
        "yaxis3": {
         "anchor": "x3",
         "domain": [
          0,
          0.26666666666666666
         ],
         "range": [
          0,
          1
         ],
         "side": "right",
         "title": {
          "font": {
           "size": 16
          },
          "text": "violation_rate (instance)"
         }
        }
       }
      }
     },
     "metadata": {},
     "output_type": "display_data"
    }
   ],
   "source": [
    "import plotly.graph_objects as go\n",
    "from plotly.subplots import make_subplots\n",
    "\n",
    "\n",
    "# グラフのデータを準備\n",
    "# index = ['l-SVM-p', 'r-SVM-p', 'LogReg-p']\n",
    "\n",
    "# index = [\n",
    "#     'linear svm (L)', \n",
    "#     'non-linear svm (L)', \n",
    "#     'logistic regression (L)'\n",
    "# ]\n",
    "\n",
    "# index = [\n",
    "#     'linear svm', \n",
    "#     'non-linear svm', \n",
    "#     'logistic regression'\n",
    "# ]\n",
    "\n",
    "index = [\n",
    "    'RuleFit Classifier (disc)',\n",
    "    'tree generator (disc)',\n",
    "]\n",
    "\n",
    "columns = ['auc', 'violation_rate', 'violation_rate (instance)']\n",
    "\n",
    "title_text = \"rule threshold\"\n",
    "\n",
    "\n",
    "# サブプロットの作成\n",
    "# fig = make_subplots(rows=1, cols=2, subplot_titles=('AUC', 'ルール違反率'))\n",
    "fig = make_subplots(rows=len(columns), cols=1)\n",
    "showlegend=True\n",
    "\n",
    "for row_num, col in enumerate(columns):\n",
    "    tmp_mean = pd.DataFrame(\n",
    "        [{info: df.loc[model_name, col] for info, df in zip(infos, dfs_mean)} for model_name in index],\n",
    "        index=index\n",
    "    )\n",
    "    tmp_std = pd.DataFrame(\n",
    "        [{info: df.loc[model_name, col] for info, df in zip(infos, dfs_std)} for model_name in index],\n",
    "        index=index\n",
    "    )\n",
    "\n",
    "    # グラフ1: AUC\n",
    "    for i in range(len(tmp_mean)):\n",
    "        fig.add_trace(\n",
    "            go.Scatter(\n",
    "                x=tmp_mean.columns,\n",
    "                y=tmp_mean.iloc[i, :],\n",
    "                mode='lines+markers',\n",
    "                name=tmp_mean.index[i],\n",
    "                line=dict(color=colors_mean[i]),  # ラインの色を設定\n",
    "                marker=dict(color=colors_mean[i]),  # マーカーの色を設定\n",
    "                showlegend=showlegend,\n",
    "            ),\n",
    "            row=row_num+1, col=1\n",
    "        )\n",
    "        fig.add_trace(\n",
    "            go.Scatter(\n",
    "                x=tmp_mean.columns,\n",
    "                y=tmp_mean.iloc[i, :] + tmp_std.iloc[i, :],\n",
    "                mode='lines',\n",
    "                line=dict(color=colors_std[i]),  # ラインの色を設定\n",
    "                showlegend=False\n",
    "            ),\n",
    "            row=row_num+1, col=1\n",
    "        )\n",
    "        fig.add_trace(\n",
    "            go.Scatter(\n",
    "                x=tmp_mean.columns,\n",
    "                y=tmp_mean.iloc[i, :] - tmp_std.iloc[i, :],\n",
    "                mode='lines',\n",
    "                fill='tonexty',\n",
    "                fillcolor=colors_std[i],\n",
    "                line=dict(color='rgba(255,255,255,0)'),\n",
    "                showlegend=False\n",
    "            ),\n",
    "            row=row_num+1, col=1\n",
    "        )\n",
    "    \n",
    "    # x, y 軸の設定\n",
    "    fig.update_xaxes(title_text=title_text, row=row_num+1, col=1)\n",
    "    fig.update_yaxes(title_text=col, range=[0, 1], row=row_num+1, col=1, side='right', title_font=dict(size=16))\n",
    "\n",
    "    showlegend=False\n",
    "    \n",
    "# レイアウトの設定\n",
    "fig.update_layout(\n",
    "    height=len(columns) * 300,\n",
    "    width=600,\n",
    "    xaxis=dict(\n",
    "        domain=[0, 1],  # 左側のsubplotの幅を調整\n",
    "        title_font=dict(size=16)\n",
    "    ),\n",
    "    xaxis2=dict(\n",
    "        domain=[0, 1],  # 右側のsubplotの幅を調整\n",
    "        title_font=dict(size=16)\n",
    "    ),\n",
    "    legend=dict(\n",
    "        x=0.5,\n",
    "        y=1.15,\n",
    "        orientation='h'  # 水平配置\n",
    "    ),\n",
    ")\n",
    "\n",
    "\n",
    "# グラフの表示\n",
    "fig.show()"
   ]
  },
  {
   "cell_type": "code",
   "execution_count": 24,
   "metadata": {},
   "outputs": [
    {
     "data": {
      "application/vnd.plotly.v1+json": {
       "config": {
        "plotlyServerURL": "https://plot.ly"
       },
       "data": [
        {
         "line": {
          "color": "rgba(99,110,250,1)"
         },
         "marker": {
          "color": "rgba(99,110,250,1)"
         },
         "mode": "lines+markers",
         "name": "linear svm",
         "showlegend": true,
         "type": "scatter",
         "x": [
          0,
          0.2,
          0.4,
          0.6,
          0.8,
          1
         ],
         "xaxis": "x",
         "y": [
          0.8813364886184359,
          0.8969696969696969,
          0.8884615384615385,
          0.8666666666666668,
          0.86,
          0.9
         ],
         "yaxis": "y"
        },
        {
         "line": {
          "color": "rgba(99,110,250,0.2)"
         },
         "mode": "lines",
         "showlegend": false,
         "type": "scatter",
         "x": [
          0,
          0.2,
          0.4,
          0.6,
          0.8,
          1
         ],
         "xaxis": "x",
         "y": [
          0.9081310751187128,
          0.949041359267806,
          1.0103912883395951,
          1.0839734135067551,
          1.0790890230020664,
          1.123606797749979
         ],
         "yaxis": "y"
        },
        {
         "fill": "tonexty",
         "fillcolor": "rgba(99,110,250,0.2)",
         "line": {
          "color": "rgba(255,255,255,0)"
         },
         "mode": "lines",
         "showlegend": false,
         "type": "scatter",
         "x": [
          0,
          0.2,
          0.4,
          0.6,
          0.8,
          1
         ],
         "xaxis": "x",
         "y": [
          0.8545419021181591,
          0.8448980346715877,
          0.7665317885834819,
          0.6493599198265785,
          0.6409109769979335,
          0.6763932022500211
         ],
         "yaxis": "y"
        },
        {
         "line": {
          "color": "rgba(239,85,59,1)"
         },
         "marker": {
          "color": "rgba(239,85,59,1)"
         },
         "mode": "lines+markers",
         "name": "non-linear svm",
         "showlegend": true,
         "type": "scatter",
         "x": [
          0,
          0.2,
          0.4,
          0.6,
          0.8,
          1
         ],
         "xaxis": "x",
         "y": [
          0.9085587108406582,
          0.9171717171717173,
          0.9288461538461539,
          0.9666666666666668,
          0.96,
          1
         ],
         "yaxis": "y"
        },
        {
         "line": {
          "color": "rgba(239,85,59,0.2)"
         },
         "mode": "lines",
         "showlegend": false,
         "type": "scatter",
         "x": [
          0,
          0.2,
          0.4,
          0.6,
          0.8,
          1
         ],
         "xaxis": "x",
         "y": [
          0.9475326726477605,
          0.9555688440580773,
          0.9993735416188164,
          1.0412022659166598,
          1.0494427190999915,
          1
         ],
         "yaxis": "y"
        },
        {
         "fill": "tonexty",
         "fillcolor": "rgba(239,85,59,0.2)",
         "line": {
          "color": "rgba(255,255,255,0)"
         },
         "mode": "lines",
         "showlegend": false,
         "type": "scatter",
         "x": [
          0,
          0.2,
          0.4,
          0.6,
          0.8,
          1
         ],
         "xaxis": "x",
         "y": [
          0.8695847490335559,
          0.8787745902853573,
          0.8583187660734913,
          0.8921310674166738,
          0.8705572809000084,
          1
         ],
         "yaxis": "y"
        },
        {
         "line": {
          "color": "rgba(0,204,150,1)"
         },
         "marker": {
          "color": "rgba(0,204,150,1)"
         },
         "mode": "lines+markers",
         "name": "logistic regression",
         "showlegend": true,
         "type": "scatter",
         "x": [
          0,
          0.2,
          0.4,
          0.6,
          0.8,
          1
         ],
         "xaxis": "x",
         "y": [
          0.8868920441739914,
          0.9080808080808079,
          0.9134615384615385,
          0.9666666666666668,
          0.96,
          1
         ],
         "yaxis": "y"
        },
        {
         "line": {
          "color": "rgba(0,204,150,0.2)"
         },
         "mode": "lines",
         "showlegend": false,
         "type": "scatter",
         "x": [
          0,
          0.2,
          0.4,
          0.6,
          0.8,
          1
         ],
         "xaxis": "x",
         "y": [
          0.9112099970574081,
          0.9637968297798851,
          1.0100949578953933,
          1.0412022659166598,
          1.0494427190999915,
          1
         ],
         "yaxis": "y"
        },
        {
         "fill": "tonexty",
         "fillcolor": "rgba(0,204,150,0.2)",
         "line": {
          "color": "rgba(255,255,255,0)"
         },
         "mode": "lines",
         "showlegend": false,
         "type": "scatter",
         "x": [
          0,
          0.2,
          0.4,
          0.6,
          0.8,
          1
         ],
         "xaxis": "x",
         "y": [
          0.8625740912905746,
          0.8523647863817307,
          0.8168281190276838,
          0.8921310674166738,
          0.8705572809000084,
          1
         ],
         "yaxis": "y"
        },
        {
         "line": {
          "color": "rgba(171,99,250,1)"
         },
         "marker": {
          "color": "rgba(171,99,250,1)"
         },
         "mode": "lines+markers",
         "name": "RuleFit Classifier (disc)",
         "showlegend": true,
         "type": "scatter",
         "x": [
          0,
          0.2,
          0.4,
          0.6,
          0.8,
          1
         ],
         "xaxis": "x",
         "y": [
          0.8043024566148299,
          0.7747474747474747,
          0.791025641025641,
          0.8047619047619048,
          0.78,
          0.8333333333333333
         ],
         "yaxis": "y"
        },
        {
         "line": {
          "color": "rgba(171,99,250,0.2)"
         },
         "mode": "lines",
         "showlegend": false,
         "type": "scatter",
         "x": [
          0,
          0.2,
          0.4,
          0.6,
          0.8,
          1
         ],
         "xaxis": "x",
         "y": [
          0.8943433109769477,
          0.8974550011133582,
          0.9152920617786292,
          1.0232394237515137,
          1.0080350850198276,
          1.0690355937288492
         ],
         "yaxis": "y"
        },
        {
         "fill": "tonexty",
         "fillcolor": "rgba(171,99,250,0.2)",
         "line": {
          "color": "rgba(255,255,255,0)"
         },
         "mode": "lines",
         "showlegend": false,
         "type": "scatter",
         "x": [
          0,
          0.2,
          0.4,
          0.6,
          0.8,
          1
         ],
         "xaxis": "x",
         "y": [
          0.7142616022527121,
          0.6520399483815913,
          0.6667592202726528,
          0.586284385772296,
          0.5519649149801724,
          0.5976310729378174
         ],
         "yaxis": "y"
        },
        {
         "line": {
          "color": "rgba(255,161,90,1)"
         },
         "marker": {
          "color": "rgba(255,161,90,1)"
         },
         "mode": "lines+markers",
         "name": "tree generator (disc)",
         "showlegend": true,
         "type": "scatter",
         "x": [
          0,
          0.2,
          0.4,
          0.6,
          0.8,
          1
         ],
         "xaxis": "x",
         "y": [
          0.7329952670723463,
          0.7565656565656566,
          0.816025641025641,
          0.9047619047619048,
          0.8800000000000001,
          0.9333333333333332
         ],
         "yaxis": "y"
        },
        {
         "line": {
          "color": "rgba(255,161,90,0.2)"
         },
         "mode": "lines",
         "showlegend": false,
         "type": "scatter",
         "x": [
          0,
          0.2,
          0.4,
          0.6,
          0.8,
          1
         ],
         "xaxis": "x",
         "y": [
          0.8035244901558143,
          0.8841546495369783,
          0.9425287665311246,
          1.0515336667373567,
          1.0588854381999833,
          1.0824045318333193
         ],
         "yaxis": "y"
        },
        {
         "fill": "tonexty",
         "fillcolor": "rgba(255,161,90,0.2)",
         "line": {
          "color": "rgba(255,255,255,0)"
         },
         "mode": "lines",
         "showlegend": false,
         "type": "scatter",
         "x": [
          0,
          0.2,
          0.4,
          0.6,
          0.8,
          1
         ],
         "xaxis": "x",
         "y": [
          0.6624660439888783,
          0.6289766635943348,
          0.6895225155201574,
          0.7579901427864529,
          0.701114561800017,
          0.7842621348333473
         ],
         "yaxis": "y"
        }
       ],
       "layout": {
        "height": 300,
        "legend": {
         "orientation": "h",
         "x": 0.5,
         "y": 2
        },
        "template": {
         "data": {
          "bar": [
           {
            "error_x": {
             "color": "#2a3f5f"
            },
            "error_y": {
             "color": "#2a3f5f"
            },
            "marker": {
             "line": {
              "color": "#E5ECF6",
              "width": 0.5
             },
             "pattern": {
              "fillmode": "overlay",
              "size": 10,
              "solidity": 0.2
             }
            },
            "type": "bar"
           }
          ],
          "barpolar": [
           {
            "marker": {
             "line": {
              "color": "#E5ECF6",
              "width": 0.5
             },
             "pattern": {
              "fillmode": "overlay",
              "size": 10,
              "solidity": 0.2
             }
            },
            "type": "barpolar"
           }
          ],
          "carpet": [
           {
            "aaxis": {
             "endlinecolor": "#2a3f5f",
             "gridcolor": "white",
             "linecolor": "white",
             "minorgridcolor": "white",
             "startlinecolor": "#2a3f5f"
            },
            "baxis": {
             "endlinecolor": "#2a3f5f",
             "gridcolor": "white",
             "linecolor": "white",
             "minorgridcolor": "white",
             "startlinecolor": "#2a3f5f"
            },
            "type": "carpet"
           }
          ],
          "choropleth": [
           {
            "colorbar": {
             "outlinewidth": 0,
             "ticks": ""
            },
            "type": "choropleth"
           }
          ],
          "contour": [
           {
            "colorbar": {
             "outlinewidth": 0,
             "ticks": ""
            },
            "colorscale": [
             [
              0,
              "#0d0887"
             ],
             [
              0.1111111111111111,
              "#46039f"
             ],
             [
              0.2222222222222222,
              "#7201a8"
             ],
             [
              0.3333333333333333,
              "#9c179e"
             ],
             [
              0.4444444444444444,
              "#bd3786"
             ],
             [
              0.5555555555555556,
              "#d8576b"
             ],
             [
              0.6666666666666666,
              "#ed7953"
             ],
             [
              0.7777777777777778,
              "#fb9f3a"
             ],
             [
              0.8888888888888888,
              "#fdca26"
             ],
             [
              1,
              "#f0f921"
             ]
            ],
            "type": "contour"
           }
          ],
          "contourcarpet": [
           {
            "colorbar": {
             "outlinewidth": 0,
             "ticks": ""
            },
            "type": "contourcarpet"
           }
          ],
          "heatmap": [
           {
            "colorbar": {
             "outlinewidth": 0,
             "ticks": ""
            },
            "colorscale": [
             [
              0,
              "#0d0887"
             ],
             [
              0.1111111111111111,
              "#46039f"
             ],
             [
              0.2222222222222222,
              "#7201a8"
             ],
             [
              0.3333333333333333,
              "#9c179e"
             ],
             [
              0.4444444444444444,
              "#bd3786"
             ],
             [
              0.5555555555555556,
              "#d8576b"
             ],
             [
              0.6666666666666666,
              "#ed7953"
             ],
             [
              0.7777777777777778,
              "#fb9f3a"
             ],
             [
              0.8888888888888888,
              "#fdca26"
             ],
             [
              1,
              "#f0f921"
             ]
            ],
            "type": "heatmap"
           }
          ],
          "heatmapgl": [
           {
            "colorbar": {
             "outlinewidth": 0,
             "ticks": ""
            },
            "colorscale": [
             [
              0,
              "#0d0887"
             ],
             [
              0.1111111111111111,
              "#46039f"
             ],
             [
              0.2222222222222222,
              "#7201a8"
             ],
             [
              0.3333333333333333,
              "#9c179e"
             ],
             [
              0.4444444444444444,
              "#bd3786"
             ],
             [
              0.5555555555555556,
              "#d8576b"
             ],
             [
              0.6666666666666666,
              "#ed7953"
             ],
             [
              0.7777777777777778,
              "#fb9f3a"
             ],
             [
              0.8888888888888888,
              "#fdca26"
             ],
             [
              1,
              "#f0f921"
             ]
            ],
            "type": "heatmapgl"
           }
          ],
          "histogram": [
           {
            "marker": {
             "pattern": {
              "fillmode": "overlay",
              "size": 10,
              "solidity": 0.2
             }
            },
            "type": "histogram"
           }
          ],
          "histogram2d": [
           {
            "colorbar": {
             "outlinewidth": 0,
             "ticks": ""
            },
            "colorscale": [
             [
              0,
              "#0d0887"
             ],
             [
              0.1111111111111111,
              "#46039f"
             ],
             [
              0.2222222222222222,
              "#7201a8"
             ],
             [
              0.3333333333333333,
              "#9c179e"
             ],
             [
              0.4444444444444444,
              "#bd3786"
             ],
             [
              0.5555555555555556,
              "#d8576b"
             ],
             [
              0.6666666666666666,
              "#ed7953"
             ],
             [
              0.7777777777777778,
              "#fb9f3a"
             ],
             [
              0.8888888888888888,
              "#fdca26"
             ],
             [
              1,
              "#f0f921"
             ]
            ],
            "type": "histogram2d"
           }
          ],
          "histogram2dcontour": [
           {
            "colorbar": {
             "outlinewidth": 0,
             "ticks": ""
            },
            "colorscale": [
             [
              0,
              "#0d0887"
             ],
             [
              0.1111111111111111,
              "#46039f"
             ],
             [
              0.2222222222222222,
              "#7201a8"
             ],
             [
              0.3333333333333333,
              "#9c179e"
             ],
             [
              0.4444444444444444,
              "#bd3786"
             ],
             [
              0.5555555555555556,
              "#d8576b"
             ],
             [
              0.6666666666666666,
              "#ed7953"
             ],
             [
              0.7777777777777778,
              "#fb9f3a"
             ],
             [
              0.8888888888888888,
              "#fdca26"
             ],
             [
              1,
              "#f0f921"
             ]
            ],
            "type": "histogram2dcontour"
           }
          ],
          "mesh3d": [
           {
            "colorbar": {
             "outlinewidth": 0,
             "ticks": ""
            },
            "type": "mesh3d"
           }
          ],
          "parcoords": [
           {
            "line": {
             "colorbar": {
              "outlinewidth": 0,
              "ticks": ""
             }
            },
            "type": "parcoords"
           }
          ],
          "pie": [
           {
            "automargin": true,
            "type": "pie"
           }
          ],
          "scatter": [
           {
            "fillpattern": {
             "fillmode": "overlay",
             "size": 10,
             "solidity": 0.2
            },
            "type": "scatter"
           }
          ],
          "scatter3d": [
           {
            "line": {
             "colorbar": {
              "outlinewidth": 0,
              "ticks": ""
             }
            },
            "marker": {
             "colorbar": {
              "outlinewidth": 0,
              "ticks": ""
             }
            },
            "type": "scatter3d"
           }
          ],
          "scattercarpet": [
           {
            "marker": {
             "colorbar": {
              "outlinewidth": 0,
              "ticks": ""
             }
            },
            "type": "scattercarpet"
           }
          ],
          "scattergeo": [
           {
            "marker": {
             "colorbar": {
              "outlinewidth": 0,
              "ticks": ""
             }
            },
            "type": "scattergeo"
           }
          ],
          "scattergl": [
           {
            "marker": {
             "colorbar": {
              "outlinewidth": 0,
              "ticks": ""
             }
            },
            "type": "scattergl"
           }
          ],
          "scattermapbox": [
           {
            "marker": {
             "colorbar": {
              "outlinewidth": 0,
              "ticks": ""
             }
            },
            "type": "scattermapbox"
           }
          ],
          "scatterpolar": [
           {
            "marker": {
             "colorbar": {
              "outlinewidth": 0,
              "ticks": ""
             }
            },
            "type": "scatterpolar"
           }
          ],
          "scatterpolargl": [
           {
            "marker": {
             "colorbar": {
              "outlinewidth": 0,
              "ticks": ""
             }
            },
            "type": "scatterpolargl"
           }
          ],
          "scatterternary": [
           {
            "marker": {
             "colorbar": {
              "outlinewidth": 0,
              "ticks": ""
             }
            },
            "type": "scatterternary"
           }
          ],
          "surface": [
           {
            "colorbar": {
             "outlinewidth": 0,
             "ticks": ""
            },
            "colorscale": [
             [
              0,
              "#0d0887"
             ],
             [
              0.1111111111111111,
              "#46039f"
             ],
             [
              0.2222222222222222,
              "#7201a8"
             ],
             [
              0.3333333333333333,
              "#9c179e"
             ],
             [
              0.4444444444444444,
              "#bd3786"
             ],
             [
              0.5555555555555556,
              "#d8576b"
             ],
             [
              0.6666666666666666,
              "#ed7953"
             ],
             [
              0.7777777777777778,
              "#fb9f3a"
             ],
             [
              0.8888888888888888,
              "#fdca26"
             ],
             [
              1,
              "#f0f921"
             ]
            ],
            "type": "surface"
           }
          ],
          "table": [
           {
            "cells": {
             "fill": {
              "color": "#EBF0F8"
             },
             "line": {
              "color": "white"
             }
            },
            "header": {
             "fill": {
              "color": "#C8D4E3"
             },
             "line": {
              "color": "white"
             }
            },
            "type": "table"
           }
          ]
         },
         "layout": {
          "annotationdefaults": {
           "arrowcolor": "#2a3f5f",
           "arrowhead": 0,
           "arrowwidth": 1
          },
          "autotypenumbers": "strict",
          "coloraxis": {
           "colorbar": {
            "outlinewidth": 0,
            "ticks": ""
           }
          },
          "colorscale": {
           "diverging": [
            [
             0,
             "#8e0152"
            ],
            [
             0.1,
             "#c51b7d"
            ],
            [
             0.2,
             "#de77ae"
            ],
            [
             0.3,
             "#f1b6da"
            ],
            [
             0.4,
             "#fde0ef"
            ],
            [
             0.5,
             "#f7f7f7"
            ],
            [
             0.6,
             "#e6f5d0"
            ],
            [
             0.7,
             "#b8e186"
            ],
            [
             0.8,
             "#7fbc41"
            ],
            [
             0.9,
             "#4d9221"
            ],
            [
             1,
             "#276419"
            ]
           ],
           "sequential": [
            [
             0,
             "#0d0887"
            ],
            [
             0.1111111111111111,
             "#46039f"
            ],
            [
             0.2222222222222222,
             "#7201a8"
            ],
            [
             0.3333333333333333,
             "#9c179e"
            ],
            [
             0.4444444444444444,
             "#bd3786"
            ],
            [
             0.5555555555555556,
             "#d8576b"
            ],
            [
             0.6666666666666666,
             "#ed7953"
            ],
            [
             0.7777777777777778,
             "#fb9f3a"
            ],
            [
             0.8888888888888888,
             "#fdca26"
            ],
            [
             1,
             "#f0f921"
            ]
           ],
           "sequentialminus": [
            [
             0,
             "#0d0887"
            ],
            [
             0.1111111111111111,
             "#46039f"
            ],
            [
             0.2222222222222222,
             "#7201a8"
            ],
            [
             0.3333333333333333,
             "#9c179e"
            ],
            [
             0.4444444444444444,
             "#bd3786"
            ],
            [
             0.5555555555555556,
             "#d8576b"
            ],
            [
             0.6666666666666666,
             "#ed7953"
            ],
            [
             0.7777777777777778,
             "#fb9f3a"
            ],
            [
             0.8888888888888888,
             "#fdca26"
            ],
            [
             1,
             "#f0f921"
            ]
           ]
          },
          "colorway": [
           "#636efa",
           "#EF553B",
           "#00cc96",
           "#ab63fa",
           "#FFA15A",
           "#19d3f3",
           "#FF6692",
           "#B6E880",
           "#FF97FF",
           "#FECB52"
          ],
          "font": {
           "color": "#2a3f5f"
          },
          "geo": {
           "bgcolor": "white",
           "lakecolor": "white",
           "landcolor": "#E5ECF6",
           "showlakes": true,
           "showland": true,
           "subunitcolor": "white"
          },
          "hoverlabel": {
           "align": "left"
          },
          "hovermode": "closest",
          "mapbox": {
           "style": "light"
          },
          "paper_bgcolor": "white",
          "plot_bgcolor": "#E5ECF6",
          "polar": {
           "angularaxis": {
            "gridcolor": "white",
            "linecolor": "white",
            "ticks": ""
           },
           "bgcolor": "#E5ECF6",
           "radialaxis": {
            "gridcolor": "white",
            "linecolor": "white",
            "ticks": ""
           }
          },
          "scene": {
           "xaxis": {
            "backgroundcolor": "#E5ECF6",
            "gridcolor": "white",
            "gridwidth": 2,
            "linecolor": "white",
            "showbackground": true,
            "ticks": "",
            "zerolinecolor": "white"
           },
           "yaxis": {
            "backgroundcolor": "#E5ECF6",
            "gridcolor": "white",
            "gridwidth": 2,
            "linecolor": "white",
            "showbackground": true,
            "ticks": "",
            "zerolinecolor": "white"
           },
           "zaxis": {
            "backgroundcolor": "#E5ECF6",
            "gridcolor": "white",
            "gridwidth": 2,
            "linecolor": "white",
            "showbackground": true,
            "ticks": "",
            "zerolinecolor": "white"
           }
          },
          "shapedefaults": {
           "line": {
            "color": "#2a3f5f"
           }
          },
          "ternary": {
           "aaxis": {
            "gridcolor": "white",
            "linecolor": "white",
            "ticks": ""
           },
           "baxis": {
            "gridcolor": "white",
            "linecolor": "white",
            "ticks": ""
           },
           "bgcolor": "#E5ECF6",
           "caxis": {
            "gridcolor": "white",
            "linecolor": "white",
            "ticks": ""
           }
          },
          "title": {
           "x": 0.05
          },
          "xaxis": {
           "automargin": true,
           "gridcolor": "white",
           "linecolor": "white",
           "ticks": "",
           "title": {
            "standoff": 15
           },
           "zerolinecolor": "white",
           "zerolinewidth": 2
          },
          "yaxis": {
           "automargin": true,
           "gridcolor": "white",
           "linecolor": "white",
           "ticks": "",
           "title": {
            "standoff": 15
           },
           "zerolinecolor": "white",
           "zerolinewidth": 2
          }
         }
        },
        "width": 600,
        "xaxis": {
         "anchor": "y",
         "domain": [
          0,
          1
         ],
         "title": {
          "font": {
           "size": 16
          },
          "text": "rule threshold"
         }
        },
        "xaxis2": {
         "domain": [
          0,
          1
         ],
         "title": {
          "font": {
           "size": 16
          }
         }
        },
        "yaxis": {
         "anchor": "x",
         "domain": [
          0,
          1
         ],
         "range": [
          0,
          1
         ],
         "side": "right",
         "title": {
          "font": {
           "size": 16
          },
          "text": "violation_rate"
         }
        }
       }
      }
     },
     "metadata": {},
     "output_type": "display_data"
    }
   ],
   "source": [
    "import plotly.graph_objects as go\n",
    "from plotly.subplots import make_subplots\n",
    "\n",
    "\n",
    "# グラフのデータを準備\n",
    "# index = ['l-SVM-p', 'r-SVM-p', 'LogReg-p']\n",
    "\n",
    "# index = [\n",
    "#     'linear svm (L)', \n",
    "#     'non-linear svm (L)', \n",
    "#     'logistic regression (L)'\n",
    "# ]\n",
    "\n",
    "index = [\n",
    "    'linear svm', \n",
    "    'non-linear svm', \n",
    "    'logistic regression',\n",
    "    'RuleFit Classifier (disc)',\n",
    "    'tree generator (disc)',\n",
    "]\n",
    "\n",
    "columns = ['violation_rate']\n",
    "\n",
    "title_text = \"rule threshold\"\n",
    "\n",
    "\n",
    "# サブプロットの作成\n",
    "# fig = make_subplots(rows=1, cols=2, subplot_titles=('AUC', 'ルール違反率'))\n",
    "fig = make_subplots(rows=len(columns), cols=1)\n",
    "showlegend=True\n",
    "\n",
    "for row_num, col in enumerate(columns):\n",
    "    tmp_mean = pd.DataFrame(\n",
    "        [{info: df.loc[model_name, col] for info, df in zip(infos, dfs_mean)} for model_name in index],\n",
    "        index=index\n",
    "    )\n",
    "    tmp_std = pd.DataFrame(\n",
    "        [{info: df.loc[model_name, col] for info, df in zip(infos, dfs_std)} for model_name in index],\n",
    "        index=index\n",
    "    )\n",
    "\n",
    "    # グラフ1: AUC\n",
    "    for i in range(len(tmp_mean)):\n",
    "        fig.add_trace(\n",
    "            go.Scatter(\n",
    "                x=tmp_mean.columns,\n",
    "                y=tmp_mean.iloc[i, :],\n",
    "                mode='lines+markers',\n",
    "                name=tmp_mean.index[i],\n",
    "                line=dict(color=colors_mean[i]),  # ラインの色を設定\n",
    "                marker=dict(color=colors_mean[i]),  # マーカーの色を設定\n",
    "                showlegend=showlegend,\n",
    "            ),\n",
    "            row=row_num+1, col=1\n",
    "        )\n",
    "        fig.add_trace(\n",
    "            go.Scatter(\n",
    "                x=tmp_mean.columns,\n",
    "                y=tmp_mean.iloc[i, :] + tmp_std.iloc[i, :],\n",
    "                mode='lines',\n",
    "                line=dict(color=colors_std[i]),  # ラインの色を設定\n",
    "                showlegend=False\n",
    "            ),\n",
    "            row=row_num+1, col=1\n",
    "        )\n",
    "        fig.add_trace(\n",
    "            go.Scatter(\n",
    "                x=tmp_mean.columns,\n",
    "                y=tmp_mean.iloc[i, :] - tmp_std.iloc[i, :],\n",
    "                mode='lines',\n",
    "                fill='tonexty',\n",
    "                fillcolor=colors_std[i],\n",
    "                line=dict(color='rgba(255,255,255,0)'),\n",
    "                showlegend=False\n",
    "            ),\n",
    "            row=row_num+1, col=1\n",
    "        )\n",
    "    \n",
    "    # x, y 軸の設定\n",
    "    fig.update_xaxes(title_text=title_text, row=row_num+1, col=1)\n",
    "    fig.update_yaxes(title_text=col, range=[0, 1], row=row_num+1, col=1, side='right', title_font=dict(size=16))\n",
    "\n",
    "    showlegend=False\n",
    "    \n",
    "# レイアウトの設定\n",
    "fig.update_layout(\n",
    "    height=len(columns) * 300,\n",
    "    width=600,\n",
    "    xaxis=dict(\n",
    "        domain=[0, 1],  # 左側のsubplotの幅を調整\n",
    "        title_font=dict(size=16)\n",
    "    ),\n",
    "    xaxis2=dict(\n",
    "        domain=[0, 1],  # 右側のsubplotの幅を調整\n",
    "        title_font=dict(size=16)\n",
    "    ),\n",
    "    legend=dict(\n",
    "        x=0.5,\n",
    "        y=2,\n",
    "        orientation='h'  # 水平配置\n",
    "    ),\n",
    ")\n",
    "\n",
    "\n",
    "# グラフの表示\n",
    "fig.show()"
   ]
  },
  {
   "cell_type": "code",
   "execution_count": null,
   "metadata": {},
   "outputs": [],
   "source": []
  },
  {
   "cell_type": "code",
   "execution_count": null,
   "metadata": {},
   "outputs": [],
   "source": [
    "sampler=optuna.samplers.RandomSampler(seed=123"
   ]
  },
  {
   "cell_type": "code",
   "execution_count": 33,
   "metadata": {},
   "outputs": [
    {
     "name": "stderr",
     "output_type": "stream",
     "text": [
      "[I 2024-03-31 13:23:38,976] A new study created in memory with name: no-name-ac92d6ba-ab1f-47a0-9ba9-aadcd3014b6b\n",
      "/var/folders/s5/29r5x3qd5h30ntfm58ck0mx00000gn/T/ipykernel_37310/3198481852.py:5: FutureWarning:\n",
      "\n",
      "suggest_uniform has been deprecated in v3.0.0. This feature will be removed in v6.0.0. See https://github.com/optuna/optuna/releases/tag/v3.0.0. Use suggest_float instead.\n",
      "\n",
      "/var/folders/s5/29r5x3qd5h30ntfm58ck0mx00000gn/T/ipykernel_37310/3198481852.py:6: FutureWarning:\n",
      "\n",
      "suggest_uniform has been deprecated in v3.0.0. This feature will be removed in v6.0.0. See https://github.com/optuna/optuna/releases/tag/v3.0.0. Use suggest_float instead.\n",
      "\n",
      "[I 2024-03-31 13:23:38,979] Trial 0 finished with value: 164.6759343739632 and parameters: {'x': -2.50919762305275, 'y': 9.014286128198322}. Best is trial 0 with value: 164.6759343739632.\n",
      "[I 2024-03-31 13:23:38,980] Trial 1 finished with value: 31.701376975232193 and parameters: {'x': 4.639878836228101, 'y': 1.973169683940732}. Best is trial 1 with value: 31.701376975232193.\n",
      "[I 2024-03-31 13:23:38,981] Trial 2 finished with value: 93.90302950966503 and parameters: {'x': -6.87962719115127, 'y': -6.880109593275947}. Best is trial 1 with value: 31.701376975232193.\n",
      "[I 2024-03-31 13:23:38,981] Trial 3 finished with value: 224.04447394709342 and parameters: {'x': -8.83832775663601, 'y': 7.323522915498703}. Best is trial 1 with value: 31.701376975232193.\n",
      "[I 2024-03-31 13:23:38,982] Trial 4 finished with value: 51.286885688277 and parameters: {'x': 2.0223002348641756, 'y': 4.161451555920909}. Best is trial 1 with value: 31.701376975232193.\n",
      "[I 2024-03-31 13:23:38,982] Trial 5 finished with value: 288.00422122318264 and parameters: {'x': -9.588310114083951, 'y': 9.398197043239886}. Best is trial 1 with value: 31.701376975232193.\n",
      "[I 2024-03-31 13:23:38,982] Trial 6 finished with value: 29.19204068444872 and parameters: {'x': 6.648852816008436, 'y': -5.753217786434477}. Best is trial 6 with value: 29.19204068444872.\n",
      "[I 2024-03-31 13:23:38,983] Trial 7 finished with value: 81.04976615540683 and parameters: {'x': -6.363500655857988, 'y': -6.331909802931324}. Best is trial 6 with value: 29.19204068444872.\n",
      "[I 2024-03-31 13:23:38,983] Trial 8 finished with value: 47.20498449857526 and parameters: {'x': -3.9151551408092455, 'y': 0.49512863264475726}. Best is trial 6 with value: 29.19204068444872.\n",
      "[I 2024-03-31 13:23:38,984] Trial 9 finished with value: 12.678596288424094 and parameters: {'x': -1.3610996271576852, 'y': -4.175417196039161}. Best is trial 9 with value: 12.678596288424094.\n",
      "[I 2024-03-31 13:23:38,990] Trial 10 finished with value: 2.5042319485180817 and parameters: {'x': 0.4314640803653176, 'y': -2.7904122681694776}. Best is trial 10 with value: 2.5042319485180817.\n",
      "[I 2024-03-31 13:23:38,999] Trial 11 finished with value: 2.691129315612832 and parameters: {'x': 0.3607432898903, 'y': -3.062982171867562}. Best is trial 10 with value: 2.5042319485180817.\n",
      "[I 2024-03-31 13:23:39,004] Trial 12 finished with value: 0.19938797780402423 and parameters: {'x': 1.9639889586487183, 'y': -2.5549256436225285}. Best is trial 12 with value: 0.19938797780402423.\n",
      "[I 2024-03-31 13:23:39,008] Trial 13 finished with value: 42.71780823085704 and parameters: {'x': 3.053218203748281, 'y': -9.45046817263292}. Best is trial 12 with value: 0.19938797780402423.\n",
      "[I 2024-03-31 13:23:39,013] Trial 14 finished with value: 49.37380737582188 and parameters: {'x': 8.939237527802987, 'y': -1.895106381341367}. Best is trial 12 with value: 0.19938797780402423.\n",
      "[I 2024-03-31 13:23:39,017] Trial 15 finished with value: 4.082792435479474 and parameters: {'x': 1.308174524230194, 'y': -1.1015348445243047}. Best is trial 12 with value: 0.19938797780402423.\n",
      "[I 2024-03-31 13:23:39,021] Trial 16 finished with value: 28.90902281476626 and parameters: {'x': 4.730248334967338, 'y': 1.6319290629471368}. Best is trial 12 with value: 0.19938797780402423.\n",
      "[I 2024-03-31 13:23:39,029] Trial 17 finished with value: 62.082928825600135 and parameters: {'x': -1.4790840036578166, 'y': 4.069575894004705}. Best is trial 12 with value: 0.19938797780402423.\n",
      "[I 2024-03-31 13:23:39,040] Trial 18 finished with value: 98.04687598307973 and parameters: {'x': 9.409948224777475, 'y': -9.568069982056896}. Best is trial 12 with value: 0.19938797780402423.\n",
      "[I 2024-03-31 13:23:39,048] Trial 19 finished with value: 41.026037827481396 and parameters: {'x': -4.3984498872409326, 'y': -3.293047552366322}. Best is trial 12 with value: 0.19938797780402423.\n",
      "[I 2024-03-31 13:23:39,063] Trial 20 finished with value: 10.91013797398801 and parameters: {'x': 4.513210587787764, 'y': -0.8566590295943366}. Best is trial 12 with value: 0.19938797780402423.\n",
      "[I 2024-03-31 13:23:39,089] Trial 21 finished with value: 2.344319344205314 and parameters: {'x': 0.4703902974971118, 'y': -2.932077233460787}. Best is trial 12 with value: 0.19938797780402423.\n",
      "[I 2024-03-31 13:23:39,101] Trial 22 finished with value: 3.1622470723590705 and parameters: {'x': 2.5528589051189976, 'y': -4.690146178112915}. Best is trial 12 with value: 0.19938797780402423.\n",
      "[I 2024-03-31 13:23:39,110] Trial 23 finished with value: 27.29015410311931 and parameters: {'x': -0.3742301406795437, 'y': -7.653298329379721}. Best is trial 12 with value: 0.19938797780402423.\n",
      "[I 2024-03-31 13:23:39,115] Trial 24 finished with value: 2.6234168255267827 and parameters: {'x': 0.4456268105986272, 'y': -2.5446530843444894}. Best is trial 12 with value: 0.19938797780402423.\n",
      "[I 2024-03-31 13:23:39,123] Trial 25 finished with value: 43.30516640824984 and parameters: {'x': 7.274629762932006, 'y': 0.93490117693465}. Best is trial 12 with value: 0.19938797780402423.\n",
      "[I 2024-03-31 13:23:39,133] Trial 26 finished with value: 67.23394132868992 and parameters: {'x': -3.286256286878535, 'y': 3.268128572239651}. Best is trial 12 with value: 0.19938797780402423.\n",
      "[I 2024-03-31 13:23:39,139] Trial 27 finished with value: 7.728805071982817 and parameters: {'x': 3.5796154929258113, 'y': -5.287710638715387}. Best is trial 12 with value: 0.19938797780402423.\n",
      "[I 2024-03-31 13:23:39,148] Trial 28 finished with value: 16.12673988118671 and parameters: {'x': -1.346061839743499, 'y': -0.7795022977271371}. Best is trial 12 with value: 0.19938797780402423.\n",
      "[I 2024-03-31 13:23:39,152] Trial 29 finished with value: 17.9456202215568 and parameters: {'x': 6.16132068894329, 'y': -3.793114333075216}. Best is trial 12 with value: 0.19938797780402423.\n",
      "[I 2024-03-31 13:23:39,156] Trial 30 finished with value: 25.360622058168378 and parameters: {'x': 1.4306435292050503, 'y': -8.003644198714802}. Best is trial 12 with value: 0.19938797780402423.\n",
      "[I 2024-03-31 13:23:39,162] Trial 31 finished with value: 3.897927513936709 and parameters: {'x': 0.150432889110506, 'y': -2.3093271279016387}. Best is trial 12 with value: 0.19938797780402423.\n",
      "[I 2024-03-31 13:23:39,165] Trial 32 finished with value: 20.817432766538953 and parameters: {'x': -2.508753361953271, 'y': -2.3010179633109122}. Best is trial 12 with value: 0.19938797780402423.\n",
      "[I 2024-03-31 13:23:39,169] Trial 33 finished with value: 12.868047243136402 and parameters: {'x': 0.6437598144415417, 'y': 0.3209426074855255}. Best is trial 12 with value: 0.19938797780402423.\n",
      "[I 2024-03-31 13:23:39,172] Trial 34 finished with value: 8.094078250320667 and parameters: {'x': -0.6708741340386508, 'y': -2.019944077899657}. Best is trial 12 with value: 0.19938797780402423.\n",
      "[I 2024-03-31 13:23:39,177] Trial 35 finished with value: 124.56572798085905 and parameters: {'x': -2.3963567848206857, 'y': 7.258546437065057}. Best is trial 12 with value: 0.19938797780402423.\n",
      "[I 2024-03-31 13:23:39,181] Trial 36 finished with value: 7.128605424272034 and parameters: {'x': 3.8198939513980155, 'y': -4.9536098458845235}. Best is trial 12 with value: 0.19938797780402423.\n",
      "[I 2024-03-31 13:23:39,185] Trial 37 finished with value: 33.53787569939578 and parameters: {'x': 1.854815588612126, 'y': 2.7893693254175567}. Best is trial 12 with value: 0.19938797780402423.\n",
      "[I 2024-03-31 13:23:39,188] Trial 38 finished with value: 80.85243606522054 and parameters: {'x': -6.099345149882381, 'y': -6.905514589435979}. Best is trial 12 with value: 0.19938797780402423.\n",
      "[I 2024-03-31 13:23:39,193] Trial 39 finished with value: 47.62309919412031 and parameters: {'x': -4.898858615722078, 'y': -3.16984991727274}. Best is trial 12 with value: 0.19938797780402423.\n",
      "[I 2024-03-31 13:23:39,196] Trial 40 finished with value: 6.568399233844762 and parameters: {'x': 2.5960609926879847, 'y': -0.5073888135450053}. Best is trial 12 with value: 0.19938797780402423.\n",
      "[I 2024-03-31 13:23:39,200] Trial 41 finished with value: 1.4866010400076195 and parameters: {'x': 0.7810782329292634, 'y': -3.028823007628844}. Best is trial 12 with value: 0.19938797780402423.\n",
      "[I 2024-03-31 13:23:39,204] Trial 42 finished with value: 1.4958178499015238 and parameters: {'x': 1.4247251010400117, 'y': -4.079294510561459}. Best is trial 12 with value: 0.19938797780402423.\n",
      "[I 2024-03-31 13:23:39,207] Trial 43 finished with value: 2.0926127142645288 and parameters: {'x': 1.179138983659747, 'y': -4.191133874137318}. Best is trial 12 with value: 0.19938797780402423.\n",
      "[I 2024-03-31 13:23:39,212] Trial 44 finished with value: 9.589289633940446 and parameters: {'x': 1.4749815716893766, 'y': -6.051826548785938}. Best is trial 12 with value: 0.19938797780402423.\n",
      "[I 2024-03-31 13:23:39,216] Trial 45 finished with value: 10.119197532678243 and parameters: {'x': 4.998713515782441, 'y': -4.061562425362707}. Best is trial 12 with value: 0.19938797780402423.\n",
      "[I 2024-03-31 13:23:39,220] Trial 46 finished with value: 11.759390903928917 and parameters: {'x': -1.1144830766612914, 'y': -4.435056120546975}. Best is trial 12 with value: 0.19938797780402423.\n",
      "[I 2024-03-31 13:23:39,223] Trial 47 finished with value: 2.9678475628371026 and parameters: {'x': 2.4786575968099385, 'y': -1.3450877763901685}. Best is trial 12 with value: 0.19938797780402423.\n",
      "[I 2024-03-31 13:23:39,228] Trial 48 finished with value: 8.304261084186312 and parameters: {'x': 3.5521241888287536, 'y': -5.427997443705202}. Best is trial 12 with value: 0.19938797780402423.\n",
      "[I 2024-03-31 13:23:39,232] Trial 49 finished with value: 23.45212586849106 and parameters: {'x': -0.36785751266532385, 'y': -7.224378849985574}. Best is trial 12 with value: 0.19938797780402423.\n",
      "[I 2024-03-31 13:23:39,236] Trial 50 finished with value: 29.147295548907657 and parameters: {'x': 0.8941317277753054, 'y': -8.28434962066236}. Best is trial 12 with value: 0.19938797780402423.\n",
      "[I 2024-03-31 13:23:39,239] Trial 51 finished with value: 17.310335861541148 and parameters: {'x': -2.135090873285389, 'y': -3.4597383290666857}. Best is trial 12 with value: 0.19938797780402423.\n",
      "[I 2024-03-31 13:23:39,243] Trial 52 finished with value: 1.9510457396919947 and parameters: {'x': 1.9252849167186625, 'y': -1.6052013062731032}. Best is trial 12 with value: 0.19938797780402423.\n",
      "[I 2024-03-31 13:23:39,249] Trial 53 finished with value: 2.004609282031553 and parameters: {'x': 2.013932986756834, 'y': -1.584226305544708}. Best is trial 12 with value: 0.19938797780402423.\n",
      "[I 2024-03-31 13:23:39,252] Trial 54 finished with value: 1.674113319987395 and parameters: {'x': 2.1964343507919994, 'y': -1.7211228105027752}. Best is trial 12 with value: 0.19938797780402423.\n",
      "[I 2024-03-31 13:23:39,256] Trial 55 finished with value: 2.084784444804496 and parameters: {'x': 2.0067488875083987, 'y': -1.556137507474519}. Best is trial 12 with value: 0.19938797780402423.\n",
      "[I 2024-03-31 13:23:39,261] Trial 56 finished with value: 14.005507953424377 and parameters: {'x': 4.286579922007354, 'y': -0.03738962843622984}. Best is trial 12 with value: 0.19938797780402423.\n",
      "[I 2024-03-31 13:23:39,265] Trial 57 finished with value: 27.88965614349852 and parameters: {'x': 5.6365669067185395, 'y': 0.8294956947956049}. Best is trial 12 with value: 0.19938797780402423.\n",
      "[I 2024-03-31 13:23:39,269] Trial 58 finished with value: 2.7450378981841768 and parameters: {'x': 3.0079954669582496, 'y': -1.6850920044444946}. Best is trial 12 with value: 0.19938797780402423.\n",
      "[I 2024-03-31 13:23:39,273] Trial 59 finished with value: 22.66506216926473 and parameters: {'x': 3.049067554557337, 'y': 1.6437613456378033}. Best is trial 12 with value: 0.19938797780402423.\n",
      "[I 2024-03-31 13:23:39,277] Trial 60 finished with value: 7.1156512305743504 and parameters: {'x': 2.2415392581683586, 'y': -0.34344019127409253}. Best is trial 12 with value: 0.19938797780402423.\n",
      "[I 2024-03-31 13:23:39,281] Trial 61 finished with value: 2.561585189233937 and parameters: {'x': 1.7685927911286528, 'y': -1.4163220362345412}. Best is trial 12 with value: 0.19938797780402423.\n",
      "[I 2024-03-31 13:23:39,285] Trial 62 finished with value: 0.12202118939559355 and parameters: {'x': 2.0786689453434124, 'y': -2.6596584268207177}. Best is trial 62 with value: 0.12202118939559355.\n",
      "[I 2024-03-31 13:23:39,290] Trial 63 finished with value: 4.387260341644151 and parameters: {'x': -0.07602926939653365, 'y': -2.7218582838676557}. Best is trial 62 with value: 0.12202118939559355.\n",
      "[I 2024-03-31 13:23:39,294] Trial 64 finished with value: 116.30285771984697 and parameters: {'x': -8.769869143589425, 'y': -3.5592641145356625}. Best is trial 62 with value: 0.12202118939559355.\n",
      "[I 2024-03-31 13:23:39,298] Trial 65 finished with value: 10.363898906666314 and parameters: {'x': 5.190972403617209, 'y': -2.57386149432406}. Best is trial 62 with value: 0.12202118939559355.\n",
      "[I 2024-03-31 13:23:39,302] Trial 66 finished with value: 4.5086108350953085 and parameters: {'x': 0.9470669042367514, 'y': -1.1561066378606029}. Best is trial 62 with value: 0.12202118939559355.\n",
      "[I 2024-03-31 13:23:39,306] Trial 67 finished with value: 7.210214687554782 and parameters: {'x': 4.012448893394987, 'y': -4.777713176816798}. Best is trial 62 with value: 0.12202118939559355.\n",
      "[I 2024-03-31 13:23:39,312] Trial 68 finished with value: 2.5397983368441213 and parameters: {'x': 3.2504513896556606, 'y': -2.0119870147855603}. Best is trial 62 with value: 0.12202118939559355.\n",
      "[I 2024-03-31 13:23:39,315] Trial 69 finished with value: 44.57997322969434 and parameters: {'x': 7.791128389322111, 'y': 0.3230716525651127}. Best is trial 62 with value: 0.12202118939559355.\n",
      "[I 2024-03-31 13:23:39,319] Trial 70 finished with value: 11.697453315337274 and parameters: {'x': 2.7810980678015857, 'y': -6.329765625958365}. Best is trial 62 with value: 0.12202118939559355.\n",
      "[I 2024-03-31 13:23:39,323] Trial 71 finished with value: 1.6704627757786543 and parameters: {'x': 2.040308408189773, 'y': -1.70816486810125}. Best is trial 62 with value: 0.12202118939559355.\n",
      "[I 2024-03-31 13:23:39,327] Trial 72 finished with value: 0.02331044535741596 and parameters: {'x': 2.035048193793379, 'y': -3.1486003683347983}. Best is trial 72 with value: 0.02331044535741596.\n",
      "[I 2024-03-31 13:23:39,332] Trial 73 finished with value: 7.730152894181696 and parameters: {'x': -0.7551441477748194, 'y': -3.3732741876474437}. Best is trial 72 with value: 0.02331044535741596.\n",
      "[I 2024-03-31 13:23:39,336] Trial 74 finished with value: 7.176652666855048 and parameters: {'x': 0.4282328412247933, 'y': -0.8306220556457291}. Best is trial 72 with value: 0.02331044535741596.\n",
      "[I 2024-03-31 13:23:39,339] Trial 75 finished with value: 0.5333901643002465 and parameters: {'x': 1.2713734961969578, 'y': -2.950064218680369}. Best is trial 72 with value: 0.02331044535741596.\n",
      "[I 2024-03-31 13:23:39,343] Trial 76 finished with value: 0.5377847548380451 and parameters: {'x': 1.2731802767135687, 'y': -2.902440558222791}. Best is trial 72 with value: 0.02331044535741596.\n",
      "[I 2024-03-31 13:23:39,349] Trial 77 finished with value: 6.9651123771081895 and parameters: {'x': 1.2496812086912472, 'y': -5.530243879256931}. Best is trial 72 with value: 0.02331044535741596.\n",
      "[I 2024-03-31 13:23:39,352] Trial 78 finished with value: 4.584218897659916 and parameters: {'x': -0.14026631090575759, 'y': -2.941016815432064}. Best is trial 72 with value: 0.02331044535741596.\n",
      "[I 2024-03-31 13:23:39,356] Trial 79 finished with value: 2.6693865996452133 and parameters: {'x': 0.6935076204188975, 'y': -3.981052629445394}. Best is trial 72 with value: 0.02331044535741596.\n",
      "[I 2024-03-31 13:23:39,360] Trial 80 finished with value: 4.357097374418329 and parameters: {'x': 1.4979970167568555, 'y': -5.026102262777798}. Best is trial 72 with value: 0.02331044535741596.\n",
      "[I 2024-03-31 13:23:39,365] Trial 81 finished with value: 2.799636462528355 and parameters: {'x': 3.490563529251318, 'y': -2.239831053124235}. Best is trial 72 with value: 0.02331044535741596.\n",
      "[I 2024-03-31 13:23:39,369] Trial 82 finished with value: 14.179327252489701 and parameters: {'x': -1.76554457789479, 'y': -3.0011333035111547}. Best is trial 72 with value: 0.02331044535741596.\n",
      "[I 2024-03-31 13:23:39,373] Trial 83 finished with value: 0.49944002643418933 and parameters: {'x': 2.2123321263149296, 'y': -3.6740586729423264}. Best is trial 72 with value: 0.02331044535741596.\n",
      "[I 2024-03-31 13:23:39,378] Trial 84 finished with value: 2.5741071230422574 and parameters: {'x': 2.6428696925805077, 'y': -4.469974721348534}. Best is trial 72 with value: 0.02331044535741596.\n",
      "[I 2024-03-31 13:23:39,382] Trial 85 finished with value: 1.4169242105956534 and parameters: {'x': 0.9694169247775621, 'y': -3.595669988887065}. Best is trial 72 with value: 0.02331044535741596.\n",
      "[I 2024-03-31 13:23:39,386] Trial 86 finished with value: 9.445453539264413 and parameters: {'x': -0.9158473183918874, 'y': -3.971230124682741}. Best is trial 72 with value: 0.02331044535741596.\n",
      "[I 2024-03-31 13:23:39,389] Trial 87 finished with value: 3.4797672649896807 and parameters: {'x': 0.24690819384820717, 'y': -3.6375236342231756}. Best is trial 72 with value: 0.02331044535741596.\n",
      "[I 2024-03-31 13:23:39,393] Trial 88 finished with value: 8.449440264675529 and parameters: {'x': 0.9986062335802879, 'y': -5.728855215882893}. Best is trial 72 with value: 0.02331044535741596.\n",
      "[I 2024-03-31 13:23:39,398] Trial 89 finished with value: 0.4652792788087482 and parameters: {'x': 1.490097363255554, 'y': -2.5469232075576924}. Best is trial 72 with value: 0.02331044535741596.\n",
      "[I 2024-03-31 13:23:39,402] Trial 90 finished with value: 4.960698286643226 and parameters: {'x': -0.15848977754409477, 'y': -2.4508004307349913}. Best is trial 72 with value: 0.02331044535741596.\n",
      "[I 2024-03-31 13:23:39,406] Trial 91 finished with value: 2.3781062465695832 and parameters: {'x': 1.4913598776316908, 'y': -4.455812993652253}. Best is trial 72 with value: 0.02331044535741596.\n",
      "[I 2024-03-31 13:23:39,410] Trial 92 finished with value: 1.5769469735604242 and parameters: {'x': 0.7545085051229088, 'y': -3.160305675973288}. Best is trial 72 with value: 0.02331044535741596.\n",
      "[I 2024-03-31 13:23:39,414] Trial 93 finished with value: 0.658119252560443 and parameters: {'x': 1.5521384408532213, 'y': -3.6764164962499506}. Best is trial 72 with value: 0.02331044535741596.\n",
      "[I 2024-03-31 13:23:39,418] Trial 94 finished with value: 87.0451656339807 and parameters: {'x': 2.4354627803183293, 'y': 6.319631849002305}. Best is trial 72 with value: 0.02331044535741596.\n",
      "[I 2024-03-31 13:23:39,422] Trial 95 finished with value: 3.5525230543114077 and parameters: {'x': 3.8682676347934266, 'y': -2.7508030917230646}. Best is trial 72 with value: 0.02331044535741596.\n",
      "[I 2024-03-31 13:23:39,427] Trial 96 finished with value: 1.6805726850126868 and parameters: {'x': 3.0707185259094105, 'y': -3.7308450747505013}. Best is trial 72 with value: 0.02331044535741596.\n",
      "[I 2024-03-31 13:23:39,431] Trial 97 finished with value: 4.252026809537828 and parameters: {'x': 1.674089415078445, 'y': -5.03612600301993}. Best is trial 72 with value: 0.02331044535741596.\n",
      "[I 2024-03-31 13:23:39,435] Trial 98 finished with value: 7.142911334781743 and parameters: {'x': -0.564964681653233, 'y': -2.249088875662858}. Best is trial 72 with value: 0.02331044535741596.\n",
      "[I 2024-03-31 13:23:39,439] Trial 99 finished with value: 3.023560551476094 and parameters: {'x': 0.27372857758557423, 'y': -3.208680443816303}. Best is trial 72 with value: 0.02331044535741596.\n"
     ]
    },
    {
     "name": "stdout",
     "output_type": "stream",
     "text": [
      "Best parameters (from study.best_params): {'x': 2.035048193793379, 'y': -3.1486003683347983}\n",
      "Best parameters (from study.best_trial.params): {'x': 2.035048193793379, 'y': -3.1486003683347983}\n"
     ]
    }
   ],
   "source": [
    "import optuna\n",
    "\n",
    "# 目的関数の定義\n",
    "def objective(trial):\n",
    "    x = trial.suggest_uniform('x', -10, 10)\n",
    "    y = trial.suggest_uniform('y', -10, 10)\n",
    "    return (x - 2) ** 2 + (y + 3) ** 2\n",
    "\n",
    "# Optuna の最適化\n",
    "study = optuna.create_study(direction='minimize', sampler=optuna.samplers.TPESampler(seed=42))\n",
    "study.optimize(objective, n_trials=100)\n",
    "\n",
    "# 最適なパラメータを表示\n",
    "print('Best parameters (from study.best_params):', study.best_params)\n",
    "print('Best parameters (from study.best_trial.params):', study.best_trial.params)\n"
   ]
  },
  {
   "cell_type": "code",
   "execution_count": 32,
   "metadata": {},
   "outputs": [
    {
     "name": "stdout",
     "output_type": "stream",
     "text": [
      "{'x': 2.035048193793379, 'y': -3.1486003683347983}\n",
      "{'x': 2.035048193793379, 'y': -3.1486003683347983}\n"
     ]
    }
   ],
   "source": [
    "# 最適なパラメータを表示\n",
    "print(study.best_params)\n",
    "print(study.best_trial.params)"
   ]
  },
  {
   "cell_type": "code",
   "execution_count": 34,
   "metadata": {},
   "outputs": [
    {
     "name": "stdout",
     "output_type": "stream",
     "text": [
      "{'x': 2.035048193793379, 'y': -3.1486003683347983}\n",
      "{'x': 2.035048193793379, 'y': -3.1486003683347983}\n"
     ]
    }
   ],
   "source": [
    "# 最適なパラメータを表示\n",
    "print(study.best_params)\n",
    "print(study.best_trial.params)"
   ]
  },
  {
   "cell_type": "code",
   "execution_count": 30,
   "metadata": {},
   "outputs": [
    {
     "name": "stdout",
     "output_type": "stream",
     "text": [
      "{'x': 1.9164268147801904, 'y': -3.1685434982801635}\n",
      "{'x': 1.9164268147801904, 'y': -3.1685434982801635}\n"
     ]
    }
   ],
   "source": [
    "# 最適なパラメータを表示\n",
    "print(study.best_params)\n",
    "print(study.best_trial.params)"
   ]
  },
  {
   "cell_type": "code",
   "execution_count": 28,
   "metadata": {},
   "outputs": [
    {
     "name": "stdout",
     "output_type": "stream",
     "text": [
      "{'x': 2.1085594631655358, 'y': -3.061913911957519}\n",
      "{'x': 2.1085594631655358, 'y': -3.061913911957519}\n"
     ]
    }
   ],
   "source": [
    "# 最適なパラメータを表示\n",
    "print(study.best_params)\n",
    "print(study.best_trial.params)"
   ]
  },
  {
   "cell_type": "code",
   "execution_count": null,
   "metadata": {},
   "outputs": [],
   "source": []
  }
 ],
 "metadata": {
  "kernelspec": {
   "display_name": "myenv",
   "language": "python",
   "name": "python3"
  },
  "language_info": {
   "codemirror_mode": {
    "name": "ipython",
    "version": 3
   },
   "file_extension": ".py",
   "mimetype": "text/x-python",
   "name": "python",
   "nbconvert_exporter": "python",
   "pygments_lexer": "ipython3",
   "version": "3.11.6"
  }
 },
 "nbformat": 4,
 "nbformat_minor": 2
}
