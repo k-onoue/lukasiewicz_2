{
 "cells": [
  {
   "cell_type": "code",
   "execution_count": 1,
   "metadata": {},
   "outputs": [
    {
     "data": {
      "text/html": [
       "<div>\n",
       "<style scoped>\n",
       "    .dataframe tbody tr th:only-of-type {\n",
       "        vertical-align: middle;\n",
       "    }\n",
       "\n",
       "    .dataframe tbody tr th {\n",
       "        vertical-align: top;\n",
       "    }\n",
       "\n",
       "    .dataframe thead th {\n",
       "        text-align: right;\n",
       "    }\n",
       "</style>\n",
       "<table border=\"1\" class=\"dataframe\">\n",
       "  <thead>\n",
       "    <tr style=\"text-align: right;\">\n",
       "      <th></th>\n",
       "      <th>accuracy</th>\n",
       "      <th>precision</th>\n",
       "      <th>recall</th>\n",
       "      <th>f1</th>\n",
       "      <th>auc</th>\n",
       "      <th>n_violation</th>\n",
       "      <th>n_rule</th>\n",
       "      <th>violation_rate</th>\n",
       "      <th>n_violation (instance)</th>\n",
       "      <th>n_evaluation (instance)</th>\n",
       "      <th>violation_rate (instance)</th>\n",
       "    </tr>\n",
       "  </thead>\n",
       "  <tbody>\n",
       "    <tr>\n",
       "      <th>l-SVM</th>\n",
       "      <td>0.779104</td>\n",
       "      <td>0.711436</td>\n",
       "      <td>0.551175</td>\n",
       "      <td>0.618693</td>\n",
       "      <td>0.837805</td>\n",
       "      <td>31.2</td>\n",
       "      <td>35.6</td>\n",
       "      <td>0.878345</td>\n",
       "      <td>513.8</td>\n",
       "      <td>583.8</td>\n",
       "      <td>0.879052</td>\n",
       "    </tr>\n",
       "    <tr>\n",
       "      <th>r-SVM</th>\n",
       "      <td>0.780597</td>\n",
       "      <td>0.75907</td>\n",
       "      <td>0.479714</td>\n",
       "      <td>0.587201</td>\n",
       "      <td>0.838064</td>\n",
       "      <td>32.2</td>\n",
       "      <td>35.6</td>\n",
       "      <td>0.903858</td>\n",
       "      <td>521.6</td>\n",
       "      <td>583.8</td>\n",
       "      <td>0.892684</td>\n",
       "    </tr>\n",
       "    <tr>\n",
       "      <th>RogReg</th>\n",
       "      <td>0.78209</td>\n",
       "      <td>0.731143</td>\n",
       "      <td>0.530165</td>\n",
       "      <td>0.612464</td>\n",
       "      <td>0.840573</td>\n",
       "      <td>31.4</td>\n",
       "      <td>35.6</td>\n",
       "      <td>0.883473</td>\n",
       "      <td>516.4</td>\n",
       "      <td>583.8</td>\n",
       "      <td>0.883681</td>\n",
       "    </tr>\n",
       "    <tr>\n",
       "      <th>RuleFit-d</th>\n",
       "      <td>0.783582</td>\n",
       "      <td>0.742431</td>\n",
       "      <td>0.521271</td>\n",
       "      <td>0.610252</td>\n",
       "      <td>0.815699</td>\n",
       "      <td>28.8</td>\n",
       "      <td>35.6</td>\n",
       "      <td>0.801738</td>\n",
       "      <td>510.4</td>\n",
       "      <td>583.8</td>\n",
       "      <td>0.872475</td>\n",
       "    </tr>\n",
       "    <tr>\n",
       "      <th>RuleFit</th>\n",
       "      <td>0.732836</td>\n",
       "      <td>0.601979</td>\n",
       "      <td>0.553471</td>\n",
       "      <td>0.571908</td>\n",
       "      <td>0.795116</td>\n",
       "      <td>31.2</td>\n",
       "      <td>35.6</td>\n",
       "      <td>0.878702</td>\n",
       "      <td>512.2</td>\n",
       "      <td>583.8</td>\n",
       "      <td>0.87665</td>\n",
       "    </tr>\n",
       "    <tr>\n",
       "      <th>RF-d</th>\n",
       "      <td>0.741791</td>\n",
       "      <td>0.627843</td>\n",
       "      <td>0.557706</td>\n",
       "      <td>0.582608</td>\n",
       "      <td>0.772322</td>\n",
       "      <td>26.6</td>\n",
       "      <td>35.6</td>\n",
       "      <td>0.741115</td>\n",
       "      <td>501.2</td>\n",
       "      <td>583.8</td>\n",
       "      <td>0.856557</td>\n",
       "    </tr>\n",
       "    <tr>\n",
       "      <th>RF</th>\n",
       "      <td>0.78209</td>\n",
       "      <td>0.715158</td>\n",
       "      <td>0.568106</td>\n",
       "      <td>0.62746</td>\n",
       "      <td>0.8326</td>\n",
       "      <td>31.2</td>\n",
       "      <td>35.6</td>\n",
       "      <td>0.877264</td>\n",
       "      <td>516.0</td>\n",
       "      <td>583.8</td>\n",
       "      <td>0.882925</td>\n",
       "    </tr>\n",
       "    <tr>\n",
       "      <th>l-SVM-p</th>\n",
       "      <td>0.389552</td>\n",
       "      <td>0.361431</td>\n",
       "      <td>0.93173</td>\n",
       "      <td>0.504187</td>\n",
       "      <td>0.33561</td>\n",
       "      <td>23.2</td>\n",
       "      <td>35.6</td>\n",
       "      <td>0.652447</td>\n",
       "      <td>412.8</td>\n",
       "      <td>583.8</td>\n",
       "      <td>0.693728</td>\n",
       "    </tr>\n",
       "    <tr>\n",
       "      <th>r-SVM-p</th>\n",
       "      <td>0.71791</td>\n",
       "      <td>0.547749</td>\n",
       "      <td>0.761836</td>\n",
       "      <td>0.635842</td>\n",
       "      <td>0.820711</td>\n",
       "      <td>23.4</td>\n",
       "      <td>35.6</td>\n",
       "      <td>0.657063</td>\n",
       "      <td>151.0</td>\n",
       "      <td>583.8</td>\n",
       "      <td>0.258969</td>\n",
       "    </tr>\n",
       "    <tr>\n",
       "      <th>LogReg-p</th>\n",
       "      <td>0.770149</td>\n",
       "      <td>0.732412</td>\n",
       "      <td>0.470891</td>\n",
       "      <td>0.570208</td>\n",
       "      <td>0.826615</td>\n",
       "      <td>19.4</td>\n",
       "      <td>35.6</td>\n",
       "      <td>0.55034</td>\n",
       "      <td>94.6</td>\n",
       "      <td>583.8</td>\n",
       "      <td>0.162455</td>\n",
       "    </tr>\n",
       "    <tr>\n",
       "      <th>RuleBase</th>\n",
       "      <td>0.325373</td>\n",
       "      <td>0.325373</td>\n",
       "      <td>1.0</td>\n",
       "      <td>0.489178</td>\n",
       "      <td>0.5</td>\n",
       "      <td>21.0</td>\n",
       "      <td>35.6</td>\n",
       "      <td>0.587964</td>\n",
       "      <td>467.4</td>\n",
       "      <td>583.8</td>\n",
       "      <td>0.799954</td>\n",
       "    </tr>\n",
       "  </tbody>\n",
       "</table>\n",
       "</div>"
      ],
      "text/plain": [
       "           accuracy precision    recall        f1       auc n_violation  \\\n",
       "l-SVM      0.779104  0.711436  0.551175  0.618693  0.837805        31.2   \n",
       "r-SVM      0.780597   0.75907  0.479714  0.587201  0.838064        32.2   \n",
       "RogReg      0.78209  0.731143  0.530165  0.612464  0.840573        31.4   \n",
       "RuleFit-d  0.783582  0.742431  0.521271  0.610252  0.815699        28.8   \n",
       "RuleFit    0.732836  0.601979  0.553471  0.571908  0.795116        31.2   \n",
       "RF-d       0.741791  0.627843  0.557706  0.582608  0.772322        26.6   \n",
       "RF          0.78209  0.715158  0.568106   0.62746    0.8326        31.2   \n",
       "l-SVM-p    0.389552  0.361431   0.93173  0.504187   0.33561        23.2   \n",
       "r-SVM-p     0.71791  0.547749  0.761836  0.635842  0.820711        23.4   \n",
       "LogReg-p   0.770149  0.732412  0.470891  0.570208  0.826615        19.4   \n",
       "RuleBase   0.325373  0.325373       1.0  0.489178       0.5        21.0   \n",
       "\n",
       "          n_rule violation_rate n_violation (instance)  \\\n",
       "l-SVM       35.6       0.878345                  513.8   \n",
       "r-SVM       35.6       0.903858                  521.6   \n",
       "RogReg      35.6       0.883473                  516.4   \n",
       "RuleFit-d   35.6       0.801738                  510.4   \n",
       "RuleFit     35.6       0.878702                  512.2   \n",
       "RF-d        35.6       0.741115                  501.2   \n",
       "RF          35.6       0.877264                  516.0   \n",
       "l-SVM-p     35.6       0.652447                  412.8   \n",
       "r-SVM-p     35.6       0.657063                  151.0   \n",
       "LogReg-p    35.6        0.55034                   94.6   \n",
       "RuleBase    35.6       0.587964                  467.4   \n",
       "\n",
       "          n_evaluation (instance) violation_rate (instance)  \n",
       "l-SVM                       583.8                  0.879052  \n",
       "r-SVM                       583.8                  0.892684  \n",
       "RogReg                      583.8                  0.883681  \n",
       "RuleFit-d                   583.8                  0.872475  \n",
       "RuleFit                     583.8                   0.87665  \n",
       "RF-d                        583.8                  0.856557  \n",
       "RF                          583.8                  0.882925  \n",
       "l-SVM-p                     583.8                  0.693728  \n",
       "r-SVM-p                     583.8                  0.258969  \n",
       "LogReg-p                    583.8                  0.162455  \n",
       "RuleBase                    583.8                  0.799954  "
      ]
     },
     "metadata": {},
     "output_type": "display_data"
    },
    {
     "data": {
      "text/html": [
       "<div>\n",
       "<style scoped>\n",
       "    .dataframe tbody tr th:only-of-type {\n",
       "        vertical-align: middle;\n",
       "    }\n",
       "\n",
       "    .dataframe tbody tr th {\n",
       "        vertical-align: top;\n",
       "    }\n",
       "\n",
       "    .dataframe thead th {\n",
       "        text-align: right;\n",
       "    }\n",
       "</style>\n",
       "<table border=\"1\" class=\"dataframe\">\n",
       "  <thead>\n",
       "    <tr style=\"text-align: right;\">\n",
       "      <th></th>\n",
       "      <th>accuracy</th>\n",
       "      <th>precision</th>\n",
       "      <th>recall</th>\n",
       "      <th>f1</th>\n",
       "      <th>auc</th>\n",
       "      <th>n_violation</th>\n",
       "      <th>n_rule</th>\n",
       "      <th>violation_rate</th>\n",
       "      <th>n_violation (instance)</th>\n",
       "      <th>n_evaluation (instance)</th>\n",
       "      <th>violation_rate (instance)</th>\n",
       "    </tr>\n",
       "  </thead>\n",
       "  <tbody>\n",
       "    <tr>\n",
       "      <th>l-SVM</th>\n",
       "      <td>0.053711</td>\n",
       "      <td>0.048340</td>\n",
       "      <td>0.086460</td>\n",
       "      <td>0.061671</td>\n",
       "      <td>0.045376</td>\n",
       "      <td>3.271085</td>\n",
       "      <td>4.393177</td>\n",
       "      <td>0.030232</td>\n",
       "      <td>63.672600</td>\n",
       "      <td>63.566501</td>\n",
       "      <td>0.014256</td>\n",
       "    </tr>\n",
       "    <tr>\n",
       "      <th>r-SVM</th>\n",
       "      <td>0.046485</td>\n",
       "      <td>0.057760</td>\n",
       "      <td>0.048936</td>\n",
       "      <td>0.050200</td>\n",
       "      <td>0.048697</td>\n",
       "      <td>4.324350</td>\n",
       "      <td>4.393177</td>\n",
       "      <td>0.029686</td>\n",
       "      <td>62.320141</td>\n",
       "      <td>63.566501</td>\n",
       "      <td>0.010717</td>\n",
       "    </tr>\n",
       "    <tr>\n",
       "      <th>RogReg</th>\n",
       "      <td>0.045821</td>\n",
       "      <td>0.058217</td>\n",
       "      <td>0.063637</td>\n",
       "      <td>0.047569</td>\n",
       "      <td>0.047432</td>\n",
       "      <td>3.435113</td>\n",
       "      <td>4.393177</td>\n",
       "      <td>0.025154</td>\n",
       "      <td>62.712040</td>\n",
       "      <td>63.566501</td>\n",
       "      <td>0.011969</td>\n",
       "    </tr>\n",
       "    <tr>\n",
       "      <th>RuleFit-d</th>\n",
       "      <td>0.044776</td>\n",
       "      <td>0.048551</td>\n",
       "      <td>0.064326</td>\n",
       "      <td>0.044856</td>\n",
       "      <td>0.050857</td>\n",
       "      <td>6.058052</td>\n",
       "      <td>4.393177</td>\n",
       "      <td>0.089186</td>\n",
       "      <td>68.339593</td>\n",
       "      <td>63.566501</td>\n",
       "      <td>0.021341</td>\n",
       "    </tr>\n",
       "    <tr>\n",
       "      <th>RuleFit</th>\n",
       "      <td>0.040326</td>\n",
       "      <td>0.076503</td>\n",
       "      <td>0.064527</td>\n",
       "      <td>0.037194</td>\n",
       "      <td>0.032516</td>\n",
       "      <td>3.701351</td>\n",
       "      <td>4.393177</td>\n",
       "      <td>0.063186</td>\n",
       "      <td>61.054893</td>\n",
       "      <td>63.566501</td>\n",
       "      <td>0.011024</td>\n",
       "    </tr>\n",
       "    <tr>\n",
       "      <th>RF-d</th>\n",
       "      <td>0.049950</td>\n",
       "      <td>0.094845</td>\n",
       "      <td>0.077244</td>\n",
       "      <td>0.037668</td>\n",
       "      <td>0.049073</td>\n",
       "      <td>5.594640</td>\n",
       "      <td>4.393177</td>\n",
       "      <td>0.077494</td>\n",
       "      <td>68.754636</td>\n",
       "      <td>63.566501</td>\n",
       "      <td>0.024663</td>\n",
       "    </tr>\n",
       "    <tr>\n",
       "      <th>RF</th>\n",
       "      <td>0.037089</td>\n",
       "      <td>0.071703</td>\n",
       "      <td>0.076514</td>\n",
       "      <td>0.029962</td>\n",
       "      <td>0.039969</td>\n",
       "      <td>3.898718</td>\n",
       "      <td>4.393177</td>\n",
       "      <td>0.046222</td>\n",
       "      <td>63.863135</td>\n",
       "      <td>63.566501</td>\n",
       "      <td>0.016640</td>\n",
       "    </tr>\n",
       "    <tr>\n",
       "      <th>l-SVM-p</th>\n",
       "      <td>0.172483</td>\n",
       "      <td>0.110880</td>\n",
       "      <td>0.129725</td>\n",
       "      <td>0.081675</td>\n",
       "      <td>0.257960</td>\n",
       "      <td>3.768289</td>\n",
       "      <td>4.393177</td>\n",
       "      <td>0.071983</td>\n",
       "      <td>166.346626</td>\n",
       "      <td>63.566501</td>\n",
       "      <td>0.247300</td>\n",
       "    </tr>\n",
       "    <tr>\n",
       "      <th>r-SVM-p</th>\n",
       "      <td>0.050998</td>\n",
       "      <td>0.022689</td>\n",
       "      <td>0.097161</td>\n",
       "      <td>0.043228</td>\n",
       "      <td>0.046104</td>\n",
       "      <td>5.128353</td>\n",
       "      <td>4.393177</td>\n",
       "      <td>0.116543</td>\n",
       "      <td>26.786190</td>\n",
       "      <td>63.566501</td>\n",
       "      <td>0.038207</td>\n",
       "    </tr>\n",
       "    <tr>\n",
       "      <th>LogReg-p</th>\n",
       "      <td>0.047609</td>\n",
       "      <td>0.061147</td>\n",
       "      <td>0.071020</td>\n",
       "      <td>0.056079</td>\n",
       "      <td>0.050752</td>\n",
       "      <td>3.781534</td>\n",
       "      <td>4.393177</td>\n",
       "      <td>0.115921</td>\n",
       "      <td>23.786551</td>\n",
       "      <td>63.566501</td>\n",
       "      <td>0.037951</td>\n",
       "    </tr>\n",
       "    <tr>\n",
       "      <th>RuleBase</th>\n",
       "      <td>0.050228</td>\n",
       "      <td>0.050228</td>\n",
       "      <td>0.000000</td>\n",
       "      <td>0.059803</td>\n",
       "      <td>0.000000</td>\n",
       "      <td>3.391165</td>\n",
       "      <td>4.393177</td>\n",
       "      <td>0.037669</td>\n",
       "      <td>60.421850</td>\n",
       "      <td>63.566501</td>\n",
       "      <td>0.034524</td>\n",
       "    </tr>\n",
       "  </tbody>\n",
       "</table>\n",
       "</div>"
      ],
      "text/plain": [
       "           accuracy  precision    recall        f1       auc  n_violation  \\\n",
       "l-SVM      0.053711   0.048340  0.086460  0.061671  0.045376     3.271085   \n",
       "r-SVM      0.046485   0.057760  0.048936  0.050200  0.048697     4.324350   \n",
       "RogReg     0.045821   0.058217  0.063637  0.047569  0.047432     3.435113   \n",
       "RuleFit-d  0.044776   0.048551  0.064326  0.044856  0.050857     6.058052   \n",
       "RuleFit    0.040326   0.076503  0.064527  0.037194  0.032516     3.701351   \n",
       "RF-d       0.049950   0.094845  0.077244  0.037668  0.049073     5.594640   \n",
       "RF         0.037089   0.071703  0.076514  0.029962  0.039969     3.898718   \n",
       "l-SVM-p    0.172483   0.110880  0.129725  0.081675  0.257960     3.768289   \n",
       "r-SVM-p    0.050998   0.022689  0.097161  0.043228  0.046104     5.128353   \n",
       "LogReg-p   0.047609   0.061147  0.071020  0.056079  0.050752     3.781534   \n",
       "RuleBase   0.050228   0.050228  0.000000  0.059803  0.000000     3.391165   \n",
       "\n",
       "             n_rule  violation_rate  n_violation (instance)  \\\n",
       "l-SVM      4.393177        0.030232               63.672600   \n",
       "r-SVM      4.393177        0.029686               62.320141   \n",
       "RogReg     4.393177        0.025154               62.712040   \n",
       "RuleFit-d  4.393177        0.089186               68.339593   \n",
       "RuleFit    4.393177        0.063186               61.054893   \n",
       "RF-d       4.393177        0.077494               68.754636   \n",
       "RF         4.393177        0.046222               63.863135   \n",
       "l-SVM-p    4.393177        0.071983              166.346626   \n",
       "r-SVM-p    4.393177        0.116543               26.786190   \n",
       "LogReg-p   4.393177        0.115921               23.786551   \n",
       "RuleBase   4.393177        0.037669               60.421850   \n",
       "\n",
       "           n_evaluation (instance)  violation_rate (instance)  \n",
       "l-SVM                    63.566501                   0.014256  \n",
       "r-SVM                    63.566501                   0.010717  \n",
       "RogReg                   63.566501                   0.011969  \n",
       "RuleFit-d                63.566501                   0.021341  \n",
       "RuleFit                  63.566501                   0.011024  \n",
       "RF-d                     63.566501                   0.024663  \n",
       "RF                       63.566501                   0.016640  \n",
       "l-SVM-p                  63.566501                   0.247300  \n",
       "r-SVM-p                  63.566501                   0.038207  \n",
       "LogReg-p                 63.566501                   0.037951  \n",
       "RuleBase                 63.566501                   0.034524  "
      ]
     },
     "metadata": {},
     "output_type": "display_data"
    },
    {
     "data": {
      "text/html": [
       "<div>\n",
       "<style scoped>\n",
       "    .dataframe tbody tr th:only-of-type {\n",
       "        vertical-align: middle;\n",
       "    }\n",
       "\n",
       "    .dataframe tbody tr th {\n",
       "        vertical-align: top;\n",
       "    }\n",
       "\n",
       "    .dataframe thead th {\n",
       "        text-align: right;\n",
       "    }\n",
       "</style>\n",
       "<table border=\"1\" class=\"dataframe\">\n",
       "  <thead>\n",
       "    <tr style=\"text-align: right;\">\n",
       "      <th></th>\n",
       "      <th>accuracy</th>\n",
       "      <th>precision</th>\n",
       "      <th>recall</th>\n",
       "      <th>f1</th>\n",
       "      <th>auc</th>\n",
       "      <th>n_violation</th>\n",
       "      <th>n_rule</th>\n",
       "      <th>violation_rate</th>\n",
       "      <th>n_violation (instance)</th>\n",
       "      <th>n_evaluation (instance)</th>\n",
       "      <th>violation_rate (instance)</th>\n",
       "      <th>compliance_rate</th>\n",
       "      <th>compliance_rate (instance)</th>\n",
       "    </tr>\n",
       "  </thead>\n",
       "  <tbody>\n",
       "    <tr>\n",
       "      <th>l-SVM</th>\n",
       "      <td>0.779 ± 0.05</td>\n",
       "      <td>0.711 ± 0.05</td>\n",
       "      <td>0.551 ± 0.09</td>\n",
       "      <td>0.619 ± 0.06</td>\n",
       "      <td>0.838 ± 0.05</td>\n",
       "      <td>31.2 ± 3.27</td>\n",
       "      <td>35.6 ± 4.39</td>\n",
       "      <td>0.878 ± 0.03</td>\n",
       "      <td>513.8 ± 63.67</td>\n",
       "      <td>583.8 ± 63.57</td>\n",
       "      <td>0.879 ± 0.01</td>\n",
       "      <td>0.122 ± 0.03</td>\n",
       "      <td>0.121 ± 0.01</td>\n",
       "    </tr>\n",
       "    <tr>\n",
       "      <th>r-SVM</th>\n",
       "      <td>0.781 ± 0.05</td>\n",
       "      <td>0.759 ± 0.06</td>\n",
       "      <td>0.48 ± 0.05</td>\n",
       "      <td>0.587 ± 0.05</td>\n",
       "      <td>0.838 ± 0.05</td>\n",
       "      <td>32.2 ± 4.32</td>\n",
       "      <td>35.6 ± 4.39</td>\n",
       "      <td>0.904 ± 0.03</td>\n",
       "      <td>521.6 ± 62.32</td>\n",
       "      <td>583.8 ± 63.57</td>\n",
       "      <td>0.893 ± 0.01</td>\n",
       "      <td>0.096 ± 0.03</td>\n",
       "      <td>0.107 ± 0.01</td>\n",
       "    </tr>\n",
       "    <tr>\n",
       "      <th>RogReg</th>\n",
       "      <td>0.782 ± 0.05</td>\n",
       "      <td>0.731 ± 0.06</td>\n",
       "      <td>0.53 ± 0.06</td>\n",
       "      <td>0.612 ± 0.05</td>\n",
       "      <td>0.841 ± 0.05</td>\n",
       "      <td>31.4 ± 3.44</td>\n",
       "      <td>35.6 ± 4.39</td>\n",
       "      <td>0.883 ± 0.03</td>\n",
       "      <td>516.4 ± 62.71</td>\n",
       "      <td>583.8 ± 63.57</td>\n",
       "      <td>0.884 ± 0.01</td>\n",
       "      <td>0.117 ± 0.03</td>\n",
       "      <td>0.116 ± 0.01</td>\n",
       "    </tr>\n",
       "    <tr>\n",
       "      <th>RuleFit-d</th>\n",
       "      <td>0.784 ± 0.04</td>\n",
       "      <td>0.742 ± 0.05</td>\n",
       "      <td>0.521 ± 0.06</td>\n",
       "      <td>0.61 ± 0.04</td>\n",
       "      <td>0.816 ± 0.05</td>\n",
       "      <td>28.8 ± 6.06</td>\n",
       "      <td>35.6 ± 4.39</td>\n",
       "      <td>0.802 ± 0.09</td>\n",
       "      <td>510.4 ± 68.34</td>\n",
       "      <td>583.8 ± 63.57</td>\n",
       "      <td>0.872 ± 0.02</td>\n",
       "      <td>0.198 ± 0.09</td>\n",
       "      <td>0.128 ± 0.02</td>\n",
       "    </tr>\n",
       "    <tr>\n",
       "      <th>RuleFit</th>\n",
       "      <td>0.733 ± 0.04</td>\n",
       "      <td>0.602 ± 0.08</td>\n",
       "      <td>0.553 ± 0.06</td>\n",
       "      <td>0.572 ± 0.04</td>\n",
       "      <td>0.795 ± 0.03</td>\n",
       "      <td>31.2 ± 3.7</td>\n",
       "      <td>35.6 ± 4.39</td>\n",
       "      <td>0.879 ± 0.06</td>\n",
       "      <td>512.2 ± 61.05</td>\n",
       "      <td>583.8 ± 63.57</td>\n",
       "      <td>0.877 ± 0.01</td>\n",
       "      <td>0.121 ± 0.06</td>\n",
       "      <td>0.123 ± 0.01</td>\n",
       "    </tr>\n",
       "    <tr>\n",
       "      <th>RF-d</th>\n",
       "      <td>0.742 ± 0.05</td>\n",
       "      <td>0.628 ± 0.09</td>\n",
       "      <td>0.558 ± 0.08</td>\n",
       "      <td>0.583 ± 0.04</td>\n",
       "      <td>0.772 ± 0.05</td>\n",
       "      <td>26.6 ± 5.59</td>\n",
       "      <td>35.6 ± 4.39</td>\n",
       "      <td>0.741 ± 0.08</td>\n",
       "      <td>501.2 ± 68.75</td>\n",
       "      <td>583.8 ± 63.57</td>\n",
       "      <td>0.857 ± 0.02</td>\n",
       "      <td>0.259 ± 0.08</td>\n",
       "      <td>0.143 ± 0.02</td>\n",
       "    </tr>\n",
       "    <tr>\n",
       "      <th>RF</th>\n",
       "      <td>0.782 ± 0.04</td>\n",
       "      <td>0.715 ± 0.07</td>\n",
       "      <td>0.568 ± 0.08</td>\n",
       "      <td>0.627 ± 0.03</td>\n",
       "      <td>0.833 ± 0.04</td>\n",
       "      <td>31.2 ± 3.9</td>\n",
       "      <td>35.6 ± 4.39</td>\n",
       "      <td>0.877 ± 0.05</td>\n",
       "      <td>516.0 ± 63.86</td>\n",
       "      <td>583.8 ± 63.57</td>\n",
       "      <td>0.883 ± 0.02</td>\n",
       "      <td>0.123 ± 0.05</td>\n",
       "      <td>0.117 ± 0.02</td>\n",
       "    </tr>\n",
       "    <tr>\n",
       "      <th>l-SVM-p</th>\n",
       "      <td>0.39 ± 0.17</td>\n",
       "      <td>0.361 ± 0.11</td>\n",
       "      <td>0.932 ± 0.13</td>\n",
       "      <td>0.504 ± 0.08</td>\n",
       "      <td>0.336 ± 0.26</td>\n",
       "      <td>23.2 ± 3.77</td>\n",
       "      <td>35.6 ± 4.39</td>\n",
       "      <td>0.652 ± 0.07</td>\n",
       "      <td>412.8 ± 166.35</td>\n",
       "      <td>583.8 ± 63.57</td>\n",
       "      <td>0.694 ± 0.25</td>\n",
       "      <td>0.348 ± 0.07</td>\n",
       "      <td>0.306 ± 0.25</td>\n",
       "    </tr>\n",
       "    <tr>\n",
       "      <th>r-SVM-p</th>\n",
       "      <td>0.718 ± 0.05</td>\n",
       "      <td>0.548 ± 0.02</td>\n",
       "      <td>0.762 ± 0.1</td>\n",
       "      <td>0.636 ± 0.04</td>\n",
       "      <td>0.821 ± 0.05</td>\n",
       "      <td>23.4 ± 5.13</td>\n",
       "      <td>35.6 ± 4.39</td>\n",
       "      <td>0.657 ± 0.12</td>\n",
       "      <td>151.0 ± 26.79</td>\n",
       "      <td>583.8 ± 63.57</td>\n",
       "      <td>0.259 ± 0.04</td>\n",
       "      <td>0.343 ± 0.12</td>\n",
       "      <td>0.741 ± 0.04</td>\n",
       "    </tr>\n",
       "    <tr>\n",
       "      <th>LogReg-p</th>\n",
       "      <td>0.77 ± 0.05</td>\n",
       "      <td>0.732 ± 0.06</td>\n",
       "      <td>0.471 ± 0.07</td>\n",
       "      <td>0.57 ± 0.06</td>\n",
       "      <td>0.827 ± 0.05</td>\n",
       "      <td>19.4 ± 3.78</td>\n",
       "      <td>35.6 ± 4.39</td>\n",
       "      <td>0.55 ± 0.12</td>\n",
       "      <td>94.6 ± 23.79</td>\n",
       "      <td>583.8 ± 63.57</td>\n",
       "      <td>0.162 ± 0.04</td>\n",
       "      <td>0.45 ± 0.12</td>\n",
       "      <td>0.838 ± 0.04</td>\n",
       "    </tr>\n",
       "    <tr>\n",
       "      <th>RuleBase</th>\n",
       "      <td>0.325 ± 0.05</td>\n",
       "      <td>0.325 ± 0.05</td>\n",
       "      <td>1.0 ± 0.0</td>\n",
       "      <td>0.489 ± 0.06</td>\n",
       "      <td>0.5 ± 0.0</td>\n",
       "      <td>21.0 ± 3.39</td>\n",
       "      <td>35.6 ± 4.39</td>\n",
       "      <td>0.588 ± 0.04</td>\n",
       "      <td>467.4 ± 60.42</td>\n",
       "      <td>583.8 ± 63.57</td>\n",
       "      <td>0.8 ± 0.03</td>\n",
       "      <td>0.412 ± 0.04</td>\n",
       "      <td>0.2 ± 0.03</td>\n",
       "    </tr>\n",
       "  </tbody>\n",
       "</table>\n",
       "</div>"
      ],
      "text/plain": [
       "               accuracy     precision        recall            f1  \\\n",
       "l-SVM      0.779 ± 0.05  0.711 ± 0.05  0.551 ± 0.09  0.619 ± 0.06   \n",
       "r-SVM      0.781 ± 0.05  0.759 ± 0.06   0.48 ± 0.05  0.587 ± 0.05   \n",
       "RogReg     0.782 ± 0.05  0.731 ± 0.06   0.53 ± 0.06  0.612 ± 0.05   \n",
       "RuleFit-d  0.784 ± 0.04  0.742 ± 0.05  0.521 ± 0.06   0.61 ± 0.04   \n",
       "RuleFit    0.733 ± 0.04  0.602 ± 0.08  0.553 ± 0.06  0.572 ± 0.04   \n",
       "RF-d       0.742 ± 0.05  0.628 ± 0.09  0.558 ± 0.08  0.583 ± 0.04   \n",
       "RF         0.782 ± 0.04  0.715 ± 0.07  0.568 ± 0.08  0.627 ± 0.03   \n",
       "l-SVM-p     0.39 ± 0.17  0.361 ± 0.11  0.932 ± 0.13  0.504 ± 0.08   \n",
       "r-SVM-p    0.718 ± 0.05  0.548 ± 0.02   0.762 ± 0.1  0.636 ± 0.04   \n",
       "LogReg-p    0.77 ± 0.05  0.732 ± 0.06  0.471 ± 0.07   0.57 ± 0.06   \n",
       "RuleBase   0.325 ± 0.05  0.325 ± 0.05     1.0 ± 0.0  0.489 ± 0.06   \n",
       "\n",
       "                    auc  n_violation       n_rule violation_rate  \\\n",
       "l-SVM      0.838 ± 0.05  31.2 ± 3.27  35.6 ± 4.39   0.878 ± 0.03   \n",
       "r-SVM      0.838 ± 0.05  32.2 ± 4.32  35.6 ± 4.39   0.904 ± 0.03   \n",
       "RogReg     0.841 ± 0.05  31.4 ± 3.44  35.6 ± 4.39   0.883 ± 0.03   \n",
       "RuleFit-d  0.816 ± 0.05  28.8 ± 6.06  35.6 ± 4.39   0.802 ± 0.09   \n",
       "RuleFit    0.795 ± 0.03   31.2 ± 3.7  35.6 ± 4.39   0.879 ± 0.06   \n",
       "RF-d       0.772 ± 0.05  26.6 ± 5.59  35.6 ± 4.39   0.741 ± 0.08   \n",
       "RF         0.833 ± 0.04   31.2 ± 3.9  35.6 ± 4.39   0.877 ± 0.05   \n",
       "l-SVM-p    0.336 ± 0.26  23.2 ± 3.77  35.6 ± 4.39   0.652 ± 0.07   \n",
       "r-SVM-p    0.821 ± 0.05  23.4 ± 5.13  35.6 ± 4.39   0.657 ± 0.12   \n",
       "LogReg-p   0.827 ± 0.05  19.4 ± 3.78  35.6 ± 4.39    0.55 ± 0.12   \n",
       "RuleBase      0.5 ± 0.0  21.0 ± 3.39  35.6 ± 4.39   0.588 ± 0.04   \n",
       "\n",
       "          n_violation (instance) n_evaluation (instance)  \\\n",
       "l-SVM              513.8 ± 63.67           583.8 ± 63.57   \n",
       "r-SVM              521.6 ± 62.32           583.8 ± 63.57   \n",
       "RogReg             516.4 ± 62.71           583.8 ± 63.57   \n",
       "RuleFit-d          510.4 ± 68.34           583.8 ± 63.57   \n",
       "RuleFit            512.2 ± 61.05           583.8 ± 63.57   \n",
       "RF-d               501.2 ± 68.75           583.8 ± 63.57   \n",
       "RF                 516.0 ± 63.86           583.8 ± 63.57   \n",
       "l-SVM-p           412.8 ± 166.35           583.8 ± 63.57   \n",
       "r-SVM-p            151.0 ± 26.79           583.8 ± 63.57   \n",
       "LogReg-p            94.6 ± 23.79           583.8 ± 63.57   \n",
       "RuleBase           467.4 ± 60.42           583.8 ± 63.57   \n",
       "\n",
       "          violation_rate (instance) compliance_rate compliance_rate (instance)  \n",
       "l-SVM                  0.879 ± 0.01    0.122 ± 0.03               0.121 ± 0.01  \n",
       "r-SVM                  0.893 ± 0.01    0.096 ± 0.03               0.107 ± 0.01  \n",
       "RogReg                 0.884 ± 0.01    0.117 ± 0.03               0.116 ± 0.01  \n",
       "RuleFit-d              0.872 ± 0.02    0.198 ± 0.09               0.128 ± 0.02  \n",
       "RuleFit                0.877 ± 0.01    0.121 ± 0.06               0.123 ± 0.01  \n",
       "RF-d                   0.857 ± 0.02    0.259 ± 0.08               0.143 ± 0.02  \n",
       "RF                     0.883 ± 0.02    0.123 ± 0.05               0.117 ± 0.02  \n",
       "l-SVM-p                0.694 ± 0.25    0.348 ± 0.07               0.306 ± 0.25  \n",
       "r-SVM-p                0.259 ± 0.04    0.343 ± 0.12               0.741 ± 0.04  \n",
       "LogReg-p               0.162 ± 0.04     0.45 ± 0.12               0.838 ± 0.04  \n",
       "RuleBase                 0.8 ± 0.03    0.412 ± 0.04                 0.2 ± 0.03  "
      ]
     },
     "metadata": {},
     "output_type": "display_data"
    }
   ],
   "source": [
    "import json\n",
    "import os\n",
    "\n",
    "import sys\n",
    "project_dir_path = \"/Users/keisukeonoue/ws/lukasiewicz_2\"\n",
    "sys.path.append(project_dir_path)\n",
    "\n",
    "import pandas as pd\n",
    "import numpy as np\n",
    "\n",
    "version_nums = [201]\n",
    "\n",
    "# リスト内包表記を使用して複数のファイルパスを生成する\n",
    "result_file_paths = [\n",
    "    os.path.join(project_dir_path, f\"experiment_result/tmp/version_{version_num}/result.json\")\n",
    "    for version_num in version_nums\n",
    "]\n",
    "\n",
    "\n",
    "result_dfs = []\n",
    "infos = []\n",
    "\n",
    "for path in result_file_paths:\n",
    "    with open(path, 'r') as f:\n",
    "        json_data = json.load(f)\n",
    "    \n",
    "    infos.append(json_data['rule_thr'])\n",
    "    \n",
    "    tmp = []\n",
    "\n",
    "    for fold, _ in json_data['result'].items():\n",
    "        result_df = pd.DataFrame(json_data['result'][fold]).T.drop(['violation_detail'], axis=1)\n",
    "        tmp.append(result_df)\n",
    "\n",
    "    result_dfs.append(tmp)\n",
    "\n",
    "model_name_dict = {\n",
    "    'linear svm': 'l-SVM', \n",
    "    'non-linear svm': 'r-SVM', \n",
    "    'logistic regression': 'RogReg', \n",
    "    'RuleFit Classifier (disc)': 'RuleFit-d', \n",
    "    'RuleFit Classifier (conti)': 'RuleFit', \n",
    "    'tree generator (disc)': 'RF-d', \n",
    "    'tree generator (conti)': 'RF', \n",
    "    'linear svm (L)': 'l-SVM-p', \n",
    "    'non-linear svm (L)': 'r-SVM-p', \n",
    "    'logistic regression (L)': 'LogReg-p', \n",
    "    'rule_based_prediction': 'RuleBase'\n",
    "}\n",
    "\n",
    "model_name_list = list(model_name_dict.keys())\n",
    "\n",
    "combined_dfs = [pd.concat(dfs, ignore_index=False) for dfs in result_dfs]\n",
    "dfs_mean = [combined_df.groupby(combined_df.index).mean().reindex(index=model_name_list) for combined_df in combined_dfs]\n",
    "dfs_std = [combined_df.groupby(combined_df.index).std().reindex(index=model_name_list) for combined_df in combined_dfs]\n",
    "\n",
    "dfs_mean = [df.set_index(pd.Index(model_name_dict.values())) for df in dfs_mean]\n",
    "dfs_std = [df.set_index(pd.Index(model_name_dict.values())) for df in dfs_std]\n",
    "\n",
    "\n",
    "for df in dfs_mean:\n",
    "    display(df)\n",
    "\n",
    "for df in dfs_std:\n",
    "    display(df)\n",
    "\n",
    "\n",
    "df_mean = dfs_mean[0]\n",
    "df_std = dfs_std[0]\n",
    "result_df = df_mean.astype(float).round(3).astype(str) + ' ± ' + df_std.astype(float).round(2).astype(str)\n",
    "result_df['compliance_rate'] = (1 - df_mean['violation_rate']).astype(float).round(3).astype(str) + ' ± ' + df_std['violation_rate'].astype(float).round(2).astype(str)\n",
    "result_df['compliance_rate (instance)'] = (1 - df_mean['violation_rate (instance)']).astype(float).round(3).astype(str) + ' ± ' + df_std['violation_rate (instance)'].astype(float).round(2).astype(str)\n",
    "display(result_df)"
   ]
  },
  {
   "cell_type": "code",
   "execution_count": 14,
   "metadata": {},
   "outputs": [
    {
     "data": {
      "text/html": [
       "<div>\n",
       "<style scoped>\n",
       "    .dataframe tbody tr th:only-of-type {\n",
       "        vertical-align: middle;\n",
       "    }\n",
       "\n",
       "    .dataframe tbody tr th {\n",
       "        vertical-align: top;\n",
       "    }\n",
       "\n",
       "    .dataframe thead th {\n",
       "        text-align: right;\n",
       "    }\n",
       "</style>\n",
       "<table border=\"1\" class=\"dataframe\">\n",
       "  <thead>\n",
       "    <tr style=\"text-align: right;\">\n",
       "      <th></th>\n",
       "      <th>ROCAUC</th>\n",
       "      <th>充足率（制約単位）</th>\n",
       "      <th>充足率（インスタンス単位）</th>\n",
       "    </tr>\n",
       "  </thead>\n",
       "  <tbody>\n",
       "    <tr>\n",
       "      <th>l-SVM</th>\n",
       "      <td>0.837805</td>\n",
       "      <td>0.121655</td>\n",
       "      <td>0.120948</td>\n",
       "    </tr>\n",
       "    <tr>\n",
       "      <th>r-SVM</th>\n",
       "      <td>0.838064</td>\n",
       "      <td>0.096142</td>\n",
       "      <td>0.107316</td>\n",
       "    </tr>\n",
       "    <tr>\n",
       "      <th>RogReg</th>\n",
       "      <td>0.840573</td>\n",
       "      <td>0.116527</td>\n",
       "      <td>0.116319</td>\n",
       "    </tr>\n",
       "    <tr>\n",
       "      <th>RuleFit</th>\n",
       "      <td>0.795116</td>\n",
       "      <td>0.121298</td>\n",
       "      <td>0.12335</td>\n",
       "    </tr>\n",
       "    <tr>\n",
       "      <th>RF</th>\n",
       "      <td>0.8326</td>\n",
       "      <td>0.122736</td>\n",
       "      <td>0.117075</td>\n",
       "    </tr>\n",
       "    <tr>\n",
       "      <th>RuleFit-d</th>\n",
       "      <td>0.815699</td>\n",
       "      <td>0.198262</td>\n",
       "      <td>0.127525</td>\n",
       "    </tr>\n",
       "    <tr>\n",
       "      <th>RF-d</th>\n",
       "      <td>0.772322</td>\n",
       "      <td>0.258885</td>\n",
       "      <td>0.143443</td>\n",
       "    </tr>\n",
       "    <tr>\n",
       "      <th>l-SVM-p</th>\n",
       "      <td>0.33561</td>\n",
       "      <td>0.347553</td>\n",
       "      <td>0.306272</td>\n",
       "    </tr>\n",
       "    <tr>\n",
       "      <th>r-SVM-p</th>\n",
       "      <td>0.820711</td>\n",
       "      <td>0.342937</td>\n",
       "      <td>0.741031</td>\n",
       "    </tr>\n",
       "    <tr>\n",
       "      <th>LogReg-p</th>\n",
       "      <td>0.826615</td>\n",
       "      <td>0.44966</td>\n",
       "      <td>0.837545</td>\n",
       "    </tr>\n",
       "    <tr>\n",
       "      <th>RuleBase</th>\n",
       "      <td>0.5</td>\n",
       "      <td>0.412036</td>\n",
       "      <td>0.200046</td>\n",
       "    </tr>\n",
       "  </tbody>\n",
       "</table>\n",
       "</div>"
      ],
      "text/plain": [
       "             ROCAUC 充足率（制約単位） 充足率（インスタンス単位）\n",
       "l-SVM      0.837805  0.121655      0.120948\n",
       "r-SVM      0.838064  0.096142      0.107316\n",
       "RogReg     0.840573  0.116527      0.116319\n",
       "RuleFit    0.795116  0.121298       0.12335\n",
       "RF           0.8326  0.122736      0.117075\n",
       "RuleFit-d  0.815699  0.198262      0.127525\n",
       "RF-d       0.772322  0.258885      0.143443\n",
       "l-SVM-p     0.33561  0.347553      0.306272\n",
       "r-SVM-p    0.820711  0.342937      0.741031\n",
       "LogReg-p   0.826615   0.44966      0.837545\n",
       "RuleBase        0.5  0.412036      0.200046"
      ]
     },
     "execution_count": 14,
     "metadata": {},
     "output_type": "execute_result"
    }
   ],
   "source": [
    "target_column_list = ['ROCAUC', '充足率（制約単位）', '充足率（インスタンス単位）']\n",
    "target_index_list = ['l-SVM', 'r-SVM', 'RogReg', 'RuleFit', 'RF', 'RuleFit-d', 'RF-d', 'l-SVM-p', 'r-SVM-p', 'LogReg-p', 'RuleBase']\n",
    "\n",
    "df_1 = df_mean.copy()\n",
    "df_1['ROCAUC'] = df_1['auc']\n",
    "df_1['充足率（制約単位）'] = 1 - df_1['violation_rate']\n",
    "df_1['充足率（インスタンス単位）'] = 1 - df_1['violation_rate (instance)']\n",
    "df_1 = df_1[target_column_list]\n",
    "df_1 = df_1.T[target_index_list].T\n",
    "df_1"
   ]
  },
  {
   "cell_type": "code",
   "execution_count": 16,
   "metadata": {},
   "outputs": [
    {
     "name": "stdout",
     "output_type": "stream",
     "text": [
      "             ROCAUC 充足率（制約単位） 充足率（インスタンス単位）\n",
      "l-SVM      0.837805  0.121655      0.120948\n",
      "r-SVM      0.838064  0.096142      0.107316\n",
      "RogReg     0.840573  0.116527      0.116319\n",
      "RuleFit    0.795116  0.121298       0.12335\n",
      "RF           0.8326  0.122736      0.117075\n",
      "RuleFit-d  0.815699  0.198262      0.127525\n",
      "RF-d       0.772322  0.258885      0.143443\n",
      "l-SVM-p     0.33561  0.347553      0.306272\n",
      "r-SVM-p    0.820711  0.342937      0.741031\n",
      "LogReg-p   0.826615   0.44966      0.837545\n",
      "RuleBase        0.5  0.412036      0.200046\n"
     ]
    }
   ],
   "source": [
    "print(df_1)"
   ]
  },
  {
   "cell_type": "code",
   "execution_count": 15,
   "metadata": {},
   "outputs": [
    {
     "data": {
      "text/html": [
       "<div>\n",
       "<style scoped>\n",
       "    .dataframe tbody tr th:only-of-type {\n",
       "        vertical-align: middle;\n",
       "    }\n",
       "\n",
       "    .dataframe tbody tr th {\n",
       "        vertical-align: top;\n",
       "    }\n",
       "\n",
       "    .dataframe thead th {\n",
       "        text-align: right;\n",
       "    }\n",
       "</style>\n",
       "<table border=\"1\" class=\"dataframe\">\n",
       "  <thead>\n",
       "    <tr style=\"text-align: right;\">\n",
       "      <th></th>\n",
       "      <th>ROCAUC</th>\n",
       "      <th>充足率（制約単位）</th>\n",
       "      <th>充足率（インスタンス単位）</th>\n",
       "    </tr>\n",
       "  </thead>\n",
       "  <tbody>\n",
       "    <tr>\n",
       "      <th>l-SVM</th>\n",
       "      <td>0.045376</td>\n",
       "      <td>0.030232</td>\n",
       "      <td>0.014256</td>\n",
       "    </tr>\n",
       "    <tr>\n",
       "      <th>r-SVM</th>\n",
       "      <td>0.048697</td>\n",
       "      <td>0.029686</td>\n",
       "      <td>0.010717</td>\n",
       "    </tr>\n",
       "    <tr>\n",
       "      <th>RogReg</th>\n",
       "      <td>0.047432</td>\n",
       "      <td>0.025154</td>\n",
       "      <td>0.011969</td>\n",
       "    </tr>\n",
       "    <tr>\n",
       "      <th>RuleFit</th>\n",
       "      <td>0.032516</td>\n",
       "      <td>0.063186</td>\n",
       "      <td>0.011024</td>\n",
       "    </tr>\n",
       "    <tr>\n",
       "      <th>RF</th>\n",
       "      <td>0.039969</td>\n",
       "      <td>0.046222</td>\n",
       "      <td>0.016640</td>\n",
       "    </tr>\n",
       "    <tr>\n",
       "      <th>RuleFit-d</th>\n",
       "      <td>0.050857</td>\n",
       "      <td>0.089186</td>\n",
       "      <td>0.021341</td>\n",
       "    </tr>\n",
       "    <tr>\n",
       "      <th>RF-d</th>\n",
       "      <td>0.049073</td>\n",
       "      <td>0.077494</td>\n",
       "      <td>0.024663</td>\n",
       "    </tr>\n",
       "    <tr>\n",
       "      <th>l-SVM-p</th>\n",
       "      <td>0.257960</td>\n",
       "      <td>0.071983</td>\n",
       "      <td>0.247300</td>\n",
       "    </tr>\n",
       "    <tr>\n",
       "      <th>r-SVM-p</th>\n",
       "      <td>0.046104</td>\n",
       "      <td>0.116543</td>\n",
       "      <td>0.038207</td>\n",
       "    </tr>\n",
       "    <tr>\n",
       "      <th>LogReg-p</th>\n",
       "      <td>0.050752</td>\n",
       "      <td>0.115921</td>\n",
       "      <td>0.037951</td>\n",
       "    </tr>\n",
       "    <tr>\n",
       "      <th>RuleBase</th>\n",
       "      <td>0.000000</td>\n",
       "      <td>0.037669</td>\n",
       "      <td>0.034524</td>\n",
       "    </tr>\n",
       "  </tbody>\n",
       "</table>\n",
       "</div>"
      ],
      "text/plain": [
       "             ROCAUC  充足率（制約単位）  充足率（インスタンス単位）\n",
       "l-SVM      0.045376   0.030232       0.014256\n",
       "r-SVM      0.048697   0.029686       0.010717\n",
       "RogReg     0.047432   0.025154       0.011969\n",
       "RuleFit    0.032516   0.063186       0.011024\n",
       "RF         0.039969   0.046222       0.016640\n",
       "RuleFit-d  0.050857   0.089186       0.021341\n",
       "RF-d       0.049073   0.077494       0.024663\n",
       "l-SVM-p    0.257960   0.071983       0.247300\n",
       "r-SVM-p    0.046104   0.116543       0.038207\n",
       "LogReg-p   0.050752   0.115921       0.037951\n",
       "RuleBase   0.000000   0.037669       0.034524"
      ]
     },
     "execution_count": 15,
     "metadata": {},
     "output_type": "execute_result"
    }
   ],
   "source": [
    "target_column_list = ['ROCAUC', '充足率（制約単位）', '充足率（インスタンス単位）']\n",
    "target_index_list = ['l-SVM', 'r-SVM', 'RogReg', 'RuleFit', 'RF', 'RuleFit-d', 'RF-d', 'l-SVM-p', 'r-SVM-p', 'LogReg-p', 'RuleBase']\n",
    "\n",
    "df_2 = df_std.copy()\n",
    "df_2['ROCAUC'] = df_2['auc']\n",
    "df_2['充足率（制約単位）'] = df_2['violation_rate']\n",
    "df_2['充足率（インスタンス単位）'] = df_2['violation_rate (instance)']\n",
    "df_2 = df_2[target_column_list]\n",
    "df_2 = df_2.T[target_index_list].T\n",
    "df_2"
   ]
  },
  {
   "cell_type": "code",
   "execution_count": null,
   "metadata": {},
   "outputs": [],
   "source": [
    "import pandas as pd \n",
    "import plotly.graph_objects as go\n",
    "\n"
   ]
  },
  {
   "cell_type": "code",
   "execution_count": null,
   "metadata": {},
   "outputs": [],
   "source": []
  },
  {
   "cell_type": "code",
   "execution_count": 19,
   "metadata": {},
   "outputs": [
    {
     "data": {
      "application/vnd.plotly.v1+json": {
       "config": {
        "plotlyServerURL": "https://plot.ly"
       },
       "data": [
        {
         "error_y": {
          "array": [
           0.045376,
           0.030232,
           0.014256
          ],
          "type": "data"
         },
         "name": "l-SVM",
         "type": "bar",
         "x": [
          "ROCAUC",
          "充足率（制約単位）",
          "充足率（インスタンス単位）"
         ],
         "y": [
          0.837805,
          0.121655,
          0.120948
         ]
        },
        {
         "error_y": {
          "array": [
           0.048697,
           0.029686,
           0.010717
          ],
          "type": "data"
         },
         "name": "r-SVM",
         "type": "bar",
         "x": [
          "ROCAUC",
          "充足率（制約単位）",
          "充足率（インスタンス単位）"
         ],
         "y": [
          0.838064,
          0.096142,
          0.107316
         ]
        },
        {
         "error_y": {
          "array": [
           0.047432,
           0.025154,
           0.011969
          ],
          "type": "data"
         },
         "name": "RogReg",
         "type": "bar",
         "x": [
          "ROCAUC",
          "充足率（制約単位）",
          "充足率（インスタンス単位）"
         ],
         "y": [
          0.840573,
          0.116527,
          0.116319
         ]
        },
        {
         "error_y": {
          "array": [
           0.032516,
           0.063186,
           0.011024
          ],
          "type": "data"
         },
         "name": "RuleFit",
         "type": "bar",
         "x": [
          "ROCAUC",
          "充足率（制約単位）",
          "充足率（インスタンス単位）"
         ],
         "y": [
          0.795116,
          0.121298,
          0.12335
         ]
        },
        {
         "error_y": {
          "array": [
           0.039969,
           0.046222,
           0.01664
          ],
          "type": "data"
         },
         "name": "RF",
         "type": "bar",
         "x": [
          "ROCAUC",
          "充足率（制約単位）",
          "充足率（インスタンス単位）"
         ],
         "y": [
          0.8326,
          0.122736,
          0.117075
         ]
        },
        {
         "error_y": {
          "array": [
           0.050857,
           0.089186,
           0.021341
          ],
          "type": "data"
         },
         "name": "RuleFit-d",
         "type": "bar",
         "x": [
          "ROCAUC",
          "充足率（制約単位）",
          "充足率（インスタンス単位）"
         ],
         "y": [
          0.815699,
          0.198262,
          0.127525
         ]
        },
        {
         "error_y": {
          "array": [
           0.049073,
           0.077494,
           0.024663
          ],
          "type": "data"
         },
         "name": "RF-d",
         "type": "bar",
         "x": [
          "ROCAUC",
          "充足率（制約単位）",
          "充足率（インスタンス単位）"
         ],
         "y": [
          0.772322,
          0.258885,
          0.143443
         ]
        },
        {
         "error_y": {
          "array": [
           0.25796,
           0.071983,
           0.2473
          ],
          "type": "data"
         },
         "name": "l-SVM-p",
         "type": "bar",
         "x": [
          "ROCAUC",
          "充足率（制約単位）",
          "充足率（インスタンス単位）"
         ],
         "y": [
          0.33561,
          0.347553,
          0.306272
         ]
        },
        {
         "error_y": {
          "array": [
           0.046104,
           0.116543,
           0.038207
          ],
          "type": "data"
         },
         "name": "r-SVM-p",
         "type": "bar",
         "x": [
          "ROCAUC",
          "充足率（制約単位）",
          "充足率（インスタンス単位）"
         ],
         "y": [
          0.820711,
          0.342937,
          0.741031
         ]
        },
        {
         "error_y": {
          "array": [
           0.050752,
           0.115921,
           0.037951
          ],
          "type": "data"
         },
         "name": "LogReg-p",
         "type": "bar",
         "x": [
          "ROCAUC",
          "充足率（制約単位）",
          "充足率（インスタンス単位）"
         ],
         "y": [
          0.826615,
          0.44966,
          0.837545
         ]
        },
        {
         "error_y": {
          "array": [
           0,
           0.037669,
           0.034524
          ],
          "type": "data"
         },
         "name": "RuleBase",
         "type": "bar",
         "x": [
          "ROCAUC",
          "充足率（制約単位）",
          "充足率（インスタンス単位）"
         ],
         "y": [
          0.5,
          0.412036,
          0.200046
         ]
        }
       ],
       "layout": {
        "barmode": "group",
        "template": {
         "data": {
          "bar": [
           {
            "error_x": {
             "color": "#2a3f5f"
            },
            "error_y": {
             "color": "#2a3f5f"
            },
            "marker": {
             "line": {
              "color": "#E5ECF6",
              "width": 0.5
             },
             "pattern": {
              "fillmode": "overlay",
              "size": 10,
              "solidity": 0.2
             }
            },
            "type": "bar"
           }
          ],
          "barpolar": [
           {
            "marker": {
             "line": {
              "color": "#E5ECF6",
              "width": 0.5
             },
             "pattern": {
              "fillmode": "overlay",
              "size": 10,
              "solidity": 0.2
             }
            },
            "type": "barpolar"
           }
          ],
          "carpet": [
           {
            "aaxis": {
             "endlinecolor": "#2a3f5f",
             "gridcolor": "white",
             "linecolor": "white",
             "minorgridcolor": "white",
             "startlinecolor": "#2a3f5f"
            },
            "baxis": {
             "endlinecolor": "#2a3f5f",
             "gridcolor": "white",
             "linecolor": "white",
             "minorgridcolor": "white",
             "startlinecolor": "#2a3f5f"
            },
            "type": "carpet"
           }
          ],
          "choropleth": [
           {
            "colorbar": {
             "outlinewidth": 0,
             "ticks": ""
            },
            "type": "choropleth"
           }
          ],
          "contour": [
           {
            "colorbar": {
             "outlinewidth": 0,
             "ticks": ""
            },
            "colorscale": [
             [
              0,
              "#0d0887"
             ],
             [
              0.1111111111111111,
              "#46039f"
             ],
             [
              0.2222222222222222,
              "#7201a8"
             ],
             [
              0.3333333333333333,
              "#9c179e"
             ],
             [
              0.4444444444444444,
              "#bd3786"
             ],
             [
              0.5555555555555556,
              "#d8576b"
             ],
             [
              0.6666666666666666,
              "#ed7953"
             ],
             [
              0.7777777777777778,
              "#fb9f3a"
             ],
             [
              0.8888888888888888,
              "#fdca26"
             ],
             [
              1,
              "#f0f921"
             ]
            ],
            "type": "contour"
           }
          ],
          "contourcarpet": [
           {
            "colorbar": {
             "outlinewidth": 0,
             "ticks": ""
            },
            "type": "contourcarpet"
           }
          ],
          "heatmap": [
           {
            "colorbar": {
             "outlinewidth": 0,
             "ticks": ""
            },
            "colorscale": [
             [
              0,
              "#0d0887"
             ],
             [
              0.1111111111111111,
              "#46039f"
             ],
             [
              0.2222222222222222,
              "#7201a8"
             ],
             [
              0.3333333333333333,
              "#9c179e"
             ],
             [
              0.4444444444444444,
              "#bd3786"
             ],
             [
              0.5555555555555556,
              "#d8576b"
             ],
             [
              0.6666666666666666,
              "#ed7953"
             ],
             [
              0.7777777777777778,
              "#fb9f3a"
             ],
             [
              0.8888888888888888,
              "#fdca26"
             ],
             [
              1,
              "#f0f921"
             ]
            ],
            "type": "heatmap"
           }
          ],
          "heatmapgl": [
           {
            "colorbar": {
             "outlinewidth": 0,
             "ticks": ""
            },
            "colorscale": [
             [
              0,
              "#0d0887"
             ],
             [
              0.1111111111111111,
              "#46039f"
             ],
             [
              0.2222222222222222,
              "#7201a8"
             ],
             [
              0.3333333333333333,
              "#9c179e"
             ],
             [
              0.4444444444444444,
              "#bd3786"
             ],
             [
              0.5555555555555556,
              "#d8576b"
             ],
             [
              0.6666666666666666,
              "#ed7953"
             ],
             [
              0.7777777777777778,
              "#fb9f3a"
             ],
             [
              0.8888888888888888,
              "#fdca26"
             ],
             [
              1,
              "#f0f921"
             ]
            ],
            "type": "heatmapgl"
           }
          ],
          "histogram": [
           {
            "marker": {
             "pattern": {
              "fillmode": "overlay",
              "size": 10,
              "solidity": 0.2
             }
            },
            "type": "histogram"
           }
          ],
          "histogram2d": [
           {
            "colorbar": {
             "outlinewidth": 0,
             "ticks": ""
            },
            "colorscale": [
             [
              0,
              "#0d0887"
             ],
             [
              0.1111111111111111,
              "#46039f"
             ],
             [
              0.2222222222222222,
              "#7201a8"
             ],
             [
              0.3333333333333333,
              "#9c179e"
             ],
             [
              0.4444444444444444,
              "#bd3786"
             ],
             [
              0.5555555555555556,
              "#d8576b"
             ],
             [
              0.6666666666666666,
              "#ed7953"
             ],
             [
              0.7777777777777778,
              "#fb9f3a"
             ],
             [
              0.8888888888888888,
              "#fdca26"
             ],
             [
              1,
              "#f0f921"
             ]
            ],
            "type": "histogram2d"
           }
          ],
          "histogram2dcontour": [
           {
            "colorbar": {
             "outlinewidth": 0,
             "ticks": ""
            },
            "colorscale": [
             [
              0,
              "#0d0887"
             ],
             [
              0.1111111111111111,
              "#46039f"
             ],
             [
              0.2222222222222222,
              "#7201a8"
             ],
             [
              0.3333333333333333,
              "#9c179e"
             ],
             [
              0.4444444444444444,
              "#bd3786"
             ],
             [
              0.5555555555555556,
              "#d8576b"
             ],
             [
              0.6666666666666666,
              "#ed7953"
             ],
             [
              0.7777777777777778,
              "#fb9f3a"
             ],
             [
              0.8888888888888888,
              "#fdca26"
             ],
             [
              1,
              "#f0f921"
             ]
            ],
            "type": "histogram2dcontour"
           }
          ],
          "mesh3d": [
           {
            "colorbar": {
             "outlinewidth": 0,
             "ticks": ""
            },
            "type": "mesh3d"
           }
          ],
          "parcoords": [
           {
            "line": {
             "colorbar": {
              "outlinewidth": 0,
              "ticks": ""
             }
            },
            "type": "parcoords"
           }
          ],
          "pie": [
           {
            "automargin": true,
            "type": "pie"
           }
          ],
          "scatter": [
           {
            "fillpattern": {
             "fillmode": "overlay",
             "size": 10,
             "solidity": 0.2
            },
            "type": "scatter"
           }
          ],
          "scatter3d": [
           {
            "line": {
             "colorbar": {
              "outlinewidth": 0,
              "ticks": ""
             }
            },
            "marker": {
             "colorbar": {
              "outlinewidth": 0,
              "ticks": ""
             }
            },
            "type": "scatter3d"
           }
          ],
          "scattercarpet": [
           {
            "marker": {
             "colorbar": {
              "outlinewidth": 0,
              "ticks": ""
             }
            },
            "type": "scattercarpet"
           }
          ],
          "scattergeo": [
           {
            "marker": {
             "colorbar": {
              "outlinewidth": 0,
              "ticks": ""
             }
            },
            "type": "scattergeo"
           }
          ],
          "scattergl": [
           {
            "marker": {
             "colorbar": {
              "outlinewidth": 0,
              "ticks": ""
             }
            },
            "type": "scattergl"
           }
          ],
          "scattermapbox": [
           {
            "marker": {
             "colorbar": {
              "outlinewidth": 0,
              "ticks": ""
             }
            },
            "type": "scattermapbox"
           }
          ],
          "scatterpolar": [
           {
            "marker": {
             "colorbar": {
              "outlinewidth": 0,
              "ticks": ""
             }
            },
            "type": "scatterpolar"
           }
          ],
          "scatterpolargl": [
           {
            "marker": {
             "colorbar": {
              "outlinewidth": 0,
              "ticks": ""
             }
            },
            "type": "scatterpolargl"
           }
          ],
          "scatterternary": [
           {
            "marker": {
             "colorbar": {
              "outlinewidth": 0,
              "ticks": ""
             }
            },
            "type": "scatterternary"
           }
          ],
          "surface": [
           {
            "colorbar": {
             "outlinewidth": 0,
             "ticks": ""
            },
            "colorscale": [
             [
              0,
              "#0d0887"
             ],
             [
              0.1111111111111111,
              "#46039f"
             ],
             [
              0.2222222222222222,
              "#7201a8"
             ],
             [
              0.3333333333333333,
              "#9c179e"
             ],
             [
              0.4444444444444444,
              "#bd3786"
             ],
             [
              0.5555555555555556,
              "#d8576b"
             ],
             [
              0.6666666666666666,
              "#ed7953"
             ],
             [
              0.7777777777777778,
              "#fb9f3a"
             ],
             [
              0.8888888888888888,
              "#fdca26"
             ],
             [
              1,
              "#f0f921"
             ]
            ],
            "type": "surface"
           }
          ],
          "table": [
           {
            "cells": {
             "fill": {
              "color": "#EBF0F8"
             },
             "line": {
              "color": "white"
             }
            },
            "header": {
             "fill": {
              "color": "#C8D4E3"
             },
             "line": {
              "color": "white"
             }
            },
            "type": "table"
           }
          ]
         },
         "layout": {
          "annotationdefaults": {
           "arrowcolor": "#2a3f5f",
           "arrowhead": 0,
           "arrowwidth": 1
          },
          "autotypenumbers": "strict",
          "coloraxis": {
           "colorbar": {
            "outlinewidth": 0,
            "ticks": ""
           }
          },
          "colorscale": {
           "diverging": [
            [
             0,
             "#8e0152"
            ],
            [
             0.1,
             "#c51b7d"
            ],
            [
             0.2,
             "#de77ae"
            ],
            [
             0.3,
             "#f1b6da"
            ],
            [
             0.4,
             "#fde0ef"
            ],
            [
             0.5,
             "#f7f7f7"
            ],
            [
             0.6,
             "#e6f5d0"
            ],
            [
             0.7,
             "#b8e186"
            ],
            [
             0.8,
             "#7fbc41"
            ],
            [
             0.9,
             "#4d9221"
            ],
            [
             1,
             "#276419"
            ]
           ],
           "sequential": [
            [
             0,
             "#0d0887"
            ],
            [
             0.1111111111111111,
             "#46039f"
            ],
            [
             0.2222222222222222,
             "#7201a8"
            ],
            [
             0.3333333333333333,
             "#9c179e"
            ],
            [
             0.4444444444444444,
             "#bd3786"
            ],
            [
             0.5555555555555556,
             "#d8576b"
            ],
            [
             0.6666666666666666,
             "#ed7953"
            ],
            [
             0.7777777777777778,
             "#fb9f3a"
            ],
            [
             0.8888888888888888,
             "#fdca26"
            ],
            [
             1,
             "#f0f921"
            ]
           ],
           "sequentialminus": [
            [
             0,
             "#0d0887"
            ],
            [
             0.1111111111111111,
             "#46039f"
            ],
            [
             0.2222222222222222,
             "#7201a8"
            ],
            [
             0.3333333333333333,
             "#9c179e"
            ],
            [
             0.4444444444444444,
             "#bd3786"
            ],
            [
             0.5555555555555556,
             "#d8576b"
            ],
            [
             0.6666666666666666,
             "#ed7953"
            ],
            [
             0.7777777777777778,
             "#fb9f3a"
            ],
            [
             0.8888888888888888,
             "#fdca26"
            ],
            [
             1,
             "#f0f921"
            ]
           ]
          },
          "colorway": [
           "#636efa",
           "#EF553B",
           "#00cc96",
           "#ab63fa",
           "#FFA15A",
           "#19d3f3",
           "#FF6692",
           "#B6E880",
           "#FF97FF",
           "#FECB52"
          ],
          "font": {
           "color": "#2a3f5f"
          },
          "geo": {
           "bgcolor": "white",
           "lakecolor": "white",
           "landcolor": "#E5ECF6",
           "showlakes": true,
           "showland": true,
           "subunitcolor": "white"
          },
          "hoverlabel": {
           "align": "left"
          },
          "hovermode": "closest",
          "mapbox": {
           "style": "light"
          },
          "paper_bgcolor": "white",
          "plot_bgcolor": "#E5ECF6",
          "polar": {
           "angularaxis": {
            "gridcolor": "white",
            "linecolor": "white",
            "ticks": ""
           },
           "bgcolor": "#E5ECF6",
           "radialaxis": {
            "gridcolor": "white",
            "linecolor": "white",
            "ticks": ""
           }
          },
          "scene": {
           "xaxis": {
            "backgroundcolor": "#E5ECF6",
            "gridcolor": "white",
            "gridwidth": 2,
            "linecolor": "white",
            "showbackground": true,
            "ticks": "",
            "zerolinecolor": "white"
           },
           "yaxis": {
            "backgroundcolor": "#E5ECF6",
            "gridcolor": "white",
            "gridwidth": 2,
            "linecolor": "white",
            "showbackground": true,
            "ticks": "",
            "zerolinecolor": "white"
           },
           "zaxis": {
            "backgroundcolor": "#E5ECF6",
            "gridcolor": "white",
            "gridwidth": 2,
            "linecolor": "white",
            "showbackground": true,
            "ticks": "",
            "zerolinecolor": "white"
           }
          },
          "shapedefaults": {
           "line": {
            "color": "#2a3f5f"
           }
          },
          "ternary": {
           "aaxis": {
            "gridcolor": "white",
            "linecolor": "white",
            "ticks": ""
           },
           "baxis": {
            "gridcolor": "white",
            "linecolor": "white",
            "ticks": ""
           },
           "bgcolor": "#E5ECF6",
           "caxis": {
            "gridcolor": "white",
            "linecolor": "white",
            "ticks": ""
           }
          },
          "title": {
           "x": 0.05
          },
          "xaxis": {
           "automargin": true,
           "gridcolor": "white",
           "linecolor": "white",
           "ticks": "",
           "title": {
            "standoff": 15
           },
           "zerolinecolor": "white",
           "zerolinewidth": 2
          },
          "yaxis": {
           "automargin": true,
           "gridcolor": "white",
           "linecolor": "white",
           "ticks": "",
           "title": {
            "standoff": 15
           },
           "zerolinecolor": "white",
           "zerolinewidth": 2
          }
         }
        },
        "title": {
         "text": "Evaluation Metrics with Error Bars"
        },
        "xaxis": {
         "title": {
          "text": "Metric"
         }
        },
        "yaxis": {
         "title": {
          "text": "Value"
         }
        }
       }
      }
     },
     "metadata": {},
     "output_type": "display_data"
    }
   ],
   "source": [
    "import pandas as pd\n",
    "import plotly.graph_objects as go\n",
    "\n",
    "# 平均値データフレーム\n",
    "df_mean = pd.DataFrame({\n",
    "    'Model': ['l-SVM', 'r-SVM', 'RogReg', 'RuleFit', 'RF', 'RuleFit-d', 'RF-d', 'l-SVM-p', 'r-SVM-p', 'LogReg-p', 'RuleBase'],\n",
    "    'ROCAUC': [0.837805, 0.838064, 0.840573, 0.795116, 0.8326, 0.815699, 0.772322, 0.33561, 0.820711, 0.826615, 0.5],\n",
    "    '充足率（制約単位）': [0.121655, 0.096142, 0.116527, 0.121298, 0.122736, 0.198262, 0.258885, 0.347553, 0.342937, 0.44966, 0.412036],\n",
    "    '充足率（インスタンス単位）': [0.120948, 0.107316, 0.116319, 0.12335, 0.117075, 0.127525, 0.143443, 0.306272, 0.741031, 0.837545, 0.200046]\n",
    "})\n",
    "\n",
    "# 標準偏差データフレーム\n",
    "df_std = pd.DataFrame({\n",
    "    'Model': ['l-SVM', 'r-SVM', 'RogReg', 'RuleFit', 'RF', 'RuleFit-d', 'RF-d', 'l-SVM-p', 'r-SVM-p', 'LogReg-p', 'RuleBase'],\n",
    "    'ROCAUC': [0.045376, 0.048697, 0.047432, 0.032516, 0.039969, 0.050857, 0.049073, 0.257960, 0.046104, 0.050752, 0.000000],\n",
    "    '充足率（制約単位）': [0.030232, 0.029686, 0.025154, 0.063186, 0.046222, 0.089186, 0.077494, 0.071983, 0.116543, 0.115921, 0.037669],\n",
    "    '充足率（インスタンス単位）': [0.014256, 0.010717, 0.011969, 0.011024, 0.016640, 0.021341, 0.024663, 0.247300, 0.038207, 0.037951, 0.034524]\n",
    "})\n",
    "\n",
    "# データフレームを整形\n",
    "df_mean_melt = df_mean.melt(id_vars='Model', var_name='Metric', value_name='Mean')\n",
    "df_std_melt = df_std.melt(id_vars='Model', var_name='Metric', value_name='Std')\n",
    "\n",
    "# データフレームをマージ\n",
    "df = pd.merge(df_mean_melt, df_std_melt,  how='left', left_on=['Model','Metric'], right_on = ['Model','Metric'])\n",
    "\n",
    "# プロット作成\n",
    "fig = go.Figure()\n",
    "\n",
    "for model in df['Model'].unique():\n",
    "    df_sub = df[df['Model'] == model]\n",
    "    fig.add_trace(go.Bar(\n",
    "        name=model,\n",
    "        x=df_sub['Metric'],\n",
    "        y=df_sub['Mean'],\n",
    "        error_y=dict(type='data', array=df_sub['Std'])\n",
    "    ))\n",
    "\n",
    "fig.update_layout(barmode='group', xaxis_title='Metric', yaxis_title='Value', title='Evaluation Metrics with Error Bars')\n",
    "fig.show()"
   ]
  },
  {
   "cell_type": "code",
   "execution_count": 46,
   "metadata": {},
   "outputs": [
    {
     "data": {
      "application/vnd.plotly.v1+json": {
       "config": {
        "plotlyServerURL": "https://plot.ly"
       },
       "data": [
        {
         "error_y": {
          "array": [
           0.045376,
           0.048697,
           0.047432,
           0.032516,
           0.039969,
           0.050857,
           0.049073,
           0.25796,
           0.046104,
           0.050752,
           0
          ],
          "type": "data"
         },
         "marker": {
          "color": "teal"
         },
         "name": "ROCAUC",
         "type": "bar",
         "x": [
          "l-SVM",
          "r-SVM",
          "RogReg",
          "RuleFit",
          "RF",
          "RuleFit-d",
          "RF-d",
          "l-SVM-p",
          "r-SVM-p",
          "LogReg-p",
          "RuleBase"
         ],
         "y": [
          0.837805,
          0.838064,
          0.840573,
          0.795116,
          0.8326,
          0.815699,
          0.772322,
          0.33561,
          0.820711,
          0.826615,
          0.5
         ]
        },
        {
         "error_y": {
          "array": [
           0.030232,
           0.029686,
           0.025154,
           0.063186,
           0.046222,
           0.089186,
           0.077494,
           0.071983,
           0.116543,
           0.115921,
           0.037669
          ],
          "type": "data"
         },
         "marker": {
          "color": "coral"
         },
         "name": "充足率（制約単位）",
         "type": "bar",
         "x": [
          "l-SVM",
          "r-SVM",
          "RogReg",
          "RuleFit",
          "RF",
          "RuleFit-d",
          "RF-d",
          "l-SVM-p",
          "r-SVM-p",
          "LogReg-p",
          "RuleBase"
         ],
         "y": [
          0.121655,
          0.096142,
          0.116527,
          0.121298,
          0.122736,
          0.198262,
          0.258885,
          0.347553,
          0.342937,
          0.44966,
          0.412036
         ]
        },
        {
         "error_y": {
          "array": [
           0.014256,
           0.010717,
           0.011969,
           0.011024,
           0.01664,
           0.021341,
           0.024663,
           0.2473,
           0.038207,
           0.037951,
           0.034524
          ],
          "type": "data"
         },
         "marker": {
          "color": "gold"
         },
         "name": "充足率（インスタンス単位）",
         "type": "bar",
         "x": [
          "l-SVM",
          "r-SVM",
          "RogReg",
          "RuleFit",
          "RF",
          "RuleFit-d",
          "RF-d",
          "l-SVM-p",
          "r-SVM-p",
          "LogReg-p",
          "RuleBase"
         ],
         "y": [
          0.120948,
          0.107316,
          0.116319,
          0.12335,
          0.117075,
          0.127525,
          0.143443,
          0.306272,
          0.741031,
          0.837545,
          0.200046
         ]
        }
       ],
       "layout": {
        "autosize": false,
        "barmode": "group",
        "height": 500,
        "legend": {
         "font": {
          "size": 16
         },
         "orientation": "v",
         "x": 0.5,
         "xanchor": "left",
         "y": 1.3,
         "yanchor": "top"
        },
        "template": {
         "data": {
          "bar": [
           {
            "error_x": {
             "color": "#2a3f5f"
            },
            "error_y": {
             "color": "#2a3f5f"
            },
            "marker": {
             "line": {
              "color": "#E5ECF6",
              "width": 0.5
             },
             "pattern": {
              "fillmode": "overlay",
              "size": 10,
              "solidity": 0.2
             }
            },
            "type": "bar"
           }
          ],
          "barpolar": [
           {
            "marker": {
             "line": {
              "color": "#E5ECF6",
              "width": 0.5
             },
             "pattern": {
              "fillmode": "overlay",
              "size": 10,
              "solidity": 0.2
             }
            },
            "type": "barpolar"
           }
          ],
          "carpet": [
           {
            "aaxis": {
             "endlinecolor": "#2a3f5f",
             "gridcolor": "white",
             "linecolor": "white",
             "minorgridcolor": "white",
             "startlinecolor": "#2a3f5f"
            },
            "baxis": {
             "endlinecolor": "#2a3f5f",
             "gridcolor": "white",
             "linecolor": "white",
             "minorgridcolor": "white",
             "startlinecolor": "#2a3f5f"
            },
            "type": "carpet"
           }
          ],
          "choropleth": [
           {
            "colorbar": {
             "outlinewidth": 0,
             "ticks": ""
            },
            "type": "choropleth"
           }
          ],
          "contour": [
           {
            "colorbar": {
             "outlinewidth": 0,
             "ticks": ""
            },
            "colorscale": [
             [
              0,
              "#0d0887"
             ],
             [
              0.1111111111111111,
              "#46039f"
             ],
             [
              0.2222222222222222,
              "#7201a8"
             ],
             [
              0.3333333333333333,
              "#9c179e"
             ],
             [
              0.4444444444444444,
              "#bd3786"
             ],
             [
              0.5555555555555556,
              "#d8576b"
             ],
             [
              0.6666666666666666,
              "#ed7953"
             ],
             [
              0.7777777777777778,
              "#fb9f3a"
             ],
             [
              0.8888888888888888,
              "#fdca26"
             ],
             [
              1,
              "#f0f921"
             ]
            ],
            "type": "contour"
           }
          ],
          "contourcarpet": [
           {
            "colorbar": {
             "outlinewidth": 0,
             "ticks": ""
            },
            "type": "contourcarpet"
           }
          ],
          "heatmap": [
           {
            "colorbar": {
             "outlinewidth": 0,
             "ticks": ""
            },
            "colorscale": [
             [
              0,
              "#0d0887"
             ],
             [
              0.1111111111111111,
              "#46039f"
             ],
             [
              0.2222222222222222,
              "#7201a8"
             ],
             [
              0.3333333333333333,
              "#9c179e"
             ],
             [
              0.4444444444444444,
              "#bd3786"
             ],
             [
              0.5555555555555556,
              "#d8576b"
             ],
             [
              0.6666666666666666,
              "#ed7953"
             ],
             [
              0.7777777777777778,
              "#fb9f3a"
             ],
             [
              0.8888888888888888,
              "#fdca26"
             ],
             [
              1,
              "#f0f921"
             ]
            ],
            "type": "heatmap"
           }
          ],
          "heatmapgl": [
           {
            "colorbar": {
             "outlinewidth": 0,
             "ticks": ""
            },
            "colorscale": [
             [
              0,
              "#0d0887"
             ],
             [
              0.1111111111111111,
              "#46039f"
             ],
             [
              0.2222222222222222,
              "#7201a8"
             ],
             [
              0.3333333333333333,
              "#9c179e"
             ],
             [
              0.4444444444444444,
              "#bd3786"
             ],
             [
              0.5555555555555556,
              "#d8576b"
             ],
             [
              0.6666666666666666,
              "#ed7953"
             ],
             [
              0.7777777777777778,
              "#fb9f3a"
             ],
             [
              0.8888888888888888,
              "#fdca26"
             ],
             [
              1,
              "#f0f921"
             ]
            ],
            "type": "heatmapgl"
           }
          ],
          "histogram": [
           {
            "marker": {
             "pattern": {
              "fillmode": "overlay",
              "size": 10,
              "solidity": 0.2
             }
            },
            "type": "histogram"
           }
          ],
          "histogram2d": [
           {
            "colorbar": {
             "outlinewidth": 0,
             "ticks": ""
            },
            "colorscale": [
             [
              0,
              "#0d0887"
             ],
             [
              0.1111111111111111,
              "#46039f"
             ],
             [
              0.2222222222222222,
              "#7201a8"
             ],
             [
              0.3333333333333333,
              "#9c179e"
             ],
             [
              0.4444444444444444,
              "#bd3786"
             ],
             [
              0.5555555555555556,
              "#d8576b"
             ],
             [
              0.6666666666666666,
              "#ed7953"
             ],
             [
              0.7777777777777778,
              "#fb9f3a"
             ],
             [
              0.8888888888888888,
              "#fdca26"
             ],
             [
              1,
              "#f0f921"
             ]
            ],
            "type": "histogram2d"
           }
          ],
          "histogram2dcontour": [
           {
            "colorbar": {
             "outlinewidth": 0,
             "ticks": ""
            },
            "colorscale": [
             [
              0,
              "#0d0887"
             ],
             [
              0.1111111111111111,
              "#46039f"
             ],
             [
              0.2222222222222222,
              "#7201a8"
             ],
             [
              0.3333333333333333,
              "#9c179e"
             ],
             [
              0.4444444444444444,
              "#bd3786"
             ],
             [
              0.5555555555555556,
              "#d8576b"
             ],
             [
              0.6666666666666666,
              "#ed7953"
             ],
             [
              0.7777777777777778,
              "#fb9f3a"
             ],
             [
              0.8888888888888888,
              "#fdca26"
             ],
             [
              1,
              "#f0f921"
             ]
            ],
            "type": "histogram2dcontour"
           }
          ],
          "mesh3d": [
           {
            "colorbar": {
             "outlinewidth": 0,
             "ticks": ""
            },
            "type": "mesh3d"
           }
          ],
          "parcoords": [
           {
            "line": {
             "colorbar": {
              "outlinewidth": 0,
              "ticks": ""
             }
            },
            "type": "parcoords"
           }
          ],
          "pie": [
           {
            "automargin": true,
            "type": "pie"
           }
          ],
          "scatter": [
           {
            "fillpattern": {
             "fillmode": "overlay",
             "size": 10,
             "solidity": 0.2
            },
            "type": "scatter"
           }
          ],
          "scatter3d": [
           {
            "line": {
             "colorbar": {
              "outlinewidth": 0,
              "ticks": ""
             }
            },
            "marker": {
             "colorbar": {
              "outlinewidth": 0,
              "ticks": ""
             }
            },
            "type": "scatter3d"
           }
          ],
          "scattercarpet": [
           {
            "marker": {
             "colorbar": {
              "outlinewidth": 0,
              "ticks": ""
             }
            },
            "type": "scattercarpet"
           }
          ],
          "scattergeo": [
           {
            "marker": {
             "colorbar": {
              "outlinewidth": 0,
              "ticks": ""
             }
            },
            "type": "scattergeo"
           }
          ],
          "scattergl": [
           {
            "marker": {
             "colorbar": {
              "outlinewidth": 0,
              "ticks": ""
             }
            },
            "type": "scattergl"
           }
          ],
          "scattermapbox": [
           {
            "marker": {
             "colorbar": {
              "outlinewidth": 0,
              "ticks": ""
             }
            },
            "type": "scattermapbox"
           }
          ],
          "scatterpolar": [
           {
            "marker": {
             "colorbar": {
              "outlinewidth": 0,
              "ticks": ""
             }
            },
            "type": "scatterpolar"
           }
          ],
          "scatterpolargl": [
           {
            "marker": {
             "colorbar": {
              "outlinewidth": 0,
              "ticks": ""
             }
            },
            "type": "scatterpolargl"
           }
          ],
          "scatterternary": [
           {
            "marker": {
             "colorbar": {
              "outlinewidth": 0,
              "ticks": ""
             }
            },
            "type": "scatterternary"
           }
          ],
          "surface": [
           {
            "colorbar": {
             "outlinewidth": 0,
             "ticks": ""
            },
            "colorscale": [
             [
              0,
              "#0d0887"
             ],
             [
              0.1111111111111111,
              "#46039f"
             ],
             [
              0.2222222222222222,
              "#7201a8"
             ],
             [
              0.3333333333333333,
              "#9c179e"
             ],
             [
              0.4444444444444444,
              "#bd3786"
             ],
             [
              0.5555555555555556,
              "#d8576b"
             ],
             [
              0.6666666666666666,
              "#ed7953"
             ],
             [
              0.7777777777777778,
              "#fb9f3a"
             ],
             [
              0.8888888888888888,
              "#fdca26"
             ],
             [
              1,
              "#f0f921"
             ]
            ],
            "type": "surface"
           }
          ],
          "table": [
           {
            "cells": {
             "fill": {
              "color": "#EBF0F8"
             },
             "line": {
              "color": "white"
             }
            },
            "header": {
             "fill": {
              "color": "#C8D4E3"
             },
             "line": {
              "color": "white"
             }
            },
            "type": "table"
           }
          ]
         },
         "layout": {
          "annotationdefaults": {
           "arrowcolor": "#2a3f5f",
           "arrowhead": 0,
           "arrowwidth": 1
          },
          "autotypenumbers": "strict",
          "coloraxis": {
           "colorbar": {
            "outlinewidth": 0,
            "ticks": ""
           }
          },
          "colorscale": {
           "diverging": [
            [
             0,
             "#8e0152"
            ],
            [
             0.1,
             "#c51b7d"
            ],
            [
             0.2,
             "#de77ae"
            ],
            [
             0.3,
             "#f1b6da"
            ],
            [
             0.4,
             "#fde0ef"
            ],
            [
             0.5,
             "#f7f7f7"
            ],
            [
             0.6,
             "#e6f5d0"
            ],
            [
             0.7,
             "#b8e186"
            ],
            [
             0.8,
             "#7fbc41"
            ],
            [
             0.9,
             "#4d9221"
            ],
            [
             1,
             "#276419"
            ]
           ],
           "sequential": [
            [
             0,
             "#0d0887"
            ],
            [
             0.1111111111111111,
             "#46039f"
            ],
            [
             0.2222222222222222,
             "#7201a8"
            ],
            [
             0.3333333333333333,
             "#9c179e"
            ],
            [
             0.4444444444444444,
             "#bd3786"
            ],
            [
             0.5555555555555556,
             "#d8576b"
            ],
            [
             0.6666666666666666,
             "#ed7953"
            ],
            [
             0.7777777777777778,
             "#fb9f3a"
            ],
            [
             0.8888888888888888,
             "#fdca26"
            ],
            [
             1,
             "#f0f921"
            ]
           ],
           "sequentialminus": [
            [
             0,
             "#0d0887"
            ],
            [
             0.1111111111111111,
             "#46039f"
            ],
            [
             0.2222222222222222,
             "#7201a8"
            ],
            [
             0.3333333333333333,
             "#9c179e"
            ],
            [
             0.4444444444444444,
             "#bd3786"
            ],
            [
             0.5555555555555556,
             "#d8576b"
            ],
            [
             0.6666666666666666,
             "#ed7953"
            ],
            [
             0.7777777777777778,
             "#fb9f3a"
            ],
            [
             0.8888888888888888,
             "#fdca26"
            ],
            [
             1,
             "#f0f921"
            ]
           ]
          },
          "colorway": [
           "#636efa",
           "#EF553B",
           "#00cc96",
           "#ab63fa",
           "#FFA15A",
           "#19d3f3",
           "#FF6692",
           "#B6E880",
           "#FF97FF",
           "#FECB52"
          ],
          "font": {
           "color": "#2a3f5f"
          },
          "geo": {
           "bgcolor": "white",
           "lakecolor": "white",
           "landcolor": "#E5ECF6",
           "showlakes": true,
           "showland": true,
           "subunitcolor": "white"
          },
          "hoverlabel": {
           "align": "left"
          },
          "hovermode": "closest",
          "mapbox": {
           "style": "light"
          },
          "paper_bgcolor": "white",
          "plot_bgcolor": "#E5ECF6",
          "polar": {
           "angularaxis": {
            "gridcolor": "white",
            "linecolor": "white",
            "ticks": ""
           },
           "bgcolor": "#E5ECF6",
           "radialaxis": {
            "gridcolor": "white",
            "linecolor": "white",
            "ticks": ""
           }
          },
          "scene": {
           "xaxis": {
            "backgroundcolor": "#E5ECF6",
            "gridcolor": "white",
            "gridwidth": 2,
            "linecolor": "white",
            "showbackground": true,
            "ticks": "",
            "zerolinecolor": "white"
           },
           "yaxis": {
            "backgroundcolor": "#E5ECF6",
            "gridcolor": "white",
            "gridwidth": 2,
            "linecolor": "white",
            "showbackground": true,
            "ticks": "",
            "zerolinecolor": "white"
           },
           "zaxis": {
            "backgroundcolor": "#E5ECF6",
            "gridcolor": "white",
            "gridwidth": 2,
            "linecolor": "white",
            "showbackground": true,
            "ticks": "",
            "zerolinecolor": "white"
           }
          },
          "shapedefaults": {
           "line": {
            "color": "#2a3f5f"
           }
          },
          "ternary": {
           "aaxis": {
            "gridcolor": "white",
            "linecolor": "white",
            "ticks": ""
           },
           "baxis": {
            "gridcolor": "white",
            "linecolor": "white",
            "ticks": ""
           },
           "bgcolor": "#E5ECF6",
           "caxis": {
            "gridcolor": "white",
            "linecolor": "white",
            "ticks": ""
           }
          },
          "title": {
           "x": 0.05
          },
          "xaxis": {
           "automargin": true,
           "gridcolor": "white",
           "linecolor": "white",
           "ticks": "",
           "title": {
            "standoff": 15
           },
           "zerolinecolor": "white",
           "zerolinewidth": 2
          },
          "yaxis": {
           "automargin": true,
           "gridcolor": "white",
           "linecolor": "white",
           "ticks": "",
           "title": {
            "standoff": 15
           },
           "zerolinecolor": "white",
           "zerolinewidth": 2
          }
         }
        },
        "width": 700,
        "xaxis": {
         "tickangle": 75,
         "tickfont": {
          "size": 16
         }
        },
        "yaxis": {
         "tickfont": {
          "size": 16
         }
        }
       }
      }
     },
     "metadata": {},
     "output_type": "display_data"
    }
   ],
   "source": [
    "import pandas as pd\n",
    "import plotly.graph_objects as go\n",
    "\n",
    "# 平均値データフレーム\n",
    "df_mean = pd.DataFrame({\n",
    "    'Model': ['l-SVM', 'r-SVM', 'RogReg', 'RuleFit', 'RF', 'RuleFit-d', 'RF-d', 'l-SVM-p', 'r-SVM-p', 'LogReg-p', 'RuleBase'],\n",
    "    'ROCAUC': [0.837805, 0.838064, 0.840573, 0.795116, 0.8326, 0.815699, 0.772322, 0.33561, 0.820711, 0.826615, 0.5],\n",
    "    '充足率（制約単位）': [0.121655, 0.096142, 0.116527, 0.121298, 0.122736, 0.198262, 0.258885, 0.347553, 0.342937, 0.44966, 0.412036],\n",
    "    '充足率（インスタンス単位）': [0.120948, 0.107316, 0.116319, 0.12335, 0.117075, 0.127525, 0.143443, 0.306272, 0.741031, 0.837545, 0.200046]\n",
    "})\n",
    "\n",
    "# 標準偏差データフレーム\n",
    "df_std = pd.DataFrame({\n",
    "    'Model': ['l-SVM', 'r-SVM', 'RogReg', 'RuleFit', 'RF', 'RuleFit-d', 'RF-d', 'l-SVM-p', 'r-SVM-p', 'LogReg-p', 'RuleBase'],\n",
    "    'ROCAUC': [0.045376, 0.048697, 0.047432, 0.032516, 0.039969, 0.050857, 0.049073, 0.257960, 0.046104, 0.050752, 0.000000],\n",
    "    '充足率（制約単位）': [0.030232, 0.029686, 0.025154, 0.063186, 0.046222, 0.089186, 0.077494, 0.071983, 0.116543, 0.115921, 0.037669],\n",
    "    '充足率（インスタンス単位）': [0.014256, 0.010717, 0.011969, 0.011024, 0.016640, 0.021341, 0.024663, 0.247300, 0.038207, 0.037951, 0.034524]\n",
    "})\n",
    "\n",
    "# データフレームを整形\n",
    "df_mean_melt = df_mean.melt(id_vars='Model', var_name='Metric', value_name='Mean')\n",
    "df_std_melt = df_std.melt(id_vars='Model', var_name='Metric', value_name='Std')\n",
    "\n",
    "# データフレームをマージ\n",
    "df = pd.merge(df_mean_melt, df_std_melt,  how='left', left_on=['Model','Metric'], right_on = ['Model','Metric'])\n",
    "\n",
    "# プロット作成\n",
    "fig = go.Figure()\n",
    "\n",
    "colors = {'ROCAUC': 'teal', '充足率（制約単位）': 'coral', '充足率（インスタンス単位）': 'gold'}\n",
    "\n",
    "for metric in df['Metric'].unique():\n",
    "    df_sub = df[df['Metric'] == metric]\n",
    "    fig.add_trace(go.Bar(\n",
    "        name=metric,\n",
    "        x=df_sub['Model'],\n",
    "        y=df_sub['Mean'],\n",
    "        error_y=dict(type='data', array=df_sub['Std']),\n",
    "        marker_color=colors[metric]\n",
    "    ))\n",
    "\n",
    "fig.update_layout(\n",
    "    barmode='group', \n",
    "    autosize=False,\n",
    "    width=700,\n",
    "    height=500,\n",
    "    legend=dict(\n",
    "        yanchor=\"top\",\n",
    "        y=1.3,  # y=1.1はグラフの上部にレジェンドを配置します\n",
    "        xanchor=\"left\",\n",
    "        x=0.5,  # x=0.5はレジェンドを中央に配置します\n",
    "        orientation=\"v\",  # orientation=\"h\"はレジェンドを水平に配置します\n",
    "        font=dict(size=16),  # レジェンドの文字サイズを14に設定します\n",
    "    )\n",
    "    )\n",
    "\n",
    "fig.update_xaxes(\n",
    "    tickangle=75,\n",
    "    tickfont=dict(size=16),  # x軸のティックの文字サイズを14に設定します。\n",
    ")\n",
    "\n",
    "fig.update_yaxes(\n",
    "    tickfont=dict(size=16),  # y軸のティックの文字サイズを14に設定します。\n",
    ")\n",
    "fig.show()"
   ]
  },
  {
   "cell_type": "code",
   "execution_count": 2,
   "metadata": {},
   "outputs": [
    {
     "name": "stdout",
     "output_type": "stream",
     "text": [
      "hello\n"
     ]
    },
    {
     "data": {
      "text/html": [
       "<div>\n",
       "<style scoped>\n",
       "    .dataframe tbody tr th:only-of-type {\n",
       "        vertical-align: middle;\n",
       "    }\n",
       "\n",
       "    .dataframe tbody tr th {\n",
       "        vertical-align: top;\n",
       "    }\n",
       "\n",
       "    .dataframe thead th {\n",
       "        text-align: right;\n",
       "    }\n",
       "</style>\n",
       "<table border=\"1\" class=\"dataframe\">\n",
       "  <thead>\n",
       "    <tr style=\"text-align: right;\">\n",
       "      <th></th>\n",
       "      <th>accuracy</th>\n",
       "      <th>precision</th>\n",
       "      <th>recall</th>\n",
       "      <th>f1</th>\n",
       "      <th>auc</th>\n",
       "      <th>n_violation</th>\n",
       "      <th>n_rule</th>\n",
       "      <th>violation_rate</th>\n",
       "      <th>n_violation (instance)</th>\n",
       "      <th>n_evaluation (instance)</th>\n",
       "      <th>violation_rate (instance)</th>\n",
       "      <th>compliance_rate</th>\n",
       "      <th>compliance_rate (instance)</th>\n",
       "    </tr>\n",
       "  </thead>\n",
       "  <tbody>\n",
       "    <tr>\n",
       "      <th>l-SVM</th>\n",
       "      <td>0.779 ± 0.05</td>\n",
       "      <td>0.711 ± 0.05</td>\n",
       "      <td>0.551 ± 0.09</td>\n",
       "      <td>0.619 ± 0.06</td>\n",
       "      <td>0.838 ± 0.05</td>\n",
       "      <td>31.2 ± 3.27</td>\n",
       "      <td>35.6 ± 4.39</td>\n",
       "      <td>0.878 ± 0.03</td>\n",
       "      <td>513.8 ± 63.67</td>\n",
       "      <td>583.8 ± 63.57</td>\n",
       "      <td>0.879 ± 0.01</td>\n",
       "      <td>0.122 ± 0.03</td>\n",
       "      <td>0.121 ± 0.01</td>\n",
       "    </tr>\n",
       "    <tr>\n",
       "      <th>r-SVM</th>\n",
       "      <td>0.781 ± 0.05</td>\n",
       "      <td>0.759 ± 0.06</td>\n",
       "      <td>0.48 ± 0.05</td>\n",
       "      <td>0.587 ± 0.05</td>\n",
       "      <td>0.838 ± 0.05</td>\n",
       "      <td>32.2 ± 4.32</td>\n",
       "      <td>35.6 ± 4.39</td>\n",
       "      <td>0.904 ± 0.03</td>\n",
       "      <td>521.6 ± 62.32</td>\n",
       "      <td>583.8 ± 63.57</td>\n",
       "      <td>0.893 ± 0.01</td>\n",
       "      <td>0.096 ± 0.03</td>\n",
       "      <td>0.107 ± 0.01</td>\n",
       "    </tr>\n",
       "    <tr>\n",
       "      <th>RogReg</th>\n",
       "      <td>0.782 ± 0.05</td>\n",
       "      <td>0.731 ± 0.06</td>\n",
       "      <td>0.53 ± 0.06</td>\n",
       "      <td>0.612 ± 0.05</td>\n",
       "      <td>0.841 ± 0.05</td>\n",
       "      <td>31.4 ± 3.44</td>\n",
       "      <td>35.6 ± 4.39</td>\n",
       "      <td>0.883 ± 0.03</td>\n",
       "      <td>516.4 ± 62.71</td>\n",
       "      <td>583.8 ± 63.57</td>\n",
       "      <td>0.884 ± 0.01</td>\n",
       "      <td>0.117 ± 0.03</td>\n",
       "      <td>0.116 ± 0.01</td>\n",
       "    </tr>\n",
       "    <tr>\n",
       "      <th>RuleFit-d</th>\n",
       "      <td>0.784 ± 0.04</td>\n",
       "      <td>0.742 ± 0.05</td>\n",
       "      <td>0.521 ± 0.06</td>\n",
       "      <td>0.61 ± 0.04</td>\n",
       "      <td>0.816 ± 0.05</td>\n",
       "      <td>28.8 ± 6.06</td>\n",
       "      <td>35.6 ± 4.39</td>\n",
       "      <td>0.802 ± 0.09</td>\n",
       "      <td>510.4 ± 68.34</td>\n",
       "      <td>583.8 ± 63.57</td>\n",
       "      <td>0.872 ± 0.02</td>\n",
       "      <td>0.198 ± 0.09</td>\n",
       "      <td>0.128 ± 0.02</td>\n",
       "    </tr>\n",
       "    <tr>\n",
       "      <th>RuleFit</th>\n",
       "      <td>0.733 ± 0.04</td>\n",
       "      <td>0.602 ± 0.08</td>\n",
       "      <td>0.553 ± 0.06</td>\n",
       "      <td>0.572 ± 0.04</td>\n",
       "      <td>0.795 ± 0.03</td>\n",
       "      <td>31.2 ± 3.7</td>\n",
       "      <td>35.6 ± 4.39</td>\n",
       "      <td>0.879 ± 0.06</td>\n",
       "      <td>512.2 ± 61.05</td>\n",
       "      <td>583.8 ± 63.57</td>\n",
       "      <td>0.877 ± 0.01</td>\n",
       "      <td>0.121 ± 0.06</td>\n",
       "      <td>0.123 ± 0.01</td>\n",
       "    </tr>\n",
       "    <tr>\n",
       "      <th>RF-d</th>\n",
       "      <td>0.742 ± 0.05</td>\n",
       "      <td>0.628 ± 0.09</td>\n",
       "      <td>0.558 ± 0.08</td>\n",
       "      <td>0.583 ± 0.04</td>\n",
       "      <td>0.772 ± 0.05</td>\n",
       "      <td>26.6 ± 5.59</td>\n",
       "      <td>35.6 ± 4.39</td>\n",
       "      <td>0.741 ± 0.08</td>\n",
       "      <td>501.2 ± 68.75</td>\n",
       "      <td>583.8 ± 63.57</td>\n",
       "      <td>0.857 ± 0.02</td>\n",
       "      <td>0.259 ± 0.08</td>\n",
       "      <td>0.143 ± 0.02</td>\n",
       "    </tr>\n",
       "    <tr>\n",
       "      <th>RF</th>\n",
       "      <td>0.782 ± 0.04</td>\n",
       "      <td>0.715 ± 0.07</td>\n",
       "      <td>0.568 ± 0.08</td>\n",
       "      <td>0.627 ± 0.03</td>\n",
       "      <td>0.833 ± 0.04</td>\n",
       "      <td>31.2 ± 3.9</td>\n",
       "      <td>35.6 ± 4.39</td>\n",
       "      <td>0.877 ± 0.05</td>\n",
       "      <td>516.0 ± 63.86</td>\n",
       "      <td>583.8 ± 63.57</td>\n",
       "      <td>0.883 ± 0.02</td>\n",
       "      <td>0.123 ± 0.05</td>\n",
       "      <td>0.117 ± 0.02</td>\n",
       "    </tr>\n",
       "    <tr>\n",
       "      <th>l-SVM-p</th>\n",
       "      <td>0.39 ± 0.17</td>\n",
       "      <td>0.361 ± 0.11</td>\n",
       "      <td>0.932 ± 0.13</td>\n",
       "      <td>0.504 ± 0.08</td>\n",
       "      <td>0.336 ± 0.26</td>\n",
       "      <td>23.2 ± 3.77</td>\n",
       "      <td>35.6 ± 4.39</td>\n",
       "      <td>0.652 ± 0.07</td>\n",
       "      <td>412.8 ± 166.35</td>\n",
       "      <td>583.8 ± 63.57</td>\n",
       "      <td>0.694 ± 0.25</td>\n",
       "      <td>0.348 ± 0.07</td>\n",
       "      <td>0.306 ± 0.25</td>\n",
       "    </tr>\n",
       "    <tr>\n",
       "      <th>r-SVM-p</th>\n",
       "      <td>0.718 ± 0.05</td>\n",
       "      <td>0.548 ± 0.02</td>\n",
       "      <td>0.762 ± 0.1</td>\n",
       "      <td>0.636 ± 0.04</td>\n",
       "      <td>0.821 ± 0.05</td>\n",
       "      <td>23.4 ± 5.13</td>\n",
       "      <td>35.6 ± 4.39</td>\n",
       "      <td>0.657 ± 0.12</td>\n",
       "      <td>151.0 ± 26.79</td>\n",
       "      <td>583.8 ± 63.57</td>\n",
       "      <td>0.259 ± 0.04</td>\n",
       "      <td>0.343 ± 0.12</td>\n",
       "      <td>0.741 ± 0.04</td>\n",
       "    </tr>\n",
       "    <tr>\n",
       "      <th>LogReg-p</th>\n",
       "      <td>0.77 ± 0.05</td>\n",
       "      <td>0.732 ± 0.06</td>\n",
       "      <td>0.471 ± 0.07</td>\n",
       "      <td>0.57 ± 0.06</td>\n",
       "      <td>0.827 ± 0.05</td>\n",
       "      <td>19.4 ± 3.78</td>\n",
       "      <td>35.6 ± 4.39</td>\n",
       "      <td>0.55 ± 0.12</td>\n",
       "      <td>94.6 ± 23.79</td>\n",
       "      <td>583.8 ± 63.57</td>\n",
       "      <td>0.162 ± 0.04</td>\n",
       "      <td>0.45 ± 0.12</td>\n",
       "      <td>0.838 ± 0.04</td>\n",
       "    </tr>\n",
       "    <tr>\n",
       "      <th>RuleBase</th>\n",
       "      <td>0.325 ± 0.05</td>\n",
       "      <td>0.325 ± 0.05</td>\n",
       "      <td>1.0 ± 0.0</td>\n",
       "      <td>0.489 ± 0.06</td>\n",
       "      <td>0.5 ± 0.0</td>\n",
       "      <td>21.0 ± 3.39</td>\n",
       "      <td>35.6 ± 4.39</td>\n",
       "      <td>0.588 ± 0.04</td>\n",
       "      <td>467.4 ± 60.42</td>\n",
       "      <td>583.8 ± 63.57</td>\n",
       "      <td>0.8 ± 0.03</td>\n",
       "      <td>0.412 ± 0.04</td>\n",
       "      <td>0.2 ± 0.03</td>\n",
       "    </tr>\n",
       "  </tbody>\n",
       "</table>\n",
       "</div>"
      ],
      "text/plain": [
       "               accuracy     precision        recall            f1  \\\n",
       "l-SVM      0.779 ± 0.05  0.711 ± 0.05  0.551 ± 0.09  0.619 ± 0.06   \n",
       "r-SVM      0.781 ± 0.05  0.759 ± 0.06   0.48 ± 0.05  0.587 ± 0.05   \n",
       "RogReg     0.782 ± 0.05  0.731 ± 0.06   0.53 ± 0.06  0.612 ± 0.05   \n",
       "RuleFit-d  0.784 ± 0.04  0.742 ± 0.05  0.521 ± 0.06   0.61 ± 0.04   \n",
       "RuleFit    0.733 ± 0.04  0.602 ± 0.08  0.553 ± 0.06  0.572 ± 0.04   \n",
       "RF-d       0.742 ± 0.05  0.628 ± 0.09  0.558 ± 0.08  0.583 ± 0.04   \n",
       "RF         0.782 ± 0.04  0.715 ± 0.07  0.568 ± 0.08  0.627 ± 0.03   \n",
       "l-SVM-p     0.39 ± 0.17  0.361 ± 0.11  0.932 ± 0.13  0.504 ± 0.08   \n",
       "r-SVM-p    0.718 ± 0.05  0.548 ± 0.02   0.762 ± 0.1  0.636 ± 0.04   \n",
       "LogReg-p    0.77 ± 0.05  0.732 ± 0.06  0.471 ± 0.07   0.57 ± 0.06   \n",
       "RuleBase   0.325 ± 0.05  0.325 ± 0.05     1.0 ± 0.0  0.489 ± 0.06   \n",
       "\n",
       "                    auc  n_violation       n_rule violation_rate  \\\n",
       "l-SVM      0.838 ± 0.05  31.2 ± 3.27  35.6 ± 4.39   0.878 ± 0.03   \n",
       "r-SVM      0.838 ± 0.05  32.2 ± 4.32  35.6 ± 4.39   0.904 ± 0.03   \n",
       "RogReg     0.841 ± 0.05  31.4 ± 3.44  35.6 ± 4.39   0.883 ± 0.03   \n",
       "RuleFit-d  0.816 ± 0.05  28.8 ± 6.06  35.6 ± 4.39   0.802 ± 0.09   \n",
       "RuleFit    0.795 ± 0.03   31.2 ± 3.7  35.6 ± 4.39   0.879 ± 0.06   \n",
       "RF-d       0.772 ± 0.05  26.6 ± 5.59  35.6 ± 4.39   0.741 ± 0.08   \n",
       "RF         0.833 ± 0.04   31.2 ± 3.9  35.6 ± 4.39   0.877 ± 0.05   \n",
       "l-SVM-p    0.336 ± 0.26  23.2 ± 3.77  35.6 ± 4.39   0.652 ± 0.07   \n",
       "r-SVM-p    0.821 ± 0.05  23.4 ± 5.13  35.6 ± 4.39   0.657 ± 0.12   \n",
       "LogReg-p   0.827 ± 0.05  19.4 ± 3.78  35.6 ± 4.39    0.55 ± 0.12   \n",
       "RuleBase      0.5 ± 0.0  21.0 ± 3.39  35.6 ± 4.39   0.588 ± 0.04   \n",
       "\n",
       "          n_violation (instance) n_evaluation (instance)  \\\n",
       "l-SVM              513.8 ± 63.67           583.8 ± 63.57   \n",
       "r-SVM              521.6 ± 62.32           583.8 ± 63.57   \n",
       "RogReg             516.4 ± 62.71           583.8 ± 63.57   \n",
       "RuleFit-d          510.4 ± 68.34           583.8 ± 63.57   \n",
       "RuleFit            512.2 ± 61.05           583.8 ± 63.57   \n",
       "RF-d               501.2 ± 68.75           583.8 ± 63.57   \n",
       "RF                 516.0 ± 63.86           583.8 ± 63.57   \n",
       "l-SVM-p           412.8 ± 166.35           583.8 ± 63.57   \n",
       "r-SVM-p            151.0 ± 26.79           583.8 ± 63.57   \n",
       "LogReg-p            94.6 ± 23.79           583.8 ± 63.57   \n",
       "RuleBase           467.4 ± 60.42           583.8 ± 63.57   \n",
       "\n",
       "          violation_rate (instance) compliance_rate compliance_rate (instance)  \n",
       "l-SVM                  0.879 ± 0.01    0.122 ± 0.03               0.121 ± 0.01  \n",
       "r-SVM                  0.893 ± 0.01    0.096 ± 0.03               0.107 ± 0.01  \n",
       "RogReg                 0.884 ± 0.01    0.117 ± 0.03               0.116 ± 0.01  \n",
       "RuleFit-d              0.872 ± 0.02    0.198 ± 0.09               0.128 ± 0.02  \n",
       "RuleFit                0.877 ± 0.01    0.121 ± 0.06               0.123 ± 0.01  \n",
       "RF-d                   0.857 ± 0.02    0.259 ± 0.08               0.143 ± 0.02  \n",
       "RF                     0.883 ± 0.02    0.123 ± 0.05               0.117 ± 0.02  \n",
       "l-SVM-p                0.694 ± 0.25    0.348 ± 0.07               0.306 ± 0.25  \n",
       "r-SVM-p                0.259 ± 0.04    0.343 ± 0.12               0.741 ± 0.04  \n",
       "LogReg-p               0.162 ± 0.04     0.45 ± 0.12               0.838 ± 0.04  \n",
       "RuleBase                 0.8 ± 0.03    0.412 ± 0.04                 0.2 ± 0.03  "
      ]
     },
     "metadata": {},
     "output_type": "display_data"
    }
   ],
   "source": [
    "print('hello')\n",
    "display(result_df)"
   ]
  },
  {
   "cell_type": "code",
   "execution_count": null,
   "metadata": {},
   "outputs": [],
   "source": [
    "import os\n",
    "# 実験によってパラメータが違うので注意\n",
    "######################################\n",
    "######################################\n",
    "######################################\n",
    "######################################\n",
    "\n",
    "\n",
    "for version, (dfs, info) in enumerate(zip(result_dfs, infos)):\n",
    "    \n",
    "    for nth_fold, df in enumerate(dfs):\n",
    "\n",
    "        df['nth_fold'] = nth_fold\n",
    "        df['n_splits'] = 5\n",
    "        df['C1'] = 10\n",
    "        df['C2'] = 10\n",
    "        df['n_unsupervised'] = info\n",
    "        df['rule_thr'] = 0\n",
    "\n",
    "        # フォルダーを作成する\n",
    "        ########################################\n",
    "        ########################################\n",
    "        ########################################\n",
    "        ########################################\n",
    "        ########################################\n",
    "        folder_path = os.path.join(project_dir_path, f'experiment_result/results_organized/experiment_{expt_num}/fold_{nth_fold}')\n",
    "        os.makedirs(folder_path, exist_ok=True)\n",
    "\n",
    "        file_path = f'{folder_path}/ver_{version}.csv'\n",
    "        print(file_path)\n",
    "\n",
    "        df.to_csv(file_path)\n"
   ]
  },
  {
   "cell_type": "code",
   "execution_count": null,
   "metadata": {},
   "outputs": [],
   "source": []
  },
  {
   "cell_type": "code",
   "execution_count": 6,
   "metadata": {},
   "outputs": [],
   "source": [
    "df_mean.to_csv(\"result_mean.csv\")"
   ]
  },
  {
   "cell_type": "code",
   "execution_count": 7,
   "metadata": {},
   "outputs": [],
   "source": [
    "df_std.to_csv(\"result_std.csv\")"
   ]
  },
  {
   "cell_type": "code",
   "execution_count": null,
   "metadata": {},
   "outputs": [],
   "source": []
  },
  {
   "cell_type": "code",
   "execution_count": null,
   "metadata": {},
   "outputs": [],
   "source": []
  },
  {
   "cell_type": "code",
   "execution_count": null,
   "metadata": {},
   "outputs": [],
   "source": []
  },
  {
   "cell_type": "code",
   "execution_count": null,
   "metadata": {},
   "outputs": [],
   "source": []
  },
  {
   "cell_type": "code",
   "execution_count": null,
   "metadata": {},
   "outputs": [],
   "source": []
  },
  {
   "cell_type": "code",
   "execution_count": null,
   "metadata": {},
   "outputs": [],
   "source": []
  },
  {
   "cell_type": "code",
   "execution_count": null,
   "metadata": {},
   "outputs": [],
   "source": []
  },
  {
   "cell_type": "markdown",
   "metadata": {},
   "source": [
    "# 1"
   ]
  },
  {
   "cell_type": "code",
   "execution_count": 1,
   "metadata": {},
   "outputs": [],
   "source": [
    "import json\n",
    "import pandas as pd"
   ]
  },
  {
   "cell_type": "code",
   "execution_count": 2,
   "metadata": {},
   "outputs": [],
   "source": [
    "result_file_path = \"./experiments/version_10/result.json\"\n",
    "\n",
    "with open(result_file_path, 'r') as f:\n",
    "    json_data = json.load(f)\n",
    "\n",
    "result_dfs = []\n",
    "\n",
    "for fold, _ in json_data[\"result\"].items():\n",
    "    result_df = pd.DataFrame(json_data['result'][fold]).T\n",
    "    result_dfs.append(result_df)"
   ]
  },
  {
   "cell_type": "code",
   "execution_count": 3,
   "metadata": {},
   "outputs": [
    {
     "data": {
      "text/plain": [
       "Index(['RuleFit Classifier (disc)', 'tree generator (disc)',\n",
       "       'RuleFit Classifier (conti)', 'tree generator (conti)',\n",
       "       'linear svm (L)', 'non-linear svm (L)', 'logistic regression (L)',\n",
       "       'linear svm', 'non-linear svm', 'logistic regression'],\n",
       "      dtype='object')"
      ]
     },
     "execution_count": 3,
     "metadata": {},
     "output_type": "execute_result"
    }
   ],
   "source": [
    "original_idx_order = result_dfs[0].index\n",
    "original_idx_order"
   ]
  },
  {
   "cell_type": "code",
   "execution_count": 4,
   "metadata": {},
   "outputs": [],
   "source": [
    "combined_df = pd.concat(result_dfs, ignore_index=False)"
   ]
  },
  {
   "cell_type": "code",
   "execution_count": 5,
   "metadata": {},
   "outputs": [
    {
     "data": {
      "text/html": [
       "<div>\n",
       "<style scoped>\n",
       "    .dataframe tbody tr th:only-of-type {\n",
       "        vertical-align: middle;\n",
       "    }\n",
       "\n",
       "    .dataframe tbody tr th {\n",
       "        vertical-align: top;\n",
       "    }\n",
       "\n",
       "    .dataframe thead th {\n",
       "        text-align: right;\n",
       "    }\n",
       "</style>\n",
       "<table border=\"1\" class=\"dataframe\">\n",
       "  <thead>\n",
       "    <tr style=\"text-align: right;\">\n",
       "      <th></th>\n",
       "      <th>accuracy</th>\n",
       "      <th>precision</th>\n",
       "      <th>recall</th>\n",
       "      <th>f1</th>\n",
       "      <th>auc</th>\n",
       "      <th>n_violation</th>\n",
       "      <th>n_rule</th>\n",
       "      <th>violation_rate</th>\n",
       "    </tr>\n",
       "  </thead>\n",
       "  <tbody>\n",
       "    <tr>\n",
       "      <th>RuleFit Classifier (disc)</th>\n",
       "      <td>0.783582</td>\n",
       "      <td>0.742431</td>\n",
       "      <td>0.521271</td>\n",
       "      <td>0.610252</td>\n",
       "      <td>0.815869</td>\n",
       "      <td>28.2</td>\n",
       "      <td>34.8</td>\n",
       "      <td>0.804880</td>\n",
       "    </tr>\n",
       "    <tr>\n",
       "      <th>tree generator (disc)</th>\n",
       "      <td>0.741791</td>\n",
       "      <td>0.627843</td>\n",
       "      <td>0.557706</td>\n",
       "      <td>0.582608</td>\n",
       "      <td>0.772322</td>\n",
       "      <td>25.8</td>\n",
       "      <td>34.8</td>\n",
       "      <td>0.738615</td>\n",
       "    </tr>\n",
       "    <tr>\n",
       "      <th>RuleFit Classifier (conti)</th>\n",
       "      <td>0.732836</td>\n",
       "      <td>0.601979</td>\n",
       "      <td>0.553471</td>\n",
       "      <td>0.571908</td>\n",
       "      <td>0.795116</td>\n",
       "      <td>30.6</td>\n",
       "      <td>34.8</td>\n",
       "      <td>0.881150</td>\n",
       "    </tr>\n",
       "    <tr>\n",
       "      <th>tree generator (conti)</th>\n",
       "      <td>0.782090</td>\n",
       "      <td>0.715158</td>\n",
       "      <td>0.568106</td>\n",
       "      <td>0.627460</td>\n",
       "      <td>0.832600</td>\n",
       "      <td>30.6</td>\n",
       "      <td>34.8</td>\n",
       "      <td>0.879968</td>\n",
       "    </tr>\n",
       "    <tr>\n",
       "      <th>linear svm (L)</th>\n",
       "      <td>0.450746</td>\n",
       "      <td>0.386806</td>\n",
       "      <td>0.955416</td>\n",
       "      <td>0.540092</td>\n",
       "      <td>0.536953</td>\n",
       "      <td>21.8</td>\n",
       "      <td>34.8</td>\n",
       "      <td>0.629842</td>\n",
       "    </tr>\n",
       "    <tr>\n",
       "      <th>non-linear svm (L)</th>\n",
       "      <td>0.716418</td>\n",
       "      <td>0.546190</td>\n",
       "      <td>0.752745</td>\n",
       "      <td>0.631315</td>\n",
       "      <td>0.822545</td>\n",
       "      <td>23.2</td>\n",
       "      <td>34.8</td>\n",
       "      <td>0.663664</td>\n",
       "    </tr>\n",
       "    <tr>\n",
       "      <th>logistic regression (L)</th>\n",
       "      <td>0.770149</td>\n",
       "      <td>0.732412</td>\n",
       "      <td>0.470891</td>\n",
       "      <td>0.570208</td>\n",
       "      <td>0.826615</td>\n",
       "      <td>19.2</td>\n",
       "      <td>34.8</td>\n",
       "      <td>0.552303</td>\n",
       "    </tr>\n",
       "    <tr>\n",
       "      <th>linear svm</th>\n",
       "      <td>0.779104</td>\n",
       "      <td>0.711436</td>\n",
       "      <td>0.551175</td>\n",
       "      <td>0.618693</td>\n",
       "      <td>0.837805</td>\n",
       "      <td>30.6</td>\n",
       "      <td>34.8</td>\n",
       "      <td>0.880463</td>\n",
       "    </tr>\n",
       "    <tr>\n",
       "      <th>non-linear svm</th>\n",
       "      <td>0.780597</td>\n",
       "      <td>0.759070</td>\n",
       "      <td>0.479714</td>\n",
       "      <td>0.587201</td>\n",
       "      <td>0.838064</td>\n",
       "      <td>31.6</td>\n",
       "      <td>34.8</td>\n",
       "      <td>0.908449</td>\n",
       "    </tr>\n",
       "    <tr>\n",
       "      <th>logistic regression</th>\n",
       "      <td>0.782090</td>\n",
       "      <td>0.731143</td>\n",
       "      <td>0.530165</td>\n",
       "      <td>0.612464</td>\n",
       "      <td>0.840573</td>\n",
       "      <td>30.8</td>\n",
       "      <td>34.8</td>\n",
       "      <td>0.886178</td>\n",
       "    </tr>\n",
       "  </tbody>\n",
       "</table>\n",
       "</div>"
      ],
      "text/plain": [
       "                            accuracy  precision    recall        f1       auc  \\\n",
       "RuleFit Classifier (disc)   0.783582   0.742431  0.521271  0.610252  0.815869   \n",
       "tree generator (disc)       0.741791   0.627843  0.557706  0.582608  0.772322   \n",
       "RuleFit Classifier (conti)  0.732836   0.601979  0.553471  0.571908  0.795116   \n",
       "tree generator (conti)      0.782090   0.715158  0.568106  0.627460  0.832600   \n",
       "linear svm (L)              0.450746   0.386806  0.955416  0.540092  0.536953   \n",
       "non-linear svm (L)          0.716418   0.546190  0.752745  0.631315  0.822545   \n",
       "logistic regression (L)     0.770149   0.732412  0.470891  0.570208  0.826615   \n",
       "linear svm                  0.779104   0.711436  0.551175  0.618693  0.837805   \n",
       "non-linear svm              0.780597   0.759070  0.479714  0.587201  0.838064   \n",
       "logistic regression         0.782090   0.731143  0.530165  0.612464  0.840573   \n",
       "\n",
       "                            n_violation  n_rule  violation_rate  \n",
       "RuleFit Classifier (disc)          28.2    34.8        0.804880  \n",
       "tree generator (disc)              25.8    34.8        0.738615  \n",
       "RuleFit Classifier (conti)         30.6    34.8        0.881150  \n",
       "tree generator (conti)             30.6    34.8        0.879968  \n",
       "linear svm (L)                     21.8    34.8        0.629842  \n",
       "non-linear svm (L)                 23.2    34.8        0.663664  \n",
       "logistic regression (L)            19.2    34.8        0.552303  \n",
       "linear svm                         30.6    34.8        0.880463  \n",
       "non-linear svm                     31.6    34.8        0.908449  \n",
       "logistic regression                30.8    34.8        0.886178  "
      ]
     },
     "execution_count": 5,
     "metadata": {},
     "output_type": "execute_result"
    }
   ],
   "source": [
    "result_df_mean = combined_df.groupby(combined_df.index).mean()\n",
    "result_df_mean  = result_df_mean.reindex(original_idx_order)\n",
    "result_df_mean"
   ]
  },
  {
   "cell_type": "code",
   "execution_count": 6,
   "metadata": {},
   "outputs": [
    {
     "data": {
      "text/html": [
       "<div>\n",
       "<style scoped>\n",
       "    .dataframe tbody tr th:only-of-type {\n",
       "        vertical-align: middle;\n",
       "    }\n",
       "\n",
       "    .dataframe tbody tr th {\n",
       "        vertical-align: top;\n",
       "    }\n",
       "\n",
       "    .dataframe thead th {\n",
       "        text-align: right;\n",
       "    }\n",
       "</style>\n",
       "<table border=\"1\" class=\"dataframe\">\n",
       "  <thead>\n",
       "    <tr style=\"text-align: right;\">\n",
       "      <th></th>\n",
       "      <th>accuracy</th>\n",
       "      <th>precision</th>\n",
       "      <th>recall</th>\n",
       "      <th>f1</th>\n",
       "      <th>auc</th>\n",
       "      <th>n_violation</th>\n",
       "      <th>n_rule</th>\n",
       "      <th>violation_rate</th>\n",
       "    </tr>\n",
       "  </thead>\n",
       "  <tbody>\n",
       "    <tr>\n",
       "      <th>RuleFit Classifier (disc)</th>\n",
       "      <td>0.044776</td>\n",
       "      <td>0.048551</td>\n",
       "      <td>0.064326</td>\n",
       "      <td>0.044856</td>\n",
       "      <td>0.051520</td>\n",
       "      <td>5.167204</td>\n",
       "      <td>3.271085</td>\n",
       "      <td>0.084470</td>\n",
       "    </tr>\n",
       "    <tr>\n",
       "      <th>tree generator (disc)</th>\n",
       "      <td>0.049950</td>\n",
       "      <td>0.094845</td>\n",
       "      <td>0.077244</td>\n",
       "      <td>0.037668</td>\n",
       "      <td>0.049073</td>\n",
       "      <td>4.086563</td>\n",
       "      <td>3.271085</td>\n",
       "      <td>0.068354</td>\n",
       "    </tr>\n",
       "    <tr>\n",
       "      <th>RuleFit Classifier (conti)</th>\n",
       "      <td>0.040326</td>\n",
       "      <td>0.076503</td>\n",
       "      <td>0.064527</td>\n",
       "      <td>0.037194</td>\n",
       "      <td>0.032516</td>\n",
       "      <td>2.966479</td>\n",
       "      <td>3.271085</td>\n",
       "      <td>0.065019</td>\n",
       "    </tr>\n",
       "    <tr>\n",
       "      <th>tree generator (conti)</th>\n",
       "      <td>0.037089</td>\n",
       "      <td>0.071703</td>\n",
       "      <td>0.076514</td>\n",
       "      <td>0.029962</td>\n",
       "      <td>0.039969</td>\n",
       "      <td>3.049590</td>\n",
       "      <td>3.271085</td>\n",
       "      <td>0.047223</td>\n",
       "    </tr>\n",
       "    <tr>\n",
       "      <th>linear svm (L)</th>\n",
       "      <td>0.190744</td>\n",
       "      <td>0.108598</td>\n",
       "      <td>0.069723</td>\n",
       "      <td>0.104232</td>\n",
       "      <td>0.318435</td>\n",
       "      <td>0.836660</td>\n",
       "      <td>3.271085</td>\n",
       "      <td>0.048672</td>\n",
       "    </tr>\n",
       "    <tr>\n",
       "      <th>non-linear svm (L)</th>\n",
       "      <td>0.051972</td>\n",
       "      <td>0.024709</td>\n",
       "      <td>0.108037</td>\n",
       "      <td>0.049436</td>\n",
       "      <td>0.045971</td>\n",
       "      <td>4.438468</td>\n",
       "      <td>3.271085</td>\n",
       "      <td>0.086825</td>\n",
       "    </tr>\n",
       "    <tr>\n",
       "      <th>logistic regression (L)</th>\n",
       "      <td>0.047609</td>\n",
       "      <td>0.061147</td>\n",
       "      <td>0.071020</td>\n",
       "      <td>0.056079</td>\n",
       "      <td>0.050752</td>\n",
       "      <td>4.086563</td>\n",
       "      <td>3.271085</td>\n",
       "      <td>0.109578</td>\n",
       "    </tr>\n",
       "    <tr>\n",
       "      <th>linear svm</th>\n",
       "      <td>0.053711</td>\n",
       "      <td>0.048340</td>\n",
       "      <td>0.086460</td>\n",
       "      <td>0.061671</td>\n",
       "      <td>0.045376</td>\n",
       "      <td>2.509980</td>\n",
       "      <td>3.271085</td>\n",
       "      <td>0.029227</td>\n",
       "    </tr>\n",
       "    <tr>\n",
       "      <th>non-linear svm</th>\n",
       "      <td>0.046485</td>\n",
       "      <td>0.057760</td>\n",
       "      <td>0.048936</td>\n",
       "      <td>0.050200</td>\n",
       "      <td>0.048697</td>\n",
       "      <td>3.049590</td>\n",
       "      <td>3.271085</td>\n",
       "      <td>0.039147</td>\n",
       "    </tr>\n",
       "    <tr>\n",
       "      <th>logistic regression</th>\n",
       "      <td>0.045821</td>\n",
       "      <td>0.058217</td>\n",
       "      <td>0.063637</td>\n",
       "      <td>0.047569</td>\n",
       "      <td>0.047432</td>\n",
       "      <td>2.489980</td>\n",
       "      <td>3.271085</td>\n",
       "      <td>0.026160</td>\n",
       "    </tr>\n",
       "  </tbody>\n",
       "</table>\n",
       "</div>"
      ],
      "text/plain": [
       "                            accuracy  precision    recall        f1       auc  \\\n",
       "RuleFit Classifier (disc)   0.044776   0.048551  0.064326  0.044856  0.051520   \n",
       "tree generator (disc)       0.049950   0.094845  0.077244  0.037668  0.049073   \n",
       "RuleFit Classifier (conti)  0.040326   0.076503  0.064527  0.037194  0.032516   \n",
       "tree generator (conti)      0.037089   0.071703  0.076514  0.029962  0.039969   \n",
       "linear svm (L)              0.190744   0.108598  0.069723  0.104232  0.318435   \n",
       "non-linear svm (L)          0.051972   0.024709  0.108037  0.049436  0.045971   \n",
       "logistic regression (L)     0.047609   0.061147  0.071020  0.056079  0.050752   \n",
       "linear svm                  0.053711   0.048340  0.086460  0.061671  0.045376   \n",
       "non-linear svm              0.046485   0.057760  0.048936  0.050200  0.048697   \n",
       "logistic regression         0.045821   0.058217  0.063637  0.047569  0.047432   \n",
       "\n",
       "                            n_violation    n_rule  violation_rate  \n",
       "RuleFit Classifier (disc)      5.167204  3.271085        0.084470  \n",
       "tree generator (disc)          4.086563  3.271085        0.068354  \n",
       "RuleFit Classifier (conti)     2.966479  3.271085        0.065019  \n",
       "tree generator (conti)         3.049590  3.271085        0.047223  \n",
       "linear svm (L)                 0.836660  3.271085        0.048672  \n",
       "non-linear svm (L)             4.438468  3.271085        0.086825  \n",
       "logistic regression (L)        4.086563  3.271085        0.109578  \n",
       "linear svm                     2.509980  3.271085        0.029227  \n",
       "non-linear svm                 3.049590  3.271085        0.039147  \n",
       "logistic regression            2.489980  3.271085        0.026160  "
      ]
     },
     "execution_count": 6,
     "metadata": {},
     "output_type": "execute_result"
    }
   ],
   "source": [
    "result_df_std = combined_df.groupby(combined_df.index).std()\n",
    "result_df_std = result_df_std.reindex(original_idx_order)\n",
    "\n",
    "result_df_std"
   ]
  },
  {
   "cell_type": "code",
   "execution_count": 7,
   "metadata": {},
   "outputs": [
    {
     "name": "stdout",
     "output_type": "stream",
     "text": [
      "                            accuracy  precision    recall        f1       auc  \\\n",
      "RuleFit Classifier (disc)   0.783582   0.742431  0.521271  0.610252  0.815869   \n",
      "tree generator (disc)       0.741791   0.627843  0.557706  0.582608  0.772322   \n",
      "RuleFit Classifier (conti)  0.732836   0.601979  0.553471  0.571908  0.795116   \n",
      "tree generator (conti)      0.782090   0.715158  0.568106  0.627460  0.832600   \n",
      "linear svm (L)              0.450746   0.386806  0.955416  0.540092  0.536953   \n",
      "non-linear svm (L)          0.716418   0.546190  0.752745  0.631315  0.822545   \n",
      "logistic regression (L)     0.770149   0.732412  0.470891  0.570208  0.826615   \n",
      "linear svm                  0.779104   0.711436  0.551175  0.618693  0.837805   \n",
      "non-linear svm              0.780597   0.759070  0.479714  0.587201  0.838064   \n",
      "logistic regression         0.782090   0.731143  0.530165  0.612464  0.840573   \n",
      "\n",
      "                            n_violation  n_rule  violation_rate  \n",
      "RuleFit Classifier (disc)          28.2    34.8        0.804880  \n",
      "tree generator (disc)              25.8    34.8        0.738615  \n",
      "RuleFit Classifier (conti)         30.6    34.8        0.881150  \n",
      "tree generator (conti)             30.6    34.8        0.879968  \n",
      "linear svm (L)                     21.8    34.8        0.629842  \n",
      "non-linear svm (L)                 23.2    34.8        0.663664  \n",
      "logistic regression (L)            19.2    34.8        0.552303  \n",
      "linear svm                         30.6    34.8        0.880463  \n",
      "non-linear svm                     31.6    34.8        0.908449  \n",
      "logistic regression                30.8    34.8        0.886178  \n"
     ]
    }
   ],
   "source": [
    "print(result_df_mean)"
   ]
  },
  {
   "cell_type": "code",
   "execution_count": 8,
   "metadata": {},
   "outputs": [
    {
     "name": "stdout",
     "output_type": "stream",
     "text": [
      "                            accuracy  precision    recall        f1       auc  \\\n",
      "RuleFit Classifier (disc)   0.044776   0.048551  0.064326  0.044856  0.051520   \n",
      "tree generator (disc)       0.049950   0.094845  0.077244  0.037668  0.049073   \n",
      "RuleFit Classifier (conti)  0.040326   0.076503  0.064527  0.037194  0.032516   \n",
      "tree generator (conti)      0.037089   0.071703  0.076514  0.029962  0.039969   \n",
      "linear svm (L)              0.190744   0.108598  0.069723  0.104232  0.318435   \n",
      "non-linear svm (L)          0.051972   0.024709  0.108037  0.049436  0.045971   \n",
      "logistic regression (L)     0.047609   0.061147  0.071020  0.056079  0.050752   \n",
      "linear svm                  0.053711   0.048340  0.086460  0.061671  0.045376   \n",
      "non-linear svm              0.046485   0.057760  0.048936  0.050200  0.048697   \n",
      "logistic regression         0.045821   0.058217  0.063637  0.047569  0.047432   \n",
      "\n",
      "                            n_violation    n_rule  violation_rate  \n",
      "RuleFit Classifier (disc)      5.167204  3.271085        0.084470  \n",
      "tree generator (disc)          4.086563  3.271085        0.068354  \n",
      "RuleFit Classifier (conti)     2.966479  3.271085        0.065019  \n",
      "tree generator (conti)         3.049590  3.271085        0.047223  \n",
      "linear svm (L)                 0.836660  3.271085        0.048672  \n",
      "non-linear svm (L)             4.438468  3.271085        0.086825  \n",
      "logistic regression (L)        4.086563  3.271085        0.109578  \n",
      "linear svm                     2.509980  3.271085        0.029227  \n",
      "non-linear svm                 3.049590  3.271085        0.039147  \n",
      "logistic regression            2.489980  3.271085        0.026160  \n"
     ]
    }
   ],
   "source": [
    "print(result_df_std)"
   ]
  },
  {
   "cell_type": "code",
   "execution_count": 9,
   "metadata": {},
   "outputs": [
    {
     "name": "stdout",
     "output_type": "stream",
     "text": [
      "                                 accuracy      precision         recall  \\\n",
      "RuleFit Classifier (disc)   0.784 ± 0.045  0.742 ± 0.049  0.521 ± 0.064   \n",
      "tree generator (disc)       0.742 ± 0.050  0.628 ± 0.095  0.558 ± 0.077   \n",
      "RuleFit Classifier (conti)  0.733 ± 0.040  0.602 ± 0.077  0.553 ± 0.065   \n",
      "tree generator (conti)      0.782 ± 0.037  0.715 ± 0.072  0.568 ± 0.077   \n",
      "linear svm (L)              0.451 ± 0.191  0.387 ± 0.109  0.955 ± 0.070   \n",
      "non-linear svm (L)          0.716 ± 0.052  0.546 ± 0.025  0.753 ± 0.108   \n",
      "logistic regression (L)     0.770 ± 0.048  0.732 ± 0.061  0.471 ± 0.071   \n",
      "linear svm                  0.779 ± 0.054  0.711 ± 0.048  0.551 ± 0.086   \n",
      "non-linear svm              0.781 ± 0.046  0.759 ± 0.058  0.480 ± 0.049   \n",
      "logistic regression         0.782 ± 0.046  0.731 ± 0.058  0.530 ± 0.064   \n",
      "\n",
      "                                       f1            auc     n_violation  \\\n",
      "RuleFit Classifier (disc)   0.610 ± 0.045  0.816 ± 0.052  28.200 ± 5.167   \n",
      "tree generator (disc)       0.583 ± 0.038  0.772 ± 0.049  25.800 ± 4.087   \n",
      "RuleFit Classifier (conti)  0.572 ± 0.037  0.795 ± 0.033  30.600 ± 2.966   \n",
      "tree generator (conti)      0.627 ± 0.030  0.833 ± 0.040  30.600 ± 3.050   \n",
      "linear svm (L)              0.540 ± 0.104  0.537 ± 0.318  21.800 ± 0.837   \n",
      "non-linear svm (L)          0.631 ± 0.049  0.823 ± 0.046  23.200 ± 4.438   \n",
      "logistic regression (L)     0.570 ± 0.056  0.827 ± 0.051  19.200 ± 4.087   \n",
      "linear svm                  0.619 ± 0.062  0.838 ± 0.045  30.600 ± 2.510   \n",
      "non-linear svm              0.587 ± 0.050  0.838 ± 0.049  31.600 ± 3.050   \n",
      "logistic regression         0.612 ± 0.048  0.841 ± 0.047  30.800 ± 2.490   \n",
      "\n",
      "                                    n_rule violation_rate  \n",
      "RuleFit Classifier (disc)   34.800 ± 3.271  0.805 ± 0.084  \n",
      "tree generator (disc)       34.800 ± 3.271  0.739 ± 0.068  \n",
      "RuleFit Classifier (conti)  34.800 ± 3.271  0.881 ± 0.065  \n",
      "tree generator (conti)      34.800 ± 3.271  0.880 ± 0.047  \n",
      "linear svm (L)              34.800 ± 3.271  0.630 ± 0.049  \n",
      "non-linear svm (L)          34.800 ± 3.271  0.664 ± 0.087  \n",
      "logistic regression (L)     34.800 ± 3.271  0.552 ± 0.110  \n",
      "linear svm                  34.800 ± 3.271  0.880 ± 0.029  \n",
      "non-linear svm              34.800 ± 3.271  0.908 ± 0.039  \n",
      "logistic regression         34.800 ± 3.271  0.886 ± 0.026  \n"
     ]
    }
   ],
   "source": [
    "# データフレームを結合して、指定された形式で値を表示する\n",
    "df1 = result_df_mean\n",
    "df2 = result_df_std\n",
    "\n",
    "merged_df = df1.copy()\n",
    "for col in df1.columns:\n",
    "    merged_df[col] = df1[col].apply(lambda x: \"{:.3f}\".format(x)) + ' ± ' + df2[col].apply(lambda x: \"{:.3f}\".format(x))\n",
    "\n",
    "print(merged_df)"
   ]
  },
  {
   "cell_type": "code",
   "execution_count": 10,
   "metadata": {},
   "outputs": [
    {
     "data": {
      "text/html": [
       "<div>\n",
       "<style scoped>\n",
       "    .dataframe tbody tr th:only-of-type {\n",
       "        vertical-align: middle;\n",
       "    }\n",
       "\n",
       "    .dataframe tbody tr th {\n",
       "        vertical-align: top;\n",
       "    }\n",
       "\n",
       "    .dataframe thead th {\n",
       "        text-align: right;\n",
       "    }\n",
       "</style>\n",
       "<table border=\"1\" class=\"dataframe\">\n",
       "  <thead>\n",
       "    <tr style=\"text-align: right;\">\n",
       "      <th></th>\n",
       "      <th>accuracy</th>\n",
       "      <th>precision</th>\n",
       "      <th>recall</th>\n",
       "      <th>f1</th>\n",
       "      <th>auc</th>\n",
       "      <th>n_violation</th>\n",
       "      <th>n_rule</th>\n",
       "      <th>violation_rate</th>\n",
       "    </tr>\n",
       "  </thead>\n",
       "  <tbody>\n",
       "    <tr>\n",
       "      <th>RuleFit Classifier (disc)</th>\n",
       "      <td>0.784 ± 0.045</td>\n",
       "      <td>0.742 ± 0.049</td>\n",
       "      <td>0.521 ± 0.064</td>\n",
       "      <td>0.610 ± 0.045</td>\n",
       "      <td>0.816 ± 0.052</td>\n",
       "      <td>28.200 ± 5.167</td>\n",
       "      <td>34.800 ± 3.271</td>\n",
       "      <td>0.805 ± 0.084</td>\n",
       "    </tr>\n",
       "    <tr>\n",
       "      <th>tree generator (disc)</th>\n",
       "      <td>0.742 ± 0.050</td>\n",
       "      <td>0.628 ± 0.095</td>\n",
       "      <td>0.558 ± 0.077</td>\n",
       "      <td>0.583 ± 0.038</td>\n",
       "      <td>0.772 ± 0.049</td>\n",
       "      <td>25.800 ± 4.087</td>\n",
       "      <td>34.800 ± 3.271</td>\n",
       "      <td>0.739 ± 0.068</td>\n",
       "    </tr>\n",
       "    <tr>\n",
       "      <th>RuleFit Classifier (conti)</th>\n",
       "      <td>0.733 ± 0.040</td>\n",
       "      <td>0.602 ± 0.077</td>\n",
       "      <td>0.553 ± 0.065</td>\n",
       "      <td>0.572 ± 0.037</td>\n",
       "      <td>0.795 ± 0.033</td>\n",
       "      <td>30.600 ± 2.966</td>\n",
       "      <td>34.800 ± 3.271</td>\n",
       "      <td>0.881 ± 0.065</td>\n",
       "    </tr>\n",
       "    <tr>\n",
       "      <th>tree generator (conti)</th>\n",
       "      <td>0.782 ± 0.037</td>\n",
       "      <td>0.715 ± 0.072</td>\n",
       "      <td>0.568 ± 0.077</td>\n",
       "      <td>0.627 ± 0.030</td>\n",
       "      <td>0.833 ± 0.040</td>\n",
       "      <td>30.600 ± 3.050</td>\n",
       "      <td>34.800 ± 3.271</td>\n",
       "      <td>0.880 ± 0.047</td>\n",
       "    </tr>\n",
       "    <tr>\n",
       "      <th>linear svm (L)</th>\n",
       "      <td>0.451 ± 0.191</td>\n",
       "      <td>0.387 ± 0.109</td>\n",
       "      <td>0.955 ± 0.070</td>\n",
       "      <td>0.540 ± 0.104</td>\n",
       "      <td>0.537 ± 0.318</td>\n",
       "      <td>21.800 ± 0.837</td>\n",
       "      <td>34.800 ± 3.271</td>\n",
       "      <td>0.630 ± 0.049</td>\n",
       "    </tr>\n",
       "    <tr>\n",
       "      <th>non-linear svm (L)</th>\n",
       "      <td>0.716 ± 0.052</td>\n",
       "      <td>0.546 ± 0.025</td>\n",
       "      <td>0.753 ± 0.108</td>\n",
       "      <td>0.631 ± 0.049</td>\n",
       "      <td>0.823 ± 0.046</td>\n",
       "      <td>23.200 ± 4.438</td>\n",
       "      <td>34.800 ± 3.271</td>\n",
       "      <td>0.664 ± 0.087</td>\n",
       "    </tr>\n",
       "    <tr>\n",
       "      <th>logistic regression (L)</th>\n",
       "      <td>0.770 ± 0.048</td>\n",
       "      <td>0.732 ± 0.061</td>\n",
       "      <td>0.471 ± 0.071</td>\n",
       "      <td>0.570 ± 0.056</td>\n",
       "      <td>0.827 ± 0.051</td>\n",
       "      <td>19.200 ± 4.087</td>\n",
       "      <td>34.800 ± 3.271</td>\n",
       "      <td>0.552 ± 0.110</td>\n",
       "    </tr>\n",
       "    <tr>\n",
       "      <th>linear svm</th>\n",
       "      <td>0.779 ± 0.054</td>\n",
       "      <td>0.711 ± 0.048</td>\n",
       "      <td>0.551 ± 0.086</td>\n",
       "      <td>0.619 ± 0.062</td>\n",
       "      <td>0.838 ± 0.045</td>\n",
       "      <td>30.600 ± 2.510</td>\n",
       "      <td>34.800 ± 3.271</td>\n",
       "      <td>0.880 ± 0.029</td>\n",
       "    </tr>\n",
       "    <tr>\n",
       "      <th>non-linear svm</th>\n",
       "      <td>0.781 ± 0.046</td>\n",
       "      <td>0.759 ± 0.058</td>\n",
       "      <td>0.480 ± 0.049</td>\n",
       "      <td>0.587 ± 0.050</td>\n",
       "      <td>0.838 ± 0.049</td>\n",
       "      <td>31.600 ± 3.050</td>\n",
       "      <td>34.800 ± 3.271</td>\n",
       "      <td>0.908 ± 0.039</td>\n",
       "    </tr>\n",
       "    <tr>\n",
       "      <th>logistic regression</th>\n",
       "      <td>0.782 ± 0.046</td>\n",
       "      <td>0.731 ± 0.058</td>\n",
       "      <td>0.530 ± 0.064</td>\n",
       "      <td>0.612 ± 0.048</td>\n",
       "      <td>0.841 ± 0.047</td>\n",
       "      <td>30.800 ± 2.490</td>\n",
       "      <td>34.800 ± 3.271</td>\n",
       "      <td>0.886 ± 0.026</td>\n",
       "    </tr>\n",
       "  </tbody>\n",
       "</table>\n",
       "</div>"
      ],
      "text/plain": [
       "                                 accuracy      precision         recall  \\\n",
       "RuleFit Classifier (disc)   0.784 ± 0.045  0.742 ± 0.049  0.521 ± 0.064   \n",
       "tree generator (disc)       0.742 ± 0.050  0.628 ± 0.095  0.558 ± 0.077   \n",
       "RuleFit Classifier (conti)  0.733 ± 0.040  0.602 ± 0.077  0.553 ± 0.065   \n",
       "tree generator (conti)      0.782 ± 0.037  0.715 ± 0.072  0.568 ± 0.077   \n",
       "linear svm (L)              0.451 ± 0.191  0.387 ± 0.109  0.955 ± 0.070   \n",
       "non-linear svm (L)          0.716 ± 0.052  0.546 ± 0.025  0.753 ± 0.108   \n",
       "logistic regression (L)     0.770 ± 0.048  0.732 ± 0.061  0.471 ± 0.071   \n",
       "linear svm                  0.779 ± 0.054  0.711 ± 0.048  0.551 ± 0.086   \n",
       "non-linear svm              0.781 ± 0.046  0.759 ± 0.058  0.480 ± 0.049   \n",
       "logistic regression         0.782 ± 0.046  0.731 ± 0.058  0.530 ± 0.064   \n",
       "\n",
       "                                       f1            auc     n_violation  \\\n",
       "RuleFit Classifier (disc)   0.610 ± 0.045  0.816 ± 0.052  28.200 ± 5.167   \n",
       "tree generator (disc)       0.583 ± 0.038  0.772 ± 0.049  25.800 ± 4.087   \n",
       "RuleFit Classifier (conti)  0.572 ± 0.037  0.795 ± 0.033  30.600 ± 2.966   \n",
       "tree generator (conti)      0.627 ± 0.030  0.833 ± 0.040  30.600 ± 3.050   \n",
       "linear svm (L)              0.540 ± 0.104  0.537 ± 0.318  21.800 ± 0.837   \n",
       "non-linear svm (L)          0.631 ± 0.049  0.823 ± 0.046  23.200 ± 4.438   \n",
       "logistic regression (L)     0.570 ± 0.056  0.827 ± 0.051  19.200 ± 4.087   \n",
       "linear svm                  0.619 ± 0.062  0.838 ± 0.045  30.600 ± 2.510   \n",
       "non-linear svm              0.587 ± 0.050  0.838 ± 0.049  31.600 ± 3.050   \n",
       "logistic regression         0.612 ± 0.048  0.841 ± 0.047  30.800 ± 2.490   \n",
       "\n",
       "                                    n_rule violation_rate  \n",
       "RuleFit Classifier (disc)   34.800 ± 3.271  0.805 ± 0.084  \n",
       "tree generator (disc)       34.800 ± 3.271  0.739 ± 0.068  \n",
       "RuleFit Classifier (conti)  34.800 ± 3.271  0.881 ± 0.065  \n",
       "tree generator (conti)      34.800 ± 3.271  0.880 ± 0.047  \n",
       "linear svm (L)              34.800 ± 3.271  0.630 ± 0.049  \n",
       "non-linear svm (L)          34.800 ± 3.271  0.664 ± 0.087  \n",
       "logistic regression (L)     34.800 ± 3.271  0.552 ± 0.110  \n",
       "linear svm                  34.800 ± 3.271  0.880 ± 0.029  \n",
       "non-linear svm              34.800 ± 3.271  0.908 ± 0.039  \n",
       "logistic regression         34.800 ± 3.271  0.886 ± 0.026  "
      ]
     },
     "execution_count": 10,
     "metadata": {},
     "output_type": "execute_result"
    }
   ],
   "source": [
    "merged_df"
   ]
  },
  {
   "cell_type": "code",
   "execution_count": 11,
   "metadata": {},
   "outputs": [
    {
     "data": {
      "text/html": [
       "<div>\n",
       "<style scoped>\n",
       "    .dataframe tbody tr th:only-of-type {\n",
       "        vertical-align: middle;\n",
       "    }\n",
       "\n",
       "    .dataframe tbody tr th {\n",
       "        vertical-align: top;\n",
       "    }\n",
       "\n",
       "    .dataframe thead th {\n",
       "        text-align: right;\n",
       "    }\n",
       "</style>\n",
       "<table border=\"1\" class=\"dataframe\">\n",
       "  <thead>\n",
       "    <tr style=\"text-align: right;\">\n",
       "      <th></th>\n",
       "      <th>auc</th>\n",
       "      <th>n_violation</th>\n",
       "      <th>n_rule</th>\n",
       "      <th>violation_rate</th>\n",
       "    </tr>\n",
       "  </thead>\n",
       "  <tbody>\n",
       "    <tr>\n",
       "      <th>RuleFit Classifier (disc)</th>\n",
       "      <td>0.816 ± 0.052</td>\n",
       "      <td>28.200 ± 5.167</td>\n",
       "      <td>34.800 ± 3.271</td>\n",
       "      <td>0.805 ± 0.084</td>\n",
       "    </tr>\n",
       "    <tr>\n",
       "      <th>tree generator (disc)</th>\n",
       "      <td>0.772 ± 0.049</td>\n",
       "      <td>25.800 ± 4.087</td>\n",
       "      <td>34.800 ± 3.271</td>\n",
       "      <td>0.739 ± 0.068</td>\n",
       "    </tr>\n",
       "    <tr>\n",
       "      <th>RuleFit Classifier (conti)</th>\n",
       "      <td>0.795 ± 0.033</td>\n",
       "      <td>30.600 ± 2.966</td>\n",
       "      <td>34.800 ± 3.271</td>\n",
       "      <td>0.881 ± 0.065</td>\n",
       "    </tr>\n",
       "    <tr>\n",
       "      <th>tree generator (conti)</th>\n",
       "      <td>0.833 ± 0.040</td>\n",
       "      <td>30.600 ± 3.050</td>\n",
       "      <td>34.800 ± 3.271</td>\n",
       "      <td>0.880 ± 0.047</td>\n",
       "    </tr>\n",
       "    <tr>\n",
       "      <th>linear svm (L)</th>\n",
       "      <td>0.537 ± 0.318</td>\n",
       "      <td>21.800 ± 0.837</td>\n",
       "      <td>34.800 ± 3.271</td>\n",
       "      <td>0.630 ± 0.049</td>\n",
       "    </tr>\n",
       "    <tr>\n",
       "      <th>non-linear svm (L)</th>\n",
       "      <td>0.823 ± 0.046</td>\n",
       "      <td>23.200 ± 4.438</td>\n",
       "      <td>34.800 ± 3.271</td>\n",
       "      <td>0.664 ± 0.087</td>\n",
       "    </tr>\n",
       "    <tr>\n",
       "      <th>logistic regression (L)</th>\n",
       "      <td>0.827 ± 0.051</td>\n",
       "      <td>19.200 ± 4.087</td>\n",
       "      <td>34.800 ± 3.271</td>\n",
       "      <td>0.552 ± 0.110</td>\n",
       "    </tr>\n",
       "    <tr>\n",
       "      <th>linear svm</th>\n",
       "      <td>0.838 ± 0.045</td>\n",
       "      <td>30.600 ± 2.510</td>\n",
       "      <td>34.800 ± 3.271</td>\n",
       "      <td>0.880 ± 0.029</td>\n",
       "    </tr>\n",
       "    <tr>\n",
       "      <th>non-linear svm</th>\n",
       "      <td>0.838 ± 0.049</td>\n",
       "      <td>31.600 ± 3.050</td>\n",
       "      <td>34.800 ± 3.271</td>\n",
       "      <td>0.908 ± 0.039</td>\n",
       "    </tr>\n",
       "    <tr>\n",
       "      <th>logistic regression</th>\n",
       "      <td>0.841 ± 0.047</td>\n",
       "      <td>30.800 ± 2.490</td>\n",
       "      <td>34.800 ± 3.271</td>\n",
       "      <td>0.886 ± 0.026</td>\n",
       "    </tr>\n",
       "  </tbody>\n",
       "</table>\n",
       "</div>"
      ],
      "text/plain": [
       "                                      auc     n_violation          n_rule  \\\n",
       "RuleFit Classifier (disc)   0.816 ± 0.052  28.200 ± 5.167  34.800 ± 3.271   \n",
       "tree generator (disc)       0.772 ± 0.049  25.800 ± 4.087  34.800 ± 3.271   \n",
       "RuleFit Classifier (conti)  0.795 ± 0.033  30.600 ± 2.966  34.800 ± 3.271   \n",
       "tree generator (conti)      0.833 ± 0.040  30.600 ± 3.050  34.800 ± 3.271   \n",
       "linear svm (L)              0.537 ± 0.318  21.800 ± 0.837  34.800 ± 3.271   \n",
       "non-linear svm (L)          0.823 ± 0.046  23.200 ± 4.438  34.800 ± 3.271   \n",
       "logistic regression (L)     0.827 ± 0.051  19.200 ± 4.087  34.800 ± 3.271   \n",
       "linear svm                  0.838 ± 0.045  30.600 ± 2.510  34.800 ± 3.271   \n",
       "non-linear svm              0.838 ± 0.049  31.600 ± 3.050  34.800 ± 3.271   \n",
       "logistic regression         0.841 ± 0.047  30.800 ± 2.490  34.800 ± 3.271   \n",
       "\n",
       "                           violation_rate  \n",
       "RuleFit Classifier (disc)   0.805 ± 0.084  \n",
       "tree generator (disc)       0.739 ± 0.068  \n",
       "RuleFit Classifier (conti)  0.881 ± 0.065  \n",
       "tree generator (conti)      0.880 ± 0.047  \n",
       "linear svm (L)              0.630 ± 0.049  \n",
       "non-linear svm (L)          0.664 ± 0.087  \n",
       "logistic regression (L)     0.552 ± 0.110  \n",
       "linear svm                  0.880 ± 0.029  \n",
       "non-linear svm              0.908 ± 0.039  \n",
       "logistic regression         0.886 ± 0.026  "
      ]
     },
     "execution_count": 11,
     "metadata": {},
     "output_type": "execute_result"
    }
   ],
   "source": [
    "filtered_df = merged_df.loc[:, ['auc', 'n_violation', 'n_rule', 'violation_rate']]\n",
    "filtered_df"
   ]
  },
  {
   "cell_type": "code",
   "execution_count": 12,
   "metadata": {},
   "outputs": [
    {
     "name": "stdout",
     "output_type": "stream",
     "text": [
      "                                      auc     n_violation          n_rule  \\\n",
      "RuleFit Classifier (disc)   0.816 ± 0.052  28.200 ± 5.167  34.800 ± 3.271   \n",
      "tree generator (disc)       0.772 ± 0.049  25.800 ± 4.087  34.800 ± 3.271   \n",
      "RuleFit Classifier (conti)  0.795 ± 0.033  30.600 ± 2.966  34.800 ± 3.271   \n",
      "tree generator (conti)      0.833 ± 0.040  30.600 ± 3.050  34.800 ± 3.271   \n",
      "linear svm (L)              0.537 ± 0.318  21.800 ± 0.837  34.800 ± 3.271   \n",
      "non-linear svm (L)          0.823 ± 0.046  23.200 ± 4.438  34.800 ± 3.271   \n",
      "logistic regression (L)     0.827 ± 0.051  19.200 ± 4.087  34.800 ± 3.271   \n",
      "linear svm                  0.838 ± 0.045  30.600 ± 2.510  34.800 ± 3.271   \n",
      "non-linear svm              0.838 ± 0.049  31.600 ± 3.050  34.800 ± 3.271   \n",
      "logistic regression         0.841 ± 0.047  30.800 ± 2.490  34.800 ± 3.271   \n",
      "\n",
      "                           violation_rate  \n",
      "RuleFit Classifier (disc)   0.805 ± 0.084  \n",
      "tree generator (disc)       0.739 ± 0.068  \n",
      "RuleFit Classifier (conti)  0.881 ± 0.065  \n",
      "tree generator (conti)      0.880 ± 0.047  \n",
      "linear svm (L)              0.630 ± 0.049  \n",
      "non-linear svm (L)          0.664 ± 0.087  \n",
      "logistic regression (L)     0.552 ± 0.110  \n",
      "linear svm                  0.880 ± 0.029  \n",
      "non-linear svm              0.908 ± 0.039  \n",
      "logistic regression         0.886 ± 0.026  \n"
     ]
    }
   ],
   "source": [
    "print(filtered_df)"
   ]
  },
  {
   "cell_type": "code",
   "execution_count": 13,
   "metadata": {},
   "outputs": [],
   "source": [
    "model_names = [\n",
    "    'linear svm',\n",
    "    'non-linear svm',\n",
    "    'logistic regression',\n",
    "    'RuleFit Classifier (disc)',\n",
    "    'tree generator (disc)',\n",
    "    'RuleFit Classifier (conti)',\n",
    "    'tree generator (conti)',\n",
    "    'linear svm (L)',\n",
    "    'non-linear svm (L)',\n",
    "    'logistic regression (L)',\n",
    "]"
   ]
  },
  {
   "cell_type": "code",
   "execution_count": 14,
   "metadata": {},
   "outputs": [
    {
     "data": {
      "text/html": [
       "<div>\n",
       "<style scoped>\n",
       "    .dataframe tbody tr th:only-of-type {\n",
       "        vertical-align: middle;\n",
       "    }\n",
       "\n",
       "    .dataframe tbody tr th {\n",
       "        vertical-align: top;\n",
       "    }\n",
       "\n",
       "    .dataframe thead th {\n",
       "        text-align: right;\n",
       "    }\n",
       "</style>\n",
       "<table border=\"1\" class=\"dataframe\">\n",
       "  <thead>\n",
       "    <tr style=\"text-align: right;\">\n",
       "      <th></th>\n",
       "      <th>auc</th>\n",
       "      <th>n_violation</th>\n",
       "      <th>n_rule</th>\n",
       "      <th>violation_rate</th>\n",
       "    </tr>\n",
       "  </thead>\n",
       "  <tbody>\n",
       "    <tr>\n",
       "      <th>linear svm</th>\n",
       "      <td>0.838 ± 0.045</td>\n",
       "      <td>30.600 ± 2.510</td>\n",
       "      <td>34.800 ± 3.271</td>\n",
       "      <td>0.880 ± 0.029</td>\n",
       "    </tr>\n",
       "    <tr>\n",
       "      <th>non-linear svm</th>\n",
       "      <td>0.838 ± 0.049</td>\n",
       "      <td>31.600 ± 3.050</td>\n",
       "      <td>34.800 ± 3.271</td>\n",
       "      <td>0.908 ± 0.039</td>\n",
       "    </tr>\n",
       "    <tr>\n",
       "      <th>logistic regression</th>\n",
       "      <td>0.841 ± 0.047</td>\n",
       "      <td>30.800 ± 2.490</td>\n",
       "      <td>34.800 ± 3.271</td>\n",
       "      <td>0.886 ± 0.026</td>\n",
       "    </tr>\n",
       "    <tr>\n",
       "      <th>RuleFit Classifier (disc)</th>\n",
       "      <td>0.816 ± 0.052</td>\n",
       "      <td>28.200 ± 5.167</td>\n",
       "      <td>34.800 ± 3.271</td>\n",
       "      <td>0.805 ± 0.084</td>\n",
       "    </tr>\n",
       "    <tr>\n",
       "      <th>tree generator (disc)</th>\n",
       "      <td>0.772 ± 0.049</td>\n",
       "      <td>25.800 ± 4.087</td>\n",
       "      <td>34.800 ± 3.271</td>\n",
       "      <td>0.739 ± 0.068</td>\n",
       "    </tr>\n",
       "    <tr>\n",
       "      <th>RuleFit Classifier (conti)</th>\n",
       "      <td>0.795 ± 0.033</td>\n",
       "      <td>30.600 ± 2.966</td>\n",
       "      <td>34.800 ± 3.271</td>\n",
       "      <td>0.881 ± 0.065</td>\n",
       "    </tr>\n",
       "    <tr>\n",
       "      <th>tree generator (conti)</th>\n",
       "      <td>0.833 ± 0.040</td>\n",
       "      <td>30.600 ± 3.050</td>\n",
       "      <td>34.800 ± 3.271</td>\n",
       "      <td>0.880 ± 0.047</td>\n",
       "    </tr>\n",
       "    <tr>\n",
       "      <th>linear svm (L)</th>\n",
       "      <td>0.537 ± 0.318</td>\n",
       "      <td>21.800 ± 0.837</td>\n",
       "      <td>34.800 ± 3.271</td>\n",
       "      <td>0.630 ± 0.049</td>\n",
       "    </tr>\n",
       "    <tr>\n",
       "      <th>non-linear svm (L)</th>\n",
       "      <td>0.823 ± 0.046</td>\n",
       "      <td>23.200 ± 4.438</td>\n",
       "      <td>34.800 ± 3.271</td>\n",
       "      <td>0.664 ± 0.087</td>\n",
       "    </tr>\n",
       "    <tr>\n",
       "      <th>logistic regression (L)</th>\n",
       "      <td>0.827 ± 0.051</td>\n",
       "      <td>19.200 ± 4.087</td>\n",
       "      <td>34.800 ± 3.271</td>\n",
       "      <td>0.552 ± 0.110</td>\n",
       "    </tr>\n",
       "  </tbody>\n",
       "</table>\n",
       "</div>"
      ],
      "text/plain": [
       "                                      auc     n_violation          n_rule  \\\n",
       "linear svm                  0.838 ± 0.045  30.600 ± 2.510  34.800 ± 3.271   \n",
       "non-linear svm              0.838 ± 0.049  31.600 ± 3.050  34.800 ± 3.271   \n",
       "logistic regression         0.841 ± 0.047  30.800 ± 2.490  34.800 ± 3.271   \n",
       "RuleFit Classifier (disc)   0.816 ± 0.052  28.200 ± 5.167  34.800 ± 3.271   \n",
       "tree generator (disc)       0.772 ± 0.049  25.800 ± 4.087  34.800 ± 3.271   \n",
       "RuleFit Classifier (conti)  0.795 ± 0.033  30.600 ± 2.966  34.800 ± 3.271   \n",
       "tree generator (conti)      0.833 ± 0.040  30.600 ± 3.050  34.800 ± 3.271   \n",
       "linear svm (L)              0.537 ± 0.318  21.800 ± 0.837  34.800 ± 3.271   \n",
       "non-linear svm (L)          0.823 ± 0.046  23.200 ± 4.438  34.800 ± 3.271   \n",
       "logistic regression (L)     0.827 ± 0.051  19.200 ± 4.087  34.800 ± 3.271   \n",
       "\n",
       "                           violation_rate  \n",
       "linear svm                  0.880 ± 0.029  \n",
       "non-linear svm              0.908 ± 0.039  \n",
       "logistic regression         0.886 ± 0.026  \n",
       "RuleFit Classifier (disc)   0.805 ± 0.084  \n",
       "tree generator (disc)       0.739 ± 0.068  \n",
       "RuleFit Classifier (conti)  0.881 ± 0.065  \n",
       "tree generator (conti)      0.880 ± 0.047  \n",
       "linear svm (L)              0.630 ± 0.049  \n",
       "non-linear svm (L)          0.664 ± 0.087  \n",
       "logistic regression (L)     0.552 ± 0.110  "
      ]
     },
     "execution_count": 14,
     "metadata": {},
     "output_type": "execute_result"
    }
   ],
   "source": [
    "filtered_df = filtered_df.reindex(model_names)\n",
    "filtered_df"
   ]
  },
  {
   "cell_type": "code",
   "execution_count": 15,
   "metadata": {},
   "outputs": [
    {
     "name": "stdout",
     "output_type": "stream",
     "text": [
      "                                      auc     n_violation          n_rule  \\\n",
      "linear svm                  0.838 ± 0.045  30.600 ± 2.510  34.800 ± 3.271   \n",
      "non-linear svm              0.838 ± 0.049  31.600 ± 3.050  34.800 ± 3.271   \n",
      "logistic regression         0.841 ± 0.047  30.800 ± 2.490  34.800 ± 3.271   \n",
      "RuleFit Classifier (disc)   0.816 ± 0.052  28.200 ± 5.167  34.800 ± 3.271   \n",
      "tree generator (disc)       0.772 ± 0.049  25.800 ± 4.087  34.800 ± 3.271   \n",
      "RuleFit Classifier (conti)  0.795 ± 0.033  30.600 ± 2.966  34.800 ± 3.271   \n",
      "tree generator (conti)      0.833 ± 0.040  30.600 ± 3.050  34.800 ± 3.271   \n",
      "linear svm (L)              0.537 ± 0.318  21.800 ± 0.837  34.800 ± 3.271   \n",
      "non-linear svm (L)          0.823 ± 0.046  23.200 ± 4.438  34.800 ± 3.271   \n",
      "logistic regression (L)     0.827 ± 0.051  19.200 ± 4.087  34.800 ± 3.271   \n",
      "\n",
      "                           violation_rate  \n",
      "linear svm                  0.880 ± 0.029  \n",
      "non-linear svm              0.908 ± 0.039  \n",
      "logistic regression         0.886 ± 0.026  \n",
      "RuleFit Classifier (disc)   0.805 ± 0.084  \n",
      "tree generator (disc)       0.739 ± 0.068  \n",
      "RuleFit Classifier (conti)  0.881 ± 0.065  \n",
      "tree generator (conti)      0.880 ± 0.047  \n",
      "linear svm (L)              0.630 ± 0.049  \n",
      "non-linear svm (L)          0.664 ± 0.087  \n",
      "logistic regression (L)     0.552 ± 0.110  \n"
     ]
    }
   ],
   "source": [
    "print(filtered_df)"
   ]
  },
  {
   "cell_type": "code",
   "execution_count": 16,
   "metadata": {},
   "outputs": [
    {
     "name": "stdout",
     "output_type": "stream",
     "text": [
      "['0.880 ± 0.029' '0.908 ± 0.039' '0.886 ± 0.026' '0.805 ± 0.084'\n",
      " '0.739 ± 0.068' '0.881 ± 0.065' '0.880 ± 0.047' '0.630 ± 0.049'\n",
      " '0.664 ± 0.087' '0.552 ± 0.110']\n"
     ]
    }
   ],
   "source": [
    "print(filtered_df['violation_rate'].values)"
   ]
  },
  {
   "cell_type": "code",
   "execution_count": 17,
   "metadata": {},
   "outputs": [
    {
     "name": "stdout",
     "output_type": "stream",
     "text": [
      "0.880 ± 0.029\n",
      "0.908 ± 0.039\n",
      "0.886 ± 0.026\n",
      "0.805 ± 0.084\n",
      "0.739 ± 0.068\n",
      "0.881 ± 0.065\n",
      "0.880 ± 0.047\n",
      "0.630 ± 0.049\n",
      "0.664 ± 0.087\n",
      "0.552 ± 0.110\n"
     ]
    }
   ],
   "source": [
    "for val in filtered_df['violation_rate'].values:\n",
    "    print(val)"
   ]
  },
  {
   "cell_type": "code",
   "execution_count": null,
   "metadata": {},
   "outputs": [],
   "source": []
  },
  {
   "cell_type": "code",
   "execution_count": null,
   "metadata": {},
   "outputs": [],
   "source": []
  },
  {
   "cell_type": "markdown",
   "metadata": {},
   "source": [
    "# 2"
   ]
  },
  {
   "cell_type": "code",
   "execution_count": 47,
   "metadata": {},
   "outputs": [],
   "source": [
    "result_file_paths = [\n",
    "    \"./experiments/version_21/result.json\",\n",
    "    \"./experiments/version_22/result.json\",\n",
    "    \"./experiments/version_23/result.json\",\n",
    "    \"./experiments/version_24/result.json\",\n",
    "    \"./experiments/version_25/result.json\",\n",
    "    \"./experiments/version_26/result.json\",\n",
    "    \"./experiments/version_27/result.json\",\n",
    "]\n",
    "\n",
    "result_dfs = []\n",
    "infos = []\n",
    "\n",
    "for path in result_file_paths:\n",
    "    with open(path, 'r') as f:\n",
    "        json_data = json.load(f)\n",
    "\n",
    "    infos.append(json_data['c2'])\n",
    "\n",
    "    tmp = []\n",
    "\n",
    "    for fold, _ in json_data[\"result\"].items():\n",
    "        result_df = pd.DataFrame(json_data['result'][fold]).T\n",
    "        tmp.append(result_df)\n",
    "\n",
    "    result_dfs.append(tmp)\n",
    "\n",
    "combined_dfs = [pd.concat(dfs, ignore_index=False) for dfs in result_dfs]\n",
    "dfs_mean = [combined_df.groupby(combined_df.index).mean() for combined_df in combined_dfs]\n",
    "dfs_std = [combined_df.groupby(combined_df.index).std() for combined_df in combined_dfs]"
   ]
  },
  {
   "cell_type": "code",
   "execution_count": 48,
   "metadata": {},
   "outputs": [
    {
     "data": {
      "text/plain": [
       "[0.1, 1, 5, 15, 50, 100, 1000]"
      ]
     },
     "execution_count": 48,
     "metadata": {},
     "output_type": "execute_result"
    }
   ],
   "source": [
    "infos"
   ]
  },
  {
   "cell_type": "code",
   "execution_count": 49,
   "metadata": {},
   "outputs": [
    {
     "data": {
      "application/vnd.plotly.v1+json": {
       "config": {
        "plotlyServerURL": "https://plot.ly"
       },
       "data": [
        {
         "line": {
          "color": "rgba(0,176,246,1)"
         },
         "marker": {
          "color": "rgba(0,176,246,1)"
         },
         "mode": "lines+markers",
         "name": "l-SVM-p",
         "type": "scatter",
         "x": [
          0.1,
          1,
          5,
          15,
          50,
          100,
          1000
         ],
         "xaxis": "x",
         "y": [
          0.7995725755851482,
          0.6358453241603431,
          0.4818858699209846,
          0.5785274140047012,
          0.5665932051018542,
          0.625897882008155,
          0.5888981780157508
         ],
         "yaxis": "y"
        },
        {
         "line": {
          "color": "rgba(0,176,246,0.2)"
         },
         "mode": "lines",
         "showlegend": false,
         "type": "scatter",
         "x": [
          0.1,
          1,
          5,
          15,
          50,
          100,
          1000
         ],
         "xaxis": "x",
         "y": [
          0.8535454645896559,
          0.9153394644031536,
          0.7962009330441804,
          0.8096185207526512,
          0.8131933533218765,
          0.8512567200118992,
          0.9098531213794592
         ],
         "yaxis": "y"
        },
        {
         "fill": "tonexty",
         "fillcolor": "rgba(0,176,246,0.2)",
         "line": {
          "color": "rgba(255,255,255,0)"
         },
         "mode": "lines",
         "showlegend": false,
         "type": "scatter",
         "x": [
          0.1,
          1,
          5,
          15,
          50,
          100,
          1000
         ],
         "xaxis": "x",
         "y": [
          0.7455996865806405,
          0.3563511839175326,
          0.1675708067977888,
          0.34743630725675123,
          0.3199930568818319,
          0.40053904400441076,
          0.26794323465204245
         ],
         "yaxis": "y"
        },
        {
         "line": {
          "color": "rgba(231,107,243,1)"
         },
         "marker": {
          "color": "rgba(231,107,243,1)"
         },
         "mode": "lines+markers",
         "name": "r-SVM-p",
         "type": "scatter",
         "x": [
          0.1,
          1,
          5,
          15,
          50,
          100,
          1000
         ],
         "xaxis": "x",
         "y": [
          0.8270060628319216,
          0.8276101406179759,
          0.8253861883440414,
          0.8218662739745808,
          0.8099667657048387,
          0.7965344798719649,
          0.7875239630161313
         ],
         "yaxis": "y"
        },
        {
         "line": {
          "color": "rgba(231,107,243,0.2)"
         },
         "mode": "lines",
         "showlegend": false,
         "type": "scatter",
         "x": [
          0.1,
          1,
          5,
          15,
          50,
          100,
          1000
         ],
         "xaxis": "x",
         "y": [
          0.8670831648023727,
          0.8689863739522343,
          0.8665109869329364,
          0.8664456728419759,
          0.8524860077550751,
          0.8359740063831043,
          0.8203394750419734
         ],
         "yaxis": "y"
        },
        {
         "fill": "tonexty",
         "fillcolor": "rgba(231,107,243,0.2)",
         "line": {
          "color": "rgba(255,255,255,0)"
         },
         "mode": "lines",
         "showlegend": false,
         "type": "scatter",
         "x": [
          0.1,
          1,
          5,
          15,
          50,
          100,
          1000
         ],
         "xaxis": "x",
         "y": [
          0.7869289608614705,
          0.7862339072837174,
          0.7842613897551465,
          0.7772868751071856,
          0.7674475236546023,
          0.7570949533608256,
          0.7547084509902892
         ],
         "yaxis": "y"
        },
        {
         "line": {
          "color": "rgba(21,213,69,1)"
         },
         "marker": {
          "color": "rgba(21,213,69,1)"
         },
         "mode": "lines+markers",
         "name": "LogReg-p",
         "type": "scatter",
         "x": [
          0.1,
          1,
          5,
          15,
          50,
          100,
          1000
         ],
         "xaxis": "x",
         "y": [
          0.8236400506905426,
          0.8240965064169672,
          0.8252348706991691,
          0.8283336114782051,
          0.8287965920348345,
          0.8252357956588409,
          0.809856272023936
         ],
         "yaxis": "y"
        },
        {
         "line": {
          "color": "rgba(21,213,69,0.2)"
         },
         "mode": "lines",
         "showlegend": false,
         "type": "scatter",
         "x": [
          0.1,
          1,
          5,
          15,
          50,
          100,
          1000
         ],
         "xaxis": "x",
         "y": [
          0.874768898173933,
          0.8753058527094776,
          0.876054721439343,
          0.8765927778680443,
          0.8719541096036533,
          0.8633679390825735,
          0.8378172270890545
         ],
         "yaxis": "y"
        },
        {
         "fill": "tonexty",
         "fillcolor": "rgba(21,213,69,0.2)",
         "line": {
          "color": "rgba(255,255,255,0)"
         },
         "mode": "lines",
         "showlegend": false,
         "type": "scatter",
         "x": [
          0.1,
          1,
          5,
          15,
          50,
          100,
          1000
         ],
         "xaxis": "x",
         "y": [
          0.7725112032071522,
          0.7728871601244568,
          0.7744150199589952,
          0.7800744450883658,
          0.7856390744660157,
          0.7871036522351083,
          0.7818953169588174
         ],
         "yaxis": "y"
        },
        {
         "line": {
          "color": "rgba(0,176,246,1)"
         },
         "marker": {
          "color": "rgba(0,176,246,1)"
         },
         "mode": "lines+markers",
         "name": "l-SVM-p",
         "showlegend": false,
         "type": "scatter",
         "x": [
          0.1,
          1,
          5,
          15,
          50,
          100,
          1000
         ],
         "xaxis": "x2",
         "y": [
          0.6471323214780136,
          0.6316448941579199,
          0.6045588864557376,
          0.6480535628885701,
          0.6952452868181933,
          0.6574386468322888,
          0.5895396310000252
         ],
         "yaxis": "y2"
        },
        {
         "line": {
          "color": "rgba(0,176,246,0.2)"
         },
         "mode": "lines",
         "showlegend": false,
         "type": "scatter",
         "x": [
          0.1,
          1,
          5,
          15,
          50,
          100,
          1000
         ],
         "xaxis": "x2",
         "y": [
          0.7386959611963808,
          0.7281667207197855,
          0.6428444192382539,
          0.7735177455624176,
          0.8127356414959314,
          0.7391221279398376,
          0.6191141353500669
         ],
         "yaxis": "y2"
        },
        {
         "fill": "tonexty",
         "fillcolor": "rgba(0,176,246,0.2)",
         "line": {
          "color": "rgba(255,255,255,0)"
         },
         "mode": "lines",
         "showlegend": false,
         "type": "scatter",
         "x": [
          0.1,
          1,
          5,
          15,
          50,
          100,
          1000
         ],
         "xaxis": "x2",
         "y": [
          0.5555686817596464,
          0.5351230675960543,
          0.5662733536732214,
          0.5225893802147226,
          0.5777549321404553,
          0.5757551657247401,
          0.5599651266499834
         ],
         "yaxis": "y2"
        },
        {
         "line": {
          "color": "rgba(231,107,243,1)"
         },
         "marker": {
          "color": "rgba(231,107,243,1)"
         },
         "mode": "lines+markers",
         "name": "r-SVM-p",
         "showlegend": false,
         "type": "scatter",
         "x": [
          0.1,
          1,
          5,
          15,
          50,
          100,
          1000
         ],
         "xaxis": "x2",
         "y": [
          0.6671041304840293,
          0.7013939439703994,
          0.722089657429082,
          0.6590968813712905,
          0.717314304412394,
          0.6707986609277857,
          0.6583805280777266
         ],
         "yaxis": "y2"
        },
        {
         "line": {
          "color": "rgba(231,107,243,0.2)"
         },
         "mode": "lines",
         "showlegend": false,
         "type": "scatter",
         "x": [
          0.1,
          1,
          5,
          15,
          50,
          100,
          1000
         ],
         "xaxis": "x2",
         "y": [
          0.7419099667554394,
          0.7964050532416822,
          0.7585988874121038,
          0.7518970479254612,
          0.7713760306148204,
          0.7780567521120303,
          0.7223354495241022
         ],
         "yaxis": "y2"
        },
        {
         "fill": "tonexty",
         "fillcolor": "rgba(231,107,243,0.2)",
         "line": {
          "color": "rgba(255,255,255,0)"
         },
         "mode": "lines",
         "showlegend": false,
         "type": "scatter",
         "x": [
          0.1,
          1,
          5,
          15,
          50,
          100,
          1000
         ],
         "xaxis": "x2",
         "y": [
          0.5922982942126191,
          0.6063828346991167,
          0.6855804274460603,
          0.5662967148171199,
          0.6632525782099675,
          0.5635405697435412,
          0.594425606631351
         ],
         "yaxis": "y2"
        },
        {
         "line": {
          "color": "rgba(21,213,69,1)"
         },
         "marker": {
          "color": "rgba(21,213,69,1)"
         },
         "mode": "lines+markers",
         "name": "LogReg-p",
         "showlegend": false,
         "type": "scatter",
         "x": [
          0.1,
          1,
          5,
          15,
          50,
          100,
          1000
         ],
         "xaxis": "x2",
         "y": [
          0.5395217599234816,
          0.5395217599234816,
          0.5342586020287448,
          0.5532885297893226,
          0.5654524402829167,
          0.5861199627476151,
          0.4654036094540512
         ],
         "yaxis": "y2"
        },
        {
         "line": {
          "color": "rgba(21,213,69,0.2)"
         },
         "mode": "lines",
         "showlegend": false,
         "type": "scatter",
         "x": [
          0.1,
          1,
          5,
          15,
          50,
          100,
          1000
         ],
         "xaxis": "x2",
         "y": [
          0.6476334127474546,
          0.6476334127474546,
          0.6514409314969302,
          0.6443927973070728,
          0.6505804778115243,
          0.6505236334362677,
          0.5692654749206935
         ],
         "yaxis": "y2"
        },
        {
         "fill": "tonexty",
         "fillcolor": "rgba(21,213,69,0.2)",
         "line": {
          "color": "rgba(255,255,255,0)"
         },
         "mode": "lines",
         "showlegend": false,
         "type": "scatter",
         "x": [
          0.1,
          1,
          5,
          15,
          50,
          100,
          1000
         ],
         "xaxis": "x2",
         "y": [
          0.43141010709950867,
          0.43141010709950867,
          0.41707627256055935,
          0.46218426227157255,
          0.4803244027543092,
          0.5217162920589625,
          0.3615417439874089
         ],
         "yaxis": "y2"
        }
       ],
       "layout": {
        "height": 400,
        "legend": {
         "orientation": "h",
         "x": 0.5,
         "y": 1.15
        },
        "template": {
         "data": {
          "bar": [
           {
            "error_x": {
             "color": "#2a3f5f"
            },
            "error_y": {
             "color": "#2a3f5f"
            },
            "marker": {
             "line": {
              "color": "#E5ECF6",
              "width": 0.5
             },
             "pattern": {
              "fillmode": "overlay",
              "size": 10,
              "solidity": 0.2
             }
            },
            "type": "bar"
           }
          ],
          "barpolar": [
           {
            "marker": {
             "line": {
              "color": "#E5ECF6",
              "width": 0.5
             },
             "pattern": {
              "fillmode": "overlay",
              "size": 10,
              "solidity": 0.2
             }
            },
            "type": "barpolar"
           }
          ],
          "carpet": [
           {
            "aaxis": {
             "endlinecolor": "#2a3f5f",
             "gridcolor": "white",
             "linecolor": "white",
             "minorgridcolor": "white",
             "startlinecolor": "#2a3f5f"
            },
            "baxis": {
             "endlinecolor": "#2a3f5f",
             "gridcolor": "white",
             "linecolor": "white",
             "minorgridcolor": "white",
             "startlinecolor": "#2a3f5f"
            },
            "type": "carpet"
           }
          ],
          "choropleth": [
           {
            "colorbar": {
             "outlinewidth": 0,
             "ticks": ""
            },
            "type": "choropleth"
           }
          ],
          "contour": [
           {
            "colorbar": {
             "outlinewidth": 0,
             "ticks": ""
            },
            "colorscale": [
             [
              0,
              "#0d0887"
             ],
             [
              0.1111111111111111,
              "#46039f"
             ],
             [
              0.2222222222222222,
              "#7201a8"
             ],
             [
              0.3333333333333333,
              "#9c179e"
             ],
             [
              0.4444444444444444,
              "#bd3786"
             ],
             [
              0.5555555555555556,
              "#d8576b"
             ],
             [
              0.6666666666666666,
              "#ed7953"
             ],
             [
              0.7777777777777778,
              "#fb9f3a"
             ],
             [
              0.8888888888888888,
              "#fdca26"
             ],
             [
              1,
              "#f0f921"
             ]
            ],
            "type": "contour"
           }
          ],
          "contourcarpet": [
           {
            "colorbar": {
             "outlinewidth": 0,
             "ticks": ""
            },
            "type": "contourcarpet"
           }
          ],
          "heatmap": [
           {
            "colorbar": {
             "outlinewidth": 0,
             "ticks": ""
            },
            "colorscale": [
             [
              0,
              "#0d0887"
             ],
             [
              0.1111111111111111,
              "#46039f"
             ],
             [
              0.2222222222222222,
              "#7201a8"
             ],
             [
              0.3333333333333333,
              "#9c179e"
             ],
             [
              0.4444444444444444,
              "#bd3786"
             ],
             [
              0.5555555555555556,
              "#d8576b"
             ],
             [
              0.6666666666666666,
              "#ed7953"
             ],
             [
              0.7777777777777778,
              "#fb9f3a"
             ],
             [
              0.8888888888888888,
              "#fdca26"
             ],
             [
              1,
              "#f0f921"
             ]
            ],
            "type": "heatmap"
           }
          ],
          "heatmapgl": [
           {
            "colorbar": {
             "outlinewidth": 0,
             "ticks": ""
            },
            "colorscale": [
             [
              0,
              "#0d0887"
             ],
             [
              0.1111111111111111,
              "#46039f"
             ],
             [
              0.2222222222222222,
              "#7201a8"
             ],
             [
              0.3333333333333333,
              "#9c179e"
             ],
             [
              0.4444444444444444,
              "#bd3786"
             ],
             [
              0.5555555555555556,
              "#d8576b"
             ],
             [
              0.6666666666666666,
              "#ed7953"
             ],
             [
              0.7777777777777778,
              "#fb9f3a"
             ],
             [
              0.8888888888888888,
              "#fdca26"
             ],
             [
              1,
              "#f0f921"
             ]
            ],
            "type": "heatmapgl"
           }
          ],
          "histogram": [
           {
            "marker": {
             "pattern": {
              "fillmode": "overlay",
              "size": 10,
              "solidity": 0.2
             }
            },
            "type": "histogram"
           }
          ],
          "histogram2d": [
           {
            "colorbar": {
             "outlinewidth": 0,
             "ticks": ""
            },
            "colorscale": [
             [
              0,
              "#0d0887"
             ],
             [
              0.1111111111111111,
              "#46039f"
             ],
             [
              0.2222222222222222,
              "#7201a8"
             ],
             [
              0.3333333333333333,
              "#9c179e"
             ],
             [
              0.4444444444444444,
              "#bd3786"
             ],
             [
              0.5555555555555556,
              "#d8576b"
             ],
             [
              0.6666666666666666,
              "#ed7953"
             ],
             [
              0.7777777777777778,
              "#fb9f3a"
             ],
             [
              0.8888888888888888,
              "#fdca26"
             ],
             [
              1,
              "#f0f921"
             ]
            ],
            "type": "histogram2d"
           }
          ],
          "histogram2dcontour": [
           {
            "colorbar": {
             "outlinewidth": 0,
             "ticks": ""
            },
            "colorscale": [
             [
              0,
              "#0d0887"
             ],
             [
              0.1111111111111111,
              "#46039f"
             ],
             [
              0.2222222222222222,
              "#7201a8"
             ],
             [
              0.3333333333333333,
              "#9c179e"
             ],
             [
              0.4444444444444444,
              "#bd3786"
             ],
             [
              0.5555555555555556,
              "#d8576b"
             ],
             [
              0.6666666666666666,
              "#ed7953"
             ],
             [
              0.7777777777777778,
              "#fb9f3a"
             ],
             [
              0.8888888888888888,
              "#fdca26"
             ],
             [
              1,
              "#f0f921"
             ]
            ],
            "type": "histogram2dcontour"
           }
          ],
          "mesh3d": [
           {
            "colorbar": {
             "outlinewidth": 0,
             "ticks": ""
            },
            "type": "mesh3d"
           }
          ],
          "parcoords": [
           {
            "line": {
             "colorbar": {
              "outlinewidth": 0,
              "ticks": ""
             }
            },
            "type": "parcoords"
           }
          ],
          "pie": [
           {
            "automargin": true,
            "type": "pie"
           }
          ],
          "scatter": [
           {
            "fillpattern": {
             "fillmode": "overlay",
             "size": 10,
             "solidity": 0.2
            },
            "type": "scatter"
           }
          ],
          "scatter3d": [
           {
            "line": {
             "colorbar": {
              "outlinewidth": 0,
              "ticks": ""
             }
            },
            "marker": {
             "colorbar": {
              "outlinewidth": 0,
              "ticks": ""
             }
            },
            "type": "scatter3d"
           }
          ],
          "scattercarpet": [
           {
            "marker": {
             "colorbar": {
              "outlinewidth": 0,
              "ticks": ""
             }
            },
            "type": "scattercarpet"
           }
          ],
          "scattergeo": [
           {
            "marker": {
             "colorbar": {
              "outlinewidth": 0,
              "ticks": ""
             }
            },
            "type": "scattergeo"
           }
          ],
          "scattergl": [
           {
            "marker": {
             "colorbar": {
              "outlinewidth": 0,
              "ticks": ""
             }
            },
            "type": "scattergl"
           }
          ],
          "scattermapbox": [
           {
            "marker": {
             "colorbar": {
              "outlinewidth": 0,
              "ticks": ""
             }
            },
            "type": "scattermapbox"
           }
          ],
          "scatterpolar": [
           {
            "marker": {
             "colorbar": {
              "outlinewidth": 0,
              "ticks": ""
             }
            },
            "type": "scatterpolar"
           }
          ],
          "scatterpolargl": [
           {
            "marker": {
             "colorbar": {
              "outlinewidth": 0,
              "ticks": ""
             }
            },
            "type": "scatterpolargl"
           }
          ],
          "scatterternary": [
           {
            "marker": {
             "colorbar": {
              "outlinewidth": 0,
              "ticks": ""
             }
            },
            "type": "scatterternary"
           }
          ],
          "surface": [
           {
            "colorbar": {
             "outlinewidth": 0,
             "ticks": ""
            },
            "colorscale": [
             [
              0,
              "#0d0887"
             ],
             [
              0.1111111111111111,
              "#46039f"
             ],
             [
              0.2222222222222222,
              "#7201a8"
             ],
             [
              0.3333333333333333,
              "#9c179e"
             ],
             [
              0.4444444444444444,
              "#bd3786"
             ],
             [
              0.5555555555555556,
              "#d8576b"
             ],
             [
              0.6666666666666666,
              "#ed7953"
             ],
             [
              0.7777777777777778,
              "#fb9f3a"
             ],
             [
              0.8888888888888888,
              "#fdca26"
             ],
             [
              1,
              "#f0f921"
             ]
            ],
            "type": "surface"
           }
          ],
          "table": [
           {
            "cells": {
             "fill": {
              "color": "#EBF0F8"
             },
             "line": {
              "color": "white"
             }
            },
            "header": {
             "fill": {
              "color": "#C8D4E3"
             },
             "line": {
              "color": "white"
             }
            },
            "type": "table"
           }
          ]
         },
         "layout": {
          "annotationdefaults": {
           "arrowcolor": "#2a3f5f",
           "arrowhead": 0,
           "arrowwidth": 1
          },
          "autotypenumbers": "strict",
          "coloraxis": {
           "colorbar": {
            "outlinewidth": 0,
            "ticks": ""
           }
          },
          "colorscale": {
           "diverging": [
            [
             0,
             "#8e0152"
            ],
            [
             0.1,
             "#c51b7d"
            ],
            [
             0.2,
             "#de77ae"
            ],
            [
             0.3,
             "#f1b6da"
            ],
            [
             0.4,
             "#fde0ef"
            ],
            [
             0.5,
             "#f7f7f7"
            ],
            [
             0.6,
             "#e6f5d0"
            ],
            [
             0.7,
             "#b8e186"
            ],
            [
             0.8,
             "#7fbc41"
            ],
            [
             0.9,
             "#4d9221"
            ],
            [
             1,
             "#276419"
            ]
           ],
           "sequential": [
            [
             0,
             "#0d0887"
            ],
            [
             0.1111111111111111,
             "#46039f"
            ],
            [
             0.2222222222222222,
             "#7201a8"
            ],
            [
             0.3333333333333333,
             "#9c179e"
            ],
            [
             0.4444444444444444,
             "#bd3786"
            ],
            [
             0.5555555555555556,
             "#d8576b"
            ],
            [
             0.6666666666666666,
             "#ed7953"
            ],
            [
             0.7777777777777778,
             "#fb9f3a"
            ],
            [
             0.8888888888888888,
             "#fdca26"
            ],
            [
             1,
             "#f0f921"
            ]
           ],
           "sequentialminus": [
            [
             0,
             "#0d0887"
            ],
            [
             0.1111111111111111,
             "#46039f"
            ],
            [
             0.2222222222222222,
             "#7201a8"
            ],
            [
             0.3333333333333333,
             "#9c179e"
            ],
            [
             0.4444444444444444,
             "#bd3786"
            ],
            [
             0.5555555555555556,
             "#d8576b"
            ],
            [
             0.6666666666666666,
             "#ed7953"
            ],
            [
             0.7777777777777778,
             "#fb9f3a"
            ],
            [
             0.8888888888888888,
             "#fdca26"
            ],
            [
             1,
             "#f0f921"
            ]
           ]
          },
          "colorway": [
           "#636efa",
           "#EF553B",
           "#00cc96",
           "#ab63fa",
           "#FFA15A",
           "#19d3f3",
           "#FF6692",
           "#B6E880",
           "#FF97FF",
           "#FECB52"
          ],
          "font": {
           "color": "#2a3f5f"
          },
          "geo": {
           "bgcolor": "white",
           "lakecolor": "white",
           "landcolor": "#E5ECF6",
           "showlakes": true,
           "showland": true,
           "subunitcolor": "white"
          },
          "hoverlabel": {
           "align": "left"
          },
          "hovermode": "closest",
          "mapbox": {
           "style": "light"
          },
          "paper_bgcolor": "white",
          "plot_bgcolor": "#E5ECF6",
          "polar": {
           "angularaxis": {
            "gridcolor": "white",
            "linecolor": "white",
            "ticks": ""
           },
           "bgcolor": "#E5ECF6",
           "radialaxis": {
            "gridcolor": "white",
            "linecolor": "white",
            "ticks": ""
           }
          },
          "scene": {
           "xaxis": {
            "backgroundcolor": "#E5ECF6",
            "gridcolor": "white",
            "gridwidth": 2,
            "linecolor": "white",
            "showbackground": true,
            "ticks": "",
            "zerolinecolor": "white"
           },
           "yaxis": {
            "backgroundcolor": "#E5ECF6",
            "gridcolor": "white",
            "gridwidth": 2,
            "linecolor": "white",
            "showbackground": true,
            "ticks": "",
            "zerolinecolor": "white"
           },
           "zaxis": {
            "backgroundcolor": "#E5ECF6",
            "gridcolor": "white",
            "gridwidth": 2,
            "linecolor": "white",
            "showbackground": true,
            "ticks": "",
            "zerolinecolor": "white"
           }
          },
          "shapedefaults": {
           "line": {
            "color": "#2a3f5f"
           }
          },
          "ternary": {
           "aaxis": {
            "gridcolor": "white",
            "linecolor": "white",
            "ticks": ""
           },
           "baxis": {
            "gridcolor": "white",
            "linecolor": "white",
            "ticks": ""
           },
           "bgcolor": "#E5ECF6",
           "caxis": {
            "gridcolor": "white",
            "linecolor": "white",
            "ticks": ""
           }
          },
          "title": {
           "x": 0.05
          },
          "xaxis": {
           "automargin": true,
           "gridcolor": "white",
           "linecolor": "white",
           "ticks": "",
           "title": {
            "standoff": 15
           },
           "zerolinecolor": "white",
           "zerolinewidth": 2
          },
          "yaxis": {
           "automargin": true,
           "gridcolor": "white",
           "linecolor": "white",
           "ticks": "",
           "title": {
            "standoff": 15
           },
           "zerolinecolor": "white",
           "zerolinewidth": 2
          }
         }
        },
        "width": 600,
        "xaxis": {
         "anchor": "y",
         "domain": [
          0,
          0.49
         ],
         "title": {
          "font": {
           "size": 16
          },
          "text": "C2"
         }
        },
        "xaxis2": {
         "anchor": "y2",
         "domain": [
          0.5,
          1
         ],
         "title": {
          "font": {
           "size": 16
          },
          "text": "C2"
         }
        },
        "yaxis": {
         "anchor": "x",
         "domain": [
          0,
          1
         ],
         "range": [
          0,
          1
         ],
         "side": "left",
         "title": {
          "font": {
           "size": 16
          },
          "text": "AUC"
         }
        },
        "yaxis2": {
         "anchor": "x2",
         "domain": [
          0,
          1
         ],
         "range": [
          0,
          1
         ],
         "side": "right",
         "title": {
          "font": {
           "size": 16
          },
          "text": "ルール違反率"
         }
        }
       }
      }
     },
     "metadata": {},
     "output_type": "display_data"
    }
   ],
   "source": [
    "import plotly.graph_objects as go\n",
    "from plotly.subplots import make_subplots\n",
    "\n",
    "\n",
    "# グラフのデータを準備\n",
    "index = ['l-SVM-p', 'r-SVM-p', 'LogReg-p']\n",
    "colors_mean = ['rgba(0,176,246,1)', 'rgba(231,107,243,1)', 'rgba(21,213,69,1)']  # indexに対応する色\n",
    "colors_std  = ['rgba(0,176,246,0.2)', 'rgba(231,107,243,0.2)', 'rgba(21,213,69,0.2)']  # indexに対応する色\n",
    "\n",
    "\n",
    "# グラフ1: AUCのデータ\n",
    "col_auc = 'auc'\n",
    "tmp_mean_auc = pd.DataFrame([\n",
    "    {info: df.loc['linear svm (L)', col_auc] for info, df in zip(infos, dfs_mean)},\n",
    "    {info: df.loc['non-linear svm (L)', col_auc] for info, df in zip(infos, dfs_mean)},\n",
    "    {info: df.loc['logistic regression (L)', col_auc] for info, df in zip(infos, dfs_mean)}\n",
    "], index=index)\n",
    "tmp_std_auc = pd.DataFrame([\n",
    "    {info: df.loc['linear svm (L)', col_auc] for info, df in zip(infos, dfs_std)},\n",
    "    {info: df.loc['non-linear svm (L)', col_auc] for info, df in zip(infos, dfs_std)},\n",
    "    {info: df.loc['logistic regression (L)', col_auc] for info, df in zip(infos, dfs_std)}\n",
    "], index=index)\n",
    "\n",
    "# グラフ2: ルール違反率のデータ\n",
    "col_vr = 'violation_rate'\n",
    "tmp_mean_vr = pd.DataFrame([\n",
    "    {info: df.loc['linear svm (L)', col_vr] for info, df in zip(infos, dfs_mean)},\n",
    "    {info: df.loc['non-linear svm (L)', col_vr] for info, df in zip(infos, dfs_mean)},\n",
    "    {info: df.loc['logistic regression (L)', col_vr] for info, df in zip(infos, dfs_mean)}\n",
    "], index=index)\n",
    "tmp_std_vr = pd.DataFrame([\n",
    "    {info: df.loc['linear svm (L)', col_vr] for info, df in zip(infos, dfs_std)},\n",
    "    {info: df.loc['non-linear svm (L)', col_vr] for info, df in zip(infos, dfs_std)},\n",
    "    {info: df.loc['logistic regression (L)', col_vr] for info, df in zip(infos, dfs_std)}\n",
    "], index=index)\n",
    "\n",
    "\n",
    "# サブプロットの作成\n",
    "# fig = make_subplots(rows=1, cols=2, subplot_titles=('AUC', 'ルール違反率'))\n",
    "fig = make_subplots(rows=1, cols=2)\n",
    "\n",
    "# グラフ1: AUC\n",
    "for i in range(len(tmp_mean_auc)):\n",
    "    fig.add_trace(\n",
    "        go.Scatter(\n",
    "            x=tmp_mean_auc.columns,\n",
    "            y=tmp_mean_auc.iloc[i, :],\n",
    "            mode='lines+markers',\n",
    "            name=tmp_mean_auc.index[i],\n",
    "            line=dict(color=colors_mean[i]),  # ラインの色を設定\n",
    "            marker=dict(color=colors_mean[i])  # マーカーの色を設定\n",
    "        ),\n",
    "        row=1, col=1\n",
    "    )\n",
    "    fig.add_trace(\n",
    "        go.Scatter(\n",
    "            x=tmp_mean_auc.columns,\n",
    "            y=tmp_mean_auc.iloc[i, :] + tmp_std_auc.iloc[i, :],\n",
    "            mode='lines',\n",
    "            line=dict(color=colors_std[i]),  # ラインの色を設定\n",
    "            showlegend=False\n",
    "        ),\n",
    "        row=1, col=1\n",
    "    )\n",
    "    fig.add_trace(\n",
    "        go.Scatter(\n",
    "            x=tmp_mean_auc.columns,\n",
    "            y=tmp_mean_auc.iloc[i, :] - tmp_std_auc.iloc[i, :],\n",
    "            mode='lines',\n",
    "            fill='tonexty',\n",
    "            fillcolor=colors_std[i],\n",
    "            line=dict(color='rgba(255,255,255,0)'),\n",
    "            showlegend=False\n",
    "        ),\n",
    "        row=1, col=1\n",
    "    )\n",
    "\n",
    "# グラフ2: ルール違反率\n",
    "for i in range(len(tmp_mean_vr)):\n",
    "    fig.add_trace(\n",
    "        go.Scatter(\n",
    "            x=tmp_mean_vr.columns,\n",
    "            y=tmp_mean_vr.iloc[i, :],\n",
    "            mode='lines+markers',\n",
    "            name=tmp_mean_vr.index[i],\n",
    "            line=dict(color=colors_mean[i]),  # ラインの色を設定\n",
    "            marker=dict(color=colors_mean[i]),  # マーカーの色を設定\n",
    "            showlegend=False\n",
    "        ),\n",
    "        row=1, col=2\n",
    "    )\n",
    "    fig.add_trace(\n",
    "        go.Scatter(\n",
    "            x=tmp_mean_vr.columns,\n",
    "            y=tmp_mean_vr.iloc[i, :] + tmp_std_vr.iloc[i, :],\n",
    "            mode='lines',\n",
    "            line=dict(color=colors_std[i]),  # ラインの色を設定\n",
    "            showlegend=False\n",
    "        ),\n",
    "        row=1, col=2\n",
    "    )\n",
    "    fig.add_trace(\n",
    "        go.Scatter(\n",
    "            x=tmp_mean_vr.columns,\n",
    "            y=tmp_mean_vr.iloc[i, :] - tmp_std_vr.iloc[i, :],\n",
    "            mode='lines',\n",
    "            fill='tonexty',\n",
    "            fillcolor=colors_std[i],\n",
    "            line=dict(color='rgba(255,255,255,0)'),\n",
    "            showlegend=False\n",
    "        ),\n",
    "        row=1, col=2\n",
    "    )\n",
    "\n",
    "# x軸の設定\n",
    "fig.update_xaxes(title_text='C2', row=1, col=1)\n",
    "fig.update_xaxes(title_text='C2', row=1, col=2)\n",
    "\n",
    "# レイアウトの設定\n",
    "fig.update_layout(\n",
    "    height=400,\n",
    "    width=600,\n",
    "    xaxis=dict(\n",
    "        domain=[0, 0.49],  # 左側のsubplotの幅を調整\n",
    "        title_font=dict(size=16)\n",
    "    ),\n",
    "    xaxis2=dict(\n",
    "        domain=[0.5, 1],  # 右側のsubplotの幅を調整\n",
    "        title_font=dict(size=16)\n",
    "    ),\n",
    "    legend=dict(\n",
    "        x=0.5,\n",
    "        y=1.15,\n",
    "        orientation='h'  # 水平配置\n",
    "    ),\n",
    ")\n",
    "\n",
    "# y軸の設定\n",
    "fig.update_yaxes(title_text='AUC', range=[0, 1], row=1, col=1, side='left', title_font=dict(size=16))  # col=1のグラフのy軸を左側に配置\n",
    "fig.update_yaxes(title_text='ルール違反率', range=[0, 1], row=1, col=2, side='right', title_font=dict(size=16))  # col=2のグラフのy軸を右側に配置\n",
    "\n",
    "# グラフの表示\n",
    "fig.show()\n"
   ]
  },
  {
   "cell_type": "code",
   "execution_count": 50,
   "metadata": {},
   "outputs": [
    {
     "data": {
      "application/vnd.plotly.v1+json": {
       "config": {
        "plotlyServerURL": "https://plot.ly"
       },
       "data": [
        {
         "line": {
          "color": "rgba(0,176,246,1)"
         },
         "marker": {
          "color": "rgba(0,176,246,1)"
         },
         "mode": "lines+markers",
         "name": "l-SVM-p",
         "type": "scatter",
         "x": [
          0.1,
          1,
          5,
          15,
          50,
          100,
          1000
         ],
         "xaxis": "x",
         "y": [
          0.7995725755851482,
          0.6358453241603431,
          0.4818858699209846,
          0.5785274140047012,
          0.5665932051018542,
          0.625897882008155,
          0.5888981780157508
         ],
         "yaxis": "y"
        },
        {
         "line": {
          "color": "rgba(0,176,246,0.2)"
         },
         "mode": "lines",
         "showlegend": false,
         "type": "scatter",
         "x": [
          0.1,
          1,
          5,
          15,
          50,
          100,
          1000
         ],
         "xaxis": "x",
         "y": [
          0.8535454645896559,
          0.9153394644031536,
          0.7962009330441804,
          0.8096185207526512,
          0.8131933533218765,
          0.8512567200118992,
          0.9098531213794592
         ],
         "yaxis": "y"
        },
        {
         "fill": "tonexty",
         "fillcolor": "rgba(0,176,246,0.2)",
         "line": {
          "color": "rgba(255,255,255,0)"
         },
         "mode": "lines",
         "showlegend": false,
         "type": "scatter",
         "x": [
          0.1,
          1,
          5,
          15,
          50,
          100,
          1000
         ],
         "xaxis": "x",
         "y": [
          0.7455996865806405,
          0.3563511839175326,
          0.1675708067977888,
          0.34743630725675123,
          0.3199930568818319,
          0.40053904400441076,
          0.26794323465204245
         ],
         "yaxis": "y"
        },
        {
         "line": {
          "color": "rgba(231,107,243,1)"
         },
         "marker": {
          "color": "rgba(231,107,243,1)"
         },
         "mode": "lines+markers",
         "name": "r-SVM-p",
         "type": "scatter",
         "x": [
          0.1,
          1,
          5,
          15,
          50,
          100,
          1000
         ],
         "xaxis": "x",
         "y": [
          0.8270060628319216,
          0.8276101406179759,
          0.8253861883440414,
          0.8218662739745808,
          0.8099667657048387,
          0.7965344798719649,
          0.7875239630161313
         ],
         "yaxis": "y"
        },
        {
         "line": {
          "color": "rgba(231,107,243,0.2)"
         },
         "mode": "lines",
         "showlegend": false,
         "type": "scatter",
         "x": [
          0.1,
          1,
          5,
          15,
          50,
          100,
          1000
         ],
         "xaxis": "x",
         "y": [
          0.8670831648023727,
          0.8689863739522343,
          0.8665109869329364,
          0.8664456728419759,
          0.8524860077550751,
          0.8359740063831043,
          0.8203394750419734
         ],
         "yaxis": "y"
        },
        {
         "fill": "tonexty",
         "fillcolor": "rgba(231,107,243,0.2)",
         "line": {
          "color": "rgba(255,255,255,0)"
         },
         "mode": "lines",
         "showlegend": false,
         "type": "scatter",
         "x": [
          0.1,
          1,
          5,
          15,
          50,
          100,
          1000
         ],
         "xaxis": "x",
         "y": [
          0.7869289608614705,
          0.7862339072837174,
          0.7842613897551465,
          0.7772868751071856,
          0.7674475236546023,
          0.7570949533608256,
          0.7547084509902892
         ],
         "yaxis": "y"
        },
        {
         "line": {
          "color": "rgba(21,213,69,1)"
         },
         "marker": {
          "color": "rgba(21,213,69,1)"
         },
         "mode": "lines+markers",
         "name": "LogReg-p",
         "type": "scatter",
         "x": [
          0.1,
          1,
          5,
          15,
          50,
          100,
          1000
         ],
         "xaxis": "x",
         "y": [
          0.8236400506905426,
          0.8240965064169672,
          0.8252348706991691,
          0.8283336114782051,
          0.8287965920348345,
          0.8252357956588409,
          0.809856272023936
         ],
         "yaxis": "y"
        },
        {
         "line": {
          "color": "rgba(21,213,69,0.2)"
         },
         "mode": "lines",
         "showlegend": false,
         "type": "scatter",
         "x": [
          0.1,
          1,
          5,
          15,
          50,
          100,
          1000
         ],
         "xaxis": "x",
         "y": [
          0.874768898173933,
          0.8753058527094776,
          0.876054721439343,
          0.8765927778680443,
          0.8719541096036533,
          0.8633679390825735,
          0.8378172270890545
         ],
         "yaxis": "y"
        },
        {
         "fill": "tonexty",
         "fillcolor": "rgba(21,213,69,0.2)",
         "line": {
          "color": "rgba(255,255,255,0)"
         },
         "mode": "lines",
         "showlegend": false,
         "type": "scatter",
         "x": [
          0.1,
          1,
          5,
          15,
          50,
          100,
          1000
         ],
         "xaxis": "x",
         "y": [
          0.7725112032071522,
          0.7728871601244568,
          0.7744150199589952,
          0.7800744450883658,
          0.7856390744660157,
          0.7871036522351083,
          0.7818953169588174
         ],
         "yaxis": "y"
        },
        {
         "line": {
          "color": "rgba(0,176,246,1)"
         },
         "marker": {
          "color": "rgba(0,176,246,1)"
         },
         "mode": "lines+markers",
         "name": "l-SVM-p",
         "showlegend": false,
         "type": "scatter",
         "x": [
          0.1,
          1,
          5,
          15,
          50,
          100,
          1000
         ],
         "xaxis": "x2",
         "y": [
          0.6471323214780136,
          0.6316448941579199,
          0.6045588864557376,
          0.6480535628885701,
          0.6952452868181933,
          0.6574386468322888,
          0.5895396310000252
         ],
         "yaxis": "y2"
        },
        {
         "line": {
          "color": "rgba(0,176,246,0.2)"
         },
         "mode": "lines",
         "showlegend": false,
         "type": "scatter",
         "x": [
          0.1,
          1,
          5,
          15,
          50,
          100,
          1000
         ],
         "xaxis": "x2",
         "y": [
          0.7386959611963808,
          0.7281667207197855,
          0.6428444192382539,
          0.7735177455624176,
          0.8127356414959314,
          0.7391221279398376,
          0.6191141353500669
         ],
         "yaxis": "y2"
        },
        {
         "fill": "tonexty",
         "fillcolor": "rgba(0,176,246,0.2)",
         "line": {
          "color": "rgba(255,255,255,0)"
         },
         "mode": "lines",
         "showlegend": false,
         "type": "scatter",
         "x": [
          0.1,
          1,
          5,
          15,
          50,
          100,
          1000
         ],
         "xaxis": "x2",
         "y": [
          0.5555686817596464,
          0.5351230675960543,
          0.5662733536732214,
          0.5225893802147226,
          0.5777549321404553,
          0.5757551657247401,
          0.5599651266499834
         ],
         "yaxis": "y2"
        },
        {
         "line": {
          "color": "rgba(231,107,243,1)"
         },
         "marker": {
          "color": "rgba(231,107,243,1)"
         },
         "mode": "lines+markers",
         "name": "r-SVM-p",
         "showlegend": false,
         "type": "scatter",
         "x": [
          0.1,
          1,
          5,
          15,
          50,
          100,
          1000
         ],
         "xaxis": "x2",
         "y": [
          0.6671041304840293,
          0.7013939439703994,
          0.722089657429082,
          0.6590968813712905,
          0.717314304412394,
          0.6707986609277857,
          0.6583805280777266
         ],
         "yaxis": "y2"
        },
        {
         "line": {
          "color": "rgba(231,107,243,0.2)"
         },
         "mode": "lines",
         "showlegend": false,
         "type": "scatter",
         "x": [
          0.1,
          1,
          5,
          15,
          50,
          100,
          1000
         ],
         "xaxis": "x2",
         "y": [
          0.7419099667554394,
          0.7964050532416822,
          0.7585988874121038,
          0.7518970479254612,
          0.7713760306148204,
          0.7780567521120303,
          0.7223354495241022
         ],
         "yaxis": "y2"
        },
        {
         "fill": "tonexty",
         "fillcolor": "rgba(231,107,243,0.2)",
         "line": {
          "color": "rgba(255,255,255,0)"
         },
         "mode": "lines",
         "showlegend": false,
         "type": "scatter",
         "x": [
          0.1,
          1,
          5,
          15,
          50,
          100,
          1000
         ],
         "xaxis": "x2",
         "y": [
          0.5922982942126191,
          0.6063828346991167,
          0.6855804274460603,
          0.5662967148171199,
          0.6632525782099675,
          0.5635405697435412,
          0.594425606631351
         ],
         "yaxis": "y2"
        },
        {
         "line": {
          "color": "rgba(21,213,69,1)"
         },
         "marker": {
          "color": "rgba(21,213,69,1)"
         },
         "mode": "lines+markers",
         "name": "LogReg-p",
         "showlegend": false,
         "type": "scatter",
         "x": [
          0.1,
          1,
          5,
          15,
          50,
          100,
          1000
         ],
         "xaxis": "x2",
         "y": [
          0.5395217599234816,
          0.5395217599234816,
          0.5342586020287448,
          0.5532885297893226,
          0.5654524402829167,
          0.5861199627476151,
          0.4654036094540512
         ],
         "yaxis": "y2"
        },
        {
         "line": {
          "color": "rgba(21,213,69,0.2)"
         },
         "mode": "lines",
         "showlegend": false,
         "type": "scatter",
         "x": [
          0.1,
          1,
          5,
          15,
          50,
          100,
          1000
         ],
         "xaxis": "x2",
         "y": [
          0.6476334127474546,
          0.6476334127474546,
          0.6514409314969302,
          0.6443927973070728,
          0.6505804778115243,
          0.6505236334362677,
          0.5692654749206935
         ],
         "yaxis": "y2"
        },
        {
         "fill": "tonexty",
         "fillcolor": "rgba(21,213,69,0.2)",
         "line": {
          "color": "rgba(255,255,255,0)"
         },
         "mode": "lines",
         "showlegend": false,
         "type": "scatter",
         "x": [
          0.1,
          1,
          5,
          15,
          50,
          100,
          1000
         ],
         "xaxis": "x2",
         "y": [
          0.43141010709950867,
          0.43141010709950867,
          0.41707627256055935,
          0.46218426227157255,
          0.4803244027543092,
          0.5217162920589625,
          0.3615417439874089
         ],
         "yaxis": "y2"
        }
       ],
       "layout": {
        "annotations": [
         {
          "font": {
           "color": "black",
           "size": 15
          },
          "showarrow": false,
          "text": "※ x軸は対数スケール",
          "x": 0.02,
          "xref": "paper",
          "y": 1.11,
          "yref": "paper"
         }
        ],
        "height": 400,
        "legend": {
         "orientation": "h",
         "x": 0.5,
         "y": 1.15
        },
        "template": {
         "data": {
          "bar": [
           {
            "error_x": {
             "color": "#2a3f5f"
            },
            "error_y": {
             "color": "#2a3f5f"
            },
            "marker": {
             "line": {
              "color": "#E5ECF6",
              "width": 0.5
             },
             "pattern": {
              "fillmode": "overlay",
              "size": 10,
              "solidity": 0.2
             }
            },
            "type": "bar"
           }
          ],
          "barpolar": [
           {
            "marker": {
             "line": {
              "color": "#E5ECF6",
              "width": 0.5
             },
             "pattern": {
              "fillmode": "overlay",
              "size": 10,
              "solidity": 0.2
             }
            },
            "type": "barpolar"
           }
          ],
          "carpet": [
           {
            "aaxis": {
             "endlinecolor": "#2a3f5f",
             "gridcolor": "white",
             "linecolor": "white",
             "minorgridcolor": "white",
             "startlinecolor": "#2a3f5f"
            },
            "baxis": {
             "endlinecolor": "#2a3f5f",
             "gridcolor": "white",
             "linecolor": "white",
             "minorgridcolor": "white",
             "startlinecolor": "#2a3f5f"
            },
            "type": "carpet"
           }
          ],
          "choropleth": [
           {
            "colorbar": {
             "outlinewidth": 0,
             "ticks": ""
            },
            "type": "choropleth"
           }
          ],
          "contour": [
           {
            "colorbar": {
             "outlinewidth": 0,
             "ticks": ""
            },
            "colorscale": [
             [
              0,
              "#0d0887"
             ],
             [
              0.1111111111111111,
              "#46039f"
             ],
             [
              0.2222222222222222,
              "#7201a8"
             ],
             [
              0.3333333333333333,
              "#9c179e"
             ],
             [
              0.4444444444444444,
              "#bd3786"
             ],
             [
              0.5555555555555556,
              "#d8576b"
             ],
             [
              0.6666666666666666,
              "#ed7953"
             ],
             [
              0.7777777777777778,
              "#fb9f3a"
             ],
             [
              0.8888888888888888,
              "#fdca26"
             ],
             [
              1,
              "#f0f921"
             ]
            ],
            "type": "contour"
           }
          ],
          "contourcarpet": [
           {
            "colorbar": {
             "outlinewidth": 0,
             "ticks": ""
            },
            "type": "contourcarpet"
           }
          ],
          "heatmap": [
           {
            "colorbar": {
             "outlinewidth": 0,
             "ticks": ""
            },
            "colorscale": [
             [
              0,
              "#0d0887"
             ],
             [
              0.1111111111111111,
              "#46039f"
             ],
             [
              0.2222222222222222,
              "#7201a8"
             ],
             [
              0.3333333333333333,
              "#9c179e"
             ],
             [
              0.4444444444444444,
              "#bd3786"
             ],
             [
              0.5555555555555556,
              "#d8576b"
             ],
             [
              0.6666666666666666,
              "#ed7953"
             ],
             [
              0.7777777777777778,
              "#fb9f3a"
             ],
             [
              0.8888888888888888,
              "#fdca26"
             ],
             [
              1,
              "#f0f921"
             ]
            ],
            "type": "heatmap"
           }
          ],
          "heatmapgl": [
           {
            "colorbar": {
             "outlinewidth": 0,
             "ticks": ""
            },
            "colorscale": [
             [
              0,
              "#0d0887"
             ],
             [
              0.1111111111111111,
              "#46039f"
             ],
             [
              0.2222222222222222,
              "#7201a8"
             ],
             [
              0.3333333333333333,
              "#9c179e"
             ],
             [
              0.4444444444444444,
              "#bd3786"
             ],
             [
              0.5555555555555556,
              "#d8576b"
             ],
             [
              0.6666666666666666,
              "#ed7953"
             ],
             [
              0.7777777777777778,
              "#fb9f3a"
             ],
             [
              0.8888888888888888,
              "#fdca26"
             ],
             [
              1,
              "#f0f921"
             ]
            ],
            "type": "heatmapgl"
           }
          ],
          "histogram": [
           {
            "marker": {
             "pattern": {
              "fillmode": "overlay",
              "size": 10,
              "solidity": 0.2
             }
            },
            "type": "histogram"
           }
          ],
          "histogram2d": [
           {
            "colorbar": {
             "outlinewidth": 0,
             "ticks": ""
            },
            "colorscale": [
             [
              0,
              "#0d0887"
             ],
             [
              0.1111111111111111,
              "#46039f"
             ],
             [
              0.2222222222222222,
              "#7201a8"
             ],
             [
              0.3333333333333333,
              "#9c179e"
             ],
             [
              0.4444444444444444,
              "#bd3786"
             ],
             [
              0.5555555555555556,
              "#d8576b"
             ],
             [
              0.6666666666666666,
              "#ed7953"
             ],
             [
              0.7777777777777778,
              "#fb9f3a"
             ],
             [
              0.8888888888888888,
              "#fdca26"
             ],
             [
              1,
              "#f0f921"
             ]
            ],
            "type": "histogram2d"
           }
          ],
          "histogram2dcontour": [
           {
            "colorbar": {
             "outlinewidth": 0,
             "ticks": ""
            },
            "colorscale": [
             [
              0,
              "#0d0887"
             ],
             [
              0.1111111111111111,
              "#46039f"
             ],
             [
              0.2222222222222222,
              "#7201a8"
             ],
             [
              0.3333333333333333,
              "#9c179e"
             ],
             [
              0.4444444444444444,
              "#bd3786"
             ],
             [
              0.5555555555555556,
              "#d8576b"
             ],
             [
              0.6666666666666666,
              "#ed7953"
             ],
             [
              0.7777777777777778,
              "#fb9f3a"
             ],
             [
              0.8888888888888888,
              "#fdca26"
             ],
             [
              1,
              "#f0f921"
             ]
            ],
            "type": "histogram2dcontour"
           }
          ],
          "mesh3d": [
           {
            "colorbar": {
             "outlinewidth": 0,
             "ticks": ""
            },
            "type": "mesh3d"
           }
          ],
          "parcoords": [
           {
            "line": {
             "colorbar": {
              "outlinewidth": 0,
              "ticks": ""
             }
            },
            "type": "parcoords"
           }
          ],
          "pie": [
           {
            "automargin": true,
            "type": "pie"
           }
          ],
          "scatter": [
           {
            "fillpattern": {
             "fillmode": "overlay",
             "size": 10,
             "solidity": 0.2
            },
            "type": "scatter"
           }
          ],
          "scatter3d": [
           {
            "line": {
             "colorbar": {
              "outlinewidth": 0,
              "ticks": ""
             }
            },
            "marker": {
             "colorbar": {
              "outlinewidth": 0,
              "ticks": ""
             }
            },
            "type": "scatter3d"
           }
          ],
          "scattercarpet": [
           {
            "marker": {
             "colorbar": {
              "outlinewidth": 0,
              "ticks": ""
             }
            },
            "type": "scattercarpet"
           }
          ],
          "scattergeo": [
           {
            "marker": {
             "colorbar": {
              "outlinewidth": 0,
              "ticks": ""
             }
            },
            "type": "scattergeo"
           }
          ],
          "scattergl": [
           {
            "marker": {
             "colorbar": {
              "outlinewidth": 0,
              "ticks": ""
             }
            },
            "type": "scattergl"
           }
          ],
          "scattermapbox": [
           {
            "marker": {
             "colorbar": {
              "outlinewidth": 0,
              "ticks": ""
             }
            },
            "type": "scattermapbox"
           }
          ],
          "scatterpolar": [
           {
            "marker": {
             "colorbar": {
              "outlinewidth": 0,
              "ticks": ""
             }
            },
            "type": "scatterpolar"
           }
          ],
          "scatterpolargl": [
           {
            "marker": {
             "colorbar": {
              "outlinewidth": 0,
              "ticks": ""
             }
            },
            "type": "scatterpolargl"
           }
          ],
          "scatterternary": [
           {
            "marker": {
             "colorbar": {
              "outlinewidth": 0,
              "ticks": ""
             }
            },
            "type": "scatterternary"
           }
          ],
          "surface": [
           {
            "colorbar": {
             "outlinewidth": 0,
             "ticks": ""
            },
            "colorscale": [
             [
              0,
              "#0d0887"
             ],
             [
              0.1111111111111111,
              "#46039f"
             ],
             [
              0.2222222222222222,
              "#7201a8"
             ],
             [
              0.3333333333333333,
              "#9c179e"
             ],
             [
              0.4444444444444444,
              "#bd3786"
             ],
             [
              0.5555555555555556,
              "#d8576b"
             ],
             [
              0.6666666666666666,
              "#ed7953"
             ],
             [
              0.7777777777777778,
              "#fb9f3a"
             ],
             [
              0.8888888888888888,
              "#fdca26"
             ],
             [
              1,
              "#f0f921"
             ]
            ],
            "type": "surface"
           }
          ],
          "table": [
           {
            "cells": {
             "fill": {
              "color": "#EBF0F8"
             },
             "line": {
              "color": "white"
             }
            },
            "header": {
             "fill": {
              "color": "#C8D4E3"
             },
             "line": {
              "color": "white"
             }
            },
            "type": "table"
           }
          ]
         },
         "layout": {
          "annotationdefaults": {
           "arrowcolor": "#2a3f5f",
           "arrowhead": 0,
           "arrowwidth": 1
          },
          "autotypenumbers": "strict",
          "coloraxis": {
           "colorbar": {
            "outlinewidth": 0,
            "ticks": ""
           }
          },
          "colorscale": {
           "diverging": [
            [
             0,
             "#8e0152"
            ],
            [
             0.1,
             "#c51b7d"
            ],
            [
             0.2,
             "#de77ae"
            ],
            [
             0.3,
             "#f1b6da"
            ],
            [
             0.4,
             "#fde0ef"
            ],
            [
             0.5,
             "#f7f7f7"
            ],
            [
             0.6,
             "#e6f5d0"
            ],
            [
             0.7,
             "#b8e186"
            ],
            [
             0.8,
             "#7fbc41"
            ],
            [
             0.9,
             "#4d9221"
            ],
            [
             1,
             "#276419"
            ]
           ],
           "sequential": [
            [
             0,
             "#0d0887"
            ],
            [
             0.1111111111111111,
             "#46039f"
            ],
            [
             0.2222222222222222,
             "#7201a8"
            ],
            [
             0.3333333333333333,
             "#9c179e"
            ],
            [
             0.4444444444444444,
             "#bd3786"
            ],
            [
             0.5555555555555556,
             "#d8576b"
            ],
            [
             0.6666666666666666,
             "#ed7953"
            ],
            [
             0.7777777777777778,
             "#fb9f3a"
            ],
            [
             0.8888888888888888,
             "#fdca26"
            ],
            [
             1,
             "#f0f921"
            ]
           ],
           "sequentialminus": [
            [
             0,
             "#0d0887"
            ],
            [
             0.1111111111111111,
             "#46039f"
            ],
            [
             0.2222222222222222,
             "#7201a8"
            ],
            [
             0.3333333333333333,
             "#9c179e"
            ],
            [
             0.4444444444444444,
             "#bd3786"
            ],
            [
             0.5555555555555556,
             "#d8576b"
            ],
            [
             0.6666666666666666,
             "#ed7953"
            ],
            [
             0.7777777777777778,
             "#fb9f3a"
            ],
            [
             0.8888888888888888,
             "#fdca26"
            ],
            [
             1,
             "#f0f921"
            ]
           ]
          },
          "colorway": [
           "#636efa",
           "#EF553B",
           "#00cc96",
           "#ab63fa",
           "#FFA15A",
           "#19d3f3",
           "#FF6692",
           "#B6E880",
           "#FF97FF",
           "#FECB52"
          ],
          "font": {
           "color": "#2a3f5f"
          },
          "geo": {
           "bgcolor": "white",
           "lakecolor": "white",
           "landcolor": "#E5ECF6",
           "showlakes": true,
           "showland": true,
           "subunitcolor": "white"
          },
          "hoverlabel": {
           "align": "left"
          },
          "hovermode": "closest",
          "mapbox": {
           "style": "light"
          },
          "paper_bgcolor": "white",
          "plot_bgcolor": "#E5ECF6",
          "polar": {
           "angularaxis": {
            "gridcolor": "white",
            "linecolor": "white",
            "ticks": ""
           },
           "bgcolor": "#E5ECF6",
           "radialaxis": {
            "gridcolor": "white",
            "linecolor": "white",
            "ticks": ""
           }
          },
          "scene": {
           "xaxis": {
            "backgroundcolor": "#E5ECF6",
            "gridcolor": "white",
            "gridwidth": 2,
            "linecolor": "white",
            "showbackground": true,
            "ticks": "",
            "zerolinecolor": "white"
           },
           "yaxis": {
            "backgroundcolor": "#E5ECF6",
            "gridcolor": "white",
            "gridwidth": 2,
            "linecolor": "white",
            "showbackground": true,
            "ticks": "",
            "zerolinecolor": "white"
           },
           "zaxis": {
            "backgroundcolor": "#E5ECF6",
            "gridcolor": "white",
            "gridwidth": 2,
            "linecolor": "white",
            "showbackground": true,
            "ticks": "",
            "zerolinecolor": "white"
           }
          },
          "shapedefaults": {
           "line": {
            "color": "#2a3f5f"
           }
          },
          "ternary": {
           "aaxis": {
            "gridcolor": "white",
            "linecolor": "white",
            "ticks": ""
           },
           "baxis": {
            "gridcolor": "white",
            "linecolor": "white",
            "ticks": ""
           },
           "bgcolor": "#E5ECF6",
           "caxis": {
            "gridcolor": "white",
            "linecolor": "white",
            "ticks": ""
           }
          },
          "title": {
           "x": 0.05
          },
          "xaxis": {
           "automargin": true,
           "gridcolor": "white",
           "linecolor": "white",
           "ticks": "",
           "title": {
            "standoff": 15
           },
           "zerolinecolor": "white",
           "zerolinewidth": 2
          },
          "yaxis": {
           "automargin": true,
           "gridcolor": "white",
           "linecolor": "white",
           "ticks": "",
           "title": {
            "standoff": 15
           },
           "zerolinecolor": "white",
           "zerolinewidth": 2
          }
         }
        },
        "width": 600,
        "xaxis": {
         "anchor": "y",
         "domain": [
          0,
          0.49
         ],
         "title": {
          "font": {
           "size": 16
          },
          "text": "C2"
         },
         "type": "log"
        },
        "xaxis2": {
         "anchor": "y2",
         "domain": [
          0.5,
          1
         ],
         "title": {
          "font": {
           "size": 16
          },
          "text": "C2"
         },
         "type": "log"
        },
        "yaxis": {
         "anchor": "x",
         "domain": [
          0,
          1
         ],
         "range": [
          0,
          1
         ],
         "side": "left",
         "title": {
          "font": {
           "size": 16
          },
          "text": "AUC"
         }
        },
        "yaxis2": {
         "anchor": "x2",
         "domain": [
          0,
          1
         ],
         "range": [
          0,
          1
         ],
         "side": "right",
         "title": {
          "font": {
           "size": 16
          },
          "text": "ルール違反率"
         }
        }
       }
      }
     },
     "metadata": {},
     "output_type": "display_data"
    }
   ],
   "source": [
    "import plotly.graph_objects as go\n",
    "from plotly.subplots import make_subplots\n",
    "\n",
    "\n",
    "# グラフのデータを準備\n",
    "index = ['l-SVM-p', 'r-SVM-p', 'LogReg-p']\n",
    "colors_mean = ['rgba(0,176,246,1)', 'rgba(231,107,243,1)', 'rgba(21,213,69,1)']  # indexに対応する色\n",
    "colors_std  = ['rgba(0,176,246,0.2)', 'rgba(231,107,243,0.2)', 'rgba(21,213,69,0.2)']  # indexに対応する色\n",
    "\n",
    "\n",
    "# グラフ1: AUCのデータ\n",
    "col_auc = 'auc'\n",
    "tmp_mean_auc = pd.DataFrame([\n",
    "    {info: df.loc['linear svm (L)', col_auc] for info, df in zip(infos, dfs_mean)},\n",
    "    {info: df.loc['non-linear svm (L)', col_auc] for info, df in zip(infos, dfs_mean)},\n",
    "    {info: df.loc['logistic regression (L)', col_auc] for info, df in zip(infos, dfs_mean)}\n",
    "], index=index)\n",
    "tmp_std_auc = pd.DataFrame([\n",
    "    {info: df.loc['linear svm (L)', col_auc] for info, df in zip(infos, dfs_std)},\n",
    "    {info: df.loc['non-linear svm (L)', col_auc] for info, df in zip(infos, dfs_std)},\n",
    "    {info: df.loc['logistic regression (L)', col_auc] for info, df in zip(infos, dfs_std)}\n",
    "], index=index)\n",
    "\n",
    "# グラフ2: ルール違反率のデータ\n",
    "col_vr = 'violation_rate'\n",
    "tmp_mean_vr = pd.DataFrame([\n",
    "    {info: df.loc['linear svm (L)', col_vr] for info, df in zip(infos, dfs_mean)},\n",
    "    {info: df.loc['non-linear svm (L)', col_vr] for info, df in zip(infos, dfs_mean)},\n",
    "    {info: df.loc['logistic regression (L)', col_vr] for info, df in zip(infos, dfs_mean)}\n",
    "], index=index)\n",
    "tmp_std_vr = pd.DataFrame([\n",
    "    {info: df.loc['linear svm (L)', col_vr] for info, df in zip(infos, dfs_std)},\n",
    "    {info: df.loc['non-linear svm (L)', col_vr] for info, df in zip(infos, dfs_std)},\n",
    "    {info: df.loc['logistic regression (L)', col_vr] for info, df in zip(infos, dfs_std)}\n",
    "], index=index)\n",
    "\n",
    "\n",
    "# サブプロットの作成\n",
    "# fig = make_subplots(rows=1, cols=2, subplot_titles=('AUC', 'ルール違反率'))\n",
    "fig = make_subplots(rows=1, cols=2)\n",
    "\n",
    "# グラフ1: AUC\n",
    "for i in range(len(tmp_mean_auc)):\n",
    "    fig.add_trace(\n",
    "        go.Scatter(\n",
    "            x=tmp_mean_auc.columns,\n",
    "            y=tmp_mean_auc.iloc[i, :],\n",
    "            mode='lines+markers',\n",
    "            name=tmp_mean_auc.index[i],\n",
    "            line=dict(color=colors_mean[i]),  # ラインの色を設定\n",
    "            marker=dict(color=colors_mean[i])  # マーカーの色を設定\n",
    "        ),\n",
    "        row=1, col=1\n",
    "    )\n",
    "    fig.add_trace(\n",
    "        go.Scatter(\n",
    "            x=tmp_mean_auc.columns,\n",
    "            y=tmp_mean_auc.iloc[i, :] + tmp_std_auc.iloc[i, :],\n",
    "            mode='lines',\n",
    "            line=dict(color=colors_std[i]),  # ラインの色を設定\n",
    "            showlegend=False\n",
    "        ),\n",
    "        row=1, col=1\n",
    "    )\n",
    "    fig.add_trace(\n",
    "        go.Scatter(\n",
    "            x=tmp_mean_auc.columns,\n",
    "            y=tmp_mean_auc.iloc[i, :] - tmp_std_auc.iloc[i, :],\n",
    "            mode='lines',\n",
    "            fill='tonexty',\n",
    "            fillcolor=colors_std[i],\n",
    "            line=dict(color='rgba(255,255,255,0)'),\n",
    "            showlegend=False\n",
    "        ),\n",
    "        row=1, col=1\n",
    "    )\n",
    "\n",
    "# グラフ2: ルール違反率\n",
    "for i in range(len(tmp_mean_vr)):\n",
    "    fig.add_trace(\n",
    "        go.Scatter(\n",
    "            x=tmp_mean_vr.columns,\n",
    "            y=tmp_mean_vr.iloc[i, :],\n",
    "            mode='lines+markers',\n",
    "            name=tmp_mean_vr.index[i],\n",
    "            line=dict(color=colors_mean[i]),  # ラインの色を設定\n",
    "            marker=dict(color=colors_mean[i]),  # マーカーの色を設定\n",
    "            showlegend=False\n",
    "        ),\n",
    "        row=1, col=2\n",
    "    )\n",
    "    fig.add_trace(\n",
    "        go.Scatter(\n",
    "            x=tmp_mean_vr.columns,\n",
    "            y=tmp_mean_vr.iloc[i, :] + tmp_std_vr.iloc[i, :],\n",
    "            mode='lines',\n",
    "            line=dict(color=colors_std[i]),  # ラインの色を設定\n",
    "            showlegend=False\n",
    "        ),\n",
    "        row=1, col=2\n",
    "    )\n",
    "    fig.add_trace(\n",
    "        go.Scatter(\n",
    "            x=tmp_mean_vr.columns,\n",
    "            y=tmp_mean_vr.iloc[i, :] - tmp_std_vr.iloc[i, :],\n",
    "            mode='lines',\n",
    "            fill='tonexty',\n",
    "            fillcolor=colors_std[i],\n",
    "            line=dict(color='rgba(255,255,255,0)'),\n",
    "            showlegend=False\n",
    "        ),\n",
    "        row=1, col=2\n",
    "    )\n",
    "\n",
    "# x軸の設定\n",
    "fig.update_xaxes(title_text='C2', row=1, col=1, type='log')\n",
    "fig.update_xaxes(title_text='C2', row=1, col=2, type='log')\n",
    "\n",
    "# レイアウトの設定\n",
    "fig.update_layout(\n",
    "    height=400,\n",
    "    width=600,\n",
    "    xaxis=dict(\n",
    "        domain=[0, 0.49],  # 左側のsubplotの幅を調整\n",
    "        title_font=dict(size=16)\n",
    "    ),\n",
    "    xaxis2=dict(\n",
    "        domain=[0.5, 1],  # 右側のsubplotの幅を調整\n",
    "        title_font=dict(size=16)\n",
    "    ),\n",
    "    legend=dict(\n",
    "        x=0.5,\n",
    "        y=1.15,\n",
    "        orientation='h'  # 水平配置\n",
    "    ),\n",
    "    annotations=[\n",
    "        dict(\n",
    "            xref=\"paper\",\n",
    "            yref=\"paper\",\n",
    "            x=0.02,\n",
    "            y=1.11,\n",
    "            text=\"※ x軸は対数スケール\",\n",
    "            showarrow=False,\n",
    "            font=dict(\n",
    "                size=15,\n",
    "                color=\"black\"\n",
    "            )\n",
    "        )\n",
    "    ]\n",
    ")\n",
    "\n",
    "# y軸の設定\n",
    "fig.update_yaxes(title_text='AUC', range=[0, 1], row=1, col=1, side='left', title_font=dict(size=16))  # col=1のグラフのy軸を左側に配置\n",
    "fig.update_yaxes(title_text='ルール違反率', range=[0, 1], row=1, col=2, side='right', title_font=dict(size=16))  # col=2のグラフのy軸を右側に配置\n",
    "\n",
    "# グラフの表示\n",
    "fig.show()\n"
   ]
  },
  {
   "cell_type": "code",
   "execution_count": 51,
   "metadata": {},
   "outputs": [
    {
     "data": {
      "application/vnd.plotly.v1+json": {
       "config": {
        "plotlyServerURL": "https://plot.ly"
       },
       "data": [
        {
         "line": {
          "color": "rgba(0,176,246,1)"
         },
         "marker": {
          "color": "rgba(0,176,246,1)"
         },
         "mode": "lines+markers",
         "name": "l-SVM-p",
         "type": "scatter",
         "x": [
          0.1,
          1,
          5,
          15,
          50,
          100,
          1000
         ],
         "xaxis": "x",
         "y": [
          0.7995725755851482,
          0.6358453241603431,
          0.4818858699209846,
          0.5785274140047012,
          0.5665932051018542,
          0.625897882008155,
          0.5888981780157508
         ],
         "yaxis": "y"
        },
        {
         "line": {
          "color": "rgba(0,176,246,0.2)"
         },
         "mode": "lines",
         "showlegend": false,
         "type": "scatter",
         "x": [
          0.1,
          1,
          5,
          15,
          50,
          100,
          1000
         ],
         "xaxis": "x",
         "y": [
          0.8535454645896559,
          0.9153394644031536,
          0.7962009330441804,
          0.8096185207526512,
          0.8131933533218765,
          0.8512567200118992,
          0.9098531213794592
         ],
         "yaxis": "y"
        },
        {
         "fill": "tonexty",
         "fillcolor": "rgba(0,176,246,0.2)",
         "line": {
          "color": "rgba(255,255,255,0)"
         },
         "mode": "lines",
         "showlegend": false,
         "type": "scatter",
         "x": [
          0.1,
          1,
          5,
          15,
          50,
          100,
          1000
         ],
         "xaxis": "x",
         "y": [
          0.7455996865806405,
          0.3563511839175326,
          0.1675708067977888,
          0.34743630725675123,
          0.3199930568818319,
          0.40053904400441076,
          0.26794323465204245
         ],
         "yaxis": "y"
        },
        {
         "line": {
          "color": "rgba(231,107,243,1)"
         },
         "marker": {
          "color": "rgba(231,107,243,1)"
         },
         "mode": "lines+markers",
         "name": "r-SVM-p",
         "type": "scatter",
         "x": [
          0.1,
          1,
          5,
          15,
          50,
          100,
          1000
         ],
         "xaxis": "x",
         "y": [
          0.8270060628319216,
          0.8276101406179759,
          0.8253861883440414,
          0.8218662739745808,
          0.8099667657048387,
          0.7965344798719649,
          0.7875239630161313
         ],
         "yaxis": "y"
        },
        {
         "line": {
          "color": "rgba(231,107,243,0.2)"
         },
         "mode": "lines",
         "showlegend": false,
         "type": "scatter",
         "x": [
          0.1,
          1,
          5,
          15,
          50,
          100,
          1000
         ],
         "xaxis": "x",
         "y": [
          0.8670831648023727,
          0.8689863739522343,
          0.8665109869329364,
          0.8664456728419759,
          0.8524860077550751,
          0.8359740063831043,
          0.8203394750419734
         ],
         "yaxis": "y"
        },
        {
         "fill": "tonexty",
         "fillcolor": "rgba(231,107,243,0.2)",
         "line": {
          "color": "rgba(255,255,255,0)"
         },
         "mode": "lines",
         "showlegend": false,
         "type": "scatter",
         "x": [
          0.1,
          1,
          5,
          15,
          50,
          100,
          1000
         ],
         "xaxis": "x",
         "y": [
          0.7869289608614705,
          0.7862339072837174,
          0.7842613897551465,
          0.7772868751071856,
          0.7674475236546023,
          0.7570949533608256,
          0.7547084509902892
         ],
         "yaxis": "y"
        },
        {
         "line": {
          "color": "rgba(21,213,69,1)"
         },
         "marker": {
          "color": "rgba(21,213,69,1)"
         },
         "mode": "lines+markers",
         "name": "LogReg-p",
         "type": "scatter",
         "x": [
          0.1,
          1,
          5,
          15,
          50,
          100,
          1000
         ],
         "xaxis": "x",
         "y": [
          0.8236400506905426,
          0.8240965064169672,
          0.8252348706991691,
          0.8283336114782051,
          0.8287965920348345,
          0.8252357956588409,
          0.809856272023936
         ],
         "yaxis": "y"
        },
        {
         "line": {
          "color": "rgba(21,213,69,0.2)"
         },
         "mode": "lines",
         "showlegend": false,
         "type": "scatter",
         "x": [
          0.1,
          1,
          5,
          15,
          50,
          100,
          1000
         ],
         "xaxis": "x",
         "y": [
          0.874768898173933,
          0.8753058527094776,
          0.876054721439343,
          0.8765927778680443,
          0.8719541096036533,
          0.8633679390825735,
          0.8378172270890545
         ],
         "yaxis": "y"
        },
        {
         "fill": "tonexty",
         "fillcolor": "rgba(21,213,69,0.2)",
         "line": {
          "color": "rgba(255,255,255,0)"
         },
         "mode": "lines",
         "showlegend": false,
         "type": "scatter",
         "x": [
          0.1,
          1,
          5,
          15,
          50,
          100,
          1000
         ],
         "xaxis": "x",
         "y": [
          0.7725112032071522,
          0.7728871601244568,
          0.7744150199589952,
          0.7800744450883658,
          0.7856390744660157,
          0.7871036522351083,
          0.7818953169588174
         ],
         "yaxis": "y"
        }
       ],
       "layout": {
        "annotations": [
         {
          "font": {
           "color": "black",
           "size": 15
          },
          "showarrow": false,
          "text": "※ x軸は対数スケール",
          "x": 0,
          "xref": "paper",
          "y": 1.25,
          "yref": "paper"
         }
        ],
        "height": 400,
        "legend": {
         "orientation": "h",
         "x": 0.15,
         "y": 1.15
        },
        "template": {
         "data": {
          "bar": [
           {
            "error_x": {
             "color": "#2a3f5f"
            },
            "error_y": {
             "color": "#2a3f5f"
            },
            "marker": {
             "line": {
              "color": "#E5ECF6",
              "width": 0.5
             },
             "pattern": {
              "fillmode": "overlay",
              "size": 10,
              "solidity": 0.2
             }
            },
            "type": "bar"
           }
          ],
          "barpolar": [
           {
            "marker": {
             "line": {
              "color": "#E5ECF6",
              "width": 0.5
             },
             "pattern": {
              "fillmode": "overlay",
              "size": 10,
              "solidity": 0.2
             }
            },
            "type": "barpolar"
           }
          ],
          "carpet": [
           {
            "aaxis": {
             "endlinecolor": "#2a3f5f",
             "gridcolor": "white",
             "linecolor": "white",
             "minorgridcolor": "white",
             "startlinecolor": "#2a3f5f"
            },
            "baxis": {
             "endlinecolor": "#2a3f5f",
             "gridcolor": "white",
             "linecolor": "white",
             "minorgridcolor": "white",
             "startlinecolor": "#2a3f5f"
            },
            "type": "carpet"
           }
          ],
          "choropleth": [
           {
            "colorbar": {
             "outlinewidth": 0,
             "ticks": ""
            },
            "type": "choropleth"
           }
          ],
          "contour": [
           {
            "colorbar": {
             "outlinewidth": 0,
             "ticks": ""
            },
            "colorscale": [
             [
              0,
              "#0d0887"
             ],
             [
              0.1111111111111111,
              "#46039f"
             ],
             [
              0.2222222222222222,
              "#7201a8"
             ],
             [
              0.3333333333333333,
              "#9c179e"
             ],
             [
              0.4444444444444444,
              "#bd3786"
             ],
             [
              0.5555555555555556,
              "#d8576b"
             ],
             [
              0.6666666666666666,
              "#ed7953"
             ],
             [
              0.7777777777777778,
              "#fb9f3a"
             ],
             [
              0.8888888888888888,
              "#fdca26"
             ],
             [
              1,
              "#f0f921"
             ]
            ],
            "type": "contour"
           }
          ],
          "contourcarpet": [
           {
            "colorbar": {
             "outlinewidth": 0,
             "ticks": ""
            },
            "type": "contourcarpet"
           }
          ],
          "heatmap": [
           {
            "colorbar": {
             "outlinewidth": 0,
             "ticks": ""
            },
            "colorscale": [
             [
              0,
              "#0d0887"
             ],
             [
              0.1111111111111111,
              "#46039f"
             ],
             [
              0.2222222222222222,
              "#7201a8"
             ],
             [
              0.3333333333333333,
              "#9c179e"
             ],
             [
              0.4444444444444444,
              "#bd3786"
             ],
             [
              0.5555555555555556,
              "#d8576b"
             ],
             [
              0.6666666666666666,
              "#ed7953"
             ],
             [
              0.7777777777777778,
              "#fb9f3a"
             ],
             [
              0.8888888888888888,
              "#fdca26"
             ],
             [
              1,
              "#f0f921"
             ]
            ],
            "type": "heatmap"
           }
          ],
          "heatmapgl": [
           {
            "colorbar": {
             "outlinewidth": 0,
             "ticks": ""
            },
            "colorscale": [
             [
              0,
              "#0d0887"
             ],
             [
              0.1111111111111111,
              "#46039f"
             ],
             [
              0.2222222222222222,
              "#7201a8"
             ],
             [
              0.3333333333333333,
              "#9c179e"
             ],
             [
              0.4444444444444444,
              "#bd3786"
             ],
             [
              0.5555555555555556,
              "#d8576b"
             ],
             [
              0.6666666666666666,
              "#ed7953"
             ],
             [
              0.7777777777777778,
              "#fb9f3a"
             ],
             [
              0.8888888888888888,
              "#fdca26"
             ],
             [
              1,
              "#f0f921"
             ]
            ],
            "type": "heatmapgl"
           }
          ],
          "histogram": [
           {
            "marker": {
             "pattern": {
              "fillmode": "overlay",
              "size": 10,
              "solidity": 0.2
             }
            },
            "type": "histogram"
           }
          ],
          "histogram2d": [
           {
            "colorbar": {
             "outlinewidth": 0,
             "ticks": ""
            },
            "colorscale": [
             [
              0,
              "#0d0887"
             ],
             [
              0.1111111111111111,
              "#46039f"
             ],
             [
              0.2222222222222222,
              "#7201a8"
             ],
             [
              0.3333333333333333,
              "#9c179e"
             ],
             [
              0.4444444444444444,
              "#bd3786"
             ],
             [
              0.5555555555555556,
              "#d8576b"
             ],
             [
              0.6666666666666666,
              "#ed7953"
             ],
             [
              0.7777777777777778,
              "#fb9f3a"
             ],
             [
              0.8888888888888888,
              "#fdca26"
             ],
             [
              1,
              "#f0f921"
             ]
            ],
            "type": "histogram2d"
           }
          ],
          "histogram2dcontour": [
           {
            "colorbar": {
             "outlinewidth": 0,
             "ticks": ""
            },
            "colorscale": [
             [
              0,
              "#0d0887"
             ],
             [
              0.1111111111111111,
              "#46039f"
             ],
             [
              0.2222222222222222,
              "#7201a8"
             ],
             [
              0.3333333333333333,
              "#9c179e"
             ],
             [
              0.4444444444444444,
              "#bd3786"
             ],
             [
              0.5555555555555556,
              "#d8576b"
             ],
             [
              0.6666666666666666,
              "#ed7953"
             ],
             [
              0.7777777777777778,
              "#fb9f3a"
             ],
             [
              0.8888888888888888,
              "#fdca26"
             ],
             [
              1,
              "#f0f921"
             ]
            ],
            "type": "histogram2dcontour"
           }
          ],
          "mesh3d": [
           {
            "colorbar": {
             "outlinewidth": 0,
             "ticks": ""
            },
            "type": "mesh3d"
           }
          ],
          "parcoords": [
           {
            "line": {
             "colorbar": {
              "outlinewidth": 0,
              "ticks": ""
             }
            },
            "type": "parcoords"
           }
          ],
          "pie": [
           {
            "automargin": true,
            "type": "pie"
           }
          ],
          "scatter": [
           {
            "fillpattern": {
             "fillmode": "overlay",
             "size": 10,
             "solidity": 0.2
            },
            "type": "scatter"
           }
          ],
          "scatter3d": [
           {
            "line": {
             "colorbar": {
              "outlinewidth": 0,
              "ticks": ""
             }
            },
            "marker": {
             "colorbar": {
              "outlinewidth": 0,
              "ticks": ""
             }
            },
            "type": "scatter3d"
           }
          ],
          "scattercarpet": [
           {
            "marker": {
             "colorbar": {
              "outlinewidth": 0,
              "ticks": ""
             }
            },
            "type": "scattercarpet"
           }
          ],
          "scattergeo": [
           {
            "marker": {
             "colorbar": {
              "outlinewidth": 0,
              "ticks": ""
             }
            },
            "type": "scattergeo"
           }
          ],
          "scattergl": [
           {
            "marker": {
             "colorbar": {
              "outlinewidth": 0,
              "ticks": ""
             }
            },
            "type": "scattergl"
           }
          ],
          "scattermapbox": [
           {
            "marker": {
             "colorbar": {
              "outlinewidth": 0,
              "ticks": ""
             }
            },
            "type": "scattermapbox"
           }
          ],
          "scatterpolar": [
           {
            "marker": {
             "colorbar": {
              "outlinewidth": 0,
              "ticks": ""
             }
            },
            "type": "scatterpolar"
           }
          ],
          "scatterpolargl": [
           {
            "marker": {
             "colorbar": {
              "outlinewidth": 0,
              "ticks": ""
             }
            },
            "type": "scatterpolargl"
           }
          ],
          "scatterternary": [
           {
            "marker": {
             "colorbar": {
              "outlinewidth": 0,
              "ticks": ""
             }
            },
            "type": "scatterternary"
           }
          ],
          "surface": [
           {
            "colorbar": {
             "outlinewidth": 0,
             "ticks": ""
            },
            "colorscale": [
             [
              0,
              "#0d0887"
             ],
             [
              0.1111111111111111,
              "#46039f"
             ],
             [
              0.2222222222222222,
              "#7201a8"
             ],
             [
              0.3333333333333333,
              "#9c179e"
             ],
             [
              0.4444444444444444,
              "#bd3786"
             ],
             [
              0.5555555555555556,
              "#d8576b"
             ],
             [
              0.6666666666666666,
              "#ed7953"
             ],
             [
              0.7777777777777778,
              "#fb9f3a"
             ],
             [
              0.8888888888888888,
              "#fdca26"
             ],
             [
              1,
              "#f0f921"
             ]
            ],
            "type": "surface"
           }
          ],
          "table": [
           {
            "cells": {
             "fill": {
              "color": "#EBF0F8"
             },
             "line": {
              "color": "white"
             }
            },
            "header": {
             "fill": {
              "color": "#C8D4E3"
             },
             "line": {
              "color": "white"
             }
            },
            "type": "table"
           }
          ]
         },
         "layout": {
          "annotationdefaults": {
           "arrowcolor": "#2a3f5f",
           "arrowhead": 0,
           "arrowwidth": 1
          },
          "autotypenumbers": "strict",
          "coloraxis": {
           "colorbar": {
            "outlinewidth": 0,
            "ticks": ""
           }
          },
          "colorscale": {
           "diverging": [
            [
             0,
             "#8e0152"
            ],
            [
             0.1,
             "#c51b7d"
            ],
            [
             0.2,
             "#de77ae"
            ],
            [
             0.3,
             "#f1b6da"
            ],
            [
             0.4,
             "#fde0ef"
            ],
            [
             0.5,
             "#f7f7f7"
            ],
            [
             0.6,
             "#e6f5d0"
            ],
            [
             0.7,
             "#b8e186"
            ],
            [
             0.8,
             "#7fbc41"
            ],
            [
             0.9,
             "#4d9221"
            ],
            [
             1,
             "#276419"
            ]
           ],
           "sequential": [
            [
             0,
             "#0d0887"
            ],
            [
             0.1111111111111111,
             "#46039f"
            ],
            [
             0.2222222222222222,
             "#7201a8"
            ],
            [
             0.3333333333333333,
             "#9c179e"
            ],
            [
             0.4444444444444444,
             "#bd3786"
            ],
            [
             0.5555555555555556,
             "#d8576b"
            ],
            [
             0.6666666666666666,
             "#ed7953"
            ],
            [
             0.7777777777777778,
             "#fb9f3a"
            ],
            [
             0.8888888888888888,
             "#fdca26"
            ],
            [
             1,
             "#f0f921"
            ]
           ],
           "sequentialminus": [
            [
             0,
             "#0d0887"
            ],
            [
             0.1111111111111111,
             "#46039f"
            ],
            [
             0.2222222222222222,
             "#7201a8"
            ],
            [
             0.3333333333333333,
             "#9c179e"
            ],
            [
             0.4444444444444444,
             "#bd3786"
            ],
            [
             0.5555555555555556,
             "#d8576b"
            ],
            [
             0.6666666666666666,
             "#ed7953"
            ],
            [
             0.7777777777777778,
             "#fb9f3a"
            ],
            [
             0.8888888888888888,
             "#fdca26"
            ],
            [
             1,
             "#f0f921"
            ]
           ]
          },
          "colorway": [
           "#636efa",
           "#EF553B",
           "#00cc96",
           "#ab63fa",
           "#FFA15A",
           "#19d3f3",
           "#FF6692",
           "#B6E880",
           "#FF97FF",
           "#FECB52"
          ],
          "font": {
           "color": "#2a3f5f"
          },
          "geo": {
           "bgcolor": "white",
           "lakecolor": "white",
           "landcolor": "#E5ECF6",
           "showlakes": true,
           "showland": true,
           "subunitcolor": "white"
          },
          "hoverlabel": {
           "align": "left"
          },
          "hovermode": "closest",
          "mapbox": {
           "style": "light"
          },
          "paper_bgcolor": "white",
          "plot_bgcolor": "#E5ECF6",
          "polar": {
           "angularaxis": {
            "gridcolor": "white",
            "linecolor": "white",
            "ticks": ""
           },
           "bgcolor": "#E5ECF6",
           "radialaxis": {
            "gridcolor": "white",
            "linecolor": "white",
            "ticks": ""
           }
          },
          "scene": {
           "xaxis": {
            "backgroundcolor": "#E5ECF6",
            "gridcolor": "white",
            "gridwidth": 2,
            "linecolor": "white",
            "showbackground": true,
            "ticks": "",
            "zerolinecolor": "white"
           },
           "yaxis": {
            "backgroundcolor": "#E5ECF6",
            "gridcolor": "white",
            "gridwidth": 2,
            "linecolor": "white",
            "showbackground": true,
            "ticks": "",
            "zerolinecolor": "white"
           },
           "zaxis": {
            "backgroundcolor": "#E5ECF6",
            "gridcolor": "white",
            "gridwidth": 2,
            "linecolor": "white",
            "showbackground": true,
            "ticks": "",
            "zerolinecolor": "white"
           }
          },
          "shapedefaults": {
           "line": {
            "color": "#2a3f5f"
           }
          },
          "ternary": {
           "aaxis": {
            "gridcolor": "white",
            "linecolor": "white",
            "ticks": ""
           },
           "baxis": {
            "gridcolor": "white",
            "linecolor": "white",
            "ticks": ""
           },
           "bgcolor": "#E5ECF6",
           "caxis": {
            "gridcolor": "white",
            "linecolor": "white",
            "ticks": ""
           }
          },
          "title": {
           "x": 0.05
          },
          "xaxis": {
           "automargin": true,
           "gridcolor": "white",
           "linecolor": "white",
           "ticks": "",
           "title": {
            "standoff": 15
           },
           "zerolinecolor": "white",
           "zerolinewidth": 2
          },
          "yaxis": {
           "automargin": true,
           "gridcolor": "white",
           "linecolor": "white",
           "ticks": "",
           "title": {
            "standoff": 15
           },
           "zerolinecolor": "white",
           "zerolinewidth": 2
          }
         }
        },
        "width": 500,
        "xaxis": {
         "anchor": "y",
         "domain": [
          0,
          1
         ],
         "title": {
          "font": {
           "size": 16
          },
          "text": "C2"
         },
         "type": "log"
        },
        "yaxis": {
         "anchor": "x",
         "domain": [
          0,
          1
         ],
         "range": [
          0,
          1
         ],
         "side": "left",
         "title": {
          "font": {
           "size": 16
          },
          "text": "AUC"
         }
        }
       }
      }
     },
     "metadata": {},
     "output_type": "display_data"
    }
   ],
   "source": [
    "import plotly.graph_objects as go\n",
    "from plotly.subplots import make_subplots\n",
    "\n",
    "\n",
    "# グラフのデータを準備\n",
    "index = ['l-SVM-p', 'r-SVM-p', 'LogReg-p']\n",
    "colors_mean = ['rgba(0,176,246,1)', 'rgba(231,107,243,1)', 'rgba(21,213,69,1)']  # indexに対応する色\n",
    "colors_std  = ['rgba(0,176,246,0.2)', 'rgba(231,107,243,0.2)', 'rgba(21,213,69,0.2)']  # indexに対応する色\n",
    "\n",
    "\n",
    "# グラフ1: AUCのデータ\n",
    "col_auc = 'auc'\n",
    "tmp_mean_auc = pd.DataFrame([\n",
    "    {info: df.loc['linear svm (L)', col_auc] for info, df in zip(infos, dfs_mean)},\n",
    "    {info: df.loc['non-linear svm (L)', col_auc] for info, df in zip(infos, dfs_mean)},\n",
    "    {info: df.loc['logistic regression (L)', col_auc] for info, df in zip(infos, dfs_mean)}\n",
    "], index=index)\n",
    "tmp_std_auc = pd.DataFrame([\n",
    "    {info: df.loc['linear svm (L)', col_auc] for info, df in zip(infos, dfs_std)},\n",
    "    {info: df.loc['non-linear svm (L)', col_auc] for info, df in zip(infos, dfs_std)},\n",
    "    {info: df.loc['logistic regression (L)', col_auc] for info, df in zip(infos, dfs_std)}\n",
    "], index=index)\n",
    "\n",
    "\n",
    "# サブプロットの作成\n",
    "# fig = make_subplots(rows=1, cols=2, subplot_titles=('AUC', 'ルール違反率'))\n",
    "fig = make_subplots(rows=1, cols=1)\n",
    "\n",
    "# グラフ1: AUC\n",
    "for i in range(len(tmp_mean_auc)):\n",
    "    fig.add_trace(\n",
    "        go.Scatter(\n",
    "            x=tmp_mean_auc.columns,\n",
    "            y=tmp_mean_auc.iloc[i, :],\n",
    "            mode='lines+markers',\n",
    "            name=tmp_mean_auc.index[i],\n",
    "            line=dict(color=colors_mean[i]),  # ラインの色を設定\n",
    "            marker=dict(color=colors_mean[i])  # マーカーの色を設定\n",
    "        ),\n",
    "        row=1, col=1\n",
    "    )\n",
    "    fig.add_trace(\n",
    "        go.Scatter(\n",
    "            x=tmp_mean_auc.columns,\n",
    "            y=tmp_mean_auc.iloc[i, :] + tmp_std_auc.iloc[i, :],\n",
    "            mode='lines',\n",
    "            line=dict(color=colors_std[i]),  # ラインの色を設定\n",
    "            showlegend=False\n",
    "        ),\n",
    "        row=1, col=1\n",
    "    )\n",
    "    fig.add_trace(\n",
    "        go.Scatter(\n",
    "            x=tmp_mean_auc.columns,\n",
    "            y=tmp_mean_auc.iloc[i, :] - tmp_std_auc.iloc[i, :],\n",
    "            mode='lines',\n",
    "            fill='tonexty',\n",
    "            fillcolor=colors_std[i],\n",
    "            line=dict(color='rgba(255,255,255,0)'),\n",
    "            showlegend=False\n",
    "        ),\n",
    "        row=1, col=1\n",
    "    )\n",
    "\n",
    "# x軸の設定\n",
    "fig.update_xaxes(title_text='C2', row=1, col=1, type='log')\n",
    "\n",
    "# レイアウトの設定\n",
    "fig.update_layout(\n",
    "    height=400,\n",
    "    width=500,\n",
    "    xaxis=dict(\n",
    "        domain=[0, 1],  # 左側のsubplotの幅を調整\n",
    "        title_font=dict(size=16)\n",
    "    ),\n",
    "    legend=dict(\n",
    "        x=0.15,\n",
    "        y=1.15,\n",
    "        orientation='h'  # 水平配置\n",
    "    ),\n",
    "    annotations=[\n",
    "        dict(\n",
    "            xref=\"paper\",\n",
    "            yref=\"paper\",\n",
    "            x=0.00,\n",
    "            y=1.25,\n",
    "            text=\"※ x軸は対数スケール\",\n",
    "            showarrow=False,\n",
    "            font=dict(\n",
    "                size=15,\n",
    "                color=\"black\"\n",
    "            )\n",
    "        )\n",
    "    ]\n",
    ")\n",
    "\n",
    "\n",
    "# y軸の設定\n",
    "fig.update_yaxes(title_text='AUC', range=[0, 1], row=1, col=1, side='left', title_font=dict(size=16))  # col=1のグラフのy軸を左側に配置\n",
    "\n",
    "# グラフの表示\n",
    "fig.show()"
   ]
  },
  {
   "cell_type": "code",
   "execution_count": 52,
   "metadata": {},
   "outputs": [
    {
     "data": {
      "application/vnd.plotly.v1+json": {
       "config": {
        "plotlyServerURL": "https://plot.ly"
       },
       "data": [
        {
         "line": {
          "color": "rgba(0,176,246,1)"
         },
         "marker": {
          "color": "rgba(0,176,246,1)"
         },
         "mode": "lines+markers",
         "name": "l-SVM-p",
         "type": "scatter",
         "x": [
          0.1,
          1,
          5,
          15,
          50,
          100,
          1000
         ],
         "xaxis": "x",
         "y": [
          0.6471323214780136,
          0.6316448941579199,
          0.6045588864557376,
          0.6480535628885701,
          0.6952452868181933,
          0.6574386468322888,
          0.5895396310000252
         ],
         "yaxis": "y"
        },
        {
         "line": {
          "color": "rgba(0,176,246,0.2)"
         },
         "mode": "lines",
         "showlegend": false,
         "type": "scatter",
         "x": [
          0.1,
          1,
          5,
          15,
          50,
          100,
          1000
         ],
         "xaxis": "x",
         "y": [
          0.7386959611963808,
          0.7281667207197855,
          0.6428444192382539,
          0.7735177455624176,
          0.8127356414959314,
          0.7391221279398376,
          0.6191141353500669
         ],
         "yaxis": "y"
        },
        {
         "fill": "tonexty",
         "fillcolor": "rgba(0,176,246,0.2)",
         "line": {
          "color": "rgba(255,255,255,0)"
         },
         "mode": "lines",
         "showlegend": false,
         "type": "scatter",
         "x": [
          0.1,
          1,
          5,
          15,
          50,
          100,
          1000
         ],
         "xaxis": "x",
         "y": [
          0.5555686817596464,
          0.5351230675960543,
          0.5662733536732214,
          0.5225893802147226,
          0.5777549321404553,
          0.5757551657247401,
          0.5599651266499834
         ],
         "yaxis": "y"
        },
        {
         "line": {
          "color": "rgba(231,107,243,1)"
         },
         "marker": {
          "color": "rgba(231,107,243,1)"
         },
         "mode": "lines+markers",
         "name": "r-SVM-p",
         "type": "scatter",
         "x": [
          0.1,
          1,
          5,
          15,
          50,
          100,
          1000
         ],
         "xaxis": "x",
         "y": [
          0.6671041304840293,
          0.7013939439703994,
          0.722089657429082,
          0.6590968813712905,
          0.717314304412394,
          0.6707986609277857,
          0.6583805280777266
         ],
         "yaxis": "y"
        },
        {
         "line": {
          "color": "rgba(231,107,243,0.2)"
         },
         "mode": "lines",
         "showlegend": false,
         "type": "scatter",
         "x": [
          0.1,
          1,
          5,
          15,
          50,
          100,
          1000
         ],
         "xaxis": "x",
         "y": [
          0.7419099667554394,
          0.7964050532416822,
          0.7585988874121038,
          0.7518970479254612,
          0.7713760306148204,
          0.7780567521120303,
          0.7223354495241022
         ],
         "yaxis": "y"
        },
        {
         "fill": "tonexty",
         "fillcolor": "rgba(231,107,243,0.2)",
         "line": {
          "color": "rgba(255,255,255,0)"
         },
         "mode": "lines",
         "showlegend": false,
         "type": "scatter",
         "x": [
          0.1,
          1,
          5,
          15,
          50,
          100,
          1000
         ],
         "xaxis": "x",
         "y": [
          0.5922982942126191,
          0.6063828346991167,
          0.6855804274460603,
          0.5662967148171199,
          0.6632525782099675,
          0.5635405697435412,
          0.594425606631351
         ],
         "yaxis": "y"
        },
        {
         "line": {
          "color": "rgba(21,213,69,1)"
         },
         "marker": {
          "color": "rgba(21,213,69,1)"
         },
         "mode": "lines+markers",
         "name": "LogReg-p",
         "type": "scatter",
         "x": [
          0.1,
          1,
          5,
          15,
          50,
          100,
          1000
         ],
         "xaxis": "x",
         "y": [
          0.5395217599234816,
          0.5395217599234816,
          0.5342586020287448,
          0.5532885297893226,
          0.5654524402829167,
          0.5861199627476151,
          0.4654036094540512
         ],
         "yaxis": "y"
        },
        {
         "line": {
          "color": "rgba(21,213,69,0.2)"
         },
         "mode": "lines",
         "showlegend": false,
         "type": "scatter",
         "x": [
          0.1,
          1,
          5,
          15,
          50,
          100,
          1000
         ],
         "xaxis": "x",
         "y": [
          0.6476334127474546,
          0.6476334127474546,
          0.6514409314969302,
          0.6443927973070728,
          0.6505804778115243,
          0.6505236334362677,
          0.5692654749206935
         ],
         "yaxis": "y"
        },
        {
         "fill": "tonexty",
         "fillcolor": "rgba(21,213,69,0.2)",
         "line": {
          "color": "rgba(255,255,255,0)"
         },
         "mode": "lines",
         "showlegend": false,
         "type": "scatter",
         "x": [
          0.1,
          1,
          5,
          15,
          50,
          100,
          1000
         ],
         "xaxis": "x",
         "y": [
          0.43141010709950867,
          0.43141010709950867,
          0.41707627256055935,
          0.46218426227157255,
          0.4803244027543092,
          0.5217162920589625,
          0.3615417439874089
         ],
         "yaxis": "y"
        }
       ],
       "layout": {
        "annotations": [
         {
          "font": {
           "color": "black",
           "size": 15
          },
          "showarrow": false,
          "text": "※ x軸は対数スケール",
          "x": 0,
          "xref": "paper",
          "y": 1.25,
          "yref": "paper"
         }
        ],
        "height": 400,
        "legend": {
         "orientation": "h",
         "x": 0.15,
         "y": 1.15
        },
        "template": {
         "data": {
          "bar": [
           {
            "error_x": {
             "color": "#2a3f5f"
            },
            "error_y": {
             "color": "#2a3f5f"
            },
            "marker": {
             "line": {
              "color": "#E5ECF6",
              "width": 0.5
             },
             "pattern": {
              "fillmode": "overlay",
              "size": 10,
              "solidity": 0.2
             }
            },
            "type": "bar"
           }
          ],
          "barpolar": [
           {
            "marker": {
             "line": {
              "color": "#E5ECF6",
              "width": 0.5
             },
             "pattern": {
              "fillmode": "overlay",
              "size": 10,
              "solidity": 0.2
             }
            },
            "type": "barpolar"
           }
          ],
          "carpet": [
           {
            "aaxis": {
             "endlinecolor": "#2a3f5f",
             "gridcolor": "white",
             "linecolor": "white",
             "minorgridcolor": "white",
             "startlinecolor": "#2a3f5f"
            },
            "baxis": {
             "endlinecolor": "#2a3f5f",
             "gridcolor": "white",
             "linecolor": "white",
             "minorgridcolor": "white",
             "startlinecolor": "#2a3f5f"
            },
            "type": "carpet"
           }
          ],
          "choropleth": [
           {
            "colorbar": {
             "outlinewidth": 0,
             "ticks": ""
            },
            "type": "choropleth"
           }
          ],
          "contour": [
           {
            "colorbar": {
             "outlinewidth": 0,
             "ticks": ""
            },
            "colorscale": [
             [
              0,
              "#0d0887"
             ],
             [
              0.1111111111111111,
              "#46039f"
             ],
             [
              0.2222222222222222,
              "#7201a8"
             ],
             [
              0.3333333333333333,
              "#9c179e"
             ],
             [
              0.4444444444444444,
              "#bd3786"
             ],
             [
              0.5555555555555556,
              "#d8576b"
             ],
             [
              0.6666666666666666,
              "#ed7953"
             ],
             [
              0.7777777777777778,
              "#fb9f3a"
             ],
             [
              0.8888888888888888,
              "#fdca26"
             ],
             [
              1,
              "#f0f921"
             ]
            ],
            "type": "contour"
           }
          ],
          "contourcarpet": [
           {
            "colorbar": {
             "outlinewidth": 0,
             "ticks": ""
            },
            "type": "contourcarpet"
           }
          ],
          "heatmap": [
           {
            "colorbar": {
             "outlinewidth": 0,
             "ticks": ""
            },
            "colorscale": [
             [
              0,
              "#0d0887"
             ],
             [
              0.1111111111111111,
              "#46039f"
             ],
             [
              0.2222222222222222,
              "#7201a8"
             ],
             [
              0.3333333333333333,
              "#9c179e"
             ],
             [
              0.4444444444444444,
              "#bd3786"
             ],
             [
              0.5555555555555556,
              "#d8576b"
             ],
             [
              0.6666666666666666,
              "#ed7953"
             ],
             [
              0.7777777777777778,
              "#fb9f3a"
             ],
             [
              0.8888888888888888,
              "#fdca26"
             ],
             [
              1,
              "#f0f921"
             ]
            ],
            "type": "heatmap"
           }
          ],
          "heatmapgl": [
           {
            "colorbar": {
             "outlinewidth": 0,
             "ticks": ""
            },
            "colorscale": [
             [
              0,
              "#0d0887"
             ],
             [
              0.1111111111111111,
              "#46039f"
             ],
             [
              0.2222222222222222,
              "#7201a8"
             ],
             [
              0.3333333333333333,
              "#9c179e"
             ],
             [
              0.4444444444444444,
              "#bd3786"
             ],
             [
              0.5555555555555556,
              "#d8576b"
             ],
             [
              0.6666666666666666,
              "#ed7953"
             ],
             [
              0.7777777777777778,
              "#fb9f3a"
             ],
             [
              0.8888888888888888,
              "#fdca26"
             ],
             [
              1,
              "#f0f921"
             ]
            ],
            "type": "heatmapgl"
           }
          ],
          "histogram": [
           {
            "marker": {
             "pattern": {
              "fillmode": "overlay",
              "size": 10,
              "solidity": 0.2
             }
            },
            "type": "histogram"
           }
          ],
          "histogram2d": [
           {
            "colorbar": {
             "outlinewidth": 0,
             "ticks": ""
            },
            "colorscale": [
             [
              0,
              "#0d0887"
             ],
             [
              0.1111111111111111,
              "#46039f"
             ],
             [
              0.2222222222222222,
              "#7201a8"
             ],
             [
              0.3333333333333333,
              "#9c179e"
             ],
             [
              0.4444444444444444,
              "#bd3786"
             ],
             [
              0.5555555555555556,
              "#d8576b"
             ],
             [
              0.6666666666666666,
              "#ed7953"
             ],
             [
              0.7777777777777778,
              "#fb9f3a"
             ],
             [
              0.8888888888888888,
              "#fdca26"
             ],
             [
              1,
              "#f0f921"
             ]
            ],
            "type": "histogram2d"
           }
          ],
          "histogram2dcontour": [
           {
            "colorbar": {
             "outlinewidth": 0,
             "ticks": ""
            },
            "colorscale": [
             [
              0,
              "#0d0887"
             ],
             [
              0.1111111111111111,
              "#46039f"
             ],
             [
              0.2222222222222222,
              "#7201a8"
             ],
             [
              0.3333333333333333,
              "#9c179e"
             ],
             [
              0.4444444444444444,
              "#bd3786"
             ],
             [
              0.5555555555555556,
              "#d8576b"
             ],
             [
              0.6666666666666666,
              "#ed7953"
             ],
             [
              0.7777777777777778,
              "#fb9f3a"
             ],
             [
              0.8888888888888888,
              "#fdca26"
             ],
             [
              1,
              "#f0f921"
             ]
            ],
            "type": "histogram2dcontour"
           }
          ],
          "mesh3d": [
           {
            "colorbar": {
             "outlinewidth": 0,
             "ticks": ""
            },
            "type": "mesh3d"
           }
          ],
          "parcoords": [
           {
            "line": {
             "colorbar": {
              "outlinewidth": 0,
              "ticks": ""
             }
            },
            "type": "parcoords"
           }
          ],
          "pie": [
           {
            "automargin": true,
            "type": "pie"
           }
          ],
          "scatter": [
           {
            "fillpattern": {
             "fillmode": "overlay",
             "size": 10,
             "solidity": 0.2
            },
            "type": "scatter"
           }
          ],
          "scatter3d": [
           {
            "line": {
             "colorbar": {
              "outlinewidth": 0,
              "ticks": ""
             }
            },
            "marker": {
             "colorbar": {
              "outlinewidth": 0,
              "ticks": ""
             }
            },
            "type": "scatter3d"
           }
          ],
          "scattercarpet": [
           {
            "marker": {
             "colorbar": {
              "outlinewidth": 0,
              "ticks": ""
             }
            },
            "type": "scattercarpet"
           }
          ],
          "scattergeo": [
           {
            "marker": {
             "colorbar": {
              "outlinewidth": 0,
              "ticks": ""
             }
            },
            "type": "scattergeo"
           }
          ],
          "scattergl": [
           {
            "marker": {
             "colorbar": {
              "outlinewidth": 0,
              "ticks": ""
             }
            },
            "type": "scattergl"
           }
          ],
          "scattermapbox": [
           {
            "marker": {
             "colorbar": {
              "outlinewidth": 0,
              "ticks": ""
             }
            },
            "type": "scattermapbox"
           }
          ],
          "scatterpolar": [
           {
            "marker": {
             "colorbar": {
              "outlinewidth": 0,
              "ticks": ""
             }
            },
            "type": "scatterpolar"
           }
          ],
          "scatterpolargl": [
           {
            "marker": {
             "colorbar": {
              "outlinewidth": 0,
              "ticks": ""
             }
            },
            "type": "scatterpolargl"
           }
          ],
          "scatterternary": [
           {
            "marker": {
             "colorbar": {
              "outlinewidth": 0,
              "ticks": ""
             }
            },
            "type": "scatterternary"
           }
          ],
          "surface": [
           {
            "colorbar": {
             "outlinewidth": 0,
             "ticks": ""
            },
            "colorscale": [
             [
              0,
              "#0d0887"
             ],
             [
              0.1111111111111111,
              "#46039f"
             ],
             [
              0.2222222222222222,
              "#7201a8"
             ],
             [
              0.3333333333333333,
              "#9c179e"
             ],
             [
              0.4444444444444444,
              "#bd3786"
             ],
             [
              0.5555555555555556,
              "#d8576b"
             ],
             [
              0.6666666666666666,
              "#ed7953"
             ],
             [
              0.7777777777777778,
              "#fb9f3a"
             ],
             [
              0.8888888888888888,
              "#fdca26"
             ],
             [
              1,
              "#f0f921"
             ]
            ],
            "type": "surface"
           }
          ],
          "table": [
           {
            "cells": {
             "fill": {
              "color": "#EBF0F8"
             },
             "line": {
              "color": "white"
             }
            },
            "header": {
             "fill": {
              "color": "#C8D4E3"
             },
             "line": {
              "color": "white"
             }
            },
            "type": "table"
           }
          ]
         },
         "layout": {
          "annotationdefaults": {
           "arrowcolor": "#2a3f5f",
           "arrowhead": 0,
           "arrowwidth": 1
          },
          "autotypenumbers": "strict",
          "coloraxis": {
           "colorbar": {
            "outlinewidth": 0,
            "ticks": ""
           }
          },
          "colorscale": {
           "diverging": [
            [
             0,
             "#8e0152"
            ],
            [
             0.1,
             "#c51b7d"
            ],
            [
             0.2,
             "#de77ae"
            ],
            [
             0.3,
             "#f1b6da"
            ],
            [
             0.4,
             "#fde0ef"
            ],
            [
             0.5,
             "#f7f7f7"
            ],
            [
             0.6,
             "#e6f5d0"
            ],
            [
             0.7,
             "#b8e186"
            ],
            [
             0.8,
             "#7fbc41"
            ],
            [
             0.9,
             "#4d9221"
            ],
            [
             1,
             "#276419"
            ]
           ],
           "sequential": [
            [
             0,
             "#0d0887"
            ],
            [
             0.1111111111111111,
             "#46039f"
            ],
            [
             0.2222222222222222,
             "#7201a8"
            ],
            [
             0.3333333333333333,
             "#9c179e"
            ],
            [
             0.4444444444444444,
             "#bd3786"
            ],
            [
             0.5555555555555556,
             "#d8576b"
            ],
            [
             0.6666666666666666,
             "#ed7953"
            ],
            [
             0.7777777777777778,
             "#fb9f3a"
            ],
            [
             0.8888888888888888,
             "#fdca26"
            ],
            [
             1,
             "#f0f921"
            ]
           ],
           "sequentialminus": [
            [
             0,
             "#0d0887"
            ],
            [
             0.1111111111111111,
             "#46039f"
            ],
            [
             0.2222222222222222,
             "#7201a8"
            ],
            [
             0.3333333333333333,
             "#9c179e"
            ],
            [
             0.4444444444444444,
             "#bd3786"
            ],
            [
             0.5555555555555556,
             "#d8576b"
            ],
            [
             0.6666666666666666,
             "#ed7953"
            ],
            [
             0.7777777777777778,
             "#fb9f3a"
            ],
            [
             0.8888888888888888,
             "#fdca26"
            ],
            [
             1,
             "#f0f921"
            ]
           ]
          },
          "colorway": [
           "#636efa",
           "#EF553B",
           "#00cc96",
           "#ab63fa",
           "#FFA15A",
           "#19d3f3",
           "#FF6692",
           "#B6E880",
           "#FF97FF",
           "#FECB52"
          ],
          "font": {
           "color": "#2a3f5f"
          },
          "geo": {
           "bgcolor": "white",
           "lakecolor": "white",
           "landcolor": "#E5ECF6",
           "showlakes": true,
           "showland": true,
           "subunitcolor": "white"
          },
          "hoverlabel": {
           "align": "left"
          },
          "hovermode": "closest",
          "mapbox": {
           "style": "light"
          },
          "paper_bgcolor": "white",
          "plot_bgcolor": "#E5ECF6",
          "polar": {
           "angularaxis": {
            "gridcolor": "white",
            "linecolor": "white",
            "ticks": ""
           },
           "bgcolor": "#E5ECF6",
           "radialaxis": {
            "gridcolor": "white",
            "linecolor": "white",
            "ticks": ""
           }
          },
          "scene": {
           "xaxis": {
            "backgroundcolor": "#E5ECF6",
            "gridcolor": "white",
            "gridwidth": 2,
            "linecolor": "white",
            "showbackground": true,
            "ticks": "",
            "zerolinecolor": "white"
           },
           "yaxis": {
            "backgroundcolor": "#E5ECF6",
            "gridcolor": "white",
            "gridwidth": 2,
            "linecolor": "white",
            "showbackground": true,
            "ticks": "",
            "zerolinecolor": "white"
           },
           "zaxis": {
            "backgroundcolor": "#E5ECF6",
            "gridcolor": "white",
            "gridwidth": 2,
            "linecolor": "white",
            "showbackground": true,
            "ticks": "",
            "zerolinecolor": "white"
           }
          },
          "shapedefaults": {
           "line": {
            "color": "#2a3f5f"
           }
          },
          "ternary": {
           "aaxis": {
            "gridcolor": "white",
            "linecolor": "white",
            "ticks": ""
           },
           "baxis": {
            "gridcolor": "white",
            "linecolor": "white",
            "ticks": ""
           },
           "bgcolor": "#E5ECF6",
           "caxis": {
            "gridcolor": "white",
            "linecolor": "white",
            "ticks": ""
           }
          },
          "title": {
           "x": 0.05
          },
          "xaxis": {
           "automargin": true,
           "gridcolor": "white",
           "linecolor": "white",
           "ticks": "",
           "title": {
            "standoff": 15
           },
           "zerolinecolor": "white",
           "zerolinewidth": 2
          },
          "yaxis": {
           "automargin": true,
           "gridcolor": "white",
           "linecolor": "white",
           "ticks": "",
           "title": {
            "standoff": 15
           },
           "zerolinecolor": "white",
           "zerolinewidth": 2
          }
         }
        },
        "width": 500,
        "xaxis": {
         "anchor": "y",
         "domain": [
          0,
          1
         ],
         "title": {
          "font": {
           "size": 16
          },
          "text": "C2"
         },
         "type": "log"
        },
        "yaxis": {
         "anchor": "x",
         "domain": [
          0,
          1
         ],
         "range": [
          0,
          1
         ],
         "side": "left",
         "title": {
          "font": {
           "size": 16
          },
          "text": "ルール違反率"
         }
        }
       }
      }
     },
     "metadata": {},
     "output_type": "display_data"
    }
   ],
   "source": [
    "import plotly.graph_objects as go\n",
    "from plotly.subplots import make_subplots\n",
    "\n",
    "\n",
    "# グラフのデータを準備\n",
    "index = ['l-SVM-p', 'r-SVM-p', 'LogReg-p']\n",
    "colors_mean = ['rgba(0,176,246,1)', 'rgba(231,107,243,1)', 'rgba(21,213,69,1)']  # indexに対応する色\n",
    "colors_std  = ['rgba(0,176,246,0.2)', 'rgba(231,107,243,0.2)', 'rgba(21,213,69,0.2)']  # indexに対応する色\n",
    "\n",
    "# グラフ2: ルール違反率のデータ\n",
    "col_vr = 'violation_rate'\n",
    "tmp_mean_vr = pd.DataFrame([\n",
    "    {info: df.loc['linear svm (L)', col_vr] for info, df in zip(infos, dfs_mean)},\n",
    "    {info: df.loc['non-linear svm (L)', col_vr] for info, df in zip(infos, dfs_mean)},\n",
    "    {info: df.loc['logistic regression (L)', col_vr] for info, df in zip(infos, dfs_mean)}\n",
    "], index=index)\n",
    "tmp_std_vr = pd.DataFrame([\n",
    "    {info: df.loc['linear svm (L)', col_vr] for info, df in zip(infos, dfs_std)},\n",
    "    {info: df.loc['non-linear svm (L)', col_vr] for info, df in zip(infos, dfs_std)},\n",
    "    {info: df.loc['logistic regression (L)', col_vr] for info, df in zip(infos, dfs_std)}\n",
    "], index=index)\n",
    "\n",
    "\n",
    "# サブプロットの作成\n",
    "# fig = make_subplots(rows=1, cols=2, subplot_titles=('AUC', 'ルール違反率'))\n",
    "fig = make_subplots(rows=1, cols=1)\n",
    "\n",
    "# グラフ2: ルール違反率\n",
    "for i in range(len(tmp_mean_vr)):\n",
    "    fig.add_trace(\n",
    "        go.Scatter(\n",
    "            x=tmp_mean_vr.columns,\n",
    "            y=tmp_mean_vr.iloc[i, :],\n",
    "            mode='lines+markers',\n",
    "            name=tmp_mean_vr.index[i],\n",
    "            line=dict(color=colors_mean[i]),  # ラインの色を設定\n",
    "            marker=dict(color=colors_mean[i]),  # マーカーの色を設定\n",
    "        ),\n",
    "        row=1, col=1\n",
    "    )\n",
    "    fig.add_trace(\n",
    "        go.Scatter(\n",
    "            x=tmp_mean_vr.columns,\n",
    "            y=tmp_mean_vr.iloc[i, :] + tmp_std_vr.iloc[i, :],\n",
    "            mode='lines',\n",
    "            line=dict(color=colors_std[i]),  # ラインの色を設定\n",
    "            showlegend=False\n",
    "        ),\n",
    "        row=1, col=1\n",
    "    )\n",
    "    fig.add_trace(\n",
    "        go.Scatter(\n",
    "            x=tmp_mean_vr.columns,\n",
    "            y=tmp_mean_vr.iloc[i, :] - tmp_std_vr.iloc[i, :],\n",
    "            mode='lines',\n",
    "            fill='tonexty',\n",
    "            fillcolor=colors_std[i],\n",
    "            line=dict(color='rgba(255,255,255,0)'),\n",
    "            showlegend=False\n",
    "        ),\n",
    "        row=1, col=1\n",
    "    )\n",
    "\n",
    "# レイアウトの設定\n",
    "fig.update_layout(\n",
    "    height=400,\n",
    "    width=500,\n",
    "    xaxis=dict(\n",
    "        domain=[0, 1],  # 左側のsubplotの幅を調整\n",
    "        title_font=dict(size=16)\n",
    "    ),\n",
    "    legend=dict(\n",
    "        x=0.15,\n",
    "        y=1.15,\n",
    "        orientation='h'  # 水平配置\n",
    "    ),\n",
    "    annotations=[\n",
    "        dict(\n",
    "            xref=\"paper\",\n",
    "            yref=\"paper\",\n",
    "            x=0.00,\n",
    "            y=1.25,\n",
    "            text=\"※ x軸は対数スケール\",\n",
    "            showarrow=False,\n",
    "            font=dict(\n",
    "                size=15,\n",
    "                color=\"black\"\n",
    "            )\n",
    "        )\n",
    "    ]\n",
    ")\n",
    "\n",
    "# x軸の設定\n",
    "fig.update_xaxes(title_text='C2', row=1, col=1, type='log')\n",
    "\n",
    "\n",
    "# y軸の設定\n",
    "fig.update_yaxes(title_text='ルール違反率', range=[0, 1], row=1, col=1, side='left', title_font=dict(size=16))  # col=2のグラフのy軸を右側に配置\n",
    "\n",
    "# グラフの表示\n",
    "fig.show()"
   ]
  },
  {
   "cell_type": "code",
   "execution_count": null,
   "metadata": {},
   "outputs": [],
   "source": []
  },
  {
   "cell_type": "code",
   "execution_count": null,
   "metadata": {},
   "outputs": [],
   "source": []
  },
  {
   "cell_type": "code",
   "execution_count": null,
   "metadata": {},
   "outputs": [],
   "source": []
  },
  {
   "cell_type": "markdown",
   "metadata": {},
   "source": [
    "# 4"
   ]
  },
  {
   "cell_type": "code",
   "execution_count": 53,
   "metadata": {},
   "outputs": [],
   "source": [
    "result_file_paths = [\n",
    "    \"./experiments/version_31/result.json\",\n",
    "    \"./experiments/version_32/result.json\",\n",
    "    \"./experiments/version_33/result.json\",\n",
    "    \"./experiments/version_34/result.json\",\n",
    "    \"./experiments/version_35/result.json\"\n",
    "]\n",
    "\n",
    "result_dfs = []\n",
    "infos = []\n",
    "\n",
    "for path in result_file_paths:\n",
    "    with open(path, 'r') as f:\n",
    "        json_data = json.load(f)\n",
    "\n",
    "    infos.append(json_data['n_unsupervised'])\n",
    "\n",
    "    tmp = []\n",
    "\n",
    "    for fold, _ in json_data[\"result\"].items():\n",
    "        result_df = pd.DataFrame(json_data['result'][fold]).T\n",
    "        tmp.append(result_df)\n",
    "\n",
    "    result_dfs.append(tmp)\n",
    "\n",
    "combined_dfs = [pd.concat(dfs, ignore_index=False) for dfs in result_dfs]\n",
    "dfs_mean = [combined_df.groupby(combined_df.index).mean() for combined_df in combined_dfs]\n",
    "dfs_std = [combined_df.groupby(combined_df.index).std() for combined_df in combined_dfs]"
   ]
  },
  {
   "cell_type": "code",
   "execution_count": 23,
   "metadata": {},
   "outputs": [
    {
     "data": {
      "text/plain": [
       "[1, 5, 15, 50, 100]"
      ]
     },
     "execution_count": 23,
     "metadata": {},
     "output_type": "execute_result"
    }
   ],
   "source": [
    "infos"
   ]
  },
  {
   "cell_type": "code",
   "execution_count": 54,
   "metadata": {},
   "outputs": [
    {
     "data": {
      "application/vnd.plotly.v1+json": {
       "config": {
        "plotlyServerURL": "https://plot.ly"
       },
       "data": [
        {
         "line": {
          "color": "rgba(0,176,246,1)"
         },
         "marker": {
          "color": "rgba(0,176,246,1)"
         },
         "mode": "lines+markers",
         "name": "l-SVM-p",
         "type": "scatter",
         "x": [
          1,
          5,
          15,
          50,
          100
         ],
         "xaxis": "x",
         "y": [
          0.7021192554170714,
          0.5329563839591671,
          0.3350001877421434,
          0.6210551554508051,
          0.370723929683394
         ],
         "yaxis": "y"
        },
        {
         "line": {
          "color": "rgba(0,176,246,0.2)"
         },
         "mode": "lines",
         "showlegend": false,
         "type": "scatter",
         "x": [
          1,
          5,
          15,
          50,
          100
         ],
         "xaxis": "x",
         "y": [
          0.8510741285494878,
          0.8682606833272515,
          0.5978787190470993,
          0.8715319077262964,
          0.6286132174057006
         ],
         "yaxis": "y"
        },
        {
         "fill": "tonexty",
         "fillcolor": "rgba(0,176,246,0.2)",
         "line": {
          "color": "rgba(255,255,255,0)"
         },
         "mode": "lines",
         "showlegend": false,
         "type": "scatter",
         "x": [
          1,
          5,
          15,
          50,
          100
         ],
         "xaxis": "x",
         "y": [
          0.553164382284655,
          0.1976520845910828,
          0.07212165643718743,
          0.37057840317531393,
          0.11283464196108739
         ],
         "yaxis": "y"
        },
        {
         "line": {
          "color": "rgba(231,107,243,1)"
         },
         "marker": {
          "color": "rgba(231,107,243,1)"
         },
         "mode": "lines+markers",
         "name": "r-SVM-p",
         "type": "scatter",
         "x": [
          1,
          5,
          15,
          50,
          100
         ],
         "xaxis": "x",
         "y": [
          0.8276245600326417,
          0.8244403497878107,
          0.8208470483881685,
          0.8188575601112456,
          0.8201410618586802
         ],
         "yaxis": "y"
        },
        {
         "line": {
          "color": "rgba(231,107,243,0.2)"
         },
         "mode": "lines",
         "showlegend": false,
         "type": "scatter",
         "x": [
          1,
          5,
          15,
          50,
          100
         ],
         "xaxis": "x",
         "y": [
          0.8691417915432803,
          0.8670584622877647,
          0.8670843577087523,
          0.8624024489193777,
          0.8659491125814038
         ],
         "yaxis": "y"
        },
        {
         "fill": "tonexty",
         "fillcolor": "rgba(231,107,243,0.2)",
         "line": {
          "color": "rgba(255,255,255,0)"
         },
         "mode": "lines",
         "showlegend": false,
         "type": "scatter",
         "x": [
          1,
          5,
          15,
          50,
          100
         ],
         "xaxis": "x",
         "y": [
          0.7861073285220032,
          0.7818222372878566,
          0.7746097390675847,
          0.7753126713031134,
          0.7743330111359565
         ],
         "yaxis": "y"
        },
        {
         "line": {
          "color": "rgba(21,213,69,1)"
         },
         "marker": {
          "color": "rgba(21,213,69,1)"
         },
         "mode": "lines+markers",
         "name": "LogReg-p",
         "type": "scatter",
         "x": [
          1,
          5,
          15,
          50,
          100
         ],
         "xaxis": "x",
         "y": [
          0.8248572208898292,
          0.8259810013305933,
          0.8266147184864916,
          0.8274490668060535,
          0.8292212171560385
         ],
         "yaxis": "y"
        },
        {
         "line": {
          "color": "rgba(21,213,69,0.2)"
         },
         "mode": "lines",
         "showlegend": false,
         "type": "scatter",
         "x": [
          1,
          5,
          15,
          50,
          100
         ],
         "xaxis": "x",
         "y": [
          0.8762726305914204,
          0.8777582541969156,
          0.8773668800407047,
          0.8795098814252801,
          0.8779703159219278
         ],
         "yaxis": "y"
        },
        {
         "fill": "tonexty",
         "fillcolor": "rgba(21,213,69,0.2)",
         "line": {
          "color": "rgba(255,255,255,0)"
         },
         "mode": "lines",
         "showlegend": false,
         "type": "scatter",
         "x": [
          1,
          5,
          15,
          50,
          100
         ],
         "xaxis": "x",
         "y": [
          0.773441811188238,
          0.774203748464271,
          0.7758625569322785,
          0.7753882521868268,
          0.7804721183901492
         ],
         "yaxis": "y"
        },
        {
         "line": {
          "color": "rgba(0,176,246,1)"
         },
         "marker": {
          "color": "rgba(0,176,246,1)"
         },
         "mode": "lines+markers",
         "name": "l-SVM-p",
         "showlegend": false,
         "type": "scatter",
         "x": [
          1,
          5,
          15,
          50,
          100
         ],
         "xaxis": "x2",
         "y": [
          0.648199934214133,
          0.5953527767118031,
          0.639276355462968,
          0.6156263362754235,
          0.6614571569541143
         ],
         "yaxis": "y2"
        },
        {
         "line": {
          "color": "rgba(0,176,246,0.2)"
         },
         "mode": "lines",
         "showlegend": false,
         "type": "scatter",
         "x": [
          1,
          5,
          15,
          50,
          100
         ],
         "xaxis": "x2",
         "y": [
          0.7423497079716251,
          0.6369303851576334,
          0.7125393888390658,
          0.7022617339461549,
          0.7406402330034794
         ],
         "yaxis": "y2"
        },
        {
         "fill": "tonexty",
         "fillcolor": "rgba(0,176,246,0.2)",
         "line": {
          "color": "rgba(255,255,255,0)"
         },
         "mode": "lines",
         "showlegend": false,
         "type": "scatter",
         "x": [
          1,
          5,
          15,
          50,
          100
         ],
         "xaxis": "x2",
         "y": [
          0.5540501604566409,
          0.5537751682659727,
          0.5660133220868703,
          0.5289909386046922,
          0.5822740809047493
         ],
         "yaxis": "y2"
        },
        {
         "line": {
          "color": "rgba(231,107,243,1)"
         },
         "marker": {
          "color": "rgba(231,107,243,1)"
         },
         "mode": "lines+markers",
         "name": "r-SVM-p",
         "showlegend": false,
         "type": "scatter",
         "x": [
          1,
          5,
          15,
          50,
          100
         ],
         "xaxis": "x2",
         "y": [
          0.6923989912833727,
          0.6505024395592347,
          0.6411734554026643,
          0.6558596019955047,
          0.6161139740145826
         ],
         "yaxis": "y2"
        },
        {
         "line": {
          "color": "rgba(231,107,243,0.2)"
         },
         "mode": "lines",
         "showlegend": false,
         "type": "scatter",
         "x": [
          1,
          5,
          15,
          50,
          100
         ],
         "xaxis": "x2",
         "y": [
          0.7906654977452949,
          0.7678087514276231,
          0.7795403167350874,
          0.7236125810707588,
          0.748353188877151
         ],
         "yaxis": "y2"
        },
        {
         "fill": "tonexty",
         "fillcolor": "rgba(231,107,243,0.2)",
         "line": {
          "color": "rgba(255,255,255,0)"
         },
         "mode": "lines",
         "showlegend": false,
         "type": "scatter",
         "x": [
          1,
          5,
          15,
          50,
          100
         ],
         "xaxis": "x2",
         "y": [
          0.5941324848214504,
          0.5331961276908463,
          0.5028065940702413,
          0.5881066229202507,
          0.48387475915201417
         ],
         "yaxis": "y2"
        },
        {
         "line": {
          "color": "rgba(21,213,69,1)"
         },
         "marker": {
          "color": "rgba(21,213,69,1)"
         },
         "mode": "lines+markers",
         "name": "LogReg-p",
         "showlegend": false,
         "type": "scatter",
         "x": [
          1,
          5,
          15,
          50,
          100
         ],
         "xaxis": "x2",
         "y": [
          0.561855161449482,
          0.5436708513787621,
          0.5564497560440765,
          0.5726659722602927,
          0.5668551614494819
         ],
         "yaxis": "y2"
        },
        {
         "line": {
          "color": "rgba(21,213,69,0.2)"
         },
         "mode": "lines",
         "showlegend": false,
         "type": "scatter",
         "x": [
          1,
          5,
          15,
          50,
          100
         ],
         "xaxis": "x2",
         "y": [
          0.6635271178818967,
          0.647873064058284,
          0.6670491889554004,
          0.6474823662316411,
          0.6317438799009887
         ],
         "yaxis": "y2"
        },
        {
         "fill": "tonexty",
         "fillcolor": "rgba(21,213,69,0.2)",
         "line": {
          "color": "rgba(255,255,255,0)"
         },
         "mode": "lines",
         "showlegend": false,
         "type": "scatter",
         "x": [
          1,
          5,
          15,
          50,
          100
         ],
         "xaxis": "x2",
         "y": [
          0.4601832050170674,
          0.43946863869924024,
          0.44585032313275264,
          0.49784957828894427,
          0.5019664429979751
         ],
         "yaxis": "y2"
        }
       ],
       "layout": {
        "height": 400,
        "legend": {
         "orientation": "h",
         "x": 0.5,
         "y": 1.15
        },
        "template": {
         "data": {
          "bar": [
           {
            "error_x": {
             "color": "#2a3f5f"
            },
            "error_y": {
             "color": "#2a3f5f"
            },
            "marker": {
             "line": {
              "color": "#E5ECF6",
              "width": 0.5
             },
             "pattern": {
              "fillmode": "overlay",
              "size": 10,
              "solidity": 0.2
             }
            },
            "type": "bar"
           }
          ],
          "barpolar": [
           {
            "marker": {
             "line": {
              "color": "#E5ECF6",
              "width": 0.5
             },
             "pattern": {
              "fillmode": "overlay",
              "size": 10,
              "solidity": 0.2
             }
            },
            "type": "barpolar"
           }
          ],
          "carpet": [
           {
            "aaxis": {
             "endlinecolor": "#2a3f5f",
             "gridcolor": "white",
             "linecolor": "white",
             "minorgridcolor": "white",
             "startlinecolor": "#2a3f5f"
            },
            "baxis": {
             "endlinecolor": "#2a3f5f",
             "gridcolor": "white",
             "linecolor": "white",
             "minorgridcolor": "white",
             "startlinecolor": "#2a3f5f"
            },
            "type": "carpet"
           }
          ],
          "choropleth": [
           {
            "colorbar": {
             "outlinewidth": 0,
             "ticks": ""
            },
            "type": "choropleth"
           }
          ],
          "contour": [
           {
            "colorbar": {
             "outlinewidth": 0,
             "ticks": ""
            },
            "colorscale": [
             [
              0,
              "#0d0887"
             ],
             [
              0.1111111111111111,
              "#46039f"
             ],
             [
              0.2222222222222222,
              "#7201a8"
             ],
             [
              0.3333333333333333,
              "#9c179e"
             ],
             [
              0.4444444444444444,
              "#bd3786"
             ],
             [
              0.5555555555555556,
              "#d8576b"
             ],
             [
              0.6666666666666666,
              "#ed7953"
             ],
             [
              0.7777777777777778,
              "#fb9f3a"
             ],
             [
              0.8888888888888888,
              "#fdca26"
             ],
             [
              1,
              "#f0f921"
             ]
            ],
            "type": "contour"
           }
          ],
          "contourcarpet": [
           {
            "colorbar": {
             "outlinewidth": 0,
             "ticks": ""
            },
            "type": "contourcarpet"
           }
          ],
          "heatmap": [
           {
            "colorbar": {
             "outlinewidth": 0,
             "ticks": ""
            },
            "colorscale": [
             [
              0,
              "#0d0887"
             ],
             [
              0.1111111111111111,
              "#46039f"
             ],
             [
              0.2222222222222222,
              "#7201a8"
             ],
             [
              0.3333333333333333,
              "#9c179e"
             ],
             [
              0.4444444444444444,
              "#bd3786"
             ],
             [
              0.5555555555555556,
              "#d8576b"
             ],
             [
              0.6666666666666666,
              "#ed7953"
             ],
             [
              0.7777777777777778,
              "#fb9f3a"
             ],
             [
              0.8888888888888888,
              "#fdca26"
             ],
             [
              1,
              "#f0f921"
             ]
            ],
            "type": "heatmap"
           }
          ],
          "heatmapgl": [
           {
            "colorbar": {
             "outlinewidth": 0,
             "ticks": ""
            },
            "colorscale": [
             [
              0,
              "#0d0887"
             ],
             [
              0.1111111111111111,
              "#46039f"
             ],
             [
              0.2222222222222222,
              "#7201a8"
             ],
             [
              0.3333333333333333,
              "#9c179e"
             ],
             [
              0.4444444444444444,
              "#bd3786"
             ],
             [
              0.5555555555555556,
              "#d8576b"
             ],
             [
              0.6666666666666666,
              "#ed7953"
             ],
             [
              0.7777777777777778,
              "#fb9f3a"
             ],
             [
              0.8888888888888888,
              "#fdca26"
             ],
             [
              1,
              "#f0f921"
             ]
            ],
            "type": "heatmapgl"
           }
          ],
          "histogram": [
           {
            "marker": {
             "pattern": {
              "fillmode": "overlay",
              "size": 10,
              "solidity": 0.2
             }
            },
            "type": "histogram"
           }
          ],
          "histogram2d": [
           {
            "colorbar": {
             "outlinewidth": 0,
             "ticks": ""
            },
            "colorscale": [
             [
              0,
              "#0d0887"
             ],
             [
              0.1111111111111111,
              "#46039f"
             ],
             [
              0.2222222222222222,
              "#7201a8"
             ],
             [
              0.3333333333333333,
              "#9c179e"
             ],
             [
              0.4444444444444444,
              "#bd3786"
             ],
             [
              0.5555555555555556,
              "#d8576b"
             ],
             [
              0.6666666666666666,
              "#ed7953"
             ],
             [
              0.7777777777777778,
              "#fb9f3a"
             ],
             [
              0.8888888888888888,
              "#fdca26"
             ],
             [
              1,
              "#f0f921"
             ]
            ],
            "type": "histogram2d"
           }
          ],
          "histogram2dcontour": [
           {
            "colorbar": {
             "outlinewidth": 0,
             "ticks": ""
            },
            "colorscale": [
             [
              0,
              "#0d0887"
             ],
             [
              0.1111111111111111,
              "#46039f"
             ],
             [
              0.2222222222222222,
              "#7201a8"
             ],
             [
              0.3333333333333333,
              "#9c179e"
             ],
             [
              0.4444444444444444,
              "#bd3786"
             ],
             [
              0.5555555555555556,
              "#d8576b"
             ],
             [
              0.6666666666666666,
              "#ed7953"
             ],
             [
              0.7777777777777778,
              "#fb9f3a"
             ],
             [
              0.8888888888888888,
              "#fdca26"
             ],
             [
              1,
              "#f0f921"
             ]
            ],
            "type": "histogram2dcontour"
           }
          ],
          "mesh3d": [
           {
            "colorbar": {
             "outlinewidth": 0,
             "ticks": ""
            },
            "type": "mesh3d"
           }
          ],
          "parcoords": [
           {
            "line": {
             "colorbar": {
              "outlinewidth": 0,
              "ticks": ""
             }
            },
            "type": "parcoords"
           }
          ],
          "pie": [
           {
            "automargin": true,
            "type": "pie"
           }
          ],
          "scatter": [
           {
            "fillpattern": {
             "fillmode": "overlay",
             "size": 10,
             "solidity": 0.2
            },
            "type": "scatter"
           }
          ],
          "scatter3d": [
           {
            "line": {
             "colorbar": {
              "outlinewidth": 0,
              "ticks": ""
             }
            },
            "marker": {
             "colorbar": {
              "outlinewidth": 0,
              "ticks": ""
             }
            },
            "type": "scatter3d"
           }
          ],
          "scattercarpet": [
           {
            "marker": {
             "colorbar": {
              "outlinewidth": 0,
              "ticks": ""
             }
            },
            "type": "scattercarpet"
           }
          ],
          "scattergeo": [
           {
            "marker": {
             "colorbar": {
              "outlinewidth": 0,
              "ticks": ""
             }
            },
            "type": "scattergeo"
           }
          ],
          "scattergl": [
           {
            "marker": {
             "colorbar": {
              "outlinewidth": 0,
              "ticks": ""
             }
            },
            "type": "scattergl"
           }
          ],
          "scattermapbox": [
           {
            "marker": {
             "colorbar": {
              "outlinewidth": 0,
              "ticks": ""
             }
            },
            "type": "scattermapbox"
           }
          ],
          "scatterpolar": [
           {
            "marker": {
             "colorbar": {
              "outlinewidth": 0,
              "ticks": ""
             }
            },
            "type": "scatterpolar"
           }
          ],
          "scatterpolargl": [
           {
            "marker": {
             "colorbar": {
              "outlinewidth": 0,
              "ticks": ""
             }
            },
            "type": "scatterpolargl"
           }
          ],
          "scatterternary": [
           {
            "marker": {
             "colorbar": {
              "outlinewidth": 0,
              "ticks": ""
             }
            },
            "type": "scatterternary"
           }
          ],
          "surface": [
           {
            "colorbar": {
             "outlinewidth": 0,
             "ticks": ""
            },
            "colorscale": [
             [
              0,
              "#0d0887"
             ],
             [
              0.1111111111111111,
              "#46039f"
             ],
             [
              0.2222222222222222,
              "#7201a8"
             ],
             [
              0.3333333333333333,
              "#9c179e"
             ],
             [
              0.4444444444444444,
              "#bd3786"
             ],
             [
              0.5555555555555556,
              "#d8576b"
             ],
             [
              0.6666666666666666,
              "#ed7953"
             ],
             [
              0.7777777777777778,
              "#fb9f3a"
             ],
             [
              0.8888888888888888,
              "#fdca26"
             ],
             [
              1,
              "#f0f921"
             ]
            ],
            "type": "surface"
           }
          ],
          "table": [
           {
            "cells": {
             "fill": {
              "color": "#EBF0F8"
             },
             "line": {
              "color": "white"
             }
            },
            "header": {
             "fill": {
              "color": "#C8D4E3"
             },
             "line": {
              "color": "white"
             }
            },
            "type": "table"
           }
          ]
         },
         "layout": {
          "annotationdefaults": {
           "arrowcolor": "#2a3f5f",
           "arrowhead": 0,
           "arrowwidth": 1
          },
          "autotypenumbers": "strict",
          "coloraxis": {
           "colorbar": {
            "outlinewidth": 0,
            "ticks": ""
           }
          },
          "colorscale": {
           "diverging": [
            [
             0,
             "#8e0152"
            ],
            [
             0.1,
             "#c51b7d"
            ],
            [
             0.2,
             "#de77ae"
            ],
            [
             0.3,
             "#f1b6da"
            ],
            [
             0.4,
             "#fde0ef"
            ],
            [
             0.5,
             "#f7f7f7"
            ],
            [
             0.6,
             "#e6f5d0"
            ],
            [
             0.7,
             "#b8e186"
            ],
            [
             0.8,
             "#7fbc41"
            ],
            [
             0.9,
             "#4d9221"
            ],
            [
             1,
             "#276419"
            ]
           ],
           "sequential": [
            [
             0,
             "#0d0887"
            ],
            [
             0.1111111111111111,
             "#46039f"
            ],
            [
             0.2222222222222222,
             "#7201a8"
            ],
            [
             0.3333333333333333,
             "#9c179e"
            ],
            [
             0.4444444444444444,
             "#bd3786"
            ],
            [
             0.5555555555555556,
             "#d8576b"
            ],
            [
             0.6666666666666666,
             "#ed7953"
            ],
            [
             0.7777777777777778,
             "#fb9f3a"
            ],
            [
             0.8888888888888888,
             "#fdca26"
            ],
            [
             1,
             "#f0f921"
            ]
           ],
           "sequentialminus": [
            [
             0,
             "#0d0887"
            ],
            [
             0.1111111111111111,
             "#46039f"
            ],
            [
             0.2222222222222222,
             "#7201a8"
            ],
            [
             0.3333333333333333,
             "#9c179e"
            ],
            [
             0.4444444444444444,
             "#bd3786"
            ],
            [
             0.5555555555555556,
             "#d8576b"
            ],
            [
             0.6666666666666666,
             "#ed7953"
            ],
            [
             0.7777777777777778,
             "#fb9f3a"
            ],
            [
             0.8888888888888888,
             "#fdca26"
            ],
            [
             1,
             "#f0f921"
            ]
           ]
          },
          "colorway": [
           "#636efa",
           "#EF553B",
           "#00cc96",
           "#ab63fa",
           "#FFA15A",
           "#19d3f3",
           "#FF6692",
           "#B6E880",
           "#FF97FF",
           "#FECB52"
          ],
          "font": {
           "color": "#2a3f5f"
          },
          "geo": {
           "bgcolor": "white",
           "lakecolor": "white",
           "landcolor": "#E5ECF6",
           "showlakes": true,
           "showland": true,
           "subunitcolor": "white"
          },
          "hoverlabel": {
           "align": "left"
          },
          "hovermode": "closest",
          "mapbox": {
           "style": "light"
          },
          "paper_bgcolor": "white",
          "plot_bgcolor": "#E5ECF6",
          "polar": {
           "angularaxis": {
            "gridcolor": "white",
            "linecolor": "white",
            "ticks": ""
           },
           "bgcolor": "#E5ECF6",
           "radialaxis": {
            "gridcolor": "white",
            "linecolor": "white",
            "ticks": ""
           }
          },
          "scene": {
           "xaxis": {
            "backgroundcolor": "#E5ECF6",
            "gridcolor": "white",
            "gridwidth": 2,
            "linecolor": "white",
            "showbackground": true,
            "ticks": "",
            "zerolinecolor": "white"
           },
           "yaxis": {
            "backgroundcolor": "#E5ECF6",
            "gridcolor": "white",
            "gridwidth": 2,
            "linecolor": "white",
            "showbackground": true,
            "ticks": "",
            "zerolinecolor": "white"
           },
           "zaxis": {
            "backgroundcolor": "#E5ECF6",
            "gridcolor": "white",
            "gridwidth": 2,
            "linecolor": "white",
            "showbackground": true,
            "ticks": "",
            "zerolinecolor": "white"
           }
          },
          "shapedefaults": {
           "line": {
            "color": "#2a3f5f"
           }
          },
          "ternary": {
           "aaxis": {
            "gridcolor": "white",
            "linecolor": "white",
            "ticks": ""
           },
           "baxis": {
            "gridcolor": "white",
            "linecolor": "white",
            "ticks": ""
           },
           "bgcolor": "#E5ECF6",
           "caxis": {
            "gridcolor": "white",
            "linecolor": "white",
            "ticks": ""
           }
          },
          "title": {
           "x": 0.05
          },
          "xaxis": {
           "automargin": true,
           "gridcolor": "white",
           "linecolor": "white",
           "ticks": "",
           "title": {
            "standoff": 15
           },
           "zerolinecolor": "white",
           "zerolinewidth": 2
          },
          "yaxis": {
           "automargin": true,
           "gridcolor": "white",
           "linecolor": "white",
           "ticks": "",
           "title": {
            "standoff": 15
           },
           "zerolinecolor": "white",
           "zerolinewidth": 2
          }
         }
        },
        "width": 600,
        "xaxis": {
         "anchor": "y",
         "domain": [
          0,
          0.49
         ],
         "title": {
          "font": {
           "size": 16
          },
          "text": "教師なしデータ点数"
         }
        },
        "xaxis2": {
         "anchor": "y2",
         "domain": [
          0.5,
          1
         ],
         "title": {
          "font": {
           "size": 16
          },
          "text": "教師なしデータ点数"
         }
        },
        "yaxis": {
         "anchor": "x",
         "domain": [
          0,
          1
         ],
         "range": [
          0,
          1
         ],
         "side": "left",
         "title": {
          "font": {
           "size": 16
          },
          "text": "AUC"
         }
        },
        "yaxis2": {
         "anchor": "x2",
         "domain": [
          0,
          1
         ],
         "range": [
          0,
          1
         ],
         "side": "right",
         "title": {
          "font": {
           "size": 16
          },
          "text": "ルール違反率"
         }
        }
       }
      }
     },
     "metadata": {},
     "output_type": "display_data"
    }
   ],
   "source": [
    "import plotly.graph_objects as go\n",
    "from plotly.subplots import make_subplots\n",
    "\n",
    "\n",
    "# グラフのデータを準備\n",
    "index = ['l-SVM-p', 'r-SVM-p', 'LogReg-p']\n",
    "colors_mean = ['rgba(0,176,246,1)', 'rgba(231,107,243,1)', 'rgba(21,213,69,1)']  # indexに対応する色\n",
    "colors_std  = ['rgba(0,176,246,0.2)', 'rgba(231,107,243,0.2)', 'rgba(21,213,69,0.2)']  # indexに対応する色\n",
    "\n",
    "\n",
    "# グラフ1: AUCのデータ\n",
    "col_auc = 'auc'\n",
    "tmp_mean_auc = pd.DataFrame([\n",
    "    {info: df.loc['linear svm (L)', col_auc] for info, df in zip(infos, dfs_mean)},\n",
    "    {info: df.loc['non-linear svm (L)', col_auc] for info, df in zip(infos, dfs_mean)},\n",
    "    {info: df.loc['logistic regression (L)', col_auc] for info, df in zip(infos, dfs_mean)}\n",
    "], index=index)\n",
    "tmp_std_auc = pd.DataFrame([\n",
    "    {info: df.loc['linear svm (L)', col_auc] for info, df in zip(infos, dfs_std)},\n",
    "    {info: df.loc['non-linear svm (L)', col_auc] for info, df in zip(infos, dfs_std)},\n",
    "    {info: df.loc['logistic regression (L)', col_auc] for info, df in zip(infos, dfs_std)}\n",
    "], index=index)\n",
    "\n",
    "# グラフ2: ルール違反率のデータ\n",
    "col_vr = 'violation_rate'\n",
    "tmp_mean_vr = pd.DataFrame([\n",
    "    {info: df.loc['linear svm (L)', col_vr] for info, df in zip(infos, dfs_mean)},\n",
    "    {info: df.loc['non-linear svm (L)', col_vr] for info, df in zip(infos, dfs_mean)},\n",
    "    {info: df.loc['logistic regression (L)', col_vr] for info, df in zip(infos, dfs_mean)}\n",
    "], index=index)\n",
    "tmp_std_vr = pd.DataFrame([\n",
    "    {info: df.loc['linear svm (L)', col_vr] for info, df in zip(infos, dfs_std)},\n",
    "    {info: df.loc['non-linear svm (L)', col_vr] for info, df in zip(infos, dfs_std)},\n",
    "    {info: df.loc['logistic regression (L)', col_vr] for info, df in zip(infos, dfs_std)}\n",
    "], index=index)\n",
    "\n",
    "\n",
    "# サブプロットの作成\n",
    "# fig = make_subplots(rows=1, cols=2, subplot_titles=('AUC', 'ルール違反率'))\n",
    "fig = make_subplots(rows=1, cols=2)\n",
    "\n",
    "# グラフ1: AUC\n",
    "for i in range(len(tmp_mean_auc)):\n",
    "    fig.add_trace(\n",
    "        go.Scatter(\n",
    "            x=tmp_mean_auc.columns,\n",
    "            y=tmp_mean_auc.iloc[i, :],\n",
    "            mode='lines+markers',\n",
    "            name=tmp_mean_auc.index[i],\n",
    "            line=dict(color=colors_mean[i]),  # ラインの色を設定\n",
    "            marker=dict(color=colors_mean[i])  # マーカーの色を設定\n",
    "        ),\n",
    "        row=1, col=1\n",
    "    )\n",
    "    fig.add_trace(\n",
    "        go.Scatter(\n",
    "            x=tmp_mean_auc.columns,\n",
    "            y=tmp_mean_auc.iloc[i, :] + tmp_std_auc.iloc[i, :],\n",
    "            mode='lines',\n",
    "            line=dict(color=colors_std[i]),  # ラインの色を設定\n",
    "            showlegend=False\n",
    "        ),\n",
    "        row=1, col=1\n",
    "    )\n",
    "    fig.add_trace(\n",
    "        go.Scatter(\n",
    "            x=tmp_mean_auc.columns,\n",
    "            y=tmp_mean_auc.iloc[i, :] - tmp_std_auc.iloc[i, :],\n",
    "            mode='lines',\n",
    "            fill='tonexty',\n",
    "            fillcolor=colors_std[i],\n",
    "            line=dict(color='rgba(255,255,255,0)'),\n",
    "            showlegend=False\n",
    "        ),\n",
    "        row=1, col=1\n",
    "    )\n",
    "\n",
    "# グラフ2: ルール違反率\n",
    "for i in range(len(tmp_mean_vr)):\n",
    "    fig.add_trace(\n",
    "        go.Scatter(\n",
    "            x=tmp_mean_vr.columns,\n",
    "            y=tmp_mean_vr.iloc[i, :],\n",
    "            mode='lines+markers',\n",
    "            name=tmp_mean_vr.index[i],\n",
    "            line=dict(color=colors_mean[i]),  # ラインの色を設定\n",
    "            marker=dict(color=colors_mean[i]),  # マーカーの色を設定\n",
    "            showlegend=False\n",
    "        ),\n",
    "        row=1, col=2\n",
    "    )\n",
    "    fig.add_trace(\n",
    "        go.Scatter(\n",
    "            x=tmp_mean_vr.columns,\n",
    "            y=tmp_mean_vr.iloc[i, :] + tmp_std_vr.iloc[i, :],\n",
    "            mode='lines',\n",
    "            line=dict(color=colors_std[i]),  # ラインの色を設定\n",
    "            showlegend=False\n",
    "        ),\n",
    "        row=1, col=2\n",
    "    )\n",
    "    fig.add_trace(\n",
    "        go.Scatter(\n",
    "            x=tmp_mean_vr.columns,\n",
    "            y=tmp_mean_vr.iloc[i, :] - tmp_std_vr.iloc[i, :],\n",
    "            mode='lines',\n",
    "            fill='tonexty',\n",
    "            fillcolor=colors_std[i],\n",
    "            line=dict(color='rgba(255,255,255,0)'),\n",
    "            showlegend=False\n",
    "        ),\n",
    "        row=1, col=2\n",
    "    )\n",
    "\n",
    "# x軸の設定\n",
    "fig.update_xaxes(title_text='教師なしデータ点数', row=1, col=1)\n",
    "fig.update_xaxes(title_text='教師なしデータ点数', row=1, col=2)\n",
    "\n",
    "# レイアウトの設定\n",
    "fig.update_layout(\n",
    "    height=400,\n",
    "    width=600,\n",
    "    xaxis=dict(\n",
    "        domain=[0, 0.49],  # 左側のsubplotの幅を調整\n",
    "        title_font=dict(size=16)\n",
    "    ),\n",
    "    xaxis2=dict(\n",
    "        domain=[0.5, 1],  # 右側のsubplotの幅を調整\n",
    "        title_font=dict(size=16)\n",
    "    ),\n",
    "    legend=dict(\n",
    "        x=0.5,\n",
    "        y=1.15,\n",
    "        orientation='h'  # 水平配置\n",
    "    ),\n",
    "    \n",
    ")\n",
    "\n",
    "# y軸の設定\n",
    "fig.update_yaxes(title_text='AUC', range=[0, 1], row=1, col=1, side='left', title_font=dict(size=16))  # col=1のグラフのy軸を左側に配置\n",
    "fig.update_yaxes(title_text='ルール違反率', range=[0, 1], row=1, col=2, side='right', title_font=dict(size=16))  # col=2のグラフのy軸を右側に配置\n",
    "\n",
    "# グラフの表示\n",
    "fig.show()"
   ]
  },
  {
   "cell_type": "code",
   "execution_count": 25,
   "metadata": {},
   "outputs": [
    {
     "data": {
      "application/vnd.plotly.v1+json": {
       "config": {
        "plotlyServerURL": "https://plot.ly"
       },
       "data": [
        {
         "line": {
          "color": "rgba(0,176,246,1)"
         },
         "marker": {
          "color": "rgba(0,176,246,1)"
         },
         "mode": "lines+markers",
         "name": "l-SVM-p",
         "type": "scatter",
         "x": [
          1,
          5,
          15,
          50,
          100
         ],
         "xaxis": "x",
         "y": [
          0.7021192554170714,
          0.5329563839591671,
          0.3350001877421434,
          0.6210551554508051,
          0.370723929683394
         ],
         "yaxis": "y"
        },
        {
         "line": {
          "color": "rgba(0,176,246,0.2)"
         },
         "mode": "lines",
         "showlegend": false,
         "type": "scatter",
         "x": [
          1,
          5,
          15,
          50,
          100
         ],
         "xaxis": "x",
         "y": [
          0.8510741285494878,
          0.8682606833272515,
          0.5978787190470993,
          0.8715319077262964,
          0.6286132174057006
         ],
         "yaxis": "y"
        },
        {
         "fill": "tonexty",
         "fillcolor": "rgba(0,176,246,0.2)",
         "line": {
          "color": "rgba(255,255,255,0)"
         },
         "mode": "lines",
         "showlegend": false,
         "type": "scatter",
         "x": [
          1,
          5,
          15,
          50,
          100
         ],
         "xaxis": "x",
         "y": [
          0.553164382284655,
          0.1976520845910828,
          0.07212165643718743,
          0.37057840317531393,
          0.11283464196108739
         ],
         "yaxis": "y"
        },
        {
         "line": {
          "color": "rgba(231,107,243,1)"
         },
         "marker": {
          "color": "rgba(231,107,243,1)"
         },
         "mode": "lines+markers",
         "name": "r-SVM-p",
         "type": "scatter",
         "x": [
          1,
          5,
          15,
          50,
          100
         ],
         "xaxis": "x",
         "y": [
          0.8276245600326417,
          0.8244403497878107,
          0.8208470483881685,
          0.8188575601112456,
          0.8201410618586802
         ],
         "yaxis": "y"
        },
        {
         "line": {
          "color": "rgba(231,107,243,0.2)"
         },
         "mode": "lines",
         "showlegend": false,
         "type": "scatter",
         "x": [
          1,
          5,
          15,
          50,
          100
         ],
         "xaxis": "x",
         "y": [
          0.8691417915432803,
          0.8670584622877647,
          0.8670843577087523,
          0.8624024489193777,
          0.8659491125814038
         ],
         "yaxis": "y"
        },
        {
         "fill": "tonexty",
         "fillcolor": "rgba(231,107,243,0.2)",
         "line": {
          "color": "rgba(255,255,255,0)"
         },
         "mode": "lines",
         "showlegend": false,
         "type": "scatter",
         "x": [
          1,
          5,
          15,
          50,
          100
         ],
         "xaxis": "x",
         "y": [
          0.7861073285220032,
          0.7818222372878566,
          0.7746097390675847,
          0.7753126713031134,
          0.7743330111359565
         ],
         "yaxis": "y"
        },
        {
         "line": {
          "color": "rgba(21,213,69,1)"
         },
         "marker": {
          "color": "rgba(21,213,69,1)"
         },
         "mode": "lines+markers",
         "name": "LogReg-p",
         "type": "scatter",
         "x": [
          1,
          5,
          15,
          50,
          100
         ],
         "xaxis": "x",
         "y": [
          0.8248572208898292,
          0.8259810013305933,
          0.8266147184864916,
          0.8274490668060535,
          0.8292212171560385
         ],
         "yaxis": "y"
        },
        {
         "line": {
          "color": "rgba(21,213,69,0.2)"
         },
         "mode": "lines",
         "showlegend": false,
         "type": "scatter",
         "x": [
          1,
          5,
          15,
          50,
          100
         ],
         "xaxis": "x",
         "y": [
          0.8762726305914204,
          0.8777582541969156,
          0.8773668800407047,
          0.8795098814252801,
          0.8779703159219278
         ],
         "yaxis": "y"
        },
        {
         "fill": "tonexty",
         "fillcolor": "rgba(21,213,69,0.2)",
         "line": {
          "color": "rgba(255,255,255,0)"
         },
         "mode": "lines",
         "showlegend": false,
         "type": "scatter",
         "x": [
          1,
          5,
          15,
          50,
          100
         ],
         "xaxis": "x",
         "y": [
          0.773441811188238,
          0.774203748464271,
          0.7758625569322785,
          0.7753882521868268,
          0.7804721183901492
         ],
         "yaxis": "y"
        },
        {
         "line": {
          "color": "rgba(0,176,246,1)"
         },
         "marker": {
          "color": "rgba(0,176,246,1)"
         },
         "mode": "lines+markers",
         "name": "l-SVM-p",
         "showlegend": false,
         "type": "scatter",
         "x": [
          1,
          5,
          15,
          50,
          100
         ],
         "xaxis": "x2",
         "y": [
          0.648199934214133,
          0.5953527767118031,
          0.639276355462968,
          0.6156263362754235,
          0.6614571569541143
         ],
         "yaxis": "y2"
        },
        {
         "line": {
          "color": "rgba(0,176,246,0.2)"
         },
         "mode": "lines",
         "showlegend": false,
         "type": "scatter",
         "x": [
          1,
          5,
          15,
          50,
          100
         ],
         "xaxis": "x2",
         "y": [
          0.7423497079716251,
          0.6369303851576334,
          0.7125393888390658,
          0.7022617339461549,
          0.7406402330034794
         ],
         "yaxis": "y2"
        },
        {
         "fill": "tonexty",
         "fillcolor": "rgba(0,176,246,0.2)",
         "line": {
          "color": "rgba(255,255,255,0)"
         },
         "mode": "lines",
         "showlegend": false,
         "type": "scatter",
         "x": [
          1,
          5,
          15,
          50,
          100
         ],
         "xaxis": "x2",
         "y": [
          0.5540501604566409,
          0.5537751682659727,
          0.5660133220868703,
          0.5289909386046922,
          0.5822740809047493
         ],
         "yaxis": "y2"
        },
        {
         "line": {
          "color": "rgba(231,107,243,1)"
         },
         "marker": {
          "color": "rgba(231,107,243,1)"
         },
         "mode": "lines+markers",
         "name": "r-SVM-p",
         "showlegend": false,
         "type": "scatter",
         "x": [
          1,
          5,
          15,
          50,
          100
         ],
         "xaxis": "x2",
         "y": [
          0.6923989912833727,
          0.6505024395592347,
          0.6411734554026643,
          0.6558596019955047,
          0.6161139740145826
         ],
         "yaxis": "y2"
        },
        {
         "line": {
          "color": "rgba(231,107,243,0.2)"
         },
         "mode": "lines",
         "showlegend": false,
         "type": "scatter",
         "x": [
          1,
          5,
          15,
          50,
          100
         ],
         "xaxis": "x2",
         "y": [
          0.7906654977452949,
          0.7678087514276231,
          0.7795403167350874,
          0.7236125810707588,
          0.748353188877151
         ],
         "yaxis": "y2"
        },
        {
         "fill": "tonexty",
         "fillcolor": "rgba(231,107,243,0.2)",
         "line": {
          "color": "rgba(255,255,255,0)"
         },
         "mode": "lines",
         "showlegend": false,
         "type": "scatter",
         "x": [
          1,
          5,
          15,
          50,
          100
         ],
         "xaxis": "x2",
         "y": [
          0.5941324848214504,
          0.5331961276908463,
          0.5028065940702413,
          0.5881066229202507,
          0.48387475915201417
         ],
         "yaxis": "y2"
        },
        {
         "line": {
          "color": "rgba(21,213,69,1)"
         },
         "marker": {
          "color": "rgba(21,213,69,1)"
         },
         "mode": "lines+markers",
         "name": "LogReg-p",
         "showlegend": false,
         "type": "scatter",
         "x": [
          1,
          5,
          15,
          50,
          100
         ],
         "xaxis": "x2",
         "y": [
          0.561855161449482,
          0.5436708513787621,
          0.5564497560440765,
          0.5726659722602927,
          0.5668551614494819
         ],
         "yaxis": "y2"
        },
        {
         "line": {
          "color": "rgba(21,213,69,0.2)"
         },
         "mode": "lines",
         "showlegend": false,
         "type": "scatter",
         "x": [
          1,
          5,
          15,
          50,
          100
         ],
         "xaxis": "x2",
         "y": [
          0.6635271178818967,
          0.647873064058284,
          0.6670491889554004,
          0.6474823662316411,
          0.6317438799009887
         ],
         "yaxis": "y2"
        },
        {
         "fill": "tonexty",
         "fillcolor": "rgba(21,213,69,0.2)",
         "line": {
          "color": "rgba(255,255,255,0)"
         },
         "mode": "lines",
         "showlegend": false,
         "type": "scatter",
         "x": [
          1,
          5,
          15,
          50,
          100
         ],
         "xaxis": "x2",
         "y": [
          0.4601832050170674,
          0.43946863869924024,
          0.44585032313275264,
          0.49784957828894427,
          0.5019664429979751
         ],
         "yaxis": "y2"
        }
       ],
       "layout": {
        "annotations": [
         {
          "font": {
           "color": "black",
           "size": 15
          },
          "showarrow": false,
          "text": "※ x軸は対数スケール",
          "x": 0.02,
          "xref": "paper",
          "y": 1.11,
          "yref": "paper"
         }
        ],
        "height": 400,
        "legend": {
         "orientation": "h",
         "x": 0.5,
         "y": 1.15
        },
        "template": {
         "data": {
          "bar": [
           {
            "error_x": {
             "color": "#2a3f5f"
            },
            "error_y": {
             "color": "#2a3f5f"
            },
            "marker": {
             "line": {
              "color": "#E5ECF6",
              "width": 0.5
             },
             "pattern": {
              "fillmode": "overlay",
              "size": 10,
              "solidity": 0.2
             }
            },
            "type": "bar"
           }
          ],
          "barpolar": [
           {
            "marker": {
             "line": {
              "color": "#E5ECF6",
              "width": 0.5
             },
             "pattern": {
              "fillmode": "overlay",
              "size": 10,
              "solidity": 0.2
             }
            },
            "type": "barpolar"
           }
          ],
          "carpet": [
           {
            "aaxis": {
             "endlinecolor": "#2a3f5f",
             "gridcolor": "white",
             "linecolor": "white",
             "minorgridcolor": "white",
             "startlinecolor": "#2a3f5f"
            },
            "baxis": {
             "endlinecolor": "#2a3f5f",
             "gridcolor": "white",
             "linecolor": "white",
             "minorgridcolor": "white",
             "startlinecolor": "#2a3f5f"
            },
            "type": "carpet"
           }
          ],
          "choropleth": [
           {
            "colorbar": {
             "outlinewidth": 0,
             "ticks": ""
            },
            "type": "choropleth"
           }
          ],
          "contour": [
           {
            "colorbar": {
             "outlinewidth": 0,
             "ticks": ""
            },
            "colorscale": [
             [
              0,
              "#0d0887"
             ],
             [
              0.1111111111111111,
              "#46039f"
             ],
             [
              0.2222222222222222,
              "#7201a8"
             ],
             [
              0.3333333333333333,
              "#9c179e"
             ],
             [
              0.4444444444444444,
              "#bd3786"
             ],
             [
              0.5555555555555556,
              "#d8576b"
             ],
             [
              0.6666666666666666,
              "#ed7953"
             ],
             [
              0.7777777777777778,
              "#fb9f3a"
             ],
             [
              0.8888888888888888,
              "#fdca26"
             ],
             [
              1,
              "#f0f921"
             ]
            ],
            "type": "contour"
           }
          ],
          "contourcarpet": [
           {
            "colorbar": {
             "outlinewidth": 0,
             "ticks": ""
            },
            "type": "contourcarpet"
           }
          ],
          "heatmap": [
           {
            "colorbar": {
             "outlinewidth": 0,
             "ticks": ""
            },
            "colorscale": [
             [
              0,
              "#0d0887"
             ],
             [
              0.1111111111111111,
              "#46039f"
             ],
             [
              0.2222222222222222,
              "#7201a8"
             ],
             [
              0.3333333333333333,
              "#9c179e"
             ],
             [
              0.4444444444444444,
              "#bd3786"
             ],
             [
              0.5555555555555556,
              "#d8576b"
             ],
             [
              0.6666666666666666,
              "#ed7953"
             ],
             [
              0.7777777777777778,
              "#fb9f3a"
             ],
             [
              0.8888888888888888,
              "#fdca26"
             ],
             [
              1,
              "#f0f921"
             ]
            ],
            "type": "heatmap"
           }
          ],
          "heatmapgl": [
           {
            "colorbar": {
             "outlinewidth": 0,
             "ticks": ""
            },
            "colorscale": [
             [
              0,
              "#0d0887"
             ],
             [
              0.1111111111111111,
              "#46039f"
             ],
             [
              0.2222222222222222,
              "#7201a8"
             ],
             [
              0.3333333333333333,
              "#9c179e"
             ],
             [
              0.4444444444444444,
              "#bd3786"
             ],
             [
              0.5555555555555556,
              "#d8576b"
             ],
             [
              0.6666666666666666,
              "#ed7953"
             ],
             [
              0.7777777777777778,
              "#fb9f3a"
             ],
             [
              0.8888888888888888,
              "#fdca26"
             ],
             [
              1,
              "#f0f921"
             ]
            ],
            "type": "heatmapgl"
           }
          ],
          "histogram": [
           {
            "marker": {
             "pattern": {
              "fillmode": "overlay",
              "size": 10,
              "solidity": 0.2
             }
            },
            "type": "histogram"
           }
          ],
          "histogram2d": [
           {
            "colorbar": {
             "outlinewidth": 0,
             "ticks": ""
            },
            "colorscale": [
             [
              0,
              "#0d0887"
             ],
             [
              0.1111111111111111,
              "#46039f"
             ],
             [
              0.2222222222222222,
              "#7201a8"
             ],
             [
              0.3333333333333333,
              "#9c179e"
             ],
             [
              0.4444444444444444,
              "#bd3786"
             ],
             [
              0.5555555555555556,
              "#d8576b"
             ],
             [
              0.6666666666666666,
              "#ed7953"
             ],
             [
              0.7777777777777778,
              "#fb9f3a"
             ],
             [
              0.8888888888888888,
              "#fdca26"
             ],
             [
              1,
              "#f0f921"
             ]
            ],
            "type": "histogram2d"
           }
          ],
          "histogram2dcontour": [
           {
            "colorbar": {
             "outlinewidth": 0,
             "ticks": ""
            },
            "colorscale": [
             [
              0,
              "#0d0887"
             ],
             [
              0.1111111111111111,
              "#46039f"
             ],
             [
              0.2222222222222222,
              "#7201a8"
             ],
             [
              0.3333333333333333,
              "#9c179e"
             ],
             [
              0.4444444444444444,
              "#bd3786"
             ],
             [
              0.5555555555555556,
              "#d8576b"
             ],
             [
              0.6666666666666666,
              "#ed7953"
             ],
             [
              0.7777777777777778,
              "#fb9f3a"
             ],
             [
              0.8888888888888888,
              "#fdca26"
             ],
             [
              1,
              "#f0f921"
             ]
            ],
            "type": "histogram2dcontour"
           }
          ],
          "mesh3d": [
           {
            "colorbar": {
             "outlinewidth": 0,
             "ticks": ""
            },
            "type": "mesh3d"
           }
          ],
          "parcoords": [
           {
            "line": {
             "colorbar": {
              "outlinewidth": 0,
              "ticks": ""
             }
            },
            "type": "parcoords"
           }
          ],
          "pie": [
           {
            "automargin": true,
            "type": "pie"
           }
          ],
          "scatter": [
           {
            "fillpattern": {
             "fillmode": "overlay",
             "size": 10,
             "solidity": 0.2
            },
            "type": "scatter"
           }
          ],
          "scatter3d": [
           {
            "line": {
             "colorbar": {
              "outlinewidth": 0,
              "ticks": ""
             }
            },
            "marker": {
             "colorbar": {
              "outlinewidth": 0,
              "ticks": ""
             }
            },
            "type": "scatter3d"
           }
          ],
          "scattercarpet": [
           {
            "marker": {
             "colorbar": {
              "outlinewidth": 0,
              "ticks": ""
             }
            },
            "type": "scattercarpet"
           }
          ],
          "scattergeo": [
           {
            "marker": {
             "colorbar": {
              "outlinewidth": 0,
              "ticks": ""
             }
            },
            "type": "scattergeo"
           }
          ],
          "scattergl": [
           {
            "marker": {
             "colorbar": {
              "outlinewidth": 0,
              "ticks": ""
             }
            },
            "type": "scattergl"
           }
          ],
          "scattermapbox": [
           {
            "marker": {
             "colorbar": {
              "outlinewidth": 0,
              "ticks": ""
             }
            },
            "type": "scattermapbox"
           }
          ],
          "scatterpolar": [
           {
            "marker": {
             "colorbar": {
              "outlinewidth": 0,
              "ticks": ""
             }
            },
            "type": "scatterpolar"
           }
          ],
          "scatterpolargl": [
           {
            "marker": {
             "colorbar": {
              "outlinewidth": 0,
              "ticks": ""
             }
            },
            "type": "scatterpolargl"
           }
          ],
          "scatterternary": [
           {
            "marker": {
             "colorbar": {
              "outlinewidth": 0,
              "ticks": ""
             }
            },
            "type": "scatterternary"
           }
          ],
          "surface": [
           {
            "colorbar": {
             "outlinewidth": 0,
             "ticks": ""
            },
            "colorscale": [
             [
              0,
              "#0d0887"
             ],
             [
              0.1111111111111111,
              "#46039f"
             ],
             [
              0.2222222222222222,
              "#7201a8"
             ],
             [
              0.3333333333333333,
              "#9c179e"
             ],
             [
              0.4444444444444444,
              "#bd3786"
             ],
             [
              0.5555555555555556,
              "#d8576b"
             ],
             [
              0.6666666666666666,
              "#ed7953"
             ],
             [
              0.7777777777777778,
              "#fb9f3a"
             ],
             [
              0.8888888888888888,
              "#fdca26"
             ],
             [
              1,
              "#f0f921"
             ]
            ],
            "type": "surface"
           }
          ],
          "table": [
           {
            "cells": {
             "fill": {
              "color": "#EBF0F8"
             },
             "line": {
              "color": "white"
             }
            },
            "header": {
             "fill": {
              "color": "#C8D4E3"
             },
             "line": {
              "color": "white"
             }
            },
            "type": "table"
           }
          ]
         },
         "layout": {
          "annotationdefaults": {
           "arrowcolor": "#2a3f5f",
           "arrowhead": 0,
           "arrowwidth": 1
          },
          "autotypenumbers": "strict",
          "coloraxis": {
           "colorbar": {
            "outlinewidth": 0,
            "ticks": ""
           }
          },
          "colorscale": {
           "diverging": [
            [
             0,
             "#8e0152"
            ],
            [
             0.1,
             "#c51b7d"
            ],
            [
             0.2,
             "#de77ae"
            ],
            [
             0.3,
             "#f1b6da"
            ],
            [
             0.4,
             "#fde0ef"
            ],
            [
             0.5,
             "#f7f7f7"
            ],
            [
             0.6,
             "#e6f5d0"
            ],
            [
             0.7,
             "#b8e186"
            ],
            [
             0.8,
             "#7fbc41"
            ],
            [
             0.9,
             "#4d9221"
            ],
            [
             1,
             "#276419"
            ]
           ],
           "sequential": [
            [
             0,
             "#0d0887"
            ],
            [
             0.1111111111111111,
             "#46039f"
            ],
            [
             0.2222222222222222,
             "#7201a8"
            ],
            [
             0.3333333333333333,
             "#9c179e"
            ],
            [
             0.4444444444444444,
             "#bd3786"
            ],
            [
             0.5555555555555556,
             "#d8576b"
            ],
            [
             0.6666666666666666,
             "#ed7953"
            ],
            [
             0.7777777777777778,
             "#fb9f3a"
            ],
            [
             0.8888888888888888,
             "#fdca26"
            ],
            [
             1,
             "#f0f921"
            ]
           ],
           "sequentialminus": [
            [
             0,
             "#0d0887"
            ],
            [
             0.1111111111111111,
             "#46039f"
            ],
            [
             0.2222222222222222,
             "#7201a8"
            ],
            [
             0.3333333333333333,
             "#9c179e"
            ],
            [
             0.4444444444444444,
             "#bd3786"
            ],
            [
             0.5555555555555556,
             "#d8576b"
            ],
            [
             0.6666666666666666,
             "#ed7953"
            ],
            [
             0.7777777777777778,
             "#fb9f3a"
            ],
            [
             0.8888888888888888,
             "#fdca26"
            ],
            [
             1,
             "#f0f921"
            ]
           ]
          },
          "colorway": [
           "#636efa",
           "#EF553B",
           "#00cc96",
           "#ab63fa",
           "#FFA15A",
           "#19d3f3",
           "#FF6692",
           "#B6E880",
           "#FF97FF",
           "#FECB52"
          ],
          "font": {
           "color": "#2a3f5f"
          },
          "geo": {
           "bgcolor": "white",
           "lakecolor": "white",
           "landcolor": "#E5ECF6",
           "showlakes": true,
           "showland": true,
           "subunitcolor": "white"
          },
          "hoverlabel": {
           "align": "left"
          },
          "hovermode": "closest",
          "mapbox": {
           "style": "light"
          },
          "paper_bgcolor": "white",
          "plot_bgcolor": "#E5ECF6",
          "polar": {
           "angularaxis": {
            "gridcolor": "white",
            "linecolor": "white",
            "ticks": ""
           },
           "bgcolor": "#E5ECF6",
           "radialaxis": {
            "gridcolor": "white",
            "linecolor": "white",
            "ticks": ""
           }
          },
          "scene": {
           "xaxis": {
            "backgroundcolor": "#E5ECF6",
            "gridcolor": "white",
            "gridwidth": 2,
            "linecolor": "white",
            "showbackground": true,
            "ticks": "",
            "zerolinecolor": "white"
           },
           "yaxis": {
            "backgroundcolor": "#E5ECF6",
            "gridcolor": "white",
            "gridwidth": 2,
            "linecolor": "white",
            "showbackground": true,
            "ticks": "",
            "zerolinecolor": "white"
           },
           "zaxis": {
            "backgroundcolor": "#E5ECF6",
            "gridcolor": "white",
            "gridwidth": 2,
            "linecolor": "white",
            "showbackground": true,
            "ticks": "",
            "zerolinecolor": "white"
           }
          },
          "shapedefaults": {
           "line": {
            "color": "#2a3f5f"
           }
          },
          "ternary": {
           "aaxis": {
            "gridcolor": "white",
            "linecolor": "white",
            "ticks": ""
           },
           "baxis": {
            "gridcolor": "white",
            "linecolor": "white",
            "ticks": ""
           },
           "bgcolor": "#E5ECF6",
           "caxis": {
            "gridcolor": "white",
            "linecolor": "white",
            "ticks": ""
           }
          },
          "title": {
           "x": 0.05
          },
          "xaxis": {
           "automargin": true,
           "gridcolor": "white",
           "linecolor": "white",
           "ticks": "",
           "title": {
            "standoff": 15
           },
           "zerolinecolor": "white",
           "zerolinewidth": 2
          },
          "yaxis": {
           "automargin": true,
           "gridcolor": "white",
           "linecolor": "white",
           "ticks": "",
           "title": {
            "standoff": 15
           },
           "zerolinecolor": "white",
           "zerolinewidth": 2
          }
         }
        },
        "width": 600,
        "xaxis": {
         "anchor": "y",
         "domain": [
          0,
          0.49
         ],
         "ticktext": [
          "1",
          "10",
          "100",
          "1000"
         ],
         "tickvals": [
          1,
          10,
          100,
          1000
         ],
         "title": {
          "font": {
           "size": 16
          },
          "text": "教師なしデータ点数"
         },
         "type": "log"
        },
        "xaxis2": {
         "anchor": "y2",
         "domain": [
          0.5,
          1
         ],
         "ticktext": [
          "1",
          "10",
          "100",
          "1000"
         ],
         "tickvals": [
          1,
          10,
          100,
          1000
         ],
         "title": {
          "font": {
           "size": 16
          },
          "text": "教師なしデータ点数"
         },
         "type": "log"
        },
        "yaxis": {
         "anchor": "x",
         "domain": [
          0,
          1
         ],
         "range": [
          0,
          1
         ],
         "side": "left",
         "title": {
          "font": {
           "size": 16
          },
          "text": "AUC"
         }
        },
        "yaxis2": {
         "anchor": "x2",
         "domain": [
          0,
          1
         ],
         "range": [
          0,
          1
         ],
         "side": "right",
         "title": {
          "font": {
           "size": 16
          },
          "text": "ルール違反率"
         }
        }
       }
      }
     },
     "metadata": {},
     "output_type": "display_data"
    }
   ],
   "source": [
    "import plotly.graph_objects as go\n",
    "from plotly.subplots import make_subplots\n",
    "\n",
    "\n",
    "# グラフのデータを準備\n",
    "index = ['l-SVM-p', 'r-SVM-p', 'LogReg-p']\n",
    "colors_mean = ['rgba(0,176,246,1)', 'rgba(231,107,243,1)', 'rgba(21,213,69,1)']  # indexに対応する色\n",
    "colors_std  = ['rgba(0,176,246,0.2)', 'rgba(231,107,243,0.2)', 'rgba(21,213,69,0.2)']  # indexに対応する色\n",
    "\n",
    "\n",
    "# グラフ1: AUCのデータ\n",
    "col_auc = 'auc'\n",
    "tmp_mean_auc = pd.DataFrame([\n",
    "    {info: df.loc['linear svm (L)', col_auc] for info, df in zip(infos, dfs_mean)},\n",
    "    {info: df.loc['non-linear svm (L)', col_auc] for info, df in zip(infos, dfs_mean)},\n",
    "    {info: df.loc['logistic regression (L)', col_auc] for info, df in zip(infos, dfs_mean)}\n",
    "], index=index)\n",
    "tmp_std_auc = pd.DataFrame([\n",
    "    {info: df.loc['linear svm (L)', col_auc] for info, df in zip(infos, dfs_std)},\n",
    "    {info: df.loc['non-linear svm (L)', col_auc] for info, df in zip(infos, dfs_std)},\n",
    "    {info: df.loc['logistic regression (L)', col_auc] for info, df in zip(infos, dfs_std)}\n",
    "], index=index)\n",
    "\n",
    "# グラフ2: ルール違反率のデータ\n",
    "col_vr = 'violation_rate'\n",
    "tmp_mean_vr = pd.DataFrame([\n",
    "    {info: df.loc['linear svm (L)', col_vr] for info, df in zip(infos, dfs_mean)},\n",
    "    {info: df.loc['non-linear svm (L)', col_vr] for info, df in zip(infos, dfs_mean)},\n",
    "    {info: df.loc['logistic regression (L)', col_vr] for info, df in zip(infos, dfs_mean)}\n",
    "], index=index)\n",
    "tmp_std_vr = pd.DataFrame([\n",
    "    {info: df.loc['linear svm (L)', col_vr] for info, df in zip(infos, dfs_std)},\n",
    "    {info: df.loc['non-linear svm (L)', col_vr] for info, df in zip(infos, dfs_std)},\n",
    "    {info: df.loc['logistic regression (L)', col_vr] for info, df in zip(infos, dfs_std)}\n",
    "], index=index)\n",
    "\n",
    "\n",
    "# サブプロットの作成\n",
    "# fig = make_subplots(rows=1, cols=2, subplot_titles=('AUC', 'ルール違反率'))\n",
    "fig = make_subplots(rows=1, cols=2)\n",
    "\n",
    "# グラフ1: AUC\n",
    "for i in range(len(tmp_mean_auc)):\n",
    "    fig.add_trace(\n",
    "        go.Scatter(\n",
    "            x=tmp_mean_auc.columns,\n",
    "            y=tmp_mean_auc.iloc[i, :],\n",
    "            mode='lines+markers',\n",
    "            name=tmp_mean_auc.index[i],\n",
    "            line=dict(color=colors_mean[i]),  # ラインの色を設定\n",
    "            marker=dict(color=colors_mean[i])  # マーカーの色を設定\n",
    "        ),\n",
    "        row=1, col=1\n",
    "    )\n",
    "    fig.add_trace(\n",
    "        go.Scatter(\n",
    "            x=tmp_mean_auc.columns,\n",
    "            y=tmp_mean_auc.iloc[i, :] + tmp_std_auc.iloc[i, :],\n",
    "            mode='lines',\n",
    "            line=dict(color=colors_std[i]),  # ラインの色を設定\n",
    "            showlegend=False\n",
    "        ),\n",
    "        row=1, col=1\n",
    "    )\n",
    "    fig.add_trace(\n",
    "        go.Scatter(\n",
    "            x=tmp_mean_auc.columns,\n",
    "            y=tmp_mean_auc.iloc[i, :] - tmp_std_auc.iloc[i, :],\n",
    "            mode='lines',\n",
    "            fill='tonexty',\n",
    "            fillcolor=colors_std[i],\n",
    "            line=dict(color='rgba(255,255,255,0)'),\n",
    "            showlegend=False\n",
    "        ),\n",
    "        row=1, col=1\n",
    "    )\n",
    "\n",
    "# グラフ2: ルール違反率\n",
    "for i in range(len(tmp_mean_vr)):\n",
    "    fig.add_trace(\n",
    "        go.Scatter(\n",
    "            x=tmp_mean_vr.columns,\n",
    "            y=tmp_mean_vr.iloc[i, :],\n",
    "            mode='lines+markers',\n",
    "            name=tmp_mean_vr.index[i],\n",
    "            line=dict(color=colors_mean[i]),  # ラインの色を設定\n",
    "            marker=dict(color=colors_mean[i]),  # マーカーの色を設定\n",
    "            showlegend=False\n",
    "        ),\n",
    "        row=1, col=2\n",
    "    )\n",
    "    fig.add_trace(\n",
    "        go.Scatter(\n",
    "            x=tmp_mean_vr.columns,\n",
    "            y=tmp_mean_vr.iloc[i, :] + tmp_std_vr.iloc[i, :],\n",
    "            mode='lines',\n",
    "            line=dict(color=colors_std[i]),  # ラインの色を設定\n",
    "            showlegend=False\n",
    "        ),\n",
    "        row=1, col=2\n",
    "    )\n",
    "    fig.add_trace(\n",
    "        go.Scatter(\n",
    "            x=tmp_mean_vr.columns,\n",
    "            y=tmp_mean_vr.iloc[i, :] - tmp_std_vr.iloc[i, :],\n",
    "            mode='lines',\n",
    "            fill='tonexty',\n",
    "            fillcolor=colors_std[i],\n",
    "            line=dict(color='rgba(255,255,255,0)'),\n",
    "            showlegend=False\n",
    "        ),\n",
    "        row=1, col=2\n",
    "    )\n",
    "\n",
    "# x軸の設定\n",
    "fig.update_xaxes(title_text='教師なしデータ点数', row=1, col=1, type='log')\n",
    "fig.update_xaxes(title_text='教師なしデータ点数', row=1, col=2, type='log')\n",
    "\n",
    "# レイアウトの設定\n",
    "fig.update_layout(\n",
    "    height=400,\n",
    "    width=600,\n",
    "    xaxis=dict(\n",
    "        domain=[0, 0.49],  # 左側のsubplotの幅を調整\n",
    "        title_font=dict(size=16)\n",
    "    ),\n",
    "    xaxis2=dict(\n",
    "        domain=[0.5, 1],  # 右側のsubplotの幅を調整\n",
    "        title_font=dict(size=16)\n",
    "    ),\n",
    "    legend=dict(\n",
    "        x=0.5,\n",
    "        y=1.15,\n",
    "        orientation='h'  # 水平配置\n",
    "    ),\n",
    "    annotations=[\n",
    "        dict(\n",
    "            xref=\"paper\",\n",
    "            yref=\"paper\",\n",
    "            x=0.02,\n",
    "            y=1.11,\n",
    "            text=\"※ x軸は対数スケール\",\n",
    "            showarrow=False,\n",
    "            font=dict(\n",
    "                size=15,\n",
    "                color=\"black\"\n",
    "            )\n",
    "        )\n",
    "    ]\n",
    ")\n",
    "\n",
    "# y軸の設定\n",
    "fig.update_yaxes(title_text='AUC', range=[0, 1], row=1, col=1, side='left', title_font=dict(size=16))  # col=1のグラフのy軸を左側に配置\n",
    "fig.update_yaxes(title_text='ルール違反率', range=[0, 1], row=1, col=2, side='right', title_font=dict(size=16))  # col=2のグラフのy軸を右側に配置\n",
    "\n",
    "# x軸の設定\n",
    "fig.update_xaxes(title_text='教師なしデータ点数', row=1, col=1, type='log', tickvals=[1, 10, 100, 1000], ticktext=[\"1\", \"10\", \"100\", \"1000\"])\n",
    "fig.update_xaxes(title_text='教師なしデータ点数', row=1, col=2, type='log', tickvals=[1, 10, 100, 1000], ticktext=[\"1\", \"10\", \"100\", \"1000\"])\n",
    "\n",
    "\n",
    "# グラフの表示\n",
    "fig.show()"
   ]
  },
  {
   "cell_type": "code",
   "execution_count": 55,
   "metadata": {},
   "outputs": [
    {
     "data": {
      "application/vnd.plotly.v1+json": {
       "config": {
        "plotlyServerURL": "https://plot.ly"
       },
       "data": [
        {
         "line": {
          "color": "rgba(0,176,246,1)"
         },
         "marker": {
          "color": "rgba(0,176,246,1)"
         },
         "mode": "lines+markers",
         "name": "l-SVM-p",
         "type": "scatter",
         "x": [
          1,
          5,
          15,
          50,
          100
         ],
         "xaxis": "x",
         "y": [
          0.7021192554170714,
          0.5329563839591671,
          0.3350001877421434,
          0.6210551554508051,
          0.370723929683394
         ],
         "yaxis": "y"
        },
        {
         "line": {
          "color": "rgba(0,176,246,0.2)"
         },
         "mode": "lines",
         "showlegend": false,
         "type": "scatter",
         "x": [
          1,
          5,
          15,
          50,
          100
         ],
         "xaxis": "x",
         "y": [
          0.8510741285494878,
          0.8682606833272515,
          0.5978787190470993,
          0.8715319077262964,
          0.6286132174057006
         ],
         "yaxis": "y"
        },
        {
         "fill": "tonexty",
         "fillcolor": "rgba(0,176,246,0.2)",
         "line": {
          "color": "rgba(255,255,255,0)"
         },
         "mode": "lines",
         "showlegend": false,
         "type": "scatter",
         "x": [
          1,
          5,
          15,
          50,
          100
         ],
         "xaxis": "x",
         "y": [
          0.553164382284655,
          0.1976520845910828,
          0.07212165643718743,
          0.37057840317531393,
          0.11283464196108739
         ],
         "yaxis": "y"
        },
        {
         "line": {
          "color": "rgba(231,107,243,1)"
         },
         "marker": {
          "color": "rgba(231,107,243,1)"
         },
         "mode": "lines+markers",
         "name": "r-SVM-p",
         "type": "scatter",
         "x": [
          1,
          5,
          15,
          50,
          100
         ],
         "xaxis": "x",
         "y": [
          0.8276245600326417,
          0.8244403497878107,
          0.8208470483881685,
          0.8188575601112456,
          0.8201410618586802
         ],
         "yaxis": "y"
        },
        {
         "line": {
          "color": "rgba(231,107,243,0.2)"
         },
         "mode": "lines",
         "showlegend": false,
         "type": "scatter",
         "x": [
          1,
          5,
          15,
          50,
          100
         ],
         "xaxis": "x",
         "y": [
          0.8691417915432803,
          0.8670584622877647,
          0.8670843577087523,
          0.8624024489193777,
          0.8659491125814038
         ],
         "yaxis": "y"
        },
        {
         "fill": "tonexty",
         "fillcolor": "rgba(231,107,243,0.2)",
         "line": {
          "color": "rgba(255,255,255,0)"
         },
         "mode": "lines",
         "showlegend": false,
         "type": "scatter",
         "x": [
          1,
          5,
          15,
          50,
          100
         ],
         "xaxis": "x",
         "y": [
          0.7861073285220032,
          0.7818222372878566,
          0.7746097390675847,
          0.7753126713031134,
          0.7743330111359565
         ],
         "yaxis": "y"
        },
        {
         "line": {
          "color": "rgba(21,213,69,1)"
         },
         "marker": {
          "color": "rgba(21,213,69,1)"
         },
         "mode": "lines+markers",
         "name": "LogReg-p",
         "type": "scatter",
         "x": [
          1,
          5,
          15,
          50,
          100
         ],
         "xaxis": "x",
         "y": [
          0.8248572208898292,
          0.8259810013305933,
          0.8266147184864916,
          0.8274490668060535,
          0.8292212171560385
         ],
         "yaxis": "y"
        },
        {
         "line": {
          "color": "rgba(21,213,69,0.2)"
         },
         "mode": "lines",
         "showlegend": false,
         "type": "scatter",
         "x": [
          1,
          5,
          15,
          50,
          100
         ],
         "xaxis": "x",
         "y": [
          0.8762726305914204,
          0.8777582541969156,
          0.8773668800407047,
          0.8795098814252801,
          0.8779703159219278
         ],
         "yaxis": "y"
        },
        {
         "fill": "tonexty",
         "fillcolor": "rgba(21,213,69,0.2)",
         "line": {
          "color": "rgba(255,255,255,0)"
         },
         "mode": "lines",
         "showlegend": false,
         "type": "scatter",
         "x": [
          1,
          5,
          15,
          50,
          100
         ],
         "xaxis": "x",
         "y": [
          0.773441811188238,
          0.774203748464271,
          0.7758625569322785,
          0.7753882521868268,
          0.7804721183901492
         ],
         "yaxis": "y"
        }
       ],
       "layout": {
        "annotations": [
         {
          "font": {
           "color": "black",
           "size": 15
          },
          "showarrow": false,
          "text": "※ x軸は対数スケール",
          "x": 0,
          "xref": "paper",
          "y": 1.25,
          "yref": "paper"
         }
        ],
        "height": 400,
        "legend": {
         "orientation": "h",
         "x": 0.15,
         "y": 1.15
        },
        "template": {
         "data": {
          "bar": [
           {
            "error_x": {
             "color": "#2a3f5f"
            },
            "error_y": {
             "color": "#2a3f5f"
            },
            "marker": {
             "line": {
              "color": "#E5ECF6",
              "width": 0.5
             },
             "pattern": {
              "fillmode": "overlay",
              "size": 10,
              "solidity": 0.2
             }
            },
            "type": "bar"
           }
          ],
          "barpolar": [
           {
            "marker": {
             "line": {
              "color": "#E5ECF6",
              "width": 0.5
             },
             "pattern": {
              "fillmode": "overlay",
              "size": 10,
              "solidity": 0.2
             }
            },
            "type": "barpolar"
           }
          ],
          "carpet": [
           {
            "aaxis": {
             "endlinecolor": "#2a3f5f",
             "gridcolor": "white",
             "linecolor": "white",
             "minorgridcolor": "white",
             "startlinecolor": "#2a3f5f"
            },
            "baxis": {
             "endlinecolor": "#2a3f5f",
             "gridcolor": "white",
             "linecolor": "white",
             "minorgridcolor": "white",
             "startlinecolor": "#2a3f5f"
            },
            "type": "carpet"
           }
          ],
          "choropleth": [
           {
            "colorbar": {
             "outlinewidth": 0,
             "ticks": ""
            },
            "type": "choropleth"
           }
          ],
          "contour": [
           {
            "colorbar": {
             "outlinewidth": 0,
             "ticks": ""
            },
            "colorscale": [
             [
              0,
              "#0d0887"
             ],
             [
              0.1111111111111111,
              "#46039f"
             ],
             [
              0.2222222222222222,
              "#7201a8"
             ],
             [
              0.3333333333333333,
              "#9c179e"
             ],
             [
              0.4444444444444444,
              "#bd3786"
             ],
             [
              0.5555555555555556,
              "#d8576b"
             ],
             [
              0.6666666666666666,
              "#ed7953"
             ],
             [
              0.7777777777777778,
              "#fb9f3a"
             ],
             [
              0.8888888888888888,
              "#fdca26"
             ],
             [
              1,
              "#f0f921"
             ]
            ],
            "type": "contour"
           }
          ],
          "contourcarpet": [
           {
            "colorbar": {
             "outlinewidth": 0,
             "ticks": ""
            },
            "type": "contourcarpet"
           }
          ],
          "heatmap": [
           {
            "colorbar": {
             "outlinewidth": 0,
             "ticks": ""
            },
            "colorscale": [
             [
              0,
              "#0d0887"
             ],
             [
              0.1111111111111111,
              "#46039f"
             ],
             [
              0.2222222222222222,
              "#7201a8"
             ],
             [
              0.3333333333333333,
              "#9c179e"
             ],
             [
              0.4444444444444444,
              "#bd3786"
             ],
             [
              0.5555555555555556,
              "#d8576b"
             ],
             [
              0.6666666666666666,
              "#ed7953"
             ],
             [
              0.7777777777777778,
              "#fb9f3a"
             ],
             [
              0.8888888888888888,
              "#fdca26"
             ],
             [
              1,
              "#f0f921"
             ]
            ],
            "type": "heatmap"
           }
          ],
          "heatmapgl": [
           {
            "colorbar": {
             "outlinewidth": 0,
             "ticks": ""
            },
            "colorscale": [
             [
              0,
              "#0d0887"
             ],
             [
              0.1111111111111111,
              "#46039f"
             ],
             [
              0.2222222222222222,
              "#7201a8"
             ],
             [
              0.3333333333333333,
              "#9c179e"
             ],
             [
              0.4444444444444444,
              "#bd3786"
             ],
             [
              0.5555555555555556,
              "#d8576b"
             ],
             [
              0.6666666666666666,
              "#ed7953"
             ],
             [
              0.7777777777777778,
              "#fb9f3a"
             ],
             [
              0.8888888888888888,
              "#fdca26"
             ],
             [
              1,
              "#f0f921"
             ]
            ],
            "type": "heatmapgl"
           }
          ],
          "histogram": [
           {
            "marker": {
             "pattern": {
              "fillmode": "overlay",
              "size": 10,
              "solidity": 0.2
             }
            },
            "type": "histogram"
           }
          ],
          "histogram2d": [
           {
            "colorbar": {
             "outlinewidth": 0,
             "ticks": ""
            },
            "colorscale": [
             [
              0,
              "#0d0887"
             ],
             [
              0.1111111111111111,
              "#46039f"
             ],
             [
              0.2222222222222222,
              "#7201a8"
             ],
             [
              0.3333333333333333,
              "#9c179e"
             ],
             [
              0.4444444444444444,
              "#bd3786"
             ],
             [
              0.5555555555555556,
              "#d8576b"
             ],
             [
              0.6666666666666666,
              "#ed7953"
             ],
             [
              0.7777777777777778,
              "#fb9f3a"
             ],
             [
              0.8888888888888888,
              "#fdca26"
             ],
             [
              1,
              "#f0f921"
             ]
            ],
            "type": "histogram2d"
           }
          ],
          "histogram2dcontour": [
           {
            "colorbar": {
             "outlinewidth": 0,
             "ticks": ""
            },
            "colorscale": [
             [
              0,
              "#0d0887"
             ],
             [
              0.1111111111111111,
              "#46039f"
             ],
             [
              0.2222222222222222,
              "#7201a8"
             ],
             [
              0.3333333333333333,
              "#9c179e"
             ],
             [
              0.4444444444444444,
              "#bd3786"
             ],
             [
              0.5555555555555556,
              "#d8576b"
             ],
             [
              0.6666666666666666,
              "#ed7953"
             ],
             [
              0.7777777777777778,
              "#fb9f3a"
             ],
             [
              0.8888888888888888,
              "#fdca26"
             ],
             [
              1,
              "#f0f921"
             ]
            ],
            "type": "histogram2dcontour"
           }
          ],
          "mesh3d": [
           {
            "colorbar": {
             "outlinewidth": 0,
             "ticks": ""
            },
            "type": "mesh3d"
           }
          ],
          "parcoords": [
           {
            "line": {
             "colorbar": {
              "outlinewidth": 0,
              "ticks": ""
             }
            },
            "type": "parcoords"
           }
          ],
          "pie": [
           {
            "automargin": true,
            "type": "pie"
           }
          ],
          "scatter": [
           {
            "fillpattern": {
             "fillmode": "overlay",
             "size": 10,
             "solidity": 0.2
            },
            "type": "scatter"
           }
          ],
          "scatter3d": [
           {
            "line": {
             "colorbar": {
              "outlinewidth": 0,
              "ticks": ""
             }
            },
            "marker": {
             "colorbar": {
              "outlinewidth": 0,
              "ticks": ""
             }
            },
            "type": "scatter3d"
           }
          ],
          "scattercarpet": [
           {
            "marker": {
             "colorbar": {
              "outlinewidth": 0,
              "ticks": ""
             }
            },
            "type": "scattercarpet"
           }
          ],
          "scattergeo": [
           {
            "marker": {
             "colorbar": {
              "outlinewidth": 0,
              "ticks": ""
             }
            },
            "type": "scattergeo"
           }
          ],
          "scattergl": [
           {
            "marker": {
             "colorbar": {
              "outlinewidth": 0,
              "ticks": ""
             }
            },
            "type": "scattergl"
           }
          ],
          "scattermapbox": [
           {
            "marker": {
             "colorbar": {
              "outlinewidth": 0,
              "ticks": ""
             }
            },
            "type": "scattermapbox"
           }
          ],
          "scatterpolar": [
           {
            "marker": {
             "colorbar": {
              "outlinewidth": 0,
              "ticks": ""
             }
            },
            "type": "scatterpolar"
           }
          ],
          "scatterpolargl": [
           {
            "marker": {
             "colorbar": {
              "outlinewidth": 0,
              "ticks": ""
             }
            },
            "type": "scatterpolargl"
           }
          ],
          "scatterternary": [
           {
            "marker": {
             "colorbar": {
              "outlinewidth": 0,
              "ticks": ""
             }
            },
            "type": "scatterternary"
           }
          ],
          "surface": [
           {
            "colorbar": {
             "outlinewidth": 0,
             "ticks": ""
            },
            "colorscale": [
             [
              0,
              "#0d0887"
             ],
             [
              0.1111111111111111,
              "#46039f"
             ],
             [
              0.2222222222222222,
              "#7201a8"
             ],
             [
              0.3333333333333333,
              "#9c179e"
             ],
             [
              0.4444444444444444,
              "#bd3786"
             ],
             [
              0.5555555555555556,
              "#d8576b"
             ],
             [
              0.6666666666666666,
              "#ed7953"
             ],
             [
              0.7777777777777778,
              "#fb9f3a"
             ],
             [
              0.8888888888888888,
              "#fdca26"
             ],
             [
              1,
              "#f0f921"
             ]
            ],
            "type": "surface"
           }
          ],
          "table": [
           {
            "cells": {
             "fill": {
              "color": "#EBF0F8"
             },
             "line": {
              "color": "white"
             }
            },
            "header": {
             "fill": {
              "color": "#C8D4E3"
             },
             "line": {
              "color": "white"
             }
            },
            "type": "table"
           }
          ]
         },
         "layout": {
          "annotationdefaults": {
           "arrowcolor": "#2a3f5f",
           "arrowhead": 0,
           "arrowwidth": 1
          },
          "autotypenumbers": "strict",
          "coloraxis": {
           "colorbar": {
            "outlinewidth": 0,
            "ticks": ""
           }
          },
          "colorscale": {
           "diverging": [
            [
             0,
             "#8e0152"
            ],
            [
             0.1,
             "#c51b7d"
            ],
            [
             0.2,
             "#de77ae"
            ],
            [
             0.3,
             "#f1b6da"
            ],
            [
             0.4,
             "#fde0ef"
            ],
            [
             0.5,
             "#f7f7f7"
            ],
            [
             0.6,
             "#e6f5d0"
            ],
            [
             0.7,
             "#b8e186"
            ],
            [
             0.8,
             "#7fbc41"
            ],
            [
             0.9,
             "#4d9221"
            ],
            [
             1,
             "#276419"
            ]
           ],
           "sequential": [
            [
             0,
             "#0d0887"
            ],
            [
             0.1111111111111111,
             "#46039f"
            ],
            [
             0.2222222222222222,
             "#7201a8"
            ],
            [
             0.3333333333333333,
             "#9c179e"
            ],
            [
             0.4444444444444444,
             "#bd3786"
            ],
            [
             0.5555555555555556,
             "#d8576b"
            ],
            [
             0.6666666666666666,
             "#ed7953"
            ],
            [
             0.7777777777777778,
             "#fb9f3a"
            ],
            [
             0.8888888888888888,
             "#fdca26"
            ],
            [
             1,
             "#f0f921"
            ]
           ],
           "sequentialminus": [
            [
             0,
             "#0d0887"
            ],
            [
             0.1111111111111111,
             "#46039f"
            ],
            [
             0.2222222222222222,
             "#7201a8"
            ],
            [
             0.3333333333333333,
             "#9c179e"
            ],
            [
             0.4444444444444444,
             "#bd3786"
            ],
            [
             0.5555555555555556,
             "#d8576b"
            ],
            [
             0.6666666666666666,
             "#ed7953"
            ],
            [
             0.7777777777777778,
             "#fb9f3a"
            ],
            [
             0.8888888888888888,
             "#fdca26"
            ],
            [
             1,
             "#f0f921"
            ]
           ]
          },
          "colorway": [
           "#636efa",
           "#EF553B",
           "#00cc96",
           "#ab63fa",
           "#FFA15A",
           "#19d3f3",
           "#FF6692",
           "#B6E880",
           "#FF97FF",
           "#FECB52"
          ],
          "font": {
           "color": "#2a3f5f"
          },
          "geo": {
           "bgcolor": "white",
           "lakecolor": "white",
           "landcolor": "#E5ECF6",
           "showlakes": true,
           "showland": true,
           "subunitcolor": "white"
          },
          "hoverlabel": {
           "align": "left"
          },
          "hovermode": "closest",
          "mapbox": {
           "style": "light"
          },
          "paper_bgcolor": "white",
          "plot_bgcolor": "#E5ECF6",
          "polar": {
           "angularaxis": {
            "gridcolor": "white",
            "linecolor": "white",
            "ticks": ""
           },
           "bgcolor": "#E5ECF6",
           "radialaxis": {
            "gridcolor": "white",
            "linecolor": "white",
            "ticks": ""
           }
          },
          "scene": {
           "xaxis": {
            "backgroundcolor": "#E5ECF6",
            "gridcolor": "white",
            "gridwidth": 2,
            "linecolor": "white",
            "showbackground": true,
            "ticks": "",
            "zerolinecolor": "white"
           },
           "yaxis": {
            "backgroundcolor": "#E5ECF6",
            "gridcolor": "white",
            "gridwidth": 2,
            "linecolor": "white",
            "showbackground": true,
            "ticks": "",
            "zerolinecolor": "white"
           },
           "zaxis": {
            "backgroundcolor": "#E5ECF6",
            "gridcolor": "white",
            "gridwidth": 2,
            "linecolor": "white",
            "showbackground": true,
            "ticks": "",
            "zerolinecolor": "white"
           }
          },
          "shapedefaults": {
           "line": {
            "color": "#2a3f5f"
           }
          },
          "ternary": {
           "aaxis": {
            "gridcolor": "white",
            "linecolor": "white",
            "ticks": ""
           },
           "baxis": {
            "gridcolor": "white",
            "linecolor": "white",
            "ticks": ""
           },
           "bgcolor": "#E5ECF6",
           "caxis": {
            "gridcolor": "white",
            "linecolor": "white",
            "ticks": ""
           }
          },
          "title": {
           "x": 0.05
          },
          "xaxis": {
           "automargin": true,
           "gridcolor": "white",
           "linecolor": "white",
           "ticks": "",
           "title": {
            "standoff": 15
           },
           "zerolinecolor": "white",
           "zerolinewidth": 2
          },
          "yaxis": {
           "automargin": true,
           "gridcolor": "white",
           "linecolor": "white",
           "ticks": "",
           "title": {
            "standoff": 15
           },
           "zerolinecolor": "white",
           "zerolinewidth": 2
          }
         }
        },
        "width": 500,
        "xaxis": {
         "anchor": "y",
         "domain": [
          0,
          1
         ],
         "title": {
          "font": {
           "size": 16
          },
          "text": "教師なしデータ点数"
         },
         "type": "log"
        },
        "yaxis": {
         "anchor": "x",
         "domain": [
          0,
          1
         ],
         "range": [
          0,
          1
         ],
         "side": "left",
         "title": {
          "font": {
           "size": 16
          },
          "text": "AUC"
         }
        }
       }
      }
     },
     "metadata": {},
     "output_type": "display_data"
    }
   ],
   "source": [
    "import plotly.graph_objects as go\n",
    "from plotly.subplots import make_subplots\n",
    "\n",
    "\n",
    "# グラフのデータを準備\n",
    "index = ['l-SVM-p', 'r-SVM-p', 'LogReg-p']\n",
    "colors_mean = ['rgba(0,176,246,1)', 'rgba(231,107,243,1)', 'rgba(21,213,69,1)']  # indexに対応する色\n",
    "colors_std  = ['rgba(0,176,246,0.2)', 'rgba(231,107,243,0.2)', 'rgba(21,213,69,0.2)']  # indexに対応する色\n",
    "\n",
    "\n",
    "# グラフ1: AUCのデータ\n",
    "col_auc = 'auc'\n",
    "tmp_mean_auc = pd.DataFrame([\n",
    "    {info: df.loc['linear svm (L)', col_auc] for info, df in zip(infos, dfs_mean)},\n",
    "    {info: df.loc['non-linear svm (L)', col_auc] for info, df in zip(infos, dfs_mean)},\n",
    "    {info: df.loc['logistic regression (L)', col_auc] for info, df in zip(infos, dfs_mean)}\n",
    "], index=index)\n",
    "tmp_std_auc = pd.DataFrame([\n",
    "    {info: df.loc['linear svm (L)', col_auc] for info, df in zip(infos, dfs_std)},\n",
    "    {info: df.loc['non-linear svm (L)', col_auc] for info, df in zip(infos, dfs_std)},\n",
    "    {info: df.loc['logistic regression (L)', col_auc] for info, df in zip(infos, dfs_std)}\n",
    "], index=index)\n",
    "\n",
    "\n",
    "# サブプロットの作成\n",
    "# fig = make_subplots(rows=1, cols=2, subplot_titles=('AUC', 'ルール違反率'))\n",
    "fig = make_subplots(rows=1, cols=1)\n",
    "\n",
    "# グラフ1: AUC\n",
    "for i in range(len(tmp_mean_auc)):\n",
    "    fig.add_trace(\n",
    "        go.Scatter(\n",
    "            x=tmp_mean_auc.columns,\n",
    "            y=tmp_mean_auc.iloc[i, :],\n",
    "            mode='lines+markers',\n",
    "            name=tmp_mean_auc.index[i],\n",
    "            line=dict(color=colors_mean[i]),  # ラインの色を設定\n",
    "            marker=dict(color=colors_mean[i])  # マーカーの色を設定\n",
    "        ),\n",
    "        row=1, col=1\n",
    "    )\n",
    "    fig.add_trace(\n",
    "        go.Scatter(\n",
    "            x=tmp_mean_auc.columns,\n",
    "            y=tmp_mean_auc.iloc[i, :] + tmp_std_auc.iloc[i, :],\n",
    "            mode='lines',\n",
    "            line=dict(color=colors_std[i]),  # ラインの色を設定\n",
    "            showlegend=False\n",
    "        ),\n",
    "        row=1, col=1\n",
    "    )\n",
    "    fig.add_trace(\n",
    "        go.Scatter(\n",
    "            x=tmp_mean_auc.columns,\n",
    "            y=tmp_mean_auc.iloc[i, :] - tmp_std_auc.iloc[i, :],\n",
    "            mode='lines',\n",
    "            fill='tonexty',\n",
    "            fillcolor=colors_std[i],\n",
    "            line=dict(color='rgba(255,255,255,0)'),\n",
    "            showlegend=False\n",
    "        ),\n",
    "        row=1, col=1\n",
    "    )\n",
    "\n",
    "# x軸の設定\n",
    "fig.update_xaxes(title_text='教師なしデータ点数', row=1, col=1, type='log')\n",
    "\n",
    "# レイアウトの設定\n",
    "fig.update_layout(\n",
    "    height=400,\n",
    "    width=500,\n",
    "    xaxis=dict(\n",
    "        domain=[0, 1],  # 左側のsubplotの幅を調整\n",
    "        title_font=dict(size=16)\n",
    "    ),\n",
    "    legend=dict(\n",
    "        x=0.15,\n",
    "        y=1.15,\n",
    "        orientation='h'  # 水平配置\n",
    "    ),\n",
    "    annotations=[\n",
    "        dict(\n",
    "            xref=\"paper\",\n",
    "            yref=\"paper\",\n",
    "            x=0.00,\n",
    "            y=1.25,\n",
    "            text=\"※ x軸は対数スケール\",\n",
    "            showarrow=False,\n",
    "            font=dict(\n",
    "                size=15,\n",
    "                color=\"black\"\n",
    "            )\n",
    "        )\n",
    "    ]\n",
    ")\n",
    "\n",
    "\n",
    "# y軸の設定\n",
    "fig.update_yaxes(title_text='AUC', range=[0, 1], row=1, col=1, side='left', title_font=dict(size=16))  # col=1のグラフのy軸を左側に配置\n",
    "\n",
    "# グラフの表示\n",
    "fig.show()"
   ]
  },
  {
   "cell_type": "code",
   "execution_count": 56,
   "metadata": {},
   "outputs": [
    {
     "data": {
      "application/vnd.plotly.v1+json": {
       "config": {
        "plotlyServerURL": "https://plot.ly"
       },
       "data": [
        {
         "line": {
          "color": "rgba(0,176,246,1)"
         },
         "marker": {
          "color": "rgba(0,176,246,1)"
         },
         "mode": "lines+markers",
         "name": "l-SVM-p",
         "type": "scatter",
         "x": [
          1,
          5,
          15,
          50,
          100
         ],
         "xaxis": "x",
         "y": [
          0.648199934214133,
          0.5953527767118031,
          0.639276355462968,
          0.6156263362754235,
          0.6614571569541143
         ],
         "yaxis": "y"
        },
        {
         "line": {
          "color": "rgba(0,176,246,0.2)"
         },
         "mode": "lines",
         "showlegend": false,
         "type": "scatter",
         "x": [
          1,
          5,
          15,
          50,
          100
         ],
         "xaxis": "x",
         "y": [
          0.7423497079716251,
          0.6369303851576334,
          0.7125393888390658,
          0.7022617339461549,
          0.7406402330034794
         ],
         "yaxis": "y"
        },
        {
         "fill": "tonexty",
         "fillcolor": "rgba(0,176,246,0.2)",
         "line": {
          "color": "rgba(255,255,255,0)"
         },
         "mode": "lines",
         "showlegend": false,
         "type": "scatter",
         "x": [
          1,
          5,
          15,
          50,
          100
         ],
         "xaxis": "x",
         "y": [
          0.5540501604566409,
          0.5537751682659727,
          0.5660133220868703,
          0.5289909386046922,
          0.5822740809047493
         ],
         "yaxis": "y"
        },
        {
         "line": {
          "color": "rgba(231,107,243,1)"
         },
         "marker": {
          "color": "rgba(231,107,243,1)"
         },
         "mode": "lines+markers",
         "name": "r-SVM-p",
         "type": "scatter",
         "x": [
          1,
          5,
          15,
          50,
          100
         ],
         "xaxis": "x",
         "y": [
          0.6923989912833727,
          0.6505024395592347,
          0.6411734554026643,
          0.6558596019955047,
          0.6161139740145826
         ],
         "yaxis": "y"
        },
        {
         "line": {
          "color": "rgba(231,107,243,0.2)"
         },
         "mode": "lines",
         "showlegend": false,
         "type": "scatter",
         "x": [
          1,
          5,
          15,
          50,
          100
         ],
         "xaxis": "x",
         "y": [
          0.7906654977452949,
          0.7678087514276231,
          0.7795403167350874,
          0.7236125810707588,
          0.748353188877151
         ],
         "yaxis": "y"
        },
        {
         "fill": "tonexty",
         "fillcolor": "rgba(231,107,243,0.2)",
         "line": {
          "color": "rgba(255,255,255,0)"
         },
         "mode": "lines",
         "showlegend": false,
         "type": "scatter",
         "x": [
          1,
          5,
          15,
          50,
          100
         ],
         "xaxis": "x",
         "y": [
          0.5941324848214504,
          0.5331961276908463,
          0.5028065940702413,
          0.5881066229202507,
          0.48387475915201417
         ],
         "yaxis": "y"
        },
        {
         "line": {
          "color": "rgba(21,213,69,1)"
         },
         "marker": {
          "color": "rgba(21,213,69,1)"
         },
         "mode": "lines+markers",
         "name": "LogReg-p",
         "type": "scatter",
         "x": [
          1,
          5,
          15,
          50,
          100
         ],
         "xaxis": "x",
         "y": [
          0.561855161449482,
          0.5436708513787621,
          0.5564497560440765,
          0.5726659722602927,
          0.5668551614494819
         ],
         "yaxis": "y"
        },
        {
         "line": {
          "color": "rgba(21,213,69,0.2)"
         },
         "mode": "lines",
         "showlegend": false,
         "type": "scatter",
         "x": [
          1,
          5,
          15,
          50,
          100
         ],
         "xaxis": "x",
         "y": [
          0.6635271178818967,
          0.647873064058284,
          0.6670491889554004,
          0.6474823662316411,
          0.6317438799009887
         ],
         "yaxis": "y"
        },
        {
         "fill": "tonexty",
         "fillcolor": "rgba(21,213,69,0.2)",
         "line": {
          "color": "rgba(255,255,255,0)"
         },
         "mode": "lines",
         "showlegend": false,
         "type": "scatter",
         "x": [
          1,
          5,
          15,
          50,
          100
         ],
         "xaxis": "x",
         "y": [
          0.4601832050170674,
          0.43946863869924024,
          0.44585032313275264,
          0.49784957828894427,
          0.5019664429979751
         ],
         "yaxis": "y"
        }
       ],
       "layout": {
        "annotations": [
         {
          "font": {
           "color": "black",
           "size": 15
          },
          "showarrow": false,
          "text": "※ x軸は対数スケール",
          "x": 0,
          "xref": "paper",
          "y": 1.25,
          "yref": "paper"
         }
        ],
        "height": 400,
        "legend": {
         "orientation": "h",
         "x": 0.15,
         "y": 1.15
        },
        "template": {
         "data": {
          "bar": [
           {
            "error_x": {
             "color": "#2a3f5f"
            },
            "error_y": {
             "color": "#2a3f5f"
            },
            "marker": {
             "line": {
              "color": "#E5ECF6",
              "width": 0.5
             },
             "pattern": {
              "fillmode": "overlay",
              "size": 10,
              "solidity": 0.2
             }
            },
            "type": "bar"
           }
          ],
          "barpolar": [
           {
            "marker": {
             "line": {
              "color": "#E5ECF6",
              "width": 0.5
             },
             "pattern": {
              "fillmode": "overlay",
              "size": 10,
              "solidity": 0.2
             }
            },
            "type": "barpolar"
           }
          ],
          "carpet": [
           {
            "aaxis": {
             "endlinecolor": "#2a3f5f",
             "gridcolor": "white",
             "linecolor": "white",
             "minorgridcolor": "white",
             "startlinecolor": "#2a3f5f"
            },
            "baxis": {
             "endlinecolor": "#2a3f5f",
             "gridcolor": "white",
             "linecolor": "white",
             "minorgridcolor": "white",
             "startlinecolor": "#2a3f5f"
            },
            "type": "carpet"
           }
          ],
          "choropleth": [
           {
            "colorbar": {
             "outlinewidth": 0,
             "ticks": ""
            },
            "type": "choropleth"
           }
          ],
          "contour": [
           {
            "colorbar": {
             "outlinewidth": 0,
             "ticks": ""
            },
            "colorscale": [
             [
              0,
              "#0d0887"
             ],
             [
              0.1111111111111111,
              "#46039f"
             ],
             [
              0.2222222222222222,
              "#7201a8"
             ],
             [
              0.3333333333333333,
              "#9c179e"
             ],
             [
              0.4444444444444444,
              "#bd3786"
             ],
             [
              0.5555555555555556,
              "#d8576b"
             ],
             [
              0.6666666666666666,
              "#ed7953"
             ],
             [
              0.7777777777777778,
              "#fb9f3a"
             ],
             [
              0.8888888888888888,
              "#fdca26"
             ],
             [
              1,
              "#f0f921"
             ]
            ],
            "type": "contour"
           }
          ],
          "contourcarpet": [
           {
            "colorbar": {
             "outlinewidth": 0,
             "ticks": ""
            },
            "type": "contourcarpet"
           }
          ],
          "heatmap": [
           {
            "colorbar": {
             "outlinewidth": 0,
             "ticks": ""
            },
            "colorscale": [
             [
              0,
              "#0d0887"
             ],
             [
              0.1111111111111111,
              "#46039f"
             ],
             [
              0.2222222222222222,
              "#7201a8"
             ],
             [
              0.3333333333333333,
              "#9c179e"
             ],
             [
              0.4444444444444444,
              "#bd3786"
             ],
             [
              0.5555555555555556,
              "#d8576b"
             ],
             [
              0.6666666666666666,
              "#ed7953"
             ],
             [
              0.7777777777777778,
              "#fb9f3a"
             ],
             [
              0.8888888888888888,
              "#fdca26"
             ],
             [
              1,
              "#f0f921"
             ]
            ],
            "type": "heatmap"
           }
          ],
          "heatmapgl": [
           {
            "colorbar": {
             "outlinewidth": 0,
             "ticks": ""
            },
            "colorscale": [
             [
              0,
              "#0d0887"
             ],
             [
              0.1111111111111111,
              "#46039f"
             ],
             [
              0.2222222222222222,
              "#7201a8"
             ],
             [
              0.3333333333333333,
              "#9c179e"
             ],
             [
              0.4444444444444444,
              "#bd3786"
             ],
             [
              0.5555555555555556,
              "#d8576b"
             ],
             [
              0.6666666666666666,
              "#ed7953"
             ],
             [
              0.7777777777777778,
              "#fb9f3a"
             ],
             [
              0.8888888888888888,
              "#fdca26"
             ],
             [
              1,
              "#f0f921"
             ]
            ],
            "type": "heatmapgl"
           }
          ],
          "histogram": [
           {
            "marker": {
             "pattern": {
              "fillmode": "overlay",
              "size": 10,
              "solidity": 0.2
             }
            },
            "type": "histogram"
           }
          ],
          "histogram2d": [
           {
            "colorbar": {
             "outlinewidth": 0,
             "ticks": ""
            },
            "colorscale": [
             [
              0,
              "#0d0887"
             ],
             [
              0.1111111111111111,
              "#46039f"
             ],
             [
              0.2222222222222222,
              "#7201a8"
             ],
             [
              0.3333333333333333,
              "#9c179e"
             ],
             [
              0.4444444444444444,
              "#bd3786"
             ],
             [
              0.5555555555555556,
              "#d8576b"
             ],
             [
              0.6666666666666666,
              "#ed7953"
             ],
             [
              0.7777777777777778,
              "#fb9f3a"
             ],
             [
              0.8888888888888888,
              "#fdca26"
             ],
             [
              1,
              "#f0f921"
             ]
            ],
            "type": "histogram2d"
           }
          ],
          "histogram2dcontour": [
           {
            "colorbar": {
             "outlinewidth": 0,
             "ticks": ""
            },
            "colorscale": [
             [
              0,
              "#0d0887"
             ],
             [
              0.1111111111111111,
              "#46039f"
             ],
             [
              0.2222222222222222,
              "#7201a8"
             ],
             [
              0.3333333333333333,
              "#9c179e"
             ],
             [
              0.4444444444444444,
              "#bd3786"
             ],
             [
              0.5555555555555556,
              "#d8576b"
             ],
             [
              0.6666666666666666,
              "#ed7953"
             ],
             [
              0.7777777777777778,
              "#fb9f3a"
             ],
             [
              0.8888888888888888,
              "#fdca26"
             ],
             [
              1,
              "#f0f921"
             ]
            ],
            "type": "histogram2dcontour"
           }
          ],
          "mesh3d": [
           {
            "colorbar": {
             "outlinewidth": 0,
             "ticks": ""
            },
            "type": "mesh3d"
           }
          ],
          "parcoords": [
           {
            "line": {
             "colorbar": {
              "outlinewidth": 0,
              "ticks": ""
             }
            },
            "type": "parcoords"
           }
          ],
          "pie": [
           {
            "automargin": true,
            "type": "pie"
           }
          ],
          "scatter": [
           {
            "fillpattern": {
             "fillmode": "overlay",
             "size": 10,
             "solidity": 0.2
            },
            "type": "scatter"
           }
          ],
          "scatter3d": [
           {
            "line": {
             "colorbar": {
              "outlinewidth": 0,
              "ticks": ""
             }
            },
            "marker": {
             "colorbar": {
              "outlinewidth": 0,
              "ticks": ""
             }
            },
            "type": "scatter3d"
           }
          ],
          "scattercarpet": [
           {
            "marker": {
             "colorbar": {
              "outlinewidth": 0,
              "ticks": ""
             }
            },
            "type": "scattercarpet"
           }
          ],
          "scattergeo": [
           {
            "marker": {
             "colorbar": {
              "outlinewidth": 0,
              "ticks": ""
             }
            },
            "type": "scattergeo"
           }
          ],
          "scattergl": [
           {
            "marker": {
             "colorbar": {
              "outlinewidth": 0,
              "ticks": ""
             }
            },
            "type": "scattergl"
           }
          ],
          "scattermapbox": [
           {
            "marker": {
             "colorbar": {
              "outlinewidth": 0,
              "ticks": ""
             }
            },
            "type": "scattermapbox"
           }
          ],
          "scatterpolar": [
           {
            "marker": {
             "colorbar": {
              "outlinewidth": 0,
              "ticks": ""
             }
            },
            "type": "scatterpolar"
           }
          ],
          "scatterpolargl": [
           {
            "marker": {
             "colorbar": {
              "outlinewidth": 0,
              "ticks": ""
             }
            },
            "type": "scatterpolargl"
           }
          ],
          "scatterternary": [
           {
            "marker": {
             "colorbar": {
              "outlinewidth": 0,
              "ticks": ""
             }
            },
            "type": "scatterternary"
           }
          ],
          "surface": [
           {
            "colorbar": {
             "outlinewidth": 0,
             "ticks": ""
            },
            "colorscale": [
             [
              0,
              "#0d0887"
             ],
             [
              0.1111111111111111,
              "#46039f"
             ],
             [
              0.2222222222222222,
              "#7201a8"
             ],
             [
              0.3333333333333333,
              "#9c179e"
             ],
             [
              0.4444444444444444,
              "#bd3786"
             ],
             [
              0.5555555555555556,
              "#d8576b"
             ],
             [
              0.6666666666666666,
              "#ed7953"
             ],
             [
              0.7777777777777778,
              "#fb9f3a"
             ],
             [
              0.8888888888888888,
              "#fdca26"
             ],
             [
              1,
              "#f0f921"
             ]
            ],
            "type": "surface"
           }
          ],
          "table": [
           {
            "cells": {
             "fill": {
              "color": "#EBF0F8"
             },
             "line": {
              "color": "white"
             }
            },
            "header": {
             "fill": {
              "color": "#C8D4E3"
             },
             "line": {
              "color": "white"
             }
            },
            "type": "table"
           }
          ]
         },
         "layout": {
          "annotationdefaults": {
           "arrowcolor": "#2a3f5f",
           "arrowhead": 0,
           "arrowwidth": 1
          },
          "autotypenumbers": "strict",
          "coloraxis": {
           "colorbar": {
            "outlinewidth": 0,
            "ticks": ""
           }
          },
          "colorscale": {
           "diverging": [
            [
             0,
             "#8e0152"
            ],
            [
             0.1,
             "#c51b7d"
            ],
            [
             0.2,
             "#de77ae"
            ],
            [
             0.3,
             "#f1b6da"
            ],
            [
             0.4,
             "#fde0ef"
            ],
            [
             0.5,
             "#f7f7f7"
            ],
            [
             0.6,
             "#e6f5d0"
            ],
            [
             0.7,
             "#b8e186"
            ],
            [
             0.8,
             "#7fbc41"
            ],
            [
             0.9,
             "#4d9221"
            ],
            [
             1,
             "#276419"
            ]
           ],
           "sequential": [
            [
             0,
             "#0d0887"
            ],
            [
             0.1111111111111111,
             "#46039f"
            ],
            [
             0.2222222222222222,
             "#7201a8"
            ],
            [
             0.3333333333333333,
             "#9c179e"
            ],
            [
             0.4444444444444444,
             "#bd3786"
            ],
            [
             0.5555555555555556,
             "#d8576b"
            ],
            [
             0.6666666666666666,
             "#ed7953"
            ],
            [
             0.7777777777777778,
             "#fb9f3a"
            ],
            [
             0.8888888888888888,
             "#fdca26"
            ],
            [
             1,
             "#f0f921"
            ]
           ],
           "sequentialminus": [
            [
             0,
             "#0d0887"
            ],
            [
             0.1111111111111111,
             "#46039f"
            ],
            [
             0.2222222222222222,
             "#7201a8"
            ],
            [
             0.3333333333333333,
             "#9c179e"
            ],
            [
             0.4444444444444444,
             "#bd3786"
            ],
            [
             0.5555555555555556,
             "#d8576b"
            ],
            [
             0.6666666666666666,
             "#ed7953"
            ],
            [
             0.7777777777777778,
             "#fb9f3a"
            ],
            [
             0.8888888888888888,
             "#fdca26"
            ],
            [
             1,
             "#f0f921"
            ]
           ]
          },
          "colorway": [
           "#636efa",
           "#EF553B",
           "#00cc96",
           "#ab63fa",
           "#FFA15A",
           "#19d3f3",
           "#FF6692",
           "#B6E880",
           "#FF97FF",
           "#FECB52"
          ],
          "font": {
           "color": "#2a3f5f"
          },
          "geo": {
           "bgcolor": "white",
           "lakecolor": "white",
           "landcolor": "#E5ECF6",
           "showlakes": true,
           "showland": true,
           "subunitcolor": "white"
          },
          "hoverlabel": {
           "align": "left"
          },
          "hovermode": "closest",
          "mapbox": {
           "style": "light"
          },
          "paper_bgcolor": "white",
          "plot_bgcolor": "#E5ECF6",
          "polar": {
           "angularaxis": {
            "gridcolor": "white",
            "linecolor": "white",
            "ticks": ""
           },
           "bgcolor": "#E5ECF6",
           "radialaxis": {
            "gridcolor": "white",
            "linecolor": "white",
            "ticks": ""
           }
          },
          "scene": {
           "xaxis": {
            "backgroundcolor": "#E5ECF6",
            "gridcolor": "white",
            "gridwidth": 2,
            "linecolor": "white",
            "showbackground": true,
            "ticks": "",
            "zerolinecolor": "white"
           },
           "yaxis": {
            "backgroundcolor": "#E5ECF6",
            "gridcolor": "white",
            "gridwidth": 2,
            "linecolor": "white",
            "showbackground": true,
            "ticks": "",
            "zerolinecolor": "white"
           },
           "zaxis": {
            "backgroundcolor": "#E5ECF6",
            "gridcolor": "white",
            "gridwidth": 2,
            "linecolor": "white",
            "showbackground": true,
            "ticks": "",
            "zerolinecolor": "white"
           }
          },
          "shapedefaults": {
           "line": {
            "color": "#2a3f5f"
           }
          },
          "ternary": {
           "aaxis": {
            "gridcolor": "white",
            "linecolor": "white",
            "ticks": ""
           },
           "baxis": {
            "gridcolor": "white",
            "linecolor": "white",
            "ticks": ""
           },
           "bgcolor": "#E5ECF6",
           "caxis": {
            "gridcolor": "white",
            "linecolor": "white",
            "ticks": ""
           }
          },
          "title": {
           "x": 0.05
          },
          "xaxis": {
           "automargin": true,
           "gridcolor": "white",
           "linecolor": "white",
           "ticks": "",
           "title": {
            "standoff": 15
           },
           "zerolinecolor": "white",
           "zerolinewidth": 2
          },
          "yaxis": {
           "automargin": true,
           "gridcolor": "white",
           "linecolor": "white",
           "ticks": "",
           "title": {
            "standoff": 15
           },
           "zerolinecolor": "white",
           "zerolinewidth": 2
          }
         }
        },
        "width": 500,
        "xaxis": {
         "anchor": "y",
         "domain": [
          0,
          1
         ],
         "title": {
          "font": {
           "size": 16
          },
          "text": "教師なしデータ点数"
         },
         "type": "log"
        },
        "yaxis": {
         "anchor": "x",
         "domain": [
          0,
          1
         ],
         "range": [
          0,
          1
         ],
         "side": "left",
         "title": {
          "font": {
           "size": 16
          },
          "text": "ルール違反率"
         }
        }
       }
      }
     },
     "metadata": {},
     "output_type": "display_data"
    }
   ],
   "source": [
    "import plotly.graph_objects as go\n",
    "from plotly.subplots import make_subplots\n",
    "\n",
    "\n",
    "# グラフのデータを準備\n",
    "index = ['l-SVM-p', 'r-SVM-p', 'LogReg-p']\n",
    "colors_mean = ['rgba(0,176,246,1)', 'rgba(231,107,243,1)', 'rgba(21,213,69,1)']  # indexに対応する色\n",
    "colors_std  = ['rgba(0,176,246,0.2)', 'rgba(231,107,243,0.2)', 'rgba(21,213,69,0.2)']  # indexに対応する色\n",
    "\n",
    "# グラフ2: ルール違反率のデータ\n",
    "col_vr = 'violation_rate'\n",
    "tmp_mean_vr = pd.DataFrame([\n",
    "    {info: df.loc['linear svm (L)', col_vr] for info, df in zip(infos, dfs_mean)},\n",
    "    {info: df.loc['non-linear svm (L)', col_vr] for info, df in zip(infos, dfs_mean)},\n",
    "    {info: df.loc['logistic regression (L)', col_vr] for info, df in zip(infos, dfs_mean)}\n",
    "], index=index)\n",
    "tmp_std_vr = pd.DataFrame([\n",
    "    {info: df.loc['linear svm (L)', col_vr] for info, df in zip(infos, dfs_std)},\n",
    "    {info: df.loc['non-linear svm (L)', col_vr] for info, df in zip(infos, dfs_std)},\n",
    "    {info: df.loc['logistic regression (L)', col_vr] for info, df in zip(infos, dfs_std)}\n",
    "], index=index)\n",
    "\n",
    "\n",
    "# サブプロットの作成\n",
    "# fig = make_subplots(rows=1, cols=2, subplot_titles=('AUC', 'ルール違反率'))\n",
    "fig = make_subplots(rows=1, cols=1)\n",
    "\n",
    "# グラフ2: ルール違反率\n",
    "for i in range(len(tmp_mean_vr)):\n",
    "    fig.add_trace(\n",
    "        go.Scatter(\n",
    "            x=tmp_mean_vr.columns,\n",
    "            y=tmp_mean_vr.iloc[i, :],\n",
    "            mode='lines+markers',\n",
    "            name=tmp_mean_vr.index[i],\n",
    "            line=dict(color=colors_mean[i]),  # ラインの色を設定\n",
    "            marker=dict(color=colors_mean[i]),  # マーカーの色を設定\n",
    "        ),\n",
    "        row=1, col=1\n",
    "    )\n",
    "    fig.add_trace(\n",
    "        go.Scatter(\n",
    "            x=tmp_mean_vr.columns,\n",
    "            y=tmp_mean_vr.iloc[i, :] + tmp_std_vr.iloc[i, :],\n",
    "            mode='lines',\n",
    "            line=dict(color=colors_std[i]),  # ラインの色を設定\n",
    "            showlegend=False\n",
    "        ),\n",
    "        row=1, col=1\n",
    "    )\n",
    "    fig.add_trace(\n",
    "        go.Scatter(\n",
    "            x=tmp_mean_vr.columns,\n",
    "            y=tmp_mean_vr.iloc[i, :] - tmp_std_vr.iloc[i, :],\n",
    "            mode='lines',\n",
    "            fill='tonexty',\n",
    "            fillcolor=colors_std[i],\n",
    "            line=dict(color='rgba(255,255,255,0)'),\n",
    "            showlegend=False\n",
    "        ),\n",
    "        row=1, col=1\n",
    "    )\n",
    "\n",
    "# レイアウトの設定\n",
    "fig.update_layout(\n",
    "    height=400,\n",
    "    width=500,\n",
    "    xaxis=dict(\n",
    "        domain=[0, 1],  # 左側のsubplotの幅を調整\n",
    "        title_font=dict(size=16)\n",
    "    ),\n",
    "    legend=dict(\n",
    "        x=0.15,\n",
    "        y=1.15,\n",
    "        orientation='h'  # 水平配置\n",
    "    ),\n",
    "    annotations=[\n",
    "        dict(\n",
    "            xref=\"paper\",\n",
    "            yref=\"paper\",\n",
    "            x=0.00,\n",
    "            y=1.25,\n",
    "            text=\"※ x軸は対数スケール\",\n",
    "            showarrow=False,\n",
    "            font=dict(\n",
    "                size=15,\n",
    "                color=\"black\"\n",
    "            )\n",
    "        )\n",
    "    ]\n",
    ")\n",
    "\n",
    "# x軸の設定\n",
    "fig.update_xaxes(title_text='教師なしデータ点数', row=1, col=1, type='log')\n",
    "\n",
    "\n",
    "# y軸の設定\n",
    "fig.update_yaxes(title_text='ルール違反率', range=[0, 1], row=1, col=1, side='left', title_font=dict(size=16))  # col=2のグラフのy軸を右側に配置\n",
    "\n",
    "# グラフの表示\n",
    "fig.show()"
   ]
  },
  {
   "cell_type": "code",
   "execution_count": null,
   "metadata": {},
   "outputs": [],
   "source": []
  },
  {
   "cell_type": "code",
   "execution_count": null,
   "metadata": {},
   "outputs": [],
   "source": []
  },
  {
   "cell_type": "code",
   "execution_count": null,
   "metadata": {},
   "outputs": [],
   "source": []
  }
 ],
 "metadata": {
  "kernelspec": {
   "display_name": "myenv",
   "language": "python",
   "name": "python3"
  },
  "language_info": {
   "codemirror_mode": {
    "name": "ipython",
    "version": 3
   },
   "file_extension": ".py",
   "mimetype": "text/x-python",
   "name": "python",
   "nbconvert_exporter": "python",
   "pygments_lexer": "ipython3",
   "version": "3.11.9"
  }
 },
 "nbformat": 4,
 "nbformat_minor": 2
}
