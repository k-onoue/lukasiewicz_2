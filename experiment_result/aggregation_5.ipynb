{
 "cells": [
  {
   "cell_type": "code",
   "execution_count": 2,
   "metadata": {},
   "outputs": [],
   "source": [
    "import json\n",
    "import os\n",
    "\n",
    "import sys\n",
    "project_dir_path = \"/Users/keisukeonoue/ws/lukasiewicz_2\"\n",
    "sys.path.append(project_dir_path)\n",
    "\n",
    "import pandas as pd"
   ]
  },
  {
   "cell_type": "code",
   "execution_count": 3,
   "metadata": {},
   "outputs": [],
   "source": [
    "import os\n",
    "\n",
    "version_nums = [51, 52, 53, 54, 55]\n",
    "\n",
    "# リスト内包表記を使用して複数のファイルパスを生成する\n",
    "result_file_paths = [\n",
    "    os.path.join(project_dir_path, f\"experiment_result/tmp/version_{version_num}/result.json\")\n",
    "    for version_num in version_nums\n",
    "]\n",
    "\n",
    "# result_file_paths = [\n",
    "#     \"./experiments/version_51/result.json\",\n",
    "#     \"./experiments/version_52/result.json\",\n",
    "#     \"./experiments/version_53/result.json\",\n",
    "#     \"./experiments/version_54/result.json\",\n",
    "#     \"./experiments/version_55/result.json\",\n",
    "# ]\n",
    "\n",
    "result_dfs = []\n",
    "infos = []\n",
    "\n",
    "for path in result_file_paths:\n",
    "    with open(path, 'r') as f:\n",
    "        json_data = json.load(f)\n",
    "\n",
    "    infos.append(json_data['rule_thr'])\n",
    "\n",
    "    tmp = []\n",
    "\n",
    "    for fold, _ in json_data[\"result\"].items():\n",
    "        result_df = pd.DataFrame(json_data['result'][fold]).T\n",
    "        tmp.append(result_df)\n",
    "\n",
    "    result_dfs.append(tmp)\n",
    "\n",
    "combined_dfs = [pd.concat(dfs, ignore_index=False) for dfs in result_dfs]\n",
    "dfs_mean = [combined_df.groupby(combined_df.index).mean() for combined_df in combined_dfs]\n",
    "dfs_std = [combined_df.groupby(combined_df.index).std() for combined_df in combined_dfs]"
   ]
  },
  {
   "cell_type": "code",
   "execution_count": 8,
   "metadata": {},
   "outputs": [
    {
     "data": {
      "text/html": [
       "<div>\n",
       "<style scoped>\n",
       "    .dataframe tbody tr th:only-of-type {\n",
       "        vertical-align: middle;\n",
       "    }\n",
       "\n",
       "    .dataframe tbody tr th {\n",
       "        vertical-align: top;\n",
       "    }\n",
       "\n",
       "    .dataframe thead th {\n",
       "        text-align: right;\n",
       "    }\n",
       "</style>\n",
       "<table border=\"1\" class=\"dataframe\">\n",
       "  <thead>\n",
       "    <tr style=\"text-align: right;\">\n",
       "      <th></th>\n",
       "      <th>accuracy</th>\n",
       "      <th>precision</th>\n",
       "      <th>recall</th>\n",
       "      <th>f1</th>\n",
       "      <th>auc</th>\n",
       "      <th>n_violation</th>\n",
       "      <th>n_rule</th>\n",
       "      <th>violation_rate</th>\n",
       "    </tr>\n",
       "  </thead>\n",
       "  <tbody>\n",
       "    <tr>\n",
       "      <th>RuleFit Classifier (conti)</th>\n",
       "      <td>0.732836</td>\n",
       "      <td>0.601979</td>\n",
       "      <td>0.553471</td>\n",
       "      <td>0.571908</td>\n",
       "      <td>0.795116</td>\n",
       "      <td>31.2</td>\n",
       "      <td>35.4</td>\n",
       "      <td>0.882280</td>\n",
       "    </tr>\n",
       "    <tr>\n",
       "      <th>RuleFit Classifier (disc)</th>\n",
       "      <td>0.783582</td>\n",
       "      <td>0.742431</td>\n",
       "      <td>0.521271</td>\n",
       "      <td>0.610252</td>\n",
       "      <td>0.814899</td>\n",
       "      <td>28.8</td>\n",
       "      <td>35.4</td>\n",
       "      <td>0.805753</td>\n",
       "    </tr>\n",
       "    <tr>\n",
       "      <th>linear svm</th>\n",
       "      <td>0.779104</td>\n",
       "      <td>0.711436</td>\n",
       "      <td>0.551175</td>\n",
       "      <td>0.618693</td>\n",
       "      <td>0.837805</td>\n",
       "      <td>31.0</td>\n",
       "      <td>35.4</td>\n",
       "      <td>0.877217</td>\n",
       "    </tr>\n",
       "    <tr>\n",
       "      <th>linear svm (L)</th>\n",
       "      <td>0.447761</td>\n",
       "      <td>0.393894</td>\n",
       "      <td>0.825352</td>\n",
       "      <td>0.501087</td>\n",
       "      <td>0.420218</td>\n",
       "      <td>25.2</td>\n",
       "      <td>35.4</td>\n",
       "      <td>0.704677</td>\n",
       "    </tr>\n",
       "    <tr>\n",
       "      <th>logistic regression</th>\n",
       "      <td>0.782090</td>\n",
       "      <td>0.731143</td>\n",
       "      <td>0.530165</td>\n",
       "      <td>0.612464</td>\n",
       "      <td>0.840573</td>\n",
       "      <td>31.2</td>\n",
       "      <td>35.4</td>\n",
       "      <td>0.882480</td>\n",
       "    </tr>\n",
       "    <tr>\n",
       "      <th>logistic regression (L)</th>\n",
       "      <td>0.770149</td>\n",
       "      <td>0.732412</td>\n",
       "      <td>0.470891</td>\n",
       "      <td>0.570208</td>\n",
       "      <td>0.826615</td>\n",
       "      <td>19.4</td>\n",
       "      <td>35.4</td>\n",
       "      <td>0.551752</td>\n",
       "    </tr>\n",
       "    <tr>\n",
       "      <th>non-linear svm</th>\n",
       "      <td>0.780597</td>\n",
       "      <td>0.759070</td>\n",
       "      <td>0.479714</td>\n",
       "      <td>0.587201</td>\n",
       "      <td>0.838064</td>\n",
       "      <td>32.0</td>\n",
       "      <td>35.4</td>\n",
       "      <td>0.903397</td>\n",
       "    </tr>\n",
       "    <tr>\n",
       "      <th>non-linear svm (L)</th>\n",
       "      <td>0.723881</td>\n",
       "      <td>0.556519</td>\n",
       "      <td>0.733995</td>\n",
       "      <td>0.632270</td>\n",
       "      <td>0.821533</td>\n",
       "      <td>23.6</td>\n",
       "      <td>35.4</td>\n",
       "      <td>0.664370</td>\n",
       "    </tr>\n",
       "    <tr>\n",
       "      <th>tree generator (conti)</th>\n",
       "      <td>0.782090</td>\n",
       "      <td>0.715158</td>\n",
       "      <td>0.568106</td>\n",
       "      <td>0.627460</td>\n",
       "      <td>0.832600</td>\n",
       "      <td>31.0</td>\n",
       "      <td>35.4</td>\n",
       "      <td>0.876120</td>\n",
       "    </tr>\n",
       "    <tr>\n",
       "      <th>tree generator (disc)</th>\n",
       "      <td>0.741791</td>\n",
       "      <td>0.627843</td>\n",
       "      <td>0.557706</td>\n",
       "      <td>0.582608</td>\n",
       "      <td>0.772322</td>\n",
       "      <td>26.6</td>\n",
       "      <td>35.4</td>\n",
       "      <td>0.745353</td>\n",
       "    </tr>\n",
       "  </tbody>\n",
       "</table>\n",
       "</div>"
      ],
      "text/plain": [
       "                            accuracy  precision    recall        f1       auc  \\\n",
       "RuleFit Classifier (conti)  0.732836   0.601979  0.553471  0.571908  0.795116   \n",
       "RuleFit Classifier (disc)   0.783582   0.742431  0.521271  0.610252  0.814899   \n",
       "linear svm                  0.779104   0.711436  0.551175  0.618693  0.837805   \n",
       "linear svm (L)              0.447761   0.393894  0.825352  0.501087  0.420218   \n",
       "logistic regression         0.782090   0.731143  0.530165  0.612464  0.840573   \n",
       "logistic regression (L)     0.770149   0.732412  0.470891  0.570208  0.826615   \n",
       "non-linear svm              0.780597   0.759070  0.479714  0.587201  0.838064   \n",
       "non-linear svm (L)          0.723881   0.556519  0.733995  0.632270  0.821533   \n",
       "tree generator (conti)      0.782090   0.715158  0.568106  0.627460  0.832600   \n",
       "tree generator (disc)       0.741791   0.627843  0.557706  0.582608  0.772322   \n",
       "\n",
       "                            n_violation  n_rule  violation_rate  \n",
       "RuleFit Classifier (conti)         31.2    35.4        0.882280  \n",
       "RuleFit Classifier (disc)          28.8    35.4        0.805753  \n",
       "linear svm                         31.0    35.4        0.877217  \n",
       "linear svm (L)                     25.2    35.4        0.704677  \n",
       "logistic regression                31.2    35.4        0.882480  \n",
       "logistic regression (L)            19.4    35.4        0.551752  \n",
       "non-linear svm                     32.0    35.4        0.903397  \n",
       "non-linear svm (L)                 23.6    35.4        0.664370  \n",
       "tree generator (conti)             31.0    35.4        0.876120  \n",
       "tree generator (disc)              26.6    35.4        0.745353  "
      ]
     },
     "metadata": {},
     "output_type": "display_data"
    },
    {
     "data": {
      "text/html": [
       "<div>\n",
       "<style scoped>\n",
       "    .dataframe tbody tr th:only-of-type {\n",
       "        vertical-align: middle;\n",
       "    }\n",
       "\n",
       "    .dataframe tbody tr th {\n",
       "        vertical-align: top;\n",
       "    }\n",
       "\n",
       "    .dataframe thead th {\n",
       "        text-align: right;\n",
       "    }\n",
       "</style>\n",
       "<table border=\"1\" class=\"dataframe\">\n",
       "  <thead>\n",
       "    <tr style=\"text-align: right;\">\n",
       "      <th></th>\n",
       "      <th>accuracy</th>\n",
       "      <th>precision</th>\n",
       "      <th>recall</th>\n",
       "      <th>f1</th>\n",
       "      <th>auc</th>\n",
       "      <th>n_violation</th>\n",
       "      <th>n_rule</th>\n",
       "      <th>violation_rate</th>\n",
       "    </tr>\n",
       "  </thead>\n",
       "  <tbody>\n",
       "    <tr>\n",
       "      <th>RuleFit Classifier (conti)</th>\n",
       "      <td>0.732836</td>\n",
       "      <td>0.601979</td>\n",
       "      <td>0.553471</td>\n",
       "      <td>0.571908</td>\n",
       "      <td>0.795116</td>\n",
       "      <td>16.6</td>\n",
       "      <td>18.4</td>\n",
       "      <td>0.907283</td>\n",
       "    </tr>\n",
       "    <tr>\n",
       "      <th>RuleFit Classifier (disc)</th>\n",
       "      <td>0.783582</td>\n",
       "      <td>0.742431</td>\n",
       "      <td>0.521271</td>\n",
       "      <td>0.610252</td>\n",
       "      <td>0.814899</td>\n",
       "      <td>14.2</td>\n",
       "      <td>18.4</td>\n",
       "      <td>0.771709</td>\n",
       "    </tr>\n",
       "    <tr>\n",
       "      <th>linear svm</th>\n",
       "      <td>0.779104</td>\n",
       "      <td>0.711436</td>\n",
       "      <td>0.551175</td>\n",
       "      <td>0.618693</td>\n",
       "      <td>0.837805</td>\n",
       "      <td>16.2</td>\n",
       "      <td>18.4</td>\n",
       "      <td>0.883473</td>\n",
       "    </tr>\n",
       "    <tr>\n",
       "      <th>linear svm (L)</th>\n",
       "      <td>0.502985</td>\n",
       "      <td>0.406340</td>\n",
       "      <td>0.920014</td>\n",
       "      <td>0.550820</td>\n",
       "      <td>0.663515</td>\n",
       "      <td>11.8</td>\n",
       "      <td>18.4</td>\n",
       "      <td>0.641176</td>\n",
       "    </tr>\n",
       "    <tr>\n",
       "      <th>logistic regression</th>\n",
       "      <td>0.782090</td>\n",
       "      <td>0.731143</td>\n",
       "      <td>0.530165</td>\n",
       "      <td>0.612464</td>\n",
       "      <td>0.840573</td>\n",
       "      <td>16.4</td>\n",
       "      <td>18.4</td>\n",
       "      <td>0.894585</td>\n",
       "    </tr>\n",
       "    <tr>\n",
       "      <th>logistic regression (L)</th>\n",
       "      <td>0.776119</td>\n",
       "      <td>0.757705</td>\n",
       "      <td>0.470891</td>\n",
       "      <td>0.577723</td>\n",
       "      <td>0.825458</td>\n",
       "      <td>10.0</td>\n",
       "      <td>18.4</td>\n",
       "      <td>0.546218</td>\n",
       "    </tr>\n",
       "    <tr>\n",
       "      <th>non-linear svm</th>\n",
       "      <td>0.780597</td>\n",
       "      <td>0.759070</td>\n",
       "      <td>0.479714</td>\n",
       "      <td>0.587201</td>\n",
       "      <td>0.838064</td>\n",
       "      <td>16.6</td>\n",
       "      <td>18.4</td>\n",
       "      <td>0.904108</td>\n",
       "    </tr>\n",
       "    <tr>\n",
       "      <th>non-linear svm (L)</th>\n",
       "      <td>0.701493</td>\n",
       "      <td>0.531384</td>\n",
       "      <td>0.781061</td>\n",
       "      <td>0.626286</td>\n",
       "      <td>0.827712</td>\n",
       "      <td>13.4</td>\n",
       "      <td>18.4</td>\n",
       "      <td>0.729785</td>\n",
       "    </tr>\n",
       "    <tr>\n",
       "      <th>tree generator (conti)</th>\n",
       "      <td>0.782090</td>\n",
       "      <td>0.715158</td>\n",
       "      <td>0.568106</td>\n",
       "      <td>0.627460</td>\n",
       "      <td>0.832600</td>\n",
       "      <td>16.2</td>\n",
       "      <td>18.4</td>\n",
       "      <td>0.882820</td>\n",
       "    </tr>\n",
       "    <tr>\n",
       "      <th>tree generator (disc)</th>\n",
       "      <td>0.741791</td>\n",
       "      <td>0.627843</td>\n",
       "      <td>0.557706</td>\n",
       "      <td>0.582608</td>\n",
       "      <td>0.772322</td>\n",
       "      <td>14.0</td>\n",
       "      <td>18.4</td>\n",
       "      <td>0.763119</td>\n",
       "    </tr>\n",
       "  </tbody>\n",
       "</table>\n",
       "</div>"
      ],
      "text/plain": [
       "                            accuracy  precision    recall        f1       auc  \\\n",
       "RuleFit Classifier (conti)  0.732836   0.601979  0.553471  0.571908  0.795116   \n",
       "RuleFit Classifier (disc)   0.783582   0.742431  0.521271  0.610252  0.814899   \n",
       "linear svm                  0.779104   0.711436  0.551175  0.618693  0.837805   \n",
       "linear svm (L)              0.502985   0.406340  0.920014  0.550820  0.663515   \n",
       "logistic regression         0.782090   0.731143  0.530165  0.612464  0.840573   \n",
       "logistic regression (L)     0.776119   0.757705  0.470891  0.577723  0.825458   \n",
       "non-linear svm              0.780597   0.759070  0.479714  0.587201  0.838064   \n",
       "non-linear svm (L)          0.701493   0.531384  0.781061  0.626286  0.827712   \n",
       "tree generator (conti)      0.782090   0.715158  0.568106  0.627460  0.832600   \n",
       "tree generator (disc)       0.741791   0.627843  0.557706  0.582608  0.772322   \n",
       "\n",
       "                            n_violation  n_rule  violation_rate  \n",
       "RuleFit Classifier (conti)         16.6    18.4        0.907283  \n",
       "RuleFit Classifier (disc)          14.2    18.4        0.771709  \n",
       "linear svm                         16.2    18.4        0.883473  \n",
       "linear svm (L)                     11.8    18.4        0.641176  \n",
       "logistic regression                16.4    18.4        0.894585  \n",
       "logistic regression (L)            10.0    18.4        0.546218  \n",
       "non-linear svm                     16.6    18.4        0.904108  \n",
       "non-linear svm (L)                 13.4    18.4        0.729785  \n",
       "tree generator (conti)             16.2    18.4        0.882820  \n",
       "tree generator (disc)              14.0    18.4        0.763119  "
      ]
     },
     "metadata": {},
     "output_type": "display_data"
    },
    {
     "data": {
      "text/html": [
       "<div>\n",
       "<style scoped>\n",
       "    .dataframe tbody tr th:only-of-type {\n",
       "        vertical-align: middle;\n",
       "    }\n",
       "\n",
       "    .dataframe tbody tr th {\n",
       "        vertical-align: top;\n",
       "    }\n",
       "\n",
       "    .dataframe thead th {\n",
       "        text-align: right;\n",
       "    }\n",
       "</style>\n",
       "<table border=\"1\" class=\"dataframe\">\n",
       "  <thead>\n",
       "    <tr style=\"text-align: right;\">\n",
       "      <th></th>\n",
       "      <th>accuracy</th>\n",
       "      <th>precision</th>\n",
       "      <th>recall</th>\n",
       "      <th>f1</th>\n",
       "      <th>auc</th>\n",
       "      <th>n_violation</th>\n",
       "      <th>n_rule</th>\n",
       "      <th>violation_rate</th>\n",
       "    </tr>\n",
       "  </thead>\n",
       "  <tbody>\n",
       "    <tr>\n",
       "      <th>RuleFit Classifier (conti)</th>\n",
       "      <td>0.732836</td>\n",
       "      <td>0.601979</td>\n",
       "      <td>0.553471</td>\n",
       "      <td>0.571908</td>\n",
       "      <td>0.795116</td>\n",
       "      <td>9.8</td>\n",
       "      <td>10.4</td>\n",
       "      <td>0.950000</td>\n",
       "    </tr>\n",
       "    <tr>\n",
       "      <th>RuleFit Classifier (disc)</th>\n",
       "      <td>0.783582</td>\n",
       "      <td>0.742431</td>\n",
       "      <td>0.521271</td>\n",
       "      <td>0.610252</td>\n",
       "      <td>0.814899</td>\n",
       "      <td>8.0</td>\n",
       "      <td>10.4</td>\n",
       "      <td>0.787179</td>\n",
       "    </tr>\n",
       "    <tr>\n",
       "      <th>linear svm</th>\n",
       "      <td>0.779104</td>\n",
       "      <td>0.711436</td>\n",
       "      <td>0.551175</td>\n",
       "      <td>0.618693</td>\n",
       "      <td>0.837805</td>\n",
       "      <td>9.2</td>\n",
       "      <td>10.4</td>\n",
       "      <td>0.884615</td>\n",
       "    </tr>\n",
       "    <tr>\n",
       "      <th>linear svm (L)</th>\n",
       "      <td>0.394030</td>\n",
       "      <td>0.359701</td>\n",
       "      <td>0.972727</td>\n",
       "      <td>0.516969</td>\n",
       "      <td>0.380022</td>\n",
       "      <td>7.0</td>\n",
       "      <td>10.4</td>\n",
       "      <td>0.698077</td>\n",
       "    </tr>\n",
       "    <tr>\n",
       "      <th>logistic regression</th>\n",
       "      <td>0.782090</td>\n",
       "      <td>0.731143</td>\n",
       "      <td>0.530165</td>\n",
       "      <td>0.612464</td>\n",
       "      <td>0.840573</td>\n",
       "      <td>9.4</td>\n",
       "      <td>10.4</td>\n",
       "      <td>0.909615</td>\n",
       "    </tr>\n",
       "    <tr>\n",
       "      <th>logistic regression (L)</th>\n",
       "      <td>0.765672</td>\n",
       "      <td>0.710910</td>\n",
       "      <td>0.487739</td>\n",
       "      <td>0.573507</td>\n",
       "      <td>0.825165</td>\n",
       "      <td>5.8</td>\n",
       "      <td>10.4</td>\n",
       "      <td>0.519322</td>\n",
       "    </tr>\n",
       "    <tr>\n",
       "      <th>non-linear svm</th>\n",
       "      <td>0.780597</td>\n",
       "      <td>0.759070</td>\n",
       "      <td>0.479714</td>\n",
       "      <td>0.587201</td>\n",
       "      <td>0.838064</td>\n",
       "      <td>9.6</td>\n",
       "      <td>10.4</td>\n",
       "      <td>0.926282</td>\n",
       "    </tr>\n",
       "    <tr>\n",
       "      <th>non-linear svm (L)</th>\n",
       "      <td>0.711940</td>\n",
       "      <td>0.540642</td>\n",
       "      <td>0.768561</td>\n",
       "      <td>0.632203</td>\n",
       "      <td>0.827700</td>\n",
       "      <td>6.6</td>\n",
       "      <td>10.4</td>\n",
       "      <td>0.643223</td>\n",
       "    </tr>\n",
       "    <tr>\n",
       "      <th>tree generator (conti)</th>\n",
       "      <td>0.782090</td>\n",
       "      <td>0.715158</td>\n",
       "      <td>0.568106</td>\n",
       "      <td>0.627460</td>\n",
       "      <td>0.832600</td>\n",
       "      <td>9.4</td>\n",
       "      <td>10.4</td>\n",
       "      <td>0.909615</td>\n",
       "    </tr>\n",
       "    <tr>\n",
       "      <th>tree generator (disc)</th>\n",
       "      <td>0.741791</td>\n",
       "      <td>0.627843</td>\n",
       "      <td>0.557706</td>\n",
       "      <td>0.582608</td>\n",
       "      <td>0.772322</td>\n",
       "      <td>8.2</td>\n",
       "      <td>10.4</td>\n",
       "      <td>0.812179</td>\n",
       "    </tr>\n",
       "  </tbody>\n",
       "</table>\n",
       "</div>"
      ],
      "text/plain": [
       "                            accuracy  precision    recall        f1       auc  \\\n",
       "RuleFit Classifier (conti)  0.732836   0.601979  0.553471  0.571908  0.795116   \n",
       "RuleFit Classifier (disc)   0.783582   0.742431  0.521271  0.610252  0.814899   \n",
       "linear svm                  0.779104   0.711436  0.551175  0.618693  0.837805   \n",
       "linear svm (L)              0.394030   0.359701  0.972727  0.516969  0.380022   \n",
       "logistic regression         0.782090   0.731143  0.530165  0.612464  0.840573   \n",
       "logistic regression (L)     0.765672   0.710910  0.487739  0.573507  0.825165   \n",
       "non-linear svm              0.780597   0.759070  0.479714  0.587201  0.838064   \n",
       "non-linear svm (L)          0.711940   0.540642  0.768561  0.632203  0.827700   \n",
       "tree generator (conti)      0.782090   0.715158  0.568106  0.627460  0.832600   \n",
       "tree generator (disc)       0.741791   0.627843  0.557706  0.582608  0.772322   \n",
       "\n",
       "                            n_violation  n_rule  violation_rate  \n",
       "RuleFit Classifier (conti)          9.8    10.4        0.950000  \n",
       "RuleFit Classifier (disc)           8.0    10.4        0.787179  \n",
       "linear svm                          9.2    10.4        0.884615  \n",
       "linear svm (L)                      7.0    10.4        0.698077  \n",
       "logistic regression                 9.4    10.4        0.909615  \n",
       "logistic regression (L)             5.8    10.4        0.519322  \n",
       "non-linear svm                      9.6    10.4        0.926282  \n",
       "non-linear svm (L)                  6.6    10.4        0.643223  \n",
       "tree generator (conti)              9.4    10.4        0.909615  \n",
       "tree generator (disc)               8.2    10.4        0.812179  "
      ]
     },
     "metadata": {},
     "output_type": "display_data"
    },
    {
     "data": {
      "text/html": [
       "<div>\n",
       "<style scoped>\n",
       "    .dataframe tbody tr th:only-of-type {\n",
       "        vertical-align: middle;\n",
       "    }\n",
       "\n",
       "    .dataframe tbody tr th {\n",
       "        vertical-align: top;\n",
       "    }\n",
       "\n",
       "    .dataframe thead th {\n",
       "        text-align: right;\n",
       "    }\n",
       "</style>\n",
       "<table border=\"1\" class=\"dataframe\">\n",
       "  <thead>\n",
       "    <tr style=\"text-align: right;\">\n",
       "      <th></th>\n",
       "      <th>accuracy</th>\n",
       "      <th>precision</th>\n",
       "      <th>recall</th>\n",
       "      <th>f1</th>\n",
       "      <th>auc</th>\n",
       "      <th>n_violation</th>\n",
       "      <th>n_rule</th>\n",
       "      <th>violation_rate</th>\n",
       "    </tr>\n",
       "  </thead>\n",
       "  <tbody>\n",
       "    <tr>\n",
       "      <th>RuleFit Classifier (conti)</th>\n",
       "      <td>0.732836</td>\n",
       "      <td>0.601979</td>\n",
       "      <td>0.553471</td>\n",
       "      <td>0.571908</td>\n",
       "      <td>0.795116</td>\n",
       "      <td>4.2</td>\n",
       "      <td>4.2</td>\n",
       "      <td>1.000000</td>\n",
       "    </tr>\n",
       "    <tr>\n",
       "      <th>RuleFit Classifier (disc)</th>\n",
       "      <td>0.783582</td>\n",
       "      <td>0.742431</td>\n",
       "      <td>0.521271</td>\n",
       "      <td>0.610252</td>\n",
       "      <td>0.814899</td>\n",
       "      <td>3.4</td>\n",
       "      <td>4.2</td>\n",
       "      <td>0.804762</td>\n",
       "    </tr>\n",
       "    <tr>\n",
       "      <th>linear svm</th>\n",
       "      <td>0.779104</td>\n",
       "      <td>0.711436</td>\n",
       "      <td>0.551175</td>\n",
       "      <td>0.618693</td>\n",
       "      <td>0.837805</td>\n",
       "      <td>3.8</td>\n",
       "      <td>4.2</td>\n",
       "      <td>0.866667</td>\n",
       "    </tr>\n",
       "    <tr>\n",
       "      <th>linear svm (L)</th>\n",
       "      <td>0.513433</td>\n",
       "      <td>0.410299</td>\n",
       "      <td>0.933991</td>\n",
       "      <td>0.560988</td>\n",
       "      <td>0.679017</td>\n",
       "      <td>2.8</td>\n",
       "      <td>4.2</td>\n",
       "      <td>0.621429</td>\n",
       "    </tr>\n",
       "    <tr>\n",
       "      <th>logistic regression</th>\n",
       "      <td>0.782090</td>\n",
       "      <td>0.731143</td>\n",
       "      <td>0.530165</td>\n",
       "      <td>0.612464</td>\n",
       "      <td>0.840573</td>\n",
       "      <td>4.0</td>\n",
       "      <td>4.2</td>\n",
       "      <td>0.966667</td>\n",
       "    </tr>\n",
       "    <tr>\n",
       "      <th>logistic regression (L)</th>\n",
       "      <td>0.768657</td>\n",
       "      <td>0.716496</td>\n",
       "      <td>0.496076</td>\n",
       "      <td>0.581533</td>\n",
       "      <td>0.825359</td>\n",
       "      <td>2.6</td>\n",
       "      <td>4.2</td>\n",
       "      <td>0.652381</td>\n",
       "    </tr>\n",
       "    <tr>\n",
       "      <th>non-linear svm</th>\n",
       "      <td>0.780597</td>\n",
       "      <td>0.759070</td>\n",
       "      <td>0.479714</td>\n",
       "      <td>0.587201</td>\n",
       "      <td>0.838064</td>\n",
       "      <td>4.0</td>\n",
       "      <td>4.2</td>\n",
       "      <td>0.966667</td>\n",
       "    </tr>\n",
       "    <tr>\n",
       "      <th>non-linear svm (L)</th>\n",
       "      <td>0.714925</td>\n",
       "      <td>0.549322</td>\n",
       "      <td>0.748526</td>\n",
       "      <td>0.627122</td>\n",
       "      <td>0.826837</td>\n",
       "      <td>2.2</td>\n",
       "      <td>4.2</td>\n",
       "      <td>0.535714</td>\n",
       "    </tr>\n",
       "    <tr>\n",
       "      <th>tree generator (conti)</th>\n",
       "      <td>0.782090</td>\n",
       "      <td>0.715158</td>\n",
       "      <td>0.568106</td>\n",
       "      <td>0.627460</td>\n",
       "      <td>0.832600</td>\n",
       "      <td>4.0</td>\n",
       "      <td>4.2</td>\n",
       "      <td>0.966667</td>\n",
       "    </tr>\n",
       "    <tr>\n",
       "      <th>tree generator (disc)</th>\n",
       "      <td>0.741791</td>\n",
       "      <td>0.627843</td>\n",
       "      <td>0.557706</td>\n",
       "      <td>0.582608</td>\n",
       "      <td>0.772322</td>\n",
       "      <td>3.6</td>\n",
       "      <td>4.2</td>\n",
       "      <td>0.904762</td>\n",
       "    </tr>\n",
       "  </tbody>\n",
       "</table>\n",
       "</div>"
      ],
      "text/plain": [
       "                            accuracy  precision    recall        f1       auc  \\\n",
       "RuleFit Classifier (conti)  0.732836   0.601979  0.553471  0.571908  0.795116   \n",
       "RuleFit Classifier (disc)   0.783582   0.742431  0.521271  0.610252  0.814899   \n",
       "linear svm                  0.779104   0.711436  0.551175  0.618693  0.837805   \n",
       "linear svm (L)              0.513433   0.410299  0.933991  0.560988  0.679017   \n",
       "logistic regression         0.782090   0.731143  0.530165  0.612464  0.840573   \n",
       "logistic regression (L)     0.768657   0.716496  0.496076  0.581533  0.825359   \n",
       "non-linear svm              0.780597   0.759070  0.479714  0.587201  0.838064   \n",
       "non-linear svm (L)          0.714925   0.549322  0.748526  0.627122  0.826837   \n",
       "tree generator (conti)      0.782090   0.715158  0.568106  0.627460  0.832600   \n",
       "tree generator (disc)       0.741791   0.627843  0.557706  0.582608  0.772322   \n",
       "\n",
       "                            n_violation  n_rule  violation_rate  \n",
       "RuleFit Classifier (conti)          4.2     4.2        1.000000  \n",
       "RuleFit Classifier (disc)           3.4     4.2        0.804762  \n",
       "linear svm                          3.8     4.2        0.866667  \n",
       "linear svm (L)                      2.8     4.2        0.621429  \n",
       "logistic regression                 4.0     4.2        0.966667  \n",
       "logistic regression (L)             2.6     4.2        0.652381  \n",
       "non-linear svm                      4.0     4.2        0.966667  \n",
       "non-linear svm (L)                  2.2     4.2        0.535714  \n",
       "tree generator (conti)              4.0     4.2        0.966667  \n",
       "tree generator (disc)               3.6     4.2        0.904762  "
      ]
     },
     "metadata": {},
     "output_type": "display_data"
    },
    {
     "data": {
      "text/html": [
       "<div>\n",
       "<style scoped>\n",
       "    .dataframe tbody tr th:only-of-type {\n",
       "        vertical-align: middle;\n",
       "    }\n",
       "\n",
       "    .dataframe tbody tr th {\n",
       "        vertical-align: top;\n",
       "    }\n",
       "\n",
       "    .dataframe thead th {\n",
       "        text-align: right;\n",
       "    }\n",
       "</style>\n",
       "<table border=\"1\" class=\"dataframe\">\n",
       "  <thead>\n",
       "    <tr style=\"text-align: right;\">\n",
       "      <th></th>\n",
       "      <th>accuracy</th>\n",
       "      <th>precision</th>\n",
       "      <th>recall</th>\n",
       "      <th>f1</th>\n",
       "      <th>auc</th>\n",
       "      <th>n_violation</th>\n",
       "      <th>n_rule</th>\n",
       "      <th>violation_rate</th>\n",
       "    </tr>\n",
       "  </thead>\n",
       "  <tbody>\n",
       "    <tr>\n",
       "      <th>RuleFit Classifier (conti)</th>\n",
       "      <td>0.732836</td>\n",
       "      <td>0.601979</td>\n",
       "      <td>0.553471</td>\n",
       "      <td>0.571908</td>\n",
       "      <td>0.795116</td>\n",
       "      <td>3.0</td>\n",
       "      <td>3.0</td>\n",
       "      <td>1.00</td>\n",
       "    </tr>\n",
       "    <tr>\n",
       "      <th>RuleFit Classifier (disc)</th>\n",
       "      <td>0.783582</td>\n",
       "      <td>0.742431</td>\n",
       "      <td>0.521271</td>\n",
       "      <td>0.610252</td>\n",
       "      <td>0.814899</td>\n",
       "      <td>2.2</td>\n",
       "      <td>3.0</td>\n",
       "      <td>0.78</td>\n",
       "    </tr>\n",
       "    <tr>\n",
       "      <th>linear svm</th>\n",
       "      <td>0.779104</td>\n",
       "      <td>0.711436</td>\n",
       "      <td>0.551175</td>\n",
       "      <td>0.618693</td>\n",
       "      <td>0.837805</td>\n",
       "      <td>2.6</td>\n",
       "      <td>3.0</td>\n",
       "      <td>0.86</td>\n",
       "    </tr>\n",
       "    <tr>\n",
       "      <th>linear svm (L)</th>\n",
       "      <td>0.470149</td>\n",
       "      <td>0.401144</td>\n",
       "      <td>0.876786</td>\n",
       "      <td>0.524115</td>\n",
       "      <td>0.546588</td>\n",
       "      <td>1.8</td>\n",
       "      <td>3.0</td>\n",
       "      <td>0.54</td>\n",
       "    </tr>\n",
       "    <tr>\n",
       "      <th>logistic regression</th>\n",
       "      <td>0.782090</td>\n",
       "      <td>0.731143</td>\n",
       "      <td>0.530165</td>\n",
       "      <td>0.612464</td>\n",
       "      <td>0.840573</td>\n",
       "      <td>2.8</td>\n",
       "      <td>3.0</td>\n",
       "      <td>0.96</td>\n",
       "    </tr>\n",
       "    <tr>\n",
       "      <th>logistic regression (L)</th>\n",
       "      <td>0.768657</td>\n",
       "      <td>0.716496</td>\n",
       "      <td>0.496076</td>\n",
       "      <td>0.581533</td>\n",
       "      <td>0.825061</td>\n",
       "      <td>2.0</td>\n",
       "      <td>3.0</td>\n",
       "      <td>0.68</td>\n",
       "    </tr>\n",
       "    <tr>\n",
       "      <th>non-linear svm</th>\n",
       "      <td>0.780597</td>\n",
       "      <td>0.759070</td>\n",
       "      <td>0.479714</td>\n",
       "      <td>0.587201</td>\n",
       "      <td>0.838064</td>\n",
       "      <td>2.8</td>\n",
       "      <td>3.0</td>\n",
       "      <td>0.96</td>\n",
       "    </tr>\n",
       "    <tr>\n",
       "      <th>non-linear svm (L)</th>\n",
       "      <td>0.708955</td>\n",
       "      <td>0.538653</td>\n",
       "      <td>0.761767</td>\n",
       "      <td>0.626392</td>\n",
       "      <td>0.826895</td>\n",
       "      <td>1.4</td>\n",
       "      <td>3.0</td>\n",
       "      <td>0.40</td>\n",
       "    </tr>\n",
       "    <tr>\n",
       "      <th>tree generator (conti)</th>\n",
       "      <td>0.782090</td>\n",
       "      <td>0.715158</td>\n",
       "      <td>0.568106</td>\n",
       "      <td>0.627460</td>\n",
       "      <td>0.832600</td>\n",
       "      <td>2.8</td>\n",
       "      <td>3.0</td>\n",
       "      <td>0.96</td>\n",
       "    </tr>\n",
       "    <tr>\n",
       "      <th>tree generator (disc)</th>\n",
       "      <td>0.741791</td>\n",
       "      <td>0.627843</td>\n",
       "      <td>0.557706</td>\n",
       "      <td>0.582608</td>\n",
       "      <td>0.772322</td>\n",
       "      <td>2.4</td>\n",
       "      <td>3.0</td>\n",
       "      <td>0.88</td>\n",
       "    </tr>\n",
       "  </tbody>\n",
       "</table>\n",
       "</div>"
      ],
      "text/plain": [
       "                            accuracy  precision    recall        f1       auc  \\\n",
       "RuleFit Classifier (conti)  0.732836   0.601979  0.553471  0.571908  0.795116   \n",
       "RuleFit Classifier (disc)   0.783582   0.742431  0.521271  0.610252  0.814899   \n",
       "linear svm                  0.779104   0.711436  0.551175  0.618693  0.837805   \n",
       "linear svm (L)              0.470149   0.401144  0.876786  0.524115  0.546588   \n",
       "logistic regression         0.782090   0.731143  0.530165  0.612464  0.840573   \n",
       "logistic regression (L)     0.768657   0.716496  0.496076  0.581533  0.825061   \n",
       "non-linear svm              0.780597   0.759070  0.479714  0.587201  0.838064   \n",
       "non-linear svm (L)          0.708955   0.538653  0.761767  0.626392  0.826895   \n",
       "tree generator (conti)      0.782090   0.715158  0.568106  0.627460  0.832600   \n",
       "tree generator (disc)       0.741791   0.627843  0.557706  0.582608  0.772322   \n",
       "\n",
       "                            n_violation  n_rule  violation_rate  \n",
       "RuleFit Classifier (conti)          3.0     3.0            1.00  \n",
       "RuleFit Classifier (disc)           2.2     3.0            0.78  \n",
       "linear svm                          2.6     3.0            0.86  \n",
       "linear svm (L)                      1.8     3.0            0.54  \n",
       "logistic regression                 2.8     3.0            0.96  \n",
       "logistic regression (L)             2.0     3.0            0.68  \n",
       "non-linear svm                      2.8     3.0            0.96  \n",
       "non-linear svm (L)                  1.4     3.0            0.40  \n",
       "tree generator (conti)              2.8     3.0            0.96  \n",
       "tree generator (disc)               2.4     3.0            0.88  "
      ]
     },
     "metadata": {},
     "output_type": "display_data"
    }
   ],
   "source": [
    "for df in dfs_mean:\n",
    "    display(df)"
   ]
  },
  {
   "cell_type": "code",
   "execution_count": 10,
   "metadata": {},
   "outputs": [
    {
     "data": {
      "text/plain": [
       "Index(['RuleFit Classifier (conti)', 'RuleFit Classifier (disc)', 'linear svm',\n",
       "       'linear svm (L)', 'logistic regression', 'logistic regression (L)',\n",
       "       'non-linear svm', 'non-linear svm (L)', 'tree generator (conti)',\n",
       "       'tree generator (disc)'],\n",
       "      dtype='object')"
      ]
     },
     "execution_count": 10,
     "metadata": {},
     "output_type": "execute_result"
    }
   ],
   "source": [
    "dfs_mean[0].index"
   ]
  },
  {
   "cell_type": "code",
   "execution_count": null,
   "metadata": {},
   "outputs": [],
   "source": []
  },
  {
   "cell_type": "code",
   "execution_count": 4,
   "metadata": {},
   "outputs": [
    {
     "data": {
      "text/plain": [
       "[0, 0.2, 0.4, 0.6, 0.8]"
      ]
     },
     "execution_count": 4,
     "metadata": {},
     "output_type": "execute_result"
    }
   ],
   "source": [
    "infos"
   ]
  },
  {
   "cell_type": "code",
   "execution_count": 6,
   "metadata": {},
   "outputs": [
    {
     "data": {
      "application/vnd.plotly.v1+json": {
       "config": {
        "plotlyServerURL": "https://plot.ly"
       },
       "data": [
        {
         "line": {
          "color": "rgba(0,176,246,1)"
         },
         "marker": {
          "color": "rgba(0,176,246,1)"
         },
         "mode": "lines+markers",
         "name": "l-SVM-p",
         "type": "scatter",
         "x": [
          0,
          0.2,
          0.4,
          0.6,
          0.8
         ],
         "xaxis": "x",
         "y": [
          0.42021761166823557,
          0.6635149853562989,
          0.380021583273939,
          0.6790165091581887,
          0.5465879634313076
         ],
         "yaxis": "y"
        },
        {
         "line": {
          "color": "rgba(0,176,246,0.2)"
         },
         "mode": "lines",
         "showlegend": false,
         "type": "scatter",
         "x": [
          0,
          0.2,
          0.4,
          0.6,
          0.8
         ],
         "xaxis": "x",
         "y": [
          0.7162936097998389,
          0.9163329618874421,
          0.6173441236764214,
          0.9158205811220307,
          0.8487490004725067
         ],
         "yaxis": "y"
        },
        {
         "fill": "tonexty",
         "fillcolor": "rgba(0,176,246,0.2)",
         "line": {
          "color": "rgba(255,255,255,0)"
         },
         "mode": "lines",
         "showlegend": false,
         "type": "scatter",
         "x": [
          0,
          0.2,
          0.4,
          0.6,
          0.8
         ],
         "xaxis": "x",
         "y": [
          0.12414161353663217,
          0.4106970088251558,
          0.14269904287145657,
          0.44221243719434666,
          0.24442692639010838
         ],
         "yaxis": "y"
        },
        {
         "line": {
          "color": "rgba(231,107,243,1)"
         },
         "marker": {
          "color": "rgba(231,107,243,1)"
         },
         "mode": "lines+markers",
         "name": "r-SVM-p",
         "type": "scatter",
         "x": [
          0,
          0.2,
          0.4,
          0.6,
          0.8
         ],
         "xaxis": "x",
         "y": [
          0.8215332208919535,
          0.8277116760352733,
          0.8276997009242966,
          0.8268370911921481,
          0.8268948257484212
         ],
         "yaxis": "y"
        },
        {
         "line": {
          "color": "rgba(231,107,243,0.2)"
         },
         "mode": "lines",
         "showlegend": false,
         "type": "scatter",
         "x": [
          0,
          0.2,
          0.4,
          0.6,
          0.8
         ],
         "xaxis": "x",
         "y": [
          0.869312870123554,
          0.8722154014968634,
          0.8711272977980038,
          0.8679614694523037,
          0.8683772649201801
         ],
         "yaxis": "y"
        },
        {
         "fill": "tonexty",
         "fillcolor": "rgba(231,107,243,0.2)",
         "line": {
          "color": "rgba(255,255,255,0)"
         },
         "mode": "lines",
         "showlegend": false,
         "type": "scatter",
         "x": [
          0,
          0.2,
          0.4,
          0.6,
          0.8
         ],
         "xaxis": "x",
         "y": [
          0.773753571660353,
          0.7832079505736832,
          0.7842721040505893,
          0.7857127129319925,
          0.7854123865766623
         ],
         "yaxis": "y"
        },
        {
         "line": {
          "color": "rgba(21,213,69,1)"
         },
         "marker": {
          "color": "rgba(21,213,69,1)"
         },
         "mode": "lines+markers",
         "name": "LogReg-p",
         "type": "scatter",
         "x": [
          0,
          0.2,
          0.4,
          0.6,
          0.8
         ],
         "xaxis": "x",
         "y": [
          0.8266147184864916,
          0.8254581328387876,
          0.8251652438128261,
          0.8253587085504999,
          0.8250611679268722
         ],
         "yaxis": "y"
        },
        {
         "line": {
          "color": "rgba(21,213,69,0.2)"
         },
         "mode": "lines",
         "showlegend": false,
         "type": "scatter",
         "x": [
          0,
          0.2,
          0.4,
          0.6,
          0.8
         ],
         "xaxis": "x",
         "y": [
          0.8773668800407047,
          0.8795512587137133,
          0.8781583388334948,
          0.8781333239106237,
          0.8779422639417166
         ],
         "yaxis": "y"
        },
        {
         "fill": "tonexty",
         "fillcolor": "rgba(21,213,69,0.2)",
         "line": {
          "color": "rgba(255,255,255,0)"
         },
         "mode": "lines",
         "showlegend": false,
         "type": "scatter",
         "x": [
          0,
          0.2,
          0.4,
          0.6,
          0.8
         ],
         "xaxis": "x",
         "y": [
          0.7758625569322785,
          0.7713650069638618,
          0.7721721487921573,
          0.772584093190376,
          0.7721800719120279
         ],
         "yaxis": "y"
        },
        {
         "line": {
          "color": "rgba(0,176,246,1)"
         },
         "marker": {
          "color": "rgba(0,176,246,1)"
         },
         "mode": "lines+markers",
         "name": "l-SVM-p",
         "showlegend": false,
         "type": "scatter",
         "x": [
          0,
          0.2,
          0.4,
          0.6,
          0.8
         ],
         "xaxis": "x2",
         "y": [
          0.7046774846390519,
          0.6411764705882353,
          0.698076923076923,
          0.6214285714285714,
          0.54
         ],
         "yaxis": "y2"
        },
        {
         "line": {
          "color": "rgba(0,176,246,0.2)"
         },
         "mode": "lines",
         "showlegend": false,
         "type": "scatter",
         "x": [
          0,
          0.2,
          0.4,
          0.6,
          0.8
         ],
         "xaxis": "x2",
         "y": [
          0.8145594372480365,
          0.7538244348084838,
          0.8694598965687284,
          0.7919619483759046,
          0.8977708763999663
         ],
         "yaxis": "y2"
        },
        {
         "fill": "tonexty",
         "fillcolor": "rgba(0,176,246,0.2)",
         "line": {
          "color": "rgba(255,255,255,0)"
         },
         "mode": "lines",
         "showlegend": false,
         "type": "scatter",
         "x": [
          0,
          0.2,
          0.4,
          0.6,
          0.8
         ],
         "xaxis": "x2",
         "y": [
          0.5947955320300673,
          0.5285285063679869,
          0.5266939495851177,
          0.45089519448123827,
          0.18222912360003374
         ],
         "yaxis": "y2"
        },
        {
         "line": {
          "color": "rgba(231,107,243,1)"
         },
         "marker": {
          "color": "rgba(231,107,243,1)"
         },
         "mode": "lines+markers",
         "name": "r-SVM-p",
         "showlegend": false,
         "type": "scatter",
         "x": [
          0,
          0.2,
          0.4,
          0.6,
          0.8
         ],
         "xaxis": "x2",
         "y": [
          0.6643695029090566,
          0.7297852474323062,
          0.6432234432234433,
          0.5357142857142857,
          0.4
         ],
         "yaxis": "y2"
        },
        {
         "line": {
          "color": "rgba(231,107,243,0.2)"
         },
         "mode": "lines",
         "showlegend": false,
         "type": "scatter",
         "x": [
          0,
          0.2,
          0.4,
          0.6,
          0.8
         ],
         "xaxis": "x2",
         "y": [
          0.7794436949569492,
          0.8346551136279057,
          0.7809345397025105,
          0.6594322005406341,
          0.6345207879911715
         ],
         "yaxis": "y2"
        },
        {
         "fill": "tonexty",
         "fillcolor": "rgba(231,107,243,0.2)",
         "line": {
          "color": "rgba(255,255,255,0)"
         },
         "mode": "lines",
         "showlegend": false,
         "type": "scatter",
         "x": [
          0,
          0.2,
          0.4,
          0.6,
          0.8
         ],
         "xaxis": "x2",
         "y": [
          0.549295310861164,
          0.6249153812367068,
          0.5055123467443761,
          0.4119963708879373,
          0.16547921200882854
         ],
         "yaxis": "y2"
        },
        {
         "line": {
          "color": "rgba(21,213,69,1)"
         },
         "marker": {
          "color": "rgba(21,213,69,1)"
         },
         "mode": "lines+markers",
         "name": "LogReg-p",
         "showlegend": false,
         "type": "scatter",
         "x": [
          0,
          0.2,
          0.4,
          0.6,
          0.8
         ],
         "xaxis": "x2",
         "y": [
          0.5517519408199455,
          0.546218487394958,
          0.5193223443223444,
          0.6523809523809524,
          0.6799999999999999
         ],
         "yaxis": "y2"
        },
        {
         "line": {
          "color": "rgba(21,213,69,0.2)"
         },
         "mode": "lines",
         "showlegend": false,
         "type": "scatter",
         "x": [
          0,
          0.2,
          0.4,
          0.6,
          0.8
         ],
         "xaxis": "x2",
         "y": [
          0.6676905633403186,
          0.6259828206593506,
          0.7192845828042338,
          0.9024376352974499,
          0.8967948338867879
         ],
         "yaxis": "y2"
        },
        {
         "fill": "tonexty",
         "fillcolor": "rgba(21,213,69,0.2)",
         "line": {
          "color": "rgba(255,255,255,0)"
         },
         "mode": "lines",
         "showlegend": false,
         "type": "scatter",
         "x": [
          0,
          0.2,
          0.4,
          0.6,
          0.8
         ],
         "xaxis": "x2",
         "y": [
          0.43581331829957237,
          0.46645415413056546,
          0.31936010584045493,
          0.4023242694644548,
          0.46320516611321194
         ],
         "yaxis": "y2"
        }
       ],
       "layout": {
        "height": 400,
        "legend": {
         "orientation": "h",
         "x": 0.5,
         "y": 1.15
        },
        "template": {
         "data": {
          "bar": [
           {
            "error_x": {
             "color": "#2a3f5f"
            },
            "error_y": {
             "color": "#2a3f5f"
            },
            "marker": {
             "line": {
              "color": "#E5ECF6",
              "width": 0.5
             },
             "pattern": {
              "fillmode": "overlay",
              "size": 10,
              "solidity": 0.2
             }
            },
            "type": "bar"
           }
          ],
          "barpolar": [
           {
            "marker": {
             "line": {
              "color": "#E5ECF6",
              "width": 0.5
             },
             "pattern": {
              "fillmode": "overlay",
              "size": 10,
              "solidity": 0.2
             }
            },
            "type": "barpolar"
           }
          ],
          "carpet": [
           {
            "aaxis": {
             "endlinecolor": "#2a3f5f",
             "gridcolor": "white",
             "linecolor": "white",
             "minorgridcolor": "white",
             "startlinecolor": "#2a3f5f"
            },
            "baxis": {
             "endlinecolor": "#2a3f5f",
             "gridcolor": "white",
             "linecolor": "white",
             "minorgridcolor": "white",
             "startlinecolor": "#2a3f5f"
            },
            "type": "carpet"
           }
          ],
          "choropleth": [
           {
            "colorbar": {
             "outlinewidth": 0,
             "ticks": ""
            },
            "type": "choropleth"
           }
          ],
          "contour": [
           {
            "colorbar": {
             "outlinewidth": 0,
             "ticks": ""
            },
            "colorscale": [
             [
              0,
              "#0d0887"
             ],
             [
              0.1111111111111111,
              "#46039f"
             ],
             [
              0.2222222222222222,
              "#7201a8"
             ],
             [
              0.3333333333333333,
              "#9c179e"
             ],
             [
              0.4444444444444444,
              "#bd3786"
             ],
             [
              0.5555555555555556,
              "#d8576b"
             ],
             [
              0.6666666666666666,
              "#ed7953"
             ],
             [
              0.7777777777777778,
              "#fb9f3a"
             ],
             [
              0.8888888888888888,
              "#fdca26"
             ],
             [
              1,
              "#f0f921"
             ]
            ],
            "type": "contour"
           }
          ],
          "contourcarpet": [
           {
            "colorbar": {
             "outlinewidth": 0,
             "ticks": ""
            },
            "type": "contourcarpet"
           }
          ],
          "heatmap": [
           {
            "colorbar": {
             "outlinewidth": 0,
             "ticks": ""
            },
            "colorscale": [
             [
              0,
              "#0d0887"
             ],
             [
              0.1111111111111111,
              "#46039f"
             ],
             [
              0.2222222222222222,
              "#7201a8"
             ],
             [
              0.3333333333333333,
              "#9c179e"
             ],
             [
              0.4444444444444444,
              "#bd3786"
             ],
             [
              0.5555555555555556,
              "#d8576b"
             ],
             [
              0.6666666666666666,
              "#ed7953"
             ],
             [
              0.7777777777777778,
              "#fb9f3a"
             ],
             [
              0.8888888888888888,
              "#fdca26"
             ],
             [
              1,
              "#f0f921"
             ]
            ],
            "type": "heatmap"
           }
          ],
          "heatmapgl": [
           {
            "colorbar": {
             "outlinewidth": 0,
             "ticks": ""
            },
            "colorscale": [
             [
              0,
              "#0d0887"
             ],
             [
              0.1111111111111111,
              "#46039f"
             ],
             [
              0.2222222222222222,
              "#7201a8"
             ],
             [
              0.3333333333333333,
              "#9c179e"
             ],
             [
              0.4444444444444444,
              "#bd3786"
             ],
             [
              0.5555555555555556,
              "#d8576b"
             ],
             [
              0.6666666666666666,
              "#ed7953"
             ],
             [
              0.7777777777777778,
              "#fb9f3a"
             ],
             [
              0.8888888888888888,
              "#fdca26"
             ],
             [
              1,
              "#f0f921"
             ]
            ],
            "type": "heatmapgl"
           }
          ],
          "histogram": [
           {
            "marker": {
             "pattern": {
              "fillmode": "overlay",
              "size": 10,
              "solidity": 0.2
             }
            },
            "type": "histogram"
           }
          ],
          "histogram2d": [
           {
            "colorbar": {
             "outlinewidth": 0,
             "ticks": ""
            },
            "colorscale": [
             [
              0,
              "#0d0887"
             ],
             [
              0.1111111111111111,
              "#46039f"
             ],
             [
              0.2222222222222222,
              "#7201a8"
             ],
             [
              0.3333333333333333,
              "#9c179e"
             ],
             [
              0.4444444444444444,
              "#bd3786"
             ],
             [
              0.5555555555555556,
              "#d8576b"
             ],
             [
              0.6666666666666666,
              "#ed7953"
             ],
             [
              0.7777777777777778,
              "#fb9f3a"
             ],
             [
              0.8888888888888888,
              "#fdca26"
             ],
             [
              1,
              "#f0f921"
             ]
            ],
            "type": "histogram2d"
           }
          ],
          "histogram2dcontour": [
           {
            "colorbar": {
             "outlinewidth": 0,
             "ticks": ""
            },
            "colorscale": [
             [
              0,
              "#0d0887"
             ],
             [
              0.1111111111111111,
              "#46039f"
             ],
             [
              0.2222222222222222,
              "#7201a8"
             ],
             [
              0.3333333333333333,
              "#9c179e"
             ],
             [
              0.4444444444444444,
              "#bd3786"
             ],
             [
              0.5555555555555556,
              "#d8576b"
             ],
             [
              0.6666666666666666,
              "#ed7953"
             ],
             [
              0.7777777777777778,
              "#fb9f3a"
             ],
             [
              0.8888888888888888,
              "#fdca26"
             ],
             [
              1,
              "#f0f921"
             ]
            ],
            "type": "histogram2dcontour"
           }
          ],
          "mesh3d": [
           {
            "colorbar": {
             "outlinewidth": 0,
             "ticks": ""
            },
            "type": "mesh3d"
           }
          ],
          "parcoords": [
           {
            "line": {
             "colorbar": {
              "outlinewidth": 0,
              "ticks": ""
             }
            },
            "type": "parcoords"
           }
          ],
          "pie": [
           {
            "automargin": true,
            "type": "pie"
           }
          ],
          "scatter": [
           {
            "fillpattern": {
             "fillmode": "overlay",
             "size": 10,
             "solidity": 0.2
            },
            "type": "scatter"
           }
          ],
          "scatter3d": [
           {
            "line": {
             "colorbar": {
              "outlinewidth": 0,
              "ticks": ""
             }
            },
            "marker": {
             "colorbar": {
              "outlinewidth": 0,
              "ticks": ""
             }
            },
            "type": "scatter3d"
           }
          ],
          "scattercarpet": [
           {
            "marker": {
             "colorbar": {
              "outlinewidth": 0,
              "ticks": ""
             }
            },
            "type": "scattercarpet"
           }
          ],
          "scattergeo": [
           {
            "marker": {
             "colorbar": {
              "outlinewidth": 0,
              "ticks": ""
             }
            },
            "type": "scattergeo"
           }
          ],
          "scattergl": [
           {
            "marker": {
             "colorbar": {
              "outlinewidth": 0,
              "ticks": ""
             }
            },
            "type": "scattergl"
           }
          ],
          "scattermapbox": [
           {
            "marker": {
             "colorbar": {
              "outlinewidth": 0,
              "ticks": ""
             }
            },
            "type": "scattermapbox"
           }
          ],
          "scatterpolar": [
           {
            "marker": {
             "colorbar": {
              "outlinewidth": 0,
              "ticks": ""
             }
            },
            "type": "scatterpolar"
           }
          ],
          "scatterpolargl": [
           {
            "marker": {
             "colorbar": {
              "outlinewidth": 0,
              "ticks": ""
             }
            },
            "type": "scatterpolargl"
           }
          ],
          "scatterternary": [
           {
            "marker": {
             "colorbar": {
              "outlinewidth": 0,
              "ticks": ""
             }
            },
            "type": "scatterternary"
           }
          ],
          "surface": [
           {
            "colorbar": {
             "outlinewidth": 0,
             "ticks": ""
            },
            "colorscale": [
             [
              0,
              "#0d0887"
             ],
             [
              0.1111111111111111,
              "#46039f"
             ],
             [
              0.2222222222222222,
              "#7201a8"
             ],
             [
              0.3333333333333333,
              "#9c179e"
             ],
             [
              0.4444444444444444,
              "#bd3786"
             ],
             [
              0.5555555555555556,
              "#d8576b"
             ],
             [
              0.6666666666666666,
              "#ed7953"
             ],
             [
              0.7777777777777778,
              "#fb9f3a"
             ],
             [
              0.8888888888888888,
              "#fdca26"
             ],
             [
              1,
              "#f0f921"
             ]
            ],
            "type": "surface"
           }
          ],
          "table": [
           {
            "cells": {
             "fill": {
              "color": "#EBF0F8"
             },
             "line": {
              "color": "white"
             }
            },
            "header": {
             "fill": {
              "color": "#C8D4E3"
             },
             "line": {
              "color": "white"
             }
            },
            "type": "table"
           }
          ]
         },
         "layout": {
          "annotationdefaults": {
           "arrowcolor": "#2a3f5f",
           "arrowhead": 0,
           "arrowwidth": 1
          },
          "autotypenumbers": "strict",
          "coloraxis": {
           "colorbar": {
            "outlinewidth": 0,
            "ticks": ""
           }
          },
          "colorscale": {
           "diverging": [
            [
             0,
             "#8e0152"
            ],
            [
             0.1,
             "#c51b7d"
            ],
            [
             0.2,
             "#de77ae"
            ],
            [
             0.3,
             "#f1b6da"
            ],
            [
             0.4,
             "#fde0ef"
            ],
            [
             0.5,
             "#f7f7f7"
            ],
            [
             0.6,
             "#e6f5d0"
            ],
            [
             0.7,
             "#b8e186"
            ],
            [
             0.8,
             "#7fbc41"
            ],
            [
             0.9,
             "#4d9221"
            ],
            [
             1,
             "#276419"
            ]
           ],
           "sequential": [
            [
             0,
             "#0d0887"
            ],
            [
             0.1111111111111111,
             "#46039f"
            ],
            [
             0.2222222222222222,
             "#7201a8"
            ],
            [
             0.3333333333333333,
             "#9c179e"
            ],
            [
             0.4444444444444444,
             "#bd3786"
            ],
            [
             0.5555555555555556,
             "#d8576b"
            ],
            [
             0.6666666666666666,
             "#ed7953"
            ],
            [
             0.7777777777777778,
             "#fb9f3a"
            ],
            [
             0.8888888888888888,
             "#fdca26"
            ],
            [
             1,
             "#f0f921"
            ]
           ],
           "sequentialminus": [
            [
             0,
             "#0d0887"
            ],
            [
             0.1111111111111111,
             "#46039f"
            ],
            [
             0.2222222222222222,
             "#7201a8"
            ],
            [
             0.3333333333333333,
             "#9c179e"
            ],
            [
             0.4444444444444444,
             "#bd3786"
            ],
            [
             0.5555555555555556,
             "#d8576b"
            ],
            [
             0.6666666666666666,
             "#ed7953"
            ],
            [
             0.7777777777777778,
             "#fb9f3a"
            ],
            [
             0.8888888888888888,
             "#fdca26"
            ],
            [
             1,
             "#f0f921"
            ]
           ]
          },
          "colorway": [
           "#636efa",
           "#EF553B",
           "#00cc96",
           "#ab63fa",
           "#FFA15A",
           "#19d3f3",
           "#FF6692",
           "#B6E880",
           "#FF97FF",
           "#FECB52"
          ],
          "font": {
           "color": "#2a3f5f"
          },
          "geo": {
           "bgcolor": "white",
           "lakecolor": "white",
           "landcolor": "#E5ECF6",
           "showlakes": true,
           "showland": true,
           "subunitcolor": "white"
          },
          "hoverlabel": {
           "align": "left"
          },
          "hovermode": "closest",
          "mapbox": {
           "style": "light"
          },
          "paper_bgcolor": "white",
          "plot_bgcolor": "#E5ECF6",
          "polar": {
           "angularaxis": {
            "gridcolor": "white",
            "linecolor": "white",
            "ticks": ""
           },
           "bgcolor": "#E5ECF6",
           "radialaxis": {
            "gridcolor": "white",
            "linecolor": "white",
            "ticks": ""
           }
          },
          "scene": {
           "xaxis": {
            "backgroundcolor": "#E5ECF6",
            "gridcolor": "white",
            "gridwidth": 2,
            "linecolor": "white",
            "showbackground": true,
            "ticks": "",
            "zerolinecolor": "white"
           },
           "yaxis": {
            "backgroundcolor": "#E5ECF6",
            "gridcolor": "white",
            "gridwidth": 2,
            "linecolor": "white",
            "showbackground": true,
            "ticks": "",
            "zerolinecolor": "white"
           },
           "zaxis": {
            "backgroundcolor": "#E5ECF6",
            "gridcolor": "white",
            "gridwidth": 2,
            "linecolor": "white",
            "showbackground": true,
            "ticks": "",
            "zerolinecolor": "white"
           }
          },
          "shapedefaults": {
           "line": {
            "color": "#2a3f5f"
           }
          },
          "ternary": {
           "aaxis": {
            "gridcolor": "white",
            "linecolor": "white",
            "ticks": ""
           },
           "baxis": {
            "gridcolor": "white",
            "linecolor": "white",
            "ticks": ""
           },
           "bgcolor": "#E5ECF6",
           "caxis": {
            "gridcolor": "white",
            "linecolor": "white",
            "ticks": ""
           }
          },
          "title": {
           "x": 0.05
          },
          "xaxis": {
           "automargin": true,
           "gridcolor": "white",
           "linecolor": "white",
           "ticks": "",
           "title": {
            "standoff": 15
           },
           "zerolinecolor": "white",
           "zerolinewidth": 2
          },
          "yaxis": {
           "automargin": true,
           "gridcolor": "white",
           "linecolor": "white",
           "ticks": "",
           "title": {
            "standoff": 15
           },
           "zerolinecolor": "white",
           "zerolinewidth": 2
          }
         }
        },
        "width": 600,
        "xaxis": {
         "anchor": "y",
         "domain": [
          0,
          0.49
         ],
         "title": {
          "font": {
           "size": 16
          },
          "text": "rule threshold"
         }
        },
        "xaxis2": {
         "anchor": "y2",
         "domain": [
          0.5,
          1
         ],
         "title": {
          "font": {
           "size": 16
          },
          "text": "rule threshold"
         }
        },
        "yaxis": {
         "anchor": "x",
         "domain": [
          0,
          1
         ],
         "range": [
          0,
          1
         ],
         "side": "left",
         "title": {
          "font": {
           "size": 16
          },
          "text": "AUC"
         }
        },
        "yaxis2": {
         "anchor": "x2",
         "domain": [
          0,
          1
         ],
         "range": [
          0,
          1
         ],
         "side": "right",
         "title": {
          "font": {
           "size": 16
          },
          "text": "ルール違反率"
         }
        }
       }
      }
     },
     "metadata": {},
     "output_type": "display_data"
    }
   ],
   "source": [
    "import plotly.graph_objects as go\n",
    "from plotly.subplots import make_subplots\n",
    "\n",
    "\n",
    "# グラフのデータを準備\n",
    "index = ['l-SVM-p', 'r-SVM-p', 'LogReg-p']\n",
    "colors_mean = ['rgba(0,176,246,1)', 'rgba(231,107,243,1)', 'rgba(21,213,69,1)']  # indexに対応する色\n",
    "colors_std  = ['rgba(0,176,246,0.2)', 'rgba(231,107,243,0.2)', 'rgba(21,213,69,0.2)']  # indexに対応する色\n",
    "\n",
    "\n",
    "# グラフ1: AUCのデータ\n",
    "col_auc = 'auc'\n",
    "tmp_mean_auc = pd.DataFrame([\n",
    "    {info: df.loc['linear svm (L)', col_auc] for info, df in zip(infos, dfs_mean)},\n",
    "    {info: df.loc['non-linear svm (L)', col_auc] for info, df in zip(infos, dfs_mean)},\n",
    "    {info: df.loc['logistic regression (L)', col_auc] for info, df in zip(infos, dfs_mean)}\n",
    "], index=index)\n",
    "tmp_std_auc = pd.DataFrame([\n",
    "    {info: df.loc['linear svm (L)', col_auc] for info, df in zip(infos, dfs_std)},\n",
    "    {info: df.loc['non-linear svm (L)', col_auc] for info, df in zip(infos, dfs_std)},\n",
    "    {info: df.loc['logistic regression (L)', col_auc] for info, df in zip(infos, dfs_std)}\n",
    "], index=index)\n",
    "\n",
    "# グラフ2: ルール違反率のデータ\n",
    "col_vr = 'violation_rate'\n",
    "tmp_mean_vr = pd.DataFrame([\n",
    "    {info: df.loc['linear svm (L)', col_vr] for info, df in zip(infos, dfs_mean)},\n",
    "    {info: df.loc['non-linear svm (L)', col_vr] for info, df in zip(infos, dfs_mean)},\n",
    "    {info: df.loc['logistic regression (L)', col_vr] for info, df in zip(infos, dfs_mean)}\n",
    "], index=index)\n",
    "tmp_std_vr = pd.DataFrame([\n",
    "    {info: df.loc['linear svm (L)', col_vr] for info, df in zip(infos, dfs_std)},\n",
    "    {info: df.loc['non-linear svm (L)', col_vr] for info, df in zip(infos, dfs_std)},\n",
    "    {info: df.loc['logistic regression (L)', col_vr] for info, df in zip(infos, dfs_std)}\n",
    "], index=index)\n",
    "\n",
    "\n",
    "# サブプロットの作成\n",
    "# fig = make_subplots(rows=1, cols=2, subplot_titles=('AUC', 'ルール違反率'))\n",
    "fig = make_subplots(rows=1, cols=2)\n",
    "\n",
    "# グラフ1: AUC\n",
    "for i in range(len(tmp_mean_auc)):\n",
    "    fig.add_trace(\n",
    "        go.Scatter(\n",
    "            x=tmp_mean_auc.columns,\n",
    "            y=tmp_mean_auc.iloc[i, :],\n",
    "            mode='lines+markers',\n",
    "            name=tmp_mean_auc.index[i],\n",
    "            line=dict(color=colors_mean[i]),  # ラインの色を設定\n",
    "            marker=dict(color=colors_mean[i])  # マーカーの色を設定\n",
    "        ),\n",
    "        row=1, col=1\n",
    "    )\n",
    "    fig.add_trace(\n",
    "        go.Scatter(\n",
    "            x=tmp_mean_auc.columns,\n",
    "            y=tmp_mean_auc.iloc[i, :] + tmp_std_auc.iloc[i, :],\n",
    "            mode='lines',\n",
    "            line=dict(color=colors_std[i]),  # ラインの色を設定\n",
    "            showlegend=False\n",
    "        ),\n",
    "        row=1, col=1\n",
    "    )\n",
    "    fig.add_trace(\n",
    "        go.Scatter(\n",
    "            x=tmp_mean_auc.columns,\n",
    "            y=tmp_mean_auc.iloc[i, :] - tmp_std_auc.iloc[i, :],\n",
    "            mode='lines',\n",
    "            fill='tonexty',\n",
    "            fillcolor=colors_std[i],\n",
    "            line=dict(color='rgba(255,255,255,0)'),\n",
    "            showlegend=False\n",
    "        ),\n",
    "        row=1, col=1\n",
    "    )\n",
    "\n",
    "# グラフ2: ルール違反率\n",
    "for i in range(len(tmp_mean_vr)):\n",
    "    fig.add_trace(\n",
    "        go.Scatter(\n",
    "            x=tmp_mean_vr.columns,\n",
    "            y=tmp_mean_vr.iloc[i, :],\n",
    "            mode='lines+markers',\n",
    "            name=tmp_mean_vr.index[i],\n",
    "            line=dict(color=colors_mean[i]),  # ラインの色を設定\n",
    "            marker=dict(color=colors_mean[i]),  # マーカーの色を設定\n",
    "            showlegend=False\n",
    "        ),\n",
    "        row=1, col=2\n",
    "    )\n",
    "    fig.add_trace(\n",
    "        go.Scatter(\n",
    "            x=tmp_mean_vr.columns,\n",
    "            y=tmp_mean_vr.iloc[i, :] + tmp_std_vr.iloc[i, :],\n",
    "            mode='lines',\n",
    "            line=dict(color=colors_std[i]),  # ラインの色を設定\n",
    "            showlegend=False\n",
    "        ),\n",
    "        row=1, col=2\n",
    "    )\n",
    "    fig.add_trace(\n",
    "        go.Scatter(\n",
    "            x=tmp_mean_vr.columns,\n",
    "            y=tmp_mean_vr.iloc[i, :] - tmp_std_vr.iloc[i, :],\n",
    "            mode='lines',\n",
    "            fill='tonexty',\n",
    "            fillcolor=colors_std[i],\n",
    "            line=dict(color='rgba(255,255,255,0)'),\n",
    "            showlegend=False\n",
    "        ),\n",
    "        row=1, col=2\n",
    "    )\n",
    "\n",
    "# x軸の設定\n",
    "fig.update_xaxes(title_text='rule threshold', row=1, col=1)\n",
    "fig.update_xaxes(title_text='rule threshold', row=1, col=2)\n",
    "\n",
    "# レイアウトの設定\n",
    "fig.update_layout(\n",
    "    height=400,\n",
    "    width=600,\n",
    "    xaxis=dict(\n",
    "        domain=[0, 0.49],  # 左側のsubplotの幅を調整\n",
    "        title_font=dict(size=16)\n",
    "    ),\n",
    "    xaxis2=dict(\n",
    "        domain=[0.5, 1],  # 右側のsubplotの幅を調整\n",
    "        title_font=dict(size=16)\n",
    "    ),\n",
    "    legend=dict(\n",
    "        x=0.5,\n",
    "        y=1.15,\n",
    "        orientation='h'  # 水平配置\n",
    "    ),\n",
    ")\n",
    "\n",
    "# y軸の設定\n",
    "fig.update_yaxes(title_text='AUC', range=[0, 1], row=1, col=1, side='left', title_font=dict(size=16))  # col=1のグラフのy軸を左側に配置\n",
    "fig.update_yaxes(title_text='ルール違反率', range=[0, 1], row=1, col=2, side='right', title_font=dict(size=16))  # col=2のグラフのy軸を右側に配置\n",
    "\n",
    "# グラフの表示\n",
    "fig.show()\n"
   ]
  },
  {
   "cell_type": "code",
   "execution_count": 23,
   "metadata": {},
   "outputs": [
    {
     "data": {
      "application/vnd.plotly.v1+json": {
       "config": {
        "plotlyServerURL": "https://plot.ly"
       },
       "data": [
        {
         "line": {
          "color": "rgba(0,176,246,1)"
         },
         "marker": {
          "color": "rgba(0,176,246,1)"
         },
         "mode": "lines+markers",
         "name": "linear svm",
         "type": "scatter",
         "x": [
          0,
          0.2,
          0.4,
          0.6,
          0.8
         ],
         "xaxis": "x",
         "y": [
          0.8378045112241415,
          0.8378045112241415,
          0.8378045112241415,
          0.8378045112241415,
          0.8378045112241415
         ],
         "yaxis": "y"
        },
        {
         "line": {
          "color": "rgba(0,176,246,0.2)"
         },
         "mode": "lines",
         "showlegend": false,
         "type": "scatter",
         "x": [
          0,
          0.2,
          0.4,
          0.6,
          0.8
         ],
         "xaxis": "x",
         "y": [
          0.8831807779515406,
          0.8831807779515406,
          0.8831807779515406,
          0.8831807779515406,
          0.8831807779515406
         ],
         "yaxis": "y"
        },
        {
         "fill": "tonexty",
         "fillcolor": "rgba(0,176,246,0.2)",
         "line": {
          "color": "rgba(255,255,255,0)"
         },
         "mode": "lines",
         "showlegend": false,
         "type": "scatter",
         "x": [
          0,
          0.2,
          0.4,
          0.6,
          0.8
         ],
         "xaxis": "x",
         "y": [
          0.7924282444967423,
          0.7924282444967423,
          0.7924282444967423,
          0.7924282444967423,
          0.7924282444967423
         ],
         "yaxis": "y"
        },
        {
         "line": {
          "color": "rgba(231,107,243,1)"
         },
         "marker": {
          "color": "rgba(231,107,243,1)"
         },
         "mode": "lines+markers",
         "name": "logistic regression",
         "type": "scatter",
         "x": [
          0,
          0.2,
          0.4,
          0.6,
          0.8
         ],
         "xaxis": "x",
         "y": [
          0.8380644745522868,
          0.8380644745522868,
          0.8380644745522868,
          0.8380644745522868,
          0.8380644745522868
         ],
         "yaxis": "y"
        },
        {
         "line": {
          "color": "rgba(231,107,243,0.2)"
         },
         "mode": "lines",
         "showlegend": false,
         "type": "scatter",
         "x": [
          0,
          0.2,
          0.4,
          0.6,
          0.8
         ],
         "xaxis": "x",
         "y": [
          0.8867611205283645,
          0.8867611205283645,
          0.8867611205283645,
          0.8867611205283645,
          0.8867611205283645
         ],
         "yaxis": "y"
        },
        {
         "fill": "tonexty",
         "fillcolor": "rgba(231,107,243,0.2)",
         "line": {
          "color": "rgba(255,255,255,0)"
         },
         "mode": "lines",
         "showlegend": false,
         "type": "scatter",
         "x": [
          0,
          0.2,
          0.4,
          0.6,
          0.8
         ],
         "xaxis": "x",
         "y": [
          0.7893678285762091,
          0.7893678285762091,
          0.7893678285762091,
          0.7893678285762091,
          0.7893678285762091
         ],
         "yaxis": "y"
        },
        {
         "line": {
          "color": "rgba(21,213,69,1)"
         },
         "marker": {
          "color": "rgba(21,213,69,1)"
         },
         "mode": "lines+markers",
         "name": "non-linear svm",
         "type": "scatter",
         "x": [
          0,
          0.2,
          0.4,
          0.6,
          0.8
         ],
         "xaxis": "x",
         "y": [
          0.8405733226121905,
          0.8405733226121905,
          0.8405733226121905,
          0.8405733226121905,
          0.8405733226121905
         ],
         "yaxis": "y"
        },
        {
         "line": {
          "color": "rgba(21,213,69,0.2)"
         },
         "mode": "lines",
         "showlegend": false,
         "type": "scatter",
         "x": [
          0,
          0.2,
          0.4,
          0.6,
          0.8
         ],
         "xaxis": "x",
         "y": [
          0.8880053027203545,
          0.8880053027203545,
          0.8880053027203545,
          0.8880053027203545,
          0.8880053027203545
         ],
         "yaxis": "y"
        },
        {
         "fill": "tonexty",
         "fillcolor": "rgba(21,213,69,0.2)",
         "line": {
          "color": "rgba(255,255,255,0)"
         },
         "mode": "lines",
         "showlegend": false,
         "type": "scatter",
         "x": [
          0,
          0.2,
          0.4,
          0.6,
          0.8
         ],
         "xaxis": "x",
         "y": [
          0.7931413425040266,
          0.7931413425040266,
          0.7931413425040266,
          0.7931413425040266,
          0.7931413425040266
         ],
         "yaxis": "y"
        },
        {
         "line": {
          "color": "rgba(0,176,246,1)"
         },
         "marker": {
          "color": "rgba(0,176,246,1)"
         },
         "mode": "lines+markers",
         "name": "linear svm",
         "showlegend": false,
         "type": "scatter",
         "x": [
          0,
          0.2,
          0.4,
          0.6,
          0.8
         ],
         "xaxis": "x2",
         "y": [
          0.8772165387090123,
          0.8834733893557424,
          0.8846153846153847,
          0.8666666666666666,
          0.86
         ],
         "yaxis": "y2"
        },
        {
         "line": {
          "color": "rgba(0,176,246,0.2)"
         },
         "mode": "lines",
         "showlegend": false,
         "type": "scatter",
         "x": [
          0,
          0.2,
          0.4,
          0.6,
          0.8
         ],
         "xaxis": "x2",
         "y": [
          0.9101445400173717,
          0.944830964993956,
          1.0114510188295474,
          1.083973413506755,
          1.0790890230020664
         ],
         "yaxis": "y2"
        },
        {
         "fill": "tonexty",
         "fillcolor": "rgba(0,176,246,0.2)",
         "line": {
          "color": "rgba(255,255,255,0)"
         },
         "mode": "lines",
         "showlegend": false,
         "type": "scatter",
         "x": [
          0,
          0.2,
          0.4,
          0.6,
          0.8
         ],
         "xaxis": "x2",
         "y": [
          0.8442885374006529,
          0.8221158137175287,
          0.757779750401222,
          0.6493599198265783,
          0.6409109769979335
         ],
         "yaxis": "y2"
        },
        {
         "line": {
          "color": "rgba(231,107,243,1)"
         },
         "marker": {
          "color": "rgba(231,107,243,1)"
         },
         "mode": "lines+markers",
         "name": "logistic regression",
         "showlegend": false,
         "type": "scatter",
         "x": [
          0,
          0.2,
          0.4,
          0.6,
          0.8
         ],
         "xaxis": "x2",
         "y": [
          0.9033973754161648,
          0.9041083099906629,
          0.9262820512820513,
          0.9666666666666666,
          0.96
         ],
         "yaxis": "y2"
        },
        {
         "line": {
          "color": "rgba(231,107,243,0.2)"
         },
         "mode": "lines",
         "showlegend": false,
         "type": "scatter",
         "x": [
          0,
          0.2,
          0.4,
          0.6,
          0.8
         ],
         "xaxis": "x2",
         "y": [
          0.9336579956845019,
          0.9417582355925372,
          1.00069350491182,
          1.0412022659166595,
          1.0494427190999915
         ],
         "yaxis": "y2"
        },
        {
         "fill": "tonexty",
         "fillcolor": "rgba(231,107,243,0.2)",
         "line": {
          "color": "rgba(255,255,255,0)"
         },
         "mode": "lines",
         "showlegend": false,
         "type": "scatter",
         "x": [
          0,
          0.2,
          0.4,
          0.6,
          0.8
         ],
         "xaxis": "x2",
         "y": [
          0.8731367551478277,
          0.8664583843887886,
          0.8518705976522827,
          0.8921310674166736,
          0.8705572809000084
         ],
         "yaxis": "y2"
        },
        {
         "line": {
          "color": "rgba(21,213,69,1)"
         },
         "marker": {
          "color": "rgba(21,213,69,1)"
         },
         "mode": "lines+markers",
         "name": "non-linear svm",
         "showlegend": false,
         "type": "scatter",
         "x": [
          0,
          0.2,
          0.4,
          0.6,
          0.8
         ],
         "xaxis": "x2",
         "y": [
          0.8824796966037491,
          0.8945845004668534,
          0.9096153846153847,
          0.9666666666666666,
          0.96
         ],
         "yaxis": "y2"
        },
        {
         "line": {
          "color": "rgba(21,213,69,0.2)"
         },
         "mode": "lines",
         "showlegend": false,
         "type": "scatter",
         "x": [
          0,
          0.2,
          0.4,
          0.6,
          0.8
         ],
         "xaxis": "x2",
         "y": [
          0.9100617008367651,
          0.9492585958398964,
          1.0135327391238946,
          1.0412022659166595,
          1.0494427190999915
         ],
         "yaxis": "y2"
        },
        {
         "fill": "tonexty",
         "fillcolor": "rgba(21,213,69,0.2)",
         "line": {
          "color": "rgba(255,255,255,0)"
         },
         "mode": "lines",
         "showlegend": false,
         "type": "scatter",
         "x": [
          0,
          0.2,
          0.4,
          0.6,
          0.8
         ],
         "xaxis": "x2",
         "y": [
          0.8548976923707332,
          0.8399104050938105,
          0.8056980301068748,
          0.8921310674166736,
          0.8705572809000084
         ],
         "yaxis": "y2"
        }
       ],
       "layout": {
        "height": 400,
        "legend": {
         "orientation": "h",
         "x": 0.5,
         "y": 0.4
        },
        "template": {
         "data": {
          "bar": [
           {
            "error_x": {
             "color": "#2a3f5f"
            },
            "error_y": {
             "color": "#2a3f5f"
            },
            "marker": {
             "line": {
              "color": "#E5ECF6",
              "width": 0.5
             },
             "pattern": {
              "fillmode": "overlay",
              "size": 10,
              "solidity": 0.2
             }
            },
            "type": "bar"
           }
          ],
          "barpolar": [
           {
            "marker": {
             "line": {
              "color": "#E5ECF6",
              "width": 0.5
             },
             "pattern": {
              "fillmode": "overlay",
              "size": 10,
              "solidity": 0.2
             }
            },
            "type": "barpolar"
           }
          ],
          "carpet": [
           {
            "aaxis": {
             "endlinecolor": "#2a3f5f",
             "gridcolor": "white",
             "linecolor": "white",
             "minorgridcolor": "white",
             "startlinecolor": "#2a3f5f"
            },
            "baxis": {
             "endlinecolor": "#2a3f5f",
             "gridcolor": "white",
             "linecolor": "white",
             "minorgridcolor": "white",
             "startlinecolor": "#2a3f5f"
            },
            "type": "carpet"
           }
          ],
          "choropleth": [
           {
            "colorbar": {
             "outlinewidth": 0,
             "ticks": ""
            },
            "type": "choropleth"
           }
          ],
          "contour": [
           {
            "colorbar": {
             "outlinewidth": 0,
             "ticks": ""
            },
            "colorscale": [
             [
              0,
              "#0d0887"
             ],
             [
              0.1111111111111111,
              "#46039f"
             ],
             [
              0.2222222222222222,
              "#7201a8"
             ],
             [
              0.3333333333333333,
              "#9c179e"
             ],
             [
              0.4444444444444444,
              "#bd3786"
             ],
             [
              0.5555555555555556,
              "#d8576b"
             ],
             [
              0.6666666666666666,
              "#ed7953"
             ],
             [
              0.7777777777777778,
              "#fb9f3a"
             ],
             [
              0.8888888888888888,
              "#fdca26"
             ],
             [
              1,
              "#f0f921"
             ]
            ],
            "type": "contour"
           }
          ],
          "contourcarpet": [
           {
            "colorbar": {
             "outlinewidth": 0,
             "ticks": ""
            },
            "type": "contourcarpet"
           }
          ],
          "heatmap": [
           {
            "colorbar": {
             "outlinewidth": 0,
             "ticks": ""
            },
            "colorscale": [
             [
              0,
              "#0d0887"
             ],
             [
              0.1111111111111111,
              "#46039f"
             ],
             [
              0.2222222222222222,
              "#7201a8"
             ],
             [
              0.3333333333333333,
              "#9c179e"
             ],
             [
              0.4444444444444444,
              "#bd3786"
             ],
             [
              0.5555555555555556,
              "#d8576b"
             ],
             [
              0.6666666666666666,
              "#ed7953"
             ],
             [
              0.7777777777777778,
              "#fb9f3a"
             ],
             [
              0.8888888888888888,
              "#fdca26"
             ],
             [
              1,
              "#f0f921"
             ]
            ],
            "type": "heatmap"
           }
          ],
          "heatmapgl": [
           {
            "colorbar": {
             "outlinewidth": 0,
             "ticks": ""
            },
            "colorscale": [
             [
              0,
              "#0d0887"
             ],
             [
              0.1111111111111111,
              "#46039f"
             ],
             [
              0.2222222222222222,
              "#7201a8"
             ],
             [
              0.3333333333333333,
              "#9c179e"
             ],
             [
              0.4444444444444444,
              "#bd3786"
             ],
             [
              0.5555555555555556,
              "#d8576b"
             ],
             [
              0.6666666666666666,
              "#ed7953"
             ],
             [
              0.7777777777777778,
              "#fb9f3a"
             ],
             [
              0.8888888888888888,
              "#fdca26"
             ],
             [
              1,
              "#f0f921"
             ]
            ],
            "type": "heatmapgl"
           }
          ],
          "histogram": [
           {
            "marker": {
             "pattern": {
              "fillmode": "overlay",
              "size": 10,
              "solidity": 0.2
             }
            },
            "type": "histogram"
           }
          ],
          "histogram2d": [
           {
            "colorbar": {
             "outlinewidth": 0,
             "ticks": ""
            },
            "colorscale": [
             [
              0,
              "#0d0887"
             ],
             [
              0.1111111111111111,
              "#46039f"
             ],
             [
              0.2222222222222222,
              "#7201a8"
             ],
             [
              0.3333333333333333,
              "#9c179e"
             ],
             [
              0.4444444444444444,
              "#bd3786"
             ],
             [
              0.5555555555555556,
              "#d8576b"
             ],
             [
              0.6666666666666666,
              "#ed7953"
             ],
             [
              0.7777777777777778,
              "#fb9f3a"
             ],
             [
              0.8888888888888888,
              "#fdca26"
             ],
             [
              1,
              "#f0f921"
             ]
            ],
            "type": "histogram2d"
           }
          ],
          "histogram2dcontour": [
           {
            "colorbar": {
             "outlinewidth": 0,
             "ticks": ""
            },
            "colorscale": [
             [
              0,
              "#0d0887"
             ],
             [
              0.1111111111111111,
              "#46039f"
             ],
             [
              0.2222222222222222,
              "#7201a8"
             ],
             [
              0.3333333333333333,
              "#9c179e"
             ],
             [
              0.4444444444444444,
              "#bd3786"
             ],
             [
              0.5555555555555556,
              "#d8576b"
             ],
             [
              0.6666666666666666,
              "#ed7953"
             ],
             [
              0.7777777777777778,
              "#fb9f3a"
             ],
             [
              0.8888888888888888,
              "#fdca26"
             ],
             [
              1,
              "#f0f921"
             ]
            ],
            "type": "histogram2dcontour"
           }
          ],
          "mesh3d": [
           {
            "colorbar": {
             "outlinewidth": 0,
             "ticks": ""
            },
            "type": "mesh3d"
           }
          ],
          "parcoords": [
           {
            "line": {
             "colorbar": {
              "outlinewidth": 0,
              "ticks": ""
             }
            },
            "type": "parcoords"
           }
          ],
          "pie": [
           {
            "automargin": true,
            "type": "pie"
           }
          ],
          "scatter": [
           {
            "fillpattern": {
             "fillmode": "overlay",
             "size": 10,
             "solidity": 0.2
            },
            "type": "scatter"
           }
          ],
          "scatter3d": [
           {
            "line": {
             "colorbar": {
              "outlinewidth": 0,
              "ticks": ""
             }
            },
            "marker": {
             "colorbar": {
              "outlinewidth": 0,
              "ticks": ""
             }
            },
            "type": "scatter3d"
           }
          ],
          "scattercarpet": [
           {
            "marker": {
             "colorbar": {
              "outlinewidth": 0,
              "ticks": ""
             }
            },
            "type": "scattercarpet"
           }
          ],
          "scattergeo": [
           {
            "marker": {
             "colorbar": {
              "outlinewidth": 0,
              "ticks": ""
             }
            },
            "type": "scattergeo"
           }
          ],
          "scattergl": [
           {
            "marker": {
             "colorbar": {
              "outlinewidth": 0,
              "ticks": ""
             }
            },
            "type": "scattergl"
           }
          ],
          "scattermapbox": [
           {
            "marker": {
             "colorbar": {
              "outlinewidth": 0,
              "ticks": ""
             }
            },
            "type": "scattermapbox"
           }
          ],
          "scatterpolar": [
           {
            "marker": {
             "colorbar": {
              "outlinewidth": 0,
              "ticks": ""
             }
            },
            "type": "scatterpolar"
           }
          ],
          "scatterpolargl": [
           {
            "marker": {
             "colorbar": {
              "outlinewidth": 0,
              "ticks": ""
             }
            },
            "type": "scatterpolargl"
           }
          ],
          "scatterternary": [
           {
            "marker": {
             "colorbar": {
              "outlinewidth": 0,
              "ticks": ""
             }
            },
            "type": "scatterternary"
           }
          ],
          "surface": [
           {
            "colorbar": {
             "outlinewidth": 0,
             "ticks": ""
            },
            "colorscale": [
             [
              0,
              "#0d0887"
             ],
             [
              0.1111111111111111,
              "#46039f"
             ],
             [
              0.2222222222222222,
              "#7201a8"
             ],
             [
              0.3333333333333333,
              "#9c179e"
             ],
             [
              0.4444444444444444,
              "#bd3786"
             ],
             [
              0.5555555555555556,
              "#d8576b"
             ],
             [
              0.6666666666666666,
              "#ed7953"
             ],
             [
              0.7777777777777778,
              "#fb9f3a"
             ],
             [
              0.8888888888888888,
              "#fdca26"
             ],
             [
              1,
              "#f0f921"
             ]
            ],
            "type": "surface"
           }
          ],
          "table": [
           {
            "cells": {
             "fill": {
              "color": "#EBF0F8"
             },
             "line": {
              "color": "white"
             }
            },
            "header": {
             "fill": {
              "color": "#C8D4E3"
             },
             "line": {
              "color": "white"
             }
            },
            "type": "table"
           }
          ]
         },
         "layout": {
          "annotationdefaults": {
           "arrowcolor": "#2a3f5f",
           "arrowhead": 0,
           "arrowwidth": 1
          },
          "autotypenumbers": "strict",
          "coloraxis": {
           "colorbar": {
            "outlinewidth": 0,
            "ticks": ""
           }
          },
          "colorscale": {
           "diverging": [
            [
             0,
             "#8e0152"
            ],
            [
             0.1,
             "#c51b7d"
            ],
            [
             0.2,
             "#de77ae"
            ],
            [
             0.3,
             "#f1b6da"
            ],
            [
             0.4,
             "#fde0ef"
            ],
            [
             0.5,
             "#f7f7f7"
            ],
            [
             0.6,
             "#e6f5d0"
            ],
            [
             0.7,
             "#b8e186"
            ],
            [
             0.8,
             "#7fbc41"
            ],
            [
             0.9,
             "#4d9221"
            ],
            [
             1,
             "#276419"
            ]
           ],
           "sequential": [
            [
             0,
             "#0d0887"
            ],
            [
             0.1111111111111111,
             "#46039f"
            ],
            [
             0.2222222222222222,
             "#7201a8"
            ],
            [
             0.3333333333333333,
             "#9c179e"
            ],
            [
             0.4444444444444444,
             "#bd3786"
            ],
            [
             0.5555555555555556,
             "#d8576b"
            ],
            [
             0.6666666666666666,
             "#ed7953"
            ],
            [
             0.7777777777777778,
             "#fb9f3a"
            ],
            [
             0.8888888888888888,
             "#fdca26"
            ],
            [
             1,
             "#f0f921"
            ]
           ],
           "sequentialminus": [
            [
             0,
             "#0d0887"
            ],
            [
             0.1111111111111111,
             "#46039f"
            ],
            [
             0.2222222222222222,
             "#7201a8"
            ],
            [
             0.3333333333333333,
             "#9c179e"
            ],
            [
             0.4444444444444444,
             "#bd3786"
            ],
            [
             0.5555555555555556,
             "#d8576b"
            ],
            [
             0.6666666666666666,
             "#ed7953"
            ],
            [
             0.7777777777777778,
             "#fb9f3a"
            ],
            [
             0.8888888888888888,
             "#fdca26"
            ],
            [
             1,
             "#f0f921"
            ]
           ]
          },
          "colorway": [
           "#636efa",
           "#EF553B",
           "#00cc96",
           "#ab63fa",
           "#FFA15A",
           "#19d3f3",
           "#FF6692",
           "#B6E880",
           "#FF97FF",
           "#FECB52"
          ],
          "font": {
           "color": "#2a3f5f"
          },
          "geo": {
           "bgcolor": "white",
           "lakecolor": "white",
           "landcolor": "#E5ECF6",
           "showlakes": true,
           "showland": true,
           "subunitcolor": "white"
          },
          "hoverlabel": {
           "align": "left"
          },
          "hovermode": "closest",
          "mapbox": {
           "style": "light"
          },
          "paper_bgcolor": "white",
          "plot_bgcolor": "#E5ECF6",
          "polar": {
           "angularaxis": {
            "gridcolor": "white",
            "linecolor": "white",
            "ticks": ""
           },
           "bgcolor": "#E5ECF6",
           "radialaxis": {
            "gridcolor": "white",
            "linecolor": "white",
            "ticks": ""
           }
          },
          "scene": {
           "xaxis": {
            "backgroundcolor": "#E5ECF6",
            "gridcolor": "white",
            "gridwidth": 2,
            "linecolor": "white",
            "showbackground": true,
            "ticks": "",
            "zerolinecolor": "white"
           },
           "yaxis": {
            "backgroundcolor": "#E5ECF6",
            "gridcolor": "white",
            "gridwidth": 2,
            "linecolor": "white",
            "showbackground": true,
            "ticks": "",
            "zerolinecolor": "white"
           },
           "zaxis": {
            "backgroundcolor": "#E5ECF6",
            "gridcolor": "white",
            "gridwidth": 2,
            "linecolor": "white",
            "showbackground": true,
            "ticks": "",
            "zerolinecolor": "white"
           }
          },
          "shapedefaults": {
           "line": {
            "color": "#2a3f5f"
           }
          },
          "ternary": {
           "aaxis": {
            "gridcolor": "white",
            "linecolor": "white",
            "ticks": ""
           },
           "baxis": {
            "gridcolor": "white",
            "linecolor": "white",
            "ticks": ""
           },
           "bgcolor": "#E5ECF6",
           "caxis": {
            "gridcolor": "white",
            "linecolor": "white",
            "ticks": ""
           }
          },
          "title": {
           "x": 0.05
          },
          "xaxis": {
           "automargin": true,
           "gridcolor": "white",
           "linecolor": "white",
           "ticks": "",
           "title": {
            "standoff": 15
           },
           "zerolinecolor": "white",
           "zerolinewidth": 2
          },
          "yaxis": {
           "automargin": true,
           "gridcolor": "white",
           "linecolor": "white",
           "ticks": "",
           "title": {
            "standoff": 15
           },
           "zerolinecolor": "white",
           "zerolinewidth": 2
          }
         }
        },
        "width": 600,
        "xaxis": {
         "anchor": "y",
         "domain": [
          0,
          0.49
         ],
         "title": {
          "font": {
           "size": 16
          },
          "text": "rule threshold"
         }
        },
        "xaxis2": {
         "anchor": "y2",
         "domain": [
          0.5,
          1
         ],
         "title": {
          "font": {
           "size": 16
          },
          "text": "rule threshold"
         }
        },
        "yaxis": {
         "anchor": "x",
         "domain": [
          0,
          1
         ],
         "range": [
          0,
          1
         ],
         "side": "left",
         "title": {
          "font": {
           "size": 16
          },
          "text": "AUC"
         }
        },
        "yaxis2": {
         "anchor": "x2",
         "domain": [
          0,
          1
         ],
         "range": [
          0,
          1
         ],
         "side": "right",
         "title": {
          "font": {
           "size": 16
          },
          "text": "ルール違反率"
         }
        }
       }
      }
     },
     "metadata": {},
     "output_type": "display_data"
    }
   ],
   "source": [
    "import plotly.graph_objects as go\n",
    "from plotly.subplots import make_subplots\n",
    "\n",
    "\n",
    "# グラフのデータを準備\n",
    "index = ['linear svm', 'logistic regression',\n",
    "       'non-linear svm']\n",
    "colors_mean = ['rgba(0,176,246,1)', 'rgba(231,107,243,1)', 'rgba(21,213,69,1)']  # indexに対応する色\n",
    "colors_std  = ['rgba(0,176,246,0.2)', 'rgba(231,107,243,0.2)', 'rgba(21,213,69,0.2)']  # indexに対応する色\n",
    "\n",
    "\n",
    "# グラフ1: AUCのデータ\n",
    "col_auc = 'auc'\n",
    "tmp_mean_auc = pd.DataFrame([\n",
    "    {info: df.loc['linear svm', col_auc] for info, df in zip(infos, dfs_mean)},\n",
    "    {info: df.loc['non-linear svm', col_auc] for info, df in zip(infos, dfs_mean)},\n",
    "    {info: df.loc['logistic regression', col_auc] for info, df in zip(infos, dfs_mean)}\n",
    "], index=index)\n",
    "tmp_std_auc = pd.DataFrame([\n",
    "    {info: df.loc['linear svm', col_auc] for info, df in zip(infos, dfs_std)},\n",
    "    {info: df.loc['non-linear svm', col_auc] for info, df in zip(infos, dfs_std)},\n",
    "    {info: df.loc['logistic regression', col_auc] for info, df in zip(infos, dfs_std)}\n",
    "], index=index)\n",
    "\n",
    "# グラフ2: ルール違反率のデータ\n",
    "col_vr = 'violation_rate'\n",
    "tmp_mean_vr = pd.DataFrame([\n",
    "    {info: df.loc['linear svm', col_vr] for info, df in zip(infos, dfs_mean)},\n",
    "    {info: df.loc['non-linear svm', col_vr] for info, df in zip(infos, dfs_mean)},\n",
    "    {info: df.loc['logistic regression', col_vr] for info, df in zip(infos, dfs_mean)}\n",
    "], index=index)\n",
    "tmp_std_vr = pd.DataFrame([\n",
    "    {info: df.loc['linear svm', col_vr] for info, df in zip(infos, dfs_std)},\n",
    "    {info: df.loc['non-linear svm', col_vr] for info, df in zip(infos, dfs_std)},\n",
    "    {info: df.loc['logistic regression', col_vr] for info, df in zip(infos, dfs_std)}\n",
    "], index=index)\n",
    "\n",
    "\n",
    "# サブプロットの作成\n",
    "# fig = make_subplots(rows=1, cols=2, subplot_titles=('AUC', 'ルール違反率'))\n",
    "fig = make_subplots(rows=1, cols=2)\n",
    "\n",
    "# グラフ1: AUC\n",
    "for i in range(len(tmp_mean_auc)):\n",
    "    fig.add_trace(\n",
    "        go.Scatter(\n",
    "            x=tmp_mean_auc.columns,\n",
    "            y=tmp_mean_auc.iloc[i, :],\n",
    "            mode='lines+markers',\n",
    "            name=tmp_mean_auc.index[i],\n",
    "            line=dict(color=colors_mean[i]),  # ラインの色を設定\n",
    "            marker=dict(color=colors_mean[i])  # マーカーの色を設定\n",
    "        ),\n",
    "        row=1, col=1\n",
    "    )\n",
    "    fig.add_trace(\n",
    "        go.Scatter(\n",
    "            x=tmp_mean_auc.columns,\n",
    "            y=tmp_mean_auc.iloc[i, :] + tmp_std_auc.iloc[i, :],\n",
    "            mode='lines',\n",
    "            line=dict(color=colors_std[i]),  # ラインの色を設定\n",
    "            showlegend=False\n",
    "        ),\n",
    "        row=1, col=1\n",
    "    )\n",
    "    fig.add_trace(\n",
    "        go.Scatter(\n",
    "            x=tmp_mean_auc.columns,\n",
    "            y=tmp_mean_auc.iloc[i, :] - tmp_std_auc.iloc[i, :],\n",
    "            mode='lines',\n",
    "            fill='tonexty',\n",
    "            fillcolor=colors_std[i],\n",
    "            line=dict(color='rgba(255,255,255,0)'),\n",
    "            showlegend=False\n",
    "        ),\n",
    "        row=1, col=1\n",
    "    )\n",
    "\n",
    "# グラフ2: ルール違反率\n",
    "for i in range(len(tmp_mean_vr)):\n",
    "    fig.add_trace(\n",
    "        go.Scatter(\n",
    "            x=tmp_mean_vr.columns,\n",
    "            y=tmp_mean_vr.iloc[i, :],\n",
    "            mode='lines+markers',\n",
    "            name=tmp_mean_vr.index[i],\n",
    "            line=dict(color=colors_mean[i]),  # ラインの色を設定\n",
    "            marker=dict(color=colors_mean[i]),  # マーカーの色を設定\n",
    "            showlegend=False\n",
    "        ),\n",
    "        row=1, col=2\n",
    "    )\n",
    "    fig.add_trace(\n",
    "        go.Scatter(\n",
    "            x=tmp_mean_vr.columns,\n",
    "            y=tmp_mean_vr.iloc[i, :] + tmp_std_vr.iloc[i, :],\n",
    "            mode='lines',\n",
    "            line=dict(color=colors_std[i]),  # ラインの色を設定\n",
    "            showlegend=False\n",
    "        ),\n",
    "        row=1, col=2\n",
    "    )\n",
    "    fig.add_trace(\n",
    "        go.Scatter(\n",
    "            x=tmp_mean_vr.columns,\n",
    "            y=tmp_mean_vr.iloc[i, :] - tmp_std_vr.iloc[i, :],\n",
    "            mode='lines',\n",
    "            fill='tonexty',\n",
    "            fillcolor=colors_std[i],\n",
    "            line=dict(color='rgba(255,255,255,0)'),\n",
    "            showlegend=False\n",
    "        ),\n",
    "        row=1, col=2\n",
    "    )\n",
    "\n",
    "# x軸の設定\n",
    "fig.update_xaxes(title_text='rule threshold', row=1, col=1)\n",
    "fig.update_xaxes(title_text='rule threshold', row=1, col=2)\n",
    "\n",
    "# レイアウトの設定\n",
    "fig.update_layout(\n",
    "    height=400,\n",
    "    width=600,\n",
    "    xaxis=dict(\n",
    "        domain=[0, 0.49],  # 左側のsubplotの幅を調整\n",
    "        title_font=dict(size=16)\n",
    "    ),\n",
    "    xaxis2=dict(\n",
    "        domain=[0.5, 1],  # 右側のsubplotの幅を調整\n",
    "        title_font=dict(size=16)\n",
    "    ),\n",
    "    legend=dict(\n",
    "        x=0.5,\n",
    "        y=0.4,\n",
    "        orientation='h'  # 水平配置\n",
    "    ),\n",
    ")\n",
    "\n",
    "# y軸の設定\n",
    "fig.update_yaxes(title_text='AUC', range=[0, 1], row=1, col=1, side='left', title_font=dict(size=16))  # col=1のグラフのy軸を左側に配置\n",
    "fig.update_yaxes(title_text='ルール違反率', range=[0, 1], row=1, col=2, side='right', title_font=dict(size=16))  # col=2のグラフのy軸を右側に配置\n",
    "\n",
    "# グラフの表示\n",
    "fig.show()"
   ]
  },
  {
   "cell_type": "code",
   "execution_count": 15,
   "metadata": {},
   "outputs": [
    {
     "data": {
      "text/plain": [
       "Index(['RuleFit Classifier (conti)', 'RuleFit Classifier (disc)', 'linear svm',\n",
       "       'linear svm (L)', 'logistic regression', 'logistic regression (L)',\n",
       "       'non-linear svm', 'non-linear svm (L)', 'tree generator (conti)',\n",
       "       'tree generator (disc)'],\n",
       "      dtype='object')"
      ]
     },
     "execution_count": 15,
     "metadata": {},
     "output_type": "execute_result"
    }
   ],
   "source": [
    "dfs_mean[0].index"
   ]
  },
  {
   "cell_type": "code",
   "execution_count": 22,
   "metadata": {},
   "outputs": [
    {
     "data": {
      "application/vnd.plotly.v1+json": {
       "config": {
        "plotlyServerURL": "https://plot.ly"
       },
       "data": [
        {
         "line": {
          "color": "rgba(0,176,246,1)"
         },
         "marker": {
          "color": "rgba(0,176,246,1)"
         },
         "mode": "lines+markers",
         "name": "RuleFit Classifier (conti)",
         "type": "scatter",
         "x": [
          0,
          0.2,
          0.4,
          0.6,
          0.8
         ],
         "xaxis": "x",
         "y": [
          0.7951160428050499,
          0.7951160428050499,
          0.7951160428050499,
          0.7951160428050499,
          0.7951160428050499
         ],
         "yaxis": "y"
        },
        {
         "line": {
          "color": "rgba(0,176,246,0.2)"
         },
         "mode": "lines",
         "showlegend": false,
         "type": "scatter",
         "x": [
          0,
          0.2,
          0.4,
          0.6,
          0.8
         ],
         "xaxis": "x",
         "y": [
          0.8276321544041804,
          0.8276321544041804,
          0.8276321544041804,
          0.8276321544041804,
          0.8276321544041804
         ],
         "yaxis": "y"
        },
        {
         "fill": "tonexty",
         "fillcolor": "rgba(0,176,246,0.2)",
         "line": {
          "color": "rgba(255,255,255,0)"
         },
         "mode": "lines",
         "showlegend": false,
         "type": "scatter",
         "x": [
          0,
          0.2,
          0.4,
          0.6,
          0.8
         ],
         "xaxis": "x",
         "y": [
          0.7625999312059194,
          0.7625999312059194,
          0.7625999312059194,
          0.7625999312059194,
          0.7625999312059194
         ],
         "yaxis": "y"
        },
        {
         "line": {
          "color": "rgba(231,107,243,1)"
         },
         "marker": {
          "color": "rgba(231,107,243,1)"
         },
         "mode": "lines+markers",
         "name": "RuleFit Classifier (disc)",
         "type": "scatter",
         "x": [
          0,
          0.2,
          0.4,
          0.6,
          0.8
         ],
         "xaxis": "x",
         "y": [
          0.8148989010564298,
          0.8148989010564298,
          0.8148989010564298,
          0.8148989010564298,
          0.8148989010564298
         ],
         "yaxis": "y"
        },
        {
         "line": {
          "color": "rgba(231,107,243,0.2)"
         },
         "mode": "lines",
         "showlegend": false,
         "type": "scatter",
         "x": [
          0,
          0.2,
          0.4,
          0.6,
          0.8
         ],
         "xaxis": "x",
         "y": [
          0.8650754825595246,
          0.8650754825595246,
          0.8650754825595246,
          0.8650754825595246,
          0.8650754825595246
         ],
         "yaxis": "y"
        },
        {
         "fill": "tonexty",
         "fillcolor": "rgba(231,107,243,0.2)",
         "line": {
          "color": "rgba(255,255,255,0)"
         },
         "mode": "lines",
         "showlegend": false,
         "type": "scatter",
         "x": [
          0,
          0.2,
          0.4,
          0.6,
          0.8
         ],
         "xaxis": "x",
         "y": [
          0.764722319553335,
          0.764722319553335,
          0.764722319553335,
          0.764722319553335,
          0.764722319553335
         ],
         "yaxis": "y"
        },
        {
         "line": {
          "color": "rgba(21,213,69,1)"
         },
         "marker": {
          "color": "rgba(21,213,69,1)"
         },
         "mode": "lines+markers",
         "name": "tree generator (conti)",
         "type": "scatter",
         "x": [
          0,
          0.2,
          0.4,
          0.6,
          0.8
         ],
         "xaxis": "x",
         "y": [
          0.832599556154117,
          0.832599556154117,
          0.832599556154117,
          0.832599556154117,
          0.832599556154117
         ],
         "yaxis": "y"
        },
        {
         "line": {
          "color": "rgba(21,213,69,0.2)"
         },
         "mode": "lines",
         "showlegend": false,
         "type": "scatter",
         "x": [
          0,
          0.2,
          0.4,
          0.6,
          0.8
         ],
         "xaxis": "x",
         "y": [
          0.8725688941539064,
          0.8725688941539064,
          0.8725688941539064,
          0.8725688941539064,
          0.8725688941539064
         ],
         "yaxis": "y"
        },
        {
         "fill": "tonexty",
         "fillcolor": "rgba(21,213,69,0.2)",
         "line": {
          "color": "rgba(255,255,255,0)"
         },
         "mode": "lines",
         "showlegend": false,
         "type": "scatter",
         "x": [
          0,
          0.2,
          0.4,
          0.6,
          0.8
         ],
         "xaxis": "x",
         "y": [
          0.7926302181543275,
          0.7926302181543275,
          0.7926302181543275,
          0.7926302181543275,
          0.7926302181543275
         ],
         "yaxis": "y"
        },
        {
         "line": {
          "color": "rgba(0,0,0,1)"
         },
         "marker": {
          "color": "rgba(0,0,0,1)"
         },
         "mode": "lines+markers",
         "name": "tree generator (disc)",
         "type": "scatter",
         "x": [
          0,
          0.2,
          0.4,
          0.6,
          0.8
         ],
         "xaxis": "x",
         "y": [
          0.7723221095803497,
          0.7723221095803497,
          0.7723221095803497,
          0.7723221095803497,
          0.7723221095803497
         ],
         "yaxis": "y"
        },
        {
         "line": {
          "color": "rgba(0,0,0,0.2)"
         },
         "mode": "lines",
         "showlegend": false,
         "type": "scatter",
         "x": [
          0,
          0.2,
          0.4,
          0.6,
          0.8
         ],
         "xaxis": "x",
         "y": [
          0.8213949562136311,
          0.8213949562136311,
          0.8213949562136311,
          0.8213949562136311,
          0.8213949562136311
         ],
         "yaxis": "y"
        },
        {
         "fill": "tonexty",
         "fillcolor": "rgba(0,0,0,0.2)",
         "line": {
          "color": "rgba(255,255,255,0)"
         },
         "mode": "lines",
         "showlegend": false,
         "type": "scatter",
         "x": [
          0,
          0.2,
          0.4,
          0.6,
          0.8
         ],
         "xaxis": "x",
         "y": [
          0.7232492629470684,
          0.7232492629470684,
          0.7232492629470684,
          0.7232492629470684,
          0.7232492629470684
         ],
         "yaxis": "y"
        },
        {
         "line": {
          "color": "rgba(0,176,246,1)"
         },
         "marker": {
          "color": "rgba(0,176,246,1)"
         },
         "mode": "lines+markers",
         "name": "RuleFit Classifier (conti)",
         "showlegend": false,
         "type": "scatter",
         "x": [
          0,
          0.2,
          0.4,
          0.6,
          0.8
         ],
         "xaxis": "x2",
         "y": [
          0.8822799493451784,
          0.9072829131652661,
          0.95,
          1,
          1
         ],
         "yaxis": "y2"
        },
        {
         "line": {
          "color": "rgba(0,176,246,0.2)"
         },
         "mode": "lines",
         "showlegend": false,
         "type": "scatter",
         "x": [
          0,
          0.2,
          0.4,
          0.6,
          0.8
         ],
         "xaxis": "x2",
         "y": [
          0.9399360828146213,
          0.997559374418905,
          1.0618033988749895,
          1,
          1
         ],
         "yaxis": "y2"
        },
        {
         "fill": "tonexty",
         "fillcolor": "rgba(0,176,246,0.2)",
         "line": {
          "color": "rgba(255,255,255,0)"
         },
         "mode": "lines",
         "showlegend": false,
         "type": "scatter",
         "x": [
          0,
          0.2,
          0.4,
          0.6,
          0.8
         ],
         "xaxis": "x2",
         "y": [
          0.8246238158757355,
          0.8170064519116272,
          0.8381966011250105,
          1,
          1
         ],
         "yaxis": "y2"
        },
        {
         "line": {
          "color": "rgba(231,107,243,1)"
         },
         "marker": {
          "color": "rgba(231,107,243,1)"
         },
         "mode": "lines+markers",
         "name": "RuleFit Classifier (disc)",
         "showlegend": false,
         "type": "scatter",
         "x": [
          0,
          0.2,
          0.4,
          0.6,
          0.8
         ],
         "xaxis": "x2",
         "y": [
          0.8057532596445803,
          0.7717086834733894,
          0.7871794871794873,
          0.8047619047619048,
          0.78
         ],
         "yaxis": "y2"
        },
        {
         "line": {
          "color": "rgba(231,107,243,0.2)"
         },
         "mode": "lines",
         "showlegend": false,
         "type": "scatter",
         "x": [
          0,
          0.2,
          0.4,
          0.6,
          0.8
         ],
         "xaxis": "x2",
         "y": [
          0.8988822866859497,
          0.8984256334106162,
          0.9125815362008283,
          1.0232394237515137,
          1.0080350850198276
         ],
         "yaxis": "y2"
        },
        {
         "fill": "tonexty",
         "fillcolor": "rgba(231,107,243,0.2)",
         "line": {
          "color": "rgba(255,255,255,0)"
         },
         "mode": "lines",
         "showlegend": false,
         "type": "scatter",
         "x": [
          0,
          0.2,
          0.4,
          0.6,
          0.8
         ],
         "xaxis": "x2",
         "y": [
          0.712624232603211,
          0.6449917335361626,
          0.6617774381581463,
          0.586284385772296,
          0.5519649149801724
         ],
         "yaxis": "y2"
        },
        {
         "line": {
          "color": "rgba(21,213,69,1)"
         },
         "marker": {
          "color": "rgba(21,213,69,1)"
         },
         "mode": "lines+markers",
         "name": "tree generator (conti)",
         "showlegend": false,
         "type": "scatter",
         "x": [
          0,
          0.2,
          0.4,
          0.6,
          0.8
         ],
         "xaxis": "x2",
         "y": [
          0.8761203961268016,
          0.8828197945845006,
          0.9096153846153847,
          0.9666666666666666,
          0.96
         ],
         "yaxis": "y2"
        },
        {
         "line": {
          "color": "rgba(21,213,69,0.2)"
         },
         "mode": "lines",
         "showlegend": false,
         "type": "scatter",
         "x": [
          0,
          0.2,
          0.4,
          0.6,
          0.8
         ],
         "xaxis": "x2",
         "y": [
          0.9235970541166956,
          0.9308920960163891,
          1.0135327391238946,
          1.0412022659166595,
          1.0494427190999915
         ],
         "yaxis": "y2"
        },
        {
         "fill": "tonexty",
         "fillcolor": "rgba(21,213,69,0.2)",
         "line": {
          "color": "rgba(255,255,255,0)"
         },
         "mode": "lines",
         "showlegend": false,
         "type": "scatter",
         "x": [
          0,
          0.2,
          0.4,
          0.6,
          0.8
         ],
         "xaxis": "x2",
         "y": [
          0.8286437381369076,
          0.834747493152612,
          0.8056980301068748,
          0.8921310674166736,
          0.8705572809000084
         ],
         "yaxis": "y2"
        },
        {
         "line": {
          "color": "rgba(0,0,0,1)"
         },
         "marker": {
          "color": "rgba(0,0,0,1)"
         },
         "mode": "lines+markers",
         "name": "tree generator (disc)",
         "showlegend": false,
         "type": "scatter",
         "x": [
          0,
          0.2,
          0.4,
          0.6,
          0.8
         ],
         "xaxis": "x2",
         "y": [
          0.745352563640169,
          0.7631185807656395,
          0.8121794871794872,
          0.9047619047619048,
          0.8800000000000001
         ],
         "yaxis": "y2"
        },
        {
         "line": {
          "color": "rgba(0,0,0,0.2)"
         },
         "mode": "lines",
         "showlegend": false,
         "type": "scatter",
         "x": [
          0,
          0.2,
          0.4,
          0.6,
          0.8
         ],
         "xaxis": "x2",
         "y": [
          0.8232714288302471,
          0.895278340780333,
          0.9407366960401063,
          1.0515336667373567,
          1.0588854381999833
         ],
         "yaxis": "y2"
        },
        {
         "fill": "tonexty",
         "fillcolor": "rgba(0,0,0,0.2)",
         "line": {
          "color": "rgba(255,255,255,0)"
         },
         "mode": "lines",
         "showlegend": false,
         "type": "scatter",
         "x": [
          0,
          0.2,
          0.4,
          0.6,
          0.8
         ],
         "xaxis": "x2",
         "y": [
          0.6674336984500909,
          0.6309588207509461,
          0.683622278318868,
          0.7579901427864529,
          0.701114561800017
         ],
         "yaxis": "y2"
        }
       ],
       "layout": {
        "height": 400,
        "legend": {
         "orientation": "h",
         "x": 0.5,
         "y": 0.4
        },
        "template": {
         "data": {
          "bar": [
           {
            "error_x": {
             "color": "#2a3f5f"
            },
            "error_y": {
             "color": "#2a3f5f"
            },
            "marker": {
             "line": {
              "color": "#E5ECF6",
              "width": 0.5
             },
             "pattern": {
              "fillmode": "overlay",
              "size": 10,
              "solidity": 0.2
             }
            },
            "type": "bar"
           }
          ],
          "barpolar": [
           {
            "marker": {
             "line": {
              "color": "#E5ECF6",
              "width": 0.5
             },
             "pattern": {
              "fillmode": "overlay",
              "size": 10,
              "solidity": 0.2
             }
            },
            "type": "barpolar"
           }
          ],
          "carpet": [
           {
            "aaxis": {
             "endlinecolor": "#2a3f5f",
             "gridcolor": "white",
             "linecolor": "white",
             "minorgridcolor": "white",
             "startlinecolor": "#2a3f5f"
            },
            "baxis": {
             "endlinecolor": "#2a3f5f",
             "gridcolor": "white",
             "linecolor": "white",
             "minorgridcolor": "white",
             "startlinecolor": "#2a3f5f"
            },
            "type": "carpet"
           }
          ],
          "choropleth": [
           {
            "colorbar": {
             "outlinewidth": 0,
             "ticks": ""
            },
            "type": "choropleth"
           }
          ],
          "contour": [
           {
            "colorbar": {
             "outlinewidth": 0,
             "ticks": ""
            },
            "colorscale": [
             [
              0,
              "#0d0887"
             ],
             [
              0.1111111111111111,
              "#46039f"
             ],
             [
              0.2222222222222222,
              "#7201a8"
             ],
             [
              0.3333333333333333,
              "#9c179e"
             ],
             [
              0.4444444444444444,
              "#bd3786"
             ],
             [
              0.5555555555555556,
              "#d8576b"
             ],
             [
              0.6666666666666666,
              "#ed7953"
             ],
             [
              0.7777777777777778,
              "#fb9f3a"
             ],
             [
              0.8888888888888888,
              "#fdca26"
             ],
             [
              1,
              "#f0f921"
             ]
            ],
            "type": "contour"
           }
          ],
          "contourcarpet": [
           {
            "colorbar": {
             "outlinewidth": 0,
             "ticks": ""
            },
            "type": "contourcarpet"
           }
          ],
          "heatmap": [
           {
            "colorbar": {
             "outlinewidth": 0,
             "ticks": ""
            },
            "colorscale": [
             [
              0,
              "#0d0887"
             ],
             [
              0.1111111111111111,
              "#46039f"
             ],
             [
              0.2222222222222222,
              "#7201a8"
             ],
             [
              0.3333333333333333,
              "#9c179e"
             ],
             [
              0.4444444444444444,
              "#bd3786"
             ],
             [
              0.5555555555555556,
              "#d8576b"
             ],
             [
              0.6666666666666666,
              "#ed7953"
             ],
             [
              0.7777777777777778,
              "#fb9f3a"
             ],
             [
              0.8888888888888888,
              "#fdca26"
             ],
             [
              1,
              "#f0f921"
             ]
            ],
            "type": "heatmap"
           }
          ],
          "heatmapgl": [
           {
            "colorbar": {
             "outlinewidth": 0,
             "ticks": ""
            },
            "colorscale": [
             [
              0,
              "#0d0887"
             ],
             [
              0.1111111111111111,
              "#46039f"
             ],
             [
              0.2222222222222222,
              "#7201a8"
             ],
             [
              0.3333333333333333,
              "#9c179e"
             ],
             [
              0.4444444444444444,
              "#bd3786"
             ],
             [
              0.5555555555555556,
              "#d8576b"
             ],
             [
              0.6666666666666666,
              "#ed7953"
             ],
             [
              0.7777777777777778,
              "#fb9f3a"
             ],
             [
              0.8888888888888888,
              "#fdca26"
             ],
             [
              1,
              "#f0f921"
             ]
            ],
            "type": "heatmapgl"
           }
          ],
          "histogram": [
           {
            "marker": {
             "pattern": {
              "fillmode": "overlay",
              "size": 10,
              "solidity": 0.2
             }
            },
            "type": "histogram"
           }
          ],
          "histogram2d": [
           {
            "colorbar": {
             "outlinewidth": 0,
             "ticks": ""
            },
            "colorscale": [
             [
              0,
              "#0d0887"
             ],
             [
              0.1111111111111111,
              "#46039f"
             ],
             [
              0.2222222222222222,
              "#7201a8"
             ],
             [
              0.3333333333333333,
              "#9c179e"
             ],
             [
              0.4444444444444444,
              "#bd3786"
             ],
             [
              0.5555555555555556,
              "#d8576b"
             ],
             [
              0.6666666666666666,
              "#ed7953"
             ],
             [
              0.7777777777777778,
              "#fb9f3a"
             ],
             [
              0.8888888888888888,
              "#fdca26"
             ],
             [
              1,
              "#f0f921"
             ]
            ],
            "type": "histogram2d"
           }
          ],
          "histogram2dcontour": [
           {
            "colorbar": {
             "outlinewidth": 0,
             "ticks": ""
            },
            "colorscale": [
             [
              0,
              "#0d0887"
             ],
             [
              0.1111111111111111,
              "#46039f"
             ],
             [
              0.2222222222222222,
              "#7201a8"
             ],
             [
              0.3333333333333333,
              "#9c179e"
             ],
             [
              0.4444444444444444,
              "#bd3786"
             ],
             [
              0.5555555555555556,
              "#d8576b"
             ],
             [
              0.6666666666666666,
              "#ed7953"
             ],
             [
              0.7777777777777778,
              "#fb9f3a"
             ],
             [
              0.8888888888888888,
              "#fdca26"
             ],
             [
              1,
              "#f0f921"
             ]
            ],
            "type": "histogram2dcontour"
           }
          ],
          "mesh3d": [
           {
            "colorbar": {
             "outlinewidth": 0,
             "ticks": ""
            },
            "type": "mesh3d"
           }
          ],
          "parcoords": [
           {
            "line": {
             "colorbar": {
              "outlinewidth": 0,
              "ticks": ""
             }
            },
            "type": "parcoords"
           }
          ],
          "pie": [
           {
            "automargin": true,
            "type": "pie"
           }
          ],
          "scatter": [
           {
            "fillpattern": {
             "fillmode": "overlay",
             "size": 10,
             "solidity": 0.2
            },
            "type": "scatter"
           }
          ],
          "scatter3d": [
           {
            "line": {
             "colorbar": {
              "outlinewidth": 0,
              "ticks": ""
             }
            },
            "marker": {
             "colorbar": {
              "outlinewidth": 0,
              "ticks": ""
             }
            },
            "type": "scatter3d"
           }
          ],
          "scattercarpet": [
           {
            "marker": {
             "colorbar": {
              "outlinewidth": 0,
              "ticks": ""
             }
            },
            "type": "scattercarpet"
           }
          ],
          "scattergeo": [
           {
            "marker": {
             "colorbar": {
              "outlinewidth": 0,
              "ticks": ""
             }
            },
            "type": "scattergeo"
           }
          ],
          "scattergl": [
           {
            "marker": {
             "colorbar": {
              "outlinewidth": 0,
              "ticks": ""
             }
            },
            "type": "scattergl"
           }
          ],
          "scattermapbox": [
           {
            "marker": {
             "colorbar": {
              "outlinewidth": 0,
              "ticks": ""
             }
            },
            "type": "scattermapbox"
           }
          ],
          "scatterpolar": [
           {
            "marker": {
             "colorbar": {
              "outlinewidth": 0,
              "ticks": ""
             }
            },
            "type": "scatterpolar"
           }
          ],
          "scatterpolargl": [
           {
            "marker": {
             "colorbar": {
              "outlinewidth": 0,
              "ticks": ""
             }
            },
            "type": "scatterpolargl"
           }
          ],
          "scatterternary": [
           {
            "marker": {
             "colorbar": {
              "outlinewidth": 0,
              "ticks": ""
             }
            },
            "type": "scatterternary"
           }
          ],
          "surface": [
           {
            "colorbar": {
             "outlinewidth": 0,
             "ticks": ""
            },
            "colorscale": [
             [
              0,
              "#0d0887"
             ],
             [
              0.1111111111111111,
              "#46039f"
             ],
             [
              0.2222222222222222,
              "#7201a8"
             ],
             [
              0.3333333333333333,
              "#9c179e"
             ],
             [
              0.4444444444444444,
              "#bd3786"
             ],
             [
              0.5555555555555556,
              "#d8576b"
             ],
             [
              0.6666666666666666,
              "#ed7953"
             ],
             [
              0.7777777777777778,
              "#fb9f3a"
             ],
             [
              0.8888888888888888,
              "#fdca26"
             ],
             [
              1,
              "#f0f921"
             ]
            ],
            "type": "surface"
           }
          ],
          "table": [
           {
            "cells": {
             "fill": {
              "color": "#EBF0F8"
             },
             "line": {
              "color": "white"
             }
            },
            "header": {
             "fill": {
              "color": "#C8D4E3"
             },
             "line": {
              "color": "white"
             }
            },
            "type": "table"
           }
          ]
         },
         "layout": {
          "annotationdefaults": {
           "arrowcolor": "#2a3f5f",
           "arrowhead": 0,
           "arrowwidth": 1
          },
          "autotypenumbers": "strict",
          "coloraxis": {
           "colorbar": {
            "outlinewidth": 0,
            "ticks": ""
           }
          },
          "colorscale": {
           "diverging": [
            [
             0,
             "#8e0152"
            ],
            [
             0.1,
             "#c51b7d"
            ],
            [
             0.2,
             "#de77ae"
            ],
            [
             0.3,
             "#f1b6da"
            ],
            [
             0.4,
             "#fde0ef"
            ],
            [
             0.5,
             "#f7f7f7"
            ],
            [
             0.6,
             "#e6f5d0"
            ],
            [
             0.7,
             "#b8e186"
            ],
            [
             0.8,
             "#7fbc41"
            ],
            [
             0.9,
             "#4d9221"
            ],
            [
             1,
             "#276419"
            ]
           ],
           "sequential": [
            [
             0,
             "#0d0887"
            ],
            [
             0.1111111111111111,
             "#46039f"
            ],
            [
             0.2222222222222222,
             "#7201a8"
            ],
            [
             0.3333333333333333,
             "#9c179e"
            ],
            [
             0.4444444444444444,
             "#bd3786"
            ],
            [
             0.5555555555555556,
             "#d8576b"
            ],
            [
             0.6666666666666666,
             "#ed7953"
            ],
            [
             0.7777777777777778,
             "#fb9f3a"
            ],
            [
             0.8888888888888888,
             "#fdca26"
            ],
            [
             1,
             "#f0f921"
            ]
           ],
           "sequentialminus": [
            [
             0,
             "#0d0887"
            ],
            [
             0.1111111111111111,
             "#46039f"
            ],
            [
             0.2222222222222222,
             "#7201a8"
            ],
            [
             0.3333333333333333,
             "#9c179e"
            ],
            [
             0.4444444444444444,
             "#bd3786"
            ],
            [
             0.5555555555555556,
             "#d8576b"
            ],
            [
             0.6666666666666666,
             "#ed7953"
            ],
            [
             0.7777777777777778,
             "#fb9f3a"
            ],
            [
             0.8888888888888888,
             "#fdca26"
            ],
            [
             1,
             "#f0f921"
            ]
           ]
          },
          "colorway": [
           "#636efa",
           "#EF553B",
           "#00cc96",
           "#ab63fa",
           "#FFA15A",
           "#19d3f3",
           "#FF6692",
           "#B6E880",
           "#FF97FF",
           "#FECB52"
          ],
          "font": {
           "color": "#2a3f5f"
          },
          "geo": {
           "bgcolor": "white",
           "lakecolor": "white",
           "landcolor": "#E5ECF6",
           "showlakes": true,
           "showland": true,
           "subunitcolor": "white"
          },
          "hoverlabel": {
           "align": "left"
          },
          "hovermode": "closest",
          "mapbox": {
           "style": "light"
          },
          "paper_bgcolor": "white",
          "plot_bgcolor": "#E5ECF6",
          "polar": {
           "angularaxis": {
            "gridcolor": "white",
            "linecolor": "white",
            "ticks": ""
           },
           "bgcolor": "#E5ECF6",
           "radialaxis": {
            "gridcolor": "white",
            "linecolor": "white",
            "ticks": ""
           }
          },
          "scene": {
           "xaxis": {
            "backgroundcolor": "#E5ECF6",
            "gridcolor": "white",
            "gridwidth": 2,
            "linecolor": "white",
            "showbackground": true,
            "ticks": "",
            "zerolinecolor": "white"
           },
           "yaxis": {
            "backgroundcolor": "#E5ECF6",
            "gridcolor": "white",
            "gridwidth": 2,
            "linecolor": "white",
            "showbackground": true,
            "ticks": "",
            "zerolinecolor": "white"
           },
           "zaxis": {
            "backgroundcolor": "#E5ECF6",
            "gridcolor": "white",
            "gridwidth": 2,
            "linecolor": "white",
            "showbackground": true,
            "ticks": "",
            "zerolinecolor": "white"
           }
          },
          "shapedefaults": {
           "line": {
            "color": "#2a3f5f"
           }
          },
          "ternary": {
           "aaxis": {
            "gridcolor": "white",
            "linecolor": "white",
            "ticks": ""
           },
           "baxis": {
            "gridcolor": "white",
            "linecolor": "white",
            "ticks": ""
           },
           "bgcolor": "#E5ECF6",
           "caxis": {
            "gridcolor": "white",
            "linecolor": "white",
            "ticks": ""
           }
          },
          "title": {
           "x": 0.05
          },
          "xaxis": {
           "automargin": true,
           "gridcolor": "white",
           "linecolor": "white",
           "ticks": "",
           "title": {
            "standoff": 15
           },
           "zerolinecolor": "white",
           "zerolinewidth": 2
          },
          "yaxis": {
           "automargin": true,
           "gridcolor": "white",
           "linecolor": "white",
           "ticks": "",
           "title": {
            "standoff": 15
           },
           "zerolinecolor": "white",
           "zerolinewidth": 2
          }
         }
        },
        "width": 600,
        "xaxis": {
         "anchor": "y",
         "domain": [
          0,
          0.49
         ],
         "title": {
          "font": {
           "size": 16
          },
          "text": "rule threshold"
         }
        },
        "xaxis2": {
         "anchor": "y2",
         "domain": [
          0.5,
          1
         ],
         "title": {
          "font": {
           "size": 16
          },
          "text": "rule threshold"
         }
        },
        "yaxis": {
         "anchor": "x",
         "domain": [
          0,
          1
         ],
         "range": [
          0,
          1
         ],
         "side": "left",
         "title": {
          "font": {
           "size": 16
          },
          "text": "AUC"
         }
        },
        "yaxis2": {
         "anchor": "x2",
         "domain": [
          0,
          1
         ],
         "range": [
          0,
          1
         ],
         "side": "right",
         "title": {
          "font": {
           "size": 16
          },
          "text": "ルール違反率"
         }
        }
       }
      }
     },
     "metadata": {},
     "output_type": "display_data"
    }
   ],
   "source": [
    "import plotly.graph_objects as go\n",
    "from plotly.subplots import make_subplots\n",
    "\n",
    "\n",
    "# グラフのデータを準備\n",
    "index = ['RuleFit Classifier (conti)', 'RuleFit Classifier (disc)', 'tree generator (conti)',\n",
    "       'tree generator (disc)']\n",
    "colors_mean = ['rgba(0,176,246,1)', 'rgba(231,107,243,1)', 'rgba(21,213,69,1)', 'rgba(0,0,0,1)']  # indexに対応する色\n",
    "colors_std  = ['rgba(0,176,246,0.2)', 'rgba(231,107,243,0.2)', 'rgba(21,213,69,0.2)', 'rgba(0,0,0,0.2)']  # indexに対応する色\n",
    "\n",
    "\n",
    "# グラフ1: AUCのデータ\n",
    "col_auc = 'auc'\n",
    "tmp_mean_auc = pd.DataFrame([\n",
    "    {info: df.loc[index[0], col_auc] for info, df in zip(infos, dfs_mean)},\n",
    "    {info: df.loc[index[1], col_auc] for info, df in zip(infos, dfs_mean)},\n",
    "    {info: df.loc[index[2], col_auc] for info, df in zip(infos, dfs_mean)},\n",
    "    {info: df.loc[index[3], col_auc] for info, df in zip(infos, dfs_mean)}\n",
    "], index=index)\n",
    "tmp_std_auc = pd.DataFrame([\n",
    "    {info: df.loc[index[0], col_auc] for info, df in zip(infos, dfs_std)},\n",
    "    {info: df.loc[index[1], col_auc] for info, df in zip(infos, dfs_std)},\n",
    "    {info: df.loc[index[2], col_auc] for info, df in zip(infos, dfs_std)},\n",
    "    {info: df.loc[index[3], col_auc] for info, df in zip(infos, dfs_std)}\n",
    "], index=index)\n",
    "\n",
    "# グラフ2: ルール違反率のデータ\n",
    "col_vr = 'violation_rate'\n",
    "tmp_mean_vr = pd.DataFrame([\n",
    "    {info: df.loc[index[0], col_vr] for info, df in zip(infos, dfs_mean)},\n",
    "    {info: df.loc[index[1], col_vr] for info, df in zip(infos, dfs_mean)},\n",
    "    {info: df.loc[index[2], col_vr] for info, df in zip(infos, dfs_mean)},\n",
    "    {info: df.loc[index[3], col_vr] for info, df in zip(infos, dfs_mean)}\n",
    "], index=index)\n",
    "tmp_std_vr = pd.DataFrame([\n",
    "    {info: df.loc[index[0], col_vr] for info, df in zip(infos, dfs_std)},\n",
    "    {info: df.loc[index[1], col_vr] for info, df in zip(infos, dfs_std)},\n",
    "    {info: df.loc[index[2], col_vr] for info, df in zip(infos, dfs_std)},\n",
    "    {info: df.loc[index[3], col_vr] for info, df in zip(infos, dfs_std)}\n",
    "], index=index)\n",
    "\n",
    "\n",
    "# サブプロットの作成\n",
    "# fig = make_subplots(rows=1, cols=2, subplot_titles=('AUC', 'ルール違反率'))\n",
    "fig = make_subplots(rows=1, cols=2)\n",
    "\n",
    "# グラフ1: AUC\n",
    "for i in range(len(tmp_mean_auc)):\n",
    "    fig.add_trace(\n",
    "        go.Scatter(\n",
    "            x=tmp_mean_auc.columns,\n",
    "            y=tmp_mean_auc.iloc[i, :],\n",
    "            mode='lines+markers',\n",
    "            name=tmp_mean_auc.index[i],\n",
    "            line=dict(color=colors_mean[i]),  # ラインの色を設定\n",
    "            marker=dict(color=colors_mean[i])  # マーカーの色を設定\n",
    "        ),\n",
    "        row=1, col=1\n",
    "    )\n",
    "    fig.add_trace(\n",
    "        go.Scatter(\n",
    "            x=tmp_mean_auc.columns,\n",
    "            y=tmp_mean_auc.iloc[i, :] + tmp_std_auc.iloc[i, :],\n",
    "            mode='lines',\n",
    "            line=dict(color=colors_std[i]),  # ラインの色を設定\n",
    "            showlegend=False\n",
    "        ),\n",
    "        row=1, col=1\n",
    "    )\n",
    "    fig.add_trace(\n",
    "        go.Scatter(\n",
    "            x=tmp_mean_auc.columns,\n",
    "            y=tmp_mean_auc.iloc[i, :] - tmp_std_auc.iloc[i, :],\n",
    "            mode='lines',\n",
    "            fill='tonexty',\n",
    "            fillcolor=colors_std[i],\n",
    "            line=dict(color='rgba(255,255,255,0)'),\n",
    "            showlegend=False\n",
    "        ),\n",
    "        row=1, col=1\n",
    "    )\n",
    "\n",
    "# グラフ2: ルール違反率\n",
    "for i in range(len(tmp_mean_vr)):\n",
    "    fig.add_trace(\n",
    "        go.Scatter(\n",
    "            x=tmp_mean_vr.columns,\n",
    "            y=tmp_mean_vr.iloc[i, :],\n",
    "            mode='lines+markers',\n",
    "            name=tmp_mean_vr.index[i],\n",
    "            line=dict(color=colors_mean[i]),  # ラインの色を設定\n",
    "            marker=dict(color=colors_mean[i]),  # マーカーの色を設定\n",
    "            showlegend=False\n",
    "        ),\n",
    "        row=1, col=2\n",
    "    )\n",
    "    fig.add_trace(\n",
    "        go.Scatter(\n",
    "            x=tmp_mean_vr.columns,\n",
    "            y=tmp_mean_vr.iloc[i, :] + tmp_std_vr.iloc[i, :],\n",
    "            mode='lines',\n",
    "            line=dict(color=colors_std[i]),  # ラインの色を設定\n",
    "            showlegend=False\n",
    "        ),\n",
    "        row=1, col=2\n",
    "    )\n",
    "    fig.add_trace(\n",
    "        go.Scatter(\n",
    "            x=tmp_mean_vr.columns,\n",
    "            y=tmp_mean_vr.iloc[i, :] - tmp_std_vr.iloc[i, :],\n",
    "            mode='lines',\n",
    "            fill='tonexty',\n",
    "            fillcolor=colors_std[i],\n",
    "            line=dict(color='rgba(255,255,255,0)'),\n",
    "            showlegend=False\n",
    "        ),\n",
    "        row=1, col=2\n",
    "    )\n",
    "\n",
    "# x軸の設定\n",
    "fig.update_xaxes(title_text='rule threshold', row=1, col=1)\n",
    "fig.update_xaxes(title_text='rule threshold', row=1, col=2)\n",
    "\n",
    "# レイアウトの設定\n",
    "fig.update_layout(\n",
    "    height=400,\n",
    "    width=600,\n",
    "    xaxis=dict(\n",
    "        domain=[0, 0.49],  # 左側のsubplotの幅を調整\n",
    "        title_font=dict(size=16)\n",
    "    ),\n",
    "    xaxis2=dict(\n",
    "        domain=[0.5, 1],  # 右側のsubplotの幅を調整\n",
    "        title_font=dict(size=16)\n",
    "    ),\n",
    "    legend=dict(\n",
    "        x=0.5,\n",
    "        y=0.4,\n",
    "        orientation='h'  # 水平配置\n",
    "    ),\n",
    ")\n",
    "\n",
    "# y軸の設定\n",
    "fig.update_yaxes(title_text='AUC', range=[0, 1], row=1, col=1, side='left', title_font=dict(size=16))  # col=1のグラフのy軸を左側に配置\n",
    "fig.update_yaxes(title_text='ルール違反率', range=[0, 1], row=1, col=2, side='right', title_font=dict(size=16))  # col=2のグラフのy軸を右側に配置\n",
    "\n",
    "# グラフの表示\n",
    "fig.show()"
   ]
  },
  {
   "cell_type": "code",
   "execution_count": null,
   "metadata": {},
   "outputs": [],
   "source": []
  },
  {
   "cell_type": "code",
   "execution_count": null,
   "metadata": {},
   "outputs": [],
   "source": []
  },
  {
   "cell_type": "code",
   "execution_count": null,
   "metadata": {},
   "outputs": [],
   "source": []
  },
  {
   "cell_type": "code",
   "execution_count": null,
   "metadata": {},
   "outputs": [],
   "source": []
  },
  {
   "cell_type": "code",
   "execution_count": null,
   "metadata": {},
   "outputs": [],
   "source": []
  },
  {
   "cell_type": "code",
   "execution_count": null,
   "metadata": {},
   "outputs": [],
   "source": []
  },
  {
   "cell_type": "code",
   "execution_count": null,
   "metadata": {},
   "outputs": [],
   "source": []
  }
 ],
 "metadata": {
  "kernelspec": {
   "display_name": "myenv",
   "language": "python",
   "name": "python3"
  },
  "language_info": {
   "codemirror_mode": {
    "name": "ipython",
    "version": 3
   },
   "file_extension": ".py",
   "mimetype": "text/x-python",
   "name": "python",
   "nbconvert_exporter": "python",
   "pygments_lexer": "ipython3",
   "version": "3.11.6"
  }
 },
 "nbformat": 4,
 "nbformat_minor": 2
}
