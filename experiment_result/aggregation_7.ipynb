{
 "cells": [
  {
   "cell_type": "markdown",
   "metadata": {},
   "source": [
    "# ルール採用の閾値の違いによる予測結果の変化"
   ]
  },
  {
   "cell_type": "code",
   "execution_count": 14,
   "metadata": {},
   "outputs": [
    {
     "data": {
      "text/html": [
       "<div>\n",
       "<style scoped>\n",
       "    .dataframe tbody tr th:only-of-type {\n",
       "        vertical-align: middle;\n",
       "    }\n",
       "\n",
       "    .dataframe tbody tr th {\n",
       "        vertical-align: top;\n",
       "    }\n",
       "\n",
       "    .dataframe thead th {\n",
       "        text-align: right;\n",
       "    }\n",
       "</style>\n",
       "<table border=\"1\" class=\"dataframe\">\n",
       "  <thead>\n",
       "    <tr style=\"text-align: right;\">\n",
       "      <th></th>\n",
       "      <th>accuracy</th>\n",
       "      <th>precision</th>\n",
       "      <th>recall</th>\n",
       "      <th>f1</th>\n",
       "      <th>auc</th>\n",
       "      <th>n_violation</th>\n",
       "      <th>n_rule</th>\n",
       "      <th>violation_rate</th>\n",
       "      <th>n_violation (instance)</th>\n",
       "      <th>n_evaluation (instance)</th>\n",
       "      <th>violation_rate (instance)</th>\n",
       "    </tr>\n",
       "  </thead>\n",
       "  <tbody>\n",
       "    <tr>\n",
       "      <th>RuleFit Classifier (disc)</th>\n",
       "      <td>0.783582</td>\n",
       "      <td>0.742431</td>\n",
       "      <td>0.521271</td>\n",
       "      <td>0.610252</td>\n",
       "      <td>0.815869</td>\n",
       "      <td>28.4</td>\n",
       "      <td>35.0</td>\n",
       "      <td>0.804302</td>\n",
       "      <td>508.2</td>\n",
       "      <td>580.0</td>\n",
       "      <td>0.874425</td>\n",
       "    </tr>\n",
       "    <tr>\n",
       "      <th>tree generator (disc)</th>\n",
       "      <td>0.741791</td>\n",
       "      <td>0.627843</td>\n",
       "      <td>0.557706</td>\n",
       "      <td>0.582608</td>\n",
       "      <td>0.772322</td>\n",
       "      <td>25.8</td>\n",
       "      <td>35.0</td>\n",
       "      <td>0.732995</td>\n",
       "      <td>497.8</td>\n",
       "      <td>580.0</td>\n",
       "      <td>0.856211</td>\n",
       "    </tr>\n",
       "    <tr>\n",
       "      <th>RuleFit Classifier (conti)</th>\n",
       "      <td>0.732836</td>\n",
       "      <td>0.601979</td>\n",
       "      <td>0.553471</td>\n",
       "      <td>0.571908</td>\n",
       "      <td>0.795116</td>\n",
       "      <td>30.8</td>\n",
       "      <td>35.0</td>\n",
       "      <td>0.882121</td>\n",
       "      <td>509.8</td>\n",
       "      <td>580.0</td>\n",
       "      <td>0.87818</td>\n",
       "    </tr>\n",
       "    <tr>\n",
       "      <th>tree generator (conti)</th>\n",
       "      <td>0.78209</td>\n",
       "      <td>0.715158</td>\n",
       "      <td>0.568106</td>\n",
       "      <td>0.62746</td>\n",
       "      <td>0.8326</td>\n",
       "      <td>30.8</td>\n",
       "      <td>35.0</td>\n",
       "      <td>0.880683</td>\n",
       "      <td>513.6</td>\n",
       "      <td>580.0</td>\n",
       "      <td>0.884501</td>\n",
       "    </tr>\n",
       "    <tr>\n",
       "      <th>linear svm (L)</th>\n",
       "      <td>0.452239</td>\n",
       "      <td>0.388381</td>\n",
       "      <td>0.900178</td>\n",
       "      <td>0.528129</td>\n",
       "      <td>0.443072</td>\n",
       "      <td>23.2</td>\n",
       "      <td>35.0</td>\n",
       "      <td>0.657666</td>\n",
       "      <td>362.6</td>\n",
       "      <td>580.0</td>\n",
       "      <td>0.61644</td>\n",
       "    </tr>\n",
       "    <tr>\n",
       "      <th>non-linear svm (L)</th>\n",
       "      <td>0.731343</td>\n",
       "      <td>0.572229</td>\n",
       "      <td>0.722588</td>\n",
       "      <td>0.634981</td>\n",
       "      <td>0.821484</td>\n",
       "      <td>22.0</td>\n",
       "      <td>35.0</td>\n",
       "      <td>0.621714</td>\n",
       "      <td>137.6</td>\n",
       "      <td>580.0</td>\n",
       "      <td>0.236895</td>\n",
       "    </tr>\n",
       "    <tr>\n",
       "      <th>logistic regression (L)</th>\n",
       "      <td>0.770149</td>\n",
       "      <td>0.732412</td>\n",
       "      <td>0.470891</td>\n",
       "      <td>0.570208</td>\n",
       "      <td>0.826615</td>\n",
       "      <td>19.2</td>\n",
       "      <td>35.0</td>\n",
       "      <td>0.551195</td>\n",
       "      <td>95.0</td>\n",
       "      <td>580.0</td>\n",
       "      <td>0.164107</td>\n",
       "    </tr>\n",
       "    <tr>\n",
       "      <th>linear svm</th>\n",
       "      <td>0.779104</td>\n",
       "      <td>0.711436</td>\n",
       "      <td>0.551175</td>\n",
       "      <td>0.618693</td>\n",
       "      <td>0.837805</td>\n",
       "      <td>30.8</td>\n",
       "      <td>35.0</td>\n",
       "      <td>0.881336</td>\n",
       "      <td>511.6</td>\n",
       "      <td>580.0</td>\n",
       "      <td>0.880992</td>\n",
       "    </tr>\n",
       "    <tr>\n",
       "      <th>non-linear svm</th>\n",
       "      <td>0.780597</td>\n",
       "      <td>0.75907</td>\n",
       "      <td>0.479714</td>\n",
       "      <td>0.587201</td>\n",
       "      <td>0.838064</td>\n",
       "      <td>31.8</td>\n",
       "      <td>35.0</td>\n",
       "      <td>0.908559</td>\n",
       "      <td>519.4</td>\n",
       "      <td>580.0</td>\n",
       "      <td>0.894818</td>\n",
       "    </tr>\n",
       "    <tr>\n",
       "      <th>logistic regression</th>\n",
       "      <td>0.78209</td>\n",
       "      <td>0.731143</td>\n",
       "      <td>0.530165</td>\n",
       "      <td>0.612464</td>\n",
       "      <td>0.840573</td>\n",
       "      <td>31.0</td>\n",
       "      <td>35.0</td>\n",
       "      <td>0.886892</td>\n",
       "      <td>514.2</td>\n",
       "      <td>580.0</td>\n",
       "      <td>0.885655</td>\n",
       "    </tr>\n",
       "  </tbody>\n",
       "</table>\n",
       "</div>"
      ],
      "text/plain": [
       "                            accuracy precision    recall        f1       auc  \\\n",
       "RuleFit Classifier (disc)   0.783582  0.742431  0.521271  0.610252  0.815869   \n",
       "tree generator (disc)       0.741791  0.627843  0.557706  0.582608  0.772322   \n",
       "RuleFit Classifier (conti)  0.732836  0.601979  0.553471  0.571908  0.795116   \n",
       "tree generator (conti)       0.78209  0.715158  0.568106   0.62746    0.8326   \n",
       "linear svm (L)              0.452239  0.388381  0.900178  0.528129  0.443072   \n",
       "non-linear svm (L)          0.731343  0.572229  0.722588  0.634981  0.821484   \n",
       "logistic regression (L)     0.770149  0.732412  0.470891  0.570208  0.826615   \n",
       "linear svm                  0.779104  0.711436  0.551175  0.618693  0.837805   \n",
       "non-linear svm              0.780597   0.75907  0.479714  0.587201  0.838064   \n",
       "logistic regression          0.78209  0.731143  0.530165  0.612464  0.840573   \n",
       "\n",
       "                           n_violation n_rule violation_rate  \\\n",
       "RuleFit Classifier (disc)         28.4   35.0       0.804302   \n",
       "tree generator (disc)             25.8   35.0       0.732995   \n",
       "RuleFit Classifier (conti)        30.8   35.0       0.882121   \n",
       "tree generator (conti)            30.8   35.0       0.880683   \n",
       "linear svm (L)                    23.2   35.0       0.657666   \n",
       "non-linear svm (L)                22.0   35.0       0.621714   \n",
       "logistic regression (L)           19.2   35.0       0.551195   \n",
       "linear svm                        30.8   35.0       0.881336   \n",
       "non-linear svm                    31.8   35.0       0.908559   \n",
       "logistic regression               31.0   35.0       0.886892   \n",
       "\n",
       "                           n_violation (instance) n_evaluation (instance)  \\\n",
       "RuleFit Classifier (disc)                   508.2                   580.0   \n",
       "tree generator (disc)                       497.8                   580.0   \n",
       "RuleFit Classifier (conti)                  509.8                   580.0   \n",
       "tree generator (conti)                      513.6                   580.0   \n",
       "linear svm (L)                              362.6                   580.0   \n",
       "non-linear svm (L)                          137.6                   580.0   \n",
       "logistic regression (L)                      95.0                   580.0   \n",
       "linear svm                                  511.6                   580.0   \n",
       "non-linear svm                              519.4                   580.0   \n",
       "logistic regression                         514.2                   580.0   \n",
       "\n",
       "                           violation_rate (instance)  \n",
       "RuleFit Classifier (disc)                   0.874425  \n",
       "tree generator (disc)                       0.856211  \n",
       "RuleFit Classifier (conti)                   0.87818  \n",
       "tree generator (conti)                      0.884501  \n",
       "linear svm (L)                               0.61644  \n",
       "non-linear svm (L)                          0.236895  \n",
       "logistic regression (L)                     0.164107  \n",
       "linear svm                                  0.880992  \n",
       "non-linear svm                              0.894818  \n",
       "logistic regression                         0.885655  "
      ]
     },
     "metadata": {},
     "output_type": "display_data"
    },
    {
     "data": {
      "text/html": [
       "<div>\n",
       "<style scoped>\n",
       "    .dataframe tbody tr th:only-of-type {\n",
       "        vertical-align: middle;\n",
       "    }\n",
       "\n",
       "    .dataframe tbody tr th {\n",
       "        vertical-align: top;\n",
       "    }\n",
       "\n",
       "    .dataframe thead th {\n",
       "        text-align: right;\n",
       "    }\n",
       "</style>\n",
       "<table border=\"1\" class=\"dataframe\">\n",
       "  <thead>\n",
       "    <tr style=\"text-align: right;\">\n",
       "      <th></th>\n",
       "      <th>accuracy</th>\n",
       "      <th>precision</th>\n",
       "      <th>recall</th>\n",
       "      <th>f1</th>\n",
       "      <th>auc</th>\n",
       "      <th>n_violation</th>\n",
       "      <th>n_rule</th>\n",
       "      <th>violation_rate</th>\n",
       "      <th>n_violation (instance)</th>\n",
       "      <th>n_evaluation (instance)</th>\n",
       "      <th>violation_rate (instance)</th>\n",
       "    </tr>\n",
       "  </thead>\n",
       "  <tbody>\n",
       "    <tr>\n",
       "      <th>RuleFit Classifier (disc)</th>\n",
       "      <td>0.783582</td>\n",
       "      <td>0.742431</td>\n",
       "      <td>0.521271</td>\n",
       "      <td>0.610252</td>\n",
       "      <td>0.815869</td>\n",
       "      <td>14.6</td>\n",
       "      <td>18.8</td>\n",
       "      <td>0.774747</td>\n",
       "      <td>361.8</td>\n",
       "      <td>405.0</td>\n",
       "      <td>0.882795</td>\n",
       "    </tr>\n",
       "    <tr>\n",
       "      <th>tree generator (disc)</th>\n",
       "      <td>0.741791</td>\n",
       "      <td>0.627843</td>\n",
       "      <td>0.557706</td>\n",
       "      <td>0.582608</td>\n",
       "      <td>0.772322</td>\n",
       "      <td>14.2</td>\n",
       "      <td>18.8</td>\n",
       "      <td>0.756566</td>\n",
       "      <td>361.8</td>\n",
       "      <td>405.0</td>\n",
       "      <td>0.881569</td>\n",
       "    </tr>\n",
       "    <tr>\n",
       "      <th>RuleFit Classifier (conti)</th>\n",
       "      <td>0.732836</td>\n",
       "      <td>0.601979</td>\n",
       "      <td>0.553471</td>\n",
       "      <td>0.571908</td>\n",
       "      <td>0.795116</td>\n",
       "      <td>17.0</td>\n",
       "      <td>18.8</td>\n",
       "      <td>0.910101</td>\n",
       "      <td>367.6</td>\n",
       "      <td>405.0</td>\n",
       "      <td>0.899792</td>\n",
       "    </tr>\n",
       "    <tr>\n",
       "      <th>tree generator (conti)</th>\n",
       "      <td>0.78209</td>\n",
       "      <td>0.715158</td>\n",
       "      <td>0.568106</td>\n",
       "      <td>0.62746</td>\n",
       "      <td>0.8326</td>\n",
       "      <td>16.6</td>\n",
       "      <td>18.8</td>\n",
       "      <td>0.885859</td>\n",
       "      <td>368.8</td>\n",
       "      <td>405.0</td>\n",
       "      <td>0.90318</td>\n",
       "    </tr>\n",
       "    <tr>\n",
       "      <th>linear svm (L)</th>\n",
       "      <td>0.540299</td>\n",
       "      <td>0.430336</td>\n",
       "      <td>0.871656</td>\n",
       "      <td>0.559643</td>\n",
       "      <td>0.672237</td>\n",
       "      <td>12.0</td>\n",
       "      <td>18.8</td>\n",
       "      <td>0.636364</td>\n",
       "      <td>204.6</td>\n",
       "      <td>405.0</td>\n",
       "      <td>0.506281</td>\n",
       "    </tr>\n",
       "    <tr>\n",
       "      <th>non-linear svm (L)</th>\n",
       "      <td>0.726866</td>\n",
       "      <td>0.559084</td>\n",
       "      <td>0.755122</td>\n",
       "      <td>0.641246</td>\n",
       "      <td>0.827862</td>\n",
       "      <td>12.6</td>\n",
       "      <td>18.8</td>\n",
       "      <td>0.669697</td>\n",
       "      <td>95.0</td>\n",
       "      <td>405.0</td>\n",
       "      <td>0.234953</td>\n",
       "    </tr>\n",
       "    <tr>\n",
       "      <th>logistic regression (L)</th>\n",
       "      <td>0.776119</td>\n",
       "      <td>0.757705</td>\n",
       "      <td>0.470891</td>\n",
       "      <td>0.577723</td>\n",
       "      <td>0.825458</td>\n",
       "      <td>10.6</td>\n",
       "      <td>18.8</td>\n",
       "      <td>0.566667</td>\n",
       "      <td>48.4</td>\n",
       "      <td>405.0</td>\n",
       "      <td>0.124301</td>\n",
       "    </tr>\n",
       "    <tr>\n",
       "      <th>linear svm</th>\n",
       "      <td>0.779104</td>\n",
       "      <td>0.711436</td>\n",
       "      <td>0.551175</td>\n",
       "      <td>0.618693</td>\n",
       "      <td>0.837805</td>\n",
       "      <td>16.8</td>\n",
       "      <td>18.8</td>\n",
       "      <td>0.89697</td>\n",
       "      <td>367.0</td>\n",
       "      <td>405.0</td>\n",
       "      <td>0.89821</td>\n",
       "    </tr>\n",
       "    <tr>\n",
       "      <th>non-linear svm</th>\n",
       "      <td>0.780597</td>\n",
       "      <td>0.75907</td>\n",
       "      <td>0.479714</td>\n",
       "      <td>0.587201</td>\n",
       "      <td>0.838064</td>\n",
       "      <td>17.2</td>\n",
       "      <td>18.8</td>\n",
       "      <td>0.917172</td>\n",
       "      <td>370.8</td>\n",
       "      <td>405.0</td>\n",
       "      <td>0.907616</td>\n",
       "    </tr>\n",
       "    <tr>\n",
       "      <th>logistic regression</th>\n",
       "      <td>0.78209</td>\n",
       "      <td>0.731143</td>\n",
       "      <td>0.530165</td>\n",
       "      <td>0.612464</td>\n",
       "      <td>0.840573</td>\n",
       "      <td>17.0</td>\n",
       "      <td>18.8</td>\n",
       "      <td>0.908081</td>\n",
       "      <td>368.8</td>\n",
       "      <td>405.0</td>\n",
       "      <td>0.902848</td>\n",
       "    </tr>\n",
       "  </tbody>\n",
       "</table>\n",
       "</div>"
      ],
      "text/plain": [
       "                            accuracy precision    recall        f1       auc  \\\n",
       "RuleFit Classifier (disc)   0.783582  0.742431  0.521271  0.610252  0.815869   \n",
       "tree generator (disc)       0.741791  0.627843  0.557706  0.582608  0.772322   \n",
       "RuleFit Classifier (conti)  0.732836  0.601979  0.553471  0.571908  0.795116   \n",
       "tree generator (conti)       0.78209  0.715158  0.568106   0.62746    0.8326   \n",
       "linear svm (L)              0.540299  0.430336  0.871656  0.559643  0.672237   \n",
       "non-linear svm (L)          0.726866  0.559084  0.755122  0.641246  0.827862   \n",
       "logistic regression (L)     0.776119  0.757705  0.470891  0.577723  0.825458   \n",
       "linear svm                  0.779104  0.711436  0.551175  0.618693  0.837805   \n",
       "non-linear svm              0.780597   0.75907  0.479714  0.587201  0.838064   \n",
       "logistic regression          0.78209  0.731143  0.530165  0.612464  0.840573   \n",
       "\n",
       "                           n_violation n_rule violation_rate  \\\n",
       "RuleFit Classifier (disc)         14.6   18.8       0.774747   \n",
       "tree generator (disc)             14.2   18.8       0.756566   \n",
       "RuleFit Classifier (conti)        17.0   18.8       0.910101   \n",
       "tree generator (conti)            16.6   18.8       0.885859   \n",
       "linear svm (L)                    12.0   18.8       0.636364   \n",
       "non-linear svm (L)                12.6   18.8       0.669697   \n",
       "logistic regression (L)           10.6   18.8       0.566667   \n",
       "linear svm                        16.8   18.8        0.89697   \n",
       "non-linear svm                    17.2   18.8       0.917172   \n",
       "logistic regression               17.0   18.8       0.908081   \n",
       "\n",
       "                           n_violation (instance) n_evaluation (instance)  \\\n",
       "RuleFit Classifier (disc)                   361.8                   405.0   \n",
       "tree generator (disc)                       361.8                   405.0   \n",
       "RuleFit Classifier (conti)                  367.6                   405.0   \n",
       "tree generator (conti)                      368.8                   405.0   \n",
       "linear svm (L)                              204.6                   405.0   \n",
       "non-linear svm (L)                           95.0                   405.0   \n",
       "logistic regression (L)                      48.4                   405.0   \n",
       "linear svm                                  367.0                   405.0   \n",
       "non-linear svm                              370.8                   405.0   \n",
       "logistic regression                         368.8                   405.0   \n",
       "\n",
       "                           violation_rate (instance)  \n",
       "RuleFit Classifier (disc)                   0.882795  \n",
       "tree generator (disc)                       0.881569  \n",
       "RuleFit Classifier (conti)                  0.899792  \n",
       "tree generator (conti)                       0.90318  \n",
       "linear svm (L)                              0.506281  \n",
       "non-linear svm (L)                          0.234953  \n",
       "logistic regression (L)                     0.124301  \n",
       "linear svm                                   0.89821  \n",
       "non-linear svm                              0.907616  \n",
       "logistic regression                         0.902848  "
      ]
     },
     "metadata": {},
     "output_type": "display_data"
    },
    {
     "data": {
      "text/html": [
       "<div>\n",
       "<style scoped>\n",
       "    .dataframe tbody tr th:only-of-type {\n",
       "        vertical-align: middle;\n",
       "    }\n",
       "\n",
       "    .dataframe tbody tr th {\n",
       "        vertical-align: top;\n",
       "    }\n",
       "\n",
       "    .dataframe thead th {\n",
       "        text-align: right;\n",
       "    }\n",
       "</style>\n",
       "<table border=\"1\" class=\"dataframe\">\n",
       "  <thead>\n",
       "    <tr style=\"text-align: right;\">\n",
       "      <th></th>\n",
       "      <th>accuracy</th>\n",
       "      <th>precision</th>\n",
       "      <th>recall</th>\n",
       "      <th>f1</th>\n",
       "      <th>auc</th>\n",
       "      <th>n_violation</th>\n",
       "      <th>n_rule</th>\n",
       "      <th>violation_rate</th>\n",
       "      <th>n_violation (instance)</th>\n",
       "      <th>n_evaluation (instance)</th>\n",
       "      <th>violation_rate (instance)</th>\n",
       "    </tr>\n",
       "  </thead>\n",
       "  <tbody>\n",
       "    <tr>\n",
       "      <th>RuleFit Classifier (disc)</th>\n",
       "      <td>0.783582</td>\n",
       "      <td>0.742431</td>\n",
       "      <td>0.521271</td>\n",
       "      <td>0.610252</td>\n",
       "      <td>0.815869</td>\n",
       "      <td>8.2</td>\n",
       "      <td>10.6</td>\n",
       "      <td>0.791026</td>\n",
       "      <td>169.0</td>\n",
       "      <td>204.6</td>\n",
       "      <td>0.820732</td>\n",
       "    </tr>\n",
       "    <tr>\n",
       "      <th>tree generator (disc)</th>\n",
       "      <td>0.741791</td>\n",
       "      <td>0.627843</td>\n",
       "      <td>0.557706</td>\n",
       "      <td>0.582608</td>\n",
       "      <td>0.772322</td>\n",
       "      <td>8.4</td>\n",
       "      <td>10.6</td>\n",
       "      <td>0.816026</td>\n",
       "      <td>171.2</td>\n",
       "      <td>204.6</td>\n",
       "      <td>0.829489</td>\n",
       "    </tr>\n",
       "    <tr>\n",
       "      <th>RuleFit Classifier (conti)</th>\n",
       "      <td>0.732836</td>\n",
       "      <td>0.601979</td>\n",
       "      <td>0.553471</td>\n",
       "      <td>0.571908</td>\n",
       "      <td>0.795116</td>\n",
       "      <td>10.0</td>\n",
       "      <td>10.6</td>\n",
       "      <td>0.953846</td>\n",
       "      <td>174.8</td>\n",
       "      <td>204.6</td>\n",
       "      <td>0.849932</td>\n",
       "    </tr>\n",
       "    <tr>\n",
       "      <th>tree generator (conti)</th>\n",
       "      <td>0.78209</td>\n",
       "      <td>0.715158</td>\n",
       "      <td>0.568106</td>\n",
       "      <td>0.62746</td>\n",
       "      <td>0.8326</td>\n",
       "      <td>9.6</td>\n",
       "      <td>10.6</td>\n",
       "      <td>0.913462</td>\n",
       "      <td>174.6</td>\n",
       "      <td>204.6</td>\n",
       "      <td>0.845369</td>\n",
       "    </tr>\n",
       "    <tr>\n",
       "      <th>linear svm (L)</th>\n",
       "      <td>0.404478</td>\n",
       "      <td>0.371566</td>\n",
       "      <td>0.95</td>\n",
       "      <td>0.518457</td>\n",
       "      <td>0.379923</td>\n",
       "      <td>7.2</td>\n",
       "      <td>10.6</td>\n",
       "      <td>0.703205</td>\n",
       "      <td>145.0</td>\n",
       "      <td>204.6</td>\n",
       "      <td>0.664135</td>\n",
       "    </tr>\n",
       "    <tr>\n",
       "      <th>non-linear svm (L)</th>\n",
       "      <td>0.708955</td>\n",
       "      <td>0.537741</td>\n",
       "      <td>0.784146</td>\n",
       "      <td>0.632848</td>\n",
       "      <td>0.827749</td>\n",
       "      <td>7.2</td>\n",
       "      <td>10.6</td>\n",
       "      <td>0.699634</td>\n",
       "      <td>44.4</td>\n",
       "      <td>204.6</td>\n",
       "      <td>0.21139</td>\n",
       "    </tr>\n",
       "    <tr>\n",
       "      <th>logistic regression (L)</th>\n",
       "      <td>0.765672</td>\n",
       "      <td>0.71091</td>\n",
       "      <td>0.487739</td>\n",
       "      <td>0.573507</td>\n",
       "      <td>0.825165</td>\n",
       "      <td>5.8</td>\n",
       "      <td>10.6</td>\n",
       "      <td>0.51163</td>\n",
       "      <td>24.4</td>\n",
       "      <td>204.6</td>\n",
       "      <td>0.11189</td>\n",
       "    </tr>\n",
       "    <tr>\n",
       "      <th>linear svm</th>\n",
       "      <td>0.779104</td>\n",
       "      <td>0.711436</td>\n",
       "      <td>0.551175</td>\n",
       "      <td>0.618693</td>\n",
       "      <td>0.837805</td>\n",
       "      <td>9.4</td>\n",
       "      <td>10.6</td>\n",
       "      <td>0.888462</td>\n",
       "      <td>172.4</td>\n",
       "      <td>204.6</td>\n",
       "      <td>0.834851</td>\n",
       "    </tr>\n",
       "    <tr>\n",
       "      <th>non-linear svm</th>\n",
       "      <td>0.780597</td>\n",
       "      <td>0.75907</td>\n",
       "      <td>0.479714</td>\n",
       "      <td>0.587201</td>\n",
       "      <td>0.838064</td>\n",
       "      <td>9.8</td>\n",
       "      <td>10.6</td>\n",
       "      <td>0.928846</td>\n",
       "      <td>175.8</td>\n",
       "      <td>204.6</td>\n",
       "      <td>0.853747</td>\n",
       "    </tr>\n",
       "    <tr>\n",
       "      <th>logistic regression</th>\n",
       "      <td>0.78209</td>\n",
       "      <td>0.731143</td>\n",
       "      <td>0.530165</td>\n",
       "      <td>0.612464</td>\n",
       "      <td>0.840573</td>\n",
       "      <td>9.6</td>\n",
       "      <td>10.6</td>\n",
       "      <td>0.913462</td>\n",
       "      <td>174.2</td>\n",
       "      <td>204.6</td>\n",
       "      <td>0.844572</td>\n",
       "    </tr>\n",
       "  </tbody>\n",
       "</table>\n",
       "</div>"
      ],
      "text/plain": [
       "                            accuracy precision    recall        f1       auc  \\\n",
       "RuleFit Classifier (disc)   0.783582  0.742431  0.521271  0.610252  0.815869   \n",
       "tree generator (disc)       0.741791  0.627843  0.557706  0.582608  0.772322   \n",
       "RuleFit Classifier (conti)  0.732836  0.601979  0.553471  0.571908  0.795116   \n",
       "tree generator (conti)       0.78209  0.715158  0.568106   0.62746    0.8326   \n",
       "linear svm (L)              0.404478  0.371566      0.95  0.518457  0.379923   \n",
       "non-linear svm (L)          0.708955  0.537741  0.784146  0.632848  0.827749   \n",
       "logistic regression (L)     0.765672   0.71091  0.487739  0.573507  0.825165   \n",
       "linear svm                  0.779104  0.711436  0.551175  0.618693  0.837805   \n",
       "non-linear svm              0.780597   0.75907  0.479714  0.587201  0.838064   \n",
       "logistic regression          0.78209  0.731143  0.530165  0.612464  0.840573   \n",
       "\n",
       "                           n_violation n_rule violation_rate  \\\n",
       "RuleFit Classifier (disc)          8.2   10.6       0.791026   \n",
       "tree generator (disc)              8.4   10.6       0.816026   \n",
       "RuleFit Classifier (conti)        10.0   10.6       0.953846   \n",
       "tree generator (conti)             9.6   10.6       0.913462   \n",
       "linear svm (L)                     7.2   10.6       0.703205   \n",
       "non-linear svm (L)                 7.2   10.6       0.699634   \n",
       "logistic regression (L)            5.8   10.6        0.51163   \n",
       "linear svm                         9.4   10.6       0.888462   \n",
       "non-linear svm                     9.8   10.6       0.928846   \n",
       "logistic regression                9.6   10.6       0.913462   \n",
       "\n",
       "                           n_violation (instance) n_evaluation (instance)  \\\n",
       "RuleFit Classifier (disc)                   169.0                   204.6   \n",
       "tree generator (disc)                       171.2                   204.6   \n",
       "RuleFit Classifier (conti)                  174.8                   204.6   \n",
       "tree generator (conti)                      174.6                   204.6   \n",
       "linear svm (L)                              145.0                   204.6   \n",
       "non-linear svm (L)                           44.4                   204.6   \n",
       "logistic regression (L)                      24.4                   204.6   \n",
       "linear svm                                  172.4                   204.6   \n",
       "non-linear svm                              175.8                   204.6   \n",
       "logistic regression                         174.2                   204.6   \n",
       "\n",
       "                           violation_rate (instance)  \n",
       "RuleFit Classifier (disc)                   0.820732  \n",
       "tree generator (disc)                       0.829489  \n",
       "RuleFit Classifier (conti)                  0.849932  \n",
       "tree generator (conti)                      0.845369  \n",
       "linear svm (L)                              0.664135  \n",
       "non-linear svm (L)                           0.21139  \n",
       "logistic regression (L)                      0.11189  \n",
       "linear svm                                  0.834851  \n",
       "non-linear svm                              0.853747  \n",
       "logistic regression                         0.844572  "
      ]
     },
     "metadata": {},
     "output_type": "display_data"
    },
    {
     "data": {
      "text/html": [
       "<div>\n",
       "<style scoped>\n",
       "    .dataframe tbody tr th:only-of-type {\n",
       "        vertical-align: middle;\n",
       "    }\n",
       "\n",
       "    .dataframe tbody tr th {\n",
       "        vertical-align: top;\n",
       "    }\n",
       "\n",
       "    .dataframe thead th {\n",
       "        text-align: right;\n",
       "    }\n",
       "</style>\n",
       "<table border=\"1\" class=\"dataframe\">\n",
       "  <thead>\n",
       "    <tr style=\"text-align: right;\">\n",
       "      <th></th>\n",
       "      <th>accuracy</th>\n",
       "      <th>precision</th>\n",
       "      <th>recall</th>\n",
       "      <th>f1</th>\n",
       "      <th>auc</th>\n",
       "      <th>n_violation</th>\n",
       "      <th>n_rule</th>\n",
       "      <th>violation_rate</th>\n",
       "      <th>n_violation (instance)</th>\n",
       "      <th>n_evaluation (instance)</th>\n",
       "      <th>violation_rate (instance)</th>\n",
       "    </tr>\n",
       "  </thead>\n",
       "  <tbody>\n",
       "    <tr>\n",
       "      <th>RuleFit Classifier (disc)</th>\n",
       "      <td>0.783582</td>\n",
       "      <td>0.742431</td>\n",
       "      <td>0.521271</td>\n",
       "      <td>0.610252</td>\n",
       "      <td>0.815869</td>\n",
       "      <td>3.6</td>\n",
       "      <td>4.4</td>\n",
       "      <td>0.804762</td>\n",
       "      <td>71.4</td>\n",
       "      <td>100.4</td>\n",
       "      <td>0.700337</td>\n",
       "    </tr>\n",
       "    <tr>\n",
       "      <th>tree generator (disc)</th>\n",
       "      <td>0.741791</td>\n",
       "      <td>0.627843</td>\n",
       "      <td>0.557706</td>\n",
       "      <td>0.582608</td>\n",
       "      <td>0.772322</td>\n",
       "      <td>3.8</td>\n",
       "      <td>4.4</td>\n",
       "      <td>0.904762</td>\n",
       "      <td>74.4</td>\n",
       "      <td>100.4</td>\n",
       "      <td>0.730809</td>\n",
       "    </tr>\n",
       "    <tr>\n",
       "      <th>RuleFit Classifier (conti)</th>\n",
       "      <td>0.732836</td>\n",
       "      <td>0.601979</td>\n",
       "      <td>0.553471</td>\n",
       "      <td>0.571908</td>\n",
       "      <td>0.795116</td>\n",
       "      <td>4.4</td>\n",
       "      <td>4.4</td>\n",
       "      <td>1.0</td>\n",
       "      <td>76.0</td>\n",
       "      <td>100.4</td>\n",
       "      <td>0.74878</td>\n",
       "    </tr>\n",
       "    <tr>\n",
       "      <th>tree generator (conti)</th>\n",
       "      <td>0.78209</td>\n",
       "      <td>0.715158</td>\n",
       "      <td>0.568106</td>\n",
       "      <td>0.62746</td>\n",
       "      <td>0.8326</td>\n",
       "      <td>4.2</td>\n",
       "      <td>4.4</td>\n",
       "      <td>0.966667</td>\n",
       "      <td>75.2</td>\n",
       "      <td>100.4</td>\n",
       "      <td>0.738171</td>\n",
       "    </tr>\n",
       "    <tr>\n",
       "      <th>linear svm (L)</th>\n",
       "      <td>0.544776</td>\n",
       "      <td>0.438322</td>\n",
       "      <td>0.854914</td>\n",
       "      <td>0.560922</td>\n",
       "      <td>0.655758</td>\n",
       "      <td>3.4</td>\n",
       "      <td>4.4</td>\n",
       "      <td>0.821429</td>\n",
       "      <td>41.6</td>\n",
       "      <td>100.4</td>\n",
       "      <td>0.396108</td>\n",
       "    </tr>\n",
       "    <tr>\n",
       "      <th>non-linear svm (L)</th>\n",
       "      <td>0.697015</td>\n",
       "      <td>0.534514</td>\n",
       "      <td>0.750428</td>\n",
       "      <td>0.613081</td>\n",
       "      <td>0.826788</td>\n",
       "      <td>2.4</td>\n",
       "      <td>4.4</td>\n",
       "      <td>0.530952</td>\n",
       "      <td>11.8</td>\n",
       "      <td>100.4</td>\n",
       "      <td>0.115391</td>\n",
       "    </tr>\n",
       "    <tr>\n",
       "      <th>logistic regression (L)</th>\n",
       "      <td>0.768657</td>\n",
       "      <td>0.716496</td>\n",
       "      <td>0.496076</td>\n",
       "      <td>0.581533</td>\n",
       "      <td>0.825359</td>\n",
       "      <td>2.6</td>\n",
       "      <td>4.4</td>\n",
       "      <td>0.585714</td>\n",
       "      <td>10.2</td>\n",
       "      <td>100.4</td>\n",
       "      <td>0.096674</td>\n",
       "    </tr>\n",
       "    <tr>\n",
       "      <th>linear svm</th>\n",
       "      <td>0.779104</td>\n",
       "      <td>0.711436</td>\n",
       "      <td>0.551175</td>\n",
       "      <td>0.618693</td>\n",
       "      <td>0.837805</td>\n",
       "      <td>4.0</td>\n",
       "      <td>4.4</td>\n",
       "      <td>0.866667</td>\n",
       "      <td>73.0</td>\n",
       "      <td>100.4</td>\n",
       "      <td>0.714362</td>\n",
       "    </tr>\n",
       "    <tr>\n",
       "      <th>non-linear svm</th>\n",
       "      <td>0.780597</td>\n",
       "      <td>0.75907</td>\n",
       "      <td>0.479714</td>\n",
       "      <td>0.587201</td>\n",
       "      <td>0.838064</td>\n",
       "      <td>4.2</td>\n",
       "      <td>4.4</td>\n",
       "      <td>0.966667</td>\n",
       "      <td>76.0</td>\n",
       "      <td>100.4</td>\n",
       "      <td>0.748804</td>\n",
       "    </tr>\n",
       "    <tr>\n",
       "      <th>logistic regression</th>\n",
       "      <td>0.78209</td>\n",
       "      <td>0.731143</td>\n",
       "      <td>0.530165</td>\n",
       "      <td>0.612464</td>\n",
       "      <td>0.840573</td>\n",
       "      <td>4.2</td>\n",
       "      <td>4.4</td>\n",
       "      <td>0.966667</td>\n",
       "      <td>74.8</td>\n",
       "      <td>100.4</td>\n",
       "      <td>0.734067</td>\n",
       "    </tr>\n",
       "  </tbody>\n",
       "</table>\n",
       "</div>"
      ],
      "text/plain": [
       "                            accuracy precision    recall        f1       auc  \\\n",
       "RuleFit Classifier (disc)   0.783582  0.742431  0.521271  0.610252  0.815869   \n",
       "tree generator (disc)       0.741791  0.627843  0.557706  0.582608  0.772322   \n",
       "RuleFit Classifier (conti)  0.732836  0.601979  0.553471  0.571908  0.795116   \n",
       "tree generator (conti)       0.78209  0.715158  0.568106   0.62746    0.8326   \n",
       "linear svm (L)              0.544776  0.438322  0.854914  0.560922  0.655758   \n",
       "non-linear svm (L)          0.697015  0.534514  0.750428  0.613081  0.826788   \n",
       "logistic regression (L)     0.768657  0.716496  0.496076  0.581533  0.825359   \n",
       "linear svm                  0.779104  0.711436  0.551175  0.618693  0.837805   \n",
       "non-linear svm              0.780597   0.75907  0.479714  0.587201  0.838064   \n",
       "logistic regression          0.78209  0.731143  0.530165  0.612464  0.840573   \n",
       "\n",
       "                           n_violation n_rule violation_rate  \\\n",
       "RuleFit Classifier (disc)          3.6    4.4       0.804762   \n",
       "tree generator (disc)              3.8    4.4       0.904762   \n",
       "RuleFit Classifier (conti)         4.4    4.4            1.0   \n",
       "tree generator (conti)             4.2    4.4       0.966667   \n",
       "linear svm (L)                     3.4    4.4       0.821429   \n",
       "non-linear svm (L)                 2.4    4.4       0.530952   \n",
       "logistic regression (L)            2.6    4.4       0.585714   \n",
       "linear svm                         4.0    4.4       0.866667   \n",
       "non-linear svm                     4.2    4.4       0.966667   \n",
       "logistic regression                4.2    4.4       0.966667   \n",
       "\n",
       "                           n_violation (instance) n_evaluation (instance)  \\\n",
       "RuleFit Classifier (disc)                    71.4                   100.4   \n",
       "tree generator (disc)                        74.4                   100.4   \n",
       "RuleFit Classifier (conti)                   76.0                   100.4   \n",
       "tree generator (conti)                       75.2                   100.4   \n",
       "linear svm (L)                               41.6                   100.4   \n",
       "non-linear svm (L)                           11.8                   100.4   \n",
       "logistic regression (L)                      10.2                   100.4   \n",
       "linear svm                                   73.0                   100.4   \n",
       "non-linear svm                               76.0                   100.4   \n",
       "logistic regression                          74.8                   100.4   \n",
       "\n",
       "                           violation_rate (instance)  \n",
       "RuleFit Classifier (disc)                   0.700337  \n",
       "tree generator (disc)                       0.730809  \n",
       "RuleFit Classifier (conti)                   0.74878  \n",
       "tree generator (conti)                      0.738171  \n",
       "linear svm (L)                              0.396108  \n",
       "non-linear svm (L)                          0.115391  \n",
       "logistic regression (L)                     0.096674  \n",
       "linear svm                                  0.714362  \n",
       "non-linear svm                              0.748804  \n",
       "logistic regression                         0.734067  "
      ]
     },
     "metadata": {},
     "output_type": "display_data"
    },
    {
     "data": {
      "text/html": [
       "<div>\n",
       "<style scoped>\n",
       "    .dataframe tbody tr th:only-of-type {\n",
       "        vertical-align: middle;\n",
       "    }\n",
       "\n",
       "    .dataframe tbody tr th {\n",
       "        vertical-align: top;\n",
       "    }\n",
       "\n",
       "    .dataframe thead th {\n",
       "        text-align: right;\n",
       "    }\n",
       "</style>\n",
       "<table border=\"1\" class=\"dataframe\">\n",
       "  <thead>\n",
       "    <tr style=\"text-align: right;\">\n",
       "      <th></th>\n",
       "      <th>accuracy</th>\n",
       "      <th>precision</th>\n",
       "      <th>recall</th>\n",
       "      <th>f1</th>\n",
       "      <th>auc</th>\n",
       "      <th>n_violation</th>\n",
       "      <th>n_rule</th>\n",
       "      <th>violation_rate</th>\n",
       "      <th>n_violation (instance)</th>\n",
       "      <th>n_evaluation (instance)</th>\n",
       "      <th>violation_rate (instance)</th>\n",
       "    </tr>\n",
       "  </thead>\n",
       "  <tbody>\n",
       "    <tr>\n",
       "      <th>RuleFit Classifier (disc)</th>\n",
       "      <td>0.783582</td>\n",
       "      <td>0.742431</td>\n",
       "      <td>0.521271</td>\n",
       "      <td>0.610252</td>\n",
       "      <td>0.815869</td>\n",
       "      <td>2.2</td>\n",
       "      <td>3.0</td>\n",
       "      <td>0.78</td>\n",
       "      <td>39.8</td>\n",
       "      <td>68.8</td>\n",
       "      <td>0.500069</td>\n",
       "    </tr>\n",
       "    <tr>\n",
       "      <th>tree generator (disc)</th>\n",
       "      <td>0.741791</td>\n",
       "      <td>0.627843</td>\n",
       "      <td>0.557706</td>\n",
       "      <td>0.582608</td>\n",
       "      <td>0.772322</td>\n",
       "      <td>2.4</td>\n",
       "      <td>3.0</td>\n",
       "      <td>0.88</td>\n",
       "      <td>42.8</td>\n",
       "      <td>68.8</td>\n",
       "      <td>0.586544</td>\n",
       "    </tr>\n",
       "    <tr>\n",
       "      <th>RuleFit Classifier (conti)</th>\n",
       "      <td>0.732836</td>\n",
       "      <td>0.601979</td>\n",
       "      <td>0.553471</td>\n",
       "      <td>0.571908</td>\n",
       "      <td>0.795116</td>\n",
       "      <td>3.0</td>\n",
       "      <td>3.0</td>\n",
       "      <td>1.0</td>\n",
       "      <td>44.4</td>\n",
       "      <td>68.8</td>\n",
       "      <td>0.573755</td>\n",
       "    </tr>\n",
       "    <tr>\n",
       "      <th>tree generator (conti)</th>\n",
       "      <td>0.78209</td>\n",
       "      <td>0.715158</td>\n",
       "      <td>0.568106</td>\n",
       "      <td>0.62746</td>\n",
       "      <td>0.8326</td>\n",
       "      <td>2.8</td>\n",
       "      <td>3.0</td>\n",
       "      <td>0.96</td>\n",
       "      <td>43.6</td>\n",
       "      <td>68.8</td>\n",
       "      <td>0.567118</td>\n",
       "    </tr>\n",
       "    <tr>\n",
       "      <th>linear svm (L)</th>\n",
       "      <td>0.483582</td>\n",
       "      <td>0.442807</td>\n",
       "      <td>0.863138</td>\n",
       "      <td>0.517722</td>\n",
       "      <td>0.573365</td>\n",
       "      <td>1.4</td>\n",
       "      <td>3.0</td>\n",
       "      <td>0.4</td>\n",
       "      <td>25.0</td>\n",
       "      <td>68.8</td>\n",
       "      <td>0.313926</td>\n",
       "    </tr>\n",
       "    <tr>\n",
       "      <th>non-linear svm (L)</th>\n",
       "      <td>0.71194</td>\n",
       "      <td>0.541322</td>\n",
       "      <td>0.766184</td>\n",
       "      <td>0.629982</td>\n",
       "      <td>0.826895</td>\n",
       "      <td>1.4</td>\n",
       "      <td>3.0</td>\n",
       "      <td>0.4</td>\n",
       "      <td>6.2</td>\n",
       "      <td>68.8</td>\n",
       "      <td>0.066995</td>\n",
       "    </tr>\n",
       "    <tr>\n",
       "      <th>logistic regression (L)</th>\n",
       "      <td>0.768657</td>\n",
       "      <td>0.716496</td>\n",
       "      <td>0.496076</td>\n",
       "      <td>0.581533</td>\n",
       "      <td>0.825061</td>\n",
       "      <td>2.0</td>\n",
       "      <td>3.0</td>\n",
       "      <td>0.68</td>\n",
       "      <td>8.0</td>\n",
       "      <td>68.8</td>\n",
       "      <td>0.118951</td>\n",
       "    </tr>\n",
       "    <tr>\n",
       "      <th>linear svm</th>\n",
       "      <td>0.779104</td>\n",
       "      <td>0.711436</td>\n",
       "      <td>0.551175</td>\n",
       "      <td>0.618693</td>\n",
       "      <td>0.837805</td>\n",
       "      <td>2.6</td>\n",
       "      <td>3.0</td>\n",
       "      <td>0.86</td>\n",
       "      <td>41.4</td>\n",
       "      <td>68.8</td>\n",
       "      <td>0.520691</td>\n",
       "    </tr>\n",
       "    <tr>\n",
       "      <th>non-linear svm</th>\n",
       "      <td>0.780597</td>\n",
       "      <td>0.75907</td>\n",
       "      <td>0.479714</td>\n",
       "      <td>0.587201</td>\n",
       "      <td>0.838064</td>\n",
       "      <td>2.8</td>\n",
       "      <td>3.0</td>\n",
       "      <td>0.96</td>\n",
       "      <td>44.4</td>\n",
       "      <td>68.8</td>\n",
       "      <td>0.573127</td>\n",
       "    </tr>\n",
       "    <tr>\n",
       "      <th>logistic regression</th>\n",
       "      <td>0.78209</td>\n",
       "      <td>0.731143</td>\n",
       "      <td>0.530165</td>\n",
       "      <td>0.612464</td>\n",
       "      <td>0.840573</td>\n",
       "      <td>2.8</td>\n",
       "      <td>3.0</td>\n",
       "      <td>0.96</td>\n",
       "      <td>43.2</td>\n",
       "      <td>68.8</td>\n",
       "      <td>0.549155</td>\n",
       "    </tr>\n",
       "  </tbody>\n",
       "</table>\n",
       "</div>"
      ],
      "text/plain": [
       "                            accuracy precision    recall        f1       auc  \\\n",
       "RuleFit Classifier (disc)   0.783582  0.742431  0.521271  0.610252  0.815869   \n",
       "tree generator (disc)       0.741791  0.627843  0.557706  0.582608  0.772322   \n",
       "RuleFit Classifier (conti)  0.732836  0.601979  0.553471  0.571908  0.795116   \n",
       "tree generator (conti)       0.78209  0.715158  0.568106   0.62746    0.8326   \n",
       "linear svm (L)              0.483582  0.442807  0.863138  0.517722  0.573365   \n",
       "non-linear svm (L)           0.71194  0.541322  0.766184  0.629982  0.826895   \n",
       "logistic regression (L)     0.768657  0.716496  0.496076  0.581533  0.825061   \n",
       "linear svm                  0.779104  0.711436  0.551175  0.618693  0.837805   \n",
       "non-linear svm              0.780597   0.75907  0.479714  0.587201  0.838064   \n",
       "logistic regression          0.78209  0.731143  0.530165  0.612464  0.840573   \n",
       "\n",
       "                           n_violation n_rule violation_rate  \\\n",
       "RuleFit Classifier (disc)          2.2    3.0           0.78   \n",
       "tree generator (disc)              2.4    3.0           0.88   \n",
       "RuleFit Classifier (conti)         3.0    3.0            1.0   \n",
       "tree generator (conti)             2.8    3.0           0.96   \n",
       "linear svm (L)                     1.4    3.0            0.4   \n",
       "non-linear svm (L)                 1.4    3.0            0.4   \n",
       "logistic regression (L)            2.0    3.0           0.68   \n",
       "linear svm                         2.6    3.0           0.86   \n",
       "non-linear svm                     2.8    3.0           0.96   \n",
       "logistic regression                2.8    3.0           0.96   \n",
       "\n",
       "                           n_violation (instance) n_evaluation (instance)  \\\n",
       "RuleFit Classifier (disc)                    39.8                    68.8   \n",
       "tree generator (disc)                        42.8                    68.8   \n",
       "RuleFit Classifier (conti)                   44.4                    68.8   \n",
       "tree generator (conti)                       43.6                    68.8   \n",
       "linear svm (L)                               25.0                    68.8   \n",
       "non-linear svm (L)                            6.2                    68.8   \n",
       "logistic regression (L)                       8.0                    68.8   \n",
       "linear svm                                   41.4                    68.8   \n",
       "non-linear svm                               44.4                    68.8   \n",
       "logistic regression                          43.2                    68.8   \n",
       "\n",
       "                           violation_rate (instance)  \n",
       "RuleFit Classifier (disc)                   0.500069  \n",
       "tree generator (disc)                       0.586544  \n",
       "RuleFit Classifier (conti)                  0.573755  \n",
       "tree generator (conti)                      0.567118  \n",
       "linear svm (L)                              0.313926  \n",
       "non-linear svm (L)                          0.066995  \n",
       "logistic regression (L)                     0.118951  \n",
       "linear svm                                  0.520691  \n",
       "non-linear svm                              0.573127  \n",
       "logistic regression                         0.549155  "
      ]
     },
     "metadata": {},
     "output_type": "display_data"
    },
    {
     "data": {
      "text/html": [
       "<div>\n",
       "<style scoped>\n",
       "    .dataframe tbody tr th:only-of-type {\n",
       "        vertical-align: middle;\n",
       "    }\n",
       "\n",
       "    .dataframe tbody tr th {\n",
       "        vertical-align: top;\n",
       "    }\n",
       "\n",
       "    .dataframe thead th {\n",
       "        text-align: right;\n",
       "    }\n",
       "</style>\n",
       "<table border=\"1\" class=\"dataframe\">\n",
       "  <thead>\n",
       "    <tr style=\"text-align: right;\">\n",
       "      <th></th>\n",
       "      <th>accuracy</th>\n",
       "      <th>precision</th>\n",
       "      <th>recall</th>\n",
       "      <th>f1</th>\n",
       "      <th>auc</th>\n",
       "      <th>n_violation</th>\n",
       "      <th>n_rule</th>\n",
       "      <th>violation_rate</th>\n",
       "      <th>n_violation (instance)</th>\n",
       "      <th>n_evaluation (instance)</th>\n",
       "      <th>violation_rate (instance)</th>\n",
       "    </tr>\n",
       "  </thead>\n",
       "  <tbody>\n",
       "    <tr>\n",
       "      <th>RuleFit Classifier (disc)</th>\n",
       "      <td>0.783582</td>\n",
       "      <td>0.742431</td>\n",
       "      <td>0.521271</td>\n",
       "      <td>0.610252</td>\n",
       "      <td>0.815869</td>\n",
       "      <td>1.6</td>\n",
       "      <td>2.0</td>\n",
       "      <td>0.833333</td>\n",
       "      <td>23.2</td>\n",
       "      <td>50.4</td>\n",
       "      <td>0.421325</td>\n",
       "    </tr>\n",
       "    <tr>\n",
       "      <th>tree generator (disc)</th>\n",
       "      <td>0.741791</td>\n",
       "      <td>0.627843</td>\n",
       "      <td>0.557706</td>\n",
       "      <td>0.582608</td>\n",
       "      <td>0.772322</td>\n",
       "      <td>1.8</td>\n",
       "      <td>2.0</td>\n",
       "      <td>0.933333</td>\n",
       "      <td>26.2</td>\n",
       "      <td>50.4</td>\n",
       "      <td>0.509722</td>\n",
       "    </tr>\n",
       "    <tr>\n",
       "      <th>RuleFit Classifier (conti)</th>\n",
       "      <td>0.732836</td>\n",
       "      <td>0.601979</td>\n",
       "      <td>0.553471</td>\n",
       "      <td>0.571908</td>\n",
       "      <td>0.795116</td>\n",
       "      <td>2.0</td>\n",
       "      <td>2.0</td>\n",
       "      <td>1.0</td>\n",
       "      <td>27.2</td>\n",
       "      <td>50.4</td>\n",
       "      <td>0.499264</td>\n",
       "    </tr>\n",
       "    <tr>\n",
       "      <th>tree generator (conti)</th>\n",
       "      <td>0.78209</td>\n",
       "      <td>0.715158</td>\n",
       "      <td>0.568106</td>\n",
       "      <td>0.62746</td>\n",
       "      <td>0.8326</td>\n",
       "      <td>2.0</td>\n",
       "      <td>2.0</td>\n",
       "      <td>1.0</td>\n",
       "      <td>26.6</td>\n",
       "      <td>50.4</td>\n",
       "      <td>0.496418</td>\n",
       "    </tr>\n",
       "    <tr>\n",
       "      <th>linear svm (L)</th>\n",
       "      <td>0.467164</td>\n",
       "      <td>0.383173</td>\n",
       "      <td>0.935227</td>\n",
       "      <td>0.538908</td>\n",
       "      <td>0.470436</td>\n",
       "      <td>1.2</td>\n",
       "      <td>2.0</td>\n",
       "      <td>0.566667</td>\n",
       "      <td>13.0</td>\n",
       "      <td>50.4</td>\n",
       "      <td>0.233329</td>\n",
       "    </tr>\n",
       "    <tr>\n",
       "      <th>non-linear svm (L)</th>\n",
       "      <td>0.702985</td>\n",
       "      <td>0.54546</td>\n",
       "      <td>0.737755</td>\n",
       "      <td>0.615148</td>\n",
       "      <td>0.826937</td>\n",
       "      <td>0.8</td>\n",
       "      <td>2.0</td>\n",
       "      <td>0.366667</td>\n",
       "      <td>2.0</td>\n",
       "      <td>50.4</td>\n",
       "      <td>0.036706</td>\n",
       "    </tr>\n",
       "    <tr>\n",
       "      <th>logistic regression (L)</th>\n",
       "      <td>0.768657</td>\n",
       "      <td>0.716496</td>\n",
       "      <td>0.496076</td>\n",
       "      <td>0.581533</td>\n",
       "      <td>0.824521</td>\n",
       "      <td>1.2</td>\n",
       "      <td>2.0</td>\n",
       "      <td>0.633333</td>\n",
       "      <td>5.4</td>\n",
       "      <td>50.4</td>\n",
       "      <td>0.118359</td>\n",
       "    </tr>\n",
       "    <tr>\n",
       "      <th>linear svm</th>\n",
       "      <td>0.779104</td>\n",
       "      <td>0.711436</td>\n",
       "      <td>0.551175</td>\n",
       "      <td>0.618693</td>\n",
       "      <td>0.837805</td>\n",
       "      <td>1.8</td>\n",
       "      <td>2.0</td>\n",
       "      <td>0.9</td>\n",
       "      <td>24.4</td>\n",
       "      <td>50.4</td>\n",
       "      <td>0.443561</td>\n",
       "    </tr>\n",
       "    <tr>\n",
       "      <th>non-linear svm</th>\n",
       "      <td>0.780597</td>\n",
       "      <td>0.75907</td>\n",
       "      <td>0.479714</td>\n",
       "      <td>0.587201</td>\n",
       "      <td>0.838064</td>\n",
       "      <td>2.0</td>\n",
       "      <td>2.0</td>\n",
       "      <td>1.0</td>\n",
       "      <td>27.4</td>\n",
       "      <td>50.4</td>\n",
       "      <td>0.507526</td>\n",
       "    </tr>\n",
       "    <tr>\n",
       "      <th>logistic regression</th>\n",
       "      <td>0.78209</td>\n",
       "      <td>0.731143</td>\n",
       "      <td>0.530165</td>\n",
       "      <td>0.612464</td>\n",
       "      <td>0.840573</td>\n",
       "      <td>2.0</td>\n",
       "      <td>2.0</td>\n",
       "      <td>1.0</td>\n",
       "      <td>26.2</td>\n",
       "      <td>50.4</td>\n",
       "      <td>0.481632</td>\n",
       "    </tr>\n",
       "  </tbody>\n",
       "</table>\n",
       "</div>"
      ],
      "text/plain": [
       "                            accuracy precision    recall        f1       auc  \\\n",
       "RuleFit Classifier (disc)   0.783582  0.742431  0.521271  0.610252  0.815869   \n",
       "tree generator (disc)       0.741791  0.627843  0.557706  0.582608  0.772322   \n",
       "RuleFit Classifier (conti)  0.732836  0.601979  0.553471  0.571908  0.795116   \n",
       "tree generator (conti)       0.78209  0.715158  0.568106   0.62746    0.8326   \n",
       "linear svm (L)              0.467164  0.383173  0.935227  0.538908  0.470436   \n",
       "non-linear svm (L)          0.702985   0.54546  0.737755  0.615148  0.826937   \n",
       "logistic regression (L)     0.768657  0.716496  0.496076  0.581533  0.824521   \n",
       "linear svm                  0.779104  0.711436  0.551175  0.618693  0.837805   \n",
       "non-linear svm              0.780597   0.75907  0.479714  0.587201  0.838064   \n",
       "logistic regression          0.78209  0.731143  0.530165  0.612464  0.840573   \n",
       "\n",
       "                           n_violation n_rule violation_rate  \\\n",
       "RuleFit Classifier (disc)          1.6    2.0       0.833333   \n",
       "tree generator (disc)              1.8    2.0       0.933333   \n",
       "RuleFit Classifier (conti)         2.0    2.0            1.0   \n",
       "tree generator (conti)             2.0    2.0            1.0   \n",
       "linear svm (L)                     1.2    2.0       0.566667   \n",
       "non-linear svm (L)                 0.8    2.0       0.366667   \n",
       "logistic regression (L)            1.2    2.0       0.633333   \n",
       "linear svm                         1.8    2.0            0.9   \n",
       "non-linear svm                     2.0    2.0            1.0   \n",
       "logistic regression                2.0    2.0            1.0   \n",
       "\n",
       "                           n_violation (instance) n_evaluation (instance)  \\\n",
       "RuleFit Classifier (disc)                    23.2                    50.4   \n",
       "tree generator (disc)                        26.2                    50.4   \n",
       "RuleFit Classifier (conti)                   27.2                    50.4   \n",
       "tree generator (conti)                       26.6                    50.4   \n",
       "linear svm (L)                               13.0                    50.4   \n",
       "non-linear svm (L)                            2.0                    50.4   \n",
       "logistic regression (L)                       5.4                    50.4   \n",
       "linear svm                                   24.4                    50.4   \n",
       "non-linear svm                               27.4                    50.4   \n",
       "logistic regression                          26.2                    50.4   \n",
       "\n",
       "                           violation_rate (instance)  \n",
       "RuleFit Classifier (disc)                   0.421325  \n",
       "tree generator (disc)                       0.509722  \n",
       "RuleFit Classifier (conti)                  0.499264  \n",
       "tree generator (conti)                      0.496418  \n",
       "linear svm (L)                              0.233329  \n",
       "non-linear svm (L)                          0.036706  \n",
       "logistic regression (L)                     0.118359  \n",
       "linear svm                                  0.443561  \n",
       "non-linear svm                              0.507526  \n",
       "logistic regression                         0.481632  "
      ]
     },
     "metadata": {},
     "output_type": "display_data"
    }
   ],
   "source": [
    "import json\n",
    "import os\n",
    "\n",
    "import sys\n",
    "project_dir_path = \"/Users/keisukeonoue/ws/lukasiewicz_2\"\n",
    "sys.path.append(project_dir_path)\n",
    "\n",
    "import pandas as pd\n",
    "import numpy as np\n",
    "\n",
    "version_nums = [71, 72, 73, 74, 75, 76]\n",
    "\n",
    "# リスト内包表記を使用して複数のファイルパスを生成する\n",
    "result_file_paths = [\n",
    "    os.path.join(project_dir_path, f\"experiment_result/tmp/version_{version_num}/result.json\")\n",
    "    for version_num in version_nums\n",
    "]\n",
    "\n",
    "\n",
    "result_dfs = []\n",
    "infos = []\n",
    "\n",
    "for path in result_file_paths:\n",
    "    with open(path, 'r') as f:\n",
    "        json_data = json.load(f)\n",
    "    \n",
    "    infos.append(json_data['rule_thr'])\n",
    "    \n",
    "    tmp = []\n",
    "\n",
    "    for fold, _ in json_data['result'].items():\n",
    "        result_df = pd.DataFrame(json_data['result'][fold]).T.drop(['violation_detail'], axis=1)\n",
    "        tmp.append(result_df)\n",
    "\n",
    "    result_dfs.append(tmp)\n",
    "\n",
    "model_name_list = [\n",
    "    'RuleFit Classifier (disc)', \n",
    "    'tree generator (disc)', \n",
    "    'RuleFit Classifier (conti)', \n",
    "    'tree generator (conti)', \n",
    "    'linear svm (L)', \n",
    "    'non-linear svm (L)', \n",
    "    'logistic regression (L)', \n",
    "    'linear svm', \n",
    "    'non-linear svm', \n",
    "    'logistic regression', \n",
    "]\n",
    "\n",
    "combined_dfs = [pd.concat(dfs, ignore_index=False) for dfs in result_dfs]\n",
    "dfs_mean = [combined_df.groupby(combined_df.index).mean().reindex(index=model_name_list) for combined_df in combined_dfs]\n",
    "dfs_std = [combined_df.groupby(combined_df.index).std().reindex(index=model_name_list) for combined_df in combined_dfs]\n",
    "\n",
    "for df in dfs_mean:\n",
    "    display(df)"
   ]
  },
  {
   "cell_type": "code",
   "execution_count": 3,
   "metadata": {},
   "outputs": [],
   "source": [
    "import plotly.express as px\n",
    "\n",
    "def hex_to_rgb(hex_color):\n",
    "    # カラーコードの先頭の # を削除する\n",
    "    hex_color = hex_color.lstrip('#')\n",
    "    \n",
    "    # カラーコードを RGB 形式に変換する\n",
    "    red = int(hex_color[0:2], 16)\n",
    "    green = int(hex_color[2:4], 16)\n",
    "    blue = int(hex_color[4:6], 16)\n",
    "    \n",
    "    # RGBA 形式に変換して返す\n",
    "    return red, green, blue\n",
    "\n",
    "color_codes = [hex_to_rgb(color_code) for color_code in px.colors.qualitative.Plotly]\n",
    "colors_mean = [f'rgba({r},{g},{b},{1})' for r, g, b in color_codes]\n",
    "colors_std = [f'rgba({r},{g},{b},{0.2})' for r, g, b in color_codes]"
   ]
  },
  {
   "cell_type": "code",
   "execution_count": 14,
   "metadata": {},
   "outputs": [
    {
     "data": {
      "text/plain": [
       "['rgba(99,110,250,1)',\n",
       " 'rgba(239,85,59,1)',\n",
       " 'rgba(0,204,150,1)',\n",
       " 'rgba(171,99,250,1)',\n",
       " 'rgba(255,161,90,1)',\n",
       " 'rgba(25,211,243,1)',\n",
       " 'rgba(255,102,146,1)',\n",
       " 'rgba(182,232,128,1)',\n",
       " 'rgba(255,151,255,1)',\n",
       " 'rgba(254,203,82,1)']"
      ]
     },
     "execution_count": 14,
     "metadata": {},
     "output_type": "execute_result"
    }
   ],
   "source": [
    "colors_mean"
   ]
  },
  {
   "cell_type": "code",
   "execution_count": 4,
   "metadata": {},
   "outputs": [
    {
     "data": {
      "text/plain": [
       "Index(['accuracy', 'precision', 'recall', 'f1', 'auc', 'n_violation', 'n_rule',\n",
       "       'violation_rate', 'n_violation (instance)', 'n_evaluation (instance)',\n",
       "       'violation_rate (instance)'],\n",
       "      dtype='object')"
      ]
     },
     "execution_count": 4,
     "metadata": {},
     "output_type": "execute_result"
    }
   ],
   "source": [
    "dfs_mean[0].columns"
   ]
  },
  {
   "cell_type": "code",
   "execution_count": 10,
   "metadata": {},
   "outputs": [
    {
     "data": {
      "application/vnd.plotly.v1+json": {
       "config": {
        "plotlyServerURL": "https://plot.ly"
       },
       "data": [
        {
         "line": {
          "color": "rgba(99,110,250,1)"
         },
         "marker": {
          "color": "rgba(99,110,250,1)"
         },
         "mode": "lines+markers",
         "name": "RuleFit Classifier (disc)",
         "showlegend": true,
         "type": "scatter",
         "x": [
          0,
          0.2,
          0.4,
          0.6,
          0.8,
          1
         ],
         "xaxis": "x",
         "y": [
          0.8158688137250547,
          0.8158688137250547,
          0.8158688137250547,
          0.8158688137250547,
          0.8158688137250547,
          0.8158688137250547
         ],
         "yaxis": "y"
        },
        {
         "line": {
          "color": "rgba(99,110,250,0.2)"
         },
         "mode": "lines",
         "showlegend": false,
         "type": "scatter",
         "x": [
          0,
          0.2,
          0.4,
          0.6,
          0.8,
          1
         ],
         "xaxis": "x",
         "y": [
          0.8674886836698307,
          0.8674886836698307,
          0.8674886836698307,
          0.8674886836698307,
          0.8674886836698307,
          0.8674886836698307
         ],
         "yaxis": "y"
        },
        {
         "fill": "tonexty",
         "fillcolor": "rgba(99,110,250,0.2)",
         "line": {
          "color": "rgba(255,255,255,0)"
         },
         "mode": "lines",
         "showlegend": false,
         "type": "scatter",
         "x": [
          0,
          0.2,
          0.4,
          0.6,
          0.8,
          1
         ],
         "xaxis": "x",
         "y": [
          0.7642489437802787,
          0.7642489437802787,
          0.7642489437802787,
          0.7642489437802787,
          0.7642489437802787,
          0.7642489437802787
         ],
         "yaxis": "y"
        },
        {
         "line": {
          "color": "rgba(239,85,59,1)"
         },
         "marker": {
          "color": "rgba(239,85,59,1)"
         },
         "mode": "lines+markers",
         "name": "tree generator (disc)",
         "showlegend": true,
         "type": "scatter",
         "x": [
          0,
          0.2,
          0.4,
          0.6,
          0.8,
          1
         ],
         "xaxis": "x",
         "y": [
          0.7723221095803497,
          0.7723221095803497,
          0.7723221095803497,
          0.7723221095803497,
          0.7723221095803497,
          0.7723221095803497
         ],
         "yaxis": "y"
        },
        {
         "line": {
          "color": "rgba(239,85,59,0.2)"
         },
         "mode": "lines",
         "showlegend": false,
         "type": "scatter",
         "x": [
          0,
          0.2,
          0.4,
          0.6,
          0.8,
          1
         ],
         "xaxis": "x",
         "y": [
          0.8213949562136311,
          0.8213949562136311,
          0.8213949562136311,
          0.8213949562136311,
          0.8213949562136311,
          0.8213949562136311
         ],
         "yaxis": "y"
        },
        {
         "fill": "tonexty",
         "fillcolor": "rgba(239,85,59,0.2)",
         "line": {
          "color": "rgba(255,255,255,0)"
         },
         "mode": "lines",
         "showlegend": false,
         "type": "scatter",
         "x": [
          0,
          0.2,
          0.4,
          0.6,
          0.8,
          1
         ],
         "xaxis": "x",
         "y": [
          0.7232492629470684,
          0.7232492629470684,
          0.7232492629470684,
          0.7232492629470684,
          0.7232492629470684,
          0.7232492629470684
         ],
         "yaxis": "y"
        },
        {
         "line": {
          "color": "rgba(0,204,150,1)"
         },
         "marker": {
          "color": "rgba(0,204,150,1)"
         },
         "mode": "lines+markers",
         "name": "RuleFit Classifier (conti)",
         "showlegend": true,
         "type": "scatter",
         "x": [
          0,
          0.2,
          0.4,
          0.6,
          0.8,
          1
         ],
         "xaxis": "x",
         "y": [
          0.7951160428050499,
          0.7951160428050499,
          0.7951160428050499,
          0.7951160428050499,
          0.7951160428050499,
          0.7951160428050499
         ],
         "yaxis": "y"
        },
        {
         "line": {
          "color": "rgba(0,204,150,0.2)"
         },
         "mode": "lines",
         "showlegend": false,
         "type": "scatter",
         "x": [
          0,
          0.2,
          0.4,
          0.6,
          0.8,
          1
         ],
         "xaxis": "x",
         "y": [
          0.8276321544041804,
          0.8276321544041804,
          0.8276321544041804,
          0.8276321544041804,
          0.8276321544041804,
          0.8276321544041804
         ],
         "yaxis": "y"
        },
        {
         "fill": "tonexty",
         "fillcolor": "rgba(0,204,150,0.2)",
         "line": {
          "color": "rgba(255,255,255,0)"
         },
         "mode": "lines",
         "showlegend": false,
         "type": "scatter",
         "x": [
          0,
          0.2,
          0.4,
          0.6,
          0.8,
          1
         ],
         "xaxis": "x",
         "y": [
          0.7625999312059194,
          0.7625999312059194,
          0.7625999312059194,
          0.7625999312059194,
          0.7625999312059194,
          0.7625999312059194
         ],
         "yaxis": "y"
        },
        {
         "line": {
          "color": "rgba(171,99,250,1)"
         },
         "marker": {
          "color": "rgba(171,99,250,1)"
         },
         "mode": "lines+markers",
         "name": "tree generator (conti)",
         "showlegend": true,
         "type": "scatter",
         "x": [
          0,
          0.2,
          0.4,
          0.6,
          0.8,
          1
         ],
         "xaxis": "x",
         "y": [
          0.832599556154117,
          0.832599556154117,
          0.832599556154117,
          0.832599556154117,
          0.832599556154117,
          0.832599556154117
         ],
         "yaxis": "y"
        },
        {
         "line": {
          "color": "rgba(171,99,250,0.2)"
         },
         "mode": "lines",
         "showlegend": false,
         "type": "scatter",
         "x": [
          0,
          0.2,
          0.4,
          0.6,
          0.8,
          1
         ],
         "xaxis": "x",
         "y": [
          0.8725688941539064,
          0.8725688941539064,
          0.8725688941539064,
          0.8725688941539064,
          0.8725688941539064,
          0.8725688941539064
         ],
         "yaxis": "y"
        },
        {
         "fill": "tonexty",
         "fillcolor": "rgba(171,99,250,0.2)",
         "line": {
          "color": "rgba(255,255,255,0)"
         },
         "mode": "lines",
         "showlegend": false,
         "type": "scatter",
         "x": [
          0,
          0.2,
          0.4,
          0.6,
          0.8,
          1
         ],
         "xaxis": "x",
         "y": [
          0.7926302181543275,
          0.7926302181543275,
          0.7926302181543275,
          0.7926302181543275,
          0.7926302181543275,
          0.7926302181543275
         ],
         "yaxis": "y"
        },
        {
         "line": {
          "color": "rgba(99,110,250,1)"
         },
         "marker": {
          "color": "rgba(99,110,250,1)"
         },
         "mode": "lines+markers",
         "name": "RuleFit Classifier (disc)",
         "showlegend": false,
         "type": "scatter",
         "x": [
          0,
          0.2,
          0.4,
          0.6,
          0.8,
          1
         ],
         "xaxis": "x2",
         "y": [
          0.8043024566148299,
          0.7747474747474747,
          0.791025641025641,
          0.8047619047619048,
          0.78,
          0.8333333333333333
         ],
         "yaxis": "y2"
        },
        {
         "line": {
          "color": "rgba(99,110,250,0.2)"
         },
         "mode": "lines",
         "showlegend": false,
         "type": "scatter",
         "x": [
          0,
          0.2,
          0.4,
          0.6,
          0.8,
          1
         ],
         "xaxis": "x2",
         "y": [
          0.8943433109769477,
          0.8974550011133582,
          0.9152920617786292,
          1.0232394237515137,
          1.0080350850198276,
          1.0690355937288492
         ],
         "yaxis": "y2"
        },
        {
         "fill": "tonexty",
         "fillcolor": "rgba(99,110,250,0.2)",
         "line": {
          "color": "rgba(255,255,255,0)"
         },
         "mode": "lines",
         "showlegend": false,
         "type": "scatter",
         "x": [
          0,
          0.2,
          0.4,
          0.6,
          0.8,
          1
         ],
         "xaxis": "x2",
         "y": [
          0.7142616022527121,
          0.6520399483815913,
          0.6667592202726528,
          0.586284385772296,
          0.5519649149801724,
          0.5976310729378174
         ],
         "yaxis": "y2"
        },
        {
         "line": {
          "color": "rgba(239,85,59,1)"
         },
         "marker": {
          "color": "rgba(239,85,59,1)"
         },
         "mode": "lines+markers",
         "name": "tree generator (disc)",
         "showlegend": false,
         "type": "scatter",
         "x": [
          0,
          0.2,
          0.4,
          0.6,
          0.8,
          1
         ],
         "xaxis": "x2",
         "y": [
          0.7329952670723463,
          0.7565656565656566,
          0.816025641025641,
          0.9047619047619048,
          0.8800000000000001,
          0.9333333333333332
         ],
         "yaxis": "y2"
        },
        {
         "line": {
          "color": "rgba(239,85,59,0.2)"
         },
         "mode": "lines",
         "showlegend": false,
         "type": "scatter",
         "x": [
          0,
          0.2,
          0.4,
          0.6,
          0.8,
          1
         ],
         "xaxis": "x2",
         "y": [
          0.8035244901558143,
          0.8841546495369783,
          0.9425287665311246,
          1.0515336667373567,
          1.0588854381999833,
          1.0824045318333193
         ],
         "yaxis": "y2"
        },
        {
         "fill": "tonexty",
         "fillcolor": "rgba(239,85,59,0.2)",
         "line": {
          "color": "rgba(255,255,255,0)"
         },
         "mode": "lines",
         "showlegend": false,
         "type": "scatter",
         "x": [
          0,
          0.2,
          0.4,
          0.6,
          0.8,
          1
         ],
         "xaxis": "x2",
         "y": [
          0.6624660439888783,
          0.6289766635943348,
          0.6895225155201574,
          0.7579901427864529,
          0.701114561800017,
          0.7842621348333473
         ],
         "yaxis": "y2"
        },
        {
         "line": {
          "color": "rgba(0,204,150,1)"
         },
         "marker": {
          "color": "rgba(0,204,150,1)"
         },
         "mode": "lines+markers",
         "name": "RuleFit Classifier (conti)",
         "showlegend": false,
         "type": "scatter",
         "x": [
          0,
          0.2,
          0.4,
          0.6,
          0.8,
          1
         ],
         "xaxis": "x2",
         "y": [
          0.8821208023439262,
          0.9101010101010101,
          0.9538461538461538,
          1,
          1,
          1
         ],
         "yaxis": "y2"
        },
        {
         "line": {
          "color": "rgba(0,204,150,0.2)"
         },
         "mode": "lines",
         "showlegend": false,
         "type": "scatter",
         "x": [
          0,
          0.2,
          0.4,
          0.6,
          0.8,
          1
         ],
         "xaxis": "x2",
         "y": [
          0.9453022891638562,
          1.0048837994965294,
          1.057049291269221,
          1,
          1,
          1
         ],
         "yaxis": "y2"
        },
        {
         "fill": "tonexty",
         "fillcolor": "rgba(0,204,150,0.2)",
         "line": {
          "color": "rgba(255,255,255,0)"
         },
         "mode": "lines",
         "showlegend": false,
         "type": "scatter",
         "x": [
          0,
          0.2,
          0.4,
          0.6,
          0.8,
          1
         ],
         "xaxis": "x2",
         "y": [
          0.8189393155239962,
          0.8153182207054909,
          0.8506430164230866,
          1,
          1,
          1
         ],
         "yaxis": "y2"
        },
        {
         "line": {
          "color": "rgba(171,99,250,1)"
         },
         "marker": {
          "color": "rgba(171,99,250,1)"
         },
         "mode": "lines+markers",
         "name": "tree generator (conti)",
         "showlegend": false,
         "type": "scatter",
         "x": [
          0,
          0.2,
          0.4,
          0.6,
          0.8,
          1
         ],
         "xaxis": "x2",
         "y": [
          0.8806828938471941,
          0.8858585858585858,
          0.9134615384615385,
          0.9666666666666668,
          0.96,
          1
         ],
         "yaxis": "y2"
        },
        {
         "line": {
          "color": "rgba(171,99,250,0.2)"
         },
         "mode": "lines",
         "showlegend": false,
         "type": "scatter",
         "x": [
          0,
          0.2,
          0.4,
          0.6,
          0.8,
          1
         ],
         "xaxis": "x2",
         "y": [
          0.927031178478283,
          0.945467384338669,
          1.0100949578953933,
          1.0412022659166598,
          1.0494427190999915,
          1
         ],
         "yaxis": "y2"
        },
        {
         "fill": "tonexty",
         "fillcolor": "rgba(171,99,250,0.2)",
         "line": {
          "color": "rgba(255,255,255,0)"
         },
         "mode": "lines",
         "showlegend": false,
         "type": "scatter",
         "x": [
          0,
          0.2,
          0.4,
          0.6,
          0.8,
          1
         ],
         "xaxis": "x2",
         "y": [
          0.8343346092161052,
          0.8262497873785026,
          0.8168281190276838,
          0.8921310674166738,
          0.8705572809000084,
          1
         ],
         "yaxis": "y2"
        },
        {
         "line": {
          "color": "rgba(99,110,250,1)"
         },
         "marker": {
          "color": "rgba(99,110,250,1)"
         },
         "mode": "lines+markers",
         "name": "RuleFit Classifier (disc)",
         "showlegend": false,
         "type": "scatter",
         "x": [
          0,
          0.2,
          0.4,
          0.6,
          0.8,
          1
         ],
         "xaxis": "x3",
         "y": [
          0.8744253452332034,
          0.8827946037420775,
          0.8207317720351327,
          0.7003369687566154,
          0.5000689943672245,
          0.4213251790841019
         ],
         "yaxis": "y3"
        },
        {
         "line": {
          "color": "rgba(99,110,250,0.2)"
         },
         "mode": "lines",
         "showlegend": false,
         "type": "scatter",
         "x": [
          0,
          0.2,
          0.4,
          0.6,
          0.8,
          1
         ],
         "xaxis": "x3",
         "y": [
          0.8959889718401899,
          0.9407248064105833,
          0.855862928868011,
          0.7788593942605206,
          0.7639362389558724,
          0.6528502682005374
         ],
         "yaxis": "y3"
        },
        {
         "fill": "tonexty",
         "fillcolor": "rgba(99,110,250,0.2)",
         "line": {
          "color": "rgba(255,255,255,0)"
         },
         "mode": "lines",
         "showlegend": false,
         "type": "scatter",
         "x": [
          0,
          0.2,
          0.4,
          0.6,
          0.8,
          1
         ],
         "xaxis": "x3",
         "y": [
          0.8528617186262168,
          0.8248644010735717,
          0.7856006152022544,
          0.6218145432527102,
          0.23620174977857672,
          0.1898000899676664
         ],
         "yaxis": "y3"
        },
        {
         "line": {
          "color": "rgba(239,85,59,1)"
         },
         "marker": {
          "color": "rgba(239,85,59,1)"
         },
         "mode": "lines+markers",
         "name": "tree generator (disc)",
         "showlegend": false,
         "type": "scatter",
         "x": [
          0,
          0.2,
          0.4,
          0.6,
          0.8,
          1
         ],
         "xaxis": "x3",
         "y": [
          0.8562110924989857,
          0.8815690401095179,
          0.8294889800661422,
          0.7308087697908324,
          0.5865443336588497,
          0.5097220870031782
         ],
         "yaxis": "y3"
        },
        {
         "line": {
          "color": "rgba(239,85,59,0.2)"
         },
         "mode": "lines",
         "showlegend": false,
         "type": "scatter",
         "x": [
          0,
          0.2,
          0.4,
          0.6,
          0.8,
          1
         ],
         "xaxis": "x3",
         "y": [
          0.8834319182245626,
          0.9457035536792324,
          0.8847029542506953,
          0.8304489198545695,
          0.7144484516942728,
          0.6388665092398214
         ],
         "yaxis": "y3"
        },
        {
         "fill": "tonexty",
         "fillcolor": "rgba(239,85,59,0.2)",
         "line": {
          "color": "rgba(255,255,255,0)"
         },
         "mode": "lines",
         "showlegend": false,
         "type": "scatter",
         "x": [
          0,
          0.2,
          0.4,
          0.6,
          0.8,
          1
         ],
         "xaxis": "x3",
         "y": [
          0.8289902667734089,
          0.8174345265398033,
          0.7742750058815892,
          0.6311686197270954,
          0.4586402156234266,
          0.3805776647665351
         ],
         "yaxis": "y3"
        },
        {
         "line": {
          "color": "rgba(0,204,150,1)"
         },
         "marker": {
          "color": "rgba(0,204,150,1)"
         },
         "mode": "lines+markers",
         "name": "RuleFit Classifier (conti)",
         "showlegend": false,
         "type": "scatter",
         "x": [
          0,
          0.2,
          0.4,
          0.6,
          0.8,
          1
         ],
         "xaxis": "x3",
         "y": [
          0.8781803686278312,
          0.8997916070099468,
          0.8499318971880202,
          0.74877952679548,
          0.5737545055844808,
          0.4992638742852321
         ],
         "yaxis": "y3"
        },
        {
         "line": {
          "color": "rgba(0,204,150,0.2)"
         },
         "mode": "lines",
         "showlegend": false,
         "type": "scatter",
         "x": [
          0,
          0.2,
          0.4,
          0.6,
          0.8,
          1
         ],
         "xaxis": "x3",
         "y": [
          0.8872774958188997,
          0.9458868855008666,
          0.8853495059124202,
          0.8182983166065007,
          0.8342721111788394,
          0.7360133413590859
         ],
         "yaxis": "y3"
        },
        {
         "fill": "tonexty",
         "fillcolor": "rgba(0,204,150,0.2)",
         "line": {
          "color": "rgba(255,255,255,0)"
         },
         "mode": "lines",
         "showlegend": false,
         "type": "scatter",
         "x": [
          0,
          0.2,
          0.4,
          0.6,
          0.8,
          1
         ],
         "xaxis": "x3",
         "y": [
          0.8690832414367627,
          0.8536963285190269,
          0.8145142884636202,
          0.6792607369844593,
          0.31323689999012233,
          0.2625144072113783
         ],
         "yaxis": "y3"
        },
        {
         "line": {
          "color": "rgba(171,99,250,1)"
         },
         "marker": {
          "color": "rgba(171,99,250,1)"
         },
         "mode": "lines+markers",
         "name": "tree generator (conti)",
         "showlegend": false,
         "type": "scatter",
         "x": [
          0,
          0.2,
          0.4,
          0.6,
          0.8,
          1
         ],
         "xaxis": "x3",
         "y": [
          0.8845006492001541,
          0.9031803186257328,
          0.8453693699480975,
          0.7381713474623832,
          0.5671179039901719,
          0.49641800019687893
         ],
         "yaxis": "y3"
        },
        {
         "line": {
          "color": "rgba(171,99,250,0.2)"
         },
         "mode": "lines",
         "showlegend": false,
         "type": "scatter",
         "x": [
          0,
          0.2,
          0.4,
          0.6,
          0.8,
          1
         ],
         "xaxis": "x3",
         "y": [
          0.900074694377416,
          0.9447561585871517,
          0.8873628516108614,
          0.8137268270715157,
          0.7868322577685203,
          0.6848694978683185
         ],
         "yaxis": "y3"
        },
        {
         "fill": "tonexty",
         "fillcolor": "rgba(171,99,250,0.2)",
         "line": {
          "color": "rgba(255,255,255,0)"
         },
         "mode": "lines",
         "showlegend": false,
         "type": "scatter",
         "x": [
          0,
          0.2,
          0.4,
          0.6,
          0.8,
          1
         ],
         "xaxis": "x3",
         "y": [
          0.8689266040228922,
          0.8616044786643139,
          0.8033758882853337,
          0.6626158678532508,
          0.3474035502118236,
          0.3079665025254393
         ],
         "yaxis": "y3"
        }
       ],
       "layout": {
        "height": 900,
        "legend": {
         "orientation": "h",
         "x": 0.5,
         "y": 1.15
        },
        "template": {
         "data": {
          "bar": [
           {
            "error_x": {
             "color": "#2a3f5f"
            },
            "error_y": {
             "color": "#2a3f5f"
            },
            "marker": {
             "line": {
              "color": "#E5ECF6",
              "width": 0.5
             },
             "pattern": {
              "fillmode": "overlay",
              "size": 10,
              "solidity": 0.2
             }
            },
            "type": "bar"
           }
          ],
          "barpolar": [
           {
            "marker": {
             "line": {
              "color": "#E5ECF6",
              "width": 0.5
             },
             "pattern": {
              "fillmode": "overlay",
              "size": 10,
              "solidity": 0.2
             }
            },
            "type": "barpolar"
           }
          ],
          "carpet": [
           {
            "aaxis": {
             "endlinecolor": "#2a3f5f",
             "gridcolor": "white",
             "linecolor": "white",
             "minorgridcolor": "white",
             "startlinecolor": "#2a3f5f"
            },
            "baxis": {
             "endlinecolor": "#2a3f5f",
             "gridcolor": "white",
             "linecolor": "white",
             "minorgridcolor": "white",
             "startlinecolor": "#2a3f5f"
            },
            "type": "carpet"
           }
          ],
          "choropleth": [
           {
            "colorbar": {
             "outlinewidth": 0,
             "ticks": ""
            },
            "type": "choropleth"
           }
          ],
          "contour": [
           {
            "colorbar": {
             "outlinewidth": 0,
             "ticks": ""
            },
            "colorscale": [
             [
              0,
              "#0d0887"
             ],
             [
              0.1111111111111111,
              "#46039f"
             ],
             [
              0.2222222222222222,
              "#7201a8"
             ],
             [
              0.3333333333333333,
              "#9c179e"
             ],
             [
              0.4444444444444444,
              "#bd3786"
             ],
             [
              0.5555555555555556,
              "#d8576b"
             ],
             [
              0.6666666666666666,
              "#ed7953"
             ],
             [
              0.7777777777777778,
              "#fb9f3a"
             ],
             [
              0.8888888888888888,
              "#fdca26"
             ],
             [
              1,
              "#f0f921"
             ]
            ],
            "type": "contour"
           }
          ],
          "contourcarpet": [
           {
            "colorbar": {
             "outlinewidth": 0,
             "ticks": ""
            },
            "type": "contourcarpet"
           }
          ],
          "heatmap": [
           {
            "colorbar": {
             "outlinewidth": 0,
             "ticks": ""
            },
            "colorscale": [
             [
              0,
              "#0d0887"
             ],
             [
              0.1111111111111111,
              "#46039f"
             ],
             [
              0.2222222222222222,
              "#7201a8"
             ],
             [
              0.3333333333333333,
              "#9c179e"
             ],
             [
              0.4444444444444444,
              "#bd3786"
             ],
             [
              0.5555555555555556,
              "#d8576b"
             ],
             [
              0.6666666666666666,
              "#ed7953"
             ],
             [
              0.7777777777777778,
              "#fb9f3a"
             ],
             [
              0.8888888888888888,
              "#fdca26"
             ],
             [
              1,
              "#f0f921"
             ]
            ],
            "type": "heatmap"
           }
          ],
          "heatmapgl": [
           {
            "colorbar": {
             "outlinewidth": 0,
             "ticks": ""
            },
            "colorscale": [
             [
              0,
              "#0d0887"
             ],
             [
              0.1111111111111111,
              "#46039f"
             ],
             [
              0.2222222222222222,
              "#7201a8"
             ],
             [
              0.3333333333333333,
              "#9c179e"
             ],
             [
              0.4444444444444444,
              "#bd3786"
             ],
             [
              0.5555555555555556,
              "#d8576b"
             ],
             [
              0.6666666666666666,
              "#ed7953"
             ],
             [
              0.7777777777777778,
              "#fb9f3a"
             ],
             [
              0.8888888888888888,
              "#fdca26"
             ],
             [
              1,
              "#f0f921"
             ]
            ],
            "type": "heatmapgl"
           }
          ],
          "histogram": [
           {
            "marker": {
             "pattern": {
              "fillmode": "overlay",
              "size": 10,
              "solidity": 0.2
             }
            },
            "type": "histogram"
           }
          ],
          "histogram2d": [
           {
            "colorbar": {
             "outlinewidth": 0,
             "ticks": ""
            },
            "colorscale": [
             [
              0,
              "#0d0887"
             ],
             [
              0.1111111111111111,
              "#46039f"
             ],
             [
              0.2222222222222222,
              "#7201a8"
             ],
             [
              0.3333333333333333,
              "#9c179e"
             ],
             [
              0.4444444444444444,
              "#bd3786"
             ],
             [
              0.5555555555555556,
              "#d8576b"
             ],
             [
              0.6666666666666666,
              "#ed7953"
             ],
             [
              0.7777777777777778,
              "#fb9f3a"
             ],
             [
              0.8888888888888888,
              "#fdca26"
             ],
             [
              1,
              "#f0f921"
             ]
            ],
            "type": "histogram2d"
           }
          ],
          "histogram2dcontour": [
           {
            "colorbar": {
             "outlinewidth": 0,
             "ticks": ""
            },
            "colorscale": [
             [
              0,
              "#0d0887"
             ],
             [
              0.1111111111111111,
              "#46039f"
             ],
             [
              0.2222222222222222,
              "#7201a8"
             ],
             [
              0.3333333333333333,
              "#9c179e"
             ],
             [
              0.4444444444444444,
              "#bd3786"
             ],
             [
              0.5555555555555556,
              "#d8576b"
             ],
             [
              0.6666666666666666,
              "#ed7953"
             ],
             [
              0.7777777777777778,
              "#fb9f3a"
             ],
             [
              0.8888888888888888,
              "#fdca26"
             ],
             [
              1,
              "#f0f921"
             ]
            ],
            "type": "histogram2dcontour"
           }
          ],
          "mesh3d": [
           {
            "colorbar": {
             "outlinewidth": 0,
             "ticks": ""
            },
            "type": "mesh3d"
           }
          ],
          "parcoords": [
           {
            "line": {
             "colorbar": {
              "outlinewidth": 0,
              "ticks": ""
             }
            },
            "type": "parcoords"
           }
          ],
          "pie": [
           {
            "automargin": true,
            "type": "pie"
           }
          ],
          "scatter": [
           {
            "fillpattern": {
             "fillmode": "overlay",
             "size": 10,
             "solidity": 0.2
            },
            "type": "scatter"
           }
          ],
          "scatter3d": [
           {
            "line": {
             "colorbar": {
              "outlinewidth": 0,
              "ticks": ""
             }
            },
            "marker": {
             "colorbar": {
              "outlinewidth": 0,
              "ticks": ""
             }
            },
            "type": "scatter3d"
           }
          ],
          "scattercarpet": [
           {
            "marker": {
             "colorbar": {
              "outlinewidth": 0,
              "ticks": ""
             }
            },
            "type": "scattercarpet"
           }
          ],
          "scattergeo": [
           {
            "marker": {
             "colorbar": {
              "outlinewidth": 0,
              "ticks": ""
             }
            },
            "type": "scattergeo"
           }
          ],
          "scattergl": [
           {
            "marker": {
             "colorbar": {
              "outlinewidth": 0,
              "ticks": ""
             }
            },
            "type": "scattergl"
           }
          ],
          "scattermapbox": [
           {
            "marker": {
             "colorbar": {
              "outlinewidth": 0,
              "ticks": ""
             }
            },
            "type": "scattermapbox"
           }
          ],
          "scatterpolar": [
           {
            "marker": {
             "colorbar": {
              "outlinewidth": 0,
              "ticks": ""
             }
            },
            "type": "scatterpolar"
           }
          ],
          "scatterpolargl": [
           {
            "marker": {
             "colorbar": {
              "outlinewidth": 0,
              "ticks": ""
             }
            },
            "type": "scatterpolargl"
           }
          ],
          "scatterternary": [
           {
            "marker": {
             "colorbar": {
              "outlinewidth": 0,
              "ticks": ""
             }
            },
            "type": "scatterternary"
           }
          ],
          "surface": [
           {
            "colorbar": {
             "outlinewidth": 0,
             "ticks": ""
            },
            "colorscale": [
             [
              0,
              "#0d0887"
             ],
             [
              0.1111111111111111,
              "#46039f"
             ],
             [
              0.2222222222222222,
              "#7201a8"
             ],
             [
              0.3333333333333333,
              "#9c179e"
             ],
             [
              0.4444444444444444,
              "#bd3786"
             ],
             [
              0.5555555555555556,
              "#d8576b"
             ],
             [
              0.6666666666666666,
              "#ed7953"
             ],
             [
              0.7777777777777778,
              "#fb9f3a"
             ],
             [
              0.8888888888888888,
              "#fdca26"
             ],
             [
              1,
              "#f0f921"
             ]
            ],
            "type": "surface"
           }
          ],
          "table": [
           {
            "cells": {
             "fill": {
              "color": "#EBF0F8"
             },
             "line": {
              "color": "white"
             }
            },
            "header": {
             "fill": {
              "color": "#C8D4E3"
             },
             "line": {
              "color": "white"
             }
            },
            "type": "table"
           }
          ]
         },
         "layout": {
          "annotationdefaults": {
           "arrowcolor": "#2a3f5f",
           "arrowhead": 0,
           "arrowwidth": 1
          },
          "autotypenumbers": "strict",
          "coloraxis": {
           "colorbar": {
            "outlinewidth": 0,
            "ticks": ""
           }
          },
          "colorscale": {
           "diverging": [
            [
             0,
             "#8e0152"
            ],
            [
             0.1,
             "#c51b7d"
            ],
            [
             0.2,
             "#de77ae"
            ],
            [
             0.3,
             "#f1b6da"
            ],
            [
             0.4,
             "#fde0ef"
            ],
            [
             0.5,
             "#f7f7f7"
            ],
            [
             0.6,
             "#e6f5d0"
            ],
            [
             0.7,
             "#b8e186"
            ],
            [
             0.8,
             "#7fbc41"
            ],
            [
             0.9,
             "#4d9221"
            ],
            [
             1,
             "#276419"
            ]
           ],
           "sequential": [
            [
             0,
             "#0d0887"
            ],
            [
             0.1111111111111111,
             "#46039f"
            ],
            [
             0.2222222222222222,
             "#7201a8"
            ],
            [
             0.3333333333333333,
             "#9c179e"
            ],
            [
             0.4444444444444444,
             "#bd3786"
            ],
            [
             0.5555555555555556,
             "#d8576b"
            ],
            [
             0.6666666666666666,
             "#ed7953"
            ],
            [
             0.7777777777777778,
             "#fb9f3a"
            ],
            [
             0.8888888888888888,
             "#fdca26"
            ],
            [
             1,
             "#f0f921"
            ]
           ],
           "sequentialminus": [
            [
             0,
             "#0d0887"
            ],
            [
             0.1111111111111111,
             "#46039f"
            ],
            [
             0.2222222222222222,
             "#7201a8"
            ],
            [
             0.3333333333333333,
             "#9c179e"
            ],
            [
             0.4444444444444444,
             "#bd3786"
            ],
            [
             0.5555555555555556,
             "#d8576b"
            ],
            [
             0.6666666666666666,
             "#ed7953"
            ],
            [
             0.7777777777777778,
             "#fb9f3a"
            ],
            [
             0.8888888888888888,
             "#fdca26"
            ],
            [
             1,
             "#f0f921"
            ]
           ]
          },
          "colorway": [
           "#636efa",
           "#EF553B",
           "#00cc96",
           "#ab63fa",
           "#FFA15A",
           "#19d3f3",
           "#FF6692",
           "#B6E880",
           "#FF97FF",
           "#FECB52"
          ],
          "font": {
           "color": "#2a3f5f"
          },
          "geo": {
           "bgcolor": "white",
           "lakecolor": "white",
           "landcolor": "#E5ECF6",
           "showlakes": true,
           "showland": true,
           "subunitcolor": "white"
          },
          "hoverlabel": {
           "align": "left"
          },
          "hovermode": "closest",
          "mapbox": {
           "style": "light"
          },
          "paper_bgcolor": "white",
          "plot_bgcolor": "#E5ECF6",
          "polar": {
           "angularaxis": {
            "gridcolor": "white",
            "linecolor": "white",
            "ticks": ""
           },
           "bgcolor": "#E5ECF6",
           "radialaxis": {
            "gridcolor": "white",
            "linecolor": "white",
            "ticks": ""
           }
          },
          "scene": {
           "xaxis": {
            "backgroundcolor": "#E5ECF6",
            "gridcolor": "white",
            "gridwidth": 2,
            "linecolor": "white",
            "showbackground": true,
            "ticks": "",
            "zerolinecolor": "white"
           },
           "yaxis": {
            "backgroundcolor": "#E5ECF6",
            "gridcolor": "white",
            "gridwidth": 2,
            "linecolor": "white",
            "showbackground": true,
            "ticks": "",
            "zerolinecolor": "white"
           },
           "zaxis": {
            "backgroundcolor": "#E5ECF6",
            "gridcolor": "white",
            "gridwidth": 2,
            "linecolor": "white",
            "showbackground": true,
            "ticks": "",
            "zerolinecolor": "white"
           }
          },
          "shapedefaults": {
           "line": {
            "color": "#2a3f5f"
           }
          },
          "ternary": {
           "aaxis": {
            "gridcolor": "white",
            "linecolor": "white",
            "ticks": ""
           },
           "baxis": {
            "gridcolor": "white",
            "linecolor": "white",
            "ticks": ""
           },
           "bgcolor": "#E5ECF6",
           "caxis": {
            "gridcolor": "white",
            "linecolor": "white",
            "ticks": ""
           }
          },
          "title": {
           "x": 0.05
          },
          "xaxis": {
           "automargin": true,
           "gridcolor": "white",
           "linecolor": "white",
           "ticks": "",
           "title": {
            "standoff": 15
           },
           "zerolinecolor": "white",
           "zerolinewidth": 2
          },
          "yaxis": {
           "automargin": true,
           "gridcolor": "white",
           "linecolor": "white",
           "ticks": "",
           "title": {
            "standoff": 15
           },
           "zerolinecolor": "white",
           "zerolinewidth": 2
          }
         }
        },
        "width": 600,
        "xaxis": {
         "anchor": "y",
         "domain": [
          0,
          1
         ],
         "title": {
          "font": {
           "size": 16
          },
          "text": "rule threshold"
         }
        },
        "xaxis2": {
         "anchor": "y2",
         "domain": [
          0,
          1
         ],
         "title": {
          "font": {
           "size": 16
          },
          "text": "rule threshold"
         }
        },
        "xaxis3": {
         "anchor": "y3",
         "domain": [
          0,
          1
         ],
         "title": {
          "text": "rule threshold"
         }
        },
        "xaxis4": {
         "anchor": "y4",
         "domain": [
          0,
          1
         ]
        },
        "yaxis": {
         "anchor": "x",
         "domain": [
          0.80625,
          1
         ],
         "range": [
          0,
          1
         ],
         "side": "right",
         "title": {
          "font": {
           "size": 16
          },
          "text": "auc"
         }
        },
        "yaxis2": {
         "anchor": "x2",
         "domain": [
          0.5375,
          0.73125
         ],
         "range": [
          0,
          1
         ],
         "side": "right",
         "title": {
          "font": {
           "size": 16
          },
          "text": "violation_rate"
         }
        },
        "yaxis3": {
         "anchor": "x3",
         "domain": [
          0.26875,
          0.4625
         ],
         "range": [
          0,
          1
         ],
         "side": "right",
         "title": {
          "font": {
           "size": 16
          },
          "text": "violation_rate (instance)"
         }
        },
        "yaxis4": {
         "anchor": "x4",
         "domain": [
          0,
          0.19375
         ]
        }
       }
      }
     },
     "metadata": {},
     "output_type": "display_data"
    }
   ],
   "source": [
    "import plotly.graph_objects as go\n",
    "from plotly.subplots import make_subplots\n",
    "\n",
    "\n",
    "# グラフのデータを準備\n",
    "# index = ['l-SVM-p', 'r-SVM-p', 'LogReg-p']\n",
    "\n",
    "# index = [\n",
    "#     'linear svm (L)', \n",
    "#     'non-linear svm (L)', \n",
    "#     'logistic regression (L)'\n",
    "# ]\n",
    "\n",
    "# index = [\n",
    "#     'linear svm', \n",
    "#     'non-linear svm', \n",
    "#     'logistic regression'\n",
    "# ]\n",
    "\n",
    "index = [\n",
    "    'RuleFit Classifier (disc)',\n",
    "    'tree generator (disc)',\n",
    "    'RuleFit Classifier (conti)', \n",
    "    'tree generator (conti)',\n",
    "]\n",
    "\n",
    "columns = ['auc', 'violation_rate', 'violation_rate (instance)']\n",
    "\n",
    "title_text = \"rule threshold\"\n",
    "\n",
    "\n",
    "# サブプロットの作成\n",
    "# fig = make_subplots(rows=1, cols=2, subplot_titles=('AUC', 'ルール違反率'))\n",
    "fig = make_subplots(rows=len(index), cols=1)\n",
    "showlegend=True\n",
    "\n",
    "for row_num, col in enumerate(columns):\n",
    "    tmp_mean = pd.DataFrame(\n",
    "        [{info: df.loc[model_name, col] for info, df in zip(infos, dfs_mean)} for model_name in index],\n",
    "        index=index\n",
    "    )\n",
    "    tmp_std = pd.DataFrame(\n",
    "        [{info: df.loc[model_name, col] for info, df in zip(infos, dfs_std)} for model_name in index],\n",
    "        index=index\n",
    "    )\n",
    "\n",
    "    # グラフ1: AUC\n",
    "    for i in range(len(tmp_mean)):\n",
    "        fig.add_trace(\n",
    "            go.Scatter(\n",
    "                x=tmp_mean.columns,\n",
    "                y=tmp_mean.iloc[i, :],\n",
    "                mode='lines+markers',\n",
    "                name=tmp_mean.index[i],\n",
    "                line=dict(color=colors_mean[i]),  # ラインの色を設定\n",
    "                marker=dict(color=colors_mean[i]),  # マーカーの色を設定\n",
    "                showlegend=showlegend,\n",
    "            ),\n",
    "            row=row_num+1, col=1\n",
    "        )\n",
    "        fig.add_trace(\n",
    "            go.Scatter(\n",
    "                x=tmp_mean.columns,\n",
    "                y=tmp_mean.iloc[i, :] + tmp_std.iloc[i, :],\n",
    "                mode='lines',\n",
    "                line=dict(color=colors_std[i]),  # ラインの色を設定\n",
    "                showlegend=False\n",
    "            ),\n",
    "            row=row_num+1, col=1\n",
    "        )\n",
    "        fig.add_trace(\n",
    "            go.Scatter(\n",
    "                x=tmp_mean.columns,\n",
    "                y=tmp_mean.iloc[i, :] - tmp_std.iloc[i, :],\n",
    "                mode='lines',\n",
    "                fill='tonexty',\n",
    "                fillcolor=colors_std[i],\n",
    "                line=dict(color='rgba(255,255,255,0)'),\n",
    "                showlegend=False\n",
    "            ),\n",
    "            row=row_num+1, col=1\n",
    "        )\n",
    "    \n",
    "    # x, y 軸の設定\n",
    "    fig.update_xaxes(title_text=title_text, row=row_num+1, col=1)\n",
    "    fig.update_yaxes(title_text=col, range=[0, 1], row=row_num+1, col=1, side='right', title_font=dict(size=16))\n",
    "\n",
    "    showlegend=False\n",
    "    \n",
    "# レイアウトの設定\n",
    "fig.update_layout(\n",
    "    height=len(columns) * 300,\n",
    "    width=600,\n",
    "    xaxis=dict(\n",
    "        domain=[0, 1],  # 左側のsubplotの幅を調整\n",
    "        title_font=dict(size=16)\n",
    "    ),\n",
    "    xaxis2=dict(\n",
    "        domain=[0, 1],  # 右側のsubplotの幅を調整\n",
    "        title_font=dict(size=16)\n",
    "    ),\n",
    "    legend=dict(\n",
    "        x=0.5,\n",
    "        y=1.15,\n",
    "        orientation='h'  # 水平配置\n",
    "    ),\n",
    ")\n",
    "\n",
    "\n",
    "# グラフの表示\n",
    "fig.show()"
   ]
  },
  {
   "cell_type": "code",
   "execution_count": 17,
   "metadata": {},
   "outputs": [
    {
     "data": {
      "application/vnd.plotly.v1+json": {
       "config": {
        "plotlyServerURL": "https://plot.ly"
       },
       "data": [
        {
         "line": {
          "color": "rgba(99,110,250,1)"
         },
         "marker": {
          "color": "rgba(99,110,250,1)"
         },
         "mode": "lines+markers",
         "name": "linear svm (L)",
         "showlegend": true,
         "type": "scatter",
         "x": [
          0,
          0.2,
          0.4,
          0.6,
          0.8,
          1
         ],
         "xaxis": "x",
         "y": [
          0.44307166549952387,
          0.6722374318969949,
          0.3799227690446899,
          0.655758352140441,
          0.5733649242156214,
          0.4704360998979265
         ],
         "yaxis": "y"
        },
        {
         "line": {
          "color": "rgba(99,110,250,0.2)"
         },
         "mode": "lines",
         "showlegend": false,
         "type": "scatter",
         "x": [
          0,
          0.2,
          0.4,
          0.6,
          0.8,
          1
         ],
         "xaxis": "x",
         "y": [
          0.7585599222781638,
          0.9337302937738748,
          0.6172764384643752,
          0.8793361419767028,
          0.8995094352467785,
          0.7437409061240619
         ],
         "yaxis": "y"
        },
        {
         "fill": "tonexty",
         "fillcolor": "rgba(99,110,250,0.2)",
         "line": {
          "color": "rgba(255,255,255,0)"
         },
         "mode": "lines",
         "showlegend": false,
         "type": "scatter",
         "x": [
          0,
          0.2,
          0.4,
          0.6,
          0.8,
          1
         ],
         "xaxis": "x",
         "y": [
          0.12758340872088397,
          0.410744570020115,
          0.1425690996250047,
          0.4321805623041791,
          0.24722041318446425,
          0.1971312936717911
         ],
         "yaxis": "y"
        },
        {
         "line": {
          "color": "rgba(239,85,59,1)"
         },
         "marker": {
          "color": "rgba(239,85,59,1)"
         },
         "mode": "lines+markers",
         "name": "non-linear svm (L)",
         "showlegend": true,
         "type": "scatter",
         "x": [
          0,
          0.2,
          0.4,
          0.6,
          0.8,
          1
         ],
         "xaxis": "x",
         "y": [
          0.821484259190807,
          0.8278620976220867,
          0.8277491080389211,
          0.8267876840775237,
          0.8268948257484212,
          0.8269374899160692
         ],
         "yaxis": "y"
        },
        {
         "line": {
          "color": "rgba(239,85,59,0.2)"
         },
         "mode": "lines",
         "showlegend": false,
         "type": "scatter",
         "x": [
          0,
          0.2,
          0.4,
          0.6,
          0.8,
          1
         ],
         "xaxis": "x",
         "y": [
          0.8672481970735175,
          0.8729436849999147,
          0.8711685788675587,
          0.8679185305749404,
          0.8683772649201801,
          0.8677402562658683
         ],
         "yaxis": "y"
        },
        {
         "fill": "tonexty",
         "fillcolor": "rgba(239,85,59,0.2)",
         "line": {
          "color": "rgba(255,255,255,0)"
         },
         "mode": "lines",
         "showlegend": false,
         "type": "scatter",
         "x": [
          0,
          0.2,
          0.4,
          0.6,
          0.8,
          1
         ],
         "xaxis": "x",
         "y": [
          0.7757203213080965,
          0.7827805102442588,
          0.7843296372102835,
          0.785656837580107,
          0.7854123865766623,
          0.7861347235662701
         ],
         "yaxis": "y"
        },
        {
         "line": {
          "color": "rgba(0,204,150,1)"
         },
         "marker": {
          "color": "rgba(0,204,150,1)"
         },
         "mode": "lines+markers",
         "name": "logistic regression (L)",
         "showlegend": true,
         "type": "scatter",
         "x": [
          0,
          0.2,
          0.4,
          0.6,
          0.8,
          1
         ],
         "xaxis": "x",
         "y": [
          0.8266147184864916,
          0.8254581328387876,
          0.8251652438128261,
          0.8253587085504999,
          0.8250611679268722,
          0.8245213540556158
         ],
         "yaxis": "y"
        },
        {
         "line": {
          "color": "rgba(0,204,150,0.2)"
         },
         "mode": "lines",
         "showlegend": false,
         "type": "scatter",
         "x": [
          0,
          0.2,
          0.4,
          0.6,
          0.8,
          1
         ],
         "xaxis": "x",
         "y": [
          0.8773668800407047,
          0.8795512587137133,
          0.8781583388334948,
          0.8781333239106237,
          0.8779422639417166,
          0.8766145950154148
         ],
         "yaxis": "y"
        },
        {
         "fill": "tonexty",
         "fillcolor": "rgba(0,204,150,0.2)",
         "line": {
          "color": "rgba(255,255,255,0)"
         },
         "mode": "lines",
         "showlegend": false,
         "type": "scatter",
         "x": [
          0,
          0.2,
          0.4,
          0.6,
          0.8,
          1
         ],
         "xaxis": "x",
         "y": [
          0.7758625569322785,
          0.7713650069638618,
          0.7721721487921573,
          0.772584093190376,
          0.7721800719120279,
          0.7724281130958167
         ],
         "yaxis": "y"
        },
        {
         "line": {
          "color": "rgba(99,110,250,1)"
         },
         "marker": {
          "color": "rgba(99,110,250,1)"
         },
         "mode": "lines+markers",
         "name": "linear svm (L)",
         "showlegend": false,
         "type": "scatter",
         "x": [
          0,
          0.2,
          0.4,
          0.6,
          0.8,
          1
         ],
         "xaxis": "x2",
         "y": [
          0.6576662159116521,
          0.6363636363636364,
          0.7032051282051281,
          0.8214285714285714,
          0.4,
          0.5666666666666667
         ],
         "yaxis": "y2"
        },
        {
         "line": {
          "color": "rgba(99,110,250,0.2)"
         },
         "mode": "lines",
         "showlegend": false,
         "type": "scatter",
         "x": [
          0,
          0.2,
          0.4,
          0.6,
          0.8,
          1
         ],
         "xaxis": "x2",
         "y": [
          0.7457784891502809,
          0.7460305593465073,
          0.8737950471542686,
          1.0296768533873322,
          0.6345207879911715,
          1.0012801603468433
         ],
         "yaxis": "y2"
        },
        {
         "fill": "tonexty",
         "fillcolor": "rgba(99,110,250,0.2)",
         "line": {
          "color": "rgba(255,255,255,0)"
         },
         "mode": "lines",
         "showlegend": false,
         "type": "scatter",
         "x": [
          0,
          0.2,
          0.4,
          0.6,
          0.8,
          1
         ],
         "xaxis": "x2",
         "y": [
          0.5695539426730233,
          0.5266967133807654,
          0.5326152092559877,
          0.6131802894698106,
          0.16547921200882854,
          0.13205317298649005
         ],
         "yaxis": "y2"
        },
        {
         "line": {
          "color": "rgba(239,85,59,1)"
         },
         "marker": {
          "color": "rgba(239,85,59,1)"
         },
         "mode": "lines+markers",
         "name": "non-linear svm (L)",
         "showlegend": false,
         "type": "scatter",
         "x": [
          0,
          0.2,
          0.4,
          0.6,
          0.8,
          1
         ],
         "xaxis": "x2",
         "y": [
          0.6217139959432048,
          0.6696969696969697,
          0.6996336996336996,
          0.5309523809523808,
          0.4,
          0.36666666666666664
         ],
         "yaxis": "y2"
        },
        {
         "line": {
          "color": "rgba(239,85,59,0.2)"
         },
         "mode": "lines",
         "showlegend": false,
         "type": "scatter",
         "x": [
          0,
          0.2,
          0.4,
          0.6,
          0.8,
          1
         ],
         "xaxis": "x2",
         "y": [
          0.7489407081436685,
          0.7485560413910377,
          0.809204741307107,
          0.681442886600576,
          0.6345207879911715,
          0.5839734135067549
         ],
         "yaxis": "y2"
        },
        {
         "fill": "tonexty",
         "fillcolor": "rgba(239,85,59,0.2)",
         "line": {
          "color": "rgba(255,255,255,0)"
         },
         "mode": "lines",
         "showlegend": false,
         "type": "scatter",
         "x": [
          0,
          0.2,
          0.4,
          0.6,
          0.8,
          1
         ],
         "xaxis": "x2",
         "y": [
          0.494487283742741,
          0.5908378980029017,
          0.5900626579602922,
          0.38046187530418574,
          0.16547921200882854,
          0.14935991982657834
         ],
         "yaxis": "y2"
        },
        {
         "line": {
          "color": "rgba(0,204,150,1)"
         },
         "marker": {
          "color": "rgba(0,204,150,1)"
         },
         "mode": "lines+markers",
         "name": "logistic regression (L)",
         "showlegend": false,
         "type": "scatter",
         "x": [
          0,
          0.2,
          0.4,
          0.6,
          0.8,
          1
         ],
         "xaxis": "x2",
         "y": [
          0.5511945007888214,
          0.5666666666666667,
          0.5116300366300366,
          0.5857142857142856,
          0.6799999999999999,
          0.6333333333333333
         ],
         "yaxis": "y2"
        },
        {
         "line": {
          "color": "rgba(0,204,150,0.2)"
         },
         "mode": "lines",
         "showlegend": false,
         "type": "scatter",
         "x": [
          0,
          0.2,
          0.4,
          0.6,
          0.8,
          1
         ],
         "xaxis": "x2",
         "y": [
          0.6655936625764762,
          0.6275247286116852,
          0.713254287035374,
          0.7494642748957085,
          0.8967948338867879,
          0.8506400801734216
         ],
         "yaxis": "y2"
        },
        {
         "fill": "tonexty",
         "fillcolor": "rgba(0,204,150,0.2)",
         "line": {
          "color": "rgba(255,255,255,0)"
         },
         "mode": "lines",
         "showlegend": false,
         "type": "scatter",
         "x": [
          0,
          0.2,
          0.4,
          0.6,
          0.8,
          1
         ],
         "xaxis": "x2",
         "y": [
          0.4367953390011665,
          0.5058086047216481,
          0.3100057862246992,
          0.42196429653286277,
          0.46320516611321194,
          0.416026586493245
         ],
         "yaxis": "y2"
        },
        {
         "line": {
          "color": "rgba(99,110,250,1)"
         },
         "marker": {
          "color": "rgba(99,110,250,1)"
         },
         "mode": "lines+markers",
         "name": "linear svm (L)",
         "showlegend": false,
         "type": "scatter",
         "x": [
          0,
          0.2,
          0.4,
          0.6,
          0.8,
          1
         ],
         "xaxis": "x3",
         "y": [
          0.6164404663348227,
          0.5062812027336923,
          0.6641353847108411,
          0.39610844076013446,
          0.31392622359990974,
          0.233329499873435
         ],
         "yaxis": "y3"
        },
        {
         "line": {
          "color": "rgba(99,110,250,0.2)"
         },
         "mode": "lines",
         "showlegend": false,
         "type": "scatter",
         "x": [
          0,
          0.2,
          0.4,
          0.6,
          0.8,
          1
         ],
         "xaxis": "x3",
         "y": [
          0.9040018574023119,
          0.8171294379245668,
          0.9674120989388737,
          0.6772257409467255,
          0.5863735538851511,
          0.4092207887311894
         ],
         "yaxis": "y3"
        },
        {
         "fill": "tonexty",
         "fillcolor": "rgba(99,110,250,0.2)",
         "line": {
          "color": "rgba(255,255,255,0)"
         },
         "mode": "lines",
         "showlegend": false,
         "type": "scatter",
         "x": [
          0,
          0.2,
          0.4,
          0.6,
          0.8,
          1
         ],
         "xaxis": "x3",
         "y": [
          0.32887907526733356,
          0.1954329675428177,
          0.36085867048280856,
          0.11499114057354343,
          0.04147889331466831,
          0.057438211015680585
         ],
         "yaxis": "y3"
        },
        {
         "line": {
          "color": "rgba(239,85,59,1)"
         },
         "marker": {
          "color": "rgba(239,85,59,1)"
         },
         "mode": "lines+markers",
         "name": "non-linear svm (L)",
         "showlegend": false,
         "type": "scatter",
         "x": [
          0,
          0.2,
          0.4,
          0.6,
          0.8,
          1
         ],
         "xaxis": "x3",
         "y": [
          0.23689469893819207,
          0.23495292089148756,
          0.21139002774772603,
          0.1153907964445923,
          0.06699462021302596,
          0.03670562192106237
         ],
         "yaxis": "y3"
        },
        {
         "line": {
          "color": "rgba(239,85,59,0.2)"
         },
         "mode": "lines",
         "showlegend": false,
         "type": "scatter",
         "x": [
          0,
          0.2,
          0.4,
          0.6,
          0.8,
          1
         ],
         "xaxis": "x3",
         "y": [
          0.27661326755350246,
          0.2515437033003946,
          0.24937869315642175,
          0.14811356050470603,
          0.1288235461888012,
          0.08125669238012334
         ],
         "yaxis": "y3"
        },
        {
         "fill": "tonexty",
         "fillcolor": "rgba(239,85,59,0.2)",
         "line": {
          "color": "rgba(255,255,255,0)"
         },
         "mode": "lines",
         "showlegend": false,
         "type": "scatter",
         "x": [
          0,
          0.2,
          0.4,
          0.6,
          0.8,
          1
         ],
         "xaxis": "x3",
         "y": [
          0.19717613032288167,
          0.21836213848258051,
          0.1734013623390303,
          0.08266803238447856,
          0.0051656942372507175,
          -0.007845448537998588
         ],
         "yaxis": "y3"
        },
        {
         "line": {
          "color": "rgba(0,204,150,1)"
         },
         "marker": {
          "color": "rgba(0,204,150,1)"
         },
         "mode": "lines+markers",
         "name": "logistic regression (L)",
         "showlegend": false,
         "type": "scatter",
         "x": [
          0,
          0.2,
          0.4,
          0.6,
          0.8,
          1
         ],
         "xaxis": "x3",
         "y": [
          0.16410656834824594,
          0.12430120172614592,
          0.11189020252725168,
          0.09667360947049777,
          0.11895096732014013,
          0.11835872341323155
         ],
         "yaxis": "y3"
        },
        {
         "line": {
          "color": "rgba(0,204,150,0.2)"
         },
         "mode": "lines",
         "showlegend": false,
         "type": "scatter",
         "x": [
          0,
          0.2,
          0.4,
          0.6,
          0.8,
          1
         ],
         "xaxis": "x3",
         "y": [
          0.20127074461131622,
          0.1558976344728015,
          0.16375248554160382,
          0.13187061906385553,
          0.19426794286542504,
          0.19317217971656264
         ],
         "yaxis": "y3"
        },
        {
         "fill": "tonexty",
         "fillcolor": "rgba(0,204,150,0.2)",
         "line": {
          "color": "rgba(255,255,255,0)"
         },
         "mode": "lines",
         "showlegend": false,
         "type": "scatter",
         "x": [
          0,
          0.2,
          0.4,
          0.6,
          0.8,
          1
         ],
         "xaxis": "x3",
         "y": [
          0.12694239208517566,
          0.09270476897949034,
          0.06002791951289953,
          0.06147659987714001,
          0.043633991774855205,
          0.04354526710990046
         ],
         "yaxis": "y3"
        }
       ],
       "layout": {
        "height": 900,
        "legend": {
         "orientation": "h",
         "x": 0.5,
         "y": 1.15
        },
        "template": {
         "data": {
          "bar": [
           {
            "error_x": {
             "color": "#2a3f5f"
            },
            "error_y": {
             "color": "#2a3f5f"
            },
            "marker": {
             "line": {
              "color": "#E5ECF6",
              "width": 0.5
             },
             "pattern": {
              "fillmode": "overlay",
              "size": 10,
              "solidity": 0.2
             }
            },
            "type": "bar"
           }
          ],
          "barpolar": [
           {
            "marker": {
             "line": {
              "color": "#E5ECF6",
              "width": 0.5
             },
             "pattern": {
              "fillmode": "overlay",
              "size": 10,
              "solidity": 0.2
             }
            },
            "type": "barpolar"
           }
          ],
          "carpet": [
           {
            "aaxis": {
             "endlinecolor": "#2a3f5f",
             "gridcolor": "white",
             "linecolor": "white",
             "minorgridcolor": "white",
             "startlinecolor": "#2a3f5f"
            },
            "baxis": {
             "endlinecolor": "#2a3f5f",
             "gridcolor": "white",
             "linecolor": "white",
             "minorgridcolor": "white",
             "startlinecolor": "#2a3f5f"
            },
            "type": "carpet"
           }
          ],
          "choropleth": [
           {
            "colorbar": {
             "outlinewidth": 0,
             "ticks": ""
            },
            "type": "choropleth"
           }
          ],
          "contour": [
           {
            "colorbar": {
             "outlinewidth": 0,
             "ticks": ""
            },
            "colorscale": [
             [
              0,
              "#0d0887"
             ],
             [
              0.1111111111111111,
              "#46039f"
             ],
             [
              0.2222222222222222,
              "#7201a8"
             ],
             [
              0.3333333333333333,
              "#9c179e"
             ],
             [
              0.4444444444444444,
              "#bd3786"
             ],
             [
              0.5555555555555556,
              "#d8576b"
             ],
             [
              0.6666666666666666,
              "#ed7953"
             ],
             [
              0.7777777777777778,
              "#fb9f3a"
             ],
             [
              0.8888888888888888,
              "#fdca26"
             ],
             [
              1,
              "#f0f921"
             ]
            ],
            "type": "contour"
           }
          ],
          "contourcarpet": [
           {
            "colorbar": {
             "outlinewidth": 0,
             "ticks": ""
            },
            "type": "contourcarpet"
           }
          ],
          "heatmap": [
           {
            "colorbar": {
             "outlinewidth": 0,
             "ticks": ""
            },
            "colorscale": [
             [
              0,
              "#0d0887"
             ],
             [
              0.1111111111111111,
              "#46039f"
             ],
             [
              0.2222222222222222,
              "#7201a8"
             ],
             [
              0.3333333333333333,
              "#9c179e"
             ],
             [
              0.4444444444444444,
              "#bd3786"
             ],
             [
              0.5555555555555556,
              "#d8576b"
             ],
             [
              0.6666666666666666,
              "#ed7953"
             ],
             [
              0.7777777777777778,
              "#fb9f3a"
             ],
             [
              0.8888888888888888,
              "#fdca26"
             ],
             [
              1,
              "#f0f921"
             ]
            ],
            "type": "heatmap"
           }
          ],
          "heatmapgl": [
           {
            "colorbar": {
             "outlinewidth": 0,
             "ticks": ""
            },
            "colorscale": [
             [
              0,
              "#0d0887"
             ],
             [
              0.1111111111111111,
              "#46039f"
             ],
             [
              0.2222222222222222,
              "#7201a8"
             ],
             [
              0.3333333333333333,
              "#9c179e"
             ],
             [
              0.4444444444444444,
              "#bd3786"
             ],
             [
              0.5555555555555556,
              "#d8576b"
             ],
             [
              0.6666666666666666,
              "#ed7953"
             ],
             [
              0.7777777777777778,
              "#fb9f3a"
             ],
             [
              0.8888888888888888,
              "#fdca26"
             ],
             [
              1,
              "#f0f921"
             ]
            ],
            "type": "heatmapgl"
           }
          ],
          "histogram": [
           {
            "marker": {
             "pattern": {
              "fillmode": "overlay",
              "size": 10,
              "solidity": 0.2
             }
            },
            "type": "histogram"
           }
          ],
          "histogram2d": [
           {
            "colorbar": {
             "outlinewidth": 0,
             "ticks": ""
            },
            "colorscale": [
             [
              0,
              "#0d0887"
             ],
             [
              0.1111111111111111,
              "#46039f"
             ],
             [
              0.2222222222222222,
              "#7201a8"
             ],
             [
              0.3333333333333333,
              "#9c179e"
             ],
             [
              0.4444444444444444,
              "#bd3786"
             ],
             [
              0.5555555555555556,
              "#d8576b"
             ],
             [
              0.6666666666666666,
              "#ed7953"
             ],
             [
              0.7777777777777778,
              "#fb9f3a"
             ],
             [
              0.8888888888888888,
              "#fdca26"
             ],
             [
              1,
              "#f0f921"
             ]
            ],
            "type": "histogram2d"
           }
          ],
          "histogram2dcontour": [
           {
            "colorbar": {
             "outlinewidth": 0,
             "ticks": ""
            },
            "colorscale": [
             [
              0,
              "#0d0887"
             ],
             [
              0.1111111111111111,
              "#46039f"
             ],
             [
              0.2222222222222222,
              "#7201a8"
             ],
             [
              0.3333333333333333,
              "#9c179e"
             ],
             [
              0.4444444444444444,
              "#bd3786"
             ],
             [
              0.5555555555555556,
              "#d8576b"
             ],
             [
              0.6666666666666666,
              "#ed7953"
             ],
             [
              0.7777777777777778,
              "#fb9f3a"
             ],
             [
              0.8888888888888888,
              "#fdca26"
             ],
             [
              1,
              "#f0f921"
             ]
            ],
            "type": "histogram2dcontour"
           }
          ],
          "mesh3d": [
           {
            "colorbar": {
             "outlinewidth": 0,
             "ticks": ""
            },
            "type": "mesh3d"
           }
          ],
          "parcoords": [
           {
            "line": {
             "colorbar": {
              "outlinewidth": 0,
              "ticks": ""
             }
            },
            "type": "parcoords"
           }
          ],
          "pie": [
           {
            "automargin": true,
            "type": "pie"
           }
          ],
          "scatter": [
           {
            "fillpattern": {
             "fillmode": "overlay",
             "size": 10,
             "solidity": 0.2
            },
            "type": "scatter"
           }
          ],
          "scatter3d": [
           {
            "line": {
             "colorbar": {
              "outlinewidth": 0,
              "ticks": ""
             }
            },
            "marker": {
             "colorbar": {
              "outlinewidth": 0,
              "ticks": ""
             }
            },
            "type": "scatter3d"
           }
          ],
          "scattercarpet": [
           {
            "marker": {
             "colorbar": {
              "outlinewidth": 0,
              "ticks": ""
             }
            },
            "type": "scattercarpet"
           }
          ],
          "scattergeo": [
           {
            "marker": {
             "colorbar": {
              "outlinewidth": 0,
              "ticks": ""
             }
            },
            "type": "scattergeo"
           }
          ],
          "scattergl": [
           {
            "marker": {
             "colorbar": {
              "outlinewidth": 0,
              "ticks": ""
             }
            },
            "type": "scattergl"
           }
          ],
          "scattermapbox": [
           {
            "marker": {
             "colorbar": {
              "outlinewidth": 0,
              "ticks": ""
             }
            },
            "type": "scattermapbox"
           }
          ],
          "scatterpolar": [
           {
            "marker": {
             "colorbar": {
              "outlinewidth": 0,
              "ticks": ""
             }
            },
            "type": "scatterpolar"
           }
          ],
          "scatterpolargl": [
           {
            "marker": {
             "colorbar": {
              "outlinewidth": 0,
              "ticks": ""
             }
            },
            "type": "scatterpolargl"
           }
          ],
          "scatterternary": [
           {
            "marker": {
             "colorbar": {
              "outlinewidth": 0,
              "ticks": ""
             }
            },
            "type": "scatterternary"
           }
          ],
          "surface": [
           {
            "colorbar": {
             "outlinewidth": 0,
             "ticks": ""
            },
            "colorscale": [
             [
              0,
              "#0d0887"
             ],
             [
              0.1111111111111111,
              "#46039f"
             ],
             [
              0.2222222222222222,
              "#7201a8"
             ],
             [
              0.3333333333333333,
              "#9c179e"
             ],
             [
              0.4444444444444444,
              "#bd3786"
             ],
             [
              0.5555555555555556,
              "#d8576b"
             ],
             [
              0.6666666666666666,
              "#ed7953"
             ],
             [
              0.7777777777777778,
              "#fb9f3a"
             ],
             [
              0.8888888888888888,
              "#fdca26"
             ],
             [
              1,
              "#f0f921"
             ]
            ],
            "type": "surface"
           }
          ],
          "table": [
           {
            "cells": {
             "fill": {
              "color": "#EBF0F8"
             },
             "line": {
              "color": "white"
             }
            },
            "header": {
             "fill": {
              "color": "#C8D4E3"
             },
             "line": {
              "color": "white"
             }
            },
            "type": "table"
           }
          ]
         },
         "layout": {
          "annotationdefaults": {
           "arrowcolor": "#2a3f5f",
           "arrowhead": 0,
           "arrowwidth": 1
          },
          "autotypenumbers": "strict",
          "coloraxis": {
           "colorbar": {
            "outlinewidth": 0,
            "ticks": ""
           }
          },
          "colorscale": {
           "diverging": [
            [
             0,
             "#8e0152"
            ],
            [
             0.1,
             "#c51b7d"
            ],
            [
             0.2,
             "#de77ae"
            ],
            [
             0.3,
             "#f1b6da"
            ],
            [
             0.4,
             "#fde0ef"
            ],
            [
             0.5,
             "#f7f7f7"
            ],
            [
             0.6,
             "#e6f5d0"
            ],
            [
             0.7,
             "#b8e186"
            ],
            [
             0.8,
             "#7fbc41"
            ],
            [
             0.9,
             "#4d9221"
            ],
            [
             1,
             "#276419"
            ]
           ],
           "sequential": [
            [
             0,
             "#0d0887"
            ],
            [
             0.1111111111111111,
             "#46039f"
            ],
            [
             0.2222222222222222,
             "#7201a8"
            ],
            [
             0.3333333333333333,
             "#9c179e"
            ],
            [
             0.4444444444444444,
             "#bd3786"
            ],
            [
             0.5555555555555556,
             "#d8576b"
            ],
            [
             0.6666666666666666,
             "#ed7953"
            ],
            [
             0.7777777777777778,
             "#fb9f3a"
            ],
            [
             0.8888888888888888,
             "#fdca26"
            ],
            [
             1,
             "#f0f921"
            ]
           ],
           "sequentialminus": [
            [
             0,
             "#0d0887"
            ],
            [
             0.1111111111111111,
             "#46039f"
            ],
            [
             0.2222222222222222,
             "#7201a8"
            ],
            [
             0.3333333333333333,
             "#9c179e"
            ],
            [
             0.4444444444444444,
             "#bd3786"
            ],
            [
             0.5555555555555556,
             "#d8576b"
            ],
            [
             0.6666666666666666,
             "#ed7953"
            ],
            [
             0.7777777777777778,
             "#fb9f3a"
            ],
            [
             0.8888888888888888,
             "#fdca26"
            ],
            [
             1,
             "#f0f921"
            ]
           ]
          },
          "colorway": [
           "#636efa",
           "#EF553B",
           "#00cc96",
           "#ab63fa",
           "#FFA15A",
           "#19d3f3",
           "#FF6692",
           "#B6E880",
           "#FF97FF",
           "#FECB52"
          ],
          "font": {
           "color": "#2a3f5f"
          },
          "geo": {
           "bgcolor": "white",
           "lakecolor": "white",
           "landcolor": "#E5ECF6",
           "showlakes": true,
           "showland": true,
           "subunitcolor": "white"
          },
          "hoverlabel": {
           "align": "left"
          },
          "hovermode": "closest",
          "mapbox": {
           "style": "light"
          },
          "paper_bgcolor": "white",
          "plot_bgcolor": "#E5ECF6",
          "polar": {
           "angularaxis": {
            "gridcolor": "white",
            "linecolor": "white",
            "ticks": ""
           },
           "bgcolor": "#E5ECF6",
           "radialaxis": {
            "gridcolor": "white",
            "linecolor": "white",
            "ticks": ""
           }
          },
          "scene": {
           "xaxis": {
            "backgroundcolor": "#E5ECF6",
            "gridcolor": "white",
            "gridwidth": 2,
            "linecolor": "white",
            "showbackground": true,
            "ticks": "",
            "zerolinecolor": "white"
           },
           "yaxis": {
            "backgroundcolor": "#E5ECF6",
            "gridcolor": "white",
            "gridwidth": 2,
            "linecolor": "white",
            "showbackground": true,
            "ticks": "",
            "zerolinecolor": "white"
           },
           "zaxis": {
            "backgroundcolor": "#E5ECF6",
            "gridcolor": "white",
            "gridwidth": 2,
            "linecolor": "white",
            "showbackground": true,
            "ticks": "",
            "zerolinecolor": "white"
           }
          },
          "shapedefaults": {
           "line": {
            "color": "#2a3f5f"
           }
          },
          "ternary": {
           "aaxis": {
            "gridcolor": "white",
            "linecolor": "white",
            "ticks": ""
           },
           "baxis": {
            "gridcolor": "white",
            "linecolor": "white",
            "ticks": ""
           },
           "bgcolor": "#E5ECF6",
           "caxis": {
            "gridcolor": "white",
            "linecolor": "white",
            "ticks": ""
           }
          },
          "title": {
           "x": 0.05
          },
          "xaxis": {
           "automargin": true,
           "gridcolor": "white",
           "linecolor": "white",
           "ticks": "",
           "title": {
            "standoff": 15
           },
           "zerolinecolor": "white",
           "zerolinewidth": 2
          },
          "yaxis": {
           "automargin": true,
           "gridcolor": "white",
           "linecolor": "white",
           "ticks": "",
           "title": {
            "standoff": 15
           },
           "zerolinecolor": "white",
           "zerolinewidth": 2
          }
         }
        },
        "width": 600,
        "xaxis": {
         "anchor": "y",
         "domain": [
          0,
          1
         ],
         "tickvals": [
          0,
          0.2,
          0.4,
          0.6,
          0.8,
          1
         ],
         "title": {
          "font": {
           "size": 16
          },
          "text": "rule threshold"
         }
        },
        "xaxis2": {
         "anchor": "y2",
         "domain": [
          0,
          1
         ],
         "tickvals": [
          0,
          0.2,
          0.4,
          0.6,
          0.8,
          1
         ],
         "title": {
          "font": {
           "size": 16
          },
          "text": "rule threshold"
         }
        },
        "xaxis3": {
         "anchor": "y3",
         "domain": [
          0,
          1
         ],
         "tickvals": [
          0,
          0.2,
          0.4,
          0.6,
          0.8,
          1
         ],
         "title": {
          "text": "rule threshold"
         }
        },
        "yaxis": {
         "anchor": "x",
         "domain": [
          0.7333333333333333,
          1
         ],
         "range": [
          0,
          1
         ],
         "side": "right",
         "title": {
          "font": {
           "size": 16
          },
          "text": "auc"
         }
        },
        "yaxis2": {
         "anchor": "x2",
         "domain": [
          0.36666666666666664,
          0.6333333333333333
         ],
         "range": [
          0,
          1
         ],
         "side": "right",
         "title": {
          "font": {
           "size": 16
          },
          "text": "violation_rate"
         }
        },
        "yaxis3": {
         "anchor": "x3",
         "domain": [
          0,
          0.26666666666666666
         ],
         "range": [
          0,
          1
         ],
         "side": "right",
         "title": {
          "font": {
           "size": 16
          },
          "text": "violation_rate (instance)"
         }
        }
       }
      }
     },
     "metadata": {},
     "output_type": "display_data"
    }
   ],
   "source": [
    "import plotly.graph_objects as go\n",
    "from plotly.subplots import make_subplots\n",
    "\n",
    "\n",
    "# グラフのデータを準備\n",
    "# index = ['l-SVM-p', 'r-SVM-p', 'LogReg-p']\n",
    "\n",
    "index = [\n",
    "    'linear svm (L)', \n",
    "    'non-linear svm (L)', \n",
    "    'logistic regression (L)'\n",
    "]\n",
    "\n",
    "# index = [\n",
    "#     'linear svm', \n",
    "#     'non-linear svm', \n",
    "#     'logistic regression'\n",
    "# ]\n",
    "\n",
    "# index = [\n",
    "#     'RuleFit Classifier (disc)',\n",
    "#     'tree generator (disc)',\n",
    "#     'RuleFit Classifier (conti)', \n",
    "#     'tree generator (conti)',\n",
    "# ]\n",
    "\n",
    "columns = ['auc', 'violation_rate', 'violation_rate (instance)']\n",
    "\n",
    "title_text = \"rule threshold\"\n",
    "\n",
    "\n",
    "# サブプロットの作成\n",
    "# fig = make_subplots(rows=1, cols=2, subplot_titles=('AUC', 'ルール違反率'))\n",
    "fig = make_subplots(rows=len(columns), cols=1)\n",
    "showlegend=True\n",
    "\n",
    "for row_num, col in enumerate(columns):\n",
    "    tmp_mean = pd.DataFrame(\n",
    "        [{info: df.loc[model_name, col] for info, df in zip(infos, dfs_mean)} for model_name in index],\n",
    "        index=index\n",
    "    )\n",
    "    tmp_std = pd.DataFrame(\n",
    "        [{info: df.loc[model_name, col] for info, df in zip(infos, dfs_std)} for model_name in index],\n",
    "        index=index\n",
    "    )\n",
    "\n",
    "    # グラフ1: AUC\n",
    "    for i in range(len(tmp_mean)):\n",
    "        fig.add_trace(\n",
    "            go.Scatter(\n",
    "                x=tmp_mean.columns,\n",
    "                y=tmp_mean.iloc[i, :],\n",
    "                mode='lines+markers',\n",
    "                name=tmp_mean.index[i],\n",
    "                line=dict(color=colors_mean[i]),  # ラインの色を設定\n",
    "                marker=dict(color=colors_mean[i]),  # マーカーの色を設定\n",
    "                showlegend=showlegend,\n",
    "            ),\n",
    "            row=row_num+1, col=1\n",
    "        )\n",
    "        fig.add_trace(\n",
    "            go.Scatter(\n",
    "                x=tmp_mean.columns,\n",
    "                y=tmp_mean.iloc[i, :] + tmp_std.iloc[i, :],\n",
    "                mode='lines',\n",
    "                line=dict(color=colors_std[i]),  # ラインの色を設定\n",
    "                showlegend=False\n",
    "            ),\n",
    "            row=row_num+1, col=1\n",
    "        )\n",
    "        fig.add_trace(\n",
    "            go.Scatter(\n",
    "                x=tmp_mean.columns,\n",
    "                y=tmp_mean.iloc[i, :] - tmp_std.iloc[i, :],\n",
    "                mode='lines',\n",
    "                fill='tonexty',\n",
    "                fillcolor=colors_std[i],\n",
    "                line=dict(color='rgba(255,255,255,0)'),\n",
    "                showlegend=False\n",
    "            ),\n",
    "            row=row_num+1, col=1\n",
    "        )\n",
    "    \n",
    "    # x, y 軸の設定\n",
    "    fig.update_xaxes(title_text=title_text, row=row_num+1, col=1, tickvals=[num / 5 for num in range(6)])\n",
    "    fig.update_yaxes(title_text=col, range=[0, 1], row=row_num+1, col=1, side='right', title_font=dict(size=16))\n",
    "\n",
    "    showlegend=False\n",
    "    \n",
    "# レイアウトの設定\n",
    "fig.update_layout(\n",
    "    height=len(columns) * 300,\n",
    "    width=600,\n",
    "    xaxis=dict(\n",
    "        domain=[0, 1],  # 左側のsubplotの幅を調整\n",
    "        title_font=dict(size=16)\n",
    "    ),\n",
    "    xaxis2=dict(\n",
    "        domain=[0, 1],  # 右側のsubplotの幅を調整\n",
    "        title_font=dict(size=16)\n",
    "    ),\n",
    "    legend=dict(\n",
    "        x=0.5,\n",
    "        y=1.15,\n",
    "        orientation='h'  # 水平配置\n",
    "    ),\n",
    ")\n",
    "\n",
    "\n",
    "# グラフの表示\n",
    "fig.show()"
   ]
  },
  {
   "cell_type": "code",
   "execution_count": 16,
   "metadata": {},
   "outputs": [
    {
     "data": {
      "application/vnd.plotly.v1+json": {
       "config": {
        "plotlyServerURL": "https://plot.ly"
       },
       "data": [
        {
         "line": {
          "color": "rgba(99,110,250,1)"
         },
         "marker": {
          "color": "rgba(99,110,250,1)"
         },
         "mode": "lines+markers",
         "name": "linear svm",
         "showlegend": true,
         "type": "scatter",
         "x": [
          0,
          0.2,
          0.4,
          0.6,
          0.8,
          1
         ],
         "xaxis": "x",
         "y": [
          0.8378045112241415,
          0.8378045112241415,
          0.8378045112241415,
          0.8378045112241415,
          0.8378045112241415,
          0.8378045112241415
         ],
         "yaxis": "y"
        },
        {
         "line": {
          "color": "rgba(99,110,250,0.2)"
         },
         "mode": "lines",
         "showlegend": false,
         "type": "scatter",
         "x": [
          0,
          0.2,
          0.4,
          0.6,
          0.8,
          1
         ],
         "xaxis": "x",
         "y": [
          0.8831807779515406,
          0.8831807779515406,
          0.8831807779515406,
          0.8831807779515406,
          0.8831807779515406,
          0.8831807779515406
         ],
         "yaxis": "y"
        },
        {
         "fill": "tonexty",
         "fillcolor": "rgba(99,110,250,0.2)",
         "line": {
          "color": "rgba(255,255,255,0)"
         },
         "mode": "lines",
         "showlegend": false,
         "type": "scatter",
         "x": [
          0,
          0.2,
          0.4,
          0.6,
          0.8,
          1
         ],
         "xaxis": "x",
         "y": [
          0.7924282444967423,
          0.7924282444967423,
          0.7924282444967423,
          0.7924282444967423,
          0.7924282444967423,
          0.7924282444967423
         ],
         "yaxis": "y"
        },
        {
         "line": {
          "color": "rgba(239,85,59,1)"
         },
         "marker": {
          "color": "rgba(239,85,59,1)"
         },
         "mode": "lines+markers",
         "name": "non-linear svm",
         "showlegend": true,
         "type": "scatter",
         "x": [
          0,
          0.2,
          0.4,
          0.6,
          0.8,
          1
         ],
         "xaxis": "x",
         "y": [
          0.8380644745522868,
          0.8380644745522868,
          0.8380644745522868,
          0.8380644745522868,
          0.8380644745522868,
          0.8380644745522868
         ],
         "yaxis": "y"
        },
        {
         "line": {
          "color": "rgba(239,85,59,0.2)"
         },
         "mode": "lines",
         "showlegend": false,
         "type": "scatter",
         "x": [
          0,
          0.2,
          0.4,
          0.6,
          0.8,
          1
         ],
         "xaxis": "x",
         "y": [
          0.8867611205283645,
          0.8867611205283645,
          0.8867611205283645,
          0.8867611205283645,
          0.8867611205283645,
          0.8867611205283645
         ],
         "yaxis": "y"
        },
        {
         "fill": "tonexty",
         "fillcolor": "rgba(239,85,59,0.2)",
         "line": {
          "color": "rgba(255,255,255,0)"
         },
         "mode": "lines",
         "showlegend": false,
         "type": "scatter",
         "x": [
          0,
          0.2,
          0.4,
          0.6,
          0.8,
          1
         ],
         "xaxis": "x",
         "y": [
          0.7893678285762091,
          0.7893678285762091,
          0.7893678285762091,
          0.7893678285762091,
          0.7893678285762091,
          0.7893678285762091
         ],
         "yaxis": "y"
        },
        {
         "line": {
          "color": "rgba(0,204,150,1)"
         },
         "marker": {
          "color": "rgba(0,204,150,1)"
         },
         "mode": "lines+markers",
         "name": "logistic regression",
         "showlegend": true,
         "type": "scatter",
         "x": [
          0,
          0.2,
          0.4,
          0.6,
          0.8,
          1
         ],
         "xaxis": "x",
         "y": [
          0.8405733226121905,
          0.8405733226121905,
          0.8405733226121905,
          0.8405733226121905,
          0.8405733226121905,
          0.8405733226121905
         ],
         "yaxis": "y"
        },
        {
         "line": {
          "color": "rgba(0,204,150,0.2)"
         },
         "mode": "lines",
         "showlegend": false,
         "type": "scatter",
         "x": [
          0,
          0.2,
          0.4,
          0.6,
          0.8,
          1
         ],
         "xaxis": "x",
         "y": [
          0.8880053027203545,
          0.8880053027203545,
          0.8880053027203545,
          0.8880053027203545,
          0.8880053027203545,
          0.8880053027203545
         ],
         "yaxis": "y"
        },
        {
         "fill": "tonexty",
         "fillcolor": "rgba(0,204,150,0.2)",
         "line": {
          "color": "rgba(255,255,255,0)"
         },
         "mode": "lines",
         "showlegend": false,
         "type": "scatter",
         "x": [
          0,
          0.2,
          0.4,
          0.6,
          0.8,
          1
         ],
         "xaxis": "x",
         "y": [
          0.7931413425040266,
          0.7931413425040266,
          0.7931413425040266,
          0.7931413425040266,
          0.7931413425040266,
          0.7931413425040266
         ],
         "yaxis": "y"
        },
        {
         "line": {
          "color": "rgba(99,110,250,1)"
         },
         "marker": {
          "color": "rgba(99,110,250,1)"
         },
         "mode": "lines+markers",
         "name": "linear svm",
         "showlegend": false,
         "type": "scatter",
         "x": [
          0,
          0.2,
          0.4,
          0.6,
          0.8,
          1
         ],
         "xaxis": "x2",
         "y": [
          0.8813364886184359,
          0.8969696969696969,
          0.8884615384615385,
          0.8666666666666668,
          0.86,
          0.9
         ],
         "yaxis": "y2"
        },
        {
         "line": {
          "color": "rgba(99,110,250,0.2)"
         },
         "mode": "lines",
         "showlegend": false,
         "type": "scatter",
         "x": [
          0,
          0.2,
          0.4,
          0.6,
          0.8,
          1
         ],
         "xaxis": "x2",
         "y": [
          0.9081310751187128,
          0.949041359267806,
          1.0103912883395951,
          1.0839734135067551,
          1.0790890230020664,
          1.123606797749979
         ],
         "yaxis": "y2"
        },
        {
         "fill": "tonexty",
         "fillcolor": "rgba(99,110,250,0.2)",
         "line": {
          "color": "rgba(255,255,255,0)"
         },
         "mode": "lines",
         "showlegend": false,
         "type": "scatter",
         "x": [
          0,
          0.2,
          0.4,
          0.6,
          0.8,
          1
         ],
         "xaxis": "x2",
         "y": [
          0.8545419021181591,
          0.8448980346715877,
          0.7665317885834819,
          0.6493599198265785,
          0.6409109769979335,
          0.6763932022500211
         ],
         "yaxis": "y2"
        },
        {
         "line": {
          "color": "rgba(239,85,59,1)"
         },
         "marker": {
          "color": "rgba(239,85,59,1)"
         },
         "mode": "lines+markers",
         "name": "non-linear svm",
         "showlegend": false,
         "type": "scatter",
         "x": [
          0,
          0.2,
          0.4,
          0.6,
          0.8,
          1
         ],
         "xaxis": "x2",
         "y": [
          0.9085587108406582,
          0.9171717171717173,
          0.9288461538461539,
          0.9666666666666668,
          0.96,
          1
         ],
         "yaxis": "y2"
        },
        {
         "line": {
          "color": "rgba(239,85,59,0.2)"
         },
         "mode": "lines",
         "showlegend": false,
         "type": "scatter",
         "x": [
          0,
          0.2,
          0.4,
          0.6,
          0.8,
          1
         ],
         "xaxis": "x2",
         "y": [
          0.9475326726477605,
          0.9555688440580773,
          0.9993735416188164,
          1.0412022659166598,
          1.0494427190999915,
          1
         ],
         "yaxis": "y2"
        },
        {
         "fill": "tonexty",
         "fillcolor": "rgba(239,85,59,0.2)",
         "line": {
          "color": "rgba(255,255,255,0)"
         },
         "mode": "lines",
         "showlegend": false,
         "type": "scatter",
         "x": [
          0,
          0.2,
          0.4,
          0.6,
          0.8,
          1
         ],
         "xaxis": "x2",
         "y": [
          0.8695847490335559,
          0.8787745902853573,
          0.8583187660734913,
          0.8921310674166738,
          0.8705572809000084,
          1
         ],
         "yaxis": "y2"
        },
        {
         "line": {
          "color": "rgba(0,204,150,1)"
         },
         "marker": {
          "color": "rgba(0,204,150,1)"
         },
         "mode": "lines+markers",
         "name": "logistic regression",
         "showlegend": false,
         "type": "scatter",
         "x": [
          0,
          0.2,
          0.4,
          0.6,
          0.8,
          1
         ],
         "xaxis": "x2",
         "y": [
          0.8868920441739914,
          0.9080808080808079,
          0.9134615384615385,
          0.9666666666666668,
          0.96,
          1
         ],
         "yaxis": "y2"
        },
        {
         "line": {
          "color": "rgba(0,204,150,0.2)"
         },
         "mode": "lines",
         "showlegend": false,
         "type": "scatter",
         "x": [
          0,
          0.2,
          0.4,
          0.6,
          0.8,
          1
         ],
         "xaxis": "x2",
         "y": [
          0.9112099970574081,
          0.9637968297798851,
          1.0100949578953933,
          1.0412022659166598,
          1.0494427190999915,
          1
         ],
         "yaxis": "y2"
        },
        {
         "fill": "tonexty",
         "fillcolor": "rgba(0,204,150,0.2)",
         "line": {
          "color": "rgba(255,255,255,0)"
         },
         "mode": "lines",
         "showlegend": false,
         "type": "scatter",
         "x": [
          0,
          0.2,
          0.4,
          0.6,
          0.8,
          1
         ],
         "xaxis": "x2",
         "y": [
          0.8625740912905746,
          0.8523647863817307,
          0.8168281190276838,
          0.8921310674166738,
          0.8705572809000084,
          1
         ],
         "yaxis": "y2"
        },
        {
         "line": {
          "color": "rgba(99,110,250,1)"
         },
         "marker": {
          "color": "rgba(99,110,250,1)"
         },
         "mode": "lines+markers",
         "name": "linear svm",
         "showlegend": false,
         "type": "scatter",
         "x": [
          0,
          0.2,
          0.4,
          0.6,
          0.8,
          1
         ],
         "xaxis": "x3",
         "y": [
          0.8809917562866085,
          0.8982095884227137,
          0.8348512723310522,
          0.7143624686117298,
          0.5206913550456599,
          0.44356101786405827
         ],
         "yaxis": "y3"
        },
        {
         "line": {
          "color": "rgba(99,110,250,0.2)"
         },
         "mode": "lines",
         "showlegend": false,
         "type": "scatter",
         "x": [
          0,
          0.2,
          0.4,
          0.6,
          0.8,
          1
         ],
         "xaxis": "x3",
         "y": [
          0.894123856787249,
          0.9426162410834322,
          0.8711179172003111,
          0.7864224407111917,
          0.7764700439051133,
          0.65633914646575
         ],
         "yaxis": "y3"
        },
        {
         "fill": "tonexty",
         "fillcolor": "rgba(99,110,250,0.2)",
         "line": {
          "color": "rgba(255,255,255,0)"
         },
         "mode": "lines",
         "showlegend": false,
         "type": "scatter",
         "x": [
          0,
          0.2,
          0.4,
          0.6,
          0.8,
          1
         ],
         "xaxis": "x3",
         "y": [
          0.867859655785968,
          0.8538029357619952,
          0.7985846274617933,
          0.6423024965122679,
          0.2649126661862064,
          0.2307828892623666
         ],
         "yaxis": "y3"
        },
        {
         "line": {
          "color": "rgba(239,85,59,1)"
         },
         "marker": {
          "color": "rgba(239,85,59,1)"
         },
         "mode": "lines+markers",
         "name": "non-linear svm",
         "showlegend": false,
         "type": "scatter",
         "x": [
          0,
          0.2,
          0.4,
          0.6,
          0.8,
          1
         ],
         "xaxis": "x3",
         "y": [
          0.8948175568747676,
          0.9076161690673287,
          0.8537468343335224,
          0.7488039997425535,
          0.57312682527259,
          0.5075258998556943
         ],
         "yaxis": "y3"
        },
        {
         "line": {
          "color": "rgba(239,85,59,0.2)"
         },
         "mode": "lines",
         "showlegend": false,
         "type": "scatter",
         "x": [
          0,
          0.2,
          0.4,
          0.6,
          0.8,
          1
         ],
         "xaxis": "x3",
         "y": [
          0.9076553055032672,
          0.9545227911803198,
          0.8869183028025952,
          0.8132706272022897,
          0.8175006704730523,
          0.7230889517842263
         ],
         "yaxis": "y3"
        },
        {
         "fill": "tonexty",
         "fillcolor": "rgba(239,85,59,0.2)",
         "line": {
          "color": "rgba(255,255,255,0)"
         },
         "mode": "lines",
         "showlegend": false,
         "type": "scatter",
         "x": [
          0,
          0.2,
          0.4,
          0.6,
          0.8,
          1
         ],
         "xaxis": "x3",
         "y": [
          0.881979808246268,
          0.8607095469543375,
          0.8205753658644496,
          0.6843373722828173,
          0.32875298007212755,
          0.2919628479271623
         ],
         "yaxis": "y3"
        },
        {
         "line": {
          "color": "rgba(0,204,150,1)"
         },
         "marker": {
          "color": "rgba(0,204,150,1)"
         },
         "mode": "lines+markers",
         "name": "logistic regression",
         "showlegend": false,
         "type": "scatter",
         "x": [
          0,
          0.2,
          0.4,
          0.6,
          0.8,
          1
         ],
         "xaxis": "x3",
         "y": [
          0.8856547067577392,
          0.9028478274839189,
          0.8445716556945119,
          0.7340673857325009,
          0.5491547041942126,
          0.48163221014986596
         ],
         "yaxis": "y3"
        },
        {
         "line": {
          "color": "rgba(0,204,150,0.2)"
         },
         "mode": "lines",
         "showlegend": false,
         "type": "scatter",
         "x": [
          0,
          0.2,
          0.4,
          0.6,
          0.8,
          1
         ],
         "xaxis": "x3",
         "y": [
          0.8963619972129705,
          0.9476812935472936,
          0.8796865480377558,
          0.8034398112308785,
          0.8025272655723638,
          0.6986644664018172
         ],
         "yaxis": "y3"
        },
        {
         "fill": "tonexty",
         "fillcolor": "rgba(0,204,150,0.2)",
         "line": {
          "color": "rgba(255,255,255,0)"
         },
         "mode": "lines",
         "showlegend": false,
         "type": "scatter",
         "x": [
          0,
          0.2,
          0.4,
          0.6,
          0.8,
          1
         ],
         "xaxis": "x3",
         "y": [
          0.8749474163025078,
          0.8580143614205442,
          0.8094567633512679,
          0.6646949602341232,
          0.2957821428160615,
          0.2645999538979147
         ],
         "yaxis": "y3"
        }
       ],
       "layout": {
        "height": 900,
        "legend": {
         "orientation": "h",
         "x": 0.5,
         "y": 1.15
        },
        "template": {
         "data": {
          "bar": [
           {
            "error_x": {
             "color": "#2a3f5f"
            },
            "error_y": {
             "color": "#2a3f5f"
            },
            "marker": {
             "line": {
              "color": "#E5ECF6",
              "width": 0.5
             },
             "pattern": {
              "fillmode": "overlay",
              "size": 10,
              "solidity": 0.2
             }
            },
            "type": "bar"
           }
          ],
          "barpolar": [
           {
            "marker": {
             "line": {
              "color": "#E5ECF6",
              "width": 0.5
             },
             "pattern": {
              "fillmode": "overlay",
              "size": 10,
              "solidity": 0.2
             }
            },
            "type": "barpolar"
           }
          ],
          "carpet": [
           {
            "aaxis": {
             "endlinecolor": "#2a3f5f",
             "gridcolor": "white",
             "linecolor": "white",
             "minorgridcolor": "white",
             "startlinecolor": "#2a3f5f"
            },
            "baxis": {
             "endlinecolor": "#2a3f5f",
             "gridcolor": "white",
             "linecolor": "white",
             "minorgridcolor": "white",
             "startlinecolor": "#2a3f5f"
            },
            "type": "carpet"
           }
          ],
          "choropleth": [
           {
            "colorbar": {
             "outlinewidth": 0,
             "ticks": ""
            },
            "type": "choropleth"
           }
          ],
          "contour": [
           {
            "colorbar": {
             "outlinewidth": 0,
             "ticks": ""
            },
            "colorscale": [
             [
              0,
              "#0d0887"
             ],
             [
              0.1111111111111111,
              "#46039f"
             ],
             [
              0.2222222222222222,
              "#7201a8"
             ],
             [
              0.3333333333333333,
              "#9c179e"
             ],
             [
              0.4444444444444444,
              "#bd3786"
             ],
             [
              0.5555555555555556,
              "#d8576b"
             ],
             [
              0.6666666666666666,
              "#ed7953"
             ],
             [
              0.7777777777777778,
              "#fb9f3a"
             ],
             [
              0.8888888888888888,
              "#fdca26"
             ],
             [
              1,
              "#f0f921"
             ]
            ],
            "type": "contour"
           }
          ],
          "contourcarpet": [
           {
            "colorbar": {
             "outlinewidth": 0,
             "ticks": ""
            },
            "type": "contourcarpet"
           }
          ],
          "heatmap": [
           {
            "colorbar": {
             "outlinewidth": 0,
             "ticks": ""
            },
            "colorscale": [
             [
              0,
              "#0d0887"
             ],
             [
              0.1111111111111111,
              "#46039f"
             ],
             [
              0.2222222222222222,
              "#7201a8"
             ],
             [
              0.3333333333333333,
              "#9c179e"
             ],
             [
              0.4444444444444444,
              "#bd3786"
             ],
             [
              0.5555555555555556,
              "#d8576b"
             ],
             [
              0.6666666666666666,
              "#ed7953"
             ],
             [
              0.7777777777777778,
              "#fb9f3a"
             ],
             [
              0.8888888888888888,
              "#fdca26"
             ],
             [
              1,
              "#f0f921"
             ]
            ],
            "type": "heatmap"
           }
          ],
          "heatmapgl": [
           {
            "colorbar": {
             "outlinewidth": 0,
             "ticks": ""
            },
            "colorscale": [
             [
              0,
              "#0d0887"
             ],
             [
              0.1111111111111111,
              "#46039f"
             ],
             [
              0.2222222222222222,
              "#7201a8"
             ],
             [
              0.3333333333333333,
              "#9c179e"
             ],
             [
              0.4444444444444444,
              "#bd3786"
             ],
             [
              0.5555555555555556,
              "#d8576b"
             ],
             [
              0.6666666666666666,
              "#ed7953"
             ],
             [
              0.7777777777777778,
              "#fb9f3a"
             ],
             [
              0.8888888888888888,
              "#fdca26"
             ],
             [
              1,
              "#f0f921"
             ]
            ],
            "type": "heatmapgl"
           }
          ],
          "histogram": [
           {
            "marker": {
             "pattern": {
              "fillmode": "overlay",
              "size": 10,
              "solidity": 0.2
             }
            },
            "type": "histogram"
           }
          ],
          "histogram2d": [
           {
            "colorbar": {
             "outlinewidth": 0,
             "ticks": ""
            },
            "colorscale": [
             [
              0,
              "#0d0887"
             ],
             [
              0.1111111111111111,
              "#46039f"
             ],
             [
              0.2222222222222222,
              "#7201a8"
             ],
             [
              0.3333333333333333,
              "#9c179e"
             ],
             [
              0.4444444444444444,
              "#bd3786"
             ],
             [
              0.5555555555555556,
              "#d8576b"
             ],
             [
              0.6666666666666666,
              "#ed7953"
             ],
             [
              0.7777777777777778,
              "#fb9f3a"
             ],
             [
              0.8888888888888888,
              "#fdca26"
             ],
             [
              1,
              "#f0f921"
             ]
            ],
            "type": "histogram2d"
           }
          ],
          "histogram2dcontour": [
           {
            "colorbar": {
             "outlinewidth": 0,
             "ticks": ""
            },
            "colorscale": [
             [
              0,
              "#0d0887"
             ],
             [
              0.1111111111111111,
              "#46039f"
             ],
             [
              0.2222222222222222,
              "#7201a8"
             ],
             [
              0.3333333333333333,
              "#9c179e"
             ],
             [
              0.4444444444444444,
              "#bd3786"
             ],
             [
              0.5555555555555556,
              "#d8576b"
             ],
             [
              0.6666666666666666,
              "#ed7953"
             ],
             [
              0.7777777777777778,
              "#fb9f3a"
             ],
             [
              0.8888888888888888,
              "#fdca26"
             ],
             [
              1,
              "#f0f921"
             ]
            ],
            "type": "histogram2dcontour"
           }
          ],
          "mesh3d": [
           {
            "colorbar": {
             "outlinewidth": 0,
             "ticks": ""
            },
            "type": "mesh3d"
           }
          ],
          "parcoords": [
           {
            "line": {
             "colorbar": {
              "outlinewidth": 0,
              "ticks": ""
             }
            },
            "type": "parcoords"
           }
          ],
          "pie": [
           {
            "automargin": true,
            "type": "pie"
           }
          ],
          "scatter": [
           {
            "fillpattern": {
             "fillmode": "overlay",
             "size": 10,
             "solidity": 0.2
            },
            "type": "scatter"
           }
          ],
          "scatter3d": [
           {
            "line": {
             "colorbar": {
              "outlinewidth": 0,
              "ticks": ""
             }
            },
            "marker": {
             "colorbar": {
              "outlinewidth": 0,
              "ticks": ""
             }
            },
            "type": "scatter3d"
           }
          ],
          "scattercarpet": [
           {
            "marker": {
             "colorbar": {
              "outlinewidth": 0,
              "ticks": ""
             }
            },
            "type": "scattercarpet"
           }
          ],
          "scattergeo": [
           {
            "marker": {
             "colorbar": {
              "outlinewidth": 0,
              "ticks": ""
             }
            },
            "type": "scattergeo"
           }
          ],
          "scattergl": [
           {
            "marker": {
             "colorbar": {
              "outlinewidth": 0,
              "ticks": ""
             }
            },
            "type": "scattergl"
           }
          ],
          "scattermapbox": [
           {
            "marker": {
             "colorbar": {
              "outlinewidth": 0,
              "ticks": ""
             }
            },
            "type": "scattermapbox"
           }
          ],
          "scatterpolar": [
           {
            "marker": {
             "colorbar": {
              "outlinewidth": 0,
              "ticks": ""
             }
            },
            "type": "scatterpolar"
           }
          ],
          "scatterpolargl": [
           {
            "marker": {
             "colorbar": {
              "outlinewidth": 0,
              "ticks": ""
             }
            },
            "type": "scatterpolargl"
           }
          ],
          "scatterternary": [
           {
            "marker": {
             "colorbar": {
              "outlinewidth": 0,
              "ticks": ""
             }
            },
            "type": "scatterternary"
           }
          ],
          "surface": [
           {
            "colorbar": {
             "outlinewidth": 0,
             "ticks": ""
            },
            "colorscale": [
             [
              0,
              "#0d0887"
             ],
             [
              0.1111111111111111,
              "#46039f"
             ],
             [
              0.2222222222222222,
              "#7201a8"
             ],
             [
              0.3333333333333333,
              "#9c179e"
             ],
             [
              0.4444444444444444,
              "#bd3786"
             ],
             [
              0.5555555555555556,
              "#d8576b"
             ],
             [
              0.6666666666666666,
              "#ed7953"
             ],
             [
              0.7777777777777778,
              "#fb9f3a"
             ],
             [
              0.8888888888888888,
              "#fdca26"
             ],
             [
              1,
              "#f0f921"
             ]
            ],
            "type": "surface"
           }
          ],
          "table": [
           {
            "cells": {
             "fill": {
              "color": "#EBF0F8"
             },
             "line": {
              "color": "white"
             }
            },
            "header": {
             "fill": {
              "color": "#C8D4E3"
             },
             "line": {
              "color": "white"
             }
            },
            "type": "table"
           }
          ]
         },
         "layout": {
          "annotationdefaults": {
           "arrowcolor": "#2a3f5f",
           "arrowhead": 0,
           "arrowwidth": 1
          },
          "autotypenumbers": "strict",
          "coloraxis": {
           "colorbar": {
            "outlinewidth": 0,
            "ticks": ""
           }
          },
          "colorscale": {
           "diverging": [
            [
             0,
             "#8e0152"
            ],
            [
             0.1,
             "#c51b7d"
            ],
            [
             0.2,
             "#de77ae"
            ],
            [
             0.3,
             "#f1b6da"
            ],
            [
             0.4,
             "#fde0ef"
            ],
            [
             0.5,
             "#f7f7f7"
            ],
            [
             0.6,
             "#e6f5d0"
            ],
            [
             0.7,
             "#b8e186"
            ],
            [
             0.8,
             "#7fbc41"
            ],
            [
             0.9,
             "#4d9221"
            ],
            [
             1,
             "#276419"
            ]
           ],
           "sequential": [
            [
             0,
             "#0d0887"
            ],
            [
             0.1111111111111111,
             "#46039f"
            ],
            [
             0.2222222222222222,
             "#7201a8"
            ],
            [
             0.3333333333333333,
             "#9c179e"
            ],
            [
             0.4444444444444444,
             "#bd3786"
            ],
            [
             0.5555555555555556,
             "#d8576b"
            ],
            [
             0.6666666666666666,
             "#ed7953"
            ],
            [
             0.7777777777777778,
             "#fb9f3a"
            ],
            [
             0.8888888888888888,
             "#fdca26"
            ],
            [
             1,
             "#f0f921"
            ]
           ],
           "sequentialminus": [
            [
             0,
             "#0d0887"
            ],
            [
             0.1111111111111111,
             "#46039f"
            ],
            [
             0.2222222222222222,
             "#7201a8"
            ],
            [
             0.3333333333333333,
             "#9c179e"
            ],
            [
             0.4444444444444444,
             "#bd3786"
            ],
            [
             0.5555555555555556,
             "#d8576b"
            ],
            [
             0.6666666666666666,
             "#ed7953"
            ],
            [
             0.7777777777777778,
             "#fb9f3a"
            ],
            [
             0.8888888888888888,
             "#fdca26"
            ],
            [
             1,
             "#f0f921"
            ]
           ]
          },
          "colorway": [
           "#636efa",
           "#EF553B",
           "#00cc96",
           "#ab63fa",
           "#FFA15A",
           "#19d3f3",
           "#FF6692",
           "#B6E880",
           "#FF97FF",
           "#FECB52"
          ],
          "font": {
           "color": "#2a3f5f"
          },
          "geo": {
           "bgcolor": "white",
           "lakecolor": "white",
           "landcolor": "#E5ECF6",
           "showlakes": true,
           "showland": true,
           "subunitcolor": "white"
          },
          "hoverlabel": {
           "align": "left"
          },
          "hovermode": "closest",
          "mapbox": {
           "style": "light"
          },
          "paper_bgcolor": "white",
          "plot_bgcolor": "#E5ECF6",
          "polar": {
           "angularaxis": {
            "gridcolor": "white",
            "linecolor": "white",
            "ticks": ""
           },
           "bgcolor": "#E5ECF6",
           "radialaxis": {
            "gridcolor": "white",
            "linecolor": "white",
            "ticks": ""
           }
          },
          "scene": {
           "xaxis": {
            "backgroundcolor": "#E5ECF6",
            "gridcolor": "white",
            "gridwidth": 2,
            "linecolor": "white",
            "showbackground": true,
            "ticks": "",
            "zerolinecolor": "white"
           },
           "yaxis": {
            "backgroundcolor": "#E5ECF6",
            "gridcolor": "white",
            "gridwidth": 2,
            "linecolor": "white",
            "showbackground": true,
            "ticks": "",
            "zerolinecolor": "white"
           },
           "zaxis": {
            "backgroundcolor": "#E5ECF6",
            "gridcolor": "white",
            "gridwidth": 2,
            "linecolor": "white",
            "showbackground": true,
            "ticks": "",
            "zerolinecolor": "white"
           }
          },
          "shapedefaults": {
           "line": {
            "color": "#2a3f5f"
           }
          },
          "ternary": {
           "aaxis": {
            "gridcolor": "white",
            "linecolor": "white",
            "ticks": ""
           },
           "baxis": {
            "gridcolor": "white",
            "linecolor": "white",
            "ticks": ""
           },
           "bgcolor": "#E5ECF6",
           "caxis": {
            "gridcolor": "white",
            "linecolor": "white",
            "ticks": ""
           }
          },
          "title": {
           "x": 0.05
          },
          "xaxis": {
           "automargin": true,
           "gridcolor": "white",
           "linecolor": "white",
           "ticks": "",
           "title": {
            "standoff": 15
           },
           "zerolinecolor": "white",
           "zerolinewidth": 2
          },
          "yaxis": {
           "automargin": true,
           "gridcolor": "white",
           "linecolor": "white",
           "ticks": "",
           "title": {
            "standoff": 15
           },
           "zerolinecolor": "white",
           "zerolinewidth": 2
          }
         }
        },
        "width": 600,
        "xaxis": {
         "anchor": "y",
         "domain": [
          0,
          1
         ],
         "title": {
          "font": {
           "size": 16
          },
          "text": "rule threshold"
         }
        },
        "xaxis2": {
         "anchor": "y2",
         "domain": [
          0,
          1
         ],
         "title": {
          "font": {
           "size": 16
          },
          "text": "rule threshold"
         }
        },
        "xaxis3": {
         "anchor": "y3",
         "domain": [
          0,
          1
         ],
         "title": {
          "text": "rule threshold"
         }
        },
        "yaxis": {
         "anchor": "x",
         "domain": [
          0.7333333333333333,
          1
         ],
         "range": [
          0,
          1
         ],
         "side": "right",
         "title": {
          "font": {
           "size": 16
          },
          "text": "auc"
         }
        },
        "yaxis2": {
         "anchor": "x2",
         "domain": [
          0.36666666666666664,
          0.6333333333333333
         ],
         "range": [
          0,
          1
         ],
         "side": "right",
         "title": {
          "font": {
           "size": 16
          },
          "text": "violation_rate"
         }
        },
        "yaxis3": {
         "anchor": "x3",
         "domain": [
          0,
          0.26666666666666666
         ],
         "range": [
          0,
          1
         ],
         "side": "right",
         "title": {
          "font": {
           "size": 16
          },
          "text": "violation_rate (instance)"
         }
        }
       }
      }
     },
     "metadata": {},
     "output_type": "display_data"
    }
   ],
   "source": [
    "import plotly.graph_objects as go\n",
    "from plotly.subplots import make_subplots\n",
    "\n",
    "\n",
    "# グラフのデータを準備\n",
    "# index = ['l-SVM-p', 'r-SVM-p', 'LogReg-p']\n",
    "\n",
    "# index = [\n",
    "#     'linear svm (L)', \n",
    "#     'non-linear svm (L)', \n",
    "#     'logistic regression (L)'\n",
    "# ]\n",
    "\n",
    "index = [\n",
    "    'linear svm', \n",
    "    'non-linear svm', \n",
    "    'logistic regression'\n",
    "]\n",
    "\n",
    "# index = [\n",
    "#     'RuleFit Classifier (disc)',\n",
    "#     'tree generator (disc)',\n",
    "#     'RuleFit Classifier (conti)', \n",
    "#     'tree generator (conti)',\n",
    "# ]\n",
    "\n",
    "columns = ['auc', 'violation_rate', 'violation_rate (instance)']\n",
    "\n",
    "title_text = \"rule threshold\"\n",
    "\n",
    "\n",
    "# サブプロットの作成\n",
    "# fig = make_subplots(rows=1, cols=2, subplot_titles=('AUC', 'ルール違反率'))\n",
    "fig = make_subplots(rows=len(columns), cols=1)\n",
    "showlegend=True\n",
    "\n",
    "for row_num, col in enumerate(columns):\n",
    "    tmp_mean = pd.DataFrame(\n",
    "        [{info: df.loc[model_name, col] for info, df in zip(infos, dfs_mean)} for model_name in index],\n",
    "        index=index\n",
    "    )\n",
    "    tmp_std = pd.DataFrame(\n",
    "        [{info: df.loc[model_name, col] for info, df in zip(infos, dfs_std)} for model_name in index],\n",
    "        index=index\n",
    "    )\n",
    "\n",
    "    # グラフ1: AUC\n",
    "    for i in range(len(tmp_mean)):\n",
    "        fig.add_trace(\n",
    "            go.Scatter(\n",
    "                x=tmp_mean.columns,\n",
    "                y=tmp_mean.iloc[i, :],\n",
    "                mode='lines+markers',\n",
    "                name=tmp_mean.index[i],\n",
    "                line=dict(color=colors_mean[i]),  # ラインの色を設定\n",
    "                marker=dict(color=colors_mean[i]),  # マーカーの色を設定\n",
    "                showlegend=showlegend,\n",
    "            ),\n",
    "            row=row_num+1, col=1\n",
    "        )\n",
    "        fig.add_trace(\n",
    "            go.Scatter(\n",
    "                x=tmp_mean.columns,\n",
    "                y=tmp_mean.iloc[i, :] + tmp_std.iloc[i, :],\n",
    "                mode='lines',\n",
    "                line=dict(color=colors_std[i]),  # ラインの色を設定\n",
    "                showlegend=False\n",
    "            ),\n",
    "            row=row_num+1, col=1\n",
    "        )\n",
    "        fig.add_trace(\n",
    "            go.Scatter(\n",
    "                x=tmp_mean.columns,\n",
    "                y=tmp_mean.iloc[i, :] - tmp_std.iloc[i, :],\n",
    "                mode='lines',\n",
    "                fill='tonexty',\n",
    "                fillcolor=colors_std[i],\n",
    "                line=dict(color='rgba(255,255,255,0)'),\n",
    "                showlegend=False\n",
    "            ),\n",
    "            row=row_num+1, col=1\n",
    "        )\n",
    "    \n",
    "    # x, y 軸の設定\n",
    "    fig.update_xaxes(title_text=title_text, row=row_num+1, col=1)\n",
    "    fig.update_yaxes(title_text=col, range=[0, 1], row=row_num+1, col=1, side='right', title_font=dict(size=16))\n",
    "\n",
    "    showlegend=False\n",
    "    \n",
    "# レイアウトの設定\n",
    "fig.update_layout(\n",
    "    height=len(columns) * 300,\n",
    "    width=600,\n",
    "    xaxis=dict(\n",
    "        domain=[0, 1],  # 左側のsubplotの幅を調整\n",
    "        title_font=dict(size=16)\n",
    "    ),\n",
    "    xaxis2=dict(\n",
    "        domain=[0, 1],  # 右側のsubplotの幅を調整\n",
    "        title_font=dict(size=16)\n",
    "    ),\n",
    "    legend=dict(\n",
    "        x=0.5,\n",
    "        y=1.15,\n",
    "        orientation='h'  # 水平配置\n",
    "    ),\n",
    ")\n",
    "\n",
    "\n",
    "# グラフの表示\n",
    "fig.show()"
   ]
  },
  {
   "cell_type": "code",
   "execution_count": 15,
   "metadata": {},
   "outputs": [
    {
     "data": {
      "application/vnd.plotly.v1+json": {
       "config": {
        "plotlyServerURL": "https://plot.ly"
       },
       "data": [
        {
         "line": {
          "color": "rgba(99,110,250,1)"
         },
         "marker": {
          "color": "rgba(99,110,250,1)"
         },
         "mode": "lines+markers",
         "name": "RuleFit Classifier (disc)",
         "showlegend": true,
         "type": "scatter",
         "x": [
          0,
          0.2,
          0.4,
          0.6,
          0.8,
          1
         ],
         "xaxis": "x",
         "y": [
          0.8158688137250547,
          0.8158688137250547,
          0.8158688137250547,
          0.8158688137250547,
          0.8158688137250547,
          0.8158688137250547
         ],
         "yaxis": "y"
        },
        {
         "line": {
          "color": "rgba(99,110,250,0.2)"
         },
         "mode": "lines",
         "showlegend": false,
         "type": "scatter",
         "x": [
          0,
          0.2,
          0.4,
          0.6,
          0.8,
          1
         ],
         "xaxis": "x",
         "y": [
          0.8674886836698307,
          0.8674886836698307,
          0.8674886836698307,
          0.8674886836698307,
          0.8674886836698307,
          0.8674886836698307
         ],
         "yaxis": "y"
        },
        {
         "fill": "tonexty",
         "fillcolor": "rgba(99,110,250,0.2)",
         "line": {
          "color": "rgba(255,255,255,0)"
         },
         "mode": "lines",
         "showlegend": false,
         "type": "scatter",
         "x": [
          0,
          0.2,
          0.4,
          0.6,
          0.8,
          1
         ],
         "xaxis": "x",
         "y": [
          0.7642489437802787,
          0.7642489437802787,
          0.7642489437802787,
          0.7642489437802787,
          0.7642489437802787,
          0.7642489437802787
         ],
         "yaxis": "y"
        },
        {
         "line": {
          "color": "rgba(239,85,59,1)"
         },
         "marker": {
          "color": "rgba(239,85,59,1)"
         },
         "mode": "lines+markers",
         "name": "tree generator (disc)",
         "showlegend": true,
         "type": "scatter",
         "x": [
          0,
          0.2,
          0.4,
          0.6,
          0.8,
          1
         ],
         "xaxis": "x",
         "y": [
          0.7723221095803497,
          0.7723221095803497,
          0.7723221095803497,
          0.7723221095803497,
          0.7723221095803497,
          0.7723221095803497
         ],
         "yaxis": "y"
        },
        {
         "line": {
          "color": "rgba(239,85,59,0.2)"
         },
         "mode": "lines",
         "showlegend": false,
         "type": "scatter",
         "x": [
          0,
          0.2,
          0.4,
          0.6,
          0.8,
          1
         ],
         "xaxis": "x",
         "y": [
          0.8213949562136311,
          0.8213949562136311,
          0.8213949562136311,
          0.8213949562136311,
          0.8213949562136311,
          0.8213949562136311
         ],
         "yaxis": "y"
        },
        {
         "fill": "tonexty",
         "fillcolor": "rgba(239,85,59,0.2)",
         "line": {
          "color": "rgba(255,255,255,0)"
         },
         "mode": "lines",
         "showlegend": false,
         "type": "scatter",
         "x": [
          0,
          0.2,
          0.4,
          0.6,
          0.8,
          1
         ],
         "xaxis": "x",
         "y": [
          0.7232492629470684,
          0.7232492629470684,
          0.7232492629470684,
          0.7232492629470684,
          0.7232492629470684,
          0.7232492629470684
         ],
         "yaxis": "y"
        },
        {
         "line": {
          "color": "rgba(99,110,250,1)"
         },
         "marker": {
          "color": "rgba(99,110,250,1)"
         },
         "mode": "lines+markers",
         "name": "RuleFit Classifier (disc)",
         "showlegend": false,
         "type": "scatter",
         "x": [
          0,
          0.2,
          0.4,
          0.6,
          0.8,
          1
         ],
         "xaxis": "x2",
         "y": [
          0.8043024566148299,
          0.7747474747474747,
          0.791025641025641,
          0.8047619047619048,
          0.78,
          0.8333333333333333
         ],
         "yaxis": "y2"
        },
        {
         "line": {
          "color": "rgba(99,110,250,0.2)"
         },
         "mode": "lines",
         "showlegend": false,
         "type": "scatter",
         "x": [
          0,
          0.2,
          0.4,
          0.6,
          0.8,
          1
         ],
         "xaxis": "x2",
         "y": [
          0.8943433109769477,
          0.8974550011133582,
          0.9152920617786292,
          1.0232394237515137,
          1.0080350850198276,
          1.0690355937288492
         ],
         "yaxis": "y2"
        },
        {
         "fill": "tonexty",
         "fillcolor": "rgba(99,110,250,0.2)",
         "line": {
          "color": "rgba(255,255,255,0)"
         },
         "mode": "lines",
         "showlegend": false,
         "type": "scatter",
         "x": [
          0,
          0.2,
          0.4,
          0.6,
          0.8,
          1
         ],
         "xaxis": "x2",
         "y": [
          0.7142616022527121,
          0.6520399483815913,
          0.6667592202726528,
          0.586284385772296,
          0.5519649149801724,
          0.5976310729378174
         ],
         "yaxis": "y2"
        },
        {
         "line": {
          "color": "rgba(239,85,59,1)"
         },
         "marker": {
          "color": "rgba(239,85,59,1)"
         },
         "mode": "lines+markers",
         "name": "tree generator (disc)",
         "showlegend": false,
         "type": "scatter",
         "x": [
          0,
          0.2,
          0.4,
          0.6,
          0.8,
          1
         ],
         "xaxis": "x2",
         "y": [
          0.7329952670723463,
          0.7565656565656566,
          0.816025641025641,
          0.9047619047619048,
          0.8800000000000001,
          0.9333333333333332
         ],
         "yaxis": "y2"
        },
        {
         "line": {
          "color": "rgba(239,85,59,0.2)"
         },
         "mode": "lines",
         "showlegend": false,
         "type": "scatter",
         "x": [
          0,
          0.2,
          0.4,
          0.6,
          0.8,
          1
         ],
         "xaxis": "x2",
         "y": [
          0.8035244901558143,
          0.8841546495369783,
          0.9425287665311246,
          1.0515336667373567,
          1.0588854381999833,
          1.0824045318333193
         ],
         "yaxis": "y2"
        },
        {
         "fill": "tonexty",
         "fillcolor": "rgba(239,85,59,0.2)",
         "line": {
          "color": "rgba(255,255,255,0)"
         },
         "mode": "lines",
         "showlegend": false,
         "type": "scatter",
         "x": [
          0,
          0.2,
          0.4,
          0.6,
          0.8,
          1
         ],
         "xaxis": "x2",
         "y": [
          0.6624660439888783,
          0.6289766635943348,
          0.6895225155201574,
          0.7579901427864529,
          0.701114561800017,
          0.7842621348333473
         ],
         "yaxis": "y2"
        },
        {
         "line": {
          "color": "rgba(99,110,250,1)"
         },
         "marker": {
          "color": "rgba(99,110,250,1)"
         },
         "mode": "lines+markers",
         "name": "RuleFit Classifier (disc)",
         "showlegend": false,
         "type": "scatter",
         "x": [
          0,
          0.2,
          0.4,
          0.6,
          0.8,
          1
         ],
         "xaxis": "x3",
         "y": [
          0.8744253452332034,
          0.8827946037420775,
          0.8207317720351327,
          0.7003369687566154,
          0.5000689943672245,
          0.4213251790841019
         ],
         "yaxis": "y3"
        },
        {
         "line": {
          "color": "rgba(99,110,250,0.2)"
         },
         "mode": "lines",
         "showlegend": false,
         "type": "scatter",
         "x": [
          0,
          0.2,
          0.4,
          0.6,
          0.8,
          1
         ],
         "xaxis": "x3",
         "y": [
          0.8959889718401899,
          0.9407248064105833,
          0.855862928868011,
          0.7788593942605206,
          0.7639362389558724,
          0.6528502682005374
         ],
         "yaxis": "y3"
        },
        {
         "fill": "tonexty",
         "fillcolor": "rgba(99,110,250,0.2)",
         "line": {
          "color": "rgba(255,255,255,0)"
         },
         "mode": "lines",
         "showlegend": false,
         "type": "scatter",
         "x": [
          0,
          0.2,
          0.4,
          0.6,
          0.8,
          1
         ],
         "xaxis": "x3",
         "y": [
          0.8528617186262168,
          0.8248644010735717,
          0.7856006152022544,
          0.6218145432527102,
          0.23620174977857672,
          0.1898000899676664
         ],
         "yaxis": "y3"
        },
        {
         "line": {
          "color": "rgba(239,85,59,1)"
         },
         "marker": {
          "color": "rgba(239,85,59,1)"
         },
         "mode": "lines+markers",
         "name": "tree generator (disc)",
         "showlegend": false,
         "type": "scatter",
         "x": [
          0,
          0.2,
          0.4,
          0.6,
          0.8,
          1
         ],
         "xaxis": "x3",
         "y": [
          0.8562110924989857,
          0.8815690401095179,
          0.8294889800661422,
          0.7308087697908324,
          0.5865443336588497,
          0.5097220870031782
         ],
         "yaxis": "y3"
        },
        {
         "line": {
          "color": "rgba(239,85,59,0.2)"
         },
         "mode": "lines",
         "showlegend": false,
         "type": "scatter",
         "x": [
          0,
          0.2,
          0.4,
          0.6,
          0.8,
          1
         ],
         "xaxis": "x3",
         "y": [
          0.8834319182245626,
          0.9457035536792324,
          0.8847029542506953,
          0.8304489198545695,
          0.7144484516942728,
          0.6388665092398214
         ],
         "yaxis": "y3"
        },
        {
         "fill": "tonexty",
         "fillcolor": "rgba(239,85,59,0.2)",
         "line": {
          "color": "rgba(255,255,255,0)"
         },
         "mode": "lines",
         "showlegend": false,
         "type": "scatter",
         "x": [
          0,
          0.2,
          0.4,
          0.6,
          0.8,
          1
         ],
         "xaxis": "x3",
         "y": [
          0.8289902667734089,
          0.8174345265398033,
          0.7742750058815892,
          0.6311686197270954,
          0.4586402156234266,
          0.3805776647665351
         ],
         "yaxis": "y3"
        }
       ],
       "layout": {
        "height": 900,
        "legend": {
         "orientation": "h",
         "x": 0.5,
         "y": 1.15
        },
        "template": {
         "data": {
          "bar": [
           {
            "error_x": {
             "color": "#2a3f5f"
            },
            "error_y": {
             "color": "#2a3f5f"
            },
            "marker": {
             "line": {
              "color": "#E5ECF6",
              "width": 0.5
             },
             "pattern": {
              "fillmode": "overlay",
              "size": 10,
              "solidity": 0.2
             }
            },
            "type": "bar"
           }
          ],
          "barpolar": [
           {
            "marker": {
             "line": {
              "color": "#E5ECF6",
              "width": 0.5
             },
             "pattern": {
              "fillmode": "overlay",
              "size": 10,
              "solidity": 0.2
             }
            },
            "type": "barpolar"
           }
          ],
          "carpet": [
           {
            "aaxis": {
             "endlinecolor": "#2a3f5f",
             "gridcolor": "white",
             "linecolor": "white",
             "minorgridcolor": "white",
             "startlinecolor": "#2a3f5f"
            },
            "baxis": {
             "endlinecolor": "#2a3f5f",
             "gridcolor": "white",
             "linecolor": "white",
             "minorgridcolor": "white",
             "startlinecolor": "#2a3f5f"
            },
            "type": "carpet"
           }
          ],
          "choropleth": [
           {
            "colorbar": {
             "outlinewidth": 0,
             "ticks": ""
            },
            "type": "choropleth"
           }
          ],
          "contour": [
           {
            "colorbar": {
             "outlinewidth": 0,
             "ticks": ""
            },
            "colorscale": [
             [
              0,
              "#0d0887"
             ],
             [
              0.1111111111111111,
              "#46039f"
             ],
             [
              0.2222222222222222,
              "#7201a8"
             ],
             [
              0.3333333333333333,
              "#9c179e"
             ],
             [
              0.4444444444444444,
              "#bd3786"
             ],
             [
              0.5555555555555556,
              "#d8576b"
             ],
             [
              0.6666666666666666,
              "#ed7953"
             ],
             [
              0.7777777777777778,
              "#fb9f3a"
             ],
             [
              0.8888888888888888,
              "#fdca26"
             ],
             [
              1,
              "#f0f921"
             ]
            ],
            "type": "contour"
           }
          ],
          "contourcarpet": [
           {
            "colorbar": {
             "outlinewidth": 0,
             "ticks": ""
            },
            "type": "contourcarpet"
           }
          ],
          "heatmap": [
           {
            "colorbar": {
             "outlinewidth": 0,
             "ticks": ""
            },
            "colorscale": [
             [
              0,
              "#0d0887"
             ],
             [
              0.1111111111111111,
              "#46039f"
             ],
             [
              0.2222222222222222,
              "#7201a8"
             ],
             [
              0.3333333333333333,
              "#9c179e"
             ],
             [
              0.4444444444444444,
              "#bd3786"
             ],
             [
              0.5555555555555556,
              "#d8576b"
             ],
             [
              0.6666666666666666,
              "#ed7953"
             ],
             [
              0.7777777777777778,
              "#fb9f3a"
             ],
             [
              0.8888888888888888,
              "#fdca26"
             ],
             [
              1,
              "#f0f921"
             ]
            ],
            "type": "heatmap"
           }
          ],
          "heatmapgl": [
           {
            "colorbar": {
             "outlinewidth": 0,
             "ticks": ""
            },
            "colorscale": [
             [
              0,
              "#0d0887"
             ],
             [
              0.1111111111111111,
              "#46039f"
             ],
             [
              0.2222222222222222,
              "#7201a8"
             ],
             [
              0.3333333333333333,
              "#9c179e"
             ],
             [
              0.4444444444444444,
              "#bd3786"
             ],
             [
              0.5555555555555556,
              "#d8576b"
             ],
             [
              0.6666666666666666,
              "#ed7953"
             ],
             [
              0.7777777777777778,
              "#fb9f3a"
             ],
             [
              0.8888888888888888,
              "#fdca26"
             ],
             [
              1,
              "#f0f921"
             ]
            ],
            "type": "heatmapgl"
           }
          ],
          "histogram": [
           {
            "marker": {
             "pattern": {
              "fillmode": "overlay",
              "size": 10,
              "solidity": 0.2
             }
            },
            "type": "histogram"
           }
          ],
          "histogram2d": [
           {
            "colorbar": {
             "outlinewidth": 0,
             "ticks": ""
            },
            "colorscale": [
             [
              0,
              "#0d0887"
             ],
             [
              0.1111111111111111,
              "#46039f"
             ],
             [
              0.2222222222222222,
              "#7201a8"
             ],
             [
              0.3333333333333333,
              "#9c179e"
             ],
             [
              0.4444444444444444,
              "#bd3786"
             ],
             [
              0.5555555555555556,
              "#d8576b"
             ],
             [
              0.6666666666666666,
              "#ed7953"
             ],
             [
              0.7777777777777778,
              "#fb9f3a"
             ],
             [
              0.8888888888888888,
              "#fdca26"
             ],
             [
              1,
              "#f0f921"
             ]
            ],
            "type": "histogram2d"
           }
          ],
          "histogram2dcontour": [
           {
            "colorbar": {
             "outlinewidth": 0,
             "ticks": ""
            },
            "colorscale": [
             [
              0,
              "#0d0887"
             ],
             [
              0.1111111111111111,
              "#46039f"
             ],
             [
              0.2222222222222222,
              "#7201a8"
             ],
             [
              0.3333333333333333,
              "#9c179e"
             ],
             [
              0.4444444444444444,
              "#bd3786"
             ],
             [
              0.5555555555555556,
              "#d8576b"
             ],
             [
              0.6666666666666666,
              "#ed7953"
             ],
             [
              0.7777777777777778,
              "#fb9f3a"
             ],
             [
              0.8888888888888888,
              "#fdca26"
             ],
             [
              1,
              "#f0f921"
             ]
            ],
            "type": "histogram2dcontour"
           }
          ],
          "mesh3d": [
           {
            "colorbar": {
             "outlinewidth": 0,
             "ticks": ""
            },
            "type": "mesh3d"
           }
          ],
          "parcoords": [
           {
            "line": {
             "colorbar": {
              "outlinewidth": 0,
              "ticks": ""
             }
            },
            "type": "parcoords"
           }
          ],
          "pie": [
           {
            "automargin": true,
            "type": "pie"
           }
          ],
          "scatter": [
           {
            "fillpattern": {
             "fillmode": "overlay",
             "size": 10,
             "solidity": 0.2
            },
            "type": "scatter"
           }
          ],
          "scatter3d": [
           {
            "line": {
             "colorbar": {
              "outlinewidth": 0,
              "ticks": ""
             }
            },
            "marker": {
             "colorbar": {
              "outlinewidth": 0,
              "ticks": ""
             }
            },
            "type": "scatter3d"
           }
          ],
          "scattercarpet": [
           {
            "marker": {
             "colorbar": {
              "outlinewidth": 0,
              "ticks": ""
             }
            },
            "type": "scattercarpet"
           }
          ],
          "scattergeo": [
           {
            "marker": {
             "colorbar": {
              "outlinewidth": 0,
              "ticks": ""
             }
            },
            "type": "scattergeo"
           }
          ],
          "scattergl": [
           {
            "marker": {
             "colorbar": {
              "outlinewidth": 0,
              "ticks": ""
             }
            },
            "type": "scattergl"
           }
          ],
          "scattermapbox": [
           {
            "marker": {
             "colorbar": {
              "outlinewidth": 0,
              "ticks": ""
             }
            },
            "type": "scattermapbox"
           }
          ],
          "scatterpolar": [
           {
            "marker": {
             "colorbar": {
              "outlinewidth": 0,
              "ticks": ""
             }
            },
            "type": "scatterpolar"
           }
          ],
          "scatterpolargl": [
           {
            "marker": {
             "colorbar": {
              "outlinewidth": 0,
              "ticks": ""
             }
            },
            "type": "scatterpolargl"
           }
          ],
          "scatterternary": [
           {
            "marker": {
             "colorbar": {
              "outlinewidth": 0,
              "ticks": ""
             }
            },
            "type": "scatterternary"
           }
          ],
          "surface": [
           {
            "colorbar": {
             "outlinewidth": 0,
             "ticks": ""
            },
            "colorscale": [
             [
              0,
              "#0d0887"
             ],
             [
              0.1111111111111111,
              "#46039f"
             ],
             [
              0.2222222222222222,
              "#7201a8"
             ],
             [
              0.3333333333333333,
              "#9c179e"
             ],
             [
              0.4444444444444444,
              "#bd3786"
             ],
             [
              0.5555555555555556,
              "#d8576b"
             ],
             [
              0.6666666666666666,
              "#ed7953"
             ],
             [
              0.7777777777777778,
              "#fb9f3a"
             ],
             [
              0.8888888888888888,
              "#fdca26"
             ],
             [
              1,
              "#f0f921"
             ]
            ],
            "type": "surface"
           }
          ],
          "table": [
           {
            "cells": {
             "fill": {
              "color": "#EBF0F8"
             },
             "line": {
              "color": "white"
             }
            },
            "header": {
             "fill": {
              "color": "#C8D4E3"
             },
             "line": {
              "color": "white"
             }
            },
            "type": "table"
           }
          ]
         },
         "layout": {
          "annotationdefaults": {
           "arrowcolor": "#2a3f5f",
           "arrowhead": 0,
           "arrowwidth": 1
          },
          "autotypenumbers": "strict",
          "coloraxis": {
           "colorbar": {
            "outlinewidth": 0,
            "ticks": ""
           }
          },
          "colorscale": {
           "diverging": [
            [
             0,
             "#8e0152"
            ],
            [
             0.1,
             "#c51b7d"
            ],
            [
             0.2,
             "#de77ae"
            ],
            [
             0.3,
             "#f1b6da"
            ],
            [
             0.4,
             "#fde0ef"
            ],
            [
             0.5,
             "#f7f7f7"
            ],
            [
             0.6,
             "#e6f5d0"
            ],
            [
             0.7,
             "#b8e186"
            ],
            [
             0.8,
             "#7fbc41"
            ],
            [
             0.9,
             "#4d9221"
            ],
            [
             1,
             "#276419"
            ]
           ],
           "sequential": [
            [
             0,
             "#0d0887"
            ],
            [
             0.1111111111111111,
             "#46039f"
            ],
            [
             0.2222222222222222,
             "#7201a8"
            ],
            [
             0.3333333333333333,
             "#9c179e"
            ],
            [
             0.4444444444444444,
             "#bd3786"
            ],
            [
             0.5555555555555556,
             "#d8576b"
            ],
            [
             0.6666666666666666,
             "#ed7953"
            ],
            [
             0.7777777777777778,
             "#fb9f3a"
            ],
            [
             0.8888888888888888,
             "#fdca26"
            ],
            [
             1,
             "#f0f921"
            ]
           ],
           "sequentialminus": [
            [
             0,
             "#0d0887"
            ],
            [
             0.1111111111111111,
             "#46039f"
            ],
            [
             0.2222222222222222,
             "#7201a8"
            ],
            [
             0.3333333333333333,
             "#9c179e"
            ],
            [
             0.4444444444444444,
             "#bd3786"
            ],
            [
             0.5555555555555556,
             "#d8576b"
            ],
            [
             0.6666666666666666,
             "#ed7953"
            ],
            [
             0.7777777777777778,
             "#fb9f3a"
            ],
            [
             0.8888888888888888,
             "#fdca26"
            ],
            [
             1,
             "#f0f921"
            ]
           ]
          },
          "colorway": [
           "#636efa",
           "#EF553B",
           "#00cc96",
           "#ab63fa",
           "#FFA15A",
           "#19d3f3",
           "#FF6692",
           "#B6E880",
           "#FF97FF",
           "#FECB52"
          ],
          "font": {
           "color": "#2a3f5f"
          },
          "geo": {
           "bgcolor": "white",
           "lakecolor": "white",
           "landcolor": "#E5ECF6",
           "showlakes": true,
           "showland": true,
           "subunitcolor": "white"
          },
          "hoverlabel": {
           "align": "left"
          },
          "hovermode": "closest",
          "mapbox": {
           "style": "light"
          },
          "paper_bgcolor": "white",
          "plot_bgcolor": "#E5ECF6",
          "polar": {
           "angularaxis": {
            "gridcolor": "white",
            "linecolor": "white",
            "ticks": ""
           },
           "bgcolor": "#E5ECF6",
           "radialaxis": {
            "gridcolor": "white",
            "linecolor": "white",
            "ticks": ""
           }
          },
          "scene": {
           "xaxis": {
            "backgroundcolor": "#E5ECF6",
            "gridcolor": "white",
            "gridwidth": 2,
            "linecolor": "white",
            "showbackground": true,
            "ticks": "",
            "zerolinecolor": "white"
           },
           "yaxis": {
            "backgroundcolor": "#E5ECF6",
            "gridcolor": "white",
            "gridwidth": 2,
            "linecolor": "white",
            "showbackground": true,
            "ticks": "",
            "zerolinecolor": "white"
           },
           "zaxis": {
            "backgroundcolor": "#E5ECF6",
            "gridcolor": "white",
            "gridwidth": 2,
            "linecolor": "white",
            "showbackground": true,
            "ticks": "",
            "zerolinecolor": "white"
           }
          },
          "shapedefaults": {
           "line": {
            "color": "#2a3f5f"
           }
          },
          "ternary": {
           "aaxis": {
            "gridcolor": "white",
            "linecolor": "white",
            "ticks": ""
           },
           "baxis": {
            "gridcolor": "white",
            "linecolor": "white",
            "ticks": ""
           },
           "bgcolor": "#E5ECF6",
           "caxis": {
            "gridcolor": "white",
            "linecolor": "white",
            "ticks": ""
           }
          },
          "title": {
           "x": 0.05
          },
          "xaxis": {
           "automargin": true,
           "gridcolor": "white",
           "linecolor": "white",
           "ticks": "",
           "title": {
            "standoff": 15
           },
           "zerolinecolor": "white",
           "zerolinewidth": 2
          },
          "yaxis": {
           "automargin": true,
           "gridcolor": "white",
           "linecolor": "white",
           "ticks": "",
           "title": {
            "standoff": 15
           },
           "zerolinecolor": "white",
           "zerolinewidth": 2
          }
         }
        },
        "width": 600,
        "xaxis": {
         "anchor": "y",
         "domain": [
          0,
          1
         ],
         "title": {
          "font": {
           "size": 16
          },
          "text": "rule threshold"
         }
        },
        "xaxis2": {
         "anchor": "y2",
         "domain": [
          0,
          1
         ],
         "title": {
          "font": {
           "size": 16
          },
          "text": "rule threshold"
         }
        },
        "xaxis3": {
         "anchor": "y3",
         "domain": [
          0,
          1
         ],
         "title": {
          "text": "rule threshold"
         }
        },
        "yaxis": {
         "anchor": "x",
         "domain": [
          0.7333333333333333,
          1
         ],
         "range": [
          0,
          1
         ],
         "side": "right",
         "title": {
          "font": {
           "size": 16
          },
          "text": "auc"
         }
        },
        "yaxis2": {
         "anchor": "x2",
         "domain": [
          0.36666666666666664,
          0.6333333333333333
         ],
         "range": [
          0,
          1
         ],
         "side": "right",
         "title": {
          "font": {
           "size": 16
          },
          "text": "violation_rate"
         }
        },
        "yaxis3": {
         "anchor": "x3",
         "domain": [
          0,
          0.26666666666666666
         ],
         "range": [
          0,
          1
         ],
         "side": "right",
         "title": {
          "font": {
           "size": 16
          },
          "text": "violation_rate (instance)"
         }
        }
       }
      }
     },
     "metadata": {},
     "output_type": "display_data"
    }
   ],
   "source": [
    "import plotly.graph_objects as go\n",
    "from plotly.subplots import make_subplots\n",
    "\n",
    "\n",
    "# グラフのデータを準備\n",
    "# index = ['l-SVM-p', 'r-SVM-p', 'LogReg-p']\n",
    "\n",
    "# index = [\n",
    "#     'linear svm (L)', \n",
    "#     'non-linear svm (L)', \n",
    "#     'logistic regression (L)'\n",
    "# ]\n",
    "\n",
    "# index = [\n",
    "#     'linear svm', \n",
    "#     'non-linear svm', \n",
    "#     'logistic regression'\n",
    "# ]\n",
    "\n",
    "index = [\n",
    "    'RuleFit Classifier (disc)',\n",
    "    'tree generator (disc)',\n",
    "]\n",
    "\n",
    "columns = ['auc', 'violation_rate', 'violation_rate (instance)']\n",
    "\n",
    "title_text = \"rule threshold\"\n",
    "\n",
    "\n",
    "# サブプロットの作成\n",
    "# fig = make_subplots(rows=1, cols=2, subplot_titles=('AUC', 'ルール違反率'))\n",
    "fig = make_subplots(rows=len(columns), cols=1)\n",
    "showlegend=True\n",
    "\n",
    "for row_num, col in enumerate(columns):\n",
    "    tmp_mean = pd.DataFrame(\n",
    "        [{info: df.loc[model_name, col] for info, df in zip(infos, dfs_mean)} for model_name in index],\n",
    "        index=index\n",
    "    )\n",
    "    tmp_std = pd.DataFrame(\n",
    "        [{info: df.loc[model_name, col] for info, df in zip(infos, dfs_std)} for model_name in index],\n",
    "        index=index\n",
    "    )\n",
    "\n",
    "    # グラフ1: AUC\n",
    "    for i in range(len(tmp_mean)):\n",
    "        fig.add_trace(\n",
    "            go.Scatter(\n",
    "                x=tmp_mean.columns,\n",
    "                y=tmp_mean.iloc[i, :],\n",
    "                mode='lines+markers',\n",
    "                name=tmp_mean.index[i],\n",
    "                line=dict(color=colors_mean[i]),  # ラインの色を設定\n",
    "                marker=dict(color=colors_mean[i]),  # マーカーの色を設定\n",
    "                showlegend=showlegend,\n",
    "            ),\n",
    "            row=row_num+1, col=1\n",
    "        )\n",
    "        fig.add_trace(\n",
    "            go.Scatter(\n",
    "                x=tmp_mean.columns,\n",
    "                y=tmp_mean.iloc[i, :] + tmp_std.iloc[i, :],\n",
    "                mode='lines',\n",
    "                line=dict(color=colors_std[i]),  # ラインの色を設定\n",
    "                showlegend=False\n",
    "            ),\n",
    "            row=row_num+1, col=1\n",
    "        )\n",
    "        fig.add_trace(\n",
    "            go.Scatter(\n",
    "                x=tmp_mean.columns,\n",
    "                y=tmp_mean.iloc[i, :] - tmp_std.iloc[i, :],\n",
    "                mode='lines',\n",
    "                fill='tonexty',\n",
    "                fillcolor=colors_std[i],\n",
    "                line=dict(color='rgba(255,255,255,0)'),\n",
    "                showlegend=False\n",
    "            ),\n",
    "            row=row_num+1, col=1\n",
    "        )\n",
    "    \n",
    "    # x, y 軸の設定\n",
    "    fig.update_xaxes(title_text=title_text, row=row_num+1, col=1)\n",
    "    fig.update_yaxes(title_text=col, range=[0, 1], row=row_num+1, col=1, side='right', title_font=dict(size=16))\n",
    "\n",
    "    showlegend=False\n",
    "    \n",
    "# レイアウトの設定\n",
    "fig.update_layout(\n",
    "    height=len(columns) * 300,\n",
    "    width=600,\n",
    "    xaxis=dict(\n",
    "        domain=[0, 1],  # 左側のsubplotの幅を調整\n",
    "        title_font=dict(size=16)\n",
    "    ),\n",
    "    xaxis2=dict(\n",
    "        domain=[0, 1],  # 右側のsubplotの幅を調整\n",
    "        title_font=dict(size=16)\n",
    "    ),\n",
    "    legend=dict(\n",
    "        x=0.5,\n",
    "        y=1.15,\n",
    "        orientation='h'  # 水平配置\n",
    "    ),\n",
    ")\n",
    "\n",
    "\n",
    "# グラフの表示\n",
    "fig.show()"
   ]
  },
  {
   "cell_type": "code",
   "execution_count": 24,
   "metadata": {},
   "outputs": [
    {
     "data": {
      "application/vnd.plotly.v1+json": {
       "config": {
        "plotlyServerURL": "https://plot.ly"
       },
       "data": [
        {
         "line": {
          "color": "rgba(99,110,250,1)"
         },
         "marker": {
          "color": "rgba(99,110,250,1)"
         },
         "mode": "lines+markers",
         "name": "linear svm",
         "showlegend": true,
         "type": "scatter",
         "x": [
          0,
          0.2,
          0.4,
          0.6,
          0.8,
          1
         ],
         "xaxis": "x",
         "y": [
          0.8813364886184359,
          0.8969696969696969,
          0.8884615384615385,
          0.8666666666666668,
          0.86,
          0.9
         ],
         "yaxis": "y"
        },
        {
         "line": {
          "color": "rgba(99,110,250,0.2)"
         },
         "mode": "lines",
         "showlegend": false,
         "type": "scatter",
         "x": [
          0,
          0.2,
          0.4,
          0.6,
          0.8,
          1
         ],
         "xaxis": "x",
         "y": [
          0.9081310751187128,
          0.949041359267806,
          1.0103912883395951,
          1.0839734135067551,
          1.0790890230020664,
          1.123606797749979
         ],
         "yaxis": "y"
        },
        {
         "fill": "tonexty",
         "fillcolor": "rgba(99,110,250,0.2)",
         "line": {
          "color": "rgba(255,255,255,0)"
         },
         "mode": "lines",
         "showlegend": false,
         "type": "scatter",
         "x": [
          0,
          0.2,
          0.4,
          0.6,
          0.8,
          1
         ],
         "xaxis": "x",
         "y": [
          0.8545419021181591,
          0.8448980346715877,
          0.7665317885834819,
          0.6493599198265785,
          0.6409109769979335,
          0.6763932022500211
         ],
         "yaxis": "y"
        },
        {
         "line": {
          "color": "rgba(239,85,59,1)"
         },
         "marker": {
          "color": "rgba(239,85,59,1)"
         },
         "mode": "lines+markers",
         "name": "non-linear svm",
         "showlegend": true,
         "type": "scatter",
         "x": [
          0,
          0.2,
          0.4,
          0.6,
          0.8,
          1
         ],
         "xaxis": "x",
         "y": [
          0.9085587108406582,
          0.9171717171717173,
          0.9288461538461539,
          0.9666666666666668,
          0.96,
          1
         ],
         "yaxis": "y"
        },
        {
         "line": {
          "color": "rgba(239,85,59,0.2)"
         },
         "mode": "lines",
         "showlegend": false,
         "type": "scatter",
         "x": [
          0,
          0.2,
          0.4,
          0.6,
          0.8,
          1
         ],
         "xaxis": "x",
         "y": [
          0.9475326726477605,
          0.9555688440580773,
          0.9993735416188164,
          1.0412022659166598,
          1.0494427190999915,
          1
         ],
         "yaxis": "y"
        },
        {
         "fill": "tonexty",
         "fillcolor": "rgba(239,85,59,0.2)",
         "line": {
          "color": "rgba(255,255,255,0)"
         },
         "mode": "lines",
         "showlegend": false,
         "type": "scatter",
         "x": [
          0,
          0.2,
          0.4,
          0.6,
          0.8,
          1
         ],
         "xaxis": "x",
         "y": [
          0.8695847490335559,
          0.8787745902853573,
          0.8583187660734913,
          0.8921310674166738,
          0.8705572809000084,
          1
         ],
         "yaxis": "y"
        },
        {
         "line": {
          "color": "rgba(0,204,150,1)"
         },
         "marker": {
          "color": "rgba(0,204,150,1)"
         },
         "mode": "lines+markers",
         "name": "logistic regression",
         "showlegend": true,
         "type": "scatter",
         "x": [
          0,
          0.2,
          0.4,
          0.6,
          0.8,
          1
         ],
         "xaxis": "x",
         "y": [
          0.8868920441739914,
          0.9080808080808079,
          0.9134615384615385,
          0.9666666666666668,
          0.96,
          1
         ],
         "yaxis": "y"
        },
        {
         "line": {
          "color": "rgba(0,204,150,0.2)"
         },
         "mode": "lines",
         "showlegend": false,
         "type": "scatter",
         "x": [
          0,
          0.2,
          0.4,
          0.6,
          0.8,
          1
         ],
         "xaxis": "x",
         "y": [
          0.9112099970574081,
          0.9637968297798851,
          1.0100949578953933,
          1.0412022659166598,
          1.0494427190999915,
          1
         ],
         "yaxis": "y"
        },
        {
         "fill": "tonexty",
         "fillcolor": "rgba(0,204,150,0.2)",
         "line": {
          "color": "rgba(255,255,255,0)"
         },
         "mode": "lines",
         "showlegend": false,
         "type": "scatter",
         "x": [
          0,
          0.2,
          0.4,
          0.6,
          0.8,
          1
         ],
         "xaxis": "x",
         "y": [
          0.8625740912905746,
          0.8523647863817307,
          0.8168281190276838,
          0.8921310674166738,
          0.8705572809000084,
          1
         ],
         "yaxis": "y"
        },
        {
         "line": {
          "color": "rgba(171,99,250,1)"
         },
         "marker": {
          "color": "rgba(171,99,250,1)"
         },
         "mode": "lines+markers",
         "name": "RuleFit Classifier (disc)",
         "showlegend": true,
         "type": "scatter",
         "x": [
          0,
          0.2,
          0.4,
          0.6,
          0.8,
          1
         ],
         "xaxis": "x",
         "y": [
          0.8043024566148299,
          0.7747474747474747,
          0.791025641025641,
          0.8047619047619048,
          0.78,
          0.8333333333333333
         ],
         "yaxis": "y"
        },
        {
         "line": {
          "color": "rgba(171,99,250,0.2)"
         },
         "mode": "lines",
         "showlegend": false,
         "type": "scatter",
         "x": [
          0,
          0.2,
          0.4,
          0.6,
          0.8,
          1
         ],
         "xaxis": "x",
         "y": [
          0.8943433109769477,
          0.8974550011133582,
          0.9152920617786292,
          1.0232394237515137,
          1.0080350850198276,
          1.0690355937288492
         ],
         "yaxis": "y"
        },
        {
         "fill": "tonexty",
         "fillcolor": "rgba(171,99,250,0.2)",
         "line": {
          "color": "rgba(255,255,255,0)"
         },
         "mode": "lines",
         "showlegend": false,
         "type": "scatter",
         "x": [
          0,
          0.2,
          0.4,
          0.6,
          0.8,
          1
         ],
         "xaxis": "x",
         "y": [
          0.7142616022527121,
          0.6520399483815913,
          0.6667592202726528,
          0.586284385772296,
          0.5519649149801724,
          0.5976310729378174
         ],
         "yaxis": "y"
        },
        {
         "line": {
          "color": "rgba(255,161,90,1)"
         },
         "marker": {
          "color": "rgba(255,161,90,1)"
         },
         "mode": "lines+markers",
         "name": "tree generator (disc)",
         "showlegend": true,
         "type": "scatter",
         "x": [
          0,
          0.2,
          0.4,
          0.6,
          0.8,
          1
         ],
         "xaxis": "x",
         "y": [
          0.7329952670723463,
          0.7565656565656566,
          0.816025641025641,
          0.9047619047619048,
          0.8800000000000001,
          0.9333333333333332
         ],
         "yaxis": "y"
        },
        {
         "line": {
          "color": "rgba(255,161,90,0.2)"
         },
         "mode": "lines",
         "showlegend": false,
         "type": "scatter",
         "x": [
          0,
          0.2,
          0.4,
          0.6,
          0.8,
          1
         ],
         "xaxis": "x",
         "y": [
          0.8035244901558143,
          0.8841546495369783,
          0.9425287665311246,
          1.0515336667373567,
          1.0588854381999833,
          1.0824045318333193
         ],
         "yaxis": "y"
        },
        {
         "fill": "tonexty",
         "fillcolor": "rgba(255,161,90,0.2)",
         "line": {
          "color": "rgba(255,255,255,0)"
         },
         "mode": "lines",
         "showlegend": false,
         "type": "scatter",
         "x": [
          0,
          0.2,
          0.4,
          0.6,
          0.8,
          1
         ],
         "xaxis": "x",
         "y": [
          0.6624660439888783,
          0.6289766635943348,
          0.6895225155201574,
          0.7579901427864529,
          0.701114561800017,
          0.7842621348333473
         ],
         "yaxis": "y"
        }
       ],
       "layout": {
        "height": 300,
        "legend": {
         "orientation": "h",
         "x": 0.5,
         "y": 2
        },
        "template": {
         "data": {
          "bar": [
           {
            "error_x": {
             "color": "#2a3f5f"
            },
            "error_y": {
             "color": "#2a3f5f"
            },
            "marker": {
             "line": {
              "color": "#E5ECF6",
              "width": 0.5
             },
             "pattern": {
              "fillmode": "overlay",
              "size": 10,
              "solidity": 0.2
             }
            },
            "type": "bar"
           }
          ],
          "barpolar": [
           {
            "marker": {
             "line": {
              "color": "#E5ECF6",
              "width": 0.5
             },
             "pattern": {
              "fillmode": "overlay",
              "size": 10,
              "solidity": 0.2
             }
            },
            "type": "barpolar"
           }
          ],
          "carpet": [
           {
            "aaxis": {
             "endlinecolor": "#2a3f5f",
             "gridcolor": "white",
             "linecolor": "white",
             "minorgridcolor": "white",
             "startlinecolor": "#2a3f5f"
            },
            "baxis": {
             "endlinecolor": "#2a3f5f",
             "gridcolor": "white",
             "linecolor": "white",
             "minorgridcolor": "white",
             "startlinecolor": "#2a3f5f"
            },
            "type": "carpet"
           }
          ],
          "choropleth": [
           {
            "colorbar": {
             "outlinewidth": 0,
             "ticks": ""
            },
            "type": "choropleth"
           }
          ],
          "contour": [
           {
            "colorbar": {
             "outlinewidth": 0,
             "ticks": ""
            },
            "colorscale": [
             [
              0,
              "#0d0887"
             ],
             [
              0.1111111111111111,
              "#46039f"
             ],
             [
              0.2222222222222222,
              "#7201a8"
             ],
             [
              0.3333333333333333,
              "#9c179e"
             ],
             [
              0.4444444444444444,
              "#bd3786"
             ],
             [
              0.5555555555555556,
              "#d8576b"
             ],
             [
              0.6666666666666666,
              "#ed7953"
             ],
             [
              0.7777777777777778,
              "#fb9f3a"
             ],
             [
              0.8888888888888888,
              "#fdca26"
             ],
             [
              1,
              "#f0f921"
             ]
            ],
            "type": "contour"
           }
          ],
          "contourcarpet": [
           {
            "colorbar": {
             "outlinewidth": 0,
             "ticks": ""
            },
            "type": "contourcarpet"
           }
          ],
          "heatmap": [
           {
            "colorbar": {
             "outlinewidth": 0,
             "ticks": ""
            },
            "colorscale": [
             [
              0,
              "#0d0887"
             ],
             [
              0.1111111111111111,
              "#46039f"
             ],
             [
              0.2222222222222222,
              "#7201a8"
             ],
             [
              0.3333333333333333,
              "#9c179e"
             ],
             [
              0.4444444444444444,
              "#bd3786"
             ],
             [
              0.5555555555555556,
              "#d8576b"
             ],
             [
              0.6666666666666666,
              "#ed7953"
             ],
             [
              0.7777777777777778,
              "#fb9f3a"
             ],
             [
              0.8888888888888888,
              "#fdca26"
             ],
             [
              1,
              "#f0f921"
             ]
            ],
            "type": "heatmap"
           }
          ],
          "heatmapgl": [
           {
            "colorbar": {
             "outlinewidth": 0,
             "ticks": ""
            },
            "colorscale": [
             [
              0,
              "#0d0887"
             ],
             [
              0.1111111111111111,
              "#46039f"
             ],
             [
              0.2222222222222222,
              "#7201a8"
             ],
             [
              0.3333333333333333,
              "#9c179e"
             ],
             [
              0.4444444444444444,
              "#bd3786"
             ],
             [
              0.5555555555555556,
              "#d8576b"
             ],
             [
              0.6666666666666666,
              "#ed7953"
             ],
             [
              0.7777777777777778,
              "#fb9f3a"
             ],
             [
              0.8888888888888888,
              "#fdca26"
             ],
             [
              1,
              "#f0f921"
             ]
            ],
            "type": "heatmapgl"
           }
          ],
          "histogram": [
           {
            "marker": {
             "pattern": {
              "fillmode": "overlay",
              "size": 10,
              "solidity": 0.2
             }
            },
            "type": "histogram"
           }
          ],
          "histogram2d": [
           {
            "colorbar": {
             "outlinewidth": 0,
             "ticks": ""
            },
            "colorscale": [
             [
              0,
              "#0d0887"
             ],
             [
              0.1111111111111111,
              "#46039f"
             ],
             [
              0.2222222222222222,
              "#7201a8"
             ],
             [
              0.3333333333333333,
              "#9c179e"
             ],
             [
              0.4444444444444444,
              "#bd3786"
             ],
             [
              0.5555555555555556,
              "#d8576b"
             ],
             [
              0.6666666666666666,
              "#ed7953"
             ],
             [
              0.7777777777777778,
              "#fb9f3a"
             ],
             [
              0.8888888888888888,
              "#fdca26"
             ],
             [
              1,
              "#f0f921"
             ]
            ],
            "type": "histogram2d"
           }
          ],
          "histogram2dcontour": [
           {
            "colorbar": {
             "outlinewidth": 0,
             "ticks": ""
            },
            "colorscale": [
             [
              0,
              "#0d0887"
             ],
             [
              0.1111111111111111,
              "#46039f"
             ],
             [
              0.2222222222222222,
              "#7201a8"
             ],
             [
              0.3333333333333333,
              "#9c179e"
             ],
             [
              0.4444444444444444,
              "#bd3786"
             ],
             [
              0.5555555555555556,
              "#d8576b"
             ],
             [
              0.6666666666666666,
              "#ed7953"
             ],
             [
              0.7777777777777778,
              "#fb9f3a"
             ],
             [
              0.8888888888888888,
              "#fdca26"
             ],
             [
              1,
              "#f0f921"
             ]
            ],
            "type": "histogram2dcontour"
           }
          ],
          "mesh3d": [
           {
            "colorbar": {
             "outlinewidth": 0,
             "ticks": ""
            },
            "type": "mesh3d"
           }
          ],
          "parcoords": [
           {
            "line": {
             "colorbar": {
              "outlinewidth": 0,
              "ticks": ""
             }
            },
            "type": "parcoords"
           }
          ],
          "pie": [
           {
            "automargin": true,
            "type": "pie"
           }
          ],
          "scatter": [
           {
            "fillpattern": {
             "fillmode": "overlay",
             "size": 10,
             "solidity": 0.2
            },
            "type": "scatter"
           }
          ],
          "scatter3d": [
           {
            "line": {
             "colorbar": {
              "outlinewidth": 0,
              "ticks": ""
             }
            },
            "marker": {
             "colorbar": {
              "outlinewidth": 0,
              "ticks": ""
             }
            },
            "type": "scatter3d"
           }
          ],
          "scattercarpet": [
           {
            "marker": {
             "colorbar": {
              "outlinewidth": 0,
              "ticks": ""
             }
            },
            "type": "scattercarpet"
           }
          ],
          "scattergeo": [
           {
            "marker": {
             "colorbar": {
              "outlinewidth": 0,
              "ticks": ""
             }
            },
            "type": "scattergeo"
           }
          ],
          "scattergl": [
           {
            "marker": {
             "colorbar": {
              "outlinewidth": 0,
              "ticks": ""
             }
            },
            "type": "scattergl"
           }
          ],
          "scattermapbox": [
           {
            "marker": {
             "colorbar": {
              "outlinewidth": 0,
              "ticks": ""
             }
            },
            "type": "scattermapbox"
           }
          ],
          "scatterpolar": [
           {
            "marker": {
             "colorbar": {
              "outlinewidth": 0,
              "ticks": ""
             }
            },
            "type": "scatterpolar"
           }
          ],
          "scatterpolargl": [
           {
            "marker": {
             "colorbar": {
              "outlinewidth": 0,
              "ticks": ""
             }
            },
            "type": "scatterpolargl"
           }
          ],
          "scatterternary": [
           {
            "marker": {
             "colorbar": {
              "outlinewidth": 0,
              "ticks": ""
             }
            },
            "type": "scatterternary"
           }
          ],
          "surface": [
           {
            "colorbar": {
             "outlinewidth": 0,
             "ticks": ""
            },
            "colorscale": [
             [
              0,
              "#0d0887"
             ],
             [
              0.1111111111111111,
              "#46039f"
             ],
             [
              0.2222222222222222,
              "#7201a8"
             ],
             [
              0.3333333333333333,
              "#9c179e"
             ],
             [
              0.4444444444444444,
              "#bd3786"
             ],
             [
              0.5555555555555556,
              "#d8576b"
             ],
             [
              0.6666666666666666,
              "#ed7953"
             ],
             [
              0.7777777777777778,
              "#fb9f3a"
             ],
             [
              0.8888888888888888,
              "#fdca26"
             ],
             [
              1,
              "#f0f921"
             ]
            ],
            "type": "surface"
           }
          ],
          "table": [
           {
            "cells": {
             "fill": {
              "color": "#EBF0F8"
             },
             "line": {
              "color": "white"
             }
            },
            "header": {
             "fill": {
              "color": "#C8D4E3"
             },
             "line": {
              "color": "white"
             }
            },
            "type": "table"
           }
          ]
         },
         "layout": {
          "annotationdefaults": {
           "arrowcolor": "#2a3f5f",
           "arrowhead": 0,
           "arrowwidth": 1
          },
          "autotypenumbers": "strict",
          "coloraxis": {
           "colorbar": {
            "outlinewidth": 0,
            "ticks": ""
           }
          },
          "colorscale": {
           "diverging": [
            [
             0,
             "#8e0152"
            ],
            [
             0.1,
             "#c51b7d"
            ],
            [
             0.2,
             "#de77ae"
            ],
            [
             0.3,
             "#f1b6da"
            ],
            [
             0.4,
             "#fde0ef"
            ],
            [
             0.5,
             "#f7f7f7"
            ],
            [
             0.6,
             "#e6f5d0"
            ],
            [
             0.7,
             "#b8e186"
            ],
            [
             0.8,
             "#7fbc41"
            ],
            [
             0.9,
             "#4d9221"
            ],
            [
             1,
             "#276419"
            ]
           ],
           "sequential": [
            [
             0,
             "#0d0887"
            ],
            [
             0.1111111111111111,
             "#46039f"
            ],
            [
             0.2222222222222222,
             "#7201a8"
            ],
            [
             0.3333333333333333,
             "#9c179e"
            ],
            [
             0.4444444444444444,
             "#bd3786"
            ],
            [
             0.5555555555555556,
             "#d8576b"
            ],
            [
             0.6666666666666666,
             "#ed7953"
            ],
            [
             0.7777777777777778,
             "#fb9f3a"
            ],
            [
             0.8888888888888888,
             "#fdca26"
            ],
            [
             1,
             "#f0f921"
            ]
           ],
           "sequentialminus": [
            [
             0,
             "#0d0887"
            ],
            [
             0.1111111111111111,
             "#46039f"
            ],
            [
             0.2222222222222222,
             "#7201a8"
            ],
            [
             0.3333333333333333,
             "#9c179e"
            ],
            [
             0.4444444444444444,
             "#bd3786"
            ],
            [
             0.5555555555555556,
             "#d8576b"
            ],
            [
             0.6666666666666666,
             "#ed7953"
            ],
            [
             0.7777777777777778,
             "#fb9f3a"
            ],
            [
             0.8888888888888888,
             "#fdca26"
            ],
            [
             1,
             "#f0f921"
            ]
           ]
          },
          "colorway": [
           "#636efa",
           "#EF553B",
           "#00cc96",
           "#ab63fa",
           "#FFA15A",
           "#19d3f3",
           "#FF6692",
           "#B6E880",
           "#FF97FF",
           "#FECB52"
          ],
          "font": {
           "color": "#2a3f5f"
          },
          "geo": {
           "bgcolor": "white",
           "lakecolor": "white",
           "landcolor": "#E5ECF6",
           "showlakes": true,
           "showland": true,
           "subunitcolor": "white"
          },
          "hoverlabel": {
           "align": "left"
          },
          "hovermode": "closest",
          "mapbox": {
           "style": "light"
          },
          "paper_bgcolor": "white",
          "plot_bgcolor": "#E5ECF6",
          "polar": {
           "angularaxis": {
            "gridcolor": "white",
            "linecolor": "white",
            "ticks": ""
           },
           "bgcolor": "#E5ECF6",
           "radialaxis": {
            "gridcolor": "white",
            "linecolor": "white",
            "ticks": ""
           }
          },
          "scene": {
           "xaxis": {
            "backgroundcolor": "#E5ECF6",
            "gridcolor": "white",
            "gridwidth": 2,
            "linecolor": "white",
            "showbackground": true,
            "ticks": "",
            "zerolinecolor": "white"
           },
           "yaxis": {
            "backgroundcolor": "#E5ECF6",
            "gridcolor": "white",
            "gridwidth": 2,
            "linecolor": "white",
            "showbackground": true,
            "ticks": "",
            "zerolinecolor": "white"
           },
           "zaxis": {
            "backgroundcolor": "#E5ECF6",
            "gridcolor": "white",
            "gridwidth": 2,
            "linecolor": "white",
            "showbackground": true,
            "ticks": "",
            "zerolinecolor": "white"
           }
          },
          "shapedefaults": {
           "line": {
            "color": "#2a3f5f"
           }
          },
          "ternary": {
           "aaxis": {
            "gridcolor": "white",
            "linecolor": "white",
            "ticks": ""
           },
           "baxis": {
            "gridcolor": "white",
            "linecolor": "white",
            "ticks": ""
           },
           "bgcolor": "#E5ECF6",
           "caxis": {
            "gridcolor": "white",
            "linecolor": "white",
            "ticks": ""
           }
          },
          "title": {
           "x": 0.05
          },
          "xaxis": {
           "automargin": true,
           "gridcolor": "white",
           "linecolor": "white",
           "ticks": "",
           "title": {
            "standoff": 15
           },
           "zerolinecolor": "white",
           "zerolinewidth": 2
          },
          "yaxis": {
           "automargin": true,
           "gridcolor": "white",
           "linecolor": "white",
           "ticks": "",
           "title": {
            "standoff": 15
           },
           "zerolinecolor": "white",
           "zerolinewidth": 2
          }
         }
        },
        "width": 600,
        "xaxis": {
         "anchor": "y",
         "domain": [
          0,
          1
         ],
         "title": {
          "font": {
           "size": 16
          },
          "text": "rule threshold"
         }
        },
        "xaxis2": {
         "domain": [
          0,
          1
         ],
         "title": {
          "font": {
           "size": 16
          }
         }
        },
        "yaxis": {
         "anchor": "x",
         "domain": [
          0,
          1
         ],
         "range": [
          0,
          1
         ],
         "side": "right",
         "title": {
          "font": {
           "size": 16
          },
          "text": "violation_rate"
         }
        }
       }
      }
     },
     "metadata": {},
     "output_type": "display_data"
    }
   ],
   "source": [
    "import plotly.graph_objects as go\n",
    "from plotly.subplots import make_subplots\n",
    "\n",
    "\n",
    "# グラフのデータを準備\n",
    "# index = ['l-SVM-p', 'r-SVM-p', 'LogReg-p']\n",
    "\n",
    "# index = [\n",
    "#     'linear svm (L)', \n",
    "#     'non-linear svm (L)', \n",
    "#     'logistic regression (L)'\n",
    "# ]\n",
    "\n",
    "index = [\n",
    "    'linear svm', \n",
    "    'non-linear svm', \n",
    "    'logistic regression',\n",
    "    'RuleFit Classifier (disc)',\n",
    "    'tree generator (disc)',\n",
    "]\n",
    "\n",
    "columns = ['violation_rate']\n",
    "\n",
    "title_text = \"rule threshold\"\n",
    "\n",
    "\n",
    "# サブプロットの作成\n",
    "# fig = make_subplots(rows=1, cols=2, subplot_titles=('AUC', 'ルール違反率'))\n",
    "fig = make_subplots(rows=len(columns), cols=1)\n",
    "showlegend=True\n",
    "\n",
    "for row_num, col in enumerate(columns):\n",
    "    tmp_mean = pd.DataFrame(\n",
    "        [{info: df.loc[model_name, col] for info, df in zip(infos, dfs_mean)} for model_name in index],\n",
    "        index=index\n",
    "    )\n",
    "    tmp_std = pd.DataFrame(\n",
    "        [{info: df.loc[model_name, col] for info, df in zip(infos, dfs_std)} for model_name in index],\n",
    "        index=index\n",
    "    )\n",
    "\n",
    "    # グラフ1: AUC\n",
    "    for i in range(len(tmp_mean)):\n",
    "        fig.add_trace(\n",
    "            go.Scatter(\n",
    "                x=tmp_mean.columns,\n",
    "                y=tmp_mean.iloc[i, :],\n",
    "                mode='lines+markers',\n",
    "                name=tmp_mean.index[i],\n",
    "                line=dict(color=colors_mean[i]),  # ラインの色を設定\n",
    "                marker=dict(color=colors_mean[i]),  # マーカーの色を設定\n",
    "                showlegend=showlegend,\n",
    "            ),\n",
    "            row=row_num+1, col=1\n",
    "        )\n",
    "        fig.add_trace(\n",
    "            go.Scatter(\n",
    "                x=tmp_mean.columns,\n",
    "                y=tmp_mean.iloc[i, :] + tmp_std.iloc[i, :],\n",
    "                mode='lines',\n",
    "                line=dict(color=colors_std[i]),  # ラインの色を設定\n",
    "                showlegend=False\n",
    "            ),\n",
    "            row=row_num+1, col=1\n",
    "        )\n",
    "        fig.add_trace(\n",
    "            go.Scatter(\n",
    "                x=tmp_mean.columns,\n",
    "                y=tmp_mean.iloc[i, :] - tmp_std.iloc[i, :],\n",
    "                mode='lines',\n",
    "                fill='tonexty',\n",
    "                fillcolor=colors_std[i],\n",
    "                line=dict(color='rgba(255,255,255,0)'),\n",
    "                showlegend=False\n",
    "            ),\n",
    "            row=row_num+1, col=1\n",
    "        )\n",
    "    \n",
    "    # x, y 軸の設定\n",
    "    fig.update_xaxes(title_text=title_text, row=row_num+1, col=1)\n",
    "    fig.update_yaxes(title_text=col, range=[0, 1], row=row_num+1, col=1, side='right', title_font=dict(size=16))\n",
    "\n",
    "    showlegend=False\n",
    "    \n",
    "# レイアウトの設定\n",
    "fig.update_layout(\n",
    "    height=len(columns) * 300,\n",
    "    width=600,\n",
    "    xaxis=dict(\n",
    "        domain=[0, 1],  # 左側のsubplotの幅を調整\n",
    "        title_font=dict(size=16)\n",
    "    ),\n",
    "    xaxis2=dict(\n",
    "        domain=[0, 1],  # 右側のsubplotの幅を調整\n",
    "        title_font=dict(size=16)\n",
    "    ),\n",
    "    legend=dict(\n",
    "        x=0.5,\n",
    "        y=2,\n",
    "        orientation='h'  # 水平配置\n",
    "    ),\n",
    ")\n",
    "\n",
    "\n",
    "# グラフの表示\n",
    "fig.show()"
   ]
  },
  {
   "cell_type": "code",
   "execution_count": null,
   "metadata": {},
   "outputs": [],
   "source": []
  }
 ],
 "metadata": {
  "kernelspec": {
   "display_name": "myenv",
   "language": "python",
   "name": "python3"
  },
  "language_info": {
   "codemirror_mode": {
    "name": "ipython",
    "version": 3
   },
   "file_extension": ".py",
   "mimetype": "text/x-python",
   "name": "python",
   "nbconvert_exporter": "python",
   "pygments_lexer": "ipython3",
   "version": "3.11.6"
  }
 },
 "nbformat": 4,
 "nbformat_minor": 2
}
