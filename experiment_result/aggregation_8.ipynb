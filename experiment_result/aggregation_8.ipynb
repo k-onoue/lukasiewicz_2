{
 "cells": [
  {
   "cell_type": "markdown",
   "metadata": {},
   "source": [
    "# 論理制約のパラーメータの違いによる予測結果の変化"
   ]
  },
  {
   "cell_type": "code",
   "execution_count": 1,
   "metadata": {},
   "outputs": [],
   "source": [
    "import json\n",
    "import pandas as pd"
   ]
  },
  {
   "cell_type": "code",
   "execution_count": 3,
   "metadata": {},
   "outputs": [
    {
     "data": {
      "text/html": [
       "<div>\n",
       "<style scoped>\n",
       "    .dataframe tbody tr th:only-of-type {\n",
       "        vertical-align: middle;\n",
       "    }\n",
       "\n",
       "    .dataframe tbody tr th {\n",
       "        vertical-align: top;\n",
       "    }\n",
       "\n",
       "    .dataframe thead th {\n",
       "        text-align: right;\n",
       "    }\n",
       "</style>\n",
       "<table border=\"1\" class=\"dataframe\">\n",
       "  <thead>\n",
       "    <tr style=\"text-align: right;\">\n",
       "      <th></th>\n",
       "      <th>accuracy</th>\n",
       "      <th>precision</th>\n",
       "      <th>recall</th>\n",
       "      <th>f1</th>\n",
       "      <th>auc</th>\n",
       "      <th>n_violation</th>\n",
       "      <th>n_rule</th>\n",
       "      <th>violation_rate</th>\n",
       "      <th>n_violation (instance)</th>\n",
       "      <th>n_evaluation (instance)</th>\n",
       "      <th>violation_rate (instance)</th>\n",
       "    </tr>\n",
       "  </thead>\n",
       "  <tbody>\n",
       "    <tr>\n",
       "      <th>linear svm</th>\n",
       "      <td>0.779104</td>\n",
       "      <td>0.711436</td>\n",
       "      <td>0.551175</td>\n",
       "      <td>0.618693</td>\n",
       "      <td>0.837805</td>\n",
       "      <td>31.4</td>\n",
       "      <td>35.6</td>\n",
       "      <td>0.883154</td>\n",
       "      <td>515.4</td>\n",
       "      <td>584.6</td>\n",
       "      <td>0.88065</td>\n",
       "    </tr>\n",
       "    <tr>\n",
       "      <th>non-linear svm</th>\n",
       "      <td>0.780597</td>\n",
       "      <td>0.75907</td>\n",
       "      <td>0.479714</td>\n",
       "      <td>0.587201</td>\n",
       "      <td>0.838064</td>\n",
       "      <td>32.4</td>\n",
       "      <td>35.6</td>\n",
       "      <td>0.908795</td>\n",
       "      <td>523.2</td>\n",
       "      <td>584.6</td>\n",
       "      <td>0.894248</td>\n",
       "    </tr>\n",
       "    <tr>\n",
       "      <th>logistic regression</th>\n",
       "      <td>0.78209</td>\n",
       "      <td>0.731143</td>\n",
       "      <td>0.530165</td>\n",
       "      <td>0.612464</td>\n",
       "      <td>0.840573</td>\n",
       "      <td>31.6</td>\n",
       "      <td>35.6</td>\n",
       "      <td>0.888283</td>\n",
       "      <td>518.0</td>\n",
       "      <td>584.6</td>\n",
       "      <td>0.885273</td>\n",
       "    </tr>\n",
       "    <tr>\n",
       "      <th>RuleFit Classifier (disc)</th>\n",
       "      <td>0.783582</td>\n",
       "      <td>0.742431</td>\n",
       "      <td>0.521271</td>\n",
       "      <td>0.610252</td>\n",
       "      <td>0.816049</td>\n",
       "      <td>29.0</td>\n",
       "      <td>35.6</td>\n",
       "      <td>0.806698</td>\n",
       "      <td>512.0</td>\n",
       "      <td>584.6</td>\n",
       "      <td>0.874097</td>\n",
       "    </tr>\n",
       "    <tr>\n",
       "      <th>RuleFit Classifier (conti)</th>\n",
       "      <td>0.732836</td>\n",
       "      <td>0.601979</td>\n",
       "      <td>0.553471</td>\n",
       "      <td>0.571908</td>\n",
       "      <td>0.795116</td>\n",
       "      <td>31.4</td>\n",
       "      <td>35.6</td>\n",
       "      <td>0.882955</td>\n",
       "      <td>514.0</td>\n",
       "      <td>584.6</td>\n",
       "      <td>0.878469</td>\n",
       "    </tr>\n",
       "    <tr>\n",
       "      <th>tree generator (disc)</th>\n",
       "      <td>0.741791</td>\n",
       "      <td>0.627843</td>\n",
       "      <td>0.557706</td>\n",
       "      <td>0.582608</td>\n",
       "      <td>0.772322</td>\n",
       "      <td>26.4</td>\n",
       "      <td>35.6</td>\n",
       "      <td>0.735629</td>\n",
       "      <td>502.2</td>\n",
       "      <td>584.6</td>\n",
       "      <td>0.857002</td>\n",
       "    </tr>\n",
       "    <tr>\n",
       "      <th>tree generator (conti)</th>\n",
       "      <td>0.78209</td>\n",
       "      <td>0.715158</td>\n",
       "      <td>0.568106</td>\n",
       "      <td>0.62746</td>\n",
       "      <td>0.8326</td>\n",
       "      <td>31.4</td>\n",
       "      <td>35.6</td>\n",
       "      <td>0.881923</td>\n",
       "      <td>517.4</td>\n",
       "      <td>584.6</td>\n",
       "      <td>0.884158</td>\n",
       "    </tr>\n",
       "    <tr>\n",
       "      <th>linear svm (L)</th>\n",
       "      <td>0.450746</td>\n",
       "      <td>0.387346</td>\n",
       "      <td>0.933849</td>\n",
       "      <td>0.534729</td>\n",
       "      <td>0.575606</td>\n",
       "      <td>22.4</td>\n",
       "      <td>35.6</td>\n",
       "      <td>0.631939</td>\n",
       "      <td>370.2</td>\n",
       "      <td>584.6</td>\n",
       "      <td>0.625322</td>\n",
       "    </tr>\n",
       "    <tr>\n",
       "      <th>non-linear svm (L)</th>\n",
       "      <td>0.697015</td>\n",
       "      <td>0.529094</td>\n",
       "      <td>0.78642</td>\n",
       "      <td>0.623937</td>\n",
       "      <td>0.827746</td>\n",
       "      <td>23.2</td>\n",
       "      <td>35.6</td>\n",
       "      <td>0.650041</td>\n",
       "      <td>166.4</td>\n",
       "      <td>584.6</td>\n",
       "      <td>0.286682</td>\n",
       "    </tr>\n",
       "    <tr>\n",
       "      <th>logistic regression (L)</th>\n",
       "      <td>0.767164</td>\n",
       "      <td>0.710831</td>\n",
       "      <td>0.496076</td>\n",
       "      <td>0.579919</td>\n",
       "      <td>0.82364</td>\n",
       "      <td>19.2</td>\n",
       "      <td>35.6</td>\n",
       "      <td>0.544045</td>\n",
       "      <td>95.8</td>\n",
       "      <td>584.6</td>\n",
       "      <td>0.164755</td>\n",
       "    </tr>\n",
       "    <tr>\n",
       "      <th>rule_based_prediction</th>\n",
       "      <td>0.325373</td>\n",
       "      <td>0.325373</td>\n",
       "      <td>1.0</td>\n",
       "      <td>0.489178</td>\n",
       "      <td>0.5</td>\n",
       "      <td>21.2</td>\n",
       "      <td>35.6</td>\n",
       "      <td>0.592588</td>\n",
       "      <td>469.0</td>\n",
       "      <td>584.6</td>\n",
       "      <td>0.801361</td>\n",
       "    </tr>\n",
       "  </tbody>\n",
       "</table>\n",
       "</div>"
      ],
      "text/plain": [
       "                            accuracy precision    recall        f1       auc  \\\n",
       "linear svm                  0.779104  0.711436  0.551175  0.618693  0.837805   \n",
       "non-linear svm              0.780597   0.75907  0.479714  0.587201  0.838064   \n",
       "logistic regression          0.78209  0.731143  0.530165  0.612464  0.840573   \n",
       "RuleFit Classifier (disc)   0.783582  0.742431  0.521271  0.610252  0.816049   \n",
       "RuleFit Classifier (conti)  0.732836  0.601979  0.553471  0.571908  0.795116   \n",
       "tree generator (disc)       0.741791  0.627843  0.557706  0.582608  0.772322   \n",
       "tree generator (conti)       0.78209  0.715158  0.568106   0.62746    0.8326   \n",
       "linear svm (L)              0.450746  0.387346  0.933849  0.534729  0.575606   \n",
       "non-linear svm (L)          0.697015  0.529094   0.78642  0.623937  0.827746   \n",
       "logistic regression (L)     0.767164  0.710831  0.496076  0.579919   0.82364   \n",
       "rule_based_prediction       0.325373  0.325373       1.0  0.489178       0.5   \n",
       "\n",
       "                           n_violation n_rule violation_rate  \\\n",
       "linear svm                        31.4   35.6       0.883154   \n",
       "non-linear svm                    32.4   35.6       0.908795   \n",
       "logistic regression               31.6   35.6       0.888283   \n",
       "RuleFit Classifier (disc)         29.0   35.6       0.806698   \n",
       "RuleFit Classifier (conti)        31.4   35.6       0.882955   \n",
       "tree generator (disc)             26.4   35.6       0.735629   \n",
       "tree generator (conti)            31.4   35.6       0.881923   \n",
       "linear svm (L)                    22.4   35.6       0.631939   \n",
       "non-linear svm (L)                23.2   35.6       0.650041   \n",
       "logistic regression (L)           19.2   35.6       0.544045   \n",
       "rule_based_prediction             21.2   35.6       0.592588   \n",
       "\n",
       "                           n_violation (instance) n_evaluation (instance)  \\\n",
       "linear svm                                  515.4                   584.6   \n",
       "non-linear svm                              523.2                   584.6   \n",
       "logistic regression                         518.0                   584.6   \n",
       "RuleFit Classifier (disc)                   512.0                   584.6   \n",
       "RuleFit Classifier (conti)                  514.0                   584.6   \n",
       "tree generator (disc)                       502.2                   584.6   \n",
       "tree generator (conti)                      517.4                   584.6   \n",
       "linear svm (L)                              370.2                   584.6   \n",
       "non-linear svm (L)                          166.4                   584.6   \n",
       "logistic regression (L)                      95.8                   584.6   \n",
       "rule_based_prediction                       469.0                   584.6   \n",
       "\n",
       "                           violation_rate (instance)  \n",
       "linear svm                                   0.88065  \n",
       "non-linear svm                              0.894248  \n",
       "logistic regression                         0.885273  \n",
       "RuleFit Classifier (disc)                   0.874097  \n",
       "RuleFit Classifier (conti)                  0.878469  \n",
       "tree generator (disc)                       0.857002  \n",
       "tree generator (conti)                      0.884158  \n",
       "linear svm (L)                              0.625322  \n",
       "non-linear svm (L)                          0.286682  \n",
       "logistic regression (L)                     0.164755  \n",
       "rule_based_prediction                       0.801361  "
      ]
     },
     "metadata": {},
     "output_type": "display_data"
    },
    {
     "data": {
      "text/html": [
       "<div>\n",
       "<style scoped>\n",
       "    .dataframe tbody tr th:only-of-type {\n",
       "        vertical-align: middle;\n",
       "    }\n",
       "\n",
       "    .dataframe tbody tr th {\n",
       "        vertical-align: top;\n",
       "    }\n",
       "\n",
       "    .dataframe thead th {\n",
       "        text-align: right;\n",
       "    }\n",
       "</style>\n",
       "<table border=\"1\" class=\"dataframe\">\n",
       "  <thead>\n",
       "    <tr style=\"text-align: right;\">\n",
       "      <th></th>\n",
       "      <th>accuracy</th>\n",
       "      <th>precision</th>\n",
       "      <th>recall</th>\n",
       "      <th>f1</th>\n",
       "      <th>auc</th>\n",
       "      <th>n_violation</th>\n",
       "      <th>n_rule</th>\n",
       "      <th>violation_rate</th>\n",
       "      <th>n_violation (instance)</th>\n",
       "      <th>n_evaluation (instance)</th>\n",
       "      <th>violation_rate (instance)</th>\n",
       "    </tr>\n",
       "  </thead>\n",
       "  <tbody>\n",
       "    <tr>\n",
       "      <th>linear svm</th>\n",
       "      <td>0.779104</td>\n",
       "      <td>0.711436</td>\n",
       "      <td>0.551175</td>\n",
       "      <td>0.618693</td>\n",
       "      <td>0.837805</td>\n",
       "      <td>31.4</td>\n",
       "      <td>35.6</td>\n",
       "      <td>0.883154</td>\n",
       "      <td>515.4</td>\n",
       "      <td>584.6</td>\n",
       "      <td>0.88065</td>\n",
       "    </tr>\n",
       "    <tr>\n",
       "      <th>non-linear svm</th>\n",
       "      <td>0.780597</td>\n",
       "      <td>0.75907</td>\n",
       "      <td>0.479714</td>\n",
       "      <td>0.587201</td>\n",
       "      <td>0.838064</td>\n",
       "      <td>32.4</td>\n",
       "      <td>35.6</td>\n",
       "      <td>0.908795</td>\n",
       "      <td>523.2</td>\n",
       "      <td>584.6</td>\n",
       "      <td>0.894248</td>\n",
       "    </tr>\n",
       "    <tr>\n",
       "      <th>logistic regression</th>\n",
       "      <td>0.78209</td>\n",
       "      <td>0.731143</td>\n",
       "      <td>0.530165</td>\n",
       "      <td>0.612464</td>\n",
       "      <td>0.840573</td>\n",
       "      <td>31.6</td>\n",
       "      <td>35.6</td>\n",
       "      <td>0.888283</td>\n",
       "      <td>518.0</td>\n",
       "      <td>584.6</td>\n",
       "      <td>0.885273</td>\n",
       "    </tr>\n",
       "    <tr>\n",
       "      <th>RuleFit Classifier (disc)</th>\n",
       "      <td>0.783582</td>\n",
       "      <td>0.742431</td>\n",
       "      <td>0.521271</td>\n",
       "      <td>0.610252</td>\n",
       "      <td>0.816049</td>\n",
       "      <td>29.0</td>\n",
       "      <td>35.6</td>\n",
       "      <td>0.806698</td>\n",
       "      <td>512.0</td>\n",
       "      <td>584.6</td>\n",
       "      <td>0.874097</td>\n",
       "    </tr>\n",
       "    <tr>\n",
       "      <th>RuleFit Classifier (conti)</th>\n",
       "      <td>0.732836</td>\n",
       "      <td>0.601979</td>\n",
       "      <td>0.553471</td>\n",
       "      <td>0.571908</td>\n",
       "      <td>0.795116</td>\n",
       "      <td>31.4</td>\n",
       "      <td>35.6</td>\n",
       "      <td>0.882955</td>\n",
       "      <td>514.0</td>\n",
       "      <td>584.6</td>\n",
       "      <td>0.878469</td>\n",
       "    </tr>\n",
       "    <tr>\n",
       "      <th>tree generator (disc)</th>\n",
       "      <td>0.741791</td>\n",
       "      <td>0.627843</td>\n",
       "      <td>0.557706</td>\n",
       "      <td>0.582608</td>\n",
       "      <td>0.772322</td>\n",
       "      <td>26.4</td>\n",
       "      <td>35.6</td>\n",
       "      <td>0.735629</td>\n",
       "      <td>502.2</td>\n",
       "      <td>584.6</td>\n",
       "      <td>0.857002</td>\n",
       "    </tr>\n",
       "    <tr>\n",
       "      <th>tree generator (conti)</th>\n",
       "      <td>0.78209</td>\n",
       "      <td>0.715158</td>\n",
       "      <td>0.568106</td>\n",
       "      <td>0.62746</td>\n",
       "      <td>0.8326</td>\n",
       "      <td>31.4</td>\n",
       "      <td>35.6</td>\n",
       "      <td>0.881923</td>\n",
       "      <td>517.4</td>\n",
       "      <td>584.6</td>\n",
       "      <td>0.884158</td>\n",
       "    </tr>\n",
       "    <tr>\n",
       "      <th>linear svm (L)</th>\n",
       "      <td>0.325373</td>\n",
       "      <td>0.325373</td>\n",
       "      <td>1.0</td>\n",
       "      <td>0.489178</td>\n",
       "      <td>0.359992</td>\n",
       "      <td>21.2</td>\n",
       "      <td>35.6</td>\n",
       "      <td>0.592588</td>\n",
       "      <td>469.0</td>\n",
       "      <td>584.6</td>\n",
       "      <td>0.801361</td>\n",
       "    </tr>\n",
       "    <tr>\n",
       "      <th>non-linear svm (L)</th>\n",
       "      <td>0.704478</td>\n",
       "      <td>0.535451</td>\n",
       "      <td>0.75285</td>\n",
       "      <td>0.619108</td>\n",
       "      <td>0.827163</td>\n",
       "      <td>24.2</td>\n",
       "      <td>35.6</td>\n",
       "      <td>0.679452</td>\n",
       "      <td>157.0</td>\n",
       "      <td>584.6</td>\n",
       "      <td>0.269751</td>\n",
       "    </tr>\n",
       "    <tr>\n",
       "      <th>logistic regression (L)</th>\n",
       "      <td>0.767164</td>\n",
       "      <td>0.710831</td>\n",
       "      <td>0.496076</td>\n",
       "      <td>0.579919</td>\n",
       "      <td>0.824097</td>\n",
       "      <td>19.2</td>\n",
       "      <td>35.6</td>\n",
       "      <td>0.544045</td>\n",
       "      <td>95.8</td>\n",
       "      <td>584.6</td>\n",
       "      <td>0.164755</td>\n",
       "    </tr>\n",
       "    <tr>\n",
       "      <th>rule_based_prediction</th>\n",
       "      <td>0.325373</td>\n",
       "      <td>0.325373</td>\n",
       "      <td>1.0</td>\n",
       "      <td>0.489178</td>\n",
       "      <td>0.5</td>\n",
       "      <td>21.2</td>\n",
       "      <td>35.6</td>\n",
       "      <td>0.592588</td>\n",
       "      <td>469.0</td>\n",
       "      <td>584.6</td>\n",
       "      <td>0.801361</td>\n",
       "    </tr>\n",
       "  </tbody>\n",
       "</table>\n",
       "</div>"
      ],
      "text/plain": [
       "                            accuracy precision    recall        f1       auc  \\\n",
       "linear svm                  0.779104  0.711436  0.551175  0.618693  0.837805   \n",
       "non-linear svm              0.780597   0.75907  0.479714  0.587201  0.838064   \n",
       "logistic regression          0.78209  0.731143  0.530165  0.612464  0.840573   \n",
       "RuleFit Classifier (disc)   0.783582  0.742431  0.521271  0.610252  0.816049   \n",
       "RuleFit Classifier (conti)  0.732836  0.601979  0.553471  0.571908  0.795116   \n",
       "tree generator (disc)       0.741791  0.627843  0.557706  0.582608  0.772322   \n",
       "tree generator (conti)       0.78209  0.715158  0.568106   0.62746    0.8326   \n",
       "linear svm (L)              0.325373  0.325373       1.0  0.489178  0.359992   \n",
       "non-linear svm (L)          0.704478  0.535451   0.75285  0.619108  0.827163   \n",
       "logistic regression (L)     0.767164  0.710831  0.496076  0.579919  0.824097   \n",
       "rule_based_prediction       0.325373  0.325373       1.0  0.489178       0.5   \n",
       "\n",
       "                           n_violation n_rule violation_rate  \\\n",
       "linear svm                        31.4   35.6       0.883154   \n",
       "non-linear svm                    32.4   35.6       0.908795   \n",
       "logistic regression               31.6   35.6       0.888283   \n",
       "RuleFit Classifier (disc)         29.0   35.6       0.806698   \n",
       "RuleFit Classifier (conti)        31.4   35.6       0.882955   \n",
       "tree generator (disc)             26.4   35.6       0.735629   \n",
       "tree generator (conti)            31.4   35.6       0.881923   \n",
       "linear svm (L)                    21.2   35.6       0.592588   \n",
       "non-linear svm (L)                24.2   35.6       0.679452   \n",
       "logistic regression (L)           19.2   35.6       0.544045   \n",
       "rule_based_prediction             21.2   35.6       0.592588   \n",
       "\n",
       "                           n_violation (instance) n_evaluation (instance)  \\\n",
       "linear svm                                  515.4                   584.6   \n",
       "non-linear svm                              523.2                   584.6   \n",
       "logistic regression                         518.0                   584.6   \n",
       "RuleFit Classifier (disc)                   512.0                   584.6   \n",
       "RuleFit Classifier (conti)                  514.0                   584.6   \n",
       "tree generator (disc)                       502.2                   584.6   \n",
       "tree generator (conti)                      517.4                   584.6   \n",
       "linear svm (L)                              469.0                   584.6   \n",
       "non-linear svm (L)                          157.0                   584.6   \n",
       "logistic regression (L)                      95.8                   584.6   \n",
       "rule_based_prediction                       469.0                   584.6   \n",
       "\n",
       "                           violation_rate (instance)  \n",
       "linear svm                                   0.88065  \n",
       "non-linear svm                              0.894248  \n",
       "logistic regression                         0.885273  \n",
       "RuleFit Classifier (disc)                   0.874097  \n",
       "RuleFit Classifier (conti)                  0.878469  \n",
       "tree generator (disc)                       0.857002  \n",
       "tree generator (conti)                      0.884158  \n",
       "linear svm (L)                              0.801361  \n",
       "non-linear svm (L)                          0.269751  \n",
       "logistic regression (L)                     0.164755  \n",
       "rule_based_prediction                       0.801361  "
      ]
     },
     "metadata": {},
     "output_type": "display_data"
    },
    {
     "data": {
      "text/html": [
       "<div>\n",
       "<style scoped>\n",
       "    .dataframe tbody tr th:only-of-type {\n",
       "        vertical-align: middle;\n",
       "    }\n",
       "\n",
       "    .dataframe tbody tr th {\n",
       "        vertical-align: top;\n",
       "    }\n",
       "\n",
       "    .dataframe thead th {\n",
       "        text-align: right;\n",
       "    }\n",
       "</style>\n",
       "<table border=\"1\" class=\"dataframe\">\n",
       "  <thead>\n",
       "    <tr style=\"text-align: right;\">\n",
       "      <th></th>\n",
       "      <th>accuracy</th>\n",
       "      <th>precision</th>\n",
       "      <th>recall</th>\n",
       "      <th>f1</th>\n",
       "      <th>auc</th>\n",
       "      <th>n_violation</th>\n",
       "      <th>n_rule</th>\n",
       "      <th>violation_rate</th>\n",
       "      <th>n_violation (instance)</th>\n",
       "      <th>n_evaluation (instance)</th>\n",
       "      <th>violation_rate (instance)</th>\n",
       "    </tr>\n",
       "  </thead>\n",
       "  <tbody>\n",
       "    <tr>\n",
       "      <th>linear svm</th>\n",
       "      <td>0.779104</td>\n",
       "      <td>0.711436</td>\n",
       "      <td>0.551175</td>\n",
       "      <td>0.618693</td>\n",
       "      <td>0.837805</td>\n",
       "      <td>31.4</td>\n",
       "      <td>35.6</td>\n",
       "      <td>0.883154</td>\n",
       "      <td>515.4</td>\n",
       "      <td>584.6</td>\n",
       "      <td>0.88065</td>\n",
       "    </tr>\n",
       "    <tr>\n",
       "      <th>non-linear svm</th>\n",
       "      <td>0.780597</td>\n",
       "      <td>0.75907</td>\n",
       "      <td>0.479714</td>\n",
       "      <td>0.587201</td>\n",
       "      <td>0.838064</td>\n",
       "      <td>32.4</td>\n",
       "      <td>35.6</td>\n",
       "      <td>0.908795</td>\n",
       "      <td>523.2</td>\n",
       "      <td>584.6</td>\n",
       "      <td>0.894248</td>\n",
       "    </tr>\n",
       "    <tr>\n",
       "      <th>logistic regression</th>\n",
       "      <td>0.78209</td>\n",
       "      <td>0.731143</td>\n",
       "      <td>0.530165</td>\n",
       "      <td>0.612464</td>\n",
       "      <td>0.840573</td>\n",
       "      <td>31.6</td>\n",
       "      <td>35.6</td>\n",
       "      <td>0.888283</td>\n",
       "      <td>518.0</td>\n",
       "      <td>584.6</td>\n",
       "      <td>0.885273</td>\n",
       "    </tr>\n",
       "    <tr>\n",
       "      <th>RuleFit Classifier (disc)</th>\n",
       "      <td>0.783582</td>\n",
       "      <td>0.742431</td>\n",
       "      <td>0.521271</td>\n",
       "      <td>0.610252</td>\n",
       "      <td>0.816049</td>\n",
       "      <td>29.0</td>\n",
       "      <td>35.6</td>\n",
       "      <td>0.806698</td>\n",
       "      <td>512.0</td>\n",
       "      <td>584.6</td>\n",
       "      <td>0.874097</td>\n",
       "    </tr>\n",
       "    <tr>\n",
       "      <th>RuleFit Classifier (conti)</th>\n",
       "      <td>0.732836</td>\n",
       "      <td>0.601979</td>\n",
       "      <td>0.553471</td>\n",
       "      <td>0.571908</td>\n",
       "      <td>0.795116</td>\n",
       "      <td>31.4</td>\n",
       "      <td>35.6</td>\n",
       "      <td>0.882955</td>\n",
       "      <td>514.0</td>\n",
       "      <td>584.6</td>\n",
       "      <td>0.878469</td>\n",
       "    </tr>\n",
       "    <tr>\n",
       "      <th>tree generator (disc)</th>\n",
       "      <td>0.741791</td>\n",
       "      <td>0.627843</td>\n",
       "      <td>0.557706</td>\n",
       "      <td>0.582608</td>\n",
       "      <td>0.772322</td>\n",
       "      <td>26.4</td>\n",
       "      <td>35.6</td>\n",
       "      <td>0.735629</td>\n",
       "      <td>502.2</td>\n",
       "      <td>584.6</td>\n",
       "      <td>0.857002</td>\n",
       "    </tr>\n",
       "    <tr>\n",
       "      <th>tree generator (conti)</th>\n",
       "      <td>0.78209</td>\n",
       "      <td>0.715158</td>\n",
       "      <td>0.568106</td>\n",
       "      <td>0.62746</td>\n",
       "      <td>0.8326</td>\n",
       "      <td>31.4</td>\n",
       "      <td>35.6</td>\n",
       "      <td>0.881923</td>\n",
       "      <td>517.4</td>\n",
       "      <td>584.6</td>\n",
       "      <td>0.884158</td>\n",
       "    </tr>\n",
       "    <tr>\n",
       "      <th>linear svm (L)</th>\n",
       "      <td>0.450746</td>\n",
       "      <td>0.390688</td>\n",
       "      <td>0.932375</td>\n",
       "      <td>0.534846</td>\n",
       "      <td>0.46629</td>\n",
       "      <td>22.8</td>\n",
       "      <td>35.6</td>\n",
       "      <td>0.636785</td>\n",
       "      <td>366.4</td>\n",
       "      <td>584.6</td>\n",
       "      <td>0.61992</td>\n",
       "    </tr>\n",
       "    <tr>\n",
       "      <th>non-linear svm (L)</th>\n",
       "      <td>0.698507</td>\n",
       "      <td>0.525206</td>\n",
       "      <td>0.770173</td>\n",
       "      <td>0.620355</td>\n",
       "      <td>0.824109</td>\n",
       "      <td>25.6</td>\n",
       "      <td>35.6</td>\n",
       "      <td>0.715333</td>\n",
       "      <td>163.6</td>\n",
       "      <td>584.6</td>\n",
       "      <td>0.281096</td>\n",
       "    </tr>\n",
       "    <tr>\n",
       "      <th>logistic regression (L)</th>\n",
       "      <td>0.770149</td>\n",
       "      <td>0.719595</td>\n",
       "      <td>0.496076</td>\n",
       "      <td>0.583538</td>\n",
       "      <td>0.825235</td>\n",
       "      <td>19.0</td>\n",
       "      <td>35.6</td>\n",
       "      <td>0.538917</td>\n",
       "      <td>95.2</td>\n",
       "      <td>584.6</td>\n",
       "      <td>0.163747</td>\n",
       "    </tr>\n",
       "    <tr>\n",
       "      <th>rule_based_prediction</th>\n",
       "      <td>0.325373</td>\n",
       "      <td>0.325373</td>\n",
       "      <td>1.0</td>\n",
       "      <td>0.489178</td>\n",
       "      <td>0.5</td>\n",
       "      <td>21.2</td>\n",
       "      <td>35.6</td>\n",
       "      <td>0.592588</td>\n",
       "      <td>469.0</td>\n",
       "      <td>584.6</td>\n",
       "      <td>0.801361</td>\n",
       "    </tr>\n",
       "  </tbody>\n",
       "</table>\n",
       "</div>"
      ],
      "text/plain": [
       "                            accuracy precision    recall        f1       auc  \\\n",
       "linear svm                  0.779104  0.711436  0.551175  0.618693  0.837805   \n",
       "non-linear svm              0.780597   0.75907  0.479714  0.587201  0.838064   \n",
       "logistic regression          0.78209  0.731143  0.530165  0.612464  0.840573   \n",
       "RuleFit Classifier (disc)   0.783582  0.742431  0.521271  0.610252  0.816049   \n",
       "RuleFit Classifier (conti)  0.732836  0.601979  0.553471  0.571908  0.795116   \n",
       "tree generator (disc)       0.741791  0.627843  0.557706  0.582608  0.772322   \n",
       "tree generator (conti)       0.78209  0.715158  0.568106   0.62746    0.8326   \n",
       "linear svm (L)              0.450746  0.390688  0.932375  0.534846   0.46629   \n",
       "non-linear svm (L)          0.698507  0.525206  0.770173  0.620355  0.824109   \n",
       "logistic regression (L)     0.770149  0.719595  0.496076  0.583538  0.825235   \n",
       "rule_based_prediction       0.325373  0.325373       1.0  0.489178       0.5   \n",
       "\n",
       "                           n_violation n_rule violation_rate  \\\n",
       "linear svm                        31.4   35.6       0.883154   \n",
       "non-linear svm                    32.4   35.6       0.908795   \n",
       "logistic regression               31.6   35.6       0.888283   \n",
       "RuleFit Classifier (disc)         29.0   35.6       0.806698   \n",
       "RuleFit Classifier (conti)        31.4   35.6       0.882955   \n",
       "tree generator (disc)             26.4   35.6       0.735629   \n",
       "tree generator (conti)            31.4   35.6       0.881923   \n",
       "linear svm (L)                    22.8   35.6       0.636785   \n",
       "non-linear svm (L)                25.6   35.6       0.715333   \n",
       "logistic regression (L)           19.0   35.6       0.538917   \n",
       "rule_based_prediction             21.2   35.6       0.592588   \n",
       "\n",
       "                           n_violation (instance) n_evaluation (instance)  \\\n",
       "linear svm                                  515.4                   584.6   \n",
       "non-linear svm                              523.2                   584.6   \n",
       "logistic regression                         518.0                   584.6   \n",
       "RuleFit Classifier (disc)                   512.0                   584.6   \n",
       "RuleFit Classifier (conti)                  514.0                   584.6   \n",
       "tree generator (disc)                       502.2                   584.6   \n",
       "tree generator (conti)                      517.4                   584.6   \n",
       "linear svm (L)                              366.4                   584.6   \n",
       "non-linear svm (L)                          163.6                   584.6   \n",
       "logistic regression (L)                      95.2                   584.6   \n",
       "rule_based_prediction                       469.0                   584.6   \n",
       "\n",
       "                           violation_rate (instance)  \n",
       "linear svm                                   0.88065  \n",
       "non-linear svm                              0.894248  \n",
       "logistic regression                         0.885273  \n",
       "RuleFit Classifier (disc)                   0.874097  \n",
       "RuleFit Classifier (conti)                  0.878469  \n",
       "tree generator (disc)                       0.857002  \n",
       "tree generator (conti)                      0.884158  \n",
       "linear svm (L)                               0.61992  \n",
       "non-linear svm (L)                          0.281096  \n",
       "logistic regression (L)                     0.163747  \n",
       "rule_based_prediction                       0.801361  "
      ]
     },
     "metadata": {},
     "output_type": "display_data"
    },
    {
     "data": {
      "text/html": [
       "<div>\n",
       "<style scoped>\n",
       "    .dataframe tbody tr th:only-of-type {\n",
       "        vertical-align: middle;\n",
       "    }\n",
       "\n",
       "    .dataframe tbody tr th {\n",
       "        vertical-align: top;\n",
       "    }\n",
       "\n",
       "    .dataframe thead th {\n",
       "        text-align: right;\n",
       "    }\n",
       "</style>\n",
       "<table border=\"1\" class=\"dataframe\">\n",
       "  <thead>\n",
       "    <tr style=\"text-align: right;\">\n",
       "      <th></th>\n",
       "      <th>accuracy</th>\n",
       "      <th>precision</th>\n",
       "      <th>recall</th>\n",
       "      <th>f1</th>\n",
       "      <th>auc</th>\n",
       "      <th>n_violation</th>\n",
       "      <th>n_rule</th>\n",
       "      <th>violation_rate</th>\n",
       "      <th>n_violation (instance)</th>\n",
       "      <th>n_evaluation (instance)</th>\n",
       "      <th>violation_rate (instance)</th>\n",
       "    </tr>\n",
       "  </thead>\n",
       "  <tbody>\n",
       "    <tr>\n",
       "      <th>linear svm</th>\n",
       "      <td>0.779104</td>\n",
       "      <td>0.711436</td>\n",
       "      <td>0.551175</td>\n",
       "      <td>0.618693</td>\n",
       "      <td>0.837805</td>\n",
       "      <td>31.4</td>\n",
       "      <td>35.6</td>\n",
       "      <td>0.883154</td>\n",
       "      <td>515.4</td>\n",
       "      <td>584.6</td>\n",
       "      <td>0.88065</td>\n",
       "    </tr>\n",
       "    <tr>\n",
       "      <th>non-linear svm</th>\n",
       "      <td>0.780597</td>\n",
       "      <td>0.75907</td>\n",
       "      <td>0.479714</td>\n",
       "      <td>0.587201</td>\n",
       "      <td>0.838064</td>\n",
       "      <td>32.4</td>\n",
       "      <td>35.6</td>\n",
       "      <td>0.908795</td>\n",
       "      <td>523.2</td>\n",
       "      <td>584.6</td>\n",
       "      <td>0.894248</td>\n",
       "    </tr>\n",
       "    <tr>\n",
       "      <th>logistic regression</th>\n",
       "      <td>0.78209</td>\n",
       "      <td>0.731143</td>\n",
       "      <td>0.530165</td>\n",
       "      <td>0.612464</td>\n",
       "      <td>0.840573</td>\n",
       "      <td>31.6</td>\n",
       "      <td>35.6</td>\n",
       "      <td>0.888283</td>\n",
       "      <td>518.0</td>\n",
       "      <td>584.6</td>\n",
       "      <td>0.885273</td>\n",
       "    </tr>\n",
       "    <tr>\n",
       "      <th>RuleFit Classifier (disc)</th>\n",
       "      <td>0.783582</td>\n",
       "      <td>0.742431</td>\n",
       "      <td>0.521271</td>\n",
       "      <td>0.610252</td>\n",
       "      <td>0.816049</td>\n",
       "      <td>29.0</td>\n",
       "      <td>35.6</td>\n",
       "      <td>0.806698</td>\n",
       "      <td>512.0</td>\n",
       "      <td>584.6</td>\n",
       "      <td>0.874097</td>\n",
       "    </tr>\n",
       "    <tr>\n",
       "      <th>RuleFit Classifier (conti)</th>\n",
       "      <td>0.732836</td>\n",
       "      <td>0.601979</td>\n",
       "      <td>0.553471</td>\n",
       "      <td>0.571908</td>\n",
       "      <td>0.795116</td>\n",
       "      <td>31.4</td>\n",
       "      <td>35.6</td>\n",
       "      <td>0.882955</td>\n",
       "      <td>514.0</td>\n",
       "      <td>584.6</td>\n",
       "      <td>0.878469</td>\n",
       "    </tr>\n",
       "    <tr>\n",
       "      <th>tree generator (disc)</th>\n",
       "      <td>0.741791</td>\n",
       "      <td>0.627843</td>\n",
       "      <td>0.557706</td>\n",
       "      <td>0.582608</td>\n",
       "      <td>0.772322</td>\n",
       "      <td>26.4</td>\n",
       "      <td>35.6</td>\n",
       "      <td>0.735629</td>\n",
       "      <td>502.2</td>\n",
       "      <td>584.6</td>\n",
       "      <td>0.857002</td>\n",
       "    </tr>\n",
       "    <tr>\n",
       "      <th>tree generator (conti)</th>\n",
       "      <td>0.78209</td>\n",
       "      <td>0.715158</td>\n",
       "      <td>0.568106</td>\n",
       "      <td>0.62746</td>\n",
       "      <td>0.8326</td>\n",
       "      <td>31.4</td>\n",
       "      <td>35.6</td>\n",
       "      <td>0.881923</td>\n",
       "      <td>517.4</td>\n",
       "      <td>584.6</td>\n",
       "      <td>0.884158</td>\n",
       "    </tr>\n",
       "    <tr>\n",
       "      <th>linear svm (L)</th>\n",
       "      <td>0.559701</td>\n",
       "      <td>0.443683</td>\n",
       "      <td>0.794943</td>\n",
       "      <td>0.546659</td>\n",
       "      <td>0.623103</td>\n",
       "      <td>25.8</td>\n",
       "      <td>35.6</td>\n",
       "      <td>0.713508</td>\n",
       "      <td>265.0</td>\n",
       "      <td>584.6</td>\n",
       "      <td>0.465616</td>\n",
       "    </tr>\n",
       "    <tr>\n",
       "      <th>non-linear svm (L)</th>\n",
       "      <td>0.716418</td>\n",
       "      <td>0.545955</td>\n",
       "      <td>0.751319</td>\n",
       "      <td>0.630321</td>\n",
       "      <td>0.820706</td>\n",
       "      <td>23.4</td>\n",
       "      <td>35.6</td>\n",
       "      <td>0.660396</td>\n",
       "      <td>152.2</td>\n",
       "      <td>584.6</td>\n",
       "      <td>0.2614</td>\n",
       "    </tr>\n",
       "    <tr>\n",
       "      <th>logistic regression (L)</th>\n",
       "      <td>0.770149</td>\n",
       "      <td>0.750699</td>\n",
       "      <td>0.447411</td>\n",
       "      <td>0.557743</td>\n",
       "      <td>0.828334</td>\n",
       "      <td>19.8</td>\n",
       "      <td>35.6</td>\n",
       "      <td>0.557462</td>\n",
       "      <td>93.8</td>\n",
       "      <td>584.6</td>\n",
       "      <td>0.160859</td>\n",
       "    </tr>\n",
       "    <tr>\n",
       "      <th>rule_based_prediction</th>\n",
       "      <td>0.325373</td>\n",
       "      <td>0.325373</td>\n",
       "      <td>1.0</td>\n",
       "      <td>0.489178</td>\n",
       "      <td>0.5</td>\n",
       "      <td>21.2</td>\n",
       "      <td>35.6</td>\n",
       "      <td>0.592588</td>\n",
       "      <td>469.0</td>\n",
       "      <td>584.6</td>\n",
       "      <td>0.801361</td>\n",
       "    </tr>\n",
       "  </tbody>\n",
       "</table>\n",
       "</div>"
      ],
      "text/plain": [
       "                            accuracy precision    recall        f1       auc  \\\n",
       "linear svm                  0.779104  0.711436  0.551175  0.618693  0.837805   \n",
       "non-linear svm              0.780597   0.75907  0.479714  0.587201  0.838064   \n",
       "logistic regression          0.78209  0.731143  0.530165  0.612464  0.840573   \n",
       "RuleFit Classifier (disc)   0.783582  0.742431  0.521271  0.610252  0.816049   \n",
       "RuleFit Classifier (conti)  0.732836  0.601979  0.553471  0.571908  0.795116   \n",
       "tree generator (disc)       0.741791  0.627843  0.557706  0.582608  0.772322   \n",
       "tree generator (conti)       0.78209  0.715158  0.568106   0.62746    0.8326   \n",
       "linear svm (L)              0.559701  0.443683  0.794943  0.546659  0.623103   \n",
       "non-linear svm (L)          0.716418  0.545955  0.751319  0.630321  0.820706   \n",
       "logistic regression (L)     0.770149  0.750699  0.447411  0.557743  0.828334   \n",
       "rule_based_prediction       0.325373  0.325373       1.0  0.489178       0.5   \n",
       "\n",
       "                           n_violation n_rule violation_rate  \\\n",
       "linear svm                        31.4   35.6       0.883154   \n",
       "non-linear svm                    32.4   35.6       0.908795   \n",
       "logistic regression               31.6   35.6       0.888283   \n",
       "RuleFit Classifier (disc)         29.0   35.6       0.806698   \n",
       "RuleFit Classifier (conti)        31.4   35.6       0.882955   \n",
       "tree generator (disc)             26.4   35.6       0.735629   \n",
       "tree generator (conti)            31.4   35.6       0.881923   \n",
       "linear svm (L)                    25.8   35.6       0.713508   \n",
       "non-linear svm (L)                23.4   35.6       0.660396   \n",
       "logistic regression (L)           19.8   35.6       0.557462   \n",
       "rule_based_prediction             21.2   35.6       0.592588   \n",
       "\n",
       "                           n_violation (instance) n_evaluation (instance)  \\\n",
       "linear svm                                  515.4                   584.6   \n",
       "non-linear svm                              523.2                   584.6   \n",
       "logistic regression                         518.0                   584.6   \n",
       "RuleFit Classifier (disc)                   512.0                   584.6   \n",
       "RuleFit Classifier (conti)                  514.0                   584.6   \n",
       "tree generator (disc)                       502.2                   584.6   \n",
       "tree generator (conti)                      517.4                   584.6   \n",
       "linear svm (L)                              265.0                   584.6   \n",
       "non-linear svm (L)                          152.2                   584.6   \n",
       "logistic regression (L)                      93.8                   584.6   \n",
       "rule_based_prediction                       469.0                   584.6   \n",
       "\n",
       "                           violation_rate (instance)  \n",
       "linear svm                                   0.88065  \n",
       "non-linear svm                              0.894248  \n",
       "logistic regression                         0.885273  \n",
       "RuleFit Classifier (disc)                   0.874097  \n",
       "RuleFit Classifier (conti)                  0.878469  \n",
       "tree generator (disc)                       0.857002  \n",
       "tree generator (conti)                      0.884158  \n",
       "linear svm (L)                              0.465616  \n",
       "non-linear svm (L)                            0.2614  \n",
       "logistic regression (L)                     0.160859  \n",
       "rule_based_prediction                       0.801361  "
      ]
     },
     "metadata": {},
     "output_type": "display_data"
    },
    {
     "data": {
      "text/html": [
       "<div>\n",
       "<style scoped>\n",
       "    .dataframe tbody tr th:only-of-type {\n",
       "        vertical-align: middle;\n",
       "    }\n",
       "\n",
       "    .dataframe tbody tr th {\n",
       "        vertical-align: top;\n",
       "    }\n",
       "\n",
       "    .dataframe thead th {\n",
       "        text-align: right;\n",
       "    }\n",
       "</style>\n",
       "<table border=\"1\" class=\"dataframe\">\n",
       "  <thead>\n",
       "    <tr style=\"text-align: right;\">\n",
       "      <th></th>\n",
       "      <th>accuracy</th>\n",
       "      <th>precision</th>\n",
       "      <th>recall</th>\n",
       "      <th>f1</th>\n",
       "      <th>auc</th>\n",
       "      <th>n_violation</th>\n",
       "      <th>n_rule</th>\n",
       "      <th>violation_rate</th>\n",
       "      <th>n_violation (instance)</th>\n",
       "      <th>n_evaluation (instance)</th>\n",
       "      <th>violation_rate (instance)</th>\n",
       "    </tr>\n",
       "  </thead>\n",
       "  <tbody>\n",
       "    <tr>\n",
       "      <th>linear svm</th>\n",
       "      <td>0.779104</td>\n",
       "      <td>0.711436</td>\n",
       "      <td>0.551175</td>\n",
       "      <td>0.618693</td>\n",
       "      <td>0.837805</td>\n",
       "      <td>31.4</td>\n",
       "      <td>35.6</td>\n",
       "      <td>0.883154</td>\n",
       "      <td>515.4</td>\n",
       "      <td>584.6</td>\n",
       "      <td>0.88065</td>\n",
       "    </tr>\n",
       "    <tr>\n",
       "      <th>non-linear svm</th>\n",
       "      <td>0.780597</td>\n",
       "      <td>0.75907</td>\n",
       "      <td>0.479714</td>\n",
       "      <td>0.587201</td>\n",
       "      <td>0.838064</td>\n",
       "      <td>32.4</td>\n",
       "      <td>35.6</td>\n",
       "      <td>0.908795</td>\n",
       "      <td>523.2</td>\n",
       "      <td>584.6</td>\n",
       "      <td>0.894248</td>\n",
       "    </tr>\n",
       "    <tr>\n",
       "      <th>logistic regression</th>\n",
       "      <td>0.78209</td>\n",
       "      <td>0.731143</td>\n",
       "      <td>0.530165</td>\n",
       "      <td>0.612464</td>\n",
       "      <td>0.840573</td>\n",
       "      <td>31.6</td>\n",
       "      <td>35.6</td>\n",
       "      <td>0.888283</td>\n",
       "      <td>518.0</td>\n",
       "      <td>584.6</td>\n",
       "      <td>0.885273</td>\n",
       "    </tr>\n",
       "    <tr>\n",
       "      <th>RuleFit Classifier (disc)</th>\n",
       "      <td>0.783582</td>\n",
       "      <td>0.742431</td>\n",
       "      <td>0.521271</td>\n",
       "      <td>0.610252</td>\n",
       "      <td>0.816049</td>\n",
       "      <td>29.0</td>\n",
       "      <td>35.6</td>\n",
       "      <td>0.806698</td>\n",
       "      <td>512.0</td>\n",
       "      <td>584.6</td>\n",
       "      <td>0.874097</td>\n",
       "    </tr>\n",
       "    <tr>\n",
       "      <th>RuleFit Classifier (conti)</th>\n",
       "      <td>0.732836</td>\n",
       "      <td>0.601979</td>\n",
       "      <td>0.553471</td>\n",
       "      <td>0.571908</td>\n",
       "      <td>0.795116</td>\n",
       "      <td>31.4</td>\n",
       "      <td>35.6</td>\n",
       "      <td>0.882955</td>\n",
       "      <td>514.0</td>\n",
       "      <td>584.6</td>\n",
       "      <td>0.878469</td>\n",
       "    </tr>\n",
       "    <tr>\n",
       "      <th>tree generator (disc)</th>\n",
       "      <td>0.741791</td>\n",
       "      <td>0.627843</td>\n",
       "      <td>0.557706</td>\n",
       "      <td>0.582608</td>\n",
       "      <td>0.772322</td>\n",
       "      <td>26.4</td>\n",
       "      <td>35.6</td>\n",
       "      <td>0.735629</td>\n",
       "      <td>502.2</td>\n",
       "      <td>584.6</td>\n",
       "      <td>0.857002</td>\n",
       "    </tr>\n",
       "    <tr>\n",
       "      <th>tree generator (conti)</th>\n",
       "      <td>0.78209</td>\n",
       "      <td>0.715158</td>\n",
       "      <td>0.568106</td>\n",
       "      <td>0.62746</td>\n",
       "      <td>0.8326</td>\n",
       "      <td>31.4</td>\n",
       "      <td>35.6</td>\n",
       "      <td>0.881923</td>\n",
       "      <td>517.4</td>\n",
       "      <td>584.6</td>\n",
       "      <td>0.884158</td>\n",
       "    </tr>\n",
       "    <tr>\n",
       "      <th>linear svm (L)</th>\n",
       "      <td>0.568657</td>\n",
       "      <td>0.45281</td>\n",
       "      <td>0.917582</td>\n",
       "      <td>0.596108</td>\n",
       "      <td>0.595486</td>\n",
       "      <td>22.2</td>\n",
       "      <td>35.6</td>\n",
       "      <td>0.625042</td>\n",
       "      <td>293.2</td>\n",
       "      <td>584.6</td>\n",
       "      <td>0.491781</td>\n",
       "    </tr>\n",
       "    <tr>\n",
       "      <th>non-linear svm (L)</th>\n",
       "      <td>0.708955</td>\n",
       "      <td>0.54421</td>\n",
       "      <td>0.744836</td>\n",
       "      <td>0.619002</td>\n",
       "      <td>0.809292</td>\n",
       "      <td>25.4</td>\n",
       "      <td>35.6</td>\n",
       "      <td>0.717001</td>\n",
       "      <td>155.6</td>\n",
       "      <td>584.6</td>\n",
       "      <td>0.266615</td>\n",
       "    </tr>\n",
       "    <tr>\n",
       "      <th>logistic regression (L)</th>\n",
       "      <td>0.749254</td>\n",
       "      <td>0.762465</td>\n",
       "      <td>0.339577</td>\n",
       "      <td>0.461974</td>\n",
       "      <td>0.828797</td>\n",
       "      <td>20.2</td>\n",
       "      <td>35.6</td>\n",
       "      <td>0.569963</td>\n",
       "      <td>94.4</td>\n",
       "      <td>584.6</td>\n",
       "      <td>0.161876</td>\n",
       "    </tr>\n",
       "    <tr>\n",
       "      <th>rule_based_prediction</th>\n",
       "      <td>0.325373</td>\n",
       "      <td>0.325373</td>\n",
       "      <td>1.0</td>\n",
       "      <td>0.489178</td>\n",
       "      <td>0.5</td>\n",
       "      <td>21.2</td>\n",
       "      <td>35.6</td>\n",
       "      <td>0.592588</td>\n",
       "      <td>469.0</td>\n",
       "      <td>584.6</td>\n",
       "      <td>0.801361</td>\n",
       "    </tr>\n",
       "  </tbody>\n",
       "</table>\n",
       "</div>"
      ],
      "text/plain": [
       "                            accuracy precision    recall        f1       auc  \\\n",
       "linear svm                  0.779104  0.711436  0.551175  0.618693  0.837805   \n",
       "non-linear svm              0.780597   0.75907  0.479714  0.587201  0.838064   \n",
       "logistic regression          0.78209  0.731143  0.530165  0.612464  0.840573   \n",
       "RuleFit Classifier (disc)   0.783582  0.742431  0.521271  0.610252  0.816049   \n",
       "RuleFit Classifier (conti)  0.732836  0.601979  0.553471  0.571908  0.795116   \n",
       "tree generator (disc)       0.741791  0.627843  0.557706  0.582608  0.772322   \n",
       "tree generator (conti)       0.78209  0.715158  0.568106   0.62746    0.8326   \n",
       "linear svm (L)              0.568657   0.45281  0.917582  0.596108  0.595486   \n",
       "non-linear svm (L)          0.708955   0.54421  0.744836  0.619002  0.809292   \n",
       "logistic regression (L)     0.749254  0.762465  0.339577  0.461974  0.828797   \n",
       "rule_based_prediction       0.325373  0.325373       1.0  0.489178       0.5   \n",
       "\n",
       "                           n_violation n_rule violation_rate  \\\n",
       "linear svm                        31.4   35.6       0.883154   \n",
       "non-linear svm                    32.4   35.6       0.908795   \n",
       "logistic regression               31.6   35.6       0.888283   \n",
       "RuleFit Classifier (disc)         29.0   35.6       0.806698   \n",
       "RuleFit Classifier (conti)        31.4   35.6       0.882955   \n",
       "tree generator (disc)             26.4   35.6       0.735629   \n",
       "tree generator (conti)            31.4   35.6       0.881923   \n",
       "linear svm (L)                    22.2   35.6       0.625042   \n",
       "non-linear svm (L)                25.4   35.6       0.717001   \n",
       "logistic regression (L)           20.2   35.6       0.569963   \n",
       "rule_based_prediction             21.2   35.6       0.592588   \n",
       "\n",
       "                           n_violation (instance) n_evaluation (instance)  \\\n",
       "linear svm                                  515.4                   584.6   \n",
       "non-linear svm                              523.2                   584.6   \n",
       "logistic regression                         518.0                   584.6   \n",
       "RuleFit Classifier (disc)                   512.0                   584.6   \n",
       "RuleFit Classifier (conti)                  514.0                   584.6   \n",
       "tree generator (disc)                       502.2                   584.6   \n",
       "tree generator (conti)                      517.4                   584.6   \n",
       "linear svm (L)                              293.2                   584.6   \n",
       "non-linear svm (L)                          155.6                   584.6   \n",
       "logistic regression (L)                      94.4                   584.6   \n",
       "rule_based_prediction                       469.0                   584.6   \n",
       "\n",
       "                           violation_rate (instance)  \n",
       "linear svm                                   0.88065  \n",
       "non-linear svm                              0.894248  \n",
       "logistic regression                         0.885273  \n",
       "RuleFit Classifier (disc)                   0.874097  \n",
       "RuleFit Classifier (conti)                  0.878469  \n",
       "tree generator (disc)                       0.857002  \n",
       "tree generator (conti)                      0.884158  \n",
       "linear svm (L)                              0.491781  \n",
       "non-linear svm (L)                          0.266615  \n",
       "logistic regression (L)                     0.161876  \n",
       "rule_based_prediction                       0.801361  "
      ]
     },
     "metadata": {},
     "output_type": "display_data"
    },
    {
     "data": {
      "text/html": [
       "<div>\n",
       "<style scoped>\n",
       "    .dataframe tbody tr th:only-of-type {\n",
       "        vertical-align: middle;\n",
       "    }\n",
       "\n",
       "    .dataframe tbody tr th {\n",
       "        vertical-align: top;\n",
       "    }\n",
       "\n",
       "    .dataframe thead th {\n",
       "        text-align: right;\n",
       "    }\n",
       "</style>\n",
       "<table border=\"1\" class=\"dataframe\">\n",
       "  <thead>\n",
       "    <tr style=\"text-align: right;\">\n",
       "      <th></th>\n",
       "      <th>accuracy</th>\n",
       "      <th>precision</th>\n",
       "      <th>recall</th>\n",
       "      <th>f1</th>\n",
       "      <th>auc</th>\n",
       "      <th>n_violation</th>\n",
       "      <th>n_rule</th>\n",
       "      <th>violation_rate</th>\n",
       "      <th>n_violation (instance)</th>\n",
       "      <th>n_evaluation (instance)</th>\n",
       "      <th>violation_rate (instance)</th>\n",
       "    </tr>\n",
       "  </thead>\n",
       "  <tbody>\n",
       "    <tr>\n",
       "      <th>linear svm</th>\n",
       "      <td>0.779104</td>\n",
       "      <td>0.711436</td>\n",
       "      <td>0.551175</td>\n",
       "      <td>0.618693</td>\n",
       "      <td>0.837805</td>\n",
       "      <td>31.4</td>\n",
       "      <td>35.6</td>\n",
       "      <td>0.883154</td>\n",
       "      <td>515.4</td>\n",
       "      <td>584.6</td>\n",
       "      <td>0.88065</td>\n",
       "    </tr>\n",
       "    <tr>\n",
       "      <th>non-linear svm</th>\n",
       "      <td>0.780597</td>\n",
       "      <td>0.75907</td>\n",
       "      <td>0.479714</td>\n",
       "      <td>0.587201</td>\n",
       "      <td>0.838064</td>\n",
       "      <td>32.4</td>\n",
       "      <td>35.6</td>\n",
       "      <td>0.908795</td>\n",
       "      <td>523.2</td>\n",
       "      <td>584.6</td>\n",
       "      <td>0.894248</td>\n",
       "    </tr>\n",
       "    <tr>\n",
       "      <th>logistic regression</th>\n",
       "      <td>0.78209</td>\n",
       "      <td>0.731143</td>\n",
       "      <td>0.530165</td>\n",
       "      <td>0.612464</td>\n",
       "      <td>0.840573</td>\n",
       "      <td>31.6</td>\n",
       "      <td>35.6</td>\n",
       "      <td>0.888283</td>\n",
       "      <td>518.0</td>\n",
       "      <td>584.6</td>\n",
       "      <td>0.885273</td>\n",
       "    </tr>\n",
       "    <tr>\n",
       "      <th>RuleFit Classifier (disc)</th>\n",
       "      <td>0.783582</td>\n",
       "      <td>0.742431</td>\n",
       "      <td>0.521271</td>\n",
       "      <td>0.610252</td>\n",
       "      <td>0.816049</td>\n",
       "      <td>29.0</td>\n",
       "      <td>35.6</td>\n",
       "      <td>0.806698</td>\n",
       "      <td>512.0</td>\n",
       "      <td>584.6</td>\n",
       "      <td>0.874097</td>\n",
       "    </tr>\n",
       "    <tr>\n",
       "      <th>RuleFit Classifier (conti)</th>\n",
       "      <td>0.732836</td>\n",
       "      <td>0.601979</td>\n",
       "      <td>0.553471</td>\n",
       "      <td>0.571908</td>\n",
       "      <td>0.795116</td>\n",
       "      <td>31.4</td>\n",
       "      <td>35.6</td>\n",
       "      <td>0.882955</td>\n",
       "      <td>514.0</td>\n",
       "      <td>584.6</td>\n",
       "      <td>0.878469</td>\n",
       "    </tr>\n",
       "    <tr>\n",
       "      <th>tree generator (disc)</th>\n",
       "      <td>0.741791</td>\n",
       "      <td>0.627843</td>\n",
       "      <td>0.557706</td>\n",
       "      <td>0.582608</td>\n",
       "      <td>0.772322</td>\n",
       "      <td>26.4</td>\n",
       "      <td>35.6</td>\n",
       "      <td>0.735629</td>\n",
       "      <td>502.2</td>\n",
       "      <td>584.6</td>\n",
       "      <td>0.857002</td>\n",
       "    </tr>\n",
       "    <tr>\n",
       "      <th>tree generator (conti)</th>\n",
       "      <td>0.78209</td>\n",
       "      <td>0.715158</td>\n",
       "      <td>0.568106</td>\n",
       "      <td>0.62746</td>\n",
       "      <td>0.8326</td>\n",
       "      <td>31.4</td>\n",
       "      <td>35.6</td>\n",
       "      <td>0.881923</td>\n",
       "      <td>517.4</td>\n",
       "      <td>584.6</td>\n",
       "      <td>0.884158</td>\n",
       "    </tr>\n",
       "    <tr>\n",
       "      <th>linear svm (L)</th>\n",
       "      <td>0.4</td>\n",
       "      <td>0.368044</td>\n",
       "      <td>0.987234</td>\n",
       "      <td>0.526111</td>\n",
       "      <td>0.438011</td>\n",
       "      <td>21.4</td>\n",
       "      <td>35.6</td>\n",
       "      <td>0.599484</td>\n",
       "      <td>418.4</td>\n",
       "      <td>584.6</td>\n",
       "      <td>0.703677</td>\n",
       "    </tr>\n",
       "    <tr>\n",
       "      <th>non-linear svm (L)</th>\n",
       "      <td>0.685075</td>\n",
       "      <td>0.539179</td>\n",
       "      <td>0.691827</td>\n",
       "      <td>0.588364</td>\n",
       "      <td>0.796598</td>\n",
       "      <td>24.2</td>\n",
       "      <td>35.6</td>\n",
       "      <td>0.674867</td>\n",
       "      <td>156.4</td>\n",
       "      <td>584.6</td>\n",
       "      <td>0.268122</td>\n",
       "    </tr>\n",
       "    <tr>\n",
       "      <th>logistic regression (L)</th>\n",
       "      <td>0.734328</td>\n",
       "      <td>0.742909</td>\n",
       "      <td>0.296271</td>\n",
       "      <td>0.404921</td>\n",
       "      <td>0.825236</td>\n",
       "      <td>20.8</td>\n",
       "      <td>35.6</td>\n",
       "      <td>0.585348</td>\n",
       "      <td>97.0</td>\n",
       "      <td>584.6</td>\n",
       "      <td>0.16675</td>\n",
       "    </tr>\n",
       "    <tr>\n",
       "      <th>rule_based_prediction</th>\n",
       "      <td>0.325373</td>\n",
       "      <td>0.325373</td>\n",
       "      <td>1.0</td>\n",
       "      <td>0.489178</td>\n",
       "      <td>0.5</td>\n",
       "      <td>21.2</td>\n",
       "      <td>35.6</td>\n",
       "      <td>0.592588</td>\n",
       "      <td>469.0</td>\n",
       "      <td>584.6</td>\n",
       "      <td>0.801361</td>\n",
       "    </tr>\n",
       "  </tbody>\n",
       "</table>\n",
       "</div>"
      ],
      "text/plain": [
       "                            accuracy precision    recall        f1       auc  \\\n",
       "linear svm                  0.779104  0.711436  0.551175  0.618693  0.837805   \n",
       "non-linear svm              0.780597   0.75907  0.479714  0.587201  0.838064   \n",
       "logistic regression          0.78209  0.731143  0.530165  0.612464  0.840573   \n",
       "RuleFit Classifier (disc)   0.783582  0.742431  0.521271  0.610252  0.816049   \n",
       "RuleFit Classifier (conti)  0.732836  0.601979  0.553471  0.571908  0.795116   \n",
       "tree generator (disc)       0.741791  0.627843  0.557706  0.582608  0.772322   \n",
       "tree generator (conti)       0.78209  0.715158  0.568106   0.62746    0.8326   \n",
       "linear svm (L)                   0.4  0.368044  0.987234  0.526111  0.438011   \n",
       "non-linear svm (L)          0.685075  0.539179  0.691827  0.588364  0.796598   \n",
       "logistic regression (L)     0.734328  0.742909  0.296271  0.404921  0.825236   \n",
       "rule_based_prediction       0.325373  0.325373       1.0  0.489178       0.5   \n",
       "\n",
       "                           n_violation n_rule violation_rate  \\\n",
       "linear svm                        31.4   35.6       0.883154   \n",
       "non-linear svm                    32.4   35.6       0.908795   \n",
       "logistic regression               31.6   35.6       0.888283   \n",
       "RuleFit Classifier (disc)         29.0   35.6       0.806698   \n",
       "RuleFit Classifier (conti)        31.4   35.6       0.882955   \n",
       "tree generator (disc)             26.4   35.6       0.735629   \n",
       "tree generator (conti)            31.4   35.6       0.881923   \n",
       "linear svm (L)                    21.4   35.6       0.599484   \n",
       "non-linear svm (L)                24.2   35.6       0.674867   \n",
       "logistic regression (L)           20.8   35.6       0.585348   \n",
       "rule_based_prediction             21.2   35.6       0.592588   \n",
       "\n",
       "                           n_violation (instance) n_evaluation (instance)  \\\n",
       "linear svm                                  515.4                   584.6   \n",
       "non-linear svm                              523.2                   584.6   \n",
       "logistic regression                         518.0                   584.6   \n",
       "RuleFit Classifier (disc)                   512.0                   584.6   \n",
       "RuleFit Classifier (conti)                  514.0                   584.6   \n",
       "tree generator (disc)                       502.2                   584.6   \n",
       "tree generator (conti)                      517.4                   584.6   \n",
       "linear svm (L)                              418.4                   584.6   \n",
       "non-linear svm (L)                          156.4                   584.6   \n",
       "logistic regression (L)                      97.0                   584.6   \n",
       "rule_based_prediction                       469.0                   584.6   \n",
       "\n",
       "                           violation_rate (instance)  \n",
       "linear svm                                   0.88065  \n",
       "non-linear svm                              0.894248  \n",
       "logistic regression                         0.885273  \n",
       "RuleFit Classifier (disc)                   0.874097  \n",
       "RuleFit Classifier (conti)                  0.878469  \n",
       "tree generator (disc)                       0.857002  \n",
       "tree generator (conti)                      0.884158  \n",
       "linear svm (L)                              0.703677  \n",
       "non-linear svm (L)                          0.268122  \n",
       "logistic regression (L)                      0.16675  \n",
       "rule_based_prediction                       0.801361  "
      ]
     },
     "metadata": {},
     "output_type": "display_data"
    },
    {
     "data": {
      "text/html": [
       "<div>\n",
       "<style scoped>\n",
       "    .dataframe tbody tr th:only-of-type {\n",
       "        vertical-align: middle;\n",
       "    }\n",
       "\n",
       "    .dataframe tbody tr th {\n",
       "        vertical-align: top;\n",
       "    }\n",
       "\n",
       "    .dataframe thead th {\n",
       "        text-align: right;\n",
       "    }\n",
       "</style>\n",
       "<table border=\"1\" class=\"dataframe\">\n",
       "  <thead>\n",
       "    <tr style=\"text-align: right;\">\n",
       "      <th></th>\n",
       "      <th>accuracy</th>\n",
       "      <th>precision</th>\n",
       "      <th>recall</th>\n",
       "      <th>f1</th>\n",
       "      <th>auc</th>\n",
       "      <th>n_violation</th>\n",
       "      <th>n_rule</th>\n",
       "      <th>violation_rate</th>\n",
       "      <th>n_violation (instance)</th>\n",
       "      <th>n_evaluation (instance)</th>\n",
       "      <th>violation_rate (instance)</th>\n",
       "    </tr>\n",
       "  </thead>\n",
       "  <tbody>\n",
       "    <tr>\n",
       "      <th>linear svm</th>\n",
       "      <td>0.779104</td>\n",
       "      <td>0.711436</td>\n",
       "      <td>0.551175</td>\n",
       "      <td>0.618693</td>\n",
       "      <td>0.837805</td>\n",
       "      <td>31.4</td>\n",
       "      <td>35.6</td>\n",
       "      <td>0.883154</td>\n",
       "      <td>515.4</td>\n",
       "      <td>584.6</td>\n",
       "      <td>0.88065</td>\n",
       "    </tr>\n",
       "    <tr>\n",
       "      <th>non-linear svm</th>\n",
       "      <td>0.780597</td>\n",
       "      <td>0.75907</td>\n",
       "      <td>0.479714</td>\n",
       "      <td>0.587201</td>\n",
       "      <td>0.838064</td>\n",
       "      <td>32.4</td>\n",
       "      <td>35.6</td>\n",
       "      <td>0.908795</td>\n",
       "      <td>523.2</td>\n",
       "      <td>584.6</td>\n",
       "      <td>0.894248</td>\n",
       "    </tr>\n",
       "    <tr>\n",
       "      <th>logistic regression</th>\n",
       "      <td>0.78209</td>\n",
       "      <td>0.731143</td>\n",
       "      <td>0.530165</td>\n",
       "      <td>0.612464</td>\n",
       "      <td>0.840573</td>\n",
       "      <td>31.6</td>\n",
       "      <td>35.6</td>\n",
       "      <td>0.888283</td>\n",
       "      <td>518.0</td>\n",
       "      <td>584.6</td>\n",
       "      <td>0.885273</td>\n",
       "    </tr>\n",
       "    <tr>\n",
       "      <th>RuleFit Classifier (disc)</th>\n",
       "      <td>0.783582</td>\n",
       "      <td>0.742431</td>\n",
       "      <td>0.521271</td>\n",
       "      <td>0.610252</td>\n",
       "      <td>0.816049</td>\n",
       "      <td>29.0</td>\n",
       "      <td>35.6</td>\n",
       "      <td>0.806698</td>\n",
       "      <td>512.0</td>\n",
       "      <td>584.6</td>\n",
       "      <td>0.874097</td>\n",
       "    </tr>\n",
       "    <tr>\n",
       "      <th>RuleFit Classifier (conti)</th>\n",
       "      <td>0.732836</td>\n",
       "      <td>0.601979</td>\n",
       "      <td>0.553471</td>\n",
       "      <td>0.571908</td>\n",
       "      <td>0.795116</td>\n",
       "      <td>31.4</td>\n",
       "      <td>35.6</td>\n",
       "      <td>0.882955</td>\n",
       "      <td>514.0</td>\n",
       "      <td>584.6</td>\n",
       "      <td>0.878469</td>\n",
       "    </tr>\n",
       "    <tr>\n",
       "      <th>tree generator (disc)</th>\n",
       "      <td>0.741791</td>\n",
       "      <td>0.627843</td>\n",
       "      <td>0.557706</td>\n",
       "      <td>0.582608</td>\n",
       "      <td>0.772322</td>\n",
       "      <td>26.4</td>\n",
       "      <td>35.6</td>\n",
       "      <td>0.735629</td>\n",
       "      <td>502.2</td>\n",
       "      <td>584.6</td>\n",
       "      <td>0.857002</td>\n",
       "    </tr>\n",
       "    <tr>\n",
       "      <th>tree generator (conti)</th>\n",
       "      <td>0.78209</td>\n",
       "      <td>0.715158</td>\n",
       "      <td>0.568106</td>\n",
       "      <td>0.62746</td>\n",
       "      <td>0.8326</td>\n",
       "      <td>31.4</td>\n",
       "      <td>35.6</td>\n",
       "      <td>0.881923</td>\n",
       "      <td>517.4</td>\n",
       "      <td>584.6</td>\n",
       "      <td>0.884158</td>\n",
       "    </tr>\n",
       "    <tr>\n",
       "      <th>linear svm (L)</th>\n",
       "      <td>0.413433</td>\n",
       "      <td>0.362736</td>\n",
       "      <td>0.989402</td>\n",
       "      <td>0.529637</td>\n",
       "      <td>0.690245</td>\n",
       "      <td>21.8</td>\n",
       "      <td>35.6</td>\n",
       "      <td>0.607972</td>\n",
       "      <td>408.2</td>\n",
       "      <td>584.6</td>\n",
       "      <td>0.698276</td>\n",
       "    </tr>\n",
       "    <tr>\n",
       "      <th>non-linear svm (L)</th>\n",
       "      <td>0.670149</td>\n",
       "      <td>0.505361</td>\n",
       "      <td>0.740084</td>\n",
       "      <td>0.589603</td>\n",
       "      <td>0.787438</td>\n",
       "      <td>23.6</td>\n",
       "      <td>35.6</td>\n",
       "      <td>0.664588</td>\n",
       "      <td>171.8</td>\n",
       "      <td>584.6</td>\n",
       "      <td>0.293398</td>\n",
       "    </tr>\n",
       "    <tr>\n",
       "      <th>logistic regression (L)</th>\n",
       "      <td>0.69403</td>\n",
       "      <td>0.49</td>\n",
       "      <td>0.10205</td>\n",
       "      <td>0.162952</td>\n",
       "      <td>0.809856</td>\n",
       "      <td>16.8</td>\n",
       "      <td>35.6</td>\n",
       "      <td>0.471707</td>\n",
       "      <td>106.6</td>\n",
       "      <td>584.6</td>\n",
       "      <td>0.183787</td>\n",
       "    </tr>\n",
       "    <tr>\n",
       "      <th>rule_based_prediction</th>\n",
       "      <td>0.325373</td>\n",
       "      <td>0.325373</td>\n",
       "      <td>1.0</td>\n",
       "      <td>0.489178</td>\n",
       "      <td>0.5</td>\n",
       "      <td>21.2</td>\n",
       "      <td>35.6</td>\n",
       "      <td>0.592588</td>\n",
       "      <td>469.0</td>\n",
       "      <td>584.6</td>\n",
       "      <td>0.801361</td>\n",
       "    </tr>\n",
       "  </tbody>\n",
       "</table>\n",
       "</div>"
      ],
      "text/plain": [
       "                            accuracy precision    recall        f1       auc  \\\n",
       "linear svm                  0.779104  0.711436  0.551175  0.618693  0.837805   \n",
       "non-linear svm              0.780597   0.75907  0.479714  0.587201  0.838064   \n",
       "logistic regression          0.78209  0.731143  0.530165  0.612464  0.840573   \n",
       "RuleFit Classifier (disc)   0.783582  0.742431  0.521271  0.610252  0.816049   \n",
       "RuleFit Classifier (conti)  0.732836  0.601979  0.553471  0.571908  0.795116   \n",
       "tree generator (disc)       0.741791  0.627843  0.557706  0.582608  0.772322   \n",
       "tree generator (conti)       0.78209  0.715158  0.568106   0.62746    0.8326   \n",
       "linear svm (L)              0.413433  0.362736  0.989402  0.529637  0.690245   \n",
       "non-linear svm (L)          0.670149  0.505361  0.740084  0.589603  0.787438   \n",
       "logistic regression (L)      0.69403      0.49   0.10205  0.162952  0.809856   \n",
       "rule_based_prediction       0.325373  0.325373       1.0  0.489178       0.5   \n",
       "\n",
       "                           n_violation n_rule violation_rate  \\\n",
       "linear svm                        31.4   35.6       0.883154   \n",
       "non-linear svm                    32.4   35.6       0.908795   \n",
       "logistic regression               31.6   35.6       0.888283   \n",
       "RuleFit Classifier (disc)         29.0   35.6       0.806698   \n",
       "RuleFit Classifier (conti)        31.4   35.6       0.882955   \n",
       "tree generator (disc)             26.4   35.6       0.735629   \n",
       "tree generator (conti)            31.4   35.6       0.881923   \n",
       "linear svm (L)                    21.8   35.6       0.607972   \n",
       "non-linear svm (L)                23.6   35.6       0.664588   \n",
       "logistic regression (L)           16.8   35.6       0.471707   \n",
       "rule_based_prediction             21.2   35.6       0.592588   \n",
       "\n",
       "                           n_violation (instance) n_evaluation (instance)  \\\n",
       "linear svm                                  515.4                   584.6   \n",
       "non-linear svm                              523.2                   584.6   \n",
       "logistic regression                         518.0                   584.6   \n",
       "RuleFit Classifier (disc)                   512.0                   584.6   \n",
       "RuleFit Classifier (conti)                  514.0                   584.6   \n",
       "tree generator (disc)                       502.2                   584.6   \n",
       "tree generator (conti)                      517.4                   584.6   \n",
       "linear svm (L)                              408.2                   584.6   \n",
       "non-linear svm (L)                          171.8                   584.6   \n",
       "logistic regression (L)                     106.6                   584.6   \n",
       "rule_based_prediction                       469.0                   584.6   \n",
       "\n",
       "                           violation_rate (instance)  \n",
       "linear svm                                   0.88065  \n",
       "non-linear svm                              0.894248  \n",
       "logistic regression                         0.885273  \n",
       "RuleFit Classifier (disc)                   0.874097  \n",
       "RuleFit Classifier (conti)                  0.878469  \n",
       "tree generator (disc)                       0.857002  \n",
       "tree generator (conti)                      0.884158  \n",
       "linear svm (L)                              0.698276  \n",
       "non-linear svm (L)                          0.293398  \n",
       "logistic regression (L)                     0.183787  \n",
       "rule_based_prediction                       0.801361  "
      ]
     },
     "metadata": {},
     "output_type": "display_data"
    }
   ],
   "source": [
    "import json\n",
    "import os\n",
    "\n",
    "import sys\n",
    "project_dir_path = \"/Users/keisukeonoue/ws/lukasiewicz_2\"\n",
    "sys.path.append(project_dir_path)\n",
    "\n",
    "import pandas as pd\n",
    "import numpy as np\n",
    "\n",
    "version_nums = [81, 82, 83, 84, 85, 86, 87]\n",
    "expt_num = 8\n",
    "expt_info_main = \"c2\"\n",
    "\n",
    "\n",
    "# リスト内包表記を使用して複数のファイルパスを生成する\n",
    "result_file_paths = [\n",
    "    os.path.join(project_dir_path, f\"experiment_result/tmp/version_{version_num}/result.json\")\n",
    "    for version_num in version_nums\n",
    "]\n",
    "\n",
    "\n",
    "result_dfs = []\n",
    "infos = []\n",
    "\n",
    "for path in result_file_paths:\n",
    "    with open(path, 'r') as f:\n",
    "        json_data = json.load(f)\n",
    "    \n",
    "    infos.append(json_data[expt_info_main])\n",
    "    \n",
    "    tmp = []\n",
    "\n",
    "    for fold, _ in json_data['result'].items():\n",
    "        result_df = pd.DataFrame(json_data['result'][fold]).T.drop(['violation_detail'], axis=1)\n",
    "        tmp.append(result_df)\n",
    "\n",
    "    result_dfs.append(tmp)\n",
    "\n",
    "model_name_dict = {\n",
    "    'linear svm': 'l-SVM', \n",
    "    'non-linear svm': 'r-SVM', \n",
    "    'logistic regression': 'RogReg', \n",
    "    'RuleFit Classifier (disc)': 'RuleFit-d', \n",
    "    'RuleFit Classifier (conti)': 'RuleFit', \n",
    "    'tree generator (disc)': 'RF-d', \n",
    "    'tree generator (conti)': 'RF', \n",
    "    'linear svm (L)': 'l-SVM-p', \n",
    "    'non-linear svm (L)': 'r-SVM-p', \n",
    "    'logistic regression (L)': 'LogReg-p', \n",
    "    'rule_based_prediction': 'RuleBase'\n",
    "}\n",
    "\n",
    "model_name_list = list(model_name_dict.keys())\n",
    "\n",
    "combined_dfs = [pd.concat(dfs, ignore_index=False) for dfs in result_dfs]\n",
    "dfs_mean = [combined_df.groupby(combined_df.index).mean().reindex(index=model_name_list) for combined_df in combined_dfs]\n",
    "dfs_std = [combined_df.groupby(combined_df.index).std().reindex(index=model_name_list) for combined_df in combined_dfs]\n",
    "\n",
    "for df in dfs_mean:\n",
    "    display(df)"
   ]
  },
  {
   "cell_type": "code",
   "execution_count": 5,
   "metadata": {},
   "outputs": [
    {
     "name": "stdout",
     "output_type": "stream",
     "text": [
      "/Users/keisukeonoue/ws/lukasiewicz_2/experiment_result/results_organized/experiment_8/fold_0/ver_0.csv\n",
      "/Users/keisukeonoue/ws/lukasiewicz_2/experiment_result/results_organized/experiment_8/fold_1/ver_0.csv\n",
      "/Users/keisukeonoue/ws/lukasiewicz_2/experiment_result/results_organized/experiment_8/fold_2/ver_0.csv\n",
      "/Users/keisukeonoue/ws/lukasiewicz_2/experiment_result/results_organized/experiment_8/fold_3/ver_0.csv\n",
      "/Users/keisukeonoue/ws/lukasiewicz_2/experiment_result/results_organized/experiment_8/fold_4/ver_0.csv\n",
      "/Users/keisukeonoue/ws/lukasiewicz_2/experiment_result/results_organized/experiment_8/fold_0/ver_1.csv\n",
      "/Users/keisukeonoue/ws/lukasiewicz_2/experiment_result/results_organized/experiment_8/fold_1/ver_1.csv\n",
      "/Users/keisukeonoue/ws/lukasiewicz_2/experiment_result/results_organized/experiment_8/fold_2/ver_1.csv\n",
      "/Users/keisukeonoue/ws/lukasiewicz_2/experiment_result/results_organized/experiment_8/fold_3/ver_1.csv\n",
      "/Users/keisukeonoue/ws/lukasiewicz_2/experiment_result/results_organized/experiment_8/fold_4/ver_1.csv\n",
      "/Users/keisukeonoue/ws/lukasiewicz_2/experiment_result/results_organized/experiment_8/fold_0/ver_2.csv\n",
      "/Users/keisukeonoue/ws/lukasiewicz_2/experiment_result/results_organized/experiment_8/fold_1/ver_2.csv\n",
      "/Users/keisukeonoue/ws/lukasiewicz_2/experiment_result/results_organized/experiment_8/fold_2/ver_2.csv\n",
      "/Users/keisukeonoue/ws/lukasiewicz_2/experiment_result/results_organized/experiment_8/fold_3/ver_2.csv\n",
      "/Users/keisukeonoue/ws/lukasiewicz_2/experiment_result/results_organized/experiment_8/fold_4/ver_2.csv\n",
      "/Users/keisukeonoue/ws/lukasiewicz_2/experiment_result/results_organized/experiment_8/fold_0/ver_3.csv\n",
      "/Users/keisukeonoue/ws/lukasiewicz_2/experiment_result/results_organized/experiment_8/fold_1/ver_3.csv\n",
      "/Users/keisukeonoue/ws/lukasiewicz_2/experiment_result/results_organized/experiment_8/fold_2/ver_3.csv\n",
      "/Users/keisukeonoue/ws/lukasiewicz_2/experiment_result/results_organized/experiment_8/fold_3/ver_3.csv\n",
      "/Users/keisukeonoue/ws/lukasiewicz_2/experiment_result/results_organized/experiment_8/fold_4/ver_3.csv\n",
      "/Users/keisukeonoue/ws/lukasiewicz_2/experiment_result/results_organized/experiment_8/fold_0/ver_4.csv\n",
      "/Users/keisukeonoue/ws/lukasiewicz_2/experiment_result/results_organized/experiment_8/fold_1/ver_4.csv\n",
      "/Users/keisukeonoue/ws/lukasiewicz_2/experiment_result/results_organized/experiment_8/fold_2/ver_4.csv\n",
      "/Users/keisukeonoue/ws/lukasiewicz_2/experiment_result/results_organized/experiment_8/fold_3/ver_4.csv\n",
      "/Users/keisukeonoue/ws/lukasiewicz_2/experiment_result/results_organized/experiment_8/fold_4/ver_4.csv\n",
      "/Users/keisukeonoue/ws/lukasiewicz_2/experiment_result/results_organized/experiment_8/fold_0/ver_5.csv\n",
      "/Users/keisukeonoue/ws/lukasiewicz_2/experiment_result/results_organized/experiment_8/fold_1/ver_5.csv\n",
      "/Users/keisukeonoue/ws/lukasiewicz_2/experiment_result/results_organized/experiment_8/fold_2/ver_5.csv\n",
      "/Users/keisukeonoue/ws/lukasiewicz_2/experiment_result/results_organized/experiment_8/fold_3/ver_5.csv\n",
      "/Users/keisukeonoue/ws/lukasiewicz_2/experiment_result/results_organized/experiment_8/fold_4/ver_5.csv\n",
      "/Users/keisukeonoue/ws/lukasiewicz_2/experiment_result/results_organized/experiment_8/fold_0/ver_6.csv\n",
      "/Users/keisukeonoue/ws/lukasiewicz_2/experiment_result/results_organized/experiment_8/fold_1/ver_6.csv\n",
      "/Users/keisukeonoue/ws/lukasiewicz_2/experiment_result/results_organized/experiment_8/fold_2/ver_6.csv\n",
      "/Users/keisukeonoue/ws/lukasiewicz_2/experiment_result/results_organized/experiment_8/fold_3/ver_6.csv\n",
      "/Users/keisukeonoue/ws/lukasiewicz_2/experiment_result/results_organized/experiment_8/fold_4/ver_6.csv\n"
     ]
    }
   ],
   "source": [
    "import os\n",
    "# 実験によってパラメータが違うので注意\n",
    "######################################\n",
    "######################################\n",
    "######################################\n",
    "######################################\n",
    "\n",
    "\n",
    "for version, (dfs, info) in enumerate(zip(result_dfs, infos)):\n",
    "    \n",
    "    for nth_fold, df in enumerate(dfs):\n",
    "\n",
    "        df['nth_fold'] = nth_fold\n",
    "        df['n_splits'] = 5\n",
    "        df['C1'] = 10\n",
    "        df['C2'] = info\n",
    "        df['n_unsupervised'] = 15\n",
    "        df['rule_thr'] = 0\n",
    "\n",
    "        # フォルダーを作成する\n",
    "        ########################################\n",
    "        ########################################\n",
    "        ########################################\n",
    "        ########################################\n",
    "        ########################################\n",
    "        folder_path = os.path.join(project_dir_path, f'experiment_result/results_organized/experiment_{expt_num}/fold_{nth_fold}')\n",
    "        os.makedirs(folder_path, exist_ok=True)\n",
    "\n",
    "        file_path = f'{folder_path}/ver_{version}.csv'\n",
    "        print(file_path)\n",
    "\n",
    "        df.to_csv(file_path)\n"
   ]
  },
  {
   "cell_type": "code",
   "execution_count": 6,
   "metadata": {},
   "outputs": [
    {
     "name": "stdout",
     "output_type": "stream",
     "text": [
      "/Users/keisukeonoue/ws/lukasiewicz_2/experiment_result/results_organized/experiment_8/ver_0_mean.csv\n",
      "/Users/keisukeonoue/ws/lukasiewicz_2/experiment_result/results_organized/experiment_8/ver_1_mean.csv\n",
      "/Users/keisukeonoue/ws/lukasiewicz_2/experiment_result/results_organized/experiment_8/ver_2_mean.csv\n",
      "/Users/keisukeonoue/ws/lukasiewicz_2/experiment_result/results_organized/experiment_8/ver_3_mean.csv\n",
      "/Users/keisukeonoue/ws/lukasiewicz_2/experiment_result/results_organized/experiment_8/ver_4_mean.csv\n",
      "/Users/keisukeonoue/ws/lukasiewicz_2/experiment_result/results_organized/experiment_8/ver_5_mean.csv\n",
      "/Users/keisukeonoue/ws/lukasiewicz_2/experiment_result/results_organized/experiment_8/ver_6_mean.csv\n",
      "/Users/keisukeonoue/ws/lukasiewicz_2/experiment_result/results_organized/experiment_8/ver_0_std.csv\n",
      "/Users/keisukeonoue/ws/lukasiewicz_2/experiment_result/results_organized/experiment_8/ver_1_std.csv\n",
      "/Users/keisukeonoue/ws/lukasiewicz_2/experiment_result/results_organized/experiment_8/ver_2_std.csv\n",
      "/Users/keisukeonoue/ws/lukasiewicz_2/experiment_result/results_organized/experiment_8/ver_3_std.csv\n",
      "/Users/keisukeonoue/ws/lukasiewicz_2/experiment_result/results_organized/experiment_8/ver_4_std.csv\n",
      "/Users/keisukeonoue/ws/lukasiewicz_2/experiment_result/results_organized/experiment_8/ver_5_std.csv\n",
      "/Users/keisukeonoue/ws/lukasiewicz_2/experiment_result/results_organized/experiment_8/ver_6_std.csv\n"
     ]
    }
   ],
   "source": [
    "# 実験によってパラメータが違うので注意\n",
    "######################################\n",
    "######################################\n",
    "######################################\n",
    "######################################\n",
    "\n",
    "\n",
    "for version, (info, df) in enumerate(zip(infos, dfs_mean)):\n",
    "    df['C1'] = 10\n",
    "    df['C2'] = info\n",
    "    df['n_unsupervised'] = 15\n",
    "    df['rule_thr'] = 0\n",
    "\n",
    "    #####################################\n",
    "    #####################################\n",
    "    #####################################\n",
    "    #####################################\n",
    "    #####################################\n",
    "    file_path = os.path.join(project_dir_path, f'experiment_result/results_organized/experiment_{expt_num}/ver_{version}_mean.csv')\n",
    "    print(file_path)\n",
    "\n",
    "    df.to_csv(file_path)\n",
    "\n",
    "for version, (info, df) in enumerate(zip(infos, dfs_std)):\n",
    "    df['C1'] = 10\n",
    "    df['C2'] = info\n",
    "    df['n_unsupervised'] = 15\n",
    "    df['rule_thr'] = 0\n",
    "\n",
    "    #####################################\n",
    "    #####################################\n",
    "    #####################################\n",
    "    #####################################\n",
    "    #####################################\n",
    "    file_path = os.path.join(project_dir_path, f'experiment_result/results_organized/experiment_{expt_num}/ver_{version}_std.csv')\n",
    "    print(file_path)\n",
    "\n",
    "    df.to_csv(file_path)"
   ]
  },
  {
   "cell_type": "code",
   "execution_count": null,
   "metadata": {},
   "outputs": [],
   "source": []
  },
  {
   "cell_type": "code",
   "execution_count": null,
   "metadata": {},
   "outputs": [],
   "source": []
  },
  {
   "cell_type": "code",
   "execution_count": null,
   "metadata": {},
   "outputs": [],
   "source": []
  },
  {
   "cell_type": "code",
   "execution_count": null,
   "metadata": {},
   "outputs": [],
   "source": []
  },
  {
   "cell_type": "code",
   "execution_count": 4,
   "metadata": {},
   "outputs": [
    {
     "data": {
      "text/plain": [
       "[0.1, 1, 5, 15, 50, 100, 1000]"
      ]
     },
     "execution_count": 4,
     "metadata": {},
     "output_type": "execute_result"
    }
   ],
   "source": [
    "infos"
   ]
  },
  {
   "cell_type": "code",
   "execution_count": 4,
   "metadata": {},
   "outputs": [],
   "source": [
    "import plotly.express as px\n",
    "\n",
    "def hex_to_rgb(hex_color):\n",
    "    # カラーコードの先頭の # を削除する\n",
    "    hex_color = hex_color.lstrip('#')\n",
    "    \n",
    "    # カラーコードを RGB 形式に変換する\n",
    "    red = int(hex_color[0:2], 16)\n",
    "    green = int(hex_color[2:4], 16)\n",
    "    blue = int(hex_color[4:6], 16)\n",
    "    \n",
    "    # RGBA 形式に変換して返す\n",
    "    return red, green, blue\n",
    "\n",
    "color_codes = [hex_to_rgb(color_code) for color_code in px.colors.qualitative.Plotly]\n",
    "colors_mean = [f'rgba({r},{g},{b},{1})' for r, g, b in color_codes]\n",
    "colors_std = [f'rgba({r},{g},{b},{0.2})' for r, g, b in color_codes]"
   ]
  },
  {
   "cell_type": "code",
   "execution_count": 5,
   "metadata": {},
   "outputs": [
    {
     "data": {
      "text/plain": [
       "Index(['accuracy', 'precision', 'recall', 'f1', 'auc', 'n_violation', 'n_rule',\n",
       "       'violation_rate', 'n_violation (instance)', 'n_evaluation (instance)',\n",
       "       'violation_rate (instance)'],\n",
       "      dtype='object')"
      ]
     },
     "execution_count": 5,
     "metadata": {},
     "output_type": "execute_result"
    }
   ],
   "source": [
    "dfs_mean[0].columns"
   ]
  },
  {
   "cell_type": "code",
   "execution_count": 8,
   "metadata": {},
   "outputs": [
    {
     "data": {
      "application/vnd.plotly.v1+json": {
       "config": {
        "plotlyServerURL": "https://plot.ly"
       },
       "data": [
        {
         "line": {
          "color": "rgba(99,110,250,1)"
         },
         "marker": {
          "color": "rgba(99,110,250,1)"
         },
         "mode": "lines+markers",
         "name": "RuleFit Classifier (disc)",
         "showlegend": true,
         "type": "scatter",
         "x": [
          0.1,
          1,
          5,
          15,
          50,
          100,
          1000
         ],
         "xaxis": "x",
         "y": [
          0.8161160773208749,
          0.8161160773208749,
          0.8161160773208749,
          0.8161160773208749,
          0.8161160773208749,
          0.8161160773208749,
          0.8161160773208749
         ],
         "yaxis": "y"
        },
        {
         "line": {
          "color": "rgba(99,110,250,0.2)"
         },
         "mode": "lines",
         "showlegend": false,
         "type": "scatter",
         "x": [
          0.1,
          1,
          5,
          15,
          50,
          100,
          1000
         ],
         "xaxis": "x",
         "y": [
          0.8675198089260306,
          0.8675198089260306,
          0.8675198089260306,
          0.8675198089260306,
          0.8675198089260306,
          0.8675198089260306,
          0.8675198089260306
         ],
         "yaxis": "y"
        },
        {
         "fill": "tonexty",
         "fillcolor": "rgba(99,110,250,0.2)",
         "line": {
          "color": "rgba(255,255,255,0)"
         },
         "mode": "lines",
         "showlegend": false,
         "type": "scatter",
         "x": [
          0.1,
          1,
          5,
          15,
          50,
          100,
          1000
         ],
         "xaxis": "x",
         "y": [
          0.7647123457157191,
          0.7647123457157191,
          0.7647123457157191,
          0.7647123457157191,
          0.7647123457157191,
          0.7647123457157191,
          0.7647123457157191
         ],
         "yaxis": "y"
        },
        {
         "line": {
          "color": "rgba(239,85,59,1)"
         },
         "marker": {
          "color": "rgba(239,85,59,1)"
         },
         "mode": "lines+markers",
         "name": "tree generator (disc)",
         "showlegend": true,
         "type": "scatter",
         "x": [
          0.1,
          1,
          5,
          15,
          50,
          100,
          1000
         ],
         "xaxis": "x",
         "y": [
          0.7723221095803497,
          0.7723221095803497,
          0.7723221095803497,
          0.7723221095803497,
          0.7723221095803497,
          0.7723221095803497,
          0.7723221095803497
         ],
         "yaxis": "y"
        },
        {
         "line": {
          "color": "rgba(239,85,59,0.2)"
         },
         "mode": "lines",
         "showlegend": false,
         "type": "scatter",
         "x": [
          0.1,
          1,
          5,
          15,
          50,
          100,
          1000
         ],
         "xaxis": "x",
         "y": [
          0.8213949562136311,
          0.8213949562136311,
          0.8213949562136311,
          0.8213949562136311,
          0.8213949562136311,
          0.8213949562136311,
          0.8213949562136311
         ],
         "yaxis": "y"
        },
        {
         "fill": "tonexty",
         "fillcolor": "rgba(239,85,59,0.2)",
         "line": {
          "color": "rgba(255,255,255,0)"
         },
         "mode": "lines",
         "showlegend": false,
         "type": "scatter",
         "x": [
          0.1,
          1,
          5,
          15,
          50,
          100,
          1000
         ],
         "xaxis": "x",
         "y": [
          0.7232492629470684,
          0.7232492629470684,
          0.7232492629470684,
          0.7232492629470684,
          0.7232492629470684,
          0.7232492629470684,
          0.7232492629470684
         ],
         "yaxis": "y"
        },
        {
         "line": {
          "color": "rgba(0,204,150,1)"
         },
         "marker": {
          "color": "rgba(0,204,150,1)"
         },
         "mode": "lines+markers",
         "name": "RuleFit Classifier (conti)",
         "showlegend": true,
         "type": "scatter",
         "x": [
          0.1,
          1,
          5,
          15,
          50,
          100,
          1000
         ],
         "xaxis": "x",
         "y": [
          0.7951160428050499,
          0.7951160428050499,
          0.7951160428050499,
          0.7951160428050499,
          0.7951160428050499,
          0.7951160428050499,
          0.7951160428050499
         ],
         "yaxis": "y"
        },
        {
         "line": {
          "color": "rgba(0,204,150,0.2)"
         },
         "mode": "lines",
         "showlegend": false,
         "type": "scatter",
         "x": [
          0.1,
          1,
          5,
          15,
          50,
          100,
          1000
         ],
         "xaxis": "x",
         "y": [
          0.8276321544041804,
          0.8276321544041804,
          0.8276321544041804,
          0.8276321544041804,
          0.8276321544041804,
          0.8276321544041804,
          0.8276321544041804
         ],
         "yaxis": "y"
        },
        {
         "fill": "tonexty",
         "fillcolor": "rgba(0,204,150,0.2)",
         "line": {
          "color": "rgba(255,255,255,0)"
         },
         "mode": "lines",
         "showlegend": false,
         "type": "scatter",
         "x": [
          0.1,
          1,
          5,
          15,
          50,
          100,
          1000
         ],
         "xaxis": "x",
         "y": [
          0.7625999312059194,
          0.7625999312059194,
          0.7625999312059194,
          0.7625999312059194,
          0.7625999312059194,
          0.7625999312059194,
          0.7625999312059194
         ],
         "yaxis": "y"
        },
        {
         "line": {
          "color": "rgba(171,99,250,1)"
         },
         "marker": {
          "color": "rgba(171,99,250,1)"
         },
         "mode": "lines+markers",
         "name": "tree generator (conti)",
         "showlegend": true,
         "type": "scatter",
         "x": [
          0.1,
          1,
          5,
          15,
          50,
          100,
          1000
         ],
         "xaxis": "x",
         "y": [
          0.832599556154117,
          0.832599556154117,
          0.832599556154117,
          0.832599556154117,
          0.832599556154117,
          0.832599556154117,
          0.832599556154117
         ],
         "yaxis": "y"
        },
        {
         "line": {
          "color": "rgba(171,99,250,0.2)"
         },
         "mode": "lines",
         "showlegend": false,
         "type": "scatter",
         "x": [
          0.1,
          1,
          5,
          15,
          50,
          100,
          1000
         ],
         "xaxis": "x",
         "y": [
          0.8725688941539064,
          0.8725688941539064,
          0.8725688941539064,
          0.8725688941539064,
          0.8725688941539064,
          0.8725688941539064,
          0.8725688941539064
         ],
         "yaxis": "y"
        },
        {
         "fill": "tonexty",
         "fillcolor": "rgba(171,99,250,0.2)",
         "line": {
          "color": "rgba(255,255,255,0)"
         },
         "mode": "lines",
         "showlegend": false,
         "type": "scatter",
         "x": [
          0.1,
          1,
          5,
          15,
          50,
          100,
          1000
         ],
         "xaxis": "x",
         "y": [
          0.7926302181543275,
          0.7926302181543275,
          0.7926302181543275,
          0.7926302181543275,
          0.7926302181543275,
          0.7926302181543275,
          0.7926302181543275
         ],
         "yaxis": "y"
        },
        {
         "line": {
          "color": "rgba(99,110,250,1)"
         },
         "marker": {
          "color": "rgba(99,110,250,1)"
         },
         "mode": "lines+markers",
         "name": "RuleFit Classifier (disc)",
         "showlegend": false,
         "type": "scatter",
         "x": [
          0.1,
          1,
          5,
          15,
          50,
          100,
          1000
         ],
         "xaxis": "x2",
         "y": [
          0.8072019077901432,
          0.8072019077901432,
          0.8072019077901432,
          0.8072019077901432,
          0.8072019077901432,
          0.8072019077901432,
          0.8072019077901432
         ],
         "yaxis": "y2"
        },
        {
         "line": {
          "color": "rgba(99,110,250,0.2)"
         },
         "mode": "lines",
         "showlegend": false,
         "type": "scatter",
         "x": [
          0.1,
          1,
          5,
          15,
          50,
          100,
          1000
         ],
         "xaxis": "x2",
         "y": [
          0.8932371816337767,
          0.8932371816337767,
          0.8932371816337767,
          0.8932371816337767,
          0.8932371816337767,
          0.8932371816337767,
          0.8932371816337767
         ],
         "yaxis": "y2"
        },
        {
         "fill": "tonexty",
         "fillcolor": "rgba(99,110,250,0.2)",
         "line": {
          "color": "rgba(255,255,255,0)"
         },
         "mode": "lines",
         "showlegend": false,
         "type": "scatter",
         "x": [
          0.1,
          1,
          5,
          15,
          50,
          100,
          1000
         ],
         "xaxis": "x2",
         "y": [
          0.7211666339465097,
          0.7211666339465097,
          0.7211666339465097,
          0.7211666339465097,
          0.7211666339465097,
          0.7211666339465097,
          0.7211666339465097
         ],
         "yaxis": "y2"
        },
        {
         "line": {
          "color": "rgba(239,85,59,1)"
         },
         "marker": {
          "color": "rgba(239,85,59,1)"
         },
         "mode": "lines+markers",
         "name": "tree generator (disc)",
         "showlegend": false,
         "type": "scatter",
         "x": [
          0.1,
          1,
          5,
          15,
          50,
          100,
          1000
         ],
         "xaxis": "x2",
         "y": [
          0.7366454689984102,
          0.7366454689984102,
          0.7366454689984102,
          0.7366454689984102,
          0.7366454689984102,
          0.7366454689984102,
          0.7366454689984102
         ],
         "yaxis": "y2"
        },
        {
         "line": {
          "color": "rgba(239,85,59,0.2)"
         },
         "mode": "lines",
         "showlegend": false,
         "type": "scatter",
         "x": [
          0.1,
          1,
          5,
          15,
          50,
          100,
          1000
         ],
         "xaxis": "x2",
         "y": [
          0.8045597523890572,
          0.8045597523890572,
          0.8045597523890572,
          0.8045597523890572,
          0.8045597523890572,
          0.8045597523890572,
          0.8045597523890572
         ],
         "yaxis": "y2"
        },
        {
         "fill": "tonexty",
         "fillcolor": "rgba(239,85,59,0.2)",
         "line": {
          "color": "rgba(255,255,255,0)"
         },
         "mode": "lines",
         "showlegend": false,
         "type": "scatter",
         "x": [
          0.1,
          1,
          5,
          15,
          50,
          100,
          1000
         ],
         "xaxis": "x2",
         "y": [
          0.6687311856077632,
          0.6687311856077632,
          0.6687311856077632,
          0.6687311856077632,
          0.6687311856077632,
          0.6687311856077632,
          0.6687311856077632
         ],
         "yaxis": "y2"
        },
        {
         "line": {
          "color": "rgba(0,204,150,1)"
         },
         "marker": {
          "color": "rgba(0,204,150,1)"
         },
         "mode": "lines+markers",
         "name": "RuleFit Classifier (conti)",
         "showlegend": false,
         "type": "scatter",
         "x": [
          0.1,
          1,
          5,
          15,
          50,
          100,
          1000
         ],
         "xaxis": "x2",
         "y": [
          0.88296060766649,
          0.88296060766649,
          0.88296060766649,
          0.88296060766649,
          0.88296060766649,
          0.88296060766649,
          0.88296060766649
         ],
         "yaxis": "y2"
        },
        {
         "line": {
          "color": "rgba(0,204,150,0.2)"
         },
         "mode": "lines",
         "showlegend": false,
         "type": "scatter",
         "x": [
          0.1,
          1,
          5,
          15,
          50,
          100,
          1000
         ],
         "xaxis": "x2",
         "y": [
          0.946622487922915,
          0.946622487922915,
          0.946622487922915,
          0.946622487922915,
          0.946622487922915,
          0.946622487922915,
          0.946622487922915
         ],
         "yaxis": "y2"
        },
        {
         "fill": "tonexty",
         "fillcolor": "rgba(0,204,150,0.2)",
         "line": {
          "color": "rgba(255,255,255,0)"
         },
         "mode": "lines",
         "showlegend": false,
         "type": "scatter",
         "x": [
          0.1,
          1,
          5,
          15,
          50,
          100,
          1000
         ],
         "xaxis": "x2",
         "y": [
          0.8192987274100649,
          0.8192987274100649,
          0.8192987274100649,
          0.8192987274100649,
          0.8192987274100649,
          0.8192987274100649,
          0.8192987274100649
         ],
         "yaxis": "y2"
        },
        {
         "line": {
          "color": "rgba(171,99,250,1)"
         },
         "marker": {
          "color": "rgba(171,99,250,1)"
         },
         "mode": "lines+markers",
         "name": "tree generator (conti)",
         "showlegend": false,
         "type": "scatter",
         "x": [
          0.1,
          1,
          5,
          15,
          50,
          100,
          1000
         ],
         "xaxis": "x2",
         "y": [
          0.8816728493199081,
          0.8816728493199081,
          0.8816728493199081,
          0.8816728493199081,
          0.8816728493199081,
          0.8816728493199081,
          0.8816728493199081
         ],
         "yaxis": "y2"
        },
        {
         "line": {
          "color": "rgba(171,99,250,0.2)"
         },
         "mode": "lines",
         "showlegend": false,
         "type": "scatter",
         "x": [
          0.1,
          1,
          5,
          15,
          50,
          100,
          1000
         ],
         "xaxis": "x2",
         "y": [
          0.9288502150363965,
          0.9288502150363965,
          0.9288502150363965,
          0.9288502150363965,
          0.9288502150363965,
          0.9288502150363965,
          0.9288502150363965
         ],
         "yaxis": "y2"
        },
        {
         "fill": "tonexty",
         "fillcolor": "rgba(171,99,250,0.2)",
         "line": {
          "color": "rgba(255,255,255,0)"
         },
         "mode": "lines",
         "showlegend": false,
         "type": "scatter",
         "x": [
          0.1,
          1,
          5,
          15,
          50,
          100,
          1000
         ],
         "xaxis": "x2",
         "y": [
          0.8344954836034196,
          0.8344954836034196,
          0.8344954836034196,
          0.8344954836034196,
          0.8344954836034196,
          0.8344954836034196,
          0.8344954836034196
         ],
         "yaxis": "y2"
        },
        {
         "line": {
          "color": "rgba(99,110,250,1)"
         },
         "marker": {
          "color": "rgba(99,110,250,1)"
         },
         "mode": "lines+markers",
         "name": "RuleFit Classifier (disc)",
         "showlegend": false,
         "type": "scatter",
         "x": [
          0.1,
          1,
          5,
          15,
          50,
          100,
          1000
         ],
         "xaxis": "x3",
         "y": [
          0.8754879938421025,
          0.8754879938421025,
          0.8754879938421025,
          0.8754879938421025,
          0.8754879938421025,
          0.8754879938421025,
          0.8754879938421025
         ],
         "yaxis": "y3"
        },
        {
         "line": {
          "color": "rgba(99,110,250,0.2)"
         },
         "mode": "lines",
         "showlegend": false,
         "type": "scatter",
         "x": [
          0.1,
          1,
          5,
          15,
          50,
          100,
          1000
         ],
         "xaxis": "x3",
         "y": [
          0.8956202214125374,
          0.8956202214125374,
          0.8956202214125374,
          0.8956202214125374,
          0.8956202214125374,
          0.8956202214125374,
          0.8956202214125374
         ],
         "yaxis": "y3"
        },
        {
         "fill": "tonexty",
         "fillcolor": "rgba(99,110,250,0.2)",
         "line": {
          "color": "rgba(255,255,255,0)"
         },
         "mode": "lines",
         "showlegend": false,
         "type": "scatter",
         "x": [
          0.1,
          1,
          5,
          15,
          50,
          100,
          1000
         ],
         "xaxis": "x3",
         "y": [
          0.8553557662716677,
          0.8553557662716677,
          0.8553557662716677,
          0.8553557662716677,
          0.8553557662716677,
          0.8553557662716677,
          0.8553557662716677
         ],
         "yaxis": "y3"
        },
        {
         "line": {
          "color": "rgba(239,85,59,1)"
         },
         "marker": {
          "color": "rgba(239,85,59,1)"
         },
         "mode": "lines+markers",
         "name": "tree generator (disc)",
         "showlegend": false,
         "type": "scatter",
         "x": [
          0.1,
          1,
          5,
          15,
          50,
          100,
          1000
         ],
         "xaxis": "x3",
         "y": [
          0.8573028689521373,
          0.8573028689521373,
          0.8573028689521373,
          0.8573028689521373,
          0.8573028689521373,
          0.8573028689521373,
          0.8573028689521373
         ],
         "yaxis": "y3"
        },
        {
         "line": {
          "color": "rgba(239,85,59,0.2)"
         },
         "mode": "lines",
         "showlegend": false,
         "type": "scatter",
         "x": [
          0.1,
          1,
          5,
          15,
          50,
          100,
          1000
         ],
         "xaxis": "x3",
         "y": [
          0.8840911435501796,
          0.8840911435501796,
          0.8840911435501796,
          0.8840911435501796,
          0.8840911435501796,
          0.8840911435501796,
          0.8840911435501796
         ],
         "yaxis": "y3"
        },
        {
         "fill": "tonexty",
         "fillcolor": "rgba(239,85,59,0.2)",
         "line": {
          "color": "rgba(255,255,255,0)"
         },
         "mode": "lines",
         "showlegend": false,
         "type": "scatter",
         "x": [
          0.1,
          1,
          5,
          15,
          50,
          100,
          1000
         ],
         "xaxis": "x3",
         "y": [
          0.8305145943540949,
          0.8305145943540949,
          0.8305145943540949,
          0.8305145943540949,
          0.8305145943540949,
          0.8305145943540949,
          0.8305145943540949
         ],
         "yaxis": "y3"
        },
        {
         "line": {
          "color": "rgba(0,204,150,1)"
         },
         "marker": {
          "color": "rgba(0,204,150,1)"
         },
         "mode": "lines+markers",
         "name": "RuleFit Classifier (conti)",
         "showlegend": false,
         "type": "scatter",
         "x": [
          0.1,
          1,
          5,
          15,
          50,
          100,
          1000
         ],
         "xaxis": "x3",
         "y": [
          0.8790968771697166,
          0.8790968771697166,
          0.8790968771697166,
          0.8790968771697166,
          0.8790968771697166,
          0.8790968771697166,
          0.8790968771697166
         ],
         "yaxis": "y3"
        },
        {
         "line": {
          "color": "rgba(0,204,150,0.2)"
         },
         "mode": "lines",
         "showlegend": false,
         "type": "scatter",
         "x": [
          0.1,
          1,
          5,
          15,
          50,
          100,
          1000
         ],
         "xaxis": "x3",
         "y": [
          0.8874281420663217,
          0.8874281420663217,
          0.8874281420663217,
          0.8874281420663217,
          0.8874281420663217,
          0.8874281420663217,
          0.8874281420663217
         ],
         "yaxis": "y3"
        },
        {
         "fill": "tonexty",
         "fillcolor": "rgba(0,204,150,0.2)",
         "line": {
          "color": "rgba(255,255,255,0)"
         },
         "mode": "lines",
         "showlegend": false,
         "type": "scatter",
         "x": [
          0.1,
          1,
          5,
          15,
          50,
          100,
          1000
         ],
         "xaxis": "x3",
         "y": [
          0.8707656122731116,
          0.8707656122731116,
          0.8707656122731116,
          0.8707656122731116,
          0.8707656122731116,
          0.8707656122731116,
          0.8707656122731116
         ],
         "yaxis": "y3"
        },
        {
         "line": {
          "color": "rgba(171,99,250,1)"
         },
         "marker": {
          "color": "rgba(171,99,250,1)"
         },
         "mode": "lines+markers",
         "name": "tree generator (conti)",
         "showlegend": false,
         "type": "scatter",
         "x": [
          0.1,
          1,
          5,
          15,
          50,
          100,
          1000
         ],
         "xaxis": "x3",
         "y": [
          0.8853379560228465,
          0.8853379560228465,
          0.8853379560228465,
          0.8853379560228465,
          0.8853379560228465,
          0.8853379560228465,
          0.8853379560228465
         ],
         "yaxis": "y3"
        },
        {
         "line": {
          "color": "rgba(171,99,250,0.2)"
         },
         "mode": "lines",
         "showlegend": false,
         "type": "scatter",
         "x": [
          0.1,
          1,
          5,
          15,
          50,
          100,
          1000
         ],
         "xaxis": "x3",
         "y": [
          0.9008350830108125,
          0.9008350830108125,
          0.9008350830108125,
          0.9008350830108125,
          0.9008350830108125,
          0.9008350830108125,
          0.9008350830108125
         ],
         "yaxis": "y3"
        },
        {
         "fill": "tonexty",
         "fillcolor": "rgba(171,99,250,0.2)",
         "line": {
          "color": "rgba(255,255,255,0)"
         },
         "mode": "lines",
         "showlegend": false,
         "type": "scatter",
         "x": [
          0.1,
          1,
          5,
          15,
          50,
          100,
          1000
         ],
         "xaxis": "x3",
         "y": [
          0.8698408290348805,
          0.8698408290348805,
          0.8698408290348805,
          0.8698408290348805,
          0.8698408290348805,
          0.8698408290348805,
          0.8698408290348805
         ],
         "yaxis": "y3"
        }
       ],
       "layout": {
        "height": 900,
        "legend": {
         "orientation": "h",
         "x": 0.5,
         "y": 1.15
        },
        "template": {
         "data": {
          "bar": [
           {
            "error_x": {
             "color": "#2a3f5f"
            },
            "error_y": {
             "color": "#2a3f5f"
            },
            "marker": {
             "line": {
              "color": "#E5ECF6",
              "width": 0.5
             },
             "pattern": {
              "fillmode": "overlay",
              "size": 10,
              "solidity": 0.2
             }
            },
            "type": "bar"
           }
          ],
          "barpolar": [
           {
            "marker": {
             "line": {
              "color": "#E5ECF6",
              "width": 0.5
             },
             "pattern": {
              "fillmode": "overlay",
              "size": 10,
              "solidity": 0.2
             }
            },
            "type": "barpolar"
           }
          ],
          "carpet": [
           {
            "aaxis": {
             "endlinecolor": "#2a3f5f",
             "gridcolor": "white",
             "linecolor": "white",
             "minorgridcolor": "white",
             "startlinecolor": "#2a3f5f"
            },
            "baxis": {
             "endlinecolor": "#2a3f5f",
             "gridcolor": "white",
             "linecolor": "white",
             "minorgridcolor": "white",
             "startlinecolor": "#2a3f5f"
            },
            "type": "carpet"
           }
          ],
          "choropleth": [
           {
            "colorbar": {
             "outlinewidth": 0,
             "ticks": ""
            },
            "type": "choropleth"
           }
          ],
          "contour": [
           {
            "colorbar": {
             "outlinewidth": 0,
             "ticks": ""
            },
            "colorscale": [
             [
              0,
              "#0d0887"
             ],
             [
              0.1111111111111111,
              "#46039f"
             ],
             [
              0.2222222222222222,
              "#7201a8"
             ],
             [
              0.3333333333333333,
              "#9c179e"
             ],
             [
              0.4444444444444444,
              "#bd3786"
             ],
             [
              0.5555555555555556,
              "#d8576b"
             ],
             [
              0.6666666666666666,
              "#ed7953"
             ],
             [
              0.7777777777777778,
              "#fb9f3a"
             ],
             [
              0.8888888888888888,
              "#fdca26"
             ],
             [
              1,
              "#f0f921"
             ]
            ],
            "type": "contour"
           }
          ],
          "contourcarpet": [
           {
            "colorbar": {
             "outlinewidth": 0,
             "ticks": ""
            },
            "type": "contourcarpet"
           }
          ],
          "heatmap": [
           {
            "colorbar": {
             "outlinewidth": 0,
             "ticks": ""
            },
            "colorscale": [
             [
              0,
              "#0d0887"
             ],
             [
              0.1111111111111111,
              "#46039f"
             ],
             [
              0.2222222222222222,
              "#7201a8"
             ],
             [
              0.3333333333333333,
              "#9c179e"
             ],
             [
              0.4444444444444444,
              "#bd3786"
             ],
             [
              0.5555555555555556,
              "#d8576b"
             ],
             [
              0.6666666666666666,
              "#ed7953"
             ],
             [
              0.7777777777777778,
              "#fb9f3a"
             ],
             [
              0.8888888888888888,
              "#fdca26"
             ],
             [
              1,
              "#f0f921"
             ]
            ],
            "type": "heatmap"
           }
          ],
          "heatmapgl": [
           {
            "colorbar": {
             "outlinewidth": 0,
             "ticks": ""
            },
            "colorscale": [
             [
              0,
              "#0d0887"
             ],
             [
              0.1111111111111111,
              "#46039f"
             ],
             [
              0.2222222222222222,
              "#7201a8"
             ],
             [
              0.3333333333333333,
              "#9c179e"
             ],
             [
              0.4444444444444444,
              "#bd3786"
             ],
             [
              0.5555555555555556,
              "#d8576b"
             ],
             [
              0.6666666666666666,
              "#ed7953"
             ],
             [
              0.7777777777777778,
              "#fb9f3a"
             ],
             [
              0.8888888888888888,
              "#fdca26"
             ],
             [
              1,
              "#f0f921"
             ]
            ],
            "type": "heatmapgl"
           }
          ],
          "histogram": [
           {
            "marker": {
             "pattern": {
              "fillmode": "overlay",
              "size": 10,
              "solidity": 0.2
             }
            },
            "type": "histogram"
           }
          ],
          "histogram2d": [
           {
            "colorbar": {
             "outlinewidth": 0,
             "ticks": ""
            },
            "colorscale": [
             [
              0,
              "#0d0887"
             ],
             [
              0.1111111111111111,
              "#46039f"
             ],
             [
              0.2222222222222222,
              "#7201a8"
             ],
             [
              0.3333333333333333,
              "#9c179e"
             ],
             [
              0.4444444444444444,
              "#bd3786"
             ],
             [
              0.5555555555555556,
              "#d8576b"
             ],
             [
              0.6666666666666666,
              "#ed7953"
             ],
             [
              0.7777777777777778,
              "#fb9f3a"
             ],
             [
              0.8888888888888888,
              "#fdca26"
             ],
             [
              1,
              "#f0f921"
             ]
            ],
            "type": "histogram2d"
           }
          ],
          "histogram2dcontour": [
           {
            "colorbar": {
             "outlinewidth": 0,
             "ticks": ""
            },
            "colorscale": [
             [
              0,
              "#0d0887"
             ],
             [
              0.1111111111111111,
              "#46039f"
             ],
             [
              0.2222222222222222,
              "#7201a8"
             ],
             [
              0.3333333333333333,
              "#9c179e"
             ],
             [
              0.4444444444444444,
              "#bd3786"
             ],
             [
              0.5555555555555556,
              "#d8576b"
             ],
             [
              0.6666666666666666,
              "#ed7953"
             ],
             [
              0.7777777777777778,
              "#fb9f3a"
             ],
             [
              0.8888888888888888,
              "#fdca26"
             ],
             [
              1,
              "#f0f921"
             ]
            ],
            "type": "histogram2dcontour"
           }
          ],
          "mesh3d": [
           {
            "colorbar": {
             "outlinewidth": 0,
             "ticks": ""
            },
            "type": "mesh3d"
           }
          ],
          "parcoords": [
           {
            "line": {
             "colorbar": {
              "outlinewidth": 0,
              "ticks": ""
             }
            },
            "type": "parcoords"
           }
          ],
          "pie": [
           {
            "automargin": true,
            "type": "pie"
           }
          ],
          "scatter": [
           {
            "fillpattern": {
             "fillmode": "overlay",
             "size": 10,
             "solidity": 0.2
            },
            "type": "scatter"
           }
          ],
          "scatter3d": [
           {
            "line": {
             "colorbar": {
              "outlinewidth": 0,
              "ticks": ""
             }
            },
            "marker": {
             "colorbar": {
              "outlinewidth": 0,
              "ticks": ""
             }
            },
            "type": "scatter3d"
           }
          ],
          "scattercarpet": [
           {
            "marker": {
             "colorbar": {
              "outlinewidth": 0,
              "ticks": ""
             }
            },
            "type": "scattercarpet"
           }
          ],
          "scattergeo": [
           {
            "marker": {
             "colorbar": {
              "outlinewidth": 0,
              "ticks": ""
             }
            },
            "type": "scattergeo"
           }
          ],
          "scattergl": [
           {
            "marker": {
             "colorbar": {
              "outlinewidth": 0,
              "ticks": ""
             }
            },
            "type": "scattergl"
           }
          ],
          "scattermapbox": [
           {
            "marker": {
             "colorbar": {
              "outlinewidth": 0,
              "ticks": ""
             }
            },
            "type": "scattermapbox"
           }
          ],
          "scatterpolar": [
           {
            "marker": {
             "colorbar": {
              "outlinewidth": 0,
              "ticks": ""
             }
            },
            "type": "scatterpolar"
           }
          ],
          "scatterpolargl": [
           {
            "marker": {
             "colorbar": {
              "outlinewidth": 0,
              "ticks": ""
             }
            },
            "type": "scatterpolargl"
           }
          ],
          "scatterternary": [
           {
            "marker": {
             "colorbar": {
              "outlinewidth": 0,
              "ticks": ""
             }
            },
            "type": "scatterternary"
           }
          ],
          "surface": [
           {
            "colorbar": {
             "outlinewidth": 0,
             "ticks": ""
            },
            "colorscale": [
             [
              0,
              "#0d0887"
             ],
             [
              0.1111111111111111,
              "#46039f"
             ],
             [
              0.2222222222222222,
              "#7201a8"
             ],
             [
              0.3333333333333333,
              "#9c179e"
             ],
             [
              0.4444444444444444,
              "#bd3786"
             ],
             [
              0.5555555555555556,
              "#d8576b"
             ],
             [
              0.6666666666666666,
              "#ed7953"
             ],
             [
              0.7777777777777778,
              "#fb9f3a"
             ],
             [
              0.8888888888888888,
              "#fdca26"
             ],
             [
              1,
              "#f0f921"
             ]
            ],
            "type": "surface"
           }
          ],
          "table": [
           {
            "cells": {
             "fill": {
              "color": "#EBF0F8"
             },
             "line": {
              "color": "white"
             }
            },
            "header": {
             "fill": {
              "color": "#C8D4E3"
             },
             "line": {
              "color": "white"
             }
            },
            "type": "table"
           }
          ]
         },
         "layout": {
          "annotationdefaults": {
           "arrowcolor": "#2a3f5f",
           "arrowhead": 0,
           "arrowwidth": 1
          },
          "autotypenumbers": "strict",
          "coloraxis": {
           "colorbar": {
            "outlinewidth": 0,
            "ticks": ""
           }
          },
          "colorscale": {
           "diverging": [
            [
             0,
             "#8e0152"
            ],
            [
             0.1,
             "#c51b7d"
            ],
            [
             0.2,
             "#de77ae"
            ],
            [
             0.3,
             "#f1b6da"
            ],
            [
             0.4,
             "#fde0ef"
            ],
            [
             0.5,
             "#f7f7f7"
            ],
            [
             0.6,
             "#e6f5d0"
            ],
            [
             0.7,
             "#b8e186"
            ],
            [
             0.8,
             "#7fbc41"
            ],
            [
             0.9,
             "#4d9221"
            ],
            [
             1,
             "#276419"
            ]
           ],
           "sequential": [
            [
             0,
             "#0d0887"
            ],
            [
             0.1111111111111111,
             "#46039f"
            ],
            [
             0.2222222222222222,
             "#7201a8"
            ],
            [
             0.3333333333333333,
             "#9c179e"
            ],
            [
             0.4444444444444444,
             "#bd3786"
            ],
            [
             0.5555555555555556,
             "#d8576b"
            ],
            [
             0.6666666666666666,
             "#ed7953"
            ],
            [
             0.7777777777777778,
             "#fb9f3a"
            ],
            [
             0.8888888888888888,
             "#fdca26"
            ],
            [
             1,
             "#f0f921"
            ]
           ],
           "sequentialminus": [
            [
             0,
             "#0d0887"
            ],
            [
             0.1111111111111111,
             "#46039f"
            ],
            [
             0.2222222222222222,
             "#7201a8"
            ],
            [
             0.3333333333333333,
             "#9c179e"
            ],
            [
             0.4444444444444444,
             "#bd3786"
            ],
            [
             0.5555555555555556,
             "#d8576b"
            ],
            [
             0.6666666666666666,
             "#ed7953"
            ],
            [
             0.7777777777777778,
             "#fb9f3a"
            ],
            [
             0.8888888888888888,
             "#fdca26"
            ],
            [
             1,
             "#f0f921"
            ]
           ]
          },
          "colorway": [
           "#636efa",
           "#EF553B",
           "#00cc96",
           "#ab63fa",
           "#FFA15A",
           "#19d3f3",
           "#FF6692",
           "#B6E880",
           "#FF97FF",
           "#FECB52"
          ],
          "font": {
           "color": "#2a3f5f"
          },
          "geo": {
           "bgcolor": "white",
           "lakecolor": "white",
           "landcolor": "#E5ECF6",
           "showlakes": true,
           "showland": true,
           "subunitcolor": "white"
          },
          "hoverlabel": {
           "align": "left"
          },
          "hovermode": "closest",
          "mapbox": {
           "style": "light"
          },
          "paper_bgcolor": "white",
          "plot_bgcolor": "#E5ECF6",
          "polar": {
           "angularaxis": {
            "gridcolor": "white",
            "linecolor": "white",
            "ticks": ""
           },
           "bgcolor": "#E5ECF6",
           "radialaxis": {
            "gridcolor": "white",
            "linecolor": "white",
            "ticks": ""
           }
          },
          "scene": {
           "xaxis": {
            "backgroundcolor": "#E5ECF6",
            "gridcolor": "white",
            "gridwidth": 2,
            "linecolor": "white",
            "showbackground": true,
            "ticks": "",
            "zerolinecolor": "white"
           },
           "yaxis": {
            "backgroundcolor": "#E5ECF6",
            "gridcolor": "white",
            "gridwidth": 2,
            "linecolor": "white",
            "showbackground": true,
            "ticks": "",
            "zerolinecolor": "white"
           },
           "zaxis": {
            "backgroundcolor": "#E5ECF6",
            "gridcolor": "white",
            "gridwidth": 2,
            "linecolor": "white",
            "showbackground": true,
            "ticks": "",
            "zerolinecolor": "white"
           }
          },
          "shapedefaults": {
           "line": {
            "color": "#2a3f5f"
           }
          },
          "ternary": {
           "aaxis": {
            "gridcolor": "white",
            "linecolor": "white",
            "ticks": ""
           },
           "baxis": {
            "gridcolor": "white",
            "linecolor": "white",
            "ticks": ""
           },
           "bgcolor": "#E5ECF6",
           "caxis": {
            "gridcolor": "white",
            "linecolor": "white",
            "ticks": ""
           }
          },
          "title": {
           "x": 0.05
          },
          "xaxis": {
           "automargin": true,
           "gridcolor": "white",
           "linecolor": "white",
           "ticks": "",
           "title": {
            "standoff": 15
           },
           "zerolinecolor": "white",
           "zerolinewidth": 2
          },
          "yaxis": {
           "automargin": true,
           "gridcolor": "white",
           "linecolor": "white",
           "ticks": "",
           "title": {
            "standoff": 15
           },
           "zerolinecolor": "white",
           "zerolinewidth": 2
          }
         }
        },
        "width": 600,
        "xaxis": {
         "anchor": "y",
         "domain": [
          0,
          1
         ],
         "title": {
          "font": {
           "size": 16
          },
          "text": "C2"
         }
        },
        "xaxis2": {
         "anchor": "y2",
         "domain": [
          0,
          1
         ],
         "title": {
          "font": {
           "size": 16
          },
          "text": "C2"
         }
        },
        "xaxis3": {
         "anchor": "y3",
         "domain": [
          0,
          1
         ],
         "title": {
          "text": "C2"
         }
        },
        "xaxis4": {
         "anchor": "y4",
         "domain": [
          0,
          1
         ]
        },
        "yaxis": {
         "anchor": "x",
         "domain": [
          0.80625,
          1
         ],
         "range": [
          0,
          1
         ],
         "side": "right",
         "title": {
          "font": {
           "size": 16
          },
          "text": "auc"
         }
        },
        "yaxis2": {
         "anchor": "x2",
         "domain": [
          0.5375,
          0.73125
         ],
         "range": [
          0,
          1
         ],
         "side": "right",
         "title": {
          "font": {
           "size": 16
          },
          "text": "violation_rate"
         }
        },
        "yaxis3": {
         "anchor": "x3",
         "domain": [
          0.26875,
          0.4625
         ],
         "range": [
          0,
          1
         ],
         "side": "right",
         "title": {
          "font": {
           "size": 16
          },
          "text": "violation_rate (instance)"
         }
        },
        "yaxis4": {
         "anchor": "x4",
         "domain": [
          0,
          0.19375
         ]
        }
       }
      }
     },
     "metadata": {},
     "output_type": "display_data"
    }
   ],
   "source": [
    "import plotly.graph_objects as go\n",
    "from plotly.subplots import make_subplots\n",
    "\n",
    "\n",
    "# グラフのデータを準備\n",
    "# index = ['l-SVM-p', 'r-SVM-p', 'LogReg-p']\n",
    "\n",
    "# index = [\n",
    "#     'linear svm (L)', \n",
    "#     'non-linear svm (L)', \n",
    "#     'logistic regression (L)'\n",
    "# ]\n",
    "\n",
    "# index = [\n",
    "#     'linear svm', \n",
    "#     'non-linear svm', \n",
    "#     'logistic regression'\n",
    "# ]\n",
    "\n",
    "index = [\n",
    "    'RuleFit Classifier (disc)',\n",
    "    'tree generator (disc)',\n",
    "    'RuleFit Classifier (conti)', \n",
    "    'tree generator (conti)',\n",
    "]\n",
    "\n",
    "columns = ['auc', 'violation_rate', 'violation_rate (instance)']\n",
    "\n",
    "title_text = \"C2\"\n",
    "\n",
    "\n",
    "# サブプロットの作成\n",
    "# fig = make_subplots(rows=1, cols=2, subplot_titles=('AUC', 'ルール違反率'))\n",
    "fig = make_subplots(rows=len(index), cols=1)\n",
    "showlegend=True\n",
    "\n",
    "for row_num, col in enumerate(columns):\n",
    "    tmp_mean = pd.DataFrame(\n",
    "        [{info: df.loc[model_name, col] for info, df in zip(infos, dfs_mean)} for model_name in index],\n",
    "        index=index\n",
    "    )\n",
    "    tmp_std = pd.DataFrame(\n",
    "        [{info: df.loc[model_name, col] for info, df in zip(infos, dfs_std)} for model_name in index],\n",
    "        index=index\n",
    "    )\n",
    "\n",
    "    # グラフ1: AUC\n",
    "    for i in range(len(tmp_mean)):\n",
    "        fig.add_trace(\n",
    "            go.Scatter(\n",
    "                x=tmp_mean.columns,\n",
    "                y=tmp_mean.iloc[i, :],\n",
    "                mode='lines+markers',\n",
    "                name=tmp_mean.index[i],\n",
    "                line=dict(color=colors_mean[i]),  # ラインの色を設定\n",
    "                marker=dict(color=colors_mean[i]),  # マーカーの色を設定\n",
    "                showlegend=showlegend,\n",
    "            ),\n",
    "            row=row_num+1, col=1\n",
    "        )\n",
    "        fig.add_trace(\n",
    "            go.Scatter(\n",
    "                x=tmp_mean.columns,\n",
    "                y=tmp_mean.iloc[i, :] + tmp_std.iloc[i, :],\n",
    "                mode='lines',\n",
    "                line=dict(color=colors_std[i]),  # ラインの色を設定\n",
    "                showlegend=False\n",
    "            ),\n",
    "            row=row_num+1, col=1\n",
    "        )\n",
    "        fig.add_trace(\n",
    "            go.Scatter(\n",
    "                x=tmp_mean.columns,\n",
    "                y=tmp_mean.iloc[i, :] - tmp_std.iloc[i, :],\n",
    "                mode='lines',\n",
    "                fill='tonexty',\n",
    "                fillcolor=colors_std[i],\n",
    "                line=dict(color='rgba(255,255,255,0)'),\n",
    "                showlegend=False\n",
    "            ),\n",
    "            row=row_num+1, col=1\n",
    "        )\n",
    "    \n",
    "    # x, y 軸の設定\n",
    "    fig.update_xaxes(title_text=title_text, row=row_num+1, col=1)\n",
    "    fig.update_yaxes(title_text=col, range=[0, 1], row=row_num+1, col=1, side='right', title_font=dict(size=16))\n",
    "\n",
    "    showlegend=False\n",
    "    \n",
    "# レイアウトの設定\n",
    "fig.update_layout(\n",
    "    height=len(columns) * 300,\n",
    "    width=600,\n",
    "    xaxis=dict(\n",
    "        domain=[0, 1],  # 左側のsubplotの幅を調整\n",
    "        title_font=dict(size=16)\n",
    "    ),\n",
    "    xaxis2=dict(\n",
    "        domain=[0, 1],  # 右側のsubplotの幅を調整\n",
    "        title_font=dict(size=16)\n",
    "    ),\n",
    "    legend=dict(\n",
    "        x=0.5,\n",
    "        y=1.15,\n",
    "        orientation='h'  # 水平配置\n",
    "    ),\n",
    ")\n",
    "\n",
    "\n",
    "# グラフの表示\n",
    "fig.show()"
   ]
  },
  {
   "cell_type": "code",
   "execution_count": 15,
   "metadata": {},
   "outputs": [
    {
     "data": {
      "application/vnd.plotly.v1+json": {
       "config": {
        "plotlyServerURL": "https://plot.ly"
       },
       "data": [
        {
         "line": {
          "color": "rgba(99,110,250,1)"
         },
         "marker": {
          "color": "rgba(99,110,250,1)"
         },
         "mode": "lines+markers",
         "name": "linear svm (L)",
         "showlegend": true,
         "type": "scatter",
         "x": [
          0.1,
          1,
          5,
          15,
          50,
          100,
          1000
         ],
         "xaxis": "x",
         "y": [
          0.7102584780752614,
          0.5643414528489727,
          0.46435064658206676,
          0.4533779777479852,
          0.4715048523880238,
          0.5127937459189251,
          0.6875571484672792
         ],
         "yaxis": "y"
        },
        {
         "line": {
          "color": "rgba(99,110,250,0.2)"
         },
         "mode": "lines",
         "showlegend": false,
         "type": "scatter",
         "x": [
          0.1,
          1,
          5,
          15,
          50,
          100,
          1000
         ],
         "xaxis": "x",
         "y": [
          0.9608368785394448,
          0.8545498844655547,
          0.7270354389499378,
          0.7657638100322872,
          0.7739481611084706,
          0.7899520181160182,
          0.9520077497095916
         ],
         "yaxis": "y"
        },
        {
         "fill": "tonexty",
         "fillcolor": "rgba(99,110,250,0.2)",
         "line": {
          "color": "rgba(255,255,255,0)"
         },
         "mode": "lines",
         "showlegend": false,
         "type": "scatter",
         "x": [
          0.1,
          1,
          5,
          15,
          50,
          100,
          1000
         ],
         "xaxis": "x",
         "y": [
          0.45968007761107804,
          0.2741330212323908,
          0.2016658542141957,
          0.14099214546368327,
          0.16906154366757703,
          0.23563547372183197,
          0.42310654722496693
         ],
         "yaxis": "y"
        },
        {
         "line": {
          "color": "rgba(239,85,59,1)"
         },
         "marker": {
          "color": "rgba(239,85,59,1)"
         },
         "mode": "lines+markers",
         "name": "non-linear svm (L)",
         "showlegend": true,
         "type": "scatter",
         "x": [
          0.1,
          1,
          5,
          15,
          50,
          100,
          1000
         ],
         "xaxis": "x",
         "y": [
          0.8268070464664822,
          0.8276943116381628,
          0.8254922108473768,
          0.8204751773193248,
          0.8092298227062955,
          0.7962148520208243,
          0.7873402136270474
         ],
         "yaxis": "y"
        },
        {
         "line": {
          "color": "rgba(239,85,59,0.2)"
         },
         "mode": "lines",
         "showlegend": false,
         "type": "scatter",
         "x": [
          0.1,
          1,
          5,
          15,
          50,
          100,
          1000
         ],
         "xaxis": "x",
         "y": [
          0.8668858499053688,
          0.8688327223627499,
          0.8665824574342792,
          0.8637410471615518,
          0.8520761866913692,
          0.8355548428156039,
          0.8210500504383633
         ],
         "yaxis": "y"
        },
        {
         "fill": "tonexty",
         "fillcolor": "rgba(239,85,59,0.2)",
         "line": {
          "color": "rgba(255,255,255,0)"
         },
         "mode": "lines",
         "showlegend": false,
         "type": "scatter",
         "x": [
          0.1,
          1,
          5,
          15,
          50,
          100,
          1000
         ],
         "xaxis": "x",
         "y": [
          0.7867282430275956,
          0.7865559009135756,
          0.7844019642604744,
          0.7772093074770979,
          0.7663834587212218,
          0.7568748612260447,
          0.7536303768157315
         ],
         "yaxis": "y"
        },
        {
         "line": {
          "color": "rgba(0,204,150,1)"
         },
         "marker": {
          "color": "rgba(0,204,150,1)"
         },
         "mode": "lines+markers",
         "name": "logistic regression (L)",
         "showlegend": true,
         "type": "scatter",
         "x": [
          0.1,
          1,
          5,
          15,
          50,
          100,
          1000
         ],
         "xaxis": "x",
         "y": [
          0.8236400506905428,
          0.8240965064169672,
          0.8252348706991691,
          0.8283336114782051,
          0.8287965920348345,
          0.8252357956588409,
          0.809856272023936
         ],
         "yaxis": "y"
        },
        {
         "line": {
          "color": "rgba(0,204,150,0.2)"
         },
         "mode": "lines",
         "showlegend": false,
         "type": "scatter",
         "x": [
          0.1,
          1,
          5,
          15,
          50,
          100,
          1000
         ],
         "xaxis": "x",
         "y": [
          0.8747688981739332,
          0.8753058527094776,
          0.876054721439343,
          0.8765927778680443,
          0.8719541096036533,
          0.8633679390825735,
          0.8378172270890545
         ],
         "yaxis": "y"
        },
        {
         "fill": "tonexty",
         "fillcolor": "rgba(0,204,150,0.2)",
         "line": {
          "color": "rgba(255,255,255,0)"
         },
         "mode": "lines",
         "showlegend": false,
         "type": "scatter",
         "x": [
          0.1,
          1,
          5,
          15,
          50,
          100,
          1000
         ],
         "xaxis": "x",
         "y": [
          0.7725112032071524,
          0.7728871601244568,
          0.7744150199589952,
          0.7800744450883658,
          0.7856390744660157,
          0.7871036522351083,
          0.7818953169588174
         ],
         "yaxis": "y"
        },
        {
         "line": {
          "color": "rgba(99,110,250,1)"
         },
         "marker": {
          "color": "rgba(99,110,250,1)"
         },
         "mode": "lines+markers",
         "name": "linear svm (L)",
         "showlegend": false,
         "type": "scatter",
         "x": [
          0.1,
          1,
          5,
          15,
          50,
          100,
          1000
         ],
         "xaxis": "x2",
         "y": [
          0.5872981805334746,
          0.5644223635400106,
          0.658619501854796,
          0.6280824942589648,
          0.6411870694223636,
          0.6055334746511217,
          0.6116445857622328
         ],
         "yaxis": "y2"
        },
        {
         "line": {
          "color": "rgba(99,110,250,0.2)"
         },
         "mode": "lines",
         "showlegend": false,
         "type": "scatter",
         "x": [
          0.1,
          1,
          5,
          15,
          50,
          100,
          1000
         ],
         "xaxis": "x2",
         "y": [
          0.6176447284053294,
          0.6079260021302701,
          0.7600379160969772,
          0.6891382622034152,
          0.7940008047995932,
          0.6638251757468526,
          0.6680351485033
         ],
         "yaxis": "y2"
        },
        {
         "fill": "tonexty",
         "fillcolor": "rgba(99,110,250,0.2)",
         "line": {
          "color": "rgba(255,255,255,0)"
         },
         "mode": "lines",
         "showlegend": false,
         "type": "scatter",
         "x": [
          0.1,
          1,
          5,
          15,
          50,
          100,
          1000
         ],
         "xaxis": "x2",
         "y": [
          0.5569516326616198,
          0.5209187249497511,
          0.5572010876126148,
          0.5670267263145143,
          0.48837333404513394,
          0.5472417735553908,
          0.5552540230211656
         ],
         "yaxis": "y2"
        },
        {
         "line": {
          "color": "rgba(239,85,59,1)"
         },
         "marker": {
          "color": "rgba(239,85,59,1)"
         },
         "mode": "lines+markers",
         "name": "non-linear svm (L)",
         "showlegend": false,
         "type": "scatter",
         "x": [
          0.1,
          1,
          5,
          15,
          50,
          100,
          1000
         ],
         "xaxis": "x2",
         "y": [
          0.6488676912206325,
          0.6649461225931814,
          0.6822204557498674,
          0.6540893835011482,
          0.721815050344462,
          0.6492660307366189,
          0.67586115527292
         ],
         "yaxis": "y2"
        },
        {
         "line": {
          "color": "rgba(239,85,59,0.2)"
         },
         "mode": "lines",
         "showlegend": false,
         "type": "scatter",
         "x": [
          0.1,
          1,
          5,
          15,
          50,
          100,
          1000
         ],
         "xaxis": "x2",
         "y": [
          0.7369174493482168,
          0.8017560615593887,
          0.790734577161869,
          0.7161296794158698,
          0.7817819540284092,
          0.7602683718539045,
          0.755020385012891
         ],
         "yaxis": "y2"
        },
        {
         "fill": "tonexty",
         "fillcolor": "rgba(239,85,59,0.2)",
         "line": {
          "color": "rgba(255,255,255,0)"
         },
         "mode": "lines",
         "showlegend": false,
         "type": "scatter",
         "x": [
          0.1,
          1,
          5,
          15,
          50,
          100,
          1000
         ],
         "xaxis": "x2",
         "y": [
          0.5608179330930482,
          0.5281361836269741,
          0.5737063343378659,
          0.5920490875864266,
          0.6618481466605148,
          0.5382636896193334,
          0.596701925532949
         ],
         "yaxis": "y2"
        },
        {
         "line": {
          "color": "rgba(0,204,150,1)"
         },
         "marker": {
          "color": "rgba(0,204,150,1)"
         },
         "mode": "lines+markers",
         "name": "logistic regression (L)",
         "showlegend": false,
         "type": "scatter",
         "x": [
          0.1,
          1,
          5,
          15,
          50,
          100,
          1000
         ],
         "xaxis": "x2",
         "y": [
          0.5442130365659776,
          0.5442130365659776,
          0.5386574810104221,
          0.5591414944356121,
          0.5712851086380498,
          0.5873962197491609,
          0.46976064299593706
         ],
         "yaxis": "y2"
        },
        {
         "line": {
          "color": "rgba(0,204,150,0.2)"
         },
         "mode": "lines",
         "showlegend": false,
         "type": "scatter",
         "x": [
          0.1,
          1,
          5,
          15,
          50,
          100,
          1000
         ],
         "xaxis": "x2",
         "y": [
          0.6421563854752573,
          0.6421563854752573,
          0.6459826781587705,
          0.6401262715584399,
          0.6458873286140698,
          0.6474809975426317,
          0.5703304703223719
         ],
         "yaxis": "y2"
        },
        {
         "fill": "tonexty",
         "fillcolor": "rgba(0,204,150,0.2)",
         "line": {
          "color": "rgba(255,255,255,0)"
         },
         "mode": "lines",
         "showlegend": false,
         "type": "scatter",
         "x": [
          0.1,
          1,
          5,
          15,
          50,
          100,
          1000
         ],
         "xaxis": "x2",
         "y": [
          0.446269687656698,
          0.446269687656698,
          0.4313322838620737,
          0.4781567173127843,
          0.4966828886620298,
          0.5273114419556901,
          0.36919081566950224
         ],
         "yaxis": "y2"
        },
        {
         "line": {
          "color": "rgba(99,110,250,1)"
         },
         "marker": {
          "color": "rgba(99,110,250,1)"
         },
         "mode": "lines+markers",
         "name": "linear svm (L)",
         "showlegend": false,
         "type": "scatter",
         "x": [
          0.1,
          1,
          5,
          15,
          50,
          100,
          1000
         ],
         "xaxis": "x3",
         "y": [
          0.5952548137773382,
          0.6978352215973929,
          0.6151776451550804,
          0.5846125247860489,
          0.6028308870443075,
          0.5705765101688691,
          0.6993101478510801
         ],
         "yaxis": "y3"
        },
        {
         "line": {
          "color": "rgba(99,110,250,0.2)"
         },
         "mode": "lines",
         "showlegend": false,
         "type": "scatter",
         "x": [
          0.1,
          1,
          5,
          15,
          50,
          100,
          1000
         ],
         "xaxis": "x3",
         "y": [
          0.9007813654024251,
          0.9271354740265699,
          0.8837875089175091,
          0.8923102918775021,
          0.9027272008040385,
          0.8683148141887294,
          0.9297680858391272
         ],
         "yaxis": "y3"
        },
        {
         "fill": "tonexty",
         "fillcolor": "rgba(99,110,250,0.2)",
         "line": {
          "color": "rgba(255,255,255,0)"
         },
         "mode": "lines",
         "showlegend": false,
         "type": "scatter",
         "x": [
          0.1,
          1,
          5,
          15,
          50,
          100,
          1000
         ],
         "xaxis": "x3",
         "y": [
          0.28972826215225134,
          0.4685349691682158,
          0.3465677813926518,
          0.2769147576945956,
          0.3029345732845766,
          0.27283820614900883,
          0.4688522098630331
         ],
         "yaxis": "y3"
        },
        {
         "line": {
          "color": "rgba(239,85,59,1)"
         },
         "marker": {
          "color": "rgba(239,85,59,1)"
         },
         "mode": "lines+markers",
         "name": "non-linear svm (L)",
         "showlegend": false,
         "type": "scatter",
         "x": [
          0.1,
          1,
          5,
          15,
          50,
          100,
          1000
         ],
         "xaxis": "x3",
         "y": [
          0.278070305474199,
          0.2582911700715586,
          0.2689307147957969,
          0.24257262520086123,
          0.26431346934088984,
          0.26347716330512416,
          0.2903921249187946
         ],
         "yaxis": "y3"
        },
        {
         "line": {
          "color": "rgba(239,85,59,0.2)"
         },
         "mode": "lines",
         "showlegend": false,
         "type": "scatter",
         "x": [
          0.1,
          1,
          5,
          15,
          50,
          100,
          1000
         ],
         "xaxis": "x3",
         "y": [
          0.342487692189831,
          0.3141651483649,
          0.3019369656652463,
          0.2892192274782315,
          0.3136969535958382,
          0.3560178605854213,
          0.33681984082339655
         ],
         "yaxis": "y3"
        },
        {
         "fill": "tonexty",
         "fillcolor": "rgba(239,85,59,0.2)",
         "line": {
          "color": "rgba(255,255,255,0)"
         },
         "mode": "lines",
         "showlegend": false,
         "type": "scatter",
         "x": [
          0.1,
          1,
          5,
          15,
          50,
          100,
          1000
         ],
         "xaxis": "x3",
         "y": [
          0.21365291875856696,
          0.2024171917782172,
          0.23592446392634747,
          0.195926022923491,
          0.21492998508594147,
          0.170936466024827,
          0.2439644090141927
         ],
         "yaxis": "y3"
        },
        {
         "line": {
          "color": "rgba(0,204,150,1)"
         },
         "marker": {
          "color": "rgba(0,204,150,1)"
         },
         "mode": "lines+markers",
         "name": "logistic regression (L)",
         "showlegend": false,
         "type": "scatter",
         "x": [
          0.1,
          1,
          5,
          15,
          50,
          100,
          1000
         ],
         "xaxis": "x3",
         "y": [
          0.16554114075637177,
          0.16554114075637177,
          0.16450524044571851,
          0.16176833130965704,
          0.1629473092295505,
          0.16774394593054426,
          0.1844306686117054
         ],
         "yaxis": "y3"
        },
        {
         "line": {
          "color": "rgba(0,204,150,0.2)"
         },
         "mode": "lines",
         "showlegend": false,
         "type": "scatter",
         "x": [
          0.1,
          1,
          5,
          15,
          50,
          100,
          1000
         ],
         "xaxis": "x3",
         "y": [
          0.2029107003227701,
          0.2029107003227701,
          0.20188816931211093,
          0.19750683861270052,
          0.1995645823145561,
          0.1971403883661827,
          0.21505645562449388
         ],
         "yaxis": "y3"
        },
        {
         "fill": "tonexty",
         "fillcolor": "rgba(0,204,150,0.2)",
         "line": {
          "color": "rgba(255,255,255,0)"
         },
         "mode": "lines",
         "showlegend": false,
         "type": "scatter",
         "x": [
          0.1,
          1,
          5,
          15,
          50,
          100,
          1000
         ],
         "xaxis": "x3",
         "y": [
          0.12817158118997346,
          0.12817158118997346,
          0.1271223115793261,
          0.12602982400661356,
          0.1263300361445449,
          0.13834750349490582,
          0.15380488159891692
         ],
         "yaxis": "y3"
        }
       ],
       "layout": {
        "height": 900,
        "legend": {
         "orientation": "h",
         "x": 0.5,
         "y": 1.15
        },
        "template": {
         "data": {
          "bar": [
           {
            "error_x": {
             "color": "#2a3f5f"
            },
            "error_y": {
             "color": "#2a3f5f"
            },
            "marker": {
             "line": {
              "color": "#E5ECF6",
              "width": 0.5
             },
             "pattern": {
              "fillmode": "overlay",
              "size": 10,
              "solidity": 0.2
             }
            },
            "type": "bar"
           }
          ],
          "barpolar": [
           {
            "marker": {
             "line": {
              "color": "#E5ECF6",
              "width": 0.5
             },
             "pattern": {
              "fillmode": "overlay",
              "size": 10,
              "solidity": 0.2
             }
            },
            "type": "barpolar"
           }
          ],
          "carpet": [
           {
            "aaxis": {
             "endlinecolor": "#2a3f5f",
             "gridcolor": "white",
             "linecolor": "white",
             "minorgridcolor": "white",
             "startlinecolor": "#2a3f5f"
            },
            "baxis": {
             "endlinecolor": "#2a3f5f",
             "gridcolor": "white",
             "linecolor": "white",
             "minorgridcolor": "white",
             "startlinecolor": "#2a3f5f"
            },
            "type": "carpet"
           }
          ],
          "choropleth": [
           {
            "colorbar": {
             "outlinewidth": 0,
             "ticks": ""
            },
            "type": "choropleth"
           }
          ],
          "contour": [
           {
            "colorbar": {
             "outlinewidth": 0,
             "ticks": ""
            },
            "colorscale": [
             [
              0,
              "#0d0887"
             ],
             [
              0.1111111111111111,
              "#46039f"
             ],
             [
              0.2222222222222222,
              "#7201a8"
             ],
             [
              0.3333333333333333,
              "#9c179e"
             ],
             [
              0.4444444444444444,
              "#bd3786"
             ],
             [
              0.5555555555555556,
              "#d8576b"
             ],
             [
              0.6666666666666666,
              "#ed7953"
             ],
             [
              0.7777777777777778,
              "#fb9f3a"
             ],
             [
              0.8888888888888888,
              "#fdca26"
             ],
             [
              1,
              "#f0f921"
             ]
            ],
            "type": "contour"
           }
          ],
          "contourcarpet": [
           {
            "colorbar": {
             "outlinewidth": 0,
             "ticks": ""
            },
            "type": "contourcarpet"
           }
          ],
          "heatmap": [
           {
            "colorbar": {
             "outlinewidth": 0,
             "ticks": ""
            },
            "colorscale": [
             [
              0,
              "#0d0887"
             ],
             [
              0.1111111111111111,
              "#46039f"
             ],
             [
              0.2222222222222222,
              "#7201a8"
             ],
             [
              0.3333333333333333,
              "#9c179e"
             ],
             [
              0.4444444444444444,
              "#bd3786"
             ],
             [
              0.5555555555555556,
              "#d8576b"
             ],
             [
              0.6666666666666666,
              "#ed7953"
             ],
             [
              0.7777777777777778,
              "#fb9f3a"
             ],
             [
              0.8888888888888888,
              "#fdca26"
             ],
             [
              1,
              "#f0f921"
             ]
            ],
            "type": "heatmap"
           }
          ],
          "heatmapgl": [
           {
            "colorbar": {
             "outlinewidth": 0,
             "ticks": ""
            },
            "colorscale": [
             [
              0,
              "#0d0887"
             ],
             [
              0.1111111111111111,
              "#46039f"
             ],
             [
              0.2222222222222222,
              "#7201a8"
             ],
             [
              0.3333333333333333,
              "#9c179e"
             ],
             [
              0.4444444444444444,
              "#bd3786"
             ],
             [
              0.5555555555555556,
              "#d8576b"
             ],
             [
              0.6666666666666666,
              "#ed7953"
             ],
             [
              0.7777777777777778,
              "#fb9f3a"
             ],
             [
              0.8888888888888888,
              "#fdca26"
             ],
             [
              1,
              "#f0f921"
             ]
            ],
            "type": "heatmapgl"
           }
          ],
          "histogram": [
           {
            "marker": {
             "pattern": {
              "fillmode": "overlay",
              "size": 10,
              "solidity": 0.2
             }
            },
            "type": "histogram"
           }
          ],
          "histogram2d": [
           {
            "colorbar": {
             "outlinewidth": 0,
             "ticks": ""
            },
            "colorscale": [
             [
              0,
              "#0d0887"
             ],
             [
              0.1111111111111111,
              "#46039f"
             ],
             [
              0.2222222222222222,
              "#7201a8"
             ],
             [
              0.3333333333333333,
              "#9c179e"
             ],
             [
              0.4444444444444444,
              "#bd3786"
             ],
             [
              0.5555555555555556,
              "#d8576b"
             ],
             [
              0.6666666666666666,
              "#ed7953"
             ],
             [
              0.7777777777777778,
              "#fb9f3a"
             ],
             [
              0.8888888888888888,
              "#fdca26"
             ],
             [
              1,
              "#f0f921"
             ]
            ],
            "type": "histogram2d"
           }
          ],
          "histogram2dcontour": [
           {
            "colorbar": {
             "outlinewidth": 0,
             "ticks": ""
            },
            "colorscale": [
             [
              0,
              "#0d0887"
             ],
             [
              0.1111111111111111,
              "#46039f"
             ],
             [
              0.2222222222222222,
              "#7201a8"
             ],
             [
              0.3333333333333333,
              "#9c179e"
             ],
             [
              0.4444444444444444,
              "#bd3786"
             ],
             [
              0.5555555555555556,
              "#d8576b"
             ],
             [
              0.6666666666666666,
              "#ed7953"
             ],
             [
              0.7777777777777778,
              "#fb9f3a"
             ],
             [
              0.8888888888888888,
              "#fdca26"
             ],
             [
              1,
              "#f0f921"
             ]
            ],
            "type": "histogram2dcontour"
           }
          ],
          "mesh3d": [
           {
            "colorbar": {
             "outlinewidth": 0,
             "ticks": ""
            },
            "type": "mesh3d"
           }
          ],
          "parcoords": [
           {
            "line": {
             "colorbar": {
              "outlinewidth": 0,
              "ticks": ""
             }
            },
            "type": "parcoords"
           }
          ],
          "pie": [
           {
            "automargin": true,
            "type": "pie"
           }
          ],
          "scatter": [
           {
            "fillpattern": {
             "fillmode": "overlay",
             "size": 10,
             "solidity": 0.2
            },
            "type": "scatter"
           }
          ],
          "scatter3d": [
           {
            "line": {
             "colorbar": {
              "outlinewidth": 0,
              "ticks": ""
             }
            },
            "marker": {
             "colorbar": {
              "outlinewidth": 0,
              "ticks": ""
             }
            },
            "type": "scatter3d"
           }
          ],
          "scattercarpet": [
           {
            "marker": {
             "colorbar": {
              "outlinewidth": 0,
              "ticks": ""
             }
            },
            "type": "scattercarpet"
           }
          ],
          "scattergeo": [
           {
            "marker": {
             "colorbar": {
              "outlinewidth": 0,
              "ticks": ""
             }
            },
            "type": "scattergeo"
           }
          ],
          "scattergl": [
           {
            "marker": {
             "colorbar": {
              "outlinewidth": 0,
              "ticks": ""
             }
            },
            "type": "scattergl"
           }
          ],
          "scattermapbox": [
           {
            "marker": {
             "colorbar": {
              "outlinewidth": 0,
              "ticks": ""
             }
            },
            "type": "scattermapbox"
           }
          ],
          "scatterpolar": [
           {
            "marker": {
             "colorbar": {
              "outlinewidth": 0,
              "ticks": ""
             }
            },
            "type": "scatterpolar"
           }
          ],
          "scatterpolargl": [
           {
            "marker": {
             "colorbar": {
              "outlinewidth": 0,
              "ticks": ""
             }
            },
            "type": "scatterpolargl"
           }
          ],
          "scatterternary": [
           {
            "marker": {
             "colorbar": {
              "outlinewidth": 0,
              "ticks": ""
             }
            },
            "type": "scatterternary"
           }
          ],
          "surface": [
           {
            "colorbar": {
             "outlinewidth": 0,
             "ticks": ""
            },
            "colorscale": [
             [
              0,
              "#0d0887"
             ],
             [
              0.1111111111111111,
              "#46039f"
             ],
             [
              0.2222222222222222,
              "#7201a8"
             ],
             [
              0.3333333333333333,
              "#9c179e"
             ],
             [
              0.4444444444444444,
              "#bd3786"
             ],
             [
              0.5555555555555556,
              "#d8576b"
             ],
             [
              0.6666666666666666,
              "#ed7953"
             ],
             [
              0.7777777777777778,
              "#fb9f3a"
             ],
             [
              0.8888888888888888,
              "#fdca26"
             ],
             [
              1,
              "#f0f921"
             ]
            ],
            "type": "surface"
           }
          ],
          "table": [
           {
            "cells": {
             "fill": {
              "color": "#EBF0F8"
             },
             "line": {
              "color": "white"
             }
            },
            "header": {
             "fill": {
              "color": "#C8D4E3"
             },
             "line": {
              "color": "white"
             }
            },
            "type": "table"
           }
          ]
         },
         "layout": {
          "annotationdefaults": {
           "arrowcolor": "#2a3f5f",
           "arrowhead": 0,
           "arrowwidth": 1
          },
          "autotypenumbers": "strict",
          "coloraxis": {
           "colorbar": {
            "outlinewidth": 0,
            "ticks": ""
           }
          },
          "colorscale": {
           "diverging": [
            [
             0,
             "#8e0152"
            ],
            [
             0.1,
             "#c51b7d"
            ],
            [
             0.2,
             "#de77ae"
            ],
            [
             0.3,
             "#f1b6da"
            ],
            [
             0.4,
             "#fde0ef"
            ],
            [
             0.5,
             "#f7f7f7"
            ],
            [
             0.6,
             "#e6f5d0"
            ],
            [
             0.7,
             "#b8e186"
            ],
            [
             0.8,
             "#7fbc41"
            ],
            [
             0.9,
             "#4d9221"
            ],
            [
             1,
             "#276419"
            ]
           ],
           "sequential": [
            [
             0,
             "#0d0887"
            ],
            [
             0.1111111111111111,
             "#46039f"
            ],
            [
             0.2222222222222222,
             "#7201a8"
            ],
            [
             0.3333333333333333,
             "#9c179e"
            ],
            [
             0.4444444444444444,
             "#bd3786"
            ],
            [
             0.5555555555555556,
             "#d8576b"
            ],
            [
             0.6666666666666666,
             "#ed7953"
            ],
            [
             0.7777777777777778,
             "#fb9f3a"
            ],
            [
             0.8888888888888888,
             "#fdca26"
            ],
            [
             1,
             "#f0f921"
            ]
           ],
           "sequentialminus": [
            [
             0,
             "#0d0887"
            ],
            [
             0.1111111111111111,
             "#46039f"
            ],
            [
             0.2222222222222222,
             "#7201a8"
            ],
            [
             0.3333333333333333,
             "#9c179e"
            ],
            [
             0.4444444444444444,
             "#bd3786"
            ],
            [
             0.5555555555555556,
             "#d8576b"
            ],
            [
             0.6666666666666666,
             "#ed7953"
            ],
            [
             0.7777777777777778,
             "#fb9f3a"
            ],
            [
             0.8888888888888888,
             "#fdca26"
            ],
            [
             1,
             "#f0f921"
            ]
           ]
          },
          "colorway": [
           "#636efa",
           "#EF553B",
           "#00cc96",
           "#ab63fa",
           "#FFA15A",
           "#19d3f3",
           "#FF6692",
           "#B6E880",
           "#FF97FF",
           "#FECB52"
          ],
          "font": {
           "color": "#2a3f5f"
          },
          "geo": {
           "bgcolor": "white",
           "lakecolor": "white",
           "landcolor": "#E5ECF6",
           "showlakes": true,
           "showland": true,
           "subunitcolor": "white"
          },
          "hoverlabel": {
           "align": "left"
          },
          "hovermode": "closest",
          "mapbox": {
           "style": "light"
          },
          "paper_bgcolor": "white",
          "plot_bgcolor": "#E5ECF6",
          "polar": {
           "angularaxis": {
            "gridcolor": "white",
            "linecolor": "white",
            "ticks": ""
           },
           "bgcolor": "#E5ECF6",
           "radialaxis": {
            "gridcolor": "white",
            "linecolor": "white",
            "ticks": ""
           }
          },
          "scene": {
           "xaxis": {
            "backgroundcolor": "#E5ECF6",
            "gridcolor": "white",
            "gridwidth": 2,
            "linecolor": "white",
            "showbackground": true,
            "ticks": "",
            "zerolinecolor": "white"
           },
           "yaxis": {
            "backgroundcolor": "#E5ECF6",
            "gridcolor": "white",
            "gridwidth": 2,
            "linecolor": "white",
            "showbackground": true,
            "ticks": "",
            "zerolinecolor": "white"
           },
           "zaxis": {
            "backgroundcolor": "#E5ECF6",
            "gridcolor": "white",
            "gridwidth": 2,
            "linecolor": "white",
            "showbackground": true,
            "ticks": "",
            "zerolinecolor": "white"
           }
          },
          "shapedefaults": {
           "line": {
            "color": "#2a3f5f"
           }
          },
          "ternary": {
           "aaxis": {
            "gridcolor": "white",
            "linecolor": "white",
            "ticks": ""
           },
           "baxis": {
            "gridcolor": "white",
            "linecolor": "white",
            "ticks": ""
           },
           "bgcolor": "#E5ECF6",
           "caxis": {
            "gridcolor": "white",
            "linecolor": "white",
            "ticks": ""
           }
          },
          "title": {
           "x": 0.05
          },
          "xaxis": {
           "automargin": true,
           "gridcolor": "white",
           "linecolor": "white",
           "ticks": "",
           "title": {
            "standoff": 15
           },
           "zerolinecolor": "white",
           "zerolinewidth": 2
          },
          "yaxis": {
           "automargin": true,
           "gridcolor": "white",
           "linecolor": "white",
           "ticks": "",
           "title": {
            "standoff": 15
           },
           "zerolinecolor": "white",
           "zerolinewidth": 2
          }
         }
        },
        "width": 600,
        "xaxis": {
         "anchor": "y",
         "domain": [
          0,
          1
         ],
         "title": {
          "font": {
           "size": 16
          },
          "text": "C2"
         }
        },
        "xaxis2": {
         "anchor": "y2",
         "domain": [
          0,
          1
         ],
         "title": {
          "font": {
           "size": 16
          },
          "text": "C2"
         }
        },
        "xaxis3": {
         "anchor": "y3",
         "domain": [
          0,
          1
         ],
         "title": {
          "text": "C2"
         }
        },
        "yaxis": {
         "anchor": "x",
         "domain": [
          0.7333333333333333,
          1
         ],
         "range": [
          0,
          1
         ],
         "side": "right",
         "title": {
          "font": {
           "size": 16
          },
          "text": "auc"
         }
        },
        "yaxis2": {
         "anchor": "x2",
         "domain": [
          0.36666666666666664,
          0.6333333333333333
         ],
         "range": [
          0,
          1
         ],
         "side": "right",
         "title": {
          "font": {
           "size": 16
          },
          "text": "violation_rate"
         }
        },
        "yaxis3": {
         "anchor": "x3",
         "domain": [
          0,
          0.26666666666666666
         ],
         "range": [
          0,
          1
         ],
         "side": "right",
         "title": {
          "font": {
           "size": 16
          },
          "text": "violation_rate (instance)"
         }
        }
       }
      }
     },
     "metadata": {},
     "output_type": "display_data"
    }
   ],
   "source": [
    "import plotly.graph_objects as go\n",
    "from plotly.subplots import make_subplots\n",
    "\n",
    "\n",
    "# グラフのデータを準備\n",
    "# index = ['l-SVM-p', 'r-SVM-p', 'LogReg-p']\n",
    "\n",
    "index = [\n",
    "    'linear svm (L)', \n",
    "    'non-linear svm (L)', \n",
    "    'logistic regression (L)'\n",
    "]\n",
    "\n",
    "# index = [\n",
    "#     'linear svm', \n",
    "#     'non-linear svm', \n",
    "#     'logistic regression'\n",
    "# ]\n",
    "\n",
    "# index = [\n",
    "#     'RuleFit Classifier (disc)',\n",
    "#     'tree generator (disc)',\n",
    "#     'RuleFit Classifier (conti)', \n",
    "#     'tree generator (conti)',\n",
    "# ]\n",
    "\n",
    "columns = ['auc', 'violation_rate', 'violation_rate (instance)']\n",
    "\n",
    "title_text = \"C2\"\n",
    "\n",
    "\n",
    "# サブプロットの作成\n",
    "# fig = make_subplots(rows=1, cols=2, subplot_titles=('AUC', 'ルール違反率'))\n",
    "fig = make_subplots(rows=len(columns), cols=1)\n",
    "showlegend=True\n",
    "\n",
    "for row_num, col in enumerate(columns):\n",
    "    tmp_mean = pd.DataFrame(\n",
    "        [{info: df.loc[model_name, col] for info, df in zip(infos, dfs_mean)} for model_name in index],\n",
    "        index=index\n",
    "    )\n",
    "    tmp_std = pd.DataFrame(\n",
    "        [{info: df.loc[model_name, col] for info, df in zip(infos, dfs_std)} for model_name in index],\n",
    "        index=index\n",
    "    )\n",
    "\n",
    "    # グラフ1: AUC\n",
    "    for i in range(len(tmp_mean)):\n",
    "        fig.add_trace(\n",
    "            go.Scatter(\n",
    "                x=tmp_mean.columns,\n",
    "                y=tmp_mean.iloc[i, :],\n",
    "                mode='lines+markers',\n",
    "                name=tmp_mean.index[i],\n",
    "                line=dict(color=colors_mean[i]),  # ラインの色を設定\n",
    "                marker=dict(color=colors_mean[i]),  # マーカーの色を設定\n",
    "                showlegend=showlegend,\n",
    "            ),\n",
    "            row=row_num+1, col=1\n",
    "        )\n",
    "        fig.add_trace(\n",
    "            go.Scatter(\n",
    "                x=tmp_mean.columns,\n",
    "                y=tmp_mean.iloc[i, :] + tmp_std.iloc[i, :],\n",
    "                mode='lines',\n",
    "                line=dict(color=colors_std[i]),  # ラインの色を設定\n",
    "                showlegend=False\n",
    "            ),\n",
    "            row=row_num+1, col=1\n",
    "        )\n",
    "        fig.add_trace(\n",
    "            go.Scatter(\n",
    "                x=tmp_mean.columns,\n",
    "                y=tmp_mean.iloc[i, :] - tmp_std.iloc[i, :],\n",
    "                mode='lines',\n",
    "                fill='tonexty',\n",
    "                fillcolor=colors_std[i],\n",
    "                line=dict(color='rgba(255,255,255,0)'),\n",
    "                showlegend=False\n",
    "            ),\n",
    "            row=row_num+1, col=1\n",
    "        )\n",
    "    \n",
    "    # x, y 軸の設定\n",
    "    # fig.update_xaxes(title_text=title_text, row=row_num+1, col=1, tickvals=[num / 5 for num in range(6)])\n",
    "    fig.update_xaxes(title_text=title_text, row=row_num+1, col=1)\n",
    "    fig.update_yaxes(title_text=col, range=[0, 1], row=row_num+1, col=1, side='right', title_font=dict(size=16))\n",
    "\n",
    "    showlegend=False\n",
    "    \n",
    "# レイアウトの設定\n",
    "fig.update_layout(\n",
    "    height=len(columns) * 300,\n",
    "    width=600,\n",
    "    xaxis=dict(\n",
    "        domain=[0, 1],  # 左側のsubplotの幅を調整\n",
    "        title_font=dict(size=16)\n",
    "    ),\n",
    "    xaxis2=dict(\n",
    "        domain=[0, 1],  # 右側のsubplotの幅を調整\n",
    "        title_font=dict(size=16)\n",
    "    ),\n",
    "    legend=dict(\n",
    "        x=0.5,\n",
    "        y=1.15,\n",
    "        orientation='h'  # 水平配置\n",
    "    ),\n",
    ")\n",
    "\n",
    "\n",
    "# グラフの表示\n",
    "fig.show()"
   ]
  },
  {
   "cell_type": "code",
   "execution_count": 16,
   "metadata": {},
   "outputs": [
    {
     "data": {
      "application/vnd.plotly.v1+json": {
       "config": {
        "plotlyServerURL": "https://plot.ly"
       },
       "data": [
        {
         "line": {
          "color": "rgba(99,110,250,1)"
         },
         "marker": {
          "color": "rgba(99,110,250,1)"
         },
         "mode": "lines+markers",
         "name": "linear svm (L)",
         "showlegend": true,
         "type": "scatter",
         "x": [
          0.1,
          1,
          5,
          15,
          50,
          100,
          1000
         ],
         "xaxis": "x",
         "y": [
          0.7102584780752614,
          0.5643414528489727,
          0.46435064658206676,
          0.4533779777479852,
          0.4715048523880238,
          0.5127937459189251,
          0.6875571484672792
         ],
         "yaxis": "y"
        },
        {
         "line": {
          "color": "rgba(99,110,250,0.2)"
         },
         "mode": "lines",
         "showlegend": false,
         "type": "scatter",
         "x": [
          0.1,
          1,
          5,
          15,
          50,
          100,
          1000
         ],
         "xaxis": "x",
         "y": [
          0.9608368785394448,
          0.8545498844655547,
          0.7270354389499378,
          0.7657638100322872,
          0.7739481611084706,
          0.7899520181160182,
          0.9520077497095916
         ],
         "yaxis": "y"
        },
        {
         "fill": "tonexty",
         "fillcolor": "rgba(99,110,250,0.2)",
         "line": {
          "color": "rgba(255,255,255,0)"
         },
         "mode": "lines",
         "showlegend": false,
         "type": "scatter",
         "x": [
          0.1,
          1,
          5,
          15,
          50,
          100,
          1000
         ],
         "xaxis": "x",
         "y": [
          0.45968007761107804,
          0.2741330212323908,
          0.2016658542141957,
          0.14099214546368327,
          0.16906154366757703,
          0.23563547372183197,
          0.42310654722496693
         ],
         "yaxis": "y"
        },
        {
         "line": {
          "color": "rgba(239,85,59,1)"
         },
         "marker": {
          "color": "rgba(239,85,59,1)"
         },
         "mode": "lines+markers",
         "name": "non-linear svm (L)",
         "showlegend": true,
         "type": "scatter",
         "x": [
          0.1,
          1,
          5,
          15,
          50,
          100,
          1000
         ],
         "xaxis": "x",
         "y": [
          0.8268070464664822,
          0.8276943116381628,
          0.8254922108473768,
          0.8204751773193248,
          0.8092298227062955,
          0.7962148520208243,
          0.7873402136270474
         ],
         "yaxis": "y"
        },
        {
         "line": {
          "color": "rgba(239,85,59,0.2)"
         },
         "mode": "lines",
         "showlegend": false,
         "type": "scatter",
         "x": [
          0.1,
          1,
          5,
          15,
          50,
          100,
          1000
         ],
         "xaxis": "x",
         "y": [
          0.8668858499053688,
          0.8688327223627499,
          0.8665824574342792,
          0.8637410471615518,
          0.8520761866913692,
          0.8355548428156039,
          0.8210500504383633
         ],
         "yaxis": "y"
        },
        {
         "fill": "tonexty",
         "fillcolor": "rgba(239,85,59,0.2)",
         "line": {
          "color": "rgba(255,255,255,0)"
         },
         "mode": "lines",
         "showlegend": false,
         "type": "scatter",
         "x": [
          0.1,
          1,
          5,
          15,
          50,
          100,
          1000
         ],
         "xaxis": "x",
         "y": [
          0.7867282430275956,
          0.7865559009135756,
          0.7844019642604744,
          0.7772093074770979,
          0.7663834587212218,
          0.7568748612260447,
          0.7536303768157315
         ],
         "yaxis": "y"
        },
        {
         "line": {
          "color": "rgba(0,204,150,1)"
         },
         "marker": {
          "color": "rgba(0,204,150,1)"
         },
         "mode": "lines+markers",
         "name": "logistic regression (L)",
         "showlegend": true,
         "type": "scatter",
         "x": [
          0.1,
          1,
          5,
          15,
          50,
          100,
          1000
         ],
         "xaxis": "x",
         "y": [
          0.8236400506905428,
          0.8240965064169672,
          0.8252348706991691,
          0.8283336114782051,
          0.8287965920348345,
          0.8252357956588409,
          0.809856272023936
         ],
         "yaxis": "y"
        },
        {
         "line": {
          "color": "rgba(0,204,150,0.2)"
         },
         "mode": "lines",
         "showlegend": false,
         "type": "scatter",
         "x": [
          0.1,
          1,
          5,
          15,
          50,
          100,
          1000
         ],
         "xaxis": "x",
         "y": [
          0.8747688981739332,
          0.8753058527094776,
          0.876054721439343,
          0.8765927778680443,
          0.8719541096036533,
          0.8633679390825735,
          0.8378172270890545
         ],
         "yaxis": "y"
        },
        {
         "fill": "tonexty",
         "fillcolor": "rgba(0,204,150,0.2)",
         "line": {
          "color": "rgba(255,255,255,0)"
         },
         "mode": "lines",
         "showlegend": false,
         "type": "scatter",
         "x": [
          0.1,
          1,
          5,
          15,
          50,
          100,
          1000
         ],
         "xaxis": "x",
         "y": [
          0.7725112032071524,
          0.7728871601244568,
          0.7744150199589952,
          0.7800744450883658,
          0.7856390744660157,
          0.7871036522351083,
          0.7818953169588174
         ],
         "yaxis": "y"
        },
        {
         "line": {
          "color": "rgba(99,110,250,1)"
         },
         "marker": {
          "color": "rgba(99,110,250,1)"
         },
         "mode": "lines+markers",
         "name": "linear svm (L)",
         "showlegend": false,
         "type": "scatter",
         "x": [
          0.1,
          1,
          5,
          15,
          50,
          100,
          1000
         ],
         "xaxis": "x2",
         "y": [
          0.5872981805334746,
          0.5644223635400106,
          0.658619501854796,
          0.6280824942589648,
          0.6411870694223636,
          0.6055334746511217,
          0.6116445857622328
         ],
         "yaxis": "y2"
        },
        {
         "line": {
          "color": "rgba(99,110,250,0.2)"
         },
         "mode": "lines",
         "showlegend": false,
         "type": "scatter",
         "x": [
          0.1,
          1,
          5,
          15,
          50,
          100,
          1000
         ],
         "xaxis": "x2",
         "y": [
          0.6176447284053294,
          0.6079260021302701,
          0.7600379160969772,
          0.6891382622034152,
          0.7940008047995932,
          0.6638251757468526,
          0.6680351485033
         ],
         "yaxis": "y2"
        },
        {
         "fill": "tonexty",
         "fillcolor": "rgba(99,110,250,0.2)",
         "line": {
          "color": "rgba(255,255,255,0)"
         },
         "mode": "lines",
         "showlegend": false,
         "type": "scatter",
         "x": [
          0.1,
          1,
          5,
          15,
          50,
          100,
          1000
         ],
         "xaxis": "x2",
         "y": [
          0.5569516326616198,
          0.5209187249497511,
          0.5572010876126148,
          0.5670267263145143,
          0.48837333404513394,
          0.5472417735553908,
          0.5552540230211656
         ],
         "yaxis": "y2"
        },
        {
         "line": {
          "color": "rgba(239,85,59,1)"
         },
         "marker": {
          "color": "rgba(239,85,59,1)"
         },
         "mode": "lines+markers",
         "name": "non-linear svm (L)",
         "showlegend": false,
         "type": "scatter",
         "x": [
          0.1,
          1,
          5,
          15,
          50,
          100,
          1000
         ],
         "xaxis": "x2",
         "y": [
          0.6488676912206325,
          0.6649461225931814,
          0.6822204557498674,
          0.6540893835011482,
          0.721815050344462,
          0.6492660307366189,
          0.67586115527292
         ],
         "yaxis": "y2"
        },
        {
         "line": {
          "color": "rgba(239,85,59,0.2)"
         },
         "mode": "lines",
         "showlegend": false,
         "type": "scatter",
         "x": [
          0.1,
          1,
          5,
          15,
          50,
          100,
          1000
         ],
         "xaxis": "x2",
         "y": [
          0.7369174493482168,
          0.8017560615593887,
          0.790734577161869,
          0.7161296794158698,
          0.7817819540284092,
          0.7602683718539045,
          0.755020385012891
         ],
         "yaxis": "y2"
        },
        {
         "fill": "tonexty",
         "fillcolor": "rgba(239,85,59,0.2)",
         "line": {
          "color": "rgba(255,255,255,0)"
         },
         "mode": "lines",
         "showlegend": false,
         "type": "scatter",
         "x": [
          0.1,
          1,
          5,
          15,
          50,
          100,
          1000
         ],
         "xaxis": "x2",
         "y": [
          0.5608179330930482,
          0.5281361836269741,
          0.5737063343378659,
          0.5920490875864266,
          0.6618481466605148,
          0.5382636896193334,
          0.596701925532949
         ],
         "yaxis": "y2"
        },
        {
         "line": {
          "color": "rgba(0,204,150,1)"
         },
         "marker": {
          "color": "rgba(0,204,150,1)"
         },
         "mode": "lines+markers",
         "name": "logistic regression (L)",
         "showlegend": false,
         "type": "scatter",
         "x": [
          0.1,
          1,
          5,
          15,
          50,
          100,
          1000
         ],
         "xaxis": "x2",
         "y": [
          0.5442130365659776,
          0.5442130365659776,
          0.5386574810104221,
          0.5591414944356121,
          0.5712851086380498,
          0.5873962197491609,
          0.46976064299593706
         ],
         "yaxis": "y2"
        },
        {
         "line": {
          "color": "rgba(0,204,150,0.2)"
         },
         "mode": "lines",
         "showlegend": false,
         "type": "scatter",
         "x": [
          0.1,
          1,
          5,
          15,
          50,
          100,
          1000
         ],
         "xaxis": "x2",
         "y": [
          0.6421563854752573,
          0.6421563854752573,
          0.6459826781587705,
          0.6401262715584399,
          0.6458873286140698,
          0.6474809975426317,
          0.5703304703223719
         ],
         "yaxis": "y2"
        },
        {
         "fill": "tonexty",
         "fillcolor": "rgba(0,204,150,0.2)",
         "line": {
          "color": "rgba(255,255,255,0)"
         },
         "mode": "lines",
         "showlegend": false,
         "type": "scatter",
         "x": [
          0.1,
          1,
          5,
          15,
          50,
          100,
          1000
         ],
         "xaxis": "x2",
         "y": [
          0.446269687656698,
          0.446269687656698,
          0.4313322838620737,
          0.4781567173127843,
          0.4966828886620298,
          0.5273114419556901,
          0.36919081566950224
         ],
         "yaxis": "y2"
        },
        {
         "line": {
          "color": "rgba(99,110,250,1)"
         },
         "marker": {
          "color": "rgba(99,110,250,1)"
         },
         "mode": "lines+markers",
         "name": "linear svm (L)",
         "showlegend": false,
         "type": "scatter",
         "x": [
          0.1,
          1,
          5,
          15,
          50,
          100,
          1000
         ],
         "xaxis": "x3",
         "y": [
          0.5952548137773382,
          0.6978352215973929,
          0.6151776451550804,
          0.5846125247860489,
          0.6028308870443075,
          0.5705765101688691,
          0.6993101478510801
         ],
         "yaxis": "y3"
        },
        {
         "line": {
          "color": "rgba(99,110,250,0.2)"
         },
         "mode": "lines",
         "showlegend": false,
         "type": "scatter",
         "x": [
          0.1,
          1,
          5,
          15,
          50,
          100,
          1000
         ],
         "xaxis": "x3",
         "y": [
          0.9007813654024251,
          0.9271354740265699,
          0.8837875089175091,
          0.8923102918775021,
          0.9027272008040385,
          0.8683148141887294,
          0.9297680858391272
         ],
         "yaxis": "y3"
        },
        {
         "fill": "tonexty",
         "fillcolor": "rgba(99,110,250,0.2)",
         "line": {
          "color": "rgba(255,255,255,0)"
         },
         "mode": "lines",
         "showlegend": false,
         "type": "scatter",
         "x": [
          0.1,
          1,
          5,
          15,
          50,
          100,
          1000
         ],
         "xaxis": "x3",
         "y": [
          0.28972826215225134,
          0.4685349691682158,
          0.3465677813926518,
          0.2769147576945956,
          0.3029345732845766,
          0.27283820614900883,
          0.4688522098630331
         ],
         "yaxis": "y3"
        },
        {
         "line": {
          "color": "rgba(239,85,59,1)"
         },
         "marker": {
          "color": "rgba(239,85,59,1)"
         },
         "mode": "lines+markers",
         "name": "non-linear svm (L)",
         "showlegend": false,
         "type": "scatter",
         "x": [
          0.1,
          1,
          5,
          15,
          50,
          100,
          1000
         ],
         "xaxis": "x3",
         "y": [
          0.278070305474199,
          0.2582911700715586,
          0.2689307147957969,
          0.24257262520086123,
          0.26431346934088984,
          0.26347716330512416,
          0.2903921249187946
         ],
         "yaxis": "y3"
        },
        {
         "line": {
          "color": "rgba(239,85,59,0.2)"
         },
         "mode": "lines",
         "showlegend": false,
         "type": "scatter",
         "x": [
          0.1,
          1,
          5,
          15,
          50,
          100,
          1000
         ],
         "xaxis": "x3",
         "y": [
          0.342487692189831,
          0.3141651483649,
          0.3019369656652463,
          0.2892192274782315,
          0.3136969535958382,
          0.3560178605854213,
          0.33681984082339655
         ],
         "yaxis": "y3"
        },
        {
         "fill": "tonexty",
         "fillcolor": "rgba(239,85,59,0.2)",
         "line": {
          "color": "rgba(255,255,255,0)"
         },
         "mode": "lines",
         "showlegend": false,
         "type": "scatter",
         "x": [
          0.1,
          1,
          5,
          15,
          50,
          100,
          1000
         ],
         "xaxis": "x3",
         "y": [
          0.21365291875856696,
          0.2024171917782172,
          0.23592446392634747,
          0.195926022923491,
          0.21492998508594147,
          0.170936466024827,
          0.2439644090141927
         ],
         "yaxis": "y3"
        },
        {
         "line": {
          "color": "rgba(0,204,150,1)"
         },
         "marker": {
          "color": "rgba(0,204,150,1)"
         },
         "mode": "lines+markers",
         "name": "logistic regression (L)",
         "showlegend": false,
         "type": "scatter",
         "x": [
          0.1,
          1,
          5,
          15,
          50,
          100,
          1000
         ],
         "xaxis": "x3",
         "y": [
          0.16554114075637177,
          0.16554114075637177,
          0.16450524044571851,
          0.16176833130965704,
          0.1629473092295505,
          0.16774394593054426,
          0.1844306686117054
         ],
         "yaxis": "y3"
        },
        {
         "line": {
          "color": "rgba(0,204,150,0.2)"
         },
         "mode": "lines",
         "showlegend": false,
         "type": "scatter",
         "x": [
          0.1,
          1,
          5,
          15,
          50,
          100,
          1000
         ],
         "xaxis": "x3",
         "y": [
          0.2029107003227701,
          0.2029107003227701,
          0.20188816931211093,
          0.19750683861270052,
          0.1995645823145561,
          0.1971403883661827,
          0.21505645562449388
         ],
         "yaxis": "y3"
        },
        {
         "fill": "tonexty",
         "fillcolor": "rgba(0,204,150,0.2)",
         "line": {
          "color": "rgba(255,255,255,0)"
         },
         "mode": "lines",
         "showlegend": false,
         "type": "scatter",
         "x": [
          0.1,
          1,
          5,
          15,
          50,
          100,
          1000
         ],
         "xaxis": "x3",
         "y": [
          0.12817158118997346,
          0.12817158118997346,
          0.1271223115793261,
          0.12602982400661356,
          0.1263300361445449,
          0.13834750349490582,
          0.15380488159891692
         ],
         "yaxis": "y3"
        }
       ],
       "layout": {
        "height": 900,
        "legend": {
         "orientation": "h",
         "x": 0.5,
         "y": 1.15
        },
        "template": {
         "data": {
          "bar": [
           {
            "error_x": {
             "color": "#2a3f5f"
            },
            "error_y": {
             "color": "#2a3f5f"
            },
            "marker": {
             "line": {
              "color": "#E5ECF6",
              "width": 0.5
             },
             "pattern": {
              "fillmode": "overlay",
              "size": 10,
              "solidity": 0.2
             }
            },
            "type": "bar"
           }
          ],
          "barpolar": [
           {
            "marker": {
             "line": {
              "color": "#E5ECF6",
              "width": 0.5
             },
             "pattern": {
              "fillmode": "overlay",
              "size": 10,
              "solidity": 0.2
             }
            },
            "type": "barpolar"
           }
          ],
          "carpet": [
           {
            "aaxis": {
             "endlinecolor": "#2a3f5f",
             "gridcolor": "white",
             "linecolor": "white",
             "minorgridcolor": "white",
             "startlinecolor": "#2a3f5f"
            },
            "baxis": {
             "endlinecolor": "#2a3f5f",
             "gridcolor": "white",
             "linecolor": "white",
             "minorgridcolor": "white",
             "startlinecolor": "#2a3f5f"
            },
            "type": "carpet"
           }
          ],
          "choropleth": [
           {
            "colorbar": {
             "outlinewidth": 0,
             "ticks": ""
            },
            "type": "choropleth"
           }
          ],
          "contour": [
           {
            "colorbar": {
             "outlinewidth": 0,
             "ticks": ""
            },
            "colorscale": [
             [
              0,
              "#0d0887"
             ],
             [
              0.1111111111111111,
              "#46039f"
             ],
             [
              0.2222222222222222,
              "#7201a8"
             ],
             [
              0.3333333333333333,
              "#9c179e"
             ],
             [
              0.4444444444444444,
              "#bd3786"
             ],
             [
              0.5555555555555556,
              "#d8576b"
             ],
             [
              0.6666666666666666,
              "#ed7953"
             ],
             [
              0.7777777777777778,
              "#fb9f3a"
             ],
             [
              0.8888888888888888,
              "#fdca26"
             ],
             [
              1,
              "#f0f921"
             ]
            ],
            "type": "contour"
           }
          ],
          "contourcarpet": [
           {
            "colorbar": {
             "outlinewidth": 0,
             "ticks": ""
            },
            "type": "contourcarpet"
           }
          ],
          "heatmap": [
           {
            "colorbar": {
             "outlinewidth": 0,
             "ticks": ""
            },
            "colorscale": [
             [
              0,
              "#0d0887"
             ],
             [
              0.1111111111111111,
              "#46039f"
             ],
             [
              0.2222222222222222,
              "#7201a8"
             ],
             [
              0.3333333333333333,
              "#9c179e"
             ],
             [
              0.4444444444444444,
              "#bd3786"
             ],
             [
              0.5555555555555556,
              "#d8576b"
             ],
             [
              0.6666666666666666,
              "#ed7953"
             ],
             [
              0.7777777777777778,
              "#fb9f3a"
             ],
             [
              0.8888888888888888,
              "#fdca26"
             ],
             [
              1,
              "#f0f921"
             ]
            ],
            "type": "heatmap"
           }
          ],
          "heatmapgl": [
           {
            "colorbar": {
             "outlinewidth": 0,
             "ticks": ""
            },
            "colorscale": [
             [
              0,
              "#0d0887"
             ],
             [
              0.1111111111111111,
              "#46039f"
             ],
             [
              0.2222222222222222,
              "#7201a8"
             ],
             [
              0.3333333333333333,
              "#9c179e"
             ],
             [
              0.4444444444444444,
              "#bd3786"
             ],
             [
              0.5555555555555556,
              "#d8576b"
             ],
             [
              0.6666666666666666,
              "#ed7953"
             ],
             [
              0.7777777777777778,
              "#fb9f3a"
             ],
             [
              0.8888888888888888,
              "#fdca26"
             ],
             [
              1,
              "#f0f921"
             ]
            ],
            "type": "heatmapgl"
           }
          ],
          "histogram": [
           {
            "marker": {
             "pattern": {
              "fillmode": "overlay",
              "size": 10,
              "solidity": 0.2
             }
            },
            "type": "histogram"
           }
          ],
          "histogram2d": [
           {
            "colorbar": {
             "outlinewidth": 0,
             "ticks": ""
            },
            "colorscale": [
             [
              0,
              "#0d0887"
             ],
             [
              0.1111111111111111,
              "#46039f"
             ],
             [
              0.2222222222222222,
              "#7201a8"
             ],
             [
              0.3333333333333333,
              "#9c179e"
             ],
             [
              0.4444444444444444,
              "#bd3786"
             ],
             [
              0.5555555555555556,
              "#d8576b"
             ],
             [
              0.6666666666666666,
              "#ed7953"
             ],
             [
              0.7777777777777778,
              "#fb9f3a"
             ],
             [
              0.8888888888888888,
              "#fdca26"
             ],
             [
              1,
              "#f0f921"
             ]
            ],
            "type": "histogram2d"
           }
          ],
          "histogram2dcontour": [
           {
            "colorbar": {
             "outlinewidth": 0,
             "ticks": ""
            },
            "colorscale": [
             [
              0,
              "#0d0887"
             ],
             [
              0.1111111111111111,
              "#46039f"
             ],
             [
              0.2222222222222222,
              "#7201a8"
             ],
             [
              0.3333333333333333,
              "#9c179e"
             ],
             [
              0.4444444444444444,
              "#bd3786"
             ],
             [
              0.5555555555555556,
              "#d8576b"
             ],
             [
              0.6666666666666666,
              "#ed7953"
             ],
             [
              0.7777777777777778,
              "#fb9f3a"
             ],
             [
              0.8888888888888888,
              "#fdca26"
             ],
             [
              1,
              "#f0f921"
             ]
            ],
            "type": "histogram2dcontour"
           }
          ],
          "mesh3d": [
           {
            "colorbar": {
             "outlinewidth": 0,
             "ticks": ""
            },
            "type": "mesh3d"
           }
          ],
          "parcoords": [
           {
            "line": {
             "colorbar": {
              "outlinewidth": 0,
              "ticks": ""
             }
            },
            "type": "parcoords"
           }
          ],
          "pie": [
           {
            "automargin": true,
            "type": "pie"
           }
          ],
          "scatter": [
           {
            "fillpattern": {
             "fillmode": "overlay",
             "size": 10,
             "solidity": 0.2
            },
            "type": "scatter"
           }
          ],
          "scatter3d": [
           {
            "line": {
             "colorbar": {
              "outlinewidth": 0,
              "ticks": ""
             }
            },
            "marker": {
             "colorbar": {
              "outlinewidth": 0,
              "ticks": ""
             }
            },
            "type": "scatter3d"
           }
          ],
          "scattercarpet": [
           {
            "marker": {
             "colorbar": {
              "outlinewidth": 0,
              "ticks": ""
             }
            },
            "type": "scattercarpet"
           }
          ],
          "scattergeo": [
           {
            "marker": {
             "colorbar": {
              "outlinewidth": 0,
              "ticks": ""
             }
            },
            "type": "scattergeo"
           }
          ],
          "scattergl": [
           {
            "marker": {
             "colorbar": {
              "outlinewidth": 0,
              "ticks": ""
             }
            },
            "type": "scattergl"
           }
          ],
          "scattermapbox": [
           {
            "marker": {
             "colorbar": {
              "outlinewidth": 0,
              "ticks": ""
             }
            },
            "type": "scattermapbox"
           }
          ],
          "scatterpolar": [
           {
            "marker": {
             "colorbar": {
              "outlinewidth": 0,
              "ticks": ""
             }
            },
            "type": "scatterpolar"
           }
          ],
          "scatterpolargl": [
           {
            "marker": {
             "colorbar": {
              "outlinewidth": 0,
              "ticks": ""
             }
            },
            "type": "scatterpolargl"
           }
          ],
          "scatterternary": [
           {
            "marker": {
             "colorbar": {
              "outlinewidth": 0,
              "ticks": ""
             }
            },
            "type": "scatterternary"
           }
          ],
          "surface": [
           {
            "colorbar": {
             "outlinewidth": 0,
             "ticks": ""
            },
            "colorscale": [
             [
              0,
              "#0d0887"
             ],
             [
              0.1111111111111111,
              "#46039f"
             ],
             [
              0.2222222222222222,
              "#7201a8"
             ],
             [
              0.3333333333333333,
              "#9c179e"
             ],
             [
              0.4444444444444444,
              "#bd3786"
             ],
             [
              0.5555555555555556,
              "#d8576b"
             ],
             [
              0.6666666666666666,
              "#ed7953"
             ],
             [
              0.7777777777777778,
              "#fb9f3a"
             ],
             [
              0.8888888888888888,
              "#fdca26"
             ],
             [
              1,
              "#f0f921"
             ]
            ],
            "type": "surface"
           }
          ],
          "table": [
           {
            "cells": {
             "fill": {
              "color": "#EBF0F8"
             },
             "line": {
              "color": "white"
             }
            },
            "header": {
             "fill": {
              "color": "#C8D4E3"
             },
             "line": {
              "color": "white"
             }
            },
            "type": "table"
           }
          ]
         },
         "layout": {
          "annotationdefaults": {
           "arrowcolor": "#2a3f5f",
           "arrowhead": 0,
           "arrowwidth": 1
          },
          "autotypenumbers": "strict",
          "coloraxis": {
           "colorbar": {
            "outlinewidth": 0,
            "ticks": ""
           }
          },
          "colorscale": {
           "diverging": [
            [
             0,
             "#8e0152"
            ],
            [
             0.1,
             "#c51b7d"
            ],
            [
             0.2,
             "#de77ae"
            ],
            [
             0.3,
             "#f1b6da"
            ],
            [
             0.4,
             "#fde0ef"
            ],
            [
             0.5,
             "#f7f7f7"
            ],
            [
             0.6,
             "#e6f5d0"
            ],
            [
             0.7,
             "#b8e186"
            ],
            [
             0.8,
             "#7fbc41"
            ],
            [
             0.9,
             "#4d9221"
            ],
            [
             1,
             "#276419"
            ]
           ],
           "sequential": [
            [
             0,
             "#0d0887"
            ],
            [
             0.1111111111111111,
             "#46039f"
            ],
            [
             0.2222222222222222,
             "#7201a8"
            ],
            [
             0.3333333333333333,
             "#9c179e"
            ],
            [
             0.4444444444444444,
             "#bd3786"
            ],
            [
             0.5555555555555556,
             "#d8576b"
            ],
            [
             0.6666666666666666,
             "#ed7953"
            ],
            [
             0.7777777777777778,
             "#fb9f3a"
            ],
            [
             0.8888888888888888,
             "#fdca26"
            ],
            [
             1,
             "#f0f921"
            ]
           ],
           "sequentialminus": [
            [
             0,
             "#0d0887"
            ],
            [
             0.1111111111111111,
             "#46039f"
            ],
            [
             0.2222222222222222,
             "#7201a8"
            ],
            [
             0.3333333333333333,
             "#9c179e"
            ],
            [
             0.4444444444444444,
             "#bd3786"
            ],
            [
             0.5555555555555556,
             "#d8576b"
            ],
            [
             0.6666666666666666,
             "#ed7953"
            ],
            [
             0.7777777777777778,
             "#fb9f3a"
            ],
            [
             0.8888888888888888,
             "#fdca26"
            ],
            [
             1,
             "#f0f921"
            ]
           ]
          },
          "colorway": [
           "#636efa",
           "#EF553B",
           "#00cc96",
           "#ab63fa",
           "#FFA15A",
           "#19d3f3",
           "#FF6692",
           "#B6E880",
           "#FF97FF",
           "#FECB52"
          ],
          "font": {
           "color": "#2a3f5f"
          },
          "geo": {
           "bgcolor": "white",
           "lakecolor": "white",
           "landcolor": "#E5ECF6",
           "showlakes": true,
           "showland": true,
           "subunitcolor": "white"
          },
          "hoverlabel": {
           "align": "left"
          },
          "hovermode": "closest",
          "mapbox": {
           "style": "light"
          },
          "paper_bgcolor": "white",
          "plot_bgcolor": "#E5ECF6",
          "polar": {
           "angularaxis": {
            "gridcolor": "white",
            "linecolor": "white",
            "ticks": ""
           },
           "bgcolor": "#E5ECF6",
           "radialaxis": {
            "gridcolor": "white",
            "linecolor": "white",
            "ticks": ""
           }
          },
          "scene": {
           "xaxis": {
            "backgroundcolor": "#E5ECF6",
            "gridcolor": "white",
            "gridwidth": 2,
            "linecolor": "white",
            "showbackground": true,
            "ticks": "",
            "zerolinecolor": "white"
           },
           "yaxis": {
            "backgroundcolor": "#E5ECF6",
            "gridcolor": "white",
            "gridwidth": 2,
            "linecolor": "white",
            "showbackground": true,
            "ticks": "",
            "zerolinecolor": "white"
           },
           "zaxis": {
            "backgroundcolor": "#E5ECF6",
            "gridcolor": "white",
            "gridwidth": 2,
            "linecolor": "white",
            "showbackground": true,
            "ticks": "",
            "zerolinecolor": "white"
           }
          },
          "shapedefaults": {
           "line": {
            "color": "#2a3f5f"
           }
          },
          "ternary": {
           "aaxis": {
            "gridcolor": "white",
            "linecolor": "white",
            "ticks": ""
           },
           "baxis": {
            "gridcolor": "white",
            "linecolor": "white",
            "ticks": ""
           },
           "bgcolor": "#E5ECF6",
           "caxis": {
            "gridcolor": "white",
            "linecolor": "white",
            "ticks": ""
           }
          },
          "title": {
           "x": 0.05
          },
          "xaxis": {
           "automargin": true,
           "gridcolor": "white",
           "linecolor": "white",
           "ticks": "",
           "title": {
            "standoff": 15
           },
           "zerolinecolor": "white",
           "zerolinewidth": 2
          },
          "yaxis": {
           "automargin": true,
           "gridcolor": "white",
           "linecolor": "white",
           "ticks": "",
           "title": {
            "standoff": 15
           },
           "zerolinecolor": "white",
           "zerolinewidth": 2
          }
         }
        },
        "width": 600,
        "xaxis": {
         "anchor": "y",
         "domain": [
          0,
          1
         ],
         "title": {
          "font": {
           "size": 16
          },
          "text": "C2"
         }
        },
        "xaxis2": {
         "anchor": "y2",
         "domain": [
          0,
          1
         ],
         "title": {
          "font": {
           "size": 16
          },
          "text": "C2"
         }
        },
        "xaxis3": {
         "anchor": "y3",
         "domain": [
          0,
          1
         ],
         "title": {
          "text": "C2"
         }
        },
        "yaxis": {
         "anchor": "x",
         "domain": [
          0.7333333333333333,
          1
         ],
         "range": [
          0,
          1
         ],
         "side": "right",
         "title": {
          "font": {
           "size": 16
          },
          "text": "auc"
         }
        },
        "yaxis2": {
         "anchor": "x2",
         "domain": [
          0.36666666666666664,
          0.6333333333333333
         ],
         "range": [
          0,
          1
         ],
         "side": "right",
         "title": {
          "font": {
           "size": 16
          },
          "text": "violation_rate"
         }
        },
        "yaxis3": {
         "anchor": "x3",
         "domain": [
          0,
          0.26666666666666666
         ],
         "range": [
          0,
          1
         ],
         "side": "right",
         "title": {
          "font": {
           "size": 16
          },
          "text": "violation_rate (instance)"
         }
        }
       }
      }
     },
     "metadata": {},
     "output_type": "display_data"
    }
   ],
   "source": [
    "import plotly.graph_objects as go\n",
    "from plotly.subplots import make_subplots\n",
    "\n",
    "\n",
    "# グラフのデータを準備\n",
    "# index = ['l-SVM-p', 'r-SVM-p', 'LogReg-p']\n",
    "\n",
    "index = [\n",
    "    'linear svm (L)', \n",
    "    'non-linear svm (L)', \n",
    "    'logistic regression (L)'\n",
    "]\n",
    "\n",
    "# index = [\n",
    "#     'linear svm', \n",
    "#     'non-linear svm', \n",
    "#     'logistic regression'\n",
    "# ]\n",
    "\n",
    "# index = [\n",
    "#     'RuleFit Classifier (disc)',\n",
    "#     'tree generator (disc)',\n",
    "#     'RuleFit Classifier (conti)', \n",
    "#     'tree generator (conti)',\n",
    "# ]\n",
    "\n",
    "columns = ['auc', 'violation_rate', 'violation_rate (instance)']\n",
    "\n",
    "title_text = \"C2\"\n",
    "\n",
    "\n",
    "# サブプロットの作成\n",
    "# fig = make_subplots(rows=1, cols=2, subplot_titles=('AUC', 'ルール違反率'))\n",
    "fig = make_subplots(rows=len(columns), cols=1)\n",
    "showlegend=True\n",
    "\n",
    "for row_num, col in enumerate(columns):\n",
    "    tmp_mean = pd.DataFrame(\n",
    "        [{info: df.loc[model_name, col] for info, df in zip(infos, dfs_mean)} for model_name in index],\n",
    "        index=index\n",
    "    )\n",
    "    tmp_std = pd.DataFrame(\n",
    "        [{info: df.loc[model_name, col] for info, df in zip(infos, dfs_std)} for model_name in index],\n",
    "        index=index\n",
    "    )\n",
    "\n",
    "    # グラフ1: AUC\n",
    "    for i in range(len(tmp_mean)):\n",
    "        fig.add_trace(\n",
    "            go.Scatter(\n",
    "                x=tmp_mean.columns,\n",
    "                y=tmp_mean.iloc[i, :],\n",
    "                mode='lines+markers',\n",
    "                name=tmp_mean.index[i],\n",
    "                line=dict(color=colors_mean[i]),  # ラインの色を設定\n",
    "                marker=dict(color=colors_mean[i]),  # マーカーの色を設定\n",
    "                showlegend=showlegend,\n",
    "            ),\n",
    "            row=row_num+1, col=1\n",
    "        )\n",
    "        fig.add_trace(\n",
    "            go.Scatter(\n",
    "                x=tmp_mean.columns,\n",
    "                y=tmp_mean.iloc[i, :] + tmp_std.iloc[i, :],\n",
    "                mode='lines',\n",
    "                line=dict(color=colors_std[i]),  # ラインの色を設定\n",
    "                showlegend=False\n",
    "            ),\n",
    "            row=row_num+1, col=1\n",
    "        )\n",
    "        fig.add_trace(\n",
    "            go.Scatter(\n",
    "                x=tmp_mean.columns,\n",
    "                y=tmp_mean.iloc[i, :] - tmp_std.iloc[i, :],\n",
    "                mode='lines',\n",
    "                fill='tonexty',\n",
    "                fillcolor=colors_std[i],\n",
    "                line=dict(color='rgba(255,255,255,0)'),\n",
    "                showlegend=False\n",
    "            ),\n",
    "            row=row_num+1, col=1\n",
    "        )\n",
    "    \n",
    "    # x, y 軸の設定\n",
    "    # fig.update_xaxes(title_text=title_text, row=row_num+1, col=1, tickvals=[num / 5 for num in range(6)])\n",
    "    fig.update_xaxes(title_text=title_text, row=row_num+1, col=1)\n",
    "    fig.update_yaxes(title_text=col, range=[0, 1], row=row_num+1, col=1, side='right', title_font=dict(size=16))\n",
    "\n",
    "    showlegend=False\n",
    "    \n",
    "# レイアウトの設定\n",
    "fig.update_layout(\n",
    "    height=len(columns) * 300,\n",
    "    width=600,\n",
    "    xaxis=dict(\n",
    "        domain=[0, 1],  # 左側のsubplotの幅を調整\n",
    "        title_font=dict(size=16)\n",
    "    ),\n",
    "    xaxis2=dict(\n",
    "        domain=[0, 1],  # 右側のsubplotの幅を調整\n",
    "        title_font=dict(size=16)\n",
    "    ),\n",
    "    legend=dict(\n",
    "        x=0.5,\n",
    "        y=1.15,\n",
    "        orientation='h'  # 水平配置\n",
    "    ),\n",
    ")\n",
    "\n",
    "\n",
    "# グラフの表示\n",
    "fig.show()"
   ]
  },
  {
   "cell_type": "code",
   "execution_count": null,
   "metadata": {},
   "outputs": [],
   "source": []
  },
  {
   "cell_type": "code",
   "execution_count": 17,
   "metadata": {},
   "outputs": [
    {
     "data": {
      "application/vnd.plotly.v1+json": {
       "config": {
        "plotlyServerURL": "https://plot.ly"
       },
       "data": [
        {
         "line": {
          "color": "rgba(99,110,250,1)"
         },
         "marker": {
          "color": "rgba(99,110,250,1)"
         },
         "mode": "lines+markers",
         "name": "linear svm",
         "showlegend": true,
         "type": "scatter",
         "x": [
          0.1,
          1,
          5,
          15,
          50,
          100,
          1000
         ],
         "xaxis": "x",
         "y": [
          0.8378045112241415,
          0.8378045112241415,
          0.8378045112241415,
          0.8378045112241415,
          0.8378045112241415,
          0.8378045112241415,
          0.8378045112241415
         ],
         "yaxis": "y"
        },
        {
         "line": {
          "color": "rgba(99,110,250,0.2)"
         },
         "mode": "lines",
         "showlegend": false,
         "type": "scatter",
         "x": [
          0.1,
          1,
          5,
          15,
          50,
          100,
          1000
         ],
         "xaxis": "x",
         "y": [
          0.8831807779515406,
          0.8831807779515406,
          0.8831807779515406,
          0.8831807779515406,
          0.8831807779515406,
          0.8831807779515406,
          0.8831807779515406
         ],
         "yaxis": "y"
        },
        {
         "fill": "tonexty",
         "fillcolor": "rgba(99,110,250,0.2)",
         "line": {
          "color": "rgba(255,255,255,0)"
         },
         "mode": "lines",
         "showlegend": false,
         "type": "scatter",
         "x": [
          0.1,
          1,
          5,
          15,
          50,
          100,
          1000
         ],
         "xaxis": "x",
         "y": [
          0.7924282444967423,
          0.7924282444967423,
          0.7924282444967423,
          0.7924282444967423,
          0.7924282444967423,
          0.7924282444967423,
          0.7924282444967423
         ],
         "yaxis": "y"
        },
        {
         "line": {
          "color": "rgba(239,85,59,1)"
         },
         "marker": {
          "color": "rgba(239,85,59,1)"
         },
         "mode": "lines+markers",
         "name": "non-linear svm",
         "showlegend": true,
         "type": "scatter",
         "x": [
          0.1,
          1,
          5,
          15,
          50,
          100,
          1000
         ],
         "xaxis": "x",
         "y": [
          0.8380644745522868,
          0.8380644745522868,
          0.8380644745522868,
          0.8380644745522868,
          0.8380644745522868,
          0.8380644745522868,
          0.8380644745522868
         ],
         "yaxis": "y"
        },
        {
         "line": {
          "color": "rgba(239,85,59,0.2)"
         },
         "mode": "lines",
         "showlegend": false,
         "type": "scatter",
         "x": [
          0.1,
          1,
          5,
          15,
          50,
          100,
          1000
         ],
         "xaxis": "x",
         "y": [
          0.8867611205283645,
          0.8867611205283645,
          0.8867611205283645,
          0.8867611205283645,
          0.8867611205283645,
          0.8867611205283645,
          0.8867611205283645
         ],
         "yaxis": "y"
        },
        {
         "fill": "tonexty",
         "fillcolor": "rgba(239,85,59,0.2)",
         "line": {
          "color": "rgba(255,255,255,0)"
         },
         "mode": "lines",
         "showlegend": false,
         "type": "scatter",
         "x": [
          0.1,
          1,
          5,
          15,
          50,
          100,
          1000
         ],
         "xaxis": "x",
         "y": [
          0.7893678285762091,
          0.7893678285762091,
          0.7893678285762091,
          0.7893678285762091,
          0.7893678285762091,
          0.7893678285762091,
          0.7893678285762091
         ],
         "yaxis": "y"
        },
        {
         "line": {
          "color": "rgba(0,204,150,1)"
         },
         "marker": {
          "color": "rgba(0,204,150,1)"
         },
         "mode": "lines+markers",
         "name": "logistic regression",
         "showlegend": true,
         "type": "scatter",
         "x": [
          0.1,
          1,
          5,
          15,
          50,
          100,
          1000
         ],
         "xaxis": "x",
         "y": [
          0.8405733226121905,
          0.8405733226121905,
          0.8405733226121905,
          0.8405733226121905,
          0.8405733226121905,
          0.8405733226121905,
          0.8405733226121905
         ],
         "yaxis": "y"
        },
        {
         "line": {
          "color": "rgba(0,204,150,0.2)"
         },
         "mode": "lines",
         "showlegend": false,
         "type": "scatter",
         "x": [
          0.1,
          1,
          5,
          15,
          50,
          100,
          1000
         ],
         "xaxis": "x",
         "y": [
          0.8880053027203545,
          0.8880053027203545,
          0.8880053027203545,
          0.8880053027203545,
          0.8880053027203545,
          0.8880053027203545,
          0.8880053027203545
         ],
         "yaxis": "y"
        },
        {
         "fill": "tonexty",
         "fillcolor": "rgba(0,204,150,0.2)",
         "line": {
          "color": "rgba(255,255,255,0)"
         },
         "mode": "lines",
         "showlegend": false,
         "type": "scatter",
         "x": [
          0.1,
          1,
          5,
          15,
          50,
          100,
          1000
         ],
         "xaxis": "x",
         "y": [
          0.7931413425040266,
          0.7931413425040266,
          0.7931413425040266,
          0.7931413425040266,
          0.7931413425040266,
          0.7931413425040266,
          0.7931413425040266
         ],
         "yaxis": "y"
        },
        {
         "line": {
          "color": "rgba(99,110,250,1)"
         },
         "marker": {
          "color": "rgba(99,110,250,1)"
         },
         "mode": "lines+markers",
         "name": "linear svm",
         "showlegend": false,
         "type": "scatter",
         "x": [
          0.1,
          1,
          5,
          15,
          50,
          100,
          1000
         ],
         "xaxis": "x2",
         "y": [
          0.8824765942413002,
          0.8824765942413002,
          0.8824765942413002,
          0.8824765942413002,
          0.8824765942413002,
          0.8824765942413002,
          0.8824765942413002
         ],
         "yaxis": "y2"
        },
        {
         "line": {
          "color": "rgba(99,110,250,0.2)"
         },
         "mode": "lines",
         "showlegend": false,
         "type": "scatter",
         "x": [
          0.1,
          1,
          5,
          15,
          50,
          100,
          1000
         ],
         "xaxis": "x2",
         "y": [
          0.9105227219164085,
          0.9105227219164085,
          0.9105227219164085,
          0.9105227219164085,
          0.9105227219164085,
          0.9105227219164085,
          0.9105227219164085
         ],
         "yaxis": "y2"
        },
        {
         "fill": "tonexty",
         "fillcolor": "rgba(99,110,250,0.2)",
         "line": {
          "color": "rgba(255,255,255,0)"
         },
         "mode": "lines",
         "showlegend": false,
         "type": "scatter",
         "x": [
          0.1,
          1,
          5,
          15,
          50,
          100,
          1000
         ],
         "xaxis": "x2",
         "y": [
          0.8544304665661919,
          0.8544304665661919,
          0.8544304665661919,
          0.8544304665661919,
          0.8544304665661919,
          0.8544304665661919,
          0.8544304665661919
         ],
         "yaxis": "y2"
        },
        {
         "line": {
          "color": "rgba(239,85,59,1)"
         },
         "marker": {
          "color": "rgba(239,85,59,1)"
         },
         "mode": "lines+markers",
         "name": "non-linear svm",
         "showlegend": false,
         "type": "scatter",
         "x": [
          0.1,
          1,
          5,
          15,
          50,
          100,
          1000
         ],
         "xaxis": "x2",
         "y": [
          0.9096988164635225,
          0.9096988164635225,
          0.9096988164635225,
          0.9096988164635225,
          0.9096988164635225,
          0.9096988164635225,
          0.9096988164635225
         ],
         "yaxis": "y2"
        },
        {
         "line": {
          "color": "rgba(239,85,59,0.2)"
         },
         "mode": "lines",
         "showlegend": false,
         "type": "scatter",
         "x": [
          0.1,
          1,
          5,
          15,
          50,
          100,
          1000
         ],
         "xaxis": "x2",
         "y": [
          0.9485577226400103,
          0.9485577226400103,
          0.9485577226400103,
          0.9485577226400103,
          0.9485577226400103,
          0.9485577226400103,
          0.9485577226400103
         ],
         "yaxis": "y2"
        },
        {
         "fill": "tonexty",
         "fillcolor": "rgba(239,85,59,0.2)",
         "line": {
          "color": "rgba(255,255,255,0)"
         },
         "mode": "lines",
         "showlegend": false,
         "type": "scatter",
         "x": [
          0.1,
          1,
          5,
          15,
          50,
          100,
          1000
         ],
         "xaxis": "x2",
         "y": [
          0.8708399102870347,
          0.8708399102870347,
          0.8708399102870347,
          0.8708399102870347,
          0.8708399102870347,
          0.8708399102870347,
          0.8708399102870347
         ],
         "yaxis": "y2"
        },
        {
         "line": {
          "color": "rgba(0,204,150,1)"
         },
         "marker": {
          "color": "rgba(0,204,150,1)"
         },
         "mode": "lines+markers",
         "name": "logistic regression",
         "showlegend": false,
         "type": "scatter",
         "x": [
          0.1,
          1,
          5,
          15,
          50,
          100,
          1000
         ],
         "xaxis": "x2",
         "y": [
          0.8880321497968557,
          0.8880321497968557,
          0.8880321497968557,
          0.8880321497968557,
          0.8880321497968557,
          0.8880321497968557,
          0.8880321497968557
         ],
         "yaxis": "y2"
        },
        {
         "line": {
          "color": "rgba(0,204,150,0.2)"
         },
         "mode": "lines",
         "showlegend": false,
         "type": "scatter",
         "x": [
          0.1,
          1,
          5,
          15,
          50,
          100,
          1000
         ],
         "xaxis": "x2",
         "y": [
          0.9134125249708002,
          0.9134125249708002,
          0.9134125249708002,
          0.9134125249708002,
          0.9134125249708002,
          0.9134125249708002,
          0.9134125249708002
         ],
         "yaxis": "y2"
        },
        {
         "fill": "tonexty",
         "fillcolor": "rgba(0,204,150,0.2)",
         "line": {
          "color": "rgba(255,255,255,0)"
         },
         "mode": "lines",
         "showlegend": false,
         "type": "scatter",
         "x": [
          0.1,
          1,
          5,
          15,
          50,
          100,
          1000
         ],
         "xaxis": "x2",
         "y": [
          0.8626517746229113,
          0.8626517746229113,
          0.8626517746229113,
          0.8626517746229113,
          0.8626517746229113,
          0.8626517746229113,
          0.8626517746229113
         ],
         "yaxis": "y2"
        },
        {
         "line": {
          "color": "rgba(99,110,250,1)"
         },
         "marker": {
          "color": "rgba(99,110,250,1)"
         },
         "mode": "lines+markers",
         "name": "linear svm",
         "showlegend": false,
         "type": "scatter",
         "x": [
          0.1,
          1,
          5,
          15,
          50,
          100,
          1000
         ],
         "xaxis": "x3",
         "y": [
          0.8819320888848683,
          0.8819320888848683,
          0.8819320888848683,
          0.8819320888848683,
          0.8819320888848683,
          0.8819320888848683,
          0.8819320888848683
         ],
         "yaxis": "y3"
        },
        {
         "line": {
          "color": "rgba(99,110,250,0.2)"
         },
         "mode": "lines",
         "showlegend": false,
         "type": "scatter",
         "x": [
          0.1,
          1,
          5,
          15,
          50,
          100,
          1000
         ],
         "xaxis": "x3",
         "y": [
          0.8939435030329326,
          0.8939435030329326,
          0.8939435030329326,
          0.8939435030329326,
          0.8939435030329326,
          0.8939435030329326,
          0.8939435030329326
         ],
         "yaxis": "y3"
        },
        {
         "fill": "tonexty",
         "fillcolor": "rgba(99,110,250,0.2)",
         "line": {
          "color": "rgba(255,255,255,0)"
         },
         "mode": "lines",
         "showlegend": false,
         "type": "scatter",
         "x": [
          0.1,
          1,
          5,
          15,
          50,
          100,
          1000
         ],
         "xaxis": "x3",
         "y": [
          0.869920674736804,
          0.869920674736804,
          0.869920674736804,
          0.869920674736804,
          0.869920674736804,
          0.869920674736804,
          0.869920674736804
         ],
         "yaxis": "y3"
        },
        {
         "line": {
          "color": "rgba(239,85,59,1)"
         },
         "marker": {
          "color": "rgba(239,85,59,1)"
         },
         "mode": "lines+markers",
         "name": "non-linear svm",
         "showlegend": false,
         "type": "scatter",
         "x": [
          0.1,
          1,
          5,
          15,
          50,
          100,
          1000
         ],
         "xaxis": "x3",
         "y": [
          0.8956022967801213,
          0.8956022967801213,
          0.8956022967801213,
          0.8956022967801213,
          0.8956022967801213,
          0.8956022967801213,
          0.8956022967801213
         ],
         "yaxis": "y3"
        },
        {
         "line": {
          "color": "rgba(239,85,59,0.2)"
         },
         "mode": "lines",
         "showlegend": false,
         "type": "scatter",
         "x": [
          0.1,
          1,
          5,
          15,
          50,
          100,
          1000
         ],
         "xaxis": "x3",
         "y": [
          0.9081153934156292,
          0.9081153934156292,
          0.9081153934156292,
          0.9081153934156292,
          0.9081153934156292,
          0.9081153934156292,
          0.9081153934156292
         ],
         "yaxis": "y3"
        },
        {
         "fill": "tonexty",
         "fillcolor": "rgba(239,85,59,0.2)",
         "line": {
          "color": "rgba(255,255,255,0)"
         },
         "mode": "lines",
         "showlegend": false,
         "type": "scatter",
         "x": [
          0.1,
          1,
          5,
          15,
          50,
          100,
          1000
         ],
         "xaxis": "x3",
         "y": [
          0.8830892001446133,
          0.8830892001446133,
          0.8830892001446133,
          0.8830892001446133,
          0.8830892001446133,
          0.8830892001446133,
          0.8830892001446133
         ],
         "yaxis": "y3"
        },
        {
         "line": {
          "color": "rgba(0,204,150,1)"
         },
         "marker": {
          "color": "rgba(0,204,150,1)"
         },
         "mode": "lines+markers",
         "name": "logistic regression",
         "showlegend": false,
         "type": "scatter",
         "x": [
          0.1,
          1,
          5,
          15,
          50,
          100,
          1000
         ],
         "xaxis": "x3",
         "y": [
          0.8865172430095457,
          0.8865172430095457,
          0.8865172430095457,
          0.8865172430095457,
          0.8865172430095457,
          0.8865172430095457,
          0.8865172430095457
         ],
         "yaxis": "y3"
        },
        {
         "line": {
          "color": "rgba(0,204,150,0.2)"
         },
         "mode": "lines",
         "showlegend": false,
         "type": "scatter",
         "x": [
          0.1,
          1,
          5,
          15,
          50,
          100,
          1000
         ],
         "xaxis": "x3",
         "y": [
          0.8966252428938654,
          0.8966252428938654,
          0.8966252428938654,
          0.8966252428938654,
          0.8966252428938654,
          0.8966252428938654,
          0.8966252428938654
         ],
         "yaxis": "y3"
        },
        {
         "fill": "tonexty",
         "fillcolor": "rgba(0,204,150,0.2)",
         "line": {
          "color": "rgba(255,255,255,0)"
         },
         "mode": "lines",
         "showlegend": false,
         "type": "scatter",
         "x": [
          0.1,
          1,
          5,
          15,
          50,
          100,
          1000
         ],
         "xaxis": "x3",
         "y": [
          0.8764092431252261,
          0.8764092431252261,
          0.8764092431252261,
          0.8764092431252261,
          0.8764092431252261,
          0.8764092431252261,
          0.8764092431252261
         ],
         "yaxis": "y3"
        }
       ],
       "layout": {
        "height": 900,
        "legend": {
         "orientation": "h",
         "x": 0.5,
         "y": 1.15
        },
        "template": {
         "data": {
          "bar": [
           {
            "error_x": {
             "color": "#2a3f5f"
            },
            "error_y": {
             "color": "#2a3f5f"
            },
            "marker": {
             "line": {
              "color": "#E5ECF6",
              "width": 0.5
             },
             "pattern": {
              "fillmode": "overlay",
              "size": 10,
              "solidity": 0.2
             }
            },
            "type": "bar"
           }
          ],
          "barpolar": [
           {
            "marker": {
             "line": {
              "color": "#E5ECF6",
              "width": 0.5
             },
             "pattern": {
              "fillmode": "overlay",
              "size": 10,
              "solidity": 0.2
             }
            },
            "type": "barpolar"
           }
          ],
          "carpet": [
           {
            "aaxis": {
             "endlinecolor": "#2a3f5f",
             "gridcolor": "white",
             "linecolor": "white",
             "minorgridcolor": "white",
             "startlinecolor": "#2a3f5f"
            },
            "baxis": {
             "endlinecolor": "#2a3f5f",
             "gridcolor": "white",
             "linecolor": "white",
             "minorgridcolor": "white",
             "startlinecolor": "#2a3f5f"
            },
            "type": "carpet"
           }
          ],
          "choropleth": [
           {
            "colorbar": {
             "outlinewidth": 0,
             "ticks": ""
            },
            "type": "choropleth"
           }
          ],
          "contour": [
           {
            "colorbar": {
             "outlinewidth": 0,
             "ticks": ""
            },
            "colorscale": [
             [
              0,
              "#0d0887"
             ],
             [
              0.1111111111111111,
              "#46039f"
             ],
             [
              0.2222222222222222,
              "#7201a8"
             ],
             [
              0.3333333333333333,
              "#9c179e"
             ],
             [
              0.4444444444444444,
              "#bd3786"
             ],
             [
              0.5555555555555556,
              "#d8576b"
             ],
             [
              0.6666666666666666,
              "#ed7953"
             ],
             [
              0.7777777777777778,
              "#fb9f3a"
             ],
             [
              0.8888888888888888,
              "#fdca26"
             ],
             [
              1,
              "#f0f921"
             ]
            ],
            "type": "contour"
           }
          ],
          "contourcarpet": [
           {
            "colorbar": {
             "outlinewidth": 0,
             "ticks": ""
            },
            "type": "contourcarpet"
           }
          ],
          "heatmap": [
           {
            "colorbar": {
             "outlinewidth": 0,
             "ticks": ""
            },
            "colorscale": [
             [
              0,
              "#0d0887"
             ],
             [
              0.1111111111111111,
              "#46039f"
             ],
             [
              0.2222222222222222,
              "#7201a8"
             ],
             [
              0.3333333333333333,
              "#9c179e"
             ],
             [
              0.4444444444444444,
              "#bd3786"
             ],
             [
              0.5555555555555556,
              "#d8576b"
             ],
             [
              0.6666666666666666,
              "#ed7953"
             ],
             [
              0.7777777777777778,
              "#fb9f3a"
             ],
             [
              0.8888888888888888,
              "#fdca26"
             ],
             [
              1,
              "#f0f921"
             ]
            ],
            "type": "heatmap"
           }
          ],
          "heatmapgl": [
           {
            "colorbar": {
             "outlinewidth": 0,
             "ticks": ""
            },
            "colorscale": [
             [
              0,
              "#0d0887"
             ],
             [
              0.1111111111111111,
              "#46039f"
             ],
             [
              0.2222222222222222,
              "#7201a8"
             ],
             [
              0.3333333333333333,
              "#9c179e"
             ],
             [
              0.4444444444444444,
              "#bd3786"
             ],
             [
              0.5555555555555556,
              "#d8576b"
             ],
             [
              0.6666666666666666,
              "#ed7953"
             ],
             [
              0.7777777777777778,
              "#fb9f3a"
             ],
             [
              0.8888888888888888,
              "#fdca26"
             ],
             [
              1,
              "#f0f921"
             ]
            ],
            "type": "heatmapgl"
           }
          ],
          "histogram": [
           {
            "marker": {
             "pattern": {
              "fillmode": "overlay",
              "size": 10,
              "solidity": 0.2
             }
            },
            "type": "histogram"
           }
          ],
          "histogram2d": [
           {
            "colorbar": {
             "outlinewidth": 0,
             "ticks": ""
            },
            "colorscale": [
             [
              0,
              "#0d0887"
             ],
             [
              0.1111111111111111,
              "#46039f"
             ],
             [
              0.2222222222222222,
              "#7201a8"
             ],
             [
              0.3333333333333333,
              "#9c179e"
             ],
             [
              0.4444444444444444,
              "#bd3786"
             ],
             [
              0.5555555555555556,
              "#d8576b"
             ],
             [
              0.6666666666666666,
              "#ed7953"
             ],
             [
              0.7777777777777778,
              "#fb9f3a"
             ],
             [
              0.8888888888888888,
              "#fdca26"
             ],
             [
              1,
              "#f0f921"
             ]
            ],
            "type": "histogram2d"
           }
          ],
          "histogram2dcontour": [
           {
            "colorbar": {
             "outlinewidth": 0,
             "ticks": ""
            },
            "colorscale": [
             [
              0,
              "#0d0887"
             ],
             [
              0.1111111111111111,
              "#46039f"
             ],
             [
              0.2222222222222222,
              "#7201a8"
             ],
             [
              0.3333333333333333,
              "#9c179e"
             ],
             [
              0.4444444444444444,
              "#bd3786"
             ],
             [
              0.5555555555555556,
              "#d8576b"
             ],
             [
              0.6666666666666666,
              "#ed7953"
             ],
             [
              0.7777777777777778,
              "#fb9f3a"
             ],
             [
              0.8888888888888888,
              "#fdca26"
             ],
             [
              1,
              "#f0f921"
             ]
            ],
            "type": "histogram2dcontour"
           }
          ],
          "mesh3d": [
           {
            "colorbar": {
             "outlinewidth": 0,
             "ticks": ""
            },
            "type": "mesh3d"
           }
          ],
          "parcoords": [
           {
            "line": {
             "colorbar": {
              "outlinewidth": 0,
              "ticks": ""
             }
            },
            "type": "parcoords"
           }
          ],
          "pie": [
           {
            "automargin": true,
            "type": "pie"
           }
          ],
          "scatter": [
           {
            "fillpattern": {
             "fillmode": "overlay",
             "size": 10,
             "solidity": 0.2
            },
            "type": "scatter"
           }
          ],
          "scatter3d": [
           {
            "line": {
             "colorbar": {
              "outlinewidth": 0,
              "ticks": ""
             }
            },
            "marker": {
             "colorbar": {
              "outlinewidth": 0,
              "ticks": ""
             }
            },
            "type": "scatter3d"
           }
          ],
          "scattercarpet": [
           {
            "marker": {
             "colorbar": {
              "outlinewidth": 0,
              "ticks": ""
             }
            },
            "type": "scattercarpet"
           }
          ],
          "scattergeo": [
           {
            "marker": {
             "colorbar": {
              "outlinewidth": 0,
              "ticks": ""
             }
            },
            "type": "scattergeo"
           }
          ],
          "scattergl": [
           {
            "marker": {
             "colorbar": {
              "outlinewidth": 0,
              "ticks": ""
             }
            },
            "type": "scattergl"
           }
          ],
          "scattermapbox": [
           {
            "marker": {
             "colorbar": {
              "outlinewidth": 0,
              "ticks": ""
             }
            },
            "type": "scattermapbox"
           }
          ],
          "scatterpolar": [
           {
            "marker": {
             "colorbar": {
              "outlinewidth": 0,
              "ticks": ""
             }
            },
            "type": "scatterpolar"
           }
          ],
          "scatterpolargl": [
           {
            "marker": {
             "colorbar": {
              "outlinewidth": 0,
              "ticks": ""
             }
            },
            "type": "scatterpolargl"
           }
          ],
          "scatterternary": [
           {
            "marker": {
             "colorbar": {
              "outlinewidth": 0,
              "ticks": ""
             }
            },
            "type": "scatterternary"
           }
          ],
          "surface": [
           {
            "colorbar": {
             "outlinewidth": 0,
             "ticks": ""
            },
            "colorscale": [
             [
              0,
              "#0d0887"
             ],
             [
              0.1111111111111111,
              "#46039f"
             ],
             [
              0.2222222222222222,
              "#7201a8"
             ],
             [
              0.3333333333333333,
              "#9c179e"
             ],
             [
              0.4444444444444444,
              "#bd3786"
             ],
             [
              0.5555555555555556,
              "#d8576b"
             ],
             [
              0.6666666666666666,
              "#ed7953"
             ],
             [
              0.7777777777777778,
              "#fb9f3a"
             ],
             [
              0.8888888888888888,
              "#fdca26"
             ],
             [
              1,
              "#f0f921"
             ]
            ],
            "type": "surface"
           }
          ],
          "table": [
           {
            "cells": {
             "fill": {
              "color": "#EBF0F8"
             },
             "line": {
              "color": "white"
             }
            },
            "header": {
             "fill": {
              "color": "#C8D4E3"
             },
             "line": {
              "color": "white"
             }
            },
            "type": "table"
           }
          ]
         },
         "layout": {
          "annotationdefaults": {
           "arrowcolor": "#2a3f5f",
           "arrowhead": 0,
           "arrowwidth": 1
          },
          "autotypenumbers": "strict",
          "coloraxis": {
           "colorbar": {
            "outlinewidth": 0,
            "ticks": ""
           }
          },
          "colorscale": {
           "diverging": [
            [
             0,
             "#8e0152"
            ],
            [
             0.1,
             "#c51b7d"
            ],
            [
             0.2,
             "#de77ae"
            ],
            [
             0.3,
             "#f1b6da"
            ],
            [
             0.4,
             "#fde0ef"
            ],
            [
             0.5,
             "#f7f7f7"
            ],
            [
             0.6,
             "#e6f5d0"
            ],
            [
             0.7,
             "#b8e186"
            ],
            [
             0.8,
             "#7fbc41"
            ],
            [
             0.9,
             "#4d9221"
            ],
            [
             1,
             "#276419"
            ]
           ],
           "sequential": [
            [
             0,
             "#0d0887"
            ],
            [
             0.1111111111111111,
             "#46039f"
            ],
            [
             0.2222222222222222,
             "#7201a8"
            ],
            [
             0.3333333333333333,
             "#9c179e"
            ],
            [
             0.4444444444444444,
             "#bd3786"
            ],
            [
             0.5555555555555556,
             "#d8576b"
            ],
            [
             0.6666666666666666,
             "#ed7953"
            ],
            [
             0.7777777777777778,
             "#fb9f3a"
            ],
            [
             0.8888888888888888,
             "#fdca26"
            ],
            [
             1,
             "#f0f921"
            ]
           ],
           "sequentialminus": [
            [
             0,
             "#0d0887"
            ],
            [
             0.1111111111111111,
             "#46039f"
            ],
            [
             0.2222222222222222,
             "#7201a8"
            ],
            [
             0.3333333333333333,
             "#9c179e"
            ],
            [
             0.4444444444444444,
             "#bd3786"
            ],
            [
             0.5555555555555556,
             "#d8576b"
            ],
            [
             0.6666666666666666,
             "#ed7953"
            ],
            [
             0.7777777777777778,
             "#fb9f3a"
            ],
            [
             0.8888888888888888,
             "#fdca26"
            ],
            [
             1,
             "#f0f921"
            ]
           ]
          },
          "colorway": [
           "#636efa",
           "#EF553B",
           "#00cc96",
           "#ab63fa",
           "#FFA15A",
           "#19d3f3",
           "#FF6692",
           "#B6E880",
           "#FF97FF",
           "#FECB52"
          ],
          "font": {
           "color": "#2a3f5f"
          },
          "geo": {
           "bgcolor": "white",
           "lakecolor": "white",
           "landcolor": "#E5ECF6",
           "showlakes": true,
           "showland": true,
           "subunitcolor": "white"
          },
          "hoverlabel": {
           "align": "left"
          },
          "hovermode": "closest",
          "mapbox": {
           "style": "light"
          },
          "paper_bgcolor": "white",
          "plot_bgcolor": "#E5ECF6",
          "polar": {
           "angularaxis": {
            "gridcolor": "white",
            "linecolor": "white",
            "ticks": ""
           },
           "bgcolor": "#E5ECF6",
           "radialaxis": {
            "gridcolor": "white",
            "linecolor": "white",
            "ticks": ""
           }
          },
          "scene": {
           "xaxis": {
            "backgroundcolor": "#E5ECF6",
            "gridcolor": "white",
            "gridwidth": 2,
            "linecolor": "white",
            "showbackground": true,
            "ticks": "",
            "zerolinecolor": "white"
           },
           "yaxis": {
            "backgroundcolor": "#E5ECF6",
            "gridcolor": "white",
            "gridwidth": 2,
            "linecolor": "white",
            "showbackground": true,
            "ticks": "",
            "zerolinecolor": "white"
           },
           "zaxis": {
            "backgroundcolor": "#E5ECF6",
            "gridcolor": "white",
            "gridwidth": 2,
            "linecolor": "white",
            "showbackground": true,
            "ticks": "",
            "zerolinecolor": "white"
           }
          },
          "shapedefaults": {
           "line": {
            "color": "#2a3f5f"
           }
          },
          "ternary": {
           "aaxis": {
            "gridcolor": "white",
            "linecolor": "white",
            "ticks": ""
           },
           "baxis": {
            "gridcolor": "white",
            "linecolor": "white",
            "ticks": ""
           },
           "bgcolor": "#E5ECF6",
           "caxis": {
            "gridcolor": "white",
            "linecolor": "white",
            "ticks": ""
           }
          },
          "title": {
           "x": 0.05
          },
          "xaxis": {
           "automargin": true,
           "gridcolor": "white",
           "linecolor": "white",
           "ticks": "",
           "title": {
            "standoff": 15
           },
           "zerolinecolor": "white",
           "zerolinewidth": 2
          },
          "yaxis": {
           "automargin": true,
           "gridcolor": "white",
           "linecolor": "white",
           "ticks": "",
           "title": {
            "standoff": 15
           },
           "zerolinecolor": "white",
           "zerolinewidth": 2
          }
         }
        },
        "width": 600,
        "xaxis": {
         "anchor": "y",
         "domain": [
          0,
          1
         ],
         "title": {
          "font": {
           "size": 16
          },
          "text": "C2"
         }
        },
        "xaxis2": {
         "anchor": "y2",
         "domain": [
          0,
          1
         ],
         "title": {
          "font": {
           "size": 16
          },
          "text": "C2"
         }
        },
        "xaxis3": {
         "anchor": "y3",
         "domain": [
          0,
          1
         ],
         "title": {
          "text": "C2"
         }
        },
        "yaxis": {
         "anchor": "x",
         "domain": [
          0.7333333333333333,
          1
         ],
         "range": [
          0,
          1
         ],
         "side": "right",
         "title": {
          "font": {
           "size": 16
          },
          "text": "auc"
         }
        },
        "yaxis2": {
         "anchor": "x2",
         "domain": [
          0.36666666666666664,
          0.6333333333333333
         ],
         "range": [
          0,
          1
         ],
         "side": "right",
         "title": {
          "font": {
           "size": 16
          },
          "text": "violation_rate"
         }
        },
        "yaxis3": {
         "anchor": "x3",
         "domain": [
          0,
          0.26666666666666666
         ],
         "range": [
          0,
          1
         ],
         "side": "right",
         "title": {
          "font": {
           "size": 16
          },
          "text": "violation_rate (instance)"
         }
        }
       }
      }
     },
     "metadata": {},
     "output_type": "display_data"
    }
   ],
   "source": [
    "import plotly.graph_objects as go\n",
    "from plotly.subplots import make_subplots\n",
    "\n",
    "\n",
    "# グラフのデータを準備\n",
    "# index = ['l-SVM-p', 'r-SVM-p', 'LogReg-p']\n",
    "\n",
    "# index = [\n",
    "#     'linear svm (L)', \n",
    "#     'non-linear svm (L)', \n",
    "#     'logistic regression (L)'\n",
    "# ]\n",
    "\n",
    "index = [\n",
    "    'linear svm', \n",
    "    'non-linear svm', \n",
    "    'logistic regression'\n",
    "]\n",
    "\n",
    "# index = [\n",
    "#     'RuleFit Classifier (disc)',\n",
    "#     'tree generator (disc)',\n",
    "#     'RuleFit Classifier (conti)', \n",
    "#     'tree generator (conti)',\n",
    "# ]\n",
    "\n",
    "columns = ['auc', 'violation_rate', 'violation_rate (instance)']\n",
    "\n",
    "title_text = \"C2\"\n",
    "\n",
    "\n",
    "# サブプロットの作成\n",
    "# fig = make_subplots(rows=1, cols=2, subplot_titles=('AUC', 'ルール違反率'))\n",
    "fig = make_subplots(rows=len(columns), cols=1)\n",
    "showlegend=True\n",
    "\n",
    "for row_num, col in enumerate(columns):\n",
    "    tmp_mean = pd.DataFrame(\n",
    "        [{info: df.loc[model_name, col] for info, df in zip(infos, dfs_mean)} for model_name in index],\n",
    "        index=index\n",
    "    )\n",
    "    tmp_std = pd.DataFrame(\n",
    "        [{info: df.loc[model_name, col] for info, df in zip(infos, dfs_std)} for model_name in index],\n",
    "        index=index\n",
    "    )\n",
    "\n",
    "    # グラフ1: AUC\n",
    "    for i in range(len(tmp_mean)):\n",
    "        fig.add_trace(\n",
    "            go.Scatter(\n",
    "                x=tmp_mean.columns,\n",
    "                y=tmp_mean.iloc[i, :],\n",
    "                mode='lines+markers',\n",
    "                name=tmp_mean.index[i],\n",
    "                line=dict(color=colors_mean[i]),  # ラインの色を設定\n",
    "                marker=dict(color=colors_mean[i]),  # マーカーの色を設定\n",
    "                showlegend=showlegend,\n",
    "            ),\n",
    "            row=row_num+1, col=1\n",
    "        )\n",
    "        fig.add_trace(\n",
    "            go.Scatter(\n",
    "                x=tmp_mean.columns,\n",
    "                y=tmp_mean.iloc[i, :] + tmp_std.iloc[i, :],\n",
    "                mode='lines',\n",
    "                line=dict(color=colors_std[i]),  # ラインの色を設定\n",
    "                showlegend=False\n",
    "            ),\n",
    "            row=row_num+1, col=1\n",
    "        )\n",
    "        fig.add_trace(\n",
    "            go.Scatter(\n",
    "                x=tmp_mean.columns,\n",
    "                y=tmp_mean.iloc[i, :] - tmp_std.iloc[i, :],\n",
    "                mode='lines',\n",
    "                fill='tonexty',\n",
    "                fillcolor=colors_std[i],\n",
    "                line=dict(color='rgba(255,255,255,0)'),\n",
    "                showlegend=False\n",
    "            ),\n",
    "            row=row_num+1, col=1\n",
    "        )\n",
    "    \n",
    "    # x, y 軸の設定\n",
    "    fig.update_xaxes(title_text=title_text, row=row_num+1, col=1)\n",
    "    fig.update_yaxes(title_text=col, range=[0, 1], row=row_num+1, col=1, side='right', title_font=dict(size=16))\n",
    "\n",
    "    showlegend=False\n",
    "    \n",
    "# レイアウトの設定\n",
    "fig.update_layout(\n",
    "    height=len(columns) * 300,\n",
    "    width=600,\n",
    "    xaxis=dict(\n",
    "        domain=[0, 1],  # 左側のsubplotの幅を調整\n",
    "        title_font=dict(size=16)\n",
    "    ),\n",
    "    xaxis2=dict(\n",
    "        domain=[0, 1],  # 右側のsubplotの幅を調整\n",
    "        title_font=dict(size=16)\n",
    "    ),\n",
    "    legend=dict(\n",
    "        x=0.5,\n",
    "        y=1.15,\n",
    "        orientation='h'  # 水平配置\n",
    "    ),\n",
    ")\n",
    "\n",
    "\n",
    "# グラフの表示\n",
    "fig.show()"
   ]
  },
  {
   "cell_type": "code",
   "execution_count": 18,
   "metadata": {},
   "outputs": [
    {
     "data": {
      "application/vnd.plotly.v1+json": {
       "config": {
        "plotlyServerURL": "https://plot.ly"
       },
       "data": [
        {
         "line": {
          "color": "rgba(99,110,250,1)"
         },
         "marker": {
          "color": "rgba(99,110,250,1)"
         },
         "mode": "lines+markers",
         "name": "RuleFit Classifier (disc)",
         "showlegend": true,
         "type": "scatter",
         "x": [
          0.1,
          1,
          5,
          15,
          50,
          100,
          1000
         ],
         "xaxis": "x",
         "y": [
          0.8161160773208749,
          0.8161160773208749,
          0.8161160773208749,
          0.8161160773208749,
          0.8161160773208749,
          0.8161160773208749,
          0.8161160773208749
         ],
         "yaxis": "y"
        },
        {
         "line": {
          "color": "rgba(99,110,250,0.2)"
         },
         "mode": "lines",
         "showlegend": false,
         "type": "scatter",
         "x": [
          0.1,
          1,
          5,
          15,
          50,
          100,
          1000
         ],
         "xaxis": "x",
         "y": [
          0.8675198089260306,
          0.8675198089260306,
          0.8675198089260306,
          0.8675198089260306,
          0.8675198089260306,
          0.8675198089260306,
          0.8675198089260306
         ],
         "yaxis": "y"
        },
        {
         "fill": "tonexty",
         "fillcolor": "rgba(99,110,250,0.2)",
         "line": {
          "color": "rgba(255,255,255,0)"
         },
         "mode": "lines",
         "showlegend": false,
         "type": "scatter",
         "x": [
          0.1,
          1,
          5,
          15,
          50,
          100,
          1000
         ],
         "xaxis": "x",
         "y": [
          0.7647123457157191,
          0.7647123457157191,
          0.7647123457157191,
          0.7647123457157191,
          0.7647123457157191,
          0.7647123457157191,
          0.7647123457157191
         ],
         "yaxis": "y"
        },
        {
         "line": {
          "color": "rgba(239,85,59,1)"
         },
         "marker": {
          "color": "rgba(239,85,59,1)"
         },
         "mode": "lines+markers",
         "name": "tree generator (disc)",
         "showlegend": true,
         "type": "scatter",
         "x": [
          0.1,
          1,
          5,
          15,
          50,
          100,
          1000
         ],
         "xaxis": "x",
         "y": [
          0.7723221095803497,
          0.7723221095803497,
          0.7723221095803497,
          0.7723221095803497,
          0.7723221095803497,
          0.7723221095803497,
          0.7723221095803497
         ],
         "yaxis": "y"
        },
        {
         "line": {
          "color": "rgba(239,85,59,0.2)"
         },
         "mode": "lines",
         "showlegend": false,
         "type": "scatter",
         "x": [
          0.1,
          1,
          5,
          15,
          50,
          100,
          1000
         ],
         "xaxis": "x",
         "y": [
          0.8213949562136311,
          0.8213949562136311,
          0.8213949562136311,
          0.8213949562136311,
          0.8213949562136311,
          0.8213949562136311,
          0.8213949562136311
         ],
         "yaxis": "y"
        },
        {
         "fill": "tonexty",
         "fillcolor": "rgba(239,85,59,0.2)",
         "line": {
          "color": "rgba(255,255,255,0)"
         },
         "mode": "lines",
         "showlegend": false,
         "type": "scatter",
         "x": [
          0.1,
          1,
          5,
          15,
          50,
          100,
          1000
         ],
         "xaxis": "x",
         "y": [
          0.7232492629470684,
          0.7232492629470684,
          0.7232492629470684,
          0.7232492629470684,
          0.7232492629470684,
          0.7232492629470684,
          0.7232492629470684
         ],
         "yaxis": "y"
        },
        {
         "line": {
          "color": "rgba(99,110,250,1)"
         },
         "marker": {
          "color": "rgba(99,110,250,1)"
         },
         "mode": "lines+markers",
         "name": "RuleFit Classifier (disc)",
         "showlegend": false,
         "type": "scatter",
         "x": [
          0.1,
          1,
          5,
          15,
          50,
          100,
          1000
         ],
         "xaxis": "x2",
         "y": [
          0.8072019077901432,
          0.8072019077901432,
          0.8072019077901432,
          0.8072019077901432,
          0.8072019077901432,
          0.8072019077901432,
          0.8072019077901432
         ],
         "yaxis": "y2"
        },
        {
         "line": {
          "color": "rgba(99,110,250,0.2)"
         },
         "mode": "lines",
         "showlegend": false,
         "type": "scatter",
         "x": [
          0.1,
          1,
          5,
          15,
          50,
          100,
          1000
         ],
         "xaxis": "x2",
         "y": [
          0.8932371816337767,
          0.8932371816337767,
          0.8932371816337767,
          0.8932371816337767,
          0.8932371816337767,
          0.8932371816337767,
          0.8932371816337767
         ],
         "yaxis": "y2"
        },
        {
         "fill": "tonexty",
         "fillcolor": "rgba(99,110,250,0.2)",
         "line": {
          "color": "rgba(255,255,255,0)"
         },
         "mode": "lines",
         "showlegend": false,
         "type": "scatter",
         "x": [
          0.1,
          1,
          5,
          15,
          50,
          100,
          1000
         ],
         "xaxis": "x2",
         "y": [
          0.7211666339465097,
          0.7211666339465097,
          0.7211666339465097,
          0.7211666339465097,
          0.7211666339465097,
          0.7211666339465097,
          0.7211666339465097
         ],
         "yaxis": "y2"
        },
        {
         "line": {
          "color": "rgba(239,85,59,1)"
         },
         "marker": {
          "color": "rgba(239,85,59,1)"
         },
         "mode": "lines+markers",
         "name": "tree generator (disc)",
         "showlegend": false,
         "type": "scatter",
         "x": [
          0.1,
          1,
          5,
          15,
          50,
          100,
          1000
         ],
         "xaxis": "x2",
         "y": [
          0.7366454689984102,
          0.7366454689984102,
          0.7366454689984102,
          0.7366454689984102,
          0.7366454689984102,
          0.7366454689984102,
          0.7366454689984102
         ],
         "yaxis": "y2"
        },
        {
         "line": {
          "color": "rgba(239,85,59,0.2)"
         },
         "mode": "lines",
         "showlegend": false,
         "type": "scatter",
         "x": [
          0.1,
          1,
          5,
          15,
          50,
          100,
          1000
         ],
         "xaxis": "x2",
         "y": [
          0.8045597523890572,
          0.8045597523890572,
          0.8045597523890572,
          0.8045597523890572,
          0.8045597523890572,
          0.8045597523890572,
          0.8045597523890572
         ],
         "yaxis": "y2"
        },
        {
         "fill": "tonexty",
         "fillcolor": "rgba(239,85,59,0.2)",
         "line": {
          "color": "rgba(255,255,255,0)"
         },
         "mode": "lines",
         "showlegend": false,
         "type": "scatter",
         "x": [
          0.1,
          1,
          5,
          15,
          50,
          100,
          1000
         ],
         "xaxis": "x2",
         "y": [
          0.6687311856077632,
          0.6687311856077632,
          0.6687311856077632,
          0.6687311856077632,
          0.6687311856077632,
          0.6687311856077632,
          0.6687311856077632
         ],
         "yaxis": "y2"
        },
        {
         "line": {
          "color": "rgba(99,110,250,1)"
         },
         "marker": {
          "color": "rgba(99,110,250,1)"
         },
         "mode": "lines+markers",
         "name": "RuleFit Classifier (disc)",
         "showlegend": false,
         "type": "scatter",
         "x": [
          0.1,
          1,
          5,
          15,
          50,
          100,
          1000
         ],
         "xaxis": "x3",
         "y": [
          0.8754879938421025,
          0.8754879938421025,
          0.8754879938421025,
          0.8754879938421025,
          0.8754879938421025,
          0.8754879938421025,
          0.8754879938421025
         ],
         "yaxis": "y3"
        },
        {
         "line": {
          "color": "rgba(99,110,250,0.2)"
         },
         "mode": "lines",
         "showlegend": false,
         "type": "scatter",
         "x": [
          0.1,
          1,
          5,
          15,
          50,
          100,
          1000
         ],
         "xaxis": "x3",
         "y": [
          0.8956202214125374,
          0.8956202214125374,
          0.8956202214125374,
          0.8956202214125374,
          0.8956202214125374,
          0.8956202214125374,
          0.8956202214125374
         ],
         "yaxis": "y3"
        },
        {
         "fill": "tonexty",
         "fillcolor": "rgba(99,110,250,0.2)",
         "line": {
          "color": "rgba(255,255,255,0)"
         },
         "mode": "lines",
         "showlegend": false,
         "type": "scatter",
         "x": [
          0.1,
          1,
          5,
          15,
          50,
          100,
          1000
         ],
         "xaxis": "x3",
         "y": [
          0.8553557662716677,
          0.8553557662716677,
          0.8553557662716677,
          0.8553557662716677,
          0.8553557662716677,
          0.8553557662716677,
          0.8553557662716677
         ],
         "yaxis": "y3"
        },
        {
         "line": {
          "color": "rgba(239,85,59,1)"
         },
         "marker": {
          "color": "rgba(239,85,59,1)"
         },
         "mode": "lines+markers",
         "name": "tree generator (disc)",
         "showlegend": false,
         "type": "scatter",
         "x": [
          0.1,
          1,
          5,
          15,
          50,
          100,
          1000
         ],
         "xaxis": "x3",
         "y": [
          0.8573028689521373,
          0.8573028689521373,
          0.8573028689521373,
          0.8573028689521373,
          0.8573028689521373,
          0.8573028689521373,
          0.8573028689521373
         ],
         "yaxis": "y3"
        },
        {
         "line": {
          "color": "rgba(239,85,59,0.2)"
         },
         "mode": "lines",
         "showlegend": false,
         "type": "scatter",
         "x": [
          0.1,
          1,
          5,
          15,
          50,
          100,
          1000
         ],
         "xaxis": "x3",
         "y": [
          0.8840911435501796,
          0.8840911435501796,
          0.8840911435501796,
          0.8840911435501796,
          0.8840911435501796,
          0.8840911435501796,
          0.8840911435501796
         ],
         "yaxis": "y3"
        },
        {
         "fill": "tonexty",
         "fillcolor": "rgba(239,85,59,0.2)",
         "line": {
          "color": "rgba(255,255,255,0)"
         },
         "mode": "lines",
         "showlegend": false,
         "type": "scatter",
         "x": [
          0.1,
          1,
          5,
          15,
          50,
          100,
          1000
         ],
         "xaxis": "x3",
         "y": [
          0.8305145943540949,
          0.8305145943540949,
          0.8305145943540949,
          0.8305145943540949,
          0.8305145943540949,
          0.8305145943540949,
          0.8305145943540949
         ],
         "yaxis": "y3"
        }
       ],
       "layout": {
        "height": 900,
        "legend": {
         "orientation": "h",
         "x": 0.5,
         "y": 1.15
        },
        "template": {
         "data": {
          "bar": [
           {
            "error_x": {
             "color": "#2a3f5f"
            },
            "error_y": {
             "color": "#2a3f5f"
            },
            "marker": {
             "line": {
              "color": "#E5ECF6",
              "width": 0.5
             },
             "pattern": {
              "fillmode": "overlay",
              "size": 10,
              "solidity": 0.2
             }
            },
            "type": "bar"
           }
          ],
          "barpolar": [
           {
            "marker": {
             "line": {
              "color": "#E5ECF6",
              "width": 0.5
             },
             "pattern": {
              "fillmode": "overlay",
              "size": 10,
              "solidity": 0.2
             }
            },
            "type": "barpolar"
           }
          ],
          "carpet": [
           {
            "aaxis": {
             "endlinecolor": "#2a3f5f",
             "gridcolor": "white",
             "linecolor": "white",
             "minorgridcolor": "white",
             "startlinecolor": "#2a3f5f"
            },
            "baxis": {
             "endlinecolor": "#2a3f5f",
             "gridcolor": "white",
             "linecolor": "white",
             "minorgridcolor": "white",
             "startlinecolor": "#2a3f5f"
            },
            "type": "carpet"
           }
          ],
          "choropleth": [
           {
            "colorbar": {
             "outlinewidth": 0,
             "ticks": ""
            },
            "type": "choropleth"
           }
          ],
          "contour": [
           {
            "colorbar": {
             "outlinewidth": 0,
             "ticks": ""
            },
            "colorscale": [
             [
              0,
              "#0d0887"
             ],
             [
              0.1111111111111111,
              "#46039f"
             ],
             [
              0.2222222222222222,
              "#7201a8"
             ],
             [
              0.3333333333333333,
              "#9c179e"
             ],
             [
              0.4444444444444444,
              "#bd3786"
             ],
             [
              0.5555555555555556,
              "#d8576b"
             ],
             [
              0.6666666666666666,
              "#ed7953"
             ],
             [
              0.7777777777777778,
              "#fb9f3a"
             ],
             [
              0.8888888888888888,
              "#fdca26"
             ],
             [
              1,
              "#f0f921"
             ]
            ],
            "type": "contour"
           }
          ],
          "contourcarpet": [
           {
            "colorbar": {
             "outlinewidth": 0,
             "ticks": ""
            },
            "type": "contourcarpet"
           }
          ],
          "heatmap": [
           {
            "colorbar": {
             "outlinewidth": 0,
             "ticks": ""
            },
            "colorscale": [
             [
              0,
              "#0d0887"
             ],
             [
              0.1111111111111111,
              "#46039f"
             ],
             [
              0.2222222222222222,
              "#7201a8"
             ],
             [
              0.3333333333333333,
              "#9c179e"
             ],
             [
              0.4444444444444444,
              "#bd3786"
             ],
             [
              0.5555555555555556,
              "#d8576b"
             ],
             [
              0.6666666666666666,
              "#ed7953"
             ],
             [
              0.7777777777777778,
              "#fb9f3a"
             ],
             [
              0.8888888888888888,
              "#fdca26"
             ],
             [
              1,
              "#f0f921"
             ]
            ],
            "type": "heatmap"
           }
          ],
          "heatmapgl": [
           {
            "colorbar": {
             "outlinewidth": 0,
             "ticks": ""
            },
            "colorscale": [
             [
              0,
              "#0d0887"
             ],
             [
              0.1111111111111111,
              "#46039f"
             ],
             [
              0.2222222222222222,
              "#7201a8"
             ],
             [
              0.3333333333333333,
              "#9c179e"
             ],
             [
              0.4444444444444444,
              "#bd3786"
             ],
             [
              0.5555555555555556,
              "#d8576b"
             ],
             [
              0.6666666666666666,
              "#ed7953"
             ],
             [
              0.7777777777777778,
              "#fb9f3a"
             ],
             [
              0.8888888888888888,
              "#fdca26"
             ],
             [
              1,
              "#f0f921"
             ]
            ],
            "type": "heatmapgl"
           }
          ],
          "histogram": [
           {
            "marker": {
             "pattern": {
              "fillmode": "overlay",
              "size": 10,
              "solidity": 0.2
             }
            },
            "type": "histogram"
           }
          ],
          "histogram2d": [
           {
            "colorbar": {
             "outlinewidth": 0,
             "ticks": ""
            },
            "colorscale": [
             [
              0,
              "#0d0887"
             ],
             [
              0.1111111111111111,
              "#46039f"
             ],
             [
              0.2222222222222222,
              "#7201a8"
             ],
             [
              0.3333333333333333,
              "#9c179e"
             ],
             [
              0.4444444444444444,
              "#bd3786"
             ],
             [
              0.5555555555555556,
              "#d8576b"
             ],
             [
              0.6666666666666666,
              "#ed7953"
             ],
             [
              0.7777777777777778,
              "#fb9f3a"
             ],
             [
              0.8888888888888888,
              "#fdca26"
             ],
             [
              1,
              "#f0f921"
             ]
            ],
            "type": "histogram2d"
           }
          ],
          "histogram2dcontour": [
           {
            "colorbar": {
             "outlinewidth": 0,
             "ticks": ""
            },
            "colorscale": [
             [
              0,
              "#0d0887"
             ],
             [
              0.1111111111111111,
              "#46039f"
             ],
             [
              0.2222222222222222,
              "#7201a8"
             ],
             [
              0.3333333333333333,
              "#9c179e"
             ],
             [
              0.4444444444444444,
              "#bd3786"
             ],
             [
              0.5555555555555556,
              "#d8576b"
             ],
             [
              0.6666666666666666,
              "#ed7953"
             ],
             [
              0.7777777777777778,
              "#fb9f3a"
             ],
             [
              0.8888888888888888,
              "#fdca26"
             ],
             [
              1,
              "#f0f921"
             ]
            ],
            "type": "histogram2dcontour"
           }
          ],
          "mesh3d": [
           {
            "colorbar": {
             "outlinewidth": 0,
             "ticks": ""
            },
            "type": "mesh3d"
           }
          ],
          "parcoords": [
           {
            "line": {
             "colorbar": {
              "outlinewidth": 0,
              "ticks": ""
             }
            },
            "type": "parcoords"
           }
          ],
          "pie": [
           {
            "automargin": true,
            "type": "pie"
           }
          ],
          "scatter": [
           {
            "fillpattern": {
             "fillmode": "overlay",
             "size": 10,
             "solidity": 0.2
            },
            "type": "scatter"
           }
          ],
          "scatter3d": [
           {
            "line": {
             "colorbar": {
              "outlinewidth": 0,
              "ticks": ""
             }
            },
            "marker": {
             "colorbar": {
              "outlinewidth": 0,
              "ticks": ""
             }
            },
            "type": "scatter3d"
           }
          ],
          "scattercarpet": [
           {
            "marker": {
             "colorbar": {
              "outlinewidth": 0,
              "ticks": ""
             }
            },
            "type": "scattercarpet"
           }
          ],
          "scattergeo": [
           {
            "marker": {
             "colorbar": {
              "outlinewidth": 0,
              "ticks": ""
             }
            },
            "type": "scattergeo"
           }
          ],
          "scattergl": [
           {
            "marker": {
             "colorbar": {
              "outlinewidth": 0,
              "ticks": ""
             }
            },
            "type": "scattergl"
           }
          ],
          "scattermapbox": [
           {
            "marker": {
             "colorbar": {
              "outlinewidth": 0,
              "ticks": ""
             }
            },
            "type": "scattermapbox"
           }
          ],
          "scatterpolar": [
           {
            "marker": {
             "colorbar": {
              "outlinewidth": 0,
              "ticks": ""
             }
            },
            "type": "scatterpolar"
           }
          ],
          "scatterpolargl": [
           {
            "marker": {
             "colorbar": {
              "outlinewidth": 0,
              "ticks": ""
             }
            },
            "type": "scatterpolargl"
           }
          ],
          "scatterternary": [
           {
            "marker": {
             "colorbar": {
              "outlinewidth": 0,
              "ticks": ""
             }
            },
            "type": "scatterternary"
           }
          ],
          "surface": [
           {
            "colorbar": {
             "outlinewidth": 0,
             "ticks": ""
            },
            "colorscale": [
             [
              0,
              "#0d0887"
             ],
             [
              0.1111111111111111,
              "#46039f"
             ],
             [
              0.2222222222222222,
              "#7201a8"
             ],
             [
              0.3333333333333333,
              "#9c179e"
             ],
             [
              0.4444444444444444,
              "#bd3786"
             ],
             [
              0.5555555555555556,
              "#d8576b"
             ],
             [
              0.6666666666666666,
              "#ed7953"
             ],
             [
              0.7777777777777778,
              "#fb9f3a"
             ],
             [
              0.8888888888888888,
              "#fdca26"
             ],
             [
              1,
              "#f0f921"
             ]
            ],
            "type": "surface"
           }
          ],
          "table": [
           {
            "cells": {
             "fill": {
              "color": "#EBF0F8"
             },
             "line": {
              "color": "white"
             }
            },
            "header": {
             "fill": {
              "color": "#C8D4E3"
             },
             "line": {
              "color": "white"
             }
            },
            "type": "table"
           }
          ]
         },
         "layout": {
          "annotationdefaults": {
           "arrowcolor": "#2a3f5f",
           "arrowhead": 0,
           "arrowwidth": 1
          },
          "autotypenumbers": "strict",
          "coloraxis": {
           "colorbar": {
            "outlinewidth": 0,
            "ticks": ""
           }
          },
          "colorscale": {
           "diverging": [
            [
             0,
             "#8e0152"
            ],
            [
             0.1,
             "#c51b7d"
            ],
            [
             0.2,
             "#de77ae"
            ],
            [
             0.3,
             "#f1b6da"
            ],
            [
             0.4,
             "#fde0ef"
            ],
            [
             0.5,
             "#f7f7f7"
            ],
            [
             0.6,
             "#e6f5d0"
            ],
            [
             0.7,
             "#b8e186"
            ],
            [
             0.8,
             "#7fbc41"
            ],
            [
             0.9,
             "#4d9221"
            ],
            [
             1,
             "#276419"
            ]
           ],
           "sequential": [
            [
             0,
             "#0d0887"
            ],
            [
             0.1111111111111111,
             "#46039f"
            ],
            [
             0.2222222222222222,
             "#7201a8"
            ],
            [
             0.3333333333333333,
             "#9c179e"
            ],
            [
             0.4444444444444444,
             "#bd3786"
            ],
            [
             0.5555555555555556,
             "#d8576b"
            ],
            [
             0.6666666666666666,
             "#ed7953"
            ],
            [
             0.7777777777777778,
             "#fb9f3a"
            ],
            [
             0.8888888888888888,
             "#fdca26"
            ],
            [
             1,
             "#f0f921"
            ]
           ],
           "sequentialminus": [
            [
             0,
             "#0d0887"
            ],
            [
             0.1111111111111111,
             "#46039f"
            ],
            [
             0.2222222222222222,
             "#7201a8"
            ],
            [
             0.3333333333333333,
             "#9c179e"
            ],
            [
             0.4444444444444444,
             "#bd3786"
            ],
            [
             0.5555555555555556,
             "#d8576b"
            ],
            [
             0.6666666666666666,
             "#ed7953"
            ],
            [
             0.7777777777777778,
             "#fb9f3a"
            ],
            [
             0.8888888888888888,
             "#fdca26"
            ],
            [
             1,
             "#f0f921"
            ]
           ]
          },
          "colorway": [
           "#636efa",
           "#EF553B",
           "#00cc96",
           "#ab63fa",
           "#FFA15A",
           "#19d3f3",
           "#FF6692",
           "#B6E880",
           "#FF97FF",
           "#FECB52"
          ],
          "font": {
           "color": "#2a3f5f"
          },
          "geo": {
           "bgcolor": "white",
           "lakecolor": "white",
           "landcolor": "#E5ECF6",
           "showlakes": true,
           "showland": true,
           "subunitcolor": "white"
          },
          "hoverlabel": {
           "align": "left"
          },
          "hovermode": "closest",
          "mapbox": {
           "style": "light"
          },
          "paper_bgcolor": "white",
          "plot_bgcolor": "#E5ECF6",
          "polar": {
           "angularaxis": {
            "gridcolor": "white",
            "linecolor": "white",
            "ticks": ""
           },
           "bgcolor": "#E5ECF6",
           "radialaxis": {
            "gridcolor": "white",
            "linecolor": "white",
            "ticks": ""
           }
          },
          "scene": {
           "xaxis": {
            "backgroundcolor": "#E5ECF6",
            "gridcolor": "white",
            "gridwidth": 2,
            "linecolor": "white",
            "showbackground": true,
            "ticks": "",
            "zerolinecolor": "white"
           },
           "yaxis": {
            "backgroundcolor": "#E5ECF6",
            "gridcolor": "white",
            "gridwidth": 2,
            "linecolor": "white",
            "showbackground": true,
            "ticks": "",
            "zerolinecolor": "white"
           },
           "zaxis": {
            "backgroundcolor": "#E5ECF6",
            "gridcolor": "white",
            "gridwidth": 2,
            "linecolor": "white",
            "showbackground": true,
            "ticks": "",
            "zerolinecolor": "white"
           }
          },
          "shapedefaults": {
           "line": {
            "color": "#2a3f5f"
           }
          },
          "ternary": {
           "aaxis": {
            "gridcolor": "white",
            "linecolor": "white",
            "ticks": ""
           },
           "baxis": {
            "gridcolor": "white",
            "linecolor": "white",
            "ticks": ""
           },
           "bgcolor": "#E5ECF6",
           "caxis": {
            "gridcolor": "white",
            "linecolor": "white",
            "ticks": ""
           }
          },
          "title": {
           "x": 0.05
          },
          "xaxis": {
           "automargin": true,
           "gridcolor": "white",
           "linecolor": "white",
           "ticks": "",
           "title": {
            "standoff": 15
           },
           "zerolinecolor": "white",
           "zerolinewidth": 2
          },
          "yaxis": {
           "automargin": true,
           "gridcolor": "white",
           "linecolor": "white",
           "ticks": "",
           "title": {
            "standoff": 15
           },
           "zerolinecolor": "white",
           "zerolinewidth": 2
          }
         }
        },
        "width": 600,
        "xaxis": {
         "anchor": "y",
         "domain": [
          0,
          1
         ],
         "title": {
          "font": {
           "size": 16
          },
          "text": "C2"
         }
        },
        "xaxis2": {
         "anchor": "y2",
         "domain": [
          0,
          1
         ],
         "title": {
          "font": {
           "size": 16
          },
          "text": "C2"
         }
        },
        "xaxis3": {
         "anchor": "y3",
         "domain": [
          0,
          1
         ],
         "title": {
          "text": "C2"
         }
        },
        "yaxis": {
         "anchor": "x",
         "domain": [
          0.7333333333333333,
          1
         ],
         "range": [
          0,
          1
         ],
         "side": "right",
         "title": {
          "font": {
           "size": 16
          },
          "text": "auc"
         }
        },
        "yaxis2": {
         "anchor": "x2",
         "domain": [
          0.36666666666666664,
          0.6333333333333333
         ],
         "range": [
          0,
          1
         ],
         "side": "right",
         "title": {
          "font": {
           "size": 16
          },
          "text": "violation_rate"
         }
        },
        "yaxis3": {
         "anchor": "x3",
         "domain": [
          0,
          0.26666666666666666
         ],
         "range": [
          0,
          1
         ],
         "side": "right",
         "title": {
          "font": {
           "size": 16
          },
          "text": "violation_rate (instance)"
         }
        }
       }
      }
     },
     "metadata": {},
     "output_type": "display_data"
    }
   ],
   "source": [
    "import plotly.graph_objects as go\n",
    "from plotly.subplots import make_subplots\n",
    "\n",
    "\n",
    "# グラフのデータを準備\n",
    "# index = ['l-SVM-p', 'r-SVM-p', 'LogReg-p']\n",
    "\n",
    "# index = [\n",
    "#     'linear svm (L)', \n",
    "#     'non-linear svm (L)', \n",
    "#     'logistic regression (L)'\n",
    "# ]\n",
    "\n",
    "# index = [\n",
    "#     'linear svm', \n",
    "#     'non-linear svm', \n",
    "#     'logistic regression'\n",
    "# ]\n",
    "\n",
    "index = [\n",
    "    'RuleFit Classifier (disc)',\n",
    "    'tree generator (disc)',\n",
    "]\n",
    "\n",
    "columns = ['auc', 'violation_rate', 'violation_rate (instance)']\n",
    "\n",
    "title_text = \"C2\"\n",
    "\n",
    "\n",
    "# サブプロットの作成\n",
    "# fig = make_subplots(rows=1, cols=2, subplot_titles=('AUC', 'ルール違反率'))\n",
    "fig = make_subplots(rows=len(columns), cols=1)\n",
    "showlegend=True\n",
    "\n",
    "for row_num, col in enumerate(columns):\n",
    "    tmp_mean = pd.DataFrame(\n",
    "        [{info: df.loc[model_name, col] for info, df in zip(infos, dfs_mean)} for model_name in index],\n",
    "        index=index\n",
    "    )\n",
    "    tmp_std = pd.DataFrame(\n",
    "        [{info: df.loc[model_name, col] for info, df in zip(infos, dfs_std)} for model_name in index],\n",
    "        index=index\n",
    "    )\n",
    "\n",
    "    # グラフ1: AUC\n",
    "    for i in range(len(tmp_mean)):\n",
    "        fig.add_trace(\n",
    "            go.Scatter(\n",
    "                x=tmp_mean.columns,\n",
    "                y=tmp_mean.iloc[i, :],\n",
    "                mode='lines+markers',\n",
    "                name=tmp_mean.index[i],\n",
    "                line=dict(color=colors_mean[i]),  # ラインの色を設定\n",
    "                marker=dict(color=colors_mean[i]),  # マーカーの色を設定\n",
    "                showlegend=showlegend,\n",
    "            ),\n",
    "            row=row_num+1, col=1\n",
    "        )\n",
    "        fig.add_trace(\n",
    "            go.Scatter(\n",
    "                x=tmp_mean.columns,\n",
    "                y=tmp_mean.iloc[i, :] + tmp_std.iloc[i, :],\n",
    "                mode='lines',\n",
    "                line=dict(color=colors_std[i]),  # ラインの色を設定\n",
    "                showlegend=False\n",
    "            ),\n",
    "            row=row_num+1, col=1\n",
    "        )\n",
    "        fig.add_trace(\n",
    "            go.Scatter(\n",
    "                x=tmp_mean.columns,\n",
    "                y=tmp_mean.iloc[i, :] - tmp_std.iloc[i, :],\n",
    "                mode='lines',\n",
    "                fill='tonexty',\n",
    "                fillcolor=colors_std[i],\n",
    "                line=dict(color='rgba(255,255,255,0)'),\n",
    "                showlegend=False\n",
    "            ),\n",
    "            row=row_num+1, col=1\n",
    "        )\n",
    "    \n",
    "    # x, y 軸の設定\n",
    "    fig.update_xaxes(title_text=title_text, row=row_num+1, col=1)\n",
    "    fig.update_yaxes(title_text=col, range=[0, 1], row=row_num+1, col=1, side='right', title_font=dict(size=16))\n",
    "\n",
    "    showlegend=False\n",
    "    \n",
    "# レイアウトの設定\n",
    "fig.update_layout(\n",
    "    height=len(columns) * 300,\n",
    "    width=600,\n",
    "    xaxis=dict(\n",
    "        domain=[0, 1],  # 左側のsubplotの幅を調整\n",
    "        title_font=dict(size=16)\n",
    "    ),\n",
    "    xaxis2=dict(\n",
    "        domain=[0, 1],  # 右側のsubplotの幅を調整\n",
    "        title_font=dict(size=16)\n",
    "    ),\n",
    "    legend=dict(\n",
    "        x=0.5,\n",
    "        y=1.15,\n",
    "        orientation='h'  # 水平配置\n",
    "    ),\n",
    ")\n",
    "\n",
    "\n",
    "# グラフの表示\n",
    "fig.show()"
   ]
  },
  {
   "cell_type": "code",
   "execution_count": 13,
   "metadata": {},
   "outputs": [
    {
     "data": {
      "application/vnd.plotly.v1+json": {
       "config": {
        "plotlyServerURL": "https://plot.ly"
       },
       "data": [
        {
         "line": {
          "color": "rgba(99,110,250,1)"
         },
         "marker": {
          "color": "rgba(99,110,250,1)"
         },
         "mode": "lines+markers",
         "name": "linear svm",
         "showlegend": true,
         "type": "scatter",
         "x": [
          0.1,
          1,
          5,
          15,
          50,
          100,
          1000
         ],
         "xaxis": "x",
         "y": [
          0.8824765942413002,
          0.8824765942413002,
          0.8824765942413002,
          0.8824765942413002,
          0.8824765942413002,
          0.8824765942413002,
          0.8824765942413002
         ],
         "yaxis": "y"
        },
        {
         "line": {
          "color": "rgba(99,110,250,0.2)"
         },
         "mode": "lines",
         "showlegend": false,
         "type": "scatter",
         "x": [
          0.1,
          1,
          5,
          15,
          50,
          100,
          1000
         ],
         "xaxis": "x",
         "y": [
          0.9105227219164085,
          0.9105227219164085,
          0.9105227219164085,
          0.9105227219164085,
          0.9105227219164085,
          0.9105227219164085,
          0.9105227219164085
         ],
         "yaxis": "y"
        },
        {
         "fill": "tonexty",
         "fillcolor": "rgba(99,110,250,0.2)",
         "line": {
          "color": "rgba(255,255,255,0)"
         },
         "mode": "lines",
         "showlegend": false,
         "type": "scatter",
         "x": [
          0.1,
          1,
          5,
          15,
          50,
          100,
          1000
         ],
         "xaxis": "x",
         "y": [
          0.8544304665661919,
          0.8544304665661919,
          0.8544304665661919,
          0.8544304665661919,
          0.8544304665661919,
          0.8544304665661919,
          0.8544304665661919
         ],
         "yaxis": "y"
        },
        {
         "line": {
          "color": "rgba(239,85,59,1)"
         },
         "marker": {
          "color": "rgba(239,85,59,1)"
         },
         "mode": "lines+markers",
         "name": "non-linear svm",
         "showlegend": true,
         "type": "scatter",
         "x": [
          0.1,
          1,
          5,
          15,
          50,
          100,
          1000
         ],
         "xaxis": "x",
         "y": [
          0.9096988164635225,
          0.9096988164635225,
          0.9096988164635225,
          0.9096988164635225,
          0.9096988164635225,
          0.9096988164635225,
          0.9096988164635225
         ],
         "yaxis": "y"
        },
        {
         "line": {
          "color": "rgba(239,85,59,0.2)"
         },
         "mode": "lines",
         "showlegend": false,
         "type": "scatter",
         "x": [
          0.1,
          1,
          5,
          15,
          50,
          100,
          1000
         ],
         "xaxis": "x",
         "y": [
          0.9485577226400103,
          0.9485577226400103,
          0.9485577226400103,
          0.9485577226400103,
          0.9485577226400103,
          0.9485577226400103,
          0.9485577226400103
         ],
         "yaxis": "y"
        },
        {
         "fill": "tonexty",
         "fillcolor": "rgba(239,85,59,0.2)",
         "line": {
          "color": "rgba(255,255,255,0)"
         },
         "mode": "lines",
         "showlegend": false,
         "type": "scatter",
         "x": [
          0.1,
          1,
          5,
          15,
          50,
          100,
          1000
         ],
         "xaxis": "x",
         "y": [
          0.8708399102870347,
          0.8708399102870347,
          0.8708399102870347,
          0.8708399102870347,
          0.8708399102870347,
          0.8708399102870347,
          0.8708399102870347
         ],
         "yaxis": "y"
        },
        {
         "line": {
          "color": "rgba(0,204,150,1)"
         },
         "marker": {
          "color": "rgba(0,204,150,1)"
         },
         "mode": "lines+markers",
         "name": "logistic regression",
         "showlegend": true,
         "type": "scatter",
         "x": [
          0.1,
          1,
          5,
          15,
          50,
          100,
          1000
         ],
         "xaxis": "x",
         "y": [
          0.8880321497968557,
          0.8880321497968557,
          0.8880321497968557,
          0.8880321497968557,
          0.8880321497968557,
          0.8880321497968557,
          0.8880321497968557
         ],
         "yaxis": "y"
        },
        {
         "line": {
          "color": "rgba(0,204,150,0.2)"
         },
         "mode": "lines",
         "showlegend": false,
         "type": "scatter",
         "x": [
          0.1,
          1,
          5,
          15,
          50,
          100,
          1000
         ],
         "xaxis": "x",
         "y": [
          0.9134125249708002,
          0.9134125249708002,
          0.9134125249708002,
          0.9134125249708002,
          0.9134125249708002,
          0.9134125249708002,
          0.9134125249708002
         ],
         "yaxis": "y"
        },
        {
         "fill": "tonexty",
         "fillcolor": "rgba(0,204,150,0.2)",
         "line": {
          "color": "rgba(255,255,255,0)"
         },
         "mode": "lines",
         "showlegend": false,
         "type": "scatter",
         "x": [
          0.1,
          1,
          5,
          15,
          50,
          100,
          1000
         ],
         "xaxis": "x",
         "y": [
          0.8626517746229113,
          0.8626517746229113,
          0.8626517746229113,
          0.8626517746229113,
          0.8626517746229113,
          0.8626517746229113,
          0.8626517746229113
         ],
         "yaxis": "y"
        },
        {
         "line": {
          "color": "rgba(171,99,250,1)"
         },
         "marker": {
          "color": "rgba(171,99,250,1)"
         },
         "mode": "lines+markers",
         "name": "RuleFit Classifier (disc)",
         "showlegend": true,
         "type": "scatter",
         "x": [
          0.1,
          1,
          5,
          15,
          50,
          100,
          1000
         ],
         "xaxis": "x",
         "y": [
          0.8072019077901432,
          0.8072019077901432,
          0.8072019077901432,
          0.8072019077901432,
          0.8072019077901432,
          0.8072019077901432,
          0.8072019077901432
         ],
         "yaxis": "y"
        },
        {
         "line": {
          "color": "rgba(171,99,250,0.2)"
         },
         "mode": "lines",
         "showlegend": false,
         "type": "scatter",
         "x": [
          0.1,
          1,
          5,
          15,
          50,
          100,
          1000
         ],
         "xaxis": "x",
         "y": [
          0.8932371816337767,
          0.8932371816337767,
          0.8932371816337767,
          0.8932371816337767,
          0.8932371816337767,
          0.8932371816337767,
          0.8932371816337767
         ],
         "yaxis": "y"
        },
        {
         "fill": "tonexty",
         "fillcolor": "rgba(171,99,250,0.2)",
         "line": {
          "color": "rgba(255,255,255,0)"
         },
         "mode": "lines",
         "showlegend": false,
         "type": "scatter",
         "x": [
          0.1,
          1,
          5,
          15,
          50,
          100,
          1000
         ],
         "xaxis": "x",
         "y": [
          0.7211666339465097,
          0.7211666339465097,
          0.7211666339465097,
          0.7211666339465097,
          0.7211666339465097,
          0.7211666339465097,
          0.7211666339465097
         ],
         "yaxis": "y"
        },
        {
         "line": {
          "color": "rgba(255,161,90,1)"
         },
         "marker": {
          "color": "rgba(255,161,90,1)"
         },
         "mode": "lines+markers",
         "name": "tree generator (disc)",
         "showlegend": true,
         "type": "scatter",
         "x": [
          0.1,
          1,
          5,
          15,
          50,
          100,
          1000
         ],
         "xaxis": "x",
         "y": [
          0.7366454689984102,
          0.7366454689984102,
          0.7366454689984102,
          0.7366454689984102,
          0.7366454689984102,
          0.7366454689984102,
          0.7366454689984102
         ],
         "yaxis": "y"
        },
        {
         "line": {
          "color": "rgba(255,161,90,0.2)"
         },
         "mode": "lines",
         "showlegend": false,
         "type": "scatter",
         "x": [
          0.1,
          1,
          5,
          15,
          50,
          100,
          1000
         ],
         "xaxis": "x",
         "y": [
          0.8045597523890572,
          0.8045597523890572,
          0.8045597523890572,
          0.8045597523890572,
          0.8045597523890572,
          0.8045597523890572,
          0.8045597523890572
         ],
         "yaxis": "y"
        },
        {
         "fill": "tonexty",
         "fillcolor": "rgba(255,161,90,0.2)",
         "line": {
          "color": "rgba(255,255,255,0)"
         },
         "mode": "lines",
         "showlegend": false,
         "type": "scatter",
         "x": [
          0.1,
          1,
          5,
          15,
          50,
          100,
          1000
         ],
         "xaxis": "x",
         "y": [
          0.6687311856077632,
          0.6687311856077632,
          0.6687311856077632,
          0.6687311856077632,
          0.6687311856077632,
          0.6687311856077632,
          0.6687311856077632
         ],
         "yaxis": "y"
        }
       ],
       "layout": {
        "height": 300,
        "legend": {
         "orientation": "h",
         "x": 0.5,
         "y": 2
        },
        "template": {
         "data": {
          "bar": [
           {
            "error_x": {
             "color": "#2a3f5f"
            },
            "error_y": {
             "color": "#2a3f5f"
            },
            "marker": {
             "line": {
              "color": "#E5ECF6",
              "width": 0.5
             },
             "pattern": {
              "fillmode": "overlay",
              "size": 10,
              "solidity": 0.2
             }
            },
            "type": "bar"
           }
          ],
          "barpolar": [
           {
            "marker": {
             "line": {
              "color": "#E5ECF6",
              "width": 0.5
             },
             "pattern": {
              "fillmode": "overlay",
              "size": 10,
              "solidity": 0.2
             }
            },
            "type": "barpolar"
           }
          ],
          "carpet": [
           {
            "aaxis": {
             "endlinecolor": "#2a3f5f",
             "gridcolor": "white",
             "linecolor": "white",
             "minorgridcolor": "white",
             "startlinecolor": "#2a3f5f"
            },
            "baxis": {
             "endlinecolor": "#2a3f5f",
             "gridcolor": "white",
             "linecolor": "white",
             "minorgridcolor": "white",
             "startlinecolor": "#2a3f5f"
            },
            "type": "carpet"
           }
          ],
          "choropleth": [
           {
            "colorbar": {
             "outlinewidth": 0,
             "ticks": ""
            },
            "type": "choropleth"
           }
          ],
          "contour": [
           {
            "colorbar": {
             "outlinewidth": 0,
             "ticks": ""
            },
            "colorscale": [
             [
              0,
              "#0d0887"
             ],
             [
              0.1111111111111111,
              "#46039f"
             ],
             [
              0.2222222222222222,
              "#7201a8"
             ],
             [
              0.3333333333333333,
              "#9c179e"
             ],
             [
              0.4444444444444444,
              "#bd3786"
             ],
             [
              0.5555555555555556,
              "#d8576b"
             ],
             [
              0.6666666666666666,
              "#ed7953"
             ],
             [
              0.7777777777777778,
              "#fb9f3a"
             ],
             [
              0.8888888888888888,
              "#fdca26"
             ],
             [
              1,
              "#f0f921"
             ]
            ],
            "type": "contour"
           }
          ],
          "contourcarpet": [
           {
            "colorbar": {
             "outlinewidth": 0,
             "ticks": ""
            },
            "type": "contourcarpet"
           }
          ],
          "heatmap": [
           {
            "colorbar": {
             "outlinewidth": 0,
             "ticks": ""
            },
            "colorscale": [
             [
              0,
              "#0d0887"
             ],
             [
              0.1111111111111111,
              "#46039f"
             ],
             [
              0.2222222222222222,
              "#7201a8"
             ],
             [
              0.3333333333333333,
              "#9c179e"
             ],
             [
              0.4444444444444444,
              "#bd3786"
             ],
             [
              0.5555555555555556,
              "#d8576b"
             ],
             [
              0.6666666666666666,
              "#ed7953"
             ],
             [
              0.7777777777777778,
              "#fb9f3a"
             ],
             [
              0.8888888888888888,
              "#fdca26"
             ],
             [
              1,
              "#f0f921"
             ]
            ],
            "type": "heatmap"
           }
          ],
          "heatmapgl": [
           {
            "colorbar": {
             "outlinewidth": 0,
             "ticks": ""
            },
            "colorscale": [
             [
              0,
              "#0d0887"
             ],
             [
              0.1111111111111111,
              "#46039f"
             ],
             [
              0.2222222222222222,
              "#7201a8"
             ],
             [
              0.3333333333333333,
              "#9c179e"
             ],
             [
              0.4444444444444444,
              "#bd3786"
             ],
             [
              0.5555555555555556,
              "#d8576b"
             ],
             [
              0.6666666666666666,
              "#ed7953"
             ],
             [
              0.7777777777777778,
              "#fb9f3a"
             ],
             [
              0.8888888888888888,
              "#fdca26"
             ],
             [
              1,
              "#f0f921"
             ]
            ],
            "type": "heatmapgl"
           }
          ],
          "histogram": [
           {
            "marker": {
             "pattern": {
              "fillmode": "overlay",
              "size": 10,
              "solidity": 0.2
             }
            },
            "type": "histogram"
           }
          ],
          "histogram2d": [
           {
            "colorbar": {
             "outlinewidth": 0,
             "ticks": ""
            },
            "colorscale": [
             [
              0,
              "#0d0887"
             ],
             [
              0.1111111111111111,
              "#46039f"
             ],
             [
              0.2222222222222222,
              "#7201a8"
             ],
             [
              0.3333333333333333,
              "#9c179e"
             ],
             [
              0.4444444444444444,
              "#bd3786"
             ],
             [
              0.5555555555555556,
              "#d8576b"
             ],
             [
              0.6666666666666666,
              "#ed7953"
             ],
             [
              0.7777777777777778,
              "#fb9f3a"
             ],
             [
              0.8888888888888888,
              "#fdca26"
             ],
             [
              1,
              "#f0f921"
             ]
            ],
            "type": "histogram2d"
           }
          ],
          "histogram2dcontour": [
           {
            "colorbar": {
             "outlinewidth": 0,
             "ticks": ""
            },
            "colorscale": [
             [
              0,
              "#0d0887"
             ],
             [
              0.1111111111111111,
              "#46039f"
             ],
             [
              0.2222222222222222,
              "#7201a8"
             ],
             [
              0.3333333333333333,
              "#9c179e"
             ],
             [
              0.4444444444444444,
              "#bd3786"
             ],
             [
              0.5555555555555556,
              "#d8576b"
             ],
             [
              0.6666666666666666,
              "#ed7953"
             ],
             [
              0.7777777777777778,
              "#fb9f3a"
             ],
             [
              0.8888888888888888,
              "#fdca26"
             ],
             [
              1,
              "#f0f921"
             ]
            ],
            "type": "histogram2dcontour"
           }
          ],
          "mesh3d": [
           {
            "colorbar": {
             "outlinewidth": 0,
             "ticks": ""
            },
            "type": "mesh3d"
           }
          ],
          "parcoords": [
           {
            "line": {
             "colorbar": {
              "outlinewidth": 0,
              "ticks": ""
             }
            },
            "type": "parcoords"
           }
          ],
          "pie": [
           {
            "automargin": true,
            "type": "pie"
           }
          ],
          "scatter": [
           {
            "fillpattern": {
             "fillmode": "overlay",
             "size": 10,
             "solidity": 0.2
            },
            "type": "scatter"
           }
          ],
          "scatter3d": [
           {
            "line": {
             "colorbar": {
              "outlinewidth": 0,
              "ticks": ""
             }
            },
            "marker": {
             "colorbar": {
              "outlinewidth": 0,
              "ticks": ""
             }
            },
            "type": "scatter3d"
           }
          ],
          "scattercarpet": [
           {
            "marker": {
             "colorbar": {
              "outlinewidth": 0,
              "ticks": ""
             }
            },
            "type": "scattercarpet"
           }
          ],
          "scattergeo": [
           {
            "marker": {
             "colorbar": {
              "outlinewidth": 0,
              "ticks": ""
             }
            },
            "type": "scattergeo"
           }
          ],
          "scattergl": [
           {
            "marker": {
             "colorbar": {
              "outlinewidth": 0,
              "ticks": ""
             }
            },
            "type": "scattergl"
           }
          ],
          "scattermapbox": [
           {
            "marker": {
             "colorbar": {
              "outlinewidth": 0,
              "ticks": ""
             }
            },
            "type": "scattermapbox"
           }
          ],
          "scatterpolar": [
           {
            "marker": {
             "colorbar": {
              "outlinewidth": 0,
              "ticks": ""
             }
            },
            "type": "scatterpolar"
           }
          ],
          "scatterpolargl": [
           {
            "marker": {
             "colorbar": {
              "outlinewidth": 0,
              "ticks": ""
             }
            },
            "type": "scatterpolargl"
           }
          ],
          "scatterternary": [
           {
            "marker": {
             "colorbar": {
              "outlinewidth": 0,
              "ticks": ""
             }
            },
            "type": "scatterternary"
           }
          ],
          "surface": [
           {
            "colorbar": {
             "outlinewidth": 0,
             "ticks": ""
            },
            "colorscale": [
             [
              0,
              "#0d0887"
             ],
             [
              0.1111111111111111,
              "#46039f"
             ],
             [
              0.2222222222222222,
              "#7201a8"
             ],
             [
              0.3333333333333333,
              "#9c179e"
             ],
             [
              0.4444444444444444,
              "#bd3786"
             ],
             [
              0.5555555555555556,
              "#d8576b"
             ],
             [
              0.6666666666666666,
              "#ed7953"
             ],
             [
              0.7777777777777778,
              "#fb9f3a"
             ],
             [
              0.8888888888888888,
              "#fdca26"
             ],
             [
              1,
              "#f0f921"
             ]
            ],
            "type": "surface"
           }
          ],
          "table": [
           {
            "cells": {
             "fill": {
              "color": "#EBF0F8"
             },
             "line": {
              "color": "white"
             }
            },
            "header": {
             "fill": {
              "color": "#C8D4E3"
             },
             "line": {
              "color": "white"
             }
            },
            "type": "table"
           }
          ]
         },
         "layout": {
          "annotationdefaults": {
           "arrowcolor": "#2a3f5f",
           "arrowhead": 0,
           "arrowwidth": 1
          },
          "autotypenumbers": "strict",
          "coloraxis": {
           "colorbar": {
            "outlinewidth": 0,
            "ticks": ""
           }
          },
          "colorscale": {
           "diverging": [
            [
             0,
             "#8e0152"
            ],
            [
             0.1,
             "#c51b7d"
            ],
            [
             0.2,
             "#de77ae"
            ],
            [
             0.3,
             "#f1b6da"
            ],
            [
             0.4,
             "#fde0ef"
            ],
            [
             0.5,
             "#f7f7f7"
            ],
            [
             0.6,
             "#e6f5d0"
            ],
            [
             0.7,
             "#b8e186"
            ],
            [
             0.8,
             "#7fbc41"
            ],
            [
             0.9,
             "#4d9221"
            ],
            [
             1,
             "#276419"
            ]
           ],
           "sequential": [
            [
             0,
             "#0d0887"
            ],
            [
             0.1111111111111111,
             "#46039f"
            ],
            [
             0.2222222222222222,
             "#7201a8"
            ],
            [
             0.3333333333333333,
             "#9c179e"
            ],
            [
             0.4444444444444444,
             "#bd3786"
            ],
            [
             0.5555555555555556,
             "#d8576b"
            ],
            [
             0.6666666666666666,
             "#ed7953"
            ],
            [
             0.7777777777777778,
             "#fb9f3a"
            ],
            [
             0.8888888888888888,
             "#fdca26"
            ],
            [
             1,
             "#f0f921"
            ]
           ],
           "sequentialminus": [
            [
             0,
             "#0d0887"
            ],
            [
             0.1111111111111111,
             "#46039f"
            ],
            [
             0.2222222222222222,
             "#7201a8"
            ],
            [
             0.3333333333333333,
             "#9c179e"
            ],
            [
             0.4444444444444444,
             "#bd3786"
            ],
            [
             0.5555555555555556,
             "#d8576b"
            ],
            [
             0.6666666666666666,
             "#ed7953"
            ],
            [
             0.7777777777777778,
             "#fb9f3a"
            ],
            [
             0.8888888888888888,
             "#fdca26"
            ],
            [
             1,
             "#f0f921"
            ]
           ]
          },
          "colorway": [
           "#636efa",
           "#EF553B",
           "#00cc96",
           "#ab63fa",
           "#FFA15A",
           "#19d3f3",
           "#FF6692",
           "#B6E880",
           "#FF97FF",
           "#FECB52"
          ],
          "font": {
           "color": "#2a3f5f"
          },
          "geo": {
           "bgcolor": "white",
           "lakecolor": "white",
           "landcolor": "#E5ECF6",
           "showlakes": true,
           "showland": true,
           "subunitcolor": "white"
          },
          "hoverlabel": {
           "align": "left"
          },
          "hovermode": "closest",
          "mapbox": {
           "style": "light"
          },
          "paper_bgcolor": "white",
          "plot_bgcolor": "#E5ECF6",
          "polar": {
           "angularaxis": {
            "gridcolor": "white",
            "linecolor": "white",
            "ticks": ""
           },
           "bgcolor": "#E5ECF6",
           "radialaxis": {
            "gridcolor": "white",
            "linecolor": "white",
            "ticks": ""
           }
          },
          "scene": {
           "xaxis": {
            "backgroundcolor": "#E5ECF6",
            "gridcolor": "white",
            "gridwidth": 2,
            "linecolor": "white",
            "showbackground": true,
            "ticks": "",
            "zerolinecolor": "white"
           },
           "yaxis": {
            "backgroundcolor": "#E5ECF6",
            "gridcolor": "white",
            "gridwidth": 2,
            "linecolor": "white",
            "showbackground": true,
            "ticks": "",
            "zerolinecolor": "white"
           },
           "zaxis": {
            "backgroundcolor": "#E5ECF6",
            "gridcolor": "white",
            "gridwidth": 2,
            "linecolor": "white",
            "showbackground": true,
            "ticks": "",
            "zerolinecolor": "white"
           }
          },
          "shapedefaults": {
           "line": {
            "color": "#2a3f5f"
           }
          },
          "ternary": {
           "aaxis": {
            "gridcolor": "white",
            "linecolor": "white",
            "ticks": ""
           },
           "baxis": {
            "gridcolor": "white",
            "linecolor": "white",
            "ticks": ""
           },
           "bgcolor": "#E5ECF6",
           "caxis": {
            "gridcolor": "white",
            "linecolor": "white",
            "ticks": ""
           }
          },
          "title": {
           "x": 0.05
          },
          "xaxis": {
           "automargin": true,
           "gridcolor": "white",
           "linecolor": "white",
           "ticks": "",
           "title": {
            "standoff": 15
           },
           "zerolinecolor": "white",
           "zerolinewidth": 2
          },
          "yaxis": {
           "automargin": true,
           "gridcolor": "white",
           "linecolor": "white",
           "ticks": "",
           "title": {
            "standoff": 15
           },
           "zerolinecolor": "white",
           "zerolinewidth": 2
          }
         }
        },
        "width": 600,
        "xaxis": {
         "anchor": "y",
         "domain": [
          0,
          1
         ],
         "title": {
          "font": {
           "size": 16
          },
          "text": "C2"
         }
        },
        "xaxis2": {
         "domain": [
          0,
          1
         ],
         "title": {
          "font": {
           "size": 16
          }
         }
        },
        "yaxis": {
         "anchor": "x",
         "domain": [
          0,
          1
         ],
         "range": [
          0,
          1
         ],
         "side": "right",
         "title": {
          "font": {
           "size": 16
          },
          "text": "violation_rate"
         }
        }
       }
      }
     },
     "metadata": {},
     "output_type": "display_data"
    }
   ],
   "source": [
    "import plotly.graph_objects as go\n",
    "from plotly.subplots import make_subplots\n",
    "\n",
    "\n",
    "# グラフのデータを準備\n",
    "# index = ['l-SVM-p', 'r-SVM-p', 'LogReg-p']\n",
    "\n",
    "# index = [\n",
    "#     'linear svm (L)', \n",
    "#     'non-linear svm (L)', \n",
    "#     'logistic regression (L)'\n",
    "# ]\n",
    "\n",
    "index = [\n",
    "    'linear svm', \n",
    "    'non-linear svm', \n",
    "    'logistic regression',\n",
    "    'RuleFit Classifier (disc)',\n",
    "    'tree generator (disc)',\n",
    "]\n",
    "\n",
    "columns = ['violation_rate']\n",
    "\n",
    "title_text = \"C2\"\n",
    "\n",
    "\n",
    "# サブプロットの作成\n",
    "# fig = make_subplots(rows=1, cols=2, subplot_titles=('AUC', 'ルール違反率'))\n",
    "fig = make_subplots(rows=len(columns), cols=1)\n",
    "showlegend=True\n",
    "\n",
    "for row_num, col in enumerate(columns):\n",
    "    tmp_mean = pd.DataFrame(\n",
    "        [{info: df.loc[model_name, col] for info, df in zip(infos, dfs_mean)} for model_name in index],\n",
    "        index=index\n",
    "    )\n",
    "    tmp_std = pd.DataFrame(\n",
    "        [{info: df.loc[model_name, col] for info, df in zip(infos, dfs_std)} for model_name in index],\n",
    "        index=index\n",
    "    )\n",
    "\n",
    "    # グラフ1: AUC\n",
    "    for i in range(len(tmp_mean)):\n",
    "        fig.add_trace(\n",
    "            go.Scatter(\n",
    "                x=tmp_mean.columns,\n",
    "                y=tmp_mean.iloc[i, :],\n",
    "                mode='lines+markers',\n",
    "                name=tmp_mean.index[i],\n",
    "                line=dict(color=colors_mean[i]),  # ラインの色を設定\n",
    "                marker=dict(color=colors_mean[i]),  # マーカーの色を設定\n",
    "                showlegend=showlegend,\n",
    "            ),\n",
    "            row=row_num+1, col=1\n",
    "        )\n",
    "        fig.add_trace(\n",
    "            go.Scatter(\n",
    "                x=tmp_mean.columns,\n",
    "                y=tmp_mean.iloc[i, :] + tmp_std.iloc[i, :],\n",
    "                mode='lines',\n",
    "                line=dict(color=colors_std[i]),  # ラインの色を設定\n",
    "                showlegend=False\n",
    "            ),\n",
    "            row=row_num+1, col=1\n",
    "        )\n",
    "        fig.add_trace(\n",
    "            go.Scatter(\n",
    "                x=tmp_mean.columns,\n",
    "                y=tmp_mean.iloc[i, :] - tmp_std.iloc[i, :],\n",
    "                mode='lines',\n",
    "                fill='tonexty',\n",
    "                fillcolor=colors_std[i],\n",
    "                line=dict(color='rgba(255,255,255,0)'),\n",
    "                showlegend=False\n",
    "            ),\n",
    "            row=row_num+1, col=1\n",
    "        )\n",
    "    \n",
    "    # x, y 軸の設定\n",
    "    fig.update_xaxes(title_text=title_text, row=row_num+1, col=1)\n",
    "    fig.update_yaxes(title_text=col, range=[0, 1], row=row_num+1, col=1, side='right', title_font=dict(size=16))\n",
    "\n",
    "    showlegend=False\n",
    "    \n",
    "# レイアウトの設定\n",
    "fig.update_layout(\n",
    "    height=len(columns) * 300,\n",
    "    width=600,\n",
    "    xaxis=dict(\n",
    "        domain=[0, 1],  # 左側のsubplotの幅を調整\n",
    "        title_font=dict(size=16)\n",
    "    ),\n",
    "    xaxis2=dict(\n",
    "        domain=[0, 1],  # 右側のsubplotの幅を調整\n",
    "        title_font=dict(size=16)\n",
    "    ),\n",
    "    legend=dict(\n",
    "        x=0.5,\n",
    "        y=2,\n",
    "        orientation='h'  # 水平配置\n",
    "    ),\n",
    ")\n",
    "\n",
    "\n",
    "# グラフの表示\n",
    "fig.show()"
   ]
  },
  {
   "cell_type": "code",
   "execution_count": null,
   "metadata": {},
   "outputs": [],
   "source": []
  }
 ],
 "metadata": {
  "kernelspec": {
   "display_name": "myenv",
   "language": "python",
   "name": "python3"
  },
  "language_info": {
   "codemirror_mode": {
    "name": "ipython",
    "version": 3
   },
   "file_extension": ".py",
   "mimetype": "text/x-python",
   "name": "python",
   "nbconvert_exporter": "python",
   "pygments_lexer": "ipython3",
   "version": "3.11.9"
  }
 },
 "nbformat": 4,
 "nbformat_minor": 2
}
