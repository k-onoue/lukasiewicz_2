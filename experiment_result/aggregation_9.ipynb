{
 "cells": [
  {
   "cell_type": "code",
   "execution_count": 1,
   "metadata": {},
   "outputs": [
    {
     "data": {
      "text/html": [
       "<div>\n",
       "<style scoped>\n",
       "    .dataframe tbody tr th:only-of-type {\n",
       "        vertical-align: middle;\n",
       "    }\n",
       "\n",
       "    .dataframe tbody tr th {\n",
       "        vertical-align: top;\n",
       "    }\n",
       "\n",
       "    .dataframe thead th {\n",
       "        text-align: right;\n",
       "    }\n",
       "</style>\n",
       "<table border=\"1\" class=\"dataframe\">\n",
       "  <thead>\n",
       "    <tr style=\"text-align: right;\">\n",
       "      <th></th>\n",
       "      <th>accuracy</th>\n",
       "      <th>precision</th>\n",
       "      <th>recall</th>\n",
       "      <th>f1</th>\n",
       "      <th>auc</th>\n",
       "      <th>n_violation</th>\n",
       "      <th>n_rule</th>\n",
       "      <th>violation_rate</th>\n",
       "      <th>n_violation (instance)</th>\n",
       "      <th>n_evaluation (instance)</th>\n",
       "      <th>violation_rate (instance)</th>\n",
       "    </tr>\n",
       "  </thead>\n",
       "  <tbody>\n",
       "    <tr>\n",
       "      <th>linear svm</th>\n",
       "      <td>0.779104</td>\n",
       "      <td>0.711436</td>\n",
       "      <td>0.551175</td>\n",
       "      <td>0.618693</td>\n",
       "      <td>0.837805</td>\n",
       "      <td>32.2</td>\n",
       "      <td>36.6</td>\n",
       "      <td>0.88134</td>\n",
       "      <td>527.2</td>\n",
       "      <td>597.2</td>\n",
       "      <td>0.881766</td>\n",
       "    </tr>\n",
       "    <tr>\n",
       "      <th>non-linear svm</th>\n",
       "      <td>0.780597</td>\n",
       "      <td>0.75907</td>\n",
       "      <td>0.479714</td>\n",
       "      <td>0.587201</td>\n",
       "      <td>0.838064</td>\n",
       "      <td>33.2</td>\n",
       "      <td>36.6</td>\n",
       "      <td>0.906615</td>\n",
       "      <td>535.0</td>\n",
       "      <td>597.2</td>\n",
       "      <td>0.895147</td>\n",
       "    </tr>\n",
       "    <tr>\n",
       "      <th>logistic regression</th>\n",
       "      <td>0.78209</td>\n",
       "      <td>0.731143</td>\n",
       "      <td>0.530165</td>\n",
       "      <td>0.612464</td>\n",
       "      <td>0.840573</td>\n",
       "      <td>32.4</td>\n",
       "      <td>36.6</td>\n",
       "      <td>0.886469</td>\n",
       "      <td>529.8</td>\n",
       "      <td>597.2</td>\n",
       "      <td>0.886296</td>\n",
       "    </tr>\n",
       "    <tr>\n",
       "      <th>RuleFit Classifier (disc)</th>\n",
       "      <td>0.783582</td>\n",
       "      <td>0.742431</td>\n",
       "      <td>0.521271</td>\n",
       "      <td>0.610252</td>\n",
       "      <td>0.815857</td>\n",
       "      <td>29.8</td>\n",
       "      <td>36.6</td>\n",
       "      <td>0.806635</td>\n",
       "      <td>523.8</td>\n",
       "      <td>597.2</td>\n",
       "      <td>0.875388</td>\n",
       "    </tr>\n",
       "    <tr>\n",
       "      <th>RuleFit Classifier (conti)</th>\n",
       "      <td>0.740299</td>\n",
       "      <td>0.614839</td>\n",
       "      <td>0.557553</td>\n",
       "      <td>0.579793</td>\n",
       "      <td>0.792859</td>\n",
       "      <td>32.2</td>\n",
       "      <td>36.6</td>\n",
       "      <td>0.881589</td>\n",
       "      <td>525.6</td>\n",
       "      <td>597.2</td>\n",
       "      <td>0.87959</td>\n",
       "    </tr>\n",
       "    <tr>\n",
       "      <th>tree generator (disc)</th>\n",
       "      <td>0.741791</td>\n",
       "      <td>0.627843</td>\n",
       "      <td>0.557706</td>\n",
       "      <td>0.582608</td>\n",
       "      <td>0.772322</td>\n",
       "      <td>27.4</td>\n",
       "      <td>36.6</td>\n",
       "      <td>0.742871</td>\n",
       "      <td>513.4</td>\n",
       "      <td>597.2</td>\n",
       "      <td>0.85784</td>\n",
       "    </tr>\n",
       "    <tr>\n",
       "      <th>tree generator (conti)</th>\n",
       "      <td>0.78209</td>\n",
       "      <td>0.715158</td>\n",
       "      <td>0.568106</td>\n",
       "      <td>0.62746</td>\n",
       "      <td>0.8326</td>\n",
       "      <td>32.2</td>\n",
       "      <td>36.6</td>\n",
       "      <td>0.879967</td>\n",
       "      <td>529.2</td>\n",
       "      <td>597.2</td>\n",
       "      <td>0.885117</td>\n",
       "    </tr>\n",
       "    <tr>\n",
       "      <th>linear svm (L)</th>\n",
       "      <td>0.386567</td>\n",
       "      <td>0.361011</td>\n",
       "      <td>0.926531</td>\n",
       "      <td>0.499056</td>\n",
       "      <td>0.63606</td>\n",
       "      <td>22.6</td>\n",
       "      <td>36.6</td>\n",
       "      <td>0.615092</td>\n",
       "      <td>414.6</td>\n",
       "      <td>597.2</td>\n",
       "      <td>0.684948</td>\n",
       "    </tr>\n",
       "    <tr>\n",
       "      <th>non-linear svm (L)</th>\n",
       "      <td>0.71791</td>\n",
       "      <td>0.546909</td>\n",
       "      <td>0.794906</td>\n",
       "      <td>0.644983</td>\n",
       "      <td>0.827589</td>\n",
       "      <td>24.0</td>\n",
       "      <td>36.6</td>\n",
       "      <td>0.647864</td>\n",
       "      <td>160.2</td>\n",
       "      <td>597.2</td>\n",
       "      <td>0.268972</td>\n",
       "    </tr>\n",
       "    <tr>\n",
       "      <th>logistic regression (L)</th>\n",
       "      <td>0.765672</td>\n",
       "      <td>0.70825</td>\n",
       "      <td>0.491994</td>\n",
       "      <td>0.576058</td>\n",
       "      <td>0.824857</td>\n",
       "      <td>20.2</td>\n",
       "      <td>36.6</td>\n",
       "      <td>0.555591</td>\n",
       "      <td>98.0</td>\n",
       "      <td>597.2</td>\n",
       "      <td>0.16492</td>\n",
       "    </tr>\n",
       "    <tr>\n",
       "      <th>rule_based_prediction</th>\n",
       "      <td>0.325373</td>\n",
       "      <td>0.325373</td>\n",
       "      <td>1.0</td>\n",
       "      <td>0.489178</td>\n",
       "      <td>0.5</td>\n",
       "      <td>21.6</td>\n",
       "      <td>36.6</td>\n",
       "      <td>0.588776</td>\n",
       "      <td>479.2</td>\n",
       "      <td>597.2</td>\n",
       "      <td>0.801555</td>\n",
       "    </tr>\n",
       "  </tbody>\n",
       "</table>\n",
       "</div>"
      ],
      "text/plain": [
       "                            accuracy precision    recall        f1       auc  \\\n",
       "linear svm                  0.779104  0.711436  0.551175  0.618693  0.837805   \n",
       "non-linear svm              0.780597   0.75907  0.479714  0.587201  0.838064   \n",
       "logistic regression          0.78209  0.731143  0.530165  0.612464  0.840573   \n",
       "RuleFit Classifier (disc)   0.783582  0.742431  0.521271  0.610252  0.815857   \n",
       "RuleFit Classifier (conti)  0.740299  0.614839  0.557553  0.579793  0.792859   \n",
       "tree generator (disc)       0.741791  0.627843  0.557706  0.582608  0.772322   \n",
       "tree generator (conti)       0.78209  0.715158  0.568106   0.62746    0.8326   \n",
       "linear svm (L)              0.386567  0.361011  0.926531  0.499056   0.63606   \n",
       "non-linear svm (L)           0.71791  0.546909  0.794906  0.644983  0.827589   \n",
       "logistic regression (L)     0.765672   0.70825  0.491994  0.576058  0.824857   \n",
       "rule_based_prediction       0.325373  0.325373       1.0  0.489178       0.5   \n",
       "\n",
       "                           n_violation n_rule violation_rate  \\\n",
       "linear svm                        32.2   36.6        0.88134   \n",
       "non-linear svm                    33.2   36.6       0.906615   \n",
       "logistic regression               32.4   36.6       0.886469   \n",
       "RuleFit Classifier (disc)         29.8   36.6       0.806635   \n",
       "RuleFit Classifier (conti)        32.2   36.6       0.881589   \n",
       "tree generator (disc)             27.4   36.6       0.742871   \n",
       "tree generator (conti)            32.2   36.6       0.879967   \n",
       "linear svm (L)                    22.6   36.6       0.615092   \n",
       "non-linear svm (L)                24.0   36.6       0.647864   \n",
       "logistic regression (L)           20.2   36.6       0.555591   \n",
       "rule_based_prediction             21.6   36.6       0.588776   \n",
       "\n",
       "                           n_violation (instance) n_evaluation (instance)  \\\n",
       "linear svm                                  527.2                   597.2   \n",
       "non-linear svm                              535.0                   597.2   \n",
       "logistic regression                         529.8                   597.2   \n",
       "RuleFit Classifier (disc)                   523.8                   597.2   \n",
       "RuleFit Classifier (conti)                  525.6                   597.2   \n",
       "tree generator (disc)                       513.4                   597.2   \n",
       "tree generator (conti)                      529.2                   597.2   \n",
       "linear svm (L)                              414.6                   597.2   \n",
       "non-linear svm (L)                          160.2                   597.2   \n",
       "logistic regression (L)                      98.0                   597.2   \n",
       "rule_based_prediction                       479.2                   597.2   \n",
       "\n",
       "                           violation_rate (instance)  \n",
       "linear svm                                  0.881766  \n",
       "non-linear svm                              0.895147  \n",
       "logistic regression                         0.886296  \n",
       "RuleFit Classifier (disc)                   0.875388  \n",
       "RuleFit Classifier (conti)                   0.87959  \n",
       "tree generator (disc)                        0.85784  \n",
       "tree generator (conti)                      0.885117  \n",
       "linear svm (L)                              0.684948  \n",
       "non-linear svm (L)                          0.268972  \n",
       "logistic regression (L)                      0.16492  \n",
       "rule_based_prediction                       0.801555  "
      ]
     },
     "metadata": {},
     "output_type": "display_data"
    },
    {
     "data": {
      "text/html": [
       "<div>\n",
       "<style scoped>\n",
       "    .dataframe tbody tr th:only-of-type {\n",
       "        vertical-align: middle;\n",
       "    }\n",
       "\n",
       "    .dataframe tbody tr th {\n",
       "        vertical-align: top;\n",
       "    }\n",
       "\n",
       "    .dataframe thead th {\n",
       "        text-align: right;\n",
       "    }\n",
       "</style>\n",
       "<table border=\"1\" class=\"dataframe\">\n",
       "  <thead>\n",
       "    <tr style=\"text-align: right;\">\n",
       "      <th></th>\n",
       "      <th>accuracy</th>\n",
       "      <th>precision</th>\n",
       "      <th>recall</th>\n",
       "      <th>f1</th>\n",
       "      <th>auc</th>\n",
       "      <th>n_violation</th>\n",
       "      <th>n_rule</th>\n",
       "      <th>violation_rate</th>\n",
       "      <th>n_violation (instance)</th>\n",
       "      <th>n_evaluation (instance)</th>\n",
       "      <th>violation_rate (instance)</th>\n",
       "    </tr>\n",
       "  </thead>\n",
       "  <tbody>\n",
       "    <tr>\n",
       "      <th>linear svm</th>\n",
       "      <td>0.779104</td>\n",
       "      <td>0.711436</td>\n",
       "      <td>0.551175</td>\n",
       "      <td>0.618693</td>\n",
       "      <td>0.837805</td>\n",
       "      <td>32.2</td>\n",
       "      <td>36.6</td>\n",
       "      <td>0.88134</td>\n",
       "      <td>527.2</td>\n",
       "      <td>597.2</td>\n",
       "      <td>0.881766</td>\n",
       "    </tr>\n",
       "    <tr>\n",
       "      <th>non-linear svm</th>\n",
       "      <td>0.780597</td>\n",
       "      <td>0.75907</td>\n",
       "      <td>0.479714</td>\n",
       "      <td>0.587201</td>\n",
       "      <td>0.838064</td>\n",
       "      <td>33.2</td>\n",
       "      <td>36.6</td>\n",
       "      <td>0.906615</td>\n",
       "      <td>535.0</td>\n",
       "      <td>597.2</td>\n",
       "      <td>0.895147</td>\n",
       "    </tr>\n",
       "    <tr>\n",
       "      <th>logistic regression</th>\n",
       "      <td>0.78209</td>\n",
       "      <td>0.731143</td>\n",
       "      <td>0.530165</td>\n",
       "      <td>0.612464</td>\n",
       "      <td>0.840573</td>\n",
       "      <td>32.4</td>\n",
       "      <td>36.6</td>\n",
       "      <td>0.886469</td>\n",
       "      <td>529.8</td>\n",
       "      <td>597.2</td>\n",
       "      <td>0.886296</td>\n",
       "    </tr>\n",
       "    <tr>\n",
       "      <th>RuleFit Classifier (disc)</th>\n",
       "      <td>0.783582</td>\n",
       "      <td>0.742431</td>\n",
       "      <td>0.521271</td>\n",
       "      <td>0.610252</td>\n",
       "      <td>0.815857</td>\n",
       "      <td>29.8</td>\n",
       "      <td>36.6</td>\n",
       "      <td>0.806635</td>\n",
       "      <td>523.8</td>\n",
       "      <td>597.2</td>\n",
       "      <td>0.875388</td>\n",
       "    </tr>\n",
       "    <tr>\n",
       "      <th>RuleFit Classifier (conti)</th>\n",
       "      <td>0.740299</td>\n",
       "      <td>0.614839</td>\n",
       "      <td>0.557553</td>\n",
       "      <td>0.579793</td>\n",
       "      <td>0.792859</td>\n",
       "      <td>32.2</td>\n",
       "      <td>36.6</td>\n",
       "      <td>0.881589</td>\n",
       "      <td>525.6</td>\n",
       "      <td>597.2</td>\n",
       "      <td>0.87959</td>\n",
       "    </tr>\n",
       "    <tr>\n",
       "      <th>tree generator (disc)</th>\n",
       "      <td>0.741791</td>\n",
       "      <td>0.627843</td>\n",
       "      <td>0.557706</td>\n",
       "      <td>0.582608</td>\n",
       "      <td>0.772322</td>\n",
       "      <td>27.4</td>\n",
       "      <td>36.6</td>\n",
       "      <td>0.742871</td>\n",
       "      <td>513.4</td>\n",
       "      <td>597.2</td>\n",
       "      <td>0.85784</td>\n",
       "    </tr>\n",
       "    <tr>\n",
       "      <th>tree generator (conti)</th>\n",
       "      <td>0.78209</td>\n",
       "      <td>0.715158</td>\n",
       "      <td>0.568106</td>\n",
       "      <td>0.62746</td>\n",
       "      <td>0.8326</td>\n",
       "      <td>32.2</td>\n",
       "      <td>36.6</td>\n",
       "      <td>0.879967</td>\n",
       "      <td>529.2</td>\n",
       "      <td>597.2</td>\n",
       "      <td>0.885117</td>\n",
       "    </tr>\n",
       "    <tr>\n",
       "      <th>linear svm (L)</th>\n",
       "      <td>0.467164</td>\n",
       "      <td>0.428545</td>\n",
       "      <td>0.842591</td>\n",
       "      <td>0.516811</td>\n",
       "      <td>0.414084</td>\n",
       "      <td>22.2</td>\n",
       "      <td>36.6</td>\n",
       "      <td>0.60607</td>\n",
       "      <td>324.8</td>\n",
       "      <td>597.2</td>\n",
       "      <td>0.558501</td>\n",
       "    </tr>\n",
       "    <tr>\n",
       "      <th>non-linear svm (L)</th>\n",
       "      <td>0.728358</td>\n",
       "      <td>0.563585</td>\n",
       "      <td>0.752002</td>\n",
       "      <td>0.638328</td>\n",
       "      <td>0.823751</td>\n",
       "      <td>25.2</td>\n",
       "      <td>36.6</td>\n",
       "      <td>0.678372</td>\n",
       "      <td>152.4</td>\n",
       "      <td>597.2</td>\n",
       "      <td>0.255075</td>\n",
       "    </tr>\n",
       "    <tr>\n",
       "      <th>logistic regression (L)</th>\n",
       "      <td>0.773134</td>\n",
       "      <td>0.731253</td>\n",
       "      <td>0.491994</td>\n",
       "      <td>0.584003</td>\n",
       "      <td>0.825981</td>\n",
       "      <td>19.6</td>\n",
       "      <td>36.6</td>\n",
       "      <td>0.537914</td>\n",
       "      <td>96.4</td>\n",
       "      <td>597.2</td>\n",
       "      <td>0.162186</td>\n",
       "    </tr>\n",
       "    <tr>\n",
       "      <th>rule_based_prediction</th>\n",
       "      <td>0.325373</td>\n",
       "      <td>0.325373</td>\n",
       "      <td>1.0</td>\n",
       "      <td>0.489178</td>\n",
       "      <td>0.5</td>\n",
       "      <td>21.6</td>\n",
       "      <td>36.6</td>\n",
       "      <td>0.588776</td>\n",
       "      <td>479.2</td>\n",
       "      <td>597.2</td>\n",
       "      <td>0.801555</td>\n",
       "    </tr>\n",
       "  </tbody>\n",
       "</table>\n",
       "</div>"
      ],
      "text/plain": [
       "                            accuracy precision    recall        f1       auc  \\\n",
       "linear svm                  0.779104  0.711436  0.551175  0.618693  0.837805   \n",
       "non-linear svm              0.780597   0.75907  0.479714  0.587201  0.838064   \n",
       "logistic regression          0.78209  0.731143  0.530165  0.612464  0.840573   \n",
       "RuleFit Classifier (disc)   0.783582  0.742431  0.521271  0.610252  0.815857   \n",
       "RuleFit Classifier (conti)  0.740299  0.614839  0.557553  0.579793  0.792859   \n",
       "tree generator (disc)       0.741791  0.627843  0.557706  0.582608  0.772322   \n",
       "tree generator (conti)       0.78209  0.715158  0.568106   0.62746    0.8326   \n",
       "linear svm (L)              0.467164  0.428545  0.842591  0.516811  0.414084   \n",
       "non-linear svm (L)          0.728358  0.563585  0.752002  0.638328  0.823751   \n",
       "logistic regression (L)     0.773134  0.731253  0.491994  0.584003  0.825981   \n",
       "rule_based_prediction       0.325373  0.325373       1.0  0.489178       0.5   \n",
       "\n",
       "                           n_violation n_rule violation_rate  \\\n",
       "linear svm                        32.2   36.6        0.88134   \n",
       "non-linear svm                    33.2   36.6       0.906615   \n",
       "logistic regression               32.4   36.6       0.886469   \n",
       "RuleFit Classifier (disc)         29.8   36.6       0.806635   \n",
       "RuleFit Classifier (conti)        32.2   36.6       0.881589   \n",
       "tree generator (disc)             27.4   36.6       0.742871   \n",
       "tree generator (conti)            32.2   36.6       0.879967   \n",
       "linear svm (L)                    22.2   36.6        0.60607   \n",
       "non-linear svm (L)                25.2   36.6       0.678372   \n",
       "logistic regression (L)           19.6   36.6       0.537914   \n",
       "rule_based_prediction             21.6   36.6       0.588776   \n",
       "\n",
       "                           n_violation (instance) n_evaluation (instance)  \\\n",
       "linear svm                                  527.2                   597.2   \n",
       "non-linear svm                              535.0                   597.2   \n",
       "logistic regression                         529.8                   597.2   \n",
       "RuleFit Classifier (disc)                   523.8                   597.2   \n",
       "RuleFit Classifier (conti)                  525.6                   597.2   \n",
       "tree generator (disc)                       513.4                   597.2   \n",
       "tree generator (conti)                      529.2                   597.2   \n",
       "linear svm (L)                              324.8                   597.2   \n",
       "non-linear svm (L)                          152.4                   597.2   \n",
       "logistic regression (L)                      96.4                   597.2   \n",
       "rule_based_prediction                       479.2                   597.2   \n",
       "\n",
       "                           violation_rate (instance)  \n",
       "linear svm                                  0.881766  \n",
       "non-linear svm                              0.895147  \n",
       "logistic regression                         0.886296  \n",
       "RuleFit Classifier (disc)                   0.875388  \n",
       "RuleFit Classifier (conti)                   0.87959  \n",
       "tree generator (disc)                        0.85784  \n",
       "tree generator (conti)                      0.885117  \n",
       "linear svm (L)                              0.558501  \n",
       "non-linear svm (L)                          0.255075  \n",
       "logistic regression (L)                     0.162186  \n",
       "rule_based_prediction                       0.801555  "
      ]
     },
     "metadata": {},
     "output_type": "display_data"
    },
    {
     "data": {
      "text/html": [
       "<div>\n",
       "<style scoped>\n",
       "    .dataframe tbody tr th:only-of-type {\n",
       "        vertical-align: middle;\n",
       "    }\n",
       "\n",
       "    .dataframe tbody tr th {\n",
       "        vertical-align: top;\n",
       "    }\n",
       "\n",
       "    .dataframe thead th {\n",
       "        text-align: right;\n",
       "    }\n",
       "</style>\n",
       "<table border=\"1\" class=\"dataframe\">\n",
       "  <thead>\n",
       "    <tr style=\"text-align: right;\">\n",
       "      <th></th>\n",
       "      <th>accuracy</th>\n",
       "      <th>precision</th>\n",
       "      <th>recall</th>\n",
       "      <th>f1</th>\n",
       "      <th>auc</th>\n",
       "      <th>n_violation</th>\n",
       "      <th>n_rule</th>\n",
       "      <th>violation_rate</th>\n",
       "      <th>n_violation (instance)</th>\n",
       "      <th>n_evaluation (instance)</th>\n",
       "      <th>violation_rate (instance)</th>\n",
       "    </tr>\n",
       "  </thead>\n",
       "  <tbody>\n",
       "    <tr>\n",
       "      <th>linear svm</th>\n",
       "      <td>0.779104</td>\n",
       "      <td>0.711436</td>\n",
       "      <td>0.551175</td>\n",
       "      <td>0.618693</td>\n",
       "      <td>0.837805</td>\n",
       "      <td>32.2</td>\n",
       "      <td>36.6</td>\n",
       "      <td>0.88134</td>\n",
       "      <td>527.2</td>\n",
       "      <td>597.2</td>\n",
       "      <td>0.881766</td>\n",
       "    </tr>\n",
       "    <tr>\n",
       "      <th>non-linear svm</th>\n",
       "      <td>0.780597</td>\n",
       "      <td>0.75907</td>\n",
       "      <td>0.479714</td>\n",
       "      <td>0.587201</td>\n",
       "      <td>0.838064</td>\n",
       "      <td>33.2</td>\n",
       "      <td>36.6</td>\n",
       "      <td>0.906615</td>\n",
       "      <td>535.0</td>\n",
       "      <td>597.2</td>\n",
       "      <td>0.895147</td>\n",
       "    </tr>\n",
       "    <tr>\n",
       "      <th>logistic regression</th>\n",
       "      <td>0.78209</td>\n",
       "      <td>0.731143</td>\n",
       "      <td>0.530165</td>\n",
       "      <td>0.612464</td>\n",
       "      <td>0.840573</td>\n",
       "      <td>32.4</td>\n",
       "      <td>36.6</td>\n",
       "      <td>0.886469</td>\n",
       "      <td>529.8</td>\n",
       "      <td>597.2</td>\n",
       "      <td>0.886296</td>\n",
       "    </tr>\n",
       "    <tr>\n",
       "      <th>RuleFit Classifier (disc)</th>\n",
       "      <td>0.783582</td>\n",
       "      <td>0.742431</td>\n",
       "      <td>0.521271</td>\n",
       "      <td>0.610252</td>\n",
       "      <td>0.815857</td>\n",
       "      <td>29.8</td>\n",
       "      <td>36.6</td>\n",
       "      <td>0.806635</td>\n",
       "      <td>523.8</td>\n",
       "      <td>597.2</td>\n",
       "      <td>0.875388</td>\n",
       "    </tr>\n",
       "    <tr>\n",
       "      <th>RuleFit Classifier (conti)</th>\n",
       "      <td>0.740299</td>\n",
       "      <td>0.614839</td>\n",
       "      <td>0.557553</td>\n",
       "      <td>0.579793</td>\n",
       "      <td>0.792859</td>\n",
       "      <td>32.2</td>\n",
       "      <td>36.6</td>\n",
       "      <td>0.881589</td>\n",
       "      <td>525.6</td>\n",
       "      <td>597.2</td>\n",
       "      <td>0.87959</td>\n",
       "    </tr>\n",
       "    <tr>\n",
       "      <th>tree generator (disc)</th>\n",
       "      <td>0.741791</td>\n",
       "      <td>0.627843</td>\n",
       "      <td>0.557706</td>\n",
       "      <td>0.582608</td>\n",
       "      <td>0.772322</td>\n",
       "      <td>27.4</td>\n",
       "      <td>36.6</td>\n",
       "      <td>0.742871</td>\n",
       "      <td>513.4</td>\n",
       "      <td>597.2</td>\n",
       "      <td>0.85784</td>\n",
       "    </tr>\n",
       "    <tr>\n",
       "      <th>tree generator (conti)</th>\n",
       "      <td>0.78209</td>\n",
       "      <td>0.715158</td>\n",
       "      <td>0.568106</td>\n",
       "      <td>0.62746</td>\n",
       "      <td>0.8326</td>\n",
       "      <td>32.2</td>\n",
       "      <td>36.6</td>\n",
       "      <td>0.879967</td>\n",
       "      <td>529.2</td>\n",
       "      <td>597.2</td>\n",
       "      <td>0.885117</td>\n",
       "    </tr>\n",
       "    <tr>\n",
       "      <th>linear svm (L)</th>\n",
       "      <td>0.353731</td>\n",
       "      <td>0.336692</td>\n",
       "      <td>0.995652</td>\n",
       "      <td>0.500418</td>\n",
       "      <td>0.340896</td>\n",
       "      <td>22.6</td>\n",
       "      <td>36.6</td>\n",
       "      <td>0.612586</td>\n",
       "      <td>456.8</td>\n",
       "      <td>597.2</td>\n",
       "      <td>0.759329</td>\n",
       "    </tr>\n",
       "    <tr>\n",
       "      <th>non-linear svm (L)</th>\n",
       "      <td>0.729851</td>\n",
       "      <td>0.567442</td>\n",
       "      <td>0.75532</td>\n",
       "      <td>0.643206</td>\n",
       "      <td>0.821896</td>\n",
       "      <td>24.6</td>\n",
       "      <td>36.6</td>\n",
       "      <td>0.662935</td>\n",
       "      <td>147.4</td>\n",
       "      <td>597.2</td>\n",
       "      <td>0.246122</td>\n",
       "    </tr>\n",
       "    <tr>\n",
       "      <th>logistic regression (L)</th>\n",
       "      <td>0.770149</td>\n",
       "      <td>0.732412</td>\n",
       "      <td>0.470891</td>\n",
       "      <td>0.570208</td>\n",
       "      <td>0.826615</td>\n",
       "      <td>20.0</td>\n",
       "      <td>36.6</td>\n",
       "      <td>0.550463</td>\n",
       "      <td>96.4</td>\n",
       "      <td>597.2</td>\n",
       "      <td>0.161999</td>\n",
       "    </tr>\n",
       "    <tr>\n",
       "      <th>rule_based_prediction</th>\n",
       "      <td>0.325373</td>\n",
       "      <td>0.325373</td>\n",
       "      <td>1.0</td>\n",
       "      <td>0.489178</td>\n",
       "      <td>0.5</td>\n",
       "      <td>21.6</td>\n",
       "      <td>36.6</td>\n",
       "      <td>0.588776</td>\n",
       "      <td>479.2</td>\n",
       "      <td>597.2</td>\n",
       "      <td>0.801555</td>\n",
       "    </tr>\n",
       "  </tbody>\n",
       "</table>\n",
       "</div>"
      ],
      "text/plain": [
       "                            accuracy precision    recall        f1       auc  \\\n",
       "linear svm                  0.779104  0.711436  0.551175  0.618693  0.837805   \n",
       "non-linear svm              0.780597   0.75907  0.479714  0.587201  0.838064   \n",
       "logistic regression          0.78209  0.731143  0.530165  0.612464  0.840573   \n",
       "RuleFit Classifier (disc)   0.783582  0.742431  0.521271  0.610252  0.815857   \n",
       "RuleFit Classifier (conti)  0.740299  0.614839  0.557553  0.579793  0.792859   \n",
       "tree generator (disc)       0.741791  0.627843  0.557706  0.582608  0.772322   \n",
       "tree generator (conti)       0.78209  0.715158  0.568106   0.62746    0.8326   \n",
       "linear svm (L)              0.353731  0.336692  0.995652  0.500418  0.340896   \n",
       "non-linear svm (L)          0.729851  0.567442   0.75532  0.643206  0.821896   \n",
       "logistic regression (L)     0.770149  0.732412  0.470891  0.570208  0.826615   \n",
       "rule_based_prediction       0.325373  0.325373       1.0  0.489178       0.5   \n",
       "\n",
       "                           n_violation n_rule violation_rate  \\\n",
       "linear svm                        32.2   36.6        0.88134   \n",
       "non-linear svm                    33.2   36.6       0.906615   \n",
       "logistic regression               32.4   36.6       0.886469   \n",
       "RuleFit Classifier (disc)         29.8   36.6       0.806635   \n",
       "RuleFit Classifier (conti)        32.2   36.6       0.881589   \n",
       "tree generator (disc)             27.4   36.6       0.742871   \n",
       "tree generator (conti)            32.2   36.6       0.879967   \n",
       "linear svm (L)                    22.6   36.6       0.612586   \n",
       "non-linear svm (L)                24.6   36.6       0.662935   \n",
       "logistic regression (L)           20.0   36.6       0.550463   \n",
       "rule_based_prediction             21.6   36.6       0.588776   \n",
       "\n",
       "                           n_violation (instance) n_evaluation (instance)  \\\n",
       "linear svm                                  527.2                   597.2   \n",
       "non-linear svm                              535.0                   597.2   \n",
       "logistic regression                         529.8                   597.2   \n",
       "RuleFit Classifier (disc)                   523.8                   597.2   \n",
       "RuleFit Classifier (conti)                  525.6                   597.2   \n",
       "tree generator (disc)                       513.4                   597.2   \n",
       "tree generator (conti)                      529.2                   597.2   \n",
       "linear svm (L)                              456.8                   597.2   \n",
       "non-linear svm (L)                          147.4                   597.2   \n",
       "logistic regression (L)                      96.4                   597.2   \n",
       "rule_based_prediction                       479.2                   597.2   \n",
       "\n",
       "                           violation_rate (instance)  \n",
       "linear svm                                  0.881766  \n",
       "non-linear svm                              0.895147  \n",
       "logistic regression                         0.886296  \n",
       "RuleFit Classifier (disc)                   0.875388  \n",
       "RuleFit Classifier (conti)                   0.87959  \n",
       "tree generator (disc)                        0.85784  \n",
       "tree generator (conti)                      0.885117  \n",
       "linear svm (L)                              0.759329  \n",
       "non-linear svm (L)                          0.246122  \n",
       "logistic regression (L)                     0.161999  \n",
       "rule_based_prediction                       0.801555  "
      ]
     },
     "metadata": {},
     "output_type": "display_data"
    },
    {
     "data": {
      "text/html": [
       "<div>\n",
       "<style scoped>\n",
       "    .dataframe tbody tr th:only-of-type {\n",
       "        vertical-align: middle;\n",
       "    }\n",
       "\n",
       "    .dataframe tbody tr th {\n",
       "        vertical-align: top;\n",
       "    }\n",
       "\n",
       "    .dataframe thead th {\n",
       "        text-align: right;\n",
       "    }\n",
       "</style>\n",
       "<table border=\"1\" class=\"dataframe\">\n",
       "  <thead>\n",
       "    <tr style=\"text-align: right;\">\n",
       "      <th></th>\n",
       "      <th>accuracy</th>\n",
       "      <th>precision</th>\n",
       "      <th>recall</th>\n",
       "      <th>f1</th>\n",
       "      <th>auc</th>\n",
       "      <th>n_violation</th>\n",
       "      <th>n_rule</th>\n",
       "      <th>violation_rate</th>\n",
       "      <th>n_violation (instance)</th>\n",
       "      <th>n_evaluation (instance)</th>\n",
       "      <th>violation_rate (instance)</th>\n",
       "    </tr>\n",
       "  </thead>\n",
       "  <tbody>\n",
       "    <tr>\n",
       "      <th>linear svm</th>\n",
       "      <td>0.779104</td>\n",
       "      <td>0.711436</td>\n",
       "      <td>0.551175</td>\n",
       "      <td>0.618693</td>\n",
       "      <td>0.837805</td>\n",
       "      <td>32.2</td>\n",
       "      <td>36.6</td>\n",
       "      <td>0.88134</td>\n",
       "      <td>527.2</td>\n",
       "      <td>597.2</td>\n",
       "      <td>0.881766</td>\n",
       "    </tr>\n",
       "    <tr>\n",
       "      <th>non-linear svm</th>\n",
       "      <td>0.780597</td>\n",
       "      <td>0.75907</td>\n",
       "      <td>0.479714</td>\n",
       "      <td>0.587201</td>\n",
       "      <td>0.838064</td>\n",
       "      <td>33.2</td>\n",
       "      <td>36.6</td>\n",
       "      <td>0.906615</td>\n",
       "      <td>535.0</td>\n",
       "      <td>597.2</td>\n",
       "      <td>0.895147</td>\n",
       "    </tr>\n",
       "    <tr>\n",
       "      <th>logistic regression</th>\n",
       "      <td>0.78209</td>\n",
       "      <td>0.731143</td>\n",
       "      <td>0.530165</td>\n",
       "      <td>0.612464</td>\n",
       "      <td>0.840573</td>\n",
       "      <td>32.4</td>\n",
       "      <td>36.6</td>\n",
       "      <td>0.886469</td>\n",
       "      <td>529.8</td>\n",
       "      <td>597.2</td>\n",
       "      <td>0.886296</td>\n",
       "    </tr>\n",
       "    <tr>\n",
       "      <th>RuleFit Classifier (disc)</th>\n",
       "      <td>0.783582</td>\n",
       "      <td>0.742431</td>\n",
       "      <td>0.521271</td>\n",
       "      <td>0.610252</td>\n",
       "      <td>0.815857</td>\n",
       "      <td>29.8</td>\n",
       "      <td>36.6</td>\n",
       "      <td>0.806635</td>\n",
       "      <td>523.8</td>\n",
       "      <td>597.2</td>\n",
       "      <td>0.875388</td>\n",
       "    </tr>\n",
       "    <tr>\n",
       "      <th>RuleFit Classifier (conti)</th>\n",
       "      <td>0.740299</td>\n",
       "      <td>0.614839</td>\n",
       "      <td>0.557553</td>\n",
       "      <td>0.579793</td>\n",
       "      <td>0.792859</td>\n",
       "      <td>32.2</td>\n",
       "      <td>36.6</td>\n",
       "      <td>0.881589</td>\n",
       "      <td>525.6</td>\n",
       "      <td>597.2</td>\n",
       "      <td>0.87959</td>\n",
       "    </tr>\n",
       "    <tr>\n",
       "      <th>tree generator (disc)</th>\n",
       "      <td>0.741791</td>\n",
       "      <td>0.627843</td>\n",
       "      <td>0.557706</td>\n",
       "      <td>0.582608</td>\n",
       "      <td>0.772322</td>\n",
       "      <td>27.4</td>\n",
       "      <td>36.6</td>\n",
       "      <td>0.742871</td>\n",
       "      <td>513.4</td>\n",
       "      <td>597.2</td>\n",
       "      <td>0.85784</td>\n",
       "    </tr>\n",
       "    <tr>\n",
       "      <th>tree generator (conti)</th>\n",
       "      <td>0.78209</td>\n",
       "      <td>0.715158</td>\n",
       "      <td>0.568106</td>\n",
       "      <td>0.62746</td>\n",
       "      <td>0.8326</td>\n",
       "      <td>32.2</td>\n",
       "      <td>36.6</td>\n",
       "      <td>0.879967</td>\n",
       "      <td>529.2</td>\n",
       "      <td>597.2</td>\n",
       "      <td>0.885117</td>\n",
       "    </tr>\n",
       "    <tr>\n",
       "      <th>linear svm (L)</th>\n",
       "      <td>0.555224</td>\n",
       "      <td>0.439814</td>\n",
       "      <td>0.849833</td>\n",
       "      <td>0.564927</td>\n",
       "      <td>0.632033</td>\n",
       "      <td>25.8</td>\n",
       "      <td>36.6</td>\n",
       "      <td>0.691619</td>\n",
       "      <td>279.8</td>\n",
       "      <td>597.2</td>\n",
       "      <td>0.458249</td>\n",
       "    </tr>\n",
       "    <tr>\n",
       "      <th>non-linear svm (L)</th>\n",
       "      <td>0.704478</td>\n",
       "      <td>0.533208</td>\n",
       "      <td>0.743295</td>\n",
       "      <td>0.615253</td>\n",
       "      <td>0.819088</td>\n",
       "      <td>24.8</td>\n",
       "      <td>36.6</td>\n",
       "      <td>0.677826</td>\n",
       "      <td>153.8</td>\n",
       "      <td>597.2</td>\n",
       "      <td>0.258359</td>\n",
       "    </tr>\n",
       "    <tr>\n",
       "      <th>logistic regression (L)</th>\n",
       "      <td>0.750746</td>\n",
       "      <td>0.737594</td>\n",
       "      <td>0.371487</td>\n",
       "      <td>0.488341</td>\n",
       "      <td>0.827449</td>\n",
       "      <td>20.6</td>\n",
       "      <td>36.6</td>\n",
       "      <td>0.565712</td>\n",
       "      <td>96.8</td>\n",
       "      <td>597.2</td>\n",
       "      <td>0.162623</td>\n",
       "    </tr>\n",
       "    <tr>\n",
       "      <th>rule_based_prediction</th>\n",
       "      <td>0.325373</td>\n",
       "      <td>0.325373</td>\n",
       "      <td>1.0</td>\n",
       "      <td>0.489178</td>\n",
       "      <td>0.5</td>\n",
       "      <td>21.6</td>\n",
       "      <td>36.6</td>\n",
       "      <td>0.588776</td>\n",
       "      <td>479.2</td>\n",
       "      <td>597.2</td>\n",
       "      <td>0.801555</td>\n",
       "    </tr>\n",
       "  </tbody>\n",
       "</table>\n",
       "</div>"
      ],
      "text/plain": [
       "                            accuracy precision    recall        f1       auc  \\\n",
       "linear svm                  0.779104  0.711436  0.551175  0.618693  0.837805   \n",
       "non-linear svm              0.780597   0.75907  0.479714  0.587201  0.838064   \n",
       "logistic regression          0.78209  0.731143  0.530165  0.612464  0.840573   \n",
       "RuleFit Classifier (disc)   0.783582  0.742431  0.521271  0.610252  0.815857   \n",
       "RuleFit Classifier (conti)  0.740299  0.614839  0.557553  0.579793  0.792859   \n",
       "tree generator (disc)       0.741791  0.627843  0.557706  0.582608  0.772322   \n",
       "tree generator (conti)       0.78209  0.715158  0.568106   0.62746    0.8326   \n",
       "linear svm (L)              0.555224  0.439814  0.849833  0.564927  0.632033   \n",
       "non-linear svm (L)          0.704478  0.533208  0.743295  0.615253  0.819088   \n",
       "logistic regression (L)     0.750746  0.737594  0.371487  0.488341  0.827449   \n",
       "rule_based_prediction       0.325373  0.325373       1.0  0.489178       0.5   \n",
       "\n",
       "                           n_violation n_rule violation_rate  \\\n",
       "linear svm                        32.2   36.6        0.88134   \n",
       "non-linear svm                    33.2   36.6       0.906615   \n",
       "logistic regression               32.4   36.6       0.886469   \n",
       "RuleFit Classifier (disc)         29.8   36.6       0.806635   \n",
       "RuleFit Classifier (conti)        32.2   36.6       0.881589   \n",
       "tree generator (disc)             27.4   36.6       0.742871   \n",
       "tree generator (conti)            32.2   36.6       0.879967   \n",
       "linear svm (L)                    25.8   36.6       0.691619   \n",
       "non-linear svm (L)                24.8   36.6       0.677826   \n",
       "logistic regression (L)           20.6   36.6       0.565712   \n",
       "rule_based_prediction             21.6   36.6       0.588776   \n",
       "\n",
       "                           n_violation (instance) n_evaluation (instance)  \\\n",
       "linear svm                                  527.2                   597.2   \n",
       "non-linear svm                              535.0                   597.2   \n",
       "logistic regression                         529.8                   597.2   \n",
       "RuleFit Classifier (disc)                   523.8                   597.2   \n",
       "RuleFit Classifier (conti)                  525.6                   597.2   \n",
       "tree generator (disc)                       513.4                   597.2   \n",
       "tree generator (conti)                      529.2                   597.2   \n",
       "linear svm (L)                              279.8                   597.2   \n",
       "non-linear svm (L)                          153.8                   597.2   \n",
       "logistic regression (L)                      96.8                   597.2   \n",
       "rule_based_prediction                       479.2                   597.2   \n",
       "\n",
       "                           violation_rate (instance)  \n",
       "linear svm                                  0.881766  \n",
       "non-linear svm                              0.895147  \n",
       "logistic regression                         0.886296  \n",
       "RuleFit Classifier (disc)                   0.875388  \n",
       "RuleFit Classifier (conti)                   0.87959  \n",
       "tree generator (disc)                        0.85784  \n",
       "tree generator (conti)                      0.885117  \n",
       "linear svm (L)                              0.458249  \n",
       "non-linear svm (L)                          0.258359  \n",
       "logistic regression (L)                     0.162623  \n",
       "rule_based_prediction                       0.801555  "
      ]
     },
     "metadata": {},
     "output_type": "display_data"
    },
    {
     "data": {
      "text/html": [
       "<div>\n",
       "<style scoped>\n",
       "    .dataframe tbody tr th:only-of-type {\n",
       "        vertical-align: middle;\n",
       "    }\n",
       "\n",
       "    .dataframe tbody tr th {\n",
       "        vertical-align: top;\n",
       "    }\n",
       "\n",
       "    .dataframe thead th {\n",
       "        text-align: right;\n",
       "    }\n",
       "</style>\n",
       "<table border=\"1\" class=\"dataframe\">\n",
       "  <thead>\n",
       "    <tr style=\"text-align: right;\">\n",
       "      <th></th>\n",
       "      <th>accuracy</th>\n",
       "      <th>precision</th>\n",
       "      <th>recall</th>\n",
       "      <th>f1</th>\n",
       "      <th>auc</th>\n",
       "      <th>n_violation</th>\n",
       "      <th>n_rule</th>\n",
       "      <th>violation_rate</th>\n",
       "      <th>n_violation (instance)</th>\n",
       "      <th>n_evaluation (instance)</th>\n",
       "      <th>violation_rate (instance)</th>\n",
       "    </tr>\n",
       "  </thead>\n",
       "  <tbody>\n",
       "    <tr>\n",
       "      <th>linear svm</th>\n",
       "      <td>0.779104</td>\n",
       "      <td>0.711436</td>\n",
       "      <td>0.551175</td>\n",
       "      <td>0.618693</td>\n",
       "      <td>0.837805</td>\n",
       "      <td>32.2</td>\n",
       "      <td>36.6</td>\n",
       "      <td>0.88134</td>\n",
       "      <td>527.2</td>\n",
       "      <td>597.2</td>\n",
       "      <td>0.881766</td>\n",
       "    </tr>\n",
       "    <tr>\n",
       "      <th>non-linear svm</th>\n",
       "      <td>0.780597</td>\n",
       "      <td>0.75907</td>\n",
       "      <td>0.479714</td>\n",
       "      <td>0.587201</td>\n",
       "      <td>0.838064</td>\n",
       "      <td>33.2</td>\n",
       "      <td>36.6</td>\n",
       "      <td>0.906615</td>\n",
       "      <td>535.0</td>\n",
       "      <td>597.2</td>\n",
       "      <td>0.895147</td>\n",
       "    </tr>\n",
       "    <tr>\n",
       "      <th>logistic regression</th>\n",
       "      <td>0.78209</td>\n",
       "      <td>0.731143</td>\n",
       "      <td>0.530165</td>\n",
       "      <td>0.612464</td>\n",
       "      <td>0.840573</td>\n",
       "      <td>32.4</td>\n",
       "      <td>36.6</td>\n",
       "      <td>0.886469</td>\n",
       "      <td>529.8</td>\n",
       "      <td>597.2</td>\n",
       "      <td>0.886296</td>\n",
       "    </tr>\n",
       "    <tr>\n",
       "      <th>RuleFit Classifier (disc)</th>\n",
       "      <td>0.783582</td>\n",
       "      <td>0.742431</td>\n",
       "      <td>0.521271</td>\n",
       "      <td>0.610252</td>\n",
       "      <td>0.815857</td>\n",
       "      <td>29.8</td>\n",
       "      <td>36.6</td>\n",
       "      <td>0.806635</td>\n",
       "      <td>523.8</td>\n",
       "      <td>597.2</td>\n",
       "      <td>0.875388</td>\n",
       "    </tr>\n",
       "    <tr>\n",
       "      <th>RuleFit Classifier (conti)</th>\n",
       "      <td>0.740299</td>\n",
       "      <td>0.614839</td>\n",
       "      <td>0.557553</td>\n",
       "      <td>0.579793</td>\n",
       "      <td>0.792859</td>\n",
       "      <td>32.2</td>\n",
       "      <td>36.6</td>\n",
       "      <td>0.881589</td>\n",
       "      <td>525.6</td>\n",
       "      <td>597.2</td>\n",
       "      <td>0.87959</td>\n",
       "    </tr>\n",
       "    <tr>\n",
       "      <th>tree generator (disc)</th>\n",
       "      <td>0.741791</td>\n",
       "      <td>0.627843</td>\n",
       "      <td>0.557706</td>\n",
       "      <td>0.582608</td>\n",
       "      <td>0.772322</td>\n",
       "      <td>27.4</td>\n",
       "      <td>36.6</td>\n",
       "      <td>0.742871</td>\n",
       "      <td>513.4</td>\n",
       "      <td>597.2</td>\n",
       "      <td>0.85784</td>\n",
       "    </tr>\n",
       "    <tr>\n",
       "      <th>tree generator (conti)</th>\n",
       "      <td>0.78209</td>\n",
       "      <td>0.715158</td>\n",
       "      <td>0.568106</td>\n",
       "      <td>0.62746</td>\n",
       "      <td>0.8326</td>\n",
       "      <td>32.2</td>\n",
       "      <td>36.6</td>\n",
       "      <td>0.879967</td>\n",
       "      <td>529.2</td>\n",
       "      <td>597.2</td>\n",
       "      <td>0.885117</td>\n",
       "    </tr>\n",
       "    <tr>\n",
       "      <th>linear svm (L)</th>\n",
       "      <td>0.453731</td>\n",
       "      <td>0.367427</td>\n",
       "      <td>0.812228</td>\n",
       "      <td>0.498145</td>\n",
       "      <td>0.466066</td>\n",
       "      <td>26.4</td>\n",
       "      <td>36.6</td>\n",
       "      <td>0.721098</td>\n",
       "      <td>350.8</td>\n",
       "      <td>597.2</td>\n",
       "      <td>0.606512</td>\n",
       "    </tr>\n",
       "    <tr>\n",
       "      <th>non-linear svm (L)</th>\n",
       "      <td>0.708955</td>\n",
       "      <td>0.553971</td>\n",
       "      <td>0.681135</td>\n",
       "      <td>0.602242</td>\n",
       "      <td>0.819787</td>\n",
       "      <td>22.0</td>\n",
       "      <td>36.6</td>\n",
       "      <td>0.596142</td>\n",
       "      <td>131.8</td>\n",
       "      <td>597.2</td>\n",
       "      <td>0.220657</td>\n",
       "    </tr>\n",
       "    <tr>\n",
       "      <th>logistic regression (L)</th>\n",
       "      <td>0.743284</td>\n",
       "      <td>0.781319</td>\n",
       "      <td>0.302775</td>\n",
       "      <td>0.425235</td>\n",
       "      <td>0.829344</td>\n",
       "      <td>20.2</td>\n",
       "      <td>36.6</td>\n",
       "      <td>0.554685</td>\n",
       "      <td>97.0</td>\n",
       "      <td>597.2</td>\n",
       "      <td>0.163186</td>\n",
       "    </tr>\n",
       "    <tr>\n",
       "      <th>rule_based_prediction</th>\n",
       "      <td>0.325373</td>\n",
       "      <td>0.325373</td>\n",
       "      <td>1.0</td>\n",
       "      <td>0.489178</td>\n",
       "      <td>0.5</td>\n",
       "      <td>21.6</td>\n",
       "      <td>36.6</td>\n",
       "      <td>0.588776</td>\n",
       "      <td>479.2</td>\n",
       "      <td>597.2</td>\n",
       "      <td>0.801555</td>\n",
       "    </tr>\n",
       "  </tbody>\n",
       "</table>\n",
       "</div>"
      ],
      "text/plain": [
       "                            accuracy precision    recall        f1       auc  \\\n",
       "linear svm                  0.779104  0.711436  0.551175  0.618693  0.837805   \n",
       "non-linear svm              0.780597   0.75907  0.479714  0.587201  0.838064   \n",
       "logistic regression          0.78209  0.731143  0.530165  0.612464  0.840573   \n",
       "RuleFit Classifier (disc)   0.783582  0.742431  0.521271  0.610252  0.815857   \n",
       "RuleFit Classifier (conti)  0.740299  0.614839  0.557553  0.579793  0.792859   \n",
       "tree generator (disc)       0.741791  0.627843  0.557706  0.582608  0.772322   \n",
       "tree generator (conti)       0.78209  0.715158  0.568106   0.62746    0.8326   \n",
       "linear svm (L)              0.453731  0.367427  0.812228  0.498145  0.466066   \n",
       "non-linear svm (L)          0.708955  0.553971  0.681135  0.602242  0.819787   \n",
       "logistic regression (L)     0.743284  0.781319  0.302775  0.425235  0.829344   \n",
       "rule_based_prediction       0.325373  0.325373       1.0  0.489178       0.5   \n",
       "\n",
       "                           n_violation n_rule violation_rate  \\\n",
       "linear svm                        32.2   36.6        0.88134   \n",
       "non-linear svm                    33.2   36.6       0.906615   \n",
       "logistic regression               32.4   36.6       0.886469   \n",
       "RuleFit Classifier (disc)         29.8   36.6       0.806635   \n",
       "RuleFit Classifier (conti)        32.2   36.6       0.881589   \n",
       "tree generator (disc)             27.4   36.6       0.742871   \n",
       "tree generator (conti)            32.2   36.6       0.879967   \n",
       "linear svm (L)                    26.4   36.6       0.721098   \n",
       "non-linear svm (L)                22.0   36.6       0.596142   \n",
       "logistic regression (L)           20.2   36.6       0.554685   \n",
       "rule_based_prediction             21.6   36.6       0.588776   \n",
       "\n",
       "                           n_violation (instance) n_evaluation (instance)  \\\n",
       "linear svm                                  527.2                   597.2   \n",
       "non-linear svm                              535.0                   597.2   \n",
       "logistic regression                         529.8                   597.2   \n",
       "RuleFit Classifier (disc)                   523.8                   597.2   \n",
       "RuleFit Classifier (conti)                  525.6                   597.2   \n",
       "tree generator (disc)                       513.4                   597.2   \n",
       "tree generator (conti)                      529.2                   597.2   \n",
       "linear svm (L)                              350.8                   597.2   \n",
       "non-linear svm (L)                          131.8                   597.2   \n",
       "logistic regression (L)                      97.0                   597.2   \n",
       "rule_based_prediction                       479.2                   597.2   \n",
       "\n",
       "                           violation_rate (instance)  \n",
       "linear svm                                  0.881766  \n",
       "non-linear svm                              0.895147  \n",
       "logistic regression                         0.886296  \n",
       "RuleFit Classifier (disc)                   0.875388  \n",
       "RuleFit Classifier (conti)                   0.87959  \n",
       "tree generator (disc)                        0.85784  \n",
       "tree generator (conti)                      0.885117  \n",
       "linear svm (L)                              0.606512  \n",
       "non-linear svm (L)                          0.220657  \n",
       "logistic regression (L)                     0.163186  \n",
       "rule_based_prediction                       0.801555  "
      ]
     },
     "metadata": {},
     "output_type": "display_data"
    }
   ],
   "source": [
    "import json\n",
    "import os\n",
    "\n",
    "import sys\n",
    "project_dir_path = \"/Users/keisukeonoue/ws/lukasiewicz_2\"\n",
    "sys.path.append(project_dir_path)\n",
    "\n",
    "import pandas as pd\n",
    "import numpy as np\n",
    "\n",
    "version_nums = [91, 92, 93, 94, 95]\n",
    "expt_num = 9\n",
    "expt_info_main = \"n_unsupervised\"\n",
    "\n",
    "\n",
    "# リスト内包表記を使用して複数のファイルパスを生成する\n",
    "result_file_paths = [\n",
    "    os.path.join(project_dir_path, f\"experiment_result/tmp/version_{version_num}/result.json\")\n",
    "    for version_num in version_nums\n",
    "]\n",
    "\n",
    "\n",
    "result_dfs = []\n",
    "infos = []\n",
    "\n",
    "for path in result_file_paths:\n",
    "    with open(path, 'r') as f:\n",
    "        json_data = json.load(f)\n",
    "    \n",
    "    infos.append(json_data[expt_info_main])\n",
    "    \n",
    "    tmp = []\n",
    "\n",
    "    for fold, _ in json_data['result'].items():\n",
    "        result_df = pd.DataFrame(json_data['result'][fold]).T.drop(['violation_detail'], axis=1)\n",
    "        tmp.append(result_df)\n",
    "\n",
    "    result_dfs.append(tmp)\n",
    "\n",
    "model_name_dict = {\n",
    "    'linear svm': 'l-SVM', \n",
    "    'non-linear svm': 'r-SVM', \n",
    "    'logistic regression': 'RogReg', \n",
    "    'RuleFit Classifier (disc)': 'RuleFit-d', \n",
    "    'RuleFit Classifier (conti)': 'RuleFit', \n",
    "    'tree generator (disc)': 'RF-d', \n",
    "    'tree generator (conti)': 'RF', \n",
    "    'linear svm (L)': 'l-SVM-p', \n",
    "    'non-linear svm (L)': 'r-SVM-p', \n",
    "    'logistic regression (L)': 'LogReg-p', \n",
    "    'rule_based_prediction': 'RuleBase'\n",
    "}\n",
    "\n",
    "model_name_list = list(model_name_dict.keys())\n",
    "\n",
    "combined_dfs = [pd.concat(dfs, ignore_index=False) for dfs in result_dfs]\n",
    "dfs_mean = [combined_df.groupby(combined_df.index).mean().reindex(index=model_name_list) for combined_df in combined_dfs]\n",
    "dfs_std = [combined_df.groupby(combined_df.index).std().reindex(index=model_name_list) for combined_df in combined_dfs]\n",
    "\n",
    "for df in dfs_mean:\n",
    "    display(df)"
   ]
  },
  {
   "cell_type": "code",
   "execution_count": 2,
   "metadata": {},
   "outputs": [
    {
     "name": "stdout",
     "output_type": "stream",
     "text": [
      "/Users/keisukeonoue/ws/lukasiewicz_2/experiment_result/results_organized/experiment_9/fold_0/ver_0.csv\n",
      "/Users/keisukeonoue/ws/lukasiewicz_2/experiment_result/results_organized/experiment_9/fold_1/ver_0.csv\n",
      "/Users/keisukeonoue/ws/lukasiewicz_2/experiment_result/results_organized/experiment_9/fold_2/ver_0.csv\n",
      "/Users/keisukeonoue/ws/lukasiewicz_2/experiment_result/results_organized/experiment_9/fold_3/ver_0.csv\n",
      "/Users/keisukeonoue/ws/lukasiewicz_2/experiment_result/results_organized/experiment_9/fold_4/ver_0.csv\n",
      "/Users/keisukeonoue/ws/lukasiewicz_2/experiment_result/results_organized/experiment_9/fold_0/ver_1.csv\n",
      "/Users/keisukeonoue/ws/lukasiewicz_2/experiment_result/results_organized/experiment_9/fold_1/ver_1.csv\n",
      "/Users/keisukeonoue/ws/lukasiewicz_2/experiment_result/results_organized/experiment_9/fold_2/ver_1.csv\n",
      "/Users/keisukeonoue/ws/lukasiewicz_2/experiment_result/results_organized/experiment_9/fold_3/ver_1.csv\n",
      "/Users/keisukeonoue/ws/lukasiewicz_2/experiment_result/results_organized/experiment_9/fold_4/ver_1.csv\n",
      "/Users/keisukeonoue/ws/lukasiewicz_2/experiment_result/results_organized/experiment_9/fold_0/ver_2.csv\n",
      "/Users/keisukeonoue/ws/lukasiewicz_2/experiment_result/results_organized/experiment_9/fold_1/ver_2.csv\n",
      "/Users/keisukeonoue/ws/lukasiewicz_2/experiment_result/results_organized/experiment_9/fold_2/ver_2.csv\n",
      "/Users/keisukeonoue/ws/lukasiewicz_2/experiment_result/results_organized/experiment_9/fold_3/ver_2.csv\n",
      "/Users/keisukeonoue/ws/lukasiewicz_2/experiment_result/results_organized/experiment_9/fold_4/ver_2.csv\n",
      "/Users/keisukeonoue/ws/lukasiewicz_2/experiment_result/results_organized/experiment_9/fold_0/ver_3.csv\n",
      "/Users/keisukeonoue/ws/lukasiewicz_2/experiment_result/results_organized/experiment_9/fold_1/ver_3.csv\n",
      "/Users/keisukeonoue/ws/lukasiewicz_2/experiment_result/results_organized/experiment_9/fold_2/ver_3.csv\n",
      "/Users/keisukeonoue/ws/lukasiewicz_2/experiment_result/results_organized/experiment_9/fold_3/ver_3.csv\n",
      "/Users/keisukeonoue/ws/lukasiewicz_2/experiment_result/results_organized/experiment_9/fold_4/ver_3.csv\n",
      "/Users/keisukeonoue/ws/lukasiewicz_2/experiment_result/results_organized/experiment_9/fold_0/ver_4.csv\n",
      "/Users/keisukeonoue/ws/lukasiewicz_2/experiment_result/results_organized/experiment_9/fold_1/ver_4.csv\n",
      "/Users/keisukeonoue/ws/lukasiewicz_2/experiment_result/results_organized/experiment_9/fold_2/ver_4.csv\n",
      "/Users/keisukeonoue/ws/lukasiewicz_2/experiment_result/results_organized/experiment_9/fold_3/ver_4.csv\n",
      "/Users/keisukeonoue/ws/lukasiewicz_2/experiment_result/results_organized/experiment_9/fold_4/ver_4.csv\n"
     ]
    }
   ],
   "source": [
    "import os\n",
    "# 実験によってパラメータが違うので注意\n",
    "######################################\n",
    "######################################\n",
    "######################################\n",
    "######################################\n",
    "\n",
    "\n",
    "for version, (dfs, info) in enumerate(zip(result_dfs, infos)):\n",
    "    \n",
    "    for nth_fold, df in enumerate(dfs):\n",
    "\n",
    "        df['nth_fold'] = nth_fold\n",
    "        df['n_splits'] = 5\n",
    "        df['C1'] = 10\n",
    "        df['C2'] = 10\n",
    "        df['n_unsupervised'] = info\n",
    "        df['rule_thr'] = 0\n",
    "\n",
    "        # フォルダーを作成する\n",
    "        ########################################\n",
    "        ########################################\n",
    "        ########################################\n",
    "        ########################################\n",
    "        ########################################\n",
    "        folder_path = os.path.join(project_dir_path, f'experiment_result/results_organized/experiment_{expt_num}/fold_{nth_fold}')\n",
    "        os.makedirs(folder_path, exist_ok=True)\n",
    "\n",
    "        file_path = f'{folder_path}/ver_{version}.csv'\n",
    "        print(file_path)\n",
    "\n",
    "        df.to_csv(file_path)\n"
   ]
  },
  {
   "cell_type": "code",
   "execution_count": 3,
   "metadata": {},
   "outputs": [
    {
     "name": "stdout",
     "output_type": "stream",
     "text": [
      "/Users/keisukeonoue/ws/lukasiewicz_2/experiment_result/results_organized/experiment_9/ver_0_mean.csv\n",
      "/Users/keisukeonoue/ws/lukasiewicz_2/experiment_result/results_organized/experiment_9/ver_1_mean.csv\n",
      "/Users/keisukeonoue/ws/lukasiewicz_2/experiment_result/results_organized/experiment_9/ver_2_mean.csv\n",
      "/Users/keisukeonoue/ws/lukasiewicz_2/experiment_result/results_organized/experiment_9/ver_3_mean.csv\n",
      "/Users/keisukeonoue/ws/lukasiewicz_2/experiment_result/results_organized/experiment_9/ver_4_mean.csv\n",
      "/Users/keisukeonoue/ws/lukasiewicz_2/experiment_result/results_organized/experiment_9/ver_0_std.csv\n",
      "/Users/keisukeonoue/ws/lukasiewicz_2/experiment_result/results_organized/experiment_9/ver_1_std.csv\n",
      "/Users/keisukeonoue/ws/lukasiewicz_2/experiment_result/results_organized/experiment_9/ver_2_std.csv\n",
      "/Users/keisukeonoue/ws/lukasiewicz_2/experiment_result/results_organized/experiment_9/ver_3_std.csv\n",
      "/Users/keisukeonoue/ws/lukasiewicz_2/experiment_result/results_organized/experiment_9/ver_4_std.csv\n"
     ]
    }
   ],
   "source": [
    "# 実験によってパラメータが違うので注意\n",
    "######################################\n",
    "######################################\n",
    "######################################\n",
    "######################################\n",
    "\n",
    "\n",
    "for version, (info, df) in enumerate(zip(infos, dfs_mean)):\n",
    "    df['C1'] = 10\n",
    "    df['C2'] = 10\n",
    "    df['n_unsupervised'] = info\n",
    "    df['rule_thr'] = 0\n",
    "\n",
    "    #####################################\n",
    "    #####################################\n",
    "    #####################################\n",
    "    #####################################\n",
    "    #####################################\n",
    "    file_path = os.path.join(project_dir_path, f'experiment_result/results_organized/experiment_{expt_num}/ver_{version}_mean.csv')\n",
    "    print(file_path)\n",
    "\n",
    "    df.to_csv(file_path)\n",
    "\n",
    "for version, (info, df) in enumerate(zip(infos, dfs_std)):\n",
    "    df['C1'] = 10\n",
    "    df['C2'] = 10\n",
    "    df['n_unsupervised'] = info\n",
    "    df['rule_thr'] = 0\n",
    "\n",
    "    #####################################\n",
    "    #####################################\n",
    "    #####################################\n",
    "    #####################################\n",
    "    #####################################\n",
    "    file_path = os.path.join(project_dir_path, f'experiment_result/results_organized/experiment_{expt_num}/ver_{version}_std.csv')\n",
    "    print(file_path)\n",
    "\n",
    "    df.to_csv(file_path)"
   ]
  },
  {
   "cell_type": "code",
   "execution_count": null,
   "metadata": {},
   "outputs": [],
   "source": []
  },
  {
   "cell_type": "code",
   "execution_count": null,
   "metadata": {},
   "outputs": [],
   "source": []
  },
  {
   "cell_type": "code",
   "execution_count": null,
   "metadata": {},
   "outputs": [],
   "source": []
  },
  {
   "cell_type": "code",
   "execution_count": null,
   "metadata": {},
   "outputs": [],
   "source": []
  },
  {
   "cell_type": "code",
   "execution_count": null,
   "metadata": {},
   "outputs": [],
   "source": []
  },
  {
   "cell_type": "code",
   "execution_count": null,
   "metadata": {},
   "outputs": [],
   "source": []
  },
  {
   "cell_type": "markdown",
   "metadata": {},
   "source": [
    "# 教師なしデータ点数の違いによる予測結果の変化"
   ]
  },
  {
   "cell_type": "code",
   "execution_count": 1,
   "metadata": {},
   "outputs": [],
   "source": [
    "import json\n",
    "import pandas as pd"
   ]
  },
  {
   "cell_type": "code",
   "execution_count": 2,
   "metadata": {},
   "outputs": [],
   "source": [
    "result_file_paths = [\n",
    "    \"./experiments/version_91/result.json\",\n",
    "    \"./experiments/version_92/result.json\",\n",
    "    \"./experiments/version_93/result.json\",\n",
    "    \"./experiments/version_94/result.json\",\n",
    "    \"./experiments/version_95/result.json\",\n",
    "]\n",
    "\n",
    "result_dfs = []\n",
    "infos = []\n",
    "\n",
    "for path in result_file_paths:\n",
    "    with open(path, 'r') as f:\n",
    "        json_data = json.load(f)\n",
    "\n",
    "    infos.append(json_data['n_unsupervised'])\n",
    "\n",
    "    tmp = []\n",
    "\n",
    "    for fold, _ in json_data[\"result\"].items():\n",
    "        \n",
    "        result_df = pd.DataFrame(json_data['result'][fold]).T.drop(['violation_detail'], axis=1)\n",
    "        tmp.append(result_df)\n",
    "\n",
    "    result_dfs.append(tmp)\n",
    "\n",
    "combined_dfs = [pd.concat(dfs, ignore_index=False) for dfs in result_dfs]\n",
    "dfs_mean = [combined_df.groupby(combined_df.index).mean() for combined_df in combined_dfs]\n",
    "dfs_std = [combined_df.groupby(combined_df.index).std() for combined_df in combined_dfs]"
   ]
  },
  {
   "cell_type": "code",
   "execution_count": 3,
   "metadata": {},
   "outputs": [
    {
     "data": {
      "text/plain": [
       "[1, 5, 15, 50, 100]"
      ]
     },
     "execution_count": 3,
     "metadata": {},
     "output_type": "execute_result"
    }
   ],
   "source": [
    "infos"
   ]
  },
  {
   "cell_type": "code",
   "execution_count": 4,
   "metadata": {},
   "outputs": [],
   "source": [
    "import plotly.express as px\n",
    "\n",
    "def hex_to_rgb(hex_color):\n",
    "    # カラーコードの先頭の # を削除する\n",
    "    hex_color = hex_color.lstrip('#')\n",
    "    \n",
    "    # カラーコードを RGB 形式に変換する\n",
    "    red = int(hex_color[0:2], 16)\n",
    "    green = int(hex_color[2:4], 16)\n",
    "    blue = int(hex_color[4:6], 16)\n",
    "    \n",
    "    # RGBA 形式に変換して返す\n",
    "    return red, green, blue\n",
    "\n",
    "color_codes = [hex_to_rgb(color_code) for color_code in px.colors.qualitative.Plotly]\n",
    "colors_mean = [f'rgba({r},{g},{b},{1})' for r, g, b in color_codes]\n",
    "colors_std = [f'rgba({r},{g},{b},{0.2})' for r, g, b in color_codes]"
   ]
  },
  {
   "cell_type": "code",
   "execution_count": 4,
   "metadata": {},
   "outputs": [
    {
     "data": {
      "text/plain": [
       "Index(['accuracy', 'precision', 'recall', 'f1', 'auc', 'n_violation', 'n_rule',\n",
       "       'violation_rate', 'n_violation (instance)', 'n_evaluation (instance)',\n",
       "       'violation_rate (instance)'],\n",
       "      dtype='object')"
      ]
     },
     "execution_count": 4,
     "metadata": {},
     "output_type": "execute_result"
    }
   ],
   "source": [
    "dfs_mean[0].columns"
   ]
  },
  {
   "cell_type": "code",
   "execution_count": 6,
   "metadata": {},
   "outputs": [
    {
     "data": {
      "application/vnd.plotly.v1+json": {
       "config": {
        "plotlyServerURL": "https://plot.ly"
       },
       "data": [
        {
         "line": {
          "color": "rgba(99,110,250,1)"
         },
         "marker": {
          "color": "rgba(99,110,250,1)"
         },
         "mode": "lines+markers",
         "name": "RuleFit Classifier (disc)",
         "showlegend": true,
         "type": "scatter",
         "x": [
          1,
          5,
          15,
          50,
          100
         ],
         "xaxis": "x",
         "y": [
          0.8062665456109579,
          0.8062665456109579,
          0.8062665456109579,
          0.8159044159105928,
          0.8159044159105928
         ],
         "yaxis": "y"
        },
        {
         "line": {
          "color": "rgba(99,110,250,0.2)"
         },
         "mode": "lines",
         "showlegend": false,
         "type": "scatter",
         "x": [
          1,
          5,
          15,
          50,
          100
         ],
         "xaxis": "x",
         "y": [
          0.8756425424161023,
          0.8756425424161023,
          0.8756425424161023,
          0.8677491591567807,
          0.8677491591567807
         ],
         "yaxis": "y"
        },
        {
         "fill": "tonexty",
         "fillcolor": "rgba(99,110,250,0.2)",
         "line": {
          "color": "rgba(255,255,255,0)"
         },
         "mode": "lines",
         "showlegend": false,
         "type": "scatter",
         "x": [
          1,
          5,
          15,
          50,
          100
         ],
         "xaxis": "x",
         "y": [
          0.7368905488058135,
          0.7368905488058135,
          0.7368905488058135,
          0.7640596726644049,
          0.7640596726644049
         ],
         "yaxis": "y"
        },
        {
         "line": {
          "color": "rgba(239,85,59,1)"
         },
         "marker": {
          "color": "rgba(239,85,59,1)"
         },
         "mode": "lines+markers",
         "name": "tree generator (disc)",
         "showlegend": true,
         "type": "scatter",
         "x": [
          1,
          5,
          15,
          50,
          100
         ],
         "xaxis": "x",
         "y": [
          0.7723221095803497,
          0.7723221095803497,
          0.7723221095803497,
          0.7723221095803497,
          0.7723221095803497
         ],
         "yaxis": "y"
        },
        {
         "line": {
          "color": "rgba(239,85,59,0.2)"
         },
         "mode": "lines",
         "showlegend": false,
         "type": "scatter",
         "x": [
          1,
          5,
          15,
          50,
          100
         ],
         "xaxis": "x",
         "y": [
          0.8213949562136311,
          0.8213949562136311,
          0.8213949562136311,
          0.8213949562136311,
          0.8213949562136311
         ],
         "yaxis": "y"
        },
        {
         "fill": "tonexty",
         "fillcolor": "rgba(239,85,59,0.2)",
         "line": {
          "color": "rgba(255,255,255,0)"
         },
         "mode": "lines",
         "showlegend": false,
         "type": "scatter",
         "x": [
          1,
          5,
          15,
          50,
          100
         ],
         "xaxis": "x",
         "y": [
          0.7232492629470684,
          0.7232492629470684,
          0.7232492629470684,
          0.7232492629470684,
          0.7232492629470684
         ],
         "yaxis": "y"
        },
        {
         "line": {
          "color": "rgba(0,204,150,1)"
         },
         "marker": {
          "color": "rgba(0,204,150,1)"
         },
         "mode": "lines+markers",
         "name": "RuleFit Classifier (conti)",
         "showlegend": true,
         "type": "scatter",
         "x": [
          1,
          5,
          15,
          50,
          100
         ],
         "xaxis": "x",
         "y": [
          0.7946871212364225,
          0.7946871212364225,
          0.7946871212364225,
          0.7951160428050499,
          0.7951160428050499
         ],
         "yaxis": "y"
        },
        {
         "line": {
          "color": "rgba(0,204,150,0.2)"
         },
         "mode": "lines",
         "showlegend": false,
         "type": "scatter",
         "x": [
          1,
          5,
          15,
          50,
          100
         ],
         "xaxis": "x",
         "y": [
          0.8268224208680345,
          0.8268224208680345,
          0.8268224208680345,
          0.8276321544041804,
          0.8276321544041804
         ],
         "yaxis": "y"
        },
        {
         "fill": "tonexty",
         "fillcolor": "rgba(0,204,150,0.2)",
         "line": {
          "color": "rgba(255,255,255,0)"
         },
         "mode": "lines",
         "showlegend": false,
         "type": "scatter",
         "x": [
          1,
          5,
          15,
          50,
          100
         ],
         "xaxis": "x",
         "y": [
          0.7625518216048105,
          0.7625518216048105,
          0.7625518216048105,
          0.7625999312059194,
          0.7625999312059194
         ],
         "yaxis": "y"
        },
        {
         "line": {
          "color": "rgba(171,99,250,1)"
         },
         "marker": {
          "color": "rgba(171,99,250,1)"
         },
         "mode": "lines+markers",
         "name": "tree generator (conti)",
         "showlegend": true,
         "type": "scatter",
         "x": [
          1,
          5,
          15,
          50,
          100
         ],
         "xaxis": "x",
         "y": [
          0.832599556154117,
          0.832599556154117,
          0.832599556154117,
          0.832599556154117,
          0.832599556154117
         ],
         "yaxis": "y"
        },
        {
         "line": {
          "color": "rgba(171,99,250,0.2)"
         },
         "mode": "lines",
         "showlegend": false,
         "type": "scatter",
         "x": [
          1,
          5,
          15,
          50,
          100
         ],
         "xaxis": "x",
         "y": [
          0.8725688941539064,
          0.8725688941539064,
          0.8725688941539064,
          0.8725688941539064,
          0.8725688941539064
         ],
         "yaxis": "y"
        },
        {
         "fill": "tonexty",
         "fillcolor": "rgba(171,99,250,0.2)",
         "line": {
          "color": "rgba(255,255,255,0)"
         },
         "mode": "lines",
         "showlegend": false,
         "type": "scatter",
         "x": [
          1,
          5,
          15,
          50,
          100
         ],
         "xaxis": "x",
         "y": [
          0.7926302181543275,
          0.7926302181543275,
          0.7926302181543275,
          0.7926302181543275,
          0.7926302181543275
         ],
         "yaxis": "y"
        },
        {
         "line": {
          "color": "rgba(99,110,250,1)"
         },
         "marker": {
          "color": "rgba(99,110,250,1)"
         },
         "mode": "lines+markers",
         "name": "RuleFit Classifier (disc)",
         "showlegend": false,
         "type": "scatter",
         "x": [
          1,
          5,
          15,
          50,
          100
         ],
         "xaxis": "x2",
         "y": [
          0.7444773572185579,
          0.7444773572185579,
          0.7444773572185579,
          0.8088345160081172,
          0.8088345160081172
         ],
         "yaxis": "y2"
        },
        {
         "line": {
          "color": "rgba(99,110,250,0.2)"
         },
         "mode": "lines",
         "showlegend": false,
         "type": "scatter",
         "x": [
          1,
          5,
          15,
          50,
          100
         ],
         "xaxis": "x2",
         "y": [
          0.8657932451074701,
          0.8657932451074701,
          0.8657932451074701,
          0.8956924413871674,
          0.8956924413871674
         ],
         "yaxis": "y2"
        },
        {
         "fill": "tonexty",
         "fillcolor": "rgba(99,110,250,0.2)",
         "line": {
          "color": "rgba(255,255,255,0)"
         },
         "mode": "lines",
         "showlegend": false,
         "type": "scatter",
         "x": [
          1,
          5,
          15,
          50,
          100
         ],
         "xaxis": "x2",
         "y": [
          0.6231614693296457,
          0.6231614693296457,
          0.6231614693296457,
          0.7219765906290669,
          0.7219765906290669
         ],
         "yaxis": "y2"
        },
        {
         "line": {
          "color": "rgba(239,85,59,1)"
         },
         "marker": {
          "color": "rgba(239,85,59,1)"
         },
         "mode": "lines+markers",
         "name": "tree generator (disc)",
         "showlegend": false,
         "type": "scatter",
         "x": [
          1,
          5,
          15,
          50,
          100
         ],
         "xaxis": "x2",
         "y": [
          0.7111363493010252,
          0.7111363493010252,
          0.7111363493010252,
          0.7441712874998384,
          0.7441712874998384
         ],
         "yaxis": "y2"
        },
        {
         "line": {
          "color": "rgba(239,85,59,0.2)"
         },
         "mode": "lines",
         "showlegend": false,
         "type": "scatter",
         "x": [
          1,
          5,
          15,
          50,
          100
         ],
         "xaxis": "x2",
         "y": [
          0.805729196158707,
          0.805729196158707,
          0.805729196158707,
          0.8167577177821016,
          0.8167577177821016
         ],
         "yaxis": "y2"
        },
        {
         "fill": "tonexty",
         "fillcolor": "rgba(239,85,59,0.2)",
         "line": {
          "color": "rgba(255,255,255,0)"
         },
         "mode": "lines",
         "showlegend": false,
         "type": "scatter",
         "x": [
          1,
          5,
          15,
          50,
          100
         ],
         "xaxis": "x2",
         "y": [
          0.6165435024433434,
          0.6165435024433434,
          0.6165435024433434,
          0.6715848572175752,
          0.6715848572175752
         ],
         "yaxis": "y2"
        },
        {
         "line": {
          "color": "rgba(0,204,150,1)"
         },
         "marker": {
          "color": "rgba(0,204,150,1)"
         },
         "mode": "lines+markers",
         "name": "RuleFit Classifier (conti)",
         "showlegend": false,
         "type": "scatter",
         "x": [
          1,
          5,
          15,
          50,
          100
         ],
         "xaxis": "x2",
         "y": [
          0.8435666143116126,
          0.8435666143116126,
          0.8435666143116126,
          0.8845368180231883,
          0.8845368180231883
         ],
         "yaxis": "y2"
        },
        {
         "line": {
          "color": "rgba(0,204,150,0.2)"
         },
         "mode": "lines",
         "showlegend": false,
         "type": "scatter",
         "x": [
          1,
          5,
          15,
          50,
          100
         ],
         "xaxis": "x2",
         "y": [
          0.956060300499132,
          0.956060300499132,
          0.956060300499132,
          0.9467018497796883,
          0.9467018497796883
         ],
         "yaxis": "y2"
        },
        {
         "fill": "tonexty",
         "fillcolor": "rgba(0,204,150,0.2)",
         "line": {
          "color": "rgba(255,255,255,0)"
         },
         "mode": "lines",
         "showlegend": false,
         "type": "scatter",
         "x": [
          1,
          5,
          15,
          50,
          100
         ],
         "xaxis": "x2",
         "y": [
          0.7310729281240932,
          0.7310729281240932,
          0.7310729281240932,
          0.8223717862666883,
          0.8223717862666883
         ],
         "yaxis": "y2"
        },
        {
         "line": {
          "color": "rgba(171,99,250,1)"
         },
         "marker": {
          "color": "rgba(171,99,250,1)"
         },
         "mode": "lines+markers",
         "name": "tree generator (conti)",
         "showlegend": false,
         "type": "scatter",
         "x": [
          1,
          5,
          15,
          50,
          100
         ],
         "xaxis": "x2",
         "y": [
          0.8217598349196938,
          0.8217598349196938,
          0.8217598349196938,
          0.8830051572375819,
          0.8830051572375819
         ],
         "yaxis": "y2"
        },
        {
         "line": {
          "color": "rgba(171,99,250,0.2)"
         },
         "mode": "lines",
         "showlegend": false,
         "type": "scatter",
         "x": [
          1,
          5,
          15,
          50,
          100
         ],
         "xaxis": "x2",
         "y": [
          0.9108070376843166,
          0.9108070376843166,
          0.9108070376843166,
          0.9297168529353025,
          0.9297168529353025
         ],
         "yaxis": "y2"
        },
        {
         "fill": "tonexty",
         "fillcolor": "rgba(171,99,250,0.2)",
         "line": {
          "color": "rgba(255,255,255,0)"
         },
         "mode": "lines",
         "showlegend": false,
         "type": "scatter",
         "x": [
          1,
          5,
          15,
          50,
          100
         ],
         "xaxis": "x2",
         "y": [
          0.7327126321550711,
          0.7327126321550711,
          0.7327126321550711,
          0.8362934615398613,
          0.8362934615398613
         ],
         "yaxis": "y2"
        },
        {
         "line": {
          "color": "rgba(99,110,250,1)"
         },
         "marker": {
          "color": "rgba(99,110,250,1)"
         },
         "mode": "lines+markers",
         "name": "RuleFit Classifier (disc)",
         "showlegend": false,
         "type": "scatter",
         "x": [
          1,
          5,
          15,
          50,
          100
         ],
         "xaxis": "x3",
         "y": [
          0.851451860393125,
          0.851451860393125,
          0.851451860393125,
          0.877152187867393,
          0.877152187867393
         ],
         "yaxis": "y3"
        },
        {
         "line": {
          "color": "rgba(99,110,250,0.2)"
         },
         "mode": "lines",
         "showlegend": false,
         "type": "scatter",
         "x": [
          1,
          5,
          15,
          50,
          100
         ],
         "xaxis": "x3",
         "y": [
          0.9187065411311772,
          0.9187065411311772,
          0.9187065411311772,
          0.8977625195818737,
          0.8977625195818737
         ],
         "yaxis": "y3"
        },
        {
         "fill": "tonexty",
         "fillcolor": "rgba(99,110,250,0.2)",
         "line": {
          "color": "rgba(255,255,255,0)"
         },
         "mode": "lines",
         "showlegend": false,
         "type": "scatter",
         "x": [
          1,
          5,
          15,
          50,
          100
         ],
         "xaxis": "x3",
         "y": [
          0.7841971796550729,
          0.7841971796550729,
          0.7841971796550729,
          0.8565418561529123,
          0.8565418561529123
         ],
         "yaxis": "y3"
        },
        {
         "line": {
          "color": "rgba(239,85,59,1)"
         },
         "marker": {
          "color": "rgba(239,85,59,1)"
         },
         "mode": "lines+markers",
         "name": "tree generator (disc)",
         "showlegend": false,
         "type": "scatter",
         "x": [
          1,
          5,
          15,
          50,
          100
         ],
         "xaxis": "x3",
         "y": [
          0.8511839883886786,
          0.8511839883886786,
          0.8511839883886786,
          0.8607908471586996,
          0.8607908471586996
         ],
         "yaxis": "y3"
        },
        {
         "line": {
          "color": "rgba(239,85,59,0.2)"
         },
         "mode": "lines",
         "showlegend": false,
         "type": "scatter",
         "x": [
          1,
          5,
          15,
          50,
          100
         ],
         "xaxis": "x3",
         "y": [
          0.892602166406069,
          0.892602166406069,
          0.892602166406069,
          0.8846187843282577,
          0.8846187843282577
         ],
         "yaxis": "y3"
        },
        {
         "fill": "tonexty",
         "fillcolor": "rgba(239,85,59,0.2)",
         "line": {
          "color": "rgba(255,255,255,0)"
         },
         "mode": "lines",
         "showlegend": false,
         "type": "scatter",
         "x": [
          1,
          5,
          15,
          50,
          100
         ],
         "xaxis": "x3",
         "y": [
          0.8097658103712881,
          0.8097658103712881,
          0.8097658103712881,
          0.8369629099891415,
          0.8369629099891415
         ],
         "yaxis": "y3"
        },
        {
         "line": {
          "color": "rgba(0,204,150,1)"
         },
         "marker": {
          "color": "rgba(0,204,150,1)"
         },
         "mode": "lines+markers",
         "name": "RuleFit Classifier (conti)",
         "showlegend": false,
         "type": "scatter",
         "x": [
          1,
          5,
          15,
          50,
          100
         ],
         "xaxis": "x3",
         "y": [
          0.8728355814307545,
          0.8728355814307545,
          0.8728355814307545,
          0.881166752525686,
          0.881166752525686
         ],
         "yaxis": "y3"
        },
        {
         "line": {
          "color": "rgba(0,204,150,0.2)"
         },
         "mode": "lines",
         "showlegend": false,
         "type": "scatter",
         "x": [
          1,
          5,
          15,
          50,
          100
         ],
         "xaxis": "x3",
         "y": [
          0.9041778860917555,
          0.9041778860917555,
          0.9041778860917555,
          0.8894034082038851,
          0.8894034082038851
         ],
         "yaxis": "y3"
        },
        {
         "fill": "tonexty",
         "fillcolor": "rgba(0,204,150,0.2)",
         "line": {
          "color": "rgba(255,255,255,0)"
         },
         "mode": "lines",
         "showlegend": false,
         "type": "scatter",
         "x": [
          1,
          5,
          15,
          50,
          100
         ],
         "xaxis": "x3",
         "y": [
          0.8414932767697534,
          0.8414932767697534,
          0.8414932767697534,
          0.8729300968474869,
          0.8729300968474869
         ],
         "yaxis": "y3"
        },
        {
         "line": {
          "color": "rgba(171,99,250,1)"
         },
         "marker": {
          "color": "rgba(171,99,250,1)"
         },
         "mode": "lines+markers",
         "name": "tree generator (conti)",
         "showlegend": false,
         "type": "scatter",
         "x": [
          1,
          5,
          15,
          50,
          100
         ],
         "xaxis": "x3",
         "y": [
          0.8778334860774153,
          0.8778334860774153,
          0.8778334860774153,
          0.8872678717110916,
          0.8872678717110916
         ],
         "yaxis": "y3"
        },
        {
         "line": {
          "color": "rgba(171,99,250,0.2)"
         },
         "mode": "lines",
         "showlegend": false,
         "type": "scatter",
         "x": [
          1,
          5,
          15,
          50,
          100
         ],
         "xaxis": "x3",
         "y": [
          0.9077152030554243,
          0.9077152030554243,
          0.9077152030554243,
          0.9028876916819402,
          0.9028876916819402
         ],
         "yaxis": "y3"
        },
        {
         "fill": "tonexty",
         "fillcolor": "rgba(171,99,250,0.2)",
         "line": {
          "color": "rgba(255,255,255,0)"
         },
         "mode": "lines",
         "showlegend": false,
         "type": "scatter",
         "x": [
          1,
          5,
          15,
          50,
          100
         ],
         "xaxis": "x3",
         "y": [
          0.8479517690994063,
          0.8479517690994063,
          0.8479517690994063,
          0.871648051740243,
          0.871648051740243
         ],
         "yaxis": "y3"
        }
       ],
       "layout": {
        "height": 900,
        "legend": {
         "orientation": "h",
         "x": 0.5,
         "y": 1.15
        },
        "template": {
         "data": {
          "bar": [
           {
            "error_x": {
             "color": "#2a3f5f"
            },
            "error_y": {
             "color": "#2a3f5f"
            },
            "marker": {
             "line": {
              "color": "#E5ECF6",
              "width": 0.5
             },
             "pattern": {
              "fillmode": "overlay",
              "size": 10,
              "solidity": 0.2
             }
            },
            "type": "bar"
           }
          ],
          "barpolar": [
           {
            "marker": {
             "line": {
              "color": "#E5ECF6",
              "width": 0.5
             },
             "pattern": {
              "fillmode": "overlay",
              "size": 10,
              "solidity": 0.2
             }
            },
            "type": "barpolar"
           }
          ],
          "carpet": [
           {
            "aaxis": {
             "endlinecolor": "#2a3f5f",
             "gridcolor": "white",
             "linecolor": "white",
             "minorgridcolor": "white",
             "startlinecolor": "#2a3f5f"
            },
            "baxis": {
             "endlinecolor": "#2a3f5f",
             "gridcolor": "white",
             "linecolor": "white",
             "minorgridcolor": "white",
             "startlinecolor": "#2a3f5f"
            },
            "type": "carpet"
           }
          ],
          "choropleth": [
           {
            "colorbar": {
             "outlinewidth": 0,
             "ticks": ""
            },
            "type": "choropleth"
           }
          ],
          "contour": [
           {
            "colorbar": {
             "outlinewidth": 0,
             "ticks": ""
            },
            "colorscale": [
             [
              0,
              "#0d0887"
             ],
             [
              0.1111111111111111,
              "#46039f"
             ],
             [
              0.2222222222222222,
              "#7201a8"
             ],
             [
              0.3333333333333333,
              "#9c179e"
             ],
             [
              0.4444444444444444,
              "#bd3786"
             ],
             [
              0.5555555555555556,
              "#d8576b"
             ],
             [
              0.6666666666666666,
              "#ed7953"
             ],
             [
              0.7777777777777778,
              "#fb9f3a"
             ],
             [
              0.8888888888888888,
              "#fdca26"
             ],
             [
              1,
              "#f0f921"
             ]
            ],
            "type": "contour"
           }
          ],
          "contourcarpet": [
           {
            "colorbar": {
             "outlinewidth": 0,
             "ticks": ""
            },
            "type": "contourcarpet"
           }
          ],
          "heatmap": [
           {
            "colorbar": {
             "outlinewidth": 0,
             "ticks": ""
            },
            "colorscale": [
             [
              0,
              "#0d0887"
             ],
             [
              0.1111111111111111,
              "#46039f"
             ],
             [
              0.2222222222222222,
              "#7201a8"
             ],
             [
              0.3333333333333333,
              "#9c179e"
             ],
             [
              0.4444444444444444,
              "#bd3786"
             ],
             [
              0.5555555555555556,
              "#d8576b"
             ],
             [
              0.6666666666666666,
              "#ed7953"
             ],
             [
              0.7777777777777778,
              "#fb9f3a"
             ],
             [
              0.8888888888888888,
              "#fdca26"
             ],
             [
              1,
              "#f0f921"
             ]
            ],
            "type": "heatmap"
           }
          ],
          "heatmapgl": [
           {
            "colorbar": {
             "outlinewidth": 0,
             "ticks": ""
            },
            "colorscale": [
             [
              0,
              "#0d0887"
             ],
             [
              0.1111111111111111,
              "#46039f"
             ],
             [
              0.2222222222222222,
              "#7201a8"
             ],
             [
              0.3333333333333333,
              "#9c179e"
             ],
             [
              0.4444444444444444,
              "#bd3786"
             ],
             [
              0.5555555555555556,
              "#d8576b"
             ],
             [
              0.6666666666666666,
              "#ed7953"
             ],
             [
              0.7777777777777778,
              "#fb9f3a"
             ],
             [
              0.8888888888888888,
              "#fdca26"
             ],
             [
              1,
              "#f0f921"
             ]
            ],
            "type": "heatmapgl"
           }
          ],
          "histogram": [
           {
            "marker": {
             "pattern": {
              "fillmode": "overlay",
              "size": 10,
              "solidity": 0.2
             }
            },
            "type": "histogram"
           }
          ],
          "histogram2d": [
           {
            "colorbar": {
             "outlinewidth": 0,
             "ticks": ""
            },
            "colorscale": [
             [
              0,
              "#0d0887"
             ],
             [
              0.1111111111111111,
              "#46039f"
             ],
             [
              0.2222222222222222,
              "#7201a8"
             ],
             [
              0.3333333333333333,
              "#9c179e"
             ],
             [
              0.4444444444444444,
              "#bd3786"
             ],
             [
              0.5555555555555556,
              "#d8576b"
             ],
             [
              0.6666666666666666,
              "#ed7953"
             ],
             [
              0.7777777777777778,
              "#fb9f3a"
             ],
             [
              0.8888888888888888,
              "#fdca26"
             ],
             [
              1,
              "#f0f921"
             ]
            ],
            "type": "histogram2d"
           }
          ],
          "histogram2dcontour": [
           {
            "colorbar": {
             "outlinewidth": 0,
             "ticks": ""
            },
            "colorscale": [
             [
              0,
              "#0d0887"
             ],
             [
              0.1111111111111111,
              "#46039f"
             ],
             [
              0.2222222222222222,
              "#7201a8"
             ],
             [
              0.3333333333333333,
              "#9c179e"
             ],
             [
              0.4444444444444444,
              "#bd3786"
             ],
             [
              0.5555555555555556,
              "#d8576b"
             ],
             [
              0.6666666666666666,
              "#ed7953"
             ],
             [
              0.7777777777777778,
              "#fb9f3a"
             ],
             [
              0.8888888888888888,
              "#fdca26"
             ],
             [
              1,
              "#f0f921"
             ]
            ],
            "type": "histogram2dcontour"
           }
          ],
          "mesh3d": [
           {
            "colorbar": {
             "outlinewidth": 0,
             "ticks": ""
            },
            "type": "mesh3d"
           }
          ],
          "parcoords": [
           {
            "line": {
             "colorbar": {
              "outlinewidth": 0,
              "ticks": ""
             }
            },
            "type": "parcoords"
           }
          ],
          "pie": [
           {
            "automargin": true,
            "type": "pie"
           }
          ],
          "scatter": [
           {
            "fillpattern": {
             "fillmode": "overlay",
             "size": 10,
             "solidity": 0.2
            },
            "type": "scatter"
           }
          ],
          "scatter3d": [
           {
            "line": {
             "colorbar": {
              "outlinewidth": 0,
              "ticks": ""
             }
            },
            "marker": {
             "colorbar": {
              "outlinewidth": 0,
              "ticks": ""
             }
            },
            "type": "scatter3d"
           }
          ],
          "scattercarpet": [
           {
            "marker": {
             "colorbar": {
              "outlinewidth": 0,
              "ticks": ""
             }
            },
            "type": "scattercarpet"
           }
          ],
          "scattergeo": [
           {
            "marker": {
             "colorbar": {
              "outlinewidth": 0,
              "ticks": ""
             }
            },
            "type": "scattergeo"
           }
          ],
          "scattergl": [
           {
            "marker": {
             "colorbar": {
              "outlinewidth": 0,
              "ticks": ""
             }
            },
            "type": "scattergl"
           }
          ],
          "scattermapbox": [
           {
            "marker": {
             "colorbar": {
              "outlinewidth": 0,
              "ticks": ""
             }
            },
            "type": "scattermapbox"
           }
          ],
          "scatterpolar": [
           {
            "marker": {
             "colorbar": {
              "outlinewidth": 0,
              "ticks": ""
             }
            },
            "type": "scatterpolar"
           }
          ],
          "scatterpolargl": [
           {
            "marker": {
             "colorbar": {
              "outlinewidth": 0,
              "ticks": ""
             }
            },
            "type": "scatterpolargl"
           }
          ],
          "scatterternary": [
           {
            "marker": {
             "colorbar": {
              "outlinewidth": 0,
              "ticks": ""
             }
            },
            "type": "scatterternary"
           }
          ],
          "surface": [
           {
            "colorbar": {
             "outlinewidth": 0,
             "ticks": ""
            },
            "colorscale": [
             [
              0,
              "#0d0887"
             ],
             [
              0.1111111111111111,
              "#46039f"
             ],
             [
              0.2222222222222222,
              "#7201a8"
             ],
             [
              0.3333333333333333,
              "#9c179e"
             ],
             [
              0.4444444444444444,
              "#bd3786"
             ],
             [
              0.5555555555555556,
              "#d8576b"
             ],
             [
              0.6666666666666666,
              "#ed7953"
             ],
             [
              0.7777777777777778,
              "#fb9f3a"
             ],
             [
              0.8888888888888888,
              "#fdca26"
             ],
             [
              1,
              "#f0f921"
             ]
            ],
            "type": "surface"
           }
          ],
          "table": [
           {
            "cells": {
             "fill": {
              "color": "#EBF0F8"
             },
             "line": {
              "color": "white"
             }
            },
            "header": {
             "fill": {
              "color": "#C8D4E3"
             },
             "line": {
              "color": "white"
             }
            },
            "type": "table"
           }
          ]
         },
         "layout": {
          "annotationdefaults": {
           "arrowcolor": "#2a3f5f",
           "arrowhead": 0,
           "arrowwidth": 1
          },
          "autotypenumbers": "strict",
          "coloraxis": {
           "colorbar": {
            "outlinewidth": 0,
            "ticks": ""
           }
          },
          "colorscale": {
           "diverging": [
            [
             0,
             "#8e0152"
            ],
            [
             0.1,
             "#c51b7d"
            ],
            [
             0.2,
             "#de77ae"
            ],
            [
             0.3,
             "#f1b6da"
            ],
            [
             0.4,
             "#fde0ef"
            ],
            [
             0.5,
             "#f7f7f7"
            ],
            [
             0.6,
             "#e6f5d0"
            ],
            [
             0.7,
             "#b8e186"
            ],
            [
             0.8,
             "#7fbc41"
            ],
            [
             0.9,
             "#4d9221"
            ],
            [
             1,
             "#276419"
            ]
           ],
           "sequential": [
            [
             0,
             "#0d0887"
            ],
            [
             0.1111111111111111,
             "#46039f"
            ],
            [
             0.2222222222222222,
             "#7201a8"
            ],
            [
             0.3333333333333333,
             "#9c179e"
            ],
            [
             0.4444444444444444,
             "#bd3786"
            ],
            [
             0.5555555555555556,
             "#d8576b"
            ],
            [
             0.6666666666666666,
             "#ed7953"
            ],
            [
             0.7777777777777778,
             "#fb9f3a"
            ],
            [
             0.8888888888888888,
             "#fdca26"
            ],
            [
             1,
             "#f0f921"
            ]
           ],
           "sequentialminus": [
            [
             0,
             "#0d0887"
            ],
            [
             0.1111111111111111,
             "#46039f"
            ],
            [
             0.2222222222222222,
             "#7201a8"
            ],
            [
             0.3333333333333333,
             "#9c179e"
            ],
            [
             0.4444444444444444,
             "#bd3786"
            ],
            [
             0.5555555555555556,
             "#d8576b"
            ],
            [
             0.6666666666666666,
             "#ed7953"
            ],
            [
             0.7777777777777778,
             "#fb9f3a"
            ],
            [
             0.8888888888888888,
             "#fdca26"
            ],
            [
             1,
             "#f0f921"
            ]
           ]
          },
          "colorway": [
           "#636efa",
           "#EF553B",
           "#00cc96",
           "#ab63fa",
           "#FFA15A",
           "#19d3f3",
           "#FF6692",
           "#B6E880",
           "#FF97FF",
           "#FECB52"
          ],
          "font": {
           "color": "#2a3f5f"
          },
          "geo": {
           "bgcolor": "white",
           "lakecolor": "white",
           "landcolor": "#E5ECF6",
           "showlakes": true,
           "showland": true,
           "subunitcolor": "white"
          },
          "hoverlabel": {
           "align": "left"
          },
          "hovermode": "closest",
          "mapbox": {
           "style": "light"
          },
          "paper_bgcolor": "white",
          "plot_bgcolor": "#E5ECF6",
          "polar": {
           "angularaxis": {
            "gridcolor": "white",
            "linecolor": "white",
            "ticks": ""
           },
           "bgcolor": "#E5ECF6",
           "radialaxis": {
            "gridcolor": "white",
            "linecolor": "white",
            "ticks": ""
           }
          },
          "scene": {
           "xaxis": {
            "backgroundcolor": "#E5ECF6",
            "gridcolor": "white",
            "gridwidth": 2,
            "linecolor": "white",
            "showbackground": true,
            "ticks": "",
            "zerolinecolor": "white"
           },
           "yaxis": {
            "backgroundcolor": "#E5ECF6",
            "gridcolor": "white",
            "gridwidth": 2,
            "linecolor": "white",
            "showbackground": true,
            "ticks": "",
            "zerolinecolor": "white"
           },
           "zaxis": {
            "backgroundcolor": "#E5ECF6",
            "gridcolor": "white",
            "gridwidth": 2,
            "linecolor": "white",
            "showbackground": true,
            "ticks": "",
            "zerolinecolor": "white"
           }
          },
          "shapedefaults": {
           "line": {
            "color": "#2a3f5f"
           }
          },
          "ternary": {
           "aaxis": {
            "gridcolor": "white",
            "linecolor": "white",
            "ticks": ""
           },
           "baxis": {
            "gridcolor": "white",
            "linecolor": "white",
            "ticks": ""
           },
           "bgcolor": "#E5ECF6",
           "caxis": {
            "gridcolor": "white",
            "linecolor": "white",
            "ticks": ""
           }
          },
          "title": {
           "x": 0.05
          },
          "xaxis": {
           "automargin": true,
           "gridcolor": "white",
           "linecolor": "white",
           "ticks": "",
           "title": {
            "standoff": 15
           },
           "zerolinecolor": "white",
           "zerolinewidth": 2
          },
          "yaxis": {
           "automargin": true,
           "gridcolor": "white",
           "linecolor": "white",
           "ticks": "",
           "title": {
            "standoff": 15
           },
           "zerolinecolor": "white",
           "zerolinewidth": 2
          }
         }
        },
        "width": 600,
        "xaxis": {
         "anchor": "y",
         "domain": [
          0,
          1
         ],
         "title": {
          "font": {
           "size": 16
          },
          "text": "n unsupervised"
         }
        },
        "xaxis2": {
         "anchor": "y2",
         "domain": [
          0,
          1
         ],
         "title": {
          "font": {
           "size": 16
          },
          "text": "n unsupervised"
         }
        },
        "xaxis3": {
         "anchor": "y3",
         "domain": [
          0,
          1
         ],
         "title": {
          "text": "n unsupervised"
         }
        },
        "xaxis4": {
         "anchor": "y4",
         "domain": [
          0,
          1
         ]
        },
        "yaxis": {
         "anchor": "x",
         "domain": [
          0.80625,
          1
         ],
         "range": [
          0,
          1
         ],
         "side": "right",
         "title": {
          "font": {
           "size": 16
          },
          "text": "auc"
         }
        },
        "yaxis2": {
         "anchor": "x2",
         "domain": [
          0.5375,
          0.73125
         ],
         "range": [
          0,
          1
         ],
         "side": "right",
         "title": {
          "font": {
           "size": 16
          },
          "text": "violation_rate"
         }
        },
        "yaxis3": {
         "anchor": "x3",
         "domain": [
          0.26875,
          0.4625
         ],
         "range": [
          0,
          1
         ],
         "side": "right",
         "title": {
          "font": {
           "size": 16
          },
          "text": "violation_rate (instance)"
         }
        },
        "yaxis4": {
         "anchor": "x4",
         "domain": [
          0,
          0.19375
         ]
        }
       }
      }
     },
     "metadata": {},
     "output_type": "display_data"
    }
   ],
   "source": [
    "import plotly.graph_objects as go\n",
    "from plotly.subplots import make_subplots\n",
    "\n",
    "\n",
    "# グラフのデータを準備\n",
    "# index = ['l-SVM-p', 'r-SVM-p', 'LogReg-p']\n",
    "\n",
    "# index = [\n",
    "#     'linear svm (L)', \n",
    "#     'non-linear svm (L)', \n",
    "#     'logistic regression (L)'\n",
    "# ]\n",
    "\n",
    "# index = [\n",
    "#     'linear svm', \n",
    "#     'non-linear svm', \n",
    "#     'logistic regression'\n",
    "# ]\n",
    "\n",
    "index = [\n",
    "    'RuleFit Classifier (disc)',\n",
    "    'tree generator (disc)',\n",
    "    'RuleFit Classifier (conti)', \n",
    "    'tree generator (conti)',\n",
    "]\n",
    "\n",
    "columns = ['auc', 'violation_rate', 'violation_rate (instance)']\n",
    "\n",
    "title_text = \"n unsupervised\"\n",
    "\n",
    "\n",
    "# サブプロットの作成\n",
    "# fig = make_subplots(rows=1, cols=2, subplot_titles=('AUC', 'ルール違反率'))\n",
    "fig = make_subplots(rows=len(index), cols=1)\n",
    "showlegend=True\n",
    "\n",
    "for row_num, col in enumerate(columns):\n",
    "    tmp_mean = pd.DataFrame(\n",
    "        [{info: df.loc[model_name, col] for info, df in zip(infos, dfs_mean)} for model_name in index],\n",
    "        index=index\n",
    "    )\n",
    "    tmp_std = pd.DataFrame(\n",
    "        [{info: df.loc[model_name, col] for info, df in zip(infos, dfs_std)} for model_name in index],\n",
    "        index=index\n",
    "    )\n",
    "\n",
    "    # グラフ1: AUC\n",
    "    for i in range(len(tmp_mean)):\n",
    "        fig.add_trace(\n",
    "            go.Scatter(\n",
    "                x=tmp_mean.columns,\n",
    "                y=tmp_mean.iloc[i, :],\n",
    "                mode='lines+markers',\n",
    "                name=tmp_mean.index[i],\n",
    "                line=dict(color=colors_mean[i]),  # ラインの色を設定\n",
    "                marker=dict(color=colors_mean[i]),  # マーカーの色を設定\n",
    "                showlegend=showlegend,\n",
    "            ),\n",
    "            row=row_num+1, col=1\n",
    "        )\n",
    "        fig.add_trace(\n",
    "            go.Scatter(\n",
    "                x=tmp_mean.columns,\n",
    "                y=tmp_mean.iloc[i, :] + tmp_std.iloc[i, :],\n",
    "                mode='lines',\n",
    "                line=dict(color=colors_std[i]),  # ラインの色を設定\n",
    "                showlegend=False\n",
    "            ),\n",
    "            row=row_num+1, col=1\n",
    "        )\n",
    "        fig.add_trace(\n",
    "            go.Scatter(\n",
    "                x=tmp_mean.columns,\n",
    "                y=tmp_mean.iloc[i, :] - tmp_std.iloc[i, :],\n",
    "                mode='lines',\n",
    "                fill='tonexty',\n",
    "                fillcolor=colors_std[i],\n",
    "                line=dict(color='rgba(255,255,255,0)'),\n",
    "                showlegend=False\n",
    "            ),\n",
    "            row=row_num+1, col=1\n",
    "        )\n",
    "    \n",
    "    # x, y 軸の設定\n",
    "    fig.update_xaxes(title_text=title_text, row=row_num+1, col=1)\n",
    "    fig.update_yaxes(title_text=col, range=[0, 1], row=row_num+1, col=1, side='right', title_font=dict(size=16))\n",
    "\n",
    "    showlegend=False\n",
    "    \n",
    "# レイアウトの設定\n",
    "fig.update_layout(\n",
    "    height=len(columns) * 300,\n",
    "    width=600,\n",
    "    xaxis=dict(\n",
    "        domain=[0, 1],  # 左側のsubplotの幅を調整\n",
    "        title_font=dict(size=16)\n",
    "    ),\n",
    "    xaxis2=dict(\n",
    "        domain=[0, 1],  # 右側のsubplotの幅を調整\n",
    "        title_font=dict(size=16)\n",
    "    ),\n",
    "    legend=dict(\n",
    "        x=0.5,\n",
    "        y=1.15,\n",
    "        orientation='h'  # 水平配置\n",
    "    ),\n",
    ")\n",
    "\n",
    "\n",
    "# グラフの表示\n",
    "fig.show()"
   ]
  },
  {
   "cell_type": "code",
   "execution_count": 8,
   "metadata": {},
   "outputs": [
    {
     "data": {
      "application/vnd.plotly.v1+json": {
       "config": {
        "plotlyServerURL": "https://plot.ly"
       },
       "data": [
        {
         "line": {
          "color": "rgba(99,110,250,1)"
         },
         "marker": {
          "color": "rgba(99,110,250,1)"
         },
         "mode": "lines+markers",
         "name": "linear svm (L)",
         "showlegend": true,
         "type": "scatter",
         "x": [
          1,
          5,
          15,
          50,
          100
         ],
         "xaxis": "x",
         "y": [
          0.663948643248663,
          0.4327604420265028,
          0.3544756404302146,
          0.7181921986738915,
          0.45915330062898213
         ],
         "yaxis": "y"
        },
        {
         "line": {
          "color": "rgba(99,110,250,0.2)"
         },
         "mode": "lines",
         "showlegend": false,
         "type": "scatter",
         "x": [
          1,
          5,
          15,
          50,
          100
         ],
         "xaxis": "x",
         "y": [
          0.9137309061663696,
          0.6896974784649926,
          0.6025670799053028,
          0.8773680951534617,
          0.7633955829694012
         ],
         "yaxis": "y"
        },
        {
         "fill": "tonexty",
         "fillcolor": "rgba(99,110,250,0.2)",
         "line": {
          "color": "rgba(255,255,255,0)"
         },
         "mode": "lines",
         "showlegend": false,
         "type": "scatter",
         "x": [
          1,
          5,
          15,
          50,
          100
         ],
         "xaxis": "x",
         "y": [
          0.4141663803309563,
          0.17582340558801302,
          0.10638420095512643,
          0.5590163021943213,
          0.15491101828856296
         ],
         "yaxis": "y"
        },
        {
         "line": {
          "color": "rgba(239,85,59,1)"
         },
         "marker": {
          "color": "rgba(239,85,59,1)"
         },
         "mode": "lines+markers",
         "name": "non-linear svm (L)",
         "showlegend": true,
         "type": "scatter",
         "x": [
          1,
          5,
          15,
          50,
          100
         ],
         "xaxis": "x",
         "y": [
          0.8275893990206761,
          0.8230341746695421,
          0.8165446067263918,
          0.8190835625675641,
          0.819874224624191
         ],
         "yaxis": "y"
        },
        {
         "line": {
          "color": "rgba(239,85,59,0.2)"
         },
         "mode": "lines",
         "showlegend": false,
         "type": "scatter",
         "x": [
          1,
          5,
          15,
          50,
          100
         ],
         "xaxis": "x",
         "y": [
          0.8691943029725192,
          0.8654892425175961,
          0.8688368270469768,
          0.8615745394037027,
          0.8644503949684417
         ],
         "yaxis": "y"
        },
        {
         "fill": "tonexty",
         "fillcolor": "rgba(239,85,59,0.2)",
         "line": {
          "color": "rgba(255,255,255,0)"
         },
         "mode": "lines",
         "showlegend": false,
         "type": "scatter",
         "x": [
          1,
          5,
          15,
          50,
          100
         ],
         "xaxis": "x",
         "y": [
          0.785984495068833,
          0.7805791068214881,
          0.7642523864058068,
          0.7765925857314255,
          0.7752980542799404
         ],
         "yaxis": "y"
        },
        {
         "line": {
          "color": "rgba(0,204,150,1)"
         },
         "marker": {
          "color": "rgba(0,204,150,1)"
         },
         "mode": "lines+markers",
         "name": "logistic regression (L)",
         "showlegend": true,
         "type": "scatter",
         "x": [
          1,
          5,
          15,
          50,
          100
         ],
         "xaxis": "x",
         "y": [
          0.8247611824744631,
          0.8259329821229102,
          0.8262305648250269,
          0.8274490668060533,
          0.8292212171560382
         ],
         "yaxis": "y"
        },
        {
         "line": {
          "color": "rgba(0,204,150,0.2)"
         },
         "mode": "lines",
         "showlegend": false,
         "type": "scatter",
         "x": [
          1,
          5,
          15,
          50,
          100
         ],
         "xaxis": "x",
         "y": [
          0.8763139388809902,
          0.8777816101020421,
          0.8775228954439703,
          0.87950988142528,
          0.8779703159219275
         ],
         "yaxis": "y"
        },
        {
         "fill": "tonexty",
         "fillcolor": "rgba(0,204,150,0.2)",
         "line": {
          "color": "rgba(255,255,255,0)"
         },
         "mode": "lines",
         "showlegend": false,
         "type": "scatter",
         "x": [
          1,
          5,
          15,
          50,
          100
         ],
         "xaxis": "x",
         "y": [
          0.7732084260679359,
          0.7740843541437783,
          0.7749382342060834,
          0.7753882521868267,
          0.780472118390149
         ],
         "yaxis": "y"
        },
        {
         "line": {
          "color": "rgba(99,110,250,1)"
         },
         "marker": {
          "color": "rgba(99,110,250,1)"
         },
         "mode": "lines+markers",
         "name": "linear svm (L)",
         "showlegend": false,
         "type": "scatter",
         "x": [
          1,
          5,
          15,
          50,
          100
         ],
         "xaxis": "x2",
         "y": [
          0.5609110786700041,
          0.5433729269928798,
          0.5331165167364693,
          0.637579071180219,
          0.7090710509648817
         ],
         "yaxis": "y2"
        },
        {
         "line": {
          "color": "rgba(99,110,250,0.2)"
         },
         "mode": "lines",
         "showlegend": false,
         "type": "scatter",
         "x": [
          1,
          5,
          15,
          50,
          100
         ],
         "xaxis": "x2",
         "y": [
          0.6134755974680063,
          0.6588428390923229,
          0.6427195130845895,
          0.7088496047005807,
          0.8301301530499223
         ],
         "yaxis": "y2"
        },
        {
         "fill": "tonexty",
         "fillcolor": "rgba(99,110,250,0.2)",
         "line": {
          "color": "rgba(255,255,255,0)"
         },
         "mode": "lines",
         "showlegend": false,
         "type": "scatter",
         "x": [
          1,
          5,
          15,
          50,
          100
         ],
         "xaxis": "x2",
         "y": [
          0.508346559872002,
          0.42790301489343663,
          0.42351352038834905,
          0.5663085376598572,
          0.588011948879841
         ],
         "yaxis": "y2"
        },
        {
         "line": {
          "color": "rgba(239,85,59,1)"
         },
         "marker": {
          "color": "rgba(239,85,59,1)"
         },
         "mode": "lines+markers",
         "name": "non-linear svm (L)",
         "showlegend": false,
         "type": "scatter",
         "x": [
          1,
          5,
          15,
          50,
          100
         ],
         "xaxis": "x2",
         "y": [
          0.6064403191955501,
          0.5959543717189655,
          0.613131007310761,
          0.6586891051740406,
          0.5927672004859954
         ],
         "yaxis": "y2"
        },
        {
         "line": {
          "color": "rgba(239,85,59,0.2)"
         },
         "mode": "lines",
         "showlegend": false,
         "type": "scatter",
         "x": [
          1,
          5,
          15,
          50,
          100
         ],
         "xaxis": "x2",
         "y": [
          0.7218408182062399,
          0.7062982881180851,
          0.7608017161025362,
          0.7577010262257394,
          0.7266507188903668
         ],
         "yaxis": "y2"
        },
        {
         "fill": "tonexty",
         "fillcolor": "rgba(239,85,59,0.2)",
         "line": {
          "color": "rgba(255,255,255,0)"
         },
         "mode": "lines",
         "showlegend": false,
         "type": "scatter",
         "x": [
          1,
          5,
          15,
          50,
          100
         ],
         "xaxis": "x2",
         "y": [
          0.4910398201848602,
          0.4856104553198458,
          0.4654602985189858,
          0.5596771841223417,
          0.458883682081624
         ],
         "yaxis": "y2"
        },
        {
         "line": {
          "color": "rgba(0,204,150,1)"
         },
         "marker": {
          "color": "rgba(0,204,150,1)"
         },
         "mode": "lines+markers",
         "name": "logistic regression (L)",
         "showlegend": false,
         "type": "scatter",
         "x": [
          1,
          5,
          15,
          50,
          100
         ],
         "xaxis": "x2",
         "y": [
          0.5086686299212372,
          0.49085645241865716,
          0.5046139312410018,
          0.5611433815451032,
          0.5552106195147802
         ],
         "yaxis": "y2"
        },
        {
         "line": {
          "color": "rgba(0,204,150,0.2)"
         },
         "mode": "lines",
         "showlegend": false,
         "type": "scatter",
         "x": [
          1,
          5,
          15,
          50,
          100
         ],
         "xaxis": "x2",
         "y": [
          0.6188963884109417,
          0.5959330236817082,
          0.6210663210086522,
          0.6458245024961887,
          0.6241068976461077
         ],
         "yaxis": "y2"
        },
        {
         "fill": "tonexty",
         "fillcolor": "rgba(0,204,150,0.2)",
         "line": {
          "color": "rgba(255,255,255,0)"
         },
         "mode": "lines",
         "showlegend": false,
         "type": "scatter",
         "x": [
          1,
          5,
          15,
          50,
          100
         ],
         "xaxis": "x2",
         "y": [
          0.3984408714315327,
          0.3857798811556061,
          0.38816154147335147,
          0.47646226059401775,
          0.4863143413834527
         ],
         "yaxis": "y2"
        },
        {
         "line": {
          "color": "rgba(99,110,250,1)"
         },
         "marker": {
          "color": "rgba(99,110,250,1)"
         },
         "mode": "lines+markers",
         "name": "linear svm (L)",
         "showlegend": false,
         "type": "scatter",
         "x": [
          1,
          5,
          15,
          50,
          100
         ],
         "xaxis": "x3",
         "y": [
          0.6940384780801645,
          0.6502332388095218,
          0.7662497899419083,
          0.4040526179386079,
          0.654998674136332
         ],
         "yaxis": "y3"
        },
        {
         "line": {
          "color": "rgba(99,110,250,0.2)"
         },
         "mode": "lines",
         "showlegend": false,
         "type": "scatter",
         "x": [
          1,
          5,
          15,
          50,
          100
         ],
         "xaxis": "x3",
         "y": [
          0.9351552007300454,
          0.8893195636973391,
          0.8405622925876937,
          0.6358983880065152,
          0.910656972124609
         ],
         "yaxis": "y3"
        },
        {
         "fill": "tonexty",
         "fillcolor": "rgba(99,110,250,0.2)",
         "line": {
          "color": "rgba(255,255,255,0)"
         },
         "mode": "lines",
         "showlegend": false,
         "type": "scatter",
         "x": [
          1,
          5,
          15,
          50,
          100
         ],
         "xaxis": "x3",
         "y": [
          0.45292175543028357,
          0.41114691392170444,
          0.6919372872961229,
          0.17220684787070065,
          0.39934037614805484
         ],
         "yaxis": "y3"
        },
        {
         "line": {
          "color": "rgba(239,85,59,1)"
         },
         "marker": {
          "color": "rgba(239,85,59,1)"
         },
         "mode": "lines+markers",
         "name": "non-linear svm (L)",
         "showlegend": false,
         "type": "scatter",
         "x": [
          1,
          5,
          15,
          50,
          100
         ],
         "xaxis": "x3",
         "y": [
          0.2746188299723006,
          0.26204487670830856,
          0.2527273013406969,
          0.2648528683365721,
          0.22130901731221447
         ],
         "yaxis": "y3"
        },
        {
         "line": {
          "color": "rgba(239,85,59,0.2)"
         },
         "mode": "lines",
         "showlegend": false,
         "type": "scatter",
         "x": [
          1,
          5,
          15,
          50,
          100
         ],
         "xaxis": "x3",
         "y": [
          0.3218460436645581,
          0.3029621573551753,
          0.29467166542627266,
          0.3013918493368422,
          0.27571100983082664
         ],
         "yaxis": "y3"
        },
        {
         "fill": "tonexty",
         "fillcolor": "rgba(239,85,59,0.2)",
         "line": {
          "color": "rgba(255,255,255,0)"
         },
         "mode": "lines",
         "showlegend": false,
         "type": "scatter",
         "x": [
          1,
          5,
          15,
          50,
          100
         ],
         "xaxis": "x3",
         "y": [
          0.22739161628004306,
          0.22112759606144183,
          0.2107829372551211,
          0.22831388733630203,
          0.1669070247936023
         ],
         "yaxis": "y3"
        },
        {
         "line": {
          "color": "rgba(0,204,150,1)"
         },
         "marker": {
          "color": "rgba(0,204,150,1)"
         },
         "mode": "lines+markers",
         "name": "logistic regression (L)",
         "showlegend": false,
         "type": "scatter",
         "x": [
          1,
          5,
          15,
          50,
          100
         ],
         "xaxis": "x3",
         "y": [
          0.18700714149559755,
          0.18462587632796612,
          0.1859869210068788,
          0.1608767589450621,
          0.16178074744337997
         ],
         "yaxis": "y3"
        },
        {
         "line": {
          "color": "rgba(0,204,150,0.2)"
         },
         "mode": "lines",
         "showlegend": false,
         "type": "scatter",
         "x": [
          1,
          5,
          15,
          50,
          100
         ],
         "xaxis": "x3",
         "y": [
          0.24558307202783658,
          0.24308346608574852,
          0.24675569545478387,
          0.1979240195438407,
          0.19493036503480926
         ],
         "yaxis": "y3"
        },
        {
         "fill": "tonexty",
         "fillcolor": "rgba(0,204,150,0.2)",
         "line": {
          "color": "rgba(255,255,255,0)"
         },
         "mode": "lines",
         "showlegend": false,
         "type": "scatter",
         "x": [
          1,
          5,
          15,
          50,
          100
         ],
         "xaxis": "x3",
         "y": [
          0.12843121096335852,
          0.12616828657018372,
          0.12521814655897373,
          0.12382949834628348,
          0.1286311298519507
         ],
         "yaxis": "y3"
        }
       ],
       "layout": {
        "height": 900,
        "legend": {
         "orientation": "h",
         "x": 0.5,
         "y": 1.15
        },
        "template": {
         "data": {
          "bar": [
           {
            "error_x": {
             "color": "#2a3f5f"
            },
            "error_y": {
             "color": "#2a3f5f"
            },
            "marker": {
             "line": {
              "color": "#E5ECF6",
              "width": 0.5
             },
             "pattern": {
              "fillmode": "overlay",
              "size": 10,
              "solidity": 0.2
             }
            },
            "type": "bar"
           }
          ],
          "barpolar": [
           {
            "marker": {
             "line": {
              "color": "#E5ECF6",
              "width": 0.5
             },
             "pattern": {
              "fillmode": "overlay",
              "size": 10,
              "solidity": 0.2
             }
            },
            "type": "barpolar"
           }
          ],
          "carpet": [
           {
            "aaxis": {
             "endlinecolor": "#2a3f5f",
             "gridcolor": "white",
             "linecolor": "white",
             "minorgridcolor": "white",
             "startlinecolor": "#2a3f5f"
            },
            "baxis": {
             "endlinecolor": "#2a3f5f",
             "gridcolor": "white",
             "linecolor": "white",
             "minorgridcolor": "white",
             "startlinecolor": "#2a3f5f"
            },
            "type": "carpet"
           }
          ],
          "choropleth": [
           {
            "colorbar": {
             "outlinewidth": 0,
             "ticks": ""
            },
            "type": "choropleth"
           }
          ],
          "contour": [
           {
            "colorbar": {
             "outlinewidth": 0,
             "ticks": ""
            },
            "colorscale": [
             [
              0,
              "#0d0887"
             ],
             [
              0.1111111111111111,
              "#46039f"
             ],
             [
              0.2222222222222222,
              "#7201a8"
             ],
             [
              0.3333333333333333,
              "#9c179e"
             ],
             [
              0.4444444444444444,
              "#bd3786"
             ],
             [
              0.5555555555555556,
              "#d8576b"
             ],
             [
              0.6666666666666666,
              "#ed7953"
             ],
             [
              0.7777777777777778,
              "#fb9f3a"
             ],
             [
              0.8888888888888888,
              "#fdca26"
             ],
             [
              1,
              "#f0f921"
             ]
            ],
            "type": "contour"
           }
          ],
          "contourcarpet": [
           {
            "colorbar": {
             "outlinewidth": 0,
             "ticks": ""
            },
            "type": "contourcarpet"
           }
          ],
          "heatmap": [
           {
            "colorbar": {
             "outlinewidth": 0,
             "ticks": ""
            },
            "colorscale": [
             [
              0,
              "#0d0887"
             ],
             [
              0.1111111111111111,
              "#46039f"
             ],
             [
              0.2222222222222222,
              "#7201a8"
             ],
             [
              0.3333333333333333,
              "#9c179e"
             ],
             [
              0.4444444444444444,
              "#bd3786"
             ],
             [
              0.5555555555555556,
              "#d8576b"
             ],
             [
              0.6666666666666666,
              "#ed7953"
             ],
             [
              0.7777777777777778,
              "#fb9f3a"
             ],
             [
              0.8888888888888888,
              "#fdca26"
             ],
             [
              1,
              "#f0f921"
             ]
            ],
            "type": "heatmap"
           }
          ],
          "heatmapgl": [
           {
            "colorbar": {
             "outlinewidth": 0,
             "ticks": ""
            },
            "colorscale": [
             [
              0,
              "#0d0887"
             ],
             [
              0.1111111111111111,
              "#46039f"
             ],
             [
              0.2222222222222222,
              "#7201a8"
             ],
             [
              0.3333333333333333,
              "#9c179e"
             ],
             [
              0.4444444444444444,
              "#bd3786"
             ],
             [
              0.5555555555555556,
              "#d8576b"
             ],
             [
              0.6666666666666666,
              "#ed7953"
             ],
             [
              0.7777777777777778,
              "#fb9f3a"
             ],
             [
              0.8888888888888888,
              "#fdca26"
             ],
             [
              1,
              "#f0f921"
             ]
            ],
            "type": "heatmapgl"
           }
          ],
          "histogram": [
           {
            "marker": {
             "pattern": {
              "fillmode": "overlay",
              "size": 10,
              "solidity": 0.2
             }
            },
            "type": "histogram"
           }
          ],
          "histogram2d": [
           {
            "colorbar": {
             "outlinewidth": 0,
             "ticks": ""
            },
            "colorscale": [
             [
              0,
              "#0d0887"
             ],
             [
              0.1111111111111111,
              "#46039f"
             ],
             [
              0.2222222222222222,
              "#7201a8"
             ],
             [
              0.3333333333333333,
              "#9c179e"
             ],
             [
              0.4444444444444444,
              "#bd3786"
             ],
             [
              0.5555555555555556,
              "#d8576b"
             ],
             [
              0.6666666666666666,
              "#ed7953"
             ],
             [
              0.7777777777777778,
              "#fb9f3a"
             ],
             [
              0.8888888888888888,
              "#fdca26"
             ],
             [
              1,
              "#f0f921"
             ]
            ],
            "type": "histogram2d"
           }
          ],
          "histogram2dcontour": [
           {
            "colorbar": {
             "outlinewidth": 0,
             "ticks": ""
            },
            "colorscale": [
             [
              0,
              "#0d0887"
             ],
             [
              0.1111111111111111,
              "#46039f"
             ],
             [
              0.2222222222222222,
              "#7201a8"
             ],
             [
              0.3333333333333333,
              "#9c179e"
             ],
             [
              0.4444444444444444,
              "#bd3786"
             ],
             [
              0.5555555555555556,
              "#d8576b"
             ],
             [
              0.6666666666666666,
              "#ed7953"
             ],
             [
              0.7777777777777778,
              "#fb9f3a"
             ],
             [
              0.8888888888888888,
              "#fdca26"
             ],
             [
              1,
              "#f0f921"
             ]
            ],
            "type": "histogram2dcontour"
           }
          ],
          "mesh3d": [
           {
            "colorbar": {
             "outlinewidth": 0,
             "ticks": ""
            },
            "type": "mesh3d"
           }
          ],
          "parcoords": [
           {
            "line": {
             "colorbar": {
              "outlinewidth": 0,
              "ticks": ""
             }
            },
            "type": "parcoords"
           }
          ],
          "pie": [
           {
            "automargin": true,
            "type": "pie"
           }
          ],
          "scatter": [
           {
            "fillpattern": {
             "fillmode": "overlay",
             "size": 10,
             "solidity": 0.2
            },
            "type": "scatter"
           }
          ],
          "scatter3d": [
           {
            "line": {
             "colorbar": {
              "outlinewidth": 0,
              "ticks": ""
             }
            },
            "marker": {
             "colorbar": {
              "outlinewidth": 0,
              "ticks": ""
             }
            },
            "type": "scatter3d"
           }
          ],
          "scattercarpet": [
           {
            "marker": {
             "colorbar": {
              "outlinewidth": 0,
              "ticks": ""
             }
            },
            "type": "scattercarpet"
           }
          ],
          "scattergeo": [
           {
            "marker": {
             "colorbar": {
              "outlinewidth": 0,
              "ticks": ""
             }
            },
            "type": "scattergeo"
           }
          ],
          "scattergl": [
           {
            "marker": {
             "colorbar": {
              "outlinewidth": 0,
              "ticks": ""
             }
            },
            "type": "scattergl"
           }
          ],
          "scattermapbox": [
           {
            "marker": {
             "colorbar": {
              "outlinewidth": 0,
              "ticks": ""
             }
            },
            "type": "scattermapbox"
           }
          ],
          "scatterpolar": [
           {
            "marker": {
             "colorbar": {
              "outlinewidth": 0,
              "ticks": ""
             }
            },
            "type": "scatterpolar"
           }
          ],
          "scatterpolargl": [
           {
            "marker": {
             "colorbar": {
              "outlinewidth": 0,
              "ticks": ""
             }
            },
            "type": "scatterpolargl"
           }
          ],
          "scatterternary": [
           {
            "marker": {
             "colorbar": {
              "outlinewidth": 0,
              "ticks": ""
             }
            },
            "type": "scatterternary"
           }
          ],
          "surface": [
           {
            "colorbar": {
             "outlinewidth": 0,
             "ticks": ""
            },
            "colorscale": [
             [
              0,
              "#0d0887"
             ],
             [
              0.1111111111111111,
              "#46039f"
             ],
             [
              0.2222222222222222,
              "#7201a8"
             ],
             [
              0.3333333333333333,
              "#9c179e"
             ],
             [
              0.4444444444444444,
              "#bd3786"
             ],
             [
              0.5555555555555556,
              "#d8576b"
             ],
             [
              0.6666666666666666,
              "#ed7953"
             ],
             [
              0.7777777777777778,
              "#fb9f3a"
             ],
             [
              0.8888888888888888,
              "#fdca26"
             ],
             [
              1,
              "#f0f921"
             ]
            ],
            "type": "surface"
           }
          ],
          "table": [
           {
            "cells": {
             "fill": {
              "color": "#EBF0F8"
             },
             "line": {
              "color": "white"
             }
            },
            "header": {
             "fill": {
              "color": "#C8D4E3"
             },
             "line": {
              "color": "white"
             }
            },
            "type": "table"
           }
          ]
         },
         "layout": {
          "annotationdefaults": {
           "arrowcolor": "#2a3f5f",
           "arrowhead": 0,
           "arrowwidth": 1
          },
          "autotypenumbers": "strict",
          "coloraxis": {
           "colorbar": {
            "outlinewidth": 0,
            "ticks": ""
           }
          },
          "colorscale": {
           "diverging": [
            [
             0,
             "#8e0152"
            ],
            [
             0.1,
             "#c51b7d"
            ],
            [
             0.2,
             "#de77ae"
            ],
            [
             0.3,
             "#f1b6da"
            ],
            [
             0.4,
             "#fde0ef"
            ],
            [
             0.5,
             "#f7f7f7"
            ],
            [
             0.6,
             "#e6f5d0"
            ],
            [
             0.7,
             "#b8e186"
            ],
            [
             0.8,
             "#7fbc41"
            ],
            [
             0.9,
             "#4d9221"
            ],
            [
             1,
             "#276419"
            ]
           ],
           "sequential": [
            [
             0,
             "#0d0887"
            ],
            [
             0.1111111111111111,
             "#46039f"
            ],
            [
             0.2222222222222222,
             "#7201a8"
            ],
            [
             0.3333333333333333,
             "#9c179e"
            ],
            [
             0.4444444444444444,
             "#bd3786"
            ],
            [
             0.5555555555555556,
             "#d8576b"
            ],
            [
             0.6666666666666666,
             "#ed7953"
            ],
            [
             0.7777777777777778,
             "#fb9f3a"
            ],
            [
             0.8888888888888888,
             "#fdca26"
            ],
            [
             1,
             "#f0f921"
            ]
           ],
           "sequentialminus": [
            [
             0,
             "#0d0887"
            ],
            [
             0.1111111111111111,
             "#46039f"
            ],
            [
             0.2222222222222222,
             "#7201a8"
            ],
            [
             0.3333333333333333,
             "#9c179e"
            ],
            [
             0.4444444444444444,
             "#bd3786"
            ],
            [
             0.5555555555555556,
             "#d8576b"
            ],
            [
             0.6666666666666666,
             "#ed7953"
            ],
            [
             0.7777777777777778,
             "#fb9f3a"
            ],
            [
             0.8888888888888888,
             "#fdca26"
            ],
            [
             1,
             "#f0f921"
            ]
           ]
          },
          "colorway": [
           "#636efa",
           "#EF553B",
           "#00cc96",
           "#ab63fa",
           "#FFA15A",
           "#19d3f3",
           "#FF6692",
           "#B6E880",
           "#FF97FF",
           "#FECB52"
          ],
          "font": {
           "color": "#2a3f5f"
          },
          "geo": {
           "bgcolor": "white",
           "lakecolor": "white",
           "landcolor": "#E5ECF6",
           "showlakes": true,
           "showland": true,
           "subunitcolor": "white"
          },
          "hoverlabel": {
           "align": "left"
          },
          "hovermode": "closest",
          "mapbox": {
           "style": "light"
          },
          "paper_bgcolor": "white",
          "plot_bgcolor": "#E5ECF6",
          "polar": {
           "angularaxis": {
            "gridcolor": "white",
            "linecolor": "white",
            "ticks": ""
           },
           "bgcolor": "#E5ECF6",
           "radialaxis": {
            "gridcolor": "white",
            "linecolor": "white",
            "ticks": ""
           }
          },
          "scene": {
           "xaxis": {
            "backgroundcolor": "#E5ECF6",
            "gridcolor": "white",
            "gridwidth": 2,
            "linecolor": "white",
            "showbackground": true,
            "ticks": "",
            "zerolinecolor": "white"
           },
           "yaxis": {
            "backgroundcolor": "#E5ECF6",
            "gridcolor": "white",
            "gridwidth": 2,
            "linecolor": "white",
            "showbackground": true,
            "ticks": "",
            "zerolinecolor": "white"
           },
           "zaxis": {
            "backgroundcolor": "#E5ECF6",
            "gridcolor": "white",
            "gridwidth": 2,
            "linecolor": "white",
            "showbackground": true,
            "ticks": "",
            "zerolinecolor": "white"
           }
          },
          "shapedefaults": {
           "line": {
            "color": "#2a3f5f"
           }
          },
          "ternary": {
           "aaxis": {
            "gridcolor": "white",
            "linecolor": "white",
            "ticks": ""
           },
           "baxis": {
            "gridcolor": "white",
            "linecolor": "white",
            "ticks": ""
           },
           "bgcolor": "#E5ECF6",
           "caxis": {
            "gridcolor": "white",
            "linecolor": "white",
            "ticks": ""
           }
          },
          "title": {
           "x": 0.05
          },
          "xaxis": {
           "automargin": true,
           "gridcolor": "white",
           "linecolor": "white",
           "ticks": "",
           "title": {
            "standoff": 15
           },
           "zerolinecolor": "white",
           "zerolinewidth": 2
          },
          "yaxis": {
           "automargin": true,
           "gridcolor": "white",
           "linecolor": "white",
           "ticks": "",
           "title": {
            "standoff": 15
           },
           "zerolinecolor": "white",
           "zerolinewidth": 2
          }
         }
        },
        "width": 600,
        "xaxis": {
         "anchor": "y",
         "domain": [
          0,
          1
         ],
         "title": {
          "font": {
           "size": 16
          },
          "text": "n unsupervised"
         }
        },
        "xaxis2": {
         "anchor": "y2",
         "domain": [
          0,
          1
         ],
         "title": {
          "font": {
           "size": 16
          },
          "text": "n unsupervised"
         }
        },
        "xaxis3": {
         "anchor": "y3",
         "domain": [
          0,
          1
         ],
         "title": {
          "text": "n unsupervised"
         }
        },
        "yaxis": {
         "anchor": "x",
         "domain": [
          0.7333333333333333,
          1
         ],
         "range": [
          0,
          1
         ],
         "side": "right",
         "title": {
          "font": {
           "size": 16
          },
          "text": "auc"
         }
        },
        "yaxis2": {
         "anchor": "x2",
         "domain": [
          0.36666666666666664,
          0.6333333333333333
         ],
         "range": [
          0,
          1
         ],
         "side": "right",
         "title": {
          "font": {
           "size": 16
          },
          "text": "violation_rate"
         }
        },
        "yaxis3": {
         "anchor": "x3",
         "domain": [
          0,
          0.26666666666666666
         ],
         "range": [
          0,
          1
         ],
         "side": "right",
         "title": {
          "font": {
           "size": 16
          },
          "text": "violation_rate (instance)"
         }
        }
       }
      }
     },
     "metadata": {},
     "output_type": "display_data"
    }
   ],
   "source": [
    "import plotly.graph_objects as go\n",
    "from plotly.subplots import make_subplots\n",
    "\n",
    "\n",
    "# グラフのデータを準備\n",
    "# index = ['l-SVM-p', 'r-SVM-p', 'LogReg-p']\n",
    "\n",
    "index = [\n",
    "    'linear svm (L)', \n",
    "    'non-linear svm (L)', \n",
    "    'logistic regression (L)'\n",
    "]\n",
    "\n",
    "# index = [\n",
    "#     'linear svm', \n",
    "#     'non-linear svm', \n",
    "#     'logistic regression'\n",
    "# ]\n",
    "\n",
    "# index = [\n",
    "#     'RuleFit Classifier (disc)',\n",
    "#     'tree generator (disc)',\n",
    "#     'RuleFit Classifier (conti)', \n",
    "#     'tree generator (conti)',\n",
    "# ]\n",
    "\n",
    "columns = ['auc', 'violation_rate', 'violation_rate (instance)']\n",
    "\n",
    "title_text = \"n unsupervised\"\n",
    "\n",
    "\n",
    "# サブプロットの作成\n",
    "# fig = make_subplots(rows=1, cols=2, subplot_titles=('AUC', 'ルール違反率'))\n",
    "fig = make_subplots(rows=len(columns), cols=1)\n",
    "showlegend=True\n",
    "\n",
    "for row_num, col in enumerate(columns):\n",
    "    tmp_mean = pd.DataFrame(\n",
    "        [{info: df.loc[model_name, col] for info, df in zip(infos, dfs_mean)} for model_name in index],\n",
    "        index=index\n",
    "    )\n",
    "    tmp_std = pd.DataFrame(\n",
    "        [{info: df.loc[model_name, col] for info, df in zip(infos, dfs_std)} for model_name in index],\n",
    "        index=index\n",
    "    )\n",
    "\n",
    "    # グラフ1: AUC\n",
    "    for i in range(len(tmp_mean)):\n",
    "        fig.add_trace(\n",
    "            go.Scatter(\n",
    "                x=tmp_mean.columns,\n",
    "                y=tmp_mean.iloc[i, :],\n",
    "                mode='lines+markers',\n",
    "                name=tmp_mean.index[i],\n",
    "                line=dict(color=colors_mean[i]),  # ラインの色を設定\n",
    "                marker=dict(color=colors_mean[i]),  # マーカーの色を設定\n",
    "                showlegend=showlegend,\n",
    "            ),\n",
    "            row=row_num+1, col=1\n",
    "        )\n",
    "        fig.add_trace(\n",
    "            go.Scatter(\n",
    "                x=tmp_mean.columns,\n",
    "                y=tmp_mean.iloc[i, :] + tmp_std.iloc[i, :],\n",
    "                mode='lines',\n",
    "                line=dict(color=colors_std[i]),  # ラインの色を設定\n",
    "                showlegend=False\n",
    "            ),\n",
    "            row=row_num+1, col=1\n",
    "        )\n",
    "        fig.add_trace(\n",
    "            go.Scatter(\n",
    "                x=tmp_mean.columns,\n",
    "                y=tmp_mean.iloc[i, :] - tmp_std.iloc[i, :],\n",
    "                mode='lines',\n",
    "                fill='tonexty',\n",
    "                fillcolor=colors_std[i],\n",
    "                line=dict(color='rgba(255,255,255,0)'),\n",
    "                showlegend=False\n",
    "            ),\n",
    "            row=row_num+1, col=1\n",
    "        )\n",
    "    \n",
    "    # x, y 軸の設定\n",
    "    # fig.update_xaxes(title_text=title_text, row=row_num+1, col=1, tickvals=[num / 5 for num in range(6)])\n",
    "    fig.update_xaxes(title_text=title_text, row=row_num+1, col=1)\n",
    "    fig.update_yaxes(title_text=col, range=[0, 1], row=row_num+1, col=1, side='right', title_font=dict(size=16))\n",
    "\n",
    "    showlegend=False\n",
    "    \n",
    "# レイアウトの設定\n",
    "fig.update_layout(\n",
    "    height=len(columns) * 300,\n",
    "    width=600,\n",
    "    xaxis=dict(\n",
    "        domain=[0, 1],  # 左側のsubplotの幅を調整\n",
    "        title_font=dict(size=16)\n",
    "    ),\n",
    "    xaxis2=dict(\n",
    "        domain=[0, 1],  # 右側のsubplotの幅を調整\n",
    "        title_font=dict(size=16)\n",
    "    ),\n",
    "    legend=dict(\n",
    "        x=0.5,\n",
    "        y=1.15,\n",
    "        orientation='h'  # 水平配置\n",
    "    ),\n",
    ")\n",
    "\n",
    "\n",
    "# グラフの表示\n",
    "fig.show()"
   ]
  },
  {
   "cell_type": "code",
   "execution_count": 9,
   "metadata": {},
   "outputs": [
    {
     "data": {
      "application/vnd.plotly.v1+json": {
       "config": {
        "plotlyServerURL": "https://plot.ly"
       },
       "data": [
        {
         "line": {
          "color": "rgba(99,110,250,1)"
         },
         "marker": {
          "color": "rgba(99,110,250,1)"
         },
         "mode": "lines+markers",
         "name": "linear svm",
         "showlegend": true,
         "type": "scatter",
         "x": [
          1,
          5,
          15,
          50,
          100
         ],
         "xaxis": "x",
         "y": [
          0.8378045112241415,
          0.8378045112241415,
          0.8378045112241415,
          0.8378045112241415,
          0.8378045112241415
         ],
         "yaxis": "y"
        },
        {
         "line": {
          "color": "rgba(99,110,250,0.2)"
         },
         "mode": "lines",
         "showlegend": false,
         "type": "scatter",
         "x": [
          1,
          5,
          15,
          50,
          100
         ],
         "xaxis": "x",
         "y": [
          0.8831807779515406,
          0.8831807779515406,
          0.8831807779515406,
          0.8831807779515406,
          0.8831807779515406
         ],
         "yaxis": "y"
        },
        {
         "fill": "tonexty",
         "fillcolor": "rgba(99,110,250,0.2)",
         "line": {
          "color": "rgba(255,255,255,0)"
         },
         "mode": "lines",
         "showlegend": false,
         "type": "scatter",
         "x": [
          1,
          5,
          15,
          50,
          100
         ],
         "xaxis": "x",
         "y": [
          0.7924282444967423,
          0.7924282444967423,
          0.7924282444967423,
          0.7924282444967423,
          0.7924282444967423
         ],
         "yaxis": "y"
        },
        {
         "line": {
          "color": "rgba(239,85,59,1)"
         },
         "marker": {
          "color": "rgba(239,85,59,1)"
         },
         "mode": "lines+markers",
         "name": "non-linear svm",
         "showlegend": true,
         "type": "scatter",
         "x": [
          1,
          5,
          15,
          50,
          100
         ],
         "xaxis": "x",
         "y": [
          0.8380644745522868,
          0.8380644745522868,
          0.8380644745522868,
          0.8380644745522868,
          0.8380644745522868
         ],
         "yaxis": "y"
        },
        {
         "line": {
          "color": "rgba(239,85,59,0.2)"
         },
         "mode": "lines",
         "showlegend": false,
         "type": "scatter",
         "x": [
          1,
          5,
          15,
          50,
          100
         ],
         "xaxis": "x",
         "y": [
          0.8867611205283645,
          0.8867611205283646,
          0.8867611205283645,
          0.8867611205283645,
          0.8867611205283646
         ],
         "yaxis": "y"
        },
        {
         "fill": "tonexty",
         "fillcolor": "rgba(239,85,59,0.2)",
         "line": {
          "color": "rgba(255,255,255,0)"
         },
         "mode": "lines",
         "showlegend": false,
         "type": "scatter",
         "x": [
          1,
          5,
          15,
          50,
          100
         ],
         "xaxis": "x",
         "y": [
          0.7893678285762091,
          0.789367828576209,
          0.7893678285762091,
          0.7893678285762091,
          0.789367828576209
         ],
         "yaxis": "y"
        },
        {
         "line": {
          "color": "rgba(0,204,150,1)"
         },
         "marker": {
          "color": "rgba(0,204,150,1)"
         },
         "mode": "lines+markers",
         "name": "logistic regression",
         "showlegend": true,
         "type": "scatter",
         "x": [
          1,
          5,
          15,
          50,
          100
         ],
         "xaxis": "x",
         "y": [
          0.8405733226121905,
          0.8405733226121905,
          0.8405733226121905,
          0.8405733226121905,
          0.8405733226121905
         ],
         "yaxis": "y"
        },
        {
         "line": {
          "color": "rgba(0,204,150,0.2)"
         },
         "mode": "lines",
         "showlegend": false,
         "type": "scatter",
         "x": [
          1,
          5,
          15,
          50,
          100
         ],
         "xaxis": "x",
         "y": [
          0.8880053027203545,
          0.8880053027203545,
          0.8880053027203545,
          0.8880053027203545,
          0.8880053027203545
         ],
         "yaxis": "y"
        },
        {
         "fill": "tonexty",
         "fillcolor": "rgba(0,204,150,0.2)",
         "line": {
          "color": "rgba(255,255,255,0)"
         },
         "mode": "lines",
         "showlegend": false,
         "type": "scatter",
         "x": [
          1,
          5,
          15,
          50,
          100
         ],
         "xaxis": "x",
         "y": [
          0.7931413425040266,
          0.7931413425040266,
          0.7931413425040266,
          0.7931413425040266,
          0.7931413425040266
         ],
         "yaxis": "y"
        },
        {
         "line": {
          "color": "rgba(99,110,250,1)"
         },
         "marker": {
          "color": "rgba(99,110,250,1)"
         },
         "mode": "lines+markers",
         "name": "linear svm",
         "showlegend": false,
         "type": "scatter",
         "x": [
          1,
          5,
          15,
          50,
          100
         ],
         "xaxis": "x2",
         "y": [
          0.82826138290731,
          0.82826138290731,
          0.82826138290731,
          0.8839590523091241,
          0.8839590523091241
         ],
         "yaxis": "y2"
        },
        {
         "line": {
          "color": "rgba(99,110,250,0.2)"
         },
         "mode": "lines",
         "showlegend": false,
         "type": "scatter",
         "x": [
          1,
          5,
          15,
          50,
          100
         ],
         "xaxis": "x2",
         "y": [
          0.919655210632591,
          0.919655210632591,
          0.919655210632591,
          0.9102497023412587,
          0.9102497023412587
         ],
         "yaxis": "y2"
        },
        {
         "fill": "tonexty",
         "fillcolor": "rgba(99,110,250,0.2)",
         "line": {
          "color": "rgba(255,255,255,0)"
         },
         "mode": "lines",
         "showlegend": false,
         "type": "scatter",
         "x": [
          1,
          5,
          15,
          50,
          100
         ],
         "xaxis": "x2",
         "y": [
          0.736867555182029,
          0.736867555182029,
          0.736867555182029,
          0.8576684022769895,
          0.8576684022769895
         ],
         "yaxis": "y2"
        },
        {
         "line": {
          "color": "rgba(239,85,59,1)"
         },
         "marker": {
          "color": "rgba(239,85,59,1)"
         },
         "mode": "lines+markers",
         "name": "non-linear svm",
         "showlegend": false,
         "type": "scatter",
         "x": [
          1,
          5,
          15,
          50,
          100
         ],
         "xaxis": "x2",
         "y": [
          0.8556506788289641,
          0.8556506788289641,
          0.8556506788289641,
          0.9104587227112335,
          0.9104587227112335
         ],
         "yaxis": "y2"
        },
        {
         "line": {
          "color": "rgba(239,85,59,0.2)"
         },
         "mode": "lines",
         "showlegend": false,
         "type": "scatter",
         "x": [
          1,
          5,
          15,
          50,
          100
         ],
         "xaxis": "x2",
         "y": [
          0.9597692404359783,
          0.9597692404359783,
          0.9597692404359783,
          0.9489597960632071,
          0.9489597960632071
         ],
         "yaxis": "y2"
        },
        {
         "fill": "tonexty",
         "fillcolor": "rgba(239,85,59,0.2)",
         "line": {
          "color": "rgba(255,255,255,0)"
         },
         "mode": "lines",
         "showlegend": false,
         "type": "scatter",
         "x": [
          1,
          5,
          15,
          50,
          100
         ],
         "xaxis": "x2",
         "y": [
          0.7515321172219498,
          0.7515321172219498,
          0.7515321172219498,
          0.8719576493592599,
          0.8719576493592599
         ],
         "yaxis": "y2"
        },
        {
         "line": {
          "color": "rgba(0,204,150,1)"
         },
         "marker": {
          "color": "rgba(0,204,150,1)"
         },
         "mode": "lines+markers",
         "name": "logistic regression",
         "showlegend": false,
         "type": "scatter",
         "x": [
          1,
          5,
          15,
          50,
          100
         ],
         "xaxis": "x2",
         "y": [
          0.833524540802047,
          0.833524540802047,
          0.833524540802047,
          0.8893644577145295,
          0.8893644577145295
         ],
         "yaxis": "y2"
        },
        {
         "line": {
          "color": "rgba(0,204,150,0.2)"
         },
         "mode": "lines",
         "showlegend": false,
         "type": "scatter",
         "x": [
          1,
          5,
          15,
          50,
          100
         ],
         "xaxis": "x2",
         "y": [
          0.9266561263167887,
          0.9266561263167887,
          0.9266561263167887,
          0.9134322942820018,
          0.9134322942820018
         ],
         "yaxis": "y2"
        },
        {
         "fill": "tonexty",
         "fillcolor": "rgba(0,204,150,0.2)",
         "line": {
          "color": "rgba(255,255,255,0)"
         },
         "mode": "lines",
         "showlegend": false,
         "type": "scatter",
         "x": [
          1,
          5,
          15,
          50,
          100
         ],
         "xaxis": "x2",
         "y": [
          0.7403929552873052,
          0.7403929552873052,
          0.7403929552873052,
          0.8652966211470573,
          0.8652966211470573
         ],
         "yaxis": "y2"
        },
        {
         "line": {
          "color": "rgba(99,110,250,1)"
         },
         "marker": {
          "color": "rgba(99,110,250,1)"
         },
         "mode": "lines+markers",
         "name": "linear svm",
         "showlegend": false,
         "type": "scatter",
         "x": [
          1,
          5,
          15,
          50,
          100
         ],
         "xaxis": "x3",
         "y": [
          0.8758408269654334,
          0.8758408269654334,
          0.8758408269654334,
          0.8835368574521067,
          0.8835368574521067
         ],
         "yaxis": "y3"
        },
        {
         "line": {
          "color": "rgba(99,110,250,0.2)"
         },
         "mode": "lines",
         "showlegend": false,
         "type": "scatter",
         "x": [
          1,
          5,
          15,
          50,
          100
         ],
         "xaxis": "x3",
         "y": [
          0.8990296151944911,
          0.8990296151944911,
          0.8990296151944911,
          0.8962383298442629,
          0.8962383298442629
         ],
         "yaxis": "y3"
        },
        {
         "fill": "tonexty",
         "fillcolor": "rgba(99,110,250,0.2)",
         "line": {
          "color": "rgba(255,255,255,0)"
         },
         "mode": "lines",
         "showlegend": false,
         "type": "scatter",
         "x": [
          1,
          5,
          15,
          50,
          100
         ],
         "xaxis": "x3",
         "y": [
          0.8526520387363757,
          0.8526520387363757,
          0.8526520387363757,
          0.8708353850599506,
          0.8708353850599506
         ],
         "yaxis": "y3"
        },
        {
         "line": {
          "color": "rgba(239,85,59,1)"
         },
         "marker": {
          "color": "rgba(239,85,59,1)"
         },
         "mode": "lines+markers",
         "name": "non-linear svm",
         "showlegend": false,
         "type": "scatter",
         "x": [
          1,
          5,
          15,
          50,
          100
         ],
         "xaxis": "x3",
         "y": [
          0.8919716216887768,
          0.8919716216887768,
          0.8919716216887768,
          0.8970818563958842,
          0.8970818563958842
         ],
         "yaxis": "y3"
        },
        {
         "line": {
          "color": "rgba(239,85,59,0.2)"
         },
         "mode": "lines",
         "showlegend": false,
         "type": "scatter",
         "x": [
          1,
          5,
          15,
          50,
          100
         ],
         "xaxis": "x3",
         "y": [
          0.9134330222395177,
          0.9134330222395177,
          0.9134330222395177,
          0.9093879016982039,
          0.9093879016982039
         ],
         "yaxis": "y3"
        },
        {
         "fill": "tonexty",
         "fillcolor": "rgba(239,85,59,0.2)",
         "line": {
          "color": "rgba(255,255,255,0)"
         },
         "mode": "lines",
         "showlegend": false,
         "type": "scatter",
         "x": [
          1,
          5,
          15,
          50,
          100
         ],
         "xaxis": "x3",
         "y": [
          0.8705102211380358,
          0.8705102211380358,
          0.8705102211380358,
          0.8847758110935645,
          0.8847758110935645
         ],
         "yaxis": "y3"
        },
        {
         "line": {
          "color": "rgba(0,204,150,1)"
         },
         "marker": {
          "color": "rgba(0,204,150,1)"
         },
         "mode": "lines+markers",
         "name": "logistic regression",
         "showlegend": false,
         "type": "scatter",
         "x": [
          1,
          5,
          15,
          50,
          100
         ],
         "xaxis": "x3",
         "y": [
          0.8806018053294851,
          0.8806018053294851,
          0.8806018053294851,
          0.8880965203657876,
          0.8880965203657876
         ],
         "yaxis": "y3"
        },
        {
         "line": {
          "color": "rgba(0,204,150,0.2)"
         },
         "mode": "lines",
         "showlegend": false,
         "type": "scatter",
         "x": [
          1,
          5,
          15,
          50,
          100
         ],
         "xaxis": "x3",
         "y": [
          0.9039484433760304,
          0.9039484433760304,
          0.9039484433760304,
          0.898484358846712,
          0.898484358846712
         ],
         "yaxis": "y3"
        },
        {
         "fill": "tonexty",
         "fillcolor": "rgba(0,204,150,0.2)",
         "line": {
          "color": "rgba(255,255,255,0)"
         },
         "mode": "lines",
         "showlegend": false,
         "type": "scatter",
         "x": [
          1,
          5,
          15,
          50,
          100
         ],
         "xaxis": "x3",
         "y": [
          0.8572551672829397,
          0.8572551672829397,
          0.8572551672829397,
          0.8777086818848632,
          0.8777086818848632
         ],
         "yaxis": "y3"
        }
       ],
       "layout": {
        "height": 900,
        "legend": {
         "orientation": "h",
         "x": 0.5,
         "y": 1.15
        },
        "template": {
         "data": {
          "bar": [
           {
            "error_x": {
             "color": "#2a3f5f"
            },
            "error_y": {
             "color": "#2a3f5f"
            },
            "marker": {
             "line": {
              "color": "#E5ECF6",
              "width": 0.5
             },
             "pattern": {
              "fillmode": "overlay",
              "size": 10,
              "solidity": 0.2
             }
            },
            "type": "bar"
           }
          ],
          "barpolar": [
           {
            "marker": {
             "line": {
              "color": "#E5ECF6",
              "width": 0.5
             },
             "pattern": {
              "fillmode": "overlay",
              "size": 10,
              "solidity": 0.2
             }
            },
            "type": "barpolar"
           }
          ],
          "carpet": [
           {
            "aaxis": {
             "endlinecolor": "#2a3f5f",
             "gridcolor": "white",
             "linecolor": "white",
             "minorgridcolor": "white",
             "startlinecolor": "#2a3f5f"
            },
            "baxis": {
             "endlinecolor": "#2a3f5f",
             "gridcolor": "white",
             "linecolor": "white",
             "minorgridcolor": "white",
             "startlinecolor": "#2a3f5f"
            },
            "type": "carpet"
           }
          ],
          "choropleth": [
           {
            "colorbar": {
             "outlinewidth": 0,
             "ticks": ""
            },
            "type": "choropleth"
           }
          ],
          "contour": [
           {
            "colorbar": {
             "outlinewidth": 0,
             "ticks": ""
            },
            "colorscale": [
             [
              0,
              "#0d0887"
             ],
             [
              0.1111111111111111,
              "#46039f"
             ],
             [
              0.2222222222222222,
              "#7201a8"
             ],
             [
              0.3333333333333333,
              "#9c179e"
             ],
             [
              0.4444444444444444,
              "#bd3786"
             ],
             [
              0.5555555555555556,
              "#d8576b"
             ],
             [
              0.6666666666666666,
              "#ed7953"
             ],
             [
              0.7777777777777778,
              "#fb9f3a"
             ],
             [
              0.8888888888888888,
              "#fdca26"
             ],
             [
              1,
              "#f0f921"
             ]
            ],
            "type": "contour"
           }
          ],
          "contourcarpet": [
           {
            "colorbar": {
             "outlinewidth": 0,
             "ticks": ""
            },
            "type": "contourcarpet"
           }
          ],
          "heatmap": [
           {
            "colorbar": {
             "outlinewidth": 0,
             "ticks": ""
            },
            "colorscale": [
             [
              0,
              "#0d0887"
             ],
             [
              0.1111111111111111,
              "#46039f"
             ],
             [
              0.2222222222222222,
              "#7201a8"
             ],
             [
              0.3333333333333333,
              "#9c179e"
             ],
             [
              0.4444444444444444,
              "#bd3786"
             ],
             [
              0.5555555555555556,
              "#d8576b"
             ],
             [
              0.6666666666666666,
              "#ed7953"
             ],
             [
              0.7777777777777778,
              "#fb9f3a"
             ],
             [
              0.8888888888888888,
              "#fdca26"
             ],
             [
              1,
              "#f0f921"
             ]
            ],
            "type": "heatmap"
           }
          ],
          "heatmapgl": [
           {
            "colorbar": {
             "outlinewidth": 0,
             "ticks": ""
            },
            "colorscale": [
             [
              0,
              "#0d0887"
             ],
             [
              0.1111111111111111,
              "#46039f"
             ],
             [
              0.2222222222222222,
              "#7201a8"
             ],
             [
              0.3333333333333333,
              "#9c179e"
             ],
             [
              0.4444444444444444,
              "#bd3786"
             ],
             [
              0.5555555555555556,
              "#d8576b"
             ],
             [
              0.6666666666666666,
              "#ed7953"
             ],
             [
              0.7777777777777778,
              "#fb9f3a"
             ],
             [
              0.8888888888888888,
              "#fdca26"
             ],
             [
              1,
              "#f0f921"
             ]
            ],
            "type": "heatmapgl"
           }
          ],
          "histogram": [
           {
            "marker": {
             "pattern": {
              "fillmode": "overlay",
              "size": 10,
              "solidity": 0.2
             }
            },
            "type": "histogram"
           }
          ],
          "histogram2d": [
           {
            "colorbar": {
             "outlinewidth": 0,
             "ticks": ""
            },
            "colorscale": [
             [
              0,
              "#0d0887"
             ],
             [
              0.1111111111111111,
              "#46039f"
             ],
             [
              0.2222222222222222,
              "#7201a8"
             ],
             [
              0.3333333333333333,
              "#9c179e"
             ],
             [
              0.4444444444444444,
              "#bd3786"
             ],
             [
              0.5555555555555556,
              "#d8576b"
             ],
             [
              0.6666666666666666,
              "#ed7953"
             ],
             [
              0.7777777777777778,
              "#fb9f3a"
             ],
             [
              0.8888888888888888,
              "#fdca26"
             ],
             [
              1,
              "#f0f921"
             ]
            ],
            "type": "histogram2d"
           }
          ],
          "histogram2dcontour": [
           {
            "colorbar": {
             "outlinewidth": 0,
             "ticks": ""
            },
            "colorscale": [
             [
              0,
              "#0d0887"
             ],
             [
              0.1111111111111111,
              "#46039f"
             ],
             [
              0.2222222222222222,
              "#7201a8"
             ],
             [
              0.3333333333333333,
              "#9c179e"
             ],
             [
              0.4444444444444444,
              "#bd3786"
             ],
             [
              0.5555555555555556,
              "#d8576b"
             ],
             [
              0.6666666666666666,
              "#ed7953"
             ],
             [
              0.7777777777777778,
              "#fb9f3a"
             ],
             [
              0.8888888888888888,
              "#fdca26"
             ],
             [
              1,
              "#f0f921"
             ]
            ],
            "type": "histogram2dcontour"
           }
          ],
          "mesh3d": [
           {
            "colorbar": {
             "outlinewidth": 0,
             "ticks": ""
            },
            "type": "mesh3d"
           }
          ],
          "parcoords": [
           {
            "line": {
             "colorbar": {
              "outlinewidth": 0,
              "ticks": ""
             }
            },
            "type": "parcoords"
           }
          ],
          "pie": [
           {
            "automargin": true,
            "type": "pie"
           }
          ],
          "scatter": [
           {
            "fillpattern": {
             "fillmode": "overlay",
             "size": 10,
             "solidity": 0.2
            },
            "type": "scatter"
           }
          ],
          "scatter3d": [
           {
            "line": {
             "colorbar": {
              "outlinewidth": 0,
              "ticks": ""
             }
            },
            "marker": {
             "colorbar": {
              "outlinewidth": 0,
              "ticks": ""
             }
            },
            "type": "scatter3d"
           }
          ],
          "scattercarpet": [
           {
            "marker": {
             "colorbar": {
              "outlinewidth": 0,
              "ticks": ""
             }
            },
            "type": "scattercarpet"
           }
          ],
          "scattergeo": [
           {
            "marker": {
             "colorbar": {
              "outlinewidth": 0,
              "ticks": ""
             }
            },
            "type": "scattergeo"
           }
          ],
          "scattergl": [
           {
            "marker": {
             "colorbar": {
              "outlinewidth": 0,
              "ticks": ""
             }
            },
            "type": "scattergl"
           }
          ],
          "scattermapbox": [
           {
            "marker": {
             "colorbar": {
              "outlinewidth": 0,
              "ticks": ""
             }
            },
            "type": "scattermapbox"
           }
          ],
          "scatterpolar": [
           {
            "marker": {
             "colorbar": {
              "outlinewidth": 0,
              "ticks": ""
             }
            },
            "type": "scatterpolar"
           }
          ],
          "scatterpolargl": [
           {
            "marker": {
             "colorbar": {
              "outlinewidth": 0,
              "ticks": ""
             }
            },
            "type": "scatterpolargl"
           }
          ],
          "scatterternary": [
           {
            "marker": {
             "colorbar": {
              "outlinewidth": 0,
              "ticks": ""
             }
            },
            "type": "scatterternary"
           }
          ],
          "surface": [
           {
            "colorbar": {
             "outlinewidth": 0,
             "ticks": ""
            },
            "colorscale": [
             [
              0,
              "#0d0887"
             ],
             [
              0.1111111111111111,
              "#46039f"
             ],
             [
              0.2222222222222222,
              "#7201a8"
             ],
             [
              0.3333333333333333,
              "#9c179e"
             ],
             [
              0.4444444444444444,
              "#bd3786"
             ],
             [
              0.5555555555555556,
              "#d8576b"
             ],
             [
              0.6666666666666666,
              "#ed7953"
             ],
             [
              0.7777777777777778,
              "#fb9f3a"
             ],
             [
              0.8888888888888888,
              "#fdca26"
             ],
             [
              1,
              "#f0f921"
             ]
            ],
            "type": "surface"
           }
          ],
          "table": [
           {
            "cells": {
             "fill": {
              "color": "#EBF0F8"
             },
             "line": {
              "color": "white"
             }
            },
            "header": {
             "fill": {
              "color": "#C8D4E3"
             },
             "line": {
              "color": "white"
             }
            },
            "type": "table"
           }
          ]
         },
         "layout": {
          "annotationdefaults": {
           "arrowcolor": "#2a3f5f",
           "arrowhead": 0,
           "arrowwidth": 1
          },
          "autotypenumbers": "strict",
          "coloraxis": {
           "colorbar": {
            "outlinewidth": 0,
            "ticks": ""
           }
          },
          "colorscale": {
           "diverging": [
            [
             0,
             "#8e0152"
            ],
            [
             0.1,
             "#c51b7d"
            ],
            [
             0.2,
             "#de77ae"
            ],
            [
             0.3,
             "#f1b6da"
            ],
            [
             0.4,
             "#fde0ef"
            ],
            [
             0.5,
             "#f7f7f7"
            ],
            [
             0.6,
             "#e6f5d0"
            ],
            [
             0.7,
             "#b8e186"
            ],
            [
             0.8,
             "#7fbc41"
            ],
            [
             0.9,
             "#4d9221"
            ],
            [
             1,
             "#276419"
            ]
           ],
           "sequential": [
            [
             0,
             "#0d0887"
            ],
            [
             0.1111111111111111,
             "#46039f"
            ],
            [
             0.2222222222222222,
             "#7201a8"
            ],
            [
             0.3333333333333333,
             "#9c179e"
            ],
            [
             0.4444444444444444,
             "#bd3786"
            ],
            [
             0.5555555555555556,
             "#d8576b"
            ],
            [
             0.6666666666666666,
             "#ed7953"
            ],
            [
             0.7777777777777778,
             "#fb9f3a"
            ],
            [
             0.8888888888888888,
             "#fdca26"
            ],
            [
             1,
             "#f0f921"
            ]
           ],
           "sequentialminus": [
            [
             0,
             "#0d0887"
            ],
            [
             0.1111111111111111,
             "#46039f"
            ],
            [
             0.2222222222222222,
             "#7201a8"
            ],
            [
             0.3333333333333333,
             "#9c179e"
            ],
            [
             0.4444444444444444,
             "#bd3786"
            ],
            [
             0.5555555555555556,
             "#d8576b"
            ],
            [
             0.6666666666666666,
             "#ed7953"
            ],
            [
             0.7777777777777778,
             "#fb9f3a"
            ],
            [
             0.8888888888888888,
             "#fdca26"
            ],
            [
             1,
             "#f0f921"
            ]
           ]
          },
          "colorway": [
           "#636efa",
           "#EF553B",
           "#00cc96",
           "#ab63fa",
           "#FFA15A",
           "#19d3f3",
           "#FF6692",
           "#B6E880",
           "#FF97FF",
           "#FECB52"
          ],
          "font": {
           "color": "#2a3f5f"
          },
          "geo": {
           "bgcolor": "white",
           "lakecolor": "white",
           "landcolor": "#E5ECF6",
           "showlakes": true,
           "showland": true,
           "subunitcolor": "white"
          },
          "hoverlabel": {
           "align": "left"
          },
          "hovermode": "closest",
          "mapbox": {
           "style": "light"
          },
          "paper_bgcolor": "white",
          "plot_bgcolor": "#E5ECF6",
          "polar": {
           "angularaxis": {
            "gridcolor": "white",
            "linecolor": "white",
            "ticks": ""
           },
           "bgcolor": "#E5ECF6",
           "radialaxis": {
            "gridcolor": "white",
            "linecolor": "white",
            "ticks": ""
           }
          },
          "scene": {
           "xaxis": {
            "backgroundcolor": "#E5ECF6",
            "gridcolor": "white",
            "gridwidth": 2,
            "linecolor": "white",
            "showbackground": true,
            "ticks": "",
            "zerolinecolor": "white"
           },
           "yaxis": {
            "backgroundcolor": "#E5ECF6",
            "gridcolor": "white",
            "gridwidth": 2,
            "linecolor": "white",
            "showbackground": true,
            "ticks": "",
            "zerolinecolor": "white"
           },
           "zaxis": {
            "backgroundcolor": "#E5ECF6",
            "gridcolor": "white",
            "gridwidth": 2,
            "linecolor": "white",
            "showbackground": true,
            "ticks": "",
            "zerolinecolor": "white"
           }
          },
          "shapedefaults": {
           "line": {
            "color": "#2a3f5f"
           }
          },
          "ternary": {
           "aaxis": {
            "gridcolor": "white",
            "linecolor": "white",
            "ticks": ""
           },
           "baxis": {
            "gridcolor": "white",
            "linecolor": "white",
            "ticks": ""
           },
           "bgcolor": "#E5ECF6",
           "caxis": {
            "gridcolor": "white",
            "linecolor": "white",
            "ticks": ""
           }
          },
          "title": {
           "x": 0.05
          },
          "xaxis": {
           "automargin": true,
           "gridcolor": "white",
           "linecolor": "white",
           "ticks": "",
           "title": {
            "standoff": 15
           },
           "zerolinecolor": "white",
           "zerolinewidth": 2
          },
          "yaxis": {
           "automargin": true,
           "gridcolor": "white",
           "linecolor": "white",
           "ticks": "",
           "title": {
            "standoff": 15
           },
           "zerolinecolor": "white",
           "zerolinewidth": 2
          }
         }
        },
        "width": 600,
        "xaxis": {
         "anchor": "y",
         "domain": [
          0,
          1
         ],
         "title": {
          "font": {
           "size": 16
          },
          "text": "C2"
         }
        },
        "xaxis2": {
         "anchor": "y2",
         "domain": [
          0,
          1
         ],
         "title": {
          "font": {
           "size": 16
          },
          "text": "C2"
         }
        },
        "xaxis3": {
         "anchor": "y3",
         "domain": [
          0,
          1
         ],
         "title": {
          "text": "C2"
         }
        },
        "yaxis": {
         "anchor": "x",
         "domain": [
          0.7333333333333333,
          1
         ],
         "range": [
          0,
          1
         ],
         "side": "right",
         "title": {
          "font": {
           "size": 16
          },
          "text": "auc"
         }
        },
        "yaxis2": {
         "anchor": "x2",
         "domain": [
          0.36666666666666664,
          0.6333333333333333
         ],
         "range": [
          0,
          1
         ],
         "side": "right",
         "title": {
          "font": {
           "size": 16
          },
          "text": "violation_rate"
         }
        },
        "yaxis3": {
         "anchor": "x3",
         "domain": [
          0,
          0.26666666666666666
         ],
         "range": [
          0,
          1
         ],
         "side": "right",
         "title": {
          "font": {
           "size": 16
          },
          "text": "violation_rate (instance)"
         }
        }
       }
      }
     },
     "metadata": {},
     "output_type": "display_data"
    }
   ],
   "source": [
    "import plotly.graph_objects as go\n",
    "from plotly.subplots import make_subplots\n",
    "\n",
    "\n",
    "# グラフのデータを準備\n",
    "# index = ['l-SVM-p', 'r-SVM-p', 'LogReg-p']\n",
    "\n",
    "# index = [\n",
    "#     'linear svm (L)', \n",
    "#     'non-linear svm (L)', \n",
    "#     'logistic regression (L)'\n",
    "# ]\n",
    "\n",
    "index = [\n",
    "    'linear svm', \n",
    "    'non-linear svm', \n",
    "    'logistic regression'\n",
    "]\n",
    "\n",
    "# index = [\n",
    "#     'RuleFit Classifier (disc)',\n",
    "#     'tree generator (disc)',\n",
    "#     'RuleFit Classifier (conti)', \n",
    "#     'tree generator (conti)',\n",
    "# ]\n",
    "\n",
    "columns = ['auc', 'violation_rate', 'violation_rate (instance)']\n",
    "\n",
    "title_text = \"C2\"\n",
    "\n",
    "\n",
    "# サブプロットの作成\n",
    "# fig = make_subplots(rows=1, cols=2, subplot_titles=('AUC', 'ルール違反率'))\n",
    "fig = make_subplots(rows=len(columns), cols=1)\n",
    "showlegend=True\n",
    "\n",
    "for row_num, col in enumerate(columns):\n",
    "    tmp_mean = pd.DataFrame(\n",
    "        [{info: df.loc[model_name, col] for info, df in zip(infos, dfs_mean)} for model_name in index],\n",
    "        index=index\n",
    "    )\n",
    "    tmp_std = pd.DataFrame(\n",
    "        [{info: df.loc[model_name, col] for info, df in zip(infos, dfs_std)} for model_name in index],\n",
    "        index=index\n",
    "    )\n",
    "\n",
    "    # グラフ1: AUC\n",
    "    for i in range(len(tmp_mean)):\n",
    "        fig.add_trace(\n",
    "            go.Scatter(\n",
    "                x=tmp_mean.columns,\n",
    "                y=tmp_mean.iloc[i, :],\n",
    "                mode='lines+markers',\n",
    "                name=tmp_mean.index[i],\n",
    "                line=dict(color=colors_mean[i]),  # ラインの色を設定\n",
    "                marker=dict(color=colors_mean[i]),  # マーカーの色を設定\n",
    "                showlegend=showlegend,\n",
    "            ),\n",
    "            row=row_num+1, col=1\n",
    "        )\n",
    "        fig.add_trace(\n",
    "            go.Scatter(\n",
    "                x=tmp_mean.columns,\n",
    "                y=tmp_mean.iloc[i, :] + tmp_std.iloc[i, :],\n",
    "                mode='lines',\n",
    "                line=dict(color=colors_std[i]),  # ラインの色を設定\n",
    "                showlegend=False\n",
    "            ),\n",
    "            row=row_num+1, col=1\n",
    "        )\n",
    "        fig.add_trace(\n",
    "            go.Scatter(\n",
    "                x=tmp_mean.columns,\n",
    "                y=tmp_mean.iloc[i, :] - tmp_std.iloc[i, :],\n",
    "                mode='lines',\n",
    "                fill='tonexty',\n",
    "                fillcolor=colors_std[i],\n",
    "                line=dict(color='rgba(255,255,255,0)'),\n",
    "                showlegend=False\n",
    "            ),\n",
    "            row=row_num+1, col=1\n",
    "        )\n",
    "    \n",
    "    # x, y 軸の設定\n",
    "    fig.update_xaxes(title_text=title_text, row=row_num+1, col=1)\n",
    "    fig.update_yaxes(title_text=col, range=[0, 1], row=row_num+1, col=1, side='right', title_font=dict(size=16))\n",
    "\n",
    "    showlegend=False\n",
    "    \n",
    "# レイアウトの設定\n",
    "fig.update_layout(\n",
    "    height=len(columns) * 300,\n",
    "    width=600,\n",
    "    xaxis=dict(\n",
    "        domain=[0, 1],  # 左側のsubplotの幅を調整\n",
    "        title_font=dict(size=16)\n",
    "    ),\n",
    "    xaxis2=dict(\n",
    "        domain=[0, 1],  # 右側のsubplotの幅を調整\n",
    "        title_font=dict(size=16)\n",
    "    ),\n",
    "    legend=dict(\n",
    "        x=0.5,\n",
    "        y=1.15,\n",
    "        orientation='h'  # 水平配置\n",
    "    ),\n",
    ")\n",
    "\n",
    "\n",
    "# グラフの表示\n",
    "fig.show()"
   ]
  },
  {
   "cell_type": "code",
   "execution_count": 10,
   "metadata": {},
   "outputs": [
    {
     "data": {
      "application/vnd.plotly.v1+json": {
       "config": {
        "plotlyServerURL": "https://plot.ly"
       },
       "data": [
        {
         "line": {
          "color": "rgba(99,110,250,1)"
         },
         "marker": {
          "color": "rgba(99,110,250,1)"
         },
         "mode": "lines+markers",
         "name": "RuleFit Classifier (disc)",
         "showlegend": true,
         "type": "scatter",
         "x": [
          1,
          5,
          15,
          50,
          100
         ],
         "xaxis": "x",
         "y": [
          0.8062665456109579,
          0.8062665456109579,
          0.8062665456109579,
          0.8159044159105928,
          0.8159044159105928
         ],
         "yaxis": "y"
        },
        {
         "line": {
          "color": "rgba(99,110,250,0.2)"
         },
         "mode": "lines",
         "showlegend": false,
         "type": "scatter",
         "x": [
          1,
          5,
          15,
          50,
          100
         ],
         "xaxis": "x",
         "y": [
          0.8756425424161023,
          0.8756425424161023,
          0.8756425424161023,
          0.8677491591567807,
          0.8677491591567807
         ],
         "yaxis": "y"
        },
        {
         "fill": "tonexty",
         "fillcolor": "rgba(99,110,250,0.2)",
         "line": {
          "color": "rgba(255,255,255,0)"
         },
         "mode": "lines",
         "showlegend": false,
         "type": "scatter",
         "x": [
          1,
          5,
          15,
          50,
          100
         ],
         "xaxis": "x",
         "y": [
          0.7368905488058135,
          0.7368905488058135,
          0.7368905488058135,
          0.7640596726644049,
          0.7640596726644049
         ],
         "yaxis": "y"
        },
        {
         "line": {
          "color": "rgba(239,85,59,1)"
         },
         "marker": {
          "color": "rgba(239,85,59,1)"
         },
         "mode": "lines+markers",
         "name": "tree generator (disc)",
         "showlegend": true,
         "type": "scatter",
         "x": [
          1,
          5,
          15,
          50,
          100
         ],
         "xaxis": "x",
         "y": [
          0.7723221095803497,
          0.7723221095803497,
          0.7723221095803497,
          0.7723221095803497,
          0.7723221095803497
         ],
         "yaxis": "y"
        },
        {
         "line": {
          "color": "rgba(239,85,59,0.2)"
         },
         "mode": "lines",
         "showlegend": false,
         "type": "scatter",
         "x": [
          1,
          5,
          15,
          50,
          100
         ],
         "xaxis": "x",
         "y": [
          0.8213949562136311,
          0.8213949562136311,
          0.8213949562136311,
          0.8213949562136311,
          0.8213949562136311
         ],
         "yaxis": "y"
        },
        {
         "fill": "tonexty",
         "fillcolor": "rgba(239,85,59,0.2)",
         "line": {
          "color": "rgba(255,255,255,0)"
         },
         "mode": "lines",
         "showlegend": false,
         "type": "scatter",
         "x": [
          1,
          5,
          15,
          50,
          100
         ],
         "xaxis": "x",
         "y": [
          0.7232492629470684,
          0.7232492629470684,
          0.7232492629470684,
          0.7232492629470684,
          0.7232492629470684
         ],
         "yaxis": "y"
        },
        {
         "line": {
          "color": "rgba(99,110,250,1)"
         },
         "marker": {
          "color": "rgba(99,110,250,1)"
         },
         "mode": "lines+markers",
         "name": "RuleFit Classifier (disc)",
         "showlegend": false,
         "type": "scatter",
         "x": [
          1,
          5,
          15,
          50,
          100
         ],
         "xaxis": "x2",
         "y": [
          0.7444773572185579,
          0.7444773572185579,
          0.7444773572185579,
          0.8088345160081172,
          0.8088345160081172
         ],
         "yaxis": "y2"
        },
        {
         "line": {
          "color": "rgba(99,110,250,0.2)"
         },
         "mode": "lines",
         "showlegend": false,
         "type": "scatter",
         "x": [
          1,
          5,
          15,
          50,
          100
         ],
         "xaxis": "x2",
         "y": [
          0.8657932451074701,
          0.8657932451074701,
          0.8657932451074701,
          0.8956924413871674,
          0.8956924413871674
         ],
         "yaxis": "y2"
        },
        {
         "fill": "tonexty",
         "fillcolor": "rgba(99,110,250,0.2)",
         "line": {
          "color": "rgba(255,255,255,0)"
         },
         "mode": "lines",
         "showlegend": false,
         "type": "scatter",
         "x": [
          1,
          5,
          15,
          50,
          100
         ],
         "xaxis": "x2",
         "y": [
          0.6231614693296457,
          0.6231614693296457,
          0.6231614693296457,
          0.7219765906290669,
          0.7219765906290669
         ],
         "yaxis": "y2"
        },
        {
         "line": {
          "color": "rgba(239,85,59,1)"
         },
         "marker": {
          "color": "rgba(239,85,59,1)"
         },
         "mode": "lines+markers",
         "name": "tree generator (disc)",
         "showlegend": false,
         "type": "scatter",
         "x": [
          1,
          5,
          15,
          50,
          100
         ],
         "xaxis": "x2",
         "y": [
          0.7111363493010252,
          0.7111363493010252,
          0.7111363493010252,
          0.7441712874998384,
          0.7441712874998384
         ],
         "yaxis": "y2"
        },
        {
         "line": {
          "color": "rgba(239,85,59,0.2)"
         },
         "mode": "lines",
         "showlegend": false,
         "type": "scatter",
         "x": [
          1,
          5,
          15,
          50,
          100
         ],
         "xaxis": "x2",
         "y": [
          0.805729196158707,
          0.805729196158707,
          0.805729196158707,
          0.8167577177821016,
          0.8167577177821016
         ],
         "yaxis": "y2"
        },
        {
         "fill": "tonexty",
         "fillcolor": "rgba(239,85,59,0.2)",
         "line": {
          "color": "rgba(255,255,255,0)"
         },
         "mode": "lines",
         "showlegend": false,
         "type": "scatter",
         "x": [
          1,
          5,
          15,
          50,
          100
         ],
         "xaxis": "x2",
         "y": [
          0.6165435024433434,
          0.6165435024433434,
          0.6165435024433434,
          0.6715848572175752,
          0.6715848572175752
         ],
         "yaxis": "y2"
        },
        {
         "line": {
          "color": "rgba(99,110,250,1)"
         },
         "marker": {
          "color": "rgba(99,110,250,1)"
         },
         "mode": "lines+markers",
         "name": "RuleFit Classifier (disc)",
         "showlegend": false,
         "type": "scatter",
         "x": [
          1,
          5,
          15,
          50,
          100
         ],
         "xaxis": "x3",
         "y": [
          0.851451860393125,
          0.851451860393125,
          0.851451860393125,
          0.877152187867393,
          0.877152187867393
         ],
         "yaxis": "y3"
        },
        {
         "line": {
          "color": "rgba(99,110,250,0.2)"
         },
         "mode": "lines",
         "showlegend": false,
         "type": "scatter",
         "x": [
          1,
          5,
          15,
          50,
          100
         ],
         "xaxis": "x3",
         "y": [
          0.9187065411311772,
          0.9187065411311772,
          0.9187065411311772,
          0.8977625195818737,
          0.8977625195818737
         ],
         "yaxis": "y3"
        },
        {
         "fill": "tonexty",
         "fillcolor": "rgba(99,110,250,0.2)",
         "line": {
          "color": "rgba(255,255,255,0)"
         },
         "mode": "lines",
         "showlegend": false,
         "type": "scatter",
         "x": [
          1,
          5,
          15,
          50,
          100
         ],
         "xaxis": "x3",
         "y": [
          0.7841971796550729,
          0.7841971796550729,
          0.7841971796550729,
          0.8565418561529123,
          0.8565418561529123
         ],
         "yaxis": "y3"
        },
        {
         "line": {
          "color": "rgba(239,85,59,1)"
         },
         "marker": {
          "color": "rgba(239,85,59,1)"
         },
         "mode": "lines+markers",
         "name": "tree generator (disc)",
         "showlegend": false,
         "type": "scatter",
         "x": [
          1,
          5,
          15,
          50,
          100
         ],
         "xaxis": "x3",
         "y": [
          0.8511839883886786,
          0.8511839883886786,
          0.8511839883886786,
          0.8607908471586996,
          0.8607908471586996
         ],
         "yaxis": "y3"
        },
        {
         "line": {
          "color": "rgba(239,85,59,0.2)"
         },
         "mode": "lines",
         "showlegend": false,
         "type": "scatter",
         "x": [
          1,
          5,
          15,
          50,
          100
         ],
         "xaxis": "x3",
         "y": [
          0.892602166406069,
          0.892602166406069,
          0.892602166406069,
          0.8846187843282577,
          0.8846187843282577
         ],
         "yaxis": "y3"
        },
        {
         "fill": "tonexty",
         "fillcolor": "rgba(239,85,59,0.2)",
         "line": {
          "color": "rgba(255,255,255,0)"
         },
         "mode": "lines",
         "showlegend": false,
         "type": "scatter",
         "x": [
          1,
          5,
          15,
          50,
          100
         ],
         "xaxis": "x3",
         "y": [
          0.8097658103712881,
          0.8097658103712881,
          0.8097658103712881,
          0.8369629099891415,
          0.8369629099891415
         ],
         "yaxis": "y3"
        }
       ],
       "layout": {
        "height": 900,
        "legend": {
         "orientation": "h",
         "x": 0.5,
         "y": 1.15
        },
        "template": {
         "data": {
          "bar": [
           {
            "error_x": {
             "color": "#2a3f5f"
            },
            "error_y": {
             "color": "#2a3f5f"
            },
            "marker": {
             "line": {
              "color": "#E5ECF6",
              "width": 0.5
             },
             "pattern": {
              "fillmode": "overlay",
              "size": 10,
              "solidity": 0.2
             }
            },
            "type": "bar"
           }
          ],
          "barpolar": [
           {
            "marker": {
             "line": {
              "color": "#E5ECF6",
              "width": 0.5
             },
             "pattern": {
              "fillmode": "overlay",
              "size": 10,
              "solidity": 0.2
             }
            },
            "type": "barpolar"
           }
          ],
          "carpet": [
           {
            "aaxis": {
             "endlinecolor": "#2a3f5f",
             "gridcolor": "white",
             "linecolor": "white",
             "minorgridcolor": "white",
             "startlinecolor": "#2a3f5f"
            },
            "baxis": {
             "endlinecolor": "#2a3f5f",
             "gridcolor": "white",
             "linecolor": "white",
             "minorgridcolor": "white",
             "startlinecolor": "#2a3f5f"
            },
            "type": "carpet"
           }
          ],
          "choropleth": [
           {
            "colorbar": {
             "outlinewidth": 0,
             "ticks": ""
            },
            "type": "choropleth"
           }
          ],
          "contour": [
           {
            "colorbar": {
             "outlinewidth": 0,
             "ticks": ""
            },
            "colorscale": [
             [
              0,
              "#0d0887"
             ],
             [
              0.1111111111111111,
              "#46039f"
             ],
             [
              0.2222222222222222,
              "#7201a8"
             ],
             [
              0.3333333333333333,
              "#9c179e"
             ],
             [
              0.4444444444444444,
              "#bd3786"
             ],
             [
              0.5555555555555556,
              "#d8576b"
             ],
             [
              0.6666666666666666,
              "#ed7953"
             ],
             [
              0.7777777777777778,
              "#fb9f3a"
             ],
             [
              0.8888888888888888,
              "#fdca26"
             ],
             [
              1,
              "#f0f921"
             ]
            ],
            "type": "contour"
           }
          ],
          "contourcarpet": [
           {
            "colorbar": {
             "outlinewidth": 0,
             "ticks": ""
            },
            "type": "contourcarpet"
           }
          ],
          "heatmap": [
           {
            "colorbar": {
             "outlinewidth": 0,
             "ticks": ""
            },
            "colorscale": [
             [
              0,
              "#0d0887"
             ],
             [
              0.1111111111111111,
              "#46039f"
             ],
             [
              0.2222222222222222,
              "#7201a8"
             ],
             [
              0.3333333333333333,
              "#9c179e"
             ],
             [
              0.4444444444444444,
              "#bd3786"
             ],
             [
              0.5555555555555556,
              "#d8576b"
             ],
             [
              0.6666666666666666,
              "#ed7953"
             ],
             [
              0.7777777777777778,
              "#fb9f3a"
             ],
             [
              0.8888888888888888,
              "#fdca26"
             ],
             [
              1,
              "#f0f921"
             ]
            ],
            "type": "heatmap"
           }
          ],
          "heatmapgl": [
           {
            "colorbar": {
             "outlinewidth": 0,
             "ticks": ""
            },
            "colorscale": [
             [
              0,
              "#0d0887"
             ],
             [
              0.1111111111111111,
              "#46039f"
             ],
             [
              0.2222222222222222,
              "#7201a8"
             ],
             [
              0.3333333333333333,
              "#9c179e"
             ],
             [
              0.4444444444444444,
              "#bd3786"
             ],
             [
              0.5555555555555556,
              "#d8576b"
             ],
             [
              0.6666666666666666,
              "#ed7953"
             ],
             [
              0.7777777777777778,
              "#fb9f3a"
             ],
             [
              0.8888888888888888,
              "#fdca26"
             ],
             [
              1,
              "#f0f921"
             ]
            ],
            "type": "heatmapgl"
           }
          ],
          "histogram": [
           {
            "marker": {
             "pattern": {
              "fillmode": "overlay",
              "size": 10,
              "solidity": 0.2
             }
            },
            "type": "histogram"
           }
          ],
          "histogram2d": [
           {
            "colorbar": {
             "outlinewidth": 0,
             "ticks": ""
            },
            "colorscale": [
             [
              0,
              "#0d0887"
             ],
             [
              0.1111111111111111,
              "#46039f"
             ],
             [
              0.2222222222222222,
              "#7201a8"
             ],
             [
              0.3333333333333333,
              "#9c179e"
             ],
             [
              0.4444444444444444,
              "#bd3786"
             ],
             [
              0.5555555555555556,
              "#d8576b"
             ],
             [
              0.6666666666666666,
              "#ed7953"
             ],
             [
              0.7777777777777778,
              "#fb9f3a"
             ],
             [
              0.8888888888888888,
              "#fdca26"
             ],
             [
              1,
              "#f0f921"
             ]
            ],
            "type": "histogram2d"
           }
          ],
          "histogram2dcontour": [
           {
            "colorbar": {
             "outlinewidth": 0,
             "ticks": ""
            },
            "colorscale": [
             [
              0,
              "#0d0887"
             ],
             [
              0.1111111111111111,
              "#46039f"
             ],
             [
              0.2222222222222222,
              "#7201a8"
             ],
             [
              0.3333333333333333,
              "#9c179e"
             ],
             [
              0.4444444444444444,
              "#bd3786"
             ],
             [
              0.5555555555555556,
              "#d8576b"
             ],
             [
              0.6666666666666666,
              "#ed7953"
             ],
             [
              0.7777777777777778,
              "#fb9f3a"
             ],
             [
              0.8888888888888888,
              "#fdca26"
             ],
             [
              1,
              "#f0f921"
             ]
            ],
            "type": "histogram2dcontour"
           }
          ],
          "mesh3d": [
           {
            "colorbar": {
             "outlinewidth": 0,
             "ticks": ""
            },
            "type": "mesh3d"
           }
          ],
          "parcoords": [
           {
            "line": {
             "colorbar": {
              "outlinewidth": 0,
              "ticks": ""
             }
            },
            "type": "parcoords"
           }
          ],
          "pie": [
           {
            "automargin": true,
            "type": "pie"
           }
          ],
          "scatter": [
           {
            "fillpattern": {
             "fillmode": "overlay",
             "size": 10,
             "solidity": 0.2
            },
            "type": "scatter"
           }
          ],
          "scatter3d": [
           {
            "line": {
             "colorbar": {
              "outlinewidth": 0,
              "ticks": ""
             }
            },
            "marker": {
             "colorbar": {
              "outlinewidth": 0,
              "ticks": ""
             }
            },
            "type": "scatter3d"
           }
          ],
          "scattercarpet": [
           {
            "marker": {
             "colorbar": {
              "outlinewidth": 0,
              "ticks": ""
             }
            },
            "type": "scattercarpet"
           }
          ],
          "scattergeo": [
           {
            "marker": {
             "colorbar": {
              "outlinewidth": 0,
              "ticks": ""
             }
            },
            "type": "scattergeo"
           }
          ],
          "scattergl": [
           {
            "marker": {
             "colorbar": {
              "outlinewidth": 0,
              "ticks": ""
             }
            },
            "type": "scattergl"
           }
          ],
          "scattermapbox": [
           {
            "marker": {
             "colorbar": {
              "outlinewidth": 0,
              "ticks": ""
             }
            },
            "type": "scattermapbox"
           }
          ],
          "scatterpolar": [
           {
            "marker": {
             "colorbar": {
              "outlinewidth": 0,
              "ticks": ""
             }
            },
            "type": "scatterpolar"
           }
          ],
          "scatterpolargl": [
           {
            "marker": {
             "colorbar": {
              "outlinewidth": 0,
              "ticks": ""
             }
            },
            "type": "scatterpolargl"
           }
          ],
          "scatterternary": [
           {
            "marker": {
             "colorbar": {
              "outlinewidth": 0,
              "ticks": ""
             }
            },
            "type": "scatterternary"
           }
          ],
          "surface": [
           {
            "colorbar": {
             "outlinewidth": 0,
             "ticks": ""
            },
            "colorscale": [
             [
              0,
              "#0d0887"
             ],
             [
              0.1111111111111111,
              "#46039f"
             ],
             [
              0.2222222222222222,
              "#7201a8"
             ],
             [
              0.3333333333333333,
              "#9c179e"
             ],
             [
              0.4444444444444444,
              "#bd3786"
             ],
             [
              0.5555555555555556,
              "#d8576b"
             ],
             [
              0.6666666666666666,
              "#ed7953"
             ],
             [
              0.7777777777777778,
              "#fb9f3a"
             ],
             [
              0.8888888888888888,
              "#fdca26"
             ],
             [
              1,
              "#f0f921"
             ]
            ],
            "type": "surface"
           }
          ],
          "table": [
           {
            "cells": {
             "fill": {
              "color": "#EBF0F8"
             },
             "line": {
              "color": "white"
             }
            },
            "header": {
             "fill": {
              "color": "#C8D4E3"
             },
             "line": {
              "color": "white"
             }
            },
            "type": "table"
           }
          ]
         },
         "layout": {
          "annotationdefaults": {
           "arrowcolor": "#2a3f5f",
           "arrowhead": 0,
           "arrowwidth": 1
          },
          "autotypenumbers": "strict",
          "coloraxis": {
           "colorbar": {
            "outlinewidth": 0,
            "ticks": ""
           }
          },
          "colorscale": {
           "diverging": [
            [
             0,
             "#8e0152"
            ],
            [
             0.1,
             "#c51b7d"
            ],
            [
             0.2,
             "#de77ae"
            ],
            [
             0.3,
             "#f1b6da"
            ],
            [
             0.4,
             "#fde0ef"
            ],
            [
             0.5,
             "#f7f7f7"
            ],
            [
             0.6,
             "#e6f5d0"
            ],
            [
             0.7,
             "#b8e186"
            ],
            [
             0.8,
             "#7fbc41"
            ],
            [
             0.9,
             "#4d9221"
            ],
            [
             1,
             "#276419"
            ]
           ],
           "sequential": [
            [
             0,
             "#0d0887"
            ],
            [
             0.1111111111111111,
             "#46039f"
            ],
            [
             0.2222222222222222,
             "#7201a8"
            ],
            [
             0.3333333333333333,
             "#9c179e"
            ],
            [
             0.4444444444444444,
             "#bd3786"
            ],
            [
             0.5555555555555556,
             "#d8576b"
            ],
            [
             0.6666666666666666,
             "#ed7953"
            ],
            [
             0.7777777777777778,
             "#fb9f3a"
            ],
            [
             0.8888888888888888,
             "#fdca26"
            ],
            [
             1,
             "#f0f921"
            ]
           ],
           "sequentialminus": [
            [
             0,
             "#0d0887"
            ],
            [
             0.1111111111111111,
             "#46039f"
            ],
            [
             0.2222222222222222,
             "#7201a8"
            ],
            [
             0.3333333333333333,
             "#9c179e"
            ],
            [
             0.4444444444444444,
             "#bd3786"
            ],
            [
             0.5555555555555556,
             "#d8576b"
            ],
            [
             0.6666666666666666,
             "#ed7953"
            ],
            [
             0.7777777777777778,
             "#fb9f3a"
            ],
            [
             0.8888888888888888,
             "#fdca26"
            ],
            [
             1,
             "#f0f921"
            ]
           ]
          },
          "colorway": [
           "#636efa",
           "#EF553B",
           "#00cc96",
           "#ab63fa",
           "#FFA15A",
           "#19d3f3",
           "#FF6692",
           "#B6E880",
           "#FF97FF",
           "#FECB52"
          ],
          "font": {
           "color": "#2a3f5f"
          },
          "geo": {
           "bgcolor": "white",
           "lakecolor": "white",
           "landcolor": "#E5ECF6",
           "showlakes": true,
           "showland": true,
           "subunitcolor": "white"
          },
          "hoverlabel": {
           "align": "left"
          },
          "hovermode": "closest",
          "mapbox": {
           "style": "light"
          },
          "paper_bgcolor": "white",
          "plot_bgcolor": "#E5ECF6",
          "polar": {
           "angularaxis": {
            "gridcolor": "white",
            "linecolor": "white",
            "ticks": ""
           },
           "bgcolor": "#E5ECF6",
           "radialaxis": {
            "gridcolor": "white",
            "linecolor": "white",
            "ticks": ""
           }
          },
          "scene": {
           "xaxis": {
            "backgroundcolor": "#E5ECF6",
            "gridcolor": "white",
            "gridwidth": 2,
            "linecolor": "white",
            "showbackground": true,
            "ticks": "",
            "zerolinecolor": "white"
           },
           "yaxis": {
            "backgroundcolor": "#E5ECF6",
            "gridcolor": "white",
            "gridwidth": 2,
            "linecolor": "white",
            "showbackground": true,
            "ticks": "",
            "zerolinecolor": "white"
           },
           "zaxis": {
            "backgroundcolor": "#E5ECF6",
            "gridcolor": "white",
            "gridwidth": 2,
            "linecolor": "white",
            "showbackground": true,
            "ticks": "",
            "zerolinecolor": "white"
           }
          },
          "shapedefaults": {
           "line": {
            "color": "#2a3f5f"
           }
          },
          "ternary": {
           "aaxis": {
            "gridcolor": "white",
            "linecolor": "white",
            "ticks": ""
           },
           "baxis": {
            "gridcolor": "white",
            "linecolor": "white",
            "ticks": ""
           },
           "bgcolor": "#E5ECF6",
           "caxis": {
            "gridcolor": "white",
            "linecolor": "white",
            "ticks": ""
           }
          },
          "title": {
           "x": 0.05
          },
          "xaxis": {
           "automargin": true,
           "gridcolor": "white",
           "linecolor": "white",
           "ticks": "",
           "title": {
            "standoff": 15
           },
           "zerolinecolor": "white",
           "zerolinewidth": 2
          },
          "yaxis": {
           "automargin": true,
           "gridcolor": "white",
           "linecolor": "white",
           "ticks": "",
           "title": {
            "standoff": 15
           },
           "zerolinecolor": "white",
           "zerolinewidth": 2
          }
         }
        },
        "width": 600,
        "xaxis": {
         "anchor": "y",
         "domain": [
          0,
          1
         ],
         "title": {
          "font": {
           "size": 16
          },
          "text": "C2"
         }
        },
        "xaxis2": {
         "anchor": "y2",
         "domain": [
          0,
          1
         ],
         "title": {
          "font": {
           "size": 16
          },
          "text": "C2"
         }
        },
        "xaxis3": {
         "anchor": "y3",
         "domain": [
          0,
          1
         ],
         "title": {
          "text": "C2"
         }
        },
        "yaxis": {
         "anchor": "x",
         "domain": [
          0.7333333333333333,
          1
         ],
         "range": [
          0,
          1
         ],
         "side": "right",
         "title": {
          "font": {
           "size": 16
          },
          "text": "auc"
         }
        },
        "yaxis2": {
         "anchor": "x2",
         "domain": [
          0.36666666666666664,
          0.6333333333333333
         ],
         "range": [
          0,
          1
         ],
         "side": "right",
         "title": {
          "font": {
           "size": 16
          },
          "text": "violation_rate"
         }
        },
        "yaxis3": {
         "anchor": "x3",
         "domain": [
          0,
          0.26666666666666666
         ],
         "range": [
          0,
          1
         ],
         "side": "right",
         "title": {
          "font": {
           "size": 16
          },
          "text": "violation_rate (instance)"
         }
        }
       }
      }
     },
     "metadata": {},
     "output_type": "display_data"
    }
   ],
   "source": [
    "import plotly.graph_objects as go\n",
    "from plotly.subplots import make_subplots\n",
    "\n",
    "\n",
    "# グラフのデータを準備\n",
    "# index = ['l-SVM-p', 'r-SVM-p', 'LogReg-p']\n",
    "\n",
    "# index = [\n",
    "#     'linear svm (L)', \n",
    "#     'non-linear svm (L)', \n",
    "#     'logistic regression (L)'\n",
    "# ]\n",
    "\n",
    "# index = [\n",
    "#     'linear svm', \n",
    "#     'non-linear svm', \n",
    "#     'logistic regression'\n",
    "# ]\n",
    "\n",
    "index = [\n",
    "    'RuleFit Classifier (disc)',\n",
    "    'tree generator (disc)',\n",
    "]\n",
    "\n",
    "columns = ['auc', 'violation_rate', 'violation_rate (instance)']\n",
    "\n",
    "title_text = \"C2\"\n",
    "\n",
    "\n",
    "# サブプロットの作成\n",
    "# fig = make_subplots(rows=1, cols=2, subplot_titles=('AUC', 'ルール違反率'))\n",
    "fig = make_subplots(rows=len(columns), cols=1)\n",
    "showlegend=True\n",
    "\n",
    "for row_num, col in enumerate(columns):\n",
    "    tmp_mean = pd.DataFrame(\n",
    "        [{info: df.loc[model_name, col] for info, df in zip(infos, dfs_mean)} for model_name in index],\n",
    "        index=index\n",
    "    )\n",
    "    tmp_std = pd.DataFrame(\n",
    "        [{info: df.loc[model_name, col] for info, df in zip(infos, dfs_std)} for model_name in index],\n",
    "        index=index\n",
    "    )\n",
    "\n",
    "    # グラフ1: AUC\n",
    "    for i in range(len(tmp_mean)):\n",
    "        fig.add_trace(\n",
    "            go.Scatter(\n",
    "                x=tmp_mean.columns,\n",
    "                y=tmp_mean.iloc[i, :],\n",
    "                mode='lines+markers',\n",
    "                name=tmp_mean.index[i],\n",
    "                line=dict(color=colors_mean[i]),  # ラインの色を設定\n",
    "                marker=dict(color=colors_mean[i]),  # マーカーの色を設定\n",
    "                showlegend=showlegend,\n",
    "            ),\n",
    "            row=row_num+1, col=1\n",
    "        )\n",
    "        fig.add_trace(\n",
    "            go.Scatter(\n",
    "                x=tmp_mean.columns,\n",
    "                y=tmp_mean.iloc[i, :] + tmp_std.iloc[i, :],\n",
    "                mode='lines',\n",
    "                line=dict(color=colors_std[i]),  # ラインの色を設定\n",
    "                showlegend=False\n",
    "            ),\n",
    "            row=row_num+1, col=1\n",
    "        )\n",
    "        fig.add_trace(\n",
    "            go.Scatter(\n",
    "                x=tmp_mean.columns,\n",
    "                y=tmp_mean.iloc[i, :] - tmp_std.iloc[i, :],\n",
    "                mode='lines',\n",
    "                fill='tonexty',\n",
    "                fillcolor=colors_std[i],\n",
    "                line=dict(color='rgba(255,255,255,0)'),\n",
    "                showlegend=False\n",
    "            ),\n",
    "            row=row_num+1, col=1\n",
    "        )\n",
    "    \n",
    "    # x, y 軸の設定\n",
    "    fig.update_xaxes(title_text=title_text, row=row_num+1, col=1)\n",
    "    fig.update_yaxes(title_text=col, range=[0, 1], row=row_num+1, col=1, side='right', title_font=dict(size=16))\n",
    "\n",
    "    showlegend=False\n",
    "    \n",
    "# レイアウトの設定\n",
    "fig.update_layout(\n",
    "    height=len(columns) * 300,\n",
    "    width=600,\n",
    "    xaxis=dict(\n",
    "        domain=[0, 1],  # 左側のsubplotの幅を調整\n",
    "        title_font=dict(size=16)\n",
    "    ),\n",
    "    xaxis2=dict(\n",
    "        domain=[0, 1],  # 右側のsubplotの幅を調整\n",
    "        title_font=dict(size=16)\n",
    "    ),\n",
    "    legend=dict(\n",
    "        x=0.5,\n",
    "        y=1.15,\n",
    "        orientation='h'  # 水平配置\n",
    "    ),\n",
    ")\n",
    "\n",
    "\n",
    "# グラフの表示\n",
    "fig.show()"
   ]
  },
  {
   "cell_type": "code",
   "execution_count": 11,
   "metadata": {},
   "outputs": [
    {
     "data": {
      "application/vnd.plotly.v1+json": {
       "config": {
        "plotlyServerURL": "https://plot.ly"
       },
       "data": [
        {
         "line": {
          "color": "rgba(99,110,250,1)"
         },
         "marker": {
          "color": "rgba(99,110,250,1)"
         },
         "mode": "lines+markers",
         "name": "linear svm",
         "showlegend": true,
         "type": "scatter",
         "x": [
          1,
          5,
          15,
          50,
          100
         ],
         "xaxis": "x",
         "y": [
          0.82826138290731,
          0.82826138290731,
          0.82826138290731,
          0.8839590523091241,
          0.8839590523091241
         ],
         "yaxis": "y"
        },
        {
         "line": {
          "color": "rgba(99,110,250,0.2)"
         },
         "mode": "lines",
         "showlegend": false,
         "type": "scatter",
         "x": [
          1,
          5,
          15,
          50,
          100
         ],
         "xaxis": "x",
         "y": [
          0.919655210632591,
          0.919655210632591,
          0.919655210632591,
          0.9102497023412587,
          0.9102497023412587
         ],
         "yaxis": "y"
        },
        {
         "fill": "tonexty",
         "fillcolor": "rgba(99,110,250,0.2)",
         "line": {
          "color": "rgba(255,255,255,0)"
         },
         "mode": "lines",
         "showlegend": false,
         "type": "scatter",
         "x": [
          1,
          5,
          15,
          50,
          100
         ],
         "xaxis": "x",
         "y": [
          0.736867555182029,
          0.736867555182029,
          0.736867555182029,
          0.8576684022769895,
          0.8576684022769895
         ],
         "yaxis": "y"
        },
        {
         "line": {
          "color": "rgba(239,85,59,1)"
         },
         "marker": {
          "color": "rgba(239,85,59,1)"
         },
         "mode": "lines+markers",
         "name": "non-linear svm",
         "showlegend": true,
         "type": "scatter",
         "x": [
          1,
          5,
          15,
          50,
          100
         ],
         "xaxis": "x",
         "y": [
          0.8556506788289641,
          0.8556506788289641,
          0.8556506788289641,
          0.9104587227112335,
          0.9104587227112335
         ],
         "yaxis": "y"
        },
        {
         "line": {
          "color": "rgba(239,85,59,0.2)"
         },
         "mode": "lines",
         "showlegend": false,
         "type": "scatter",
         "x": [
          1,
          5,
          15,
          50,
          100
         ],
         "xaxis": "x",
         "y": [
          0.9597692404359783,
          0.9597692404359783,
          0.9597692404359783,
          0.9489597960632071,
          0.9489597960632071
         ],
         "yaxis": "y"
        },
        {
         "fill": "tonexty",
         "fillcolor": "rgba(239,85,59,0.2)",
         "line": {
          "color": "rgba(255,255,255,0)"
         },
         "mode": "lines",
         "showlegend": false,
         "type": "scatter",
         "x": [
          1,
          5,
          15,
          50,
          100
         ],
         "xaxis": "x",
         "y": [
          0.7515321172219498,
          0.7515321172219498,
          0.7515321172219498,
          0.8719576493592599,
          0.8719576493592599
         ],
         "yaxis": "y"
        },
        {
         "line": {
          "color": "rgba(0,204,150,1)"
         },
         "marker": {
          "color": "rgba(0,204,150,1)"
         },
         "mode": "lines+markers",
         "name": "logistic regression",
         "showlegend": true,
         "type": "scatter",
         "x": [
          1,
          5,
          15,
          50,
          100
         ],
         "xaxis": "x",
         "y": [
          0.833524540802047,
          0.833524540802047,
          0.833524540802047,
          0.8893644577145295,
          0.8893644577145295
         ],
         "yaxis": "y"
        },
        {
         "line": {
          "color": "rgba(0,204,150,0.2)"
         },
         "mode": "lines",
         "showlegend": false,
         "type": "scatter",
         "x": [
          1,
          5,
          15,
          50,
          100
         ],
         "xaxis": "x",
         "y": [
          0.9266561263167887,
          0.9266561263167887,
          0.9266561263167887,
          0.9134322942820018,
          0.9134322942820018
         ],
         "yaxis": "y"
        },
        {
         "fill": "tonexty",
         "fillcolor": "rgba(0,204,150,0.2)",
         "line": {
          "color": "rgba(255,255,255,0)"
         },
         "mode": "lines",
         "showlegend": false,
         "type": "scatter",
         "x": [
          1,
          5,
          15,
          50,
          100
         ],
         "xaxis": "x",
         "y": [
          0.7403929552873052,
          0.7403929552873052,
          0.7403929552873052,
          0.8652966211470573,
          0.8652966211470573
         ],
         "yaxis": "y"
        },
        {
         "line": {
          "color": "rgba(171,99,250,1)"
         },
         "marker": {
          "color": "rgba(171,99,250,1)"
         },
         "mode": "lines+markers",
         "name": "RuleFit Classifier (disc)",
         "showlegend": true,
         "type": "scatter",
         "x": [
          1,
          5,
          15,
          50,
          100
         ],
         "xaxis": "x",
         "y": [
          0.7444773572185579,
          0.7444773572185579,
          0.7444773572185579,
          0.8088345160081172,
          0.8088345160081172
         ],
         "yaxis": "y"
        },
        {
         "line": {
          "color": "rgba(171,99,250,0.2)"
         },
         "mode": "lines",
         "showlegend": false,
         "type": "scatter",
         "x": [
          1,
          5,
          15,
          50,
          100
         ],
         "xaxis": "x",
         "y": [
          0.8657932451074701,
          0.8657932451074701,
          0.8657932451074701,
          0.8956924413871674,
          0.8956924413871674
         ],
         "yaxis": "y"
        },
        {
         "fill": "tonexty",
         "fillcolor": "rgba(171,99,250,0.2)",
         "line": {
          "color": "rgba(255,255,255,0)"
         },
         "mode": "lines",
         "showlegend": false,
         "type": "scatter",
         "x": [
          1,
          5,
          15,
          50,
          100
         ],
         "xaxis": "x",
         "y": [
          0.6231614693296457,
          0.6231614693296457,
          0.6231614693296457,
          0.7219765906290669,
          0.7219765906290669
         ],
         "yaxis": "y"
        },
        {
         "line": {
          "color": "rgba(255,161,90,1)"
         },
         "marker": {
          "color": "rgba(255,161,90,1)"
         },
         "mode": "lines+markers",
         "name": "tree generator (disc)",
         "showlegend": true,
         "type": "scatter",
         "x": [
          1,
          5,
          15,
          50,
          100
         ],
         "xaxis": "x",
         "y": [
          0.7111363493010252,
          0.7111363493010252,
          0.7111363493010252,
          0.7441712874998384,
          0.7441712874998384
         ],
         "yaxis": "y"
        },
        {
         "line": {
          "color": "rgba(255,161,90,0.2)"
         },
         "mode": "lines",
         "showlegend": false,
         "type": "scatter",
         "x": [
          1,
          5,
          15,
          50,
          100
         ],
         "xaxis": "x",
         "y": [
          0.805729196158707,
          0.805729196158707,
          0.805729196158707,
          0.8167577177821016,
          0.8167577177821016
         ],
         "yaxis": "y"
        },
        {
         "fill": "tonexty",
         "fillcolor": "rgba(255,161,90,0.2)",
         "line": {
          "color": "rgba(255,255,255,0)"
         },
         "mode": "lines",
         "showlegend": false,
         "type": "scatter",
         "x": [
          1,
          5,
          15,
          50,
          100
         ],
         "xaxis": "x",
         "y": [
          0.6165435024433434,
          0.6165435024433434,
          0.6165435024433434,
          0.6715848572175752,
          0.6715848572175752
         ],
         "yaxis": "y"
        }
       ],
       "layout": {
        "height": 300,
        "legend": {
         "orientation": "h",
         "x": 0.5,
         "y": 2
        },
        "template": {
         "data": {
          "bar": [
           {
            "error_x": {
             "color": "#2a3f5f"
            },
            "error_y": {
             "color": "#2a3f5f"
            },
            "marker": {
             "line": {
              "color": "#E5ECF6",
              "width": 0.5
             },
             "pattern": {
              "fillmode": "overlay",
              "size": 10,
              "solidity": 0.2
             }
            },
            "type": "bar"
           }
          ],
          "barpolar": [
           {
            "marker": {
             "line": {
              "color": "#E5ECF6",
              "width": 0.5
             },
             "pattern": {
              "fillmode": "overlay",
              "size": 10,
              "solidity": 0.2
             }
            },
            "type": "barpolar"
           }
          ],
          "carpet": [
           {
            "aaxis": {
             "endlinecolor": "#2a3f5f",
             "gridcolor": "white",
             "linecolor": "white",
             "minorgridcolor": "white",
             "startlinecolor": "#2a3f5f"
            },
            "baxis": {
             "endlinecolor": "#2a3f5f",
             "gridcolor": "white",
             "linecolor": "white",
             "minorgridcolor": "white",
             "startlinecolor": "#2a3f5f"
            },
            "type": "carpet"
           }
          ],
          "choropleth": [
           {
            "colorbar": {
             "outlinewidth": 0,
             "ticks": ""
            },
            "type": "choropleth"
           }
          ],
          "contour": [
           {
            "colorbar": {
             "outlinewidth": 0,
             "ticks": ""
            },
            "colorscale": [
             [
              0,
              "#0d0887"
             ],
             [
              0.1111111111111111,
              "#46039f"
             ],
             [
              0.2222222222222222,
              "#7201a8"
             ],
             [
              0.3333333333333333,
              "#9c179e"
             ],
             [
              0.4444444444444444,
              "#bd3786"
             ],
             [
              0.5555555555555556,
              "#d8576b"
             ],
             [
              0.6666666666666666,
              "#ed7953"
             ],
             [
              0.7777777777777778,
              "#fb9f3a"
             ],
             [
              0.8888888888888888,
              "#fdca26"
             ],
             [
              1,
              "#f0f921"
             ]
            ],
            "type": "contour"
           }
          ],
          "contourcarpet": [
           {
            "colorbar": {
             "outlinewidth": 0,
             "ticks": ""
            },
            "type": "contourcarpet"
           }
          ],
          "heatmap": [
           {
            "colorbar": {
             "outlinewidth": 0,
             "ticks": ""
            },
            "colorscale": [
             [
              0,
              "#0d0887"
             ],
             [
              0.1111111111111111,
              "#46039f"
             ],
             [
              0.2222222222222222,
              "#7201a8"
             ],
             [
              0.3333333333333333,
              "#9c179e"
             ],
             [
              0.4444444444444444,
              "#bd3786"
             ],
             [
              0.5555555555555556,
              "#d8576b"
             ],
             [
              0.6666666666666666,
              "#ed7953"
             ],
             [
              0.7777777777777778,
              "#fb9f3a"
             ],
             [
              0.8888888888888888,
              "#fdca26"
             ],
             [
              1,
              "#f0f921"
             ]
            ],
            "type": "heatmap"
           }
          ],
          "heatmapgl": [
           {
            "colorbar": {
             "outlinewidth": 0,
             "ticks": ""
            },
            "colorscale": [
             [
              0,
              "#0d0887"
             ],
             [
              0.1111111111111111,
              "#46039f"
             ],
             [
              0.2222222222222222,
              "#7201a8"
             ],
             [
              0.3333333333333333,
              "#9c179e"
             ],
             [
              0.4444444444444444,
              "#bd3786"
             ],
             [
              0.5555555555555556,
              "#d8576b"
             ],
             [
              0.6666666666666666,
              "#ed7953"
             ],
             [
              0.7777777777777778,
              "#fb9f3a"
             ],
             [
              0.8888888888888888,
              "#fdca26"
             ],
             [
              1,
              "#f0f921"
             ]
            ],
            "type": "heatmapgl"
           }
          ],
          "histogram": [
           {
            "marker": {
             "pattern": {
              "fillmode": "overlay",
              "size": 10,
              "solidity": 0.2
             }
            },
            "type": "histogram"
           }
          ],
          "histogram2d": [
           {
            "colorbar": {
             "outlinewidth": 0,
             "ticks": ""
            },
            "colorscale": [
             [
              0,
              "#0d0887"
             ],
             [
              0.1111111111111111,
              "#46039f"
             ],
             [
              0.2222222222222222,
              "#7201a8"
             ],
             [
              0.3333333333333333,
              "#9c179e"
             ],
             [
              0.4444444444444444,
              "#bd3786"
             ],
             [
              0.5555555555555556,
              "#d8576b"
             ],
             [
              0.6666666666666666,
              "#ed7953"
             ],
             [
              0.7777777777777778,
              "#fb9f3a"
             ],
             [
              0.8888888888888888,
              "#fdca26"
             ],
             [
              1,
              "#f0f921"
             ]
            ],
            "type": "histogram2d"
           }
          ],
          "histogram2dcontour": [
           {
            "colorbar": {
             "outlinewidth": 0,
             "ticks": ""
            },
            "colorscale": [
             [
              0,
              "#0d0887"
             ],
             [
              0.1111111111111111,
              "#46039f"
             ],
             [
              0.2222222222222222,
              "#7201a8"
             ],
             [
              0.3333333333333333,
              "#9c179e"
             ],
             [
              0.4444444444444444,
              "#bd3786"
             ],
             [
              0.5555555555555556,
              "#d8576b"
             ],
             [
              0.6666666666666666,
              "#ed7953"
             ],
             [
              0.7777777777777778,
              "#fb9f3a"
             ],
             [
              0.8888888888888888,
              "#fdca26"
             ],
             [
              1,
              "#f0f921"
             ]
            ],
            "type": "histogram2dcontour"
           }
          ],
          "mesh3d": [
           {
            "colorbar": {
             "outlinewidth": 0,
             "ticks": ""
            },
            "type": "mesh3d"
           }
          ],
          "parcoords": [
           {
            "line": {
             "colorbar": {
              "outlinewidth": 0,
              "ticks": ""
             }
            },
            "type": "parcoords"
           }
          ],
          "pie": [
           {
            "automargin": true,
            "type": "pie"
           }
          ],
          "scatter": [
           {
            "fillpattern": {
             "fillmode": "overlay",
             "size": 10,
             "solidity": 0.2
            },
            "type": "scatter"
           }
          ],
          "scatter3d": [
           {
            "line": {
             "colorbar": {
              "outlinewidth": 0,
              "ticks": ""
             }
            },
            "marker": {
             "colorbar": {
              "outlinewidth": 0,
              "ticks": ""
             }
            },
            "type": "scatter3d"
           }
          ],
          "scattercarpet": [
           {
            "marker": {
             "colorbar": {
              "outlinewidth": 0,
              "ticks": ""
             }
            },
            "type": "scattercarpet"
           }
          ],
          "scattergeo": [
           {
            "marker": {
             "colorbar": {
              "outlinewidth": 0,
              "ticks": ""
             }
            },
            "type": "scattergeo"
           }
          ],
          "scattergl": [
           {
            "marker": {
             "colorbar": {
              "outlinewidth": 0,
              "ticks": ""
             }
            },
            "type": "scattergl"
           }
          ],
          "scattermapbox": [
           {
            "marker": {
             "colorbar": {
              "outlinewidth": 0,
              "ticks": ""
             }
            },
            "type": "scattermapbox"
           }
          ],
          "scatterpolar": [
           {
            "marker": {
             "colorbar": {
              "outlinewidth": 0,
              "ticks": ""
             }
            },
            "type": "scatterpolar"
           }
          ],
          "scatterpolargl": [
           {
            "marker": {
             "colorbar": {
              "outlinewidth": 0,
              "ticks": ""
             }
            },
            "type": "scatterpolargl"
           }
          ],
          "scatterternary": [
           {
            "marker": {
             "colorbar": {
              "outlinewidth": 0,
              "ticks": ""
             }
            },
            "type": "scatterternary"
           }
          ],
          "surface": [
           {
            "colorbar": {
             "outlinewidth": 0,
             "ticks": ""
            },
            "colorscale": [
             [
              0,
              "#0d0887"
             ],
             [
              0.1111111111111111,
              "#46039f"
             ],
             [
              0.2222222222222222,
              "#7201a8"
             ],
             [
              0.3333333333333333,
              "#9c179e"
             ],
             [
              0.4444444444444444,
              "#bd3786"
             ],
             [
              0.5555555555555556,
              "#d8576b"
             ],
             [
              0.6666666666666666,
              "#ed7953"
             ],
             [
              0.7777777777777778,
              "#fb9f3a"
             ],
             [
              0.8888888888888888,
              "#fdca26"
             ],
             [
              1,
              "#f0f921"
             ]
            ],
            "type": "surface"
           }
          ],
          "table": [
           {
            "cells": {
             "fill": {
              "color": "#EBF0F8"
             },
             "line": {
              "color": "white"
             }
            },
            "header": {
             "fill": {
              "color": "#C8D4E3"
             },
             "line": {
              "color": "white"
             }
            },
            "type": "table"
           }
          ]
         },
         "layout": {
          "annotationdefaults": {
           "arrowcolor": "#2a3f5f",
           "arrowhead": 0,
           "arrowwidth": 1
          },
          "autotypenumbers": "strict",
          "coloraxis": {
           "colorbar": {
            "outlinewidth": 0,
            "ticks": ""
           }
          },
          "colorscale": {
           "diverging": [
            [
             0,
             "#8e0152"
            ],
            [
             0.1,
             "#c51b7d"
            ],
            [
             0.2,
             "#de77ae"
            ],
            [
             0.3,
             "#f1b6da"
            ],
            [
             0.4,
             "#fde0ef"
            ],
            [
             0.5,
             "#f7f7f7"
            ],
            [
             0.6,
             "#e6f5d0"
            ],
            [
             0.7,
             "#b8e186"
            ],
            [
             0.8,
             "#7fbc41"
            ],
            [
             0.9,
             "#4d9221"
            ],
            [
             1,
             "#276419"
            ]
           ],
           "sequential": [
            [
             0,
             "#0d0887"
            ],
            [
             0.1111111111111111,
             "#46039f"
            ],
            [
             0.2222222222222222,
             "#7201a8"
            ],
            [
             0.3333333333333333,
             "#9c179e"
            ],
            [
             0.4444444444444444,
             "#bd3786"
            ],
            [
             0.5555555555555556,
             "#d8576b"
            ],
            [
             0.6666666666666666,
             "#ed7953"
            ],
            [
             0.7777777777777778,
             "#fb9f3a"
            ],
            [
             0.8888888888888888,
             "#fdca26"
            ],
            [
             1,
             "#f0f921"
            ]
           ],
           "sequentialminus": [
            [
             0,
             "#0d0887"
            ],
            [
             0.1111111111111111,
             "#46039f"
            ],
            [
             0.2222222222222222,
             "#7201a8"
            ],
            [
             0.3333333333333333,
             "#9c179e"
            ],
            [
             0.4444444444444444,
             "#bd3786"
            ],
            [
             0.5555555555555556,
             "#d8576b"
            ],
            [
             0.6666666666666666,
             "#ed7953"
            ],
            [
             0.7777777777777778,
             "#fb9f3a"
            ],
            [
             0.8888888888888888,
             "#fdca26"
            ],
            [
             1,
             "#f0f921"
            ]
           ]
          },
          "colorway": [
           "#636efa",
           "#EF553B",
           "#00cc96",
           "#ab63fa",
           "#FFA15A",
           "#19d3f3",
           "#FF6692",
           "#B6E880",
           "#FF97FF",
           "#FECB52"
          ],
          "font": {
           "color": "#2a3f5f"
          },
          "geo": {
           "bgcolor": "white",
           "lakecolor": "white",
           "landcolor": "#E5ECF6",
           "showlakes": true,
           "showland": true,
           "subunitcolor": "white"
          },
          "hoverlabel": {
           "align": "left"
          },
          "hovermode": "closest",
          "mapbox": {
           "style": "light"
          },
          "paper_bgcolor": "white",
          "plot_bgcolor": "#E5ECF6",
          "polar": {
           "angularaxis": {
            "gridcolor": "white",
            "linecolor": "white",
            "ticks": ""
           },
           "bgcolor": "#E5ECF6",
           "radialaxis": {
            "gridcolor": "white",
            "linecolor": "white",
            "ticks": ""
           }
          },
          "scene": {
           "xaxis": {
            "backgroundcolor": "#E5ECF6",
            "gridcolor": "white",
            "gridwidth": 2,
            "linecolor": "white",
            "showbackground": true,
            "ticks": "",
            "zerolinecolor": "white"
           },
           "yaxis": {
            "backgroundcolor": "#E5ECF6",
            "gridcolor": "white",
            "gridwidth": 2,
            "linecolor": "white",
            "showbackground": true,
            "ticks": "",
            "zerolinecolor": "white"
           },
           "zaxis": {
            "backgroundcolor": "#E5ECF6",
            "gridcolor": "white",
            "gridwidth": 2,
            "linecolor": "white",
            "showbackground": true,
            "ticks": "",
            "zerolinecolor": "white"
           }
          },
          "shapedefaults": {
           "line": {
            "color": "#2a3f5f"
           }
          },
          "ternary": {
           "aaxis": {
            "gridcolor": "white",
            "linecolor": "white",
            "ticks": ""
           },
           "baxis": {
            "gridcolor": "white",
            "linecolor": "white",
            "ticks": ""
           },
           "bgcolor": "#E5ECF6",
           "caxis": {
            "gridcolor": "white",
            "linecolor": "white",
            "ticks": ""
           }
          },
          "title": {
           "x": 0.05
          },
          "xaxis": {
           "automargin": true,
           "gridcolor": "white",
           "linecolor": "white",
           "ticks": "",
           "title": {
            "standoff": 15
           },
           "zerolinecolor": "white",
           "zerolinewidth": 2
          },
          "yaxis": {
           "automargin": true,
           "gridcolor": "white",
           "linecolor": "white",
           "ticks": "",
           "title": {
            "standoff": 15
           },
           "zerolinecolor": "white",
           "zerolinewidth": 2
          }
         }
        },
        "width": 600,
        "xaxis": {
         "anchor": "y",
         "domain": [
          0,
          1
         ],
         "title": {
          "font": {
           "size": 16
          },
          "text": "C2"
         }
        },
        "xaxis2": {
         "domain": [
          0,
          1
         ],
         "title": {
          "font": {
           "size": 16
          }
         }
        },
        "yaxis": {
         "anchor": "x",
         "domain": [
          0,
          1
         ],
         "range": [
          0,
          1
         ],
         "side": "right",
         "title": {
          "font": {
           "size": 16
          },
          "text": "violation_rate"
         }
        }
       }
      }
     },
     "metadata": {},
     "output_type": "display_data"
    }
   ],
   "source": [
    "import plotly.graph_objects as go\n",
    "from plotly.subplots import make_subplots\n",
    "\n",
    "\n",
    "# グラフのデータを準備\n",
    "# index = ['l-SVM-p', 'r-SVM-p', 'LogReg-p']\n",
    "\n",
    "# index = [\n",
    "#     'linear svm (L)', \n",
    "#     'non-linear svm (L)', \n",
    "#     'logistic regression (L)'\n",
    "# ]\n",
    "\n",
    "index = [\n",
    "    'linear svm', \n",
    "    'non-linear svm', \n",
    "    'logistic regression',\n",
    "    'RuleFit Classifier (disc)',\n",
    "    'tree generator (disc)',\n",
    "]\n",
    "\n",
    "columns = ['violation_rate']\n",
    "\n",
    "title_text = \"C2\"\n",
    "\n",
    "\n",
    "# サブプロットの作成\n",
    "# fig = make_subplots(rows=1, cols=2, subplot_titles=('AUC', 'ルール違反率'))\n",
    "fig = make_subplots(rows=len(columns), cols=1)\n",
    "showlegend=True\n",
    "\n",
    "for row_num, col in enumerate(columns):\n",
    "    tmp_mean = pd.DataFrame(\n",
    "        [{info: df.loc[model_name, col] for info, df in zip(infos, dfs_mean)} for model_name in index],\n",
    "        index=index\n",
    "    )\n",
    "    tmp_std = pd.DataFrame(\n",
    "        [{info: df.loc[model_name, col] for info, df in zip(infos, dfs_std)} for model_name in index],\n",
    "        index=index\n",
    "    )\n",
    "\n",
    "    # グラフ1: AUC\n",
    "    for i in range(len(tmp_mean)):\n",
    "        fig.add_trace(\n",
    "            go.Scatter(\n",
    "                x=tmp_mean.columns,\n",
    "                y=tmp_mean.iloc[i, :],\n",
    "                mode='lines+markers',\n",
    "                name=tmp_mean.index[i],\n",
    "                line=dict(color=colors_mean[i]),  # ラインの色を設定\n",
    "                marker=dict(color=colors_mean[i]),  # マーカーの色を設定\n",
    "                showlegend=showlegend,\n",
    "            ),\n",
    "            row=row_num+1, col=1\n",
    "        )\n",
    "        fig.add_trace(\n",
    "            go.Scatter(\n",
    "                x=tmp_mean.columns,\n",
    "                y=tmp_mean.iloc[i, :] + tmp_std.iloc[i, :],\n",
    "                mode='lines',\n",
    "                line=dict(color=colors_std[i]),  # ラインの色を設定\n",
    "                showlegend=False\n",
    "            ),\n",
    "            row=row_num+1, col=1\n",
    "        )\n",
    "        fig.add_trace(\n",
    "            go.Scatter(\n",
    "                x=tmp_mean.columns,\n",
    "                y=tmp_mean.iloc[i, :] - tmp_std.iloc[i, :],\n",
    "                mode='lines',\n",
    "                fill='tonexty',\n",
    "                fillcolor=colors_std[i],\n",
    "                line=dict(color='rgba(255,255,255,0)'),\n",
    "                showlegend=False\n",
    "            ),\n",
    "            row=row_num+1, col=1\n",
    "        )\n",
    "    \n",
    "    # x, y 軸の設定\n",
    "    fig.update_xaxes(title_text=title_text, row=row_num+1, col=1)\n",
    "    fig.update_yaxes(title_text=col, range=[0, 1], row=row_num+1, col=1, side='right', title_font=dict(size=16))\n",
    "\n",
    "    showlegend=False\n",
    "    \n",
    "# レイアウトの設定\n",
    "fig.update_layout(\n",
    "    height=len(columns) * 300,\n",
    "    width=600,\n",
    "    xaxis=dict(\n",
    "        domain=[0, 1],  # 左側のsubplotの幅を調整\n",
    "        title_font=dict(size=16)\n",
    "    ),\n",
    "    xaxis2=dict(\n",
    "        domain=[0, 1],  # 右側のsubplotの幅を調整\n",
    "        title_font=dict(size=16)\n",
    "    ),\n",
    "    legend=dict(\n",
    "        x=0.5,\n",
    "        y=2,\n",
    "        orientation='h'  # 水平配置\n",
    "    ),\n",
    ")\n",
    "\n",
    "\n",
    "# グラフの表示\n",
    "fig.show()"
   ]
  },
  {
   "cell_type": "code",
   "execution_count": null,
   "metadata": {},
   "outputs": [],
   "source": []
  }
 ],
 "metadata": {
  "kernelspec": {
   "display_name": "myenv",
   "language": "python",
   "name": "python3"
  },
  "language_info": {
   "codemirror_mode": {
    "name": "ipython",
    "version": 3
   },
   "file_extension": ".py",
   "mimetype": "text/x-python",
   "name": "python",
   "nbconvert_exporter": "python",
   "pygments_lexer": "ipython3",
   "version": "3.11.9"
  }
 },
 "nbformat": 4,
 "nbformat_minor": 2
}
