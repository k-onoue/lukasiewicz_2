{
 "cells": [
  {
   "cell_type": "markdown",
   "metadata": {},
   "source": [
    "- 医療検査においては，recall が高いと良い．（取りこぼしが無いという意味で）\n",
    "- \n",
    "\n",
    "ルールの多数決による予測は，recall が 1．l-svm-p, r-svm-p (提案モデル) は l-svm，r-svm (ベンチマークモデル) より高かった．しかし LogReg-p は LogReg よりも低かった．\n",
    "\n"
   ]
  },
  {
   "cell_type": "code",
   "execution_count": 44,
   "metadata": {},
   "outputs": [
    {
     "name": "stdout",
     "output_type": "stream",
     "text": [
      "['ver_0_mean.csv', 'ver_1_mean.csv', 'ver_2_mean.csv', 'ver_3_mean.csv', 'ver_4_mean.csv', 'ver_5_mean.csv']\n",
      "accuracy\n",
      "precision\n",
      "recall\n",
      "f1\n",
      "auc\n",
      "violation_rate\n",
      "violation_rate (instance)\n"
     ]
    }
   ],
   "source": [
    "import os\n",
    "import pandas as pd\n",
    "\n",
    "file_name_list = sorted([df_name for df_name in os.listdir() if \"mean\" in df_name])\n",
    "print(file_name_list)\n",
    "\n",
    "model_name_dict = {\n",
    "    'linear svm': 'l-SVM', \n",
    "    'non-linear svm': 'r-SVM', \n",
    "    'logistic regression': 'LogReg', \n",
    "    'RuleFit Classifier (disc)': 'RuleFit-d', \n",
    "    'RuleFit Classifier (conti)': 'RuleFit', \n",
    "    'tree generator (disc)': 'RF-d', \n",
    "    'tree generator (conti)': 'RF', \n",
    "    'linear svm (L)': 'l-SVM-p', \n",
    "    'non-linear svm (L)': 'r-SVM-p', \n",
    "    'logistic regression (L)': 'LogReg-p', \n",
    "    'rule_based_prediction': 'RuleBase'\n",
    "}\n",
    "\n",
    "df_list = [pd.read_csv(df_name, index_col=0).T.rename(columns=model_name_dict) for df_name in file_name_list]\n",
    "\n",
    "def get_table(df_list, model_name_list, metrics, index=None):\n",
    "    print(metrics)\n",
    "    table = pd.DataFrame()\n",
    "    for i, df in enumerate(df_list):\n",
    "        table[i] = df.loc[metrics, model_name_list]\n",
    "    table = table.T\n",
    "    if index is not None:\n",
    "        table.index = index\n",
    "    return table\n",
    "\n",
    "index = [df.loc['rule_thr', 'RuleBase'] for df in df_list]\n",
    "metrics = ['accuracy', 'precision', 'recall', 'f1', 'auc', 'violation_rate', 'violation_rate (instance)']\n",
    "df_table_list = [get_table(df_list, model_name_dict.values(), metric, index=index) for metric in metrics]\n",
    "tmp_list = [(df, metrics) for df, metrics in zip(df_table_list, metrics)]\n",
    "\n",
    "\n",
    "csv_file = 'vis_table.csv'\n",
    "\n",
    "# CSVにデータを保存\n",
    "with open(csv_file, 'w') as f:\n",
    "    for df, metric in tmp_list:\n",
    "        # メトリクスを書き込む\n",
    "        f.write(f'{metric}\\n')\n",
    "        # データフレームをCSVに書き込む\n",
    "        df.to_csv(f)\n",
    "        # メトリクスとデータフレームの間に空行を挿入\n",
    "        f.write('\\n')"
   ]
  },
  {
   "cell_type": "code",
   "execution_count": null,
   "metadata": {},
   "outputs": [],
   "source": [
    "b_name_dict = {\n",
    "    'linear svm': 'l-SVM', \n",
    "    'non-linear svm': 'r-SVM', \n",
    "    'logistic regression': 'LogReg', \n",
    "    'RuleFit Classifier (disc)': 'RuleFit-d', \n",
    "    'RuleFit Classifier (conti)': 'RuleFit', \n",
    "    'tree generator (disc)': 'RF-d', \n",
    "    'tree generator (conti)': 'RF', \n",
    "    'rule_based_prediction': 'RuleBase'\n",
    "}\n",
    "\n",
    "p_name_dict = {\n",
    "    'linear svm (L)': 'l-SVM-p', \n",
    "    'non-linear svm (L)': 'r-SVM-p', \n",
    "    'logistic regression (L)': 'LogReg-p', \n",
    "}"
   ]
  },
  {
   "cell_type": "code",
   "execution_count": 50,
   "metadata": {},
   "outputs": [
    {
     "name": "stdout",
     "output_type": "stream",
     "text": [
      "['ver_0_mean.csv', 'ver_1_mean.csv', 'ver_2_mean.csv', 'ver_3_mean.csv', 'ver_4_mean.csv', 'ver_5_mean.csv']\n",
      "accuracy\n",
      "precision\n",
      "recall\n",
      "f1\n",
      "auc\n",
      "violation_rate\n",
      "violation_rate (instance)\n"
     ]
    }
   ],
   "source": [
    "import os\n",
    "import pandas as pd\n",
    "\n",
    "csv_file = 'vis_table_b.csv'\n",
    "\n",
    "\n",
    "file_name_list = sorted([df_name for df_name in os.listdir() if \"mean\" in df_name])\n",
    "print(file_name_list)\n",
    "\n",
    "model_name_dict = {\n",
    "    'linear svm': 'l-SVM', \n",
    "    'non-linear svm': 'r-SVM', \n",
    "    'logistic regression': 'LogReg', \n",
    "    'RuleFit Classifier (disc)': 'RuleFit-d', \n",
    "    'RuleFit Classifier (conti)': 'RuleFit', \n",
    "    'tree generator (disc)': 'RF-d', \n",
    "    'tree generator (conti)': 'RF', \n",
    "    'rule_based_prediction': 'RuleBase'\n",
    "}\n",
    "\n",
    "df_list = [pd.read_csv(df_name, index_col=0).T.rename(columns=model_name_dict) for df_name in file_name_list]\n",
    "\n",
    "def get_table(df_list, model_name_list, metrics, index=None):\n",
    "    print(metrics)\n",
    "    table = pd.DataFrame()\n",
    "    for i, df in enumerate(df_list):\n",
    "        table[i] = df.loc[metrics, model_name_list]\n",
    "    table = table.T\n",
    "    if index is not None:\n",
    "        table.index = index\n",
    "    return table\n",
    "\n",
    "index = [df.loc['rule_thr', 'RuleBase'] for df in df_list]\n",
    "metrics = ['accuracy', 'precision', 'recall', 'f1', 'auc', 'violation_rate', 'violation_rate (instance)']\n",
    "df_table_list = [get_table(df_list, model_name_dict.values(), metric, index=index) for metric in metrics]\n",
    "tmp_list = [(df, metrics) for df, metrics in zip(df_table_list, metrics)]\n",
    "\n",
    "\n",
    "# CSVにデータを保存\n",
    "with open(csv_file, 'w') as f:\n",
    "    for df, metric in tmp_list:\n",
    "        # メトリクスを書き込む\n",
    "        f.write(f'{metric}\\n')\n",
    "        # データフレームをCSVに書き込む\n",
    "        df.to_csv(f)\n",
    "        # メトリクスとデータフレームの間に空行を挿入\n",
    "        f.write('\\n')"
   ]
  },
  {
   "cell_type": "code",
   "execution_count": 52,
   "metadata": {},
   "outputs": [
    {
     "name": "stdout",
     "output_type": "stream",
     "text": [
      "['ver_0_mean.csv', 'ver_1_mean.csv', 'ver_2_mean.csv', 'ver_3_mean.csv', 'ver_4_mean.csv', 'ver_5_mean.csv']\n",
      "accuracy\n",
      "precision\n",
      "recall\n",
      "f1\n",
      "auc\n",
      "violation_rate\n",
      "violation_rate (instance)\n"
     ]
    },
    {
     "name": "stderr",
     "output_type": "stream",
     "text": [
      "/var/folders/_b/b62kq0490fn2ptq7m4mbp8yr0000gp/T/ipykernel_39599/1725615649.py:28: FutureWarning: Series.__getitem__ treating keys as positions is deprecated. In a future version, integer keys will always be treated as labels (consistent with DataFrame behavior). To access a value by position, use `ser.iloc[pos]`\n",
      "  index = [df.loc['rule_thr'][0] for df in df_list]\n"
     ]
    }
   ],
   "source": [
    "import os\n",
    "import pandas as pd\n",
    "\n",
    "csv_file = 'vis_table_p.csv'\n",
    "\n",
    "\n",
    "file_name_list = sorted([df_name for df_name in os.listdir() if \"mean\" in df_name])\n",
    "print(file_name_list)\n",
    "\n",
    "model_name_dict = {\n",
    "    'linear svm (L)': 'l-SVM-p', \n",
    "    'non-linear svm (L)': 'r-SVM-p', \n",
    "    'logistic regression (L)': 'LogReg-p', \n",
    "}\n",
    "\n",
    "df_list = [pd.read_csv(df_name, index_col=0).T.rename(columns=model_name_dict) for df_name in file_name_list]\n",
    "\n",
    "def get_table(df_list, model_name_list, metrics, index=None):\n",
    "    print(metrics)\n",
    "    table = pd.DataFrame()\n",
    "    for i, df in enumerate(df_list):\n",
    "        table[i] = df.loc[metrics, model_name_list]\n",
    "    table = table.T\n",
    "    if index is not None:\n",
    "        table.index = index\n",
    "    return table\n",
    "\n",
    "index = [df.loc['rule_thr'][0] for df in df_list]\n",
    "metrics = ['accuracy', 'precision', 'recall', 'f1', 'auc', 'violation_rate', 'violation_rate (instance)']\n",
    "df_table_list = [get_table(df_list, model_name_dict.values(), metric, index=index) for metric in metrics]\n",
    "tmp_list = [(df, metrics) for df, metrics in zip(df_table_list, metrics)]\n",
    "\n",
    "\n",
    "# CSVにデータを保存\n",
    "with open(csv_file, 'w') as f:\n",
    "    for df, metric in tmp_list:\n",
    "        # メトリクスを書き込む\n",
    "        f.write(f'{metric}\\n')\n",
    "        # データフレームをCSVに書き込む\n",
    "        df.to_csv(f)\n",
    "        # メトリクスとデータフレームの間に空行を挿入\n",
    "        f.write('\\n')"
   ]
  },
  {
   "cell_type": "code",
   "execution_count": null,
   "metadata": {},
   "outputs": [],
   "source": []
  }
 ],
 "metadata": {
  "kernelspec": {
   "display_name": "myenv",
   "language": "python",
   "name": "python3"
  },
  "language_info": {
   "codemirror_mode": {
    "name": "ipython",
    "version": 3
   },
   "file_extension": ".py",
   "mimetype": "text/x-python",
   "name": "python",
   "nbconvert_exporter": "python",
   "pygments_lexer": "ipython3",
   "version": "3.11.6"
  }
 },
 "nbformat": 4,
 "nbformat_minor": 2
}
