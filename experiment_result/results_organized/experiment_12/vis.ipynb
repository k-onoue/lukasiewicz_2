{
 "cells": [
  {
   "cell_type": "markdown",
   "metadata": {},
   "source": [
    "- 医療検査においては，recall が高いと良い．（取りこぼしが無いという意味で）\n",
    "- \n",
    "\n",
    "ルールの多数決による予測は，recall が 1．l-svm-p, r-svm-p (提案モデル) は l-svm，r-svm (ベンチマークモデル) より高かった．しかし LogReg-p は LogReg よりも低かった．\n",
    "\n"
   ]
  },
  {
   "cell_type": "markdown",
   "metadata": {},
   "source": [
    "```\n",
    "0: accuracy\n",
    "1: precision\n",
    "2: recall\n",
    "3: f1\n",
    "4: auc\n",
    "5: n_violation\n",
    "6: n_rule\n",
    "7: violation_rate\n",
    "8: n_violation (instance)\n",
    "9: n_evaluation (instance)\n",
    "10: violation_rate (instance)\n",
    "11: C1\n",
    "12: C2\n",
    "13: n_unsupervised\n",
    "14: rule_thr\n",
    "```"
   ]
  },
  {
   "cell_type": "code",
   "execution_count": 11,
   "metadata": {},
   "outputs": [
    {
     "data": {
      "text/plain": [
       "{'linear svm': 'l-SVM',\n",
       " 'non-linear svm': 'r-SVM',\n",
       " 'logistic regression': 'LogReg',\n",
       " 'RuleFit Classifier (disc)': 'RuleFit-d',\n",
       " 'RuleFit Classifier (conti)': 'RuleFit',\n",
       " 'tree generator (disc)': 'RF-d',\n",
       " 'tree generator (conti)': 'RF',\n",
       " 'linear svm (L)': 'l-SVM-p',\n",
       " 'non-linear svm (L)': 'r-SVM-p',\n",
       " 'logistic regression (L)': 'LogReg-p'}"
      ]
     },
     "execution_count": 11,
     "metadata": {},
     "output_type": "execute_result"
    }
   ],
   "source": [
    "b_name_dict = {\n",
    "    'linear svm': 'l-SVM', \n",
    "    'non-linear svm': 'r-SVM', \n",
    "    'logistic regression': 'LogReg', \n",
    "    'RuleFit Classifier (disc)': 'RuleFit-d', \n",
    "    'RuleFit Classifier (conti)': 'RuleFit', \n",
    "    'tree generator (disc)': 'RF-d', \n",
    "    'tree generator (conti)': 'RF', \n",
    "}\n",
    "\n",
    "p_name_dict = {\n",
    "    'linear svm (L)': 'l-SVM-p', \n",
    "    'non-linear svm (L)': 'r-SVM-p', \n",
    "    'logistic regression (L)': 'LogReg-p', \n",
    "    # 'rule_based_prediction': 'RuleBase'\n",
    "}\n",
    "\n",
    "all_name_dict = b_name_dict.copy()\n",
    "all_name_dict.update(p_name_dict)\n",
    "all_name_dict"
   ]
  },
  {
   "cell_type": "code",
   "execution_count": 12,
   "metadata": {},
   "outputs": [
    {
     "name": "stdout",
     "output_type": "stream",
     "text": [
      "['ver_0_mean.csv', 'ver_1_mean.csv', 'ver_2_mean.csv', 'ver_3_mean.csv', 'ver_4_mean.csv', 'ver_5_mean.csv', 'ver_6_mean.csv']\n",
      "accuracy\n",
      "precision\n",
      "recall\n",
      "f1\n",
      "auc\n",
      "violation_rate\n",
      "violation_rate (instance)\n"
     ]
    }
   ],
   "source": [
    "import os\n",
    "import pandas as pd\n",
    "\n",
    "file_name_list = sorted([df_name for df_name in os.listdir() if \"mean\" in df_name])\n",
    "print(file_name_list)\n",
    "\n",
    "\n",
    "\n",
    "metrics_idx = 12\n",
    "\n",
    "\n",
    "\n",
    "model_name_dict = all_name_dict\n",
    "\n",
    "df_list = [pd.read_csv(df_name, index_col=0).T.rename(columns=model_name_dict) for df_name in file_name_list]\n",
    "\n",
    "def get_table(df_list, model_name_list, metrics, index=None):\n",
    "    print(metrics)\n",
    "    table = pd.DataFrame()\n",
    "    for i, df in enumerate(df_list):\n",
    "        table[i] = df.loc[metrics, model_name_list]\n",
    "    table = table.T\n",
    "    if index is not None:\n",
    "        table.index = index\n",
    "    return table\n",
    "\n",
    "index = [df.iloc[metrics_idx,0] for df in df_list]\n",
    "metrics = ['accuracy', 'precision', 'recall', 'f1', 'auc', 'violation_rate', 'violation_rate (instance)']\n",
    "df_table_list = [get_table(df_list, model_name_dict.values(), metric, index=index) for metric in metrics]\n",
    "tmp_list = [(df, metrics) for df, metrics in zip(df_table_list, metrics)]\n",
    "\n",
    "\n",
    "csv_file = 'vis_table.csv'\n",
    "\n",
    "# CSVにデータを保存\n",
    "with open(csv_file, 'w') as f:\n",
    "    for df, metric in tmp_list:\n",
    "        # メトリクスを書き込む\n",
    "        f.write(f'{metric}\\n')\n",
    "        # データフレームをCSVに書き込む\n",
    "        df.to_csv(f)\n",
    "        # メトリクスとデータフレームの間に空行を挿入\n",
    "        f.write('\\n')"
   ]
  },
  {
   "cell_type": "code",
   "execution_count": 13,
   "metadata": {},
   "outputs": [
    {
     "name": "stdout",
     "output_type": "stream",
     "text": [
      "['ver_0_mean.csv', 'ver_1_mean.csv', 'ver_2_mean.csv', 'ver_3_mean.csv', 'ver_4_mean.csv', 'ver_5_mean.csv', 'ver_6_mean.csv']\n",
      "accuracy\n",
      "precision\n",
      "recall\n",
      "f1\n",
      "auc\n",
      "violation_rate\n",
      "violation_rate (instance)\n"
     ]
    }
   ],
   "source": [
    "import os\n",
    "import pandas as pd\n",
    "\n",
    "csv_file = 'vis_table_b.csv'\n",
    "\n",
    "\n",
    "file_name_list = sorted([df_name for df_name in os.listdir() if \"mean\" in df_name])\n",
    "print(file_name_list)\n",
    "\n",
    "model_name_dict = b_name_dict\n",
    "\n",
    "df_list = [pd.read_csv(df_name, index_col=0).T.rename(columns=model_name_dict) for df_name in file_name_list]\n",
    "\n",
    "def get_table(df_list, model_name_list, metrics, index=None):\n",
    "    print(metrics)\n",
    "    table = pd.DataFrame()\n",
    "    for i, df in enumerate(df_list):\n",
    "        table[i] = df.loc[metrics, model_name_list]\n",
    "    table = table.T\n",
    "    if index is not None:\n",
    "        table.index = index\n",
    "    return table\n",
    "\n",
    "index = [df.iloc[metrics_idx,0] for df in df_list]\n",
    "metrics = ['accuracy', 'precision', 'recall', 'f1', 'auc', 'violation_rate', 'violation_rate (instance)']\n",
    "df_table_list = [get_table(df_list, model_name_dict.values(), metric, index=index) for metric in metrics]\n",
    "tmp_list = [(df, metrics) for df, metrics in zip(df_table_list, metrics)]\n",
    "\n",
    "\n",
    "# CSVにデータを保存\n",
    "with open(csv_file, 'w') as f:\n",
    "    for df, metric in tmp_list:\n",
    "        # メトリクスを書き込む\n",
    "        f.write(f'{metric}\\n')\n",
    "        # データフレームをCSVに書き込む\n",
    "        df.to_csv(f)\n",
    "        # メトリクスとデータフレームの間に空行を挿入\n",
    "        f.write('\\n')"
   ]
  },
  {
   "cell_type": "code",
   "execution_count": 14,
   "metadata": {},
   "outputs": [
    {
     "data": {
      "text/plain": [
       "Index(['accuracy', 'precision', 'recall', 'f1', 'auc', 'n_violation', 'n_rule',\n",
       "       'violation_rate', 'n_violation (instance)', 'n_evaluation (instance)',\n",
       "       'violation_rate (instance)', 'C1', 'C2', 'n_unsupervised', 'rule_thr'],\n",
       "      dtype='object')"
      ]
     },
     "execution_count": 14,
     "metadata": {},
     "output_type": "execute_result"
    }
   ],
   "source": [
    "df_list[0].index"
   ]
  },
  {
   "cell_type": "code",
   "execution_count": 15,
   "metadata": {},
   "outputs": [
    {
     "name": "stdout",
     "output_type": "stream",
     "text": [
      "['ver_0_mean.csv', 'ver_1_mean.csv', 'ver_2_mean.csv', 'ver_3_mean.csv', 'ver_4_mean.csv', 'ver_5_mean.csv', 'ver_6_mean.csv']\n",
      "accuracy\n",
      "precision\n",
      "recall\n",
      "f1\n",
      "auc\n",
      "violation_rate\n",
      "violation_rate (instance)\n"
     ]
    }
   ],
   "source": [
    "import os\n",
    "import pandas as pd\n",
    "\n",
    "csv_file = 'vis_table_p.csv'\n",
    "\n",
    "\n",
    "file_name_list = sorted([df_name for df_name in os.listdir() if \"mean\" in df_name])\n",
    "print(file_name_list)\n",
    "\n",
    "model_name_dict = p_name_dict\n",
    "\n",
    "df_list = [pd.read_csv(df_name, index_col=0).T.rename(columns=model_name_dict) for df_name in file_name_list]\n",
    "\n",
    "def get_table(df_list, model_name_list, metrics, index=None):\n",
    "    print(metrics)\n",
    "    table = pd.DataFrame()\n",
    "    for i, df in enumerate(df_list):\n",
    "        table[i] = df.loc[metrics, model_name_list]\n",
    "    table = table.T\n",
    "    if index is not None:\n",
    "        table.index = index\n",
    "    return table\n",
    "\n",
    "index = [df.iloc[metrics_idx,0] for df in df_list]\n",
    "metrics = ['accuracy', 'precision', 'recall', 'f1', 'auc', 'violation_rate', 'violation_rate (instance)']\n",
    "df_table_list = [get_table(df_list, model_name_dict.values(), metric, index=index) for metric in metrics]\n",
    "tmp_list = [(df, metrics) for df, metrics in zip(df_table_list, metrics)]\n",
    "\n",
    "\n",
    "# CSVにデータを保存\n",
    "with open(csv_file, 'w') as f:\n",
    "    for df, metric in tmp_list:\n",
    "        # メトリクスを書き込む\n",
    "        f.write(f'{metric}\\n')\n",
    "        # データフレームをCSVに書き込む\n",
    "        df.to_csv(f)\n",
    "        # メトリクスとデータフレームの間に空行を挿入\n",
    "        f.write('\\n')"
   ]
  },
  {
   "cell_type": "code",
   "execution_count": null,
   "metadata": {},
   "outputs": [],
   "source": []
  },
  {
   "cell_type": "code",
   "execution_count": null,
   "metadata": {},
   "outputs": [],
   "source": []
  },
  {
   "cell_type": "code",
   "execution_count": null,
   "metadata": {},
   "outputs": [],
   "source": []
  },
  {
   "cell_type": "code",
   "execution_count": null,
   "metadata": {},
   "outputs": [],
   "source": []
  },
  {
   "cell_type": "code",
   "execution_count": null,
   "metadata": {},
   "outputs": [],
   "source": []
  }
 ],
 "metadata": {
  "kernelspec": {
   "display_name": "myenv",
   "language": "python",
   "name": "python3"
  },
  "language_info": {
   "codemirror_mode": {
    "name": "ipython",
    "version": 3
   },
   "file_extension": ".py",
   "mimetype": "text/x-python",
   "name": "python",
   "nbconvert_exporter": "python",
   "pygments_lexer": "ipython3",
   "version": "3.11.6"
  }
 },
 "nbformat": 4,
 "nbformat_minor": 2
}
