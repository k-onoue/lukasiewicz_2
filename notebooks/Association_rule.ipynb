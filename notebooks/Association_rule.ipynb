{
 "cells": [
  {
   "cell_type": "markdown",
   "metadata": {},
   "source": [
    "# Association Rule\n",
    "\n",
    "- 各パラメータの値を良い感じにしたい"
   ]
  },
  {
   "cell_type": "code",
   "execution_count": 10,
   "metadata": {},
   "outputs": [
    {
     "name": "stdout",
     "output_type": "stream",
     "text": [
      "fold: 1 of 5\n",
      "fold: 2 of 5\n",
      "fold: 3 of 5\n",
      "fold: 4 of 5\n"
     ]
    },
    {
     "name": "stderr",
     "output_type": "stream",
     "text": [
      "/Users/keisukeonoue/ws/lukasiewicz_2/myenv/lib/python3.11/site-packages/mlxtend/frequent_patterns/fpcommon.py:109: DeprecationWarning: DataFrames with non-bool types result in worse computationalperformance and their support might be discontinued in the future.Please use a DataFrame with bool type\n",
      "  warnings.warn(\n",
      "/Users/keisukeonoue/ws/lukasiewicz_2/myenv/lib/python3.11/site-packages/mlxtend/frequent_patterns/fpcommon.py:109: DeprecationWarning: DataFrames with non-bool types result in worse computationalperformance and their support might be discontinued in the future.Please use a DataFrame with bool type\n",
      "  warnings.warn(\n",
      "/Users/keisukeonoue/ws/lukasiewicz_2/myenv/lib/python3.11/site-packages/mlxtend/frequent_patterns/fpcommon.py:109: DeprecationWarning: DataFrames with non-bool types result in worse computationalperformance and their support might be discontinued in the future.Please use a DataFrame with bool type\n",
      "  warnings.warn(\n",
      "/Users/keisukeonoue/ws/lukasiewicz_2/myenv/lib/python3.11/site-packages/mlxtend/frequent_patterns/fpcommon.py:109: DeprecationWarning: DataFrames with non-bool types result in worse computationalperformance and their support might be discontinued in the future.Please use a DataFrame with bool type\n",
      "  warnings.warn(\n"
     ]
    },
    {
     "name": "stdout",
     "output_type": "stream",
     "text": [
      "fold: 5 of 5\n",
      "fold: 1 of 5\n",
      "fold: 2 of 5\n",
      "fold: 3 of 5\n"
     ]
    },
    {
     "name": "stderr",
     "output_type": "stream",
     "text": [
      "/Users/keisukeonoue/ws/lukasiewicz_2/myenv/lib/python3.11/site-packages/mlxtend/frequent_patterns/fpcommon.py:109: DeprecationWarning: DataFrames with non-bool types result in worse computationalperformance and their support might be discontinued in the future.Please use a DataFrame with bool type\n",
      "  warnings.warn(\n",
      "/Users/keisukeonoue/ws/lukasiewicz_2/myenv/lib/python3.11/site-packages/mlxtend/frequent_patterns/fpcommon.py:109: DeprecationWarning: DataFrames with non-bool types result in worse computationalperformance and their support might be discontinued in the future.Please use a DataFrame with bool type\n",
      "  warnings.warn(\n",
      "/Users/keisukeonoue/ws/lukasiewicz_2/myenv/lib/python3.11/site-packages/mlxtend/frequent_patterns/fpcommon.py:109: DeprecationWarning: DataFrames with non-bool types result in worse computationalperformance and their support might be discontinued in the future.Please use a DataFrame with bool type\n",
      "  warnings.warn(\n",
      "/Users/keisukeonoue/ws/lukasiewicz_2/myenv/lib/python3.11/site-packages/mlxtend/frequent_patterns/fpcommon.py:109: DeprecationWarning: DataFrames with non-bool types result in worse computationalperformance and their support might be discontinued in the future.Please use a DataFrame with bool type\n",
      "  warnings.warn(\n"
     ]
    },
    {
     "name": "stdout",
     "output_type": "stream",
     "text": [
      "fold: 4 of 5\n",
      "fold: 5 of 5\n",
      "fold: 1 of 5\n"
     ]
    },
    {
     "name": "stderr",
     "output_type": "stream",
     "text": [
      "/Users/keisukeonoue/ws/lukasiewicz_2/myenv/lib/python3.11/site-packages/mlxtend/frequent_patterns/fpcommon.py:109: DeprecationWarning: DataFrames with non-bool types result in worse computationalperformance and their support might be discontinued in the future.Please use a DataFrame with bool type\n",
      "  warnings.warn(\n",
      "/Users/keisukeonoue/ws/lukasiewicz_2/myenv/lib/python3.11/site-packages/mlxtend/frequent_patterns/fpcommon.py:109: DeprecationWarning: DataFrames with non-bool types result in worse computationalperformance and their support might be discontinued in the future.Please use a DataFrame with bool type\n",
      "  warnings.warn(\n",
      "/Users/keisukeonoue/ws/lukasiewicz_2/myenv/lib/python3.11/site-packages/mlxtend/frequent_patterns/fpcommon.py:109: DeprecationWarning: DataFrames with non-bool types result in worse computationalperformance and their support might be discontinued in the future.Please use a DataFrame with bool type\n",
      "  warnings.warn(\n"
     ]
    },
    {
     "name": "stdout",
     "output_type": "stream",
     "text": [
      "fold: 2 of 5\n",
      "fold: 3 of 5\n",
      "fold: 4 of 5\n",
      "fold: 5 of 5\n",
      "fold: 1 of 5\n"
     ]
    },
    {
     "name": "stderr",
     "output_type": "stream",
     "text": [
      "/Users/keisukeonoue/ws/lukasiewicz_2/myenv/lib/python3.11/site-packages/mlxtend/frequent_patterns/fpcommon.py:109: DeprecationWarning: DataFrames with non-bool types result in worse computationalperformance and their support might be discontinued in the future.Please use a DataFrame with bool type\n",
      "  warnings.warn(\n",
      "/Users/keisukeonoue/ws/lukasiewicz_2/myenv/lib/python3.11/site-packages/mlxtend/frequent_patterns/fpcommon.py:109: DeprecationWarning: DataFrames with non-bool types result in worse computationalperformance and their support might be discontinued in the future.Please use a DataFrame with bool type\n",
      "  warnings.warn(\n",
      "/Users/keisukeonoue/ws/lukasiewicz_2/myenv/lib/python3.11/site-packages/mlxtend/frequent_patterns/fpcommon.py:109: DeprecationWarning: DataFrames with non-bool types result in worse computationalperformance and their support might be discontinued in the future.Please use a DataFrame with bool type\n",
      "  warnings.warn(\n",
      "/Users/keisukeonoue/ws/lukasiewicz_2/myenv/lib/python3.11/site-packages/mlxtend/frequent_patterns/fpcommon.py:109: DeprecationWarning: DataFrames with non-bool types result in worse computationalperformance and their support might be discontinued in the future.Please use a DataFrame with bool type\n",
      "  warnings.warn(\n",
      "/Users/keisukeonoue/ws/lukasiewicz_2/myenv/lib/python3.11/site-packages/mlxtend/frequent_patterns/fpcommon.py:109: DeprecationWarning: DataFrames with non-bool types result in worse computationalperformance and their support might be discontinued in the future.Please use a DataFrame with bool type\n",
      "  warnings.warn(\n"
     ]
    },
    {
     "name": "stdout",
     "output_type": "stream",
     "text": [
      "fold: 2 of 5\n",
      "fold: 3 of 5\n",
      "fold: 4 of 5\n",
      "fold: 5 of 5\n",
      "fold: 1 of 5\n",
      "fold: 2 of 5\n"
     ]
    },
    {
     "name": "stderr",
     "output_type": "stream",
     "text": [
      "/Users/keisukeonoue/ws/lukasiewicz_2/myenv/lib/python3.11/site-packages/mlxtend/frequent_patterns/fpcommon.py:109: DeprecationWarning: DataFrames with non-bool types result in worse computationalperformance and their support might be discontinued in the future.Please use a DataFrame with bool type\n",
      "  warnings.warn(\n",
      "/Users/keisukeonoue/ws/lukasiewicz_2/myenv/lib/python3.11/site-packages/mlxtend/frequent_patterns/fpcommon.py:109: DeprecationWarning: DataFrames with non-bool types result in worse computationalperformance and their support might be discontinued in the future.Please use a DataFrame with bool type\n",
      "  warnings.warn(\n",
      "/Users/keisukeonoue/ws/lukasiewicz_2/myenv/lib/python3.11/site-packages/mlxtend/frequent_patterns/fpcommon.py:109: DeprecationWarning: DataFrames with non-bool types result in worse computationalperformance and their support might be discontinued in the future.Please use a DataFrame with bool type\n",
      "  warnings.warn(\n",
      "/Users/keisukeonoue/ws/lukasiewicz_2/myenv/lib/python3.11/site-packages/mlxtend/frequent_patterns/fpcommon.py:109: DeprecationWarning: DataFrames with non-bool types result in worse computationalperformance and their support might be discontinued in the future.Please use a DataFrame with bool type\n",
      "  warnings.warn(\n",
      "/Users/keisukeonoue/ws/lukasiewicz_2/myenv/lib/python3.11/site-packages/mlxtend/frequent_patterns/fpcommon.py:109: DeprecationWarning: DataFrames with non-bool types result in worse computationalperformance and their support might be discontinued in the future.Please use a DataFrame with bool type\n",
      "  warnings.warn(\n",
      "/Users/keisukeonoue/ws/lukasiewicz_2/myenv/lib/python3.11/site-packages/mlxtend/frequent_patterns/fpcommon.py:109: DeprecationWarning: DataFrames with non-bool types result in worse computationalperformance and their support might be discontinued in the future.Please use a DataFrame with bool type\n",
      "  warnings.warn(\n"
     ]
    },
    {
     "name": "stdout",
     "output_type": "stream",
     "text": [
      "fold: 3 of 5\n",
      "fold: 4 of 5\n",
      "fold: 5 of 5\n",
      "fold: 1 of 5\n",
      "fold: 2 of 5\n",
      "fold: 3 of 5\n"
     ]
    },
    {
     "name": "stderr",
     "output_type": "stream",
     "text": [
      "/Users/keisukeonoue/ws/lukasiewicz_2/myenv/lib/python3.11/site-packages/mlxtend/frequent_patterns/fpcommon.py:109: DeprecationWarning: DataFrames with non-bool types result in worse computationalperformance and their support might be discontinued in the future.Please use a DataFrame with bool type\n",
      "  warnings.warn(\n",
      "/Users/keisukeonoue/ws/lukasiewicz_2/myenv/lib/python3.11/site-packages/mlxtend/frequent_patterns/fpcommon.py:109: DeprecationWarning: DataFrames with non-bool types result in worse computationalperformance and their support might be discontinued in the future.Please use a DataFrame with bool type\n",
      "  warnings.warn(\n",
      "/Users/keisukeonoue/ws/lukasiewicz_2/myenv/lib/python3.11/site-packages/mlxtend/frequent_patterns/fpcommon.py:109: DeprecationWarning: DataFrames with non-bool types result in worse computationalperformance and their support might be discontinued in the future.Please use a DataFrame with bool type\n",
      "  warnings.warn(\n",
      "/Users/keisukeonoue/ws/lukasiewicz_2/myenv/lib/python3.11/site-packages/mlxtend/frequent_patterns/fpcommon.py:109: DeprecationWarning: DataFrames with non-bool types result in worse computationalperformance and their support might be discontinued in the future.Please use a DataFrame with bool type\n",
      "  warnings.warn(\n",
      "/Users/keisukeonoue/ws/lukasiewicz_2/myenv/lib/python3.11/site-packages/mlxtend/frequent_patterns/fpcommon.py:109: DeprecationWarning: DataFrames with non-bool types result in worse computationalperformance and their support might be discontinued in the future.Please use a DataFrame with bool type\n",
      "  warnings.warn(\n",
      "/Users/keisukeonoue/ws/lukasiewicz_2/myenv/lib/python3.11/site-packages/mlxtend/frequent_patterns/fpcommon.py:109: DeprecationWarning: DataFrames with non-bool types result in worse computationalperformance and their support might be discontinued in the future.Please use a DataFrame with bool type\n",
      "  warnings.warn(\n"
     ]
    },
    {
     "name": "stdout",
     "output_type": "stream",
     "text": [
      "fold: 4 of 5\n",
      "fold: 5 of 5\n",
      "fold: 1 of 5\n",
      "fold: 2 of 5\n",
      "fold: 3 of 5\n",
      "fold: 4 of 5\n",
      "fold: 5 of 5\n",
      "fold: 1 of 5\n",
      "fold: 2 of 5\n",
      "fold: 3 of 5\n",
      "fold: 4 of 5\n",
      "fold: 5 of 5\n",
      "fold: 1 of 5\n",
      "fold: 2 of 5\n",
      "fold: 3 of 5\n",
      "fold: 4 of 5\n"
     ]
    },
    {
     "name": "stderr",
     "output_type": "stream",
     "text": [
      "/Users/keisukeonoue/ws/lukasiewicz_2/myenv/lib/python3.11/site-packages/mlxtend/frequent_patterns/fpcommon.py:109: DeprecationWarning: DataFrames with non-bool types result in worse computationalperformance and their support might be discontinued in the future.Please use a DataFrame with bool type\n",
      "  warnings.warn(\n",
      "/Users/keisukeonoue/ws/lukasiewicz_2/myenv/lib/python3.11/site-packages/mlxtend/frequent_patterns/fpcommon.py:109: DeprecationWarning: DataFrames with non-bool types result in worse computationalperformance and their support might be discontinued in the future.Please use a DataFrame with bool type\n",
      "  warnings.warn(\n",
      "/Users/keisukeonoue/ws/lukasiewicz_2/myenv/lib/python3.11/site-packages/mlxtend/frequent_patterns/fpcommon.py:109: DeprecationWarning: DataFrames with non-bool types result in worse computationalperformance and their support might be discontinued in the future.Please use a DataFrame with bool type\n",
      "  warnings.warn(\n",
      "/Users/keisukeonoue/ws/lukasiewicz_2/myenv/lib/python3.11/site-packages/mlxtend/frequent_patterns/fpcommon.py:109: DeprecationWarning: DataFrames with non-bool types result in worse computationalperformance and their support might be discontinued in the future.Please use a DataFrame with bool type\n",
      "  warnings.warn(\n",
      "/Users/keisukeonoue/ws/lukasiewicz_2/myenv/lib/python3.11/site-packages/mlxtend/frequent_patterns/fpcommon.py:109: DeprecationWarning: DataFrames with non-bool types result in worse computationalperformance and their support might be discontinued in the future.Please use a DataFrame with bool type\n",
      "  warnings.warn(\n",
      "/Users/keisukeonoue/ws/lukasiewicz_2/myenv/lib/python3.11/site-packages/mlxtend/frequent_patterns/fpcommon.py:109: DeprecationWarning: DataFrames with non-bool types result in worse computationalperformance and their support might be discontinued in the future.Please use a DataFrame with bool type\n",
      "  warnings.warn(\n",
      "/Users/keisukeonoue/ws/lukasiewicz_2/myenv/lib/python3.11/site-packages/mlxtend/frequent_patterns/fpcommon.py:109: DeprecationWarning: DataFrames with non-bool types result in worse computationalperformance and their support might be discontinued in the future.Please use a DataFrame with bool type\n",
      "  warnings.warn(\n",
      "/Users/keisukeonoue/ws/lukasiewicz_2/myenv/lib/python3.11/site-packages/mlxtend/frequent_patterns/fpcommon.py:109: DeprecationWarning: DataFrames with non-bool types result in worse computationalperformance and their support might be discontinued in the future.Please use a DataFrame with bool type\n",
      "  warnings.warn(\n",
      "/Users/keisukeonoue/ws/lukasiewicz_2/myenv/lib/python3.11/site-packages/mlxtend/frequent_patterns/fpcommon.py:109: DeprecationWarning: DataFrames with non-bool types result in worse computationalperformance and their support might be discontinued in the future.Please use a DataFrame with bool type\n",
      "  warnings.warn(\n",
      "/Users/keisukeonoue/ws/lukasiewicz_2/myenv/lib/python3.11/site-packages/mlxtend/frequent_patterns/fpcommon.py:109: DeprecationWarning: DataFrames with non-bool types result in worse computationalperformance and their support might be discontinued in the future.Please use a DataFrame with bool type\n",
      "  warnings.warn(\n",
      "/Users/keisukeonoue/ws/lukasiewicz_2/myenv/lib/python3.11/site-packages/mlxtend/frequent_patterns/fpcommon.py:109: DeprecationWarning: DataFrames with non-bool types result in worse computationalperformance and their support might be discontinued in the future.Please use a DataFrame with bool type\n",
      "  warnings.warn(\n",
      "/Users/keisukeonoue/ws/lukasiewicz_2/myenv/lib/python3.11/site-packages/mlxtend/frequent_patterns/fpcommon.py:109: DeprecationWarning: DataFrames with non-bool types result in worse computationalperformance and their support might be discontinued in the future.Please use a DataFrame with bool type\n",
      "  warnings.warn(\n",
      "/Users/keisukeonoue/ws/lukasiewicz_2/myenv/lib/python3.11/site-packages/mlxtend/frequent_patterns/fpcommon.py:109: DeprecationWarning: DataFrames with non-bool types result in worse computationalperformance and their support might be discontinued in the future.Please use a DataFrame with bool type\n",
      "  warnings.warn(\n",
      "/Users/keisukeonoue/ws/lukasiewicz_2/myenv/lib/python3.11/site-packages/mlxtend/frequent_patterns/fpcommon.py:109: DeprecationWarning: DataFrames with non-bool types result in worse computationalperformance and their support might be discontinued in the future.Please use a DataFrame with bool type\n",
      "  warnings.warn(\n",
      "/Users/keisukeonoue/ws/lukasiewicz_2/myenv/lib/python3.11/site-packages/mlxtend/frequent_patterns/fpcommon.py:109: DeprecationWarning: DataFrames with non-bool types result in worse computationalperformance and their support might be discontinued in the future.Please use a DataFrame with bool type\n",
      "  warnings.warn(\n",
      "/Users/keisukeonoue/ws/lukasiewicz_2/myenv/lib/python3.11/site-packages/mlxtend/frequent_patterns/fpcommon.py:109: DeprecationWarning: DataFrames with non-bool types result in worse computationalperformance and their support might be discontinued in the future.Please use a DataFrame with bool type\n",
      "  warnings.warn(\n"
     ]
    },
    {
     "name": "stdout",
     "output_type": "stream",
     "text": [
      "fold: 5 of 5\n",
      "fold: 1 of 5\n",
      "fold: 2 of 5\n",
      "fold: 3 of 5\n",
      "fold: 4 of 5\n",
      "fold: 5 of 5\n"
     ]
    },
    {
     "name": "stderr",
     "output_type": "stream",
     "text": [
      "/Users/keisukeonoue/ws/lukasiewicz_2/myenv/lib/python3.11/site-packages/mlxtend/frequent_patterns/fpcommon.py:109: DeprecationWarning: DataFrames with non-bool types result in worse computationalperformance and their support might be discontinued in the future.Please use a DataFrame with bool type\n",
      "  warnings.warn(\n",
      "/Users/keisukeonoue/ws/lukasiewicz_2/myenv/lib/python3.11/site-packages/mlxtend/frequent_patterns/fpcommon.py:109: DeprecationWarning: DataFrames with non-bool types result in worse computationalperformance and their support might be discontinued in the future.Please use a DataFrame with bool type\n",
      "  warnings.warn(\n",
      "/Users/keisukeonoue/ws/lukasiewicz_2/myenv/lib/python3.11/site-packages/mlxtend/frequent_patterns/fpcommon.py:109: DeprecationWarning: DataFrames with non-bool types result in worse computationalperformance and their support might be discontinued in the future.Please use a DataFrame with bool type\n",
      "  warnings.warn(\n",
      "/Users/keisukeonoue/ws/lukasiewicz_2/myenv/lib/python3.11/site-packages/mlxtend/frequent_patterns/fpcommon.py:109: DeprecationWarning: DataFrames with non-bool types result in worse computationalperformance and their support might be discontinued in the future.Please use a DataFrame with bool type\n",
      "  warnings.warn(\n",
      "/Users/keisukeonoue/ws/lukasiewicz_2/myenv/lib/python3.11/site-packages/mlxtend/frequent_patterns/fpcommon.py:109: DeprecationWarning: DataFrames with non-bool types result in worse computationalperformance and their support might be discontinued in the future.Please use a DataFrame with bool type\n",
      "  warnings.warn(\n",
      "/Users/keisukeonoue/ws/lukasiewicz_2/myenv/lib/python3.11/site-packages/mlxtend/frequent_patterns/fpcommon.py:109: DeprecationWarning: DataFrames with non-bool types result in worse computationalperformance and their support might be discontinued in the future.Please use a DataFrame with bool type\n",
      "  warnings.warn(\n"
     ]
    }
   ],
   "source": [
    "import sys\n",
    "project_dir_path = \"/Users/keisukeonoue/ws/lukasiewicz_2\"\n",
    "sys.path.append(project_dir_path)\n",
    "\n",
    "import os\n",
    "\n",
    "import pandas as pd\n",
    "from sklearn.model_selection import KFold\n",
    "\n",
    "from src.association_rule import get_rules\n",
    "from src.association_rule import ArrangeRules\n",
    "\n",
    "\n",
    "data_dir_path = os.path.join(project_dir_path, \"data/pima_indian_diabetes\")\n",
    "file_path_2 = os.path.join(data_dir_path, \"diabetes_discretized.csv\")\n",
    "\n",
    "df_origin_2 = pd.read_csv(file_path_2, index_col=0).reset_index(drop=True)\n",
    "feature_names = df_origin_2.columns.drop(['Outcome']).to_list()\n",
    "conclusion_name = 'Outcome'\n",
    "\n",
    "rules_df_kf_list = []\n",
    "KB_origin_kf_list = []\n",
    "rule_info_list = []\n",
    "\n",
    "for min_threshold in [i / 10 for i in range(10)]:\n",
    "\n",
    "    rules_df_kf = []\n",
    "    KB_origin_kf = []\n",
    "\n",
    "    result_dict = {}\n",
    "    result_dict['all'] = []\n",
    "    result_dict['→ target'] = []\n",
    "    result_dict['→ (target, something)'] = []\n",
    "    result_dict['all (decomposed)'] = []\n",
    "    result_dict['→ target (decomposed)'] = []\n",
    "\n",
    "    kf = KFold(n_splits=5)\n",
    "    for i, (train_idx, test_idx) in enumerate(kf.split(df_origin_2)):\n",
    "        print(f\"fold: {i+1} of 5\")\n",
    "\n",
    "        rules_df = get_rules(\n",
    "            df_origin_2.copy().iloc[train_idx], \n",
    "            min_threshold=min_threshold,\n",
    "            conclusion_name='Outcome'\n",
    "        )\n",
    "        # rules_df = rules_df[(rules_df['lift'] - 1).abs() > settings['rule_thr']]\n",
    "\n",
    "        rule_processor = ArrangeRules(\n",
    "            rules_df,\n",
    "            feature_names=feature_names,\n",
    "            conclusion_name=conclusion_name,\n",
    "        )\n",
    "        KB_origin = rule_processor.construct_KB()\n",
    "\n",
    "        result_dict['all'].append(rules_df.shape[0])\n",
    "\n",
    "        cnt1 = 0\n",
    "        cnt2 = 0\n",
    "        for consequent in rules_df['consequents']:\n",
    "            tmp = [item for item in consequent]\n",
    "            if \"Outcome\" in tmp:\n",
    "                if len(tmp) == 1:\n",
    "                    cnt1 += 1\n",
    "                else:\n",
    "                    cnt2 += 1\n",
    "            \n",
    "        result_dict['→ target'].append(cnt1)\n",
    "        result_dict['→ (target, something)'].append(cnt2)\n",
    "        result_dict['all (decomposed)'].append(len(KB_origin))\n",
    "        result_dict['→ target (decomposed)'].append(cnt1 + cnt2)\n",
    "\n",
    "        rules_df_kf.append(rules_df)\n",
    "        KB_origin_kf.append(KB_origin)\n",
    "\n",
    "    rules_df_kf_list.append(rules_df_kf)\n",
    "    KB_origin_kf_list.append(KB_origin_kf)\n",
    "    rule_info_list.append(result_dict)\n"
   ]
  },
  {
   "cell_type": "markdown",
   "metadata": {},
   "source": [
    "all                  : 全ルール数\n",
    "\n",
    "→ target             : consequents が正解ラベルのみのルールの数\n",
    "\n",
    "→ (target, something): consequents が複数項目かつ正解ラベルを含むようなルールの数\n",
    "\n",
    "all (decomposed)     : consequents を１つずつに分解した際のルール数\n",
    "\n",
    "→ target (decomposed): 分解後の consequents が正解ラベルのルールの数\n",
    "\n",
    "※ 注意： 各項目ごとに値が5個ずつ存在し，これは実際の実験の際に KFold でデータを5分割するためである．\n",
    "\n",
    "---\n",
    "\n",
    "- confidence を閾値として動かした際の上記項目の値の変化 を見たところ，confidence が 0.8 以上で，'→ target (decomposed)' の値が，0 になった．\n",
    "- '→ target (decomposed)' の値が 0 だと，学習させた予測モデルが予測の際に与えたルールを守るかを調べることが難しくなるので，今回の実験において，ルール採用の閾値としての confidence の値は 0.0 ~ 0.7 の間とする．\n"
   ]
  },
  {
   "cell_type": "code",
   "execution_count": 12,
   "metadata": {},
   "outputs": [
    {
     "name": "stdout",
     "output_type": "stream",
     "text": [
      "confidence 0.0: {'all': [1880, 1816, 1656, 1688, 1770], '→ target': [24, 22, 21, 25, 24], '→ (target, something)': [24, 22, 18, 26, 24], 'all (decomposed)': [3504, 3328, 2974, 3040, 3198], '→ target (decomposed)': [48, 44, 39, 51, 48]}\n",
      "confidence 0.1: {'all': [1880, 1816, 1656, 1688, 1770], '→ target': [24, 22, 21, 25, 24], '→ (target, something)': [24, 22, 18, 26, 24], 'all (decomposed)': [3504, 3328, 2974, 3040, 3198], '→ target (decomposed)': [48, 44, 39, 51, 48]}\n",
      "confidence 0.2: {'all': [1704, 1639, 1490, 1536, 1605], '→ target': [24, 21, 21, 25, 24], '→ (target, something)': [8, 7, 4, 14, 9], 'all (decomposed)': [2996, 2829, 2521, 2615, 2738], '→ target (decomposed)': [32, 28, 25, 39, 33]}\n",
      "confidence 0.3: {'all': [1331, 1289, 1185, 1211, 1265], '→ target': [15, 13, 12, 20, 15], '→ (target, something)': [0, 0, 0, 1, 0], 'all (decomposed)': [2098, 2011, 1819, 1849, 1945], '→ target (decomposed)': [15, 13, 12, 21, 15]}\n",
      "confidence 0.4: {'all': [973, 911, 840, 862, 912], '→ target': [3, 4, 3, 7, 6], '→ (target, something)': [0, 0, 0, 1, 0], 'all (decomposed)': [1340, 1217, 1111, 1140, 1225], '→ target (decomposed)': [3, 4, 3, 8, 6]}\n",
      "confidence 0.5: {'all': [718, 685, 619, 626, 659], '→ target': [1, 2, 1, 3, 1], '→ (target, something)': [0, 0, 0, 1, 0], 'all (decomposed)': [887, 824, 728, 742, 786], '→ target (decomposed)': [1, 2, 1, 4, 1]}\n",
      "confidence 0.6: {'all': [457, 432, 388, 384, 429], '→ target': [1, 1, 1, 2, 1], '→ (target, something)': [0, 0, 0, 0, 0], 'all (decomposed)': [494, 456, 408, 406, 458], '→ target (decomposed)': [1, 1, 1, 2, 1]}\n",
      "confidence 0.7: {'all': [155, 136, 119, 123, 164], '→ target': [1, 1, 1, 2, 1], '→ (target, something)': [0, 0, 0, 0, 0], 'all (decomposed)': [163, 144, 127, 131, 172], '→ target (decomposed)': [1, 1, 1, 2, 1]}\n",
      "confidence 0.8: {'all': [89, 81, 62, 64, 69], '→ target': [0, 0, 0, 0, 0], '→ (target, something)': [0, 0, 0, 0, 0], 'all (decomposed)': [97, 89, 69, 71, 76], '→ target (decomposed)': [0, 0, 0, 0, 0]}\n",
      "confidence 0.9: {'all': [16, 14, 9, 7, 10], '→ target': [0, 0, 0, 0, 0], '→ (target, something)': [0, 0, 0, 0, 0], 'all (decomposed)': [23, 21, 16, 14, 17], '→ target (decomposed)': [0, 0, 0, 0, 0]}\n"
     ]
    }
   ],
   "source": [
    "for thr, info in zip([i/10 for i in range(10)], rule_info_list):\n",
    "    print(f'confidence {thr}: {info}')"
   ]
  },
  {
   "cell_type": "code",
   "execution_count": null,
   "metadata": {},
   "outputs": [],
   "source": []
  },
  {
   "cell_type": "code",
   "execution_count": null,
   "metadata": {},
   "outputs": [],
   "source": []
  }
 ],
 "metadata": {
  "kernelspec": {
   "display_name": "myenv",
   "language": "python",
   "name": "python3"
  },
  "language_info": {
   "codemirror_mode": {
    "name": "ipython",
    "version": 3
   },
   "file_extension": ".py",
   "mimetype": "text/x-python",
   "name": "python",
   "nbconvert_exporter": "python",
   "pygments_lexer": "ipython3",
   "version": "3.11.6"
  }
 },
 "nbformat": 4,
 "nbformat_minor": 2
}
