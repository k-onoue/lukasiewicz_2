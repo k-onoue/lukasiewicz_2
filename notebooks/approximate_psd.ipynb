{
 "cells": [
  {
   "cell_type": "markdown",
   "metadata": {},
   "source": [
    "半定値対称行列の近似\n",
    "\n",
    "https://www.sciencedirect.com/science/article/pii/0024379588902236\n",
    "\n",
    "数値計算的に上手く行かないことがある"
   ]
  },
  {
   "cell_type": "code",
   "execution_count": 1,
   "metadata": {},
   "outputs": [],
   "source": [
    "import numpy as np\n",
    "from scipy.linalg import polar\n",
    "\n",
    "def get_nearest_psd(A: np.ndarray) -> np.ndarray:\n",
    "    \n",
    "    B = .5 * (A.T + A)\n",
    "    _, H = polar(B)\n",
    "    return (B + H) / 2\n",
    "\n",
    "\n",
    "def get_near_psd(A):\n",
    "    C = (A + A.T)/2\n",
    "    eigval, eigvec = np.linalg.eig(C)\n",
    "    # eigval[eigval < 0] = 0\n",
    "    eigval[eigval <= 0] = eigval.mean() * 1e-6\n",
    "\n",
    "    return eigvec.dot(np.diag(eigval)).dot(eigvec.T)"
   ]
  },
  {
   "cell_type": "code",
   "execution_count": 2,
   "metadata": {},
   "outputs": [
    {
     "data": {
      "text/plain": [
       "array([[0.02254727, 0.45566756, 0.04767052, 0.05121898, 0.49980294,\n",
       "        0.        , 0.08576551, 0.49308075, 0.        , 0.32646319],\n",
       "       [0.45566756, 0.44197871, 0.26819455, 0.11958827, 0.44970108,\n",
       "        0.        , 0.        , 0.28706361, 0.71767919, 0.32366705],\n",
       "       [0.04767052, 0.26819455, 0.        , 0.32314993, 0.49520799,\n",
       "        0.22555837, 0.28376459, 0.        , 0.48892996, 0.26509313],\n",
       "       [0.05121898, 0.11958827, 0.32314993, 0.        , 0.52157955,\n",
       "        0.41661257, 0.46859083, 0.        , 0.23749702, 0.39289863],\n",
       "       [0.49980294, 0.44970108, 0.49520799, 0.52157955, 0.74849213,\n",
       "        0.        , 0.        , 0.36167288, 0.41634854, 0.15946084],\n",
       "       [0.        , 0.        , 0.22555837, 0.41661257, 0.        ,\n",
       "        0.        , 0.44288885, 0.        , 0.71429045, 0.        ],\n",
       "       [0.08576551, 0.        , 0.28376459, 0.46859083, 0.        ,\n",
       "        0.44288885, 0.        , 0.40235861, 0.        , 0.10579244],\n",
       "       [0.49308075, 0.28706361, 0.        , 0.        , 0.36167288,\n",
       "        0.        , 0.40235861, 0.51540494, 0.42319402, 0.13282858],\n",
       "       [0.        , 0.71767919, 0.48892996, 0.23749702, 0.41634854,\n",
       "        0.71429045, 0.        , 0.42319402, 0.304059  , 0.34274309],\n",
       "       [0.32646319, 0.32366705, 0.26509313, 0.39289863, 0.15946084,\n",
       "        0.        , 0.10579244, 0.13282858, 0.34274309, 0.        ]])"
      ]
     },
     "metadata": {},
     "output_type": "display_data"
    },
    {
     "name": "stdout",
     "output_type": "stream",
     "text": [
      "[ 2.74680496  0.92786102 -1.06023685 -0.82249094  0.57170867  0.50011447\n",
      "  0.11791047 -0.41794627 -0.25136608 -0.2798774 ]\n",
      "\n",
      "Is this definite?: False\n"
     ]
    }
   ],
   "source": [
    "\"\"\"\n",
    "不定値な対称行列の生成\n",
    "\"\"\"\n",
    "\n",
    "shape = 10, 10\n",
    "\n",
    "# ランダムな正方行列の生成\n",
    "A = np.random.rand(shape[0], shape[1])\n",
    "\n",
    "# ランダムで対角成分を0にする\n",
    "mask = np.random.choice([True, False], size=A.shape, p=[0.5, 0.5])\n",
    "A *= mask\n",
    "\n",
    "# 対称行列にする\n",
    "A = 0.5 * (A + A.T)\n",
    "\n",
    "display(A)\n",
    "\n",
    "# 固有値の計算\n",
    "eigenvalues = np.linalg.eigvals(A)\n",
    "print(eigenvalues)\n",
    "print()\n",
    "\n",
    "# 定値性のチェック\n",
    "res = eigenvalues.min() >= 0 or eigenvalues.max() <= 0\n",
    "print(f'Is this definite?: {res}')"
   ]
  },
  {
   "cell_type": "code",
   "execution_count": 3,
   "metadata": {},
   "outputs": [
    {
     "data": {
      "text/plain": [
       "array([[ 0.31976747,  0.23614047, -0.03346853,  0.2259664 ,  0.01257394,\n",
       "         0.16450718,  0.13398861,  0.12803958,  0.55047083,  0.18620041],\n",
       "       [ 0.23614047,  0.59258324,  0.10181174,  0.05080365,  0.08509429,\n",
       "         0.06018924,  0.18133221,  0.46108997,  0.48721009,  0.03216106],\n",
       "       [-0.03346853,  0.10181174,  1.07159783,  0.08068603,  0.24339981,\n",
       "         0.3722805 ,  0.41832862,  0.30768783,  0.08382433,  0.31232192],\n",
       "       [ 0.2259664 ,  0.05080365,  0.08068603,  0.87491065,  0.2784234 ,\n",
       "         0.02529412,  0.30287577, -0.05324453,  0.04944221,  0.21675224],\n",
       "       [ 0.01257394,  0.08509429,  0.24339981,  0.2784234 ,  0.97793387,\n",
       "         0.13281173,  0.06763179,  0.03624175,  0.00425346,  0.03122408],\n",
       "       [ 0.16450718,  0.06018924,  0.3722805 ,  0.02529412,  0.13281173,\n",
       "         0.32942312,  0.1743503 ,  0.0890508 ,  0.42231723,  0.25548329],\n",
       "       [ 0.13398861,  0.18133221,  0.41832862,  0.30287577,  0.06763179,\n",
       "         0.1743503 ,  0.30649254,  0.18437722,  0.20481335,  0.21370553],\n",
       "       [ 0.12803958,  0.46108997,  0.30768783, -0.05324453,  0.03624175,\n",
       "         0.0890508 ,  0.18437722,  0.44100726,  0.3343626 ,  0.051839  ],\n",
       "       [ 0.55047083,  0.48721009,  0.08382433,  0.04944221,  0.00425346,\n",
       "         0.42231723,  0.20481335,  0.3343626 ,  1.15868117,  0.33964066],\n",
       "       [ 0.18620041,  0.03216106,  0.31232192,  0.21675224,  0.03122408,\n",
       "         0.25548329,  0.21370553,  0.051839  ,  0.33964066,  0.26800281]])"
      ]
     },
     "metadata": {},
     "output_type": "display_data"
    },
    {
     "name": "stdout",
     "output_type": "stream",
     "text": [
      "[ 2.44985532e+00  1.40097748e+00  1.04937725e+00  7.90924768e-01\n",
      "  6.24592742e-01  2.46723963e-02  6.48544597e-16 -4.75254529e-16\n",
      " -1.16029668e-16 -1.70273613e-16]\n",
      "\n",
      "Is this definite?: False\n"
     ]
    }
   ],
   "source": [
    "\"\"\" \n",
    "不定値対称行列を半正定値対称行列で近似\n",
    "\n",
    "上手く行っていないが原因は不明\n",
    "\"\"\"\n",
    "\n",
    "B = get_nearest_psd(A)\n",
    "display(B)\n",
    "\n",
    "# 固有値の計算\n",
    "eigenvalues = np.linalg.eigvals(B)\n",
    "print(eigenvalues)\n",
    "print()\n",
    "\n",
    "# 定値性のチェック\n",
    "res = eigenvalues.min() >= 0 or eigenvalues.max() <= 0\n",
    "print(f'Is this definite?: {res}')"
   ]
  },
  {
   "cell_type": "code",
   "execution_count": 16,
   "metadata": {},
   "outputs": [
    {
     "data": {
      "text/plain": [
       "array([[ 0.31976777,  0.23614048, -0.0334685 ,  0.22596632,  0.01257395,\n",
       "         0.1645072 ,  0.13398867,  0.12803953,  0.5504707 ,  0.18620035],\n",
       "       [ 0.23614048,  0.59258338,  0.10181178,  0.05080366,  0.08509427,\n",
       "         0.06018925,  0.18133208,  0.46108987,  0.48721004,  0.03216114],\n",
       "       [-0.0334685 ,  0.10181178,  1.07159792,  0.08068605,  0.2433998 ,\n",
       "         0.37228045,  0.41832857,  0.30768772,  0.08382438,  0.31232184],\n",
       "       [ 0.22596632,  0.05080366,  0.08068605,  0.87491072,  0.27842338,\n",
       "         0.02529419,  0.3028757 , -0.05324452,  0.04944225,  0.21675218],\n",
       "       [ 0.01257395,  0.08509427,  0.2433998 ,  0.27842338,  0.97793388,\n",
       "         0.13281169,  0.06763183,  0.03624176,  0.00425346,  0.03122411],\n",
       "       [ 0.1645072 ,  0.06018925,  0.37228045,  0.02529419,  0.13281169,\n",
       "         0.32942338,  0.17435021,  0.08905091,  0.42231713,  0.25548323],\n",
       "       [ 0.13398867,  0.18133208,  0.41832857,  0.3028757 ,  0.06763183,\n",
       "         0.17435021,  0.30649272,  0.18437729,  0.20481337,  0.21370552],\n",
       "       [ 0.12803953,  0.46108987,  0.30768772, -0.05324452,  0.03624176,\n",
       "         0.08905091,  0.18437729,  0.44100743,  0.33436258,  0.05183902],\n",
       "       [ 0.5504707 ,  0.48721004,  0.08382438,  0.04944225,  0.00425346,\n",
       "         0.42231713,  0.20481337,  0.33436258,  1.15868131,  0.33964059],\n",
       "       [ 0.18620035,  0.03216114,  0.31232184,  0.21675218,  0.03122411,\n",
       "         0.25548323,  0.21370552,  0.05183902,  0.33964059,  0.26800314]])"
      ]
     },
     "metadata": {},
     "output_type": "display_data"
    },
    {
     "name": "stdout",
     "output_type": "stream",
     "text": [
      "[2.44985532e+00 1.40097748e+00 1.04937725e+00 7.90924768e-01\n",
      " 6.24592742e-01 2.46723963e-02 4.21950140e-07 4.21950141e-07\n",
      " 4.21950140e-07 4.21950141e-07]\n",
      "\n",
      "Is this definite?: True\n"
     ]
    }
   ],
   "source": [
    "\"\"\" \n",
    "不定値対称行列を半正定値対称行列で近似\n",
    "\"\"\"\n",
    "\n",
    "C = get_near_psd(A)\n",
    "display(C)\n",
    "\n",
    "# 固有値の計算\n",
    "eigenvalues = np.linalg.eigvals(C)\n",
    "print(eigenvalues)\n",
    "print()\n",
    "\n",
    "# 定値性のチェック\n",
    "res = eigenvalues.min() >= 0 or eigenvalues.max() <= 0\n",
    "print(f'Is this definite?: {res}')"
   ]
  },
  {
   "cell_type": "code",
   "execution_count": 17,
   "metadata": {},
   "outputs": [
    {
     "data": {
      "text/plain": [
       "(0.3294233831149184, 0.3294231222991535, 3.2843139935456733e-07)"
      ]
     },
     "execution_count": 17,
     "metadata": {},
     "output_type": "execute_result"
    }
   ],
   "source": [
    "abs(A - C).max(), abs(A - B).max(), abs(B - C).max()"
   ]
  },
  {
   "cell_type": "code",
   "execution_count": 18,
   "metadata": {},
   "outputs": [
    {
     "data": {
      "text/plain": [
       "(0.08826816022090983, 0.08826810331295437, 6.151452228352234e-08)"
      ]
     },
     "execution_count": 18,
     "metadata": {},
     "output_type": "execute_result"
    }
   ],
   "source": [
    "abs(A - C).mean(), abs(A - B).mean(), abs(B - C).mean()"
   ]
  },
  {
   "cell_type": "code",
   "execution_count": 19,
   "metadata": {},
   "outputs": [
    {
     "data": {
      "text/plain": [
       "(0.2255175567801451, 0.22828972392219365, 0.22828972553188154)"
      ]
     },
     "execution_count": 19,
     "metadata": {},
     "output_type": "execute_result"
    }
   ],
   "source": [
    "A.mean(), B.mean(), C.mean()"
   ]
  },
  {
   "cell_type": "code",
   "execution_count": null,
   "metadata": {},
   "outputs": [],
   "source": []
  },
  {
   "cell_type": "code",
   "execution_count": 4,
   "metadata": {},
   "outputs": [
    {
     "data": {
      "text/plain": [
       "array([ 2.74680496,  0.92786102, -1.06023685, -0.82249094,  0.57170867,\n",
       "        0.50011447,  0.11791047, -0.41794627, -0.25136608, -0.2798774 ])"
      ]
     },
     "execution_count": 4,
     "metadata": {},
     "output_type": "execute_result"
    }
   ],
   "source": [
    "np.linalg.eigvals(A)"
   ]
  },
  {
   "cell_type": "code",
   "execution_count": null,
   "metadata": {},
   "outputs": [],
   "source": []
  },
  {
   "cell_type": "code",
   "execution_count": null,
   "metadata": {},
   "outputs": [],
   "source": [
    "# def _is_semi_definite(matrix: np.ndarray) -> bool:\n",
    "def _is_negative_semi_definite(matrix: np.ndarray) -> bool:\n",
    "    eig_vals = np.linalg.eigvals(matrix)\n",
    "        \n",
    "    # if np.all(eig_vals >= 0) or np.all(eig_vals <= 0):\n",
    "    if np.all(eig_vals <= 0):\n",
    "        return True\n",
    "    else:\n",
    "        return False\n",
    "\n",
    "    \n",
    "def get_near_nsd_matrix(A: np.ndarray) -> np.ndarray:\n",
    "    if _is_negative_semi_definite(A):\n",
    "        return A\n",
    "    else:\n",
    "        B = (A + A.T)/2\n",
    "        eigval, eigvec = np.linalg.eig(B)\n",
    "        # eigval[eigval < 0] = 0\n",
    "        eigval[eigval >= 0] = - eigval.mean() * 1e-6\n",
    "        return eigvec.dot(np.diag(eigval)).dot(eigvec.T)"
   ]
  },
  {
   "cell_type": "code",
   "execution_count": 6,
   "metadata": {},
   "outputs": [],
   "source": [
    "def _is_positive_semi_definite(matrix: np.ndarray) -> bool:\n",
    "    eig_vals = np.linalg.eigvals(matrix)\n",
    "        \n",
    "    if np.all(eig_vals >= 0):\n",
    "        return True\n",
    "    else:\n",
    "        return False\n",
    "\n",
    "def get_near_psd_matrix(A: np.ndarray) -> np.ndarray:\n",
    "    if _is_positive_semi_definite(A):\n",
    "        return A\n",
    "    else:\n",
    "        B = (A + A.T) / 2\n",
    "        eigval, eigvec = np.linalg.eig(B)\n",
    "        eigval[eigval <= 0] = eigval.mean() * 1e-6\n",
    "        return eigvec.dot(np.diag(eigval)).dot(eigvec.T)"
   ]
  },
  {
   "cell_type": "code",
   "execution_count": 8,
   "metadata": {},
   "outputs": [
    {
     "data": {
      "text/plain": [
       "array([ 2.74680496,  0.92786102, -1.06023685, -0.82249094,  0.57170867,\n",
       "        0.50011447,  0.11791047, -0.41794627, -0.25136608, -0.2798774 ])"
      ]
     },
     "execution_count": 8,
     "metadata": {},
     "output_type": "execute_result"
    }
   ],
   "source": [
    "np.linalg.eigvals(A)"
   ]
  },
  {
   "cell_type": "code",
   "execution_count": 10,
   "metadata": {},
   "outputs": [
    {
     "data": {
      "text/plain": [
       "array([2.74680496e+00+0.00000000e+00j, 9.27861024e-01+0.00000000e+00j,\n",
       "       5.71708670e-01+0.00000000e+00j, 5.00114466e-01+0.00000000e+00j,\n",
       "       1.17910472e-01+0.00000000e+00j, 2.03248206e-07+0.00000000e+00j,\n",
       "       2.03248206e-07+0.00000000e+00j, 2.03248206e-07+5.19402403e-17j,\n",
       "       2.03248206e-07-5.19402403e-17j, 2.03248206e-07+0.00000000e+00j])"
      ]
     },
     "execution_count": 10,
     "metadata": {},
     "output_type": "execute_result"
    }
   ],
   "source": [
    "H = get_near_psd_matrix(A)\n",
    "np.linalg.eigvals(H)"
   ]
  },
  {
   "cell_type": "code",
   "execution_count": 11,
   "metadata": {},
   "outputs": [
    {
     "data": {
      "text/plain": [
       "array([-2.74680496e+00+0.00000000e+00j, -9.27861024e-01+0.00000000e+00j,\n",
       "       -5.71708670e-01+0.00000000e+00j, -5.00114466e-01+0.00000000e+00j,\n",
       "       -1.17910472e-01+0.00000000e+00j, -2.03248206e-07+0.00000000e+00j,\n",
       "       -2.03248206e-07+0.00000000e+00j, -2.03248206e-07+5.19402403e-17j,\n",
       "       -2.03248206e-07-5.19402403e-17j, -2.03248206e-07+0.00000000e+00j])"
      ]
     },
     "execution_count": 11,
     "metadata": {},
     "output_type": "execute_result"
    }
   ],
   "source": [
    "np.linalg.eigvals(- H)"
   ]
  }
 ],
 "metadata": {
  "kernelspec": {
   "display_name": "myenv",
   "language": "python",
   "name": "python3"
  },
  "language_info": {
   "codemirror_mode": {
    "name": "ipython",
    "version": 3
   },
   "file_extension": ".py",
   "mimetype": "text/x-python",
   "name": "python",
   "nbconvert_exporter": "python",
   "pygments_lexer": "ipython3",
   "version": "3.11.6"
  }
 },
 "nbformat": 4,
 "nbformat_minor": 2
}
