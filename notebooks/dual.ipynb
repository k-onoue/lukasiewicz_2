{
 "cells": [
  {
   "cell_type": "code",
   "execution_count": 1,
   "metadata": {},
   "outputs": [],
   "source": [
    "%load_ext autoreload\n",
    "%autoreload 2"
   ]
  },
  {
   "cell_type": "code",
   "execution_count": 2,
   "metadata": {},
   "outputs": [],
   "source": [
    "import os\n",
    "import sys\n",
    "\n",
    "project_dir_path = '/Users/keisukeonoue/ws/lukasiewicz_1'\n",
    "sys.path.append(project_dir_path)\n",
    "\n",
    "import cvxpy as cp\n",
    "import numpy as np\n",
    "import pandas as pd \n",
    "\n",
    "from src.setup_problem_dual_single_task import Setup\n",
    "\n",
    "from src.objective_function_single_task import ObjectiveFunction\n",
    "from src.predicate import Predicate_dual"
   ]
  },
  {
   "cell_type": "code",
   "execution_count": 3,
   "metadata": {},
   "outputs": [],
   "source": [
    "data_dir_path = os.path.join(project_dir_path, 'inputs/pima_indian_diabetes_3/')\n",
    "train_data_dir_path = os.path.join(data_dir_path, \"train\")\n",
    "file_list = os.listdir(train_data_dir_path)\n",
    "\n",
    "L_files = [filename for filename in file_list \n",
    "           if filename.startswith('L') and filename.endswith('.csv')]\n",
    "\n",
    "U_files = [filename for filename in file_list \n",
    "           if filename.startswith('U') and filename.endswith('.csv')]\n",
    "\n",
    "file_names_dict = {\n",
    "    'supervised': L_files,\n",
    "    'unsupervised': U_files,\n",
    "    'rule': ['rules_3.txt']\n",
    "}\n",
    "\n",
    "train_data_dir_path = os.path.join(data_dir_path, \"train\")"
   ]
  },
  {
   "cell_type": "code",
   "execution_count": 4,
   "metadata": {},
   "outputs": [
    {
     "data": {
      "text/plain": [
       "'/Users/keisukeonoue/ws/lukasiewicz_1/inputs/pima_indian_diabetes_3/test/L_Outcome.csv'"
      ]
     },
     "execution_count": 4,
     "metadata": {},
     "output_type": "execute_result"
    }
   ],
   "source": [
    "train_data_file_path = os.path.join(data_dir_path, \"test/L_Outcome.csv\")\n",
    "train_data_file_path"
   ]
  },
  {
   "cell_type": "code",
   "execution_count": 13,
   "metadata": {},
   "outputs": [
    {
     "name": "stdout",
     "output_type": "stream",
     "text": [
      "load_data took 0.04875302314758301 seconds!\n",
      "load_rules took 0.011752843856811523 seconds!\n",
      "formulate_predicates_with_cvxpy took 8.606910705566406e-05 seconds!\n",
      "shape of P: (1807, 1807)\n",
      "finish l\n",
      "finish h\n",
      "finish s\n",
      "finish l h\n",
      "finish l s\n",
      "finish h s\n",
      "_construct_P_j took 1.0839200019836426 seconds!\n",
      "construct_constraints took 0.0933678150177002 seconds!\n",
      "===============================================================================\n",
      "                                     CVXPY                                     \n",
      "                                     v1.3.2                                    \n",
      "===============================================================================\n",
      "(CVXPY) Feb 02 03:36:53 PM: Your problem has 36756 variables, 1257 constraints, and 0 parameters.\n"
     ]
    },
    {
     "name": "stderr",
     "output_type": "stream",
     "text": [
      "/Users/keisukeonoue/ws/lukasiewicz_1/myenv/lib/python3.11/site-packages/cvxpy/problems/problem.py:157: UserWarning: Objective contains too many subexpressions. Consider vectorizing your CVXPY code to speed up compilation.\n",
      "  warnings.warn(\"Objective contains too many subexpressions. \"\n",
      "/Users/keisukeonoue/ws/lukasiewicz_1/myenv/lib/python3.11/site-packages/cvxpy/problems/problem.py:163: UserWarning: Constraint #0 contains too many subexpressions. Consider vectorizing your CVXPY code to speed up compilation.\n",
      "  warnings.warn(f\"Constraint #{i} contains too many subexpressions. \"\n"
     ]
    },
    {
     "name": "stdout",
     "output_type": "stream",
     "text": [
      "(CVXPY) Feb 02 03:36:53 PM: It is compliant with the following grammars: DCP, DQCP\n",
      "(CVXPY) Feb 02 03:36:53 PM: (If you need to solve this problem multiple times, but with different data, consider using parameters.)\n",
      "(CVXPY) Feb 02 03:36:53 PM: CVXPY will first compile your problem; then, it will invoke a numerical solver to obtain a solution.\n",
      "-------------------------------------------------------------------------------\n",
      "                                  Compilation                                  \n",
      "-------------------------------------------------------------------------------\n",
      "(CVXPY) Feb 02 03:36:54 PM: Compiling problem (target solver=OSQP).\n",
      "(CVXPY) Feb 02 03:36:54 PM: Reduction chain: FlipObjective -> CvxAttr2Constr -> Qp2SymbolicQp -> QpMatrixStuffing -> OSQP\n",
      "(CVXPY) Feb 02 03:36:54 PM: Applying reduction FlipObjective\n",
      "(CVXPY) Feb 02 03:36:54 PM: Applying reduction CvxAttr2Constr\n",
      "(CVXPY) Feb 02 03:36:54 PM: Applying reduction Qp2SymbolicQp\n"
     ]
    },
    {
     "name": "stderr",
     "output_type": "stream",
     "text": [
      "/Users/keisukeonoue/ws/lukasiewicz_1/myenv/lib/python3.11/site-packages/cvxpy/problems/problem.py:163: UserWarning: Constraint #4 contains too many subexpressions. Consider vectorizing your CVXPY code to speed up compilation.\n",
      "  warnings.warn(f\"Constraint #{i} contains too many subexpressions. \"\n"
     ]
    },
    {
     "name": "stdout",
     "output_type": "stream",
     "text": [
      "(CVXPY) Feb 02 03:36:54 PM: Applying reduction QpMatrixStuffing\n"
     ]
    },
    {
     "name": "stderr",
     "output_type": "stream",
     "text": [
      "/Users/keisukeonoue/ws/lukasiewicz_1/myenv/lib/python3.11/site-packages/cvxpy/problems/problem.py:163: UserWarning: Constraint #5 contains too many subexpressions. Consider vectorizing your CVXPY code to speed up compilation.\n",
      "  warnings.warn(f\"Constraint #{i} contains too many subexpressions. \"\n"
     ]
    },
    {
     "name": "stdout",
     "output_type": "stream",
     "text": [
      "(CVXPY) Feb 02 03:36:59 PM: Applying reduction OSQP\n",
      "(CVXPY) Feb 02 03:36:59 PM: Finished problem compilation (took 5.607e+00 seconds).\n",
      "-------------------------------------------------------------------------------\n",
      "                                Numerical solver                               \n",
      "-------------------------------------------------------------------------------\n",
      "(CVXPY) Feb 02 03:36:59 PM: Invoking solver OSQP  to obtain a solution.\n",
      "-----------------------------------------------------------------\n",
      "           OSQP v0.6.3  -  Operator Splitting QP Solver\n",
      "              (c) Bartolomeo Stellato,  Goran Banjac\n",
      "        University of Oxford  -  Stanford University 2021\n",
      "-----------------------------------------------------------------\n",
      "problem:  variables n = 38563, constraints m = 39820\n",
      "          nnz(P) + nnz(A) = 1092163\n",
      "settings: linear system solver = qdldl,\n",
      "          eps_abs = 1.0e-05, eps_rel = 1.0e-05,\n",
      "          eps_prim_inf = 1.0e-04, eps_dual_inf = 1.0e-04,\n",
      "          rho = 1.00e-01 (adaptive),\n",
      "          sigma = 1.00e-06, alpha = 1.60, max_iter = 10000\n",
      "          check_termination: on (interval 25),\n",
      "          scaling: on, scaled_termination: off\n",
      "          warm start: on, polish: on, time_limit: off\n",
      "\n",
      "iter   objective    pri res    dua res    rho        time\n",
      "   1  -3.8982e+03   8.27e+00   1.65e+00   1.00e-01   4.13e-01s\n",
      " 200  -3.2980e+04   1.48e+00   4.32e-01   1.69e-02   1.21e+00s\n",
      " 400  -3.5053e+04   1.18e-01   7.26e-03   2.32e-03   2.03e+00s\n",
      " 600  -3.5085e+04   6.33e-02   8.72e-04   4.02e-04   2.81e+00s\n",
      " 800  -3.5088e+04   5.51e-02   5.33e-04   4.02e-04   3.34e+00s\n",
      "1000  -3.5090e+04   7.97e-03   3.80e-04   4.02e-04   3.86e+00s\n",
      "1200  -3.5090e+04   3.37e-03   3.01e-04   4.02e-04   4.41e+00s\n",
      "1400  -3.5087e+04   2.28e-02   1.40e-04   7.90e-05   5.26e+00s\n",
      "1600  -3.5089e+04   9.89e-03   6.45e-05   7.90e-05   5.77e+00s\n",
      "1700  -3.5089e+04   3.09e-03   5.02e-05   7.90e-05   6.04e+00s\n",
      "\n",
      "status:               solved\n",
      "solution polish:      unsuccessful\n",
      "number of iterations: 1700\n",
      "optimal objective:    -35089.0833\n",
      "run time:             6.35e+00s\n",
      "optimal rho estimate: 4.92e-05\n",
      "\n",
      "-------------------------------------------------------------------------------\n",
      "                                    Summary                                    \n",
      "-------------------------------------------------------------------------------\n",
      "(CVXPY) Feb 02 03:37:06 PM: Problem status: optimal\n",
      "(CVXPY) Feb 02 03:37:06 PM: Optimal value: 3.509e+04\n",
      "(CVXPY) Feb 02 03:37:06 PM: Compilation took 5.607e+00 seconds\n",
      "(CVXPY) Feb 02 03:37:06 PM: Solver (including time spent in interface) took 6.398e+00 seconds\n"
     ]
    }
   ],
   "source": [
    "problem_instance = Setup(\n",
    "    train_data_dir_path, \n",
    "    file_names_dict, \n",
    "    ObjectiveFunction, \n",
    "    'Outcome', \n",
    "    c1=100, \n",
    "    c2=10\n",
    ")\n",
    "\n",
    "objective, constraints = problem_instance.main()\n",
    "problem = cp.Problem(objective, constraints)\n",
    "result = problem.solve(verbose=True)"
   ]
  },
  {
   "cell_type": "code",
   "execution_count": 25,
   "metadata": {},
   "outputs": [
    {
     "name": "stderr",
     "output_type": "stream",
     "text": [
      "[I 2024-02-02 15:46:39,358] A new study created in memory with name: no-name-cab4b51c-4348-4654-a2c7-7409a6e33454\n",
      "[I 2024-02-02 15:46:39,385] Trial 0 finished with value: 0.0 and parameters: {'b': -1.0946680211453388}. Best is trial 0 with value: 0.0.\n",
      "[I 2024-02-02 15:46:39,412] Trial 1 finished with value: 0.0 and parameters: {'b': -1.7250973335515725}. Best is trial 0 with value: 0.0.\n",
      "[I 2024-02-02 15:46:39,455] Trial 2 finished with value: 0.0 and parameters: {'b': -2.230002336328895}. Best is trial 0 with value: 0.0.\n",
      "[I 2024-02-02 15:46:39,476] Trial 3 finished with value: 0.0 and parameters: {'b': -0.06889696827928349}. Best is trial 0 with value: 0.0.\n",
      "[I 2024-02-02 15:46:39,490] Trial 4 finished with value: 0.0 and parameters: {'b': -2.6977942840652243}. Best is trial 0 with value: 0.0.\n",
      "[I 2024-02-02 15:46:39,498] Trial 5 finished with value: 0.0 and parameters: {'b': -0.8294837657597411}. Best is trial 0 with value: 0.0.\n",
      "[I 2024-02-02 15:46:39,510] Trial 6 finished with value: 0.49014084507042255 and parameters: {'b': 0.6223987827677737}. Best is trial 6 with value: 0.49014084507042255.\n",
      "[I 2024-02-02 15:46:39,523] Trial 7 finished with value: 0.49014084507042255 and parameters: {'b': 0.7107837248825426}. Best is trial 6 with value: 0.49014084507042255.\n",
      "[I 2024-02-02 15:46:39,541] Trial 8 finished with value: 0.49014084507042255 and parameters: {'b': 1.3756030191436883}. Best is trial 6 with value: 0.49014084507042255.\n",
      "[I 2024-02-02 15:46:39,555] Trial 9 finished with value: 0.0 and parameters: {'b': -2.8489583663050233}. Best is trial 6 with value: 0.49014084507042255.\n"
     ]
    },
    {
     "name": "stdout",
     "output_type": "stream",
     "text": [
      "\n",
      "min_bound: -3.0379200005446068\n",
      "max_bound: 1.9620799994553935\n",
      "\n"
     ]
    },
    {
     "name": "stderr",
     "output_type": "stream",
     "text": [
      "[I 2024-02-02 15:46:39,592] Trial 10 finished with value: 0.49014084507042255 and parameters: {'b': 1.6272167093190966}. Best is trial 6 with value: 0.49014084507042255.\n",
      "[I 2024-02-02 15:46:39,604] Trial 11 finished with value: 0.49014084507042255 and parameters: {'b': 0.5462199586485881}. Best is trial 6 with value: 0.49014084507042255.\n",
      "[I 2024-02-02 15:46:39,625] Trial 12 finished with value: 0.49014084507042255 and parameters: {'b': 0.6265392949944593}. Best is trial 6 with value: 0.49014084507042255.\n",
      "[I 2024-02-02 15:46:39,649] Trial 13 finished with value: 0.5865724381625442 and parameters: {'b': 0.3558341810017346}. Best is trial 13 with value: 0.5865724381625442.\n",
      "[I 2024-02-02 15:46:39,677] Trial 14 finished with value: 0.0 and parameters: {'b': -0.0695082274137222}. Best is trial 13 with value: 0.5865724381625442.\n",
      "[I 2024-02-02 15:46:39,692] Trial 15 finished with value: 0.49014084507042255 and parameters: {'b': 1.096206329953004}. Best is trial 13 with value: 0.5865724381625442.\n",
      "[I 2024-02-02 15:46:39,707] Trial 16 finished with value: 0.0 and parameters: {'b': -0.18668708462636086}. Best is trial 13 with value: 0.5865724381625442.\n",
      "[I 2024-02-02 15:46:39,726] Trial 17 finished with value: 0.49014084507042255 and parameters: {'b': 1.7888006402915}. Best is trial 13 with value: 0.5865724381625442.\n",
      "[I 2024-02-02 15:46:39,744] Trial 18 finished with value: 0.0 and parameters: {'b': -1.3448585622379778}. Best is trial 13 with value: 0.5865724381625442.\n",
      "[I 2024-02-02 15:46:39,774] Trial 19 finished with value: 0.022727272727272724 and parameters: {'b': 0.14767859169946385}. Best is trial 13 with value: 0.5865724381625442.\n",
      "[I 2024-02-02 15:46:39,789] Trial 20 finished with value: 0.0 and parameters: {'b': -0.6721835993405549}. Best is trial 13 with value: 0.5865724381625442.\n",
      "[I 2024-02-02 15:46:39,840] Trial 21 finished with value: 0.49014084507042255 and parameters: {'b': 0.8780174708894993}. Best is trial 13 with value: 0.5865724381625442.\n",
      "[I 2024-02-02 15:46:39,861] Trial 22 finished with value: 0.5065502183406114 and parameters: {'b': 0.40353438066431835}. Best is trial 13 with value: 0.5865724381625442.\n",
      "[I 2024-02-02 15:46:39,877] Trial 23 finished with value: 0.43243243243243246 and parameters: {'b': 0.24447535837836076}. Best is trial 13 with value: 0.5865724381625442.\n",
      "[I 2024-02-02 15:46:39,891] Trial 24 finished with value: 0.49014084507042255 and parameters: {'b': 1.2382051550628195}. Best is trial 13 with value: 0.5865724381625442.\n",
      "[I 2024-02-02 15:46:39,909] Trial 25 finished with value: 0.5813148788927336 and parameters: {'b': 0.36261208591229643}. Best is trial 13 with value: 0.5865724381625442.\n",
      "[I 2024-02-02 15:46:39,929] Trial 26 finished with value: 0.0 and parameters: {'b': -0.4183319684899911}. Best is trial 13 with value: 0.5865724381625442.\n",
      "[I 2024-02-02 15:46:39,945] Trial 27 finished with value: 0.4202334630350194 and parameters: {'b': 0.24263069168098927}. Best is trial 13 with value: 0.5865724381625442.\n",
      "[I 2024-02-02 15:46:39,962] Trial 28 finished with value: 0.0 and parameters: {'b': -0.29390274200473987}. Best is trial 13 with value: 0.5865724381625442.\n",
      "[I 2024-02-02 15:46:39,976] Trial 29 finished with value: 0.0 and parameters: {'b': -1.0332509357778492}. Best is trial 13 with value: 0.5865724381625442.\n",
      "[I 2024-02-02 15:46:40,000] Trial 30 finished with value: 0.49014084507042255 and parameters: {'b': 1.0213172153989865}. Best is trial 13 with value: 0.5865724381625442.\n",
      "[I 2024-02-02 15:46:40,016] Trial 31 finished with value: 0.49014084507042255 and parameters: {'b': 0.4708013038700964}. Best is trial 13 with value: 0.5865724381625442.\n",
      "[I 2024-02-02 15:46:40,032] Trial 32 finished with value: 0.6232741617357002 and parameters: {'b': 0.33860474285607206}. Best is trial 32 with value: 0.6232741617357002.\n",
      "[I 2024-02-02 15:46:40,126] Trial 33 finished with value: 0.3275862068965517 and parameters: {'b': 0.22679665351045758}. Best is trial 32 with value: 0.6232741617357002.\n",
      "[I 2024-02-02 15:46:40,166] Trial 34 finished with value: 0.0 and parameters: {'b': -0.0566782011338548}. Best is trial 32 with value: 0.6232741617357002.\n",
      "[I 2024-02-02 15:46:40,180] Trial 35 finished with value: 0.0 and parameters: {'b': -0.4947155966588975}. Best is trial 32 with value: 0.6232741617357002.\n",
      "[I 2024-02-02 15:46:40,204] Trial 36 finished with value: 0.49014084507042255 and parameters: {'b': 1.465263425501183}. Best is trial 32 with value: 0.6232741617357002.\n",
      "[I 2024-02-02 15:46:40,244] Trial 37 finished with value: 0.49014084507042255 and parameters: {'b': 0.875244708992149}. Best is trial 32 with value: 0.6232741617357002.\n",
      "[I 2024-02-02 15:46:40,296] Trial 38 finished with value: 0.0 and parameters: {'b': -1.239524105913679}. Best is trial 32 with value: 0.6232741617357002.\n",
      "[I 2024-02-02 15:46:40,313] Trial 39 finished with value: 0.0 and parameters: {'b': -2.0211023280424416}. Best is trial 32 with value: 0.6232741617357002.\n",
      "[I 2024-02-02 15:46:40,348] Trial 40 finished with value: 0.6282306163021869 and parameters: {'b': 0.33657229894535967}. Best is trial 40 with value: 0.6282306163021869.\n",
      "[I 2024-02-02 15:46:40,362] Trial 41 finished with value: 0.49014084507042255 and parameters: {'b': 0.4521667835761597}. Best is trial 40 with value: 0.6282306163021869.\n",
      "[I 2024-02-02 15:46:40,379] Trial 42 finished with value: 0.0 and parameters: {'b': -0.005482607264577832}. Best is trial 40 with value: 0.6282306163021869.\n",
      "[I 2024-02-02 15:46:40,399] Trial 43 finished with value: 0.49014084507042255 and parameters: {'b': 0.7629578259261862}. Best is trial 40 with value: 0.6282306163021869.\n",
      "[I 2024-02-02 15:46:40,419] Trial 44 finished with value: 0.5058139534883721 and parameters: {'b': 0.40563089211739806}. Best is trial 40 with value: 0.6282306163021869.\n",
      "[I 2024-02-02 15:46:40,454] Trial 45 finished with value: 0.0 and parameters: {'b': 0.09469923347951509}. Best is trial 40 with value: 0.6282306163021869.\n",
      "[I 2024-02-02 15:46:40,470] Trial 46 finished with value: 0.49014084507042255 and parameters: {'b': 1.9521270136538085}. Best is trial 40 with value: 0.6282306163021869.\n",
      "[I 2024-02-02 15:46:40,487] Trial 47 finished with value: 0.0 and parameters: {'b': -0.8167252492849251}. Best is trial 40 with value: 0.6282306163021869.\n",
      "[I 2024-02-02 15:46:40,507] Trial 48 finished with value: 0.49014084507042255 and parameters: {'b': 1.1791421972064284}. Best is trial 40 with value: 0.6282306163021869.\n",
      "[I 2024-02-02 15:46:40,542] Trial 49 finished with value: 0.0 and parameters: {'b': -0.24192462285006883}. Best is trial 40 with value: 0.6282306163021869.\n",
      "[I 2024-02-02 15:46:40,610] Trial 50 finished with value: 0.49014084507042255 and parameters: {'b': 0.6546638213638301}. Best is trial 40 with value: 0.6282306163021869.\n",
      "[I 2024-02-02 15:46:40,625] Trial 51 finished with value: 0.5178571428571429 and parameters: {'b': 0.395945618442762}. Best is trial 40 with value: 0.6282306163021869.\n",
      "[I 2024-02-02 15:46:40,658] Trial 52 finished with value: 0.5516129032258065 and parameters: {'b': 0.3775372210489836}. Best is trial 40 with value: 0.6282306163021869.\n",
      "[I 2024-02-02 15:46:40,679] Trial 53 finished with value: 0.49014084507042255 and parameters: {'b': 0.9099486840887867}. Best is trial 40 with value: 0.6282306163021869.\n",
      "[I 2024-02-02 15:46:40,690] Trial 54 finished with value: 0.49014084507042255 and parameters: {'b': 0.6805421050023112}. Best is trial 40 with value: 0.6282306163021869.\n",
      "[I 2024-02-02 15:46:40,707] Trial 55 finished with value: 0.408 and parameters: {'b': 0.23772938826176926}. Best is trial 40 with value: 0.6282306163021869.\n",
      "[I 2024-02-02 15:46:40,739] Trial 56 finished with value: 0.0 and parameters: {'b': -0.1611906856174259}. Best is trial 40 with value: 0.6282306163021869.\n",
      "[I 2024-02-02 15:46:40,758] Trial 57 finished with value: 0.49014084507042255 and parameters: {'b': 1.377421930317317}. Best is trial 40 with value: 0.6282306163021869.\n",
      "[I 2024-02-02 15:46:40,773] Trial 58 finished with value: 0.0 and parameters: {'b': -0.6751570413369519}. Best is trial 40 with value: 0.6282306163021869.\n",
      "[I 2024-02-02 15:46:40,794] Trial 59 finished with value: 0.5813148788927336 and parameters: {'b': 0.3630863881039935}. Best is trial 40 with value: 0.6282306163021869.\n",
      "[I 2024-02-02 15:46:40,809] Trial 60 finished with value: 0.0 and parameters: {'b': 0.08471947365703347}. Best is trial 40 with value: 0.6282306163021869.\n",
      "[I 2024-02-02 15:46:40,824] Trial 61 finished with value: 0.5892857142857143 and parameters: {'b': 0.35246801850283843}. Best is trial 40 with value: 0.6282306163021869.\n",
      "[I 2024-02-02 15:46:40,847] Trial 62 finished with value: 0.49014084507042255 and parameters: {'b': 0.5675320817209422}. Best is trial 40 with value: 0.6282306163021869.\n",
      "[I 2024-02-02 15:46:40,863] Trial 63 finished with value: 0.6257668711656442 and parameters: {'b': 0.3324234103456527}. Best is trial 40 with value: 0.6282306163021869.\n",
      "[I 2024-02-02 15:46:40,876] Trial 64 finished with value: 0.0 and parameters: {'b': -0.36267980720346515}. Best is trial 40 with value: 0.6282306163021869.\n",
      "[I 2024-02-02 15:46:40,894] Trial 65 finished with value: 0.49014084507042255 and parameters: {'b': 0.7980724813843119}. Best is trial 40 with value: 0.6282306163021869.\n",
      "[I 2024-02-02 15:46:40,908] Trial 66 finished with value: 0.49014084507042255 and parameters: {'b': 1.004939221558666}. Best is trial 40 with value: 0.6282306163021869.\n",
      "[I 2024-02-02 15:46:40,938] Trial 67 finished with value: 0.0 and parameters: {'b': 0.0037335939321396228}. Best is trial 40 with value: 0.6282306163021869.\n",
      "[I 2024-02-02 15:46:40,968] Trial 68 finished with value: 0.5672514619883041 and parameters: {'b': 0.2850436382075941}. Best is trial 40 with value: 0.6282306163021869.\n",
      "[I 2024-02-02 15:46:40,991] Trial 69 finished with value: 0.0 and parameters: {'b': -0.14006066386301413}. Best is trial 40 with value: 0.6282306163021869.\n",
      "[I 2024-02-02 15:46:41,030] Trial 70 finished with value: 0.49014084507042255 and parameters: {'b': 0.6623677036069373}. Best is trial 40 with value: 0.6282306163021869.\n",
      "[I 2024-02-02 15:46:41,056] Trial 71 finished with value: 0.6138613861386139 and parameters: {'b': 0.30737916990450376}. Best is trial 40 with value: 0.6282306163021869.\n",
      "[I 2024-02-02 15:46:41,080] Trial 72 finished with value: 0.49014084507042255 and parameters: {'b': 0.5089499594527673}. Best is trial 40 with value: 0.6282306163021869.\n",
      "[I 2024-02-02 15:46:41,098] Trial 73 finished with value: 0.0 and parameters: {'b': 0.06316921390795605}. Best is trial 40 with value: 0.6282306163021869.\n",
      "[I 2024-02-02 15:46:41,107] Trial 74 finished with value: 0.0449438202247191 and parameters: {'b': 0.15401864893895356}. Best is trial 40 with value: 0.6282306163021869.\n",
      "[I 2024-02-02 15:46:41,144] Trial 75 finished with value: 0.5714285714285714 and parameters: {'b': 0.2855312219479951}. Best is trial 40 with value: 0.6282306163021869.\n",
      "[I 2024-02-02 15:46:41,169] Trial 76 finished with value: 0.49014084507042255 and parameters: {'b': 0.5696729511303091}. Best is trial 40 with value: 0.6282306163021869.\n",
      "[I 2024-02-02 15:46:41,191] Trial 77 finished with value: 0.49014084507042255 and parameters: {'b': 0.8091922746331999}. Best is trial 40 with value: 0.6282306163021869.\n",
      "[I 2024-02-02 15:46:41,223] Trial 78 finished with value: 0.0 and parameters: {'b': -0.5165247394706735}. Best is trial 40 with value: 0.6282306163021869.\n",
      "[I 2024-02-02 15:46:41,255] Trial 79 finished with value: 0.0 and parameters: {'b': -0.08624846243206885}. Best is trial 40 with value: 0.6282306163021869.\n",
      "[I 2024-02-02 15:46:41,295] Trial 80 finished with value: 0.0 and parameters: {'b': -2.7503232977153935}. Best is trial 40 with value: 0.6282306163021869.\n",
      "[I 2024-02-02 15:46:41,308] Trial 81 finished with value: 0.4964336661911556 and parameters: {'b': 0.42276151279029645}. Best is trial 40 with value: 0.6282306163021869.\n",
      "[I 2024-02-02 15:46:41,347] Trial 82 finished with value: 0.5672514619883041 and parameters: {'b': 0.28542435382549153}. Best is trial 40 with value: 0.6282306163021869.\n",
      "[I 2024-02-02 15:46:41,360] Trial 83 finished with value: 0.6286919831223629 and parameters: {'b': 0.32771598450989126}. Best is trial 83 with value: 0.6286919831223629.\n",
      "[I 2024-02-02 15:46:41,410] Trial 84 finished with value: 0.06629834254143646 and parameters: {'b': 0.1768691171500257}. Best is trial 83 with value: 0.6286919831223629.\n",
      "[I 2024-02-02 15:46:41,441] Trial 85 finished with value: 0.49014084507042255 and parameters: {'b': 0.9812576487996888}. Best is trial 83 with value: 0.6286919831223629.\n",
      "[I 2024-02-02 15:46:41,453] Trial 86 finished with value: 0.0 and parameters: {'b': -0.29857000786659116}. Best is trial 83 with value: 0.6286919831223629.\n",
      "[I 2024-02-02 15:46:41,473] Trial 87 finished with value: 0.0 and parameters: {'b': -2.478369040038817}. Best is trial 83 with value: 0.6286919831223629.\n",
      "[I 2024-02-02 15:46:41,495] Trial 88 finished with value: 0.49014084507042255 and parameters: {'b': 0.6094456810509702}. Best is trial 83 with value: 0.6286919831223629.\n",
      "[I 2024-02-02 15:46:41,512] Trial 89 finished with value: 0.6171875 and parameters: {'b': 0.34080468784293794}. Best is trial 83 with value: 0.6286919831223629.\n",
      "[I 2024-02-02 15:46:41,556] Trial 90 finished with value: 0.0 and parameters: {'b': -0.007084724439986478}. Best is trial 83 with value: 0.6286919831223629.\n",
      "[I 2024-02-02 15:46:41,585] Trial 91 finished with value: 0.49014084507042255 and parameters: {'b': 0.5140852260952788}. Best is trial 83 with value: 0.6286919831223629.\n",
      "[I 2024-02-02 15:46:41,610] Trial 92 finished with value: 0.49014084507042255 and parameters: {'b': 0.7330763274946237}. Best is trial 83 with value: 0.6286919831223629.\n",
      "[I 2024-02-02 15:46:41,742] Trial 93 finished with value: 0.6273684210526316 and parameters: {'b': 0.3280848281644431}. Best is trial 83 with value: 0.6286919831223629.\n",
      "[I 2024-02-02 15:46:41,760] Trial 94 finished with value: 0.0 and parameters: {'b': 0.1262361871413404}. Best is trial 83 with value: 0.6286919831223629.\n",
      "[I 2024-02-02 15:46:41,770] Trial 95 finished with value: 0.5525525525525525 and parameters: {'b': 0.2821632364694274}. Best is trial 83 with value: 0.6286919831223629.\n",
      "[I 2024-02-02 15:46:41,791] Trial 96 finished with value: 0.49014084507042255 and parameters: {'b': 1.124782904256849}. Best is trial 83 with value: 0.6286919831223629.\n",
      "[I 2024-02-02 15:46:41,822] Trial 97 finished with value: 0.49014084507042255 and parameters: {'b': 0.4864155206416534}. Best is trial 83 with value: 0.6286919831223629.\n",
      "[I 2024-02-02 15:46:41,836] Trial 98 finished with value: 0.0 and parameters: {'b': -3.002700031413587}. Best is trial 83 with value: 0.6286919831223629.\n",
      "[I 2024-02-02 15:46:41,853] Trial 99 finished with value: 0.5823223570190641 and parameters: {'b': 0.3621395874178877}. Best is trial 83 with value: 0.6286919831223629.\n"
     ]
    }
   ],
   "source": [
    "from sklearn.metrics import accuracy_score\n",
    "from sklearn.metrics import f1_score\n",
    "\n",
    "p_trained = Predicate_dual(\n",
    "    problem_instance, \n",
    "    'Outcome', \n",
    "    # metrics=accuracy_score,\n",
    "    metrics=f1_score,\n",
    "    opt_iter_num=100\n",
    ")"
   ]
  },
  {
   "cell_type": "code",
   "execution_count": 26,
   "metadata": {},
   "outputs": [
    {
     "data": {
      "text/plain": [
       "array([0.00996556, 0.08746423, 0.0659938 , 0.05620022, 0.06266074,\n",
       "       0.06755724, 0.16267144, 0.32771598])"
      ]
     },
     "execution_count": 26,
     "metadata": {},
     "output_type": "execute_result"
    }
   ],
   "source": [
    "p_trained.coeff"
   ]
  },
  {
   "cell_type": "code",
   "execution_count": 27,
   "metadata": {},
   "outputs": [],
   "source": [
    "data = pd.read_csv(train_data_file_path, index_col=0)\n",
    "X_test, y_test = data.drop(['target'], axis=1), data['target']"
   ]
  },
  {
   "cell_type": "code",
   "execution_count": 28,
   "metadata": {},
   "outputs": [
    {
     "data": {
      "text/plain": [
       "array([0.48070851, 0.6715182 , 0.50735089, 0.45677911, 0.49337707,\n",
       "       0.55552087, 0.53171118, 0.46099335, 0.48638755, 0.48464721,\n",
       "       0.44468492, 0.53990346, 0.56277292, 0.4547266 , 0.51763692,\n",
       "       0.5017967 , 0.57805155, 0.57529001, 0.48466629, 0.41953856,\n",
       "       0.53240075, 0.44530788, 0.43457832, 0.52949786, 0.4582967 ,\n",
       "       0.48398345, 0.50839837, 0.57301186, 0.427913  , 0.57899014,\n",
       "       0.58076958, 0.50417685, 0.62918034, 0.56760721, 0.57027273,\n",
       "       0.48555043, 0.4436554 , 0.53359646, 0.60595097, 0.6145672 ,\n",
       "       0.5810127 , 0.67686286, 0.59406073, 0.4625945 , 0.50440895,\n",
       "       0.67654307, 0.55863035, 0.5566977 , 0.63269707, 0.5961108 ,\n",
       "       0.50667637, 0.53193159, 0.49873511, 0.60551347, 0.5577608 ,\n",
       "       0.53510616, 0.52573648, 0.50480402, 0.5482163 , 0.55975392,\n",
       "       0.48401714, 0.44989845, 0.52389485, 0.56927605, 0.57053175,\n",
       "       0.63603142, 0.55850739, 0.4969563 , 0.59094093, 0.46938864,\n",
       "       0.5273392 , 0.51613822, 0.46326148, 0.5738665 , 0.60707169,\n",
       "       0.58555597, 0.53930618, 0.67183974, 0.48173504, 0.60200999,\n",
       "       0.56764114, 0.68437441, 0.42051455, 0.45379421, 0.58018752,\n",
       "       0.52308151, 0.47833189, 0.57012908, 0.5172161 , 0.68398697,\n",
       "       0.58381674, 0.63412153, 0.50068595, 0.50413833, 0.54040627,\n",
       "       0.47798217, 0.61676437, 0.63904478, 0.53298115, 0.51046114,\n",
       "       0.49431092, 0.6062432 , 0.5310929 , 0.53723569, 0.48115266,\n",
       "       0.45040885, 0.4001873 , 0.44364195, 0.46591744, 0.5314341 ,\n",
       "       0.44846181, 0.42955573, 0.49376245, 0.53278508, 0.51332705,\n",
       "       0.43466472, 0.50712474, 0.48117083, 0.63319041, 0.47381711,\n",
       "       0.44818971, 0.57531455, 0.60836127, 0.57023896, 0.54299407,\n",
       "       0.61650631, 0.58422996, 0.49832275, 0.46253509, 0.42341221,\n",
       "       0.72490589, 0.56266315, 0.53528561, 0.6330204 ])"
      ]
     },
     "execution_count": 28,
     "metadata": {},
     "output_type": "execute_result"
    }
   ],
   "source": [
    "y_pred = p_trained(X_test)\n",
    "y_pred"
   ]
  },
  {
   "cell_type": "code",
   "execution_count": 29,
   "metadata": {},
   "outputs": [
    {
     "data": {
      "text/plain": [
       "array([-1,  1,  1, -1, -1,  1,  1, -1, -1, -1, -1,  1,  1, -1,  1,  1,  1,\n",
       "        1, -1, -1,  1, -1, -1,  1, -1, -1,  1,  1, -1,  1,  1,  1,  1,  1,\n",
       "        1, -1, -1,  1,  1,  1,  1,  1,  1, -1,  1,  1,  1,  1,  1,  1,  1,\n",
       "        1, -1,  1,  1,  1,  1,  1,  1,  1, -1, -1,  1,  1,  1,  1,  1, -1,\n",
       "        1, -1,  1,  1, -1,  1,  1,  1,  1,  1, -1,  1,  1,  1, -1, -1,  1,\n",
       "        1, -1,  1,  1,  1,  1,  1,  1,  1,  1, -1,  1,  1,  1,  1, -1,  1,\n",
       "        1,  1, -1, -1, -1, -1, -1,  1, -1, -1, -1,  1,  1, -1,  1, -1,  1,\n",
       "       -1, -1,  1,  1,  1,  1,  1,  1, -1, -1, -1,  1,  1,  1,  1])"
      ]
     },
     "execution_count": 29,
     "metadata": {},
     "output_type": "execute_result"
    }
   ],
   "source": [
    "y_pred_interpreted = np.where(y_pred >= 0.5, 1, -1)\n",
    "y_pred_interpreted"
   ]
  },
  {
   "cell_type": "code",
   "execution_count": 30,
   "metadata": {},
   "outputs": [
    {
     "name": "stdout",
     "output_type": "stream",
     "text": [
      "accuracy: 0.6194029850746269\n",
      "precision: 0.4606741573033708\n",
      "recall: 0.9318181818181818\n",
      "f1: 0.6165413533834587\n",
      "auc: 0.6992424242424242\n"
     ]
    }
   ],
   "source": [
    "from sklearn.metrics import accuracy_score\n",
    "from sklearn.metrics import precision_score\n",
    "from sklearn.metrics import recall_score\n",
    "from sklearn.metrics import f1_score\n",
    "from sklearn.metrics import roc_auc_score\n",
    "\n",
    "from sklearn.metrics import confusion_matrix\n",
    "\n",
    "\n",
    "acc = accuracy_score(y_test, y_pred_interpreted)\n",
    "pre = precision_score(y_test, y_pred_interpreted)\n",
    "rec = recall_score(y_test, y_pred_interpreted)\n",
    "f1  = f1_score(y_test, y_pred_interpreted)\n",
    "auc = roc_auc_score(y_test, y_pred_interpreted)\n",
    "\n",
    "print(f'accuracy: {acc}')\n",
    "print(f'precision: {pre}')\n",
    "print(f'recall: {rec}')\n",
    "print(f'f1: {f1}')\n",
    "print(f'auc: {auc}')"
   ]
  },
  {
   "cell_type": "code",
   "execution_count": null,
   "metadata": {},
   "outputs": [],
   "source": []
  },
  {
   "cell_type": "code",
   "execution_count": null,
   "metadata": {},
   "outputs": [],
   "source": []
  },
  {
   "cell_type": "code",
   "execution_count": null,
   "metadata": {},
   "outputs": [],
   "source": []
  }
 ],
 "metadata": {
  "kernelspec": {
   "display_name": "myenv",
   "language": "python",
   "name": "python3"
  },
  "language_info": {
   "codemirror_mode": {
    "name": "ipython",
    "version": 3
   },
   "file_extension": ".py",
   "mimetype": "text/x-python",
   "name": "python",
   "nbconvert_exporter": "python",
   "pygments_lexer": "ipython3",
   "version": "3.11.6"
  }
 },
 "nbformat": 4,
 "nbformat_minor": 2
}
