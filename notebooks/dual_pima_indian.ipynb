{
 "cells": [
  {
   "cell_type": "code",
   "execution_count": 1,
   "metadata": {},
   "outputs": [],
   "source": [
    "%load_ext autoreload\n",
    "%autoreload 2"
   ]
  },
  {
   "cell_type": "code",
   "execution_count": 2,
   "metadata": {},
   "outputs": [],
   "source": [
    "import os\n",
    "import sys\n",
    "\n",
    "project_dir_path = '/Users/keisukeonoue/ws/lukasiewicz_1'\n",
    "sys.path.append(project_dir_path)\n",
    "\n",
    "import cvxpy as cp\n",
    "import numpy as np\n",
    "import pandas as pd \n",
    "\n",
    "from src.setup_problem_dual_single_task import Setup\n",
    "\n",
    "from src.objective_function_single_task import ObjectiveFunction\n",
    "from src.predicate import Predicate_dual"
   ]
  },
  {
   "cell_type": "code",
   "execution_count": 3,
   "metadata": {},
   "outputs": [],
   "source": [
    "data_dir_path = os.path.join(project_dir_path, 'inputs/pima_indian_diabetes_3/')\n",
    "train_data_dir_path = os.path.join(data_dir_path, \"train\")\n",
    "file_list = os.listdir(train_data_dir_path)\n",
    "\n",
    "L_files = [filename for filename in file_list \n",
    "           if filename.startswith('L') and filename.endswith('.csv')]\n",
    "\n",
    "U_files = [filename for filename in file_list \n",
    "           if filename.startswith('U') and filename.endswith('.csv')]\n",
    "\n",
    "file_names_dict = {\n",
    "    'supervised': L_files,\n",
    "    'unsupervised': U_files,\n",
    "    'rule': ['rules_3.txt']\n",
    "}\n",
    "\n",
    "train_data_dir_path = os.path.join(data_dir_path, \"train\")"
   ]
  },
  {
   "cell_type": "code",
   "execution_count": 4,
   "metadata": {},
   "outputs": [
    {
     "data": {
      "text/plain": [
       "'/Users/keisukeonoue/ws/lukasiewicz_1/inputs/pima_indian_diabetes_3/test/L_Outcome.csv'"
      ]
     },
     "execution_count": 4,
     "metadata": {},
     "output_type": "execute_result"
    }
   ],
   "source": [
    "train_data_file_path = os.path.join(data_dir_path, \"test/L_Outcome.csv\")\n",
    "train_data_file_path"
   ]
  },
  {
   "cell_type": "code",
   "execution_count": 5,
   "metadata": {},
   "outputs": [
    {
     "name": "stdout",
     "output_type": "stream",
     "text": [
      "load_data took 0.05094599723815918 seconds!\n",
      "load_rules took 0.035859107971191406 seconds!\n",
      "formulate_predicates_with_cvxpy took 5.7220458984375e-05 seconds!\n",
      "shape of P: (1807, 1807)\n",
      "finish l\n",
      "finish h\n",
      "finish s\n",
      "finish l h\n",
      "finish l s\n",
      "finish h s\n",
      "_construct_P_j took 1.0823760032653809 seconds!\n",
      "construct_constraints took 0.1726830005645752 seconds!\n",
      "===============================================================================\n",
      "                                     CVXPY                                     \n",
      "                                     v1.3.2                                    \n",
      "===============================================================================\n",
      "(CVXPY) Feb 02 07:05:40 PM: Your problem has 36756 variables, 1257 constraints, and 0 parameters.\n"
     ]
    },
    {
     "name": "stderr",
     "output_type": "stream",
     "text": [
      "/Users/keisukeonoue/ws/lukasiewicz_2/myenv/lib/python3.11/site-packages/cvxpy/problems/problem.py:157: UserWarning: Objective contains too many subexpressions. Consider vectorizing your CVXPY code to speed up compilation.\n",
      "  warnings.warn(\"Objective contains too many subexpressions. \"\n",
      "/Users/keisukeonoue/ws/lukasiewicz_2/myenv/lib/python3.11/site-packages/cvxpy/problems/problem.py:163: UserWarning: Constraint #0 contains too many subexpressions. Consider vectorizing your CVXPY code to speed up compilation.\n",
      "  warnings.warn(f\"Constraint #{i} contains too many subexpressions. \"\n"
     ]
    },
    {
     "name": "stdout",
     "output_type": "stream",
     "text": [
      "(CVXPY) Feb 02 07:05:41 PM: It is compliant with the following grammars: DCP, DQCP\n",
      "(CVXPY) Feb 02 07:05:41 PM: (If you need to solve this problem multiple times, but with different data, consider using parameters.)\n",
      "(CVXPY) Feb 02 07:05:41 PM: CVXPY will first compile your problem; then, it will invoke a numerical solver to obtain a solution.\n",
      "-------------------------------------------------------------------------------\n",
      "                                  Compilation                                  \n",
      "-------------------------------------------------------------------------------\n",
      "(CVXPY) Feb 02 07:05:41 PM: Compiling problem (target solver=OSQP).\n",
      "(CVXPY) Feb 02 07:05:41 PM: Reduction chain: FlipObjective -> CvxAttr2Constr -> Qp2SymbolicQp -> QpMatrixStuffing -> OSQP\n",
      "(CVXPY) Feb 02 07:05:41 PM: Applying reduction FlipObjective\n",
      "(CVXPY) Feb 02 07:05:41 PM: Applying reduction CvxAttr2Constr\n",
      "(CVXPY) Feb 02 07:05:41 PM: Applying reduction Qp2SymbolicQp\n"
     ]
    },
    {
     "name": "stderr",
     "output_type": "stream",
     "text": [
      "/Users/keisukeonoue/ws/lukasiewicz_2/myenv/lib/python3.11/site-packages/cvxpy/problems/problem.py:163: UserWarning: Constraint #4 contains too many subexpressions. Consider vectorizing your CVXPY code to speed up compilation.\n",
      "  warnings.warn(f\"Constraint #{i} contains too many subexpressions. \"\n"
     ]
    },
    {
     "name": "stdout",
     "output_type": "stream",
     "text": [
      "(CVXPY) Feb 02 07:05:41 PM: Applying reduction QpMatrixStuffing\n"
     ]
    },
    {
     "name": "stderr",
     "output_type": "stream",
     "text": [
      "/Users/keisukeonoue/ws/lukasiewicz_2/myenv/lib/python3.11/site-packages/cvxpy/problems/problem.py:163: UserWarning: Constraint #5 contains too many subexpressions. Consider vectorizing your CVXPY code to speed up compilation.\n",
      "  warnings.warn(f\"Constraint #{i} contains too many subexpressions. \"\n"
     ]
    },
    {
     "name": "stdout",
     "output_type": "stream",
     "text": [
      "(CVXPY) Feb 02 07:05:46 PM: Applying reduction OSQP\n",
      "(CVXPY) Feb 02 07:05:46 PM: Finished problem compilation (took 4.981e+00 seconds).\n",
      "-------------------------------------------------------------------------------\n",
      "                                Numerical solver                               \n",
      "-------------------------------------------------------------------------------\n",
      "(CVXPY) Feb 02 07:05:46 PM: Invoking solver OSQP  to obtain a solution.\n",
      "-----------------------------------------------------------------\n",
      "           OSQP v0.6.3  -  Operator Splitting QP Solver\n",
      "              (c) Bartolomeo Stellato,  Goran Banjac\n",
      "        University of Oxford  -  Stanford University 2021\n",
      "-----------------------------------------------------------------\n",
      "problem:  variables n = 38563, constraints m = 39820\n",
      "          nnz(P) + nnz(A) = 1092163\n",
      "settings: linear system solver = qdldl,\n",
      "          eps_abs = 1.0e-05, eps_rel = 1.0e-05,\n",
      "          eps_prim_inf = 1.0e-04, eps_dual_inf = 1.0e-04,\n",
      "          rho = 1.00e-01 (adaptive),\n",
      "          sigma = 1.00e-06, alpha = 1.60, max_iter = 10000\n",
      "          check_termination: on (interval 25),\n",
      "          scaling: on, scaled_termination: off\n",
      "          warm start: on, polish: on, time_limit: off\n",
      "\n",
      "iter   objective    pri res    dua res    rho        time\n",
      "   1  -3.8982e+03   8.27e+00   1.65e+00   1.00e-01   4.14e-01s\n",
      " 200  -3.2980e+04   1.48e+00   4.32e-01   1.69e-02   1.20e+00s\n",
      " 400  -3.5053e+04   1.18e-01   7.26e-03   2.32e-03   2.00e+00s\n",
      " 600  -3.5085e+04   6.33e-02   8.72e-04   4.02e-04   2.79e+00s\n",
      " 800  -3.5088e+04   5.51e-02   5.33e-04   4.02e-04   3.33e+00s\n",
      "1000  -3.5090e+04   7.97e-03   3.80e-04   4.02e-04   3.86e+00s\n",
      "1200  -3.5090e+04   3.37e-03   3.01e-04   4.02e-04   4.39e+00s\n",
      "1400  -3.5087e+04   2.28e-02   1.40e-04   7.90e-05   5.17e+00s\n",
      "1600  -3.5089e+04   9.89e-03   6.45e-05   7.90e-05   5.69e+00s\n",
      "1700  -3.5089e+04   3.09e-03   5.02e-05   7.90e-05   5.96e+00s\n",
      "\n",
      "status:               solved\n",
      "solution polish:      unsuccessful\n",
      "number of iterations: 1700\n",
      "optimal objective:    -35089.0833\n",
      "run time:             6.28e+00s\n",
      "optimal rho estimate: 4.92e-05\n",
      "\n",
      "-------------------------------------------------------------------------------\n",
      "                                    Summary                                    \n",
      "-------------------------------------------------------------------------------\n",
      "(CVXPY) Feb 02 07:05:52 PM: Problem status: optimal\n",
      "(CVXPY) Feb 02 07:05:52 PM: Optimal value: 3.509e+04\n",
      "(CVXPY) Feb 02 07:05:52 PM: Compilation took 4.981e+00 seconds\n",
      "(CVXPY) Feb 02 07:05:52 PM: Solver (including time spent in interface) took 6.328e+00 seconds\n"
     ]
    }
   ],
   "source": [
    "problem_instance = Setup(\n",
    "    train_data_dir_path, \n",
    "    file_names_dict, \n",
    "    ObjectiveFunction, \n",
    "    'Outcome', \n",
    "    c1=100, \n",
    "    c2=10\n",
    ")\n",
    "\n",
    "objective, constraints = problem_instance.main()\n",
    "problem = cp.Problem(objective, constraints)\n",
    "result = problem.solve(verbose=True)"
   ]
  },
  {
   "cell_type": "code",
   "execution_count": 6,
   "metadata": {},
   "outputs": [
    {
     "name": "stderr",
     "output_type": "stream",
     "text": [
      "[I 2024-02-02 19:06:08,942] A new study created in memory with name: no-name-49f44ad3-828d-4cb3-96b8-398ce8900a15\n",
      "[I 2024-02-02 19:06:09,003] Trial 0 finished with value: 0.5242424242424243 and parameters: {'b': 0.3899658687614216}. Best is trial 0 with value: 0.5242424242424243.\n",
      "[I 2024-02-02 19:06:09,011] Trial 1 finished with value: 0.0 and parameters: {'b': -2.492103068327247}. Best is trial 0 with value: 0.5242424242424243.\n",
      "[I 2024-02-02 19:06:09,022] Trial 2 finished with value: 0.49014084507042255 and parameters: {'b': 0.7775385869791718}. Best is trial 0 with value: 0.5242424242424243.\n",
      "[I 2024-02-02 19:06:09,042] Trial 3 finished with value: 0.0 and parameters: {'b': -1.5055379785647305}. Best is trial 0 with value: 0.5242424242424243.\n",
      "[I 2024-02-02 19:06:09,075] Trial 4 finished with value: 0.49014084507042255 and parameters: {'b': 0.6156055890554746}. Best is trial 0 with value: 0.5242424242424243.\n",
      "[I 2024-02-02 19:06:09,105] Trial 5 finished with value: 0.0 and parameters: {'b': -0.41483621976497886}. Best is trial 0 with value: 0.5242424242424243.\n",
      "[I 2024-02-02 19:06:09,124] Trial 6 finished with value: 0.0 and parameters: {'b': -0.7680220142832135}. Best is trial 0 with value: 0.5242424242424243.\n",
      "[I 2024-02-02 19:06:09,148] Trial 7 finished with value: 0.0 and parameters: {'b': -1.3018556825907637}. Best is trial 0 with value: 0.5242424242424243.\n"
     ]
    },
    {
     "name": "stdout",
     "output_type": "stream",
     "text": [
      "\n",
      "min_bound: -3.0379200005446068\n",
      "max_bound: 1.9620799994553935\n",
      "\n"
     ]
    },
    {
     "name": "stderr",
     "output_type": "stream",
     "text": [
      "[I 2024-02-02 19:06:09,160] Trial 8 finished with value: 0.5095168374816984 and parameters: {'b': 0.4023659850918522}. Best is trial 0 with value: 0.5242424242424243.\n",
      "[I 2024-02-02 19:06:09,181] Trial 9 finished with value: 0.0 and parameters: {'b': -2.508738650222668}. Best is trial 0 with value: 0.5242424242424243.\n",
      "[I 2024-02-02 19:06:09,208] Trial 10 finished with value: 0.49014084507042255 and parameters: {'b': 1.2736130194528705}. Best is trial 0 with value: 0.5242424242424243.\n",
      "[I 2024-02-02 19:06:09,243] Trial 11 finished with value: 0.0 and parameters: {'b': 0.09436444282635409}. Best is trial 0 with value: 0.5242424242424243.\n",
      "[I 2024-02-02 19:06:09,256] Trial 12 finished with value: 0.49014084507042255 and parameters: {'b': 1.846513113112695}. Best is trial 0 with value: 0.5242424242424243.\n",
      "[I 2024-02-02 19:06:09,276] Trial 13 finished with value: 0.022727272727272724 and parameters: {'b': 0.14230334773316067}. Best is trial 0 with value: 0.5242424242424243.\n",
      "[I 2024-02-02 19:06:09,295] Trial 14 finished with value: 0.49014084507042255 and parameters: {'b': 1.1121530665074162}. Best is trial 0 with value: 0.5242424242424243.\n",
      "[I 2024-02-02 19:06:09,310] Trial 15 finished with value: 0.022727272727272724 and parameters: {'b': 0.14243551035795704}. Best is trial 0 with value: 0.5242424242424243.\n",
      "[I 2024-02-02 19:06:09,341] Trial 16 finished with value: 0.49014084507042255 and parameters: {'b': 1.5426925877633981}. Best is trial 0 with value: 0.5242424242424243.\n",
      "[I 2024-02-02 19:06:09,357] Trial 17 finished with value: 0.0 and parameters: {'b': -0.5457638074201034}. Best is trial 0 with value: 0.5242424242424243.\n",
      "[I 2024-02-02 19:06:09,376] Trial 18 finished with value: 0.49014084507042255 and parameters: {'b': 0.66277982186241}. Best is trial 0 with value: 0.5242424242424243.\n",
      "[I 2024-02-02 19:06:09,408] Trial 19 finished with value: 0.0 and parameters: {'b': -1.1264002310927812}. Best is trial 0 with value: 0.5242424242424243.\n",
      "[I 2024-02-02 19:06:09,427] Trial 20 finished with value: 0.0 and parameters: {'b': -0.11922643531980204}. Best is trial 0 with value: 0.5242424242424243.\n",
      "[I 2024-02-02 19:06:09,449] Trial 21 finished with value: 0.49014084507042255 and parameters: {'b': 0.7825003659998371}. Best is trial 0 with value: 0.5242424242424243.\n",
      "[I 2024-02-02 19:06:09,474] Trial 22 finished with value: 0.4964336661911556 and parameters: {'b': 0.4235880000757489}. Best is trial 0 with value: 0.5242424242424243.\n",
      "[I 2024-02-02 19:06:09,496] Trial 23 finished with value: 0.5803108808290155 and parameters: {'b': 0.36314245042769006}. Best is trial 23 with value: 0.5803108808290155.\n",
      "[I 2024-02-02 19:06:09,529] Trial 24 finished with value: 0.49014084507042255 and parameters: {'b': 1.2117485356519169}. Best is trial 23 with value: 0.5803108808290155.\n",
      "[I 2024-02-02 19:06:09,552] Trial 25 finished with value: 0.0 and parameters: {'b': -0.271757333023278}. Best is trial 23 with value: 0.5803108808290155.\n",
      "[I 2024-02-02 19:06:09,577] Trial 26 finished with value: 0.0 and parameters: {'b': -1.8539516198917951}. Best is trial 23 with value: 0.5803108808290155.\n",
      "[I 2024-02-02 19:06:09,590] Trial 27 finished with value: 0.5540983606557377 and parameters: {'b': 0.3738152731507295}. Best is trial 23 with value: 0.5803108808290155.\n",
      "[I 2024-02-02 19:06:09,616] Trial 28 finished with value: 0.0 and parameters: {'b': -0.8111070877057664}. Best is trial 23 with value: 0.5803108808290155.\n",
      "[I 2024-02-02 19:06:09,625] Trial 29 finished with value: 0.49014084507042255 and parameters: {'b': 1.0607011189794662}. Best is trial 23 with value: 0.5803108808290155.\n",
      "[I 2024-02-02 19:06:09,648] Trial 30 finished with value: 0.0 and parameters: {'b': -2.0992990139524985}. Best is trial 23 with value: 0.5803108808290155.\n",
      "[I 2024-02-02 19:06:09,677] Trial 31 finished with value: 0.5021645021645021 and parameters: {'b': 0.40701387460182226}. Best is trial 23 with value: 0.5803108808290155.\n",
      "[I 2024-02-02 19:06:09,693] Trial 32 finished with value: 0.0 and parameters: {'b': -2.83836228810427}. Best is trial 23 with value: 0.5803108808290155.\n",
      "[I 2024-02-02 19:06:09,717] Trial 33 finished with value: 0.0 and parameters: {'b': -0.07015334159467213}. Best is trial 23 with value: 0.5803108808290155.\n",
      "[I 2024-02-02 19:06:09,750] Trial 34 finished with value: 0.5282442748091603 and parameters: {'b': 0.38878909194097916}. Best is trial 23 with value: 0.5803108808290155.\n",
      "[I 2024-02-02 19:06:09,777] Trial 35 finished with value: 0.49014084507042255 and parameters: {'b': 0.7856124076977495}. Best is trial 23 with value: 0.5803108808290155.\n",
      "[I 2024-02-02 19:06:09,794] Trial 36 finished with value: 0.49014084507042255 and parameters: {'b': 1.5506710660225058}. Best is trial 23 with value: 0.5803108808290155.\n",
      "[I 2024-02-02 19:06:09,841] Trial 37 finished with value: 0.0 and parameters: {'b': -0.6930868808904334}. Best is trial 23 with value: 0.5803108808290155.\n",
      "[I 2024-02-02 19:06:09,872] Trial 38 finished with value: 0.49014084507042255 and parameters: {'b': 0.95671608381278}. Best is trial 23 with value: 0.5803108808290155.\n",
      "[I 2024-02-02 19:06:09,886] Trial 39 finished with value: 0.49291784702549574 and parameters: {'b': 0.4301901052156197}. Best is trial 23 with value: 0.5803108808290155.\n",
      "[I 2024-02-02 19:06:09,898] Trial 40 finished with value: 0.0 and parameters: {'b': -0.20471134571039018}. Best is trial 23 with value: 0.5803108808290155.\n",
      "[I 2024-02-02 19:06:09,914] Trial 41 finished with value: 0.4565217391304348 and parameters: {'b': 0.2547323765661771}. Best is trial 23 with value: 0.5803108808290155.\n",
      "[I 2024-02-02 19:06:09,927] Trial 42 finished with value: 0.49014084507042255 and parameters: {'b': 0.6086773678242886}. Best is trial 23 with value: 0.5803108808290155.\n",
      "[I 2024-02-02 19:06:09,958] Trial 43 finished with value: 0.5201793721973094 and parameters: {'b': 0.39350294055790636}. Best is trial 23 with value: 0.5803108808290155.\n",
      "[I 2024-02-02 19:06:09,988] Trial 44 finished with value: 0.0 and parameters: {'b': -0.3929342769227672}. Best is trial 23 with value: 0.5803108808290155.\n",
      "[I 2024-02-02 19:06:09,996] Trial 45 finished with value: 0.0 and parameters: {'b': -0.0102895803593957}. Best is trial 23 with value: 0.5803108808290155.\n",
      "[I 2024-02-02 19:06:10,009] Trial 46 finished with value: 0.49014084507042255 and parameters: {'b': 1.4662500741274527}. Best is trial 23 with value: 0.5803108808290155.\n",
      "[I 2024-02-02 19:06:10,026] Trial 47 finished with value: 0.28037383177570097 and parameters: {'b': 0.21486383656429833}. Best is trial 23 with value: 0.5803108808290155.\n",
      "[I 2024-02-02 19:06:10,038] Trial 48 finished with value: 0.49014084507042255 and parameters: {'b': 0.9263075840494878}. Best is trial 23 with value: 0.5803108808290155.\n",
      "[I 2024-02-02 19:06:10,060] Trial 49 finished with value: 0.49014084507042255 and parameters: {'b': 0.6327046092444363}. Best is trial 23 with value: 0.5803108808290155.\n",
      "[I 2024-02-02 19:06:10,073] Trial 50 finished with value: 0.49014084507042255 and parameters: {'b': 1.8374287248733836}. Best is trial 23 with value: 0.5803108808290155.\n",
      "[I 2024-02-02 19:06:10,093] Trial 51 finished with value: 0.5609348914858098 and parameters: {'b': 0.3685474743491481}. Best is trial 23 with value: 0.5803108808290155.\n",
      "[I 2024-02-02 19:06:10,158] Trial 52 finished with value: 0.6105769230769231 and parameters: {'b': 0.3106714605475733}. Best is trial 52 with value: 0.6105769230769231.\n",
      "[I 2024-02-02 19:06:10,184] Trial 53 finished with value: 0.0 and parameters: {'b': 0.05584715320990091}. Best is trial 52 with value: 0.6105769230769231.\n",
      "[I 2024-02-02 19:06:10,193] Trial 54 finished with value: 0.49014084507042255 and parameters: {'b': 0.5507924355920666}. Best is trial 52 with value: 0.6105769230769231.\n",
      "[I 2024-02-02 19:06:10,245] Trial 55 finished with value: 0.5648414985590778 and parameters: {'b': 0.28744659280167456}. Best is trial 52 with value: 0.6105769230769231.\n",
      "[I 2024-02-02 19:06:10,260] Trial 56 finished with value: 0.0 and parameters: {'b': -0.43709117809904}. Best is trial 52 with value: 0.6105769230769231.\n",
      "[I 2024-02-02 19:06:10,311] Trial 57 finished with value: 0.5135135135135136 and parameters: {'b': 0.2647835608319921}. Best is trial 52 with value: 0.6105769230769231.\n",
      "[I 2024-02-02 19:06:10,325] Trial 58 finished with value: 0.49014084507042255 and parameters: {'b': 0.8324354618189076}. Best is trial 52 with value: 0.6105769230769231.\n",
      "[I 2024-02-02 19:06:10,343] Trial 59 finished with value: 0.0 and parameters: {'b': -0.22349960000987695}. Best is trial 52 with value: 0.6105769230769231.\n",
      "[I 2024-02-02 19:06:10,374] Trial 60 finished with value: 0.0 and parameters: {'b': -0.8816517793846356}. Best is trial 52 with value: 0.6105769230769231.\n",
      "[I 2024-02-02 19:06:10,385] Trial 61 finished with value: 0.0 and parameters: {'b': 0.05933899443114066}. Best is trial 52 with value: 0.6105769230769231.\n",
      "[I 2024-02-02 19:06:10,407] Trial 62 finished with value: 0.45255474452554745 and parameters: {'b': 0.2522692934802966}. Best is trial 52 with value: 0.6105769230769231.\n",
      "[I 2024-02-02 19:06:10,417] Trial 63 finished with value: 0.49014084507042255 and parameters: {'b': 0.6261145588766744}. Best is trial 52 with value: 0.6105769230769231.\n",
      "[I 2024-02-02 19:06:10,441] Trial 64 finished with value: 0.49014084507042255 and parameters: {'b': 0.48273265542939653}. Best is trial 52 with value: 0.6105769230769231.\n",
      "[I 2024-02-02 19:06:10,450] Trial 65 finished with value: 0.49014084507042255 and parameters: {'b': 1.251188201328754}. Best is trial 52 with value: 0.6105769230769231.\n",
      "[I 2024-02-02 19:06:10,475] Trial 66 finished with value: 0.0 and parameters: {'b': -0.07431920342315479}. Best is trial 52 with value: 0.6105769230769231.\n",
      "[I 2024-02-02 19:06:10,491] Trial 67 finished with value: 0.49014084507042255 and parameters: {'b': 1.0419206570301123}. Best is trial 52 with value: 0.6105769230769231.\n",
      "[I 2024-02-02 19:06:10,511] Trial 68 finished with value: 0.601010101010101 and parameters: {'b': 0.3053625327966513}. Best is trial 52 with value: 0.6105769230769231.\n",
      "[I 2024-02-02 19:06:10,546] Trial 69 finished with value: 0.49014084507042255 and parameters: {'b': 0.7441759484895897}. Best is trial 52 with value: 0.6105769230769231.\n",
      "[I 2024-02-02 19:06:10,579] Trial 70 finished with value: 0.5276872964169381 and parameters: {'b': 0.2721970548459243}. Best is trial 52 with value: 0.6105769230769231.\n",
      "[I 2024-02-02 19:06:10,594] Trial 71 finished with value: 0.5797872340425532 and parameters: {'b': 0.29932675713555845}. Best is trial 52 with value: 0.6105769230769231.\n",
      "[I 2024-02-02 19:06:10,607] Trial 72 finished with value: 0.49014084507042255 and parameters: {'b': 0.5057844520511232}. Best is trial 52 with value: 0.6105769230769231.\n",
      "[I 2024-02-02 19:06:10,626] Trial 73 finished with value: 0.0 and parameters: {'b': 0.12236981297158617}. Best is trial 52 with value: 0.6105769230769231.\n",
      "[I 2024-02-02 19:06:10,643] Trial 74 finished with value: 0.0 and parameters: {'b': -0.16004309208283024}. Best is trial 52 with value: 0.6105769230769231.\n",
      "[I 2024-02-02 19:06:10,660] Trial 75 finished with value: 0.0 and parameters: {'b': -0.35966195683717045}. Best is trial 52 with value: 0.6105769230769231.\n",
      "[I 2024-02-02 19:06:10,679] Trial 76 finished with value: 0.5947368421052632 and parameters: {'b': 0.30042520012832563}. Best is trial 52 with value: 0.6105769230769231.\n",
      "[I 2024-02-02 19:06:10,693] Trial 77 finished with value: 0.49014084507042255 and parameters: {'b': 0.744157512729466}. Best is trial 52 with value: 0.6105769230769231.\n",
      "[I 2024-02-02 19:06:10,724] Trial 78 finished with value: 0.0 and parameters: {'b': -0.5846998238690543}. Best is trial 52 with value: 0.6105769230769231.\n",
      "[I 2024-02-02 19:06:10,744] Trial 79 finished with value: 0.0449438202247191 and parameters: {'b': 0.15283084403167313}. Best is trial 52 with value: 0.6105769230769231.\n",
      "[I 2024-02-02 19:06:10,795] Trial 80 finished with value: 0.6220472440944882 and parameters: {'b': 0.3388560501522767}. Best is trial 80 with value: 0.6220472440944882.\n",
      "[I 2024-02-02 19:06:10,814] Trial 81 finished with value: 0.6247379454926625 and parameters: {'b': 0.32928854020251663}. Best is trial 81 with value: 0.6247379454926625.\n",
      "[I 2024-02-02 19:06:10,828] Trial 82 finished with value: 0.0 and parameters: {'b': -0.07390755661108872}. Best is trial 81 with value: 0.6247379454926625.\n",
      "[I 2024-02-02 19:06:10,857] Trial 83 finished with value: 0.612167300380228 and parameters: {'b': 0.34416016725727333}. Best is trial 81 with value: 0.6247379454926625.\n",
      "[I 2024-02-02 19:06:10,869] Trial 84 finished with value: 0.0 and parameters: {'b': 0.03706243464619091}. Best is trial 81 with value: 0.6247379454926625.\n",
      "[I 2024-02-02 19:06:10,883] Trial 85 finished with value: 0.6286919831223629 and parameters: {'b': 0.3270599382611228}. Best is trial 85 with value: 0.6286919831223629.\n",
      "[I 2024-02-02 19:06:10,893] Trial 86 finished with value: 0.49014084507042255 and parameters: {'b': 0.9203495401770214}. Best is trial 85 with value: 0.6286919831223629.\n",
      "[I 2024-02-02 19:06:10,917] Trial 87 finished with value: 0.49014084507042255 and parameters: {'b': 0.5063381858715301}. Best is trial 85 with value: 0.6286919831223629.\n",
      "[I 2024-02-02 19:06:10,932] Trial 88 finished with value: 0.05555555555555555 and parameters: {'b': 0.17331557443429316}. Best is trial 85 with value: 0.6286919831223629.\n",
      "[I 2024-02-02 19:06:10,944] Trial 89 finished with value: 0.0 and parameters: {'b': -0.31210618879493546}. Best is trial 85 with value: 0.6286919831223629.\n",
      "[I 2024-02-02 19:06:10,971] Trial 90 finished with value: 0.49014084507042255 and parameters: {'b': 0.6837292614982744}. Best is trial 85 with value: 0.6286919831223629.\n",
      "[I 2024-02-02 19:06:11,010] Trial 91 finished with value: 0.6447368421052633 and parameters: {'b': 0.32222718140398715}. Best is trial 91 with value: 0.6447368421052633.\n",
      "[I 2024-02-02 19:06:11,046] Trial 92 finished with value: 0.6171875 and parameters: {'b': 0.34070853543369567}. Best is trial 91 with value: 0.6447368421052633.\n",
      "[I 2024-02-02 19:06:11,074] Trial 93 finished with value: 0.49014084507042255 and parameters: {'b': 0.5685200263368192}. Best is trial 91 with value: 0.6447368421052633.\n",
      "[I 2024-02-02 19:06:11,092] Trial 94 finished with value: 0.5242424242424243 and parameters: {'b': 0.3896877616904959}. Best is trial 91 with value: 0.6447368421052633.\n",
      "[I 2024-02-02 19:06:11,116] Trial 95 finished with value: 0.49014084507042255 and parameters: {'b': 0.8368613872378997}. Best is trial 91 with value: 0.6447368421052633.\n",
      "[I 2024-02-02 19:06:11,140] Trial 96 finished with value: 0.0 and parameters: {'b': 0.016633854834195605}. Best is trial 91 with value: 0.6447368421052633.\n",
      "[I 2024-02-02 19:06:11,168] Trial 97 finished with value: 0.0 and parameters: {'b': 0.1208819430607374}. Best is trial 91 with value: 0.6447368421052633.\n",
      "[I 2024-02-02 19:06:11,183] Trial 98 finished with value: 0.49014084507042255 and parameters: {'b': 0.478948399779219}. Best is trial 91 with value: 0.6447368421052633.\n",
      "[I 2024-02-02 19:06:11,207] Trial 99 finished with value: 0.6345381526104418 and parameters: {'b': 0.33543404888088335}. Best is trial 91 with value: 0.6447368421052633.\n"
     ]
    }
   ],
   "source": [
    "from sklearn.metrics import accuracy_score\n",
    "from sklearn.metrics import f1_score\n",
    "\n",
    "p_trained = Predicate_dual(\n",
    "    problem_instance, \n",
    "    'Outcome', \n",
    "    # metrics=accuracy_score,\n",
    "    metrics=f1_score,\n",
    "    opt_iter_num=100\n",
    ")"
   ]
  },
  {
   "cell_type": "code",
   "execution_count": 7,
   "metadata": {},
   "outputs": [
    {
     "data": {
      "text/plain": [
       "array([0.00996556, 0.08746423, 0.0659938 , 0.05620022, 0.06266074,\n",
       "       0.06755724, 0.16267144, 0.32222718])"
      ]
     },
     "execution_count": 7,
     "metadata": {},
     "output_type": "execute_result"
    }
   ],
   "source": [
    "p_trained.coeff"
   ]
  },
  {
   "cell_type": "code",
   "execution_count": 8,
   "metadata": {},
   "outputs": [],
   "source": [
    "data = pd.read_csv(train_data_file_path, index_col=0)\n",
    "X_test, y_test = data.drop(['target'], axis=1), data['target']"
   ]
  },
  {
   "cell_type": "code",
   "execution_count": 9,
   "metadata": {},
   "outputs": [
    {
     "data": {
      "text/plain": [
       "array([0.47521971, 0.66602939, 0.50186209, 0.4512903 , 0.48788827,\n",
       "       0.55003206, 0.52622238, 0.45550454, 0.48089874, 0.47915841,\n",
       "       0.43919612, 0.53441466, 0.55728412, 0.4492378 , 0.51214811,\n",
       "       0.49630789, 0.57256275, 0.56980121, 0.47917749, 0.41404975,\n",
       "       0.52691195, 0.43981908, 0.42908952, 0.52400906, 0.4528079 ,\n",
       "       0.47849464, 0.50290956, 0.56752306, 0.42242419, 0.57350134,\n",
       "       0.57528077, 0.49868805, 0.62369153, 0.56211841, 0.56478393,\n",
       "       0.48006163, 0.43816659, 0.52810765, 0.60046216, 0.6090784 ,\n",
       "       0.5755239 , 0.67137406, 0.58857193, 0.4571057 , 0.49892015,\n",
       "       0.67105426, 0.55314154, 0.5512089 , 0.62720827, 0.590622  ,\n",
       "       0.50118756, 0.52644279, 0.49324631, 0.60002467, 0.552272  ,\n",
       "       0.52961735, 0.52024768, 0.49931521, 0.54272749, 0.55426511,\n",
       "       0.47852833, 0.44440965, 0.51840604, 0.56378725, 0.56504294,\n",
       "       0.63054261, 0.55301859, 0.4914675 , 0.58545212, 0.46389983,\n",
       "       0.52185039, 0.51064942, 0.45777267, 0.5683777 , 0.60158289,\n",
       "       0.58006717, 0.53381738, 0.66635093, 0.47624623, 0.59652119,\n",
       "       0.56215234, 0.6788856 , 0.41502574, 0.44830541, 0.57469872,\n",
       "       0.51759271, 0.47284308, 0.56464028, 0.51172729, 0.67849817,\n",
       "       0.57832793, 0.62863273, 0.49519715, 0.49864952, 0.53491746,\n",
       "       0.47249337, 0.61127557, 0.63355598, 0.52749235, 0.50497233,\n",
       "       0.48882212, 0.6007544 , 0.5256041 , 0.53174689, 0.47566385,\n",
       "       0.44492005, 0.3946985 , 0.43815314, 0.46042863, 0.52594529,\n",
       "       0.44297301, 0.42406692, 0.48827364, 0.52729628, 0.50783825,\n",
       "       0.42917592, 0.50163594, 0.47568203, 0.62770161, 0.4683283 ,\n",
       "       0.44270091, 0.56982575, 0.60287247, 0.56475016, 0.53750527,\n",
       "       0.61101751, 0.57874116, 0.49283394, 0.45704629, 0.4179234 ,\n",
       "       0.71941709, 0.55717434, 0.52979681, 0.62753159])"
      ]
     },
     "execution_count": 9,
     "metadata": {},
     "output_type": "execute_result"
    }
   ],
   "source": [
    "y_pred = p_trained(X_test)\n",
    "y_pred"
   ]
  },
  {
   "cell_type": "code",
   "execution_count": 10,
   "metadata": {},
   "outputs": [
    {
     "data": {
      "text/plain": [
       "array([-1,  1,  1, -1, -1,  1,  1, -1, -1, -1, -1,  1,  1, -1,  1, -1,  1,\n",
       "        1, -1, -1,  1, -1, -1,  1, -1, -1,  1,  1, -1,  1,  1, -1,  1,  1,\n",
       "        1, -1, -1,  1,  1,  1,  1,  1,  1, -1, -1,  1,  1,  1,  1,  1,  1,\n",
       "        1, -1,  1,  1,  1,  1, -1,  1,  1, -1, -1,  1,  1,  1,  1,  1, -1,\n",
       "        1, -1,  1,  1, -1,  1,  1,  1,  1,  1, -1,  1,  1,  1, -1, -1,  1,\n",
       "        1, -1,  1,  1,  1,  1,  1, -1, -1,  1, -1,  1,  1,  1,  1, -1,  1,\n",
       "        1,  1, -1, -1, -1, -1, -1,  1, -1, -1, -1,  1,  1, -1,  1, -1,  1,\n",
       "       -1, -1,  1,  1,  1,  1,  1,  1, -1, -1, -1,  1,  1,  1,  1])"
      ]
     },
     "execution_count": 10,
     "metadata": {},
     "output_type": "execute_result"
    }
   ],
   "source": [
    "y_pred_interpreted = np.where(y_pred >= 0.5, 1, -1)\n",
    "y_pred_interpreted"
   ]
  },
  {
   "cell_type": "code",
   "execution_count": 11,
   "metadata": {},
   "outputs": [
    {
     "name": "stdout",
     "output_type": "stream",
     "text": [
      "accuracy: 0.664179104477612\n",
      "precision: 0.4939759036144578\n",
      "recall: 0.9318181818181818\n",
      "f1: 0.6456692913385826\n",
      "auc: 0.7325757575757575\n"
     ]
    }
   ],
   "source": [
    "from sklearn.metrics import accuracy_score\n",
    "from sklearn.metrics import precision_score\n",
    "from sklearn.metrics import recall_score\n",
    "from sklearn.metrics import f1_score\n",
    "from sklearn.metrics import roc_auc_score\n",
    "\n",
    "from sklearn.metrics import confusion_matrix\n",
    "\n",
    "\n",
    "acc = accuracy_score(y_test, y_pred_interpreted)\n",
    "pre = precision_score(y_test, y_pred_interpreted)\n",
    "rec = recall_score(y_test, y_pred_interpreted)\n",
    "f1  = f1_score(y_test, y_pred_interpreted)\n",
    "auc = roc_auc_score(y_test, y_pred_interpreted)\n",
    "\n",
    "print(f'accuracy: {acc}')\n",
    "print(f'precision: {pre}')\n",
    "print(f'recall: {rec}')\n",
    "print(f'f1: {f1}')\n",
    "print(f'auc: {auc}')"
   ]
  },
  {
   "cell_type": "code",
   "execution_count": null,
   "metadata": {},
   "outputs": [],
   "source": []
  },
  {
   "cell_type": "code",
   "execution_count": null,
   "metadata": {},
   "outputs": [],
   "source": []
  },
  {
   "cell_type": "code",
   "execution_count": null,
   "metadata": {},
   "outputs": [],
   "source": []
  }
 ],
 "metadata": {
  "kernelspec": {
   "display_name": "myenv",
   "language": "python",
   "name": "python3"
  },
  "language_info": {
   "codemirror_mode": {
    "name": "ipython",
    "version": 3
   },
   "file_extension": ".py",
   "mimetype": "text/x-python",
   "name": "python",
   "nbconvert_exporter": "python",
   "pygments_lexer": "ipython3",
   "version": "3.11.6"
  }
 },
 "nbformat": 4,
 "nbformat_minor": 2
}
