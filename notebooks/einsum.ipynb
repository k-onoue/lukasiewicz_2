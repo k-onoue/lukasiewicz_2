{
 "cells": [
  {
   "cell_type": "code",
   "execution_count": null,
   "metadata": {},
   "outputs": [],
   "source": [
    "%load_ext autoreload\n",
    "%autoreload 2"
   ]
  },
  {
   "cell_type": "code",
   "execution_count": 29,
   "metadata": {},
   "outputs": [],
   "source": [
    "import time\n",
    "\n",
    "import numpy as np\n",
    "\n",
    "def compute_kernel_matrix(X1, X2, kernel_function=np.dot):\n",
    "    \"\"\"\n",
    "    Compute the kernel matrix between two matrices.\n",
    "\n",
    "    Parameters:\n",
    "    - X1: First input matrix (n x m)\n",
    "    - X2: Second input matrix (n x m)\n",
    "    - kernel_function: Kernel function to use (default is dot product)\n",
    "\n",
    "    Returns:\n",
    "    - Kernel matrix (n x n)\n",
    "    \"\"\"\n",
    "    n1, m1 = X1.shape\n",
    "    n2, m2 = X2.shape\n",
    "\n",
    "    if m1 != m2:\n",
    "        raise ValueError(\"Input matrices must have the same number of features (columns)\")\n",
    "\n",
    "    K_matrix = np.zeros((n1, n2))\n",
    "\n",
    "    for i in range(n1):\n",
    "        for j in range(n2):\n",
    "            K_matrix[i, j] = kernel_function(X1[i, :], X2[j, :])\n",
    "\n",
    "    return K_matrix"
   ]
  },
  {
   "cell_type": "code",
   "execution_count": 26,
   "metadata": {},
   "outputs": [
    {
     "data": {
      "text/plain": [
       "array([[0., 0., 0., ..., 0., 0., 0.],\n",
       "       [0., 0., 0., ..., 0., 0., 0.],\n",
       "       [0., 0., 0., ..., 0., 0., 0.],\n",
       "       ...,\n",
       "       [0., 0., 0., ..., 0., 0., 0.],\n",
       "       [0., 0., 0., ..., 0., 0., 0.],\n",
       "       [0., 0., 0., ..., 0., 0., 0.]])"
      ]
     },
     "execution_count": 26,
     "metadata": {},
     "output_type": "execute_result"
    }
   ],
   "source": [
    "var = 1000\n",
    "data = np.random.randint(low=0, high=5, size=(var, 30))\n",
    "\n",
    "X = data[:, :-1]\n",
    "y = data[:, -1]\n",
    "\n",
    "P = np.zeros(shape=(var, var))\n",
    "P"
   ]
  },
  {
   "cell_type": "code",
   "execution_count": 27,
   "metadata": {},
   "outputs": [
    {
     "name": "stdout",
     "output_type": "stream",
     "text": [
      "0.890099048614502\n"
     ]
    },
    {
     "data": {
      "text/plain": [
       "array([[   0.,    0.,    0., ...,    0.,    0.,    0.],\n",
       "       [   0.,    0.,    0., ...,    0.,    0.,    0.],\n",
       "       [   0.,    0., 1656., ...,  666.,  732.,  834.],\n",
       "       ...,\n",
       "       [   0.,    0.,  666., ...,  712.,  384.,  512.],\n",
       "       [   0.,    0.,  732., ...,  384.,  768.,  472.],\n",
       "       [   0.,    0.,  834., ...,  512.,  472.,  680.]])"
      ]
     },
     "execution_count": 27,
     "metadata": {},
     "output_type": "execute_result"
    }
   ],
   "source": [
    "s = time.time()\n",
    "\n",
    "\n",
    "for i in range(var):\n",
    "    for i_ in range(var):\n",
    "        P[i, i_] = y[i] * y[i_] * np.dot(X[i], X[i_])\n",
    "\n",
    "\n",
    "e = time.time()\n",
    "print(e - s)\n",
    "\n",
    "P"
   ]
  },
  {
   "cell_type": "code",
   "execution_count": 41,
   "metadata": {},
   "outputs": [
    {
     "name": "stdout",
     "output_type": "stream",
     "text": [
      "1.1233890056610107\n"
     ]
    },
    {
     "data": {
      "text/plain": [
       "array([[   0,    0,    0, ...,    0,    0,    0],\n",
       "       [   0,    0,    0, ...,    0,    0,    0],\n",
       "       [   0,    0, 1656, ...,  666,  732,  834],\n",
       "       ...,\n",
       "       [   0,    0,  666, ...,  712,  384,  512],\n",
       "       [   0,    0,  732, ...,  384,  768,  472],\n",
       "       [   0,    0,  834, ...,  512,  472,  680]])"
      ]
     },
     "execution_count": 41,
     "metadata": {},
     "output_type": "execute_result"
    }
   ],
   "source": [
    "s = time.time()\n",
    "\n",
    "K = compute_kernel_matrix(X, X)\n",
    "for i in range(var):\n",
    "    for i_ in range(var):\n",
    "        P[i, i_] = y[i] * y[i_] * K[i, i_]\n",
    "\n",
    "e = time.time()\n",
    "print(e - s)\n",
    "\n",
    "P"
   ]
  },
  {
   "cell_type": "code",
   "execution_count": 40,
   "metadata": {},
   "outputs": [
    {
     "name": "stdout",
     "output_type": "stream",
     "text": [
      "0.725111722946167\n",
      "[[   0    0    0 ...    0    0    0]\n",
      " [   0    0    0 ...    0    0    0]\n",
      " [   0    0 1656 ... 1104 1104 1104]\n",
      " ...\n",
      " [   0    0 1068 ...  712  712  712]\n",
      " [   0    0 1152 ...  768  768  768]\n",
      " [   0    0 1020 ...  680  680  680]]\n"
     ]
    }
   ],
   "source": [
    "import time\n",
    "import numpy as np\n",
    "\n",
    "s = time.time()\n",
    "\n",
    "K = compute_kernel_matrix(X, X)\n",
    "\n",
    "P = np.einsum('i, j, ik, ik -> ij', y, y, X, X, optimize=True)\n",
    "\n",
    "e = time.time()\n",
    "print(e - s)\n",
    "print(P)\n"
   ]
  },
  {
   "cell_type": "code",
   "execution_count": null,
   "metadata": {},
   "outputs": [],
   "source": []
  },
  {
   "cell_type": "code",
   "execution_count": null,
   "metadata": {},
   "outputs": [],
   "source": []
  },
  {
   "cell_type": "code",
   "execution_count": null,
   "metadata": {},
   "outputs": [],
   "source": []
  },
  {
   "cell_type": "code",
   "execution_count": null,
   "metadata": {},
   "outputs": [],
   "source": []
  },
  {
   "cell_type": "code",
   "execution_count": null,
   "metadata": {},
   "outputs": [],
   "source": []
  },
  {
   "cell_type": "code",
   "execution_count": null,
   "metadata": {},
   "outputs": [],
   "source": []
  }
 ],
 "metadata": {
  "kernelspec": {
   "display_name": "myenv",
   "language": "python",
   "name": "python3"
  },
  "language_info": {
   "codemirror_mode": {
    "name": "ipython",
    "version": 3
   },
   "file_extension": ".py",
   "mimetype": "text/x-python",
   "name": "python",
   "nbconvert_exporter": "python",
   "pygments_lexer": "ipython3",
   "version": "3.11.6"
  }
 },
 "nbformat": 4,
 "nbformat_minor": 2
}
