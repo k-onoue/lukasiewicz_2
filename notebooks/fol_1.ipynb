{
 "cells": [
  {
   "cell_type": "code",
   "execution_count": 1,
   "metadata": {},
   "outputs": [],
   "source": [
    "%load_ext autoreload\n",
    "%autoreload 2"
   ]
  },
  {
   "cell_type": "code",
   "execution_count": 2,
   "metadata": {},
   "outputs": [
    {
     "ename": "ModuleNotFoundError",
     "evalue": "No module named 'src'",
     "output_type": "error",
     "traceback": [
      "\u001b[0;31m---------------------------------------------------------------------------\u001b[0m",
      "\u001b[0;31mModuleNotFoundError\u001b[0m                       Traceback (most recent call last)",
      "\u001b[1;32m/Users/keisukeonoue/ws/lukasiewicz_1/notebooks/dual/fol_1.ipynb セル 2\u001b[0m line \u001b[0;36m1\n\u001b[1;32m     <a href='vscode-notebook-cell:/Users/keisukeonoue/ws/lukasiewicz_1/notebooks/dual/fol_1.ipynb#W1sZmlsZQ%3D%3D?line=9'>10</a>\u001b[0m \u001b[39mimport\u001b[39;00m \u001b[39msympy\u001b[39;00m \u001b[39mas\u001b[39;00m \u001b[39msp\u001b[39;00m \n\u001b[1;32m     <a href='vscode-notebook-cell:/Users/keisukeonoue/ws/lukasiewicz_1/notebooks/dual/fol_1.ipynb#W1sZmlsZQ%3D%3D?line=11'>12</a>\u001b[0m \u001b[39m# from src.setup_problem_v2 import Setup\u001b[39;00m\n\u001b[0;32m---> <a href='vscode-notebook-cell:/Users/keisukeonoue/ws/lukasiewicz_1/notebooks/dual/fol_1.ipynb#W1sZmlsZQ%3D%3D?line=12'>13</a>\u001b[0m \u001b[39mfrom\u001b[39;00m \u001b[39msrc\u001b[39;00m\u001b[39m.\u001b[39;00m\u001b[39mmisc\u001b[39;00m \u001b[39mimport\u001b[39;00m process_neg, is_symbol\n\u001b[1;32m     <a href='vscode-notebook-cell:/Users/keisukeonoue/ws/lukasiewicz_1/notebooks/dual/fol_1.ipynb#W1sZmlsZQ%3D%3D?line=13'>14</a>\u001b[0m \u001b[39mfrom\u001b[39;00m \u001b[39msrc\u001b[39;00m\u001b[39m.\u001b[39;00m\u001b[39mprocess_fol_v2\u001b[39;00m \u001b[39mimport\u001b[39;00m FOLConverter\n",
      "\u001b[0;31mModuleNotFoundError\u001b[0m: No module named 'src'"
     ]
    }
   ],
   "source": [
    "import os\n",
    "import time \n",
    "import sys\n",
    "\n",
    "project_dir_path = \"/home/onoue/ws/lukasiewicz_1\"\n",
    "sys.path.append(project_dir_path)\n",
    "\n",
    "import numpy as np\n",
    "import pandas as pd\n",
    "import sympy as sp \n",
    "\n",
    "# from src.setup_problem_v2 import Setup\n",
    "from src.misc import process_neg, is_symbol\n",
    "from src.process_fol_v2 import FOLConverter"
   ]
  },
  {
   "cell_type": "code",
   "execution_count": 27,
   "metadata": {},
   "outputs": [],
   "source": [
    "data_dir_path = \"./../../inputs/toy_data/\"\n"
   ]
  },
  {
   "cell_type": "code",
   "execution_count": 8,
   "metadata": {},
   "outputs": [],
   "source": [
    "# KB = [[\"p1(x)\", \"→\", \"p2(x)\"],\n",
    "#       [\"p2(x)\", \"→\", \"p3(x)\"]]\n",
    "\n",
    "KB = [[\"¬\", \"p1(x)\", \"⊕\", \"p2(x)\"],\n",
    "      [\"¬\", \"p2(x)\", \"⊕\", \"p3(x)\"]]"
   ]
  },
  {
   "cell_type": "code",
   "execution_count": 10,
   "metadata": {},
   "outputs": [
    {
     "data": {
      "text/plain": [
       "[['¬', 'p1', '⊕', 'p2'], ['¬', 'p2', '⊕', 'p3']]"
      ]
     },
     "execution_count": 10,
     "metadata": {},
     "output_type": "execute_result"
    }
   ],
   "source": [
    "KB_new = []\n",
    "\n",
    "for formula in KB:\n",
    "    formula_new = []\n",
    "\n",
    "    for item in formula:\n",
    "        item_new = item.replace(\"(x)\", \"\")\n",
    "        formula_new.append(item_new)\n",
    "\n",
    "    KB_new.append(formula_new)\n",
    "\n",
    "KB_new"
   ]
  },
  {
   "cell_type": "code",
   "execution_count": 15,
   "metadata": {},
   "outputs": [
    {
     "name": "stdout",
     "output_type": "stream",
     "text": [
      "[[1 - p1, '⊕', p2], [1 - p2, '⊕', p3]]\n"
     ]
    }
   ],
   "source": [
    "import sympy as sp\n",
    "\n",
    "symbols_1 = ['¬', '∧', '∨', '⊗', '⊕', '→']\n",
    "KB_new = [['¬', 'p1', '⊕', 'p2'], ['¬', 'p2', '⊕', 'p3']]\n",
    "\n",
    "KB_newer = []\n",
    "for sublist in KB_new:\n",
    "    sublist_new = []\n",
    "    for item in sublist:\n",
    "        if item not in symbols_1:\n",
    "            sublist_new.append(sp.Symbol(item))\n",
    "        else:\n",
    "            sublist_new.append(item)\n",
    "\n",
    "    process_neg(sublist_new)\n",
    "    KB_newer.append(sublist_new)\n",
    "\n",
    "print(KB_newer)"
   ]
  },
  {
   "cell_type": "code",
   "execution_count": 14,
   "metadata": {},
   "outputs": [
    {
     "data": {
      "text/latex": [
       "$\\displaystyle p_{1}$"
      ],
      "text/plain": [
       "p1"
      ]
     },
     "execution_count": 14,
     "metadata": {},
     "output_type": "execute_result"
    }
   ],
   "source": [
    "tmp = KB_newer[0][1]\n",
    "tmp"
   ]
  },
  {
   "cell_type": "code",
   "execution_count": 16,
   "metadata": {},
   "outputs": [],
   "source": [
    "def identify_predicates(KB):\n",
    "    \n",
    "    predicates = []\n",
    "\n",
    "    for formula in KB:\n",
    "        for item in formula:\n",
    "            if item not in symbols_1 and item not in predicates:\n",
    "                predicates.append(item)\n",
    "\n",
    "    predicates_dict = {predicate: sp.Symbol(predicate) for predicate in predicates}\n",
    "\n",
    "    return predicates_dict"
   ]
  },
  {
   "cell_type": "code",
   "execution_count": 18,
   "metadata": {},
   "outputs": [
    {
     "data": {
      "text/plain": [
       "[['¬', 'p1', '⊕', 'p2'], ['¬', 'p2', '⊕', 'p3']]"
      ]
     },
     "execution_count": 18,
     "metadata": {},
     "output_type": "execute_result"
    }
   ],
   "source": [
    "KB_new"
   ]
  },
  {
   "cell_type": "code",
   "execution_count": 19,
   "metadata": {},
   "outputs": [
    {
     "data": {
      "text/plain": [
       "{'p1': p1, 'p2': p2, 'p3': p3}"
      ]
     },
     "execution_count": 19,
     "metadata": {},
     "output_type": "execute_result"
    }
   ],
   "source": [
    "identify_predicates(KB_new)"
   ]
  },
  {
   "cell_type": "code",
   "execution_count": null,
   "metadata": {},
   "outputs": [],
   "source": []
  },
  {
   "cell_type": "code",
   "execution_count": 23,
   "metadata": {},
   "outputs": [
    {
     "data": {
      "text/plain": [
       "['¬', 'p2', '⊕', '¬', 'p3']"
      ]
     },
     "execution_count": 23,
     "metadata": {},
     "output_type": "execute_result"
    }
   ],
   "source": [
    "from src.operators import negation\n",
    "\n",
    "tmp = ['¬', 'p2', '⊕', '¬', 'p3']\n",
    "# tmp = ['p2', '⊗', 'p3']\n",
    "negation(tmp)"
   ]
  },
  {
   "cell_type": "code",
   "execution_count": null,
   "metadata": {},
   "outputs": [],
   "source": [
    "def _eliminate_multi_negations(self, formula):\n",
    "    neg_idxs, not_neg_idxs = self._get_idx_list(formula)\n",
    "    neg_idxs_decomposed = self._split_idx_list(neg_idxs)\n",
    "\n",
    "    neg_idxs_new = []\n",
    "    for tmp in neg_idxs_decomposed:\n",
    "        if len(tmp) % 2 == 0:\n",
    "            pass\n",
    "        else:\n",
    "            neg_idxs_new.append(tmp[0])\n",
    "    \n",
    "    idxs_new = sorted(neg_idxs_new + not_neg_idxs)\n",
    "    \n",
    "    formula_new = []\n",
    "    for idx in idxs_new:\n",
    "        item = formula[idx]\n",
    "        formula_new.append(item)\n",
    "\n",
    "    return formula_new"
   ]
  },
  {
   "cell_type": "code",
   "execution_count": 28,
   "metadata": {},
   "outputs": [
    {
     "data": {
      "text/plain": [
       "'./../../inputs/toy_data/'"
      ]
     },
     "execution_count": 28,
     "metadata": {},
     "output_type": "execute_result"
    }
   ],
   "source": [
    "data_dir_path"
   ]
  },
  {
   "cell_type": "code",
   "execution_count": 29,
   "metadata": {},
   "outputs": [
    {
     "data": {
      "text/plain": [
       "'./../../inputs/toy_data/rules.txt'"
      ]
     },
     "execution_count": 29,
     "metadata": {},
     "output_type": "execute_result"
    }
   ],
   "source": [
    "rules_path = os.path.join(data_dir_path, \"rules.txt\")\n",
    "rules_path"
   ]
  },
  {
   "cell_type": "code",
   "execution_count": 46,
   "metadata": {},
   "outputs": [
    {
     "data": {
      "text/plain": [
       "[[[1], [-p1 + p2 + 1]], [[1], [-p2 + p3 + 1]]]"
      ]
     },
     "execution_count": 46,
     "metadata": {},
     "output_type": "execute_result"
    }
   ],
   "source": [
    "test_instance = FOLConverter(rules_path)\n",
    "test_instance.main()\n",
    "test_instance.tmp_KB"
   ]
  },
  {
   "cell_type": "code",
   "execution_count": 47,
   "metadata": {},
   "outputs": [
    {
     "data": {
      "text/plain": [
       "[['¬', 'p1', '⊕', 'p2'], ['¬', 'p2', '⊕', 'p3']]"
      ]
     },
     "execution_count": 47,
     "metadata": {},
     "output_type": "execute_result"
    }
   ],
   "source": [
    "test_instance.new_KB"
   ]
  },
  {
   "cell_type": "code",
   "execution_count": 49,
   "metadata": {},
   "outputs": [
    {
     "data": {
      "text/plain": [
       "{'p1': p1, 'p2': p2, 'p3': p3}"
      ]
     },
     "execution_count": 49,
     "metadata": {},
     "output_type": "execute_result"
    }
   ],
   "source": [
    "test_instance.predicates_dict"
   ]
  },
  {
   "cell_type": "code",
   "execution_count": null,
   "metadata": {},
   "outputs": [],
   "source": []
  },
  {
   "cell_type": "code",
   "execution_count": 50,
   "metadata": {},
   "outputs": [],
   "source": [
    "test_instance.KB = [['¬', '¬', 'p1', '⊕', 'p2', '⊕', 'p1', '⊕', '¬', '¬', '¬', 'p2'], ['¬', 'p2', '⊕', 'p3']]"
   ]
  },
  {
   "cell_type": "code",
   "execution_count": 51,
   "metadata": {},
   "outputs": [
    {
     "data": {
      "text/plain": [
       "[['¬', '¬', 'p1', '⊕', 'p2', '⊕', 'p1', '⊕', '¬', '¬', '¬', 'p2'],\n",
       " ['¬', 'p2', '⊕', 'p3']]"
      ]
     },
     "execution_count": 51,
     "metadata": {},
     "output_type": "execute_result"
    }
   ],
   "source": [
    "test_instance.KB"
   ]
  },
  {
   "cell_type": "code",
   "execution_count": 52,
   "metadata": {},
   "outputs": [],
   "source": [
    "test_instance.main()"
   ]
  },
  {
   "cell_type": "code",
   "execution_count": 53,
   "metadata": {},
   "outputs": [
    {
     "data": {
      "text/plain": [
       "[['p1', '⊕', 'p2', '⊕', 'p1', '⊕', '¬', 'p2'], ['¬', 'p2', '⊕', 'p3']]"
      ]
     },
     "execution_count": 53,
     "metadata": {},
     "output_type": "execute_result"
    }
   ],
   "source": [
    "test_instance.new_KB"
   ]
  },
  {
   "cell_type": "code",
   "execution_count": 54,
   "metadata": {},
   "outputs": [
    {
     "data": {
      "text/plain": [
       "[[[1], [2*p1 + 1]], [[1], [-p2 + p3 + 1]]]"
      ]
     },
     "execution_count": 54,
     "metadata": {},
     "output_type": "execute_result"
    }
   ],
   "source": [
    "test_instance.tmp_KB"
   ]
  },
  {
   "cell_type": "code",
   "execution_count": 55,
   "metadata": {},
   "outputs": [
    {
     "data": {
      "text/plain": [
       "{'p1': p1, 'p2': p2, 'p3': p3}"
      ]
     },
     "execution_count": 55,
     "metadata": {},
     "output_type": "execute_result"
    }
   ],
   "source": [
    "test_instance.predicates_dict"
   ]
  }
 ],
 "metadata": {
  "kernelspec": {
   "display_name": "myenv",
   "language": "python",
   "name": "python3"
  },
  "language_info": {
   "codemirror_mode": {
    "name": "ipython",
    "version": 3
   },
   "file_extension": ".py",
   "mimetype": "text/x-python",
   "name": "python",
   "nbconvert_exporter": "python",
   "pygments_lexer": "ipython3",
   "version": "3.11.6"
  }
 },
 "nbformat": 4,
 "nbformat_minor": 2
}
