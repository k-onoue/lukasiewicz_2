{
 "cells": [
  {
   "cell_type": "code",
   "execution_count": 28,
   "metadata": {},
   "outputs": [
    {
     "name": "stdout",
     "output_type": "stream",
     "text": [
      "The autoreload extension is already loaded. To reload it, use:\n",
      "  %reload_ext autoreload\n"
     ]
    }
   ],
   "source": [
    "%load_ext autoreload\n",
    "%autoreload 2"
   ]
  },
  {
   "cell_type": "code",
   "execution_count": 29,
   "metadata": {},
   "outputs": [],
   "source": [
    "import os\n",
    "import time \n",
    "import sys\n",
    "\n",
    "project_dir_path = \"/home/onoue/ws/lukasiewicz_1\"\n",
    "sys.path.append(project_dir_path)\n",
    "\n",
    "import numpy as np\n",
    "import pandas as pd\n",
    "import sympy as sp \n",
    "\n",
    "# from src.setup_problem_v2 import Setup\n",
    "from src.misc import process_neg, is_symbol\n",
    "from src.process_fol_v2 import FOLConverter"
   ]
  },
  {
   "cell_type": "code",
   "execution_count": 30,
   "metadata": {},
   "outputs": [
    {
     "data": {
      "text/plain": [
       "'./../../inputs/winston_10/rules_2.txt'"
      ]
     },
     "execution_count": 30,
     "metadata": {},
     "output_type": "execute_result"
    }
   ],
   "source": [
    "data_dir_path = \"./../../inputs/winston_10/\"\n",
    "rules_path = os.path.join(data_dir_path, \"rules_2.txt\")\n",
    "rules_path"
   ]
  },
  {
   "cell_type": "code",
   "execution_count": 22,
   "metadata": {},
   "outputs": [],
   "source": [
    "test_instance = FOLConverter(rules_path)\n",
    "test_instance.main()"
   ]
  },
  {
   "cell_type": "code",
   "execution_count": 23,
   "metadata": {},
   "outputs": [
    {
     "name": "stdout",
     "output_type": "stream",
     "text": [
      "['hair(x)', '→', 'mammal(x)']\n",
      "['milk(x)', '→', 'mammal(x)']\n",
      "['feather(x)', '→', 'bird(x)']\n",
      "['layeggs(x)', '→', 'bird(x)']\n",
      "['mammal(x)', '⊗', 'meat(x)', '→', 'carnivore(x)']\n",
      "['mammal(x)', '⊗', 'pointedteeth(x)', '⊗', 'claws(x)', '⊗', 'forwardeyes(x)', '→', 'carnivore(x)']\n",
      "['mammal(x)', '⊗', 'hoofs(x)', '→', 'ungulate(x)']\n",
      "['mammal(x)', '⊗', 'cud(x)', '→', 'ungulate(x)']\n",
      "['carnivore(x)', '⊗', 'tawny(x)', '⊗', 'darkspots(x)', '→', 'cheetah(x)']\n",
      "['carnivore(x)', '⊗', 'tawny(x)', '⊗', 'blackstripes(x)', '→', 'tiger(x)']\n",
      "['ungulate(x)', '⊗', 'longlegs(x)', '⊗', 'longneck(x)', '⊗', 'tawny(x)', '⊗', 'darkspots(x)', '→', 'giraffe(x)']\n",
      "['ungulate(x)', '⊗', 'white(x)', '⊗', 'blackstripes(x)', '→', 'zebra(x)']\n",
      "['bird(x)', '⊗', 'longlegs(x)', '⊗', 'longneck(x)', '⊗', 'black(x)', '→', 'ostrich(x)']\n",
      "['bird(x)', '⊗', 'swim(x)', '⊗', 'blackwhite(x)', '→', 'penguin(x)']\n",
      "['bird(x)', '⊗', 'goodflier(x)', '→', 'albatross(x)']\n",
      "['cheetah(x)', '⊕', 'tiger(x)', '⊕', 'giraffe(x)', '⊕', 'zebra(x)', '⊕', 'ostrich(x)', '⊕', 'penguin(x)', '⊕', 'albatross(x)']\n",
      "['mammal(x)', '⊕', 'bird(x)']\n",
      "['hair(x)', '⊕', 'feather(x)']\n",
      "['darkspots(x)', '→', '¬', 'blackstripes(x)']\n",
      "['blackstripes(x)', '→', '¬', 'darkspots(x)']\n",
      "['tawny(x)', '→', '¬', 'black(x)']\n",
      "['black(x)', '→', '¬', 'tawny(x)']\n",
      "['white(x)', '→', '¬', 'black(x)']\n",
      "['tawny(x)', '→', '¬', 'white(x)']\n",
      "['black(x)', '→', '¬', 'white(x)']\n",
      "['white(x)', '→', '¬', 'tawny(x)']\n",
      "['black(x)', '→', '¬', 'white(x)']\n",
      "['black(x)', '→', '¬', 'tawny(x)']\n",
      "['white(x)', '→', '¬', 'black(x)']\n",
      "['white(x)', '→', '¬', 'tawny(x)']\n",
      "['tawny(x)', '→', '¬', 'white(x)']\n",
      "['tawny(x)', '→', '¬', 'black(x)']\n"
     ]
    }
   ],
   "source": [
    "for formula in test_instance.KB_origin:\n",
    "    print(formula)"
   ]
  },
  {
   "cell_type": "code",
   "execution_count": 24,
   "metadata": {},
   "outputs": [
    {
     "name": "stdout",
     "output_type": "stream",
     "text": [
      "['¬', 'hair', '⊕', 'mammal']\n",
      "['¬', 'milk', '⊕', 'mammal']\n",
      "['¬', 'feather', '⊕', 'bird']\n",
      "['¬', 'layeggs', '⊕', 'bird']\n",
      "['¬', 'mammal', '⊕', '¬', 'meat', '⊕', 'carnivore']\n",
      "['¬', 'mammal', '⊕', '¬', 'pointedteeth', '⊕', '¬', 'claws', '⊕', '¬', 'forwardeyes', '⊕', 'carnivore']\n",
      "['¬', 'mammal', '⊕', '¬', 'hoofs', '⊕', 'ungulate']\n",
      "['¬', 'mammal', '⊕', '¬', 'cud', '⊕', 'ungulate']\n",
      "['¬', 'carnivore', '⊕', '¬', 'tawny', '⊕', '¬', 'darkspots', '⊕', 'cheetah']\n",
      "['¬', 'carnivore', '⊕', '¬', 'tawny', '⊕', '¬', 'blackstripes', '⊕', 'tiger']\n",
      "['¬', 'ungulate', '⊕', '¬', 'longlegs', '⊕', '¬', 'longneck', '⊕', '¬', 'tawny', '⊕', '¬', 'darkspots', '⊕', 'giraffe']\n",
      "['¬', 'ungulate', '⊕', '¬', 'white', '⊕', '¬', 'blackstripes', '⊕', 'zebra']\n",
      "['¬', 'bird', '⊕', '¬', 'longlegs', '⊕', '¬', 'longneck', '⊕', '¬', 'black', '⊕', 'ostrich']\n",
      "['¬', 'bird', '⊕', '¬', 'swim', '⊕', '¬', 'blackwhite', '⊕', 'penguin']\n",
      "['¬', 'bird', '⊕', '¬', 'goodflier', '⊕', 'albatross']\n",
      "['cheetah', '⊕', 'tiger', '⊕', 'giraffe', '⊕', 'zebra', '⊕', 'ostrich', '⊕', 'penguin', '⊕', 'albatross']\n",
      "['mammal', '⊕', 'bird']\n",
      "['hair', '⊕', 'feather']\n",
      "['¬', 'darkspots', '⊕', '¬', 'blackstripes']\n",
      "['¬', 'blackstripes', '⊕', '¬', 'darkspots']\n",
      "['¬', 'tawny', '⊕', '¬', 'black']\n",
      "['¬', 'black', '⊕', '¬', 'tawny']\n",
      "['¬', 'white', '⊕', '¬', 'black']\n",
      "['¬', 'tawny', '⊕', '¬', 'white']\n",
      "['¬', 'black', '⊕', '¬', 'white']\n",
      "['¬', 'white', '⊕', '¬', 'tawny']\n",
      "['¬', 'black', '⊕', '¬', 'white']\n",
      "['¬', 'black', '⊕', '¬', 'tawny']\n",
      "['¬', 'white', '⊕', '¬', 'black']\n",
      "['¬', 'white', '⊕', '¬', 'tawny']\n",
      "['¬', 'tawny', '⊕', '¬', 'white']\n",
      "['¬', 'tawny', '⊕', '¬', 'black']\n"
     ]
    }
   ],
   "source": [
    "for formula in test_instance.KB:\n",
    "    print(formula)"
   ]
  },
  {
   "cell_type": "code",
   "execution_count": 25,
   "metadata": {},
   "outputs": [
    {
     "name": "stdout",
     "output_type": "stream",
     "text": [
      "[[1], [-hair + mammal + 1]]\n",
      "[[1], [mammal - milk + 1]]\n",
      "[[1], [bird - feather + 1]]\n",
      "[[1], [bird - layeggs + 1]]\n",
      "[[1], [carnivore - mammal - meat + 2]]\n",
      "[[1], [carnivore - claws - forwardeyes - mammal - pointedteeth + 4]]\n",
      "[[1], [-hoofs - mammal + ungulate + 2]]\n",
      "[[1], [-cud - mammal + ungulate + 2]]\n",
      "[[1], [-carnivore + cheetah - darkspots - tawny + 3]]\n",
      "[[1], [-blackstripes - carnivore - tawny + tiger + 3]]\n",
      "[[1], [-darkspots + giraffe - longlegs - longneck - tawny - ungulate + 5]]\n",
      "[[1], [-blackstripes - ungulate - white + zebra + 3]]\n",
      "[[1], [-bird - black - longlegs - longneck + ostrich + 4]]\n",
      "[[1], [-bird - blackwhite + penguin - swim + 3]]\n",
      "[[1], [albatross - bird - goodflier + 2]]\n",
      "[[1], [albatross + cheetah + giraffe + ostrich + penguin + tiger + zebra]]\n",
      "[[1], [bird + mammal]]\n",
      "[[1], [feather + hair]]\n",
      "[[1], [-blackstripes - darkspots + 2]]\n",
      "[[1], [-blackstripes - darkspots + 2]]\n",
      "[[1], [-black - tawny + 2]]\n",
      "[[1], [-black - tawny + 2]]\n",
      "[[1], [-black - white + 2]]\n",
      "[[1], [-tawny - white + 2]]\n",
      "[[1], [-black - white + 2]]\n",
      "[[1], [-tawny - white + 2]]\n",
      "[[1], [-black - white + 2]]\n",
      "[[1], [-black - tawny + 2]]\n",
      "[[1], [-black - white + 2]]\n",
      "[[1], [-tawny - white + 2]]\n",
      "[[1], [-tawny - white + 2]]\n",
      "[[1], [-black - tawny + 2]]\n"
     ]
    }
   ],
   "source": [
    "for formula in test_instance.KB_tmp:\n",
    "    print(formula)"
   ]
  },
  {
   "cell_type": "code",
   "execution_count": 27,
   "metadata": {},
   "outputs": [
    {
     "data": {
      "text/plain": [
       "{'hair': hair,\n",
       " 'mammal': mammal,\n",
       " 'milk': milk,\n",
       " 'feather': feather,\n",
       " 'bird': bird,\n",
       " 'layeggs': layeggs,\n",
       " 'meat': meat,\n",
       " 'carnivore': carnivore,\n",
       " 'pointedteeth': pointedteeth,\n",
       " 'claws': claws,\n",
       " 'forwardeyes': forwardeyes,\n",
       " 'hoofs': hoofs,\n",
       " 'ungulate': ungulate,\n",
       " 'cud': cud,\n",
       " 'tawny': tawny,\n",
       " 'darkspots': darkspots,\n",
       " 'cheetah': cheetah,\n",
       " 'blackstripes': blackstripes,\n",
       " 'tiger': tiger,\n",
       " 'longlegs': longlegs,\n",
       " 'longneck': longneck,\n",
       " 'giraffe': giraffe,\n",
       " 'white': white,\n",
       " 'zebra': zebra,\n",
       " 'black': black,\n",
       " 'ostrich': ostrich,\n",
       " 'swim': swim,\n",
       " 'blackwhite': blackwhite,\n",
       " 'penguin': penguin,\n",
       " 'goodflier': goodflier,\n",
       " 'albatross': albatross}"
      ]
     },
     "execution_count": 27,
     "metadata": {},
     "output_type": "execute_result"
    }
   ],
   "source": [
    "test_instance.predicates_dict_tmp"
   ]
  },
  {
   "cell_type": "code",
   "execution_count": null,
   "metadata": {},
   "outputs": [],
   "source": []
  },
  {
   "cell_type": "code",
   "execution_count": null,
   "metadata": {},
   "outputs": [],
   "source": []
  },
  {
   "cell_type": "code",
   "execution_count": null,
   "metadata": {},
   "outputs": [],
   "source": []
  },
  {
   "cell_type": "code",
   "execution_count": null,
   "metadata": {},
   "outputs": [],
   "source": []
  },
  {
   "cell_type": "code",
   "execution_count": null,
   "metadata": {},
   "outputs": [],
   "source": []
  }
 ],
 "metadata": {
  "kernelspec": {
   "display_name": "myenv",
   "language": "python",
   "name": "python3"
  },
  "language_info": {
   "codemirror_mode": {
    "name": "ipython",
    "version": 3
   },
   "file_extension": ".py",
   "mimetype": "text/x-python",
   "name": "python",
   "nbconvert_exporter": "python",
   "pygments_lexer": "ipython3",
   "version": "3.10.12"
  }
 },
 "nbformat": 4,
 "nbformat_minor": 2
}
