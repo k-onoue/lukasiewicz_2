{
 "cells": [
  {
   "cell_type": "code",
   "execution_count": 1,
   "metadata": {},
   "outputs": [],
   "source": [
    "%load_ext autoreload\n",
    "%autoreload 2"
   ]
  },
  {
   "cell_type": "code",
   "execution_count": 2,
   "metadata": {},
   "outputs": [],
   "source": [
    "import os\n",
    "import sys \n",
    "\n",
    "# project_dir_path = '/home/onoue/ws/lukasiewicz_1'\n",
    "project_dir_path = '/Users/keisukeonoue/ws/lukasiewicz_1'\n",
    "sys.path.append(project_dir_path)\n",
    "\n",
    "import cvxpy as cp \n",
    "import numpy as np \n",
    "import pandas as pd \n",
    "\n",
    "from src.setup_problem_dual_single_task import Setup\n",
    "\n",
    "from src.objective_function_single_task import ObjectiveFunction\n",
    "from src.predicate import Predicate_dual"
   ]
  },
  {
   "cell_type": "code",
   "execution_count": 3,
   "metadata": {},
   "outputs": [],
   "source": [
    "data_dir_path = \"./../inputs/toy_data\"\n",
    "\n",
    "file_names_dict = {\n",
    "    'supervised': ['L_p1.csv', 'L_p2.csv', 'L_p3.csv'],\n",
    "\n",
    "    'unsupervised': ['U.csv'],\n",
    "    'rule': ['rules.txt']\n",
    "}\n",
    "\n",
    "# problem_instance = Setup(data_dir_path, file_names_dict, ObjectiveFunction, 'p3', c1=10, c2=10)\n",
    "\n",
    "# objective, constraints = problem_instance.main()\n",
    "\n",
    "# problem = cp.Problem(objective, constraints)\n",
    "# result = problem.solve(verbose=True)"
   ]
  },
  {
   "cell_type": "markdown",
   "metadata": {},
   "source": [
    "# 精度は悪くなさそう\n",
    "\n",
    " ~~切片 $b_j$ の値の調整ができていない気がする~~"
   ]
  },
  {
   "cell_type": "code",
   "execution_count": 4,
   "metadata": {},
   "outputs": [
    {
     "name": "stdout",
     "output_type": "stream",
     "text": [
      "load_data took 0.004444122314453125 seconds!\n",
      "load_rules took 0.019488811492919922 seconds!\n",
      "formulate_predicates_with_cvxpy took 5.6743621826171875e-05 seconds!\n",
      "shape of P: (38, 38)\n",
      "finish l\n",
      "finish h\n",
      "finish s\n",
      "finish l h\n",
      "finish l s\n",
      "finish h s\n",
      "_construct_P_j took 0.00031828880310058594 seconds!\n",
      "construct_constraints took 0.001725912094116211 seconds!\n",
      "===============================================================================\n",
      "                                     CVXPY                                     \n",
      "                                     v1.3.2                                    \n",
      "===============================================================================\n",
      "(CVXPY) Jan 28 09:30:42 AM: Your problem has 96 variables, 29 constraints, and 0 parameters.\n",
      "(CVXPY) Jan 28 09:30:42 AM: It is compliant with the following grammars: DCP, DQCP\n",
      "(CVXPY) Jan 28 09:30:42 AM: (If you need to solve this problem multiple times, but with different data, consider using parameters.)\n",
      "(CVXPY) Jan 28 09:30:42 AM: CVXPY will first compile your problem; then, it will invoke a numerical solver to obtain a solution.\n",
      "-------------------------------------------------------------------------------\n",
      "                                  Compilation                                  \n",
      "-------------------------------------------------------------------------------\n",
      "(CVXPY) Jan 28 09:30:42 AM: Compiling problem (target solver=OSQP).\n",
      "(CVXPY) Jan 28 09:30:42 AM: Reduction chain: FlipObjective -> CvxAttr2Constr -> Qp2SymbolicQp -> QpMatrixStuffing -> OSQP\n",
      "(CVXPY) Jan 28 09:30:42 AM: Applying reduction FlipObjective\n",
      "(CVXPY) Jan 28 09:30:42 AM: Applying reduction CvxAttr2Constr\n",
      "(CVXPY) Jan 28 09:30:42 AM: Applying reduction Qp2SymbolicQp\n",
      "(CVXPY) Jan 28 09:30:42 AM: Applying reduction QpMatrixStuffing\n",
      "(CVXPY) Jan 28 09:30:42 AM: Applying reduction OSQP\n",
      "(CVXPY) Jan 28 09:30:42 AM: Finished problem compilation (took 3.412e-02 seconds).\n",
      "-------------------------------------------------------------------------------\n",
      "                                Numerical solver                               \n",
      "-------------------------------------------------------------------------------\n",
      "(CVXPY) Jan 28 09:30:42 AM: Invoking solver OSQP  to obtain a solution.\n",
      "-----------------------------------------------------------------\n",
      "           OSQP v0.6.3  -  Operator Splitting QP Solver\n",
      "              (c) Bartolomeo Stellato,  Goran Banjac\n",
      "        University of Oxford  -  Stanford University 2021\n",
      "-----------------------------------------------------------------\n",
      "problem:  variables n = 134, constraints m = 163\n",
      "          nnz(P) + nnz(A) = 468\n",
      "settings: linear system solver = qdldl,\n",
      "          eps_abs = 1.0e-05, eps_rel = 1.0e-05,\n",
      "          eps_prim_inf = 1.0e-04, eps_dual_inf = 1.0e-04,\n",
      "          rho = 1.00e-01 (adaptive),\n",
      "          sigma = 1.00e-06, alpha = 1.60, max_iter = 10000\n",
      "          check_termination: on (interval 25),\n",
      "          scaling: on, scaled_termination: off\n",
      "          warm start: on, polish: on, time_limit: off\n",
      "\n",
      "iter   objective    pri res    dua res    rho        time\n",
      "   1  -1.3133e+02   1.46e+01   7.89e-01   1.00e-01   1.14e-04s\n",
      " 150  -1.0031e+01   5.61e-05   1.84e-05   1.00e-01   4.57e-04s\n",
      "\n",
      "status:               solved\n",
      "solution polish:      unsuccessful\n",
      "number of iterations: 150\n",
      "optimal objective:    -10.0307\n",
      "run time:             5.60e-04s\n",
      "optimal rho estimate: 8.58e-02\n",
      "\n",
      "-------------------------------------------------------------------------------\n",
      "                                    Summary                                    \n",
      "-------------------------------------------------------------------------------\n",
      "(CVXPY) Jan 28 09:30:42 AM: Problem status: optimal\n",
      "(CVXPY) Jan 28 09:30:42 AM: Optimal value: 1.003e+01\n",
      "(CVXPY) Jan 28 09:30:42 AM: Compilation took 3.412e-02 seconds\n",
      "(CVXPY) Jan 28 09:30:42 AM: Solver (including time spent in interface) took 1.059e-03 seconds\n"
     ]
    },
    {
     "data": {
      "image/png": "[encoded data removed]",
      "text/plain": [
       "<Figure size 600x400 with 1 Axes>"
      ]
     },
     "metadata": {},
     "output_type": "display_data"
    },
    {
     "name": "stdout",
     "output_type": "stream",
     "text": [
      "\n",
      "p1: [ 0.75014557  2.00018046 -1.01892014]\n"
     ]
    }
   ],
   "source": [
    "problem_instance = Setup(data_dir_path, file_names_dict, ObjectiveFunction, 'p1', c1=10, c2=10)\n",
    "\n",
    "objective, constraints = problem_instance.main()\n",
    "\n",
    "problem = cp.Problem(objective, constraints)\n",
    "result = problem.solve(verbose=True)\n",
    "\n",
    "\n",
    "import matplotlib.pyplot as plt \n",
    "\n",
    "\n",
    "plt.figure(figsize=(6,4))\n",
    "\n",
    "p1 = Predicate_dual(problem_instance, 'p1')\n",
    "# p2 = Predicate_dual(problem_instance, 'p2')\n",
    "# p3 = Predicate_dual(problem_instance, 'p3')\n",
    "\n",
    "\n",
    "\n",
    "# ps = [p1, p2, p3]\n",
    "ps = [p1]\n",
    "\n",
    "test_x = np.linspace(0.05, 0.95, 100).reshape(-1, 1)\n",
    "test_ys = []\n",
    "\n",
    "for p in ps:\n",
    "    w1 = p.coeff[0]\n",
    "    w2 = p.coeff[1]\n",
    "    b  = p.coeff[2]\n",
    "\n",
    "    x = np.hstack([test_x, np.ones_like(test_x)])\n",
    "    w = np.array([-w1/w2, -b/w2 + 0.5/w2]).reshape(-1,1)\n",
    "\n",
    "    test_ys.append(x @ w)\n",
    "\n",
    "\n",
    "colors = ['red', 'blue', 'green']\n",
    "\n",
    "\n",
    "for p, c in zip(ps, colors):\n",
    "    for l in range(4):\n",
    "        if p.L[l, -1] == 1:\n",
    "            plt.scatter(p.L[l, 0], p.L[l, 1], c=c, marker='o', label='1')\n",
    "        else:\n",
    "            plt.scatter(p.L[l, 0], p.L[l, 1], facecolors='none', edgecolors=c, marker='o', label='-1')\n",
    "        \n",
    "for j, test_y in enumerate(test_ys):\n",
    "    plt.plot(test_x, test_y, label=f'p{j+1}')\n",
    "\n",
    "plt.xlabel(\"x1\")\n",
    "plt.ylabel(\"x2\")\n",
    "plt.legend()\n",
    "plt.grid(True)\n",
    "plt.show()\n",
    "\n",
    "print()\n",
    "print(f'p1: {p1.coeff}')"
   ]
  },
  {
   "cell_type": "markdown",
   "metadata": {},
   "source": [
    "```\n",
    "[ 0.75   2.    -1.075]\n",
    "[ 0.31976744  1.93604651 -0.6127907 ]\n",
    "[ 4.4890372e-11  2.0000000e+00 -4.0000000e-01]\n",
    "```"
   ]
  },
  {
   "cell_type": "code",
   "execution_count": 5,
   "metadata": {},
   "outputs": [
    {
     "name": "stdout",
     "output_type": "stream",
     "text": [
      "load_data took 0.005913257598876953 seconds!\n",
      "load_rules took 0.0007448196411132812 seconds!\n",
      "formulate_predicates_with_cvxpy took 7.414817810058594e-05 seconds!\n",
      "shape of P: (38, 38)\n",
      "finish l\n",
      "finish h\n",
      "finish s\n",
      "finish l h\n",
      "finish l s\n",
      "finish h s\n",
      "_construct_P_j took 0.0003840923309326172 seconds!\n",
      "construct_constraints took 0.0025091171264648438 seconds!\n",
      "===============================================================================\n",
      "                                     CVXPY                                     \n",
      "                                     v1.3.2                                    \n",
      "===============================================================================\n",
      "(CVXPY) Jan 28 09:30:45 AM: Your problem has 96 variables, 29 constraints, and 0 parameters.\n",
      "(CVXPY) Jan 28 09:30:45 AM: It is compliant with the following grammars: DCP, DQCP\n",
      "(CVXPY) Jan 28 09:30:45 AM: (If you need to solve this problem multiple times, but with different data, consider using parameters.)\n",
      "(CVXPY) Jan 28 09:30:45 AM: CVXPY will first compile your problem; then, it will invoke a numerical solver to obtain a solution.\n",
      "-------------------------------------------------------------------------------\n",
      "                                  Compilation                                  \n",
      "-------------------------------------------------------------------------------\n",
      "(CVXPY) Jan 28 09:30:45 AM: Compiling problem (target solver=OSQP).\n",
      "(CVXPY) Jan 28 09:30:45 AM: Reduction chain: FlipObjective -> CvxAttr2Constr -> Qp2SymbolicQp -> QpMatrixStuffing -> OSQP\n",
      "(CVXPY) Jan 28 09:30:45 AM: Applying reduction FlipObjective\n",
      "(CVXPY) Jan 28 09:30:45 AM: Applying reduction CvxAttr2Constr\n",
      "(CVXPY) Jan 28 09:30:45 AM: Applying reduction Qp2SymbolicQp\n",
      "(CVXPY) Jan 28 09:30:45 AM: Applying reduction QpMatrixStuffing\n",
      "(CVXPY) Jan 28 09:30:45 AM: Applying reduction OSQP\n",
      "(CVXPY) Jan 28 09:30:45 AM: Finished problem compilation (took 3.351e-02 seconds).\n",
      "-------------------------------------------------------------------------------\n",
      "                                Numerical solver                               \n",
      "-------------------------------------------------------------------------------\n",
      "(CVXPY) Jan 28 09:30:45 AM: Invoking solver OSQP  to obtain a solution.\n",
      "-----------------------------------------------------------------\n",
      "           OSQP v0.6.3  -  Operator Splitting QP Solver\n",
      "              (c) Bartolomeo Stellato,  Goran Banjac\n",
      "        University of Oxford  -  Stanford University 2021\n",
      "-----------------------------------------------------------------\n",
      "problem:  variables n = 134, constraints m = 163\n",
      "          nnz(P) + nnz(A) = 609\n",
      "settings: linear system solver = qdldl,\n",
      "          eps_abs = 1.0e-05, eps_rel = 1.0e-05,\n",
      "          eps_prim_inf = 1.0e-04, eps_dual_inf = 1.0e-04,\n",
      "          rho = 1.00e-01 (adaptive),\n",
      "          sigma = 1.00e-06, alpha = 1.60, max_iter = 10000\n",
      "          check_termination: on (interval 25),\n",
      "          scaling: on, scaled_termination: off\n",
      "          warm start: on, polish: on, time_limit: off\n",
      "\n",
      "iter   objective    pri res    dua res    rho        time\n",
      "   1  -1.3207e+02   1.40e+01   9.39e-01   1.00e-01   1.45e-04s\n",
      " 200  -2.4995e+01   7.99e-04   1.36e-04   1.00e-01   6.37e-04s\n",
      " 275  -2.4997e+01   1.17e-04   2.06e-05   1.00e-01   9.84e-04s\n",
      "\n",
      "status:               solved\n",
      "solution polish:      unsuccessful\n",
      "number of iterations: 275\n",
      "optimal objective:    -24.9965\n",
      "run time:             2.36e-03s\n",
      "optimal rho estimate: 8.16e-02\n",
      "\n",
      "-------------------------------------------------------------------------------\n",
      "                                    Summary                                    \n",
      "-------------------------------------------------------------------------------\n",
      "(CVXPY) Jan 28 09:30:45 AM: Problem status: optimal\n",
      "(CVXPY) Jan 28 09:30:45 AM: Optimal value: 2.500e+01\n",
      "(CVXPY) Jan 28 09:30:45 AM: Compilation took 3.351e-02 seconds\n",
      "(CVXPY) Jan 28 09:30:45 AM: Solver (including time spent in interface) took 6.195e-03 seconds\n"
     ]
    },
    {
     "data": {
      "image/png": "[encoded data removed]",
      "text/plain": [
       "<Figure size 600x400 with 1 Axes>"
      ]
     },
     "metadata": {},
     "output_type": "display_data"
    },
    {
     "name": "stdout",
     "output_type": "stream",
     "text": [
      "\n",
      "p2: [ 0.69721192  1.86021364 -0.75549693]\n"
     ]
    }
   ],
   "source": [
    "problem_instance = Setup(data_dir_path, file_names_dict, ObjectiveFunction, 'p2', c1=10, c2=10)\n",
    "\n",
    "objective, constraints = problem_instance.main()\n",
    "\n",
    "problem = cp.Problem(objective, constraints)\n",
    "result = problem.solve(verbose=True)\n",
    "\n",
    "\n",
    "import matplotlib.pyplot as plt \n",
    "\n",
    "\n",
    "plt.figure(figsize=(6,4))\n",
    "\n",
    "# p1 = Predicate_dual(problem_instance, 'p1')\n",
    "p2 = Predicate_dual(problem_instance, 'p2')\n",
    "# p3 = Predicate_dual(problem_instance, 'p3')\n",
    "\n",
    "\n",
    "\n",
    "# ps = [p1, p2, p3]\n",
    "ps = [p2]\n",
    "\n",
    "test_x = np.linspace(0.05, 0.95, 100).reshape(-1, 1)\n",
    "test_ys = []\n",
    "\n",
    "for p in ps:\n",
    "    w1 = p.coeff[0]\n",
    "    w2 = p.coeff[1]\n",
    "    b  = p.coeff[2]\n",
    "\n",
    "    x = np.hstack([test_x, np.ones_like(test_x)])\n",
    "    w = np.array([-w1/w2, -b/w2 + 0.5/w2]).reshape(-1,1)\n",
    "\n",
    "    test_ys.append(x @ w)\n",
    "\n",
    "\n",
    "colors = ['red', 'blue', 'green']\n",
    "\n",
    "\n",
    "for p, c in zip(ps, colors):\n",
    "    for l in range(4):\n",
    "        if p.L[l, -1] == 1:\n",
    "            plt.scatter(p.L[l, 0], p.L[l, 1], c=c, marker='o', label='1')\n",
    "        else:\n",
    "            plt.scatter(p.L[l, 0], p.L[l, 1], facecolors='none', edgecolors=c, marker='o', label='-1')\n",
    "        \n",
    "for j, test_y in enumerate(test_ys):\n",
    "    plt.plot(test_x, test_y, label=f'p{j+1}')\n",
    "\n",
    "plt.xlabel(\"x1\")\n",
    "plt.ylabel(\"x2\")\n",
    "plt.legend()\n",
    "plt.grid(True)\n",
    "plt.show()\n",
    "\n",
    "print()\n",
    "print(f'p2: {p2.coeff}')"
   ]
  },
  {
   "cell_type": "markdown",
   "metadata": {},
   "source": [
    "```\n",
    "[ 0.75   2.    -1.075]\n",
    "[ 0.31976744  1.93604651 -0.6127907 ]\n",
    "[ 4.4890372e-11  2.0000000e+00 -4.0000000e-01]\n",
    "```"
   ]
  },
  {
   "cell_type": "code",
   "execution_count": 6,
   "metadata": {},
   "outputs": [
    {
     "name": "stdout",
     "output_type": "stream",
     "text": [
      "load_data took 0.003960132598876953 seconds!\n",
      "load_rules took 0.0007941722869873047 seconds!\n",
      "formulate_predicates_with_cvxpy took 4.57763671875e-05 seconds!\n",
      "shape of P: (38, 38)\n",
      "finish l\n",
      "finish h\n",
      "finish s\n",
      "finish l h\n",
      "finish l s\n",
      "finish h s\n",
      "_construct_P_j took 0.00028395652770996094 seconds!\n",
      "construct_constraints took 0.002068758010864258 seconds!\n",
      "===============================================================================\n",
      "                                     CVXPY                                     \n",
      "                                     v1.3.2                                    \n",
      "===============================================================================\n",
      "(CVXPY) Jan 28 09:30:46 AM: Your problem has 96 variables, 29 constraints, and 0 parameters.\n",
      "(CVXPY) Jan 28 09:30:46 AM: It is compliant with the following grammars: DCP, DQCP\n",
      "(CVXPY) Jan 28 09:30:46 AM: (If you need to solve this problem multiple times, but with different data, consider using parameters.)\n"
     ]
    },
    {
     "name": "stdout",
     "output_type": "stream",
     "text": [
      "(CVXPY) Jan 28 09:30:46 AM: CVXPY will first compile your problem; then, it will invoke a numerical solver to obtain a solution.\n",
      "-------------------------------------------------------------------------------\n",
      "                                  Compilation                                  \n",
      "-------------------------------------------------------------------------------\n",
      "(CVXPY) Jan 28 09:30:46 AM: Compiling problem (target solver=OSQP).\n",
      "(CVXPY) Jan 28 09:30:46 AM: Reduction chain: FlipObjective -> CvxAttr2Constr -> Qp2SymbolicQp -> QpMatrixStuffing -> OSQP\n",
      "(CVXPY) Jan 28 09:30:46 AM: Applying reduction FlipObjective\n",
      "(CVXPY) Jan 28 09:30:46 AM: Applying reduction CvxAttr2Constr\n",
      "(CVXPY) Jan 28 09:30:46 AM: Applying reduction Qp2SymbolicQp\n",
      "(CVXPY) Jan 28 09:30:46 AM: Applying reduction QpMatrixStuffing\n",
      "(CVXPY) Jan 28 09:30:46 AM: Applying reduction OSQP\n",
      "(CVXPY) Jan 28 09:30:46 AM: Finished problem compilation (took 2.613e-02 seconds).\n",
      "-------------------------------------------------------------------------------\n",
      "                                Numerical solver                               \n",
      "-------------------------------------------------------------------------------\n",
      "(CVXPY) Jan 28 09:30:46 AM: Invoking solver OSQP  to obtain a solution.\n",
      "-----------------------------------------------------------------\n",
      "           OSQP v0.6.3  -  Operator Splitting QP Solver\n",
      "              (c) Bartolomeo Stellato,  Goran Banjac\n",
      "        University of Oxford  -  Stanford University 2021\n",
      "-----------------------------------------------------------------\n",
      "problem:  variables n = 134, constraints m = 163\n",
      "          nnz(P) + nnz(A) = 468\n",
      "settings: linear system solver = qdldl,\n",
      "          eps_abs = 1.0e-05, eps_rel = 1.0e-05,\n",
      "          eps_prim_inf = 1.0e-04, eps_dual_inf = 1.0e-04,\n",
      "          rho = 1.00e-01 (adaptive),\n",
      "          sigma = 1.00e-06, alpha = 1.60, max_iter = 10000\n",
      "          check_termination: on (interval 25),\n",
      "          scaling: on, scaled_termination: off\n",
      "          warm start: on, polish: on, time_limit: off\n",
      "\n",
      "iter   objective    pri res    dua res    rho        time\n",
      "   1  -1.3184e+02   1.37e+01   8.09e-01   1.00e-01   1.08e-04s\n",
      " 200  -1.9000e+01   1.99e-05   2.42e-05   1.00e-01   5.89e-04s\n",
      "\n",
      "status:               solved\n",
      "solution polish:      unsuccessful\n",
      "number of iterations: 200\n",
      "optimal objective:    -18.9995\n",
      "run time:             6.72e-04s\n",
      "optimal rho estimate: 2.69e-02\n",
      "\n",
      "-------------------------------------------------------------------------------\n",
      "                                    Summary                                    \n",
      "-------------------------------------------------------------------------------\n",
      "(CVXPY) Jan 28 09:30:46 AM: Problem status: optimal\n",
      "(CVXPY) Jan 28 09:30:46 AM: Optimal value: 1.900e+01\n",
      "(CVXPY) Jan 28 09:30:46 AM: Compilation took 2.613e-02 seconds\n",
      "(CVXPY) Jan 28 09:30:46 AM: Solver (including time spent in interface) took 1.267e-03 seconds\n"
     ]
    },
    {
     "data": {
      "image/png": "[encoded data removed]",
      "text/plain": [
       "<Figure size 600x400 with 1 Axes>"
      ]
     },
     "metadata": {},
     "output_type": "display_data"
    },
    {
     "name": "stdout",
     "output_type": "stream",
     "text": [
      "\n",
      "p3: [-1.15856076e-04  2.00001098e+00 -3.99947012e-01]\n"
     ]
    }
   ],
   "source": [
    "problem_instance = Setup(data_dir_path, file_names_dict, ObjectiveFunction, 'p3', c1=10, c2=10)\n",
    "\n",
    "objective, constraints = problem_instance.main()\n",
    "\n",
    "problem = cp.Problem(objective, constraints)\n",
    "result = problem.solve(verbose=True)\n",
    "\n",
    "\n",
    "import matplotlib.pyplot as plt \n",
    "\n",
    "\n",
    "plt.figure(figsize=(6,4))\n",
    "\n",
    "# p1 = Predicate_dual(problem_instance, 'p1')\n",
    "# p2 = Predicate_dual(problem_instance, 'p2')\n",
    "p3 = Predicate_dual(problem_instance, 'p3')\n",
    "\n",
    "\n",
    "\n",
    "# ps = [p1, p2, p3]\n",
    "ps = [p3]\n",
    "\n",
    "test_x = np.linspace(0.05, 0.95, 100).reshape(-1, 1)\n",
    "test_ys = []\n",
    "\n",
    "for p in ps:\n",
    "    w1 = p.coeff[0]\n",
    "    w2 = p.coeff[1]\n",
    "    b  = p.coeff[2]\n",
    "\n",
    "    x = np.hstack([test_x, np.ones_like(test_x)])\n",
    "    w = np.array([-w1/w2, -b/w2 + 0.5/w2]).reshape(-1,1)\n",
    "\n",
    "    test_ys.append(x @ w)\n",
    "\n",
    "\n",
    "colors = ['red', 'blue', 'green']\n",
    "\n",
    "\n",
    "for p, c in zip(ps, colors):\n",
    "    for l in range(4):\n",
    "        if p.L[l, -1] == 1:\n",
    "            plt.scatter(p.L[l, 0], p.L[l, 1], c=c, marker='o', label='1')\n",
    "        else:\n",
    "            plt.scatter(p.L[l, 0], p.L[l, 1], facecolors='none', edgecolors=c, marker='o', label='-1')\n",
    "        \n",
    "for j, test_y in enumerate(test_ys):\n",
    "    plt.plot(test_x, test_y, label=f'p{j+1}')\n",
    "\n",
    "plt.xlabel(\"x1\")\n",
    "plt.ylabel(\"x2\")\n",
    "plt.legend()\n",
    "plt.grid(True)\n",
    "plt.show()\n",
    "\n",
    "print()\n",
    "print(f'p3: {p3.coeff}')"
   ]
  },
  {
   "cell_type": "markdown",
   "metadata": {},
   "source": [
    "```\n",
    "[ 0.75   2.    -1.075]\n",
    "[ 0.31976744  1.93604651 -0.6127907 ]\n",
    "[ 4.4890372e-11  2.0000000e+00 -4.0000000e-01]\n",
    "```"
   ]
  },
  {
   "attachments": {
    "image.png": {
     "image/png": "[encoded data removed]"
    }
   },
   "cell_type": "markdown",
   "metadata": {},
   "source": [
    "![image.png](attachment:image.png)"
   ]
  },
  {
   "cell_type": "markdown",
   "metadata": {},
   "source": [
    "# pima indian 計算コスト"
   ]
  },
  {
   "cell_type": "markdown",
   "metadata": {},
   "source": [
    "## 150"
   ]
  },
  {
   "cell_type": "code",
   "execution_count": 8,
   "metadata": {},
   "outputs": [
    {
     "name": "stdout",
     "output_type": "stream",
     "text": [
      "load_data took 0.06258797645568848 seconds!\n",
      "load_rules took 0.06591606140136719 seconds!\n",
      "formulate_predicates_with_cvxpy took 0.00023412704467773438 seconds!\n",
      "shape of P: (8422, 8422)\n",
      "finish l\n",
      "finish h\n",
      "finish s\n",
      "finish l h\n",
      "finish l s\n",
      "finish h s\n",
      "_construct_P_j took 2.6564972400665283 seconds!\n",
      "construct_constraints took 1.647413969039917 seconds!\n"
     ]
    },
    {
     "name": "stderr",
     "output_type": "stream",
     "text": [
      "/Users/keisukeonoue/ws/lukasiewicz_1/myenv/lib/python3.11/site-packages/cvxpy/problems/problem.py:157: UserWarning: Objective contains too many subexpressions. Consider vectorizing your CVXPY code to speed up compilation.\n",
      "  warnings.warn(\"Objective contains too many subexpressions. \"\n",
      "/Users/keisukeonoue/ws/lukasiewicz_1/myenv/lib/python3.11/site-packages/cvxpy/problems/problem.py:163: UserWarning: Constraint #0 contains too many subexpressions. Consider vectorizing your CVXPY code to speed up compilation.\n",
      "  warnings.warn(f\"Constraint #{i} contains too many subexpressions. \"\n"
     ]
    },
    {
     "name": "stdout",
     "output_type": "stream",
     "text": [
      "===============================================================================\n",
      "                                     CVXPY                                     \n",
      "                                     v1.3.2                                    \n",
      "===============================================================================\n",
      "(CVXPY) Jan 28 09:35:42 AM: Your problem has 49176 variables, 7737 constraints, and 0 parameters.\n",
      "(CVXPY) Jan 28 09:35:57 AM: It is compliant with the following grammars: DCP, DQCP\n",
      "(CVXPY) Jan 28 09:35:57 AM: (If you need to solve this problem multiple times, but with different data, consider using parameters.)\n",
      "(CVXPY) Jan 28 09:35:57 AM: CVXPY will first compile your problem; then, it will invoke a numerical solver to obtain a solution.\n",
      "-------------------------------------------------------------------------------\n",
      "                                  Compilation                                  \n",
      "-------------------------------------------------------------------------------\n",
      "(CVXPY) Jan 28 09:35:58 AM: Compiling problem (target solver=OSQP).\n",
      "(CVXPY) Jan 28 09:35:58 AM: Reduction chain: FlipObjective -> CvxAttr2Constr -> Qp2SymbolicQp -> QpMatrixStuffing -> OSQP\n",
      "(CVXPY) Jan 28 09:35:58 AM: Applying reduction FlipObjective\n",
      "(CVXPY) Jan 28 09:35:58 AM: Applying reduction CvxAttr2Constr\n",
      "(CVXPY) Jan 28 09:35:59 AM: Applying reduction Qp2SymbolicQp\n"
     ]
    },
    {
     "name": "stderr",
     "output_type": "stream",
     "text": [
      "/Users/keisukeonoue/ws/lukasiewicz_1/myenv/lib/python3.11/site-packages/cvxpy/problems/problem.py:163: UserWarning: Constraint #4 contains too many subexpressions. Consider vectorizing your CVXPY code to speed up compilation.\n",
      "  warnings.warn(f\"Constraint #{i} contains too many subexpressions. \"\n"
     ]
    },
    {
     "name": "stdout",
     "output_type": "stream",
     "text": [
      "(CVXPY) Jan 28 09:36:00 AM: Applying reduction QpMatrixStuffing\n"
     ]
    },
    {
     "name": "stderr",
     "output_type": "stream",
     "text": [
      "/Users/keisukeonoue/ws/lukasiewicz_1/myenv/lib/python3.11/site-packages/cvxpy/problems/problem.py:163: UserWarning: Constraint #5 contains too many subexpressions. Consider vectorizing your CVXPY code to speed up compilation.\n",
      "  warnings.warn(f\"Constraint #{i} contains too many subexpressions. \"\n"
     ]
    },
    {
     "name": "stdout",
     "output_type": "stream",
     "text": [
      "(CVXPY) Jan 28 09:38:26 AM: Applying reduction OSQP\n",
      "(CVXPY) Jan 28 09:38:29 AM: Finished problem compilation (took 1.521e+02 seconds).\n",
      "-------------------------------------------------------------------------------\n",
      "                                Numerical solver                               \n",
      "-------------------------------------------------------------------------------\n",
      "(CVXPY) Jan 28 09:38:29 AM: Invoking solver OSQP  to obtain a solution.\n",
      "-----------------------------------------------------------------\n",
      "           OSQP v0.6.3  -  Operator Splitting QP Solver\n",
      "              (c) Bartolomeo Stellato,  Goran Banjac\n",
      "        University of Oxford  -  Stanford University 2021\n",
      "-----------------------------------------------------------------\n",
      "problem:  variables n = 57598, constraints m = 65335\n",
      "          nnz(P) + nnz(A) = 11645523\n",
      "settings: linear system solver = qdldl,\n",
      "          eps_abs = 1.0e-05, eps_rel = 1.0e-05,\n",
      "          eps_prim_inf = 1.0e-04, eps_dual_inf = 1.0e-04,\n",
      "          rho = 1.00e-01 (adaptive),\n",
      "          sigma = 1.00e-06, alpha = 1.60, max_iter = 10000\n",
      "          check_termination: on (interval 25),\n",
      "          scaling: on, scaled_termination: off\n",
      "          warm start: on, polish: on, time_limit: off\n",
      "\n",
      "iter   objective    pri res    dua res    rho        time\n",
      "   1  -2.6532e+04   8.09e+00   1.72e+00   1.00e-01   1.18e+01s\n",
      " 200  -4.0795e+03   3.06e-02   4.44e-02   1.00e-01   1.68e+01s\n",
      " 400  -4.0824e+03   1.68e-03   1.50e-02   1.00e-01   2.18e+01s\n",
      " 600  -4.0829e+03   1.36e-03   5.66e-03   1.00e-01   2.68e+01s\n",
      " 800  -4.0827e+03   5.59e-03   4.35e-03   1.85e-02   4.18e+01s\n",
      "1000  -4.0834e+03   2.01e-03   1.74e-03   1.85e-02   4.68e+01s\n",
      "1200  -4.0833e+03   1.76e-03   7.27e-04   1.85e-02   5.18e+01s\n",
      "1400  -4.0834e+03   9.17e-04   5.21e-04   1.85e-02   5.67e+01s\n",
      "1600  -4.0834e+03   5.74e-04   4.98e-04   1.85e-02   6.17e+01s\n",
      "1800  -4.0834e+03   3.53e-04   4.01e-04   1.85e-02   6.66e+01s\n",
      "2000  -4.0834e+03   3.32e-04   5.65e-04   1.85e-02   7.15e+01s\n",
      "2200  -4.0834e+03   4.06e-04   7.72e-04   1.85e-02   7.65e+01s\n",
      "2400  -4.0834e+03   4.92e-04   8.58e-04   1.85e-02   8.14e+01s\n",
      "2600  -4.0834e+03   3.58e-04   7.10e-04   1.85e-02   8.65e+01s\n",
      "2800  -4.0834e+03   4.30e-04   3.67e-04   1.85e-02   9.14e+01s\n",
      "3000  -4.0834e+03   4.38e-04   7.78e-05   1.85e-02   9.63e+01s\n",
      "3200  -4.0834e+03   3.41e-04   2.94e-04   1.85e-02   1.01e+02s\n",
      "3400  -4.0834e+03   2.67e-04   3.67e-04   1.85e-02   1.06e+02s\n",
      "3600  -4.0834e+03   2.45e-04   2.41e-04   1.85e-02   1.11e+02s\n",
      "3800  -4.0834e+03   2.53e-04   8.48e-05   1.85e-02   1.16e+02s\n",
      "4000  -4.0834e+03   1.47e-04   9.96e-05   1.85e-02   1.21e+02s\n",
      "4200  -4.0834e+03   1.47e-04   9.15e-05   1.85e-02   1.26e+02s\n",
      "4400  -4.0834e+03   1.52e-04   6.23e-05   1.85e-02   1.31e+02s\n",
      "4600  -4.0834e+03   1.15e-04   1.54e-04   1.85e-02   1.36e+02s\n",
      "4750  -4.0834e+03   1.17e-04   5.35e-05   1.85e-02   1.39e+02s\n",
      "\n",
      "status:               solved\n",
      "solution polish:      unsuccessful\n",
      "number of iterations: 4750\n",
      "optimal objective:    -4083.3975\n",
      "run time:             1.50e+02s\n",
      "optimal rho estimate: 1.75e-02\n",
      "\n",
      "-------------------------------------------------------------------------------\n",
      "                                    Summary                                    \n",
      "-------------------------------------------------------------------------------\n",
      "(CVXPY) Jan 28 09:41:00 AM: Problem status: optimal\n",
      "(CVXPY) Jan 28 09:41:00 AM: Optimal value: 4.083e+03\n",
      "(CVXPY) Jan 28 09:41:00 AM: Compilation took 1.521e+02 seconds\n",
      "(CVXPY) Jan 28 09:41:00 AM: Solver (including time spent in interface) took 1.508e+02 seconds\n"
     ]
    }
   ],
   "source": [
    "data_dir_path = os.path.join(project_dir_path, 'inputs/pima_indian_diabetes_cv/fold_0')\n",
    "train_data_dir_path = os.path.join(data_dir_path, \"train\")\n",
    "file_list = os.listdir(train_data_dir_path)\n",
    "\n",
    "L_files = [filename for filename in file_list \n",
    "           if filename.startswith('L') and filename.endswith('.csv')]\n",
    "\n",
    "U_files = [filename for filename in file_list \n",
    "           if filename.startswith('U') and filename.endswith('.csv')]\n",
    "\n",
    "file_names_dict = {\n",
    "    'supervised': L_files,\n",
    "    'unsupervised': U_files,\n",
    "    'rule': ['rule.txt']\n",
    "}\n",
    "\n",
    "train_data_dir_path = os.path.join(data_dir_path, \"train\")\n",
    "\n",
    "problem_instance = Setup(train_data_dir_path, file_names_dict, ObjectiveFunction, 'Outcome', c1=10, c2=10)\n",
    "objective, constraints = problem_instance.main()\n",
    "\n",
    "problem = cp.Problem(objective, constraints)\n",
    "result = problem.solve(verbose=True)"
   ]
  },
  {
   "cell_type": "code",
   "execution_count": null,
   "metadata": {},
   "outputs": [],
   "source": []
  },
  {
   "cell_type": "markdown",
   "metadata": {},
   "source": [
    "## 100 \n",
    "\n",
    "- 計算が回った (18分)\n",
    "- 目的関数の行列 P の計算に時間がかかっている。\n",
    "- 多重 loop による各要素を計算しているので、それを numpy の多次元配列の掛け算等で計算できれば早くなるのではないか"
   ]
  },
  {
   "cell_type": "code",
   "execution_count": 7,
   "metadata": {},
   "outputs": [
    {
     "name": "stdout",
     "output_type": "stream",
     "text": [
      "load_data took 0.044497013092041016 seconds!\n",
      "load_rules took 0.06009316444396973 seconds!\n",
      "formulate_predicates_with_cvxpy took 0.00011205673217773438 seconds!\n",
      "shape of P: (5972, 5972)\n",
      "finish l\n",
      "(100, 100)\n",
      "finish h\n",
      "finish s\n",
      "finish l h\n",
      "finish l s\n",
      "finish h s\n",
      "_construct_P_j took 954.5740349292755 seconds!\n",
      "construct_constraints took 0.8618621826171875 seconds!\n",
      "===============================================================================\n",
      "                                     CVXPY                                     \n",
      "                                     v1.3.2                                    \n",
      "===============================================================================\n",
      "(CVXPY) Jan 26 03:52:18 PM: Your problem has 44576 variables, 5337 constraints, and 0 parameters.\n"
     ]
    },
    {
     "name": "stderr",
     "output_type": "stream",
     "text": [
      "/Users/keisukeonoue/ws/lukasiewicz_1/myenv/lib/python3.11/site-packages/cvxpy/problems/problem.py:157: UserWarning: Objective contains too many subexpressions. Consider vectorizing your CVXPY code to speed up compilation.\n",
      "  warnings.warn(\"Objective contains too many subexpressions. \"\n",
      "/Users/keisukeonoue/ws/lukasiewicz_1/myenv/lib/python3.11/site-packages/cvxpy/problems/problem.py:163: UserWarning: Constraint #0 contains too many subexpressions. Consider vectorizing your CVXPY code to speed up compilation.\n",
      "  warnings.warn(f\"Constraint #{i} contains too many subexpressions. \"\n"
     ]
    },
    {
     "name": "stdout",
     "output_type": "stream",
     "text": [
      "(CVXPY) Jan 26 03:52:30 PM: It is compliant with the following grammars: DCP, DQCP\n",
      "(CVXPY) Jan 26 03:52:30 PM: (If you need to solve this problem multiple times, but with different data, consider using parameters.)\n",
      "(CVXPY) Jan 26 03:52:30 PM: CVXPY will first compile your problem; then, it will invoke a numerical solver to obtain a solution.\n",
      "-------------------------------------------------------------------------------\n",
      "                                  Compilation                                  \n",
      "-------------------------------------------------------------------------------\n",
      "(CVXPY) Jan 26 03:52:30 PM: Compiling problem (target solver=OSQP).\n",
      "(CVXPY) Jan 26 03:52:30 PM: Reduction chain: FlipObjective -> CvxAttr2Constr -> Qp2SymbolicQp -> QpMatrixStuffing -> OSQP\n",
      "(CVXPY) Jan 26 03:52:30 PM: Applying reduction FlipObjective\n",
      "(CVXPY) Jan 26 03:52:30 PM: Applying reduction CvxAttr2Constr\n",
      "(CVXPY) Jan 26 03:52:31 PM: Applying reduction Qp2SymbolicQp\n"
     ]
    },
    {
     "name": "stderr",
     "output_type": "stream",
     "text": [
      "/Users/keisukeonoue/ws/lukasiewicz_1/myenv/lib/python3.11/site-packages/cvxpy/problems/problem.py:163: UserWarning: Constraint #4 contains too many subexpressions. Consider vectorizing your CVXPY code to speed up compilation.\n",
      "  warnings.warn(f\"Constraint #{i} contains too many subexpressions. \"\n"
     ]
    },
    {
     "name": "stdout",
     "output_type": "stream",
     "text": [
      "(CVXPY) Jan 26 03:52:32 PM: Applying reduction QpMatrixStuffing\n"
     ]
    },
    {
     "name": "stderr",
     "output_type": "stream",
     "text": [
      "/Users/keisukeonoue/ws/lukasiewicz_1/myenv/lib/python3.11/site-packages/cvxpy/problems/problem.py:163: UserWarning: Constraint #5 contains too many subexpressions. Consider vectorizing your CVXPY code to speed up compilation.\n",
      "  warnings.warn(f\"Constraint #{i} contains too many subexpressions. \"\n"
     ]
    },
    {
     "name": "stdout",
     "output_type": "stream",
     "text": [
      "(CVXPY) Jan 26 03:53:27 PM: Applying reduction OSQP\n",
      "(CVXPY) Jan 26 03:53:29 PM: Finished problem compilation (took 5.941e+01 seconds).\n",
      "-------------------------------------------------------------------------------\n",
      "                                Numerical solver                               \n",
      "-------------------------------------------------------------------------------\n",
      "(CVXPY) Jan 26 03:53:29 PM: Invoking solver OSQP  to obtain a solution.\n",
      "-----------------------------------------------------------------\n",
      "           OSQP v0.6.3  -  Operator Splitting QP Solver\n",
      "              (c) Bartolomeo Stellato,  Goran Banjac\n",
      "        University of Oxford  -  Stanford University 2021\n",
      "-----------------------------------------------------------------\n",
      "problem:  variables n = 50548, constraints m = 55885\n",
      "          nnz(P) + nnz(A) = 6414073\n",
      "settings: linear system solver = qdldl,\n",
      "          eps_abs = 1.0e-05, eps_rel = 1.0e-05,\n",
      "          eps_prim_inf = 1.0e-04, eps_dual_inf = 1.0e-04,\n",
      "          rho = 1.00e-01 (adaptive),\n",
      "          sigma = 1.00e-06, alpha = 1.60, max_iter = 10000\n",
      "          check_termination: on (interval 25),\n",
      "          scaling: on, scaled_termination: off\n",
      "          warm start: on, polish: on, time_limit: off\n",
      "\n",
      "iter   objective    pri res    dua res    rho        time\n",
      "   1  -1.8150e+04   8.08e+00   1.72e+00   1.00e-01   5.34e+00s\n",
      " 200  -3.7921e+03   5.29e-03   3.95e-02   1.00e-01   8.11e+00s\n",
      " 400  -3.7950e+03   3.07e-02   1.57e-02   1.18e-02   1.54e+01s\n",
      " 600  -3.7950e+03   7.57e-03   2.07e-03   1.18e-02   1.82e+01s\n",
      " 800  -3.7953e+03   4.00e-03   1.40e-03   1.18e-02   2.10e+01s\n",
      "1000  -3.7956e+03   1.75e-03   1.62e-03   1.18e-02   2.38e+01s\n",
      "1200  -3.7949e+03   1.03e-02   1.34e-03   1.65e-03   3.13e+01s\n",
      "1400  -3.7956e+03   7.22e-03   2.35e-04   1.65e-03   3.41e+01s\n",
      "1600  -3.7960e+03   4.97e-03   6.45e-04   1.65e-03   3.68e+01s\n",
      "1800  -3.7961e+03   2.47e-03   5.67e-04   1.65e-03   3.96e+01s\n",
      "2000  -3.7960e+03   4.28e-03   2.07e-04   1.65e-03   4.24e+01s\n",
      "2200  -3.7959e+03   3.34e-03   2.71e-04   1.65e-03   4.53e+01s\n",
      "2400  -3.7958e+03   1.04e-03   4.53e-04   1.65e-03   4.81e+01s\n",
      "2600  -3.7958e+03   2.32e-03   1.91e-04   1.65e-03   5.08e+01s\n",
      "2800  -3.7957e+03   2.08e-03   1.51e-04   1.65e-03   5.38e+01s\n",
      "3000  -3.7958e+03   2.93e-04   2.26e-04   1.65e-03   5.67e+01s\n",
      "3200  -3.7959e+03   1.18e-03   6.73e-05   1.65e-03   5.95e+01s\n",
      "3250  -3.7958e+03   1.16e-03   2.67e-05   1.65e-03   6.02e+01s\n",
      "\n",
      "status:               solved\n",
      "solution polish:      unsuccessful\n",
      "number of iterations: 3250\n",
      "optimal objective:    -3795.7569\n",
      "run time:             6.52e+01s\n",
      "optimal rho estimate: 2.46e-03\n",
      "\n",
      "-------------------------------------------------------------------------------\n",
      "                                    Summary                                    \n",
      "-------------------------------------------------------------------------------\n",
      "(CVXPY) Jan 26 03:54:35 PM: Problem status: optimal\n",
      "(CVXPY) Jan 26 03:54:35 PM: Optimal value: 3.795e+03\n",
      "(CVXPY) Jan 26 03:54:35 PM: Compilation took 5.941e+01 seconds\n",
      "(CVXPY) Jan 26 03:54:35 PM: Solver (including time spent in interface) took 6.547e+01 seconds\n"
     ]
    }
   ],
   "source": [
    "data_dir_path = os.path.join(project_dir_path, 'inputs/pima_indian_diabetes_cv_2/fold_0')\n",
    "train_data_dir_path = os.path.join(data_dir_path, \"train\")\n",
    "file_list = os.listdir(train_data_dir_path)\n",
    "\n",
    "L_files = [filename for filename in file_list \n",
    "           if filename.startswith('L') and filename.endswith('.csv')]\n",
    "\n",
    "U_files = [filename for filename in file_list \n",
    "           if filename.startswith('U') and filename.endswith('.csv')]\n",
    "\n",
    "file_names_dict = {\n",
    "    'supervised': L_files,\n",
    "    'unsupervised': U_files,\n",
    "    'rule': ['rule.txt']\n",
    "}\n",
    "\n",
    "train_data_dir_path = os.path.join(data_dir_path, \"train\")\n",
    "\n",
    "problem_instance = Setup(train_data_dir_path, file_names_dict, ObjectiveFunction, 'Outcome', c1=10, c2=10)\n",
    "objective, constraints = problem_instance.main()\n",
    "\n",
    "problem = cp.Problem(objective, constraints)\n",
    "result = problem.solve(verbose=True)"
   ]
  },
  {
   "cell_type": "code",
   "execution_count": null,
   "metadata": {},
   "outputs": [],
   "source": []
  },
  {
   "cell_type": "markdown",
   "metadata": {},
   "source": [
    "## 高速化 テスト\n",
    "\n",
    "- 現時点で 18分 ー＞ 7分40秒 になった (100)\n",
    "- あとは P_{23} をなんとかすれば\n",
    "- P_{12} も改善の余地はある\n",
    "- 150 だと 19分かかったが動作した\n",
    "\n",
    "\n",
    "- P_{23} と P_{12} で数分単位で時間がかかっている\n",
    "\n",
    "- 基本的に行列の積で書くと速くなる\n",
    "- einsum は速くなる場合と特に変わらない場合があり、基準がわからない"
   ]
  },
  {
   "cell_type": "markdown",
   "metadata": {},
   "source": [
    "### to do\n",
    "\n",
    "- 残りの実装 (可能であれば Predicate, constraint も見直す)\n",
    "- 計算時間ベンチマーク 可視化\n",
    "- 数式をまとめる"
   ]
  },
  {
   "cell_type": "code",
   "execution_count": 7,
   "metadata": {},
   "outputs": [
    {
     "name": "stdout",
     "output_type": "stream",
     "text": [
      "load_data took 0.039694786071777344 seconds!\n",
      "load_rules took 0.04925870895385742 seconds!\n",
      "formulate_predicates_with_cvxpy took 0.0006020069122314453 seconds!\n",
      "shape of P: (5972, 5972)\n",
      "finish l\n",
      "shape of M_vstacked: (4800, 100)\n",
      "finish h\n",
      "finish s\n",
      "shape of K: (536, 100)\n",
      "finish l h\n",
      "finish l s\n",
      "finish h s\n",
      "_construct_P_j took 319.89110708236694 seconds!\n",
      "construct_constraints took 0.8036189079284668 seconds!\n",
      "===============================================================================\n",
      "                                     CVXPY                                     \n",
      "                                     v1.3.2                                    \n",
      "===============================================================================\n",
      "(CVXPY) Jan 27 09:23:56 PM: Your problem has 44576 variables, 5337 constraints, and 0 parameters.\n"
     ]
    },
    {
     "name": "stderr",
     "output_type": "stream",
     "text": [
      "/Users/keisukeonoue/ws/lukasiewicz_1/myenv/lib/python3.11/site-packages/cvxpy/problems/problem.py:157: UserWarning: Objective contains too many subexpressions. Consider vectorizing your CVXPY code to speed up compilation.\n",
      "  warnings.warn(\"Objective contains too many subexpressions. \"\n",
      "/Users/keisukeonoue/ws/lukasiewicz_1/myenv/lib/python3.11/site-packages/cvxpy/problems/problem.py:163: UserWarning: Constraint #0 contains too many subexpressions. Consider vectorizing your CVXPY code to speed up compilation.\n",
      "  warnings.warn(f\"Constraint #{i} contains too many subexpressions. \"\n"
     ]
    },
    {
     "name": "stdout",
     "output_type": "stream",
     "text": [
      "(CVXPY) Jan 27 09:24:06 PM: It is compliant with the following grammars: DCP, DQCP\n",
      "(CVXPY) Jan 27 09:24:06 PM: (If you need to solve this problem multiple times, but with different data, consider using parameters.)\n",
      "(CVXPY) Jan 27 09:24:06 PM: CVXPY will first compile your problem; then, it will invoke a numerical solver to obtain a solution.\n",
      "-------------------------------------------------------------------------------\n",
      "                                  Compilation                                  \n",
      "-------------------------------------------------------------------------------\n",
      "(CVXPY) Jan 27 09:24:06 PM: Compiling problem (target solver=OSQP).\n",
      "(CVXPY) Jan 27 09:24:06 PM: Reduction chain: FlipObjective -> CvxAttr2Constr -> Qp2SymbolicQp -> QpMatrixStuffing -> OSQP\n",
      "(CVXPY) Jan 27 09:24:06 PM: Applying reduction FlipObjective\n",
      "(CVXPY) Jan 27 09:24:06 PM: Applying reduction CvxAttr2Constr\n",
      "(CVXPY) Jan 27 09:24:07 PM: Applying reduction Qp2SymbolicQp\n"
     ]
    },
    {
     "name": "stderr",
     "output_type": "stream",
     "text": [
      "/Users/keisukeonoue/ws/lukasiewicz_1/myenv/lib/python3.11/site-packages/cvxpy/problems/problem.py:163: UserWarning: Constraint #4 contains too many subexpressions. Consider vectorizing your CVXPY code to speed up compilation.\n",
      "  warnings.warn(f\"Constraint #{i} contains too many subexpressions. \"\n"
     ]
    },
    {
     "name": "stdout",
     "output_type": "stream",
     "text": [
      "(CVXPY) Jan 27 09:24:08 PM: Applying reduction QpMatrixStuffing\n"
     ]
    },
    {
     "name": "stderr",
     "output_type": "stream",
     "text": [
      "/Users/keisukeonoue/ws/lukasiewicz_1/myenv/lib/python3.11/site-packages/cvxpy/problems/problem.py:163: UserWarning: Constraint #5 contains too many subexpressions. Consider vectorizing your CVXPY code to speed up compilation.\n",
      "  warnings.warn(f\"Constraint #{i} contains too many subexpressions. \"\n"
     ]
    },
    {
     "name": "stdout",
     "output_type": "stream",
     "text": [
      "(CVXPY) Jan 27 09:25:05 PM: Applying reduction OSQP\n",
      "(CVXPY) Jan 27 09:25:07 PM: Finished problem compilation (took 6.116e+01 seconds).\n",
      "-------------------------------------------------------------------------------\n",
      "                                Numerical solver                               \n",
      "-------------------------------------------------------------------------------\n",
      "(CVXPY) Jan 27 09:25:07 PM: Invoking solver OSQP  to obtain a solution.\n",
      "-----------------------------------------------------------------\n",
      "           OSQP v0.6.3  -  Operator Splitting QP Solver\n",
      "              (c) Bartolomeo Stellato,  Goran Banjac\n",
      "        University of Oxford  -  Stanford University 2021\n",
      "-----------------------------------------------------------------\n",
      "problem:  variables n = 50548, constraints m = 55885\n",
      "          nnz(P) + nnz(A) = 6414073\n",
      "settings: linear system solver = qdldl,\n",
      "          eps_abs = 1.0e-05, eps_rel = 1.0e-05,\n",
      "          eps_prim_inf = 1.0e-04, eps_dual_inf = 1.0e-04,\n",
      "          rho = 1.00e-01 (adaptive),\n",
      "          sigma = 1.00e-06, alpha = 1.60, max_iter = 10000\n",
      "          check_termination: on (interval 25),\n",
      "          scaling: on, scaled_termination: off\n",
      "          warm start: on, polish: on, time_limit: off\n",
      "\n",
      "iter   objective    pri res    dua res    rho        time\n",
      "   1  -1.8150e+04   8.08e+00   1.72e+00   1.00e-01   5.62e+00s\n",
      " 200  -3.7921e+03   5.29e-03   3.95e-02   1.00e-01   8.50e+00s\n",
      " 400  -3.7950e+03   3.07e-02   1.57e-02   1.18e-02   1.59e+01s\n",
      " 600  -3.7950e+03   7.57e-03   2.07e-03   1.18e-02   1.87e+01s\n",
      " 800  -3.7953e+03   4.00e-03   1.40e-03   1.18e-02   2.16e+01s\n",
      "1000  -3.7956e+03   1.75e-03   1.62e-03   1.18e-02   2.48e+01s\n",
      "1200  -3.7949e+03   1.03e-02   1.34e-03   1.65e-03   3.27e+01s\n",
      "1400  -3.7956e+03   7.22e-03   2.35e-04   1.65e-03   3.57e+01s\n",
      "1600  -3.7960e+03   4.97e-03   6.45e-04   1.65e-03   3.84e+01s\n",
      "1800  -3.7961e+03   2.47e-03   5.67e-04   1.65e-03   4.13e+01s\n",
      "2000  -3.7960e+03   4.28e-03   2.07e-04   1.65e-03   4.42e+01s\n",
      "2200  -3.7959e+03   3.34e-03   2.71e-04   1.65e-03   4.72e+01s\n",
      "2400  -3.7958e+03   1.04e-03   4.53e-04   1.65e-03   5.01e+01s\n",
      "2600  -3.7958e+03   2.32e-03   1.91e-04   1.65e-03   5.29e+01s\n",
      "2800  -3.7957e+03   2.08e-03   1.51e-04   1.65e-03   5.58e+01s\n",
      "3000  -3.7958e+03   2.93e-04   2.26e-04   1.65e-03   5.86e+01s\n",
      "3200  -3.7959e+03   1.18e-03   6.73e-05   1.65e-03   6.14e+01s\n",
      "3250  -3.7958e+03   1.16e-03   2.67e-05   1.65e-03   6.21e+01s\n",
      "\n",
      "status:               solved\n",
      "solution polish:      unsuccessful\n",
      "number of iterations: 3250\n",
      "optimal objective:    -3795.7569\n",
      "run time:             6.69e+01s\n",
      "optimal rho estimate: 2.46e-03\n",
      "\n",
      "-------------------------------------------------------------------------------\n",
      "                                    Summary                                    \n",
      "-------------------------------------------------------------------------------\n",
      "(CVXPY) Jan 27 09:26:14 PM: Problem status: optimal\n",
      "(CVXPY) Jan 27 09:26:14 PM: Optimal value: 3.795e+03\n",
      "(CVXPY) Jan 27 09:26:14 PM: Compilation took 6.116e+01 seconds\n",
      "(CVXPY) Jan 27 09:26:14 PM: Solver (including time spent in interface) took 6.716e+01 seconds\n"
     ]
    }
   ],
   "source": [
    "data_dir_path = os.path.join(project_dir_path, 'inputs/pima_indian_diabetes_cv_2/fold_0')\n",
    "train_data_dir_path = os.path.join(data_dir_path, \"train\")\n",
    "file_list = os.listdir(train_data_dir_path)\n",
    "\n",
    "L_files = [filename for filename in file_list \n",
    "           if filename.startswith('L') and filename.endswith('.csv')]\n",
    "\n",
    "U_files = [filename for filename in file_list \n",
    "           if filename.startswith('U') and filename.endswith('.csv')]\n",
    "\n",
    "file_names_dict = {\n",
    "    'supervised': L_files,\n",
    "    'unsupervised': U_files,\n",
    "    'rule': ['rule.txt']\n",
    "}\n",
    "\n",
    "train_data_dir_path = os.path.join(data_dir_path, \"train\")\n",
    "\n",
    "problem_instance = Setup(train_data_dir_path, file_names_dict, ObjectiveFunction, 'Outcome', c1=10, c2=10)\n",
    "objective, constraints = problem_instance.main()\n",
    "\n",
    "problem = cp.Problem(objective, constraints)\n",
    "result = problem.solve(verbose=True)"
   ]
  },
  {
   "cell_type": "code",
   "execution_count": 7,
   "metadata": {},
   "outputs": [
    {
     "name": "stdout",
     "output_type": "stream",
     "text": [
      "load_data took 0.04285311698913574 seconds!\n",
      "load_rules took 0.04620695114135742 seconds!\n",
      "formulate_predicates_with_cvxpy took 0.00018405914306640625 seconds!\n",
      "shape of P: (5972, 5972)\n",
      "finish l\n",
      "finish h\n",
      "finish s\n",
      "finish l h\n",
      "finish l s\n",
      "finish h s\n",
      "_construct_P_j took 2.002638101577759 seconds!\n",
      "construct_constraints took 0.857062816619873 seconds!\n",
      "===============================================================================\n",
      "                                     CVXPY                                     \n",
      "                                     v1.3.2                                    \n",
      "===============================================================================\n",
      "(CVXPY) Jan 28 09:31:06 AM: Your problem has 44576 variables, 5337 constraints, and 0 parameters.\n"
     ]
    },
    {
     "name": "stderr",
     "output_type": "stream",
     "text": [
      "/Users/keisukeonoue/ws/lukasiewicz_1/myenv/lib/python3.11/site-packages/cvxpy/problems/problem.py:157: UserWarning: Objective contains too many subexpressions. Consider vectorizing your CVXPY code to speed up compilation.\n",
      "  warnings.warn(\"Objective contains too many subexpressions. \"\n",
      "/Users/keisukeonoue/ws/lukasiewicz_1/myenv/lib/python3.11/site-packages/cvxpy/problems/problem.py:163: UserWarning: Constraint #0 contains too many subexpressions. Consider vectorizing your CVXPY code to speed up compilation.\n",
      "  warnings.warn(f\"Constraint #{i} contains too many subexpressions. \"\n"
     ]
    },
    {
     "name": "stdout",
     "output_type": "stream",
     "text": [
      "(CVXPY) Jan 28 09:31:16 AM: It is compliant with the following grammars: DCP, DQCP\n",
      "(CVXPY) Jan 28 09:31:16 AM: (If you need to solve this problem multiple times, but with different data, consider using parameters.)\n",
      "(CVXPY) Jan 28 09:31:16 AM: CVXPY will first compile your problem; then, it will invoke a numerical solver to obtain a solution.\n",
      "-------------------------------------------------------------------------------\n",
      "                                  Compilation                                  \n",
      "-------------------------------------------------------------------------------\n",
      "(CVXPY) Jan 28 09:31:16 AM: Compiling problem (target solver=OSQP).\n",
      "(CVXPY) Jan 28 09:31:16 AM: Reduction chain: FlipObjective -> CvxAttr2Constr -> Qp2SymbolicQp -> QpMatrixStuffing -> OSQP\n",
      "(CVXPY) Jan 28 09:31:16 AM: Applying reduction FlipObjective\n",
      "(CVXPY) Jan 28 09:31:16 AM: Applying reduction CvxAttr2Constr\n",
      "(CVXPY) Jan 28 09:31:17 AM: Applying reduction Qp2SymbolicQp\n"
     ]
    },
    {
     "name": "stderr",
     "output_type": "stream",
     "text": [
      "/Users/keisukeonoue/ws/lukasiewicz_1/myenv/lib/python3.11/site-packages/cvxpy/problems/problem.py:163: UserWarning: Constraint #4 contains too many subexpressions. Consider vectorizing your CVXPY code to speed up compilation.\n",
      "  warnings.warn(f\"Constraint #{i} contains too many subexpressions. \"\n"
     ]
    },
    {
     "name": "stdout",
     "output_type": "stream",
     "text": [
      "(CVXPY) Jan 28 09:31:18 AM: Applying reduction QpMatrixStuffing\n"
     ]
    },
    {
     "name": "stderr",
     "output_type": "stream",
     "text": [
      "/Users/keisukeonoue/ws/lukasiewicz_1/myenv/lib/python3.11/site-packages/cvxpy/problems/problem.py:163: UserWarning: Constraint #5 contains too many subexpressions. Consider vectorizing your CVXPY code to speed up compilation.\n",
      "  warnings.warn(f\"Constraint #{i} contains too many subexpressions. \"\n"
     ]
    },
    {
     "name": "stdout",
     "output_type": "stream",
     "text": [
      "(CVXPY) Jan 28 09:32:15 AM: Applying reduction OSQP\n",
      "(CVXPY) Jan 28 09:32:17 AM: Finished problem compilation (took 6.131e+01 seconds).\n",
      "-------------------------------------------------------------------------------\n",
      "                                Numerical solver                               \n",
      "-------------------------------------------------------------------------------\n",
      "(CVXPY) Jan 28 09:32:17 AM: Invoking solver OSQP  to obtain a solution.\n",
      "-----------------------------------------------------------------\n",
      "           OSQP v0.6.3  -  Operator Splitting QP Solver\n",
      "              (c) Bartolomeo Stellato,  Goran Banjac\n",
      "        University of Oxford  -  Stanford University 2021\n",
      "-----------------------------------------------------------------\n",
      "problem:  variables n = 50548, constraints m = 55885\n",
      "          nnz(P) + nnz(A) = 6414073\n",
      "settings: linear system solver = qdldl,\n",
      "          eps_abs = 1.0e-05, eps_rel = 1.0e-05,\n",
      "          eps_prim_inf = 1.0e-04, eps_dual_inf = 1.0e-04,\n",
      "          rho = 1.00e-01 (adaptive),\n",
      "          sigma = 1.00e-06, alpha = 1.60, max_iter = 10000\n",
      "          check_termination: on (interval 25),\n",
      "          scaling: on, scaled_termination: off\n",
      "          warm start: on, polish: on, time_limit: off\n",
      "\n",
      "iter   objective    pri res    dua res    rho        time\n",
      "   1  -1.8150e+04   8.08e+00   1.72e+00   1.00e-01   5.16e+00s\n",
      " 200  -3.7921e+03   5.29e-03   3.95e-02   1.00e-01   7.94e+00s\n",
      " 400  -3.7950e+03   3.07e-02   1.57e-02   1.18e-02   1.48e+01s\n",
      " 600  -3.7950e+03   7.57e-03   2.07e-03   1.18e-02   1.77e+01s\n",
      " 800  -3.7953e+03   4.00e-03   1.40e-03   1.18e-02   2.06e+01s\n",
      "1000  -3.7956e+03   1.75e-03   1.62e-03   1.18e-02   2.35e+01s\n",
      "1200  -3.7949e+03   1.03e-02   1.34e-03   1.65e-03   3.10e+01s\n",
      "1400  -3.7956e+03   7.22e-03   2.35e-04   1.65e-03   3.37e+01s\n",
      "1600  -3.7960e+03   4.97e-03   6.45e-04   1.65e-03   3.64e+01s\n",
      "1800  -3.7961e+03   2.47e-03   5.67e-04   1.65e-03   3.91e+01s\n",
      "2000  -3.7960e+03   4.28e-03   2.07e-04   1.65e-03   4.18e+01s\n",
      "2200  -3.7959e+03   3.34e-03   2.71e-04   1.65e-03   4.46e+01s\n",
      "2400  -3.7958e+03   1.04e-03   4.53e-04   1.65e-03   4.74e+01s\n",
      "2600  -3.7958e+03   2.32e-03   1.91e-04   1.65e-03   5.01e+01s\n",
      "2800  -3.7957e+03   2.08e-03   1.51e-04   1.65e-03   5.29e+01s\n",
      "3000  -3.7958e+03   2.93e-04   2.26e-04   1.65e-03   5.60e+01s\n",
      "3200  -3.7959e+03   1.18e-03   6.73e-05   1.65e-03   5.89e+01s\n",
      "3250  -3.7958e+03   1.16e-03   2.67e-05   1.65e-03   5.95e+01s\n",
      "\n",
      "status:               solved\n",
      "solution polish:      unsuccessful\n",
      "number of iterations: 3250\n",
      "optimal objective:    -3795.7569\n",
      "run time:             6.49e+01s\n",
      "optimal rho estimate: 2.46e-03\n",
      "\n",
      "-------------------------------------------------------------------------------\n",
      "                                    Summary                                    \n",
      "-------------------------------------------------------------------------------\n",
      "(CVXPY) Jan 28 09:33:23 AM: Problem status: optimal\n",
      "(CVXPY) Jan 28 09:33:23 AM: Optimal value: 3.795e+03\n",
      "(CVXPY) Jan 28 09:33:23 AM: Compilation took 6.131e+01 seconds\n",
      "(CVXPY) Jan 28 09:33:23 AM: Solver (including time spent in interface) took 6.521e+01 seconds\n"
     ]
    }
   ],
   "source": [
    "data_dir_path = os.path.join(project_dir_path, 'inputs/pima_indian_diabetes_cv_2/fold_0')\n",
    "train_data_dir_path = os.path.join(data_dir_path, \"train\")\n",
    "file_list = os.listdir(train_data_dir_path)\n",
    "\n",
    "L_files = [filename for filename in file_list \n",
    "           if filename.startswith('L') and filename.endswith('.csv')]\n",
    "\n",
    "U_files = [filename for filename in file_list \n",
    "           if filename.startswith('U') and filename.endswith('.csv')]\n",
    "\n",
    "file_names_dict = {\n",
    "    'supervised': L_files,\n",
    "    'unsupervised': U_files,\n",
    "    'rule': ['rule.txt']\n",
    "}\n",
    "\n",
    "train_data_dir_path = os.path.join(data_dir_path, \"train\")\n",
    "\n",
    "problem_instance = Setup(train_data_dir_path, file_names_dict, ObjectiveFunction, 'Outcome', c1=10, c2=10)\n",
    "objective, constraints = problem_instance.main()\n",
    "\n",
    "problem = cp.Problem(objective, constraints)\n",
    "result = problem.solve(verbose=True)"
   ]
  },
  {
   "cell_type": "code",
   "execution_count": null,
   "metadata": {},
   "outputs": [],
   "source": []
  }
 ],
 "metadata": {
  "kernelspec": {
   "display_name": "myenv",
   "language": "python",
   "name": "python3"
  },
  "language_info": {
   "codemirror_mode": {
    "name": "ipython",
    "version": 3
   },
   "file_extension": ".py",
   "mimetype": "text/x-python",
   "name": "python",
   "nbconvert_exporter": "python",
   "pygments_lexer": "ipython3",
   "version": "3.11.6"
  }
 },
 "nbformat": 4,
 "nbformat_minor": 2
}
